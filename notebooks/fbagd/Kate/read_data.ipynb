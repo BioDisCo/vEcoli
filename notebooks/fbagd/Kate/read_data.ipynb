{
 "cells": [
  {
   "cell_type": "code",
   "execution_count": 11,
   "metadata": {
    "collapsed": true
   },
   "outputs": [],
   "source": [
    "import numpy as np\n",
    "import pandas as pd\n",
    "import os\n",
    "\n",
    "\n",
    "os.chdir(os.path.expanduser('~/vivarium-ecoli'))"
   ]
  },
  {
   "cell_type": "code",
   "execution_count": 19,
   "outputs": [],
   "source": [
    "time = '1000'\n",
    "date = '2023-04-20'\n",
    "experiment = 'fba-redux-long'\n",
    "entry = f'{experiment}_{time}_{date}'\n",
    "folder = f'out/fbagd/{entry}/'\n",
    "\n",
    "output = np.load(folder + 'output.npy',allow_pickle='TRUE').item()"
   ],
   "metadata": {
    "collapsed": false
   }
  },
  {
   "cell_type": "markdown",
   "source": [
    "We have the following agents available:"
   ],
   "metadata": {
    "collapsed": false
   }
  },
  {
   "cell_type": "code",
   "execution_count": 20,
   "outputs": [
    {
     "data": {
      "text/plain": "dict_keys(['0', '00', '01'])"
     },
     "execution_count": 20,
     "metadata": {},
     "output_type": "execute_result"
    }
   ],
   "source": [
    "output['agents'].keys()"
   ],
   "metadata": {
    "collapsed": false
   }
  },
  {
   "cell_type": "markdown",
   "source": [
    "Lets look at the agent 00:"
   ],
   "metadata": {
    "collapsed": false
   }
  },
  {
   "cell_type": "code",
   "execution_count": 21,
   "outputs": [],
   "source": [
    "agent_id = '00'\n",
    "# output = np.load(r\"out/geneRxnVerifData/output_glc.npy\", allow_pickle=True, encoding='ASCII').tolist()\n",
    "agent_output = output['agents'][agent_id]\n",
    "fba = agent_output['listeners']['fba_results']\n",
    "mass = agent_output['listeners']['mass']\n",
    "bulk = pd.DataFrame(agent_output['bulk'])"
   ],
   "metadata": {
    "collapsed": false
   }
  },
  {
   "cell_type": "markdown",
   "source": [
    "Let's look at the bulk molecules, for example. You can prod around in the keys for output, fba, mass and bulk to see what's available."
   ],
   "metadata": {
    "collapsed": false
   }
  },
  {
   "cell_type": "code",
   "execution_count": 24,
   "outputs": [
    {
     "data": {
      "text/plain": "     CPLX-125[c]  CPLX-172[c]  CPLX0-226[c]  CPLX0-228[c]  CPLX0-7669[c]  \\\n464            9            0           153             0            223   \n465           13            0           174             0            221   \n466           12            0           156             0            225   \n467           13            0           157             0            222   \n468            9            0           164             0            220   \n469           14            0           153             0            228   \n470           11            0           190             0            226   \n471           12            0           149             0            225   \n472           11            0           190             0            226   \n473           12            0           153             0            223   \n474           11            0           166             0            221   \n475           13            0           165             0            228   \n476            9            0           157             0            226   \n477           14            0           180             0            226   \n478           13            0           151             0            226   \n479           11            0           175             0            224   \n480           11            0           159             0            223   \n481           11            0           159             0            228   \n482           14            0           171             0            222   \n483           10            0           169             0            230   \n\n     CPLX0-7705[c]  CPLX0-7740[c]  CPLX0-7796[c]  CPLX0-7916[c]  \\\n464           6618             23            470            443   \n465           6622             24            474            443   \n466           6623             24            469            443   \n467           6626             25            470            443   \n468           6628             24            474            443   \n469           6631             26            470            443   \n470           6635             23            467            443   \n471           6638             24            472            443   \n472           6642             23            469            443   \n473           6643             25            470            444   \n474           6647             24            469            444   \n475           6649             25            470            444   \n476           6654             27            472            444   \n477           6656             26            469            445   \n478           6658             25            469            445   \n479           6661             24            469            445   \n480           6665             26            469            445   \n481           6669             25            468            445   \n482           6670             25            470            445   \n483           6674             25            467            445   \n\n     EG12123-MONOMER[c]  ...  s-Triazines[i]  undecaprenyl[j]  \\\n464                 130  ...               0                0   \n465                 130  ...               0                0   \n466                 130  ...               0                0   \n467                 130  ...               0                0   \n468                 130  ...               0                0   \n469                 130  ...               0                0   \n470                 130  ...               0                0   \n471                 130  ...               0                0   \n472                 130  ...               0                0   \n473                 130  ...               0                0   \n474                 130  ...               0                0   \n475                 130  ...               0                0   \n476                 130  ...               0                0   \n477                 130  ...               0                0   \n478                 130  ...               0                0   \n479                 130  ...               0                0   \n480                 130  ...               0                0   \n481                 130  ...               0                0   \n482                 130  ...               0                0   \n483                 130  ...               0                0   \n\n     undecaprenyl[c]  undecaprenyl[e]  undecaprenyl[s]  undecaprenyl[m]  \\\n464                0                0                0                0   \n465                0                0                0                0   \n466                0                0                0                0   \n467                0                0                0                0   \n468                0                0                0                0   \n469                0                0                0                0   \n470                0                0                0                0   \n471                0                0                0                0   \n472                0                0                0                0   \n473                0                0                0                0   \n474                0                0                0                0   \n475                0                0                0                0   \n476                0                0                0                0   \n477                0                0                0                0   \n478                0                0                0                0   \n479                0                0                0                0   \n480                0                0                0                0   \n481                0                0                0                0   \n482                0                0                0                0   \n483                0                0                0                0   \n\n     undecaprenyl[o]  undecaprenyl[p]  undecaprenyl[l]  undecaprenyl[i]  \n464                0                0                0                0  \n465                0                0                0                0  \n466                0                0                0                0  \n467                0                0                0                0  \n468                0                0                0                0  \n469                0                0                0                0  \n470                0                0                0                0  \n471                0                0                0                0  \n472                0                0                0                0  \n473                0                0                0                0  \n474                0                0                0                0  \n475                0                0                0                0  \n476                0                0                0                0  \n477                0                0                0                0  \n478                0                0                0                0  \n479                0                0                0                0  \n480                0                0                0                0  \n481                0                0                0                0  \n482                0                0                0                0  \n483                0                0                0                0  \n\n[20 rows x 40889 columns]",
      "text/html": "<div>\n<style scoped>\n    .dataframe tbody tr th:only-of-type {\n        vertical-align: middle;\n    }\n\n    .dataframe tbody tr th {\n        vertical-align: top;\n    }\n\n    .dataframe thead th {\n        text-align: right;\n    }\n</style>\n<table border=\"1\" class=\"dataframe\">\n  <thead>\n    <tr style=\"text-align: right;\">\n      <th></th>\n      <th>CPLX-125[c]</th>\n      <th>CPLX-172[c]</th>\n      <th>CPLX0-226[c]</th>\n      <th>CPLX0-228[c]</th>\n      <th>CPLX0-7669[c]</th>\n      <th>CPLX0-7705[c]</th>\n      <th>CPLX0-7740[c]</th>\n      <th>CPLX0-7796[c]</th>\n      <th>CPLX0-7916[c]</th>\n      <th>EG12123-MONOMER[c]</th>\n      <th>...</th>\n      <th>s-Triazines[i]</th>\n      <th>undecaprenyl[j]</th>\n      <th>undecaprenyl[c]</th>\n      <th>undecaprenyl[e]</th>\n      <th>undecaprenyl[s]</th>\n      <th>undecaprenyl[m]</th>\n      <th>undecaprenyl[o]</th>\n      <th>undecaprenyl[p]</th>\n      <th>undecaprenyl[l]</th>\n      <th>undecaprenyl[i]</th>\n    </tr>\n  </thead>\n  <tbody>\n    <tr>\n      <th>464</th>\n      <td>9</td>\n      <td>0</td>\n      <td>153</td>\n      <td>0</td>\n      <td>223</td>\n      <td>6618</td>\n      <td>23</td>\n      <td>470</td>\n      <td>443</td>\n      <td>130</td>\n      <td>...</td>\n      <td>0</td>\n      <td>0</td>\n      <td>0</td>\n      <td>0</td>\n      <td>0</td>\n      <td>0</td>\n      <td>0</td>\n      <td>0</td>\n      <td>0</td>\n      <td>0</td>\n    </tr>\n    <tr>\n      <th>465</th>\n      <td>13</td>\n      <td>0</td>\n      <td>174</td>\n      <td>0</td>\n      <td>221</td>\n      <td>6622</td>\n      <td>24</td>\n      <td>474</td>\n      <td>443</td>\n      <td>130</td>\n      <td>...</td>\n      <td>0</td>\n      <td>0</td>\n      <td>0</td>\n      <td>0</td>\n      <td>0</td>\n      <td>0</td>\n      <td>0</td>\n      <td>0</td>\n      <td>0</td>\n      <td>0</td>\n    </tr>\n    <tr>\n      <th>466</th>\n      <td>12</td>\n      <td>0</td>\n      <td>156</td>\n      <td>0</td>\n      <td>225</td>\n      <td>6623</td>\n      <td>24</td>\n      <td>469</td>\n      <td>443</td>\n      <td>130</td>\n      <td>...</td>\n      <td>0</td>\n      <td>0</td>\n      <td>0</td>\n      <td>0</td>\n      <td>0</td>\n      <td>0</td>\n      <td>0</td>\n      <td>0</td>\n      <td>0</td>\n      <td>0</td>\n    </tr>\n    <tr>\n      <th>467</th>\n      <td>13</td>\n      <td>0</td>\n      <td>157</td>\n      <td>0</td>\n      <td>222</td>\n      <td>6626</td>\n      <td>25</td>\n      <td>470</td>\n      <td>443</td>\n      <td>130</td>\n      <td>...</td>\n      <td>0</td>\n      <td>0</td>\n      <td>0</td>\n      <td>0</td>\n      <td>0</td>\n      <td>0</td>\n      <td>0</td>\n      <td>0</td>\n      <td>0</td>\n      <td>0</td>\n    </tr>\n    <tr>\n      <th>468</th>\n      <td>9</td>\n      <td>0</td>\n      <td>164</td>\n      <td>0</td>\n      <td>220</td>\n      <td>6628</td>\n      <td>24</td>\n      <td>474</td>\n      <td>443</td>\n      <td>130</td>\n      <td>...</td>\n      <td>0</td>\n      <td>0</td>\n      <td>0</td>\n      <td>0</td>\n      <td>0</td>\n      <td>0</td>\n      <td>0</td>\n      <td>0</td>\n      <td>0</td>\n      <td>0</td>\n    </tr>\n    <tr>\n      <th>469</th>\n      <td>14</td>\n      <td>0</td>\n      <td>153</td>\n      <td>0</td>\n      <td>228</td>\n      <td>6631</td>\n      <td>26</td>\n      <td>470</td>\n      <td>443</td>\n      <td>130</td>\n      <td>...</td>\n      <td>0</td>\n      <td>0</td>\n      <td>0</td>\n      <td>0</td>\n      <td>0</td>\n      <td>0</td>\n      <td>0</td>\n      <td>0</td>\n      <td>0</td>\n      <td>0</td>\n    </tr>\n    <tr>\n      <th>470</th>\n      <td>11</td>\n      <td>0</td>\n      <td>190</td>\n      <td>0</td>\n      <td>226</td>\n      <td>6635</td>\n      <td>23</td>\n      <td>467</td>\n      <td>443</td>\n      <td>130</td>\n      <td>...</td>\n      <td>0</td>\n      <td>0</td>\n      <td>0</td>\n      <td>0</td>\n      <td>0</td>\n      <td>0</td>\n      <td>0</td>\n      <td>0</td>\n      <td>0</td>\n      <td>0</td>\n    </tr>\n    <tr>\n      <th>471</th>\n      <td>12</td>\n      <td>0</td>\n      <td>149</td>\n      <td>0</td>\n      <td>225</td>\n      <td>6638</td>\n      <td>24</td>\n      <td>472</td>\n      <td>443</td>\n      <td>130</td>\n      <td>...</td>\n      <td>0</td>\n      <td>0</td>\n      <td>0</td>\n      <td>0</td>\n      <td>0</td>\n      <td>0</td>\n      <td>0</td>\n      <td>0</td>\n      <td>0</td>\n      <td>0</td>\n    </tr>\n    <tr>\n      <th>472</th>\n      <td>11</td>\n      <td>0</td>\n      <td>190</td>\n      <td>0</td>\n      <td>226</td>\n      <td>6642</td>\n      <td>23</td>\n      <td>469</td>\n      <td>443</td>\n      <td>130</td>\n      <td>...</td>\n      <td>0</td>\n      <td>0</td>\n      <td>0</td>\n      <td>0</td>\n      <td>0</td>\n      <td>0</td>\n      <td>0</td>\n      <td>0</td>\n      <td>0</td>\n      <td>0</td>\n    </tr>\n    <tr>\n      <th>473</th>\n      <td>12</td>\n      <td>0</td>\n      <td>153</td>\n      <td>0</td>\n      <td>223</td>\n      <td>6643</td>\n      <td>25</td>\n      <td>470</td>\n      <td>444</td>\n      <td>130</td>\n      <td>...</td>\n      <td>0</td>\n      <td>0</td>\n      <td>0</td>\n      <td>0</td>\n      <td>0</td>\n      <td>0</td>\n      <td>0</td>\n      <td>0</td>\n      <td>0</td>\n      <td>0</td>\n    </tr>\n    <tr>\n      <th>474</th>\n      <td>11</td>\n      <td>0</td>\n      <td>166</td>\n      <td>0</td>\n      <td>221</td>\n      <td>6647</td>\n      <td>24</td>\n      <td>469</td>\n      <td>444</td>\n      <td>130</td>\n      <td>...</td>\n      <td>0</td>\n      <td>0</td>\n      <td>0</td>\n      <td>0</td>\n      <td>0</td>\n      <td>0</td>\n      <td>0</td>\n      <td>0</td>\n      <td>0</td>\n      <td>0</td>\n    </tr>\n    <tr>\n      <th>475</th>\n      <td>13</td>\n      <td>0</td>\n      <td>165</td>\n      <td>0</td>\n      <td>228</td>\n      <td>6649</td>\n      <td>25</td>\n      <td>470</td>\n      <td>444</td>\n      <td>130</td>\n      <td>...</td>\n      <td>0</td>\n      <td>0</td>\n      <td>0</td>\n      <td>0</td>\n      <td>0</td>\n      <td>0</td>\n      <td>0</td>\n      <td>0</td>\n      <td>0</td>\n      <td>0</td>\n    </tr>\n    <tr>\n      <th>476</th>\n      <td>9</td>\n      <td>0</td>\n      <td>157</td>\n      <td>0</td>\n      <td>226</td>\n      <td>6654</td>\n      <td>27</td>\n      <td>472</td>\n      <td>444</td>\n      <td>130</td>\n      <td>...</td>\n      <td>0</td>\n      <td>0</td>\n      <td>0</td>\n      <td>0</td>\n      <td>0</td>\n      <td>0</td>\n      <td>0</td>\n      <td>0</td>\n      <td>0</td>\n      <td>0</td>\n    </tr>\n    <tr>\n      <th>477</th>\n      <td>14</td>\n      <td>0</td>\n      <td>180</td>\n      <td>0</td>\n      <td>226</td>\n      <td>6656</td>\n      <td>26</td>\n      <td>469</td>\n      <td>445</td>\n      <td>130</td>\n      <td>...</td>\n      <td>0</td>\n      <td>0</td>\n      <td>0</td>\n      <td>0</td>\n      <td>0</td>\n      <td>0</td>\n      <td>0</td>\n      <td>0</td>\n      <td>0</td>\n      <td>0</td>\n    </tr>\n    <tr>\n      <th>478</th>\n      <td>13</td>\n      <td>0</td>\n      <td>151</td>\n      <td>0</td>\n      <td>226</td>\n      <td>6658</td>\n      <td>25</td>\n      <td>469</td>\n      <td>445</td>\n      <td>130</td>\n      <td>...</td>\n      <td>0</td>\n      <td>0</td>\n      <td>0</td>\n      <td>0</td>\n      <td>0</td>\n      <td>0</td>\n      <td>0</td>\n      <td>0</td>\n      <td>0</td>\n      <td>0</td>\n    </tr>\n    <tr>\n      <th>479</th>\n      <td>11</td>\n      <td>0</td>\n      <td>175</td>\n      <td>0</td>\n      <td>224</td>\n      <td>6661</td>\n      <td>24</td>\n      <td>469</td>\n      <td>445</td>\n      <td>130</td>\n      <td>...</td>\n      <td>0</td>\n      <td>0</td>\n      <td>0</td>\n      <td>0</td>\n      <td>0</td>\n      <td>0</td>\n      <td>0</td>\n      <td>0</td>\n      <td>0</td>\n      <td>0</td>\n    </tr>\n    <tr>\n      <th>480</th>\n      <td>11</td>\n      <td>0</td>\n      <td>159</td>\n      <td>0</td>\n      <td>223</td>\n      <td>6665</td>\n      <td>26</td>\n      <td>469</td>\n      <td>445</td>\n      <td>130</td>\n      <td>...</td>\n      <td>0</td>\n      <td>0</td>\n      <td>0</td>\n      <td>0</td>\n      <td>0</td>\n      <td>0</td>\n      <td>0</td>\n      <td>0</td>\n      <td>0</td>\n      <td>0</td>\n    </tr>\n    <tr>\n      <th>481</th>\n      <td>11</td>\n      <td>0</td>\n      <td>159</td>\n      <td>0</td>\n      <td>228</td>\n      <td>6669</td>\n      <td>25</td>\n      <td>468</td>\n      <td>445</td>\n      <td>130</td>\n      <td>...</td>\n      <td>0</td>\n      <td>0</td>\n      <td>0</td>\n      <td>0</td>\n      <td>0</td>\n      <td>0</td>\n      <td>0</td>\n      <td>0</td>\n      <td>0</td>\n      <td>0</td>\n    </tr>\n    <tr>\n      <th>482</th>\n      <td>14</td>\n      <td>0</td>\n      <td>171</td>\n      <td>0</td>\n      <td>222</td>\n      <td>6670</td>\n      <td>25</td>\n      <td>470</td>\n      <td>445</td>\n      <td>130</td>\n      <td>...</td>\n      <td>0</td>\n      <td>0</td>\n      <td>0</td>\n      <td>0</td>\n      <td>0</td>\n      <td>0</td>\n      <td>0</td>\n      <td>0</td>\n      <td>0</td>\n      <td>0</td>\n    </tr>\n    <tr>\n      <th>483</th>\n      <td>10</td>\n      <td>0</td>\n      <td>169</td>\n      <td>0</td>\n      <td>230</td>\n      <td>6674</td>\n      <td>25</td>\n      <td>467</td>\n      <td>445</td>\n      <td>130</td>\n      <td>...</td>\n      <td>0</td>\n      <td>0</td>\n      <td>0</td>\n      <td>0</td>\n      <td>0</td>\n      <td>0</td>\n      <td>0</td>\n      <td>0</td>\n      <td>0</td>\n      <td>0</td>\n    </tr>\n  </tbody>\n</table>\n<p>20 rows × 40889 columns</p>\n</div>"
     },
     "execution_count": 24,
     "metadata": {},
     "output_type": "execute_result"
    }
   ],
   "source": [
    "bulk.tail(20)"
   ],
   "metadata": {
    "collapsed": false
   }
  },
  {
   "cell_type": "code",
   "execution_count": null,
   "outputs": [],
   "source": [],
   "metadata": {
    "collapsed": false
   }
  }
 ],
 "metadata": {
  "kernelspec": {
   "display_name": "Python 3",
   "language": "python",
   "name": "python3"
  },
  "language_info": {
   "codemirror_mode": {
    "name": "ipython",
    "version": 2
   },
   "file_extension": ".py",
   "mimetype": "text/x-python",
   "name": "python",
   "nbconvert_exporter": "python",
   "pygments_lexer": "ipython2",
   "version": "2.7.6"
  }
 },
 "nbformat": 4,
 "nbformat_minor": 0
}
