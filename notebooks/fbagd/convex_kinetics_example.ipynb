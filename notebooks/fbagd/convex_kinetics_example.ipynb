{
 "cells": [
  {
   "cell_type": "code",
   "id": "8022bfb4-c69b-4cb7-a24c-fec017cc3661",
   "metadata": {
    "ExecuteTime": {
     "end_time": "2024-05-24T18:03:20.395868Z",
     "start_time": "2024-05-24T18:03:19.162025Z"
    }
   },
   "source": [
    "import numpy as np\n",
    "\n",
    "import seaborn as sns\n",
    "import pandas as pd\n",
    "import os\n",
    "import matplotlib.pyplot as plt\n",
    "import dill\n",
    "import requests\n",
    "import xmltodict\n",
    "import cvxpy as cp\n",
    "import itertools\n",
    "from scipy.special import logsumexp\n",
    "from scipy.sparse import csr_matrix\n",
    "\n",
    "sns.set(style='darkgrid', palette='viridis', context='talk')\n",
    "\n",
    "os.chdir(os.path.expanduser('~/vivarium-ecoli'))\n",
    "\n",
    "from ecoli.processes.metabolism_redux import NetworkFlowModel, FlowResult"
   ],
   "outputs": [],
   "execution_count": 2
  },
  {
   "metadata": {
    "ExecuteTime": {
     "end_time": "2024-05-24T18:03:20.989952Z",
     "start_time": "2024-05-24T18:03:20.955561Z"
    }
   },
   "cell_type": "code",
   "source": [
    "# jupyter autoreload modules\n",
    "\n",
    "%load_ext autoreload"
   ],
   "id": "2df18b60595c68c6",
   "outputs": [],
   "execution_count": 3
  },
  {
   "cell_type": "markdown",
   "source": [
    "# Import simulation output\n",
    "\n",
    "Before running this, run a sim in ecoli/experiments/metabolism_redux_sim.py with -n 2 to generate a simulation output. This is necessary to replicate the simulation environment. Use the default .json config."
   ],
   "metadata": {
    "collapsed": false
   },
   "id": "a143cbbb-3570-4548-bc24-f499c070a880"
  },
  {
   "cell_type": "code",
   "source": [
    "time = '10'\n",
    "date = '2024-04-27'\n",
    "experiment = 'convex_kinetics'\n",
    "entry = f'{experiment}_{time}_{date}'\n",
    "folder = f'out/cofactors/{entry}/'"
   ],
   "metadata": {
    "collapsed": false,
    "ExecuteTime": {
     "end_time": "2024-05-24T18:03:21.451167Z",
     "start_time": "2024-05-24T18:03:21.448468Z"
    }
   },
   "id": "09934d23-df11-4304-9ef4-eb81f0b818c1",
   "outputs": [],
   "execution_count": 4
  },
  {
   "cell_type": "code",
   "source": [
    "output = np.load(folder + '0_output.npy',allow_pickle='TRUE').item()\n",
    "# output = np.load(r\"out/geneRxnVerifData/output_glc.npy\", allow_pickle=True, encoding='ASCII').tolist()\n",
    "output = output['agents']['0']\n",
    "fba = output['listeners']['fba_results']\n",
    "mass = output['listeners']['mass']\n",
    "bulk = pd.DataFrame(output['bulk'])"
   ],
   "metadata": {
    "collapsed": false,
    "ExecuteTime": {
     "end_time": "2024-05-24T18:03:21.715248Z",
     "start_time": "2024-05-24T18:03:21.605389Z"
    }
   },
   "id": "b31e4a2e-0491-4e96-946d-9bca6cd43d79",
   "outputs": [],
   "execution_count": 5
  },
  {
   "cell_type": "code",
   "source": [
    "f = open(folder + 'agent_steps.pkl', 'rb')\n",
    "agent = dill.load(f)\n",
    "f.close()"
   ],
   "metadata": {
    "collapsed": false,
    "ExecuteTime": {
     "end_time": "2024-05-24T18:03:22.666235Z",
     "start_time": "2024-05-24T18:03:21.769798Z"
    }
   },
   "id": "fc9f4494-cab0-43d1-bae7-85572d8e4166",
   "outputs": [],
   "execution_count": 6
  },
  {
   "cell_type": "code",
   "source": [
    "stoichiometry = agent['ecoli-metabolism-redux-classic'].stoichiometry\n",
    "process_rxn_names = agent['ecoli-metabolism-redux-classic'].reaction_names\n",
    "process_met_names = agent['ecoli-metabolism-redux-classic'].metabolite_names\n",
    "exchange_met_names = agent['ecoli-metabolism-redux-classic'].exchange_molecules\n",
    "homeostatic_met_names = agent['ecoli-metabolism-redux-classic'].homeostatic_metabolites\n",
    "\n",
    "\n",
    "# get indices of \n",
    "# maintenance_reaction = agent['ecoli-metabolism-redux-classic'].model.maintenance_reaction\n",
    "# stoichiometry[\"maintenance_reaction\"] = maintenance_reaction\n",
    "\n",
    "bad_rxns = [\"RXN-12440\", \"TRANS-RXN-121\", \"TRANS-RXN-300\", \"TRANS-RXN-8\", \"R15-RXN-MET/CPD-479//CPD-479/MET.25.\",\"DISULFOXRED-RXN[CCO-PERI-BAC]-MONOMER0-4152/MONOMER0-4438//MONOMER0-4438/MONOMER0-4152.71.\"]\n",
    "# generate carbon mistake in parca, efflux/influx proton gen, iron cheating, mass gen\n",
    "# for rxn in bad_rxns:\n",
    "#    stoichiometry.pop(rxn, None)\n"
   ],
   "metadata": {
    "collapsed": false,
    "ExecuteTime": {
     "end_time": "2024-05-24T18:03:22.670117Z",
     "start_time": "2024-05-24T18:03:22.667447Z"
    }
   },
   "id": "27c1e87b-1ff5-4d04-89ac-5aa2bf6dbb9a",
   "outputs": [],
   "execution_count": 7
  },
  {
   "metadata": {
    "ExecuteTime": {
     "end_time": "2024-05-24T18:03:22.674807Z",
     "start_time": "2024-05-24T18:03:22.670894Z"
    }
   },
   "cell_type": "code",
   "source": "homeostatic_met_names",
   "id": "5e07259148019b65",
   "outputs": [
    {
     "data": {
      "text/plain": [
       "array(['2-3-DIHYDROXYBENZOATE[c]', '2-KETOGLUTARATE[c]', '2-PG[c]',\n",
       "       '2K-4CH3-PENTANOATE[c]', '4-AMINO-BUTYRATE[c]',\n",
       "       '4-hydroxybenzoate[c]', 'ACETOACETYL-COA[c]', 'ACETYL-COA[c]',\n",
       "       'ACETYL-P[c]', 'ADENINE[c]', 'ADENOSINE[c]', 'ADP-D-GLUCOSE[c]',\n",
       "       'ADP[c]', 'AMP[c]', 'ANTHRANILATE[c]', 'APS[c]', 'ARG[c]',\n",
       "       'ASN[c]', 'ATP[c]', 'BIOTIN[c]', 'CA+2[c]', 'CAMP[c]',\n",
       "       'CARBAMYUL-L-ASPARTATE[c]', 'CARBON-DIOXIDE[c]', 'CDP[c]',\n",
       "       'CHORISMATE[c]', 'CIS-ACONITATE[c]', 'CIT[c]', 'CL-[c]', 'CMP[c]',\n",
       "       'CO+2[c]', 'CO-A[c]', 'CPD-12115[c]', 'CPD-12261[p]',\n",
       "       'CPD-12575[c]', 'CPD-12819[c]', 'CPD-12824[c]', 'CPD-13469[c]',\n",
       "       'CPD-2961[c]', 'CPD-8260[c]', 'CPD-9956[c]', 'CPD0-939[c]',\n",
       "       'CTP[c]', 'CYS[c]', 'CYTIDINE[c]', 'CYTOSINE[c]', 'D-ALA-D-ALA[c]',\n",
       "       'D-SEDOHEPTULOSE-7-P[c]', 'DAMP[c]', 'DATP[c]', 'DCTP[c]',\n",
       "       'DEOXY-RIBOSE-5P[c]', 'DEOXYADENOSINE[c]', 'DEOXYGUANOSINE[c]',\n",
       "       'DGMP[c]', 'DGTP[c]', 'DI-H-OROTATE[c]',\n",
       "       'DIHYDROXY-ACETONE-PHOSPHATE[c]', 'DPG[c]', 'ENTEROBACTIN[c]',\n",
       "       'ERYTHROSE-4P[c]', 'FAD[c]', 'FE+2[c]', 'FMN[c]',\n",
       "       'FRUCTOSE-16-DIPHOSPHATE[c]', 'FRUCTOSE-6P[c]', 'FUM[c]', 'G3P[c]',\n",
       "       'GDP[c]', 'GLC-6-P[c]', 'GLN[c]', 'GLT[c]', 'GLUCONATE[c]',\n",
       "       'GLUTATHIONE[c]', 'GLYCERATE[c]', 'GLYCEROL-3P[c]', 'GLY[c]',\n",
       "       'GMP[c]', 'GTP[c]', 'GUANINE[c]', 'GUANOSINE[c]', 'HISTIDINOL[c]',\n",
       "       'HIS[c]', 'HOMO-CYS[c]', 'HOMO-SER[c]', 'HYPOXANTHINE[c]',\n",
       "       'ILE[c]', 'IMP[c]', 'INOSINE[c]', 'K+[c]', 'L-ALPHA-ALANINE[c]',\n",
       "       'L-ARGININO-SUCCINATE[c]', 'L-ASPARTATE[c]', 'L-CITRULLINE[c]',\n",
       "       'L-ORNITHINE[c]', 'L-SELENOCYSTEINE[c]', 'LEU[c]',\n",
       "       'LL-DIAMINOPIMELATE[c]', 'LYS[c]', 'MALONYL-COA[c]', 'MAL[c]',\n",
       "       'METHYLENE-THF[c]', 'MET[c]', 'MG+2[c]', 'MN+2[c]',\n",
       "       'N-ACETYL-D-GLUCOSAMINE-1-P[c]', 'N-ALPHA-ACETYLORNITHINE[c]',\n",
       "       'NADH[c]', 'NADPH[c]', 'NADP[c]', 'NAD[c]', 'NI+2[c]',\n",
       "       'OROTATE[c]', 'OXALACETIC_ACID[c]', 'OXIDIZED-GLUTATHIONE[c]',\n",
       "       'PANTOTHENATE[c]', 'PHENYL-PYRUVATE[c]', 'PHE[c]',\n",
       "       'PHOSPHO-ENOL-PYRUVATE[c]', 'PPI[c]', 'PROPIONYL-COA[c]',\n",
       "       'PROTOHEME[c]', 'PROTON[c]', 'PRO[c]', 'PRPP[c]', 'PUTRESCINE[c]',\n",
       "       'PYRIDOXAL_PHOSPHATE[c]', 'PYRUVATE[c]', 'Pi[c]', 'QUINOLINATE[c]',\n",
       "       'REDUCED-MENAQUINONE[c]', 'RIBOFLAVIN[c]', 'RIBOSE-1P[c]',\n",
       "       'RIBOSE-5P[c]', 'RIBULOSE-5P[c]', 'S-ADENOSYLMETHIONINE[c]',\n",
       "       'SER[c]', 'SHIKIMATE[c]', 'SIROHEME[c]', 'SPERMIDINE[c]',\n",
       "       'SUC-COA[c]', 'SUC[c]', 'TDP[c]', 'THF[c]',\n",
       "       'THIAMINE-PYROPHOSPHATE[c]', 'THREO-DS-ISO-CITRATE[c]', 'THR[c]',\n",
       "       'TRP[c]', 'TTP[c]', 'TYR[c]', 'UDP-GLUCURONATE[c]',\n",
       "       'UDP-N-ACETYL-D-GLUCOSAMINE[c]', 'UDP[c]', 'UMP[c]',\n",
       "       'UNDECAPRENYL-DIPHOSPHATE[c]', 'URIDINE[c]', 'UTP[c]', 'VAL[c]',\n",
       "       'WATER[c]', 'XYLULOSE-5-PHOSPHATE[c]', 'ZN+2[c]',\n",
       "       'glycogen-monomer[c]', 'NI+2[p]', 'CO+2[p]', 'FE+2[p]', 'ZN+2[p]',\n",
       "       'MN+2[p]', 'NA+[p]', 'OXYGEN-MOLECULE[p]', 'FE+3[p]', 'CA+2[p]',\n",
       "       'Pi[p]'], dtype='<U30')"
      ]
     },
     "execution_count": 8,
     "metadata": {},
     "output_type": "execute_result"
    }
   ],
   "execution_count": 8
  },
  {
   "cell_type": "markdown",
   "source": [
    "Pandas automatically understands dicts of dicts as matrices."
   ],
   "metadata": {
    "collapsed": false
   },
   "id": "cc853a7f-8d04-42f7-97d1-7ec846a4ef41"
  },
  {
   "cell_type": "markdown",
   "source": [
    "# Test changing nutrient composition"
   ],
   "metadata": {
    "collapsed": false
   },
   "id": "31b1bb0c-c85e-442c-8482-5d24d54fba82"
  },
  {
   "cell_type": "code",
   "source": [
    "velocities = fba[\"estimated_fluxes\"][4]\n",
    "# use reaction names to make a dict\n",
    "d_velocities = {k: v for k, v in zip(process_rxn_names, velocities)}"
   ],
   "metadata": {
    "collapsed": false,
    "ExecuteTime": {
     "end_time": "2024-05-24T18:03:22.678806Z",
     "start_time": "2024-05-24T18:03:22.676149Z"
    }
   },
   "id": "f05b6d54fe11d842",
   "outputs": [],
   "execution_count": 9
  },
  {
   "cell_type": "markdown",
   "source": [
    "# Filter S matrix to only include nonzero fluxes."
   ],
   "metadata": {
    "collapsed": false
   },
   "id": "d4033fc02bf2dda9"
  },
  {
   "cell_type": "code",
   "source": [
    "# only include nonzero fluxes in solution.velocities\n",
    "nonzero_velocities = {k: v for k, v in d_velocities.items() if v != 0}\n",
    "nonzero_velocities\n",
    "\n",
    "# reaction indices with nonzero fluxes\n",
    "nonzero_rxn_indices = [process_rxn_names.index(k) for k in nonzero_velocities.keys()]\n",
    "\n"
   ],
   "metadata": {
    "collapsed": false,
    "ExecuteTime": {
     "end_time": "2024-05-24T18:03:22.903646Z",
     "start_time": "2024-05-24T18:03:22.892679Z"
    }
   },
   "id": "4444a0cef2241182",
   "outputs": [],
   "execution_count": 10
  },
  {
   "cell_type": "code",
   "source": [
    "# Use nonzero_velocities to filter S matrix\n",
    "S_matrix_mask = stoichiometry[:, nonzero_rxn_indices] != 0\n",
    "\n",
    "# remove rows of S_used that sum to zero.\n",
    "nonzero_met_indices = np.where(S_matrix_mask.sum(axis=1) != 0)[0]\n",
    "S_matrix = stoichiometry[:, nonzero_rxn_indices][nonzero_met_indices, :]"
   ],
   "metadata": {
    "collapsed": false,
    "ExecuteTime": {
     "end_time": "2024-05-24T18:03:23.102629Z",
     "start_time": "2024-05-24T18:03:23.082709Z"
    }
   },
   "id": "5a473c3838843532",
   "outputs": [],
   "execution_count": 11
  },
  {
   "metadata": {
    "ExecuteTime": {
     "end_time": "2024-05-24T18:03:23.480003Z",
     "start_time": "2024-05-24T18:03:23.477328Z"
    }
   },
   "cell_type": "code",
   "source": "S_matrix.shape",
   "id": "18260ddf7543f839",
   "outputs": [
    {
     "data": {
      "text/plain": [
       "(466, 438)"
      ]
     },
     "execution_count": 12,
     "metadata": {},
     "output_type": "execute_result"
    }
   ],
   "execution_count": 12
  },
  {
   "metadata": {
    "ExecuteTime": {
     "end_time": "2024-05-24T18:03:23.703033Z",
     "start_time": "2024-05-24T18:03:23.700748Z"
    }
   },
   "cell_type": "code",
   "source": [
    "# sort nonzero_velocities to be in same order as S_matrix columns.\n",
    "vE_dict = nonzero_velocities\n",
    "vE = np.array([np.array(list(vE_dict.values()))])\n",
    "\n",
    "dmdt = S_matrix @ vE.T"
   ],
   "id": "70fd978032011eaa",
   "outputs": [],
   "execution_count": 13
  },
  {
   "metadata": {},
   "cell_type": "markdown",
   "source": "# Get exchange and homeostasis indices for compressed matrix",
   "id": "c9893f4046381c5a"
  },
  {
   "metadata": {
    "ExecuteTime": {
     "end_time": "2024-05-24T18:03:24.026729Z",
     "start_time": "2024-05-24T18:03:24.018151Z"
    }
   },
   "cell_type": "code",
   "source": [
    "rxn_names = np.array(process_rxn_names)[nonzero_rxn_indices]\n",
    "met_names = np.array(process_met_names)[nonzero_met_indices]\n",
    "\n",
    "exchange_met_indices = np.array([i for i, met in enumerate(met_names) if met in exchange_met_names])\n",
    "homeostatic_met_indices = np.array([i for i, met in enumerate(met_names) if met in homeostatic_met_names])\n",
    "intermediate_met_indices = np.array([i for i, met in enumerate(met_names) if met not in exchange_met_names and met not in homeostatic_met_names])"
   ],
   "id": "a79ce206d95c1c10",
   "outputs": [],
   "execution_count": 14
  },
  {
   "cell_type": "markdown",
   "source": [
    "# First test. Single flux set. No eQuilibrator or regulation."
   ],
   "metadata": {
    "collapsed": false
   },
   "id": "a8db107005029e18"
  },
  {
   "cell_type": "code",
   "source": "",
   "metadata": {
    "collapsed": false,
    "ExecuteTime": {
     "end_time": "2024-05-24T18:03:25.035567Z",
     "start_time": "2024-05-24T18:03:25.033617Z"
    }
   },
   "id": "c76654daa337ecba",
   "outputs": [],
   "execution_count": 14
  },
  {
   "cell_type": "code",
   "source": [
    "Sd = pd.DataFrame(S_matrix, columns=[k for k in nonzero_velocities.keys()])\n",
    "# Sd = pd.DataFrame(stoich_dict, dtype=np.int8).fillna(0).astype(np.int8)\n",
    "# Sd = Sd.iloc[0:7, 0:2]\n",
    "Sr = None\n",
    "\n",
    "\n",
    "Sd"
   ],
   "metadata": {
    "collapsed": false,
    "ExecuteTime": {
     "end_time": "2024-05-24T18:03:25.502497Z",
     "start_time": "2024-05-24T18:03:25.493199Z"
    }
   },
   "id": "a1d4e1bd56a10a69",
   "outputs": [
    {
     "data": {
      "text/plain": [
       "     1.5.1.20-RXN-5-METHYL-THF/NAD//METHYLENE-THF/NADH/PROTON.44. (reverse)  \\\n",
       "0                                                    0                        \n",
       "1                                                    0                        \n",
       "2                                                    0                        \n",
       "3                                                    0                        \n",
       "4                                                    0                        \n",
       "..                                                 ...                        \n",
       "461                                                  0                        \n",
       "462                                                  0                        \n",
       "463                                                  0                        \n",
       "464                                                  0                        \n",
       "465                                                  0                        \n",
       "\n",
       "     1.8.4.8-RXN-3-5-ADP/SO3/Ox-thioredoxins-1/PROTON//PAPS/Red-thioredoxins-1.62. (reverse)  \\\n",
       "0                                                    0                                         \n",
       "1                                                    0                                         \n",
       "2                                                    0                                         \n",
       "3                                                    0                                         \n",
       "4                                                    0                                         \n",
       "..                                                 ...                                         \n",
       "461                                                  0                                         \n",
       "462                                                  0                                         \n",
       "463                                                  0                                         \n",
       "464                                                  0                                         \n",
       "465                                                  0                                         \n",
       "\n",
       "     1TRANSKETO-RXN  2-DEHYDROPANTOATE-REDUCT-RXN (reverse)  \\\n",
       "0                 0                                       0   \n",
       "1                 0                                       0   \n",
       "2                 0                                       0   \n",
       "3                 0                                       0   \n",
       "4                 0                                       0   \n",
       "..              ...                                     ...   \n",
       "461               0                                       0   \n",
       "462               0                                       0   \n",
       "463               0                                       0   \n",
       "464               0                                       0   \n",
       "465               0                                       0   \n",
       "\n",
       "     2-ISOPROPYLMALATESYN-RXN  2-OCTAPRENYL-6-METHOXYPHENOL-HYDROX-RXN  \\\n",
       "0                           0                                        0   \n",
       "1                           0                                        0   \n",
       "2                           0                                        0   \n",
       "3                           0                                        0   \n",
       "4                           0                                        0   \n",
       "..                        ...                                      ...   \n",
       "461                         0                                        0   \n",
       "462                         0                                        0   \n",
       "463                         0                                        0   \n",
       "464                         0                                        0   \n",
       "465                         0                                        0   \n",
       "\n",
       "     2-OCTAPRENYL-6-OHPHENOL-METHY-RXN  2-OCTAPRENYL-METHOXY-BENZOQ-METH-RXN  \\\n",
       "0                                    0                                     0   \n",
       "1                                    0                                     0   \n",
       "2                                    0                                     0   \n",
       "3                                    0                                     0   \n",
       "4                                    0                                     0   \n",
       "..                                 ...                                   ...   \n",
       "461                                  0                                     0   \n",
       "462                                  0                                     0   \n",
       "463                                  0                                     0   \n",
       "464                                  0                                     0   \n",
       "465                                  0                                     0   \n",
       "\n",
       "     2-OCTAPRENYLPHENOL-HYDROX-RXN  2.3.1.157-RXN  ...  UDPGLUCEPIM-RXN  \\\n",
       "0                                0              0  ...                0   \n",
       "1                                0              0  ...                0   \n",
       "2                                0              0  ...                0   \n",
       "3                                0              0  ...                0   \n",
       "4                                0              0  ...                0   \n",
       "..                             ...            ...  ...              ...   \n",
       "461                              0              0  ...                0   \n",
       "462                              0              0  ...                0   \n",
       "463                              0              0  ...                0   \n",
       "464                              0              0  ...                0   \n",
       "465                              0              0  ...                0   \n",
       "\n",
       "     UDPHYDROXYMYRGLUCOSAMNACETYLTRANS-RXN  UDPKIN-RXN  \\\n",
       "0                                        0           0   \n",
       "1                                        0           0   \n",
       "2                                        0           0   \n",
       "3                                        0           0   \n",
       "4                                        0           0   \n",
       "..                                     ...         ...   \n",
       "461                                      0           0   \n",
       "462                                      0           0   \n",
       "463                                      0           0   \n",
       "464                                      0           0   \n",
       "465                                      0           0   \n",
       "\n",
       "     UDPNACETYLGLUCOSAMACYLTRANS-RXN  UGD-RXN  URA-PHOSPH-RXN (reverse)  \\\n",
       "0                                  0        0                         0   \n",
       "1                                  0        0                         0   \n",
       "2                                  0        0                         0   \n",
       "3                                  0        0                         0   \n",
       "4                                  0        0                         0   \n",
       "..                               ...      ...                       ...   \n",
       "461                                0        0                         0   \n",
       "462                                0        0                         0   \n",
       "463                                0        0                         0   \n",
       "464                                0        0                         0   \n",
       "465                                0        0                         0   \n",
       "\n",
       "     UROGENDECARBOX-RXN  UROGENIIISYN-RXN  glycogen-monomer-extension  \\\n",
       "0                     0                 0                           0   \n",
       "1                     0                 0                           0   \n",
       "2                     0                 0                           0   \n",
       "3                     0                 0                           0   \n",
       "4                     0                 0                           0   \n",
       "..                  ...               ...                         ...   \n",
       "461                   0                 0                           0   \n",
       "462                   0                 0                           0   \n",
       "463                   0                 0                           0   \n",
       "464                   0                 0                           0   \n",
       "465                   0                 0                           1   \n",
       "\n",
       "     maintenance_reaction  \n",
       "0                       0  \n",
       "1                       0  \n",
       "2                       0  \n",
       "3                       0  \n",
       "4                       0  \n",
       "..                    ...  \n",
       "461                     0  \n",
       "462                     0  \n",
       "463                     0  \n",
       "464                     0  \n",
       "465                     0  \n",
       "\n",
       "[466 rows x 438 columns]"
      ],
      "text/html": [
       "<div>\n",
       "<style scoped>\n",
       "    .dataframe tbody tr th:only-of-type {\n",
       "        vertical-align: middle;\n",
       "    }\n",
       "\n",
       "    .dataframe tbody tr th {\n",
       "        vertical-align: top;\n",
       "    }\n",
       "\n",
       "    .dataframe thead th {\n",
       "        text-align: right;\n",
       "    }\n",
       "</style>\n",
       "<table border=\"1\" class=\"dataframe\">\n",
       "  <thead>\n",
       "    <tr style=\"text-align: right;\">\n",
       "      <th></th>\n",
       "      <th>1.5.1.20-RXN-5-METHYL-THF/NAD//METHYLENE-THF/NADH/PROTON.44. (reverse)</th>\n",
       "      <th>1.8.4.8-RXN-3-5-ADP/SO3/Ox-thioredoxins-1/PROTON//PAPS/Red-thioredoxins-1.62. (reverse)</th>\n",
       "      <th>1TRANSKETO-RXN</th>\n",
       "      <th>2-DEHYDROPANTOATE-REDUCT-RXN (reverse)</th>\n",
       "      <th>2-ISOPROPYLMALATESYN-RXN</th>\n",
       "      <th>2-OCTAPRENYL-6-METHOXYPHENOL-HYDROX-RXN</th>\n",
       "      <th>2-OCTAPRENYL-6-OHPHENOL-METHY-RXN</th>\n",
       "      <th>2-OCTAPRENYL-METHOXY-BENZOQ-METH-RXN</th>\n",
       "      <th>2-OCTAPRENYLPHENOL-HYDROX-RXN</th>\n",
       "      <th>2.3.1.157-RXN</th>\n",
       "      <th>...</th>\n",
       "      <th>UDPGLUCEPIM-RXN</th>\n",
       "      <th>UDPHYDROXYMYRGLUCOSAMNACETYLTRANS-RXN</th>\n",
       "      <th>UDPKIN-RXN</th>\n",
       "      <th>UDPNACETYLGLUCOSAMACYLTRANS-RXN</th>\n",
       "      <th>UGD-RXN</th>\n",
       "      <th>URA-PHOSPH-RXN (reverse)</th>\n",
       "      <th>UROGENDECARBOX-RXN</th>\n",
       "      <th>UROGENIIISYN-RXN</th>\n",
       "      <th>glycogen-monomer-extension</th>\n",
       "      <th>maintenance_reaction</th>\n",
       "    </tr>\n",
       "  </thead>\n",
       "  <tbody>\n",
       "    <tr>\n",
       "      <th>0</th>\n",
       "      <td>0</td>\n",
       "      <td>0</td>\n",
       "      <td>0</td>\n",
       "      <td>0</td>\n",
       "      <td>0</td>\n",
       "      <td>0</td>\n",
       "      <td>0</td>\n",
       "      <td>0</td>\n",
       "      <td>0</td>\n",
       "      <td>0</td>\n",
       "      <td>...</td>\n",
       "      <td>0</td>\n",
       "      <td>0</td>\n",
       "      <td>0</td>\n",
       "      <td>0</td>\n",
       "      <td>0</td>\n",
       "      <td>0</td>\n",
       "      <td>0</td>\n",
       "      <td>0</td>\n",
       "      <td>0</td>\n",
       "      <td>0</td>\n",
       "    </tr>\n",
       "    <tr>\n",
       "      <th>1</th>\n",
       "      <td>0</td>\n",
       "      <td>0</td>\n",
       "      <td>0</td>\n",
       "      <td>0</td>\n",
       "      <td>0</td>\n",
       "      <td>0</td>\n",
       "      <td>0</td>\n",
       "      <td>0</td>\n",
       "      <td>0</td>\n",
       "      <td>0</td>\n",
       "      <td>...</td>\n",
       "      <td>0</td>\n",
       "      <td>0</td>\n",
       "      <td>0</td>\n",
       "      <td>0</td>\n",
       "      <td>0</td>\n",
       "      <td>0</td>\n",
       "      <td>0</td>\n",
       "      <td>0</td>\n",
       "      <td>0</td>\n",
       "      <td>0</td>\n",
       "    </tr>\n",
       "    <tr>\n",
       "      <th>2</th>\n",
       "      <td>0</td>\n",
       "      <td>0</td>\n",
       "      <td>0</td>\n",
       "      <td>0</td>\n",
       "      <td>0</td>\n",
       "      <td>0</td>\n",
       "      <td>0</td>\n",
       "      <td>0</td>\n",
       "      <td>0</td>\n",
       "      <td>0</td>\n",
       "      <td>...</td>\n",
       "      <td>0</td>\n",
       "      <td>0</td>\n",
       "      <td>0</td>\n",
       "      <td>0</td>\n",
       "      <td>0</td>\n",
       "      <td>0</td>\n",
       "      <td>0</td>\n",
       "      <td>0</td>\n",
       "      <td>0</td>\n",
       "      <td>0</td>\n",
       "    </tr>\n",
       "    <tr>\n",
       "      <th>3</th>\n",
       "      <td>0</td>\n",
       "      <td>0</td>\n",
       "      <td>0</td>\n",
       "      <td>0</td>\n",
       "      <td>0</td>\n",
       "      <td>0</td>\n",
       "      <td>0</td>\n",
       "      <td>0</td>\n",
       "      <td>0</td>\n",
       "      <td>0</td>\n",
       "      <td>...</td>\n",
       "      <td>0</td>\n",
       "      <td>0</td>\n",
       "      <td>0</td>\n",
       "      <td>0</td>\n",
       "      <td>0</td>\n",
       "      <td>0</td>\n",
       "      <td>0</td>\n",
       "      <td>0</td>\n",
       "      <td>0</td>\n",
       "      <td>0</td>\n",
       "    </tr>\n",
       "    <tr>\n",
       "      <th>4</th>\n",
       "      <td>0</td>\n",
       "      <td>0</td>\n",
       "      <td>0</td>\n",
       "      <td>0</td>\n",
       "      <td>0</td>\n",
       "      <td>0</td>\n",
       "      <td>0</td>\n",
       "      <td>0</td>\n",
       "      <td>0</td>\n",
       "      <td>0</td>\n",
       "      <td>...</td>\n",
       "      <td>0</td>\n",
       "      <td>0</td>\n",
       "      <td>0</td>\n",
       "      <td>0</td>\n",
       "      <td>0</td>\n",
       "      <td>0</td>\n",
       "      <td>0</td>\n",
       "      <td>0</td>\n",
       "      <td>0</td>\n",
       "      <td>0</td>\n",
       "    </tr>\n",
       "    <tr>\n",
       "      <th>...</th>\n",
       "      <td>...</td>\n",
       "      <td>...</td>\n",
       "      <td>...</td>\n",
       "      <td>...</td>\n",
       "      <td>...</td>\n",
       "      <td>...</td>\n",
       "      <td>...</td>\n",
       "      <td>...</td>\n",
       "      <td>...</td>\n",
       "      <td>...</td>\n",
       "      <td>...</td>\n",
       "      <td>...</td>\n",
       "      <td>...</td>\n",
       "      <td>...</td>\n",
       "      <td>...</td>\n",
       "      <td>...</td>\n",
       "      <td>...</td>\n",
       "      <td>...</td>\n",
       "      <td>...</td>\n",
       "      <td>...</td>\n",
       "      <td>...</td>\n",
       "    </tr>\n",
       "    <tr>\n",
       "      <th>461</th>\n",
       "      <td>0</td>\n",
       "      <td>0</td>\n",
       "      <td>0</td>\n",
       "      <td>0</td>\n",
       "      <td>0</td>\n",
       "      <td>0</td>\n",
       "      <td>0</td>\n",
       "      <td>0</td>\n",
       "      <td>0</td>\n",
       "      <td>0</td>\n",
       "      <td>...</td>\n",
       "      <td>0</td>\n",
       "      <td>0</td>\n",
       "      <td>0</td>\n",
       "      <td>0</td>\n",
       "      <td>0</td>\n",
       "      <td>0</td>\n",
       "      <td>0</td>\n",
       "      <td>0</td>\n",
       "      <td>0</td>\n",
       "      <td>0</td>\n",
       "    </tr>\n",
       "    <tr>\n",
       "      <th>462</th>\n",
       "      <td>0</td>\n",
       "      <td>0</td>\n",
       "      <td>0</td>\n",
       "      <td>0</td>\n",
       "      <td>0</td>\n",
       "      <td>0</td>\n",
       "      <td>0</td>\n",
       "      <td>0</td>\n",
       "      <td>0</td>\n",
       "      <td>0</td>\n",
       "      <td>...</td>\n",
       "      <td>0</td>\n",
       "      <td>0</td>\n",
       "      <td>0</td>\n",
       "      <td>0</td>\n",
       "      <td>0</td>\n",
       "      <td>0</td>\n",
       "      <td>0</td>\n",
       "      <td>0</td>\n",
       "      <td>0</td>\n",
       "      <td>0</td>\n",
       "    </tr>\n",
       "    <tr>\n",
       "      <th>463</th>\n",
       "      <td>0</td>\n",
       "      <td>0</td>\n",
       "      <td>0</td>\n",
       "      <td>0</td>\n",
       "      <td>0</td>\n",
       "      <td>0</td>\n",
       "      <td>0</td>\n",
       "      <td>0</td>\n",
       "      <td>0</td>\n",
       "      <td>0</td>\n",
       "      <td>...</td>\n",
       "      <td>0</td>\n",
       "      <td>0</td>\n",
       "      <td>0</td>\n",
       "      <td>0</td>\n",
       "      <td>0</td>\n",
       "      <td>0</td>\n",
       "      <td>0</td>\n",
       "      <td>0</td>\n",
       "      <td>0</td>\n",
       "      <td>0</td>\n",
       "    </tr>\n",
       "    <tr>\n",
       "      <th>464</th>\n",
       "      <td>0</td>\n",
       "      <td>0</td>\n",
       "      <td>0</td>\n",
       "      <td>0</td>\n",
       "      <td>0</td>\n",
       "      <td>0</td>\n",
       "      <td>0</td>\n",
       "      <td>0</td>\n",
       "      <td>0</td>\n",
       "      <td>0</td>\n",
       "      <td>...</td>\n",
       "      <td>0</td>\n",
       "      <td>0</td>\n",
       "      <td>0</td>\n",
       "      <td>0</td>\n",
       "      <td>0</td>\n",
       "      <td>0</td>\n",
       "      <td>0</td>\n",
       "      <td>0</td>\n",
       "      <td>0</td>\n",
       "      <td>0</td>\n",
       "    </tr>\n",
       "    <tr>\n",
       "      <th>465</th>\n",
       "      <td>0</td>\n",
       "      <td>0</td>\n",
       "      <td>0</td>\n",
       "      <td>0</td>\n",
       "      <td>0</td>\n",
       "      <td>0</td>\n",
       "      <td>0</td>\n",
       "      <td>0</td>\n",
       "      <td>0</td>\n",
       "      <td>0</td>\n",
       "      <td>...</td>\n",
       "      <td>0</td>\n",
       "      <td>0</td>\n",
       "      <td>0</td>\n",
       "      <td>0</td>\n",
       "      <td>0</td>\n",
       "      <td>0</td>\n",
       "      <td>0</td>\n",
       "      <td>0</td>\n",
       "      <td>1</td>\n",
       "      <td>0</td>\n",
       "    </tr>\n",
       "  </tbody>\n",
       "</table>\n",
       "<p>466 rows × 438 columns</p>\n",
       "</div>"
      ]
     },
     "execution_count": 15,
     "metadata": {},
     "output_type": "execute_result"
    }
   ],
   "execution_count": 15
  },
  {
   "cell_type": "code",
   "source": [
    "from convex_kinetics_new import ConvexKineticsNew"
   ],
   "metadata": {
    "collapsed": false,
    "ExecuteTime": {
     "end_time": "2024-05-24T18:03:26.755566Z",
     "start_time": "2024-05-24T18:03:26.739778Z"
    }
   },
   "id": "47401ee1ac3e84fb",
   "outputs": [],
   "execution_count": 16
  },
  {
   "cell_type": "code",
   "source": [
    "E = ConvexKineticsNew()\n",
    "y_f, y_r, y_s, y_p, y_i, y_a, cfwd, crev, c, Km_s, Km_p, Km_i, Km_a, S_s, S_p, S_i, S_a, \\\n",
    "            met_s_nz, met_p_nz, met_i_nz, met_a_nz, rxn_s_nz, rxn_p_nz, rxn_i_nz, rxn_a_nz, \\\n",
    "            n_rxn, n_met, n_flux_set, S_s_nz, S_p_nz, S_s_mol, S_p_mol, S = E.set_up_variables(S_matrix=Sd, R_matrix=Sr, flow_data=vE)"
   ],
   "metadata": {
    "collapsed": false,
    "ExecuteTime": {
     "end_time": "2024-05-24T18:03:26.764909Z",
     "start_time": "2024-05-24T18:03:26.757445Z"
    }
   },
   "id": "616ccb3db842e3a3",
   "outputs": [
    {
     "name": "stdout",
     "output_type": "stream",
     "text": [
      "Number of metabolites: 466, number of reactions: 438, number of flux sets: 1\n",
      "Number of Km_s: 927, number of Km_p: 1039, number of Km_i: None, number of Km_a: None\n",
      "Number of concentrations: (466, 1), number of y_f: (1, 927), number of y_r: (1, 1039)\n"
     ]
    }
   ],
   "execution_count": 17
  },
  {
   "cell_type": "code",
   "source": [
    "C_alpha, C_beta, d_alpha, d_beta = E.construct_binding_matrix(n_rxn, S_s, S_p, S_i, S_a, Sr, met_s_nz, met_p_nz, met_i_nz, met_a_nz, rxn_s_nz, rxn_p_nz, rxn_i_nz, rxn_a_nz)"
   ],
   "metadata": {
    "collapsed": false,
    "ExecuteTime": {
     "end_time": "2024-05-24T18:03:27.321927Z",
     "start_time": "2024-05-24T18:03:27.263177Z"
    }
   },
   "id": "9a91362b271911d9",
   "outputs": [
    {
     "name": "stdout",
     "output_type": "stream",
     "text": [
      "Shape of C_alpha: (1708, 927), shape of C_beta: (2294, 1039)\n",
      "Shape of d_alpha: (1708,), shape of d_beta: (2294,)\n"
     ]
    }
   ],
   "execution_count": 18
  },
  {
   "cell_type": "code",
   "source": [
    "LSE_expr, denom_expr = E.construct_kinetic_objective(vE, n_flux_set, n_rxn, C_alpha, C_beta, d_alpha, d_beta, S_s_nz, S_p_nz, S, y_f, y_r, y_s, y_p, cfwd, crev)"
   ],
   "metadata": {
    "collapsed": false,
    "ExecuteTime": {
     "end_time": "2024-05-24T18:03:27.640252Z",
     "start_time": "2024-05-24T18:03:27.452602Z"
    }
   },
   "id": "f432cea7a599f271",
   "outputs": [],
   "execution_count": 19
  },
  {
   "cell_type": "code",
   "source": "loss = E.create_objective_function(cfwd, crev, c, Km_s, Km_p, Km_i, Km_a, y_s, y_p, denom_expr)",
   "metadata": {
    "collapsed": false,
    "ExecuteTime": {
     "end_time": "2024-05-24T18:03:27.652572Z",
     "start_time": "2024-05-24T18:03:27.641542Z"
    }
   },
   "id": "1879d511ad802b67",
   "outputs": [],
   "execution_count": 20
  },
  {
   "cell_type": "code",
   "source": "constr = E.set_parameter_bounds(cfwd, crev, c, Km_s, Km_p, Km_i, Km_a, LSE_expr, dmdt, lower_bound=-12, upper_bound=18)",
   "metadata": {
    "collapsed": false,
    "ExecuteTime": {
     "end_time": "2024-05-24T18:03:27.858577Z",
     "start_time": "2024-05-24T18:03:27.812563Z"
    }
   },
   "id": "e78fd83188178f7a",
   "outputs": [],
   "execution_count": 21
  },
  {
   "cell_type": "code",
   "source": [
    "problem = E.set_up_problem(loss, constr)\n"
   ],
   "metadata": {
    "collapsed": false,
    "ExecuteTime": {
     "end_time": "2024-05-24T18:03:28.331303Z",
     "start_time": "2024-05-24T18:03:28.304274Z"
    }
   },
   "id": "f1cba2d8a56c35d9",
   "outputs": [],
   "execution_count": 22
  },
  {
   "cell_type": "code",
   "source": [
    "solution = E.solve(problem)\n"
   ],
   "metadata": {
    "collapsed": false,
    "ExecuteTime": {
     "end_time": "2024-05-24T18:03:46.229161Z",
     "start_time": "2024-05-24T18:03:28.648849Z"
    }
   },
   "id": "c87be4abc4171e7b",
   "outputs": [
    {
     "name": "stderr",
     "output_type": "stream",
     "text": [
      "/Users/cyrus/.pyenv/versions/viv-10/lib/python3.10/site-packages/cvxpy/problems/problem.py:158: UserWarning: Objective contains too many subexpressions. Consider vectorizing your CVXPY code to speed up compilation.\n",
      "  warnings.warn(\"Objective contains too many subexpressions. \"\n"
     ]
    }
   ],
   "execution_count": 23
  },
  {
   "cell_type": "code",
   "source": [
    "solution.value"
   ],
   "metadata": {
    "collapsed": false,
    "ExecuteTime": {
     "end_time": "2024-05-24T18:03:46.234588Z",
     "start_time": "2024-05-24T18:03:46.230927Z"
    }
   },
   "id": "a75b5fa2a54490d1",
   "outputs": [
    {
     "data": {
      "text/plain": [
       "40.39801336140661"
      ]
     },
     "execution_count": 24,
     "metadata": {},
     "output_type": "execute_result"
    }
   ],
   "execution_count": 24
  },
  {
   "metadata": {
    "ExecuteTime": {
     "end_time": "2024-05-24T18:03:51.527803Z",
     "start_time": "2024-05-24T18:03:46.235545Z"
    }
   },
   "cell_type": "code",
   "source": [
    "equality_constr = []\n",
    "\n",
    "for v in LSE_expr:\n",
    "    #print(v.value)\n",
    "    equality_constr.append(logsumexp(v.value))\n",
    "    \n",
    "plt.plot(equality_constr)\n",
    "\n",
    "plt.ylim(-0.01,0.01)"
   ],
   "id": "e56e3906d703ac82",
   "outputs": [
    {
     "data": {
      "text/plain": [
       "(-0.01, 0.01)"
      ]
     },
     "execution_count": 25,
     "metadata": {},
     "output_type": "execute_result"
    },
    {
     "data": {
      "text/plain": [
       "<Figure size 640x480 with 1 Axes>"
      ],
      "image/png": "[encoded data removed]"
     },
     "metadata": {},
     "output_type": "display_data"
    }
   ],
   "execution_count": 25
  },
  {
   "metadata": {},
   "cell_type": "markdown",
   "source": "# Solution-based recon",
   "id": "8e13497e4e0cac89"
  },
  {
   "metadata": {
    "ExecuteTime": {
     "end_time": "2024-05-24T18:04:32.294304Z",
     "start_time": "2024-05-24T18:04:31.873006Z"
    }
   },
   "cell_type": "code",
   "source": [
    "reconstructed_vE = np.zeros(vE.shape)\n",
    "\n",
    "for j in range(n_flux_set):\n",
    "    sat_expr = []\n",
    "    fwd_sat = np.zeros(n_rxn)\n",
    "    back_sat = np.zeros(n_rxn)\n",
    "    sat = np.zeros(n_rxn)\n",
    "\n",
    "    for i in range(n_rxn):\n",
    "        # sum terms are separate in logsumexp. one per saturation term (row in C_alpha, C_beta)\n",
    "        n_term_s = np.sum(d_alpha == i)\n",
    "        n_term_p = np.sum(d_beta == i)\n",
    "        n_term = n_term_s + n_term_p\n",
    "\n",
    "\n",
    "        Km_s_idx = np.nonzero(S_s_nz[1, :] == i)\n",
    "        S_s_idx = S_s_nz[0, S_s_nz[1, :] == i] # negate -1 entries\n",
    "\n",
    "        Km_p_idx = np.nonzero(S_p_nz[1, :] == i)\n",
    "        S_p_idx = S_p_nz[0, S_p_nz[1, :] == i]\n",
    "\n",
    "        #S_s_idx = S_s_nz[0, S_s_nz[1, :] == i]\n",
    "\n",
    "        sat_expr.append(           [ (C_alpha @ y_f.value[j, :].flatten())[d_alpha == i] ,\n",
    "                                     (C_beta @ y_r.value[j, :].flatten())[d_beta == i],\n",
    "                                     0,\n",
    "                                     #-1*np.ones(n_lse_terms - n_term + 1)\n",
    "                                   ]\n",
    "                       )\n",
    "        fwd_sat[i] = (np.exp(-S.T[i, S_s_idx] @ y_s.value[j, Km_s_idx].flatten())) # + cfwd.value[i]\n",
    "        back_sat[i] = (np.exp(S.T[i, S_p_idx] @ y_p.value[j, Km_p_idx].flatten())) # + cfwd.value[i]\n",
    "\n",
    "\n",
    "\n",
    "    for i, rxn in enumerate(sat_expr):\n",
    "        s = 0\n",
    "\n",
    "        for term in rxn:\n",
    "            s += np.sum(np.exp(term))\n",
    "\n",
    "        sat[i] = (s)\n",
    "\n",
    "    reconstr = np.exp(cfwd.value) * fwd_sat/sat - np.exp(crev.value) * back_sat/sat\n",
    "    print(reconstr)\n",
    "    reconstructed_vE[j, :] = reconstr"
   ],
   "id": "72ce6feef4e8f50c",
   "outputs": [
    {
     "name": "stdout",
     "output_type": "stream",
     "text": [
      "[4.99500129e+03 7.56700248e+03 8.42900145e+03 1.57000041e+02\n",
      " 2.58790081e+04 7.00000341e+00 7.00000160e+00 7.00000160e+00\n",
      " 7.00000341e+00 1.17800027e+03 1.00950032e+04 1.29950022e+04\n",
      " 1.50000039e+01 1.96400034e+05 2.05000047e+02 3.20335055e+05\n",
      " 2.05000053e+02 1.00000078e+00 7.04740221e+04 5.43272070e+05\n",
      " 2.25330039e+04 1.57000041e+02 1.29960017e+04 1.29960017e+04\n",
      " 1.00950013e+04 8.48100110e+03 1.00950013e+04 7.00000121e+00\n",
      " 1.00950026e+04 1.00950026e+04 8.48100219e+03 1.00950026e+04\n",
      " 1.00950032e+04 1.38100024e+03 6.27900108e+03 1.28800022e+03\n",
      " 5.43279053e+05 7.00000121e+00 1.07600011e+03 1.17800012e+03\n",
      " 1.10457025e+05 8.85000202e+03 1.55000027e+02 1.99910034e+04\n",
      " 7.90000136e+01 4.06170105e+04 3.27520057e+04 7.86500136e+03\n",
      " 2.00000026e+00 1.19680021e+04 1.19650021e+04 1.19680021e+04\n",
      " 1.00000013e+00 7.56700172e+03 1.40000026e+01 4.70000081e+01\n",
      " 2.89000050e+02 9.56990132e+04 1.00000013e+00 1.30760054e+04\n",
      " 7.56700172e+03 8.00000183e+00 1.93510025e+04 2.29910040e+04\n",
      " 1.93570064e+04 1.57590027e+04 1.50000015e+01 1.30760017e+04\n",
      " 3.37734033e+05 1.05500014e+04 1.05630044e+04 7.34400305e+03\n",
      " 2.34000097e+02 1.08341019e+05 2.02269028e+05 1.69340053e+04\n",
      " 3.84100066e+03 1.30940023e+04 1.55200035e+04 1.57000027e+02\n",
      " 3.64000063e+03 2.27296357e+06 6.87910285e+04 1.04360018e+04\n",
      " 2.58690045e+04 1.45820025e+04 2.06000027e+02 3.00000038e+00\n",
      " 4.24100110e+03 1.08640019e+04 1.29950017e+04 1.12040011e+04\n",
      " 1.10000014e+01 2.01053063e+05 5.38000093e+02 4.97700113e+03\n",
      " 1.38100014e+03 1.29960034e+04 7.00000231e+00 1.00000017e+00\n",
      " 5.38000053e+02 9.50000164e+01 1.40300020e+03 1.53000035e+02\n",
      " 1.00000041e+00 3.30000075e+01 7.00000160e+00 1.19330021e+04\n",
      " 1.19330012e+04 1.19410027e+04 1.40000058e+01 1.40000024e+01\n",
      " 1.54760027e+04 1.53320026e+04 4.06170052e+04 8.00000182e+00\n",
      " 3.70000068e+01 1.50000047e+01 1.35400023e+03 1.38100024e+03\n",
      " 1.38100031e+03 2.05000053e+02 2.19000057e+02 1.00950026e+04\n",
      " 1.00950026e+04 8.00000319e+00 1.00000031e+00 1.00000023e+00\n",
      " 1.80000023e+01 1.18820015e+05 1.30000034e+01 1.00000023e+00\n",
      " 1.93570149e+04 2.50000043e+01 6.14045183e+05 1.93570044e+04\n",
      " 2.92740050e+04 1.55000035e+02 4.86200126e+03 1.30200034e+03\n",
      " 6.31900144e+03 3.43340078e+04 1.26300022e+03 1.18000037e+02\n",
      " 4.61730191e+04 1.06300044e+03 1.06300044e+03 2.30000040e+01\n",
      " 9.78580460e+04 6.94000120e+03 1.18000037e+02 6.94000218e+03\n",
      " 5.20000134e+03 5.40600123e+03 7.00000219e+00 7.00000121e+00\n",
      " 4.88880111e+04 1.93570080e+04 4.00000069e+00 9.85800409e+03\n",
      " 2.50000043e+01 1.18000012e+02 1.40000032e+01 1.90000062e+01\n",
      " 1.62320028e+04 1.40000018e+01 1.40000032e+01 1.40000032e+01\n",
      " 1.40000024e+01 3.64000063e+03 3.64000051e+03 3.64000063e+03\n",
      " 3.64000083e+03 4.99500086e+03 4.99400129e+03 4.97700086e+03\n",
      " 1.71000039e+03 3.64000047e+03 9.85800310e+03 2.29910030e+04\n",
      " 1.49703026e+05 3.30000057e+01 4.90000049e+01 8.89260115e+04\n",
      " 1.11971026e+05 1.81000057e+02 5.38000093e+02 5.38000139e+02\n",
      " 2.69000061e+02 2.69000061e+02 2.69000046e+02 2.69000061e+02\n",
      " 2.69000061e+02 3.70000122e+01 4.11060106e+04 1.33819030e+05\n",
      " 6.87880118e+04 9.28590292e+04 4.23480073e+04 4.23480073e+04\n",
      " 2.27000039e+02 2.69000046e+02 1.19680038e+04 1.19680027e+04\n",
      " 2.00000046e+01 1.96000081e+02 1.05670129e+06 1.17200030e+03\n",
      " 1.50000026e+01 1.96000051e+02 4.97700113e+03 1.50000047e+01\n",
      " 1.50000019e+01 7.00000220e+00 1.50000025e+01 1.06180024e+04\n",
      " 1.34500023e+03 1.49300026e+04 1.49300026e+04 1.53000026e+02\n",
      " 1.53000064e+02 1.53000040e+02 1.57000065e+02 1.53000035e+02\n",
      " 7.00000230e+00 3.54342034e+05 7.06520161e+04 1.15200020e+03\n",
      " 6.14044106e+05 1.15200026e+03 3.08800053e+03 3.08800070e+03\n",
      " 6.16500060e+03 7.00000121e+00 5.90000108e+01 1.71000017e+03\n",
      " 6.16200141e+03 5.04200115e+03 3.64000036e+03 9.90000171e+01\n",
      " 7.00000120e+00 1.93570061e+04 4.01400092e+04 1.71000029e+03\n",
      " 7.05480122e+04 1.00000017e+00 2.05000100e+02 6.00000520e+00\n",
      " 6.00000104e+00 6.94000179e+03 2.12000088e+02 3.96328122e+05\n",
      " 2.68800046e+03 1.96000044e+02 1.96000062e+02 1.04360018e+04\n",
      " 3.92500068e+03 5.04200087e+03 6.15600106e+03 3.16400054e+03\n",
      " 3.03580030e+04 1.90000033e+01 1.70000039e+01 1.90000049e+01\n",
      " 1.90000049e+01 9.50000217e+01 1.90000033e+01 4.70000061e+01\n",
      " 3.09500030e+04 6.00000546e+00 1.00000031e+00 1.00000017e+00\n",
      " 1.00000026e+00 1.00000013e+00 1.00000026e+00 1.00000031e+00\n",
      " 1.00000026e+00 1.00000013e+00 1.00000026e+00 1.00000023e+00\n",
      " 1.00000031e+00 2.24700029e+04 1.09610019e+04 1.96740034e+04\n",
      " 1.00000017e+00 6.00000189e+00 2.58790059e+04 2.58790025e+04\n",
      " 7.00000160e+00 2.61380109e+04 8.00000181e+00 1.19410038e+04\n",
      " 1.54000027e+02 2.00917019e+05 7.24800301e+03 4.70000047e+01\n",
      " 2.05000067e+02 4.70000081e+01 5.38000053e+02 4.24100073e+03\n",
      " 3.64000083e+03 1.39500036e+03 2.69000061e+02 7.00000116e+00\n",
      " 6.15799175e+05 2.20000050e+02 2.20000050e+02 2.20000050e+02\n",
      " 1.71000044e+03 1.40000036e+01 1.71000032e+03 1.14760020e+04\n",
      " 3.64000113e+03 2.30000038e+01 2.00000033e+00 1.50000019e+01\n",
      " 1.50000034e+01 1.00950032e+04 1.00950026e+04 1.00950013e+04\n",
      " 1.00950032e+04 1.00950032e+04 1.00950026e+04 1.00950013e+04\n",
      " 9.74100306e+03 8.50000267e+01 9.82600254e+03 8.75000113e+03\n",
      " 8.48100267e+03 1.00950013e+04 1.00950026e+04 1.00950026e+04\n",
      " 1.00950026e+04 8.75000226e+03 8.48100219e+03 1.96000045e+02\n",
      " 6.00000104e+00 6.00000249e+00 6.00000155e+00 7.00000219e+00\n",
      " 2.00000050e+00 2.50000025e+01 2.48000043e+02 9.50000160e+01\n",
      " 1.99910034e+04 2.05000027e+02 1.04000010e+02 2.01600026e+05\n",
      " 1.07600011e+03 1.07600025e+03 1.07600028e+03 1.07600019e+03\n",
      " 6.87910118e+04 2.69000061e+02 7.05480122e+04 2.69000061e+02\n",
      " 4.90000112e+01 4.90000112e+01 4.90000112e+01 2.69000061e+02\n",
      " 2.69000061e+02 2.69000061e+02 2.69000061e+02 2.69000061e+02\n",
      " 2.00000035e+00 1.14280020e+05 1.04000027e+02 4.70000107e+01\n",
      " 1.50000026e+01 1.04000018e+02 6.00000086e+00 6.00000137e+00\n",
      " 4.24100073e+03 8.28000260e+02 3.37734044e+05 3.37734058e+05\n",
      " 6.00000104e+00 1.93510080e+04 1.93510019e+04 1.01500032e+03\n",
      " 9.21000290e+02 4.00000091e+00 2.50000078e+01 3.04000096e+02\n",
      " 1.93510080e+04 2.27000039e+02 7.56700130e+03 1.29960034e+04\n",
      " 1.29950030e+04 8.00000137e+00 2.27000052e+02 6.94000128e+03\n",
      " 3.35480105e+04 1.19410021e+04 1.59545027e+05 1.19410021e+04\n",
      " 7.56700196e+03 7.56700229e+03 1.19410031e+04 2.69000061e+02\n",
      " 6.00000104e+00 6.00000188e+00 7.56700196e+03 1.00730014e+04\n",
      " 1.38100024e+03 4.64940080e+04 3.16000031e+02 1.00000010e+00\n",
      " 1.20000012e+01 1.90000019e+02 1.16224011e+06 3.20008055e+05\n",
      " 3.27000056e+02 7.12600123e+03 1.20000021e+01 1.00000010e+00\n",
      " 2.27000022e+02 6.15832060e+05 6.00000060e+00 6.59704064e+05\n",
      " 6.00000060e+00 3.43340033e+04 6.31900062e+03 7.56700130e+03\n",
      " 9.53400164e+03 3.14949031e+05 1.71000039e+03 5.38000093e+02\n",
      " 2.69000027e+02 5.38000123e+02 2.12180037e+04 5.38000093e+02\n",
      " 4.20000130e+01 1.38100024e+03 7.00000115e+00 1.50000019e+01\n",
      " 4.86200063e+03 1.77533540e+06]\n"
     ]
    }
   ],
   "execution_count": 26
  },
  {
   "metadata": {
    "ExecuteTime": {
     "end_time": "2024-05-24T18:05:15.141431Z",
     "start_time": "2024-05-24T18:05:15.047277Z"
    }
   },
   "cell_type": "code",
   "source": [
    "# plot reconstructed fluxes minus actual fluxes\n",
    "v_error = (reconstructed_vE - vE) / vE\n",
    "\n",
    "plt.plot(v_error.T)"
   ],
   "id": "be4a9883fdffeb3e",
   "outputs": [
    {
     "data": {
      "text/plain": [
       "[<matplotlib.lines.Line2D at 0x2caf61120>]"
      ]
     },
     "execution_count": 31,
     "metadata": {},
     "output_type": "execute_result"
    },
    {
     "data": {
      "text/plain": [
       "<Figure size 640x480 with 1 Axes>"
      ],
      "image/png": "[encoded data removed]"
     },
     "metadata": {},
     "output_type": "display_data"
    }
   ],
   "execution_count": 31
  },
  {
   "metadata": {},
   "cell_type": "markdown",
   "source": "# Check fluxes",
   "id": "6bba494cbf72b853"
  },
  {
   "metadata": {},
   "cell_type": "markdown",
   "source": "# Simulation-structured recon",
   "id": "eff0466a12d94cf3"
  },
  {
   "metadata": {
    "ExecuteTime": {
     "end_time": "2024-05-24T16:52:17.417773Z",
     "start_time": "2024-05-24T16:52:17.388490Z"
    }
   },
   "cell_type": "code",
   "source": [
    "# pre rxn \n",
    "cn = np.array(c.value)[:, 0]\n",
    "i = -1\n",
    "\n",
    "sat_expr = []\n",
    "fwd_sat = np.zeros(n_rxn)\n",
    "back_sat = np.zeros(n_rxn)\n",
    "sat = np.zeros(n_rxn)\n",
    "v_cur = np.zeros(n_rxn)\n",
    "\n",
    "S_x = csr_matrix(S)\n",
    "C_alpha_x = csr_matrix(C_alpha)\n",
    "C_beta_x = csr_matrix(C_beta)\n",
    "\n",
    "# define y vecs\n",
    "y_s_t, y_p_t, y_i_t, y_a_t = [], [], [], []\n",
    "\n",
    "# condense the code below into one line\n",
    "y_s_t.append(np.multiply(S_s_mol, cn[met_s_nz] - Km_s.value))\n",
    "y_p_t.append(np.multiply(S_p_mol, cn[met_p_nz] - Km_p.value))\n",
    "y_i_t.append(cn[met_i_nz] - Km_i.value if Km_i else None)\n",
    "y_a_t.append(-(cn[met_a_nz] - Km_a.value) if Km_a else None)\n",
    "\n",
    "y_s = np.vstack(y_s_t).flatten()\n",
    "y_p = np.vstack(y_p_t).flatten()\n",
    "y_i = np.vstack(y_i_t).flatten()\n",
    "y_a = np.vstack(y_a_t).flatten()\n",
    "\n",
    "y_f_vec = [y_s]\n",
    "y_r_vec = [y_p]\n",
    "if Km_i:\n",
    "    y_f_vec.append(y_i)\n",
    "    y_r_vec.append(y_i)\n",
    "if Km_a:\n",
    "    y_f_vec.append(y_a)\n",
    "    y_r_vec.append(y_a)\n",
    "\n",
    "y_f_n = np.hstack(y_f_vec).flatten()\n",
    "y_r_n = np.hstack(y_r_vec).flatten()\n",
    "\n",
    "\n",
    "# now for each reaction in the set, calculate the saturation terms\n"
   ],
   "id": "740749aa1b9e5ca6",
   "outputs": [],
   "execution_count": 35
  },
  {
   "metadata": {
    "ExecuteTime": {
     "end_time": "2024-05-24T16:52:17.574682Z",
     "start_time": "2024-05-24T16:52:17.486025Z"
    }
   },
   "cell_type": "code",
   "source": [
    "\n",
    "\n",
    "for i in range(n_rxn):\n",
    "    # sum terms are separate in logsumexp. one per saturation term (row in C_alpha, C_beta)\n",
    "    Km_s_idx = np.nonzero(S_s_nz[1, :] == i)\n",
    "    S_s_idx = S_s_nz[0, S_s_nz[1, :] == i] # negate -1 entries\n",
    "\n",
    "    Km_p_idx = np.nonzero(S_p_nz[1, :] == i)\n",
    "    S_p_idx = S_p_nz[0, S_p_nz[1, :] == i]\n",
    "    \n",
    "    cur_sat =  (C_alpha_x @ y_f_n)[d_alpha == i].tolist() + \\\n",
    "                (C_beta_x @ y_r_n)[d_beta == i].tolist() + \\\n",
    "                [0],\n",
    "    \n",
    "    sat[i] = np.sum(np.exp(cur_sat))\n",
    "    \n",
    "    \n",
    "    fwd_sat[i] = (np.exp(-S_x.T[i, S_s_idx] @ y_s[Km_s_idx])) # + cfwd.value[i]\n",
    "    back_sat[i] = (np.exp(S_x.T[i, S_p_idx] @ y_p[Km_p_idx])) # + cfwd.value[i]\n",
    "\n",
    "    \n",
    "reconstr = np.exp(cfwd.value) * fwd_sat/sat - np.exp(crev.value) * back_sat/sat\n",
    "\n",
    "dmdt = S_x @ reconstr\n"
   ],
   "id": "1d3715c314909a56",
   "outputs": [],
   "execution_count": 36
  },
  {
   "metadata": {
    "ExecuteTime": {
     "end_time": "2024-05-24T16:53:23.489981Z",
     "start_time": "2024-05-24T16:53:23.478327Z"
    }
   },
   "cell_type": "code",
   "source": "(dmdt/np.exp(cn), met_names)[homeostatic_met_indices]",
   "id": "87db6a2c24048786",
   "outputs": [
    {
     "ename": "TypeError",
     "evalue": "only integer scalar arrays can be converted to a scalar index",
     "output_type": "error",
     "traceback": [
      "\u001B[0;31m---------------------------------------------------------------------------\u001B[0m",
      "\u001B[0;31mTypeError\u001B[0m                                 Traceback (most recent call last)",
      "Cell \u001B[0;32mIn[40], line 1\u001B[0m\n\u001B[0;32m----> 1\u001B[0m \u001B[43m(\u001B[49m\u001B[43mdmdt\u001B[49m\u001B[38;5;241;43m/\u001B[39;49m\u001B[43mnp\u001B[49m\u001B[38;5;241;43m.\u001B[39;49m\u001B[43mexp\u001B[49m\u001B[43m(\u001B[49m\u001B[43mcn\u001B[49m\u001B[43m)\u001B[49m\u001B[43m,\u001B[49m\u001B[43m \u001B[49m\u001B[43mmet_names\u001B[49m\u001B[43m)\u001B[49m\u001B[43m[\u001B[49m\u001B[43mhomeostatic_met_indices\u001B[49m\u001B[43m]\u001B[49m\n",
      "\u001B[0;31mTypeError\u001B[0m: only integer scalar arrays can be converted to a scalar index"
     ]
    }
   ],
   "execution_count": 40
  },
  {
   "metadata": {
    "ExecuteTime": {
     "end_time": "2024-05-24T16:55:24.931534Z",
     "start_time": "2024-05-24T16:55:24.925436Z"
    }
   },
   "cell_type": "code",
   "source": "(np.array([dmdt, np.exp(cn), dmdt / np.exp(cn), met_names]).T)[homeostatic_met_indices, :]",
   "id": "d47c366719612f88",
   "outputs": [
    {
     "data": {
      "text/plain": [
       "array([['25.000001182139407', '0.669745112265043', '37.32763513210378',\n",
       "        '2-3-DIHYDROXYBENZOATE[c]'],\n",
       "       ['26.990963484298845', '0.24497108671945822',\n",
       "        '110.18020063408134', '2-KETOGLUTARATE[c]'],\n",
       "       ['6.995259544812143', '0.3181705204970657', '21.9858820794702',\n",
       "        '2-PG[c]'],\n",
       "       ['10.000400170370995', '0.2993887725061615', '33.40272277633652',\n",
       "        '2K-4CH3-PENTANOATE[c]'],\n",
       "       ['23.000001095090592', '0.0013737122903969225',\n",
       "        '16742.95356886189', '4-AMINO-BUTYRATE[c]'],\n",
       "       ['4.000000060778813', '0.31546511776509345', '12.679690512588955',\n",
       "        '4-hydroxybenzoate[c]'],\n",
       "       ['2.000000071830976', '0.0011731088162773324',\n",
       "        '1704.8717425700088', 'ACETOACETYL-COA[c]'],\n",
       "       ['79.00184160699428', '0.6128525713599917', '128.9083954264562',\n",
       "        'ACETYL-COA[c]'],\n",
       "       ['79.00000375904722', '0.0013784505800637618',\n",
       "        '57310.72618895991', 'ACETYL-P[c]'],\n",
       "       ['1.1725038717713687e-08', '0.20296357482682836',\n",
       "        '5.7769177192102916e-08', 'ADENINE[c]'],\n",
       "       ['0.00017366684824082768', '0.3133039416685877',\n",
       "        '0.0005543078944871115', 'ADP-D-GLUCOSE[c]'],\n",
       "       ['-121802.01056052768', '0.48350223054888675',\n",
       "        '-251916.1295745301', 'ADP[c]'],\n",
       "       ['-6113.99702986318', '0.20004722760301238',\n",
       "        '-30562.768117917734', 'AMP[c]'],\n",
       "       ['6.054254072296317e-06', '0.2993974519369835',\n",
       "        '2.022146158268108e-05', 'ANTHRANILATE[c]'],\n",
       "       ['6.200355710461736e-05', '0.31309663066421506',\n",
       "        '0.00019803329398045792', 'APS[c]'],\n",
       "       ['10550.000376334927', '0.001312417778042761',\n",
       "        '8038599.105285198', 'ARG[c]'],\n",
       "       ['7578.000869782623', '0.00023136017205387837',\n",
       "        '32754128.778992627', 'ASN[c]'],\n",
       "       ['40260.003729562275', '0.9996909572485523', '40272.449638206',\n",
       "        'ATP[c]'],\n",
       "       ['1.0000002154437653', '0.002001860325186734',\n",
       "        '499.53545852430284', 'BIOTIN[c]'],\n",
       "       ['190.00000518794417', '0.0011268377941168195',\n",
       "        '168613.4474543963', 'CA+2[c]'],\n",
       "       ['-190.00000518794417', '0.4563760148417683',\n",
       "        '-416.3233803025773', 'CA+2[p]'],\n",
       "       ['1.0000000358878829', '0.0012743623910825871',\n",
       "        '784.7061737582903', 'CAMP[c]'],\n",
       "       ['44.00024428001052', '0.2996567814466243', '146.835469791789',\n",
       "        'CARBAMYUL-L-ASPARTATE[c]'],\n",
       "       ['-24.963381182662413', '0.2000747364301128',\n",
       "        '-124.77028148619982', 'CARBON-DIOXIDE[c]'],\n",
       "       ['2.0000009258037608', '0.4496195561735677', '4.448207152786067',\n",
       "        'CDP[c]'],\n",
       "       ['7.0000377659690525', '0.6883332440540741', '10.169547710264512',\n",
       "        'CHORISMATE[c]'],\n",
       "       ['1.000000035815907', '0.0012747515696164432',\n",
       "        '784.4666048277896', 'CIS-ACONITATE[c]'],\n",
       "       ['135.01205059251515', '0.43609930629489163', '309.5901521595625',\n",
       "        'CIT[c]'],\n",
       "       ['95.00000445475402', '0.013055427013763337',\n",
       "        '7276.6677301786285', 'CL-[c]'],\n",
       "       ['-5825.000196089955', '0.20018528873619176',\n",
       "        '-29098.043282122788', 'CMP[c]'],\n",
       "       ['1.000000028363029', '0.0009295868877022252',\n",
       "        '1075.7467016718067', 'CO+2[c]'],\n",
       "       ['-1.000000028363029', '0.4563795542876405', '-2.191158694486044',\n",
       "        'CO+2[p]'],\n",
       "       ['53.997006380730454', '0.23946319557163598', '225.4918809207034',\n",
       "        'CO-A[c]'],\n",
       "       ['7.000000796856806', '0.30121422152364896', '23.2392772208706',\n",
       "        'CPD-12115[c]'],\n",
       "       ['184.00003100944224', '0.7380858235263161', '249.29354438804202',\n",
       "        'CPD-12575[c]'],\n",
       "       ['3088.000146837158', '0.0013928545999100845',\n",
       "        '2217029.7940908573', 'CPD-12819[c]'],\n",
       "       ['206.00000735264504', '0.001197280929529127',\n",
       "        '172056.53432871582', 'CPD-12824[c]'],\n",
       "       ['85.00002807249098', '0.31358685431356953', '271.05737024134197',\n",
       "        'CPD-13469[c]'],\n",
       "       ['153.00000726937213', '0.3145863480480394', '486.3529781845715',\n",
       "        'CPD-2961[c]'],\n",
       "       ['946.0000474280696', '0.5619582297729568', '1683.3992231242416',\n",
       "        'CPD-8260[c]'],\n",
       "       ['7.000000442341094', '0.0015105367658527341',\n",
       "        '4634.1145747547735', 'CPD-9956[c]'],\n",
       "       ['269.0000169595671', '0.0015141648019822973',\n",
       "        '177655.70604164136', 'CPD0-939[c]'],\n",
       "       ['12147.000915619185', '0.5744482711261407', '21145.508701429924',\n",
       "        'CTP[c]'],\n",
       "       ['1367.0000230277603', '0.6778044831491284', '2016.8058149697974',\n",
       "        'CYS[c]'],\n",
       "       ['7.000000640287896', '0.0015458980869971486',\n",
       "        '4528.112622149074', 'D-ALA-D-ALA[c]'],\n",
       "       ['29.000023497865186', '0.44970255861361885', '64.48712141480563',\n",
       "        'D-SEDOHEPTULOSE-7-P[c]'],\n",
       "       ['1015.0000880183951', '0.0016149126523204908',\n",
       "        '628517.020137236', 'DATP[c]'],\n",
       "       ['923.0000763646665', '0.0001332463062154166',\n",
       "        '6927021.863348849', 'DCTP[c]'],\n",
       "       ['22.000017150316353', '0.32506684412923853', '67.67844075038822',\n",
       "        'DEOXY-RIBOSE-5P[c]'],\n",
       "       ['4.000000190282895', '0.0013630558680127478',\n",
       "        '2934.5827153179357', 'DGMP[c]'],\n",
       "       ['921.0000799136635', '0.0016148818826734839',\n",
       "        '570320.3991544701', 'DGTP[c]'],\n",
       "       ['144.00000682037535', '0.31256350087938833', '460.7064049872602',\n",
       "        'DI-H-OROTATE[c]'],\n",
       "       ['140.00514762639068', '0.241929257536429', '578.7028367385831',\n",
       "        'DIHYDROXY-ACETONE-PHOSPHATE[c]'],\n",
       "       ['1.021273415768519', '0.3003256646134384', '3.4005532530263185',\n",
       "        'DPG[c]'],\n",
       "       ['8.00000089847441', '0.0015192352451641833',\n",
       "        '5265.8078621720315', 'ENTEROBACTIN[c]'],\n",
       "       ['1.999690830703912', '0.5509450330597937', '3.629565039543404',\n",
       "        'ERYTHROSE-4P[c]'],\n",
       "       ['13.000000927496982', '0.0014577029467795545',\n",
       "        '8918.141351238515', 'FAD[c]'],\n",
       "       ['245.00001165414844', '0.3541467497487659', '691.8036430602655',\n",
       "        'FE+2[c]'],\n",
       "       ['-262.0000125036246', '0.8639993989018586', '-303.2409661819511',\n",
       "        'FE+2[p]'],\n",
       "       ['2.000000137994443', '0.054491418046415045', '36.70302975582082',\n",
       "        'FE+3[p]'],\n",
       "       ['4.000000144236948', '0.3008373430843806', '13.296222148574834',\n",
       "        'FMN[c]'],\n",
       "       ['469.0032676455594', '0.3328604623208008', '1409.0086409648386',\n",
       "        'FRUCTOSE-16-DIPHOSPHATE[c]'],\n",
       "       ['104.99319748045491', '0.7415977646475261', '141.5770145024063',\n",
       "        'FRUCTOSE-6P[c]'],\n",
       "       ['57.00129254578496', '0.23930850908169815', '238.19166633278863',\n",
       "        'FUM[c]'],\n",
       "       ['113.01019956858363', '0.4484344721899683', '252.01050895282114',\n",
       "        'G3P[c]'],\n",
       "       ['30.000881183611835', '0.3314418244804132', '90.5162805890382',\n",
       "        'GDP[c]'],\n",
       "       ['327.00001559012435', '0.0013855560361705828',\n",
       "        '236006.3447840703', 'GLC-6-P[c]'],\n",
       "       ['7458.999471601117', '0.4103975351471115', '18175.05913851884',\n",
       "        'GLN[c]'],\n",
       "       ['13870.009291851375', '0.808549150565074', '17154.194376628788',\n",
       "        'GLT[c]'],\n",
       "       ['2.0000000952354497', '0.0013592608769054395',\n",
       "        '1471.3879647509232', 'GLUCONATE[c]'],\n",
       "       ['964.0001171882161', '0.5185974011495259', '1858.8602932668155',\n",
       "        'GLUTATHIONE[c]'],\n",
       "       ['104.00000741565535', '0.0014693079578588912',\n",
       "        '70781.62672392145', 'GLYCERATE[c]'],\n",
       "       ['13.000066390406573', '0.43592931006232066',\n",
       "        '29.821501079035215', 'GLYCEROL-3P[c]'],\n",
       "       ['14464.000165195239', '0.6776026437456906', '21345.843760644606',\n",
       "        'GLY[c]'],\n",
       "       ['-6379.999641349138', '0.41022335873420746',\n",
       "        '-15552.502083341571', 'GMP[c]'],\n",
       "       ['15243.999808715751', '0.6282337368894507', '24264.853849130697',\n",
       "        'GTP[c]'],\n",
       "       ['6.000000285808192', '0.0013674162939545592',\n",
       "        '4387.837348680576', 'GUANINE[c]'],\n",
       "       ['-0.00014060649891689536', '0.3129014865375164',\n",
       "        '-0.00044936347370160815', 'HISTIDINOL[c]'],\n",
       "       ['3640.00031319702', '0.001497953130020686', '2429982.781334923',\n",
       "        'HIS[c]'],\n",
       "       ['29.000076580780295', '0.22958710781282302',\n",
       "        '126.31404636371559', 'HOMO-CYS[c]'],\n",
       "       ['17.000119447811812', '0.3135936555658175', '54.21066130033298',\n",
       "        'HOMO-SER[c]'],\n",
       "       ['10436.00049572379', '0.001397389329131969', '7468212.529006809',\n",
       "        'ILE[c]'],\n",
       "       ['56.998465953172854', '0.4487621056924944', '127.01265376499938',\n",
       "        'IMP[c]'],\n",
       "       ['7126.000338542124', '0.0013947103300454024',\n",
       "        '5109304.910870022', 'K+[c]'],\n",
       "       ['18914.000898370767', '0.24416697174775615', '77463.38811913689',\n",
       "        'L-ALPHA-ALANINE[c]'],\n",
       "       ['13.000836339097077', '0.27665633140728135', '46.99273019693815',\n",
       "        'L-ARGININO-SUCCINATE[c]'],\n",
       "       ['10551.995057551809', '0.8822843360338386', '11959.857640663253',\n",
       "        'L-ASPARTATE[c]'],\n",
       "       ['54.99945475471577', '0.2996567364087759', '183.54152626052905',\n",
       "        'L-CITRULLINE[c]'],\n",
       "       ['1.9998358584612106', '0.44954771931670234', '4.448550782330505',\n",
       "        'L-ORNITHINE[c]'],\n",
       "       ['15433.000734695208', '0.3122307534388314', '49428.189134862594',\n",
       "        'LEU[c]'],\n",
       "       ['8.000244970227868', '0.3124343132956868', '25.606166255677756',\n",
       "        'LL-DIAMINOPIMELATE[c]'],\n",
       "       ['11933.000567331032', '0.0013968176569645382',\n",
       "        '8542990.925002305', 'LYS[c]'],\n",
       "       ['2.9999990401556715', '0.3119139135671516', '9.618035328551656',\n",
       "        'MALONYL-COA[c]'],\n",
       "       ['146.00255344492325', '0.22878369206486424', '638.168534335607',\n",
       "        'MAL[c]'],\n",
       "       ['7.0006421478328775', '0.6162018139371781', '11.360956734454849',\n",
       "        'METHYLENE-THF[c]'],\n",
       "       ['4703.000216069074', '0.23897197422782868', '19680.132916278188',\n",
       "        'MET[c]'],\n",
       "       ['316.0000085904242', '0.0011383341723503223',\n",
       "        '277598.63163729676', 'MG+2[c]'],\n",
       "       ['25.0000006898177', '0.001069841157349157', '23367.95562414376',\n",
       "        'MN+2[c]'],\n",
       "       ['-25.0000006898177', '0.4563768160187471', '-54.77929599471755',\n",
       "        'MN+2[p]'],\n",
       "       ['5.99999064414078', '0.29997781111714544', '20.00144817977121',\n",
       "        'N-ACETYL-D-GLUCOSAMINE-1-P[c]'],\n",
       "       ['3.0000007971102605', '0.3125017809537357', '9.599947840151334',\n",
       "        'N-ALPHA-ACETYLORNITHINE[c]'],\n",
       "       ['-3672.993760617473', '0.559419134771715', '-6565.727792125542',\n",
       "        'NADH[c]'],\n",
       "       ['15147.991673806722', '0.9481723544807127', '15975.989599594317',\n",
       "        'NADPH[c]'],\n",
       "       ['-15127.991672545988', '0.20020599257950886',\n",
       "        '-75562.13217013536', 'NADP[c]'],\n",
       "       ['3848.9937818598933', '0.5016918686858755', '7672.027437761534',\n",
       "        'NAD[c]'],\n",
       "       ['12.000000332355025', '0.0010438955146763827',\n",
       "        '11495.403671769905', 'NI+2[c]'],\n",
       "       ['-12.000000332355025', '0.4563771814299217',\n",
       "        '-26.29404102710965', 'NI+2[p]'],\n",
       "       ['402.0000169308496', '0.31252447345948314', '1286.299317557178',\n",
       "        'OROTATE[c]'],\n",
       "       ['0.9932286045223009', '0.34148743126206443',\n",
       "        '2.9085363430552644', 'OXALACETIC_ACID[c]'],\n",
       "       ['99.00000472274722', '0.0012662792315648926',\n",
       "        '78181.81192184688', 'OXIDIZED-GLUTATHIONE[c]'],\n",
       "       ['-615834.0163948501', '0.5892741749483107',\n",
       "        '-1045072.1286892798', 'OXYGEN-MOLECULE[p]'],\n",
       "       ['4.0000083920144505', '0.2769575890309989', '14.442674800894313',\n",
       "        'PANTOTHENATE[c]'],\n",
       "       ['6.000095567345852', '0.29961121962673215', '20.02627129525061',\n",
       "        'PHENYL-PYRUVATE[c]'],\n",
       "       ['6156.000292600345', '0.001395344570775041', '4411813.699307985',\n",
       "        'PHE[c]'],\n",
       "       ['7.993204334777602', '0.687464061553326', '11.62708682795279',\n",
       "        'PHOSPHO-ENOL-PYRUVATE[c]'],\n",
       "       ['-55527.999353552725', '0.19999962767705087',\n",
       "        '-277640.51362743776', 'PPI[c]'],\n",
       "       ['-7.776288839522749e-07', '0.3122170324729199',\n",
       "        '-2.490667718519561e-06', 'PROPIONYL-COA[c]'],\n",
       "       ['7.000000331768978', '0.0013370579406039183',\n",
       "        '5235.3754606978655', 'PROTOHEME[c]'],\n",
       "       ['3930907.257671834', '0.8479845259977785', '4635588.430162147',\n",
       "        'PROTON[c]'],\n",
       "       ['6940.000495180185', '0.0013647318756568817',\n",
       "        '5085248.332636605', 'PRO[c]'],\n",
       "       ['17.999854590577655', '0.726701396202856', '24.76925830145655',\n",
       "        'PRPP[c]'],\n",
       "       ['1118.0000496369057', '0.3131928927404914', '3569.6852500521773',\n",
       "        'PUTRESCINE[c]'],\n",
       "       ['7.000000333208336', '0.001366672827964377',\n",
       "        '5121.9283723044755', 'PYRIDOXAL_PHOSPHATE[c]'],\n",
       "       ['40885.98682977611', '0.6406264506238423', '63821.88370455407',\n",
       "        'PYRUVATE[c]'],\n",
       "       ['-149685.03650640906', '0.483524283552419', '-309570.8769923272',\n",
       "        'Pi[c]'],\n",
       "       ['-46494.00220927191', '0.4563766726545734',\n",
       "        '-101876.37755197607', 'Pi[p]'],\n",
       "       ['-4.701855118582898e-06', '0.30630117345490776',\n",
       "        '-1.535043129462605e-05', 'QUINOLINATE[c]'],\n",
       "       ['8.00000050461353', '0.0015106879677839237', '5295.600862135008',\n",
       "        'REDUCED-MENAQUINONE[c]'],\n",
       "       ['1.9999998348811303', '0.3269904047992139', '6.116386920005239',\n",
       "        'RIBOFLAVIN[c]'],\n",
       "       ['33.998751621581896', '0.20056730509826462',\n",
       "        '169.51293035983494', 'RIBOSE-5P[c]'],\n",
       "       ['16.999996573278622', '0.5592354071935369', '30.398641349608543',\n",
       "        'RIBULOSE-5P[c]'],\n",
       "       ['25.00000991364263', '0.9043358592171333', '27.644607541367066',\n",
       "        'S-ADENOSYLMETHIONINE[c]'],\n",
       "       ['9286.999601702602', '0.8128691152342993', '11424.963044666474',\n",
       "        'SER[c]'],\n",
       "       ['1.0001072249906429', '0.31298797671400846',\n",
       "        '3.1953534940560573', 'SHIKIMATE[c]'],\n",
       "       ['8.000000379712704', '0.0013376105681027657',\n",
       "        '5980.814274710546', 'SIROHEME[c]'],\n",
       "       ['227.00001432084684', '0.0015139680459710177',\n",
       "        '149937.1237886697', 'SPERMIDINE[c]'],\n",
       "       ['17.001163040029496', '0.6165801522144353', '27.573321941957033',\n",
       "        'SUC-COA[c]'],\n",
       "       ['34.00034152617445', '0.20021370747944245', '169.82024834471207',\n",
       "        'SUC[c]'],\n",
       "       ['27.000001174595354', '0.3133780227528578', '86.15792817063185',\n",
       "        'TDP[c]'],\n",
       "       ['6.9995771960079765', '0.20030488496413085',\n",
       "        '34.944615540761326', 'THF[c]'],\n",
       "       ['6.000000285503487', '0.0013656493136717436',\n",
       "        '4393.514664003768', 'THIAMINE-PYROPHOSPHATE[c]'],\n",
       "       ['19.99513536822633', '0.45622941954026053', '43.82693117067132',\n",
       "        'THREO-DS-ISO-CITRATE[c]'],\n",
       "       ['10073.000389632196', '0.0012729196567324466',\n",
       "        '7913304.140097372', 'THR[c]'],\n",
       "       ['1710.000107834883', '0.001516460664085206',\n",
       "        '1127625.7593311386', 'TRP[c]'],\n",
       "       ['1354.0000644367642', '0.0013893263346130551',\n",
       "        '974573.0939548268', 'TTP[c]'],\n",
       "       ['5036.000237605033', '0.31262464869225143', '16108.775359432666',\n",
       "        'TYR[c]'],\n",
       "       ['42.00000361990551', '0.0014935948545806532',\n",
       "        '28120.077871919006', 'UDP-GLUCURONATE[c]'],\n",
       "       ['365.0000410034669', '0.451036749207555', '809.2467889695251',\n",
       "        'UDP-N-ACETYL-D-GLUCOSAMINE[c]'],\n",
       "       ['70.00002659745951', '0.2001366721943179', '349.7611198885862',\n",
       "        'UDP[c]'],\n",
       "       ['-6010.000279531237', '0.44653211674953774',\n",
       "        '-13459.278860566883', 'UMP[c]'],\n",
       "       ['2.000000090216186', '0.0012008060740096747',\n",
       "        '1665.5479460874815', 'UNDECAPRENYL-DIPHOSPHATE[c]'],\n",
       "       ['154.00000731843576', '0.0013814365508173893',\n",
       "        '111478.16179274734', 'URIDINE[c]'],\n",
       "       ['11495.99999938743', '0.5510753170617075', '20861.032318927373',\n",
       "        'UTP[c]'],\n",
       "       ['14582.000693069285', '0.0013982587207331308',\n",
       "        '10428685.676584726', 'VAL[c]'],\n",
       "       ['2359302.1154762395', '0.6689110227566033', '3527079.140890042',\n",
       "        'WATER[c]'],\n",
       "       ['12.000642430662992', '0.2358081842636104', '50.89154334544832',\n",
       "        'XYLULOSE-5-PHOSPHATE[c]'],\n",
       "       ['12.00000057169198', '0.0013703760601477125',\n",
       "        '8756.720816035348', 'ZN+2[c]'],\n",
       "       ['-12.00000057169198', '0.45638071899674665',\n",
       "        '-26.293837737210637', 'ZN+2[p]'],\n",
       "       ['4862.000173035323', '0.0013091062953686746',\n",
       "        '3713984.2579903505', 'glycogen-monomer[c]']], dtype='<U47')"
      ]
     },
     "execution_count": 44,
     "metadata": {},
     "output_type": "execute_result"
    }
   ],
   "execution_count": 44
  },
  {
   "metadata": {
    "ExecuteTime": {
     "end_time": "2024-05-23T22:10:52.707413Z",
     "start_time": "2024-05-23T22:10:52.695869Z"
    }
   },
   "cell_type": "code",
   "source": [
    "[dmdt / np.exp(cn) > 0.01]\n",
    "\n",
    "# only show two decimal places"
   ],
   "id": "3c7192d50dc576d1",
   "outputs": [
    {
     "ename": "TypeError",
     "evalue": "list indices must be integers or slices, not list",
     "output_type": "error",
     "traceback": [
      "\u001B[0;31m---------------------------------------------------------------------------\u001B[0m",
      "\u001B[0;31mTypeError\u001B[0m                                 Traceback (most recent call last)",
      "Cell \u001B[0;32mIn[200], line 1\u001B[0m\n\u001B[0;32m----> 1\u001B[0m \u001B[43mprocess_met_names\u001B[49m\u001B[43m[\u001B[49m\u001B[43mnonzero_S_indices\u001B[49m\u001B[43m]\u001B[49m[dmdt \u001B[38;5;241m/\u001B[39m np\u001B[38;5;241m.\u001B[39mexp(cn) \u001B[38;5;241m>\u001B[39m \u001B[38;5;241m0.01\u001B[39m]\n\u001B[1;32m      3\u001B[0m \u001B[38;5;66;03m# only show two decimal places\u001B[39;00m\n",
      "\u001B[0;31mTypeError\u001B[0m: list indices must be integers or slices, not list"
     ]
    }
   ],
   "execution_count": 200
  },
  {
   "metadata": {
    "ExecuteTime": {
     "end_time": "2024-05-24T17:03:51.673645Z",
     "start_time": "2024-05-24T17:03:51.670558Z"
    }
   },
   "cell_type": "code",
   "source": [
    "cell_volume = 3e-15\n",
    "\n",
    "0.001 * (cell_volume * 6.022e23)"
   ],
   "id": "af874876367a4e1e",
   "outputs": [
    {
     "data": {
      "text/plain": [
       "1806600.0"
      ]
     },
     "execution_count": 26,
     "metadata": {},
     "output_type": "execute_result"
    }
   ],
   "execution_count": 26
  },
  {
   "metadata": {},
   "cell_type": "markdown",
   "source": "# Try to simulate concentration changes over time",
   "id": "79b0fd6477ffb550"
  },
  {
   "metadata": {},
   "cell_type": "code",
   "outputs": [],
   "execution_count": null,
   "source": [
    "# don't change external exchange concentrations\n",
    "# for internal exchange concentrations, take out a small amount per timestep\n",
    "\n"
   ],
   "id": "950d1ce1ea544372"
  }
 ],
 "metadata": {
  "kernelspec": {
   "display_name": "Python 3 (ipykernel)",
   "language": "python",
   "name": "python3"
  },
  "language_info": {
   "codemirror_mode": {
    "name": "ipython",
    "version": 3
   },
   "file_extension": ".py",
   "mimetype": "text/x-python",
   "name": "python",
   "nbconvert_exporter": "python",
   "pygments_lexer": "ipython3",
   "version": "3.9.9"
  }
 },
 "nbformat": 4,
 "nbformat_minor": 5
}
