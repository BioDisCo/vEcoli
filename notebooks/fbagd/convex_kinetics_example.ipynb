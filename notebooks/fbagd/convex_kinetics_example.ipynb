{
 "cells": [
  {
   "cell_type": "code",
   "id": "8022bfb4-c69b-4cb7-a24c-fec017cc3661",
   "metadata": {
    "ExecuteTime": {
     "end_time": "2024-05-31T18:24:54.083787Z",
     "start_time": "2024-05-31T18:24:52.761824Z"
    }
   },
   "source": [
    "import numpy as np\n",
    "\n",
    "import seaborn as sns\n",
    "import pandas as pd\n",
    "import os\n",
    "import matplotlib.pyplot as plt\n",
    "import dill\n",
    "import requests\n",
    "import xmltodict\n",
    "import cvxpy as cp\n",
    "import itertools\n",
    "from scipy.special import logsumexp\n",
    "from scipy.sparse import csr_matrix\n",
    "\n",
    "sns.set(style='darkgrid', palette='viridis', context='talk')\n",
    "\n",
    "os.chdir(os.path.expanduser('~/vivarium-ecoli'))\n",
    "\n",
    "from ecoli.processes.metabolism_redux import NetworkFlowModel, FlowResult"
   ],
   "outputs": [],
   "execution_count": 1
  },
  {
   "metadata": {
    "ExecuteTime": {
     "end_time": "2024-05-31T18:24:54.122197Z",
     "start_time": "2024-05-31T18:24:54.085469Z"
    }
   },
   "cell_type": "code",
   "source": [
    "# jupyter autoreload modules\n",
    "\n",
    "%load_ext autoreload"
   ],
   "id": "2df18b60595c68c6",
   "outputs": [],
   "execution_count": 2
  },
  {
   "cell_type": "markdown",
   "source": [
    "# Import simulation output\n",
    "\n",
    "Before running this, run a sim in ecoli/experiments/metabolism_redux_sim.py with -n 2 to generate a simulation output. This is necessary to replicate the simulation environment. Use the default .json config."
   ],
   "metadata": {
    "collapsed": false
   },
   "id": "a143cbbb-3570-4548-bc24-f499c070a880"
  },
  {
   "cell_type": "code",
   "source": [
    "time = '10'\n",
    "date = '2024-04-27'\n",
    "experiment = 'convex_kinetics'\n",
    "entry = f'{experiment}_{time}_{date}'\n",
    "folder = f'out/cofactors/{entry}/'"
   ],
   "metadata": {
    "collapsed": false,
    "ExecuteTime": {
     "end_time": "2024-05-31T18:24:54.126100Z",
     "start_time": "2024-05-31T18:24:54.122903Z"
    }
   },
   "id": "09934d23-df11-4304-9ef4-eb81f0b818c1",
   "outputs": [],
   "execution_count": 3
  },
  {
   "cell_type": "code",
   "source": [
    "output = np.load(folder + '0_output.npy',allow_pickle='TRUE').item()\n",
    "# output = np.load(r\"out/geneRxnVerifData/output_glc.npy\", allow_pickle=True, encoding='ASCII').tolist()\n",
    "output = output['agents']['0']\n",
    "fba = output['listeners']['fba_results']\n",
    "mass = output['listeners']['mass']\n",
    "bulk = pd.DataFrame(output['bulk'])"
   ],
   "metadata": {
    "collapsed": false,
    "ExecuteTime": {
     "end_time": "2024-05-31T18:24:54.234396Z",
     "start_time": "2024-05-31T18:24:54.126823Z"
    }
   },
   "id": "b31e4a2e-0491-4e96-946d-9bca6cd43d79",
   "outputs": [],
   "execution_count": 4
  },
  {
   "cell_type": "code",
   "source": [
    "f = open(folder + 'agent_steps.pkl', 'rb')\n",
    "agent = dill.load(f)\n",
    "f.close()"
   ],
   "metadata": {
    "collapsed": false,
    "ExecuteTime": {
     "end_time": "2024-05-31T18:24:54.964871Z",
     "start_time": "2024-05-31T18:24:54.235088Z"
    }
   },
   "id": "fc9f4494-cab0-43d1-bae7-85572d8e4166",
   "outputs": [],
   "execution_count": 5
  },
  {
   "cell_type": "code",
   "source": [
    "stoichiometry = agent['ecoli-metabolism-redux-classic'].stoichiometry\n",
    "process_rxn_names = agent['ecoli-metabolism-redux-classic'].reaction_names\n",
    "process_met_names = agent['ecoli-metabolism-redux-classic'].metabolite_names\n",
    "exchange_met_names = agent['ecoli-metabolism-redux-classic'].exchange_molecules\n",
    "homeostatic_met_names = agent['ecoli-metabolism-redux-classic'].homeostatic_metabolites\n",
    "\n",
    "\n",
    "# get indices of \n",
    "# maintenance_reaction = agent['ecoli-metabolism-redux-classic'].model.maintenance_reaction\n",
    "# stoichiometry[\"maintenance_reaction\"] = maintenance_reaction\n",
    "\n",
    "bad_rxns = [\"RXN-12440\", \"TRANS-RXN-121\", \"TRANS-RXN-300\", \"TRANS-RXN-8\", \"R15-RXN-MET/CPD-479//CPD-479/MET.25.\",\"DISULFOXRED-RXN[CCO-PERI-BAC]-MONOMER0-4152/MONOMER0-4438//MONOMER0-4438/MONOMER0-4152.71.\"]\n",
    "# generate carbon mistake in parca, efflux/influx proton gen, iron cheating, mass gen\n",
    "# for rxn in bad_rxns:\n",
    "#    stoichiometry.pop(rxn, None)\n"
   ],
   "metadata": {
    "collapsed": false,
    "ExecuteTime": {
     "end_time": "2024-05-31T18:24:54.968229Z",
     "start_time": "2024-05-31T18:24:54.965547Z"
    }
   },
   "id": "27c1e87b-1ff5-4d04-89ac-5aa2bf6dbb9a",
   "outputs": [],
   "execution_count": 6
  },
  {
   "metadata": {
    "ExecuteTime": {
     "end_time": "2024-05-31T18:24:54.973077Z",
     "start_time": "2024-05-31T18:24:54.969064Z"
    }
   },
   "cell_type": "code",
   "source": "homeostatic_met_names",
   "id": "5e07259148019b65",
   "outputs": [
    {
     "data": {
      "text/plain": [
       "array(['2-3-DIHYDROXYBENZOATE[c]', '2-KETOGLUTARATE[c]', '2-PG[c]',\n",
       "       '2K-4CH3-PENTANOATE[c]', '4-AMINO-BUTYRATE[c]',\n",
       "       '4-hydroxybenzoate[c]', 'ACETOACETYL-COA[c]', 'ACETYL-COA[c]',\n",
       "       'ACETYL-P[c]', 'ADENINE[c]', 'ADENOSINE[c]', 'ADP-D-GLUCOSE[c]',\n",
       "       'ADP[c]', 'AMP[c]', 'ANTHRANILATE[c]', 'APS[c]', 'ARG[c]',\n",
       "       'ASN[c]', 'ATP[c]', 'BIOTIN[c]', 'CA+2[c]', 'CAMP[c]',\n",
       "       'CARBAMYUL-L-ASPARTATE[c]', 'CARBON-DIOXIDE[c]', 'CDP[c]',\n",
       "       'CHORISMATE[c]', 'CIS-ACONITATE[c]', 'CIT[c]', 'CL-[c]', 'CMP[c]',\n",
       "       'CO+2[c]', 'CO-A[c]', 'CPD-12115[c]', 'CPD-12261[p]',\n",
       "       'CPD-12575[c]', 'CPD-12819[c]', 'CPD-12824[c]', 'CPD-13469[c]',\n",
       "       'CPD-2961[c]', 'CPD-8260[c]', 'CPD-9956[c]', 'CPD0-939[c]',\n",
       "       'CTP[c]', 'CYS[c]', 'CYTIDINE[c]', 'CYTOSINE[c]', 'D-ALA-D-ALA[c]',\n",
       "       'D-SEDOHEPTULOSE-7-P[c]', 'DAMP[c]', 'DATP[c]', 'DCTP[c]',\n",
       "       'DEOXY-RIBOSE-5P[c]', 'DEOXYADENOSINE[c]', 'DEOXYGUANOSINE[c]',\n",
       "       'DGMP[c]', 'DGTP[c]', 'DI-H-OROTATE[c]',\n",
       "       'DIHYDROXY-ACETONE-PHOSPHATE[c]', 'DPG[c]', 'ENTEROBACTIN[c]',\n",
       "       'ERYTHROSE-4P[c]', 'FAD[c]', 'FE+2[c]', 'FMN[c]',\n",
       "       'FRUCTOSE-16-DIPHOSPHATE[c]', 'FRUCTOSE-6P[c]', 'FUM[c]', 'G3P[c]',\n",
       "       'GDP[c]', 'GLC-6-P[c]', 'GLN[c]', 'GLT[c]', 'GLUCONATE[c]',\n",
       "       'GLUTATHIONE[c]', 'GLYCERATE[c]', 'GLYCEROL-3P[c]', 'GLY[c]',\n",
       "       'GMP[c]', 'GTP[c]', 'GUANINE[c]', 'GUANOSINE[c]', 'HISTIDINOL[c]',\n",
       "       'HIS[c]', 'HOMO-CYS[c]', 'HOMO-SER[c]', 'HYPOXANTHINE[c]',\n",
       "       'ILE[c]', 'IMP[c]', 'INOSINE[c]', 'K+[c]', 'L-ALPHA-ALANINE[c]',\n",
       "       'L-ARGININO-SUCCINATE[c]', 'L-ASPARTATE[c]', 'L-CITRULLINE[c]',\n",
       "       'L-ORNITHINE[c]', 'L-SELENOCYSTEINE[c]', 'LEU[c]',\n",
       "       'LL-DIAMINOPIMELATE[c]', 'LYS[c]', 'MALONYL-COA[c]', 'MAL[c]',\n",
       "       'METHYLENE-THF[c]', 'MET[c]', 'MG+2[c]', 'MN+2[c]',\n",
       "       'N-ACETYL-D-GLUCOSAMINE-1-P[c]', 'N-ALPHA-ACETYLORNITHINE[c]',\n",
       "       'NADH[c]', 'NADPH[c]', 'NADP[c]', 'NAD[c]', 'NI+2[c]',\n",
       "       'OROTATE[c]', 'OXALACETIC_ACID[c]', 'OXIDIZED-GLUTATHIONE[c]',\n",
       "       'PANTOTHENATE[c]', 'PHENYL-PYRUVATE[c]', 'PHE[c]',\n",
       "       'PHOSPHO-ENOL-PYRUVATE[c]', 'PPI[c]', 'PROPIONYL-COA[c]',\n",
       "       'PROTOHEME[c]', 'PROTON[c]', 'PRO[c]', 'PRPP[c]', 'PUTRESCINE[c]',\n",
       "       'PYRIDOXAL_PHOSPHATE[c]', 'PYRUVATE[c]', 'Pi[c]', 'QUINOLINATE[c]',\n",
       "       'REDUCED-MENAQUINONE[c]', 'RIBOFLAVIN[c]', 'RIBOSE-1P[c]',\n",
       "       'RIBOSE-5P[c]', 'RIBULOSE-5P[c]', 'S-ADENOSYLMETHIONINE[c]',\n",
       "       'SER[c]', 'SHIKIMATE[c]', 'SIROHEME[c]', 'SPERMIDINE[c]',\n",
       "       'SUC-COA[c]', 'SUC[c]', 'TDP[c]', 'THF[c]',\n",
       "       'THIAMINE-PYROPHOSPHATE[c]', 'THREO-DS-ISO-CITRATE[c]', 'THR[c]',\n",
       "       'TRP[c]', 'TTP[c]', 'TYR[c]', 'UDP-GLUCURONATE[c]',\n",
       "       'UDP-N-ACETYL-D-GLUCOSAMINE[c]', 'UDP[c]', 'UMP[c]',\n",
       "       'UNDECAPRENYL-DIPHOSPHATE[c]', 'URIDINE[c]', 'UTP[c]', 'VAL[c]',\n",
       "       'WATER[c]', 'XYLULOSE-5-PHOSPHATE[c]', 'ZN+2[c]',\n",
       "       'glycogen-monomer[c]', 'NI+2[p]', 'CO+2[p]', 'FE+2[p]', 'ZN+2[p]',\n",
       "       'MN+2[p]', 'NA+[p]', 'OXYGEN-MOLECULE[p]', 'FE+3[p]', 'CA+2[p]',\n",
       "       'Pi[p]'], dtype='<U30')"
      ]
     },
     "execution_count": 7,
     "metadata": {},
     "output_type": "execute_result"
    }
   ],
   "execution_count": 7
  },
  {
   "cell_type": "markdown",
   "source": [
    "Pandas automatically understands dicts of dicts as matrices."
   ],
   "metadata": {
    "collapsed": false
   },
   "id": "cc853a7f-8d04-42f7-97d1-7ec846a4ef41"
  },
  {
   "cell_type": "markdown",
   "source": [
    "# Test changing nutrient composition"
   ],
   "metadata": {
    "collapsed": false
   },
   "id": "31b1bb0c-c85e-442c-8482-5d24d54fba82"
  },
  {
   "cell_type": "code",
   "source": [
    "velocities = fba[\"estimated_fluxes\"][4]\n",
    "# use reaction names to make a dict\n",
    "d_velocities = {k: v for k, v in zip(process_rxn_names, velocities)}"
   ],
   "metadata": {
    "collapsed": false,
    "ExecuteTime": {
     "end_time": "2024-05-31T18:24:54.976542Z",
     "start_time": "2024-05-31T18:24:54.973953Z"
    }
   },
   "id": "f05b6d54fe11d842",
   "outputs": [],
   "execution_count": 8
  },
  {
   "cell_type": "markdown",
   "source": [
    "# Filter S matrix to only include nonzero fluxes."
   ],
   "metadata": {
    "collapsed": false
   },
   "id": "d4033fc02bf2dda9"
  },
  {
   "cell_type": "code",
   "source": [
    "# only include nonzero fluxes in solution.velocities\n",
    "nonzero_velocities = {k: v for k, v in d_velocities.items() if v != 0}\n",
    "nonzero_velocities\n",
    "\n",
    "# reaction indices with nonzero fluxes\n",
    "nonzero_rxn_indices = [process_rxn_names.index(k) for k in nonzero_velocities.keys()]\n",
    "\n"
   ],
   "metadata": {
    "collapsed": false,
    "ExecuteTime": {
     "end_time": "2024-05-31T18:24:54.987488Z",
     "start_time": "2024-05-31T18:24:54.977251Z"
    }
   },
   "id": "4444a0cef2241182",
   "outputs": [],
   "execution_count": 9
  },
  {
   "cell_type": "code",
   "source": [
    "# Use nonzero_velocities to filter S matrix\n",
    "S_matrix_mask = stoichiometry[:, nonzero_rxn_indices] != 0\n",
    "\n",
    "# remove rows of S_used that sum to zero.\n",
    "nonzero_met_indices = np.where(S_matrix_mask.sum(axis=1) != 0)[0]\n",
    "S_matrix = stoichiometry[:, nonzero_rxn_indices][nonzero_met_indices, :]"
   ],
   "metadata": {
    "collapsed": false,
    "ExecuteTime": {
     "end_time": "2024-05-31T18:24:55.003416Z",
     "start_time": "2024-05-31T18:24:54.988242Z"
    }
   },
   "id": "5a473c3838843532",
   "outputs": [],
   "execution_count": 10
  },
  {
   "metadata": {
    "ExecuteTime": {
     "end_time": "2024-05-31T18:24:55.008344Z",
     "start_time": "2024-05-31T18:24:55.005591Z"
    }
   },
   "cell_type": "code",
   "source": "S_matrix.shape",
   "id": "18260ddf7543f839",
   "outputs": [
    {
     "data": {
      "text/plain": [
       "(466, 438)"
      ]
     },
     "execution_count": 11,
     "metadata": {},
     "output_type": "execute_result"
    }
   ],
   "execution_count": 11
  },
  {
   "metadata": {
    "ExecuteTime": {
     "end_time": "2024-05-31T18:24:55.011392Z",
     "start_time": "2024-05-31T18:24:55.009056Z"
    }
   },
   "cell_type": "code",
   "source": [
    "# sort nonzero_velocities to be in same order as S_matrix columns.\n",
    "vE_dict = nonzero_velocities\n",
    "vE = np.array([np.array(list(vE_dict.values()))])\n",
    "\n",
    "dmdt = S_matrix @ vE.T"
   ],
   "id": "70fd978032011eaa",
   "outputs": [],
   "execution_count": 12
  },
  {
   "metadata": {
    "ExecuteTime": {
     "end_time": "2024-05-31T18:24:55.014113Z",
     "start_time": "2024-05-31T18:24:55.012095Z"
    }
   },
   "cell_type": "code",
   "source": [
    "abs_dmdt = np.abs(dmdt)# np.max(np.array([dmdt, np.zeros(dmdt.shape)]), axis=0)\n",
    "dmdt_mask = (abs_dmdt != 0).flatten()\n",
    "lD = np.log(abs_dmdt[dmdt_mask]).flatten()"
   ],
   "id": "cb304bae244600c3",
   "outputs": [],
   "execution_count": 13
  },
  {
   "metadata": {},
   "cell_type": "markdown",
   "source": "# Get exchange and homeostasis indices for compressed matrix",
   "id": "c9893f4046381c5a"
  },
  {
   "metadata": {
    "ExecuteTime": {
     "end_time": "2024-05-31T18:24:55.143892Z",
     "start_time": "2024-05-31T18:24:55.136271Z"
    }
   },
   "cell_type": "code",
   "source": [
    "rxn_names = np.array(process_rxn_names)[nonzero_rxn_indices]\n",
    "met_names = np.array(process_met_names)[nonzero_met_indices]\n",
    "\n",
    "exchange_met_indices = np.array([i for i, met in enumerate(met_names) if met in exchange_met_names])\n",
    "homeostatic_met_indices = np.array([i for i, met in enumerate(met_names) if met in homeostatic_met_names])\n",
    "intermediate_met_indices = np.array([i for i, met in enumerate(met_names) if met not in exchange_met_names and met not in homeostatic_met_names])"
   ],
   "id": "a79ce206d95c1c10",
   "outputs": [],
   "execution_count": 14
  },
  {
   "cell_type": "markdown",
   "source": [
    "# First test. Single flux set. No eQuilibrator or regulation."
   ],
   "metadata": {
    "collapsed": false
   },
   "id": "a8db107005029e18"
  },
  {
   "cell_type": "code",
   "source": [
    "Sd = pd.DataFrame(S_matrix, columns=[k for k in nonzero_velocities.keys()])\n",
    "# Sd = pd.DataFrame(stoich_dict, dtype=np.int8).fillna(0).astype(np.int8)\n",
    "# Sd = Sd.iloc[0:7, 0:2]\n",
    "Sr = None\n",
    "\n",
    "Sd.shape"
   ],
   "metadata": {
    "collapsed": false,
    "ExecuteTime": {
     "end_time": "2024-05-31T18:24:55.467726Z",
     "start_time": "2024-05-31T18:24:55.464492Z"
    }
   },
   "id": "a1d4e1bd56a10a69",
   "outputs": [
    {
     "data": {
      "text/plain": [
       "(466, 438)"
      ]
     },
     "execution_count": 15,
     "metadata": {},
     "output_type": "execute_result"
    }
   ],
   "execution_count": 15
  },
  {
   "cell_type": "code",
   "source": [
    "from convex_kinetics_new import ConvexKineticsNew"
   ],
   "metadata": {
    "collapsed": false,
    "ExecuteTime": {
     "end_time": "2024-05-31T18:24:55.659760Z",
     "start_time": "2024-05-31T18:24:55.654687Z"
    }
   },
   "id": "47401ee1ac3e84fb",
   "outputs": [],
   "execution_count": 16
  },
  {
   "cell_type": "code",
   "source": [
    "E = ConvexKineticsNew()\n",
    "y_f, y_r, y_s, y_p, y_i, y_a, cd_f, cfwd, crev, c, Km_s, Km_p, Km_i, Km_a, S_s, S_p, S_i, S_a, \\\n",
    "            met_s_nz, met_p_nz, met_i_nz, met_a_nz, rxn_s_nz, rxn_p_nz, rxn_i_nz, rxn_a_nz, \\\n",
    "            n_rxn, n_met, n_flux_set, S_s_nz, S_p_nz, S_s_mol, S_p_mol, S_b, S = E.set_up_variables(S_matrix=Sd, R_matrix=Sr, flow_data=vE, dmdt=dmdt)"
   ],
   "metadata": {
    "collapsed": false,
    "ExecuteTime": {
     "end_time": "2024-05-31T18:24:55.854384Z",
     "start_time": "2024-05-31T18:24:55.848328Z"
    }
   },
   "id": "616ccb3db842e3a3",
   "outputs": [
    {
     "name": "stdout",
     "output_type": "stream",
     "text": [
      "Number of metabolites: 466, number of reactions: 438, number of flux sets: 1\n",
      "Number of Km_s: 927, number of Km_p: 1039, number of Km_i: None, number of Km_a: None\n",
      "Number of concentrations: (466, 1), number of y_f: (1, 927), number of y_r: (1, 1039)\n"
     ]
    }
   ],
   "execution_count": 17
  },
  {
   "cell_type": "code",
   "source": [
    "C_alpha, C_beta, d_alpha, d_beta = E.construct_binding_matrix(n_rxn, S_s, S_p, S_i, S_a, Sr, met_s_nz, met_p_nz, met_i_nz, met_a_nz, rxn_s_nz, rxn_p_nz, rxn_i_nz, rxn_a_nz)"
   ],
   "metadata": {
    "collapsed": false,
    "ExecuteTime": {
     "end_time": "2024-05-31T18:24:56.164976Z",
     "start_time": "2024-05-31T18:24:56.101388Z"
    }
   },
   "id": "9a91362b271911d9",
   "outputs": [
    {
     "name": "stdout",
     "output_type": "stream",
     "text": [
      "Shape of C_alpha: (1708, 927), shape of C_beta: (2294, 1039)\n",
      "Shape of d_alpha: (1708,), shape of d_beta: (2294,)\n"
     ]
    }
   ],
   "execution_count": 18
  },
  {
   "cell_type": "code",
   "source": "LSE_expr, denom_expr = E.construct_kinetic_objective(vE, n_flux_set, n_rxn, C_alpha, C_beta, d_alpha, d_beta, S_s_nz, S_p_nz, S_b, y_f, y_r, y_s, y_p, cfwd, crev)",
   "metadata": {
    "collapsed": false,
    "ExecuteTime": {
     "end_time": "2024-05-31T18:24:56.630460Z",
     "start_time": "2024-05-31T18:24:56.438585Z"
    }
   },
   "id": "f432cea7a599f271",
   "outputs": [],
   "execution_count": 19
  },
  {
   "cell_type": "code",
   "source": "loss = E.create_objective_function(cfwd, crev, c, Km_s, Km_p, Km_i, Km_a, y_s, y_p, denom_expr, dmdt)",
   "metadata": {
    "collapsed": false,
    "ExecuteTime": {
     "end_time": "2024-05-31T18:24:56.642938Z",
     "start_time": "2024-05-31T18:24:56.631833Z"
    }
   },
   "id": "1879d511ad802b67",
   "outputs": [],
   "execution_count": 20
  },
  {
   "cell_type": "code",
   "source": "constr = E.set_parameter_bounds(cfwd, crev, c, Km_s, Km_p, Km_i, Km_a, LSE_expr, cd_f, lower_bound=-12, upper_bound=18)",
   "metadata": {
    "collapsed": false,
    "ExecuteTime": {
     "end_time": "2024-05-31T18:24:56.920479Z",
     "start_time": "2024-05-31T18:24:56.791960Z"
    }
   },
   "id": "e78fd83188178f7a",
   "outputs": [],
   "execution_count": 21
  },
  {
   "cell_type": "code",
   "source": [
    "problem = E.set_up_problem(loss, constr)\n"
   ],
   "metadata": {
    "collapsed": false,
    "ExecuteTime": {
     "end_time": "2024-05-31T18:24:57.005379Z",
     "start_time": "2024-05-31T18:24:56.976972Z"
    }
   },
   "id": "f1cba2d8a56c35d9",
   "outputs": [],
   "execution_count": 22
  },
  {
   "cell_type": "code",
   "source": [
    "solution = E.solve(problem)\n"
   ],
   "metadata": {
    "collapsed": false,
    "ExecuteTime": {
     "end_time": "2024-05-31T18:25:12.644681Z",
     "start_time": "2024-05-31T18:24:57.330375Z"
    }
   },
   "id": "c87be4abc4171e7b",
   "outputs": [
    {
     "name": "stderr",
     "output_type": "stream",
     "text": [
      "/Users/cyrus/.pyenv/versions/viv-10/lib/python3.10/site-packages/cvxpy/problems/problem.py:158: UserWarning: Objective contains too many subexpressions. Consider vectorizing your CVXPY code to speed up compilation.\n",
      "  warnings.warn(\"Objective contains too many subexpressions. \"\n"
     ]
    }
   ],
   "execution_count": 23
  },
  {
   "cell_type": "code",
   "source": [
    "solution.value"
   ],
   "metadata": {
    "collapsed": false,
    "ExecuteTime": {
     "end_time": "2024-05-31T18:25:12.649687Z",
     "start_time": "2024-05-31T18:25:12.646006Z"
    }
   },
   "id": "a75b5fa2a54490d1",
   "outputs": [
    {
     "data": {
      "text/plain": [
       "3109.415318504752"
      ]
     },
     "execution_count": 24,
     "metadata": {},
     "output_type": "execute_result"
    }
   ],
   "execution_count": 24
  },
  {
   "metadata": {
    "ExecuteTime": {
     "end_time": "2024-05-31T18:25:13.252267Z",
     "start_time": "2024-05-31T18:25:12.650999Z"
    }
   },
   "cell_type": "code",
   "source": [
    "plt.figure(figsize=(8,2))\n",
    "\n",
    "fit = E.evaluate_equality_fit(LSE_expr)\n",
    "\n",
    "plt.plot(fit)\n",
    "\n",
    "plt.ylim(-0.000001,0.000001)"
   ],
   "id": "eb54874cb7f45ac8",
   "outputs": [
    {
     "data": {
      "text/plain": [
       "(-1e-06, 1e-06)"
      ]
     },
     "execution_count": 25,
     "metadata": {},
     "output_type": "execute_result"
    },
    {
     "data": {
      "text/plain": [
       "<Figure size 800x200 with 1 Axes>"
      ],
      "image/png": "[encoded data removed]"
     },
     "metadata": {},
     "output_type": "display_data"
    }
   ],
   "execution_count": 25
  },
  {
   "metadata": {
    "ExecuteTime": {
     "end_time": "2024-05-31T18:25:13.798112Z",
     "start_time": "2024-05-31T18:25:13.262999Z"
    }
   },
   "cell_type": "code",
   "source": [
    "equality_constr = []\n",
    "\n",
    "for v in LSE_expr:\n",
    "    #print(v.value)\n",
    "    equality_constr.append(logsumexp(v.value))\n",
    "    \n",
    "plt.plot(equality_constr)\n",
    "\n",
    "plt.ylim(-0.01,0.01)"
   ],
   "id": "e56e3906d703ac82",
   "outputs": [
    {
     "data": {
      "text/plain": [
       "(-0.01, 0.01)"
      ]
     },
     "execution_count": 26,
     "metadata": {},
     "output_type": "execute_result"
    },
    {
     "data": {
      "text/plain": [
       "<Figure size 640x480 with 1 Axes>"
      ],
      "image/png": "[encoded data removed]"
     },
     "metadata": {},
     "output_type": "display_data"
    }
   ],
   "execution_count": 26
  },
  {
   "metadata": {},
   "cell_type": "markdown",
   "source": "# Solution-based recon",
   "id": "8e13497e4e0cac89"
  },
  {
   "metadata": {
    "ExecuteTime": {
     "end_time": "2024-05-31T18:25:14.185774Z",
     "start_time": "2024-05-31T18:25:13.805738Z"
    }
   },
   "cell_type": "code",
   "source": [
    "reconstructed_vE = E.evaluate_flux_reconstruction(vE, n_flux_set, n_rxn, S_b, S_s_nz, S_p_nz, d_alpha, d_beta, \n",
    "                                                  C_alpha, C_beta, y_f, y_r, y_s, y_p, cfwd, crev)"
   ],
   "id": "a61754a3f851dd29",
   "outputs": [],
   "execution_count": 27
  },
  {
   "metadata": {
    "ExecuteTime": {
     "end_time": "2024-05-31T18:25:20.395064Z",
     "start_time": "2024-05-31T18:25:20.389492Z"
    }
   },
   "cell_type": "code",
   "source": "reconstructed_vE - vE",
   "id": "bd8ef8ddaaf90398",
   "outputs": [
    {
     "data": {
      "text/plain": [
       "array([[1.26808915e-03, 2.46547416e-03, 1.39742898e-03, 4.16770732e-05,\n",
       "        7.74020267e-03, 3.60096659e-06, 1.65238369e-06, 1.65302121e-06,\n",
       "        3.60139010e-06, 2.68749845e-04, 3.06360375e-03, 2.15942783e-03,\n",
       "        4.03953364e-06, 3.05492195e-02, 4.73695485e-05, 4.89125380e-02,\n",
       "        5.50330458e-05, 8.30674258e-07, 2.01728556e-02, 6.43422942e-02,\n",
       "        3.71800541e-03, 4.15972852e-05, 1.61276465e-03, 1.56062694e-03,\n",
       "        1.25656924e-03, 1.05817930e-03, 1.25758998e-03, 1.24895226e-06,\n",
       "        2.52417423e-03, 2.52455233e-03, 2.12958059e-03, 2.52515288e-03,\n",
       "        3.06505467e-03, 2.33456442e-04, 1.06444768e-03, 2.21632237e-04,\n",
       "        4.49429448e-02, 1.27245039e-06, 1.00749456e-04, 1.09526834e-04,\n",
       "        2.38791404e-02, 1.99061935e-03, 2.73570288e-05, 3.30146512e-03,\n",
       "        1.37662453e-05, 9.74655342e-03, 5.58667572e-03, 1.36280684e-03,\n",
       "        2.79108478e-07, 1.99040816e-03, 1.98453817e-03, 1.98847055e-03,\n",
       "        1.38874762e-07, 1.70268781e-03, 2.64655875e-06, 8.20910141e-06,\n",
       "        5.14302178e-05, 1.20252102e-02, 1.38224748e-07, 5.27000802e-03,\n",
       "        1.70452250e-03, 1.88500183e-06, 2.29387069e-03, 3.78613717e-03,\n",
       "        6.28193352e-03, 2.66166828e-03, 1.51681819e-06, 1.58963963e-03,\n",
       "        2.82063408e-02, 1.29335532e-03, 4.33083170e-03, 3.05329147e-03,\n",
       "        1.01324033e-04, 1.75428092e-02, 2.59467677e-02, 5.07724983e-03,\n",
       "        6.45568747e-04, 2.17382402e-03, 3.47836558e-03, 2.72150394e-05,\n",
       "        6.24621390e-04, 6.16194031e-01, 2.63575657e-02, 1.76493375e-03,\n",
       "        4.34526609e-03, 2.46458535e-03, 2.71748549e-05, 4.14368369e-07,\n",
       "        1.09554808e-03, 1.84070264e-03, 1.56569641e-03, 1.00209306e-03,\n",
       "        1.44409574e-06, 5.52817271e-02, 9.40489742e-05, 1.12602554e-03,\n",
       "        1.28097064e-04, 3.23073951e-03, 2.46360954e-06, 1.80636630e-07,\n",
       "        5.07550004e-05, 1.65760100e-05, 1.94800755e-04, 3.54683060e-05,\n",
       "        4.36071493e-07, 7.71785258e-06, 1.65011079e-06, 2.01842303e-03,\n",
       "        1.06304771e-03, 2.74458747e-03, 5.99439804e-06, 2.48203419e-06,\n",
       "        2.63053500e-03, 2.54081354e-03, 4.97912580e-03, 1.86123202e-06,\n",
       "        6.91986465e-06, 4.91722165e-06, 2.30391574e-04, 2.34629076e-04,\n",
       "        3.14813948e-04, 5.43084687e-05, 5.80927784e-05, 2.52307688e-03,\n",
       "        2.52427466e-03, 3.88743995e-06, 3.28179909e-07, 2.39526369e-07,\n",
       "        2.34860407e-06, 1.37947647e-02, 3.54272971e-06, 2.44622255e-07,\n",
       "        1.38200942e-02, 4.49572847e-06, 1.56322959e-01, 4.32087970e-03,\n",
       "        4.91051889e-03, 3.58781492e-05, 1.25180176e-03, 3.43578357e-04,\n",
       "        1.42623429e-03, 7.61560733e-03, 2.19782184e-04, 3.85113989e-05,\n",
       "        1.80409413e-02, 4.45492087e-04, 4.45516655e-04, 4.05126166e-06,\n",
       "        4.10370122e-02, 1.16022093e-03, 3.78402270e-05, 2.12344159e-03,\n",
       "        1.31842837e-03, 1.22163480e-03, 2.27528052e-06, 1.24484851e-06,\n",
       "        1.10319737e-02, 7.71248099e-03, 7.26139688e-07, 4.07030744e-03,\n",
       "        4.49190472e-06, 1.14849631e-05, 3.28476823e-06, 6.92078119e-06,\n",
       "        2.69088342e-03, 1.83612015e-06, 3.34820915e-06, 3.32248612e-06,\n",
       "        2.52932046e-06, 6.12199192e-04, 4.98934569e-04, 6.12424970e-04,\n",
       "        8.37674993e-04, 8.43115319e-04, 1.26824313e-03, 8.34011877e-04,\n",
       "        3.91700457e-04, 4.58744906e-04, 3.02270285e-03, 2.83553204e-03,\n",
       "        2.36924593e-02, 5.79395374e-06, 4.84217325e-06, 1.03504756e-02,\n",
       "        2.38655077e-02, 6.00968306e-05, 9.21862853e-05, 1.41708169e-04,\n",
       "        6.25221101e-05, 6.25376589e-05, 4.63545829e-05, 6.20136574e-05,\n",
       "        6.15617851e-05, 1.25465357e-05, 9.84866954e-03, 2.87603140e-02,\n",
       "        1.11158721e-02, 2.64968954e-02, 7.04855777e-03, 6.91413604e-03,\n",
       "        3.90684231e-05, 4.63782665e-05, 3.61717010e-03, 2.68479714e-03,\n",
       "        4.70204468e-06, 8.43997209e-05, 3.09020212e-01, 3.09561849e-04,\n",
       "        2.71745162e-06, 5.26231157e-05, 1.12234628e-03, 4.94628521e-06,\n",
       "        2.02672756e-06, 2.30935816e-06, 2.82080558e-06, 2.38483786e-03,\n",
       "        2.28940960e-04, 2.52742968e-03, 2.50807901e-03, 2.65178105e-05,\n",
       "        6.59222232e-05, 4.11371207e-05, 6.76511232e-05, 3.54419485e-05,\n",
       "        2.39226592e-06, 2.97162542e-02, 1.54512760e-02, 1.96146047e-04,\n",
       "        9.21775067e-02, 2.65088616e-04, 5.22987784e-04, 7.05220461e-04,\n",
       "        5.57634917e-04, 1.24407284e-06, 1.14389345e-05, 1.58033665e-04,\n",
       "        1.39930833e-03, 1.12231220e-03, 3.31449569e-04, 1.78439153e-05,\n",
       "        1.22991878e-06, 5.89884785e-03, 8.97873975e-03, 2.95358587e-04,\n",
       "        1.13690215e-02, 1.81147889e-07, 1.01187743e-04, 5.51490521e-06,\n",
       "        1.07193622e-06, 1.82237756e-03, 9.27903713e-05, 1.03336257e-01,\n",
       "        4.51224829e-04, 4.49465678e-05, 6.54697664e-05, 1.75172022e-03,\n",
       "        6.64229211e-04, 8.51561322e-04, 1.04021599e-03, 5.41162850e-04,\n",
       "        2.64082806e-03, 3.47061572e-06, 3.99733122e-06, 5.18138691e-06,\n",
       "        5.10891661e-06, 2.21584615e-05, 3.35574123e-06, 6.04856483e-06,\n",
       "        2.71862714e-03, 5.64047062e-06, 3.28677464e-07, 1.81102206e-07,\n",
       "        2.73611900e-07, 1.39669983e-07, 2.73600031e-07, 3.28676495e-07,\n",
       "        2.73678532e-07, 1.39612957e-07, 2.73608277e-07, 2.39439610e-07,\n",
       "        3.28675954e-07, 2.75413058e-03, 1.82653300e-03, 3.25611190e-03,\n",
       "        1.84535743e-07, 2.03787993e-06, 5.68961166e-03, 2.27108669e-03,\n",
       "        1.63256166e-06, 1.06047675e-02, 1.92212352e-06, 3.66302544e-03,\n",
       "        2.66767776e-05, 1.69745121e-02, 2.97463998e-03, 4.63145083e-06,\n",
       "        6.94061733e-05, 8.21862341e-06, 5.07680548e-05, 7.11969056e-04,\n",
       "        8.27596235e-04, 3.62066360e-04, 6.18976340e-05, 1.28626483e-06,\n",
       "        2.06786838e-01, 5.08208203e-05, 5.08105438e-05, 5.07005061e-05,\n",
       "        4.49643336e-04, 3.82741959e-06, 3.09893777e-04, 1.91142550e-03,\n",
       "        1.14668261e-03, 4.43802974e-06, 4.27093720e-07, 1.96273884e-06,\n",
       "        3.52873491e-06, 3.06458375e-03, 2.52503401e-03, 1.25711046e-03,\n",
       "        3.06476713e-03, 3.06456065e-03, 2.52463308e-03, 1.25671698e-03,\n",
       "        2.95754425e-03, 2.73078129e-05, 2.46119838e-03, 1.09122397e-03,\n",
       "        2.58456094e-03, 1.25725457e-03, 2.52372393e-03, 2.52418426e-03,\n",
       "        2.52673262e-03, 2.19685708e-03, 2.13000938e-03, 4.52268909e-05,\n",
       "        1.08984088e-06, 2.64659652e-06, 1.64478386e-06, 2.30957637e-06,\n",
       "        5.76461626e-07, 2.48652666e-06, 4.35788793e-05, 1.67426577e-05,\n",
       "        3.29932429e-03, 2.63577424e-05, 1.01118594e-05, 2.32902459e-02,\n",
       "        1.00226400e-04, 2.45751082e-04, 2.84250174e-04, 1.83112783e-04,\n",
       "        1.10799589e-02, 6.20773629e-05, 1.15632764e-02, 6.20561567e-05,\n",
       "        1.14267990e-05, 1.14408933e-05, 1.14228912e-05, 6.20376034e-05,\n",
       "        6.19833908e-05, 6.20027311e-05, 6.19987766e-05, 6.20321287e-05,\n",
       "        3.59822820e-07, 1.85383932e-02, 2.76390812e-05, 1.09749112e-05,\n",
       "        2.64212883e-06, 1.80995281e-05, 8.90697187e-07, 1.41882714e-06,\n",
       "        7.11801143e-04, 2.66373640e-04, 3.88069644e-02, 5.14600713e-02,\n",
       "        1.06486455e-06, 7.73345388e-03, 1.70999394e-03, 3.25729924e-04,\n",
       "        2.95940814e-04, 9.53468192e-07, 8.36616015e-06, 9.82864657e-05,\n",
       "        7.71098916e-03, 3.92035111e-05, 1.26351077e-03, 3.22965849e-03,\n",
       "        2.91586738e-03, 1.40449725e-06, 5.22746745e-05, 1.28210084e-03,\n",
       "        9.93890770e-03, 1.98063481e-03, 2.49908174e-02, 1.98370216e-03,\n",
       "        1.93001386e-03, 2.55102627e-03, 2.97449203e-03, 6.20268261e-05,\n",
       "        1.06979219e-06, 1.96061403e-06, 1.90502226e-03, 1.39417640e-03,\n",
       "        2.33632540e-04, 7.73498695e-03, 3.01408419e-05, 1.04458981e-07,\n",
       "        1.20819918e-06, 1.82746553e-05, 9.96358644e-02, 4.86724984e-02,\n",
       "        5.60491819e-05, 1.23024828e-03, 2.12346986e-06, 1.04454538e-07,\n",
       "        2.17735681e-05, 5.09697351e-02, 6.10022204e-07, 5.70308461e-02,\n",
       "        6.10841828e-07, 2.99779011e-03, 5.70039707e-04, 1.28689112e-03,\n",
       "        1.58867482e-03, 2.63588313e-02, 3.92199399e-04, 9.18626205e-05,\n",
       "        2.56821054e-05, 1.23565228e-04, 3.56919272e-03, 9.21026556e-05,\n",
       "        1.36860263e-05, 2.34470941e-04, 1.31953387e-06, 2.03087546e-06,\n",
       "        6.00672727e-04, 3.31373464e-01]])"
      ]
     },
     "execution_count": 28,
     "metadata": {},
     "output_type": "execute_result"
    }
   ],
   "execution_count": 28
  },
  {
   "metadata": {
    "ExecuteTime": {
     "end_time": "2024-05-31T18:13:19.112277Z",
     "start_time": "2024-05-31T18:13:18.408329Z"
    }
   },
   "cell_type": "code",
   "source": [
    "reconstructed_vE = np.zeros(vE.shape)\n",
    "\n",
    "for j in range(n_flux_set):\n",
    "    sat_expr = []\n",
    "    fwd_sat = np.zeros(n_rxn)\n",
    "    back_sat = np.zeros(n_rxn)\n",
    "    sat = np.zeros(n_rxn)\n",
    "\n",
    "    for i in range(n_rxn):\n",
    "        # sum terms are separate in logsumexp. one per saturation term (row in C_alpha, C_beta)\n",
    "        n_term_s = np.sum(d_alpha == i)\n",
    "        n_term_p = np.sum(d_beta == i)\n",
    "        n_term = n_term_s + n_term_p\n",
    "\n",
    "\n",
    "        Km_s_idx = np.nonzero(S_s_nz[1, :] == i)\n",
    "        S_s_idx = S_s_nz[0, S_s_nz[1, :] == i] # negate -1 entries\n",
    "\n",
    "        Km_p_idx = np.nonzero(S_p_nz[1, :] == i)\n",
    "        S_p_idx = S_p_nz[0, S_p_nz[1, :] == i]\n",
    "\n",
    "        #S_s_idx = S_s_nz[0, S_s_nz[1, :] == i]\n",
    "\n",
    "        sat_expr.append(           [ (C_alpha @ y_f.value[j, :].flatten())[d_alpha == i] ,\n",
    "                                     (C_beta @ y_r.value[j, :].flatten())[d_beta == i],\n",
    "                                     0,\n",
    "                                     #-1*np.ones(n_lse_terms - n_term + 1)\n",
    "                                   ]\n",
    "                       )\n",
    "        fwd_sat[i] = (np.exp(-S_b.T[i, S_s_idx] @ y_s.value[j, Km_s_idx].flatten())) # + cfwd.value[i]\n",
    "        back_sat[i] = (np.exp(S_b.T[i, S_p_idx] @ y_p.value[j, Km_p_idx].flatten())) # + cfwd.value[i]\n",
    "\n",
    "\n",
    "\n",
    "    for i, rxn in enumerate(sat_expr):\n",
    "        s = 0\n",
    "\n",
    "        for term in rxn:\n",
    "            s += np.sum(np.exp(term))\n",
    "\n",
    "        sat[i] = (s)\n",
    "\n",
    "    reconstr = np.exp(cfwd.value) * fwd_sat/sat - np.exp(crev.value) * back_sat/sat\n",
    "    reconstructed_vE[j, :] = reconstr"
   ],
   "id": "72ce6feef4e8f50c",
   "outputs": [
    {
     "name": "stdout",
     "output_type": "stream",
     "text": [
      "[4.99500127e+03 7.56700247e+03 8.42900140e+03 1.57000042e+02\n",
      " 2.58790077e+04 7.00000360e+00 7.00000165e+00 7.00000165e+00\n",
      " 7.00000360e+00 1.17800027e+03 1.00950031e+04 1.29950022e+04\n",
      " 1.50000040e+01 1.96400031e+05 2.05000047e+02 3.20335049e+05\n",
      " 2.05000055e+02 1.00000083e+00 7.04740202e+04 5.43272064e+05\n",
      " 2.25330037e+04 1.57000042e+02 1.29960016e+04 1.29960016e+04\n",
      " 1.00950013e+04 8.48100106e+03 1.00950013e+04 7.00000125e+00\n",
      " 1.00950025e+04 1.00950025e+04 8.48100213e+03 1.00950025e+04\n",
      " 1.00950031e+04 1.38100023e+03 6.27900106e+03 1.28800022e+03\n",
      " 5.43279045e+05 7.00000127e+00 1.07600010e+03 1.17800011e+03\n",
      " 1.10457024e+05 8.85000199e+03 1.55000027e+02 1.99910033e+04\n",
      " 7.90000138e+01 4.06170097e+04 3.27520056e+04 7.86500136e+03\n",
      " 2.00000028e+00 1.19680020e+04 1.19650020e+04 1.19680020e+04\n",
      " 1.00000014e+00 7.56700170e+03 1.40000026e+01 4.70000082e+01\n",
      " 2.89000051e+02 9.56990120e+04 1.00000014e+00 1.30760053e+04\n",
      " 7.56700170e+03 8.00000189e+00 1.93510023e+04 2.29910038e+04\n",
      " 1.93570063e+04 1.57590027e+04 1.50000015e+01 1.30760016e+04\n",
      " 3.37734028e+05 1.05500013e+04 1.05630043e+04 7.34400305e+03\n",
      " 2.34000101e+02 1.08341018e+05 2.02269026e+05 1.69340051e+04\n",
      " 3.84100065e+03 1.30940022e+04 1.55200035e+04 1.57000027e+02\n",
      " 3.64000062e+03 2.27296362e+06 6.87910264e+04 1.04360018e+04\n",
      " 2.58690043e+04 1.45820025e+04 2.06000027e+02 3.00000041e+00\n",
      " 4.24100110e+03 1.08640018e+04 1.29950016e+04 1.12040010e+04\n",
      " 1.10000014e+01 2.01053055e+05 5.38000094e+02 4.97700113e+03\n",
      " 1.38100013e+03 1.29960032e+04 7.00000246e+00 1.00000018e+00\n",
      " 5.38000051e+02 9.50000166e+01 1.40300019e+03 1.53000035e+02\n",
      " 1.00000044e+00 3.30000077e+01 7.00000165e+00 1.19330020e+04\n",
      " 1.19330011e+04 1.19410027e+04 1.40000060e+01 1.40000025e+01\n",
      " 1.54760026e+04 1.53320025e+04 4.06170050e+04 8.00000186e+00\n",
      " 3.70000069e+01 1.50000049e+01 1.35400023e+03 1.38100023e+03\n",
      " 1.38100031e+03 2.05000054e+02 2.19000058e+02 1.00950025e+04\n",
      " 1.00950025e+04 8.00000389e+00 1.00000033e+00 1.00000024e+00\n",
      " 1.80000023e+01 1.18820014e+05 1.30000035e+01 1.00000024e+00\n",
      " 1.93570138e+04 2.50000045e+01 6.14045156e+05 1.93570043e+04\n",
      " 2.92740049e+04 1.55000036e+02 4.86200125e+03 1.30200034e+03\n",
      " 6.31900143e+03 3.43340076e+04 1.26300022e+03 1.18000039e+02\n",
      " 4.61730180e+04 1.06300045e+03 1.06300045e+03 2.30000041e+01\n",
      " 9.78580410e+04 6.94000116e+03 1.18000038e+02 6.94000212e+03\n",
      " 5.20000132e+03 5.40600122e+03 7.00000228e+00 7.00000124e+00\n",
      " 4.88880110e+04 1.93570077e+04 4.00000073e+00 9.85800407e+03\n",
      " 2.50000045e+01 1.18000011e+02 1.40000033e+01 1.90000069e+01\n",
      " 1.62320027e+04 1.40000018e+01 1.40000033e+01 1.40000033e+01\n",
      " 1.40000025e+01 3.64000061e+03 3.64000050e+03 3.64000061e+03\n",
      " 3.64000084e+03 4.99500084e+03 4.99400127e+03 4.97700083e+03\n",
      " 1.71000039e+03 3.64000046e+03 9.85800302e+03 2.29910028e+04\n",
      " 1.49703024e+05 3.30000058e+01 4.90000048e+01 8.89260104e+04\n",
      " 1.11971024e+05 1.81000060e+02 5.38000092e+02 5.38000142e+02\n",
      " 2.69000063e+02 2.69000063e+02 2.69000046e+02 2.69000062e+02\n",
      " 2.69000062e+02 3.70000125e+01 4.11060098e+04 1.33819029e+05\n",
      " 6.87880111e+04 9.28590265e+04 4.23480070e+04 4.23480069e+04\n",
      " 2.27000039e+02 2.69000046e+02 1.19680036e+04 1.19680027e+04\n",
      " 2.00000047e+01 1.96000084e+02 1.05670131e+06 1.17200031e+03\n",
      " 1.50000027e+01 1.96000053e+02 4.97700112e+03 1.50000049e+01\n",
      " 1.50000020e+01 7.00000231e+00 1.50000028e+01 1.06180024e+04\n",
      " 1.34500023e+03 1.49300025e+04 1.49300025e+04 1.53000027e+02\n",
      " 1.53000066e+02 1.53000041e+02 1.57000068e+02 1.53000035e+02\n",
      " 7.00000239e+00 3.54342030e+05 7.06520155e+04 1.15200020e+03\n",
      " 6.14044092e+05 1.15200027e+03 3.08800052e+03 3.08800071e+03\n",
      " 6.16500056e+03 7.00000124e+00 5.90000114e+01 1.71000016e+03\n",
      " 6.16200140e+03 5.04200112e+03 3.64000033e+03 9.90000178e+01\n",
      " 7.00000123e+00 1.93570059e+04 4.01400090e+04 1.71000030e+03\n",
      " 7.05480114e+04 1.00000018e+00 2.05000101e+02 6.00000551e+00\n",
      " 6.00000107e+00 6.94000182e+03 2.12000093e+02 3.96328103e+05\n",
      " 2.68800045e+03 1.96000045e+02 1.96000065e+02 1.04360018e+04\n",
      " 3.92500066e+03 5.04200085e+03 6.15600104e+03 3.16400054e+03\n",
      " 3.03580026e+04 1.90000035e+01 1.70000040e+01 1.90000052e+01\n",
      " 1.90000051e+01 9.50000222e+01 1.90000034e+01 4.70000060e+01\n",
      " 3.09500027e+04 6.00000564e+00 1.00000033e+00 1.00000018e+00\n",
      " 1.00000027e+00 1.00000014e+00 1.00000027e+00 1.00000033e+00\n",
      " 1.00000027e+00 1.00000014e+00 1.00000027e+00 1.00000024e+00\n",
      " 1.00000033e+00 2.24700028e+04 1.09610018e+04 1.96740033e+04\n",
      " 1.00000018e+00 6.00000204e+00 2.58790057e+04 2.58790023e+04\n",
      " 7.00000163e+00 2.61380106e+04 8.00000192e+00 1.19410037e+04\n",
      " 1.54000027e+02 2.00917017e+05 7.24800297e+03 4.70000046e+01\n",
      " 2.05000069e+02 4.70000082e+01 5.38000051e+02 4.24100071e+03\n",
      " 3.64000083e+03 1.39500036e+03 2.69000062e+02 7.00000129e+00\n",
      " 6.15799207e+05 2.20000051e+02 2.20000051e+02 2.20000051e+02\n",
      " 1.71000045e+03 1.40000038e+01 1.71000031e+03 1.14760019e+04\n",
      " 3.64000115e+03 2.30000044e+01 2.00000043e+00 1.50000020e+01\n",
      " 1.50000035e+01 1.00950031e+04 1.00950025e+04 1.00950013e+04\n",
      " 1.00950031e+04 1.00950031e+04 1.00950025e+04 1.00950013e+04\n",
      " 9.74100296e+03 8.50000273e+01 9.82600246e+03 8.75000109e+03\n",
      " 8.48100258e+03 1.00950013e+04 1.00950025e+04 1.00950025e+04\n",
      " 1.00950025e+04 8.75000220e+03 8.48100213e+03 1.96000045e+02\n",
      " 6.00000109e+00 6.00000265e+00 6.00000164e+00 7.00000231e+00\n",
      " 2.00000058e+00 2.50000025e+01 2.48000044e+02 9.50000167e+01\n",
      " 1.99910033e+04 2.05000026e+02 1.04000010e+02 2.01600023e+05\n",
      " 1.07600010e+03 1.07600025e+03 1.07600028e+03 1.07600018e+03\n",
      " 6.87910111e+04 2.69000062e+02 7.05480116e+04 2.69000062e+02\n",
      " 4.90000114e+01 4.90000114e+01 4.90000114e+01 2.69000062e+02\n",
      " 2.69000062e+02 2.69000062e+02 2.69000062e+02 2.69000062e+02\n",
      " 2.00000036e+00 1.14280019e+05 1.04000028e+02 4.70000110e+01\n",
      " 1.50000026e+01 1.04000018e+02 6.00000089e+00 6.00000142e+00\n",
      " 4.24100071e+03 8.28000266e+02 3.37734039e+05 3.37734051e+05\n",
      " 6.00000106e+00 1.93510077e+04 1.93510017e+04 1.01500033e+03\n",
      " 9.21000296e+02 4.00000095e+00 2.50000084e+01 3.04000098e+02\n",
      " 1.93510077e+04 2.27000039e+02 7.56700126e+03 1.29960032e+04\n",
      " 1.29950029e+04 8.00000140e+00 2.27000052e+02 6.94000128e+03\n",
      " 3.35480099e+04 1.19410020e+04 1.59545025e+05 1.19410020e+04\n",
      " 7.56700193e+03 7.56700255e+03 1.19410030e+04 2.69000062e+02\n",
      " 6.00000107e+00 6.00000196e+00 7.56700191e+03 1.00730014e+04\n",
      " 1.38100023e+03 4.64940077e+04 3.16000030e+02 1.00000010e+00\n",
      " 1.20000012e+01 1.90000018e+02 1.16224010e+06 3.20008049e+05\n",
      " 3.27000056e+02 7.12600123e+03 1.20000021e+01 1.00000010e+00\n",
      " 2.27000022e+02 6.15832051e+05 6.00000061e+00 6.59704057e+05\n",
      " 6.00000061e+00 3.43340030e+04 6.31900057e+03 7.56700129e+03\n",
      " 9.53400159e+03 3.14949026e+05 1.71000039e+03 5.38000092e+02\n",
      " 2.69000026e+02 5.38000124e+02 2.12180036e+04 5.38000092e+02\n",
      " 4.20000137e+01 1.38100023e+03 7.00000132e+00 1.50000020e+01\n",
      " 4.86200060e+03 1.77533533e+06]\n"
     ]
    }
   ],
   "execution_count": 27
  },
  {
   "metadata": {
    "ExecuteTime": {
     "end_time": "2024-05-31T18:09:46.512725Z",
     "start_time": "2024-05-31T18:09:46.205675Z"
    }
   },
   "cell_type": "code",
   "source": [
    "# plot reconstructed fluxes minus actual fluxes\n",
    "v_error = (reconstructed_vE - vE) / vE\n",
    "\n",
    "plt.plot(v_error.T)"
   ],
   "id": "be4a9883fdffeb3e",
   "outputs": [
    {
     "data": {
      "text/plain": [
       "[<matplotlib.lines.Line2D at 0x33678b640>]"
      ]
     },
     "execution_count": 28,
     "metadata": {},
     "output_type": "execute_result"
    },
    {
     "data": {
      "text/plain": [
       "<Figure size 640x480 with 1 Axes>"
      ],
      "image/png": "[encoded data removed]"
     },
     "metadata": {},
     "output_type": "display_data"
    }
   ],
   "execution_count": 28
  },
  {
   "metadata": {},
   "cell_type": "markdown",
   "source": "# Check fluxes",
   "id": "6bba494cbf72b853"
  },
  {
   "metadata": {},
   "cell_type": "markdown",
   "source": "# Simulation-structured recon",
   "id": "eff0466a12d94cf3"
  },
  {
   "metadata": {
    "ExecuteTime": {
     "end_time": "2024-05-31T18:09:46.536294Z",
     "start_time": "2024-05-31T18:09:46.513459Z"
    }
   },
   "cell_type": "code",
   "source": [
    "# pre rxn \n",
    "cn = np.array(c.value)[:, 0]\n",
    "i = -1\n",
    "\n",
    "sat_expr = []\n",
    "nfwd_sat = np.zeros(n_rxn)\n",
    "nback_sat = np.zeros(n_rxn)\n",
    "nsat = np.zeros(n_rxn)\n",
    "v_cur = np.zeros(n_rxn)\n",
    "\n",
    "S_x = csr_matrix(S_b)\n",
    "C_alpha_x = csr_matrix(C_alpha)\n",
    "C_beta_x = csr_matrix(C_beta)\n",
    "\n",
    "# define y vecs\n",
    "y_s_t, y_p_t, y_i_t, y_a_t = [], [], [], []\n",
    "\n",
    "# condense the code below into one line\n",
    "y_s_t.append(np.multiply(S_s_mol, cn[met_s_nz] - Km_s.value))\n",
    "y_p_t.append(np.multiply(S_p_mol, cn[met_p_nz] - Km_p.value))\n",
    "y_i_t.append(cn[met_i_nz] - Km_i.value if Km_i else None)\n",
    "y_a_t.append(-(cn[met_a_nz] - Km_a.value) if Km_a else None)\n",
    "\n",
    "y_s = np.vstack(y_s_t).flatten()\n",
    "y_p = np.vstack(y_p_t).flatten()\n",
    "y_i = np.vstack(y_i_t).flatten()\n",
    "y_a = np.vstack(y_a_t).flatten()\n",
    "\n",
    "y_f_vec = [y_s]\n",
    "y_r_vec = [y_p]\n",
    "if Km_i:\n",
    "    y_f_vec.append(y_i)\n",
    "    y_r_vec.append(y_i)\n",
    "if Km_a:\n",
    "    y_f_vec.append(y_a)\n",
    "    y_r_vec.append(y_a)\n",
    "\n",
    "y_f_n = np.hstack(y_f_vec).flatten()\n",
    "y_r_n = np.hstack(y_r_vec).flatten()\n",
    "\n",
    "\n",
    "# now for each reaction in the set, calculate the saturation terms\n"
   ],
   "id": "740749aa1b9e5ca6",
   "outputs": [],
   "execution_count": 29
  },
  {
   "metadata": {
    "ExecuteTime": {
     "end_time": "2024-05-31T18:09:46.630915Z",
     "start_time": "2024-05-31T18:09:46.537197Z"
    }
   },
   "cell_type": "code",
   "source": [
    "\n",
    "\n",
    "for i in range(n_rxn):\n",
    "    # sum terms are separate in logsumexp. one per saturation term (row in C_alpha, C_beta)\n",
    "    Km_s_idx = np.nonzero(S_s_nz[1, :] == i)\n",
    "    S_s_idx = S_s_nz[0, S_s_nz[1, :] == i] # negate -1 entries\n",
    "\n",
    "    Km_p_idx = np.nonzero(S_p_nz[1, :] == i)\n",
    "    S_p_idx = S_p_nz[0, S_p_nz[1, :] == i]\n",
    "    \n",
    "    cur_sat =  (C_alpha_x @ y_f_n)[d_alpha == i].tolist() + \\\n",
    "                (C_beta_x @ y_r_n)[d_beta == i].tolist() + \\\n",
    "                [0],\n",
    "    \n",
    "    nsat[i] = np.sum(np.exp(cur_sat))\n",
    "    \n",
    "    \n",
    "    nfwd_sat[i] = (np.exp(-S_x.T[i, S_s_idx] @ y_s[Km_s_idx])) # + cfwd.value[i]\n",
    "    nback_sat[i] = (np.exp(S_x.T[i, S_p_idx] @ y_p[Km_p_idx])) # + cfwd.value[i]\n",
    "\n",
    "    \n",
    "reconstr = np.exp(cfwd.value) * nfwd_sat/nsat - np.exp(crev.value) * nback_sat/nsat\n",
    "\n",
    "dmdt_recon = S_matrix @ reconstr\n"
   ],
   "id": "1d3715c314909a56",
   "outputs": [],
   "execution_count": 30
  },
  {
   "metadata": {
    "ExecuteTime": {
     "end_time": "2024-05-31T18:09:46.664831Z",
     "start_time": "2024-05-31T18:09:46.639060Z"
    }
   },
   "cell_type": "code",
   "source": "dmdt[dmdt_mask].flatten() - dmdt_recon[dmdt_mask].flatten()",
   "id": "4ef17c881797536f",
   "outputs": [
    {
     "data": {
      "text/plain": [
       "array([ 3.94446727e-06,  5.26725950e-03,  2.77011809e-02,  1.93993495e-02,\n",
       "       -1.34434557e-03, -4.05126166e-06, -1.71645359e-07, -2.79108478e-07,\n",
       "        5.88860203e-04, -1.37662453e-05, -8.44566404e-03, -2.65676536e-06,\n",
       "        1.31635249e-01,  5.72017875e-06,  1.00699927e-01, -1.16612362e-02,\n",
       "       -1.29335532e-03, -3.15461551e-03, -1.19139091e-01, -8.30674258e-07,\n",
       "       -1.82746553e-05,  1.82746553e-05, -1.38224748e-07, -8.47830572e-04,\n",
       "       -1.16766531e-01, -5.70308461e-02, -6.10841828e-07,  3.63281033e-05,\n",
       "       -1.01745955e-05, -1.03846323e-04, -1.38874762e-07, -3.83070762e-02,\n",
       "       -3.34853154e-05,  3.34853154e-05,  6.38884186e-04, -1.04458981e-07,\n",
       "        1.04458981e-07,  2.46543380e-03, -6.10022204e-07, -3.03221982e-06,\n",
       "       -1.18081413e-04, -1.25238997e-04, -5.22987784e-04, -2.71748549e-05,\n",
       "       -1.10255350e-04, -2.69972060e-05, -1.69907248e-05, -2.17735681e-05,\n",
       "       -1.41796338e-04, -1.65011079e-06,  7.70179738e-02, -2.64212883e-06,\n",
       "       -6.18976340e-05, -3.23841666e-03, -6.76282834e-05, -2.46360954e-06,\n",
       "        3.41040090e-06, -9.10194340e-05, -8.32721227e-04, -3.25729924e-04,\n",
       "       -2.82949650e-04, -6.67036907e-05,  5.68570243e-07, -7.26139688e-07,\n",
       "       -2.95940814e-04, -8.97214668e-05, -1.79507737e-02, -5.60530425e-06,\n",
       "       -6.41454527e-02, -3.88743995e-06,  1.10173710e-03, -3.54272971e-06,\n",
       "       -4.30679331e-05,  4.80081957e-05, -2.30584650e-06, -4.54601514e-07,\n",
       "       -1.20726464e-02,  2.49702137e-02, -4.17568851e-03, -3.17832858e-02,\n",
       "        9.62642226e-02, -3.04941908e-03,  1.03774520e-03, -5.60491819e-05,\n",
       "        5.22963774e-02,  1.67800073e-03, -2.87287024e-02, -3.59822820e-07,\n",
       "       -4.09804256e-04, -2.76390812e-05, -2.44577126e-04,  1.32985755e-06,\n",
       "        1.54809458e-02, -8.14704359e-04, -1.37835915e-03,  6.65635494e-04,\n",
       "       -1.06486455e-06, -1.14668261e-03, -2.88958787e-04, -4.34231248e-04,\n",
       "       -4.15336104e-07, -9.43182584e-07, -1.76493375e-03,  5.45717883e-03,\n",
       "        4.99131414e-06, -1.23024828e-03,  1.23024828e-03, -3.20226001e-03,\n",
       "       -3.03747638e-03, -1.06441924e-03,  1.84326862e-02,  2.25785706e-03,\n",
       "        1.94599384e-03,  6.29240654e-04, -2.59354587e-03, -9.17587102e-04,\n",
       "       -2.01842303e-03,  9.77694929e-03,  3.59132537e-05, -7.58525091e-03,\n",
       "       -2.57451872e-03, -1.04454538e-07, -7.40654852e-04, -3.01408419e-05,\n",
       "        3.01408419e-05, -2.48652666e-06,  2.48652666e-06,  4.08120050e-05,\n",
       "       -3.93237860e-06,  3.77335682e-02,  3.25420675e-02, -3.25467696e-02,\n",
       "       -3.78132659e-02, -1.20819918e-06,  1.20819918e-06,  1.75164230e-06,\n",
       "       -1.33838603e-05,  1.88272734e-02, -1.78439153e-05,  1.55829753e-01,\n",
       "        5.09703116e-02, -3.22091747e-05, -3.59092346e-04, -1.04021599e-03,\n",
       "        2.06513388e-02, -1.55712179e-07, -4.05879135e-03, -1.22991878e-06,\n",
       "        6.20599911e-01, -4.15318156e-01, -1.82237756e-03,  4.84417731e-04,\n",
       "       -1.76666285e-04, -1.24407284e-06,  4.48878375e-02, -7.06239186e-04,\n",
       "        2.10018840e-01,  7.73498695e-03, -1.88500183e-06,  5.26715496e-07,\n",
       "        4.70596140e-03, -2.01242110e-05, -1.80636630e-07, -3.52197269e-05,\n",
       "        1.84129025e-03, -3.13791117e-04, -1.40449725e-06, -5.22746745e-05,\n",
       "       -3.12611971e-03, -1.74609812e-03,  1.28689112e-03, -4.23750112e-06,\n",
       "        1.67817790e-03, -1.06979219e-06,  1.72414712e-02, -1.39417640e-03,\n",
       "       -3.92199399e-04, -2.30391574e-04, -8.45920851e-04, -7.70179738e-02,\n",
       "       -1.36860263e-05, -1.55561560e-04, -5.89426745e-05,  9.46604330e-04,\n",
       "       -4.27093720e-07, -2.66767776e-05,  5.85874677e-05, -2.46458535e-03,\n",
       "       -7.65518547e-01,  9.96347114e-02, -2.39680725e-03, -2.12346986e-06,\n",
       "        2.12346986e-06, -6.00672727e-04])"
      ]
     },
     "execution_count": 31,
     "metadata": {},
     "output_type": "execute_result"
    }
   ],
   "execution_count": 31
  },
  {
   "metadata": {
    "ExecuteTime": {
     "end_time": "2024-05-31T18:09:46.693545Z",
     "start_time": "2024-05-31T18:09:46.670970Z"
    }
   },
   "cell_type": "code",
   "source": "(np.array([dmdt_recon, np.exp(c.value[:,0]), dmdt_recon / np.exp(cn), met_names]).T)[homeostatic_met_indices, :]",
   "id": "d47c366719612f88",
   "outputs": [
    {
     "data": {
      "text/plain": [
       "array([['8.999996055532733', '0.40683017863053234', '22.122242961002623',\n",
       "        '2-3-DIHYDROXYBENZOATE[c]'],\n",
       "       ['26.97229881907697', '0.253530189106861', '106.38693133190681',\n",
       "        '2-KETOGLUTARATE[c]'],\n",
       "       ['6.98060065053869', '0.07980578787906088', '87.46985445613565',\n",
       "        '2-PG[c]'],\n",
       "       ['10.001344345568214', '0.08367397868620037',\n",
       "        '119.52753415821076', '2K-4CH3-PENTANOATE[c]'],\n",
       "       ['23.000004051261662', '0.05534815134827712',\n",
       "        '415.55144103250353', '4-AMINO-BUTYRATE[c]'],\n",
       "       ['4.000000171645359', '0.07314155028971264', '54.688479473041184',\n",
       "        '4-hydroxybenzoate[c]'],\n",
       "       ['2.000000279108478', '0.010783137372267203',\n",
       "        '185.47480293186408', 'ACETOACETYL-COA[c]'],\n",
       "       ['76.9994111397973', '0.29541918620258495', '260.6445848340894',\n",
       "        'ACETYL-COA[c]'],\n",
       "       ['79.00001376624533', '0.1369406965874682', '576.892156494805',\n",
       "        'ACETYL-P[c]'],\n",
       "       ['-1.5105644166624188e-06', '0.02578958524220653',\n",
       "        '-5.8572652583426216e-05', 'ADENINE[c]'],\n",
       "       ['0.0006511290330308839', '0.057208598066115786',\n",
       "        '0.011381663858960086', 'ADP-D-GLUCOSE[c]'],\n",
       "       ['34.86836475110613', '0.4855176967141616', '71.81687709240009',\n",
       "        'ADP[c]'],\n",
       "       ['-6073.98833876384', '5.538774354035849', '-1096.6304006116454',\n",
       "        'AMP[c]'],\n",
       "       ['1.4535190757669625e-05', '0.05567563767242668',\n",
       "        '0.0002610691384118294', 'ANTHRANILATE[c]'],\n",
       "       ['0.00022549135701410705', '0.05725491057107331',\n",
       "        '0.003938375848726436', 'APS[c]'],\n",
       "       ['10550.001293355315', '9.620360444883385', '1096.6326421757267',\n",
       "        'ARG[c]'],\n",
       "       ['7578.003154615505', '6.910245638857785', '1096.6329636681476',\n",
       "        'ASN[c]'],\n",
       "       ['14082.119139091345', '12.841129462108512', '1096.6417853386445',\n",
       "        'ATP[c]'],\n",
       "       ['1.000000830674258', '0.006139180285595122',\n",
       "        '162.88833103999968', 'BIOTIN[c]'],\n",
       "       ['190.0000182746553', '0.27095082680927485', '701.2343180941771',\n",
       "        'CA+2[c]'],\n",
       "       ['-190.0000182746553', '0.4710826725222513',\n",
       "        '-403.32627234486273', 'CA+2[p]'],\n",
       "       ['1.0000001382247483', '0.0069060196961831305',\n",
       "        '144.80122881454216', 'CAMP[c]'],\n",
       "       ['44.00084783057173', '0.1339129105241687', '328.57808599888824',\n",
       "        'CARBAMYUL-L-ASPARTATE[c]'],\n",
       "       ['3.116766531195026', '0.043891685479642166', '71.0104088538738',\n",
       "        'CARBON-DIOXIDE[c]'],\n",
       "       ['1.999963671896694', '0.11451782066473842', '17.46421351967371',\n",
       "        'CDP[c]'],\n",
       "       ['7.000103846323327', '0.2509799596641959', '27.891086824977055',\n",
       "        'CHORISMATE[c]'],\n",
       "       ['1.0000001388747621', '0.0068673621592655505',\n",
       "        '145.61633938666634', 'CIS-ACONITATE[c]'],\n",
       "       ['135.03830707615415', '0.2848875797572039', '474.00559614161085',\n",
       "        'CIT[c]'],\n",
       "       ['190.00003348531538', '0.36301483156165965', '523.3946851922028',\n",
       "        'CL-[c]'],\n",
       "       ['-5825.000638884186', '5.3117156060635065',\n",
       "        '-1096.6326269867964', 'CMP[c]'],\n",
       "       ['1.0000001044589808', '0.006783433540208528',\n",
       "        '147.41798508550582', 'CO+2[c]'],\n",
       "       ['-1.0000001044589808', '0.17780134349175317',\n",
       "        '-5.624255052411137', 'CO+2[p]'],\n",
       "       ['53.9975345661951', '0.228424527232638', '236.39114074296205',\n",
       "        'CO-A[c]'],\n",
       "       ['7.000003032219823', '0.07806576697867877', '89.66802355418676',\n",
       "        'CPD-12115[c]'],\n",
       "       ['184.00011808141255', '0.4275397724329242', '430.3695935336167',\n",
       "        'CPD-12575[c]'],\n",
       "       ['3088.0005229877843', '2.8158931860395744', '1096.6326912885913',\n",
       "        'CPD-12819[c]'],\n",
       "       ['206.0000271748549', '0.28631852282833414', '719.4785204251867',\n",
       "        'CPD-12824[c]'],\n",
       "       ['85.00011025534991', '0.19073761038516024', '445.63895963521566',\n",
       "        'CPD-13469[c]'],\n",
       "       ['153.00002699720596', '0.26892688690560546', '568.9279668451659',\n",
       "        'CPD-2961[c]'],\n",
       "       ['740.0001417963375', '0.7850521240835628', '942.6127502809866',\n",
       "        'CPD-8260[c]'],\n",
       "       ['7.000001650110791', '0.02319230922205551', '301.8242635129193',\n",
       "        'CPD-9956[c]'],\n",
       "       ['269.000061897634', '0.34389324133678656', '782.2196820500841',\n",
       "        'CPD0-939[c]'],\n",
       "       ['12147.003238416664', '11.076636805383524', '1096.6328003562342',\n",
       "        'CTP[c]'],\n",
       "       ['1367.0000676282834', '1.2465433906736614', '1096.6325583656774',\n",
       "        'CYS[c]'],\n",
       "       ['7.000002463609544', '0.02309992443491197', '303.0314009612136',\n",
       "        'D-ALA-D-ALA[c]'],\n",
       "       ['29.000091019433967', '0.1602826325025187', '180.93096280395977',\n",
       "        'D-SEDOHEPTULOSE-7-P[c]'],\n",
       "       ['1015.000325729924', '0.9592894147425751', '1058.0751857897847',\n",
       "        'DATP[c]'],\n",
       "       ['923.0002829496497', '0.8936893079651511', '1032.7977236868112',\n",
       "        'DCTP[c]'],\n",
       "       ['22.000066703690663', '0.105802548209953', '207.93513082533758',\n",
       "        'DEOXY-RIBOSE-5P[c]'],\n",
       "       ['4.000000726139688', '0.016575458618628955',\n",
       "        '241.32066678650665', 'DGMP[c]'],\n",
       "       ['921.000295940814', '0.903644033278759', '1019.2069686988139',\n",
       "        'DGTP[c]'],\n",
       "       ['144.0000897214668', '0.25975624946348597', '554.366218402414',\n",
       "        'DI-H-OROTATE[c]'],\n",
       "       ['140.01795077368797', '0.14896150408181624', '939.9606404134046',\n",
       "        'DIHYDROXY-ACETONE-PHOSPHATE[c]'],\n",
       "       ['1.0641454526921734', '0.20301355068508062', '5.241745928294712',\n",
       "        'DPG[c]'],\n",
       "       ['8.00000388743995', '0.026525439923304552', '301.59740651130005',\n",
       "        'ENTEROBACTIN[c]'],\n",
       "       ['1.998898262902003', '0.2133870973310722', '9.367474828155578',\n",
       "        'ERYTHROSE-4P[c]'],\n",
       "       ['13.000003542729706', '0.0371490638228872', '349.9416191134411',\n",
       "        'FAD[c]'],\n",
       "       ['245.00004306793312', '0.3113781800326613', '786.8246999267399',\n",
       "        'FE+2[c]'],\n",
       "       ['-268.0000480081957', '0.7018517181804103',\n",
       "        '-381.84710682621215', 'FE+2[p]'],\n",
       "       ['8.000002305846504', '0.08102950836898404', '98.72949332750356',\n",
       "        'FE+3[p]'],\n",
       "       ['4.000000454601514', '0.07174980847538252', '55.749284069154285',\n",
       "        'FMN[c]'],\n",
       "       ['469.01207264637924', '0.5158931506114012', '909.126380318363',\n",
       "        'FRUCTOSE-16-DIPHOSPHATE[c]'],\n",
       "       ['104.9750297862629', '0.3790432811956079', '276.9473434673277',\n",
       "        'FRUCTOSE-6P[c]'],\n",
       "       ['57.00417568851117', '0.08812090545691544', '646.8859505351085',\n",
       "        'FUM[c]'],\n",
       "       ['113.03178328584181', '0.2720941870131066', '415.4141789159102',\n",
       "        'G3P[c]'],\n",
       "       ['30.003049419077797', '0.09283990518925989', '323.1697550521484',\n",
       "        'GDP[c]'],\n",
       "       ['327.0000560491819', '0.40633162341807794', '804.7615228626419',\n",
       "        'GLC-6-P[c]'],\n",
       "       ['7458.998321999268', '6.801731620726325', '1096.6322604188192',\n",
       "        'GLN[c]'],\n",
       "       ['13870.028728702375', '12.64781036112172', '1096.6347796720331',\n",
       "        'GLT[c]'],\n",
       "       ['2.0000003598228195', '0.01060479642336261', '188.5939418334116',\n",
       "        'GLUCONATE[c]'],\n",
       "       ['865.000409804256', '0.8676574312255777', '996.9377068348639',\n",
       "        'GLUTATHIONE[c]'],\n",
       "       ['104.00002763908122', '0.16851819450888908', '617.1442077347641',\n",
       "        'GLYCERATE[c]'],\n",
       "       ['13.000244577126068', '0.1356731853569865', '95.82029450343866',\n",
       "        'GLYCEROL-3P[c]'],\n",
       "       ['14464.000814704359', '13.189468569104774', '1096.632570063139',\n",
       "        'GLY[c]'],\n",
       "       ['-6379.998621640845', '5.81781039699245', '-1096.6322699239256',\n",
       "        'GMP[c]'],\n",
       "       ['15243.999334364506', '13.90073692272484', '1096.6324605024147',\n",
       "        'GTP[c]'],\n",
       "       ['6.00000106486455', '0.021693765930958894', '276.5772012088517',\n",
       "        'GUANINE[c]'],\n",
       "       ['-0.0005342576419025136', '0.09445665669162162',\n",
       "        '-0.005656114249805992', 'HISTIDINOL[c]'],\n",
       "       ['3640.0011466826118', '3.3192523298138017', '1096.63285131649',\n",
       "        'HIS[c]'],\n",
       "       ['29.00028895878677', '0.06233103356022217', '465.26244315791195',\n",
       "        'HOMO-CYS[c]'],\n",
       "       ['17.00043423124771', '0.09723555194148444', '174.83763800177152',\n",
       "        'HOMO-SER[c]'],\n",
       "       ['10436.00176493375', '9.516405839296134', '1096.6326931792173',\n",
       "        'ILE[c]'],\n",
       "       ['56.99454282117222', '0.2728414427708944', '208.8925430182198',\n",
       "        'IMP[c]'],\n",
       "       ['7126.001230248276', '6.498074746320835', '1096.6326963664073',\n",
       "        'K+[c]'],\n",
       "       ['18914.00320226001', '17.247345713491338', '1096.6326944710668',\n",
       "        'L-ALPHA-ALANINE[c]'],\n",
       "       ['13.003037476384634', '0.0854426647673117', '152.18436259913187',\n",
       "        'L-ARGININO-SUCCINATE[c]'],\n",
       "       ['10551.981567313807', '9.622184209927905', '1096.6305920880793',\n",
       "        'L-ASPARTATE[c]'],\n",
       "       ['54.99805400616242', '0.189834119342606', '289.71638078876566',\n",
       "        'L-CITRULLINE[c]'],\n",
       "       ['1.9993707593457657', '0.11448377523248382',\n",
       "        '17.464228055771354', 'L-ORNITHINE[c]'],\n",
       "       ['15433.002593545869', '14.073082716080625', '1096.6326927014597',\n",
       "        'LEU[c]'],\n",
       "       ['8.000917587101867', '0.08118828637115869', '98.54768396668749',\n",
       "        'LL-DIAMINOPIMELATE[c]'],\n",
       "       ['11933.002018423032', '10.881493949379395', '1096.6326934458855',\n",
       "        'LYS[c]'],\n",
       "       ['2.9999640867463313', '0.09585341783407932',\n",
       "        '31.297413848499588', 'MALONYL-COA[c]'],\n",
       "       ['146.00758525091078', '0.1967915849363609', '741.9401866097435',\n",
       "        'MAL[c]'],\n",
       "       ['7.002574518723122', '0.2416359026500118', '28.979859540433157',\n",
       "        'METHYLENE-THF[c]'],\n",
       "       ['4704.000740654852', '4.289495317968801', '1096.6326786626105',\n",
       "        'MET[c]'],\n",
       "       ['316.00003014084194', '0.4003129924847424', '789.3823984563429',\n",
       "        'MG+2[c]'],\n",
       "       ['25.000002486526665', '0.060554819521389594',\n",
       "        '412.84909581302594', 'MN+2[c]'],\n",
       "       ['-25.000002486526665', '0.2604884360979214',\n",
       "        '-95.97355975191468', 'MN+2[p]'],\n",
       "       ['5.999959187995046', '0.08854303238716346', '67.76319972597743',\n",
       "        'N-ACETYL-D-GLUCOSAMINE-1-P[c]'],\n",
       "       ['3.000003932378604', '0.07054176548651489', '42.528052873189',\n",
       "        'N-ALPHA-ACETYLORNITHINE[c]'],\n",
       "       ['8.962266431830358', '0.3511198342981029', '25.52480821753105',\n",
       "        'NADH[c]'],\n",
       "       ['13.96745793246373', '0.6773239066810465', '20.62153394364248',\n",
       "        'NADPH[c]'],\n",
       "       ['6.032546769580222', '0.04808146005166128', '125.4651327787994',\n",
       "        'NADP[c]'],\n",
       "       ['167.03781326586613', '0.2772722222286647', '602.4325549932336',\n",
       "        'NAD[c]'],\n",
       "       ['12.00000120819918', '0.03587649099216014', '334.4809059175119',\n",
       "        'NI+2[c]'],\n",
       "       ['-12.00000120819918', '0.22853419380530127',\n",
       "        '-52.508559040501964', 'NI+2[p]'],\n",
       "       ['402.0000133838603', '0.5088497722068241', '790.0170842966708',\n",
       "        'OROTATE[c]'],\n",
       "       ['0.9811727266423986', '0.2606814563569293', '3.7638761895627932',\n",
       "        'OXALACETIC_ACID[c]'],\n",
       "       ['99.00001784391527', '0.16482855061320748', '600.6242090681985',\n",
       "        'OXIDIZED-GLUTATHIONE[c]'],\n",
       "       ['-615834.0509703116', '561.568247909632', '-1096.6326056764738',\n",
       "        'OXYGEN-MOLECULE[p]'],\n",
       "       ['4.000032209174719', '0.0687923713447823', '58.14645041274783',\n",
       "        'PANTOTHENATE[c]'],\n",
       "       ['6.000359092346116', '0.07621064819994498', '78.73386769528156',\n",
       "        'PHENYL-PYRUVATE[c]'],\n",
       "       ['6156.001040215985', '5.613548715661018', '1096.6326920868435',\n",
       "        'PHE[c]'],\n",
       "       ['7.979348661203403', '0.3653038554368199', '21.843045296255976',\n",
       "        'PHOSPHO-ENOL-PYRUVATE[c]'],\n",
       "       ['-55381.99594120865', '50.50187684399087', '-1096.6324303608224',\n",
       "        'PPI[c]'],\n",
       "       ['-2.140826836694032e-06', '0.056817365831655996',\n",
       "        '-3.767909344894801e-05', 'PROPIONYL-COA[c]'],\n",
       "       ['7.0000012299187775', '0.024311698106866335',\n",
       "        '287.92728501106933', 'PROTOHEME[c]'],\n",
       "       ['-24344.620599910617', '22.198867701801177', '-1096.66046606221',\n",
       "        'PROTON[c]'],\n",
       "       ['6940.001822377557', '6.328464600252802', '1096.6327949595113',\n",
       "        'PRO[c]'],\n",
       "       ['17.99951558226894', '0.3322639701216446', '54.17233645790475',\n",
       "        'PRPP[c]'],\n",
       "       ['1118.0001766662854', '1.0194846461834446', '1096.632676962468',\n",
       "        'PUTRESCINE[c]'],\n",
       "       ['7.000001244072842', '0.024099667936918916', '290.4604852811833',\n",
       "        'PYRIDOXAL_PHOSPHATE[c]'],\n",
       "       ['268.9551121624827', '0.3255287044557927', '826.2101267294148',\n",
       "        'PYRUVATE[c]'],\n",
       "       ['36.78998116031289', '0.48606375885008857', '75.68961991190055',\n",
       "        'Pi[c]'],\n",
       "       ['-46494.00773498695', '42.39706516197229', '-1096.632692790476',\n",
       "        'Pi[p]'],\n",
       "       ['-2.0523198600130854e-05', '0.05648320481015247',\n",
       "        '-0.0003633504626572101', 'QUINOLINATE[c]'],\n",
       "       ['8.000001885001835', '0.025410198071378336',\n",
       "        '314.83429851784257', 'REDUCED-MENAQUINONE[c]'],\n",
       "       ['1.999999473284504', '0.06883173053472945', '29.056359004011856',\n",
       "        'RIBOFLAVIN[c]'],\n",
       "       ['33.995294038599695', '0.04203683854807725', '808.702443208699',\n",
       "        'RIBOSE-5P[c]'],\n",
       "       ['17.000020124211005', '0.1848492188975004', '91.96695677484892',\n",
       "        'RIBULOSE-5P[c]'],\n",
       "       ['16.000035219726936', '0.5342321652936599', '29.949591692840023',\n",
       "        'S-ADENOSYLMETHIONINE[c]'],\n",
       "       ['9270.998158709748', '8.45406272488673', '1096.6322891617726',\n",
       "        'SER[c]'],\n",
       "       ['1.0003137911171507', '0.06471749306570326',\n",
       "        '15.456621443936344', 'SHIKIMATE[c]'],\n",
       "       ['8.000001404497251', '0.026634490721567268',\n",
       "        '300.36246940585403', 'SIROHEME[c]'],\n",
       "       ['227.0000522746745', '0.30073748128437433', '754.8113102005584',\n",
       "        'SPERMIDINE[c]'],\n",
       "       ['17.00312611971367', '0.32966970549281766', '51.57624688108962',\n",
       "        'SUC-COA[c]'],\n",
       "       ['34.00174609811802', '0.05631536848202415', '603.7738367808313',\n",
       "        'SUC[c]'],\n",
       "       ['27.000004237501116', '0.11213071220992532',\n",
       "        '240.79044630478316', 'TDP[c]'],\n",
       "       ['6.998321822095022', '0.0312787646982586', '223.74035194825467',\n",
       "        'THF[c]'],\n",
       "       ['6.0000010697921935', '0.02171084645111035', '276.3596105432056',\n",
       "        'THIAMINE-PYROPHOSPHATE[c]'],\n",
       "       ['19.982758528829436', '0.18069747395717903',\n",
       "        '110.58681724330508', 'THREO-DS-ISO-CITRATE[c]'],\n",
       "       ['10073.001394176395', '9.185392489910301', '1096.6326594362831',\n",
       "        'THR[c]'],\n",
       "       ['1710.0003921993987', '1.5593190909083032', '1096.632756034125',\n",
       "        'TRP[c]'],\n",
       "       ['1354.0002303915744', '1.2346889180659832', '1096.632690696277',\n",
       "        'TTP[c]'],\n",
       "       ['5036.000845920851', '4.5922403088432935', '1096.6326906331549',\n",
       "        'TYR[c]'],\n",
       "       ['42.00001368602633', '0.08562133915779875', '490.53208112782465',\n",
       "        'UDP-GLUCURONATE[c]'],\n",
       "       ['365.0001555615599', '0.5036129419839218', '724.7632559316015',\n",
       "        'UDP-N-ACETYL-D-GLUCOSAMINE[c]'],\n",
       "       ['70.00005894267451', '0.06681811934829392', '1047.6209091997116',\n",
       "        'UDP[c]'],\n",
       "       ['-6010.00094660433', '5.480413869770482', '-1096.6326794687911',\n",
       "        'UMP[c]'],\n",
       "       ['2.0000004270937204', '0.010935256441299437',\n",
       "        '182.8946982477953', 'UNDECAPRENYL-DIPHOSPHATE[c]'],\n",
       "       ['154.00002667677757', '0.22669603334598948', '679.3238699582301',\n",
       "        'URIDINE[c]'],\n",
       "       ['11495.999941412532', '10.483001294705598', '1096.6325022986066',\n",
       "        'UTP[c]'],\n",
       "       ['14582.002464585348', '13.297070704635962', '1096.6326936579649',\n",
       "        'VAL[c]'],\n",
       "       ['2990493.765518547', '2726.978098099937', '1096.632850701008',\n",
       "        'WATER[c]'],\n",
       "       ['12.002396807250989', '0.04608626625795799',\n",
       "        '260.43326530446507', 'XYLULOSE-5-PHOSPHATE[c]'],\n",
       "       ['12.000002123469859', '0.03496659697199836',\n",
       "        '343.18472950283365', 'ZN+2[c]'],\n",
       "       ['-12.000002123469859', '0.22854441276503407',\n",
       "        '-52.50621521781427', 'ZN+2[p]'],\n",
       "       ['4862.000600672727', '4.433572752751252', '1096.6326418475064',\n",
       "        'glycogen-monomer[c]']], dtype='<U47')"
      ]
     },
     "execution_count": 32,
     "metadata": {},
     "output_type": "execute_result"
    }
   ],
   "execution_count": 32
  },
  {
   "metadata": {
    "ExecuteTime": {
     "end_time": "2024-05-31T18:09:46.728020Z",
     "start_time": "2024-05-31T18:09:46.722256Z"
    }
   },
   "cell_type": "code",
   "source": [
    "cell_volume = 3e-15\n",
    "\n",
    "0.001 * (cell_volume * 6.022e23)"
   ],
   "id": "af874876367a4e1e",
   "outputs": [
    {
     "data": {
      "text/plain": [
       "1806600.0"
      ]
     },
     "execution_count": 33,
     "metadata": {},
     "output_type": "execute_result"
    }
   ],
   "execution_count": 33
  },
  {
   "metadata": {},
   "cell_type": "markdown",
   "source": "# Try to simulate concentration changes over time",
   "id": "79b0fd6477ffb550"
  },
  {
   "metadata": {
    "ExecuteTime": {
     "end_time": "2024-05-31T18:09:46.739138Z",
     "start_time": "2024-05-31T18:09:46.733243Z"
    }
   },
   "cell_type": "code",
   "source": [
    "# don't change external exchange concentrations\n",
    "# for internal exchange concentrations, take out a small amount per timestep\n",
    "\n"
   ],
   "id": "950d1ce1ea544372",
   "outputs": [],
   "execution_count": 34
  }
 ],
 "metadata": {
  "kernelspec": {
   "display_name": "Python 3 (ipykernel)",
   "language": "python",
   "name": "python3"
  },
  "language_info": {
   "codemirror_mode": {
    "name": "ipython",
    "version": 3
   },
   "file_extension": ".py",
   "mimetype": "text/x-python",
   "name": "python",
   "nbconvert_exporter": "python",
   "pygments_lexer": "ipython3",
   "version": "3.9.9"
  }
 },
 "nbformat": 4,
 "nbformat_minor": 5
}
