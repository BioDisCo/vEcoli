{
 "cells": [
  {
   "cell_type": "code",
   "id": "8022bfb4-c69b-4cb7-a24c-fec017cc3661",
   "metadata": {
    "ExecuteTime": {
     "end_time": "2024-05-23T18:04:26.203149Z",
     "start_time": "2024-05-23T18:04:26.199312Z"
    }
   },
   "source": [
    "import numpy as np\n",
    "\n",
    "import seaborn as sns\n",
    "import pandas as pd\n",
    "import os\n",
    "import matplotlib.pyplot as plt\n",
    "import dill\n",
    "import requests\n",
    "import xmltodict\n",
    "import cvxpy as cp\n",
    "import itertools\n",
    "from scipy.special import logsumexp\n",
    "from scipy.sparse import csr_matrix\n",
    "\n",
    "sns.set(style='darkgrid', palette='viridis', context='talk')\n",
    "\n",
    "os.chdir(os.path.expanduser('~/vivarium-ecoli'))\n",
    "\n",
    "from ecoli.processes.metabolism_redux import NetworkFlowModel, FlowResult"
   ],
   "outputs": [],
   "execution_count": 130
  },
  {
   "metadata": {
    "ExecuteTime": {
     "end_time": "2024-05-23T17:00:51.464483Z",
     "start_time": "2024-05-23T17:00:51.461475Z"
    }
   },
   "cell_type": "code",
   "source": [
    "# jupyter autoreload modules\n",
    "\n",
    "%load_ext autoreload"
   ],
   "id": "2df18b60595c68c6",
   "outputs": [
    {
     "name": "stdout",
     "output_type": "stream",
     "text": [
      "The autoreload extension is already loaded. To reload it, use:\n",
      "  %reload_ext autoreload\n"
     ]
    }
   ],
   "execution_count": 3
  },
  {
   "cell_type": "markdown",
   "source": [
    "# Import simulation output\n",
    "\n",
    "Before running this, run a sim in ecoli/experiments/metabolism_redux_sim.py with -n 2 to generate a simulation output. This is necessary to replicate the simulation environment. Use the default .json config."
   ],
   "metadata": {
    "collapsed": false
   },
   "id": "a143cbbb-3570-4548-bc24-f499c070a880"
  },
  {
   "cell_type": "code",
   "source": [
    "time = '10'\n",
    "date = '2024-04-27'\n",
    "experiment = 'convex_kinetics'\n",
    "entry = f'{experiment}_{time}_{date}'\n",
    "folder = f'out/cofactors/{entry}/'"
   ],
   "metadata": {
    "collapsed": false,
    "ExecuteTime": {
     "end_time": "2024-05-23T17:00:51.467241Z",
     "start_time": "2024-05-23T17:00:51.465308Z"
    }
   },
   "id": "09934d23-df11-4304-9ef4-eb81f0b818c1",
   "outputs": [],
   "execution_count": 4
  },
  {
   "cell_type": "code",
   "source": [
    "output = np.load(folder + '0_output.npy',allow_pickle='TRUE').item()\n",
    "# output = np.load(r\"out/geneRxnVerifData/output_glc.npy\", allow_pickle=True, encoding='ASCII').tolist()\n",
    "output = output['agents']['0']\n",
    "fba = output['listeners']['fba_results']\n",
    "mass = output['listeners']['mass']\n",
    "bulk = pd.DataFrame(output['bulk'])"
   ],
   "metadata": {
    "collapsed": false,
    "ExecuteTime": {
     "end_time": "2024-05-23T17:00:51.580747Z",
     "start_time": "2024-05-23T17:00:51.468761Z"
    }
   },
   "id": "b31e4a2e-0491-4e96-946d-9bca6cd43d79",
   "outputs": [],
   "execution_count": 5
  },
  {
   "cell_type": "code",
   "source": [
    "f = open(folder + 'agent_steps.pkl', 'rb')\n",
    "agent = dill.load(f)\n",
    "f.close()"
   ],
   "metadata": {
    "collapsed": false,
    "ExecuteTime": {
     "end_time": "2024-05-23T17:00:52.256489Z",
     "start_time": "2024-05-23T17:00:51.582007Z"
    }
   },
   "id": "fc9f4494-cab0-43d1-bae7-85572d8e4166",
   "outputs": [],
   "execution_count": 6
  },
  {
   "cell_type": "code",
   "source": [
    "stoichiometry = agent['ecoli-metabolism-redux-classic'].stoichiometry\n",
    "process_rxn_names = agent['ecoli-metabolism-redux-classic'].reaction_names\n",
    "# maintenance_reaction = agent['ecoli-metabolism-redux-classic'].model.maintenance_reaction\n",
    "# stoichiometry[\"maintenance_reaction\"] = maintenance_reaction\n",
    "\n",
    "bad_rxns = [\"RXN-12440\", \"TRANS-RXN-121\", \"TRANS-RXN-300\", \"TRANS-RXN-8\", \"R15-RXN-MET/CPD-479//CPD-479/MET.25.\",\"DISULFOXRED-RXN[CCO-PERI-BAC]-MONOMER0-4152/MONOMER0-4438//MONOMER0-4438/MONOMER0-4152.71.\"]\n",
    "# generate carbon mistake in parca, efflux/influx proton gen, iron cheating, mass gen\n",
    "# for rxn in bad_rxns:\n",
    "#    stoichiometry.pop(rxn, None)\n"
   ],
   "metadata": {
    "collapsed": false,
    "ExecuteTime": {
     "end_time": "2024-05-23T17:00:52.259751Z",
     "start_time": "2024-05-23T17:00:52.257416Z"
    }
   },
   "id": "27c1e87b-1ff5-4d04-89ac-5aa2bf6dbb9a",
   "outputs": [],
   "execution_count": 7
  },
  {
   "cell_type": "markdown",
   "source": [
    "Pandas automatically understands dicts of dicts as matrices."
   ],
   "metadata": {
    "collapsed": false
   },
   "id": "cc853a7f-8d04-42f7-97d1-7ec846a4ef41"
  },
  {
   "cell_type": "markdown",
   "source": [
    "# Test changing nutrient composition"
   ],
   "metadata": {
    "collapsed": false
   },
   "id": "31b1bb0c-c85e-442c-8482-5d24d54fba82"
  },
  {
   "cell_type": "code",
   "source": [
    "velocities = fba[\"estimated_fluxes\"][4]\n",
    "# use reaction names to make a dict\n",
    "d_velocities = {k: v for k, v in zip(process_rxn_names, velocities)}"
   ],
   "metadata": {
    "collapsed": false,
    "ExecuteTime": {
     "end_time": "2024-05-23T17:00:52.263552Z",
     "start_time": "2024-05-23T17:00:52.261001Z"
    }
   },
   "id": "f05b6d54fe11d842",
   "outputs": [],
   "execution_count": 8
  },
  {
   "cell_type": "markdown",
   "source": [
    "# Filter S matrix to only include nonzero fluxes."
   ],
   "metadata": {
    "collapsed": false
   },
   "id": "d4033fc02bf2dda9"
  },
  {
   "cell_type": "code",
   "source": [
    "# only include nonzero fluxes in solution.velocities\n",
    "nonzero_velocities = {k: v for k, v in d_velocities.items() if v != 0}\n",
    "nonzero_velocities\n",
    "\n",
    "# reaction indices with nonzero fluxes\n",
    "nonzero_S_indices = [process_rxn_names.index(k) for k in nonzero_velocities.keys()]"
   ],
   "metadata": {
    "collapsed": false,
    "ExecuteTime": {
     "end_time": "2024-05-23T17:00:52.921693Z",
     "start_time": "2024-05-23T17:00:52.910333Z"
    }
   },
   "id": "4444a0cef2241182",
   "outputs": [],
   "execution_count": 9
  },
  {
   "cell_type": "code",
   "source": [],
   "metadata": {
    "collapsed": false,
    "ExecuteTime": {
     "end_time": "2024-05-23T17:00:53.522094Z",
     "start_time": "2024-05-23T17:00:53.520246Z"
    }
   },
   "id": "d5eebf9bd76509b",
   "outputs": [],
   "execution_count": 9
  },
  {
   "cell_type": "code",
   "source": [
    "# Use nonzero_velocities to filter S matrix\n",
    "S_matrix = stoichiometry[:, nonzero_S_indices]\n",
    "\n",
    "# remove rows of S_used that sum to zero.\n",
    "S_matrix = S_matrix[(S_matrix != 0).any(axis=1)]"
   ],
   "metadata": {
    "collapsed": false,
    "ExecuteTime": {
     "end_time": "2024-05-23T17:00:53.842850Z",
     "start_time": "2024-05-23T17:00:53.831346Z"
    }
   },
   "id": "5a473c3838843532",
   "outputs": [],
   "execution_count": 10
  },
  {
   "cell_type": "code",
   "source": [
    "S_matrix"
   ],
   "metadata": {
    "collapsed": false,
    "ExecuteTime": {
     "end_time": "2024-05-23T17:00:54.159982Z",
     "start_time": "2024-05-23T17:00:54.155940Z"
    }
   },
   "id": "d6352a7628b85d51",
   "outputs": [
    {
     "data": {
      "text/plain": [
       "array([[0, 0, 0, ..., 0, 0, 0],\n",
       "       [0, 0, 0, ..., 0, 0, 0],\n",
       "       [0, 0, 0, ..., 0, 0, 0],\n",
       "       ...,\n",
       "       [0, 0, 0, ..., 0, 0, 0],\n",
       "       [0, 0, 0, ..., 0, 0, 0],\n",
       "       [0, 0, 0, ..., 0, 1, 0]], dtype=int8)"
      ]
     },
     "execution_count": 11,
     "metadata": {},
     "output_type": "execute_result"
    }
   ],
   "execution_count": 11
  },
  {
   "cell_type": "markdown",
   "source": [
    "# First test. Single flux set. No eQuilibrator or regulation."
   ],
   "metadata": {
    "collapsed": false
   },
   "id": "a8db107005029e18"
  },
  {
   "cell_type": "code",
   "source": [
    "# sort nonzero_velocities to be in same order as S_matrix columns.\n",
    "vE_dict = nonzero_velocities\n",
    "vE = np.array([np.array(list(vE_dict.values()))])"
   ],
   "metadata": {
    "collapsed": false,
    "ExecuteTime": {
     "end_time": "2024-05-23T17:00:54.904904Z",
     "start_time": "2024-05-23T17:00:54.902503Z"
    }
   },
   "id": "c76654daa337ecba",
   "outputs": [],
   "execution_count": 12
  },
  {
   "cell_type": "code",
   "source": [
    "Sd = pd.DataFrame(S_matrix, columns=[k for k in nonzero_velocities.keys()])\n",
    "# Sd = pd.DataFrame(stoich_dict, dtype=np.int8).fillna(0).astype(np.int8)\n",
    "# Sd = Sd.iloc[0:7, 0:2]\n",
    "Sr = None\n",
    "\n",
    "\n",
    "Sd"
   ],
   "metadata": {
    "collapsed": false,
    "ExecuteTime": {
     "end_time": "2024-05-23T17:00:55.450158Z",
     "start_time": "2024-05-23T17:00:55.441901Z"
    }
   },
   "id": "a1d4e1bd56a10a69",
   "outputs": [
    {
     "data": {
      "text/plain": [
       "     1.5.1.20-RXN-5-METHYL-THF/NAD//METHYLENE-THF/NADH/PROTON.44. (reverse)  \\\n",
       "0                                                                         0   \n",
       "1                                                                         0   \n",
       "2                                                                         0   \n",
       "3                                                                         0   \n",
       "4                                                                         0   \n",
       "..                                                                      ...   \n",
       "461                                                                       0   \n",
       "462                                                                       0   \n",
       "463                                                                       0   \n",
       "464                                                                       0   \n",
       "465                                                                       0   \n",
       "\n",
       "     1.8.4.8-RXN-3-5-ADP/SO3/Ox-thioredoxins-1/PROTON//PAPS/Red-thioredoxins-1.62. (reverse)  \\\n",
       "0                                                                                          0   \n",
       "1                                                                                          0   \n",
       "2                                                                                          0   \n",
       "3                                                                                          0   \n",
       "4                                                                                          0   \n",
       "..                                                                                       ...   \n",
       "461                                                                                        0   \n",
       "462                                                                                        0   \n",
       "463                                                                                        0   \n",
       "464                                                                                        0   \n",
       "465                                                                                        0   \n",
       "\n",
       "     1TRANSKETO-RXN  2-DEHYDROPANTOATE-REDUCT-RXN (reverse)  \\\n",
       "0                 0                                       0   \n",
       "1                 0                                       0   \n",
       "2                 0                                       0   \n",
       "3                 0                                       0   \n",
       "4                 0                                       0   \n",
       "..              ...                                     ...   \n",
       "461               0                                       0   \n",
       "462               0                                       0   \n",
       "463               0                                       0   \n",
       "464               0                                       0   \n",
       "465               0                                       0   \n",
       "\n",
       "     2-ISOPROPYLMALATESYN-RXN  2-OCTAPRENYL-6-METHOXYPHENOL-HYDROX-RXN  \\\n",
       "0                           0                                        0   \n",
       "1                           0                                        0   \n",
       "2                           0                                        0   \n",
       "3                           0                                        0   \n",
       "4                           0                                        0   \n",
       "..                        ...                                      ...   \n",
       "461                         0                                        0   \n",
       "462                         0                                        0   \n",
       "463                         0                                        0   \n",
       "464                         0                                        0   \n",
       "465                         0                                        0   \n",
       "\n",
       "     2-OCTAPRENYL-6-OHPHENOL-METHY-RXN  2-OCTAPRENYL-METHOXY-BENZOQ-METH-RXN  \\\n",
       "0                                    0                                     0   \n",
       "1                                    0                                     0   \n",
       "2                                    0                                     0   \n",
       "3                                    0                                     0   \n",
       "4                                    0                                     0   \n",
       "..                                 ...                                   ...   \n",
       "461                                  0                                     0   \n",
       "462                                  0                                     0   \n",
       "463                                  0                                     0   \n",
       "464                                  0                                     0   \n",
       "465                                  0                                     0   \n",
       "\n",
       "     2-OCTAPRENYLPHENOL-HYDROX-RXN  2.3.1.157-RXN  ...  UDPGLUCEPIM-RXN  \\\n",
       "0                                0              0  ...                0   \n",
       "1                                0              0  ...                0   \n",
       "2                                0              0  ...                0   \n",
       "3                                0              0  ...                0   \n",
       "4                                0              0  ...                0   \n",
       "..                             ...            ...  ...              ...   \n",
       "461                              0              0  ...                0   \n",
       "462                              0              0  ...                0   \n",
       "463                              0              0  ...                0   \n",
       "464                              0              0  ...                0   \n",
       "465                              0              0  ...                0   \n",
       "\n",
       "     UDPHYDROXYMYRGLUCOSAMNACETYLTRANS-RXN  UDPKIN-RXN  \\\n",
       "0                                        0           0   \n",
       "1                                        0           0   \n",
       "2                                        0           0   \n",
       "3                                        0           0   \n",
       "4                                        0           0   \n",
       "..                                     ...         ...   \n",
       "461                                      0           0   \n",
       "462                                      0           0   \n",
       "463                                      0           0   \n",
       "464                                      0           0   \n",
       "465                                      0           0   \n",
       "\n",
       "     UDPNACETYLGLUCOSAMACYLTRANS-RXN  UGD-RXN  URA-PHOSPH-RXN (reverse)  \\\n",
       "0                                  0        0                         0   \n",
       "1                                  0        0                         0   \n",
       "2                                  0        0                         0   \n",
       "3                                  0        0                         0   \n",
       "4                                  0        0                         0   \n",
       "..                               ...      ...                       ...   \n",
       "461                                0        0                         0   \n",
       "462                                0        0                         0   \n",
       "463                                0        0                         0   \n",
       "464                                0        0                         0   \n",
       "465                                0        0                         0   \n",
       "\n",
       "     UROGENDECARBOX-RXN  UROGENIIISYN-RXN  glycogen-monomer-extension  \\\n",
       "0                     0                 0                           0   \n",
       "1                     0                 0                           0   \n",
       "2                     0                 0                           0   \n",
       "3                     0                 0                           0   \n",
       "4                     0                 0                           0   \n",
       "..                  ...               ...                         ...   \n",
       "461                   0                 0                           0   \n",
       "462                   0                 0                           0   \n",
       "463                   0                 0                           0   \n",
       "464                   0                 0                           0   \n",
       "465                   0                 0                           1   \n",
       "\n",
       "     maintenance_reaction  \n",
       "0                       0  \n",
       "1                       0  \n",
       "2                       0  \n",
       "3                       0  \n",
       "4                       0  \n",
       "..                    ...  \n",
       "461                     0  \n",
       "462                     0  \n",
       "463                     0  \n",
       "464                     0  \n",
       "465                     0  \n",
       "\n",
       "[466 rows x 438 columns]"
      ],
      "text/html": [
       "<div>\n",
       "<style scoped>\n",
       "    .dataframe tbody tr th:only-of-type {\n",
       "        vertical-align: middle;\n",
       "    }\n",
       "\n",
       "    .dataframe tbody tr th {\n",
       "        vertical-align: top;\n",
       "    }\n",
       "\n",
       "    .dataframe thead th {\n",
       "        text-align: right;\n",
       "    }\n",
       "</style>\n",
       "<table border=\"1\" class=\"dataframe\">\n",
       "  <thead>\n",
       "    <tr style=\"text-align: right;\">\n",
       "      <th></th>\n",
       "      <th>1.5.1.20-RXN-5-METHYL-THF/NAD//METHYLENE-THF/NADH/PROTON.44. (reverse)</th>\n",
       "      <th>1.8.4.8-RXN-3-5-ADP/SO3/Ox-thioredoxins-1/PROTON//PAPS/Red-thioredoxins-1.62. (reverse)</th>\n",
       "      <th>1TRANSKETO-RXN</th>\n",
       "      <th>2-DEHYDROPANTOATE-REDUCT-RXN (reverse)</th>\n",
       "      <th>2-ISOPROPYLMALATESYN-RXN</th>\n",
       "      <th>2-OCTAPRENYL-6-METHOXYPHENOL-HYDROX-RXN</th>\n",
       "      <th>2-OCTAPRENYL-6-OHPHENOL-METHY-RXN</th>\n",
       "      <th>2-OCTAPRENYL-METHOXY-BENZOQ-METH-RXN</th>\n",
       "      <th>2-OCTAPRENYLPHENOL-HYDROX-RXN</th>\n",
       "      <th>2.3.1.157-RXN</th>\n",
       "      <th>...</th>\n",
       "      <th>UDPGLUCEPIM-RXN</th>\n",
       "      <th>UDPHYDROXYMYRGLUCOSAMNACETYLTRANS-RXN</th>\n",
       "      <th>UDPKIN-RXN</th>\n",
       "      <th>UDPNACETYLGLUCOSAMACYLTRANS-RXN</th>\n",
       "      <th>UGD-RXN</th>\n",
       "      <th>URA-PHOSPH-RXN (reverse)</th>\n",
       "      <th>UROGENDECARBOX-RXN</th>\n",
       "      <th>UROGENIIISYN-RXN</th>\n",
       "      <th>glycogen-monomer-extension</th>\n",
       "      <th>maintenance_reaction</th>\n",
       "    </tr>\n",
       "  </thead>\n",
       "  <tbody>\n",
       "    <tr>\n",
       "      <th>0</th>\n",
       "      <td>0</td>\n",
       "      <td>0</td>\n",
       "      <td>0</td>\n",
       "      <td>0</td>\n",
       "      <td>0</td>\n",
       "      <td>0</td>\n",
       "      <td>0</td>\n",
       "      <td>0</td>\n",
       "      <td>0</td>\n",
       "      <td>0</td>\n",
       "      <td>...</td>\n",
       "      <td>0</td>\n",
       "      <td>0</td>\n",
       "      <td>0</td>\n",
       "      <td>0</td>\n",
       "      <td>0</td>\n",
       "      <td>0</td>\n",
       "      <td>0</td>\n",
       "      <td>0</td>\n",
       "      <td>0</td>\n",
       "      <td>0</td>\n",
       "    </tr>\n",
       "    <tr>\n",
       "      <th>1</th>\n",
       "      <td>0</td>\n",
       "      <td>0</td>\n",
       "      <td>0</td>\n",
       "      <td>0</td>\n",
       "      <td>0</td>\n",
       "      <td>0</td>\n",
       "      <td>0</td>\n",
       "      <td>0</td>\n",
       "      <td>0</td>\n",
       "      <td>0</td>\n",
       "      <td>...</td>\n",
       "      <td>0</td>\n",
       "      <td>0</td>\n",
       "      <td>0</td>\n",
       "      <td>0</td>\n",
       "      <td>0</td>\n",
       "      <td>0</td>\n",
       "      <td>0</td>\n",
       "      <td>0</td>\n",
       "      <td>0</td>\n",
       "      <td>0</td>\n",
       "    </tr>\n",
       "    <tr>\n",
       "      <th>2</th>\n",
       "      <td>0</td>\n",
       "      <td>0</td>\n",
       "      <td>0</td>\n",
       "      <td>0</td>\n",
       "      <td>0</td>\n",
       "      <td>0</td>\n",
       "      <td>0</td>\n",
       "      <td>0</td>\n",
       "      <td>0</td>\n",
       "      <td>0</td>\n",
       "      <td>...</td>\n",
       "      <td>0</td>\n",
       "      <td>0</td>\n",
       "      <td>0</td>\n",
       "      <td>0</td>\n",
       "      <td>0</td>\n",
       "      <td>0</td>\n",
       "      <td>0</td>\n",
       "      <td>0</td>\n",
       "      <td>0</td>\n",
       "      <td>0</td>\n",
       "    </tr>\n",
       "    <tr>\n",
       "      <th>3</th>\n",
       "      <td>0</td>\n",
       "      <td>0</td>\n",
       "      <td>0</td>\n",
       "      <td>0</td>\n",
       "      <td>0</td>\n",
       "      <td>0</td>\n",
       "      <td>0</td>\n",
       "      <td>0</td>\n",
       "      <td>0</td>\n",
       "      <td>0</td>\n",
       "      <td>...</td>\n",
       "      <td>0</td>\n",
       "      <td>0</td>\n",
       "      <td>0</td>\n",
       "      <td>0</td>\n",
       "      <td>0</td>\n",
       "      <td>0</td>\n",
       "      <td>0</td>\n",
       "      <td>0</td>\n",
       "      <td>0</td>\n",
       "      <td>0</td>\n",
       "    </tr>\n",
       "    <tr>\n",
       "      <th>4</th>\n",
       "      <td>0</td>\n",
       "      <td>0</td>\n",
       "      <td>0</td>\n",
       "      <td>0</td>\n",
       "      <td>0</td>\n",
       "      <td>0</td>\n",
       "      <td>0</td>\n",
       "      <td>0</td>\n",
       "      <td>0</td>\n",
       "      <td>0</td>\n",
       "      <td>...</td>\n",
       "      <td>0</td>\n",
       "      <td>0</td>\n",
       "      <td>0</td>\n",
       "      <td>0</td>\n",
       "      <td>0</td>\n",
       "      <td>0</td>\n",
       "      <td>0</td>\n",
       "      <td>0</td>\n",
       "      <td>0</td>\n",
       "      <td>0</td>\n",
       "    </tr>\n",
       "    <tr>\n",
       "      <th>...</th>\n",
       "      <td>...</td>\n",
       "      <td>...</td>\n",
       "      <td>...</td>\n",
       "      <td>...</td>\n",
       "      <td>...</td>\n",
       "      <td>...</td>\n",
       "      <td>...</td>\n",
       "      <td>...</td>\n",
       "      <td>...</td>\n",
       "      <td>...</td>\n",
       "      <td>...</td>\n",
       "      <td>...</td>\n",
       "      <td>...</td>\n",
       "      <td>...</td>\n",
       "      <td>...</td>\n",
       "      <td>...</td>\n",
       "      <td>...</td>\n",
       "      <td>...</td>\n",
       "      <td>...</td>\n",
       "      <td>...</td>\n",
       "      <td>...</td>\n",
       "    </tr>\n",
       "    <tr>\n",
       "      <th>461</th>\n",
       "      <td>0</td>\n",
       "      <td>0</td>\n",
       "      <td>0</td>\n",
       "      <td>0</td>\n",
       "      <td>0</td>\n",
       "      <td>0</td>\n",
       "      <td>0</td>\n",
       "      <td>0</td>\n",
       "      <td>0</td>\n",
       "      <td>0</td>\n",
       "      <td>...</td>\n",
       "      <td>0</td>\n",
       "      <td>0</td>\n",
       "      <td>0</td>\n",
       "      <td>0</td>\n",
       "      <td>0</td>\n",
       "      <td>0</td>\n",
       "      <td>0</td>\n",
       "      <td>0</td>\n",
       "      <td>0</td>\n",
       "      <td>0</td>\n",
       "    </tr>\n",
       "    <tr>\n",
       "      <th>462</th>\n",
       "      <td>0</td>\n",
       "      <td>0</td>\n",
       "      <td>0</td>\n",
       "      <td>0</td>\n",
       "      <td>0</td>\n",
       "      <td>0</td>\n",
       "      <td>0</td>\n",
       "      <td>0</td>\n",
       "      <td>0</td>\n",
       "      <td>0</td>\n",
       "      <td>...</td>\n",
       "      <td>0</td>\n",
       "      <td>0</td>\n",
       "      <td>0</td>\n",
       "      <td>0</td>\n",
       "      <td>0</td>\n",
       "      <td>0</td>\n",
       "      <td>0</td>\n",
       "      <td>0</td>\n",
       "      <td>0</td>\n",
       "      <td>0</td>\n",
       "    </tr>\n",
       "    <tr>\n",
       "      <th>463</th>\n",
       "      <td>0</td>\n",
       "      <td>0</td>\n",
       "      <td>0</td>\n",
       "      <td>0</td>\n",
       "      <td>0</td>\n",
       "      <td>0</td>\n",
       "      <td>0</td>\n",
       "      <td>0</td>\n",
       "      <td>0</td>\n",
       "      <td>0</td>\n",
       "      <td>...</td>\n",
       "      <td>0</td>\n",
       "      <td>0</td>\n",
       "      <td>0</td>\n",
       "      <td>0</td>\n",
       "      <td>0</td>\n",
       "      <td>0</td>\n",
       "      <td>0</td>\n",
       "      <td>0</td>\n",
       "      <td>0</td>\n",
       "      <td>0</td>\n",
       "    </tr>\n",
       "    <tr>\n",
       "      <th>464</th>\n",
       "      <td>0</td>\n",
       "      <td>0</td>\n",
       "      <td>0</td>\n",
       "      <td>0</td>\n",
       "      <td>0</td>\n",
       "      <td>0</td>\n",
       "      <td>0</td>\n",
       "      <td>0</td>\n",
       "      <td>0</td>\n",
       "      <td>0</td>\n",
       "      <td>...</td>\n",
       "      <td>0</td>\n",
       "      <td>0</td>\n",
       "      <td>0</td>\n",
       "      <td>0</td>\n",
       "      <td>0</td>\n",
       "      <td>0</td>\n",
       "      <td>0</td>\n",
       "      <td>0</td>\n",
       "      <td>0</td>\n",
       "      <td>0</td>\n",
       "    </tr>\n",
       "    <tr>\n",
       "      <th>465</th>\n",
       "      <td>0</td>\n",
       "      <td>0</td>\n",
       "      <td>0</td>\n",
       "      <td>0</td>\n",
       "      <td>0</td>\n",
       "      <td>0</td>\n",
       "      <td>0</td>\n",
       "      <td>0</td>\n",
       "      <td>0</td>\n",
       "      <td>0</td>\n",
       "      <td>...</td>\n",
       "      <td>0</td>\n",
       "      <td>0</td>\n",
       "      <td>0</td>\n",
       "      <td>0</td>\n",
       "      <td>0</td>\n",
       "      <td>0</td>\n",
       "      <td>0</td>\n",
       "      <td>0</td>\n",
       "      <td>1</td>\n",
       "      <td>0</td>\n",
       "    </tr>\n",
       "  </tbody>\n",
       "</table>\n",
       "<p>466 rows × 438 columns</p>\n",
       "</div>"
      ]
     },
     "execution_count": 13,
     "metadata": {},
     "output_type": "execute_result"
    }
   ],
   "execution_count": 13
  },
  {
   "cell_type": "code",
   "source": [
    "from convex_kinetics_new import ConvexKineticsNew"
   ],
   "metadata": {
    "collapsed": false,
    "ExecuteTime": {
     "end_time": "2024-05-23T17:48:49.115525Z",
     "start_time": "2024-05-23T17:48:49.112912Z"
    }
   },
   "id": "47401ee1ac3e84fb",
   "outputs": [],
   "execution_count": 99
  },
  {
   "cell_type": "code",
   "source": [
    "E = ConvexKineticsNew()\n",
    "y_f, y_r, y_s, y_p, y_i, y_a, cfwd, crev, c, Km_s, Km_p, Km_i, Km_a, S_s, S_p, S_i, S_a, \\\n",
    "            met_s_nz, met_p_nz, met_i_nz, met_a_nz, rxn_s_nz, rxn_p_nz, rxn_i_nz, rxn_a_nz, \\\n",
    "            n_rxn, n_met, n_flux_set, S_s_nz, S_p_nz, S_s_mol, S_p_mol, S = E.set_up_variables(S_matrix=Sd, R_matrix=Sr, flow_data=vE)"
   ],
   "metadata": {
    "collapsed": false,
    "ExecuteTime": {
     "end_time": "2024-05-23T17:48:49.300307Z",
     "start_time": "2024-05-23T17:48:49.294533Z"
    }
   },
   "id": "616ccb3db842e3a3",
   "outputs": [
    {
     "name": "stdout",
     "output_type": "stream",
     "text": [
      "Number of metabolites: 466, number of reactions: 438, number of flux sets: 1\n",
      "Number of Km_s: 927, number of Km_p: 1039, number of Km_i: None, number of Km_a: None\n",
      "Number of concentrations: (466, 1), number of y_f: (1, 927), number of y_r: (1, 1039)\n"
     ]
    }
   ],
   "execution_count": 100
  },
  {
   "cell_type": "code",
   "source": [
    "C_alpha, C_beta, d_alpha, d_beta = E.construct_binding_matrix(n_rxn, S_s, S_p, S_i, S_a, Sr, met_s_nz, met_p_nz, met_i_nz, met_a_nz, rxn_s_nz, rxn_p_nz, rxn_i_nz, rxn_a_nz)"
   ],
   "metadata": {
    "collapsed": false,
    "ExecuteTime": {
     "end_time": "2024-05-23T17:48:49.481286Z",
     "start_time": "2024-05-23T17:48:49.421065Z"
    }
   },
   "id": "9a91362b271911d9",
   "outputs": [
    {
     "name": "stdout",
     "output_type": "stream",
     "text": [
      "Shape of C_alpha: (1708, 927), shape of C_beta: (2294, 1039)\n",
      "Shape of d_alpha: (1708,), shape of d_beta: (2294,)\n"
     ]
    }
   ],
   "execution_count": 101
  },
  {
   "cell_type": "code",
   "source": [
    "LSE_expr, denom_expr = E.construct_kinetic_objective(vE, n_flux_set, n_rxn, C_alpha, C_beta, d_alpha, d_beta, S_s_nz, S_p_nz, S, y_f, y_r, y_s, y_p, cfwd, crev)"
   ],
   "metadata": {
    "collapsed": false,
    "ExecuteTime": {
     "end_time": "2024-05-23T17:48:49.743719Z",
     "start_time": "2024-05-23T17:48:49.549283Z"
    }
   },
   "id": "f432cea7a599f271",
   "outputs": [],
   "execution_count": 102
  },
  {
   "cell_type": "code",
   "source": [
    "loss = E.create_objective_function(cfwd, crev, c, Km_s, Km_p, Km_i, Km_a, y_s, y_p, LSE_expr, denom_expr)"
   ],
   "metadata": {
    "collapsed": false,
    "ExecuteTime": {
     "end_time": "2024-05-23T17:48:49.847561Z",
     "start_time": "2024-05-23T17:48:49.798691Z"
    }
   },
   "id": "1879d511ad802b67",
   "outputs": [],
   "execution_count": 103
  },
  {
   "cell_type": "code",
   "source": [
    "constr = E.set_parameter_bounds(cfwd, crev, c, Km_s, Km_p, Km_i, Km_a, lower_bound=-12, upper_bound=18)"
   ],
   "metadata": {
    "collapsed": false,
    "ExecuteTime": {
     "end_time": "2024-05-23T17:48:49.864620Z",
     "start_time": "2024-05-23T17:48:49.862058Z"
    }
   },
   "id": "e78fd83188178f7a",
   "outputs": [],
   "execution_count": 104
  },
  {
   "cell_type": "code",
   "source": [
    "problem = E.set_up_problem(loss, constr)\n"
   ],
   "metadata": {
    "collapsed": false,
    "ExecuteTime": {
     "end_time": "2024-05-23T17:48:50.290470Z",
     "start_time": "2024-05-23T17:48:50.261274Z"
    }
   },
   "id": "f1cba2d8a56c35d9",
   "outputs": [
    {
     "name": "stderr",
     "output_type": "stream",
     "text": [
      "/Users/cyrus/.pyenv/versions/viv-10/lib/python3.10/site-packages/cvxpy/problems/problem.py:158: UserWarning: Objective contains too many subexpressions. Consider vectorizing your CVXPY code to speed up compilation.\n",
      "  warnings.warn(\"Objective contains too many subexpressions. \"\n"
     ]
    }
   ],
   "execution_count": 105
  },
  {
   "cell_type": "code",
   "source": [
    "solution = E.solve(problem)\n"
   ],
   "metadata": {
    "collapsed": false,
    "ExecuteTime": {
     "end_time": "2024-05-23T17:49:10.775823Z",
     "start_time": "2024-05-23T17:48:50.291590Z"
    }
   },
   "id": "c87be4abc4171e7b",
   "outputs": [],
   "execution_count": 106
  },
  {
   "cell_type": "code",
   "source": [
    "solution.value"
   ],
   "metadata": {
    "collapsed": false,
    "ExecuteTime": {
     "end_time": "2024-05-23T17:49:10.837671Z",
     "start_time": "2024-05-23T17:49:10.797560Z"
    }
   },
   "id": "a75b5fa2a54490d1",
   "outputs": [
    {
     "data": {
      "text/plain": [
       "40.39801177888911"
      ]
     },
     "execution_count": 107,
     "metadata": {},
     "output_type": "execute_result"
    }
   ],
   "execution_count": 107
  },
  {
   "metadata": {
    "ExecuteTime": {
     "end_time": "2024-05-23T17:49:13.694991Z",
     "start_time": "2024-05-23T17:49:10.864285Z"
    }
   },
   "cell_type": "code",
   "source": [
    "equality_constr = []\n",
    "\n",
    "for v in LSE_expr:\n",
    "    #print(v.value)\n",
    "    equality_constr.append(logsumexp(v.value))\n",
    "    \n",
    "plt.plot(equality_constr)"
   ],
   "id": "e56e3906d703ac82",
   "outputs": [
    {
     "data": {
      "text/plain": [
       "[<matplotlib.lines.Line2D at 0x2ca9865f0>]"
      ]
     },
     "execution_count": 108,
     "metadata": {},
     "output_type": "execute_result"
    },
    {
     "data": {
      "text/plain": [
       "<Figure size 640x480 with 1 Axes>"
      ],
      "image/png": "[encoded data removed]"
     },
     "metadata": {},
     "output_type": "display_data"
    }
   ],
   "execution_count": 108
  },
  {
   "metadata": {},
   "cell_type": "markdown",
   "source": "# Solution-based recon",
   "id": "8e13497e4e0cac89"
  },
  {
   "metadata": {},
   "cell_type": "code",
   "outputs": [],
   "execution_count": 79,
   "source": [
    "reconstructed_vE = np.zeros(vE.shape)\n",
    "\n",
    "for j in range(n_flux_set):\n",
    "    sat_expr = []\n",
    "    fwd_sat = np.zeros(n_rxn)\n",
    "    back_sat = np.zeros(n_rxn)\n",
    "    sat = np.zeros(n_rxn)\n",
    "\n",
    "    for i in range(n_rxn):\n",
    "        # sum terms are separate in logsumexp. one per saturation term (row in C_alpha, C_beta)\n",
    "        n_term_s = np.sum(d_alpha == i)\n",
    "        n_term_p = np.sum(d_beta == i)\n",
    "        n_term = n_term_s + n_term_p\n",
    "\n",
    "\n",
    "        Km_s_idx = np.nonzero(S_s_nz[1, :] == i)\n",
    "        S_s_idx = S_s_nz[0, S_s_nz[1, :] == i] # negate -1 entries\n",
    "\n",
    "        Km_p_idx = np.nonzero(S_p_nz[1, :] == i)\n",
    "        S_p_idx = S_p_nz[0, S_p_nz[1, :] == i]\n",
    "\n",
    "        #S_s_idx = S_s_nz[0, S_s_nz[1, :] == i]\n",
    "\n",
    "        sat_expr.append(           [ (C_alpha @ y_f.value[j, :].flatten())[d_alpha == i] ,\n",
    "                                     (C_beta @ y_r.value[j, :].flatten())[d_beta == i],\n",
    "                                     0,\n",
    "                                     #-1*np.ones(n_lse_terms - n_term + 1)\n",
    "                                   ]\n",
    "                       )\n",
    "        fwd_sat[i] = (np.exp(-S.T[i, S_s_idx] @ y_s.value[j, Km_s_idx].flatten())) # + cfwd.value[i]\n",
    "        back_sat[i] = (np.exp(S.T[i, S_p_idx] @ y_p.value[j, Km_p_idx].flatten())) # + cfwd.value[i]\n",
    "\n",
    "\n",
    "\n",
    "    for i, rxn in enumerate(sat_expr):\n",
    "        s = 0\n",
    "\n",
    "        for term in rxn:\n",
    "            s += np.sum(np.exp(term))\n",
    "\n",
    "        sat[i] = (s)\n",
    "\n",
    "    reconstr = np.exp(cfwd.value) * fwd_sat/sat - np.exp(crev.value) * back_sat/sat\n",
    "    print(reconstr)\n",
    "    reconstructed_vE[j, :] = reconstr"
   ],
   "id": "72ce6feef4e8f50c"
  },
  {
   "metadata": {},
   "cell_type": "markdown",
   "source": "# Check fluxes",
   "id": "6bba494cbf72b853"
  },
  {
   "metadata": {},
   "cell_type": "code",
   "outputs": [],
   "execution_count": null,
   "source": [
    "df_vE = pd.DataFrame(vE, columns=Sd.columns, index=[\"Flux set 1\"]).melt(ignore_index=False).reset_index(drop=False)\n",
    "df_vE[\"kind\"] = \"Actual flux\"\n",
    "df_recon = pd.DataFrame(reconstructed_vE, columns=Sd.columns, index=[\"Flux set 1\"]).melt(ignore_index=False).reset_index(drop=False)\n",
    "df_recon[\"kind\"] = \"Reconstructed flux\"\n",
    "\n",
    "df_reconstr_comp = pd.concat([df_vE, df_recon]).reset_index(drop=True)\n",
    "# df_reconstr_comp\n",
    "\n"
   ],
   "id": "c62c2927dcc36e42"
  },
  {
   "metadata": {},
   "cell_type": "code",
   "outputs": [],
   "execution_count": null,
   "source": [
    "# sort df_reconstr_comp by value\n",
    "df_reconstr_comp = df_reconstr_comp.sort_values(by=\"value\", ascending=False).reset_index(drop=True)\n",
    "\n",
    "sns.catplot(y=\"variable\", x=\"value\", data=df_reconstr_comp, kind=\"bar\", height=100, aspect=0.5)\n",
    "\n",
    "# change x axis to log scale\n",
    "plt.xscale('log')\n",
    "\n",
    "# limit length of y axis labels to 20 characters\n",
    "plt.gca().set_yticklabels([t.get_text()[:20] for t in plt.gca().get_yticklabels()])"
   ],
   "id": "ee58e3d02dc035a8"
  },
  {
   "metadata": {},
   "cell_type": "markdown",
   "source": "# Simulation-structured recon",
   "id": "eff0466a12d94cf3"
  },
  {
   "metadata": {
    "ExecuteTime": {
     "end_time": "2024-05-23T18:41:18.728165Z",
     "start_time": "2024-05-23T18:41:18.705512Z"
    }
   },
   "cell_type": "code",
   "source": [
    "# pre rxn \n",
    "cn = np.array(c.value)[:, 0]\n",
    "j = 0\n",
    "i = -1\n",
    "\n",
    "sat_expr = []\n",
    "fwd_sat = np.zeros(n_rxn)\n",
    "back_sat = np.zeros(n_rxn)\n",
    "sat = np.zeros(n_rxn)\n",
    "v_cur = np.zeros(n_rxn)\n",
    "\n",
    "S_x = csr_matrix(S)\n",
    "C_alpha_x = csr_matrix(C_alpha)\n",
    "C_beta_x = csr_matrix(C_beta)\n",
    "\n",
    "# define y vecs\n",
    "y_s_t, y_p_t, y_i_t, y_a_t = [], [], [], []\n",
    "\n",
    "# condense the code below into one line\n",
    "y_s_t.append(np.multiply(S_s_mol, cn[met_s_nz] - Km_s.value))\n",
    "y_p_t.append(np.multiply(S_p_mol, cn[met_p_nz] - Km_p.value))\n",
    "y_i_t.append(cn[met_i_nz] - Km_i.value if Km_i else None)\n",
    "y_a_t.append(-(cn[met_a_nz] - Km_a.value) if Km_a else None)\n",
    "\n",
    "y_s = np.vstack(y_s_t).flatten()\n",
    "y_p = np.vstack(y_p_t).flatten()\n",
    "y_i = np.vstack(y_i_t).flatten()\n",
    "y_a = np.vstack(y_a_t).flatten()\n",
    "\n",
    "y_f_vec = [y_s]\n",
    "y_r_vec = [y_p]\n",
    "if Km_i:\n",
    "    y_f_vec.append(y_i)\n",
    "    y_r_vec.append(y_i)\n",
    "if Km_a:\n",
    "    y_f_vec.append(y_a)\n",
    "    y_r_vec.append(y_a)\n",
    "\n",
    "y_f_n = np.hstack(y_f_vec).flatten()\n",
    "y_r_n = np.hstack(y_r_vec).flatten()\n",
    "\n",
    "\n",
    "# now for each reaction in the set, calculate the saturation terms\n"
   ],
   "id": "740749aa1b9e5ca6",
   "outputs": [],
   "execution_count": 177
  },
  {
   "metadata": {
    "ExecuteTime": {
     "end_time": "2024-05-23T18:41:19.334580Z",
     "start_time": "2024-05-23T18:41:19.247506Z"
    }
   },
   "cell_type": "code",
   "source": [
    "\n",
    "\n",
    "for i in range(n_rxn):\n",
    "    # sum terms are separate in logsumexp. one per saturation term (row in C_alpha, C_beta)\n",
    "    Km_s_idx = np.nonzero(S_s_nz[1, :] == i)\n",
    "    S_s_idx = S_s_nz[0, S_s_nz[1, :] == i] # negate -1 entries\n",
    "\n",
    "    Km_p_idx = np.nonzero(S_p_nz[1, :] == i)\n",
    "    S_p_idx = S_p_nz[0, S_p_nz[1, :] == i]\n",
    "    \n",
    "    cur_sat =  (C_alpha_x @ y_f_n)[d_alpha == i].tolist() + \\\n",
    "                (C_beta_x @ y_r_n)[d_beta == i].tolist() + \\\n",
    "                [0],\n",
    "    \n",
    "    sat[i] = np.sum(np.exp(cur_sat))\n",
    "    \n",
    "    \n",
    "    fwd_sat[i] = (np.exp(-S_x.T[i, S_s_idx] @ y_s[Km_s_idx])) # + cfwd.value[i]\n",
    "    back_sat[i] = (np.exp(S_x.T[i, S_p_idx] @ y_p[Km_p_idx])) # + cfwd.value[i]\n",
    "\n",
    "    \n",
    "reconstr = np.exp(cfwd.value) * fwd_sat/sat - np.exp(crev.value) * back_sat/sat\n",
    "\n",
    "dmdt = S_x @ reconstr\n"
   ],
   "id": "1d3715c314909a56",
   "outputs": [],
   "execution_count": 178
  }
 ],
 "metadata": {
  "kernelspec": {
   "display_name": "Python 3 (ipykernel)",
   "language": "python",
   "name": "python3"
  },
  "language_info": {
   "codemirror_mode": {
    "name": "ipython",
    "version": 3
   },
   "file_extension": ".py",
   "mimetype": "text/x-python",
   "name": "python",
   "nbconvert_exporter": "python",
   "pygments_lexer": "ipython3",
   "version": "3.9.9"
  }
 },
 "nbformat": 4,
 "nbformat_minor": 5
}
