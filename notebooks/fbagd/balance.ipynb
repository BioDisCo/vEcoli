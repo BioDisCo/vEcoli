{
 "cells": [
  {
   "cell_type": "code",
   "execution_count": 1,
   "id": "89c876b4-8497-499f-a413-26ad32cec39e",
   "metadata": {},
   "outputs": [],
   "source": [
    "import numpy as np\n",
    "from scipy import linalg\n",
    "from scipy.special import logsumexp\n",
    "import seaborn as sns\n",
    "import pandas as pd\n",
    "import os\n",
    "import matplotlib.pyplot as plt\n",
    "import networkx as nx\n",
    "from sklearn.preprocessing import MinMaxScaler, StandardScaler\n",
    "import dill\n",
    "from equilibrator_api import ComponentContribution, Q_, Reaction\n",
    "import requests\n",
    "import xmltodict\n",
    "import pint\n",
    "import cvxpy as cp\n",
    "import itertools\n",
    "import copy\n",
    "from convex_kinetics import ConvexKinetics\n",
    "\n",
    "sns.set(style='darkgrid', palette='viridis', context='talk')\n",
    "\n",
    "os.chdir(os.path.expanduser('~/vivarium-ecoli'))"
   ]
  },
  {
   "cell_type": "markdown",
   "id": "82a34091-b89a-4a8b-b49e-ce86aeab25c6",
   "metadata": {},
   "source": [
    "A + B -E1> C -E2> D\n",
    "\n",
    "B -E3> F\n",
    "\n",
    "A -E4> G"
   ]
  },
  {
   "cell_type": "markdown",
   "id": "2cc077b2-8c38-4065-b306-2e91611fd975",
   "metadata": {
    "jp-MarkdownHeadingCollapsed": true,
    "tags": []
   },
   "source": [
    "# Testing eQuilibrator"
   ]
  },
  {
   "cell_type": "code",
   "execution_count": 2,
   "id": "77f87609-2312-4734-8970-05177c5c3434",
   "metadata": {},
   "outputs": [],
   "source": [
    "cc = ComponentContribution()\n",
    "\n",
    "# optional: changing the aqueous environment parameters\n",
    "cc.p_h = Q_(7.4)\n",
    "cc.p_mg = Q_(3.0)\n",
    "cc.ionic_strength = Q_(\"0.25M\")\n",
    "cc.temperature = Q_(\"298.15K\")\n",
    "\n"
   ]
  },
  {
   "cell_type": "code",
   "execution_count": 3,
   "id": "90008655-107b-487c-b60b-a98b12137dd6",
   "metadata": {},
   "outputs": [],
   "source": [
    "from equilibrator_api import Reaction\n",
    "compound_ids = [\"WATER\", \"ADP\", \"ATP\", \"Pi\"]\n",
    "compound_dict = {cid : cc.get_compound(f\"metacyc.compound:{cid}\") for cid in compound_ids}\n",
    "atpase_reaction = Reaction({\n",
    "    compound_dict[\"ATP\"]: -1,\n",
    "    compound_dict[\"WATER\"]: -1,\n",
    "    compound_dict[\"ADP\"]: 1,\n",
    "    compound_dict[\"Pi\"]: 1,\n",
    "})"
   ]
  },
  {
   "cell_type": "code",
   "execution_count": 4,
   "id": "ac886c79-121d-4d77-9ba0-eb4b25d19039",
   "metadata": {},
   "outputs": [
    {
     "data": {
      "text/plain": "<Measurement(-29.144472212600157, 0.3042778553577678, kilojoule / mole)>",
      "text/html": "(-29.14 &plusmn; 0.30) kilojoule/mole",
      "text/latex": "$\\left(-29.14 \\pm 0.30\\right)\\ \\frac{\\mathrm{kilojoule}}{\\mathrm{mole}}$"
     },
     "execution_count": 4,
     "metadata": {},
     "output_type": "execute_result"
    }
   ],
   "source": [
    "standard_dg_prime = cc.standard_dg_prime(atpase_reaction)\n",
    "standard_dg_prime"
   ]
  },
  {
   "cell_type": "code",
   "execution_count": 5,
   "id": "c6be2265-c9ec-45cf-8b87-8ca2df1376dd",
   "metadata": {},
   "outputs": [
    {
     "name": "stdout",
     "output_type": "stream",
     "text": [
      "(-44.8 +/- 0.6) kilojoule / mole\n"
     ]
    }
   ],
   "source": [
    "cytoplasmic_p_h = Q_(7.5)\n",
    "cytoplasmic_ionic_strength = Q_(\"250 mM\")\n",
    "periplasmic_p_h = Q_(7.0)\n",
    "periplasmic_ionic_strength = Q_(\"200 mM\")\n",
    "e_potential_difference = Q_(\"0.15 V\")\n",
    "cytoplasmic_reaction = \"bigg.metabolite:pep = bigg.metabolite:g6p + bigg.metabolite:pyr\"\n",
    "periplasmic_reaction = \"bigg.metabolite:glc__D = \"\n",
    "\n",
    "cc = ComponentContribution()\n",
    "cc.p_h = cytoplasmic_p_h\n",
    "cc.ionic_strength = cytoplasmic_ionic_strength\n",
    "standard_dg_prime = cc.multicompartmental_standard_dg_prime(\n",
    "    cc.parse_reaction_formula(cytoplasmic_reaction),\n",
    "    cc.parse_reaction_formula(periplasmic_reaction),\n",
    "    e_potential_difference=e_potential_difference,\n",
    "    p_h_outer=periplasmic_p_h,\n",
    "    ionic_strength_outer=periplasmic_ionic_strength,\n",
    ")\n",
    "\n",
    "print(standard_dg_prime)\n"
   ]
  },
  {
   "cell_type": "code",
   "execution_count": 6,
   "id": "3c97b6b4-77e2-4ddb-926c-b39f4780811b",
   "metadata": {},
   "outputs": [],
   "source": [
    "cc.get_compound_by_inchi(\"WQZGKKKJIJFFOK-GASJEMHNSA-N\")"
   ]
  },
  {
   "cell_type": "markdown",
   "id": "fb140010-52ab-4edd-844e-a3645b3d5a41",
   "metadata": {
    "jp-MarkdownHeadingCollapsed": true,
    "tags": []
   },
   "source": [
    "# Using eQuilibrator to generate equilibrium constants"
   ]
  },
  {
   "cell_type": "code",
   "execution_count": 7,
   "id": "6cd11cad-2e4b-4cb7-bec6-6d3e4f7b21bd",
   "metadata": {},
   "outputs": [],
   "source": [
    "s = requests.Session() # create session\n",
    "# Post login credentials to session:\n",
    "s.post('https://websvc.biocyc.org/credentials/login/', data={'email':'cellulararchitect@protonmail.com', 'password':'Cellman0451'})\n",
    "# Issue web service request:\n",
    "r = s.get('https://websvc.biocyc.org/getxml?id=ECOLI:6PFRUCTPHOS-RXN&detail=low&fmt=json')"
   ]
  },
  {
   "cell_type": "code",
   "execution_count": 8,
   "id": "0ceafb21-0bf4-41d7-8e07-c159e8b73302",
   "metadata": {},
   "outputs": [
    {
     "data": {
      "text/plain": "'F16ALDOLASE-ENZRXN-CLASSI'"
     },
     "execution_count": 8,
     "metadata": {},
     "output_type": "execute_result"
    }
   ],
   "source": [
    "name = 'F16ALDOLASE-RXN'\n",
    "\n",
    "r = s.get(f'https://websvc.biocyc.org/getxml?id=ECOLI:{name}&detail=low&fmt=json')\n",
    "o = xmltodict.parse(r.content)['ptools-xml']\n",
    "o['Reaction']['enzymatic-reaction']['Enzymatic-Reaction'][0]['@frameid']"
   ]
  },
  {
   "cell_type": "code",
   "execution_count": 9,
   "id": "837d6516-fa3c-4b71-ba39-4a98bb9689d3",
   "metadata": {},
   "outputs": [
    {
     "data": {
      "text/plain": "{'6PFRUCTPHOS-RXN': <equilibrator_api.phased_reaction.PhasedReaction at 0x15ff44f70>,\n 'F16ALDOLASE-RXN': <equilibrator_api.phased_reaction.PhasedReaction at 0x29ca02280>,\n '2TRANSKETO-RXN': <equilibrator_api.phased_reaction.PhasedReaction at 0x11904f610>,\n 'TRIOSEPISOMERIZATION-RXN': <equilibrator_api.phased_reaction.PhasedReaction at 0x29af37eb0>}"
     },
     "execution_count": 9,
     "metadata": {},
     "output_type": "execute_result"
    }
   ],
   "source": [
    "\n",
    "rxns_names = ['6PFRUCTPHOS-RXN', 'F16ALDOLASE-RXN', '2TRANSKETO-RXN', 'TRIOSEPISOMERIZATION-RXN']\n",
    "\n",
    "rxns_dict = {}\n",
    "stoich_dict = {}\n",
    "regulation_dict = {}\n",
    "\n",
    "for name in rxns_names:\n",
    "    r = s.get(f'https://websvc.biocyc.org/getxml?id=ECOLI:{name}&detail=low&fmt=json')\n",
    "    rxn = xmltodict.parse(r.content)['ptools-xml']\n",
    "\n",
    "    rxn_dict = {}\n",
    "    stoich_loop_dict = {}\n",
    "    regulation_loop_dict = {}\n",
    "    left = rxn['Reaction']['left']\n",
    "    right = rxn['Reaction']['right'] \n",
    "    \n",
    "    # i will know exact complex in model (connected to rxn), but for now will pick random\n",
    "    enz_rxn = rxn['Reaction']['enzymatic-reaction']['Enzymatic-Reaction']\n",
    "    \n",
    "    if type(left) is dict:\n",
    "        left = [left]\n",
    "    \n",
    "    if type(right) is dict:\n",
    "        right = [right]\n",
    "        \n",
    "    if type(enz_rxn) is dict:\n",
    "        enz_rxn = [enz_rxn]\n",
    "    \n",
    "    enz_rxn_id =  enz_rxn[0]['@frameid']\n",
    "    re = s.get(f'https://websvc.biocyc.org/getxml?id=ECOLI:{enz_rxn_id}&detail=high&fmt=json')\n",
    "    oe = xmltodict.parse(re.content)['ptools-xml']['Enzymatic-Reaction']['regulated-by']['Regulation']\n",
    "    \n",
    "    if type(oe) is dict:\n",
    "        oe = [oe]\n",
    "        \n",
    "    # add regulators, target regulator directly with id to get info like irreversible, etc\n",
    "    for regulator in oe:\n",
    "        reg_name = regulator['regulator']['Compound']['@frameid']\n",
    "        reg_type = regulator['mode']['#text']\n",
    "        reg_type = 1 if reg_type == '+' else -1\n",
    "        regulation_loop_dict[reg_name] = reg_type\n",
    "    \n",
    "    for mol in left:\n",
    "        if type(mol) is dict:\n",
    "            cid = mol['Compound']['@frameid']\n",
    "            mol_cc = cc.get_compound(f\"metacyc.compound:{cid}\")\n",
    "            rxn_dict[mol_cc] = -1\n",
    "            stoich_loop_dict[cid] = -1\n",
    "\n",
    "    for mol in right:\n",
    "        if type(mol) is dict:\n",
    "            cid = mol['Compound']['@frameid']\n",
    "            mol_cc = cc.get_compound(f\"metacyc.compound:{cid}\")\n",
    "            rxn_dict[mol_cc] =  1\n",
    "            stoich_loop_dict[cid] = 1\n",
    "    \n",
    "    rxns_dict[name] = Reaction(rxn_dict)\n",
    "    stoich_dict[name] = stoich_loop_dict\n",
    "    regulation_dict[name] = regulation_loop_dict\n",
    "    \n",
    "rxns_dict"
   ]
  },
  {
   "cell_type": "code",
   "execution_count": 10,
   "id": "5e072326-7492-4a26-adba-02158fcedf0e",
   "metadata": {},
   "outputs": [],
   "source": [
    "(standard_dg_prime, dg_uncertainty) = cc.standard_dg_prime_multi(list(rxns_dict.values()), uncertainty_representation=\"cov\")"
   ]
  },
  {
   "cell_type": "code",
   "execution_count": 11,
   "id": "748784e9-37fa-4e06-8fa9-88b497816064",
   "metadata": {},
   "outputs": [
    {
     "data": {
      "text/plain": "array([-21.05010908,  22.04792453,  -5.94611551,  -5.61774239]) <Unit('kilojoule / mole')>",
      "text/html": "<table><tbody><tr><th>Magnitude</th><td style='text-align:left;'><pre>[-21.05010908198642 22.047924530096907 -5.946115510564027<br> -5.617742386692498]</pre></td></tr><tr><th>Units</th><td style='text-align:left;'>kilojoule/mole</td></tr></tbody></table>",
      "text/latex": "$\\begin{pmatrix}-21.05010908198642 & 22.047924530096907 & -5.946115510564027 & -5.617742386692498\\end{pmatrix}\\ \\frac{\\mathrm{kilojoule}}{\\mathrm{mole}}$"
     },
     "execution_count": 11,
     "metadata": {},
     "output_type": "execute_result"
    }
   ],
   "source": [
    "standard_dg_prime"
   ]
  },
  {
   "cell_type": "code",
   "execution_count": 12,
   "id": "11142f27-1260-4d21-97bc-42c00f4920f6",
   "metadata": {},
   "outputs": [
    {
     "data": {
      "text/plain": "array([[ 1.53982130e+00, -2.21674712e+00,  6.54108560e-01,\n        -4.66426081e-03],\n       [-2.21674712e+00,  5.28694603e+00, -2.43228772e+00,\n        -1.29118274e-01],\n       [ 6.54108560e-01, -2.43228772e+00,  5.54727081e+00,\n        -8.89399854e-02],\n       [-4.66426081e-03, -1.29118274e-01, -8.89399854e-02,\n         3.01034610e-01]]) <Unit('kilojoule ** 2 / mole ** 2')>",
      "text/html": "<table><tbody><tr><th>Magnitude</th><td style='text-align:left;'><pre>[[1.5398212990074922 -2.2167471180569773 0.6541085596545129<br>  -0.004664260811860303]<br> [-2.2167471180569773 5.286946034707553 -2.4322877177623594<br>  -0.1291182736017488]<br> [0.6541085596545129 -2.4322877177623594 5.547270812427002<br>  -0.08893998540652082]<br> [-0.004664260811860303 -0.1291182736017488 -0.08893998540652082<br>  0.3010346102557717]]</pre></td></tr><tr><th>Units</th><td style='text-align:left;'>kilojoule<sup>2</sup>/mole<sup>2</sup></td></tr></tbody></table>",
      "text/latex": "$\\begin{pmatrix}1.5398212990074922 & -2.2167471180569773 & 0.6541085596545129 & -0.004664260811860303\\\\ \n-2.2167471180569773 & 5.286946034707553 & -2.4322877177623594 & -0.1291182736017488\\\\ \n0.6541085596545129 & -2.4322877177623594 & 5.547270812427002 & -0.08893998540652082\\\\ \n-0.004664260811860303 & -0.1291182736017488 & -0.08893998540652082 & 0.3010346102557717\\end{pmatrix}\\ \\frac{\\mathrm{kilojoule}^{2}}{\\mathrm{mole}^{2}}$"
     },
     "execution_count": 12,
     "metadata": {},
     "output_type": "execute_result"
    }
   ],
   "source": [
    "dg_uncertainty"
   ]
  },
  {
   "cell_type": "code",
   "execution_count": 13,
   "id": "320ca8b3-34c3-4bfe-b43b-e71e5d5685bc",
   "metadata": {},
   "outputs": [],
   "source": [
    "R = 0.008314 # kJ/mol*K\n",
    "T = 298.15 # K"
   ]
  },
  {
   "cell_type": "code",
   "execution_count": 14,
   "id": "6c217eee-8beb-4c13-82d5-200b12d4add9",
   "metadata": {},
   "outputs": [],
   "source": [
    "dG = standard_dg_prime._magnitude\n",
    "\n",
    "keq = np.exp(-dG/(R*T))\n",
    "keq\n",
    "\n",
    "K_eq = np.log(keq)"
   ]
  },
  {
   "cell_type": "markdown",
   "id": "3a19ac18-e8ce-4653-9976-3946c1227c85",
   "metadata": {
    "jp-MarkdownHeadingCollapsed": true,
    "tags": []
   },
   "source": [
    "# Calculating set of kinetic parameters with given equilibrium constants and arbitrary fluxes"
   ]
  },
  {
   "cell_type": "code",
   "execution_count": 15,
   "id": "ad0c9880-fd76-40d6-9d15-3bb61f96e3e9",
   "metadata": {},
   "outputs": [
    {
     "data": {
      "text/plain": "                             6PFRUCTPHOS-RXN  F16ALDOLASE-RXN  2TRANSKETO-RXN  \\\nFRUCTOSE-6P                               -2                0               1   \nATP                                       -2                0               0   \nPROTON                                     2                0               0   \nADP                                        2                0               0   \nFRUCTOSE-16-DIPHOSPHATE                    2               -1               0   \nDIHYDROXY-ACETONE-PHOSPHATE                0                1               0   \nGAP                                        0                1               1   \nERYTHROSE-4P                               0                0              -1   \nXYLULOSE-5-PHOSPHATE                       0                0              -1   \n\n                             TRIOSEPISOMERIZATION-RXN  \nFRUCTOSE-6P                                         0  \nATP                                                 0  \nPROTON                                              0  \nADP                                                 0  \nFRUCTOSE-16-DIPHOSPHATE                             0  \nDIHYDROXY-ACETONE-PHOSPHATE                         1  \nGAP                                                -1  \nERYTHROSE-4P                                        0  \nXYLULOSE-5-PHOSPHATE                                0  ",
      "text/html": "<div>\n<style scoped>\n    .dataframe tbody tr th:only-of-type {\n        vertical-align: middle;\n    }\n\n    .dataframe tbody tr th {\n        vertical-align: top;\n    }\n\n    .dataframe thead th {\n        text-align: right;\n    }\n</style>\n<table border=\"1\" class=\"dataframe\">\n  <thead>\n    <tr style=\"text-align: right;\">\n      <th></th>\n      <th>6PFRUCTPHOS-RXN</th>\n      <th>F16ALDOLASE-RXN</th>\n      <th>2TRANSKETO-RXN</th>\n      <th>TRIOSEPISOMERIZATION-RXN</th>\n    </tr>\n  </thead>\n  <tbody>\n    <tr>\n      <th>FRUCTOSE-6P</th>\n      <td>-2</td>\n      <td>0</td>\n      <td>1</td>\n      <td>0</td>\n    </tr>\n    <tr>\n      <th>ATP</th>\n      <td>-2</td>\n      <td>0</td>\n      <td>0</td>\n      <td>0</td>\n    </tr>\n    <tr>\n      <th>PROTON</th>\n      <td>2</td>\n      <td>0</td>\n      <td>0</td>\n      <td>0</td>\n    </tr>\n    <tr>\n      <th>ADP</th>\n      <td>2</td>\n      <td>0</td>\n      <td>0</td>\n      <td>0</td>\n    </tr>\n    <tr>\n      <th>FRUCTOSE-16-DIPHOSPHATE</th>\n      <td>2</td>\n      <td>-1</td>\n      <td>0</td>\n      <td>0</td>\n    </tr>\n    <tr>\n      <th>DIHYDROXY-ACETONE-PHOSPHATE</th>\n      <td>0</td>\n      <td>1</td>\n      <td>0</td>\n      <td>1</td>\n    </tr>\n    <tr>\n      <th>GAP</th>\n      <td>0</td>\n      <td>1</td>\n      <td>1</td>\n      <td>-1</td>\n    </tr>\n    <tr>\n      <th>ERYTHROSE-4P</th>\n      <td>0</td>\n      <td>0</td>\n      <td>-1</td>\n      <td>0</td>\n    </tr>\n    <tr>\n      <th>XYLULOSE-5-PHOSPHATE</th>\n      <td>0</td>\n      <td>0</td>\n      <td>-1</td>\n      <td>0</td>\n    </tr>\n  </tbody>\n</table>\n</div>"
     },
     "execution_count": 15,
     "metadata": {},
     "output_type": "execute_result"
    }
   ],
   "source": [
    "Sd = pd.DataFrame(stoich_dict, dtype=np.int8).fillna(0).astype(np.int8)\n",
    "# Sd = Sd.iloc[0:7, 0:2]\n",
    "\n",
    "n_met = len(Sd.index)\n",
    "n_rxn = len(Sd.columns)\n",
    "\n",
    "Sd\n",
    "\n",
    "Sd[\"6PFRUCTPHOS-RXN\"] = Sd[\"6PFRUCTPHOS-RXN\"] * 2\n",
    "Sd"
   ]
  },
  {
   "cell_type": "code",
   "execution_count": 16,
   "id": "760bee51-984c-4f98-91fd-788113ce0d86",
   "metadata": {},
   "outputs": [
    {
     "data": {
      "text/plain": "                             6PFRUCTPHOS-RXN  F16ALDOLASE-RXN  2TRANSKETO-RXN  \\\nFRUCTOSE-6P                                1                0               0   \nATP                                        0                0               0   \nPROTON                                     0                0               0   \nADP                                        1                0               0   \nFRUCTOSE-16-DIPHOSPHATE                    0                0               0   \nDIHYDROXY-ACETONE-PHOSPHATE                0                0               0   \nGAP                                        0                0               0   \nERYTHROSE-4P                               0                0               0   \nXYLULOSE-5-PHOSPHATE                       0                0               0   \n\n                             TRIOSEPISOMERIZATION-RXN  \nFRUCTOSE-6P                                         0  \nATP                                                 0  \nPROTON                                              0  \nADP                                                 0  \nFRUCTOSE-16-DIPHOSPHATE                             0  \nDIHYDROXY-ACETONE-PHOSPHATE                         0  \nGAP                                                 0  \nERYTHROSE-4P                                        0  \nXYLULOSE-5-PHOSPHATE                                0  ",
      "text/html": "<div>\n<style scoped>\n    .dataframe tbody tr th:only-of-type {\n        vertical-align: middle;\n    }\n\n    .dataframe tbody tr th {\n        vertical-align: top;\n    }\n\n    .dataframe thead th {\n        text-align: right;\n    }\n</style>\n<table border=\"1\" class=\"dataframe\">\n  <thead>\n    <tr style=\"text-align: right;\">\n      <th></th>\n      <th>6PFRUCTPHOS-RXN</th>\n      <th>F16ALDOLASE-RXN</th>\n      <th>2TRANSKETO-RXN</th>\n      <th>TRIOSEPISOMERIZATION-RXN</th>\n    </tr>\n  </thead>\n  <tbody>\n    <tr>\n      <th>FRUCTOSE-6P</th>\n      <td>1</td>\n      <td>0</td>\n      <td>0</td>\n      <td>0</td>\n    </tr>\n    <tr>\n      <th>ATP</th>\n      <td>0</td>\n      <td>0</td>\n      <td>0</td>\n      <td>0</td>\n    </tr>\n    <tr>\n      <th>PROTON</th>\n      <td>0</td>\n      <td>0</td>\n      <td>0</td>\n      <td>0</td>\n    </tr>\n    <tr>\n      <th>ADP</th>\n      <td>1</td>\n      <td>0</td>\n      <td>0</td>\n      <td>0</td>\n    </tr>\n    <tr>\n      <th>FRUCTOSE-16-DIPHOSPHATE</th>\n      <td>0</td>\n      <td>0</td>\n      <td>0</td>\n      <td>0</td>\n    </tr>\n    <tr>\n      <th>DIHYDROXY-ACETONE-PHOSPHATE</th>\n      <td>0</td>\n      <td>0</td>\n      <td>0</td>\n      <td>0</td>\n    </tr>\n    <tr>\n      <th>GAP</th>\n      <td>0</td>\n      <td>0</td>\n      <td>0</td>\n      <td>0</td>\n    </tr>\n    <tr>\n      <th>ERYTHROSE-4P</th>\n      <td>0</td>\n      <td>0</td>\n      <td>0</td>\n      <td>0</td>\n    </tr>\n    <tr>\n      <th>XYLULOSE-5-PHOSPHATE</th>\n      <td>0</td>\n      <td>0</td>\n      <td>0</td>\n      <td>0</td>\n    </tr>\n  </tbody>\n</table>\n</div>"
     },
     "execution_count": 16,
     "metadata": {},
     "output_type": "execute_result"
    }
   ],
   "source": [
    "Sr_min = pd.DataFrame(regulation_dict).fillna(0).astype(np.int8)\n",
    "\n",
    "Sr = Sd.copy()\n",
    "Sr.loc[:,:] = 0\n",
    "Sr.loc[Sd.index.intersection(Sr_min.index), :] = Sr_min.loc[Sd.index.intersection(Sr_min.index), :]\n",
    "Sr"
   ]
  },
  {
   "cell_type": "code",
   "execution_count": 17,
   "outputs": [
    {
     "data": {
      "text/plain": "          6PFRUCTPHOS-RXN  F16ALDOLASE-RXN  2TRANSKETO-RXN  \\\n$K_{eq}$         8.491991        -8.894527        2.398769   \n$v_1$           45.000000        70.000000      -30.000000   \n$v_2$           50.000000       100.000000       30.000000   \n$v_3$           55.000000        60.000000       75.000000   \nsign 1           1.000000         1.000000       -1.000000   \nsign 2           1.000000         1.000000        1.000000   \nsign 3           1.000000         1.000000        1.000000   \n\n          TRIOSEPISOMERIZATION-RXN  \n$K_{eq}$                  2.266298  \n$v_1$                    50.000000  \n$v_2$                    50.000000  \n$v_3$                    50.000000  \nsign 1                    1.000000  \nsign 2                    1.000000  \nsign 3                    1.000000  ",
      "text/html": "<div>\n<style scoped>\n    .dataframe tbody tr th:only-of-type {\n        vertical-align: middle;\n    }\n\n    .dataframe tbody tr th {\n        vertical-align: top;\n    }\n\n    .dataframe thead th {\n        text-align: right;\n    }\n</style>\n<table border=\"1\" class=\"dataframe\">\n  <thead>\n    <tr style=\"text-align: right;\">\n      <th></th>\n      <th>6PFRUCTPHOS-RXN</th>\n      <th>F16ALDOLASE-RXN</th>\n      <th>2TRANSKETO-RXN</th>\n      <th>TRIOSEPISOMERIZATION-RXN</th>\n    </tr>\n  </thead>\n  <tbody>\n    <tr>\n      <th>$K_{eq}$</th>\n      <td>8.491991</td>\n      <td>-8.894527</td>\n      <td>2.398769</td>\n      <td>2.266298</td>\n    </tr>\n    <tr>\n      <th>$v_1$</th>\n      <td>45.000000</td>\n      <td>70.000000</td>\n      <td>-30.000000</td>\n      <td>50.000000</td>\n    </tr>\n    <tr>\n      <th>$v_2$</th>\n      <td>50.000000</td>\n      <td>100.000000</td>\n      <td>30.000000</td>\n      <td>50.000000</td>\n    </tr>\n    <tr>\n      <th>$v_3$</th>\n      <td>55.000000</td>\n      <td>60.000000</td>\n      <td>75.000000</td>\n      <td>50.000000</td>\n    </tr>\n    <tr>\n      <th>sign 1</th>\n      <td>1.000000</td>\n      <td>1.000000</td>\n      <td>-1.000000</td>\n      <td>1.000000</td>\n    </tr>\n    <tr>\n      <th>sign 2</th>\n      <td>1.000000</td>\n      <td>1.000000</td>\n      <td>1.000000</td>\n      <td>1.000000</td>\n    </tr>\n    <tr>\n      <th>sign 3</th>\n      <td>1.000000</td>\n      <td>1.000000</td>\n      <td>1.000000</td>\n      <td>1.000000</td>\n    </tr>\n  </tbody>\n</table>\n</div>"
     },
     "execution_count": 17,
     "metadata": {},
     "output_type": "execute_result"
    }
   ],
   "source": [
    "K_eq = np.log(keq)\n",
    "K_eq_mod = K_eq[:, np.newaxis].T\n",
    "vE = np.array([[90, 70, -30, 50], [100, 100, 30, 50], [110, 60, 75, 50]])\n",
    "vE[:, 0] = vE[:, 0] / 2\n",
    "\n",
    "n_flux_set = vE.shape[0]\n",
    "\n",
    "# K_eq[vE < 0] = 1/K_eq[vE < 0]\n",
    "\n",
    "lvE = np.log(np.abs(vE))\n",
    "pd.DataFrame(np.concatenate([K_eq_mod, vE, np.sign(vE, dtype=np.int8)]), columns=Sd.columns,\n",
    "             index=[\"$K_{eq}$\", \"$v_1$\", \"$v_2$\", \"$v_3$\", \"sign 1\", \"sign 2\", \"sign 3\"])"
   ],
   "metadata": {
    "collapsed": false
   }
  },
  {
   "cell_type": "code",
   "execution_count": 18,
   "outputs": [],
   "source": [
    "# set up variables\n",
    "\n",
    "S_mol = np.array(Sd)\n",
    "S = np.sign(S_mol) #\n",
    "S_s = -np.copy(S) # reverse neg sign\n",
    "S_p = np.copy(S)\n",
    "S_s[S > 0] = 0 # zeros products\n",
    "S_p[S < 0] = 0 # zeros substrates\n",
    "S_i = np.copy(np.array(Sr) == -1) # reaction direction does not matter\n",
    "S_a = np.copy(np.array(Sr) == 1)\n",
    "\n",
    "\n",
    "S_s_nz = np.array(S_s.nonzero())\n",
    "S_p_nz = np.array(S_p.nonzero())\n",
    "S_i_nz = np.array(S_i.nonzero())\n",
    "S_a_nz = np.array(S_a.nonzero())\n",
    "S_s_mol = np.abs(S_mol)[S_s.nonzero()]\n",
    "S_p_mol = np.abs(S_mol)[S_p.nonzero()]\n",
    "\n",
    "# TODO Refactor all the below lines as one liners\n",
    "# first coordinate, e.g. metabolites w nonzero substrate/product coeff across all reactions. also works as substrate indices.\n",
    "met_s_nz = S_s_nz[0, :]\n",
    "met_p_nz = S_p_nz[0, :]\n",
    "met_i_nz = S_i_nz[0, :]\n",
    "met_a_nz = S_a_nz[0, :]\n",
    "\n",
    "# second coordinate, e.g. reactions indices for those concentrations. works to index substrates as well.\n",
    "rxn_s_nz = S_s_nz[1, :]\n",
    "rxn_p_nz = S_p_nz[1, :]\n",
    "rxn_i_nz = S_i_nz[1, :]\n",
    "rxn_a_nz = S_a_nz[1, :]\n",
    "\n",
    "# one dim is always 2\n",
    "n_Km_s = np.max(met_s_nz.shape)\n",
    "n_Km_p = np.max(met_p_nz.shape)\n",
    "n_Km_i = np.max(met_i_nz.shape)\n",
    "n_Km_a = np.max(met_a_nz.shape)\n",
    "\n",
    "c = cp.Variable([n_met, n_flux_set])\n",
    "Km_s = cp.Variable(n_Km_s)\n",
    "Km_p = cp.Variable(n_Km_p)\n",
    "Km_i = cp.Variable(n_Km_i) if n_Km_i else None\n",
    "Km_a = cp.Variable(n_Km_a) if n_Km_a else None\n",
    "\n",
    "cfwd = cp.Variable(n_rxn)\n",
    "crev = cp.Variable(n_rxn)\n",
    "\n",
    "# define y vecs\n",
    "y_s_t = []\n",
    "y_p_t = []\n",
    "y_i_t = []\n",
    "y_a_t = []\n",
    "\n",
    "# define Km positions by nonzero S matrix concentrations. Activation is reverse val of inhibition.\n",
    "# TODO Add molecularity here.\n",
    "for i in range(n_flux_set):\n",
    "    y_s_t.append(cp.multiply(S_s_mol, c[met_s_nz, i] - Km_s))\n",
    "    y_p_t.append(cp.multiply(S_p_mol, c[met_p_nz, i] - Km_p))\n",
    "    y_i_t.append(c[met_i_nz, i] - Km_i if n_Km_i else None)\n",
    "    y_a_t.append(-(c[met_a_nz, i] - Km_a) if n_Km_a else None)\n",
    "\n",
    "y_s = cp.vstack(y_s_t)\n",
    "y_p = cp.vstack(y_p_t)\n",
    "y_i = cp.vstack(y_i_t)\n",
    "y_a = cp.vstack(y_a_t)\n",
    "\n",
    "# saturation stacks\n",
    "y_f_vec = [y_s]\n",
    "y_r_vec = [y_p]\n",
    "if n_Km_i:\n",
    "    y_f_vec.append(y_i)\n",
    "    y_r_vec.append(y_i)\n",
    "if n_Km_a:\n",
    "    y_f_vec.append(y_a)\n",
    "    y_r_vec.append(y_a)\n",
    "\n",
    "y_f = cp.hstack(y_f_vec)\n",
    "y_r = cp.hstack(y_r_vec)"
   ],
   "metadata": {
    "collapsed": false
   }
  },
  {
   "cell_type": "code",
   "execution_count": 19,
   "outputs": [],
   "source": [
    "# number of saturation terms for sub, prod\n",
    "S_s_comb = np.concatenate((S_s, S_i, S_a), axis=0)\n",
    "S_p_comb = np.concatenate((S_p, S_i, S_a), axis=0)\n",
    "n_alpha = np.sum(np.power(2, np.sign(S_s_comb).sum(axis=0)) - 1)\n",
    "n_beta = np.sum(np.power(2, np.sign(S_p_comb).sum(axis=0)) - 1)\n",
    "\n",
    "# saturation matrix setup, first sub, then inhib, then act.\n",
    "C_alpha = np.zeros([n_alpha, len(met_s_nz) + len(met_i_nz) + len(met_a_nz)])\n",
    "C_beta = np.zeros([n_beta, len(met_p_nz) + len(met_i_nz) + len(met_a_nz)])\n",
    "\n",
    "# to separate different reactions saturation terms to their individual reaction equations.\n",
    "d_alpha = np.zeros(n_alpha, dtype=np.int8)\n",
    "d_beta = np.zeros(n_beta, dtype=np.int8)\n",
    "\n",
    "\n",
    "idx = 0\n",
    "\n",
    "for i in range(n_rxn):\n",
    "\n",
    "    # pick one reaction at a time (get substrate indicies)\n",
    "    #idx_cur_rxn = rxn_s_nz == i\n",
    "    # TODO This does not properly multiply by molecularity. Alternatively, generate C_alpha and\n",
    "    # TODO beta without molecularity (first ==1) and then multiply by molecularity in the end.\n",
    "    idx_cur_rxn = np.concatenate((rxn_s_nz == i, rxn_i_nz == i, rxn_a_nz == i))\n",
    "\n",
    "    # generates all binary permutations minus the first one since that would result in -1\n",
    "    sat_perm = np.array(list(itertools.product([0, 1], repeat=sum(idx_cur_rxn))))\n",
    "    sat_perm = sat_perm[1:, :]\n",
    "\n",
    "    r, _ = sat_perm.shape\n",
    "\n",
    "    # replace zeros with saturation matrix\n",
    "    C_alpha[idx:(idx+r), idx_cur_rxn] = sat_perm\n",
    "    d_alpha[idx:(idx+r)] = i\n",
    "\n",
    "    idx += r # add row #\n",
    "\n",
    "idx = 0\n",
    "\n",
    "for i in range(n_rxn):\n",
    "    idx_cur_rxn = np.concatenate((rxn_p_nz == i, rxn_i_nz == i, rxn_a_nz == i))\n",
    "\n",
    "    sat_perm = np.array(list(itertools.product([0, 1], repeat=sum(idx_cur_rxn))))\n",
    "    sat_perm = sat_perm[1:, :]\n",
    "\n",
    "    r, _ = sat_perm.shape\n",
    "\n",
    "    C_beta[idx:(idx+r), idx_cur_rxn] = sat_perm\n",
    "    d_beta[idx:(idx+r)] = i\n",
    "\n",
    "    idx += r # add row #"
   ],
   "metadata": {
    "collapsed": false
   }
  },
  {
   "cell_type": "code",
   "execution_count": 20,
   "outputs": [
    {
     "data": {
      "text/plain": "array([[0., 0., 0., 0., 0., 0., 0., 1.],\n       [0., 0., 0., 0., 0., 0., 1., 0.],\n       [0., 0., 0., 0., 0., 0., 1., 1.],\n       [0., 1., 0., 0., 0., 0., 0., 0.],\n       [0., 1., 0., 0., 0., 0., 0., 1.],\n       [0., 1., 0., 0., 0., 0., 1., 0.],\n       [0., 1., 0., 0., 0., 0., 1., 1.],\n       [1., 0., 0., 0., 0., 0., 0., 0.],\n       [1., 0., 0., 0., 0., 0., 0., 1.],\n       [1., 0., 0., 0., 0., 0., 1., 0.],\n       [1., 0., 0., 0., 0., 0., 1., 1.],\n       [1., 1., 0., 0., 0., 0., 0., 0.],\n       [1., 1., 0., 0., 0., 0., 0., 1.],\n       [1., 1., 0., 0., 0., 0., 1., 0.],\n       [1., 1., 0., 0., 0., 0., 1., 1.],\n       [0., 0., 1., 0., 0., 0., 0., 0.],\n       [0., 0., 0., 0., 0., 1., 0., 0.],\n       [0., 0., 0., 0., 1., 0., 0., 0.],\n       [0., 0., 0., 0., 1., 1., 0., 0.],\n       [0., 0., 0., 1., 0., 0., 0., 0.]])"
     },
     "execution_count": 20,
     "metadata": {},
     "output_type": "execute_result"
    }
   ],
   "source": [
    "C_alpha"
   ],
   "metadata": {
    "collapsed": false
   }
  },
  {
   "cell_type": "code",
   "execution_count": 21,
   "outputs": [
    {
     "data": {
      "text/plain": "[Expression(AFFINE, UNKNOWN, (48,)),\n Expression(AFFINE, UNKNOWN, (6,)),\n Expression(AFFINE, UNKNOWN, (8,)),\n Expression(AFFINE, UNKNOWN, (4,)),\n Expression(AFFINE, UNKNOWN, (48,)),\n Expression(AFFINE, UNKNOWN, (6,)),\n Expression(AFFINE, UNKNOWN, (8,)),\n Expression(AFFINE, UNKNOWN, (4,)),\n Expression(AFFINE, UNKNOWN, (48,)),\n Expression(AFFINE, UNKNOWN, (6,)),\n Expression(AFFINE, UNKNOWN, (8,)),\n Expression(AFFINE, UNKNOWN, (4,))]"
     },
     "execution_count": 21,
     "metadata": {},
     "output_type": "execute_result"
    }
   ],
   "source": [
    "n_lse_terms = np.max(np.power(2, S_s.sum(axis=0)) +  np.power(2, S_p.sum(axis=0)) - 2)\n",
    "LSE_expr = []\n",
    "denom_expr = []\n",
    "\n",
    "sign = np.sign(vE)\n",
    "lvE = np.log(sign * vE)\n",
    "\n",
    "for j in range(n_flux_set):\n",
    "    for i in range(n_rxn):\n",
    "        # sum terms are separate in logsumexp. one per saturation term (row in C_alpha, C_beta)\n",
    "\n",
    "        n_term_s = np.sum(d_alpha == i)\n",
    "        n_term_p = np.sum(d_beta == i)\n",
    "        n_term = n_term_s + n_term_p\n",
    "\n",
    "        Km_s_idx = np.nonzero(S_s_nz[1, :] == i)\n",
    "        S_s_idx = S_s_nz[0, S_s_nz[1, :] == i] # negate -1 entries\n",
    "\n",
    "        Km_p_idx = np.nonzero(S_p_nz[1, :] == i)\n",
    "        S_p_idx = S_p_nz[0, S_p_nz[1, :] == i]\n",
    "\n",
    "        if sign[j, i] == 1:\n",
    "            LSE_expr.append(cp.hstack( [\n",
    "                                         lvE[j, i] + (C_alpha @ cp.vec(y_f[j, :]))[d_alpha == i]\n",
    "                                            - cp.multiply(np.ones(n_term_s), - S.T[i, S_s_idx] @ cp.vec(y_s[j, Km_s_idx])) - cfwd[i],\n",
    "                                         lvE[j, i] + (C_beta @ cp.vec(y_r[j, :]))[d_beta == i]\n",
    "                                            - cp.multiply(np.ones(n_term_p), - S.T[i, S_s_idx] @ cp.vec(y_s[j, Km_s_idx])) - cfwd[i],\n",
    "\n",
    "                                         lvE[j, i] + 0 - cp.multiply(np.ones(1), -S.T[i, S_s_idx] @ cp.vec(y_s[j, Km_s_idx]))  - cfwd[i],\n",
    "\n",
    "                                         cp.multiply(np.ones(1), S.T[i, S_p_idx] @ cp.vec(y_p[j, Km_p_idx]))  + crev[i]\n",
    "                                            - cp.multiply(np.ones(1), -S.T[i, S_s_idx] @ cp.vec(y_s[j, Km_s_idx]))  - cfwd[i],\n",
    "\n",
    "                                       ]\n",
    "                                     )\n",
    "                           )  # remove +1 here, could also have cfwd outside objec.\n",
    "\n",
    "            denom_expr.append(cp.multiply(np.ones(1), -S.T[i, S_s_idx] @ cp.vec(y_s[j, Km_s_idx])) + cfwd[i],)\n",
    "\n",
    "\n",
    "        # keep saturation term the same, switch around fwd and rev terms. flip all signs with S matrix since it's signed.\n",
    "        if sign[j, i] == -1:\n",
    "            LSE_expr.append(cp.hstack( [ lvE[j, i] + (C_alpha @ cp.vec(y_f[j, :]))[d_alpha == i]\n",
    "                                            - cp.multiply(np.ones(n_term_s), S.T[i, S_p_idx] @ cp.vec(y_p[j, Km_p_idx])) - crev[i],\n",
    "\n",
    "                                         lvE[j, i] + (C_beta @ cp.vec(y_r[j, :]))[d_beta == i]\n",
    "                                            - cp.multiply(np.ones(n_term_p), S.T[i, S_p_idx] @ cp.vec(y_p[j, Km_p_idx])) - crev[i],\n",
    "\n",
    "                                         lvE[j, i] + 0 - cp.multiply(np.ones(1), S.T[i, S_p_idx] @ cp.vec(y_p[j, Km_p_idx])) - crev[i],\n",
    "\n",
    "                                         cp.multiply(np.ones(1), - S.T[i, S_s_idx] @ cp.vec(y_s[j, Km_s_idx]))  + cfwd[i]\n",
    "                                            - cp.multiply(np.ones(1), S.T[i, S_p_idx] @ cp.vec(y_p[j, Km_p_idx])) - crev[i],\n",
    "\n",
    "                                       ]\n",
    "                                     )\n",
    "                           )\n",
    "\n",
    "            denom_expr.append(cp.multiply(np.ones(1), S.T[i, S_p_idx] @ cp.vec(y_p[j, Km_p_idx])) + crev[i])\n",
    "\n",
    "\n",
    "#LSE_expr = cp.vstack(LSE_expr)\n",
    "LSE_expr"
   ],
   "metadata": {
    "collapsed": false
   }
  },
  {
   "cell_type": "code",
   "execution_count": 22,
   "outputs": [],
   "source": [
    "l = 0.001\n",
    "e = 0.001\n",
    "f = 0.000001\n",
    "reg =  cp.sum(cp.hstack([cfwd, crev, cp.vec(c)])) + cp.sum(cp.hstack([-Km_s, -Km_p])) # regularization\n",
    "reg2 = cp.norm1(cp.hstack([cfwd, crev, cp.vec(c)])) + cp.norm1(cp.hstack([-Km_s, -Km_p])) # regularization\n",
    "reg3 = cp.sum(cp.huber(cp.hstack([y_s, y_p]), 1)) # issue with matrix\n",
    "\n",
    "if n_Km_i:\n",
    "    reg += cp.sum(cp.hstack([-Km_i]))\n",
    "if n_Km_a:\n",
    "    reg += cp.sum(cp.hstack([-Km_a]))\n",
    "#reg3 = cp.norm1(cp.hstack([y_s, y_p])) # take a look at this\n",
    "\n",
    "loss = 0\n",
    "for i in range(len(LSE_expr)):\n",
    "    loss += cp.norm1(cp.pos(cp.log_sum_exp(LSE_expr[i])))\n",
    "for i in range(len(denom_expr)):\n",
    "    loss += 0.01 * denom_expr[i]\n",
    "loss += l * reg\n",
    "loss += e * reg2\n",
    "# loss += f * reg3\n",
    "#"
   ],
   "metadata": {
    "collapsed": false
   }
  },
  {
   "cell_type": "code",
   "execution_count": 23,
   "outputs": [],
   "source": [
    "constr = [cp.hstack([cfwd, crev, cp.vec(c), Km_s, Km_p]) >= -12,\n",
    "          cp.hstack([cfwd, crev, cp.vec(c), Km_s, Km_p]) <= 12,\n",
    "          ]\n",
    "\n",
    "if n_Km_i:\n",
    "    constr.extend([Km_i >= -12, Km_i <= 12])\n",
    "if n_Km_a:\n",
    "    constr.extend([Km_a >= -12, Km_a <= 12])\n",
    "\n"
   ],
   "metadata": {
    "collapsed": false
   }
  },
  {
   "cell_type": "code",
   "execution_count": 24,
   "outputs": [],
   "source": [
    "haldane = []\n",
    "fwd_flux = []\n",
    "\n",
    "for i, r in enumerate(S.T):\n",
    "    Km_s_idx = np.nonzero(S_s_nz[1, :] == i)\n",
    "    S_s_idx = S_s_nz[0, S_s_nz[1, :] == i] # negate -1 entries\n",
    "\n",
    "    Km_p_idx = np.nonzero(S_p_nz[1, :] == i)\n",
    "    S_p_idx = S_p_nz[0, S_p_nz[1, :] == i]\n",
    "\n",
    "    haldane.append(K_eq[i] == cfwd[i] - crev[i] + r[S_p_idx] @ Km_p[Km_p_idx] - (-r[S_s_idx]) @ Km_s[Km_s_idx])\n",
    "\n",
    "for j in range(n_flux_set):\n",
    "    for i, r in enumerate(S.T):\n",
    "        Km_s_idx = np.nonzero(S_s_nz[1, :] == i)\n",
    "        S_s_idx = S_s_nz[0, S_s_nz[1, :] == i] # negate -1 entries\n",
    "\n",
    "        Km_p_idx = np.nonzero(S_p_nz[1, :] == i)\n",
    "        S_p_idx = S_p_nz[0, S_p_nz[1, :] == i]\n",
    "\n",
    "        if sign[j, i] == 1:\n",
    "            fwd_flux.append(cfwd[i] + (-r[S_s_idx]) @ cp.vec(y_s[j, Km_s_idx]) - (crev[i] + r[S_p_idx] @ cp.vec(y_p[j, Km_p_idx]))  >= 0)  # add minus since s matrix has minus\n",
    "\n",
    "        if sign[j, i] == -1:\n",
    "            fwd_flux.append(cfwd[i] + (-r[S_s_idx]) @ cp.vec(y_s[j, Km_s_idx]) - (crev[i] + r[S_p_idx] @ cp.vec(y_p[j, Km_p_idx]))  <= 0)  # add minus since s matrix has minus\n",
    "\n",
    "    constr.extend([cp.multiply(S.T @ cp.vec(c[:, j]), sign[j, :])  <= cp.multiply(K_eq, sign[j, :])])\n",
    "\n",
    "constr.extend(haldane)\n",
    "constr.extend(fwd_flux)"
   ],
   "metadata": {
    "collapsed": false
   }
  },
  {
   "cell_type": "code",
   "execution_count": 25,
   "outputs": [
    {
     "name": "stdout",
     "output_type": "stream",
     "text": [
      "===============================================================================\n",
      "                                     CVXPY                                     \n",
      "                                     v1.3.0                                    \n",
      "===============================================================================\n",
      "(CVXPY) Apr 18 11:46:19 AM: Your problem has 51 variables, 23 constraints, and 0 parameters.\n",
      "(CVXPY) Apr 18 11:46:19 AM: It is compliant with the following grammars: DCP, DQCP\n",
      "(CVXPY) Apr 18 11:46:19 AM: (If you need to solve this problem multiple times, but with different data, consider using parameters.)\n",
      "(CVXPY) Apr 18 11:46:19 AM: CVXPY will first compile your problem; then, it will invoke a numerical solver to obtain a solution.\n",
      "-------------------------------------------------------------------------------\n",
      "                                  Compilation                                  \n",
      "-------------------------------------------------------------------------------\n",
      "(CVXPY) Apr 18 11:46:19 AM: Compiling problem (target solver=ECOS).\n",
      "(CVXPY) Apr 18 11:46:19 AM: Reduction chain: Dcp2Cone -> CvxAttr2Constr -> ConeMatrixStuffing -> ECOS\n",
      "(CVXPY) Apr 18 11:46:19 AM: Applying reduction Dcp2Cone\n",
      "(CVXPY) Apr 18 11:46:20 AM: Applying reduction CvxAttr2Constr\n",
      "(CVXPY) Apr 18 11:46:20 AM: Applying reduction ConeMatrixStuffing\n",
      "(CVXPY) Apr 18 11:46:20 AM: Applying reduction ECOS\n",
      "(CVXPY) Apr 18 11:46:20 AM: Finished problem compilation (took 2.872e-01 seconds).\n",
      "-------------------------------------------------------------------------------\n",
      "                                Numerical solver                               \n",
      "-------------------------------------------------------------------------------\n",
      "(CVXPY) Apr 18 11:46:20 AM: Invoking solver ECOS  to obtain a solution.\n",
      "-------------------------------------------------------------------------------\n",
      "                                    Summary                                    \n",
      "-------------------------------------------------------------------------------\n",
      "(CVXPY) Apr 18 11:46:20 AM: Problem status: optimal\n",
      "(CVXPY) Apr 18 11:46:20 AM: Optimal value: 6.307e-01\n",
      "(CVXPY) Apr 18 11:46:20 AM: Compilation took 2.872e-01 seconds\n",
      "(CVXPY) Apr 18 11:46:20 AM: Solver (including time spent in interface) took 1.409e-02 seconds\n"
     ]
    },
    {
     "data": {
      "text/plain": "0.6306567807275496"
     },
     "execution_count": 25,
     "metadata": {},
     "output_type": "execute_result"
    }
   ],
   "source": [
    "p = cp.Problem(cp.Minimize(loss), constr)\n",
    "p.solve(verbose=True, solver=cp.ECOS)"
   ],
   "metadata": {
    "collapsed": false
   }
  },
  {
   "cell_type": "code",
   "execution_count": 26,
   "outputs": [
    {
     "name": "stdout",
     "output_type": "stream",
     "text": [
      "Substrate Km: ['4.757', '2.813', '11.497', '1.058', '1.326', '1.326']\n",
      "Product Km: ['23.137', '1.000', '1.000', '5.125', '0.193', '0.999', '1.000', '1.000']\n",
      "Fwd kcat: ['12731.404', '1329.747', '4610.882', '850.011']\n",
      "Rev kcat: ['1.000', '162728.992', '5514.672', '83.233']\n",
      "Concentration: ['2.2242', '0.4145', '0.0009', '0.1379', '0.6843', '0.0000', '0.0661', '0.0000', '0.0000']\n",
      "Concentration: ['0.9625', '1.0000', '0.0008', '0.1359', '1.0000', '0.0000', '0.0661', '0.1453', '0.1453']\n",
      "Concentration: ['1.0000', '1.0000', '0.0008', '0.1366', '0.5823', '0.0000', '0.0661', '0.2192', '0.2192']\n",
      "Activation Km: ['0.021', '0.002']\n"
     ]
    }
   ],
   "source": [
    "print('Substrate Km:', [f'{val:.3f}' for val in np.exp(Km_s.value)])\n",
    "print('Product Km:', [f'{val:.3f}' for val in np.exp(Km_p.value)])\n",
    "print('Fwd kcat:', [f'{val:.3f}' for val in np.exp(cfwd.value)])\n",
    "print('Rev kcat:', [f'{val:.3f}' for val in np.exp(crev.value)])\n",
    "\n",
    "concs = np.exp(c.value).T\n",
    "for row in concs:\n",
    "    print('Concentration:', [f'{val:.4f}' for val in row])\n",
    "\n",
    "if n_Km_i:\n",
    "    print('Inhibition Km:', [f'{val:.3f}' for val in np.exp(Km_i.value)])\n",
    "if n_Km_a:\n",
    "    print('Activation Km:', [f'{val:.3f}' for val in np.exp(Km_a.value)])"
   ],
   "metadata": {
    "collapsed": false
   }
  },
  {
   "cell_type": "code",
   "execution_count": 27,
   "outputs": [
    {
     "name": "stdout",
     "output_type": "stream",
     "text": [
      "-1.4019853200042398e-06\n",
      "-2.191367977910641e-07\n",
      "-1.3725208566905955e-07\n",
      "-2.9994185445775257e-07\n",
      "-1.2252589539074599e-06\n",
      "-1.8912743260379727e-07\n",
      "-2.8490681980297694e-07\n",
      "-1.1296807595623237e-07\n",
      "-1.277593931703347e-06\n",
      "-2.2190305803970745e-07\n",
      "-2.6989355284001704e-07\n",
      "-1.2682739159580736e-07\n"
     ]
    }
   ],
   "source": [
    "for v in LSE_expr:\n",
    "    #print(v.value)\n",
    "    print(logsumexp(v.value))"
   ],
   "metadata": {
    "collapsed": false
   }
  },
  {
   "cell_type": "markdown",
   "source": [
    "Perfect? Wow."
   ],
   "metadata": {
    "collapsed": false
   }
  },
  {
   "cell_type": "markdown",
   "source": [
    "# Check flux reconstruction with inhibition/activation"
   ],
   "metadata": {
    "collapsed": false
   }
  },
  {
   "cell_type": "code",
   "execution_count": 28,
   "outputs": [
    {
     "name": "stdout",
     "output_type": "stream",
     "text": [
      "[ 45.00006309  70.00001541 -30.00000412  50.000015  ]\n",
      "[ 50.00006126 100.00001897  30.00001177  50.00000565]\n",
      "[55.00007027 60.00001338 75.00002314 50.00000634]\n"
     ]
    }
   ],
   "source": [
    "reconstructed_vE = np.zeros(vE.shape)\n",
    "\n",
    "for j in range(n_flux_set):\n",
    "    sat_expr = []\n",
    "    fwd_sat = np.zeros(n_rxn)\n",
    "    back_sat = np.zeros(n_rxn)\n",
    "    sat = np.zeros(n_rxn)\n",
    "\n",
    "    for i in range(n_rxn):\n",
    "        # sum terms are separate in logsumexp. one per saturation term (row in C_alpha, C_beta)\n",
    "        n_term_s = np.sum(d_alpha == i)\n",
    "        n_term_p = np.sum(d_beta == i)\n",
    "        n_term = n_term_s + n_term_p\n",
    "\n",
    "\n",
    "        Km_s_idx = np.nonzero(S_s_nz[1, :] == i)\n",
    "        S_s_idx = S_s_nz[0, S_s_nz[1, :] == i] # negate -1 entries\n",
    "\n",
    "        Km_p_idx = np.nonzero(S_p_nz[1, :] == i)\n",
    "        S_p_idx = S_p_nz[0, S_p_nz[1, :] == i]\n",
    "\n",
    "        #S_s_idx = S_s_nz[0, S_s_nz[1, :] == i]\n",
    "\n",
    "        sat_expr.append(           [ (C_alpha @ y_f.value[j, :].flatten())[d_alpha == i] ,\n",
    "                                     (C_beta @ y_r.value[j, :].flatten())[d_beta == i],\n",
    "                                     0,\n",
    "                                     #-1*np.ones(n_lse_terms - n_term + 1)\n",
    "                                   ]\n",
    "                       )\n",
    "        fwd_sat[i] = (np.exp(-S.T[i, S_s_idx] @ y_s.value[j, Km_s_idx].flatten())) # + cfwd.value[i]\n",
    "        back_sat[i] = (np.exp(S.T[i, S_p_idx] @ y_p.value[j, Km_p_idx].flatten())) # + cfwd.value[i]\n",
    "\n",
    "\n",
    "\n",
    "    for i, rxn in enumerate(sat_expr):\n",
    "        s = 0\n",
    "\n",
    "        for term in rxn:\n",
    "            s += np.sum(np.exp(term))\n",
    "\n",
    "        sat[i] = (s)\n",
    "\n",
    "    reconstr = np.exp(cfwd.value) * fwd_sat/sat - np.exp(crev.value) * back_sat/sat\n",
    "    print(reconstr)\n",
    "    reconstructed_vE[j, :] = reconstr"
   ],
   "metadata": {
    "collapsed": false
   }
  },
  {
   "cell_type": "code",
   "execution_count": 29,
   "outputs": [
    {
     "data": {
      "text/plain": "         index                  variable       value                kind\n0   Flux set 1           6PFRUCTPHOS-RXN   45.000000         Actual flux\n1   Flux set 2           6PFRUCTPHOS-RXN   50.000000         Actual flux\n2   Flux set 3           6PFRUCTPHOS-RXN   55.000000         Actual flux\n3   Flux set 1           F16ALDOLASE-RXN   70.000000         Actual flux\n4   Flux set 2           F16ALDOLASE-RXN  100.000000         Actual flux\n5   Flux set 3           F16ALDOLASE-RXN   60.000000         Actual flux\n6   Flux set 1            2TRANSKETO-RXN  -30.000000         Actual flux\n7   Flux set 2            2TRANSKETO-RXN   30.000000         Actual flux\n8   Flux set 3            2TRANSKETO-RXN   75.000000         Actual flux\n9   Flux set 1  TRIOSEPISOMERIZATION-RXN   50.000000         Actual flux\n10  Flux set 2  TRIOSEPISOMERIZATION-RXN   50.000000         Actual flux\n11  Flux set 3  TRIOSEPISOMERIZATION-RXN   50.000000         Actual flux\n12  Flux set 1           6PFRUCTPHOS-RXN   45.000063  Reconstructed flux\n13  Flux set 2           6PFRUCTPHOS-RXN   50.000061  Reconstructed flux\n14  Flux set 3           6PFRUCTPHOS-RXN   55.000070  Reconstructed flux\n15  Flux set 1           F16ALDOLASE-RXN   70.000015  Reconstructed flux\n16  Flux set 2           F16ALDOLASE-RXN  100.000019  Reconstructed flux\n17  Flux set 3           F16ALDOLASE-RXN   60.000013  Reconstructed flux\n18  Flux set 1            2TRANSKETO-RXN  -30.000004  Reconstructed flux\n19  Flux set 2            2TRANSKETO-RXN   30.000012  Reconstructed flux\n20  Flux set 3            2TRANSKETO-RXN   75.000023  Reconstructed flux\n21  Flux set 1  TRIOSEPISOMERIZATION-RXN   50.000015  Reconstructed flux\n22  Flux set 2  TRIOSEPISOMERIZATION-RXN   50.000006  Reconstructed flux\n23  Flux set 3  TRIOSEPISOMERIZATION-RXN   50.000006  Reconstructed flux",
      "text/html": "<div>\n<style scoped>\n    .dataframe tbody tr th:only-of-type {\n        vertical-align: middle;\n    }\n\n    .dataframe tbody tr th {\n        vertical-align: top;\n    }\n\n    .dataframe thead th {\n        text-align: right;\n    }\n</style>\n<table border=\"1\" class=\"dataframe\">\n  <thead>\n    <tr style=\"text-align: right;\">\n      <th></th>\n      <th>index</th>\n      <th>variable</th>\n      <th>value</th>\n      <th>kind</th>\n    </tr>\n  </thead>\n  <tbody>\n    <tr>\n      <th>0</th>\n      <td>Flux set 1</td>\n      <td>6PFRUCTPHOS-RXN</td>\n      <td>45.000000</td>\n      <td>Actual flux</td>\n    </tr>\n    <tr>\n      <th>1</th>\n      <td>Flux set 2</td>\n      <td>6PFRUCTPHOS-RXN</td>\n      <td>50.000000</td>\n      <td>Actual flux</td>\n    </tr>\n    <tr>\n      <th>2</th>\n      <td>Flux set 3</td>\n      <td>6PFRUCTPHOS-RXN</td>\n      <td>55.000000</td>\n      <td>Actual flux</td>\n    </tr>\n    <tr>\n      <th>3</th>\n      <td>Flux set 1</td>\n      <td>F16ALDOLASE-RXN</td>\n      <td>70.000000</td>\n      <td>Actual flux</td>\n    </tr>\n    <tr>\n      <th>4</th>\n      <td>Flux set 2</td>\n      <td>F16ALDOLASE-RXN</td>\n      <td>100.000000</td>\n      <td>Actual flux</td>\n    </tr>\n    <tr>\n      <th>5</th>\n      <td>Flux set 3</td>\n      <td>F16ALDOLASE-RXN</td>\n      <td>60.000000</td>\n      <td>Actual flux</td>\n    </tr>\n    <tr>\n      <th>6</th>\n      <td>Flux set 1</td>\n      <td>2TRANSKETO-RXN</td>\n      <td>-30.000000</td>\n      <td>Actual flux</td>\n    </tr>\n    <tr>\n      <th>7</th>\n      <td>Flux set 2</td>\n      <td>2TRANSKETO-RXN</td>\n      <td>30.000000</td>\n      <td>Actual flux</td>\n    </tr>\n    <tr>\n      <th>8</th>\n      <td>Flux set 3</td>\n      <td>2TRANSKETO-RXN</td>\n      <td>75.000000</td>\n      <td>Actual flux</td>\n    </tr>\n    <tr>\n      <th>9</th>\n      <td>Flux set 1</td>\n      <td>TRIOSEPISOMERIZATION-RXN</td>\n      <td>50.000000</td>\n      <td>Actual flux</td>\n    </tr>\n    <tr>\n      <th>10</th>\n      <td>Flux set 2</td>\n      <td>TRIOSEPISOMERIZATION-RXN</td>\n      <td>50.000000</td>\n      <td>Actual flux</td>\n    </tr>\n    <tr>\n      <th>11</th>\n      <td>Flux set 3</td>\n      <td>TRIOSEPISOMERIZATION-RXN</td>\n      <td>50.000000</td>\n      <td>Actual flux</td>\n    </tr>\n    <tr>\n      <th>12</th>\n      <td>Flux set 1</td>\n      <td>6PFRUCTPHOS-RXN</td>\n      <td>45.000063</td>\n      <td>Reconstructed flux</td>\n    </tr>\n    <tr>\n      <th>13</th>\n      <td>Flux set 2</td>\n      <td>6PFRUCTPHOS-RXN</td>\n      <td>50.000061</td>\n      <td>Reconstructed flux</td>\n    </tr>\n    <tr>\n      <th>14</th>\n      <td>Flux set 3</td>\n      <td>6PFRUCTPHOS-RXN</td>\n      <td>55.000070</td>\n      <td>Reconstructed flux</td>\n    </tr>\n    <tr>\n      <th>15</th>\n      <td>Flux set 1</td>\n      <td>F16ALDOLASE-RXN</td>\n      <td>70.000015</td>\n      <td>Reconstructed flux</td>\n    </tr>\n    <tr>\n      <th>16</th>\n      <td>Flux set 2</td>\n      <td>F16ALDOLASE-RXN</td>\n      <td>100.000019</td>\n      <td>Reconstructed flux</td>\n    </tr>\n    <tr>\n      <th>17</th>\n      <td>Flux set 3</td>\n      <td>F16ALDOLASE-RXN</td>\n      <td>60.000013</td>\n      <td>Reconstructed flux</td>\n    </tr>\n    <tr>\n      <th>18</th>\n      <td>Flux set 1</td>\n      <td>2TRANSKETO-RXN</td>\n      <td>-30.000004</td>\n      <td>Reconstructed flux</td>\n    </tr>\n    <tr>\n      <th>19</th>\n      <td>Flux set 2</td>\n      <td>2TRANSKETO-RXN</td>\n      <td>30.000012</td>\n      <td>Reconstructed flux</td>\n    </tr>\n    <tr>\n      <th>20</th>\n      <td>Flux set 3</td>\n      <td>2TRANSKETO-RXN</td>\n      <td>75.000023</td>\n      <td>Reconstructed flux</td>\n    </tr>\n    <tr>\n      <th>21</th>\n      <td>Flux set 1</td>\n      <td>TRIOSEPISOMERIZATION-RXN</td>\n      <td>50.000015</td>\n      <td>Reconstructed flux</td>\n    </tr>\n    <tr>\n      <th>22</th>\n      <td>Flux set 2</td>\n      <td>TRIOSEPISOMERIZATION-RXN</td>\n      <td>50.000006</td>\n      <td>Reconstructed flux</td>\n    </tr>\n    <tr>\n      <th>23</th>\n      <td>Flux set 3</td>\n      <td>TRIOSEPISOMERIZATION-RXN</td>\n      <td>50.000006</td>\n      <td>Reconstructed flux</td>\n    </tr>\n  </tbody>\n</table>\n</div>"
     },
     "execution_count": 29,
     "metadata": {},
     "output_type": "execute_result"
    }
   ],
   "source": [
    "df_vE = pd.DataFrame(vE, columns=Sd.columns, index=[\"Flux set 1\", \"Flux set 2\", \"Flux set 3\"]).melt(ignore_index=False).reset_index(drop=False)\n",
    "df_vE[\"kind\"] = \"Actual flux\"\n",
    "df_recon = pd.DataFrame(reconstructed_vE, columns=Sd.columns, index=[\"Flux set 1\", \"Flux set 2\", \"Flux set 3\"]).melt(ignore_index=False).reset_index(drop=False)\n",
    "df_recon[\"kind\"] = \"Reconstructed flux\"\n",
    "\n",
    "df_reconstr_comp = pd.concat([df_vE, df_recon]).reset_index(drop=True)\n",
    "df_reconstr_comp"
   ],
   "metadata": {
    "collapsed": false
   }
  },
  {
   "cell_type": "code",
   "execution_count": 30,
   "outputs": [
    {
     "data": {
      "text/plain": "<Figure size 916.4x720 with 4 Axes>",
      "image/png": "[encoded data removed]"
     },
     "metadata": {},
     "output_type": "display_data"
    }
   ],
   "source": [
    "sns.catplot(x=\"index\", y=\"value\", hue=\"kind\", col=\"variable\", kind=\"bar\", data=df_reconstr_comp, height=5, aspect=1, col_wrap=2)\n",
    "plt.savefig(\"flux_set_comparison.svg\")"
   ],
   "metadata": {
    "collapsed": false
   }
  },
  {
   "cell_type": "markdown",
   "source": [
    "# Create class based method"
   ],
   "metadata": {
    "collapsed": false
   }
  },
  {
   "cell_type": "code",
   "execution_count": 31,
   "outputs": [
    {
     "name": "stdout",
     "output_type": "stream",
     "text": [
      "Number of metabolites: 9\n",
      "Number of reactions: 4\n",
      "Number of substrate Km: 6\n",
      "Number of product Km: 8\n",
      "Number of forward rate constants: 4\n",
      "Number of reverse rate constants: 4\n"
     ]
    }
   ],
   "source": [
    "E = ConvexKinetics(Sd)"
   ],
   "metadata": {
    "collapsed": false
   }
  },
  {
   "cell_type": "code",
   "execution_count": 32,
   "outputs": [
    {
     "name": "stdout",
     "output_type": "stream",
     "text": [
      "Number of inhibition Km: 0\n",
      "Number of activation Km: 2\n"
     ]
    }
   ],
   "source": [
    "E.add_regulation(Sr)"
   ],
   "metadata": {
    "collapsed": false
   }
  },
  {
   "cell_type": "code",
   "execution_count": 33,
   "outputs": [
    {
     "name": "stdout",
     "output_type": "stream",
     "text": [
      "Number of flux sets: 3, Number of concentration variables: 27\n"
     ]
    }
   ],
   "source": [
    "E.add_flow_data(pd.DataFrame(vE))"
   ],
   "metadata": {
    "collapsed": false
   }
  },
  {
   "cell_type": "code",
   "execution_count": 34,
   "outputs": [],
   "source": [
    "E.construct_binding_matrix()"
   ],
   "metadata": {
    "collapsed": false
   }
  },
  {
   "cell_type": "code",
   "execution_count": 35,
   "outputs": [],
   "source": [
    "E.construct_kinetic_objective()"
   ],
   "metadata": {
    "collapsed": false
   }
  },
  {
   "cell_type": "code",
   "execution_count": 36,
   "outputs": [],
   "source": [
    "E.create_objective_function()"
   ],
   "metadata": {
    "collapsed": false
   }
  },
  {
   "cell_type": "code",
   "execution_count": 37,
   "outputs": [],
   "source": [
    "E.set_parameter_bounds()"
   ],
   "metadata": {
    "collapsed": false
   }
  },
  {
   "cell_type": "code",
   "execution_count": 38,
   "outputs": [],
   "source": [
    "E.add_mechanistic_constraints(K_eq)"
   ],
   "metadata": {
    "collapsed": false
   }
  },
  {
   "cell_type": "code",
   "execution_count": 39,
   "outputs": [],
   "source": [
    "E.set_up_problem()"
   ],
   "metadata": {
    "collapsed": false
   }
  },
  {
   "cell_type": "code",
   "execution_count": 40,
   "outputs": [
    {
     "data": {
      "text/plain": "{'var5889': Variable((9, 3)),\n 'var5884': Variable((6,)),\n 'var5888': Variable((2,)),\n 'var5885': Variable((8,)),\n 'var5887': Variable((4,)),\n 'var5886': Variable((4,))}"
     },
     "execution_count": 40,
     "metadata": {},
     "output_type": "execute_result"
    }
   ],
   "source": [
    "E.problem.var_dict"
   ],
   "metadata": {
    "collapsed": false
   }
  },
  {
   "cell_type": "code",
   "execution_count": 41,
   "outputs": [
    {
     "name": "stdout",
     "output_type": "stream",
     "text": [
      "===============================================================================\n",
      "                                     CVXPY                                     \n",
      "                                     v1.3.0                                    \n",
      "===============================================================================\n",
      "(CVXPY) Apr 18 11:46:20 AM: Your problem has 51 variables, 23 constraints, and 0 parameters.\n",
      "(CVXPY) Apr 18 11:46:20 AM: It is compliant with the following grammars: DCP, DQCP\n",
      "(CVXPY) Apr 18 11:46:20 AM: (If you need to solve this problem multiple times, but with different data, consider using parameters.)\n",
      "(CVXPY) Apr 18 11:46:20 AM: CVXPY will first compile your problem; then, it will invoke a numerical solver to obtain a solution.\n",
      "-------------------------------------------------------------------------------\n",
      "                                  Compilation                                  \n",
      "-------------------------------------------------------------------------------\n",
      "(CVXPY) Apr 18 11:46:20 AM: Compiling problem (target solver=ECOS).\n",
      "(CVXPY) Apr 18 11:46:20 AM: Reduction chain: Dcp2Cone -> CvxAttr2Constr -> ConeMatrixStuffing -> ECOS\n",
      "(CVXPY) Apr 18 11:46:20 AM: Applying reduction Dcp2Cone\n",
      "(CVXPY) Apr 18 11:46:20 AM: Applying reduction CvxAttr2Constr\n",
      "(CVXPY) Apr 18 11:46:20 AM: Applying reduction ConeMatrixStuffing\n",
      "(CVXPY) Apr 18 11:46:20 AM: Applying reduction ECOS\n",
      "(CVXPY) Apr 18 11:46:20 AM: Finished problem compilation (took 2.221e-01 seconds).\n",
      "-------------------------------------------------------------------------------\n",
      "                                Numerical solver                               \n",
      "-------------------------------------------------------------------------------\n",
      "(CVXPY) Apr 18 11:46:20 AM: Invoking solver ECOS  to obtain a solution.\n",
      "-------------------------------------------------------------------------------\n",
      "                                    Summary                                    \n",
      "-------------------------------------------------------------------------------\n",
      "(CVXPY) Apr 18 11:46:20 AM: Problem status: optimal\n",
      "(CVXPY) Apr 18 11:46:20 AM: Optimal value: 8.586e-01\n",
      "(CVXPY) Apr 18 11:46:20 AM: Compilation took 2.221e-01 seconds\n",
      "(CVXPY) Apr 18 11:46:20 AM: Solver (including time spent in interface) took 1.064e-02 seconds\n"
     ]
    }
   ],
   "source": [
    "E.solve(verbose=True)"
   ],
   "metadata": {
    "collapsed": false
   }
  },
  {
   "cell_type": "code",
   "execution_count": 42,
   "outputs": [
    {
     "name": "stdout",
     "output_type": "stream",
     "text": [
      "-7.047936132487109e-07\n",
      "-1.0239082236240815e-07\n",
      "-6.677974129232211e-08\n",
      "-1.6906883150424878e-07\n",
      "-6.163289647531656e-07\n",
      "-9.342144470514402e-08\n",
      "-1.1487283191335962e-07\n",
      "-5.094073475889194e-08\n",
      "-6.448454370477918e-07\n",
      "-1.0411114520492148e-07\n",
      "-1.0928582838687362e-07\n",
      "-6.029093692697107e-08\n"
     ]
    }
   ],
   "source": [
    "E.evaluate_fit()"
   ],
   "metadata": {
    "collapsed": false
   }
  },
  {
   "cell_type": "code",
   "execution_count": 43,
   "outputs": [
    {
     "name": "stdout",
     "output_type": "stream",
     "text": [
      "[ 45.00003172  70.00000718 -30.000002    50.00000845]\n",
      "[ 50.00003082 100.00000935  30.00000579  50.00000255]\n",
      "[55.00003547 60.00000626 75.0000103  50.00000301]\n"
     ]
    }
   ],
   "source": [
    "E.calculate_mechanistic_rates()"
   ],
   "metadata": {
    "collapsed": false
   }
  },
  {
   "cell_type": "code",
   "execution_count": 44,
   "outputs": [
    {
     "data": {
      "text/plain": "array([[ 45,  70, -30,  50],\n       [ 50, 100,  30,  50],\n       [ 55,  60,  75,  50]])"
     },
     "execution_count": 44,
     "metadata": {},
     "output_type": "execute_result"
    }
   ],
   "source": [
    "vE"
   ],
   "metadata": {
    "collapsed": false
   }
  },
  {
   "cell_type": "code",
   "execution_count": 45,
   "outputs": [
    {
     "name": "stdout",
     "output_type": "stream",
     "text": [
      "Substrate Km: ['162754.788', '1.956', '11.929', '1.000', '137.211', '137.211']\n",
      "Product Km: ['162754.790', '0.992', '162754.790', '3.226', '0.202', '1.000', '1.000', '1.000']\n",
      "Fwd kcat: ['13024.599', '1318.870', '4313.374', '2460.528']\n",
      "Rev kcat: ['4.372', '162741.248', '3386.883', '255.044']\n",
      "Concentration: ['125754.9288', '0.6122', '0.0005', '128710.9785', '0.6835', '0.0000', '0.0207', '0.0004', '0.0004']\n",
      "Concentration: ['89963.0052', '1.0000', '0.0004', '128710.0037', '1.0000', '0.0000', '0.0207', '20.4700', '20.4700']\n",
      "Concentration: ['92291.5116', '1.0000', '0.0005', '129621.2497', '0.5813', '0.0000', '0.0207', '29.1816', '29.1816']\n",
      "Activation Km: ['162754.791', '162754.791']\n"
     ]
    }
   ],
   "source": [
    "print('Substrate Km:', [f'{val:.3f}' for val in np.exp(E.Km_s.value)])\n",
    "print('Product Km:', [f'{val:.3f}' for val in np.exp(E.Km_p.value)])\n",
    "print('Fwd kcat:', [f'{val:.3f}' for val in np.exp(E.cfwd.value)])\n",
    "print('Rev kcat:', [f'{val:.3f}' for val in np.exp(E.crev.value)])\n",
    "\n",
    "concs = np.exp(E.c.value).T\n",
    "for row in concs:\n",
    "    print('Concentration:', [f'{val:.4f}' for val in row])\n",
    "\n",
    "if n_Km_i:\n",
    "    print('Inhibition Km:', [f'{val:.3f}' for val in np.exp(E.Km_i.value)])\n",
    "if n_Km_a:\n",
    "    print('Activation Km:', [f'{val:.3f}' for val in np.exp(E.Km_a.value)])"
   ],
   "metadata": {
    "collapsed": false
   }
  },
  {
   "cell_type": "markdown",
   "source": [
    "Substrate Km: ['4.757', '2.813', '11.497', '1.058', '1.326', '1.326']\n",
    "Product Km: ['23.137', '1.000', '1.000', '5.125', '0.193', '0.999', '1.000', '1.000']\n",
    "Fwd kcat: ['12731.404', '1329.747', '4610.882', '850.011']\n",
    "Rev kcat: ['1.000', '162728.992', '5514.672', '83.233']\n",
    "Concentration: ['2.2242', '0.4145', '0.0009', '0.1379', '0.6843', '0.0000', '0.0661', '0.0000', '0.0000']\n",
    "Concentration: ['0.9625', '1.0000', '0.0008', '0.1359', '1.0000', '0.0000', '0.0661', '0.1453', '0.1453']\n",
    "Concentration: ['1.0000', '1.0000', '0.0008', '0.1366', '0.5823', '0.0000', '0.0661', '0.2192', '0.2192']\n",
    "Activation Km: ['0.021', '0.002']"
   ],
   "metadata": {
    "collapsed": false
   }
  },
  {
   "cell_type": "code",
   "execution_count": 45,
   "outputs": [],
   "source": [],
   "metadata": {
    "collapsed": false
   }
  }
 ],
 "metadata": {
  "kernelspec": {
   "display_name": "Python 3 (ipykernel)",
   "language": "python",
   "name": "python3"
  },
  "language_info": {
   "codemirror_mode": {
    "name": "ipython",
    "version": 3
   },
   "file_extension": ".py",
   "mimetype": "text/x-python",
   "name": "python",
   "nbconvert_exporter": "python",
   "pygments_lexer": "ipython3",
   "version": "3.9.9"
  }
 },
 "nbformat": 4,
 "nbformat_minor": 5
}
