{
 "cells": [
  {
   "cell_type": "code",
   "execution_count": 84,
   "id": "89c876b4-8497-499f-a413-26ad32cec39e",
   "metadata": {},
   "outputs": [],
   "source": [
    "import numpy as np\n",
    "from scipy import linalg, special\n",
    "import seaborn as sns\n",
    "import pandas as pd\n",
    "import os\n",
    "from inspect import getmembers\n",
    "import matplotlib.pyplot as plt\n",
    "import networkx as nx\n",
    "from sklearn.preprocessing import MinMaxScaler, StandardScaler\n",
    "import dill\n",
    "from equilibrator_api import ComponentContribution, Q_, Reaction\n",
    "import requests\n",
    "import xmltodict\n",
    "import pint\n",
    "import cvxpy as cp\n",
    "import itertools\n",
    "import copy\n",
    "\n",
    "sns.set(style='darkgrid', palette='viridis', context='talk')\n",
    "\n",
    "os.chdir(os.path.expanduser('~/vivarium-ecoli'))"
   ]
  },
  {
   "cell_type": "markdown",
   "id": "82a34091-b89a-4a8b-b49e-ce86aeab25c6",
   "metadata": {},
   "source": [
    "A + B -E1> C -E2> D\n",
    "\n",
    "B -E3> F\n",
    "\n",
    "A -E4> G"
   ]
  },
  {
   "cell_type": "markdown",
   "id": "2cc077b2-8c38-4065-b306-2e91611fd975",
   "metadata": {},
   "source": [
    "# Testing eQuilibrator"
   ]
  },
  {
   "cell_type": "code",
   "execution_count": 85,
   "id": "77f87609-2312-4734-8970-05177c5c3434",
   "metadata": {},
   "outputs": [],
   "source": [
    "cc = ComponentContribution()\n",
    "\n",
    "# optional: changing the aqueous environment parameters\n",
    "cc.p_h = Q_(7.4)\n",
    "cc.p_mg = Q_(3.0)\n",
    "cc.ionic_strength = Q_(\"0.25M\")\n",
    "cc.temperature = Q_(\"298.15K\")\n",
    "\n"
   ]
  },
  {
   "cell_type": "code",
   "execution_count": 86,
   "id": "90008655-107b-487c-b60b-a98b12137dd6",
   "metadata": {},
   "outputs": [],
   "source": [
    "from equilibrator_api import Reaction\n",
    "compound_ids = [\"WATER\", \"ADP\", \"ATP\", \"Pi\"]\n",
    "compound_dict = {cid : cc.get_compound(f\"metacyc.compound:{cid}\") for cid in compound_ids}\n",
    "atpase_reaction = Reaction({\n",
    "    compound_dict[\"ATP\"]: -1,\n",
    "    compound_dict[\"WATER\"]: -1,\n",
    "    compound_dict[\"ADP\"]: 1,\n",
    "    compound_dict[\"Pi\"]: 1,\n",
    "})"
   ]
  },
  {
   "cell_type": "code",
   "execution_count": 87,
   "id": "ac886c79-121d-4d77-9ba0-eb4b25d19039",
   "metadata": {},
   "outputs": [
    {
     "data": {
      "text/html": [
       "(-29.14 &plusmn; 0.30) kilojoule/mole"
      ],
      "text/latex": [
       "$\\left(-29.14 \\pm 0.30\\right)\\ \\frac{\\mathrm{kilojoule}}{\\mathrm{mole}}$"
      ],
      "text/plain": [
       "<Measurement(-29.144472212600157, 0.3042778553577678, kilojoule / mole)>"
      ]
     },
     "execution_count": 87,
     "metadata": {},
     "output_type": "execute_result"
    }
   ],
   "source": [
    "standard_dg_prime = cc.standard_dg_prime(atpase_reaction)\n",
    "standard_dg_prime"
   ]
  },
  {
   "cell_type": "code",
   "execution_count": 88,
   "id": "c6be2265-c9ec-45cf-8b87-8ca2df1376dd",
   "metadata": {},
   "outputs": [
    {
     "name": "stdout",
     "output_type": "stream",
     "text": [
      "(-44.8 +/- 0.6) kilojoule / mole\n"
     ]
    }
   ],
   "source": [
    "cytoplasmic_p_h = Q_(7.5)\n",
    "cytoplasmic_ionic_strength = Q_(\"250 mM\")\n",
    "periplasmic_p_h = Q_(7.0)\n",
    "periplasmic_ionic_strength = Q_(\"200 mM\")\n",
    "e_potential_difference = Q_(\"0.15 V\")\n",
    "cytoplasmic_reaction = \"bigg.metabolite:pep = bigg.metabolite:g6p + bigg.metabolite:pyr\"\n",
    "periplasmic_reaction = \"bigg.metabolite:glc__D = \"\n",
    "\n",
    "cc = ComponentContribution()\n",
    "cc.p_h = cytoplasmic_p_h\n",
    "cc.ionic_strength = cytoplasmic_ionic_strength\n",
    "standard_dg_prime = cc.multicompartmental_standard_dg_prime(\n",
    "    cc.parse_reaction_formula(cytoplasmic_reaction),\n",
    "    cc.parse_reaction_formula(periplasmic_reaction),\n",
    "    e_potential_difference=e_potential_difference,\n",
    "    p_h_outer=periplasmic_p_h,\n",
    "    ionic_strength_outer=periplasmic_ionic_strength,\n",
    ")\n",
    "\n",
    "print(standard_dg_prime)\n"
   ]
  },
  {
   "cell_type": "code",
   "execution_count": 89,
   "id": "3c97b6b4-77e2-4ddb-926c-b39f4780811b",
   "metadata": {},
   "outputs": [],
   "source": [
    "cc.get_compound_by_inchi(\"WQZGKKKJIJFFOK-GASJEMHNSA-N\")"
   ]
  },
  {
   "cell_type": "markdown",
   "id": "fb140010-52ab-4edd-844e-a3645b3d5a41",
   "metadata": {},
   "source": [
    "# Toy example with fake data"
   ]
  },
  {
   "cell_type": "code",
   "execution_count": 90,
   "id": "6cd11cad-2e4b-4cb7-bec6-6d3e4f7b21bd",
   "metadata": {},
   "outputs": [],
   "source": [
    "s = requests.Session() # create session\n",
    "# Post login credentials to session:\n",
    "s.post('https://websvc.biocyc.org/credentials/login/', data={'email':'cellulararchitect@protonmail.com', 'password':'Cellman0451'})\n",
    "# Issue web service request:\n",
    "r = s.get('https://websvc.biocyc.org/getxml?id=ECOLI:6PFRUCTPHOS-RXN&detail=low&fmt=json')"
   ]
  },
  {
   "cell_type": "code",
   "execution_count": 91,
   "id": "08f6aabd-232f-4f40-9791-286bdb104c80",
   "metadata": {},
   "outputs": [
    {
     "data": {
      "text/plain": [
       "[{'Compound': {'@resource': 'getxml?ECOLI:ASCORBATE',\n",
       "   '@orgid': 'ECOLI',\n",
       "   '@frameid': 'ASCORBATE'}},\n",
       " {'Compound': {'@resource': 'getxml?ECOLI:L-DEHYDRO-ASCORBATE',\n",
       "   '@orgid': 'ECOLI',\n",
       "   '@frameid': 'L-DEHYDRO-ASCORBATE'}},\n",
       " {'Compound': {'@resource': 'getxml?ECOLI:WATER',\n",
       "   '@orgid': 'ECOLI',\n",
       "   '@frameid': 'WATER'},\n",
       "  'coefficient': {'@datatype': 'integer', '#text': '2'}}]"
      ]
     },
     "execution_count": 91,
     "metadata": {},
     "output_type": "execute_result"
    }
   ],
   "source": [
    "r = s.get('https://websvc.biocyc.org/getxml?id=ECOLI:RXN-12440&detail=low&fmt=json')\n",
    "rxn = xmltodict.parse(r.content)\n",
    "rxn['ptools-xml']['Reaction']['right']"
   ]
  },
  {
   "cell_type": "code",
   "execution_count": 92,
   "id": "80b980bf-1e2a-40bc-ba55-9199e49bd923",
   "metadata": {},
   "outputs": [
    {
     "data": {
      "text/plain": [
       "[{'Compound': {'@resource': 'getxml?ECOLI:ASCORBATE',\n",
       "   '@orgid': 'ECOLI',\n",
       "   '@frameid': 'ASCORBATE'}},\n",
       " {'Compound': {'@resource': 'getxml?ECOLI:L-DEHYDRO-ASCORBATE',\n",
       "   '@orgid': 'ECOLI',\n",
       "   '@frameid': 'L-DEHYDRO-ASCORBATE'}},\n",
       " {'Compound': {'@resource': 'getxml?ECOLI:WATER',\n",
       "   '@orgid': 'ECOLI',\n",
       "   '@frameid': 'WATER'},\n",
       "  'coefficient': {'@datatype': 'integer', '#text': '2'}}]"
      ]
     },
     "execution_count": 92,
     "metadata": {},
     "output_type": "execute_result"
    }
   ],
   "source": [
    "rxn = xmltodict.parse(r.content)\n",
    "rxn['ptools-xml']['Reaction']['right']"
   ]
  },
  {
   "cell_type": "code",
   "execution_count": 93,
   "id": "a2d44237-329f-44b8-a7aa-d02bf1b7d5d4",
   "metadata": {},
   "outputs": [
    {
     "data": {
      "text/plain": [
       "'ASCORBATE'"
      ]
     },
     "execution_count": 93,
     "metadata": {},
     "output_type": "execute_result"
    }
   ],
   "source": [
    "rxn['ptools-xml']['Reaction']['left'][0]['Compound']['@frameid']"
   ]
  },
  {
   "cell_type": "code",
   "execution_count": 94,
   "id": "339ecaa5-287e-4481-b15a-90f3dcfecf77",
   "metadata": {},
   "outputs": [
    {
     "data": {
      "text/plain": [
       "{'Compound': {'@resource': 'getxml?ECOLI:FRUCTOSE-16-DIPHOSPHATE',\n",
       "  '@orgid': 'ECOLI',\n",
       "  '@frameid': 'FRUCTOSE-16-DIPHOSPHATE'}}"
      ]
     },
     "execution_count": 94,
     "metadata": {},
     "output_type": "execute_result"
    }
   ],
   "source": [
    "r = s.get(f'https://websvc.biocyc.org/getxml?id=ECOLI:F16ALDOLASE-RXN&detail=low&fmt=json')\n",
    "rxn = xmltodict.parse(r.content)\n",
    "rxn['ptools-xml']['Reaction']['left']"
   ]
  },
  {
   "cell_type": "code",
   "execution_count": 95,
   "id": "837d6516-fa3c-4b71-ba39-4a98bb9689d3",
   "metadata": {},
   "outputs": [
    {
     "data": {
      "text/plain": [
       "{'6PFRUCTPHOS-RXN': <equilibrator_api.phased_reaction.PhasedReaction at 0x17d6d1580>,\n",
       " 'F16ALDOLASE-RXN': <equilibrator_api.phased_reaction.PhasedReaction at 0x1048b1280>,\n",
       " '2TRANSKETO-RXN': <equilibrator_api.phased_reaction.PhasedReaction at 0x289982af0>,\n",
       " 'TRIOSEPISOMERIZATION-RXN': <equilibrator_api.phased_reaction.PhasedReaction at 0x17bb8bca0>}"
      ]
     },
     "execution_count": 95,
     "metadata": {},
     "output_type": "execute_result"
    }
   ],
   "source": [
    "rxns_names = ['6PFRUCTPHOS-RXN', 'F16ALDOLASE-RXN', '2TRANSKETO-RXN', 'TRIOSEPISOMERIZATION-RXN']\n",
    "\n",
    "rxns_dict = {}\n",
    "stoich_dict = {}\n",
    "\n",
    "for name in rxns_names:\n",
    "    r = s.get(f'https://websvc.biocyc.org/getxml?id=ECOLI:{name}&detail=low&fmt=json')\n",
    "    rxn = xmltodict.parse(r.content)\n",
    "\n",
    "    rxn_dict = {}\n",
    "    stoich_loop_dict = {}\n",
    "    left = rxn['ptools-xml']['Reaction']['left']\n",
    "    right = rxn['ptools-xml']['Reaction']['right']\n",
    "    \n",
    "    if type(left) is dict:\n",
    "        left = [left]\n",
    "    \n",
    "    if type(right) is dict:\n",
    "        right = [right]\n",
    "    \n",
    "    for mol in left:\n",
    "        if type(mol) is dict:\n",
    "            cid = mol['Compound']['@frameid']\n",
    "            mol_cc = cc.get_compound(f\"metacyc.compound:{cid}\")\n",
    "            rxn_dict[mol_cc] = -1\n",
    "            stoich_loop_dict[cid] = -1\n",
    "\n",
    "    for mol in right:\n",
    "        if type(mol) is dict:\n",
    "            cid = mol['Compound']['@frameid']\n",
    "            mol_cc = cc.get_compound(f\"metacyc.compound:{cid}\")\n",
    "            rxn_dict[mol_cc] =  1\n",
    "            stoich_loop_dict[cid] = 1\n",
    "    \n",
    "    rxns_dict[name] = Reaction(rxn_dict)\n",
    "    stoich_dict[name] = stoich_loop_dict\n",
    "    \n",
    "rxns_dict"
   ]
  },
  {
   "cell_type": "code",
   "execution_count": 96,
   "id": "aeffc1b2-e63e-49b2-82e7-cbc629dbbc7d",
   "metadata": {},
   "outputs": [
    {
     "data": {
      "text/plain": [
       "[<equilibrator_api.phased_reaction.PhasedReaction at 0x17d6d1580>,\n",
       " <equilibrator_api.phased_reaction.PhasedReaction at 0x1048b1280>,\n",
       " <equilibrator_api.phased_reaction.PhasedReaction at 0x289982af0>,\n",
       " <equilibrator_api.phased_reaction.PhasedReaction at 0x17bb8bca0>]"
      ]
     },
     "execution_count": 96,
     "metadata": {},
     "output_type": "execute_result"
    }
   ],
   "source": [
    "list(rxns_dict.values())"
   ]
  },
  {
   "cell_type": "code",
   "execution_count": 97,
   "id": "5e072326-7492-4a26-adba-02158fcedf0e",
   "metadata": {},
   "outputs": [],
   "source": [
    "(standard_dg_prime, dg_uncertainty) = cc.standard_dg_prime_multi(list(rxns_dict.values()), uncertainty_representation=\"cov\")"
   ]
  },
  {
   "cell_type": "code",
   "execution_count": 98,
   "id": "748784e9-37fa-4e06-8fa9-88b497816064",
   "metadata": {},
   "outputs": [
    {
     "data": {
      "text/html": [
       "<table><tbody><tr><th>Magnitude</th><td style='text-align:left;'><pre>[-21.05010908198642 22.047924530096907 -5.946115510564027<br> -5.617742386692498]</pre></td></tr><tr><th>Units</th><td style='text-align:left;'>kilojoule/mole</td></tr></tbody></table>"
      ],
      "text/latex": [
       "$\\begin{pmatrix}-21.05010908198642 & 22.047924530096907 & -5.946115510564027 & -5.617742386692498\\end{pmatrix}\\ \\frac{\\mathrm{kilojoule}}{\\mathrm{mole}}$"
      ],
      "text/plain": [
       "array([-21.05010908,  22.04792453,  -5.94611551,  -5.61774239]) <Unit('kilojoule / mole')>"
      ]
     },
     "execution_count": 98,
     "metadata": {},
     "output_type": "execute_result"
    }
   ],
   "source": [
    "standard_dg_prime"
   ]
  },
  {
   "cell_type": "code",
   "execution_count": 99,
   "id": "11142f27-1260-4d21-97bc-42c00f4920f6",
   "metadata": {},
   "outputs": [
    {
     "data": {
      "text/html": [
       "<table><tbody><tr><th>Magnitude</th><td style='text-align:left;'><pre>[[1.5398212990074922 -2.2167471180569773 0.6541085596545129<br>  -0.004664260811860303]<br> [-2.2167471180569773 5.286946034707553 -2.4322877177623594<br>  -0.1291182736017488]<br> [0.6541085596545129 -2.4322877177623594 5.547270812427002<br>  -0.08893998540652082]<br> [-0.004664260811860303 -0.1291182736017488 -0.08893998540652082<br>  0.3010346102557717]]</pre></td></tr><tr><th>Units</th><td style='text-align:left;'>kilojoule<sup>2</sup>/mole<sup>2</sup></td></tr></tbody></table>"
      ],
      "text/latex": [
       "$\\begin{pmatrix}1.5398212990074922 & -2.2167471180569773 & 0.6541085596545129 & -0.004664260811860303\\\\ \n",
       "-2.2167471180569773 & 5.286946034707553 & -2.4322877177623594 & -0.1291182736017488\\\\ \n",
       "0.6541085596545129 & -2.4322877177623594 & 5.547270812427002 & -0.08893998540652082\\\\ \n",
       "-0.004664260811860303 & -0.1291182736017488 & -0.08893998540652082 & 0.3010346102557717\\end{pmatrix}\\ \\frac{\\mathrm{kilojoule}^{2}}{\\mathrm{mole}^{2}}$"
      ],
      "text/plain": [
       "array([[ 1.53982130e+00, -2.21674712e+00,  6.54108560e-01,\n",
       "        -4.66426081e-03],\n",
       "       [-2.21674712e+00,  5.28694603e+00, -2.43228772e+00,\n",
       "        -1.29118274e-01],\n",
       "       [ 6.54108560e-01, -2.43228772e+00,  5.54727081e+00,\n",
       "        -8.89399854e-02],\n",
       "       [-4.66426081e-03, -1.29118274e-01, -8.89399854e-02,\n",
       "         3.01034610e-01]]) <Unit('kilojoule ** 2 / mole ** 2')>"
      ]
     },
     "execution_count": 99,
     "metadata": {},
     "output_type": "execute_result"
    }
   ],
   "source": [
    "dg_uncertainty"
   ]
  },
  {
   "cell_type": "code",
   "execution_count": 100,
   "id": "320ca8b3-34c3-4bfe-b43b-e71e5d5685bc",
   "metadata": {},
   "outputs": [],
   "source": [
    "R = 0.008314 # kJ/mol*K\n",
    "T = 298.15 # K"
   ]
  },
  {
   "cell_type": "code",
   "execution_count": 101,
   "id": "6c217eee-8beb-4c13-82d5-200b12d4add9",
   "metadata": {},
   "outputs": [
    {
     "data": {
      "text/plain": [
       "array([4.87556287e+03, 1.37137368e-04, 1.10096201e+01, 9.64363243e+00])"
      ]
     },
     "execution_count": 101,
     "metadata": {},
     "output_type": "execute_result"
    }
   ],
   "source": [
    "dG = standard_dg_prime._magnitude\n",
    "\n",
    "keq = np.exp(-dG/(R*T))\n",
    "keq"
   ]
  },
  {
   "cell_type": "code",
   "execution_count": 102,
   "id": "85b02a39-ec4e-4b27-b6ac-7eeae4e0cd7f",
   "metadata": {},
   "outputs": [
    {
     "data": {
      "text/plain": [
       "{'_magnitude': array([-21.05010908,  22.04792453,  -5.94611551,  -5.61774239]),\n",
       " '_units': <UnitsContainer({'kilojoule': 1, 'mole': -1})>,\n",
       " '_Quantity__used': False,\n",
       " '_Quantity__handling': None,\n",
       " '_dimensionality': <UnitsContainer({'[length]': 2, '[mass]': 1, '[substance]': -1, '[time]': -2})>}"
      ]
     },
     "execution_count": 102,
     "metadata": {},
     "output_type": "execute_result"
    }
   ],
   "source": [
    "vars(standard_dg_prime)"
   ]
  },
  {
   "cell_type": "markdown",
   "id": "3a19ac18-e8ce-4653-9976-3946c1227c85",
   "metadata": {},
   "source": [
    "# Making example data for toy problem that fits physical constraints"
   ]
  },
  {
   "cell_type": "markdown",
   "id": "35cf3980-20e4-4ec8-bb2f-e6afe9933e92",
   "metadata": {},
   "source": [
    "Stochiometric matrix:"
   ]
  },
  {
   "cell_type": "code",
   "execution_count": 103,
   "id": "20e17173-8609-4628-ade4-798fb372c3b1",
   "metadata": {},
   "outputs": [
    {
     "data": {
      "text/plain": [
       "{'6PFRUCTPHOS-RXN': {'FRUCTOSE-6P': -1,\n",
       "  'ATP': -1,\n",
       "  'PROTON': 1,\n",
       "  'ADP': 1,\n",
       "  'FRUCTOSE-16-DIPHOSPHATE': 1},\n",
       " 'F16ALDOLASE-RXN': {'FRUCTOSE-16-DIPHOSPHATE': -1,\n",
       "  'DIHYDROXY-ACETONE-PHOSPHATE': 1,\n",
       "  'GAP': 1},\n",
       " '2TRANSKETO-RXN': {'ERYTHROSE-4P': -1,\n",
       "  'XYLULOSE-5-PHOSPHATE': -1,\n",
       "  'FRUCTOSE-6P': 1,\n",
       "  'GAP': 1},\n",
       " 'TRIOSEPISOMERIZATION-RXN': {'GAP': -1, 'DIHYDROXY-ACETONE-PHOSPHATE': 1}}"
      ]
     },
     "execution_count": 103,
     "metadata": {},
     "output_type": "execute_result"
    }
   ],
   "source": [
    "stoich_dict"
   ]
  },
  {
   "cell_type": "code",
   "execution_count": 104,
   "id": "ad0c9880-fd76-40d6-9d15-3bb61f96e3e9",
   "metadata": {},
   "outputs": [
    {
     "data": {
      "text/html": [
       "<div>\n",
       "<style scoped>\n",
       "    .dataframe tbody tr th:only-of-type {\n",
       "        vertical-align: middle;\n",
       "    }\n",
       "\n",
       "    .dataframe tbody tr th {\n",
       "        vertical-align: top;\n",
       "    }\n",
       "\n",
       "    .dataframe thead th {\n",
       "        text-align: right;\n",
       "    }\n",
       "</style>\n",
       "<table border=\"1\" class=\"dataframe\">\n",
       "  <thead>\n",
       "    <tr style=\"text-align: right;\">\n",
       "      <th></th>\n",
       "      <th>6PFRUCTPHOS-RXN</th>\n",
       "      <th>F16ALDOLASE-RXN</th>\n",
       "      <th>2TRANSKETO-RXN</th>\n",
       "      <th>TRIOSEPISOMERIZATION-RXN</th>\n",
       "    </tr>\n",
       "  </thead>\n",
       "  <tbody>\n",
       "    <tr>\n",
       "      <th>FRUCTOSE-6P</th>\n",
       "      <td>-1</td>\n",
       "      <td>0</td>\n",
       "      <td>1</td>\n",
       "      <td>0</td>\n",
       "    </tr>\n",
       "    <tr>\n",
       "      <th>ATP</th>\n",
       "      <td>-1</td>\n",
       "      <td>0</td>\n",
       "      <td>0</td>\n",
       "      <td>0</td>\n",
       "    </tr>\n",
       "    <tr>\n",
       "      <th>PROTON</th>\n",
       "      <td>1</td>\n",
       "      <td>0</td>\n",
       "      <td>0</td>\n",
       "      <td>0</td>\n",
       "    </tr>\n",
       "    <tr>\n",
       "      <th>ADP</th>\n",
       "      <td>1</td>\n",
       "      <td>0</td>\n",
       "      <td>0</td>\n",
       "      <td>0</td>\n",
       "    </tr>\n",
       "    <tr>\n",
       "      <th>FRUCTOSE-16-DIPHOSPHATE</th>\n",
       "      <td>1</td>\n",
       "      <td>-1</td>\n",
       "      <td>0</td>\n",
       "      <td>0</td>\n",
       "    </tr>\n",
       "    <tr>\n",
       "      <th>DIHYDROXY-ACETONE-PHOSPHATE</th>\n",
       "      <td>0</td>\n",
       "      <td>1</td>\n",
       "      <td>0</td>\n",
       "      <td>1</td>\n",
       "    </tr>\n",
       "    <tr>\n",
       "      <th>GAP</th>\n",
       "      <td>0</td>\n",
       "      <td>1</td>\n",
       "      <td>1</td>\n",
       "      <td>-1</td>\n",
       "    </tr>\n",
       "    <tr>\n",
       "      <th>ERYTHROSE-4P</th>\n",
       "      <td>0</td>\n",
       "      <td>0</td>\n",
       "      <td>-1</td>\n",
       "      <td>0</td>\n",
       "    </tr>\n",
       "    <tr>\n",
       "      <th>XYLULOSE-5-PHOSPHATE</th>\n",
       "      <td>0</td>\n",
       "      <td>0</td>\n",
       "      <td>-1</td>\n",
       "      <td>0</td>\n",
       "    </tr>\n",
       "  </tbody>\n",
       "</table>\n",
       "</div>"
      ],
      "text/plain": [
       "                             6PFRUCTPHOS-RXN  F16ALDOLASE-RXN  2TRANSKETO-RXN  \\\n",
       "FRUCTOSE-6P                               -1                0               1   \n",
       "ATP                                       -1                0               0   \n",
       "PROTON                                     1                0               0   \n",
       "ADP                                        1                0               0   \n",
       "FRUCTOSE-16-DIPHOSPHATE                    1               -1               0   \n",
       "DIHYDROXY-ACETONE-PHOSPHATE                0                1               0   \n",
       "GAP                                        0                1               1   \n",
       "ERYTHROSE-4P                               0                0              -1   \n",
       "XYLULOSE-5-PHOSPHATE                       0                0              -1   \n",
       "\n",
       "                             TRIOSEPISOMERIZATION-RXN  \n",
       "FRUCTOSE-6P                                         0  \n",
       "ATP                                                 0  \n",
       "PROTON                                              0  \n",
       "ADP                                                 0  \n",
       "FRUCTOSE-16-DIPHOSPHATE                             0  \n",
       "DIHYDROXY-ACETONE-PHOSPHATE                         1  \n",
       "GAP                                                -1  \n",
       "ERYTHROSE-4P                                        0  \n",
       "XYLULOSE-5-PHOSPHATE                                0  "
      ]
     },
     "execution_count": 104,
     "metadata": {},
     "output_type": "execute_result"
    }
   ],
   "source": [
    "Sd = pd.DataFrame(stoich_dict, dtype=np.int8).fillna(0).astype(np.int8)\n",
    "# Sd = Sd.iloc[0:7, 0:2]\n",
    "\n",
    "n_met = len(Sd.index)\n",
    "n_rxn = len(Sd.columns)\n",
    "\n",
    "Sd"
   ]
  },
  {
   "cell_type": "code",
   "execution_count": 105,
   "id": "5c82bb78-fff2-4098-9827-6b0d10324746",
   "metadata": {},
   "outputs": [
    {
     "data": {
      "text/html": [
       "<div>\n",
       "<style scoped>\n",
       "    .dataframe tbody tr th:only-of-type {\n",
       "        vertical-align: middle;\n",
       "    }\n",
       "\n",
       "    .dataframe tbody tr th {\n",
       "        vertical-align: top;\n",
       "    }\n",
       "\n",
       "    .dataframe thead th {\n",
       "        text-align: right;\n",
       "    }\n",
       "</style>\n",
       "<table border=\"1\" class=\"dataframe\">\n",
       "  <thead>\n",
       "    <tr style=\"text-align: right;\">\n",
       "      <th></th>\n",
       "      <th>6PFRUCTPHOS-RXN</th>\n",
       "      <th>F16ALDOLASE-RXN</th>\n",
       "      <th>2TRANSKETO-RXN</th>\n",
       "      <th>TRIOSEPISOMERIZATION-RXN</th>\n",
       "    </tr>\n",
       "  </thead>\n",
       "  <tbody>\n",
       "    <tr>\n",
       "      <th>$K_{eq}$</th>\n",
       "      <td>8.491991</td>\n",
       "      <td>-8.894527</td>\n",
       "      <td>0.41688</td>\n",
       "      <td>0.441248</td>\n",
       "    </tr>\n",
       "    <tr>\n",
       "      <th>$v$</th>\n",
       "      <td>100.000000</td>\n",
       "      <td>20.000000</td>\n",
       "      <td>-30.00000</td>\n",
       "      <td>-10.000000</td>\n",
       "    </tr>\n",
       "  </tbody>\n",
       "</table>\n",
       "</div>"
      ],
      "text/plain": [
       "          6PFRUCTPHOS-RXN  F16ALDOLASE-RXN  2TRANSKETO-RXN  \\\n",
       "$K_{eq}$         8.491991        -8.894527         0.41688   \n",
       "$v$            100.000000        20.000000       -30.00000   \n",
       "\n",
       "          TRIOSEPISOMERIZATION-RXN  \n",
       "$K_{eq}$                  0.441248  \n",
       "$v$                     -10.000000  "
      ]
     },
     "execution_count": 105,
     "metadata": {},
     "output_type": "execute_result"
    }
   ],
   "source": [
    "dG = standard_dg_prime._magnitude\n",
    "\n",
    "keq = np.exp(-dG/(R*T))\n",
    "keq\n",
    "\n",
    "K_eq = np.log(keq)\n",
    "vE = np.array([100, 20, -30, -10])\n",
    "\n",
    "K_eq[vE < 0] = 1/K_eq[vE < 0] \n",
    "\n",
    "lvE = np.log(np.abs(vE))\n",
    "\n",
    "pd.DataFrame(np.array([K_eq, vE]), columns=Sd.columns, index=[\"$K_{eq}$\", \"$v$\"])"
   ]
  },
  {
   "cell_type": "code",
   "execution_count": 106,
   "id": "547db931-e727-4c7b-aa7f-a09b80fee71e",
   "metadata": {},
   "outputs": [
    {
     "data": {
      "text/plain": [
       "array([0, 0, 1, 4, 5, 6])"
      ]
     },
     "execution_count": 106,
     "metadata": {},
     "output_type": "execute_result"
    }
   ],
   "source": [
    "# set up variables\n",
    "\n",
    "S = np.array(Sd)\n",
    "S = np.multiply(S, vE/np.abs(vE)).astype(np.int8)\n",
    "S[S == -0] = 0\n",
    "S_s = -np.copy(S)\n",
    "S_p = np.copy(S) #reverse neg sign\n",
    "S_s[S > 0] = 0\n",
    "S_p[S < 0] = 0\n",
    "\n",
    "S_s_nz = np.array(S_s.nonzero())\n",
    "S_p_nz = np.array(S_p.nonzero())\n",
    "\n",
    "# first coordinate, e.g. metabolites w nonzero substrate/product coeff across all reactions. also works as substrate indices. \n",
    "met_s_nz = S_s_nz[0, :]\n",
    "met_p_nz = S_p_nz[0, :]\n",
    "\n",
    "# second coordinate, e.g. reactions indices for those concentrations. works to index substrates as well. \n",
    "rxn_s_nz = S_s_nz[1, :]   \n",
    "rxn_p_nz = S_p_nz[1, :]\n",
    "\n",
    "# one dim is always 2\n",
    "n_Km_s = np.max(met_s_nz.shape) \n",
    "n_Km_p = np.max(met_p_nz.shape)\n",
    "\n",
    "c = cp.Variable(n_met)\n",
    "Km_s = cp.Variable(n_Km_s)\n",
    "Km_p = cp.Variable(n_Km_p)\n",
    "\n",
    "cfwd = cp.Variable(n_rxn)\n",
    "crev = cp.Variable(n_rxn)\n",
    "\n",
    "# define Km positions by nonzero S matrix concentrations\n",
    "y_s = c[met_s_nz] - Km_s\n",
    "y_p = c[met_p_nz] - Km_p\n",
    "\n",
    "# index \n",
    "met_s_nz"
   ]
  },
  {
   "cell_type": "code",
   "execution_count": 107,
   "id": "e35cbcbb-7059-41e5-968a-d8997259e1d0",
   "metadata": {},
   "outputs": [],
   "source": [
    "# number of saturation terms for sub, prod\n",
    "n_alpha = np.sum(np.power(2, S_s.sum(axis=0)) - 1)\n",
    "n_beta = np.sum(np.power(2, S_p.sum(axis=0)) - 1)\n",
    "\n",
    "# saturation matrix setup\n",
    "C_alpha = np.zeros([n_alpha, len(met_s_nz)])\n",
    "C_beta = np.zeros([n_beta, len(met_p_nz)])\n",
    "\n",
    "# to separate different reactions saturation terms. \n",
    "d_alpha = np.zeros(n_alpha, dtype=np.int8)\n",
    "d_beta = np.zeros(n_beta, dtype=np.int8)\n",
    "\n",
    "\n",
    "idx = 0\n",
    "\n",
    "for i in range(n_rxn):\n",
    "    \n",
    "    # pick one reaction at a time (get substrate indicies)\n",
    "    idx_cur_rxn = rxn_s_nz == i\n",
    "    \n",
    "    # generates all binary permutations minus the first one since that would result in -1\n",
    "    sat_perm = np.array(list(itertools.product([0, 1], repeat=sum(idx_cur_rxn))))\n",
    "    sat_perm = sat_perm[1:, :]\n",
    "    \n",
    "    r, _ = sat_perm.shape\n",
    "    \n",
    "    # replace zeros with saturation matrix\n",
    "    C_alpha[idx:(idx+r), idx_cur_rxn] = sat_perm\n",
    "    d_alpha[idx:(idx+r)] = i\n",
    "        \n",
    "    idx += r # add row # \n",
    "\n",
    "idx = 0\n",
    "    \n",
    "for i in range(n_rxn):\n",
    "    idx_cur_rxn = rxn_p_nz == i\n",
    "    \n",
    "    sat_perm = np.array(list(itertools.product([0, 1], repeat=sum(idx_cur_rxn))))\n",
    "    sat_perm = sat_perm[1:, :]\n",
    "    \n",
    "    r, _ = sat_perm.shape\n",
    "    \n",
    "    C_beta[idx:(idx+r), idx_cur_rxn] = sat_perm\n",
    "    d_beta[idx:(idx+r)] = i\n",
    "        \n",
    "    idx += r # add row # "
   ]
  },
  {
   "cell_type": "code",
   "execution_count": 108,
   "id": "e17e7a68-bcc4-4107-9abd-bc739f79b1ee",
   "metadata": {},
   "outputs": [
    {
     "data": {
      "text/plain": [
       "array([[0., 0., 1., 0., 0., 0.],\n",
       "       [1., 0., 0., 0., 0., 0.],\n",
       "       [1., 0., 1., 0., 0., 0.],\n",
       "       [0., 0., 0., 1., 0., 0.],\n",
       "       [0., 0., 0., 0., 0., 1.],\n",
       "       [0., 1., 0., 0., 0., 0.],\n",
       "       [0., 1., 0., 0., 0., 1.],\n",
       "       [0., 0., 0., 0., 1., 0.]])"
      ]
     },
     "execution_count": 108,
     "metadata": {},
     "output_type": "execute_result"
    }
   ],
   "source": [
    "C_alpha"
   ]
  },
  {
   "cell_type": "code",
   "execution_count": 109,
   "id": "9b1839b5-d544-44b6-96dc-3bbf1d217f35",
   "metadata": {},
   "outputs": [
    {
     "data": {
      "text/plain": [
       "[Expression(AFFINE, UNKNOWN, (12,)),\n",
       " Expression(AFFINE, UNKNOWN, (6,)),\n",
       " Expression(AFFINE, UNKNOWN, (8,)),\n",
       " Expression(AFFINE, UNKNOWN, (4,))]"
      ]
     },
     "execution_count": 109,
     "metadata": {},
     "output_type": "execute_result"
    }
   ],
   "source": [
    "n_lse_terms = np.max(np.power(2, S_s.sum(axis=0)) +  np.power(2, S_p.sum(axis=0)) - 2)\n",
    "LSE_expr = []\n",
    "\n",
    "for i in range(n_rxn):\n",
    "    # sum terms are separate in logsumexp. one per saturation term (row in C_alpha, C_beta)\n",
    "    n_term_s = np.sum(d_alpha == i) \n",
    "    n_term_p = np.sum(d_beta == i)\n",
    "    n_term = n_term_s + n_term_p\n",
    "    \n",
    "    Km_s_idx = np.nonzero(S_s_nz[1, :] == i)\n",
    "    S_s_idx = S_s_nz[0, S_s_nz[1, :] == i] # negate -1 entries\n",
    "    \n",
    "    Km_p_idx = np.nonzero(S_p_nz[1, :] == i)\n",
    "    S_p_idx = S_p_nz[0, S_p_nz[1, :] == i]\n",
    "    \n",
    "    LSE_expr.append(cp.hstack( [ lvE[i] + (C_alpha @ y_s)[d_alpha == i] - cp.multiply(np.ones(n_term_s), -S.T[i, S_s_idx] @ y_s[Km_s_idx]) - cfwd[i],  \n",
    "                                 lvE[i] + (C_beta @ y_p)[d_beta == i] - cp.multiply(np.ones(n_term_p), -S.T[i, S_s_idx] @ y_s[Km_s_idx]) - cfwd[i],\n",
    "                                 lvE[i] + 0 - cp.multiply(np.ones(1), -S.T[i, S_s_idx] @ y_s[Km_s_idx])  - cfwd[i],\n",
    "                                 cp.multiply(np.ones(1), S.T[i, S_p_idx] @ y_p[Km_p_idx])  + crev[i]\n",
    "                                 - cp.multiply(np.ones(1), -S.T[i, S_s_idx] @ y_s[Km_s_idx])  - cfwd[i]\n",
    "                                 #-1*np.ones(n_lse_terms - n_term + 1) \n",
    "                               ]\n",
    "                             )\n",
    "                   )  # remove +1 here, could also have cfwd outside objec. \n",
    "    \n",
    "#LSE_expr = cp.vstack(LSE_expr)\n",
    "LSE_expr"
   ]
  },
  {
   "cell_type": "code",
   "execution_count": 110,
   "id": "0ea14434-058e-444b-90e8-3d150362571f",
   "metadata": {},
   "outputs": [],
   "source": [
    "l = 0.0000001\n",
    "e = 0.00001\n",
    "f = 0.0000001\n",
    "reg =  cp.sum(cp.hstack([cfwd, crev, c])) + cp.sum(cp.hstack([-Km_s, -Km_p]))# regularization\n",
    "reg2 = cp.norm1(cp.hstack([cfwd, crev, c])) + cp.norm1(cp.hstack([-Km_s, -Km_p]))# regularization\n",
    "reg3 = cp.sum(cp.huber(cp.hstack([y_s, y_p]), 1))\n",
    "#reg3 = cp.norm1(cp.hstack([y_s, y_p])) # take a look at this\n",
    "\n",
    "# e1 = LSE_expr - cfwd\n",
    "\n",
    "# loss = cp.sum(cp.log_sum_exp(cp.vstack(LSE_expr), axis=1)  + )\n",
    "loss = 0\n",
    "for i in range(n_rxn):\n",
    "    loss += cp.norm2(cp.pos(cp.log_sum_exp(LSE_expr[i])))\n",
    "#loss = cp.norm2(cp.pos(cp.log_sum_exp(cp.vstack(LSE_expr), axis=1)  - (-lvE)   )) # use + lvE as it has negative exponent\n",
    "loss += l * reg \n",
    "loss += e * reg2\n",
    "loss += f * reg3\n",
    "# "
   ]
  },
  {
   "cell_type": "code",
   "execution_count": 111,
   "id": "85586d27-113e-4b95-8d70-7dfd2abc644c",
   "metadata": {},
   "outputs": [
    {
     "data": {
      "text/plain": [
       "[Equality(Expression(AFFINE, UNKNOWN, ()), Constant(CONSTANT, NONNEGATIVE, ())),\n",
       " Equality(Expression(AFFINE, UNKNOWN, ()), Constant(CONSTANT, NONPOSITIVE, ())),\n",
       " Equality(Expression(AFFINE, UNKNOWN, ()), Constant(CONSTANT, NONNEGATIVE, ())),\n",
       " Equality(Expression(AFFINE, UNKNOWN, ()), Constant(CONSTANT, NONNEGATIVE, ()))]"
      ]
     },
     "execution_count": 111,
     "metadata": {},
     "output_type": "execute_result"
    }
   ],
   "source": [
    "haldane = []\n",
    "fwd_flux = []\n",
    "\n",
    "for i, r in enumerate(S.T):\n",
    "    Km_s_idx = np.nonzero(S_s_nz[1, :] == i)\n",
    "    S_s_idx = S_s_nz[0, S_s_nz[1, :] == i] # negate -1 entries\n",
    "    \n",
    "    Km_p_idx = np.nonzero(S_p_nz[1, :] == i)\n",
    "    S_p_idx = S_p_nz[0, S_p_nz[1, :] == i]\n",
    "    \n",
    "    haldane.append(K_eq[i] == cfwd[i] - crev[i] + r[S_p_idx] @ Km_p[Km_p_idx] - (-r[S_s_idx]) @ Km_s[Km_s_idx])  # add minus since s matrix has minus\n",
    "    fwd_flux.append(cfwd[i] + (-r[S_s_idx]) @ y_s[Km_s_idx] - (crev[i] + r[S_p_idx] @ y_p[Km_p_idx])  - (lvE[i])  >= 0)  # add minus since s matrix has minus\n",
    "    \n",
    "haldane"
   ]
  },
  {
   "cell_type": "code",
   "execution_count": 112,
   "id": "8401aec2-ac3e-4dc0-a3ee-a5727ecb3477",
   "metadata": {},
   "outputs": [
    {
     "data": {
      "text/plain": [
       "array([4.60517019, 2.99573227, 3.40119738, 2.30258509])"
      ]
     },
     "execution_count": 112,
     "metadata": {},
     "output_type": "execute_result"
    }
   ],
   "source": [
    "lvE"
   ]
  },
  {
   "cell_type": "code",
   "execution_count": 113,
   "id": "a77dbaef-1995-4496-a867-6891b901e35f",
   "metadata": {},
   "outputs": [],
   "source": [
    "constr = [cp.hstack([cfwd, crev, c, Km_s, Km_p]) >= -12,\n",
    "          cp.hstack([cfwd, crev, c, Km_s, Km_p]) <= 12, cfwd[0] == 7,\n",
    "          ]\n",
    "\n",
    "constr.extend(haldane)\n",
    "constr.extend(fwd_flux)\n",
    "constr.extend([S.T @ c <= K_eq])"
   ]
  },
  {
   "cell_type": "code",
   "execution_count": 114,
   "id": "b434c2b0-a4d0-43f1-ad56-d98882abafa6",
   "metadata": {},
   "outputs": [
    {
     "name": "stdout",
     "output_type": "stream",
     "text": [
      "===============================================================================\n",
      "                                     CVXPY                                     \n",
      "                                     v1.3.0                                    \n",
      "===============================================================================\n",
      "(CVXPY) Mar 06 03:30:04 PM: Your problem has 31 variables, 12 constraints, and 0 parameters.\n",
      "(CVXPY) Mar 06 03:30:04 PM: It is compliant with the following grammars: DCP, DQCP\n",
      "(CVXPY) Mar 06 03:30:04 PM: (If you need to solve this problem multiple times, but with different data, consider using parameters.)\n",
      "(CVXPY) Mar 06 03:30:04 PM: CVXPY will first compile your problem; then, it will invoke a numerical solver to obtain a solution.\n",
      "-------------------------------------------------------------------------------\n",
      "                                  Compilation                                  \n",
      "-------------------------------------------------------------------------------\n",
      "(CVXPY) Mar 06 03:30:04 PM: Compiling problem (target solver=MOSEK).\n",
      "(CVXPY) Mar 06 03:30:04 PM: Reduction chain: Dcp2Cone -> CvxAttr2Constr -> ConeMatrixStuffing -> MOSEK\n",
      "(CVXPY) Mar 06 03:30:04 PM: Applying reduction Dcp2Cone\n",
      "(CVXPY) Mar 06 03:30:04 PM: Applying reduction CvxAttr2Constr\n",
      "(CVXPY) Mar 06 03:30:04 PM: Applying reduction ConeMatrixStuffing\n",
      "(CVXPY) Mar 06 03:30:04 PM: Applying reduction MOSEK\n",
      "(CVXPY) Mar 06 03:30:04 PM: Finished problem compilation (took 6.720e-02 seconds).\n",
      "-------------------------------------------------------------------------------\n",
      "                                Numerical solver                               \n",
      "-------------------------------------------------------------------------------\n",
      "(CVXPY) Mar 06 03:30:04 PM: Invoking solver MOSEK  to obtain a solution.\n",
      "\n",
      "\n",
      "(CVXPY) Mar 06 03:30:04 PM: Problem\n",
      "(CVXPY) Mar 06 03:30:04 PM:   Name                   :                 \n",
      "(CVXPY) Mar 06 03:30:04 PM:   Objective sense        : maximize        \n",
      "(CVXPY) Mar 06 03:30:04 PM:   Type                   : CONIC (conic optimization problem)\n",
      "(CVXPY) Mar 06 03:30:04 PM:   Constraints            : 160             \n",
      "(CVXPY) Mar 06 03:30:04 PM:   Affine conic cons.     : 0               \n",
      "(CVXPY) Mar 06 03:30:04 PM:   Disjunctive cons.      : 0               \n",
      "(CVXPY) Mar 06 03:30:04 PM:   Cones                  : 44              \n",
      "(CVXPY) Mar 06 03:30:04 PM:   Scalar variables       : 331             \n",
      "(CVXPY) Mar 06 03:30:04 PM:   Matrix variables       : 0               \n",
      "(CVXPY) Mar 06 03:30:04 PM:   Integer variables      : 0               \n",
      "(CVXPY) Mar 06 03:30:04 PM: \n",
      "(CVXPY) Mar 06 03:30:04 PM: Optimizer started.\n",
      "(CVXPY) Mar 06 03:30:04 PM: Presolve started.\n",
      "(CVXPY) Mar 06 03:30:04 PM: Linear dependency checker started.\n",
      "(CVXPY) Mar 06 03:30:04 PM: Linear dependency checker terminated.\n",
      "(CVXPY) Mar 06 03:30:04 PM: Eliminator started.\n",
      "(CVXPY) Mar 06 03:30:04 PM: Freed constraints in eliminator : 67\n",
      "(CVXPY) Mar 06 03:30:04 PM: Eliminator terminated.\n",
      "(CVXPY) Mar 06 03:30:04 PM: Eliminator started.\n",
      "(CVXPY) Mar 06 03:30:04 PM: Freed constraints in eliminator : 0\n",
      "(CVXPY) Mar 06 03:30:04 PM: Eliminator terminated.\n",
      "(CVXPY) Mar 06 03:30:04 PM: Eliminator - tries                  : 2                 time                   : 0.00            \n",
      "(CVXPY) Mar 06 03:30:04 PM: Lin. dep.  - tries                  : 1                 time                   : 0.00            \n",
      "(CVXPY) Mar 06 03:30:04 PM: Lin. dep.  - number                 : 0               \n",
      "(CVXPY) Mar 06 03:30:04 PM: Presolve terminated. Time: 0.00    \n",
      "(CVXPY) Mar 06 03:30:04 PM: Problem\n",
      "(CVXPY) Mar 06 03:30:04 PM:   Name                   :                 \n",
      "(CVXPY) Mar 06 03:30:04 PM:   Objective sense        : maximize        \n",
      "(CVXPY) Mar 06 03:30:04 PM:   Type                   : CONIC (conic optimization problem)\n",
      "(CVXPY) Mar 06 03:30:04 PM:   Constraints            : 160             \n",
      "(CVXPY) Mar 06 03:30:04 PM:   Affine conic cons.     : 0               \n",
      "(CVXPY) Mar 06 03:30:04 PM:   Disjunctive cons.      : 0               \n",
      "(CVXPY) Mar 06 03:30:04 PM:   Cones                  : 44              \n",
      "(CVXPY) Mar 06 03:30:04 PM:   Scalar variables       : 331             \n",
      "(CVXPY) Mar 06 03:30:04 PM:   Matrix variables       : 0               \n",
      "(CVXPY) Mar 06 03:30:04 PM:   Integer variables      : 0               \n",
      "(CVXPY) Mar 06 03:30:04 PM: \n",
      "(CVXPY) Mar 06 03:30:04 PM: Optimizer  - threads                : 10              \n",
      "(CVXPY) Mar 06 03:30:04 PM: Optimizer  - solved problem         : the primal      \n",
      "(CVXPY) Mar 06 03:30:04 PM: Optimizer  - Constraints            : 70\n",
      "(CVXPY) Mar 06 03:30:04 PM: Optimizer  - Cones                  : 44\n",
      "(CVXPY) Mar 06 03:30:04 PM: Optimizer  - Scalar variables       : 230               conic                  : 132             \n",
      "(CVXPY) Mar 06 03:30:04 PM: Optimizer  - Semi-definite variables: 0                 scalarized             : 0               \n",
      "(CVXPY) Mar 06 03:30:04 PM: Factor     - setup time             : 0.00              dense det. time        : 0.00            \n",
      "(CVXPY) Mar 06 03:30:04 PM: Factor     - ML order time          : 0.00              GP order time          : 0.00            \n",
      "(CVXPY) Mar 06 03:30:04 PM: Factor     - nonzeros before factor : 529               after factor           : 543             \n",
      "(CVXPY) Mar 06 03:30:04 PM: Factor     - dense dim.             : 0                 flops                  : 1.31e+04        \n",
      "(CVXPY) Mar 06 03:30:04 PM: ITE PFEAS    DFEAS    GFEAS    PRSTATUS   POBJ              DOBJ              MU       TIME  \n",
      "(CVXPY) Mar 06 03:30:04 PM: 0   9.7e+00  8.4e+01  2.7e+01  0.00e+00   -2.552149866e+01  5.910361480e-06   1.0e+00  0.00  \n",
      "(CVXPY) Mar 06 03:30:04 PM: 1   1.3e+00  1.1e+01  8.8e+00  -9.59e-01  3.487152458e+01   5.170346831e+01   1.3e-01  0.01  \n",
      "(CVXPY) Mar 06 03:30:04 PM: 2   1.9e-01  1.7e+00  2.1e+00  -6.79e-01  1.647761395e+02   1.608955716e+02   2.0e-02  0.01  \n",
      "(CVXPY) Mar 06 03:30:04 PM: 3   6.8e-02  5.9e-01  4.3e-01  5.10e-01   1.044591405e+02   1.036095565e+02   7.0e-03  0.01  \n",
      "(CVXPY) Mar 06 03:30:04 PM: 4   1.9e-02  1.6e-01  5.5e-02  9.97e-01   3.196007563e+01   3.201829802e+01   1.9e-03  0.01  \n",
      "(CVXPY) Mar 06 03:30:04 PM: 5   5.9e-03  5.1e-02  9.3e-03  1.03e+00   2.886722204e+00   2.925384408e+00   6.1e-04  0.01  \n",
      "(CVXPY) Mar 06 03:30:04 PM: 6   8.9e-04  7.7e-03  5.1e-04  1.09e+00   3.917320888e-01   4.017589956e-01   9.2e-05  0.01  \n",
      "(CVXPY) Mar 06 03:30:04 PM: 7   9.9e-06  8.6e-05  5.6e-07  1.03e+00   8.878731161e-03   9.043555772e-03   1.0e-06  0.01  \n",
      "(CVXPY) Mar 06 03:30:04 PM: 8   1.6e-06  1.4e-05  3.0e-08  1.08e+00   3.897369463e-03   3.933798516e-03   1.6e-07  0.01  \n",
      "(CVXPY) Mar 06 03:30:04 PM: 9   4.2e-07  3.7e-06  3.5e-09  1.34e+00   1.543724336e-03   1.553354710e-03   4.4e-08  0.01  \n",
      "(CVXPY) Mar 06 03:30:04 PM: 10  2.4e-07  2.1e-06  1.4e-09  1.26e+00   1.059164566e-03   1.064105698e-03   2.5e-08  0.01  \n",
      "(CVXPY) Mar 06 03:30:04 PM: 11  7.3e-08  6.3e-07  2.3e-10  1.18e+00   7.523304705e-04   7.537620180e-04   7.5e-09  0.01  \n",
      "(CVXPY) Mar 06 03:30:04 PM: 12  2.1e-08  1.8e-07  3.5e-11  1.12e+00   6.463341724e-04   6.467218419e-04   2.2e-09  0.02  \n",
      "(CVXPY) Mar 06 03:30:04 PM: 13  5.9e-09  5.1e-08  5.0e-12  1.06e+00   6.160739684e-04   6.161794236e-04   6.1e-10  0.02  \n",
      "(CVXPY) Mar 06 03:30:04 PM: 14  1.9e-09  1.6e-08  8.9e-13  1.03e+00   6.076071936e-04   6.076405438e-04   1.9e-10  0.02  \n",
      "(CVXPY) Mar 06 03:30:04 PM: 15  2.6e-10  2.3e-09  4.6e-14  1.01e+00   6.042326496e-04   6.042372770e-04   2.7e-11  0.02  \n",
      "(CVXPY) Mar 06 03:30:04 PM: Optimizer terminated. Time: 0.02    \n",
      "(CVXPY) Mar 06 03:30:04 PM: \n",
      "(CVXPY) Mar 06 03:30:04 PM: \n",
      "(CVXPY) Mar 06 03:30:04 PM: Interior-point solution summary\n",
      "(CVXPY) Mar 06 03:30:04 PM:   Problem status  : PRIMAL_AND_DUAL_FEASIBLE\n",
      "(CVXPY) Mar 06 03:30:04 PM:   Solution status : OPTIMAL\n",
      "(CVXPY) Mar 06 03:30:04 PM:   Primal.  obj: 6.0423264959e-04    nrm: 1e+00    Viol.  con: 4e-09    var: 1e-09    cones: 0e+00  \n",
      "(CVXPY) Mar 06 03:30:04 PM:   Dual.    obj: 6.0423727704e-04    nrm: 2e+01    Viol.  con: 0e+00    var: 7e-09    cones: 0e+00  \n",
      "-------------------------------------------------------------------------------\n",
      "                                    Summary                                    \n",
      "-------------------------------------------------------------------------------\n",
      "(CVXPY) Mar 06 03:30:04 PM: Problem status: optimal\n",
      "(CVXPY) Mar 06 03:30:04 PM: Optimal value: 6.040e-04\n",
      "(CVXPY) Mar 06 03:30:04 PM: Compilation took 6.720e-02 seconds\n",
      "(CVXPY) Mar 06 03:30:04 PM: Solver (including time spent in interface) took 2.718e-02 seconds\n"
     ]
    },
    {
     "data": {
      "text/plain": [
       "0.0006039656727508436"
      ]
     },
     "execution_count": 114,
     "metadata": {},
     "output_type": "execute_result"
    }
   ],
   "source": [
    "p = cp.Problem(cp.Minimize(loss), constr)\n",
    "p.solve(verbose=True)"
   ]
  },
  {
   "cell_type": "markdown",
   "id": "5b907a59-21fe-4dd1-9e19-fecf7bb1b1e5",
   "metadata": {},
   "source": [
    "# Checking correctness of result"
   ]
  },
  {
   "cell_type": "code",
   "execution_count": 115,
   "id": "168df7be-aa37-489b-96bd-70b211f45389",
   "metadata": {},
   "outputs": [
    {
     "data": {
      "text/plain": [
       "array([7.        , 3.06827939, 5.43594489, 3.17791652])"
      ]
     },
     "execution_count": 115,
     "metadata": {},
     "output_type": "execute_result"
    }
   ],
   "source": [
    "cfwd.value"
   ]
  },
  {
   "cell_type": "code",
   "execution_count": 116,
   "id": "969fd0d0-cb84-4a85-abf9-8e45fac0190e",
   "metadata": {},
   "outputs": [
    {
     "data": {
      "text/plain": [
       "array([5.09200208e-05, 5.82004332e+00, 3.73219684e+00, 2.73393504e+00])"
      ]
     },
     "execution_count": 116,
     "metadata": {},
     "output_type": "execute_result"
    }
   ],
   "source": [
    "crev.value"
   ]
  },
  {
   "cell_type": "code",
   "execution_count": 117,
   "id": "2c06bd43-858a-4a80-87b4-e906682ea9d2",
   "metadata": {},
   "outputs": [
    {
     "data": {
      "text/plain": [
       "array([ 6.48882512e+00,  1.17766742e+00, -5.42378764e-04, -5.42378764e-04,\n",
       "        1.00276427e+01, -2.42864344e-04, -1.86263347e+00, -1.01204728e-04,\n",
       "       -1.01204728e-04])"
      ]
     },
     "execution_count": 117,
     "metadata": {},
     "output_type": "execute_result"
    }
   ],
   "source": [
    "c.value"
   ]
  },
  {
   "cell_type": "code",
   "execution_count": 118,
   "id": "41df70c2-16d4-4cb1-982c-24b36295a53b",
   "metadata": {},
   "outputs": [
    {
     "data": {
      "text/plain": [
       "array([-5.03550375e-03,  1.24425923e+00, -4.47179381e-03,  4.96820448e+00,\n",
       "       -5.94896284e-05, -1.02877131e-03])"
      ]
     },
     "execution_count": 118,
     "metadata": {},
     "output_type": "execute_result"
    }
   ],
   "source": [
    "Km_s.value"
   ]
  },
  {
   "cell_type": "code",
   "execution_count": 119,
   "id": "d2553824-cf7e-4608-9562-48bba6cc213c",
   "metadata": {},
   "outputs": [
    {
     "data": {
      "text/plain": [
       "array([ 4.83857946e-04,  4.83857946e-04,  1.48156674e+00, -1.94593455e-02,\n",
       "       -1.15509968e+00, -2.79269729e-03, -2.18185865e-02, -2.18185865e-02])"
      ]
     },
     "execution_count": 119,
     "metadata": {},
     "output_type": "execute_result"
    }
   ],
   "source": [
    "Km_p.value"
   ]
  },
  {
   "cell_type": "markdown",
   "id": "2db77294-ce0c-4874-9ac5-954b940ac8d2",
   "metadata": {},
   "source": [
    "## Checking Haldane and fwd/rev flux ratios are satisfied"
   ]
  },
  {
   "cell_type": "code",
   "execution_count": 120,
   "id": "7bf9b6c8-032f-45db-a73c-188cfbb03736",
   "metadata": {},
   "outputs": [
    {
     "name": "stdout",
     "output_type": "stream",
     "text": [
      "haldane 0.0\n",
      "forward 6.131925377653316\n",
      "haldane 0.0\n",
      "forward 2.995991627405913\n",
      "haldane 1.6653345369377348e-16\n",
      "forward 5.043274474568136\n",
      "haldane -1.6653345369377348e-16\n",
      "forward 2.30363886948592\n"
     ]
    }
   ],
   "source": [
    "for i, r in enumerate(S.T):\n",
    "    Km_s_idx = np.nonzero(S_s_nz[1, :] == i)\n",
    "    S_s_idx = S_s_nz[0, S_s_nz[1, :] == i] # negate -1 entries\n",
    "    \n",
    "    Km_p_idx = np.nonzero(S_p_nz[1, :] == i)\n",
    "    S_p_idx = S_p_nz[0, S_p_nz[1, :] == i]\n",
    "    \n",
    "    print(\"haldane\", cfwd.value[i] - crev.value[i] + r[S_p_idx] @ Km_p.value[Km_p_idx] - (-r[S_s_idx]) @ Km_s.value[Km_s_idx] - K_eq[i] )\n",
    "    # print(cfwd.value[i], (-r[S_s_idx]), y_s.value[Km_s_idx], crev.value[i], r[S_p_idx],  y_p.value[Km_p_idx])\n",
    "    print(\"forward\", cfwd.value[i] + (-r[S_s_idx]) @ y_s.value[Km_s_idx] - (crev.value[i] + r[S_p_idx] @ y_p.value[Km_p_idx]))"
   ]
  },
  {
   "cell_type": "code",
   "execution_count": 121,
   "id": "7dc38b25-e201-4b6b-a275-25561489b194",
   "metadata": {},
   "outputs": [
    {
     "data": {
      "text/plain": [
       "array([ 6.49386062e+00,  5.24456589e+00,  1.18213921e+00,  5.05943826e+00,\n",
       "       -1.83374716e-04, -1.86160469e+00])"
      ]
     },
     "execution_count": 121,
     "metadata": {},
     "output_type": "execute_result"
    }
   ],
   "source": [
    "y_s.value"
   ]
  },
  {
   "cell_type": "code",
   "execution_count": 122,
   "id": "7d6bf207-f672-4a6f-a191-cc6f0eb648f6",
   "metadata": {},
   "outputs": [
    {
     "data": {
      "text/plain": [
       "array([-1.02623671e-03, -1.02623671e-03,  8.54607601e+00,  1.92164812e-02,\n",
       "       -7.07533781e-01, -1.85984077e+00,  2.17173818e-02,  2.17173818e-02])"
      ]
     },
     "execution_count": 122,
     "metadata": {},
     "output_type": "execute_result"
    }
   ],
   "source": [
    "y_p.value"
   ]
  },
  {
   "cell_type": "markdown",
   "id": "6bc8db34-d4c9-4790-bebb-9dbcaa4bb578",
   "metadata": {},
   "source": [
    "## Checking that objective has been minimized."
   ]
  },
  {
   "cell_type": "markdown",
   "id": "63d99f85-252b-4b52-8f21-383c88191a6f",
   "metadata": {},
   "source": [
    "Need to rearrange terms."
   ]
  },
  {
   "cell_type": "code",
   "execution_count": 123,
   "id": "b3655804-a36b-45ea-a80d-275306b72dfe",
   "metadata": {},
   "outputs": [
    {
     "name": "stdout",
     "output_type": "stream",
     "text": [
      "[[ 82.88432547  10.26924009  25.33485894   5.27046524]\n",
      " [100.          20.          30.          10.        ]]\n"
     ]
    }
   ],
   "source": [
    "LSE_expr = []\n",
    "\n",
    "for i in range(n_rxn):\n",
    "    # sum terms are separate in logsumexp. one per saturation term (row in C_alpha, C_beta)\n",
    "    n_term_s = np.sum(d_alpha == i) \n",
    "    n_term_p = np.sum(d_beta == i)\n",
    "    n_term = n_term_s + n_term_p\n",
    "    \n",
    "    Km_s_idx = np.nonzero(S_s_nz[1, :] == i)\n",
    "    S_s_idx = S_s_nz[0, S_s_nz[1, :] == i] # negate -1 entries\n",
    "    \n",
    "    Km_p_idx = np.nonzero(S_p_nz[1, :] == i)\n",
    "    S_p_idx = S_p_nz[0, S_p_nz[1, :] == i]\n",
    "    \n",
    "    \n",
    "    LSE_expr.append(           [ (C_alpha @ y_s.value)[d_alpha == i] - np.multiply(np.ones(n_term_s), -S.T[i, S_s_idx] @ y_s.value[Km_s_idx]) - cfwd.value[i],  \n",
    "                                 (C_beta @ y_p.value)[d_beta == i] - np.multiply(np.ones(n_term_p), -S.T[i, S_s_idx] @ y_s.value[Km_s_idx]) - cfwd.value[i],\n",
    "                                 0 - np.multiply(np.ones(1), -S.T[i, S_s_idx] @ y_s.value[Km_s_idx])  - cfwd.value[i],\n",
    "                                 np.multiply(np.ones(1), S.T[i, S_p_idx] @ y_p.value[Km_p_idx])  + crev.value[i]\n",
    "                                 - np.multiply(np.ones(1), -S.T[i, S_s_idx] @ y_s.value[Km_s_idx])  - cfwd.value[i]\n",
    "                                 #-1*np.ones(n_lse_terms - n_term + 1) \n",
    "                                 #-1*np.ones(n_lse_terms - n_term + 1) \n",
    "                               ]\n",
    "                   )\n",
    "    \n",
    "\n",
    "est = np.zeros(4)    \n",
    "\n",
    "for i, rxn in enumerate(LSE_expr):\n",
    "    s = 0\n",
    "    \n",
    "    for term in rxn:\n",
    "        s += np.sum(np.exp(term))\n",
    "        \n",
    "    est[i] = np.log(s)\n",
    "    \n",
    "\n",
    "# est is obj. \n",
    "print(np.array([np.exp(-est),np.exp(lvE)]))"
   ]
  },
  {
   "cell_type": "markdown",
   "id": "d282711e-4f51-401b-b575-0e1ba82d7150",
   "metadata": {},
   "source": [
    "## How closely does the objective match our target kcats?"
   ]
  },
  {
   "cell_type": "code",
   "execution_count": 124,
   "id": "b87caa09-14b9-44b4-b4da-647b62e5f898",
   "metadata": {},
   "outputs": [
    {
     "name": "stdout",
     "output_type": "stream",
     "text": [
      "[[ 82.88432547  10.26924009  25.33485894   5.27046524]\n",
      " [100.          20.          30.          10.        ]]\n"
     ]
    }
   ],
   "source": [
    "print(np.array([np.exp(-est),np.exp(lvE)]))"
   ]
  },
  {
   "cell_type": "markdown",
   "id": "88c231fb-31bf-4347-ad2d-8b9495c745d9",
   "metadata": {},
   "source": [
    "Remarkable. "
   ]
  },
  {
   "cell_type": "markdown",
   "id": "87868215-a91b-442e-b3f3-13121677d5f0",
   "metadata": {},
   "source": [
    "# What do fluxes with reverse flow look like?"
   ]
  },
  {
   "cell_type": "code",
   "execution_count": 125,
   "id": "f148ad8b-a086-440b-9cf3-304bc244e77b",
   "metadata": {},
   "outputs": [],
   "source": [
    "sat_expr = []\n",
    "fwd_sat = np.zeros(n_rxn)\n",
    "back_sat = np.zeros(n_rxn)\n",
    "sat = np.zeros(n_rxn)\n",
    "\n",
    "for i in range(n_rxn):\n",
    "    # sum terms are separate in logsumexp. one per saturation term (row in C_alpha, C_beta)\n",
    "    n_term_s = np.sum(d_alpha == i) \n",
    "    n_term_p = np.sum(d_beta == i)\n",
    "    n_term = n_term_s + n_term_p\n",
    "    \n",
    "    \n",
    "    Km_s_idx = np.nonzero(S_s_nz[1, :] == i)\n",
    "    S_s_idx = S_s_nz[0, S_s_nz[1, :] == i] # negate -1 entries\n",
    "    \n",
    "    Km_p_idx = np.nonzero(S_p_nz[1, :] == i)\n",
    "    S_p_idx = S_p_nz[0, S_p_nz[1, :] == i]\n",
    "    \n",
    "    #S_s_idx = S_s_nz[0, S_s_nz[1, :] == i]\n",
    "    \n",
    "    sat_expr.append(           [ (C_alpha @ y_s.value)[d_alpha == i] ,  \n",
    "                                 (C_beta @ y_p.value)[d_beta == i],\n",
    "                                 0,\n",
    "                                 #-1*np.ones(n_lse_terms - n_term + 1) \n",
    "                               ]\n",
    "                   )\n",
    "    fwd_sat[i] = (np.exp(-S.T[i, S_s_idx] @ y_s.value[Km_s_idx])) # + cfwd.value[i]\n",
    "    back_sat[i] = (np.exp(S.T[i, S_p_idx] @ y_p.value[Km_p_idx])) # + cfwd.value[i]\n",
    "    \n",
    "    \n",
    "\n",
    "for i, rxn in enumerate(sat_expr):\n",
    "    s = 0\n",
    "    \n",
    "    for term in rxn:\n",
    "        s += np.sum(np.exp(term))\n",
    "        \n",
    "    sat[i] = (s)"
   ]
  },
  {
   "cell_type": "code",
   "execution_count": 126,
   "id": "2ec2a988-ad4a-45a1-afda-4006da2b2264",
   "metadata": {},
   "outputs": [
    {
     "data": {
      "text/plain": [
       "array([0.09217807, 0.98121889, 0.13195895, 0.46384139])"
      ]
     },
     "execution_count": 126,
     "metadata": {},
     "output_type": "execute_result"
    }
   ],
   "source": [
    "fwd_sat/sat"
   ]
  },
  {
   "cell_type": "code",
   "execution_count": 127,
   "id": "52799b3c-90c6-49b3-b13b-ccf121d34636",
   "metadata": {},
   "outputs": [
    {
     "data": {
      "text/plain": [
       "array([0.21958643, 0.00313002, 0.00467844, 0.07223215])"
      ]
     },
     "execution_count": 127,
     "metadata": {},
     "output_type": "execute_result"
    }
   ],
   "source": [
    "back_sat/sat"
   ]
  },
  {
   "cell_type": "code",
   "execution_count": 128,
   "id": "01dc4162-6b77-4dd2-9bef-333d4f05aed6",
   "metadata": {},
   "outputs": [
    {
     "data": {
      "text/plain": [
       "array([101.08552566,  21.10098404,  30.28584782,  11.1306649 ])"
      ]
     },
     "execution_count": 128,
     "metadata": {},
     "output_type": "execute_result"
    }
   ],
   "source": [
    "np.exp(cfwd.value) * fwd_sat/sat "
   ]
  },
  {
   "cell_type": "code",
   "execution_count": 129,
   "id": "a721b1a5-a03f-4cb7-a96a-1959c053bf39",
   "metadata": {},
   "outputs": [
    {
     "data": {
      "text/plain": [
       "array([100.86592805,  20.04620843,  30.09042582,  10.01877071])"
      ]
     },
     "execution_count": 129,
     "metadata": {},
     "output_type": "execute_result"
    }
   ],
   "source": [
    "np.exp(cfwd.value) * fwd_sat/sat - np.exp(crev.value) * back_sat/sat"
   ]
  },
  {
   "cell_type": "code",
   "execution_count": 130,
   "id": "e606bbac-e82b-4853-a474-d6dde1be1ac5",
   "metadata": {},
   "outputs": [
    {
     "data": {
      "text/plain": [
       "array([0.21959761, 1.05477561, 0.195422  , 1.11189418])"
      ]
     },
     "execution_count": 130,
     "metadata": {},
     "output_type": "execute_result"
    }
   ],
   "source": [
    "np.exp(crev.value) * back_sat/sat"
   ]
  },
  {
   "cell_type": "code",
   "execution_count": 131,
   "id": "6bcd27a4-3909-4845-b18a-ddcd03197ca7",
   "metadata": {},
   "outputs": [
    {
     "name": "stdout",
     "output_type": "stream",
     "text": [
      "Substrate Km: ['0.995', '3.470', '0.996', '143.769', '1.000', '0.999']\n",
      "Product Km: ['1.000', '1.000', '4.400', '0.981', '0.315', '0.997', '0.978', '0.978']\n",
      "Fwd kcat: ['1096.633', '21.505', '229.510', '23.997']\n",
      "Rev kcat: ['1.000', '336.987', '41.771', '15.393']\n",
      "Concentrations: ['657.750', '3.247', '0.999', '0.999', '22643.831', '1.000', '0.155', '1.000', '1.000']\n"
     ]
    }
   ],
   "source": [
    "print('Substrate Km:', [f'{val:.3f}' for val in np.exp(Km_s.value)])\n",
    "print('Product Km:', [f'{val:.3f}' for val in np.exp(Km_p.value)])\n",
    "print('Fwd kcat:', [f'{val:.3f}' for val in np.exp(cfwd.value)])\n",
    "print('Rev kcat:', [f'{val:.3f}' for val in np.exp(crev.value)])\n",
    "print('Concentrations:', [f'{val:.3f}' for val in np.exp(c.value)])"
   ]
  },
  {
   "cell_type": "code",
   "execution_count": 58,
   "id": "3a0ad516-50a0-43c1-a2ef-ab83a00f1497",
   "metadata": {},
   "outputs": [
    {
     "data": {
      "text/plain": [
       "1096.6331584284585"
      ]
     },
     "execution_count": 58,
     "metadata": {},
     "output_type": "execute_result"
    }
   ],
   "source": [
    "np.exp(7)"
   ]
  },
  {
   "cell_type": "code",
   "execution_count": 59,
   "id": "5b5e9bef-4ea5-445f-a8a6-844d912ad22e",
   "metadata": {},
   "outputs": [
    {
     "data": {
      "text/plain": [
       "3269017.3724721107"
      ]
     },
     "execution_count": 59,
     "metadata": {},
     "output_type": "execute_result"
    }
   ],
   "source": [
    "np.exp(15)"
   ]
  },
  {
   "cell_type": "code",
   "execution_count": null,
   "id": "2bc4de6e-42e5-488a-8567-7f4bd4134f7b",
   "metadata": {},
   "outputs": [],
   "source": []
  },
  {
   "cell_type": "markdown",
   "id": "0a153d0e-fc34-42fe-a868-6d6ba6b2a496",
   "metadata": {},
   "source": [
    "# Testing toy problem with thermodynamic and kinetic data"
   ]
  },
  {
   "cell_type": "code",
   "execution_count": 60,
   "id": "c582dc83-7642-4490-a598-347999713375",
   "metadata": {},
   "outputs": [
    {
     "data": {
      "text/html": [
       "<div>\n",
       "<style scoped>\n",
       "    .dataframe tbody tr th:only-of-type {\n",
       "        vertical-align: middle;\n",
       "    }\n",
       "\n",
       "    .dataframe tbody tr th {\n",
       "        vertical-align: top;\n",
       "    }\n",
       "\n",
       "    .dataframe thead th {\n",
       "        text-align: right;\n",
       "    }\n",
       "</style>\n",
       "<table border=\"1\" class=\"dataframe\">\n",
       "  <thead>\n",
       "    <tr style=\"text-align: right;\">\n",
       "      <th></th>\n",
       "      <th>6PFRUCTPHOS-RXN</th>\n",
       "      <th>F16ALDOLASE-RXN</th>\n",
       "      <th>2TRANSKETO-RXN</th>\n",
       "      <th>TRIOSEPISOMERIZATION-RXN</th>\n",
       "    </tr>\n",
       "  </thead>\n",
       "  <tbody>\n",
       "    <tr>\n",
       "      <th>FRUCTOSE-6P</th>\n",
       "      <td>-1</td>\n",
       "      <td>0</td>\n",
       "      <td>1</td>\n",
       "      <td>0</td>\n",
       "    </tr>\n",
       "    <tr>\n",
       "      <th>ATP</th>\n",
       "      <td>-1</td>\n",
       "      <td>0</td>\n",
       "      <td>0</td>\n",
       "      <td>0</td>\n",
       "    </tr>\n",
       "    <tr>\n",
       "      <th>PROTON</th>\n",
       "      <td>1</td>\n",
       "      <td>0</td>\n",
       "      <td>0</td>\n",
       "      <td>0</td>\n",
       "    </tr>\n",
       "    <tr>\n",
       "      <th>ADP</th>\n",
       "      <td>1</td>\n",
       "      <td>0</td>\n",
       "      <td>0</td>\n",
       "      <td>0</td>\n",
       "    </tr>\n",
       "    <tr>\n",
       "      <th>FRUCTOSE-16-DIPHOSPHATE</th>\n",
       "      <td>1</td>\n",
       "      <td>-1</td>\n",
       "      <td>0</td>\n",
       "      <td>0</td>\n",
       "    </tr>\n",
       "    <tr>\n",
       "      <th>DIHYDROXY-ACETONE-PHOSPHATE</th>\n",
       "      <td>0</td>\n",
       "      <td>1</td>\n",
       "      <td>0</td>\n",
       "      <td>1</td>\n",
       "    </tr>\n",
       "    <tr>\n",
       "      <th>GAP</th>\n",
       "      <td>0</td>\n",
       "      <td>1</td>\n",
       "      <td>1</td>\n",
       "      <td>-1</td>\n",
       "    </tr>\n",
       "    <tr>\n",
       "      <th>ERYTHROSE-4P</th>\n",
       "      <td>0</td>\n",
       "      <td>0</td>\n",
       "      <td>-1</td>\n",
       "      <td>0</td>\n",
       "    </tr>\n",
       "    <tr>\n",
       "      <th>XYLULOSE-5-PHOSPHATE</th>\n",
       "      <td>0</td>\n",
       "      <td>0</td>\n",
       "      <td>-1</td>\n",
       "      <td>0</td>\n",
       "    </tr>\n",
       "  </tbody>\n",
       "</table>\n",
       "</div>"
      ],
      "text/plain": [
       "                             6PFRUCTPHOS-RXN  F16ALDOLASE-RXN  2TRANSKETO-RXN  \\\n",
       "FRUCTOSE-6P                               -1                0               1   \n",
       "ATP                                       -1                0               0   \n",
       "PROTON                                     1                0               0   \n",
       "ADP                                        1                0               0   \n",
       "FRUCTOSE-16-DIPHOSPHATE                    1               -1               0   \n",
       "DIHYDROXY-ACETONE-PHOSPHATE                0                1               0   \n",
       "GAP                                        0                1               1   \n",
       "ERYTHROSE-4P                               0                0              -1   \n",
       "XYLULOSE-5-PHOSPHATE                       0                0              -1   \n",
       "\n",
       "                             TRIOSEPISOMERIZATION-RXN  \n",
       "FRUCTOSE-6P                                         0  \n",
       "ATP                                                 0  \n",
       "PROTON                                              0  \n",
       "ADP                                                 0  \n",
       "FRUCTOSE-16-DIPHOSPHATE                             0  \n",
       "DIHYDROXY-ACETONE-PHOSPHATE                         1  \n",
       "GAP                                                -1  \n",
       "ERYTHROSE-4P                                        0  \n",
       "XYLULOSE-5-PHOSPHATE                                0  "
      ]
     },
     "execution_count": 60,
     "metadata": {},
     "output_type": "execute_result"
    }
   ],
   "source": [
    "Sd = pd.DataFrame(stoich_dict, dtype=np.int8).fillna(0).astype(np.int8)\n",
    "\n",
    "n_met = len(Sd.index)\n",
    "n_rxn = len(Sd.columns)\n",
    "\n",
    "Sd"
   ]
  },
  {
   "cell_type": "markdown",
   "id": "813b7804-8c97-4b91-a7d7-68cc5412b572",
   "metadata": {},
   "source": [
    "# Import sim output"
   ]
  },
  {
   "cell_type": "code",
   "execution_count": 61,
   "id": "dcda9aff-cea9-4bb5-a28c-e63f8ee40911",
   "metadata": {},
   "outputs": [],
   "source": [
    "time = '10'\n",
    "date = '2023-02-13'\n",
    "experiment = 'balance'\n",
    "entry = f'{experiment}_{time}_{date}'\n",
    "folder = f'out/fbagd/{entry}/'"
   ]
  },
  {
   "cell_type": "code",
   "execution_count": 62,
   "id": "b78d4236-b4ef-472b-bfd4-049c2fdd0495",
   "metadata": {},
   "outputs": [
    {
     "ename": "FileNotFoundError",
     "evalue": "[Errno 2] No such file or directory: 'out/fbagd/balance_10_2023-02-13/output.npy'",
     "output_type": "error",
     "traceback": [
      "\u001b[0;31m---------------------------------------------------------------------------\u001b[0m",
      "\u001b[0;31mFileNotFoundError\u001b[0m                         Traceback (most recent call last)",
      "\u001b[0;32m/var/folders/dx/0239zgvj0tgf46b5h8l7v_fc0000gn/T/ipykernel_67395/3396431313.py\u001b[0m in \u001b[0;36m<module>\u001b[0;34m\u001b[0m\n\u001b[0;32m----> 1\u001b[0;31m \u001b[0moutput\u001b[0m \u001b[0;34m=\u001b[0m \u001b[0mnp\u001b[0m\u001b[0;34m.\u001b[0m\u001b[0mload\u001b[0m\u001b[0;34m(\u001b[0m\u001b[0mfolder\u001b[0m \u001b[0;34m+\u001b[0m \u001b[0;34m'output.npy'\u001b[0m\u001b[0;34m,\u001b[0m\u001b[0mallow_pickle\u001b[0m\u001b[0;34m=\u001b[0m\u001b[0;34m'TRUE'\u001b[0m\u001b[0;34m)\u001b[0m\u001b[0;34m.\u001b[0m\u001b[0mitem\u001b[0m\u001b[0;34m(\u001b[0m\u001b[0;34m)\u001b[0m\u001b[0;34m\u001b[0m\u001b[0;34m\u001b[0m\u001b[0m\n\u001b[0m\u001b[1;32m      2\u001b[0m \u001b[0;31m# output = np.load(r\"out/geneRxnVerifData/output_glc.npy\", allow_pickle=True, encoding='ASCII').tolist()\u001b[0m\u001b[0;34m\u001b[0m\u001b[0;34m\u001b[0m\u001b[0m\n\u001b[1;32m      3\u001b[0m \u001b[0moutput\u001b[0m \u001b[0;34m=\u001b[0m \u001b[0moutput\u001b[0m\u001b[0;34m[\u001b[0m\u001b[0;34m'agents'\u001b[0m\u001b[0;34m]\u001b[0m\u001b[0;34m[\u001b[0m\u001b[0;34m'0'\u001b[0m\u001b[0;34m]\u001b[0m\u001b[0;34m\u001b[0m\u001b[0;34m\u001b[0m\u001b[0m\n\u001b[1;32m      4\u001b[0m \u001b[0mfba\u001b[0m \u001b[0;34m=\u001b[0m \u001b[0moutput\u001b[0m\u001b[0;34m[\u001b[0m\u001b[0;34m'listeners'\u001b[0m\u001b[0;34m]\u001b[0m\u001b[0;34m[\u001b[0m\u001b[0;34m'fba_results'\u001b[0m\u001b[0;34m]\u001b[0m\u001b[0;34m\u001b[0m\u001b[0;34m\u001b[0m\u001b[0m\n\u001b[1;32m      5\u001b[0m \u001b[0mmass\u001b[0m \u001b[0;34m=\u001b[0m \u001b[0moutput\u001b[0m\u001b[0;34m[\u001b[0m\u001b[0;34m'listeners'\u001b[0m\u001b[0;34m]\u001b[0m\u001b[0;34m[\u001b[0m\u001b[0;34m'mass'\u001b[0m\u001b[0;34m]\u001b[0m\u001b[0;34m\u001b[0m\u001b[0;34m\u001b[0m\u001b[0m\n",
      "\u001b[0;32m~/.pyenv/versions/3.9.9/envs/viv/lib/python3.9/site-packages/numpy/lib/npyio.py\u001b[0m in \u001b[0;36mload\u001b[0;34m(file, mmap_mode, allow_pickle, fix_imports, encoding)\u001b[0m\n\u001b[1;32m    405\u001b[0m             \u001b[0mown_fid\u001b[0m \u001b[0;34m=\u001b[0m \u001b[0;32mFalse\u001b[0m\u001b[0;34m\u001b[0m\u001b[0;34m\u001b[0m\u001b[0m\n\u001b[1;32m    406\u001b[0m         \u001b[0;32melse\u001b[0m\u001b[0;34m:\u001b[0m\u001b[0;34m\u001b[0m\u001b[0;34m\u001b[0m\u001b[0m\n\u001b[0;32m--> 407\u001b[0;31m             \u001b[0mfid\u001b[0m \u001b[0;34m=\u001b[0m \u001b[0mstack\u001b[0m\u001b[0;34m.\u001b[0m\u001b[0menter_context\u001b[0m\u001b[0;34m(\u001b[0m\u001b[0mopen\u001b[0m\u001b[0;34m(\u001b[0m\u001b[0mos_fspath\u001b[0m\u001b[0;34m(\u001b[0m\u001b[0mfile\u001b[0m\u001b[0;34m)\u001b[0m\u001b[0;34m,\u001b[0m \u001b[0;34m\"rb\"\u001b[0m\u001b[0;34m)\u001b[0m\u001b[0;34m)\u001b[0m\u001b[0;34m\u001b[0m\u001b[0;34m\u001b[0m\u001b[0m\n\u001b[0m\u001b[1;32m    408\u001b[0m             \u001b[0mown_fid\u001b[0m \u001b[0;34m=\u001b[0m \u001b[0;32mTrue\u001b[0m\u001b[0;34m\u001b[0m\u001b[0;34m\u001b[0m\u001b[0m\n\u001b[1;32m    409\u001b[0m \u001b[0;34m\u001b[0m\u001b[0m\n",
      "\u001b[0;31mFileNotFoundError\u001b[0m: [Errno 2] No such file or directory: 'out/fbagd/balance_10_2023-02-13/output.npy'"
     ]
    }
   ],
   "source": [
    "output = np.load(folder + 'output.npy',allow_pickle='TRUE').item()\n",
    "# output = np.load(r\"out/geneRxnVerifData/output_glc.npy\", allow_pickle=True, encoding='ASCII').tolist()\n",
    "output = output['agents']['0']\n",
    "fba = output['listeners']['fba_results']\n",
    "mass = output['listeners']['mass']\n",
    "bulk = pd.DataFrame(output['bulk'])"
   ]
  },
  {
   "cell_type": "code",
   "execution_count": null,
   "id": "e3d47c72-2f67-4e94-bff8-a69202625d93",
   "metadata": {},
   "outputs": [],
   "source": [
    "f = open(folder + 'agent_processes.pkl', 'rb')\n",
    "agent_processes = dill.load(f)\n",
    "f.close()\n",
    "\n",
    "f = open(folder + 'agent_steps.pkl', 'rb')\n",
    "agent_steps = dill.load(f)\n",
    "f.close()"
   ]
  },
  {
   "cell_type": "code",
   "execution_count": null,
   "id": "d2b7021f-e5c6-4520-9b3b-b1f284201930",
   "metadata": {},
   "outputs": [],
   "source": [
    "getattributes(agent_steps['ecoli-metabolism'])"
   ]
  },
  {
   "cell_type": "code",
   "execution_count": null,
   "id": "c1187978-ab16-4e08-933a-b19bac9015f3",
   "metadata": {},
   "outputs": [],
   "source": [
    "s_matrix = agent_steps['ecoli-metabolism'].model.network.s_matrix\n",
    "stoichiometry = agent_steps['ecoli-metabolism'].stoichiometry"
   ]
  },
  {
   "cell_type": "code",
   "execution_count": null,
   "id": "9bd2dfa2-4416-4448-aede-42d4c6ced53d",
   "metadata": {},
   "outputs": [],
   "source": [
    "getmembers(agent_steps['ecoli-metabolism'])[7][1].keys()"
   ]
  },
  {
   "cell_type": "code",
   "execution_count": null,
   "id": "e0492017-4421-4702-8408-1c5deec944a0",
   "metadata": {},
   "outputs": [],
   "source": [
    "agent_processes"
   ]
  },
  {
   "cell_type": "markdown",
   "id": "2a883f8b-7c97-4a23-9688-f1f4d6bbf668",
   "metadata": {},
   "source": [
    "# Checking fluxes of new genes"
   ]
  },
  {
   "cell_type": "code",
   "execution_count": null,
   "id": "aa583f14-9c95-41b8-bc7d-230dfb0858cf",
   "metadata": {},
   "outputs": [],
   "source": [
    "cfwd = np.random.uniform(1.9, 4, 1000)\n",
    "crev = np.random.uniform(-2, 1.8, 1000)\n",
    "cdiff = cfwd - crev"
   ]
  },
  {
   "cell_type": "code",
   "execution_count": null,
   "id": "9750f15e-3b9c-428d-9475-943b293f879a",
   "metadata": {},
   "outputs": [],
   "source": [
    "np.exp(cfwd) - np.exp(crev) >= np.exp(cdiff)"
   ]
  },
  {
   "cell_type": "code",
   "execution_count": null,
   "id": "f342388b-2ac5-46fa-be8b-818ae9d6de7f",
   "metadata": {},
   "outputs": [],
   "source": [
    "lKeq = 2\n",
    "lKa = 3\n",
    "lKb = -1 \n",
    "lKfwd = 3\n",
    "\n",
    "lKrev = lKfwd - lKa + lKb - lKeq"
   ]
  },
  {
   "cell_type": "code",
   "execution_count": null,
   "id": "7144abf8-bff7-4933-93a6-d82a9e4606c1",
   "metadata": {},
   "outputs": [],
   "source": [
    "lA = 4\n",
    "lB = 1\n"
   ]
  },
  {
   "cell_type": "code",
   "execution_count": null,
   "id": "36a3a816-bbe0-4bbb-ae65-c46f1ac3caf6",
   "metadata": {},
   "outputs": [],
   "source": [
    "vEe = (np.exp(lKfwd + lA - lKa) - np.exp(lKrev + lB - lKb)) / (1 + np.exp(lA - lKa) + np.exp(lB - lKb))"
   ]
  },
  {
   "cell_type": "code",
   "execution_count": null,
   "id": "40bad813-7bbf-44dc-a0ce-66c201afff39",
   "metadata": {},
   "outputs": [],
   "source": [
    "m = np.log(vEe)\n",
    "print(m)"
   ]
  },
  {
   "cell_type": "code",
   "execution_count": null,
   "id": "e7beea8d-2a5d-4665-b032-129b6a8d476b",
   "metadata": {},
   "outputs": [],
   "source": [
    "Ka = cp.Variable()\n",
    "Kb = cp.Variable()\n",
    "\n",
    "a = cp.Variable()\n",
    "b = cp.Variable()\n",
    "cfwd = cp.Variable()\n",
    "crev = cp.Variable()\n"
   ]
  },
  {
   "cell_type": "code",
   "execution_count": null,
   "id": "a3358879-66e4-4c3a-8c27-54c9b8fd07aa",
   "metadata": {},
   "outputs": [],
   "source": [
    "Num1 = np.hstack([0, a-Ka, b-Kb]) + np.hstack([m, m, m]) \n",
    "Num2 = np.hstack([0, a-Ka, b-Kb]) + np.hstack([m, m, m]) "
   ]
  },
  {
   "cell_type": "code",
   "execution_count": null,
   "id": "32076e36-5d5c-46e8-9faf-94bb2c1ee9af",
   "metadata": {},
   "outputs": [],
   "source": [
    "np.exp(lKrev + lB - lKb)"
   ]
  },
  {
   "cell_type": "code",
   "execution_count": null,
   "id": "e8ee0691-5138-4b89-a96a-efb4f5c385a5",
   "metadata": {},
   "outputs": [],
   "source": []
  }
 ],
 "metadata": {
  "kernelspec": {
   "display_name": "Python 3 (ipykernel)",
   "language": "python",
   "name": "python3"
  },
  "language_info": {
   "codemirror_mode": {
    "name": "ipython",
    "version": 3
   },
   "file_extension": ".py",
   "mimetype": "text/x-python",
   "name": "python",
   "nbconvert_exporter": "python",
   "pygments_lexer": "ipython3",
   "version": "3.9.9"
  }
 },
 "nbformat": 4,
 "nbformat_minor": 5
}
