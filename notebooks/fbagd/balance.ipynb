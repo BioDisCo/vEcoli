{
 "cells": [
  {
   "cell_type": "code",
   "execution_count": 1,
   "id": "89c876b4-8497-499f-a413-26ad32cec39e",
   "metadata": {},
   "outputs": [],
   "source": [
    "import numpy as np\n",
    "from scipy import linalg, special\n",
    "import seaborn as sns\n",
    "import pandas as pd\n",
    "import os\n",
    "from inspect import getmembers\n",
    "import matplotlib.pyplot as plt\n",
    "import networkx as nx\n",
    "from sklearn.preprocessing import MinMaxScaler, StandardScaler\n",
    "import dill\n",
    "from equilibrator_api import ComponentContribution, Q_, Reaction\n",
    "import requests\n",
    "import xmltodict\n",
    "import pint\n",
    "import cvxpy as cp\n",
    "import itertools\n",
    "import copy\n",
    "\n",
    "sns.set(style='darkgrid', palette='viridis', context='talk')\n",
    "\n",
    "os.chdir(os.path.expanduser('~/vivarium-ecoli'))"
   ]
  },
  {
   "cell_type": "markdown",
   "id": "82a34091-b89a-4a8b-b49e-ce86aeab25c6",
   "metadata": {},
   "source": [
    "A + B -E1> C -E2> D\n",
    "\n",
    "B -E3> F\n",
    "\n",
    "A -E4> G"
   ]
  },
  {
   "cell_type": "markdown",
   "id": "2cc077b2-8c38-4065-b306-2e91611fd975",
   "metadata": {},
   "source": [
    "# Testing eQuilibrator"
   ]
  },
  {
   "cell_type": "code",
   "execution_count": 2,
   "id": "77f87609-2312-4734-8970-05177c5c3434",
   "metadata": {},
   "outputs": [],
   "source": [
    "cc = ComponentContribution()\n",
    "\n",
    "# optional: changing the aqueous environment parameters\n",
    "cc.p_h = Q_(7.4)\n",
    "cc.p_mg = Q_(3.0)\n",
    "cc.ionic_strength = Q_(\"0.25M\")\n",
    "cc.temperature = Q_(\"298.15K\")\n",
    "\n"
   ]
  },
  {
   "cell_type": "code",
   "execution_count": 3,
   "id": "90008655-107b-487c-b60b-a98b12137dd6",
   "metadata": {},
   "outputs": [],
   "source": [
    "from equilibrator_api import Reaction\n",
    "compound_ids = [\"WATER\", \"ADP\", \"ATP\", \"Pi\"]\n",
    "compound_dict = {cid : cc.get_compound(f\"metacyc.compound:{cid}\") for cid in compound_ids}\n",
    "atpase_reaction = Reaction({\n",
    "    compound_dict[\"ATP\"]: -1,\n",
    "    compound_dict[\"WATER\"]: -1,\n",
    "    compound_dict[\"ADP\"]: 1,\n",
    "    compound_dict[\"Pi\"]: 1,\n",
    "})"
   ]
  },
  {
   "cell_type": "code",
   "execution_count": 4,
   "id": "ac886c79-121d-4d77-9ba0-eb4b25d19039",
   "metadata": {},
   "outputs": [
    {
     "data": {
      "text/html": [
       "(-29.14 &plusmn; 0.30) kilojoule/mole"
      ],
      "text/latex": [
       "$\\left(-29.14 \\pm 0.30\\right)\\ \\frac{\\mathrm{kilojoule}}{\\mathrm{mole}}$"
      ],
      "text/plain": [
       "<Measurement(-29.144472212600157, 0.3042778553577678, kilojoule / mole)>"
      ]
     },
     "execution_count": 4,
     "metadata": {},
     "output_type": "execute_result"
    }
   ],
   "source": [
    "standard_dg_prime = cc.standard_dg_prime(atpase_reaction)\n",
    "standard_dg_prime"
   ]
  },
  {
   "cell_type": "code",
   "execution_count": 5,
   "id": "c6be2265-c9ec-45cf-8b87-8ca2df1376dd",
   "metadata": {},
   "outputs": [
    {
     "name": "stdout",
     "output_type": "stream",
     "text": [
      "(-44.8 +/- 0.6) kilojoule / mole\n"
     ]
    }
   ],
   "source": [
    "cytoplasmic_p_h = Q_(7.5)\n",
    "cytoplasmic_ionic_strength = Q_(\"250 mM\")\n",
    "periplasmic_p_h = Q_(7.0)\n",
    "periplasmic_ionic_strength = Q_(\"200 mM\")\n",
    "e_potential_difference = Q_(\"0.15 V\")\n",
    "cytoplasmic_reaction = \"bigg.metabolite:pep = bigg.metabolite:g6p + bigg.metabolite:pyr\"\n",
    "periplasmic_reaction = \"bigg.metabolite:glc__D = \"\n",
    "\n",
    "cc = ComponentContribution()\n",
    "cc.p_h = cytoplasmic_p_h\n",
    "cc.ionic_strength = cytoplasmic_ionic_strength\n",
    "standard_dg_prime = cc.multicompartmental_standard_dg_prime(\n",
    "    cc.parse_reaction_formula(cytoplasmic_reaction),\n",
    "    cc.parse_reaction_formula(periplasmic_reaction),\n",
    "    e_potential_difference=e_potential_difference,\n",
    "    p_h_outer=periplasmic_p_h,\n",
    "    ionic_strength_outer=periplasmic_ionic_strength,\n",
    ")\n",
    "\n",
    "print(standard_dg_prime)\n"
   ]
  },
  {
   "cell_type": "code",
   "execution_count": 6,
   "id": "3c97b6b4-77e2-4ddb-926c-b39f4780811b",
   "metadata": {},
   "outputs": [],
   "source": [
    "cc.get_compound_by_inchi(\"WQZGKKKJIJFFOK-GASJEMHNSA-N\")"
   ]
  },
  {
   "cell_type": "markdown",
   "id": "fb140010-52ab-4edd-844e-a3645b3d5a41",
   "metadata": {},
   "source": [
    "# Toy example with fake data"
   ]
  },
  {
   "cell_type": "code",
   "execution_count": 7,
   "id": "6cd11cad-2e4b-4cb7-bec6-6d3e4f7b21bd",
   "metadata": {},
   "outputs": [],
   "source": [
    "s = requests.Session() # create session\n",
    "# Post login credentials to session:\n",
    "s.post('https://websvc.biocyc.org/credentials/login/', data={'email':'cellulararchitect@protonmail.com', 'password':'Cellman0451'})\n",
    "# Issue web service request:\n",
    "r = s.get('https://websvc.biocyc.org/getxml?id=ECOLI:6PFRUCTPHOS-RXN&detail=low&fmt=json')"
   ]
  },
  {
   "cell_type": "code",
   "execution_count": 8,
   "id": "80b980bf-1e2a-40bc-ba55-9199e49bd923",
   "metadata": {},
   "outputs": [
    {
     "data": {
      "text/plain": [
       "[{'Compound': {'@resource': 'getxml?ECOLI:PROTON',\n",
       "   '@orgid': 'ECOLI',\n",
       "   '@frameid': 'PROTON'}},\n",
       " {'Compound': {'@resource': 'getxml?ECOLI:ADP',\n",
       "   '@orgid': 'ECOLI',\n",
       "   '@frameid': 'ADP'}},\n",
       " {'Compound': {'@resource': 'getxml?ECOLI:FRUCTOSE-16-DIPHOSPHATE',\n",
       "   '@orgid': 'ECOLI',\n",
       "   '@frameid': 'FRUCTOSE-16-DIPHOSPHATE'}}]"
      ]
     },
     "execution_count": 8,
     "metadata": {},
     "output_type": "execute_result"
    }
   ],
   "source": [
    "rxn = xmltodict.parse(r.content)\n",
    "rxn['ptools-xml']['Reaction']['right']"
   ]
  },
  {
   "cell_type": "code",
   "execution_count": 9,
   "id": "a2d44237-329f-44b8-a7aa-d02bf1b7d5d4",
   "metadata": {},
   "outputs": [
    {
     "data": {
      "text/plain": [
       "'FRUCTOSE-6P'"
      ]
     },
     "execution_count": 9,
     "metadata": {},
     "output_type": "execute_result"
    }
   ],
   "source": [
    "rxn['ptools-xml']['Reaction']['left'][0]['Compound']['@frameid']"
   ]
  },
  {
   "cell_type": "code",
   "execution_count": 10,
   "id": "339ecaa5-287e-4481-b15a-90f3dcfecf77",
   "metadata": {},
   "outputs": [
    {
     "data": {
      "text/plain": [
       "{'Compound': {'@resource': 'getxml?ECOLI:FRUCTOSE-16-DIPHOSPHATE',\n",
       "  '@orgid': 'ECOLI',\n",
       "  '@frameid': 'FRUCTOSE-16-DIPHOSPHATE'}}"
      ]
     },
     "execution_count": 10,
     "metadata": {},
     "output_type": "execute_result"
    }
   ],
   "source": [
    "r = s.get(f'https://websvc.biocyc.org/getxml?id=ECOLI:F16ALDOLASE-RXN&detail=low&fmt=json')\n",
    "rxn = xmltodict.parse(r.content)\n",
    "rxn['ptools-xml']['Reaction']['left']"
   ]
  },
  {
   "cell_type": "code",
   "execution_count": 11,
   "id": "837d6516-fa3c-4b71-ba39-4a98bb9689d3",
   "metadata": {},
   "outputs": [
    {
     "data": {
      "text/plain": [
       "{'6PFRUCTPHOS-RXN': <equilibrator_api.phased_reaction.PhasedReaction at 0x13a15f160>,\n",
       " 'F16ALDOLASE-RXN': <equilibrator_api.phased_reaction.PhasedReaction at 0x15faed730>,\n",
       " '2TRANSKETO-RXN': <equilibrator_api.phased_reaction.PhasedReaction at 0x13a160bb0>,\n",
       " 'TRIOSEPISOMERIZATION-RXN': <equilibrator_api.phased_reaction.PhasedReaction at 0x1744cdbe0>}"
      ]
     },
     "execution_count": 11,
     "metadata": {},
     "output_type": "execute_result"
    }
   ],
   "source": [
    "rxns_names = ['6PFRUCTPHOS-RXN', 'F16ALDOLASE-RXN', '2TRANSKETO-RXN', 'TRIOSEPISOMERIZATION-RXN']\n",
    "\n",
    "rxns_dict = {}\n",
    "stoich_dict = {}\n",
    "\n",
    "for name in rxns_names:\n",
    "    r = s.get(f'https://websvc.biocyc.org/getxml?id=ECOLI:{name}&detail=low&fmt=json')\n",
    "    rxn = xmltodict.parse(r.content)\n",
    "\n",
    "    rxn_dict = {}\n",
    "    stoich_loop_dict = {}\n",
    "    left = rxn['ptools-xml']['Reaction']['left']\n",
    "    right = rxn['ptools-xml']['Reaction']['right']\n",
    "    \n",
    "    if type(left) is dict:\n",
    "        left = [left]\n",
    "    \n",
    "    if type(right) is dict:\n",
    "        right = [right]\n",
    "    \n",
    "    for mol in left:\n",
    "        if type(mol) is dict:\n",
    "            cid = mol['Compound']['@frameid']\n",
    "            mol_cc = cc.get_compound(f\"metacyc.compound:{cid}\")\n",
    "            rxn_dict[mol_cc] = -1\n",
    "            stoich_loop_dict[cid] = -1\n",
    "\n",
    "    for mol in right:\n",
    "        if type(mol) is dict:\n",
    "            cid = mol['Compound']['@frameid']\n",
    "            mol_cc = cc.get_compound(f\"metacyc.compound:{cid}\")\n",
    "            rxn_dict[mol_cc] =  1\n",
    "            stoich_loop_dict[cid] = 1\n",
    "    \n",
    "    rxns_dict[name] = Reaction(rxn_dict)\n",
    "    stoich_dict[name] = stoich_loop_dict\n",
    "    \n",
    "rxns_dict"
   ]
  },
  {
   "cell_type": "code",
   "execution_count": 12,
   "id": "aeffc1b2-e63e-49b2-82e7-cbc629dbbc7d",
   "metadata": {},
   "outputs": [
    {
     "data": {
      "text/plain": [
       "[<equilibrator_api.phased_reaction.PhasedReaction at 0x13a15f160>,\n",
       " <equilibrator_api.phased_reaction.PhasedReaction at 0x15faed730>,\n",
       " <equilibrator_api.phased_reaction.PhasedReaction at 0x13a160bb0>,\n",
       " <equilibrator_api.phased_reaction.PhasedReaction at 0x1744cdbe0>]"
      ]
     },
     "execution_count": 12,
     "metadata": {},
     "output_type": "execute_result"
    }
   ],
   "source": [
    "list(rxns_dict.values())"
   ]
  },
  {
   "cell_type": "code",
   "execution_count": 13,
   "id": "5e072326-7492-4a26-adba-02158fcedf0e",
   "metadata": {},
   "outputs": [],
   "source": [
    "(standard_dg_prime, dg_uncertainty) = cc.standard_dg_prime_multi(list(rxns_dict.values()), uncertainty_representation=\"cov\")"
   ]
  },
  {
   "cell_type": "code",
   "execution_count": 14,
   "id": "748784e9-37fa-4e06-8fa9-88b497816064",
   "metadata": {},
   "outputs": [
    {
     "data": {
      "text/html": [
       "<table><tbody><tr><th>Magnitude</th><td style='text-align:left;'><pre>[-21.05010908198642 22.047924530096907 -5.946115510564027<br> -5.617742386692498]</pre></td></tr><tr><th>Units</th><td style='text-align:left;'>kilojoule/mole</td></tr></tbody></table>"
      ],
      "text/latex": [
       "$\\begin{pmatrix}-21.05010908198642 & 22.047924530096907 & -5.946115510564027 & -5.617742386692498\\end{pmatrix}\\ \\frac{\\mathrm{kilojoule}}{\\mathrm{mole}}$"
      ],
      "text/plain": [
       "array([-21.05010908,  22.04792453,  -5.94611551,  -5.61774239]) <Unit('kilojoule / mole')>"
      ]
     },
     "execution_count": 14,
     "metadata": {},
     "output_type": "execute_result"
    }
   ],
   "source": [
    "standard_dg_prime"
   ]
  },
  {
   "cell_type": "code",
   "execution_count": 15,
   "id": "11142f27-1260-4d21-97bc-42c00f4920f6",
   "metadata": {},
   "outputs": [
    {
     "data": {
      "text/html": [
       "<table><tbody><tr><th>Magnitude</th><td style='text-align:left;'><pre>[[1.5398212990074922 -2.2167471180569773 0.6541085596545129<br>  -0.004664260811860303]<br> [-2.2167471180569773 5.286946034707553 -2.4322877177623594<br>  -0.1291182736017488]<br> [0.6541085596545129 -2.4322877177623594 5.547270812427002<br>  -0.08893998540652082]<br> [-0.004664260811860303 -0.1291182736017488 -0.08893998540652082<br>  0.3010346102557717]]</pre></td></tr><tr><th>Units</th><td style='text-align:left;'>kilojoule<sup>2</sup>/mole<sup>2</sup></td></tr></tbody></table>"
      ],
      "text/latex": [
       "$\\begin{pmatrix}1.5398212990074922 & -2.2167471180569773 & 0.6541085596545129 & -0.004664260811860303\\\\ \n",
       "-2.2167471180569773 & 5.286946034707553 & -2.4322877177623594 & -0.1291182736017488\\\\ \n",
       "0.6541085596545129 & -2.4322877177623594 & 5.547270812427002 & -0.08893998540652082\\\\ \n",
       "-0.004664260811860303 & -0.1291182736017488 & -0.08893998540652082 & 0.3010346102557717\\end{pmatrix}\\ \\frac{\\mathrm{kilojoule}^{2}}{\\mathrm{mole}^{2}}$"
      ],
      "text/plain": [
       "array([[ 1.53982130e+00, -2.21674712e+00,  6.54108560e-01,\n",
       "        -4.66426081e-03],\n",
       "       [-2.21674712e+00,  5.28694603e+00, -2.43228772e+00,\n",
       "        -1.29118274e-01],\n",
       "       [ 6.54108560e-01, -2.43228772e+00,  5.54727081e+00,\n",
       "        -8.89399854e-02],\n",
       "       [-4.66426081e-03, -1.29118274e-01, -8.89399854e-02,\n",
       "         3.01034610e-01]]) <Unit('kilojoule ** 2 / mole ** 2')>"
      ]
     },
     "execution_count": 15,
     "metadata": {},
     "output_type": "execute_result"
    }
   ],
   "source": [
    "dg_uncertainty"
   ]
  },
  {
   "cell_type": "code",
   "execution_count": 16,
   "id": "320ca8b3-34c3-4bfe-b43b-e71e5d5685bc",
   "metadata": {},
   "outputs": [],
   "source": [
    "R = 0.008314 # kJ/mol*K\n",
    "T = 298.15 # K"
   ]
  },
  {
   "cell_type": "code",
   "execution_count": 17,
   "id": "6c217eee-8beb-4c13-82d5-200b12d4add9",
   "metadata": {},
   "outputs": [
    {
     "data": {
      "text/plain": [
       "array([4.87556287e+03, 1.37137368e-04, 1.10096201e+01, 9.64363243e+00])"
      ]
     },
     "execution_count": 17,
     "metadata": {},
     "output_type": "execute_result"
    }
   ],
   "source": [
    "dG = standard_dg_prime._magnitude\n",
    "\n",
    "keq = np.exp(-dG/(R*T))\n",
    "keq"
   ]
  },
  {
   "cell_type": "code",
   "execution_count": 18,
   "id": "85b02a39-ec4e-4b27-b6ac-7eeae4e0cd7f",
   "metadata": {},
   "outputs": [
    {
     "data": {
      "text/plain": [
       "{'_magnitude': array([-21.05010908,  22.04792453,  -5.94611551,  -5.61774239]),\n",
       " '_units': <UnitsContainer({'kilojoule': 1, 'mole': -1})>,\n",
       " '_Quantity__used': False,\n",
       " '_Quantity__handling': None,\n",
       " '_dimensionality': <UnitsContainer({'[length]': 2, '[mass]': 1, '[substance]': -1, '[time]': -2})>}"
      ]
     },
     "execution_count": 18,
     "metadata": {},
     "output_type": "execute_result"
    }
   ],
   "source": [
    "vars(standard_dg_prime)"
   ]
  },
  {
   "cell_type": "markdown",
   "id": "3a19ac18-e8ce-4653-9976-3946c1227c85",
   "metadata": {},
   "source": [
    "# Making example data for toy problem that fits physical constraints"
   ]
  },
  {
   "cell_type": "markdown",
   "id": "35cf3980-20e4-4ec8-bb2f-e6afe9933e92",
   "metadata": {},
   "source": [
    "Stochiometric matrix:"
   ]
  },
  {
   "cell_type": "code",
   "execution_count": 291,
   "id": "ad0c9880-fd76-40d6-9d15-3bb61f96e3e9",
   "metadata": {},
   "outputs": [
    {
     "data": {
      "text/html": [
       "<div>\n",
       "<style scoped>\n",
       "    .dataframe tbody tr th:only-of-type {\n",
       "        vertical-align: middle;\n",
       "    }\n",
       "\n",
       "    .dataframe tbody tr th {\n",
       "        vertical-align: top;\n",
       "    }\n",
       "\n",
       "    .dataframe thead th {\n",
       "        text-align: right;\n",
       "    }\n",
       "</style>\n",
       "<table border=\"1\" class=\"dataframe\">\n",
       "  <thead>\n",
       "    <tr style=\"text-align: right;\">\n",
       "      <th></th>\n",
       "      <th>6PFRUCTPHOS-RXN</th>\n",
       "      <th>F16ALDOLASE-RXN</th>\n",
       "      <th>2TRANSKETO-RXN</th>\n",
       "      <th>TRIOSEPISOMERIZATION-RXN</th>\n",
       "    </tr>\n",
       "  </thead>\n",
       "  <tbody>\n",
       "    <tr>\n",
       "      <th>FRUCTOSE-6P</th>\n",
       "      <td>-1</td>\n",
       "      <td>0</td>\n",
       "      <td>1</td>\n",
       "      <td>0</td>\n",
       "    </tr>\n",
       "    <tr>\n",
       "      <th>ATP</th>\n",
       "      <td>-1</td>\n",
       "      <td>0</td>\n",
       "      <td>0</td>\n",
       "      <td>0</td>\n",
       "    </tr>\n",
       "    <tr>\n",
       "      <th>PROTON</th>\n",
       "      <td>1</td>\n",
       "      <td>0</td>\n",
       "      <td>0</td>\n",
       "      <td>0</td>\n",
       "    </tr>\n",
       "    <tr>\n",
       "      <th>ADP</th>\n",
       "      <td>1</td>\n",
       "      <td>0</td>\n",
       "      <td>0</td>\n",
       "      <td>0</td>\n",
       "    </tr>\n",
       "    <tr>\n",
       "      <th>FRUCTOSE-16-DIPHOSPHATE</th>\n",
       "      <td>1</td>\n",
       "      <td>-1</td>\n",
       "      <td>0</td>\n",
       "      <td>0</td>\n",
       "    </tr>\n",
       "    <tr>\n",
       "      <th>DIHYDROXY-ACETONE-PHOSPHATE</th>\n",
       "      <td>0</td>\n",
       "      <td>1</td>\n",
       "      <td>0</td>\n",
       "      <td>1</td>\n",
       "    </tr>\n",
       "    <tr>\n",
       "      <th>GAP</th>\n",
       "      <td>0</td>\n",
       "      <td>1</td>\n",
       "      <td>1</td>\n",
       "      <td>-1</td>\n",
       "    </tr>\n",
       "    <tr>\n",
       "      <th>ERYTHROSE-4P</th>\n",
       "      <td>0</td>\n",
       "      <td>0</td>\n",
       "      <td>-1</td>\n",
       "      <td>0</td>\n",
       "    </tr>\n",
       "    <tr>\n",
       "      <th>XYLULOSE-5-PHOSPHATE</th>\n",
       "      <td>0</td>\n",
       "      <td>0</td>\n",
       "      <td>-1</td>\n",
       "      <td>0</td>\n",
       "    </tr>\n",
       "  </tbody>\n",
       "</table>\n",
       "</div>"
      ],
      "text/plain": [
       "                             6PFRUCTPHOS-RXN  F16ALDOLASE-RXN  2TRANSKETO-RXN  \\\n",
       "FRUCTOSE-6P                               -1                0               1   \n",
       "ATP                                       -1                0               0   \n",
       "PROTON                                     1                0               0   \n",
       "ADP                                        1                0               0   \n",
       "FRUCTOSE-16-DIPHOSPHATE                    1               -1               0   \n",
       "DIHYDROXY-ACETONE-PHOSPHATE                0                1               0   \n",
       "GAP                                        0                1               1   \n",
       "ERYTHROSE-4P                               0                0              -1   \n",
       "XYLULOSE-5-PHOSPHATE                       0                0              -1   \n",
       "\n",
       "                             TRIOSEPISOMERIZATION-RXN  \n",
       "FRUCTOSE-6P                                         0  \n",
       "ATP                                                 0  \n",
       "PROTON                                              0  \n",
       "ADP                                                 0  \n",
       "FRUCTOSE-16-DIPHOSPHATE                             0  \n",
       "DIHYDROXY-ACETONE-PHOSPHATE                         1  \n",
       "GAP                                                -1  \n",
       "ERYTHROSE-4P                                        0  \n",
       "XYLULOSE-5-PHOSPHATE                                0  "
      ]
     },
     "execution_count": 291,
     "metadata": {},
     "output_type": "execute_result"
    }
   ],
   "source": [
    "Sd = pd.DataFrame(stoich_dict, dtype=np.int8).fillna(0).astype(np.int8)\n",
    "# Sd = Sd.iloc[0:7, 0:2]\n",
    "\n",
    "n_met = len(Sd.index)\n",
    "n_rxn = len(Sd.columns)\n",
    "\n",
    "Sd"
   ]
  },
  {
   "cell_type": "code",
   "execution_count": 293,
   "id": "5c82bb78-fff2-4098-9827-6b0d10324746",
   "metadata": {},
   "outputs": [],
   "source": [
    "dG = standard_dg_prime._magnitude\n",
    "\n",
    "keq = np.exp(-dG/(R*T))\n",
    "keq\n",
    "\n",
    "K_eq = np.log(keq)\n",
    "vE = np.array([100, 20, -30, -10])\n",
    "\n",
    "K_eq[vE < 0] = 1/K_eq[vE < 0] \n",
    "\n",
    "lvE = np.log(np.abs(vE))"
   ]
  },
  {
   "cell_type": "code",
   "execution_count": 294,
   "id": "547db931-e727-4c7b-aa7f-a09b80fee71e",
   "metadata": {},
   "outputs": [
    {
     "data": {
      "text/plain": [
       "array([0, 0, 1, 4, 5, 6])"
      ]
     },
     "execution_count": 294,
     "metadata": {},
     "output_type": "execute_result"
    }
   ],
   "source": [
    "# set up variables\n",
    "\n",
    "S = np.array(Sd)\n",
    "S = np.multiply(S, vE/np.abs(vE)).astype(np.int8)\n",
    "S[S == -0] = 0\n",
    "S_s = -np.copy(S)\n",
    "S_p = np.copy(S) #reverse neg sign\n",
    "S_s[S > 0] = 0\n",
    "S_p[S < 0] = 0\n",
    "\n",
    "S_s_nz = np.array(S_s.nonzero())\n",
    "S_p_nz = np.array(S_p.nonzero())\n",
    "\n",
    "# first coordinate, e.g. metabolites w nonzero substrate/product coeff across all reactions. also works as substrate indices. \n",
    "met_s_nz = S_s_nz[0, :]\n",
    "met_p_nz = S_p_nz[0, :]\n",
    "\n",
    "# second coordinate, e.g. reactions indices for those concentrations. works to index substrates as well. \n",
    "rxn_s_nz = S_s_nz[1, :]   \n",
    "rxn_p_nz = S_p_nz[1, :]\n",
    "\n",
    "# one dim is always 2\n",
    "n_Km_s = np.max(met_s_nz.shape) \n",
    "n_Km_p = np.max(met_p_nz.shape)\n",
    "\n",
    "c = cp.Variable(n_met)\n",
    "Km_s = cp.Variable(n_Km_s)\n",
    "Km_p = cp.Variable(n_Km_p)\n",
    "\n",
    "cfwd = cp.Variable(n_rxn)\n",
    "crev = cp.Variable(n_rxn)\n",
    "\n",
    "# define Km positions by nonzero S matrix concentrations\n",
    "y_s = c[met_s_nz] - Km_s\n",
    "y_p = c[met_p_nz] - Km_p\n",
    "\n",
    "# index \n",
    "met_s_nz"
   ]
  },
  {
   "cell_type": "code",
   "execution_count": 295,
   "id": "e35cbcbb-7059-41e5-968a-d8997259e1d0",
   "metadata": {},
   "outputs": [],
   "source": [
    "# number of saturation terms for sub, prod\n",
    "n_alpha = np.sum(np.power(2, S_s.sum(axis=0)) - 1)\n",
    "n_beta = np.sum(np.power(2, S_p.sum(axis=0)) - 1)\n",
    "\n",
    "# saturation matrix setup\n",
    "C_alpha = np.zeros([n_alpha, len(met_s_nz)])\n",
    "C_beta = np.zeros([n_beta, len(met_p_nz)])\n",
    "\n",
    "# to separate different reactions saturation terms. \n",
    "d_alpha = np.zeros(n_alpha, dtype=np.int8)\n",
    "d_beta = np.zeros(n_beta, dtype=np.int8)\n",
    "\n",
    "\n",
    "idx = 0\n",
    "\n",
    "for i in range(n_rxn):\n",
    "    \n",
    "    # pick one reaction at a time (get substrate indicies)\n",
    "    idx_cur_rxn = rxn_s_nz == i\n",
    "    \n",
    "    # generates all binary permutations minus the first one since that would result in -1\n",
    "    sat_perm = np.array(list(itertools.product([0, 1], repeat=sum(idx_cur_rxn))))\n",
    "    sat_perm = sat_perm[1:, :]\n",
    "    \n",
    "    r, _ = sat_perm.shape\n",
    "    \n",
    "    # replace zeros with saturation matrix\n",
    "    C_alpha[idx:(idx+r), idx_cur_rxn] = sat_perm\n",
    "    d_alpha[idx:(idx+r)] = i\n",
    "        \n",
    "    idx += r # add row # \n",
    "\n",
    "idx = 0\n",
    "    \n",
    "for i in range(n_rxn):\n",
    "    idx_cur_rxn = rxn_p_nz == i\n",
    "    \n",
    "    sat_perm = np.array(list(itertools.product([0, 1], repeat=sum(idx_cur_rxn))))\n",
    "    sat_perm = sat_perm[1:, :]\n",
    "    \n",
    "    r, _ = sat_perm.shape\n",
    "    \n",
    "    C_beta[idx:(idx+r), idx_cur_rxn] = sat_perm\n",
    "    d_beta[idx:(idx+r)] = i\n",
    "        \n",
    "    idx += r # add row # "
   ]
  },
  {
   "cell_type": "code",
   "execution_count": 296,
   "id": "9b1839b5-d544-44b6-96dc-3bbf1d217f35",
   "metadata": {},
   "outputs": [
    {
     "data": {
      "text/plain": [
       "[Expression(AFFINE, UNKNOWN, (11,)),\n",
       " Expression(AFFINE, UNKNOWN, (5,)),\n",
       " Expression(AFFINE, UNKNOWN, (7,)),\n",
       " Expression(AFFINE, UNKNOWN, (3,))]"
      ]
     },
     "execution_count": 296,
     "metadata": {},
     "output_type": "execute_result"
    }
   ],
   "source": [
    "n_lse_terms = np.max(np.power(2, S_s.sum(axis=0)) +  np.power(2, S_p.sum(axis=0)) - 2)\n",
    "LSE_expr = []\n",
    "\n",
    "for i in range(n_rxn):\n",
    "    # sum terms are separate in logsumexp. one per saturation term (row in C_alpha, C_beta)\n",
    "    n_term_s = np.sum(d_alpha == i) \n",
    "    n_term_p = np.sum(d_beta == i)\n",
    "    n_term = n_term_s + n_term_p\n",
    "    \n",
    "    LSE_expr.append(cp.hstack( [ (C_alpha @ y_s)[d_alpha == i] - cp.multiply(np.ones(n_term_s), S_s.T[i, met_s_nz] @ y_s) - cfwd[i],  \n",
    "                                 (C_beta @ y_p)[d_beta == i] - cp.multiply(np.ones(n_term_p), S_s.T[i, met_s_nz] @ y_s) - cfwd[i],\n",
    "                                 0 - cp.multiply(np.ones(1), S_s.T[0, met_s_nz] @ y_s)  - cfwd[i],\n",
    "                                 #-1*np.ones(n_lse_terms - n_term + 1) \n",
    "                               ]\n",
    "                             )\n",
    "                   )  # remove +1 here, could also have cfwd outside objec. \n",
    "    \n",
    "#LSE_expr = cp.vstack(LSE_expr)\n",
    "LSE_expr"
   ]
  },
  {
   "cell_type": "code",
   "execution_count": 297,
   "id": "0ea14434-058e-444b-90e8-3d150362571f",
   "metadata": {},
   "outputs": [],
   "source": [
    "l = 0.000#1\n",
    "e = 0.00001\n",
    "f = 0.000#1\n",
    "reg = cp.sum(cp.huber(cfwd - 2*lvE, 1))\n",
    "reg2 = cp.norm1(cp.hstack([cfwd, crev, c, -Km_s, -Km_p])) # regularization\n",
    "reg3 = cp.sum(cp.huber(cp.hstack([y_s, y_p]), 1))\n",
    "#reg3 = cp.norm1(cp.hstack([y_s, y_p])) # take a look at this\n",
    "\n",
    "# e1 = LSE_expr - cfwd\n",
    "\n",
    "# loss = cp.sum(cp.log_sum_exp(cp.vstack(LSE_expr), axis=1)  + )\n",
    "loss = 0\n",
    "for i in range(n_rxn):\n",
    "    loss += cp.norm2(cp.pos(cp.log_sum_exp(LSE_expr[i])  - (-lvE[i])   ))\n",
    "#loss = cp.norm2(cp.pos(cp.log_sum_exp(cp.vstack(LSE_expr), axis=1)  - (-lvE)   )) # use + lvE as it has negative exponent\n",
    "loss += l * reg \n",
    "loss += e * reg2\n",
    "loss += f * reg3\n",
    "# "
   ]
  },
  {
   "cell_type": "code",
   "execution_count": 298,
   "id": "85586d27-113e-4b95-8d70-7dfd2abc644c",
   "metadata": {},
   "outputs": [
    {
     "data": {
      "text/plain": [
       "[Equality(Expression(AFFINE, UNKNOWN, ()), Constant(CONSTANT, NONNEGATIVE, ())),\n",
       " Equality(Expression(AFFINE, UNKNOWN, ()), Constant(CONSTANT, NONPOSITIVE, ())),\n",
       " Equality(Expression(AFFINE, UNKNOWN, ()), Constant(CONSTANT, NONNEGATIVE, ())),\n",
       " Equality(Expression(AFFINE, UNKNOWN, ()), Constant(CONSTANT, NONNEGATIVE, ()))]"
      ]
     },
     "execution_count": 298,
     "metadata": {},
     "output_type": "execute_result"
    }
   ],
   "source": [
    "haldane = []\n",
    "fwd_flux = []\n",
    "\n",
    "for i, r in enumerate(S.T):\n",
    "    Km_s_idx = np.nonzero(S_s_nz[1, :] == i)\n",
    "    S_s_idx = S_s_nz[0, S_s_nz[1, :] == i] # negate -1 entries\n",
    "    \n",
    "    Km_p_idx = np.nonzero(S_p_nz[1, :] == i)\n",
    "    S_p_idx = S_p_nz[0, S_p_nz[1, :] == i]\n",
    "    \n",
    "    haldane.append(K_eq[i] == cfwd[i] - crev[i] + r[S_p_idx] @ Km_p[Km_p_idx] - (-r[S_s_idx]) @ Km_s[Km_s_idx])  # add minus since s matrix has minus\n",
    "    fwd_flux.append(cfwd[i] + (-r[S_s_idx]) @ y_s[Km_s_idx] - (crev[i] + r[S_p_idx] @ y_p[Km_p_idx]) >= 0)  # add minus since s matrix has minus\n",
    "    \n",
    "haldane"
   ]
  },
  {
   "cell_type": "code",
   "execution_count": 299,
   "id": "a77dbaef-1995-4496-a867-6891b901e35f",
   "metadata": {},
   "outputs": [],
   "source": [
    "constr = [cp.hstack([cfwd, crev, c, Km_s, Km_p]) >= -5,\n",
    "          cp.hstack([cfwd, crev, c, Km_s, Km_p]) <= 10, \n",
    "          ]\n",
    "\n",
    "constr.extend(haldane)\n",
    "constr.extend(fwd_flux)\n",
    "constr.extend([S.T @ c <= K_eq])"
   ]
  },
  {
   "cell_type": "code",
   "execution_count": 300,
   "id": "b434c2b0-a4d0-43f1-ad56-d98882abafa6",
   "metadata": {},
   "outputs": [
    {
     "data": {
      "text/plain": [
       "0.0003900571695912799"
      ]
     },
     "execution_count": 300,
     "metadata": {},
     "output_type": "execute_result"
    }
   ],
   "source": [
    "p = cp.Problem(cp.Minimize(loss), constr)\n",
    "p.solve()"
   ]
  },
  {
   "cell_type": "markdown",
   "id": "5b907a59-21fe-4dd1-9e19-fecf7bb1b1e5",
   "metadata": {},
   "source": [
    "# Checking correctness of result"
   ]
  },
  {
   "cell_type": "code",
   "execution_count": 301,
   "id": "168df7be-aa37-489b-96bd-70b211f45389",
   "metadata": {},
   "outputs": [
    {
     "data": {
      "text/plain": [
       "array([4.00000000e+00, 2.99969720e+00, 8.78088353e-05, 2.41950547e+00])"
      ]
     },
     "execution_count": 301,
     "metadata": {},
     "output_type": "execute_result"
    }
   ],
   "source": [
    "cfwd.value"
   ]
  },
  {
   "cell_type": "code",
   "execution_count": 302,
   "id": "969fd0d0-cb84-4a85-abf9-8e45fac0190e",
   "metadata": {},
   "outputs": [
    {
     "data": {
      "text/plain": [
       "array([-9.89536612e-05,  9.97523628e+00, -7.41224399e-05,  1.97800850e+00])"
      ]
     },
     "execution_count": 302,
     "metadata": {},
     "output_type": "execute_result"
    }
   ],
   "source": [
    "crev.value"
   ]
  },
  {
   "cell_type": "code",
   "execution_count": 303,
   "id": "2c06bd43-858a-4a80-87b4-e906682ea9d2",
   "metadata": {},
   "outputs": [
    {
     "data": {
      "text/plain": [
       "array([ 1.90050822e+00,  1.00000000e-02, -6.96074753e-06, -6.96074753e-06,\n",
       "        6.34992370e+00, -2.27362434e-01, -2.31729264e+00, -3.01336164e-05,\n",
       "       -3.01336164e-05])"
      ]
     },
     "execution_count": 303,
     "metadata": {},
     "output_type": "execute_result"
    }
   ],
   "source": [
    "c.value"
   ]
  },
  {
   "cell_type": "code",
   "execution_count": 304,
   "id": "41df70c2-16d4-4cb1-982c-24b36295a53b",
   "metadata": {},
   "outputs": [
    {
     "data": {
      "text/plain": [
       "array([-4.17445351e+00, -4.16480358e-01, -3.16398242e-01,  3.20097191e-02,\n",
       "        1.24406442e-04, -8.64115796e-05])"
      ]
     },
     "execution_count": 304,
     "metadata": {},
     "output_type": "execute_result"
    }
   ],
   "source": [
    "Km_s.value"
   ]
  },
  {
   "cell_type": "code",
   "execution_count": 305,
   "id": "d2553824-cf7e-4608-9562-48bba6cc213c",
   "metadata": {},
   "outputs": [
    {
     "data": {
      "text/plain": [
       "array([ 1.83230799e-04,  1.83230799e-04,  6.73667920e-04, -1.89940577e-01,\n",
       "       -1.69703808e+00, -1.24288836e-04,  7.58569795e-05,  7.58569795e-05])"
      ]
     },
     "execution_count": 305,
     "metadata": {},
     "output_type": "execute_result"
    }
   ],
   "source": [
    "Km_p.value"
   ]
  },
  {
   "cell_type": "markdown",
   "id": "2db77294-ce0c-4874-9ac5-954b940ac8d2",
   "metadata": {},
   "source": [
    "## Checking Haldane and fwd/rev flux ratios are satisfied"
   ]
  },
  {
   "cell_type": "code",
   "execution_count": 306,
   "id": "7bf9b6c8-032f-45db-a73c-188cfbb03736",
   "metadata": {},
   "outputs": [
    {
     "name": "stdout",
     "output_type": "stream",
     "text": [
      "haldane -8.538769691313064e-10\n",
      "forward 4.052589279710051\n",
      "haldane 8.943459306465229e-10\n",
      "forward 5.13237063159977e-05\n",
      "haldane -4.191619273896663e-11\n",
      "forward 0.0001562651566421353\n",
      "haldane -4.436995215684192e-11\n",
      "forward 2.531178474064329\n"
     ]
    }
   ],
   "source": [
    "for i, r in enumerate(S.T):\n",
    "    Km_s_idx = np.nonzero(S_s_nz[1, :] == i)\n",
    "    S_s_idx = S_s_nz[0, S_s_nz[1, :] == i] # negate -1 entries\n",
    "    \n",
    "    Km_p_idx = np.nonzero(S_p_nz[1, :] == i)\n",
    "    S_p_idx = S_p_nz[0, S_p_nz[1, :] == i]\n",
    "    \n",
    "    print(\"haldane\", cfwd.value[i] - crev.value[i] + r[S_p_idx] @ Km_p.value[Km_p_idx] - (-r[S_s_idx]) @ Km_s.value[Km_s_idx] - K_eq[i] )\n",
    "    # print(cfwd.value[i], (-r[S_s_idx]), y_s.value[Km_s_idx], crev.value[i], r[S_p_idx],  y_p.value[Km_p_idx])\n",
    "    print(\"forward\", cfwd.value[i] + (-r[S_s_idx]) @ y_s.value[Km_s_idx] - (crev.value[i] + r[S_p_idx] @ y_p.value[Km_p_idx]))"
   ]
  },
  {
   "cell_type": "code",
   "execution_count": 307,
   "id": "7dc38b25-e201-4b6b-a275-25561489b194",
   "metadata": {},
   "outputs": [
    {
     "data": {
      "text/plain": [
       "array([ 6.07496173,  2.31698858,  0.32639824,  6.31791398, -0.22748684,\n",
       "       -2.31720623])"
      ]
     },
     "execution_count": 307,
     "metadata": {},
     "output_type": "execute_result"
    }
   ],
   "source": [
    "y_s.value"
   ]
  },
  {
   "cell_type": "code",
   "execution_count": 308,
   "id": "7d6bf207-f672-4a6f-a191-cc6f0eb648f6",
   "metadata": {},
   "outputs": [
    {
     "data": {
      "text/plain": [
       "array([-1.90191546e-04, -1.90191546e-04,  6.34925003e+00, -3.74218566e-02,\n",
       "       -6.20254562e-01, -2.31716835e+00, -1.05990596e-04, -1.05990596e-04])"
      ]
     },
     "execution_count": 308,
     "metadata": {},
     "output_type": "execute_result"
    }
   ],
   "source": [
    "y_p.value"
   ]
  },
  {
   "cell_type": "markdown",
   "id": "6bc8db34-d4c9-4790-bebb-9dbcaa4bb578",
   "metadata": {},
   "source": [
    "## Checking that objective has been minimized."
   ]
  },
  {
   "cell_type": "code",
   "execution_count": 309,
   "id": "b3655804-a36b-45ea-a80d-275306b72dfe",
   "metadata": {},
   "outputs": [
    {
     "name": "stdout",
     "output_type": "stream",
     "text": [
      "[[4.60741046 2.99589896 3.41358762 2.3027095 ]\n",
      " [4.60517019 2.99573227 3.40119738 2.30258509]]\n"
     ]
    }
   ],
   "source": [
    "LSE_expr = []\n",
    "\n",
    "for i in range(n_rxn):\n",
    "    # sum terms are separate in logsumexp. one per saturation term (row in C_alpha, C_beta)\n",
    "    n_term_s = np.sum(d_alpha == i) \n",
    "    n_term_p = np.sum(d_beta == i)\n",
    "    n_term = n_term_s + n_term_p\n",
    "    \n",
    "    LSE_expr.append(           [ (C_alpha @ y_s.value)[d_alpha == i] - np.multiply(np.ones(n_term_s), S_s.T[i, met_s_nz] @ y_s.value) - cfwd.value[i],  \n",
    "                                 (C_beta @ y_p.value)[d_beta == i] - np.multiply(np.ones(n_term_p), S_s.T[i, met_s_nz] @ y_s.value) - cfwd.value[i],\n",
    "                                 0 - np.multiply(np.ones(1), S_s.T[0, met_s_nz] @ y_s.value)  - cfwd.value[i],\n",
    "                                 #-1*np.ones(n_lse_terms - n_term + 1) \n",
    "                               ]\n",
    "                   )\n",
    "    \n",
    "\n",
    "est = np.zeros(4)    \n",
    "\n",
    "for i, rxn in enumerate(LSE_expr):\n",
    "    s = 0\n",
    "    \n",
    "    for term in rxn:\n",
    "        s += np.sum(np.exp(term))\n",
    "        \n",
    "    est[i] = np.log(s)\n",
    "    \n",
    "\n",
    "print(np.array([-est,lvE]))"
   ]
  },
  {
   "cell_type": "markdown",
   "id": "d282711e-4f51-401b-b575-0e1ba82d7150",
   "metadata": {},
   "source": [
    "## How closely does the objective match our target kcats?"
   ]
  },
  {
   "cell_type": "code",
   "execution_count": 312,
   "id": "b87caa09-14b9-44b4-b4da-647b62e5f898",
   "metadata": {},
   "outputs": [
    {
     "data": {
      "text/plain": [
       "array([100.,  20.,  30.,  10.])"
      ]
     },
     "execution_count": 312,
     "metadata": {},
     "output_type": "execute_result"
    }
   ],
   "source": [
    "np.exp(lvE)"
   ]
  },
  {
   "cell_type": "code",
   "execution_count": 313,
   "id": "9884478c-0cdd-46f1-a0b5-7a9aff743b71",
   "metadata": {},
   "outputs": [
    {
     "data": {
      "text/plain": [
       "array([100.2242783 ,  20.00333397,  30.3740195 ,  10.00124419])"
      ]
     },
     "execution_count": 313,
     "metadata": {},
     "output_type": "execute_result"
    }
   ],
   "source": [
    "np.exp(-est)"
   ]
  },
  {
   "cell_type": "code",
   "execution_count": 260,
   "id": "1912fae4-be60-4d23-a2c2-463166346fe8",
   "metadata": {},
   "outputs": [
    {
     "data": {
      "text/plain": [
       "array([0, 0, 1, 4, 5, 6])"
      ]
     },
     "execution_count": 260,
     "metadata": {},
     "output_type": "execute_result"
    }
   ],
   "source": [
    "# dG = standard_dg_prime._magnitude\n",
    "\n",
    "# keq = np.exp(-dG/(R*T))\n",
    "# keq\n",
    "\n",
    "# K_eq = np.log(keq)\n",
    "\n",
    "# # set up variables\n",
    "\n",
    "# S = np.array(Sd)\n",
    "\n",
    "# # adjustments\n",
    "# S[:, 1] *= -1\n",
    "# K_eq[1] *= -1\n",
    "\n",
    "# S[S == -0] = 0\n",
    "# S_s = -np.copy(S)\n",
    "# S_p = np.copy(S) #reverse neg sign\n",
    "# S_s[S > 0] = 0\n",
    "# S_p[S < 0] = 0\n",
    "\n",
    "S_s_nz = np.array(S_s.nonzero())\n",
    "S_p_nz = np.array(S_p.nonzero())\n",
    "\n",
    "# first coordinate, e.g. metabolites w nonzero substrate/product coeff across all reactions. also works as substrate indices. \n",
    "met_s_nz = S_s_nz[0, :]\n",
    "met_p_nz = S_p_nz[0, :]\n",
    "\n",
    "# second coordinate, e.g. reactions indices for those concentrations. works to index substrates as well. \n",
    "rxn_s_nz = S_s_nz[1, :]   \n",
    "rxn_p_nz = S_p_nz[1, :]\n",
    "\n",
    "# one dim is always 2\n",
    "n_Km_s = np.max(met_s_nz.shape) \n",
    "n_Km_p = np.max(met_p_nz.shape)\n",
    "\n",
    "# c = np.ones(n_met)\n",
    "# Km_s = np.random.uniform(0.9, 1.1, n_Km_s)\n",
    "# Km_p = np.random.uniform(0.9, 1.1, n_Km_p)\n",
    "# cfwd = np.random.uniform(1.8, 2.2, n_rxn)\n",
    "# crev = np.zeros(n_rxn)\n",
    "\n",
    "c = c.value\n",
    "Km_s = Km_s.value\n",
    "Km_p = Km_p.value\n",
    "cfwd = cfwd.value\n",
    "crev = crev.value\n",
    "\n",
    "\n",
    "\n",
    "# define Km positions by nonzero S matrix concentrations\n",
    "y_s = c[met_s_nz] - Km_s\n",
    "y_p = c[met_p_nz] - Km_p\n",
    "\n",
    "# index \n",
    "met_s_nz"
   ]
  },
  {
   "cell_type": "code",
   "execution_count": 315,
   "id": "d19eb32f-e8ba-49db-8f75-d1dfd55d7eee",
   "metadata": {},
   "outputs": [
    {
     "data": {
      "text/plain": [
       "array([ 1.90050822e+00,  1.00000000e-02, -6.96074753e-06, -6.96074753e-06,\n",
       "        6.34992370e+00, -2.27362434e-01, -2.31729264e+00, -3.01336164e-05,\n",
       "       -3.01336164e-05])"
      ]
     },
     "execution_count": 315,
     "metadata": {},
     "output_type": "execute_result"
    }
   ],
   "source": [
    "c.value"
   ]
  },
  {
   "cell_type": "markdown",
   "id": "8121c025-e5f8-495f-946d-24df9a6d7728",
   "metadata": {},
   "source": [
    "Calculate reverse ckat, check if rxns are running forward."
   ]
  },
  {
   "cell_type": "code",
   "execution_count": 42,
   "id": "d2e57df6-a226-4e5f-a5bc-9a3d059ea2d6",
   "metadata": {},
   "outputs": [
    {
     "name": "stdout",
     "output_type": "stream",
     "text": [
      "True [1 1]\n",
      "True [1]\n",
      "True [1 1]\n",
      "True [1]\n"
     ]
    }
   ],
   "source": [
    "flux_diff = np.zeros(n_rxn)\n",
    "fwd_flux = np.zeros(n_rxn)\n",
    "\n",
    "for i, r in enumerate(S.T):\n",
    "    Km_s_idx = np.nonzero(S_s_nz[1, :] == i)\n",
    "    S_s_idx = S_s_nz[0, S_s_nz[1, :] == i] # negate -1 entries\n",
    "    \n",
    "    Km_p_idx = np.nonzero(S_p_nz[1, :] == i)\n",
    "    S_p_idx = S_p_nz[0, S_p_nz[1, :] == i]\n",
    "    \n",
    "    #print(cfwd[i] - K_eq[i] + r[S_p_idx] @ Km_p[Km_p_idx] - r[S_s_idx] @ Km_s[Km_s_idx], crev[i])\n",
    "    print(cfwd[i] + (-r[S_s_idx]) @ y_s[Km_s_idx] - (crev[i] + r[S_p_idx] @ y_p[Km_p_idx]) > 0, -r[S_s_idx])\n",
    "    flux_diff[i] = cfwd[i] + (-r[S_s_idx]) @ y_s[Km_s_idx] - (crev[i] + r[S_p_idx] @ y_p[Km_p_idx])\n",
    "    fwd_flux[i] = cfwd[i] + (-r[S_s_idx]) @ y_s[Km_s_idx]"
   ]
  },
  {
   "cell_type": "markdown",
   "id": "961f2fff-22dc-4ade-8580-d3642c1ceb04",
   "metadata": {},
   "source": [
    "These will be the measured fluxes. Good. Now we can add saturation. Remember that this has to be fixed in pre-estimation, as we cannot just change one param without violating Haldane or equilibrium constraints."
   ]
  },
  {
   "cell_type": "markdown",
   "id": "6ccd2405-dd34-4ab5-8389-7823a29c1a21",
   "metadata": {},
   "source": [
    "All slightly below our threshold, which is what we wanted. No unboundedness."
   ]
  },
  {
   "cell_type": "markdown",
   "id": "0a153d0e-fc34-42fe-a868-6d6ba6b2a496",
   "metadata": {},
   "source": [
    "# Testing toy problem with thermodynamic and kinetic data"
   ]
  },
  {
   "cell_type": "code",
   "execution_count": 43,
   "id": "c582dc83-7642-4490-a598-347999713375",
   "metadata": {},
   "outputs": [
    {
     "data": {
      "text/html": [
       "<div>\n",
       "<style scoped>\n",
       "    .dataframe tbody tr th:only-of-type {\n",
       "        vertical-align: middle;\n",
       "    }\n",
       "\n",
       "    .dataframe tbody tr th {\n",
       "        vertical-align: top;\n",
       "    }\n",
       "\n",
       "    .dataframe thead th {\n",
       "        text-align: right;\n",
       "    }\n",
       "</style>\n",
       "<table border=\"1\" class=\"dataframe\">\n",
       "  <thead>\n",
       "    <tr style=\"text-align: right;\">\n",
       "      <th></th>\n",
       "      <th>6PFRUCTPHOS-RXN</th>\n",
       "      <th>F16ALDOLASE-RXN</th>\n",
       "      <th>2TRANSKETO-RXN</th>\n",
       "      <th>TRIOSEPISOMERIZATION-RXN</th>\n",
       "    </tr>\n",
       "  </thead>\n",
       "  <tbody>\n",
       "    <tr>\n",
       "      <th>FRUCTOSE-6P</th>\n",
       "      <td>-1</td>\n",
       "      <td>0</td>\n",
       "      <td>1</td>\n",
       "      <td>0</td>\n",
       "    </tr>\n",
       "    <tr>\n",
       "      <th>ATP</th>\n",
       "      <td>-1</td>\n",
       "      <td>0</td>\n",
       "      <td>0</td>\n",
       "      <td>0</td>\n",
       "    </tr>\n",
       "    <tr>\n",
       "      <th>PROTON</th>\n",
       "      <td>1</td>\n",
       "      <td>0</td>\n",
       "      <td>0</td>\n",
       "      <td>0</td>\n",
       "    </tr>\n",
       "    <tr>\n",
       "      <th>ADP</th>\n",
       "      <td>1</td>\n",
       "      <td>0</td>\n",
       "      <td>0</td>\n",
       "      <td>0</td>\n",
       "    </tr>\n",
       "    <tr>\n",
       "      <th>FRUCTOSE-16-DIPHOSPHATE</th>\n",
       "      <td>1</td>\n",
       "      <td>-1</td>\n",
       "      <td>0</td>\n",
       "      <td>0</td>\n",
       "    </tr>\n",
       "    <tr>\n",
       "      <th>DIHYDROXY-ACETONE-PHOSPHATE</th>\n",
       "      <td>0</td>\n",
       "      <td>1</td>\n",
       "      <td>0</td>\n",
       "      <td>1</td>\n",
       "    </tr>\n",
       "    <tr>\n",
       "      <th>GAP</th>\n",
       "      <td>0</td>\n",
       "      <td>1</td>\n",
       "      <td>1</td>\n",
       "      <td>-1</td>\n",
       "    </tr>\n",
       "    <tr>\n",
       "      <th>ERYTHROSE-4P</th>\n",
       "      <td>0</td>\n",
       "      <td>0</td>\n",
       "      <td>-1</td>\n",
       "      <td>0</td>\n",
       "    </tr>\n",
       "    <tr>\n",
       "      <th>XYLULOSE-5-PHOSPHATE</th>\n",
       "      <td>0</td>\n",
       "      <td>0</td>\n",
       "      <td>-1</td>\n",
       "      <td>0</td>\n",
       "    </tr>\n",
       "  </tbody>\n",
       "</table>\n",
       "</div>"
      ],
      "text/plain": [
       "                             6PFRUCTPHOS-RXN  F16ALDOLASE-RXN  2TRANSKETO-RXN  \\\n",
       "FRUCTOSE-6P                               -1                0               1   \n",
       "ATP                                       -1                0               0   \n",
       "PROTON                                     1                0               0   \n",
       "ADP                                        1                0               0   \n",
       "FRUCTOSE-16-DIPHOSPHATE                    1               -1               0   \n",
       "DIHYDROXY-ACETONE-PHOSPHATE                0                1               0   \n",
       "GAP                                        0                1               1   \n",
       "ERYTHROSE-4P                               0                0              -1   \n",
       "XYLULOSE-5-PHOSPHATE                       0                0              -1   \n",
       "\n",
       "                             TRIOSEPISOMERIZATION-RXN  \n",
       "FRUCTOSE-6P                                         0  \n",
       "ATP                                                 0  \n",
       "PROTON                                              0  \n",
       "ADP                                                 0  \n",
       "FRUCTOSE-16-DIPHOSPHATE                             0  \n",
       "DIHYDROXY-ACETONE-PHOSPHATE                         1  \n",
       "GAP                                                -1  \n",
       "ERYTHROSE-4P                                        0  \n",
       "XYLULOSE-5-PHOSPHATE                                0  "
      ]
     },
     "execution_count": 43,
     "metadata": {},
     "output_type": "execute_result"
    }
   ],
   "source": [
    "Sd = pd.DataFrame(stoich_dict, dtype=np.int8).fillna(0).astype(np.int8)\n",
    "\n",
    "n_met = len(Sd.index)\n",
    "n_rxn = len(Sd.columns)\n",
    "\n",
    "Sd"
   ]
  },
  {
   "cell_type": "markdown",
   "id": "813b7804-8c97-4b91-a7d7-68cc5412b572",
   "metadata": {},
   "source": [
    "# Import sim output"
   ]
  },
  {
   "cell_type": "code",
   "execution_count": null,
   "id": "dcda9aff-cea9-4bb5-a28c-e63f8ee40911",
   "metadata": {},
   "outputs": [],
   "source": [
    "time = '10'\n",
    "date = '2023-02-13'\n",
    "experiment = 'balance'\n",
    "entry = f'{experiment}_{time}_{date}'\n",
    "folder = f'out/fbagd/{entry}/'"
   ]
  },
  {
   "cell_type": "code",
   "execution_count": null,
   "id": "b78d4236-b4ef-472b-bfd4-049c2fdd0495",
   "metadata": {},
   "outputs": [],
   "source": [
    "output = np.load(folder + 'output.npy',allow_pickle='TRUE').item()\n",
    "# output = np.load(r\"out/geneRxnVerifData/output_glc.npy\", allow_pickle=True, encoding='ASCII').tolist()\n",
    "output = output['agents']['0']\n",
    "fba = output['listeners']['fba_results']\n",
    "mass = output['listeners']['mass']\n",
    "bulk = pd.DataFrame(output['bulk'])"
   ]
  },
  {
   "cell_type": "code",
   "execution_count": null,
   "id": "e3d47c72-2f67-4e94-bff8-a69202625d93",
   "metadata": {},
   "outputs": [],
   "source": [
    "f = open(folder + 'agent_processes.pkl', 'rb')\n",
    "agent_processes = dill.load(f)\n",
    "f.close()\n",
    "\n",
    "f = open(folder + 'agent_steps.pkl', 'rb')\n",
    "agent_steps = dill.load(f)\n",
    "f.close()"
   ]
  },
  {
   "cell_type": "code",
   "execution_count": null,
   "id": "d2b7021f-e5c6-4520-9b3b-b1f284201930",
   "metadata": {},
   "outputs": [],
   "source": [
    "getattributes(agent_steps['ecoli-metabolism'])"
   ]
  },
  {
   "cell_type": "code",
   "execution_count": null,
   "id": "c1187978-ab16-4e08-933a-b19bac9015f3",
   "metadata": {},
   "outputs": [],
   "source": [
    "s_matrix = agent_steps['ecoli-metabolism'].model.network.s_matrix\n",
    "stoichiometry = agent_steps['ecoli-metabolism'].stoichiometry"
   ]
  },
  {
   "cell_type": "code",
   "execution_count": null,
   "id": "9bd2dfa2-4416-4448-aede-42d4c6ced53d",
   "metadata": {},
   "outputs": [],
   "source": [
    "getmembers(agent_steps['ecoli-metabolism'])[7][1].keys()"
   ]
  },
  {
   "cell_type": "code",
   "execution_count": null,
   "id": "e0492017-4421-4702-8408-1c5deec944a0",
   "metadata": {},
   "outputs": [],
   "source": [
    "agent_processes"
   ]
  },
  {
   "cell_type": "markdown",
   "id": "2a883f8b-7c97-4a23-9688-f1f4d6bbf668",
   "metadata": {},
   "source": [
    "# Check FBA output for central glycolysis"
   ]
  },
  {
   "cell_type": "code",
   "execution_count": null,
   "id": "3421ff5e-0277-496a-bfe9-d7700b764b4d",
   "metadata": {},
   "outputs": [],
   "source": [
    "stoichiometry"
   ]
  },
  {
   "cell_type": "code",
   "execution_count": null,
   "id": "aa583f14-9c95-41b8-bc7d-230dfb0858cf",
   "metadata": {},
   "outputs": [],
   "source": []
  }
 ],
 "metadata": {
  "kernelspec": {
   "display_name": "Python 3 (ipykernel)",
   "language": "python",
   "name": "python3"
  },
  "language_info": {
   "codemirror_mode": {
    "name": "ipython",
    "version": 3
   },
   "file_extension": ".py",
   "mimetype": "text/x-python",
   "name": "python",
   "nbconvert_exporter": "python",
   "pygments_lexer": "ipython3",
   "version": "3.9.9"
  }
 },
 "nbformat": 4,
 "nbformat_minor": 5
}
