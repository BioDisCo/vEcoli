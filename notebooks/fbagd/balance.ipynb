{
 "cells": [
  {
   "cell_type": "code",
   "execution_count": 134,
   "id": "89c876b4-8497-499f-a413-26ad32cec39e",
   "metadata": {},
   "outputs": [],
   "source": [
    "import numpy as np\n",
    "from scipy import linalg, special\n",
    "import seaborn as sns\n",
    "import pandas as pd\n",
    "import os\n",
    "from inspect import getmembers\n",
    "import matplotlib.pyplot as plt\n",
    "import networkx as nx\n",
    "from sklearn.preprocessing import MinMaxScaler, StandardScaler\n",
    "import dill\n",
    "from equilibrator_api import ComponentContribution, Q_, Reaction\n",
    "import requests\n",
    "import xmltodict\n",
    "import pint\n",
    "import cvxpy as cp\n",
    "import itertools\n",
    "import copy\n",
    "\n",
    "sns.set(style='darkgrid', palette='viridis', context='talk')\n",
    "\n",
    "os.chdir(os.path.expanduser('~/vivarium-ecoli'))"
   ]
  },
  {
   "cell_type": "markdown",
   "id": "82a34091-b89a-4a8b-b49e-ce86aeab25c6",
   "metadata": {},
   "source": [
    "A + B -E1> C -E2> D\n",
    "\n",
    "B -E3> F\n",
    "\n",
    "A -E4> G"
   ]
  },
  {
   "cell_type": "markdown",
   "id": "2cc077b2-8c38-4065-b306-2e91611fd975",
   "metadata": {},
   "source": [
    "# Testing eQuilibrator"
   ]
  },
  {
   "cell_type": "code",
   "execution_count": 135,
   "id": "77f87609-2312-4734-8970-05177c5c3434",
   "metadata": {},
   "outputs": [],
   "source": [
    "cc = ComponentContribution()\n",
    "\n",
    "# optional: changing the aqueous environment parameters\n",
    "cc.p_h = Q_(7.4)\n",
    "cc.p_mg = Q_(3.0)\n",
    "cc.ionic_strength = Q_(\"0.25M\")\n",
    "cc.temperature = Q_(\"298.15K\")\n",
    "\n"
   ]
  },
  {
   "cell_type": "code",
   "execution_count": 136,
   "id": "90008655-107b-487c-b60b-a98b12137dd6",
   "metadata": {},
   "outputs": [],
   "source": [
    "from equilibrator_api import Reaction\n",
    "compound_ids = [\"WATER\", \"ADP\", \"ATP\", \"Pi\"]\n",
    "compound_dict = {cid : cc.get_compound(f\"metacyc.compound:{cid}\") for cid in compound_ids}\n",
    "atpase_reaction = Reaction({\n",
    "    compound_dict[\"ATP\"]: -1,\n",
    "    compound_dict[\"WATER\"]: -1,\n",
    "    compound_dict[\"ADP\"]: 1,\n",
    "    compound_dict[\"Pi\"]: 1,\n",
    "})"
   ]
  },
  {
   "cell_type": "code",
   "execution_count": 137,
   "id": "ac886c79-121d-4d77-9ba0-eb4b25d19039",
   "metadata": {},
   "outputs": [
    {
     "data": {
      "text/html": [
       "(-29.14 &plusmn; 0.30) kilojoule/mole"
      ],
      "text/latex": [
       "$\\left(-29.14 \\pm 0.30\\right)\\ \\frac{\\mathrm{kilojoule}}{\\mathrm{mole}}$"
      ],
      "text/plain": [
       "<Measurement(-29.144472212600157, 0.3042778553577678, kilojoule / mole)>"
      ]
     },
     "execution_count": 137,
     "metadata": {},
     "output_type": "execute_result"
    }
   ],
   "source": [
    "standard_dg_prime = cc.standard_dg_prime(atpase_reaction)\n",
    "standard_dg_prime"
   ]
  },
  {
   "cell_type": "code",
   "execution_count": 138,
   "id": "c6be2265-c9ec-45cf-8b87-8ca2df1376dd",
   "metadata": {},
   "outputs": [
    {
     "name": "stdout",
     "output_type": "stream",
     "text": [
      "(-44.8 +/- 0.6) kilojoule / mole\n"
     ]
    }
   ],
   "source": [
    "cytoplasmic_p_h = Q_(7.5)\n",
    "cytoplasmic_ionic_strength = Q_(\"250 mM\")\n",
    "periplasmic_p_h = Q_(7.0)\n",
    "periplasmic_ionic_strength = Q_(\"200 mM\")\n",
    "e_potential_difference = Q_(\"0.15 V\")\n",
    "cytoplasmic_reaction = \"bigg.metabolite:pep = bigg.metabolite:g6p + bigg.metabolite:pyr\"\n",
    "periplasmic_reaction = \"bigg.metabolite:glc__D = \"\n",
    "\n",
    "cc = ComponentContribution()\n",
    "cc.p_h = cytoplasmic_p_h\n",
    "cc.ionic_strength = cytoplasmic_ionic_strength\n",
    "standard_dg_prime = cc.multicompartmental_standard_dg_prime(\n",
    "    cc.parse_reaction_formula(cytoplasmic_reaction),\n",
    "    cc.parse_reaction_formula(periplasmic_reaction),\n",
    "    e_potential_difference=e_potential_difference,\n",
    "    p_h_outer=periplasmic_p_h,\n",
    "    ionic_strength_outer=periplasmic_ionic_strength,\n",
    ")\n",
    "\n",
    "print(standard_dg_prime)\n"
   ]
  },
  {
   "cell_type": "code",
   "execution_count": 139,
   "id": "3c97b6b4-77e2-4ddb-926c-b39f4780811b",
   "metadata": {},
   "outputs": [],
   "source": [
    "cc.get_compound_by_inchi(\"WQZGKKKJIJFFOK-GASJEMHNSA-N\")"
   ]
  },
  {
   "cell_type": "markdown",
   "id": "fb140010-52ab-4edd-844e-a3645b3d5a41",
   "metadata": {},
   "source": [
    "# Toy example with fake data"
   ]
  },
  {
   "cell_type": "code",
   "execution_count": 140,
   "id": "6cd11cad-2e4b-4cb7-bec6-6d3e4f7b21bd",
   "metadata": {},
   "outputs": [],
   "source": [
    "s = requests.Session() # create session\n",
    "# Post login credentials to session:\n",
    "s.post('https://websvc.biocyc.org/credentials/login/', data={'email':'cellulararchitect@protonmail.com', 'password':'Cellman0451'})\n",
    "# Issue web service request:\n",
    "r = s.get('https://websvc.biocyc.org/getxml?id=ECOLI:6PFRUCTPHOS-RXN&detail=low&fmt=json')"
   ]
  },
  {
   "cell_type": "code",
   "execution_count": 141,
   "id": "08f6aabd-232f-4f40-9791-286bdb104c80",
   "metadata": {},
   "outputs": [
    {
     "data": {
      "text/plain": [
       "[{'Compound': {'@resource': 'getxml?ECOLI:ASCORBATE',\n",
       "   '@orgid': 'ECOLI',\n",
       "   '@frameid': 'ASCORBATE'}},\n",
       " {'Compound': {'@resource': 'getxml?ECOLI:L-DEHYDRO-ASCORBATE',\n",
       "   '@orgid': 'ECOLI',\n",
       "   '@frameid': 'L-DEHYDRO-ASCORBATE'}},\n",
       " {'Compound': {'@resource': 'getxml?ECOLI:WATER',\n",
       "   '@orgid': 'ECOLI',\n",
       "   '@frameid': 'WATER'},\n",
       "  'coefficient': {'@datatype': 'integer', '#text': '2'}}]"
      ]
     },
     "execution_count": 141,
     "metadata": {},
     "output_type": "execute_result"
    }
   ],
   "source": [
    "r = s.get('https://websvc.biocyc.org/getxml?id=ECOLI:RXN-12440&detail=low&fmt=json')\n",
    "rxn = xmltodict.parse(r.content)\n",
    "rxn['ptools-xml']['Reaction']['right']"
   ]
  },
  {
   "cell_type": "code",
   "execution_count": 142,
   "id": "80b980bf-1e2a-40bc-ba55-9199e49bd923",
   "metadata": {},
   "outputs": [
    {
     "data": {
      "text/plain": [
       "[{'Compound': {'@resource': 'getxml?ECOLI:ASCORBATE',\n",
       "   '@orgid': 'ECOLI',\n",
       "   '@frameid': 'ASCORBATE'}},\n",
       " {'Compound': {'@resource': 'getxml?ECOLI:L-DEHYDRO-ASCORBATE',\n",
       "   '@orgid': 'ECOLI',\n",
       "   '@frameid': 'L-DEHYDRO-ASCORBATE'}},\n",
       " {'Compound': {'@resource': 'getxml?ECOLI:WATER',\n",
       "   '@orgid': 'ECOLI',\n",
       "   '@frameid': 'WATER'},\n",
       "  'coefficient': {'@datatype': 'integer', '#text': '2'}}]"
      ]
     },
     "execution_count": 142,
     "metadata": {},
     "output_type": "execute_result"
    }
   ],
   "source": [
    "rxn = xmltodict.parse(r.content)\n",
    "rxn['ptools-xml']['Reaction']['right']"
   ]
  },
  {
   "cell_type": "code",
   "execution_count": 143,
   "id": "a2d44237-329f-44b8-a7aa-d02bf1b7d5d4",
   "metadata": {},
   "outputs": [
    {
     "data": {
      "text/plain": [
       "'ASCORBATE'"
      ]
     },
     "execution_count": 143,
     "metadata": {},
     "output_type": "execute_result"
    }
   ],
   "source": [
    "rxn['ptools-xml']['Reaction']['left'][0]['Compound']['@frameid']"
   ]
  },
  {
   "cell_type": "code",
   "execution_count": 144,
   "id": "339ecaa5-287e-4481-b15a-90f3dcfecf77",
   "metadata": {},
   "outputs": [
    {
     "data": {
      "text/plain": [
       "{'Compound': {'@resource': 'getxml?ECOLI:FRUCTOSE-16-DIPHOSPHATE',\n",
       "  '@orgid': 'ECOLI',\n",
       "  '@frameid': 'FRUCTOSE-16-DIPHOSPHATE'}}"
      ]
     },
     "execution_count": 144,
     "metadata": {},
     "output_type": "execute_result"
    }
   ],
   "source": [
    "r = s.get(f'https://websvc.biocyc.org/getxml?id=ECOLI:F16ALDOLASE-RXN&detail=low&fmt=json')\n",
    "rxn = xmltodict.parse(r.content)\n",
    "rxn['ptools-xml']['Reaction']['left']"
   ]
  },
  {
   "cell_type": "code",
   "execution_count": 145,
   "id": "837d6516-fa3c-4b71-ba39-4a98bb9689d3",
   "metadata": {},
   "outputs": [
    {
     "data": {
      "text/plain": [
       "{'6PFRUCTPHOS-RXN': <equilibrator_api.phased_reaction.PhasedReaction at 0x17afc0df0>,\n",
       " 'F16ALDOLASE-RXN': <equilibrator_api.phased_reaction.PhasedReaction at 0x103a7c9a0>,\n",
       " '2TRANSKETO-RXN': <equilibrator_api.phased_reaction.PhasedReaction at 0x2880b9fa0>,\n",
       " 'TRIOSEPISOMERIZATION-RXN': <equilibrator_api.phased_reaction.PhasedReaction at 0x2880b9850>}"
      ]
     },
     "execution_count": 145,
     "metadata": {},
     "output_type": "execute_result"
    }
   ],
   "source": [
    "rxns_names = ['6PFRUCTPHOS-RXN', 'F16ALDOLASE-RXN', '2TRANSKETO-RXN', 'TRIOSEPISOMERIZATION-RXN']\n",
    "\n",
    "rxns_dict = {}\n",
    "stoich_dict = {}\n",
    "\n",
    "for name in rxns_names:\n",
    "    r = s.get(f'https://websvc.biocyc.org/getxml?id=ECOLI:{name}&detail=low&fmt=json')\n",
    "    rxn = xmltodict.parse(r.content)\n",
    "\n",
    "    rxn_dict = {}\n",
    "    stoich_loop_dict = {}\n",
    "    left = rxn['ptools-xml']['Reaction']['left']\n",
    "    right = rxn['ptools-xml']['Reaction']['right']\n",
    "    \n",
    "    if type(left) is dict:\n",
    "        left = [left]\n",
    "    \n",
    "    if type(right) is dict:\n",
    "        right = [right]\n",
    "    \n",
    "    for mol in left:\n",
    "        if type(mol) is dict:\n",
    "            cid = mol['Compound']['@frameid']\n",
    "            mol_cc = cc.get_compound(f\"metacyc.compound:{cid}\")\n",
    "            rxn_dict[mol_cc] = -1\n",
    "            stoich_loop_dict[cid] = -1\n",
    "\n",
    "    for mol in right:\n",
    "        if type(mol) is dict:\n",
    "            cid = mol['Compound']['@frameid']\n",
    "            mol_cc = cc.get_compound(f\"metacyc.compound:{cid}\")\n",
    "            rxn_dict[mol_cc] =  1\n",
    "            stoich_loop_dict[cid] = 1\n",
    "    \n",
    "    rxns_dict[name] = Reaction(rxn_dict)\n",
    "    stoich_dict[name] = stoich_loop_dict\n",
    "    \n",
    "rxns_dict"
   ]
  },
  {
   "cell_type": "code",
   "execution_count": 146,
   "id": "aeffc1b2-e63e-49b2-82e7-cbc629dbbc7d",
   "metadata": {},
   "outputs": [
    {
     "data": {
      "text/plain": [
       "[<equilibrator_api.phased_reaction.PhasedReaction at 0x17afc0df0>,\n",
       " <equilibrator_api.phased_reaction.PhasedReaction at 0x103a7c9a0>,\n",
       " <equilibrator_api.phased_reaction.PhasedReaction at 0x2880b9fa0>,\n",
       " <equilibrator_api.phased_reaction.PhasedReaction at 0x2880b9850>]"
      ]
     },
     "execution_count": 146,
     "metadata": {},
     "output_type": "execute_result"
    }
   ],
   "source": [
    "list(rxns_dict.values())"
   ]
  },
  {
   "cell_type": "code",
   "execution_count": 147,
   "id": "5e072326-7492-4a26-adba-02158fcedf0e",
   "metadata": {},
   "outputs": [],
   "source": [
    "(standard_dg_prime, dg_uncertainty) = cc.standard_dg_prime_multi(list(rxns_dict.values()), uncertainty_representation=\"cov\")"
   ]
  },
  {
   "cell_type": "code",
   "execution_count": 148,
   "id": "748784e9-37fa-4e06-8fa9-88b497816064",
   "metadata": {},
   "outputs": [
    {
     "data": {
      "text/html": [
       "<table><tbody><tr><th>Magnitude</th><td style='text-align:left;'><pre>[-21.05010908198642 22.047924530096907 -5.946115510564027<br> -5.617742386692498]</pre></td></tr><tr><th>Units</th><td style='text-align:left;'>kilojoule/mole</td></tr></tbody></table>"
      ],
      "text/latex": [
       "$\\begin{pmatrix}-21.05010908198642 & 22.047924530096907 & -5.946115510564027 & -5.617742386692498\\end{pmatrix}\\ \\frac{\\mathrm{kilojoule}}{\\mathrm{mole}}$"
      ],
      "text/plain": [
       "array([-21.05010908,  22.04792453,  -5.94611551,  -5.61774239]) <Unit('kilojoule / mole')>"
      ]
     },
     "execution_count": 148,
     "metadata": {},
     "output_type": "execute_result"
    }
   ],
   "source": [
    "standard_dg_prime"
   ]
  },
  {
   "cell_type": "code",
   "execution_count": 149,
   "id": "11142f27-1260-4d21-97bc-42c00f4920f6",
   "metadata": {},
   "outputs": [
    {
     "data": {
      "text/html": [
       "<table><tbody><tr><th>Magnitude</th><td style='text-align:left;'><pre>[[1.5398212990074922 -2.2167471180569773 0.6541085596545129<br>  -0.004664260811860303]<br> [-2.2167471180569773 5.286946034707553 -2.4322877177623594<br>  -0.1291182736017488]<br> [0.6541085596545129 -2.4322877177623594 5.547270812427002<br>  -0.08893998540652082]<br> [-0.004664260811860303 -0.1291182736017488 -0.08893998540652082<br>  0.3010346102557717]]</pre></td></tr><tr><th>Units</th><td style='text-align:left;'>kilojoule<sup>2</sup>/mole<sup>2</sup></td></tr></tbody></table>"
      ],
      "text/latex": [
       "$\\begin{pmatrix}1.5398212990074922 & -2.2167471180569773 & 0.6541085596545129 & -0.004664260811860303\\\\ \n",
       "-2.2167471180569773 & 5.286946034707553 & -2.4322877177623594 & -0.1291182736017488\\\\ \n",
       "0.6541085596545129 & -2.4322877177623594 & 5.547270812427002 & -0.08893998540652082\\\\ \n",
       "-0.004664260811860303 & -0.1291182736017488 & -0.08893998540652082 & 0.3010346102557717\\end{pmatrix}\\ \\frac{\\mathrm{kilojoule}^{2}}{\\mathrm{mole}^{2}}$"
      ],
      "text/plain": [
       "array([[ 1.53982130e+00, -2.21674712e+00,  6.54108560e-01,\n",
       "        -4.66426081e-03],\n",
       "       [-2.21674712e+00,  5.28694603e+00, -2.43228772e+00,\n",
       "        -1.29118274e-01],\n",
       "       [ 6.54108560e-01, -2.43228772e+00,  5.54727081e+00,\n",
       "        -8.89399854e-02],\n",
       "       [-4.66426081e-03, -1.29118274e-01, -8.89399854e-02,\n",
       "         3.01034610e-01]]) <Unit('kilojoule ** 2 / mole ** 2')>"
      ]
     },
     "execution_count": 149,
     "metadata": {},
     "output_type": "execute_result"
    }
   ],
   "source": [
    "dg_uncertainty"
   ]
  },
  {
   "cell_type": "code",
   "execution_count": 150,
   "id": "320ca8b3-34c3-4bfe-b43b-e71e5d5685bc",
   "metadata": {},
   "outputs": [],
   "source": [
    "R = 0.008314 # kJ/mol*K\n",
    "T = 298.15 # K"
   ]
  },
  {
   "cell_type": "code",
   "execution_count": 151,
   "id": "6c217eee-8beb-4c13-82d5-200b12d4add9",
   "metadata": {},
   "outputs": [
    {
     "data": {
      "text/plain": [
       "array([4.87556287e+03, 1.37137368e-04, 1.10096201e+01, 9.64363243e+00])"
      ]
     },
     "execution_count": 151,
     "metadata": {},
     "output_type": "execute_result"
    }
   ],
   "source": [
    "dG = standard_dg_prime._magnitude\n",
    "\n",
    "keq = np.exp(-dG/(R*T))\n",
    "keq"
   ]
  },
  {
   "cell_type": "code",
   "execution_count": 152,
   "id": "85b02a39-ec4e-4b27-b6ac-7eeae4e0cd7f",
   "metadata": {},
   "outputs": [
    {
     "data": {
      "text/plain": [
       "{'_magnitude': array([-21.05010908,  22.04792453,  -5.94611551,  -5.61774239]),\n",
       " '_units': <UnitsContainer({'kilojoule': 1, 'mole': -1})>,\n",
       " '_Quantity__used': False,\n",
       " '_Quantity__handling': None,\n",
       " '_dimensionality': <UnitsContainer({'[length]': 2, '[mass]': 1, '[substance]': -1, '[time]': -2})>}"
      ]
     },
     "execution_count": 152,
     "metadata": {},
     "output_type": "execute_result"
    }
   ],
   "source": [
    "vars(standard_dg_prime)"
   ]
  },
  {
   "cell_type": "markdown",
   "id": "3a19ac18-e8ce-4653-9976-3946c1227c85",
   "metadata": {},
   "source": [
    "# Making example data for toy problem that fits physical constraints"
   ]
  },
  {
   "cell_type": "markdown",
   "id": "35cf3980-20e4-4ec8-bb2f-e6afe9933e92",
   "metadata": {},
   "source": [
    "Stochiometric matrix:"
   ]
  },
  {
   "cell_type": "code",
   "execution_count": 153,
   "id": "20e17173-8609-4628-ade4-798fb372c3b1",
   "metadata": {},
   "outputs": [
    {
     "data": {
      "text/plain": [
       "{'6PFRUCTPHOS-RXN': {'FRUCTOSE-6P': -1,\n",
       "  'ATP': -1,\n",
       "  'PROTON': 1,\n",
       "  'ADP': 1,\n",
       "  'FRUCTOSE-16-DIPHOSPHATE': 1},\n",
       " 'F16ALDOLASE-RXN': {'FRUCTOSE-16-DIPHOSPHATE': -1,\n",
       "  'DIHYDROXY-ACETONE-PHOSPHATE': 1,\n",
       "  'GAP': 1},\n",
       " '2TRANSKETO-RXN': {'ERYTHROSE-4P': -1,\n",
       "  'XYLULOSE-5-PHOSPHATE': -1,\n",
       "  'FRUCTOSE-6P': 1,\n",
       "  'GAP': 1},\n",
       " 'TRIOSEPISOMERIZATION-RXN': {'GAP': -1, 'DIHYDROXY-ACETONE-PHOSPHATE': 1}}"
      ]
     },
     "execution_count": 153,
     "metadata": {},
     "output_type": "execute_result"
    }
   ],
   "source": [
    "stoich_dict"
   ]
  },
  {
   "cell_type": "code",
   "execution_count": 156,
   "id": "ad0c9880-fd76-40d6-9d15-3bb61f96e3e9",
   "metadata": {},
   "outputs": [
    {
     "data": {
      "text/html": [
       "<div>\n",
       "<style scoped>\n",
       "    .dataframe tbody tr th:only-of-type {\n",
       "        vertical-align: middle;\n",
       "    }\n",
       "\n",
       "    .dataframe tbody tr th {\n",
       "        vertical-align: top;\n",
       "    }\n",
       "\n",
       "    .dataframe thead th {\n",
       "        text-align: right;\n",
       "    }\n",
       "</style>\n",
       "<table border=\"1\" class=\"dataframe\">\n",
       "  <thead>\n",
       "    <tr style=\"text-align: right;\">\n",
       "      <th></th>\n",
       "      <th>6PFRUCTPHOS-RXN</th>\n",
       "      <th>F16ALDOLASE-RXN</th>\n",
       "      <th>2TRANSKETO-RXN</th>\n",
       "      <th>TRIOSEPISOMERIZATION-RXN</th>\n",
       "    </tr>\n",
       "  </thead>\n",
       "  <tbody>\n",
       "    <tr>\n",
       "      <th>FRUCTOSE-6P</th>\n",
       "      <td>-1</td>\n",
       "      <td>0</td>\n",
       "      <td>1</td>\n",
       "      <td>0</td>\n",
       "    </tr>\n",
       "    <tr>\n",
       "      <th>ATP</th>\n",
       "      <td>-1</td>\n",
       "      <td>0</td>\n",
       "      <td>0</td>\n",
       "      <td>0</td>\n",
       "    </tr>\n",
       "    <tr>\n",
       "      <th>PROTON</th>\n",
       "      <td>1</td>\n",
       "      <td>0</td>\n",
       "      <td>0</td>\n",
       "      <td>0</td>\n",
       "    </tr>\n",
       "    <tr>\n",
       "      <th>ADP</th>\n",
       "      <td>1</td>\n",
       "      <td>0</td>\n",
       "      <td>0</td>\n",
       "      <td>0</td>\n",
       "    </tr>\n",
       "    <tr>\n",
       "      <th>FRUCTOSE-16-DIPHOSPHATE</th>\n",
       "      <td>1</td>\n",
       "      <td>-1</td>\n",
       "      <td>0</td>\n",
       "      <td>0</td>\n",
       "    </tr>\n",
       "    <tr>\n",
       "      <th>DIHYDROXY-ACETONE-PHOSPHATE</th>\n",
       "      <td>0</td>\n",
       "      <td>1</td>\n",
       "      <td>0</td>\n",
       "      <td>1</td>\n",
       "    </tr>\n",
       "    <tr>\n",
       "      <th>GAP</th>\n",
       "      <td>0</td>\n",
       "      <td>1</td>\n",
       "      <td>1</td>\n",
       "      <td>-1</td>\n",
       "    </tr>\n",
       "    <tr>\n",
       "      <th>ERYTHROSE-4P</th>\n",
       "      <td>0</td>\n",
       "      <td>0</td>\n",
       "      <td>-1</td>\n",
       "      <td>0</td>\n",
       "    </tr>\n",
       "    <tr>\n",
       "      <th>XYLULOSE-5-PHOSPHATE</th>\n",
       "      <td>0</td>\n",
       "      <td>0</td>\n",
       "      <td>-1</td>\n",
       "      <td>0</td>\n",
       "    </tr>\n",
       "  </tbody>\n",
       "</table>\n",
       "</div>"
      ],
      "text/plain": [
       "                             6PFRUCTPHOS-RXN  F16ALDOLASE-RXN  2TRANSKETO-RXN  \\\n",
       "FRUCTOSE-6P                               -1                0               1   \n",
       "ATP                                       -1                0               0   \n",
       "PROTON                                     1                0               0   \n",
       "ADP                                        1                0               0   \n",
       "FRUCTOSE-16-DIPHOSPHATE                    1               -1               0   \n",
       "DIHYDROXY-ACETONE-PHOSPHATE                0                1               0   \n",
       "GAP                                        0                1               1   \n",
       "ERYTHROSE-4P                               0                0              -1   \n",
       "XYLULOSE-5-PHOSPHATE                       0                0              -1   \n",
       "\n",
       "                             TRIOSEPISOMERIZATION-RXN  \n",
       "FRUCTOSE-6P                                         0  \n",
       "ATP                                                 0  \n",
       "PROTON                                              0  \n",
       "ADP                                                 0  \n",
       "FRUCTOSE-16-DIPHOSPHATE                             0  \n",
       "DIHYDROXY-ACETONE-PHOSPHATE                         1  \n",
       "GAP                                                -1  \n",
       "ERYTHROSE-4P                                        0  \n",
       "XYLULOSE-5-PHOSPHATE                                0  "
      ]
     },
     "execution_count": 156,
     "metadata": {},
     "output_type": "execute_result"
    }
   ],
   "source": [
    "Sd = pd.DataFrame(stoich_dict, dtype=np.int8).fillna(0).astype(np.int8)\n",
    "# Sd = Sd.iloc[0:7, 0:2]\n",
    "\n",
    "n_met = len(Sd.index)\n",
    "n_rxn = len(Sd.columns)\n",
    "\n",
    "Sd"
   ]
  },
  {
   "cell_type": "code",
   "execution_count": 157,
   "id": "5c82bb78-fff2-4098-9827-6b0d10324746",
   "metadata": {},
   "outputs": [
    {
     "data": {
      "text/html": [
       "<div>\n",
       "<style scoped>\n",
       "    .dataframe tbody tr th:only-of-type {\n",
       "        vertical-align: middle;\n",
       "    }\n",
       "\n",
       "    .dataframe tbody tr th {\n",
       "        vertical-align: top;\n",
       "    }\n",
       "\n",
       "    .dataframe thead th {\n",
       "        text-align: right;\n",
       "    }\n",
       "</style>\n",
       "<table border=\"1\" class=\"dataframe\">\n",
       "  <thead>\n",
       "    <tr style=\"text-align: right;\">\n",
       "      <th></th>\n",
       "      <th>6PFRUCTPHOS-RXN</th>\n",
       "      <th>F16ALDOLASE-RXN</th>\n",
       "      <th>2TRANSKETO-RXN</th>\n",
       "      <th>TRIOSEPISOMERIZATION-RXN</th>\n",
       "    </tr>\n",
       "  </thead>\n",
       "  <tbody>\n",
       "    <tr>\n",
       "      <th>$K_{eq}$</th>\n",
       "      <td>8.491991</td>\n",
       "      <td>-8.894527</td>\n",
       "      <td>0.41688</td>\n",
       "      <td>0.441248</td>\n",
       "    </tr>\n",
       "    <tr>\n",
       "      <th>$v$</th>\n",
       "      <td>100.000000</td>\n",
       "      <td>20.000000</td>\n",
       "      <td>-30.00000</td>\n",
       "      <td>-10.000000</td>\n",
       "    </tr>\n",
       "  </tbody>\n",
       "</table>\n",
       "</div>"
      ],
      "text/plain": [
       "          6PFRUCTPHOS-RXN  F16ALDOLASE-RXN  2TRANSKETO-RXN  \\\n",
       "$K_{eq}$         8.491991        -8.894527         0.41688   \n",
       "$v$            100.000000        20.000000       -30.00000   \n",
       "\n",
       "          TRIOSEPISOMERIZATION-RXN  \n",
       "$K_{eq}$                  0.441248  \n",
       "$v$                     -10.000000  "
      ]
     },
     "execution_count": 157,
     "metadata": {},
     "output_type": "execute_result"
    }
   ],
   "source": [
    "dG = standard_dg_prime._magnitude\n",
    "\n",
    "keq = np.exp(-dG/(R*T))\n",
    "keq\n",
    "\n",
    "K_eq = np.log(keq)\n",
    "vE = np.array([100, 20, -30, -10])\n",
    "\n",
    "K_eq[vE < 0] = 1/K_eq[vE < 0] \n",
    "\n",
    "lvE = np.log(np.abs(vE))\n",
    "\n",
    "pd.DataFrame(np.array([K_eq, vE]), columns=Sd.columns, index=[\"$K_{eq}$\", \"$v$\"])"
   ]
  },
  {
   "cell_type": "code",
   "execution_count": 158,
   "id": "547db931-e727-4c7b-aa7f-a09b80fee71e",
   "metadata": {},
   "outputs": [
    {
     "data": {
      "text/plain": [
       "array([0, 0, 1, 4, 5, 6])"
      ]
     },
     "execution_count": 158,
     "metadata": {},
     "output_type": "execute_result"
    }
   ],
   "source": [
    "# set up variables\n",
    "\n",
    "S = np.array(Sd)\n",
    "S = np.multiply(S, vE/np.abs(vE)).astype(np.int8)\n",
    "S[S == -0] = 0\n",
    "S_s = -np.copy(S)\n",
    "S_p = np.copy(S) #reverse neg sign\n",
    "S_s[S > 0] = 0\n",
    "S_p[S < 0] = 0\n",
    "\n",
    "S_s_nz = np.array(S_s.nonzero())\n",
    "S_p_nz = np.array(S_p.nonzero())\n",
    "\n",
    "# first coordinate, e.g. metabolites w nonzero substrate/product coeff across all reactions. also works as substrate indices. \n",
    "met_s_nz = S_s_nz[0, :]\n",
    "met_p_nz = S_p_nz[0, :]\n",
    "\n",
    "# second coordinate, e.g. reactions indices for those concentrations. works to index substrates as well. \n",
    "rxn_s_nz = S_s_nz[1, :]   \n",
    "rxn_p_nz = S_p_nz[1, :]\n",
    "\n",
    "# one dim is always 2\n",
    "n_Km_s = np.max(met_s_nz.shape) \n",
    "n_Km_p = np.max(met_p_nz.shape)\n",
    "\n",
    "c = cp.Variable(n_met)\n",
    "Km_s = cp.Variable(n_Km_s)\n",
    "Km_p = cp.Variable(n_Km_p)\n",
    "\n",
    "cfwd = cp.Variable(n_rxn)\n",
    "crev = cp.Variable(n_rxn)\n",
    "\n",
    "# define Km positions by nonzero S matrix concentrations\n",
    "y_s = c[met_s_nz] - Km_s\n",
    "y_p = c[met_p_nz] - Km_p\n",
    "\n",
    "# index \n",
    "met_s_nz"
   ]
  },
  {
   "cell_type": "code",
   "execution_count": 159,
   "id": "e35cbcbb-7059-41e5-968a-d8997259e1d0",
   "metadata": {},
   "outputs": [],
   "source": [
    "# number of saturation terms for sub, prod\n",
    "n_alpha = np.sum(np.power(2, S_s.sum(axis=0)) - 1)\n",
    "n_beta = np.sum(np.power(2, S_p.sum(axis=0)) - 1)\n",
    "\n",
    "# saturation matrix setup\n",
    "C_alpha = np.zeros([n_alpha, len(met_s_nz)])\n",
    "C_beta = np.zeros([n_beta, len(met_p_nz)])\n",
    "\n",
    "# to separate different reactions saturation terms. \n",
    "d_alpha = np.zeros(n_alpha, dtype=np.int8)\n",
    "d_beta = np.zeros(n_beta, dtype=np.int8)\n",
    "\n",
    "\n",
    "idx = 0\n",
    "\n",
    "for i in range(n_rxn):\n",
    "    \n",
    "    # pick one reaction at a time (get substrate indicies)\n",
    "    idx_cur_rxn = rxn_s_nz == i\n",
    "    \n",
    "    # generates all binary permutations minus the first one since that would result in -1\n",
    "    sat_perm = np.array(list(itertools.product([0, 1], repeat=sum(idx_cur_rxn))))\n",
    "    sat_perm = sat_perm[1:, :]\n",
    "    \n",
    "    r, _ = sat_perm.shape\n",
    "    \n",
    "    # replace zeros with saturation matrix\n",
    "    C_alpha[idx:(idx+r), idx_cur_rxn] = sat_perm\n",
    "    d_alpha[idx:(idx+r)] = i\n",
    "        \n",
    "    idx += r # add row # \n",
    "\n",
    "idx = 0\n",
    "    \n",
    "for i in range(n_rxn):\n",
    "    idx_cur_rxn = rxn_p_nz == i\n",
    "    \n",
    "    sat_perm = np.array(list(itertools.product([0, 1], repeat=sum(idx_cur_rxn))))\n",
    "    sat_perm = sat_perm[1:, :]\n",
    "    \n",
    "    r, _ = sat_perm.shape\n",
    "    \n",
    "    C_beta[idx:(idx+r), idx_cur_rxn] = sat_perm\n",
    "    d_beta[idx:(idx+r)] = i\n",
    "        \n",
    "    idx += r # add row # "
   ]
  },
  {
   "cell_type": "code",
   "execution_count": 160,
   "id": "e17e7a68-bcc4-4107-9abd-bc739f79b1ee",
   "metadata": {},
   "outputs": [
    {
     "data": {
      "text/plain": [
       "array([[0., 0., 1., 0., 0., 0.],\n",
       "       [1., 0., 0., 0., 0., 0.],\n",
       "       [1., 0., 1., 0., 0., 0.],\n",
       "       [0., 0., 0., 1., 0., 0.],\n",
       "       [0., 0., 0., 0., 0., 1.],\n",
       "       [0., 1., 0., 0., 0., 0.],\n",
       "       [0., 1., 0., 0., 0., 1.],\n",
       "       [0., 0., 0., 0., 1., 0.]])"
      ]
     },
     "execution_count": 160,
     "metadata": {},
     "output_type": "execute_result"
    }
   ],
   "source": [
    "C_alpha"
   ]
  },
  {
   "cell_type": "code",
   "execution_count": 161,
   "id": "9b1839b5-d544-44b6-96dc-3bbf1d217f35",
   "metadata": {},
   "outputs": [
    {
     "data": {
      "text/plain": [
       "[Expression(AFFINE, UNKNOWN, (12,)),\n",
       " Expression(AFFINE, UNKNOWN, (6,)),\n",
       " Expression(AFFINE, UNKNOWN, (8,)),\n",
       " Expression(AFFINE, UNKNOWN, (4,))]"
      ]
     },
     "execution_count": 161,
     "metadata": {},
     "output_type": "execute_result"
    }
   ],
   "source": [
    "n_lse_terms = np.max(np.power(2, S_s.sum(axis=0)) +  np.power(2, S_p.sum(axis=0)) - 2)\n",
    "LSE_expr = []\n",
    "\n",
    "for i in range(n_rxn):\n",
    "    # sum terms are separate in logsumexp. one per saturation term (row in C_alpha, C_beta)\n",
    "    n_term_s = np.sum(d_alpha == i) \n",
    "    n_term_p = np.sum(d_beta == i)\n",
    "    n_term = n_term_s + n_term_p\n",
    "    \n",
    "    Km_s_idx = np.nonzero(S_s_nz[1, :] == i)\n",
    "    S_s_idx = S_s_nz[0, S_s_nz[1, :] == i] # negate -1 entries\n",
    "    \n",
    "    Km_p_idx = np.nonzero(S_p_nz[1, :] == i)\n",
    "    S_p_idx = S_p_nz[0, S_p_nz[1, :] == i]\n",
    "    \n",
    "    LSE_expr.append(cp.hstack( [ lvE[i] + (C_alpha @ y_s)[d_alpha == i] - cp.multiply(np.ones(n_term_s), -S.T[i, S_s_idx] @ y_s[Km_s_idx]) - cfwd[i],  \n",
    "                                 lvE[i] + (C_beta @ y_p)[d_beta == i] - cp.multiply(np.ones(n_term_p), -S.T[i, S_s_idx] @ y_s[Km_s_idx]) - cfwd[i],\n",
    "                                 lvE[i] + 0 - cp.multiply(np.ones(1), -S.T[i, S_s_idx] @ y_s[Km_s_idx])  - cfwd[i],\n",
    "                                 cp.multiply(np.ones(1), S.T[i, S_p_idx] @ y_p[Km_p_idx])  + crev[i]\n",
    "                                 - cp.multiply(np.ones(1), -S.T[i, S_s_idx] @ y_s[Km_s_idx])  - cfwd[i]\n",
    "                                 #-1*np.ones(n_lse_terms - n_term + 1) \n",
    "                               ]\n",
    "                             )\n",
    "                   )  # remove +1 here, could also have cfwd outside objec. \n",
    "    \n",
    "#LSE_expr = cp.vstack(LSE_expr)\n",
    "LSE_expr"
   ]
  },
  {
   "cell_type": "code",
   "execution_count": 169,
   "id": "0ea14434-058e-444b-90e8-3d150362571f",
   "metadata": {},
   "outputs": [],
   "source": [
    "l = 0.0000001\n",
    "e = 0.00001\n",
    "f = 0.0000001\n",
    "reg =  cp.sum(cp.hstack([cfwd, crev, c])) + cp.sum(cp.hstack([-Km_s, -Km_p]))# regularization\n",
    "reg2 = cp.norm1(cp.hstack([cfwd, crev, c])) + cp.norm1(cp.hstack([-Km_s, -Km_p]))# regularization\n",
    "reg3 = cp.sum(cp.huber(cp.hstack([y_s, y_p]), 1))\n",
    "#reg3 = cp.norm1(cp.hstack([y_s, y_p])) # take a look at this\n",
    "\n",
    "# e1 = LSE_expr - cfwd\n",
    "\n",
    "# loss = cp.sum(cp.log_sum_exp(cp.vstack(LSE_expr), axis=1)  + )\n",
    "loss = 0\n",
    "for i in range(n_rxn):\n",
    "    loss += cp.norm2(cp.pos(cp.log_sum_exp(LSE_expr[i])))\n",
    "#loss = cp.norm2(cp.pos(cp.log_sum_exp(cp.vstack(LSE_expr), axis=1)  - (-lvE)   )) # use + lvE as it has negative exponent\n",
    "loss += l * reg \n",
    "loss += e * reg2\n",
    "loss += f * reg3\n",
    "# "
   ]
  },
  {
   "cell_type": "code",
   "execution_count": 170,
   "id": "85586d27-113e-4b95-8d70-7dfd2abc644c",
   "metadata": {},
   "outputs": [
    {
     "data": {
      "text/plain": [
       "[Equality(Expression(AFFINE, UNKNOWN, ()), Constant(CONSTANT, NONNEGATIVE, ())),\n",
       " Equality(Expression(AFFINE, UNKNOWN, ()), Constant(CONSTANT, NONPOSITIVE, ())),\n",
       " Equality(Expression(AFFINE, UNKNOWN, ()), Constant(CONSTANT, NONNEGATIVE, ())),\n",
       " Equality(Expression(AFFINE, UNKNOWN, ()), Constant(CONSTANT, NONNEGATIVE, ()))]"
      ]
     },
     "execution_count": 170,
     "metadata": {},
     "output_type": "execute_result"
    }
   ],
   "source": [
    "haldane = []\n",
    "fwd_flux = []\n",
    "\n",
    "for i, r in enumerate(S.T):\n",
    "    Km_s_idx = np.nonzero(S_s_nz[1, :] == i)\n",
    "    S_s_idx = S_s_nz[0, S_s_nz[1, :] == i] # negate -1 entries\n",
    "    \n",
    "    Km_p_idx = np.nonzero(S_p_nz[1, :] == i)\n",
    "    S_p_idx = S_p_nz[0, S_p_nz[1, :] == i]\n",
    "    \n",
    "    haldane.append(K_eq[i] == cfwd[i] - crev[i] + r[S_p_idx] @ Km_p[Km_p_idx] - (-r[S_s_idx]) @ Km_s[Km_s_idx])  # add minus since s matrix has minus\n",
    "    fwd_flux.append(cfwd[i] + (-r[S_s_idx]) @ y_s[Km_s_idx] - (crev[i] + r[S_p_idx] @ y_p[Km_p_idx])  - (lvE[i])  >= 0)  # add minus since s matrix has minus\n",
    "    \n",
    "haldane"
   ]
  },
  {
   "cell_type": "code",
   "execution_count": 171,
   "id": "8401aec2-ac3e-4dc0-a3ee-a5727ecb3477",
   "metadata": {},
   "outputs": [
    {
     "data": {
      "text/plain": [
       "array([4.60517019, 2.99573227, 3.40119738, 2.30258509])"
      ]
     },
     "execution_count": 171,
     "metadata": {},
     "output_type": "execute_result"
    }
   ],
   "source": [
    "lvE"
   ]
  },
  {
   "cell_type": "code",
   "execution_count": 172,
   "id": "a77dbaef-1995-4496-a867-6891b901e35f",
   "metadata": {},
   "outputs": [],
   "source": [
    "constr = [cp.hstack([cfwd, crev, c, Km_s, Km_p]) >= -12,\n",
    "          cp.hstack([cfwd, crev, c, Km_s, Km_p]) <= 12, cfwd[0] == 7,\n",
    "          ]\n",
    "\n",
    "constr.extend(haldane)\n",
    "constr.extend(fwd_flux)\n",
    "constr.extend([S.T @ c <= K_eq])"
   ]
  },
  {
   "cell_type": "code",
   "execution_count": 174,
   "id": "b434c2b0-a4d0-43f1-ad56-d98882abafa6",
   "metadata": {},
   "outputs": [
    {
     "name": "stdout",
     "output_type": "stream",
     "text": [
      "===============================================================================\n",
      "                                     CVXPY                                     \n",
      "                                     v1.3.0                                    \n",
      "===============================================================================\n",
      "(CVXPY) Mar 07 09:16:52 AM: Your problem has 31 variables, 12 constraints, and 0 parameters.\n",
      "(CVXPY) Mar 07 09:16:52 AM: It is compliant with the following grammars: DCP, DQCP\n",
      "(CVXPY) Mar 07 09:16:52 AM: (If you need to solve this problem multiple times, but with different data, consider using parameters.)\n",
      "(CVXPY) Mar 07 09:16:52 AM: CVXPY will first compile your problem; then, it will invoke a numerical solver to obtain a solution.\n",
      "-------------------------------------------------------------------------------\n",
      "                                  Compilation                                  \n",
      "-------------------------------------------------------------------------------\n",
      "(CVXPY) Mar 07 09:16:52 AM: Compiling problem (target solver=ECOS).\n",
      "(CVXPY) Mar 07 09:16:52 AM: Reduction chain: Dcp2Cone -> CvxAttr2Constr -> ConeMatrixStuffing -> ECOS\n",
      "(CVXPY) Mar 07 09:16:52 AM: Applying reduction Dcp2Cone\n",
      "(CVXPY) Mar 07 09:16:52 AM: Applying reduction CvxAttr2Constr\n",
      "(CVXPY) Mar 07 09:16:52 AM: Applying reduction ConeMatrixStuffing\n",
      "(CVXPY) Mar 07 09:16:52 AM: Applying reduction ECOS\n",
      "(CVXPY) Mar 07 09:16:52 AM: Finished problem compilation (took 6.776e-02 seconds).\n",
      "-------------------------------------------------------------------------------\n",
      "                                Numerical solver                               \n",
      "-------------------------------------------------------------------------------\n",
      "(CVXPY) Mar 07 09:16:52 AM: Invoking solver ECOS  to obtain a solution.\n",
      "-------------------------------------------------------------------------------\n",
      "                                    Summary                                    \n",
      "-------------------------------------------------------------------------------\n",
      "(CVXPY) Mar 07 09:16:52 AM: Problem status: optimal\n",
      "(CVXPY) Mar 07 09:16:52 AM: Optimal value: 6.037e-04\n",
      "(CVXPY) Mar 07 09:16:52 AM: Compilation took 6.776e-02 seconds\n",
      "(CVXPY) Mar 07 09:16:52 AM: Solver (including time spent in interface) took 2.656e-03 seconds\n"
     ]
    },
    {
     "data": {
      "text/plain": [
       "0.0006036873328945923"
      ]
     },
     "execution_count": 174,
     "metadata": {},
     "output_type": "execute_result"
    }
   ],
   "source": [
    "p = cp.Problem(cp.Minimize(loss), constr)\n",
    "p.solve(verbose=True, solver=cp.ECOS)"
   ]
  },
  {
   "cell_type": "markdown",
   "id": "5b907a59-21fe-4dd1-9e19-fecf7bb1b1e5",
   "metadata": {},
   "source": [
    "# Checking correctness of result"
   ]
  },
  {
   "cell_type": "code",
   "execution_count": 175,
   "id": "168df7be-aa37-489b-96bd-70b211f45389",
   "metadata": {},
   "outputs": [
    {
     "data": {
      "text/plain": [
       "array([7.        , 3.06552725, 5.43321196, 3.17602329])"
      ]
     },
     "execution_count": 175,
     "metadata": {},
     "output_type": "execute_result"
    }
   ],
   "source": [
    "cfwd.value"
   ]
  },
  {
   "cell_type": "code",
   "execution_count": 176,
   "id": "969fd0d0-cb84-4a85-abf9-8e45fac0190e",
   "metadata": {},
   "outputs": [
    {
     "data": {
      "text/plain": [
       "array([4.31072640e-07, 5.81697598e+00, 3.78172989e+00, 2.73467764e+00])"
      ]
     },
     "execution_count": 176,
     "metadata": {},
     "output_type": "execute_result"
    }
   ],
   "source": [
    "crev.value"
   ]
  },
  {
   "cell_type": "code",
   "execution_count": 177,
   "id": "2c06bd43-858a-4a80-87b4-e906682ea9d2",
   "metadata": {},
   "outputs": [
    {
     "data": {
      "text/plain": [
       "array([ 6.44993211e+00,  1.20766902e+00, -1.85408944e-05, -1.85408944e-05,\n",
       "        1.00288779e+01, -9.66438518e-06, -1.86137921e+00, -1.13584985e-06,\n",
       "       -1.13584985e-06])"
      ]
     },
     "execution_count": 177,
     "metadata": {},
     "output_type": "execute_result"
    }
   ],
   "source": [
    "c.value"
   ]
  },
  {
   "cell_type": "code",
   "execution_count": 178,
   "id": "41df70c2-16d4-4cb1-982c-24b36295a53b",
   "metadata": {},
   "outputs": [
    {
     "data": {
      "text/plain": [
       "array([-2.13406131e-04,  1.23318342e+00, -4.69337272e-04,  4.93079985e+00,\n",
       "       -1.69665754e-06, -4.63116450e-05])"
      ]
     },
     "execution_count": 178,
     "metadata": {},
     "output_type": "execute_result"
    }
   ],
   "source": [
    "Km_s.value"
   ]
  },
  {
   "cell_type": "code",
   "execution_count": 179,
   "id": "d2553824-cf7e-4608-9562-48bba6cc213c",
   "metadata": {},
   "outputs": [
    {
     "data": {
      "text/plain": [
       "array([ 1.68559254e-05,  1.68559254e-05,  1.49127481e+00, -7.62551598e-04,\n",
       "       -1.21151632e+00, -9.90749863e-05, -7.32268863e-04, -7.32268863e-04])"
      ]
     },
     "execution_count": 179,
     "metadata": {},
     "output_type": "execute_result"
    }
   ],
   "source": [
    "Km_p.value"
   ]
  },
  {
   "cell_type": "markdown",
   "id": "2db77294-ce0c-4874-9ac5-954b940ac8d2",
   "metadata": {},
   "source": [
    "## Checking Haldane and fwd/rev flux ratios are satisfied"
   ]
  },
  {
   "cell_type": "code",
   "execution_count": 180,
   "id": "7bf9b6c8-032f-45db-a73c-188cfbb03736",
   "metadata": {},
   "outputs": [
    {
     "name": "stdout",
     "output_type": "stream",
     "text": [
      "haldane -2.998881143412291e-10\n",
      "forward 6.120751148320714\n",
      "haldane 3.141007454132705e-10\n",
      "forward 2.9957393186803047\n",
      "haldane -1.4722500996100507e-11\n",
      "forward 5.005435585727745\n",
      "haldane -1.5581591572555453e-11\n",
      "forward 2.3026178110690045\n"
     ]
    }
   ],
   "source": [
    "for i, r in enumerate(S.T):\n",
    "    Km_s_idx = np.nonzero(S_s_nz[1, :] == i)\n",
    "    S_s_idx = S_s_nz[0, S_s_nz[1, :] == i] # negate -1 entries\n",
    "    \n",
    "    Km_p_idx = np.nonzero(S_p_nz[1, :] == i)\n",
    "    S_p_idx = S_p_nz[0, S_p_nz[1, :] == i]\n",
    "    \n",
    "    print(\"haldane\", cfwd.value[i] - crev.value[i] + r[S_p_idx] @ Km_p.value[Km_p_idx] - (-r[S_s_idx]) @ Km_s.value[Km_s_idx] - K_eq[i] )\n",
    "    # print(cfwd.value[i], (-r[S_s_idx]), y_s.value[Km_s_idx], crev.value[i], r[S_p_idx],  y_p.value[Km_p_idx])\n",
    "    print(\"forward\", cfwd.value[i] + (-r[S_s_idx]) @ y_s.value[Km_s_idx] - (crev.value[i] + r[S_p_idx] @ y_p.value[Km_p_idx]))"
   ]
  },
  {
   "cell_type": "code",
   "execution_count": 181,
   "id": "7dc38b25-e201-4b6b-a275-25561489b194",
   "metadata": {},
   "outputs": [
    {
     "data": {
      "text/plain": [
       "array([ 6.45014551e+00,  5.21674868e+00,  1.20813836e+00,  5.09807804e+00,\n",
       "       -7.96772764e-06, -1.86133290e+00])"
      ]
     },
     "execution_count": 181,
     "metadata": {},
     "output_type": "execute_result"
    }
   ],
   "source": [
    "y_s.value"
   ]
  },
  {
   "cell_type": "code",
   "execution_count": 182,
   "id": "7d6bf207-f672-4a6f-a191-cc6f0eb648f6",
   "metadata": {},
   "outputs": [
    {
     "data": {
      "text/plain": [
       "array([-3.53968198e-05, -3.53968198e-05,  8.53760309e+00,  7.52887212e-04,\n",
       "       -6.49862892e-01, -1.86128013e+00,  7.31133013e-04,  7.31133013e-04])"
      ]
     },
     "execution_count": 182,
     "metadata": {},
     "output_type": "execute_result"
    }
   ],
   "source": [
    "y_p.value"
   ]
  },
  {
   "cell_type": "markdown",
   "id": "6bc8db34-d4c9-4790-bebb-9dbcaa4bb578",
   "metadata": {},
   "source": [
    "## Checking that objective has been minimized."
   ]
  },
  {
   "cell_type": "markdown",
   "id": "63d99f85-252b-4b52-8f21-383c88191a6f",
   "metadata": {},
   "source": [
    "Need to rearrange terms."
   ]
  },
  {
   "cell_type": "code",
   "execution_count": 183,
   "id": "b3655804-a36b-45ea-a80d-275306b72dfe",
   "metadata": {},
   "outputs": [
    {
     "name": "stdout",
     "output_type": "stream",
     "text": [
      "[[ 82.1570784   10.2567969   25.12093559   5.2634056 ]\n",
      " [100.          20.          30.          10.        ]]\n"
     ]
    }
   ],
   "source": [
    "LSE_expr = []\n",
    "\n",
    "for i in range(n_rxn):\n",
    "    # sum terms are separate in logsumexp. one per saturation term (row in C_alpha, C_beta)\n",
    "    n_term_s = np.sum(d_alpha == i) \n",
    "    n_term_p = np.sum(d_beta == i)\n",
    "    n_term = n_term_s + n_term_p\n",
    "    \n",
    "    Km_s_idx = np.nonzero(S_s_nz[1, :] == i)\n",
    "    S_s_idx = S_s_nz[0, S_s_nz[1, :] == i] # negate -1 entries\n",
    "    \n",
    "    Km_p_idx = np.nonzero(S_p_nz[1, :] == i)\n",
    "    S_p_idx = S_p_nz[0, S_p_nz[1, :] == i]\n",
    "    \n",
    "    \n",
    "    LSE_expr.append(           [ (C_alpha @ y_s.value)[d_alpha == i] - np.multiply(np.ones(n_term_s), -S.T[i, S_s_idx] @ y_s.value[Km_s_idx]) - cfwd.value[i],  \n",
    "                                 (C_beta @ y_p.value)[d_beta == i] - np.multiply(np.ones(n_term_p), -S.T[i, S_s_idx] @ y_s.value[Km_s_idx]) - cfwd.value[i],\n",
    "                                 0 - np.multiply(np.ones(1), -S.T[i, S_s_idx] @ y_s.value[Km_s_idx])  - cfwd.value[i],\n",
    "                                 np.multiply(np.ones(1), S.T[i, S_p_idx] @ y_p.value[Km_p_idx])  + crev.value[i]\n",
    "                                 - np.multiply(np.ones(1), -S.T[i, S_s_idx] @ y_s.value[Km_s_idx])  - cfwd.value[i]\n",
    "                                 #-1*np.ones(n_lse_terms - n_term + 1) \n",
    "                                 #-1*np.ones(n_lse_terms - n_term + 1) \n",
    "                               ]\n",
    "                   )\n",
    "    \n",
    "\n",
    "est = np.zeros(4)    \n",
    "\n",
    "for i, rxn in enumerate(LSE_expr):\n",
    "    s = 0\n",
    "    \n",
    "    for term in rxn:\n",
    "        s += np.sum(np.exp(term))\n",
    "        \n",
    "    est[i] = np.log(s)\n",
    "    \n",
    "\n",
    "# est is obj. \n",
    "print(np.array([np.exp(-est),np.exp(lvE)]))"
   ]
  },
  {
   "cell_type": "markdown",
   "id": "d282711e-4f51-401b-b575-0e1ba82d7150",
   "metadata": {},
   "source": [
    "## How closely does the objective match our target kcats?"
   ]
  },
  {
   "cell_type": "code",
   "execution_count": 184,
   "id": "b87caa09-14b9-44b4-b4da-647b62e5f898",
   "metadata": {},
   "outputs": [
    {
     "name": "stdout",
     "output_type": "stream",
     "text": [
      "[[ 82.1570784   10.2567969   25.12093559   5.2634056 ]\n",
      " [100.          20.          30.          10.        ]]\n"
     ]
    }
   ],
   "source": [
    "print(np.array([np.exp(-est),np.exp(lvE)]))"
   ]
  },
  {
   "cell_type": "markdown",
   "id": "88c231fb-31bf-4347-ad2d-8b9495c745d9",
   "metadata": {},
   "source": [
    "Remarkable. "
   ]
  },
  {
   "cell_type": "markdown",
   "id": "87868215-a91b-442e-b3f3-13121677d5f0",
   "metadata": {},
   "source": [
    "# What do fluxes with reverse flow look like?"
   ]
  },
  {
   "cell_type": "code",
   "execution_count": 185,
   "id": "f148ad8b-a086-440b-9cf3-304bc244e77b",
   "metadata": {},
   "outputs": [],
   "source": [
    "sat_expr = []\n",
    "fwd_sat = np.zeros(n_rxn)\n",
    "back_sat = np.zeros(n_rxn)\n",
    "sat = np.zeros(n_rxn)\n",
    "\n",
    "for i in range(n_rxn):\n",
    "    # sum terms are separate in logsumexp. one per saturation term (row in C_alpha, C_beta)\n",
    "    n_term_s = np.sum(d_alpha == i) \n",
    "    n_term_p = np.sum(d_beta == i)\n",
    "    n_term = n_term_s + n_term_p\n",
    "    \n",
    "    \n",
    "    Km_s_idx = np.nonzero(S_s_nz[1, :] == i)\n",
    "    S_s_idx = S_s_nz[0, S_s_nz[1, :] == i] # negate -1 entries\n",
    "    \n",
    "    Km_p_idx = np.nonzero(S_p_nz[1, :] == i)\n",
    "    S_p_idx = S_p_nz[0, S_p_nz[1, :] == i]\n",
    "    \n",
    "    #S_s_idx = S_s_nz[0, S_s_nz[1, :] == i]\n",
    "    \n",
    "    sat_expr.append(           [ (C_alpha @ y_s.value)[d_alpha == i] ,  \n",
    "                                 (C_beta @ y_p.value)[d_beta == i],\n",
    "                                 0,\n",
    "                                 #-1*np.ones(n_lse_terms - n_term + 1) \n",
    "                               ]\n",
    "                   )\n",
    "    fwd_sat[i] = (np.exp(-S.T[i, S_s_idx] @ y_s.value[Km_s_idx])) # + cfwd.value[i]\n",
    "    back_sat[i] = (np.exp(S.T[i, S_p_idx] @ y_p.value[Km_p_idx])) # + cfwd.value[i]\n",
    "    \n",
    "    \n",
    "\n",
    "for i, rxn in enumerate(sat_expr):\n",
    "    s = 0\n",
    "    \n",
    "    for term in rxn:\n",
    "        s += np.sum(np.exp(term))\n",
    "        \n",
    "    sat[i] = (s)"
   ]
  },
  {
   "cell_type": "code",
   "execution_count": 186,
   "id": "2ec2a988-ad4a-45a1-afda-4006da2b2264",
   "metadata": {},
   "outputs": [
    {
     "data": {
      "text/plain": [
       "array([0.09141673, 0.9817371 , 0.13197119, 0.46393321])"
      ]
     },
     "execution_count": 186,
     "metadata": {},
     "output_type": "execute_result"
    }
   ],
   "source": [
    "fwd_sat/sat"
   ]
  },
  {
   "cell_type": "code",
   "execution_count": 187,
   "id": "52799b3c-90c6-49b3-b13b-ccf121d34636",
   "metadata": {},
   "outputs": [
    {
     "data": {
      "text/plain": [
       "array([0.22023099, 0.00313345, 0.00461185, 0.07212988])"
      ]
     },
     "execution_count": 187,
     "metadata": {},
     "output_type": "execute_result"
    }
   ],
   "source": [
    "back_sat/sat"
   ]
  },
  {
   "cell_type": "code",
   "execution_count": 188,
   "id": "01dc4162-6b77-4dd2-9bef-333d4f05aed6",
   "metadata": {},
   "outputs": [
    {
     "data": {
      "text/plain": [
       "array([100.25062112,  21.05410455,  30.20599317,  11.11181114])"
      ]
     },
     "execution_count": 188,
     "metadata": {},
     "output_type": "execute_result"
    }
   ],
   "source": [
    "np.exp(cfwd.value) * fwd_sat/sat "
   ]
  },
  {
   "cell_type": "code",
   "execution_count": 189,
   "id": "a721b1a5-a03f-4cb7-a96a-1959c053bf39",
   "metadata": {},
   "outputs": [
    {
     "data": {
      "text/plain": [
       "array([100.03039003,  20.00140674,  30.00357008,  10.00066638])"
      ]
     },
     "execution_count": 189,
     "metadata": {},
     "output_type": "execute_result"
    }
   ],
   "source": [
    "np.exp(cfwd.value) * fwd_sat/sat - np.exp(crev.value) * back_sat/sat"
   ]
  },
  {
   "cell_type": "code",
   "execution_count": 190,
   "id": "e606bbac-e82b-4853-a474-d6dde1be1ac5",
   "metadata": {},
   "outputs": [
    {
     "data": {
      "text/plain": [
       "array([0.22023109, 1.05269781, 0.2024231 , 1.11114476])"
      ]
     },
     "execution_count": 190,
     "metadata": {},
     "output_type": "execute_result"
    }
   ],
   "source": [
    "np.exp(crev.value) * back_sat/sat"
   ]
  },
  {
   "cell_type": "code",
   "execution_count": 191,
   "id": "6bcd27a4-3909-4845-b18a-ddcd03197ca7",
   "metadata": {},
   "outputs": [
    {
     "name": "stdout",
     "output_type": "stream",
     "text": [
      "Substrate Km: ['1.000', '3.432', '1.000', '138.490', '1.000', '1.000']\n",
      "Product Km: ['1.000', '1.000', '4.443', '0.999', '0.298', '1.000', '0.999', '0.999']\n",
      "Fwd kcat: ['1096.633', '21.446', '228.883', '23.951']\n",
      "Rev kcat: ['1.000', '335.955', '43.892', '15.405']\n",
      "Concentrations: ['632.659', '3.346', '1.000', '1.000', '22671.817', '1.000', '0.155', '1.000', '1.000']\n"
     ]
    }
   ],
   "source": [
    "print('Substrate Km:', [f'{val:.3f}' for val in np.exp(Km_s.value)])\n",
    "print('Product Km:', [f'{val:.3f}' for val in np.exp(Km_p.value)])\n",
    "print('Fwd kcat:', [f'{val:.3f}' for val in np.exp(cfwd.value)])\n",
    "print('Rev kcat:', [f'{val:.3f}' for val in np.exp(crev.value)])\n",
    "print('Concentrations:', [f'{val:.3f}' for val in np.exp(c.value)])"
   ]
  },
  {
   "cell_type": "markdown",
   "id": "0f7dc10a-2a69-4c96-9f1e-7d6604c0803a",
   "metadata": {},
   "source": [
    "# Bigger network"
   ]
  },
  {
   "cell_type": "code",
   "execution_count": 204,
   "id": "7abaaa02-b962-4a16-b026-34e968233bce",
   "metadata": {},
   "outputs": [],
   "source": [
    "rxns_names = ['PGLUCISOM-RXN', '6PFRUCTPHOS-RXN', 'F16ALDOLASE-RXN', \n",
    "              '2TRANSKETO-RXN', 'TRIOSEPISOMERIZATION-RXN', 'GAPOXNPHOSPHN-RXN', 'PHOSGLYPHOS-RXN', '3PGAREARR-RXN',\n",
    "             '2PGADEHYDRAT-RXN', 'PEPDEPHOS-RXN']\n"
   ]
  },
  {
   "cell_type": "code",
   "execution_count": 205,
   "id": "f1c95d68-463e-4e70-a98c-741b2b9ec554",
   "metadata": {},
   "outputs": [],
   "source": [
    "s = requests.Session() # create session\n",
    "# Post login credentials to session:\n",
    "s.post('https://websvc.biocyc.org/credentials/login/', data={'email':'cellulararchitect@protonmail.com', 'password':'Cellman0451'})\n",
    "# Issue web service request:\n",
    "r = s.get('https://websvc.biocyc.org/getxml?id=ECOLI:6PFRUCTPHOS-RXN&detail=low&fmt=json')"
   ]
  },
  {
   "cell_type": "code",
   "execution_count": 207,
   "id": "c59c33b0-a62a-43e3-b39c-01532c623abe",
   "metadata": {},
   "outputs": [
    {
     "data": {
      "text/plain": [
       "{'PGLUCISOM-RXN': <equilibrator_api.phased_reaction.PhasedReaction at 0x288e6d190>,\n",
       " '6PFRUCTPHOS-RXN': <equilibrator_api.phased_reaction.PhasedReaction at 0x288e6d100>,\n",
       " 'F16ALDOLASE-RXN': <equilibrator_api.phased_reaction.PhasedReaction at 0x288e71b50>,\n",
       " '2TRANSKETO-RXN': <equilibrator_api.phased_reaction.PhasedReaction at 0x288e4e640>,\n",
       " 'TRIOSEPISOMERIZATION-RXN': <equilibrator_api.phased_reaction.PhasedReaction at 0x288e79610>,\n",
       " 'GAPOXNPHOSPHN-RXN': <equilibrator_api.phased_reaction.PhasedReaction at 0x288e4e4f0>,\n",
       " 'PHOSGLYPHOS-RXN': <equilibrator_api.phased_reaction.PhasedReaction at 0x17f040610>,\n",
       " '3PGAREARR-RXN': <equilibrator_api.phased_reaction.PhasedReaction at 0x17f032d90>,\n",
       " '2PGADEHYDRAT-RXN': <equilibrator_api.phased_reaction.PhasedReaction at 0x17ef20910>,\n",
       " 'PEPDEPHOS-RXN': <equilibrator_api.phased_reaction.PhasedReaction at 0x17f032e80>}"
      ]
     },
     "execution_count": 207,
     "metadata": {},
     "output_type": "execute_result"
    }
   ],
   "source": [
    "rxns_dict = {}\n",
    "stoich_dict = {}\n",
    "\n",
    "for name in rxns_names:\n",
    "    r = s.get(f'https://websvc.biocyc.org/getxml?id=ECOLI:{name}&detail=low&fmt=json')\n",
    "    rxn = xmltodict.parse(r.content)\n",
    "\n",
    "    rxn_dict = {}\n",
    "    stoich_loop_dict = {}\n",
    "    left = rxn['ptools-xml']['Reaction']['left']\n",
    "    right = rxn['ptools-xml']['Reaction']['right']\n",
    "    \n",
    "    if type(left) is dict:\n",
    "        left = [left]\n",
    "    \n",
    "    if type(right) is dict:\n",
    "        right = [right]\n",
    "    \n",
    "    for mol in left:\n",
    "        if type(mol) is dict:\n",
    "            cid = mol['Compound']['@frameid']\n",
    "            mol_cc = cc.get_compound(f\"metacyc.compound:{cid}\")\n",
    "            rxn_dict[mol_cc] = -1\n",
    "            stoich_loop_dict[cid] = -1\n",
    "\n",
    "    for mol in right:\n",
    "        if type(mol) is dict:\n",
    "            cid = mol['Compound']['@frameid']\n",
    "            mol_cc = cc.get_compound(f\"metacyc.compound:{cid}\")\n",
    "            rxn_dict[mol_cc] =  1\n",
    "            stoich_loop_dict[cid] = 1\n",
    "    \n",
    "    rxns_dict[name] = Reaction(rxn_dict)\n",
    "    stoich_dict[name] = stoich_loop_dict\n",
    "    \n",
    "rxns_dict"
   ]
  },
  {
   "cell_type": "code",
   "execution_count": 208,
   "id": "e3e4ddc1-7e2d-4953-959b-10b652921dea",
   "metadata": {},
   "outputs": [
    {
     "data": {
      "text/plain": [
       "array([1.59075969e+00, 4.87556287e+03, 1.37137368e-04, 1.10096201e+01,\n",
       "       9.64363243e+00, 6.25653428e-01, 3.75692596e-04, 6.08165392e+00,\n",
       "       4.65230074e+00, 4.12248676e-05])"
      ]
     },
     "execution_count": 208,
     "metadata": {},
     "output_type": "execute_result"
    }
   ],
   "source": [
    "(standard_dg_prime, dg_uncertainty) = cc.standard_dg_prime_multi(list(rxns_dict.values()), uncertainty_representation=\"cov\")\n",
    "R = 0.008314 # kJ/mol*K\n",
    "T = 298.15 # K\n",
    "\n",
    "dG = standard_dg_prime._magnitude\n",
    "keq = np.exp(-dG/(R*T))\n",
    "keq"
   ]
  },
  {
   "cell_type": "code",
   "execution_count": null,
   "id": "cdb0e411-b499-424d-b55d-b4236264feca",
   "metadata": {},
   "outputs": [],
   "source": []
  }
 ],
 "metadata": {
  "kernelspec": {
   "display_name": "Python 3 (ipykernel)",
   "language": "python",
   "name": "python3"
  },
  "language_info": {
   "codemirror_mode": {
    "name": "ipython",
    "version": 3
   },
   "file_extension": ".py",
   "mimetype": "text/x-python",
   "name": "python",
   "nbconvert_exporter": "python",
   "pygments_lexer": "ipython3",
   "version": "3.9.9"
  }
 },
 "nbformat": 4,
 "nbformat_minor": 5
}
