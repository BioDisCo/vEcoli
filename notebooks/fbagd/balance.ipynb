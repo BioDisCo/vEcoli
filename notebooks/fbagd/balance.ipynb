{
 "cells": [
  {
   "cell_type": "code",
   "execution_count": 192,
   "id": "89c876b4-8497-499f-a413-26ad32cec39e",
   "metadata": {},
   "outputs": [],
   "source": [
    "import numpy as np\n",
    "import seaborn as sns\n",
    "import pandas as pd\n",
    "import os\n",
    "from inspect import getmembers\n",
    "import matplotlib.pyplot as plt\n",
    "import networkx as nx\n",
    "from sklearn.preprocessing import MinMaxScaler, StandardScaler\n",
    "import dill\n",
    "from equilibrator_api import ComponentContribution, Q_, Reaction\n",
    "import requests\n",
    "import xmltodict\n",
    "import pint\n",
    "import cvxpy as cp\n",
    "import itertools\n",
    "\n",
    "sns.set(style='darkgrid', palette='viridis', context='talk')\n",
    "\n",
    "os.chdir(os.path.expanduser('~/vivarium-ecoli'))"
   ]
  },
  {
   "cell_type": "markdown",
   "id": "82a34091-b89a-4a8b-b49e-ce86aeab25c6",
   "metadata": {},
   "source": [
    "A + B -E1> C -E2> D\n",
    "\n",
    "B -E3> F\n",
    "\n",
    "A -E4> G"
   ]
  },
  {
   "cell_type": "markdown",
   "id": "2cc077b2-8c38-4065-b306-2e91611fd975",
   "metadata": {},
   "source": [
    "# Testing eQuilibrator"
   ]
  },
  {
   "cell_type": "code",
   "execution_count": 2,
   "id": "77f87609-2312-4734-8970-05177c5c3434",
   "metadata": {},
   "outputs": [],
   "source": [
    "cc = ComponentContribution()\n",
    "\n",
    "# optional: changing the aqueous environment parameters\n",
    "cc.p_h = Q_(7.4)\n",
    "cc.p_mg = Q_(3.0)\n",
    "cc.ionic_strength = Q_(\"0.25M\")\n",
    "cc.temperature = Q_(\"298.15K\")\n",
    "\n"
   ]
  },
  {
   "cell_type": "code",
   "execution_count": 3,
   "id": "90008655-107b-487c-b60b-a98b12137dd6",
   "metadata": {},
   "outputs": [],
   "source": [
    "from equilibrator_api import Reaction\n",
    "compound_ids = [\"WATER\", \"ADP\", \"ATP\", \"Pi\"]\n",
    "compound_dict = {cid : cc.get_compound(f\"metacyc.compound:{cid}\") for cid in compound_ids}\n",
    "atpase_reaction = Reaction({\n",
    "    compound_dict[\"ATP\"]: -1,\n",
    "    compound_dict[\"WATER\"]: -1,\n",
    "    compound_dict[\"ADP\"]: 1,\n",
    "    compound_dict[\"Pi\"]: 1,\n",
    "})"
   ]
  },
  {
   "cell_type": "code",
   "execution_count": 4,
   "id": "ac886c79-121d-4d77-9ba0-eb4b25d19039",
   "metadata": {},
   "outputs": [
    {
     "data": {
      "text/html": [
       "(-29.14 &plusmn; 0.30) kilojoule/mole"
      ],
      "text/latex": [
       "$\\left(-29.14 \\pm 0.30\\right)\\ \\frac{\\mathrm{kilojoule}}{\\mathrm{mole}}$"
      ],
      "text/plain": [
       "<Measurement(-29.144472212600157, 0.3042778553577678, kilojoule / mole)>"
      ]
     },
     "execution_count": 4,
     "metadata": {},
     "output_type": "execute_result"
    }
   ],
   "source": [
    "standard_dg_prime = cc.standard_dg_prime(atpase_reaction)\n",
    "standard_dg_prime"
   ]
  },
  {
   "cell_type": "code",
   "execution_count": 5,
   "id": "c6be2265-c9ec-45cf-8b87-8ca2df1376dd",
   "metadata": {},
   "outputs": [
    {
     "name": "stdout",
     "output_type": "stream",
     "text": [
      "(-44.8 +/- 0.6) kilojoule / mole\n"
     ]
    }
   ],
   "source": [
    "cytoplasmic_p_h = Q_(7.5)\n",
    "cytoplasmic_ionic_strength = Q_(\"250 mM\")\n",
    "periplasmic_p_h = Q_(7.0)\n",
    "periplasmic_ionic_strength = Q_(\"200 mM\")\n",
    "e_potential_difference = Q_(\"0.15 V\")\n",
    "cytoplasmic_reaction = \"bigg.metabolite:pep = bigg.metabolite:g6p + bigg.metabolite:pyr\"\n",
    "periplasmic_reaction = \"bigg.metabolite:glc__D = \"\n",
    "\n",
    "cc = ComponentContribution()\n",
    "cc.p_h = cytoplasmic_p_h\n",
    "cc.ionic_strength = cytoplasmic_ionic_strength\n",
    "standard_dg_prime = cc.multicompartmental_standard_dg_prime(\n",
    "    cc.parse_reaction_formula(cytoplasmic_reaction),\n",
    "    cc.parse_reaction_formula(periplasmic_reaction),\n",
    "    e_potential_difference=e_potential_difference,\n",
    "    p_h_outer=periplasmic_p_h,\n",
    "    ionic_strength_outer=periplasmic_ionic_strength,\n",
    ")\n",
    "\n",
    "print(standard_dg_prime)\n"
   ]
  },
  {
   "cell_type": "code",
   "execution_count": 6,
   "id": "3c97b6b4-77e2-4ddb-926c-b39f4780811b",
   "metadata": {},
   "outputs": [],
   "source": [
    "cc.get_compound_by_inchi(\"WQZGKKKJIJFFOK-GASJEMHNSA-N\")"
   ]
  },
  {
   "cell_type": "markdown",
   "id": "fb140010-52ab-4edd-844e-a3645b3d5a41",
   "metadata": {},
   "source": [
    "# Toy example with fake data"
   ]
  },
  {
   "cell_type": "code",
   "execution_count": 7,
   "id": "6cd11cad-2e4b-4cb7-bec6-6d3e4f7b21bd",
   "metadata": {},
   "outputs": [],
   "source": [
    "s = requests.Session() # create session\n",
    "# Post login credentials to session:\n",
    "s.post('https://websvc.biocyc.org/credentials/login/', data={'email':'cellulararchitect@protonmail.com', 'password':'Cellman0451'})\n",
    "# Issue web service request:\n",
    "r = s.get('https://websvc.biocyc.org/getxml?id=ECOLI:6PFRUCTPHOS-RXN&detail=low&fmt=json')"
   ]
  },
  {
   "cell_type": "code",
   "execution_count": 19,
   "id": "80b980bf-1e2a-40bc-ba55-9199e49bd923",
   "metadata": {},
   "outputs": [
    {
     "data": {
      "text/plain": [
       "[{'Compound': {'@resource': 'getxml?ECOLI:PROTON',\n",
       "   '@orgid': 'ECOLI',\n",
       "   '@frameid': 'PROTON'}},\n",
       " {'Compound': {'@resource': 'getxml?ECOLI:ADP',\n",
       "   '@orgid': 'ECOLI',\n",
       "   '@frameid': 'ADP'}},\n",
       " {'Compound': {'@resource': 'getxml?ECOLI:FRUCTOSE-16-DIPHOSPHATE',\n",
       "   '@orgid': 'ECOLI',\n",
       "   '@frameid': 'FRUCTOSE-16-DIPHOSPHATE'}}]"
      ]
     },
     "execution_count": 19,
     "metadata": {},
     "output_type": "execute_result"
    }
   ],
   "source": [
    "rxn = xmltodict.parse(r.content)\n",
    "rxn['ptools-xml']['Reaction']['right']"
   ]
  },
  {
   "cell_type": "code",
   "execution_count": 25,
   "id": "a2d44237-329f-44b8-a7aa-d02bf1b7d5d4",
   "metadata": {},
   "outputs": [
    {
     "data": {
      "text/plain": [
       "'FRUCTOSE-6P'"
      ]
     },
     "execution_count": 25,
     "metadata": {},
     "output_type": "execute_result"
    }
   ],
   "source": [
    "rxn['ptools-xml']['Reaction']['left'][0]['Compound']['@frameid']"
   ]
  },
  {
   "cell_type": "code",
   "execution_count": 52,
   "id": "339ecaa5-287e-4481-b15a-90f3dcfecf77",
   "metadata": {},
   "outputs": [
    {
     "data": {
      "text/plain": [
       "{'Compound': {'@resource': 'getxml?ECOLI:FRUCTOSE-16-DIPHOSPHATE',\n",
       "  '@orgid': 'ECOLI',\n",
       "  '@frameid': 'FRUCTOSE-16-DIPHOSPHATE'}}"
      ]
     },
     "execution_count": 52,
     "metadata": {},
     "output_type": "execute_result"
    }
   ],
   "source": [
    "r = s.get(f'https://websvc.biocyc.org/getxml?id=ECOLI:F16ALDOLASE-RXN&detail=low&fmt=json')\n",
    "rxn = xmltodict.parse(r.content)\n",
    "rxn['ptools-xml']['Reaction']['left']"
   ]
  },
  {
   "cell_type": "code",
   "execution_count": 90,
   "id": "837d6516-fa3c-4b71-ba39-4a98bb9689d3",
   "metadata": {},
   "outputs": [
    {
     "data": {
      "text/plain": [
       "{'6PFRUCTPHOS-RXN': <equilibrator_api.phased_reaction.PhasedReaction at 0x17fbcf3d0>,\n",
       " 'F16ALDOLASE-RXN': <equilibrator_api.phased_reaction.PhasedReaction at 0x2876a6c70>,\n",
       " '2TRANSKETO-RXN': <equilibrator_api.phased_reaction.PhasedReaction at 0x28918cee0>,\n",
       " 'TRIOSEPISOMERIZATION-RXN': <equilibrator_api.phased_reaction.PhasedReaction at 0x107ad9df0>}"
      ]
     },
     "execution_count": 90,
     "metadata": {},
     "output_type": "execute_result"
    }
   ],
   "source": [
    "rxns_names = ['6PFRUCTPHOS-RXN', 'F16ALDOLASE-RXN', '2TRANSKETO-RXN', 'TRIOSEPISOMERIZATION-RXN']\n",
    "\n",
    "rxns_dict = {}\n",
    "stoich_dict = {}\n",
    "\n",
    "for name in rxns_names:\n",
    "    r = s.get(f'https://websvc.biocyc.org/getxml?id=ECOLI:{name}&detail=low&fmt=json')\n",
    "    rxn = xmltodict.parse(r.content)\n",
    "\n",
    "    rxn_dict = {}\n",
    "    stoich_loop_dict = {}\n",
    "    left = rxn['ptools-xml']['Reaction']['left']\n",
    "    right = rxn['ptools-xml']['Reaction']['right']\n",
    "    \n",
    "    if type(left) is dict:\n",
    "        left = [left]\n",
    "    \n",
    "    if type(right) is dict:\n",
    "        right = [right]\n",
    "    \n",
    "    for mol in left:\n",
    "        if type(mol) is dict:\n",
    "            cid = mol['Compound']['@frameid']\n",
    "            mol_cc = cc.get_compound(f\"metacyc.compound:{cid}\")\n",
    "            rxn_dict[mol_cc] = -1\n",
    "            stoich_loop_dict[cid] = -1\n",
    "\n",
    "    for mol in right:\n",
    "        if type(mol) is dict:\n",
    "            cid = mol['Compound']['@frameid']\n",
    "            mol_cc = cc.get_compound(f\"metacyc.compound:{cid}\")\n",
    "            rxn_dict[mol_cc] =  1\n",
    "            stoich_loop_dict[cid] = 1\n",
    "    \n",
    "    rxns_dict[name] = Reaction(rxn_dict)\n",
    "    stoich_dict[name] = stoich_loop_dict\n",
    "    \n",
    "rxns_dict"
   ]
  },
  {
   "cell_type": "code",
   "execution_count": 56,
   "id": "aeffc1b2-e63e-49b2-82e7-cbc629dbbc7d",
   "metadata": {},
   "outputs": [
    {
     "data": {
      "text/plain": [
       "[<equilibrator_api.phased_reaction.PhasedReaction at 0x287e785b0>,\n",
       " <equilibrator_api.phased_reaction.PhasedReaction at 0x107cb8ac0>,\n",
       " <equilibrator_api.phased_reaction.PhasedReaction at 0x287e7ae20>,\n",
       " <equilibrator_api.phased_reaction.PhasedReaction at 0x2878faa00>]"
      ]
     },
     "execution_count": 56,
     "metadata": {},
     "output_type": "execute_result"
    }
   ],
   "source": [
    "list(rxns_dict.values())"
   ]
  },
  {
   "cell_type": "code",
   "execution_count": 57,
   "id": "5e072326-7492-4a26-adba-02158fcedf0e",
   "metadata": {},
   "outputs": [],
   "source": [
    "(standard_dg_prime, dg_uncertainty) = cc.standard_dg_prime_multi(list(rxns_dict.values()), uncertainty_representation=\"cov\")"
   ]
  },
  {
   "cell_type": "code",
   "execution_count": 58,
   "id": "748784e9-37fa-4e06-8fa9-88b497816064",
   "metadata": {},
   "outputs": [
    {
     "data": {
      "text/html": [
       "<table><tbody><tr><th>Magnitude</th><td style='text-align:left;'><pre>[-21.05010908198642 22.047924530096907 -5.946115510564027<br> -5.617742386692498]</pre></td></tr><tr><th>Units</th><td style='text-align:left;'>kilojoule/mole</td></tr></tbody></table>"
      ],
      "text/latex": [
       "$\\begin{pmatrix}-21.05010908198642 & 22.047924530096907 & -5.946115510564027 & -5.617742386692498\\end{pmatrix}\\ \\frac{\\mathrm{kilojoule}}{\\mathrm{mole}}$"
      ],
      "text/plain": [
       "array([-21.05010908,  22.04792453,  -5.94611551,  -5.61774239]) <Unit('kilojoule / mole')>"
      ]
     },
     "execution_count": 58,
     "metadata": {},
     "output_type": "execute_result"
    }
   ],
   "source": [
    "standard_dg_prime"
   ]
  },
  {
   "cell_type": "code",
   "execution_count": 59,
   "id": "11142f27-1260-4d21-97bc-42c00f4920f6",
   "metadata": {},
   "outputs": [
    {
     "data": {
      "text/html": [
       "<table><tbody><tr><th>Magnitude</th><td style='text-align:left;'><pre>[[1.5398212990074922 -2.2167471180569773 0.6541085596545129<br>  -0.004664260811860303]<br> [-2.2167471180569773 5.286946034707553 -2.4322877177623594<br>  -0.1291182736017488]<br> [0.6541085596545129 -2.4322877177623594 5.547270812427002<br>  -0.08893998540652082]<br> [-0.004664260811860303 -0.1291182736017488 -0.08893998540652082<br>  0.3010346102557717]]</pre></td></tr><tr><th>Units</th><td style='text-align:left;'>kilojoule<sup>2</sup>/mole<sup>2</sup></td></tr></tbody></table>"
      ],
      "text/latex": [
       "$\\begin{pmatrix}1.5398212990074922 & -2.2167471180569773 & 0.6541085596545129 & -0.004664260811860303\\\\ \n",
       "-2.2167471180569773 & 5.286946034707553 & -2.4322877177623594 & -0.1291182736017488\\\\ \n",
       "0.6541085596545129 & -2.4322877177623594 & 5.547270812427002 & -0.08893998540652082\\\\ \n",
       "-0.004664260811860303 & -0.1291182736017488 & -0.08893998540652082 & 0.3010346102557717\\end{pmatrix}\\ \\frac{\\mathrm{kilojoule}^{2}}{\\mathrm{mole}^{2}}$"
      ],
      "text/plain": [
       "array([[ 1.53982130e+00, -2.21674712e+00,  6.54108560e-01,\n",
       "        -4.66426081e-03],\n",
       "       [-2.21674712e+00,  5.28694603e+00, -2.43228772e+00,\n",
       "        -1.29118274e-01],\n",
       "       [ 6.54108560e-01, -2.43228772e+00,  5.54727081e+00,\n",
       "        -8.89399854e-02],\n",
       "       [-4.66426081e-03, -1.29118274e-01, -8.89399854e-02,\n",
       "         3.01034610e-01]]) <Unit('kilojoule ** 2 / mole ** 2')>"
      ]
     },
     "execution_count": 59,
     "metadata": {},
     "output_type": "execute_result"
    }
   ],
   "source": [
    "dg_uncertainty"
   ]
  },
  {
   "cell_type": "code",
   "execution_count": 61,
   "id": "320ca8b3-34c3-4bfe-b43b-e71e5d5685bc",
   "metadata": {},
   "outputs": [],
   "source": [
    "R = 0.008314 # kJ/mol*K\n",
    "T = 298.15 # K"
   ]
  },
  {
   "cell_type": "code",
   "execution_count": 75,
   "id": "6c217eee-8beb-4c13-82d5-200b12d4add9",
   "metadata": {},
   "outputs": [
    {
     "data": {
      "text/plain": [
       "array([4.87556287e+03, 1.37137368e-04, 1.10096201e+01, 9.64363243e+00])"
      ]
     },
     "execution_count": 75,
     "metadata": {},
     "output_type": "execute_result"
    }
   ],
   "source": [
    "dG = standard_dg_prime._magnitude\n",
    "\n",
    "keq = np.exp(-dG/(R*T))\n",
    "keq"
   ]
  },
  {
   "cell_type": "code",
   "execution_count": 76,
   "id": "85b02a39-ec4e-4b27-b6ac-7eeae4e0cd7f",
   "metadata": {},
   "outputs": [
    {
     "data": {
      "text/plain": [
       "{'_magnitude': array([-21.05010908,  22.04792453,  -5.94611551,  -5.61774239]),\n",
       " '_units': <UnitsContainer({'kilojoule': 1, 'mole': -1})>,\n",
       " '_Quantity__used': False,\n",
       " '_Quantity__handling': None,\n",
       " '_dimensionality': <UnitsContainer({'[length]': 2, '[mass]': 1, '[substance]': -1, '[time]': -2})>}"
      ]
     },
     "execution_count": 76,
     "metadata": {},
     "output_type": "execute_result"
    }
   ],
   "source": [
    "vars(standard_dg_prime)"
   ]
  },
  {
   "cell_type": "markdown",
   "id": "3a19ac18-e8ce-4653-9976-3946c1227c85",
   "metadata": {},
   "source": [
    "# Set up problem"
   ]
  },
  {
   "cell_type": "markdown",
   "id": "35cf3980-20e4-4ec8-bb2f-e6afe9933e92",
   "metadata": {},
   "source": [
    "Stochiometric matrix:"
   ]
  },
  {
   "cell_type": "code",
   "execution_count": 234,
   "id": "ad0c9880-fd76-40d6-9d15-3bb61f96e3e9",
   "metadata": {},
   "outputs": [
    {
     "data": {
      "text/html": [
       "<div>\n",
       "<style scoped>\n",
       "    .dataframe tbody tr th:only-of-type {\n",
       "        vertical-align: middle;\n",
       "    }\n",
       "\n",
       "    .dataframe tbody tr th {\n",
       "        vertical-align: top;\n",
       "    }\n",
       "\n",
       "    .dataframe thead th {\n",
       "        text-align: right;\n",
       "    }\n",
       "</style>\n",
       "<table border=\"1\" class=\"dataframe\">\n",
       "  <thead>\n",
       "    <tr style=\"text-align: right;\">\n",
       "      <th></th>\n",
       "      <th>6PFRUCTPHOS-RXN</th>\n",
       "      <th>F16ALDOLASE-RXN</th>\n",
       "      <th>2TRANSKETO-RXN</th>\n",
       "      <th>TRIOSEPISOMERIZATION-RXN</th>\n",
       "    </tr>\n",
       "  </thead>\n",
       "  <tbody>\n",
       "    <tr>\n",
       "      <th>FRUCTOSE-6P</th>\n",
       "      <td>-1</td>\n",
       "      <td>0</td>\n",
       "      <td>1</td>\n",
       "      <td>0</td>\n",
       "    </tr>\n",
       "    <tr>\n",
       "      <th>ATP</th>\n",
       "      <td>-1</td>\n",
       "      <td>0</td>\n",
       "      <td>0</td>\n",
       "      <td>0</td>\n",
       "    </tr>\n",
       "    <tr>\n",
       "      <th>PROTON</th>\n",
       "      <td>1</td>\n",
       "      <td>0</td>\n",
       "      <td>0</td>\n",
       "      <td>0</td>\n",
       "    </tr>\n",
       "    <tr>\n",
       "      <th>ADP</th>\n",
       "      <td>1</td>\n",
       "      <td>0</td>\n",
       "      <td>0</td>\n",
       "      <td>0</td>\n",
       "    </tr>\n",
       "    <tr>\n",
       "      <th>FRUCTOSE-16-DIPHOSPHATE</th>\n",
       "      <td>1</td>\n",
       "      <td>-1</td>\n",
       "      <td>0</td>\n",
       "      <td>0</td>\n",
       "    </tr>\n",
       "    <tr>\n",
       "      <th>DIHYDROXY-ACETONE-PHOSPHATE</th>\n",
       "      <td>0</td>\n",
       "      <td>1</td>\n",
       "      <td>0</td>\n",
       "      <td>1</td>\n",
       "    </tr>\n",
       "    <tr>\n",
       "      <th>GAP</th>\n",
       "      <td>0</td>\n",
       "      <td>1</td>\n",
       "      <td>1</td>\n",
       "      <td>-1</td>\n",
       "    </tr>\n",
       "    <tr>\n",
       "      <th>ERYTHROSE-4P</th>\n",
       "      <td>0</td>\n",
       "      <td>0</td>\n",
       "      <td>-1</td>\n",
       "      <td>0</td>\n",
       "    </tr>\n",
       "    <tr>\n",
       "      <th>XYLULOSE-5-PHOSPHATE</th>\n",
       "      <td>0</td>\n",
       "      <td>0</td>\n",
       "      <td>-1</td>\n",
       "      <td>0</td>\n",
       "    </tr>\n",
       "  </tbody>\n",
       "</table>\n",
       "</div>"
      ],
      "text/plain": [
       "                             6PFRUCTPHOS-RXN  F16ALDOLASE-RXN  2TRANSKETO-RXN  \\\n",
       "FRUCTOSE-6P                               -1                0               1   \n",
       "ATP                                       -1                0               0   \n",
       "PROTON                                     1                0               0   \n",
       "ADP                                        1                0               0   \n",
       "FRUCTOSE-16-DIPHOSPHATE                    1               -1               0   \n",
       "DIHYDROXY-ACETONE-PHOSPHATE                0                1               0   \n",
       "GAP                                        0                1               1   \n",
       "ERYTHROSE-4P                               0                0              -1   \n",
       "XYLULOSE-5-PHOSPHATE                       0                0              -1   \n",
       "\n",
       "                             TRIOSEPISOMERIZATION-RXN  \n",
       "FRUCTOSE-6P                                         0  \n",
       "ATP                                                 0  \n",
       "PROTON                                              0  \n",
       "ADP                                                 0  \n",
       "FRUCTOSE-16-DIPHOSPHATE                             0  \n",
       "DIHYDROXY-ACETONE-PHOSPHATE                         1  \n",
       "GAP                                                -1  \n",
       "ERYTHROSE-4P                                        0  \n",
       "XYLULOSE-5-PHOSPHATE                                0  "
      ]
     },
     "execution_count": 234,
     "metadata": {},
     "output_type": "execute_result"
    }
   ],
   "source": [
    "Sd = pd.DataFrame(stoich_dict, dtype=np.int8).fillna(0).astype(np.int8)\n",
    "\n",
    "n_met = len(Sd.index)\n",
    "n_rxn = len(Sd.columns)\n",
    "\n",
    "Sd"
   ]
  },
  {
   "cell_type": "code",
   "execution_count": 210,
   "id": "547db931-e727-4c7b-aa7f-a09b80fee71e",
   "metadata": {},
   "outputs": [],
   "source": [
    "S = np.array(Sd)\n",
    "S_s = np.copy(S)\n",
    "S_p = -np.copy(S) #reverse neg sign\n",
    "S_s[S < 0] = 0\n",
    "S_p[S > 0] = 0\n",
    "\n",
    "S_s_nz = np.array(S_s.nonzero())\n",
    "S_p_nz = np.array(S_p.nonzero())\n",
    "\n",
    "c_s_nz = S_s_nz[0, :]\n",
    "c_p_nz = S_p_nz[0, :]\n",
    "\n",
    "n_Km_s = np.max(S_s_nz.shape) \n",
    "n_Km_p = np.max(S_p_nz.shape)"
   ]
  },
  {
   "cell_type": "code",
   "execution_count": 211,
   "id": "49752f3e-9807-4d75-9108-21f7f90e7dec",
   "metadata": {},
   "outputs": [],
   "source": [
    "c = cp.Variable(n_met)\n",
    "Km_s = cp.Variable(n_Km_s)\n",
    "Km_p = cp.Variable(n_Km_p)"
   ]
  },
  {
   "cell_type": "code",
   "execution_count": 257,
   "id": "cc55c7dc-d7f2-48d0-b5ba-c88111b57d88",
   "metadata": {},
   "outputs": [
    {
     "data": {
      "text/plain": [
       "array([0, 2, 3, 4, 5, 5, 6, 6])"
      ]
     },
     "execution_count": 257,
     "metadata": {},
     "output_type": "execute_result"
    }
   ],
   "source": [
    "c_s_nz"
   ]
  },
  {
   "cell_type": "code",
   "execution_count": 212,
   "id": "601045f5-8c98-4be2-af90-52c769460375",
   "metadata": {},
   "outputs": [],
   "source": [
    "y_s = c[c_s_nz] - Km_s\n",
    "y_p = c[c_p_nz] - Km_p"
   ]
  },
  {
   "cell_type": "code",
   "execution_count": 267,
   "id": "84d20b2c-fe4d-461f-a480-97d14cddf973",
   "metadata": {},
   "outputs": [
    {
     "data": {
      "text/plain": [
       "Expression(AFFINE, UNKNOWN, (8,))"
      ]
     },
     "execution_count": 267,
     "metadata": {},
     "output_type": "execute_result"
    }
   ],
   "source": [
    "y_s"
   ]
  },
  {
   "cell_type": "code",
   "execution_count": 213,
   "id": "729dcbd7-b03d-41a3-a667-94d71a18d00a",
   "metadata": {},
   "outputs": [
    {
     "data": {
      "text/plain": [
       "array([[0, 1],\n",
       "       [1, 0],\n",
       "       [1, 1]])"
      ]
     },
     "execution_count": 213,
     "metadata": {},
     "output_type": "execute_result"
    }
   ],
   "source": [
    "sat_perm = np.array(list(itertools.product([0, 1], repeat=2)))\n",
    "sat_perm[1:, :]"
   ]
  },
  {
   "cell_type": "code",
   "execution_count": 216,
   "id": "42493beb-4d9f-4b87-83e7-50c2bc75da32",
   "metadata": {},
   "outputs": [],
   "source": [
    "n_alpha = np.sum(np.power(2, S_s.sum(axis=0)) - 1)\n",
    "n_beta = np.sum(np.power(2, S_p.sum(axis=0)) - 1)"
   ]
  },
  {
   "cell_type": "code",
   "execution_count": 268,
   "id": "a271690d-0fa0-47a7-ba76-367c05b80e97",
   "metadata": {},
   "outputs": [
    {
     "data": {
      "text/plain": [
       "array([0, 2, 3, 4, 5, 5, 6, 6])"
      ]
     },
     "execution_count": 268,
     "metadata": {},
     "output_type": "execute_result"
    }
   ],
   "source": [
    "met_s_nz"
   ]
  },
  {
   "cell_type": "code",
   "execution_count": 269,
   "id": "a41f7a21-e57f-4dc4-a50d-cac216e77333",
   "metadata": {},
   "outputs": [
    {
     "data": {
      "text/plain": [
       "array([2, 0, 0, 0, 1, 3, 1, 2])"
      ]
     },
     "execution_count": 269,
     "metadata": {},
     "output_type": "execute_result"
    }
   ],
   "source": [
    "rxn_s_nz"
   ]
  },
  {
   "cell_type": "code",
   "execution_count": 275,
   "id": "1b172d4e-1b52-4f35-8770-57c000969ba4",
   "metadata": {},
   "outputs": [
    {
     "data": {
      "text/plain": [
       "8"
      ]
     },
     "execution_count": 275,
     "metadata": {},
     "output_type": "execute_result"
    }
   ],
   "source": [
    "len(idx_cur_rxn)"
   ]
  },
  {
   "cell_type": "code",
   "execution_count": 279,
   "id": "e35cbcbb-7059-41e5-968a-d8997259e1d0",
   "metadata": {},
   "outputs": [],
   "source": [
    "met_s_nz = S_s_nz[0, :]\n",
    "rxn_s_nz = S_s_nz[1, :]    \n",
    "met_p_nz = S_p_nz[0, :]\n",
    "rxn_p_nz = S_p_nz[1, :]\n",
    "\n",
    "C_alpha = np.zeros([n_alpha, len(met_s_nz)])\n",
    "C_beta = np.zeros([n_beta, len(met_p_nz)])\n",
    "\n",
    "D_alpha = np.zeros([n_rxn, n_alpha])\n",
    "D_beta = np.zeros([n_rxn, n_beta])\n",
    "\n",
    "\n",
    "idx = 0\n",
    "\n",
    "for i in range(n_rxn):\n",
    "    idx_cur_rxn = rxn_s_nz == i\n",
    "    \n",
    "    sat_perm = np.array(list(itertools.product([0, 1], repeat=sum(idx_cur_rxn))))\n",
    "    sat_perm = sat_perm[1:, :]\n",
    "    \n",
    "    r, c = sat_perm.shape\n",
    "    \n",
    "    C_alpha[idx:(idx+r), idx_cur_rxn] = sat_perm\n",
    "    #D_alpha[i, idx:(idx+r)] = 1\n",
    "        \n",
    "    idx += r # add row # \n",
    "\n",
    "idx = 0\n",
    "    \n",
    "for i in range(n_rxn):\n",
    "    idx_cur_rxn = rxn_p_nz == i\n",
    "    \n",
    "    sat_perm = np.array(list(itertools.product([0, 1], repeat=sum(idx_cur_rxn))))\n",
    "    sat_perm = sat_perm[1:, :]\n",
    "    \n",
    "    r, c = sat_perm.shape\n",
    "    \n",
    "    C_beta[idx:(idx+r), idx_cur_rxn] = sat_perm\n",
    "    #D_alpha[i, idx:(idx+r)] = 1\n",
    "        \n",
    "    idx += r # add row # "
   ]
  },
  {
   "cell_type": "code",
   "execution_count": 281,
   "id": "dbe326cc-b943-4f8a-bcd5-43c54dcfd928",
   "metadata": {},
   "outputs": [
    {
     "data": {
      "text/plain": [
       "Expression(AFFINE, UNKNOWN, (8,))"
      ]
     },
     "execution_count": 281,
     "metadata": {},
     "output_type": "execute_result"
    }
   ],
   "source": [
    "C_alpha @ y_s\n",
    "C_beta @ y_p"
   ]
  },
  {
   "cell_type": "code",
   "execution_count": null,
   "id": "49e803b4-5bc8-484a-86aa-b466ccb475cb",
   "metadata": {},
   "outputs": [],
   "source": [
    "idx = 0\n",
    "\n",
    "for i in range(n_rxn):\n",
    "    p_cur_rxn = met_p_nz[rxn_p_nz == i]\n",
    "    \n",
    "    sat_perm = np.array(list(itertools.product([0, 1], repeat=len(p_cur_rxn))))\n",
    "    sat_perm = sat_perm[1:, :]\n",
    "    \n",
    "    r, c = sat_perm.shape\n",
    "    \n",
    "    C_beta[idx:(idx+r), p_cur_rxn] = sat_perm\n",
    "    #D_beta[i, idx:(idx+r)] = 1\n",
    "        \n",
    "    idx += r # add row # \n",
    "\n",
    "    \n",
    "# remove zero cols\n",
    "#C_alpha = C_alpha[:, list(set(S_s_nz[0, :]))]"
   ]
  },
  {
   "cell_type": "code",
   "execution_count": 271,
   "id": "245cada1-0522-4177-9ee1-f29fc21a38c6",
   "metadata": {},
   "outputs": [
    {
     "data": {
      "text/plain": [
       "array([[0., 0., 0., 0., 1., 0., 0., 0., 0.],\n",
       "       [0., 0., 0., 1., 0., 0., 0., 0., 0.],\n",
       "       [0., 0., 0., 1., 1., 0., 0., 0., 0.],\n",
       "       [0., 0., 1., 0., 0., 0., 0., 0., 0.],\n",
       "       [0., 0., 1., 0., 1., 0., 0., 0., 0.],\n",
       "       [0., 0., 1., 1., 0., 0., 0., 0., 0.],\n",
       "       [0., 0., 1., 1., 1., 0., 0., 0., 0.],\n",
       "       [0., 0., 0., 0., 0., 0., 1., 0., 0.],\n",
       "       [0., 0., 0., 0., 0., 1., 0., 0., 0.],\n",
       "       [0., 0., 0., 0., 0., 1., 1., 0., 0.],\n",
       "       [0., 0., 0., 0., 0., 0., 1., 0., 0.],\n",
       "       [1., 0., 0., 0., 0., 0., 0., 0., 0.],\n",
       "       [1., 0., 0., 0., 0., 0., 1., 0., 0.],\n",
       "       [0., 0., 0., 0., 0., 1., 0., 0., 0.]])"
      ]
     },
     "execution_count": 271,
     "metadata": {},
     "output_type": "execute_result"
    }
   ],
   "source": [
    "C_alpha"
   ]
  },
  {
   "cell_type": "code",
   "execution_count": 263,
   "id": "24528ea5-dac9-486d-b05f-1b33a25cdfeb",
   "metadata": {},
   "outputs": [
    {
     "data": {
      "text/plain": [
       "[0, 2, 3, 4, 5, 6]"
      ]
     },
     "execution_count": 263,
     "metadata": {},
     "output_type": "execute_result"
    }
   ],
   "source": [
    "list(set(S_s_nz[0, :]))"
   ]
  },
  {
   "cell_type": "code",
   "execution_count": 248,
   "id": "613c5af9-174b-4948-83fc-c88c1022ba2b",
   "metadata": {},
   "outputs": [
    {
     "data": {
      "text/plain": [
       "array([[1., 1., 1., 1., 1., 1., 1., 0., 0., 0., 0., 0., 0., 0.],\n",
       "       [0., 0., 0., 0., 0., 0., 0., 1., 1., 1., 0., 0., 0., 0.],\n",
       "       [0., 0., 0., 0., 0., 0., 0., 0., 0., 0., 1., 1., 1., 0.],\n",
       "       [0., 0., 0., 0., 0., 0., 0., 0., 0., 0., 0., 0., 0., 1.]])"
      ]
     },
     "execution_count": 248,
     "metadata": {},
     "output_type": "execute_result"
    }
   ],
   "source": [
    "D_alpha"
   ]
  },
  {
   "cell_type": "code",
   "execution_count": 244,
   "id": "45732ae8-c036-4474-8177-57fc408ca780",
   "metadata": {},
   "outputs": [
    {
     "data": {
      "text/plain": [
       "array([[0., 1., 0., 0., 0., 0., 0., 0., 0.],\n",
       "       [1., 0., 0., 0., 0., 0., 0., 0., 0.],\n",
       "       [1., 1., 0., 0., 0., 0., 0., 0., 0.],\n",
       "       [0., 0., 0., 0., 1., 0., 0., 0., 0.],\n",
       "       [0., 0., 0., 0., 0., 0., 0., 0., 1.],\n",
       "       [0., 0., 0., 0., 0., 0., 0., 1., 0.],\n",
       "       [0., 0., 0., 0., 0., 0., 0., 1., 1.],\n",
       "       [0., 0., 0., 0., 0., 0., 1., 0., 0.]])"
      ]
     },
     "execution_count": 244,
     "metadata": {},
     "output_type": "execute_result"
    }
   ],
   "source": [
    "C_beta"
   ]
  },
  {
   "cell_type": "code",
   "execution_count": 221,
   "id": "95df3969-78ab-420d-b249-3c5fe11ca662",
   "metadata": {},
   "outputs": [
    {
     "data": {
      "text/plain": [
       "array([[0, 2, 3, 4, 5, 5, 6, 6],\n",
       "       [2, 0, 0, 0, 1, 3, 1, 2]])"
      ]
     },
     "execution_count": 221,
     "metadata": {},
     "output_type": "execute_result"
    }
   ],
   "source": [
    "S_s_nz"
   ]
  },
  {
   "cell_type": "code",
   "execution_count": 218,
   "id": "7a715a0d-402e-4694-9f3c-a5cd25666b5e",
   "metadata": {},
   "outputs": [],
   "source": [
    "C_alpha = np.zeros([n_alpha, n_met])\n",
    "C_beta = np.zeros([n_beta, n_met])"
   ]
  },
  {
   "cell_type": "code",
   "execution_count": 219,
   "id": "a90eb589-f902-4309-ad92-3ae4c0403f46",
   "metadata": {},
   "outputs": [
    {
     "data": {
      "text/plain": [
       "array([[0., 0., 0., 0., 0., 0., 0., 0., 0.],\n",
       "       [0., 0., 0., 0., 0., 0., 0., 0., 0.],\n",
       "       [0., 0., 0., 0., 0., 0., 0., 0., 0.],\n",
       "       [0., 0., 0., 0., 0., 0., 0., 0., 0.],\n",
       "       [0., 0., 0., 0., 0., 0., 0., 0., 0.],\n",
       "       [0., 0., 0., 0., 0., 0., 0., 0., 0.],\n",
       "       [0., 0., 0., 0., 0., 0., 0., 0., 0.],\n",
       "       [0., 0., 0., 0., 0., 0., 0., 0., 0.],\n",
       "       [0., 0., 0., 0., 0., 0., 0., 0., 0.],\n",
       "       [0., 0., 0., 0., 0., 0., 0., 0., 0.],\n",
       "       [0., 0., 0., 0., 0., 0., 0., 0., 0.],\n",
       "       [0., 0., 0., 0., 0., 0., 0., 0., 0.],\n",
       "       [0., 0., 0., 0., 0., 0., 0., 0., 0.],\n",
       "       [0., 0., 0., 0., 0., 0., 0., 0., 0.]])"
      ]
     },
     "execution_count": 219,
     "metadata": {},
     "output_type": "execute_result"
    }
   ],
   "source": [
    "C_alpha"
   ]
  },
  {
   "cell_type": "code",
   "execution_count": null,
   "id": "f7e72bbe-0a1a-4cb2-b0d9-7a56ba75a70b",
   "metadata": {},
   "outputs": [],
   "source": [
    "C_alpha = np.zeros([])"
   ]
  },
  {
   "cell_type": "code",
   "execution_count": 171,
   "id": "8d601186-3499-403d-a63a-c6e16d124014",
   "metadata": {},
   "outputs": [
    {
     "data": {
      "text/plain": [
       "Expression(AFFINE, UNKNOWN, (14,))"
      ]
     },
     "execution_count": 171,
     "metadata": {},
     "output_type": "execute_result"
    }
   ],
   "source": [
    "c[c_nz] - Km"
   ]
  },
  {
   "cell_type": "code",
   "execution_count": 155,
   "id": "0fa52d4e-a5fc-4cc4-b680-142aab12f832",
   "metadata": {},
   "outputs": [],
   "source": [
    "c = cp.Variable(n_met)\n",
    "\n",
    "expr = cp.multiply(cp.vstack([c,c,c,c]), Sm.T)"
   ]
  },
  {
   "cell_type": "code",
   "execution_count": 140,
   "id": "ee3bfc5b-9b43-4701-bca2-22859d5080aa",
   "metadata": {},
   "outputs": [
    {
     "data": {
      "text/plain": [
       "array(Variable((9,)), dtype=object)"
      ]
     },
     "execution_count": 140,
     "metadata": {},
     "output_type": "execute_result"
    }
   ],
   "source": [
    "np.array(c)"
   ]
  },
  {
   "cell_type": "code",
   "execution_count": 147,
   "id": "14ce0861-2aa2-4b4f-b89f-d62aaaede67e",
   "metadata": {},
   "outputs": [
    {
     "data": {
      "text/plain": [
       "Expression(AFFINE, UNKNOWN, (9, 1))"
      ]
     },
     "execution_count": 147,
     "metadata": {},
     "output_type": "execute_result"
    }
   ],
   "source": [
    "c[:, None]"
   ]
  },
  {
   "cell_type": "code",
   "execution_count": 151,
   "id": "f0f5eddf-200a-4e3d-be1b-4b1e9b189594",
   "metadata": {},
   "outputs": [
    {
     "data": {
      "text/plain": [
       "Expression(AFFINE, UNKNOWN, (4, 9))"
      ]
     },
     "execution_count": 151,
     "metadata": {},
     "output_type": "execute_result"
    }
   ],
   "source": [
    "cp.multiply(cp.vstack([c,c,c,c]), Sm.T)"
   ]
  },
  {
   "cell_type": "markdown",
   "id": "813b7804-8c97-4b91-a7d7-68cc5412b572",
   "metadata": {},
   "source": [
    "# Import sim output"
   ]
  },
  {
   "cell_type": "code",
   "execution_count": 20,
   "id": "dcda9aff-cea9-4bb5-a28c-e63f8ee40911",
   "metadata": {},
   "outputs": [],
   "source": [
    "time = '10'\n",
    "date = '2023-02-13'\n",
    "experiment = 'balance'\n",
    "entry = f'{experiment}_{time}_{date}'\n",
    "folder = f'out/fbagd/{entry}/'"
   ]
  },
  {
   "cell_type": "code",
   "execution_count": 21,
   "id": "b78d4236-b4ef-472b-bfd4-049c2fdd0495",
   "metadata": {},
   "outputs": [],
   "source": [
    "output = np.load(folder + 'output.npy',allow_pickle='TRUE').item()\n",
    "# output = np.load(r\"out/geneRxnVerifData/output_glc.npy\", allow_pickle=True, encoding='ASCII').tolist()\n",
    "output = output['agents']['0']\n",
    "fba = output['listeners']['fba_results']\n",
    "mass = output['listeners']['mass']\n",
    "bulk = pd.DataFrame(output['bulk'])"
   ]
  },
  {
   "cell_type": "code",
   "execution_count": 22,
   "id": "e3d47c72-2f67-4e94-bff8-a69202625d93",
   "metadata": {},
   "outputs": [],
   "source": [
    "f = open(folder + 'agent_processes.pkl', 'rb')\n",
    "agent_processes = dill.load(f)\n",
    "f.close()\n",
    "\n",
    "f = open(folder + 'agent_steps.pkl', 'rb')\n",
    "agent_steps = dill.load(f)\n",
    "f.close()"
   ]
  },
  {
   "cell_type": "code",
   "execution_count": 23,
   "id": "d2b7021f-e5c6-4520-9b3b-b1f284201930",
   "metadata": {},
   "outputs": [
    {
     "ename": "NameError",
     "evalue": "name 'getattributes' is not defined",
     "output_type": "error",
     "traceback": [
      "\u001b[0;31m---------------------------------------------------------------------------\u001b[0m",
      "\u001b[0;31mNameError\u001b[0m                                 Traceback (most recent call last)",
      "\u001b[0;32m/var/folders/dx/0239zgvj0tgf46b5h8l7v_fc0000gn/T/ipykernel_40974/1247218395.py\u001b[0m in \u001b[0;36m<module>\u001b[0;34m\u001b[0m\n\u001b[0;32m----> 1\u001b[0;31m \u001b[0mgetattributes\u001b[0m\u001b[0;34m(\u001b[0m\u001b[0magent_steps\u001b[0m\u001b[0;34m[\u001b[0m\u001b[0;34m'ecoli-metabolism'\u001b[0m\u001b[0;34m]\u001b[0m\u001b[0;34m)\u001b[0m\u001b[0;34m\u001b[0m\u001b[0;34m\u001b[0m\u001b[0m\n\u001b[0m",
      "\u001b[0;31mNameError\u001b[0m: name 'getattributes' is not defined"
     ]
    }
   ],
   "source": [
    "getattributes(agent_steps['ecoli-metabolism'])"
   ]
  },
  {
   "cell_type": "code",
   "execution_count": 24,
   "id": "c1187978-ab16-4e08-933a-b19bac9015f3",
   "metadata": {},
   "outputs": [
    {
     "ename": "AttributeError",
     "evalue": "'FluxBalanceAnalysisModel' object has no attribute 'network'",
     "output_type": "error",
     "traceback": [
      "\u001b[0;31m---------------------------------------------------------------------------\u001b[0m",
      "\u001b[0;31mAttributeError\u001b[0m                            Traceback (most recent call last)",
      "\u001b[0;32m/var/folders/dx/0239zgvj0tgf46b5h8l7v_fc0000gn/T/ipykernel_40974/2475905258.py\u001b[0m in \u001b[0;36m<module>\u001b[0;34m\u001b[0m\n\u001b[0;32m----> 1\u001b[0;31m \u001b[0ms_matrix\u001b[0m \u001b[0;34m=\u001b[0m \u001b[0magent_steps\u001b[0m\u001b[0;34m[\u001b[0m\u001b[0;34m'ecoli-metabolism'\u001b[0m\u001b[0;34m]\u001b[0m\u001b[0;34m.\u001b[0m\u001b[0mmodel\u001b[0m\u001b[0;34m.\u001b[0m\u001b[0mnetwork\u001b[0m\u001b[0;34m.\u001b[0m\u001b[0ms_matrix\u001b[0m\u001b[0;34m\u001b[0m\u001b[0;34m\u001b[0m\u001b[0m\n\u001b[0m\u001b[1;32m      2\u001b[0m \u001b[0mstoichiometry\u001b[0m \u001b[0;34m=\u001b[0m \u001b[0magent_steps\u001b[0m\u001b[0;34m[\u001b[0m\u001b[0;34m'ecoli-metabolism'\u001b[0m\u001b[0;34m]\u001b[0m\u001b[0;34m.\u001b[0m\u001b[0mstoichiometry\u001b[0m\u001b[0;34m\u001b[0m\u001b[0;34m\u001b[0m\u001b[0m\n",
      "\u001b[0;31mAttributeError\u001b[0m: 'FluxBalanceAnalysisModel' object has no attribute 'network'"
     ]
    }
   ],
   "source": [
    "s_matrix = agent_steps['ecoli-metabolism'].model.network.s_matrix\n",
    "stoichiometry = agent_steps['ecoli-metabolism'].stoichiometry"
   ]
  },
  {
   "cell_type": "code",
   "execution_count": null,
   "id": "9bd2dfa2-4416-4448-aede-42d4c6ced53d",
   "metadata": {},
   "outputs": [],
   "source": [
    "getmembers(agent_steps['ecoli-metabolism'])[7][1].keys()"
   ]
  },
  {
   "cell_type": "code",
   "execution_count": null,
   "id": "e0492017-4421-4702-8408-1c5deec944a0",
   "metadata": {},
   "outputs": [],
   "source": [
    "agent_processes"
   ]
  },
  {
   "cell_type": "markdown",
   "id": "2a883f8b-7c97-4a23-9688-f1f4d6bbf668",
   "metadata": {},
   "source": [
    "# Check FBA output for central glycolysis"
   ]
  },
  {
   "cell_type": "code",
   "execution_count": 10,
   "id": "3421ff5e-0277-496a-bfe9-d7700b764b4d",
   "metadata": {},
   "outputs": [
    {
     "ename": "NameError",
     "evalue": "name 'stoichiometry' is not defined",
     "output_type": "error",
     "traceback": [
      "\u001b[0;31m---------------------------------------------------------------------------\u001b[0m",
      "\u001b[0;31mNameError\u001b[0m                                 Traceback (most recent call last)",
      "\u001b[0;32m/var/folders/dx/0239zgvj0tgf46b5h8l7v_fc0000gn/T/ipykernel_40974/1603528768.py\u001b[0m in \u001b[0;36m<module>\u001b[0;34m\u001b[0m\n\u001b[0;32m----> 1\u001b[0;31m \u001b[0mstoichiometry\u001b[0m\u001b[0;34m\u001b[0m\u001b[0;34m\u001b[0m\u001b[0m\n\u001b[0m",
      "\u001b[0;31mNameError\u001b[0m: name 'stoichiometry' is not defined"
     ]
    }
   ],
   "source": [
    "stoichiometry"
   ]
  },
  {
   "cell_type": "code",
   "execution_count": null,
   "id": "aa583f14-9c95-41b8-bc7d-230dfb0858cf",
   "metadata": {},
   "outputs": [],
   "source": []
  }
 ],
 "metadata": {
  "kernelspec": {
   "display_name": "Python 3 (ipykernel)",
   "language": "python",
   "name": "python3"
  },
  "language_info": {
   "codemirror_mode": {
    "name": "ipython",
    "version": 3
   },
   "file_extension": ".py",
   "mimetype": "text/x-python",
   "name": "python",
   "nbconvert_exporter": "python",
   "pygments_lexer": "ipython3",
   "version": "3.9.9"
  }
 },
 "nbformat": 4,
 "nbformat_minor": 5
}
