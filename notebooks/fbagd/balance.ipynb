{
 "cells": [
  {
   "cell_type": "code",
   "execution_count": 398,
   "id": "89c876b4-8497-499f-a413-26ad32cec39e",
   "metadata": {},
   "outputs": [],
   "source": [
    "import numpy as np\n",
    "from scipy import linalg, special\n",
    "import seaborn as sns\n",
    "import pandas as pd\n",
    "import os\n",
    "from inspect import getmembers\n",
    "import matplotlib.pyplot as plt\n",
    "import networkx as nx\n",
    "from sklearn.preprocessing import MinMaxScaler, StandardScaler\n",
    "import dill\n",
    "from equilibrator_api import ComponentContribution, Q_, Reaction\n",
    "import requests\n",
    "import xmltodict\n",
    "import pint\n",
    "import cvxpy as cp\n",
    "import itertools\n",
    "import copy\n",
    "\n",
    "sns.set(style='darkgrid', palette='viridis', context='talk')\n",
    "\n",
    "os.chdir(os.path.expanduser('~/vivarium-ecoli'))"
   ]
  },
  {
   "cell_type": "markdown",
   "id": "82a34091-b89a-4a8b-b49e-ce86aeab25c6",
   "metadata": {},
   "source": [
    "A + B -E1> C -E2> D\n",
    "\n",
    "B -E3> F\n",
    "\n",
    "A -E4> G"
   ]
  },
  {
   "cell_type": "markdown",
   "id": "2cc077b2-8c38-4065-b306-2e91611fd975",
   "metadata": {},
   "source": [
    "# Testing eQuilibrator"
   ]
  },
  {
   "cell_type": "code",
   "execution_count": 399,
   "id": "77f87609-2312-4734-8970-05177c5c3434",
   "metadata": {},
   "outputs": [],
   "source": [
    "cc = ComponentContribution()\n",
    "\n",
    "# optional: changing the aqueous environment parameters\n",
    "cc.p_h = Q_(7.4)\n",
    "cc.p_mg = Q_(3.0)\n",
    "cc.ionic_strength = Q_(\"0.25M\")\n",
    "cc.temperature = Q_(\"298.15K\")\n",
    "\n"
   ]
  },
  {
   "cell_type": "code",
   "execution_count": 400,
   "id": "90008655-107b-487c-b60b-a98b12137dd6",
   "metadata": {},
   "outputs": [],
   "source": [
    "from equilibrator_api import Reaction\n",
    "compound_ids = [\"WATER\", \"ADP\", \"ATP\", \"Pi\"]\n",
    "compound_dict = {cid : cc.get_compound(f\"metacyc.compound:{cid}\") for cid in compound_ids}\n",
    "atpase_reaction = Reaction({\n",
    "    compound_dict[\"ATP\"]: -1,\n",
    "    compound_dict[\"WATER\"]: -1,\n",
    "    compound_dict[\"ADP\"]: 1,\n",
    "    compound_dict[\"Pi\"]: 1,\n",
    "})"
   ]
  },
  {
   "cell_type": "code",
   "execution_count": 401,
   "id": "ac886c79-121d-4d77-9ba0-eb4b25d19039",
   "metadata": {},
   "outputs": [
    {
     "data": {
      "text/html": [
       "(-29.14 &plusmn; 0.30) kilojoule/mole"
      ],
      "text/latex": [
       "$\\left(-29.14 \\pm 0.30\\right)\\ \\frac{\\mathrm{kilojoule}}{\\mathrm{mole}}$"
      ],
      "text/plain": [
       "<Measurement(-29.144472212600157, 0.3042778553577678, kilojoule / mole)>"
      ]
     },
     "execution_count": 401,
     "metadata": {},
     "output_type": "execute_result"
    }
   ],
   "source": [
    "standard_dg_prime = cc.standard_dg_prime(atpase_reaction)\n",
    "standard_dg_prime"
   ]
  },
  {
   "cell_type": "code",
   "execution_count": 402,
   "id": "c6be2265-c9ec-45cf-8b87-8ca2df1376dd",
   "metadata": {},
   "outputs": [
    {
     "name": "stdout",
     "output_type": "stream",
     "text": [
      "(-44.8 +/- 0.6) kilojoule / mole\n"
     ]
    }
   ],
   "source": [
    "cytoplasmic_p_h = Q_(7.5)\n",
    "cytoplasmic_ionic_strength = Q_(\"250 mM\")\n",
    "periplasmic_p_h = Q_(7.0)\n",
    "periplasmic_ionic_strength = Q_(\"200 mM\")\n",
    "e_potential_difference = Q_(\"0.15 V\")\n",
    "cytoplasmic_reaction = \"bigg.metabolite:pep = bigg.metabolite:g6p + bigg.metabolite:pyr\"\n",
    "periplasmic_reaction = \"bigg.metabolite:glc__D = \"\n",
    "\n",
    "cc = ComponentContribution()\n",
    "cc.p_h = cytoplasmic_p_h\n",
    "cc.ionic_strength = cytoplasmic_ionic_strength\n",
    "standard_dg_prime = cc.multicompartmental_standard_dg_prime(\n",
    "    cc.parse_reaction_formula(cytoplasmic_reaction),\n",
    "    cc.parse_reaction_formula(periplasmic_reaction),\n",
    "    e_potential_difference=e_potential_difference,\n",
    "    p_h_outer=periplasmic_p_h,\n",
    "    ionic_strength_outer=periplasmic_ionic_strength,\n",
    ")\n",
    "\n",
    "print(standard_dg_prime)\n"
   ]
  },
  {
   "cell_type": "code",
   "execution_count": 403,
   "id": "3c97b6b4-77e2-4ddb-926c-b39f4780811b",
   "metadata": {},
   "outputs": [],
   "source": [
    "cc.get_compound_by_inchi(\"WQZGKKKJIJFFOK-GASJEMHNSA-N\")"
   ]
  },
  {
   "cell_type": "markdown",
   "id": "fb140010-52ab-4edd-844e-a3645b3d5a41",
   "metadata": {},
   "source": [
    "# Using eQuilibrator to generate equilibrium constants"
   ]
  },
  {
   "cell_type": "code",
   "execution_count": 404,
   "id": "6cd11cad-2e4b-4cb7-bec6-6d3e4f7b21bd",
   "metadata": {},
   "outputs": [],
   "source": [
    "s = requests.Session() # create session\n",
    "# Post login credentials to session:\n",
    "s.post('https://websvc.biocyc.org/credentials/login/', data={'email':'cellulararchitect@protonmail.com', 'password':'Cellman0451'})\n",
    "# Issue web service request:\n",
    "r = s.get('https://websvc.biocyc.org/getxml?id=ECOLI:6PFRUCTPHOS-RXN&detail=low&fmt=json')"
   ]
  },
  {
   "cell_type": "code",
   "execution_count": 405,
   "id": "0ceafb21-0bf4-41d7-8e07-c159e8b73302",
   "metadata": {},
   "outputs": [
    {
     "data": {
      "text/plain": [
       "'F16ALDOLASE-ENZRXN-CLASSI'"
      ]
     },
     "execution_count": 405,
     "metadata": {},
     "output_type": "execute_result"
    }
   ],
   "source": [
    "name = 'F16ALDOLASE-RXN'\n",
    "\n",
    "r = s.get(f'https://websvc.biocyc.org/getxml?id=ECOLI:{name}&detail=low&fmt=json')\n",
    "o = xmltodict.parse(r.content)['ptools-xml']\n",
    "o['Reaction']['enzymatic-reaction']['Enzymatic-Reaction'][0]['@frameid']"
   ]
  },
  {
   "cell_type": "code",
   "execution_count": 406,
   "id": "837d6516-fa3c-4b71-ba39-4a98bb9689d3",
   "metadata": {},
   "outputs": [
    {
     "data": {
      "text/plain": [
       "{'6PFRUCTPHOS-RXN': <equilibrator_api.phased_reaction.PhasedReaction at 0x174b78520>,\n",
       " 'F16ALDOLASE-RXN': <equilibrator_api.phased_reaction.PhasedReaction at 0x169b3ab20>,\n",
       " '2TRANSKETO-RXN': <equilibrator_api.phased_reaction.PhasedReaction at 0x176651eb0>,\n",
       " 'TRIOSEPISOMERIZATION-RXN': <equilibrator_api.phased_reaction.PhasedReaction at 0x1746f7f70>}"
      ]
     },
     "execution_count": 406,
     "metadata": {},
     "output_type": "execute_result"
    }
   ],
   "source": [
    "\n",
    "rxns_names = ['6PFRUCTPHOS-RXN', 'F16ALDOLASE-RXN', '2TRANSKETO-RXN', 'TRIOSEPISOMERIZATION-RXN']\n",
    "\n",
    "rxns_dict = {}\n",
    "stoich_dict = {}\n",
    "regulation_dict = {}\n",
    "\n",
    "for name in rxns_names:\n",
    "    r = s.get(f'https://websvc.biocyc.org/getxml?id=ECOLI:{name}&detail=low&fmt=json')\n",
    "    rxn = xmltodict.parse(r.content)['ptools-xml']\n",
    "\n",
    "    rxn_dict = {}\n",
    "    stoich_loop_dict = {}\n",
    "    regulation_loop_dict = {}\n",
    "    left = rxn['Reaction']['left']\n",
    "    right = rxn['Reaction']['right'] \n",
    "    \n",
    "    # i will know exact complex in model (connected to rxn), but for now will pick random\n",
    "    enz_rxn = rxn['Reaction']['enzymatic-reaction']['Enzymatic-Reaction']\n",
    "    \n",
    "    if type(left) is dict:\n",
    "        left = [left]\n",
    "    \n",
    "    if type(right) is dict:\n",
    "        right = [right]\n",
    "        \n",
    "    if type(enz_rxn) is dict:\n",
    "        enz_rxn = [enz_rxn]\n",
    "    \n",
    "    enz_rxn_id =  enz_rxn[0]['@frameid']\n",
    "    re = s.get(f'https://websvc.biocyc.org/getxml?id=ECOLI:{enz_rxn_id}&detail=high&fmt=json')\n",
    "    oe = xmltodict.parse(re.content)['ptools-xml']['Enzymatic-Reaction']['regulated-by']['Regulation']\n",
    "    \n",
    "    if type(oe) is dict:\n",
    "        oe = [oe]\n",
    "        \n",
    "    # add regulators, target regulator directly with id to get info like irreversible, etc\n",
    "    for regulator in oe:\n",
    "        reg_name = regulator['regulator']['Compound']['@frameid']\n",
    "        reg_type = regulator['mode']['#text']\n",
    "        reg_type = 1 if reg_type == '+' else -1\n",
    "        regulation_loop_dict[reg_name] = reg_type\n",
    "    \n",
    "    for mol in left:\n",
    "        if type(mol) is dict:\n",
    "            cid = mol['Compound']['@frameid']\n",
    "            mol_cc = cc.get_compound(f\"metacyc.compound:{cid}\")\n",
    "            rxn_dict[mol_cc] = -1\n",
    "            stoich_loop_dict[cid] = -1\n",
    "\n",
    "    for mol in right:\n",
    "        if type(mol) is dict:\n",
    "            cid = mol['Compound']['@frameid']\n",
    "            mol_cc = cc.get_compound(f\"metacyc.compound:{cid}\")\n",
    "            rxn_dict[mol_cc] =  1\n",
    "            stoich_loop_dict[cid] = 1\n",
    "    \n",
    "    rxns_dict[name] = Reaction(rxn_dict)\n",
    "    stoich_dict[name] = stoich_loop_dict\n",
    "    regulation_dict[name] = regulation_loop_dict\n",
    "    \n",
    "rxns_dict"
   ]
  },
  {
   "cell_type": "code",
   "execution_count": 407,
   "id": "5e072326-7492-4a26-adba-02158fcedf0e",
   "metadata": {},
   "outputs": [],
   "source": [
    "(standard_dg_prime, dg_uncertainty) = cc.standard_dg_prime_multi(list(rxns_dict.values()), uncertainty_representation=\"cov\")"
   ]
  },
  {
   "cell_type": "code",
   "execution_count": 408,
   "id": "748784e9-37fa-4e06-8fa9-88b497816064",
   "metadata": {},
   "outputs": [
    {
     "data": {
      "text/html": [
       "<table><tbody><tr><th>Magnitude</th><td style='text-align:left;'><pre>[-21.05010908198642 22.047924530096907 -5.946115510564027<br> -5.617742386692498]</pre></td></tr><tr><th>Units</th><td style='text-align:left;'>kilojoule/mole</td></tr></tbody></table>"
      ],
      "text/latex": [
       "$\\begin{pmatrix}-21.05010908198642 & 22.047924530096907 & -5.946115510564027 & -5.617742386692498\\end{pmatrix}\\ \\frac{\\mathrm{kilojoule}}{\\mathrm{mole}}$"
      ],
      "text/plain": [
       "array([-21.05010908,  22.04792453,  -5.94611551,  -5.61774239]) <Unit('kilojoule / mole')>"
      ]
     },
     "execution_count": 408,
     "metadata": {},
     "output_type": "execute_result"
    }
   ],
   "source": [
    "standard_dg_prime"
   ]
  },
  {
   "cell_type": "code",
   "execution_count": 409,
   "id": "11142f27-1260-4d21-97bc-42c00f4920f6",
   "metadata": {},
   "outputs": [
    {
     "data": {
      "text/html": [
       "<table><tbody><tr><th>Magnitude</th><td style='text-align:left;'><pre>[[1.5398212990074922 -2.2167471180569773 0.6541085596545129<br>  -0.004664260811860303]<br> [-2.2167471180569773 5.286946034707553 -2.4322877177623594<br>  -0.1291182736017488]<br> [0.6541085596545129 -2.4322877177623594 5.547270812427002<br>  -0.08893998540652082]<br> [-0.004664260811860303 -0.1291182736017488 -0.08893998540652082<br>  0.3010346102557717]]</pre></td></tr><tr><th>Units</th><td style='text-align:left;'>kilojoule<sup>2</sup>/mole<sup>2</sup></td></tr></tbody></table>"
      ],
      "text/latex": [
       "$\\begin{pmatrix}1.5398212990074922 & -2.2167471180569773 & 0.6541085596545129 & -0.004664260811860303\\\\ \n",
       "-2.2167471180569773 & 5.286946034707553 & -2.4322877177623594 & -0.1291182736017488\\\\ \n",
       "0.6541085596545129 & -2.4322877177623594 & 5.547270812427002 & -0.08893998540652082\\\\ \n",
       "-0.004664260811860303 & -0.1291182736017488 & -0.08893998540652082 & 0.3010346102557717\\end{pmatrix}\\ \\frac{\\mathrm{kilojoule}^{2}}{\\mathrm{mole}^{2}}$"
      ],
      "text/plain": [
       "array([[ 1.53982130e+00, -2.21674712e+00,  6.54108560e-01,\n",
       "        -4.66426081e-03],\n",
       "       [-2.21674712e+00,  5.28694603e+00, -2.43228772e+00,\n",
       "        -1.29118274e-01],\n",
       "       [ 6.54108560e-01, -2.43228772e+00,  5.54727081e+00,\n",
       "        -8.89399854e-02],\n",
       "       [-4.66426081e-03, -1.29118274e-01, -8.89399854e-02,\n",
       "         3.01034610e-01]]) <Unit('kilojoule ** 2 / mole ** 2')>"
      ]
     },
     "execution_count": 409,
     "metadata": {},
     "output_type": "execute_result"
    }
   ],
   "source": [
    "dg_uncertainty"
   ]
  },
  {
   "cell_type": "code",
   "execution_count": 410,
   "id": "320ca8b3-34c3-4bfe-b43b-e71e5d5685bc",
   "metadata": {},
   "outputs": [],
   "source": [
    "R = 0.008314 # kJ/mol*K\n",
    "T = 298.15 # K"
   ]
  },
  {
   "cell_type": "code",
   "execution_count": 647,
   "id": "6c217eee-8beb-4c13-82d5-200b12d4add9",
   "metadata": {},
   "outputs": [
    {
     "data": {
      "text/plain": [
       "array([4.87556287e+03, 1.37137368e-04, 1.10096201e+01, 9.64363243e+00])"
      ]
     },
     "execution_count": 647,
     "metadata": {},
     "output_type": "execute_result"
    }
   ],
   "source": [
    "dG = standard_dg_prime._magnitude\n",
    "\n",
    "keq = np.exp(-dG/(R*T))\n",
    "keq"
   ]
  },
  {
   "cell_type": "markdown",
   "id": "3a19ac18-e8ce-4653-9976-3946c1227c85",
   "metadata": {},
   "source": [
    "# Calculating set of kinetic parameters with given equilibrium constants and arbitrary fluxes"
   ]
  },
  {
   "cell_type": "code",
   "execution_count": 648,
   "id": "ad0c9880-fd76-40d6-9d15-3bb61f96e3e9",
   "metadata": {},
   "outputs": [
    {
     "data": {
      "text/html": [
       "<div>\n",
       "<style scoped>\n",
       "    .dataframe tbody tr th:only-of-type {\n",
       "        vertical-align: middle;\n",
       "    }\n",
       "\n",
       "    .dataframe tbody tr th {\n",
       "        vertical-align: top;\n",
       "    }\n",
       "\n",
       "    .dataframe thead th {\n",
       "        text-align: right;\n",
       "    }\n",
       "</style>\n",
       "<table border=\"1\" class=\"dataframe\">\n",
       "  <thead>\n",
       "    <tr style=\"text-align: right;\">\n",
       "      <th></th>\n",
       "      <th>6PFRUCTPHOS-RXN</th>\n",
       "      <th>F16ALDOLASE-RXN</th>\n",
       "      <th>2TRANSKETO-RXN</th>\n",
       "      <th>TRIOSEPISOMERIZATION-RXN</th>\n",
       "    </tr>\n",
       "  </thead>\n",
       "  <tbody>\n",
       "    <tr>\n",
       "      <th>FRUCTOSE-6P</th>\n",
       "      <td>-1</td>\n",
       "      <td>0</td>\n",
       "      <td>1</td>\n",
       "      <td>0</td>\n",
       "    </tr>\n",
       "    <tr>\n",
       "      <th>ATP</th>\n",
       "      <td>-1</td>\n",
       "      <td>0</td>\n",
       "      <td>0</td>\n",
       "      <td>0</td>\n",
       "    </tr>\n",
       "    <tr>\n",
       "      <th>PROTON</th>\n",
       "      <td>1</td>\n",
       "      <td>0</td>\n",
       "      <td>0</td>\n",
       "      <td>0</td>\n",
       "    </tr>\n",
       "    <tr>\n",
       "      <th>ADP</th>\n",
       "      <td>1</td>\n",
       "      <td>0</td>\n",
       "      <td>0</td>\n",
       "      <td>0</td>\n",
       "    </tr>\n",
       "    <tr>\n",
       "      <th>FRUCTOSE-16-DIPHOSPHATE</th>\n",
       "      <td>1</td>\n",
       "      <td>-1</td>\n",
       "      <td>0</td>\n",
       "      <td>0</td>\n",
       "    </tr>\n",
       "    <tr>\n",
       "      <th>DIHYDROXY-ACETONE-PHOSPHATE</th>\n",
       "      <td>0</td>\n",
       "      <td>1</td>\n",
       "      <td>0</td>\n",
       "      <td>1</td>\n",
       "    </tr>\n",
       "    <tr>\n",
       "      <th>GAP</th>\n",
       "      <td>0</td>\n",
       "      <td>1</td>\n",
       "      <td>1</td>\n",
       "      <td>-1</td>\n",
       "    </tr>\n",
       "    <tr>\n",
       "      <th>ERYTHROSE-4P</th>\n",
       "      <td>0</td>\n",
       "      <td>0</td>\n",
       "      <td>-1</td>\n",
       "      <td>0</td>\n",
       "    </tr>\n",
       "    <tr>\n",
       "      <th>XYLULOSE-5-PHOSPHATE</th>\n",
       "      <td>0</td>\n",
       "      <td>0</td>\n",
       "      <td>-1</td>\n",
       "      <td>0</td>\n",
       "    </tr>\n",
       "  </tbody>\n",
       "</table>\n",
       "</div>"
      ],
      "text/plain": [
       "                             6PFRUCTPHOS-RXN  F16ALDOLASE-RXN  2TRANSKETO-RXN  \\\n",
       "FRUCTOSE-6P                               -1                0               1   \n",
       "ATP                                       -1                0               0   \n",
       "PROTON                                     1                0               0   \n",
       "ADP                                        1                0               0   \n",
       "FRUCTOSE-16-DIPHOSPHATE                    1               -1               0   \n",
       "DIHYDROXY-ACETONE-PHOSPHATE                0                1               0   \n",
       "GAP                                        0                1               1   \n",
       "ERYTHROSE-4P                               0                0              -1   \n",
       "XYLULOSE-5-PHOSPHATE                       0                0              -1   \n",
       "\n",
       "                             TRIOSEPISOMERIZATION-RXN  \n",
       "FRUCTOSE-6P                                         0  \n",
       "ATP                                                 0  \n",
       "PROTON                                              0  \n",
       "ADP                                                 0  \n",
       "FRUCTOSE-16-DIPHOSPHATE                             0  \n",
       "DIHYDROXY-ACETONE-PHOSPHATE                         1  \n",
       "GAP                                                -1  \n",
       "ERYTHROSE-4P                                        0  \n",
       "XYLULOSE-5-PHOSPHATE                                0  "
      ]
     },
     "execution_count": 648,
     "metadata": {},
     "output_type": "execute_result"
    }
   ],
   "source": [
    "Sd = pd.DataFrame(stoich_dict, dtype=np.int8).fillna(0).astype(np.int8)\n",
    "# Sd = Sd.iloc[0:7, 0:2]\n",
    "\n",
    "n_met = len(Sd.index)\n",
    "n_rxn = len(Sd.columns)\n",
    "\n",
    "Sd"
   ]
  },
  {
   "cell_type": "code",
   "execution_count": 649,
   "id": "5c82bb78-fff2-4098-9827-6b0d10324746",
   "metadata": {},
   "outputs": [
    {
     "data": {
      "text/html": [
       "<div>\n",
       "<style scoped>\n",
       "    .dataframe tbody tr th:only-of-type {\n",
       "        vertical-align: middle;\n",
       "    }\n",
       "\n",
       "    .dataframe tbody tr th {\n",
       "        vertical-align: top;\n",
       "    }\n",
       "\n",
       "    .dataframe thead th {\n",
       "        text-align: right;\n",
       "    }\n",
       "</style>\n",
       "<table border=\"1\" class=\"dataframe\">\n",
       "  <thead>\n",
       "    <tr style=\"text-align: right;\">\n",
       "      <th></th>\n",
       "      <th>6PFRUCTPHOS-RXN</th>\n",
       "      <th>F16ALDOLASE-RXN</th>\n",
       "      <th>2TRANSKETO-RXN</th>\n",
       "      <th>TRIOSEPISOMERIZATION-RXN</th>\n",
       "    </tr>\n",
       "  </thead>\n",
       "  <tbody>\n",
       "    <tr>\n",
       "      <th>$K_{eq}$</th>\n",
       "      <td>8.491991</td>\n",
       "      <td>-8.894527</td>\n",
       "      <td>2.398769</td>\n",
       "      <td>2.266298</td>\n",
       "    </tr>\n",
       "    <tr>\n",
       "      <th>$v$</th>\n",
       "      <td>100.000000</td>\n",
       "      <td>20.000000</td>\n",
       "      <td>30.000000</td>\n",
       "      <td>10.000000</td>\n",
       "    </tr>\n",
       "  </tbody>\n",
       "</table>\n",
       "</div>"
      ],
      "text/plain": [
       "          6PFRUCTPHOS-RXN  F16ALDOLASE-RXN  2TRANSKETO-RXN  \\\n",
       "$K_{eq}$         8.491991        -8.894527        2.398769   \n",
       "$v$            100.000000        20.000000       30.000000   \n",
       "\n",
       "          TRIOSEPISOMERIZATION-RXN  \n",
       "$K_{eq}$                  2.266298  \n",
       "$v$                      10.000000  "
      ]
     },
     "execution_count": 649,
     "metadata": {},
     "output_type": "execute_result"
    }
   ],
   "source": [
    "dG = standard_dg_prime._magnitude\n",
    "\n",
    "keq = np.exp(-dG/(R*T))\n",
    "keq\n",
    "\n",
    "K_eq = np.log(keq)\n",
    "vE = np.array([100, 20, 30, 10])\n",
    "\n",
    "K_eq[vE < 0] = 1/K_eq[vE < 0] \n",
    "\n",
    "lvE = np.log(np.abs(vE))\n",
    "\n",
    "pd.DataFrame(np.array([K_eq, vE]), columns=Sd.columns, index=[\"$K_{eq}$\", \"$v$\"])"
   ]
  },
  {
   "cell_type": "code",
   "execution_count": 650,
   "id": "547db931-e727-4c7b-aa7f-a09b80fee71e",
   "metadata": {},
   "outputs": [
    {
     "data": {
      "text/plain": [
       "array([0, 1, 4, 6, 7, 8])"
      ]
     },
     "execution_count": 650,
     "metadata": {},
     "output_type": "execute_result"
    }
   ],
   "source": [
    "# set up variables\n",
    "\n",
    "S = np.array(Sd)\n",
    "S = np.multiply(S, vE/np.abs(vE)).astype(np.int8)\n",
    "S[S == -0] = 0\n",
    "S_s = -np.copy(S)\n",
    "S_p = np.copy(S) #reverse neg sign\n",
    "S_s[S > 0] = 0\n",
    "S_p[S < 0] = 0\n",
    "\n",
    "S_s_nz = np.array(S_s.nonzero())\n",
    "S_p_nz = np.array(S_p.nonzero())\n",
    "\n",
    "# first coordinate, e.g. metabolites w nonzero substrate/product coeff across all reactions. also works as substrate indices. \n",
    "met_s_nz = S_s_nz[0, :]\n",
    "met_p_nz = S_p_nz[0, :]\n",
    "\n",
    "# second coordinate, e.g. reactions indices for those concentrations. works to index substrates as well. \n",
    "rxn_s_nz = S_s_nz[1, :]   \n",
    "rxn_p_nz = S_p_nz[1, :]\n",
    "\n",
    "# one dim is always 2\n",
    "n_Km_s = np.max(met_s_nz.shape) \n",
    "n_Km_p = np.max(met_p_nz.shape)\n",
    "\n",
    "c = cp.Variable(n_met)\n",
    "Km_s = cp.Variable(n_Km_s)\n",
    "Km_p = cp.Variable(n_Km_p)\n",
    "\n",
    "cfwd = cp.Variable(n_rxn)\n",
    "crev = cp.Variable(n_rxn)\n",
    "\n",
    "# define Km positions by nonzero S matrix concentrations\n",
    "y_s = c[met_s_nz] - Km_s\n",
    "y_p = c[met_p_nz] - Km_p\n",
    "\n",
    "# index \n",
    "met_s_nz"
   ]
  },
  {
   "cell_type": "code",
   "execution_count": 651,
   "id": "e35cbcbb-7059-41e5-968a-d8997259e1d0",
   "metadata": {},
   "outputs": [],
   "source": [
    "# number of saturation terms for sub, prod\n",
    "n_alpha = np.sum(np.power(2, S_s.sum(axis=0)) - 1)\n",
    "n_beta = np.sum(np.power(2, S_p.sum(axis=0)) - 1)\n",
    "\n",
    "# saturation matrix setup\n",
    "C_alpha = np.zeros([n_alpha, len(met_s_nz)])\n",
    "C_beta = np.zeros([n_beta, len(met_p_nz)])\n",
    "\n",
    "# to separate different reactions saturation terms. \n",
    "d_alpha = np.zeros(n_alpha, dtype=np.int8)\n",
    "d_beta = np.zeros(n_beta, dtype=np.int8)\n",
    "\n",
    "\n",
    "idx = 0\n",
    "\n",
    "for i in range(n_rxn):\n",
    "    \n",
    "    # pick one reaction at a time (get substrate indicies)\n",
    "    idx_cur_rxn = rxn_s_nz == i\n",
    "    \n",
    "    # generates all binary permutations minus the first one since that would result in -1\n",
    "    sat_perm = np.array(list(itertools.product([0, 1], repeat=sum(idx_cur_rxn))))\n",
    "    sat_perm = sat_perm[1:, :]\n",
    "    \n",
    "    r, _ = sat_perm.shape\n",
    "    \n",
    "    # replace zeros with saturation matrix\n",
    "    C_alpha[idx:(idx+r), idx_cur_rxn] = sat_perm\n",
    "    d_alpha[idx:(idx+r)] = i\n",
    "        \n",
    "    idx += r # add row # \n",
    "\n",
    "idx = 0\n",
    "    \n",
    "for i in range(n_rxn):\n",
    "    idx_cur_rxn = rxn_p_nz == i\n",
    "    \n",
    "    sat_perm = np.array(list(itertools.product([0, 1], repeat=sum(idx_cur_rxn))))\n",
    "    sat_perm = sat_perm[1:, :]\n",
    "    \n",
    "    r, _ = sat_perm.shape\n",
    "    \n",
    "    C_beta[idx:(idx+r), idx_cur_rxn] = sat_perm\n",
    "    d_beta[idx:(idx+r)] = i\n",
    "        \n",
    "    idx += r # add row # "
   ]
  },
  {
   "cell_type": "code",
   "execution_count": 652,
   "id": "e17e7a68-bcc4-4107-9abd-bc739f79b1ee",
   "metadata": {},
   "outputs": [
    {
     "data": {
      "text/plain": [
       "array([[0., 1., 0., 0., 0., 0.],\n",
       "       [1., 0., 0., 0., 0., 0.],\n",
       "       [1., 1., 0., 0., 0., 0.],\n",
       "       [0., 0., 1., 0., 0., 0.],\n",
       "       [0., 0., 0., 0., 0., 1.],\n",
       "       [0., 0., 0., 0., 1., 0.],\n",
       "       [0., 0., 0., 0., 1., 1.],\n",
       "       [0., 0., 0., 1., 0., 0.]])"
      ]
     },
     "execution_count": 652,
     "metadata": {},
     "output_type": "execute_result"
    }
   ],
   "source": [
    "C_alpha"
   ]
  },
  {
   "cell_type": "code",
   "execution_count": 653,
   "id": "9b1839b5-d544-44b6-96dc-3bbf1d217f35",
   "metadata": {},
   "outputs": [
    {
     "data": {
      "text/plain": [
       "[Expression(AFFINE, UNKNOWN, (12,)),\n",
       " Expression(AFFINE, UNKNOWN, (6,)),\n",
       " Expression(AFFINE, UNKNOWN, (8,)),\n",
       " Expression(AFFINE, UNKNOWN, (4,))]"
      ]
     },
     "execution_count": 653,
     "metadata": {},
     "output_type": "execute_result"
    }
   ],
   "source": [
    "n_lse_terms = np.max(np.power(2, S_s.sum(axis=0)) +  np.power(2, S_p.sum(axis=0)) - 2)\n",
    "LSE_expr = []\n",
    "\n",
    "for i in range(n_rxn):\n",
    "    # sum terms are separate in logsumexp. one per saturation term (row in C_alpha, C_beta)\n",
    "    n_term_s = np.sum(d_alpha == i) \n",
    "    n_term_p = np.sum(d_beta == i)\n",
    "    n_term = n_term_s + n_term_p\n",
    "    \n",
    "    Km_s_idx = np.nonzero(S_s_nz[1, :] == i)\n",
    "    S_s_idx = S_s_nz[0, S_s_nz[1, :] == i] # negate -1 entries\n",
    "    \n",
    "    Km_p_idx = np.nonzero(S_p_nz[1, :] == i)\n",
    "    S_p_idx = S_p_nz[0, S_p_nz[1, :] == i]\n",
    "    \n",
    "    LSE_expr.append(cp.hstack( [ lvE[i] + (C_alpha @ y_s)[d_alpha == i] - cp.multiply(np.ones(n_term_s), -S.T[i, S_s_idx] @ y_s[Km_s_idx]) - cfwd[i],  \n",
    "                                 lvE[i] + (C_beta @ y_p)[d_beta == i] - cp.multiply(np.ones(n_term_p), -S.T[i, S_s_idx] @ y_s[Km_s_idx]) - cfwd[i],\n",
    "                                 lvE[i] + 0 - cp.multiply(np.ones(1), -S.T[i, S_s_idx] @ y_s[Km_s_idx])  - cfwd[i],\n",
    "                                 cp.multiply(np.ones(1), S.T[i, S_p_idx] @ y_p[Km_p_idx])  + crev[i]\n",
    "                                 - cp.multiply(np.ones(1), -S.T[i, S_s_idx] @ y_s[Km_s_idx])  - cfwd[i]\n",
    "                                 #-1*np.ones(n_lse_terms - n_term + 1) \n",
    "                               ]\n",
    "                             )\n",
    "                   )  # remove +1 here, could also have cfwd outside objec. \n",
    "    \n",
    "#LSE_expr = cp.vstack(LSE_expr)\n",
    "LSE_expr"
   ]
  },
  {
   "cell_type": "code",
   "execution_count": 654,
   "id": "0ea14434-058e-444b-90e8-3d150362571f",
   "metadata": {},
   "outputs": [],
   "source": [
    "l = 0.0000001\n",
    "e = 0.00001\n",
    "f = 0.0000001\n",
    "reg =  cp.sum(cp.hstack([cfwd, crev, c])) + cp.sum(cp.hstack([-Km_s, -Km_p]))# regularization\n",
    "reg2 = cp.norm1(cp.hstack([cfwd, crev, c])) + cp.norm1(cp.hstack([-Km_s, -Km_p]))# regularization\n",
    "reg3 = cp.sum(cp.huber(cp.hstack([y_s, y_p]), 1))\n",
    "#reg3 = cp.norm1(cp.hstack([y_s, y_p])) # take a look at this\n",
    "\n",
    "loss = 0\n",
    "for i in range(n_rxn):\n",
    "    loss += cp.norm2(cp.pos(cp.log_sum_exp(LSE_expr[i])))\n",
    "loss += l * reg \n",
    "loss += e * reg2\n",
    "loss += f * reg3\n",
    "# "
   ]
  },
  {
   "cell_type": "code",
   "execution_count": 655,
   "id": "85586d27-113e-4b95-8d70-7dfd2abc644c",
   "metadata": {},
   "outputs": [],
   "source": [
    "haldane = []\n",
    "fwd_flux = []\n",
    "\n",
    "for i, r in enumerate(S.T):\n",
    "    Km_s_idx = np.nonzero(S_s_nz[1, :] == i)\n",
    "    S_s_idx = S_s_nz[0, S_s_nz[1, :] == i] # negate -1 entries\n",
    "    \n",
    "    Km_p_idx = np.nonzero(S_p_nz[1, :] == i)\n",
    "    S_p_idx = S_p_nz[0, S_p_nz[1, :] == i]\n",
    "    \n",
    "    haldane.append(K_eq[i] == cfwd[i] - crev[i] + r[S_p_idx] @ Km_p[Km_p_idx] - (-r[S_s_idx]) @ Km_s[Km_s_idx])  # add minus since s matrix has minus\n",
    "    fwd_flux.append(cfwd[i] + (-r[S_s_idx]) @ y_s[Km_s_idx] - (crev[i] + r[S_p_idx] @ y_p[Km_p_idx])  - (lvE[i])  >= 0)  # add minus since s matrix has minus"
   ]
  },
  {
   "cell_type": "code",
   "execution_count": 656,
   "id": "a77dbaef-1995-4496-a867-6891b901e35f",
   "metadata": {},
   "outputs": [],
   "source": [
    "constr = [cp.hstack([cfwd, crev, c, Km_s, Km_p]) >= -12,\n",
    "          cp.hstack([cfwd, crev, c, Km_s, Km_p]) <= 12, cfwd[0] == 7,\n",
    "          ]\n",
    "\n",
    "constr.extend(haldane)\n",
    "constr.extend(fwd_flux)\n",
    "constr.extend([S.T @ c <= K_eq])"
   ]
  },
  {
   "cell_type": "code",
   "execution_count": 657,
   "id": "b434c2b0-a4d0-43f1-ad56-d98882abafa6",
   "metadata": {},
   "outputs": [
    {
     "name": "stdout",
     "output_type": "stream",
     "text": [
      "===============================================================================\n",
      "                                     CVXPY                                     \n",
      "                                     v1.3.0                                    \n",
      "===============================================================================\n",
      "(CVXPY) Mar 13 08:19:02 PM: Your problem has 31 variables, 12 constraints, and 0 parameters.\n",
      "(CVXPY) Mar 13 08:19:02 PM: It is compliant with the following grammars: DCP, DQCP\n",
      "(CVXPY) Mar 13 08:19:02 PM: (If you need to solve this problem multiple times, but with different data, consider using parameters.)\n",
      "(CVXPY) Mar 13 08:19:02 PM: CVXPY will first compile your problem; then, it will invoke a numerical solver to obtain a solution.\n",
      "-------------------------------------------------------------------------------\n",
      "                                  Compilation                                  \n",
      "-------------------------------------------------------------------------------\n",
      "(CVXPY) Mar 13 08:19:02 PM: Compiling problem (target solver=ECOS).\n",
      "(CVXPY) Mar 13 08:19:02 PM: Reduction chain: Dcp2Cone -> CvxAttr2Constr -> ConeMatrixStuffing -> ECOS\n",
      "(CVXPY) Mar 13 08:19:02 PM: Applying reduction Dcp2Cone\n",
      "(CVXPY) Mar 13 08:19:02 PM: Applying reduction CvxAttr2Constr\n",
      "(CVXPY) Mar 13 08:19:02 PM: Applying reduction ConeMatrixStuffing\n",
      "(CVXPY) Mar 13 08:19:02 PM: Applying reduction ECOS\n",
      "(CVXPY) Mar 13 08:19:02 PM: Finished problem compilation (took 5.927e-02 seconds).\n",
      "-------------------------------------------------------------------------------\n",
      "                                Numerical solver                               \n",
      "-------------------------------------------------------------------------------\n",
      "(CVXPY) Mar 13 08:19:02 PM: Invoking solver ECOS  to obtain a solution.\n",
      "-------------------------------------------------------------------------------\n",
      "                                    Summary                                    \n",
      "-------------------------------------------------------------------------------\n",
      "(CVXPY) Mar 13 08:19:02 PM: Problem status: optimal\n",
      "(CVXPY) Mar 13 08:19:02 PM: Optimal value: 4.814e-04\n",
      "(CVXPY) Mar 13 08:19:02 PM: Compilation took 5.927e-02 seconds\n",
      "(CVXPY) Mar 13 08:19:02 PM: Solver (including time spent in interface) took 2.656e-03 seconds\n"
     ]
    },
    {
     "data": {
      "text/plain": [
       "0.0004813779651213706"
      ]
     },
     "execution_count": 657,
     "metadata": {},
     "output_type": "execute_result"
    }
   ],
   "source": [
    "p = cp.Problem(cp.Minimize(loss), constr)\n",
    "p.solve(verbose=True, solver=cp.ECOS)"
   ]
  },
  {
   "cell_type": "markdown",
   "id": "5b907a59-21fe-4dd1-9e19-fecf7bb1b1e5",
   "metadata": {},
   "source": [
    "# Checking correctness of result"
   ]
  },
  {
   "cell_type": "code",
   "execution_count": 658,
   "id": "168df7be-aa37-489b-96bd-70b211f45389",
   "metadata": {},
   "outputs": [
    {
     "data": {
      "text/plain": [
       "array([7.        , 3.25581073, 4.47957308, 2.99585499])"
      ]
     },
     "execution_count": 658,
     "metadata": {},
     "output_type": "execute_result"
    }
   ],
   "source": [
    "cfwd.value"
   ]
  },
  {
   "cell_type": "code",
   "execution_count": 659,
   "id": "969fd0d0-cb84-4a85-abf9-8e45fac0190e",
   "metadata": {},
   "outputs": [
    {
     "data": {
      "text/plain": [
       "array([-1.92262961e-05,  5.59492674e+00,  2.08075612e+00,  4.27516090e-04])"
      ]
     },
     "execution_count": 659,
     "metadata": {},
     "output_type": "execute_result"
    }
   ],
   "source": [
    "crev.value"
   ]
  },
  {
   "cell_type": "code",
   "execution_count": 660,
   "id": "2c06bd43-858a-4a80-87b4-e906682ea9d2",
   "metadata": {},
   "outputs": [
    {
     "data": {
      "text/plain": [
       "array([ 2.22231156e-07,  8.03083688e-06, -3.83222023e-06, -3.83222023e-06,\n",
       "        2.19608329e+00, -9.69417048e+00, -1.59723269e-05,  7.35157061e-01,\n",
       "        7.35157061e-01])"
      ]
     },
     "execution_count": 660,
     "metadata": {},
     "output_type": "execute_result"
    }
   ],
   "source": [
    "c.value"
   ]
  },
  {
   "cell_type": "code",
   "execution_count": 661,
   "id": "41df70c2-16d4-4cb1-982c-24b36295a53b",
   "metadata": {},
   "outputs": [
    {
     "data": {
      "text/plain": [
       "array([-7.44709066e-01, -7.44465242e-01,  2.11470154e-05, -1.21641989e-08,\n",
       "        9.72160120e-07,  9.72160120e-07])"
      ]
     },
     "execution_count": 661,
     "metadata": {},
     "output_type": "execute_result"
    }
   ],
   "source": [
    "Km_s.value"
   ]
  },
  {
   "cell_type": "code",
   "execution_count": 662,
   "id": "d2553824-cf7e-4608-9562-48bba6cc213c",
   "metadata": {},
   "outputs": [
    {
     "data": {
      "text/plain": [
       "array([-2.27848459e-05,  4.67277371e-05,  4.67277371e-05,  2.70384610e-03,\n",
       "       -6.55534788e+00, -7.29129636e-01, -4.24039958e-05, -2.27853236e-05])"
      ]
     },
     "execution_count": 662,
     "metadata": {},
     "output_type": "execute_result"
    }
   ],
   "source": [
    "Km_p.value"
   ]
  },
  {
   "cell_type": "markdown",
   "id": "2db77294-ce0c-4874-9ac5-954b940ac8d2",
   "metadata": {},
   "source": [
    "## Checking Haldane and fwd/rev flux ratios are satisfied"
   ]
  },
  {
   "cell_type": "code",
   "execution_count": 663,
   "id": "7bf9b6c8-032f-45db-a73c-188cfbb03736",
   "metadata": {},
   "outputs": [
    {
     "name": "stdout",
     "output_type": "stream",
     "text": [
      "haldane -1.9953816376983013e-10\n",
      "forward 6.295923461635894\n",
      "haldane 2.0899371122595767e-10\n",
      "forward 2.995742290234367\n",
      "haldane -5.63642466033798e-11\n",
      "forward 3.86909931448537\n",
      "haldane -5.325162533154071e-11\n",
      "forward 11.960452349894126\n"
     ]
    }
   ],
   "source": [
    "for i, r in enumerate(S.T):\n",
    "    Km_s_idx = np.nonzero(S_s_nz[1, :] == i)\n",
    "    S_s_idx = S_s_nz[0, S_s_nz[1, :] == i] # negate -1 entries\n",
    "    \n",
    "    Km_p_idx = np.nonzero(S_p_nz[1, :] == i)\n",
    "    S_p_idx = S_p_nz[0, S_p_nz[1, :] == i]\n",
    "    \n",
    "    print(\"haldane\", cfwd.value[i] - crev.value[i] + r[S_p_idx] @ Km_p.value[Km_p_idx] - (-r[S_s_idx]) @ Km_s.value[Km_s_idx] - K_eq[i] )\n",
    "    # print(cfwd.value[i], (-r[S_s_idx]), y_s.value[Km_s_idx], crev.value[i], r[S_p_idx],  y_p.value[Km_p_idx])\n",
    "    print(\"forward\", cfwd.value[i] + (-r[S_s_idx]) @ y_s.value[Km_s_idx] - (crev.value[i] + r[S_p_idx] @ y_p.value[Km_p_idx]))"
   ]
  },
  {
   "cell_type": "code",
   "execution_count": 664,
   "id": "7dc38b25-e201-4b6b-a275-25561489b194",
   "metadata": {},
   "outputs": [
    {
     "data": {
      "text/plain": [
       "array([ 7.44709289e-01,  7.44473273e-01,  2.19606214e+00, -1.59601627e-05,\n",
       "        7.35156089e-01,  7.35156089e-01])"
      ]
     },
     "execution_count": 664,
     "metadata": {},
     "output_type": "execute_result"
    }
   ],
   "source": [
    "y_s.value"
   ]
  },
  {
   "cell_type": "code",
   "execution_count": 665,
   "id": "7d6bf207-f672-4a6f-a191-cc6f0eb648f6",
   "metadata": {},
   "outputs": [
    {
     "data": {
      "text/plain": [
       "array([ 2.30070771e-05, -5.05599573e-05, -5.05599573e-05,  2.19337945e+00,\n",
       "       -3.13882259e+00, -8.96504084e+00,  2.64316689e-05,  6.81299667e-06])"
      ]
     },
     "execution_count": 665,
     "metadata": {},
     "output_type": "execute_result"
    }
   ],
   "source": [
    "y_p.value"
   ]
  },
  {
   "cell_type": "markdown",
   "id": "6bc8db34-d4c9-4790-bebb-9dbcaa4bb578",
   "metadata": {},
   "source": [
    "## Checking that objective has been minimized."
   ]
  },
  {
   "cell_type": "markdown",
   "id": "63d99f85-252b-4b52-8f21-383c88191a6f",
   "metadata": {},
   "source": [
    "Need to rearrange terms."
   ]
  },
  {
   "cell_type": "code",
   "execution_count": 666,
   "id": "b3655804-a36b-45ea-a80d-275306b72dfe",
   "metadata": {},
   "outputs": [
    {
     "name": "stdout",
     "output_type": "stream",
     "text": [
      "[[ 84.60045977  10.25668824  18.68741751   9.99986912]\n",
      " [100.          20.          30.          10.        ]]\n"
     ]
    }
   ],
   "source": [
    "LSE_expr = []\n",
    "\n",
    "for i in range(n_rxn):\n",
    "    # sum terms are separate in logsumexp. one per saturation term (row in C_alpha, C_beta)\n",
    "    n_term_s = np.sum(d_alpha == i) \n",
    "    n_term_p = np.sum(d_beta == i)\n",
    "    n_term = n_term_s + n_term_p\n",
    "    \n",
    "    Km_s_idx = np.nonzero(S_s_nz[1, :] == i)\n",
    "    S_s_idx = S_s_nz[0, S_s_nz[1, :] == i] # negate -1 entries\n",
    "    \n",
    "    Km_p_idx = np.nonzero(S_p_nz[1, :] == i)\n",
    "    S_p_idx = S_p_nz[0, S_p_nz[1, :] == i]\n",
    "    \n",
    "    \n",
    "    LSE_expr.append(           [ (C_alpha @ y_s.value)[d_alpha == i] - np.multiply(np.ones(n_term_s), -S.T[i, S_s_idx] @ y_s.value[Km_s_idx]) - cfwd.value[i],  \n",
    "                                 (C_beta @ y_p.value)[d_beta == i] - np.multiply(np.ones(n_term_p), -S.T[i, S_s_idx] @ y_s.value[Km_s_idx]) - cfwd.value[i],\n",
    "                                 0 - np.multiply(np.ones(1), -S.T[i, S_s_idx] @ y_s.value[Km_s_idx])  - cfwd.value[i],\n",
    "                                 np.multiply(np.ones(1), S.T[i, S_p_idx] @ y_p.value[Km_p_idx])  + crev.value[i]\n",
    "                                 - np.multiply(np.ones(1), -S.T[i, S_s_idx] @ y_s.value[Km_s_idx])  - cfwd.value[i]\n",
    "                                 #-1*np.ones(n_lse_terms - n_term + 1) \n",
    "                                 #-1*np.ones(n_lse_terms - n_term + 1) \n",
    "                               ]\n",
    "                   )\n",
    "    \n",
    "\n",
    "est = np.zeros(4)    \n",
    "\n",
    "for i, rxn in enumerate(LSE_expr):\n",
    "    s = 0\n",
    "    \n",
    "    for term in rxn:\n",
    "        s += np.sum(np.exp(term))\n",
    "        \n",
    "    est[i] = np.log(s)\n",
    "    \n",
    "\n",
    "# est is obj. \n",
    "print(np.array([np.exp(-est),np.exp(lvE)]))"
   ]
  },
  {
   "cell_type": "markdown",
   "id": "d282711e-4f51-401b-b575-0e1ba82d7150",
   "metadata": {},
   "source": [
    "## How closely does the objective match our target kcats?"
   ]
  },
  {
   "cell_type": "code",
   "execution_count": 667,
   "id": "b87caa09-14b9-44b4-b4da-647b62e5f898",
   "metadata": {},
   "outputs": [
    {
     "name": "stdout",
     "output_type": "stream",
     "text": [
      "[[ 84.60045977  10.25668824  18.68741751   9.99986912]\n",
      " [100.          20.          30.          10.        ]]\n"
     ]
    }
   ],
   "source": [
    "print(np.array([np.exp(-est),np.exp(lvE)]))"
   ]
  },
  {
   "cell_type": "markdown",
   "id": "88c231fb-31bf-4347-ad2d-8b9495c745d9",
   "metadata": {},
   "source": [
    "Remarkable. "
   ]
  },
  {
   "cell_type": "markdown",
   "id": "87868215-a91b-442e-b3f3-13121677d5f0",
   "metadata": {},
   "source": [
    "# What do fluxes with reverse flow look like?"
   ]
  },
  {
   "cell_type": "code",
   "execution_count": 668,
   "id": "f148ad8b-a086-440b-9cf3-304bc244e77b",
   "metadata": {},
   "outputs": [],
   "source": [
    "sat_expr = []\n",
    "fwd_sat = np.zeros(n_rxn)\n",
    "back_sat = np.zeros(n_rxn)\n",
    "sat = np.zeros(n_rxn)\n",
    "\n",
    "for i in range(n_rxn):\n",
    "    # sum terms are separate in logsumexp. one per saturation term (row in C_alpha, C_beta)\n",
    "    n_term_s = np.sum(d_alpha == i) \n",
    "    n_term_p = np.sum(d_beta == i)\n",
    "    n_term = n_term_s + n_term_p\n",
    "    \n",
    "    \n",
    "    Km_s_idx = np.nonzero(S_s_nz[1, :] == i)\n",
    "    S_s_idx = S_s_nz[0, S_s_nz[1, :] == i] # negate -1 entries\n",
    "    \n",
    "    Km_p_idx = np.nonzero(S_p_nz[1, :] == i)\n",
    "    S_p_idx = S_p_nz[0, S_p_nz[1, :] == i]\n",
    "    \n",
    "    #S_s_idx = S_s_nz[0, S_s_nz[1, :] == i]\n",
    "    \n",
    "    sat_expr.append(           [ (C_alpha @ y_s.value)[d_alpha == i] ,  \n",
    "                                 (C_beta @ y_p.value)[d_beta == i],\n",
    "                                 0,\n",
    "                                 #-1*np.ones(n_lse_terms - n_term + 1) \n",
    "                               ]\n",
    "                   )\n",
    "    fwd_sat[i] = (np.exp(-S.T[i, S_s_idx] @ y_s.value[Km_s_idx])) # + cfwd.value[i]\n",
    "    back_sat[i] = (np.exp(S.T[i, S_p_idx] @ y_p.value[Km_p_idx])) # + cfwd.value[i]\n",
    "    \n",
    "    \n",
    "\n",
    "for i, rxn in enumerate(sat_expr):\n",
    "    s = 0\n",
    "    \n",
    "    for term in rxn:\n",
    "        s += np.sum(np.exp(term))\n",
    "        \n",
    "    sat[i] = (s)"
   ]
  },
  {
   "cell_type": "code",
   "execution_count": 669,
   "id": "2ec2a988-ad4a-45a1-afda-4006da2b2264",
   "metadata": {},
   "outputs": [
    {
     "data": {
      "text/plain": [
       "array([0.09140335, 0.81160617, 0.34742853, 0.49996406])"
      ]
     },
     "execution_count": 669,
     "metadata": {},
     "output_type": "execute_result"
    }
   ],
   "source": [
    "fwd_sat/sat"
   ]
  },
  {
   "cell_type": "code",
   "execution_count": 670,
   "id": "52799b3c-90c6-49b3-b13b-ccf121d34636",
   "metadata": {},
   "outputs": [
    {
     "data": {
      "text/plain": [
       "array([1.84819175e-01, 3.91242311e-03, 7.98601209e-02, 6.38966298e-05])"
      ]
     },
     "execution_count": 670,
     "metadata": {},
     "output_type": "execute_result"
    }
   ],
   "source": [
    "back_sat/sat"
   ]
  },
  {
   "cell_type": "code",
   "execution_count": 671,
   "id": "01dc4162-6b77-4dd2-9bef-333d4f05aed6",
   "metadata": {},
   "outputs": [
    {
     "data": {
      "text/plain": [
       "array([100.23594632,  21.05358085,  30.64215805,  10.00050835])"
      ]
     },
     "execution_count": 671,
     "metadata": {},
     "output_type": "execute_result"
    }
   ],
   "source": [
    "np.exp(cfwd.value) * fwd_sat/sat "
   ]
  },
  {
   "cell_type": "code",
   "execution_count": 672,
   "id": "a721b1a5-a03f-4cb7-a96a-1959c053bf39",
   "metadata": {},
   "outputs": [
    {
     "data": {
      "text/plain": [
       "array([100.05113069,  20.00091235,  30.00243667,  10.00044442])"
      ]
     },
     "execution_count": 672,
     "metadata": {},
     "output_type": "execute_result"
    }
   ],
   "source": [
    "np.exp(cfwd.value) * fwd_sat/sat - np.exp(crev.value) * back_sat/sat"
   ]
  },
  {
   "cell_type": "code",
   "execution_count": 673,
   "id": "e606bbac-e82b-4853-a474-d6dde1be1ac5",
   "metadata": {},
   "outputs": [
    {
     "data": {
      "text/plain": [
       "array([1.84815621e-01, 1.05266850e+00, 6.39721381e-01, 6.39239525e-05])"
      ]
     },
     "execution_count": 673,
     "metadata": {},
     "output_type": "execute_result"
    }
   ],
   "source": [
    "np.exp(crev.value) * back_sat/sat"
   ]
  },
  {
   "cell_type": "code",
   "execution_count": 674,
   "id": "6bcd27a4-3909-4845-b18a-ddcd03197ca7",
   "metadata": {},
   "outputs": [
    {
     "name": "stdout",
     "output_type": "stream",
     "text": [
      "Substrate Km: ['0.475', '0.475', '1.000', '1.000', '1.000', '1.000']\n",
      "Product Km: ['1.000', '1.000', '1.000', '1.003', '0.001', '0.482', '1.000', '1.000']\n",
      "Fwd kcat: ['1096.633', '25.941', '88.197', '20.002']\n",
      "Rev kcat: ['1.000', '269.058', '8.011', '1.000']\n",
      "Concentrations: ['1.000', '1.000', '1.000', '1.000', '8.990', '0.000', '1.000', '2.086', '2.086']\n"
     ]
    }
   ],
   "source": [
    "print('Substrate Km:', [f'{val:.3f}' for val in np.exp(Km_s.value)])\n",
    "print('Product Km:', [f'{val:.3f}' for val in np.exp(Km_p.value)])\n",
    "print('Fwd kcat:', [f'{val:.3f}' for val in np.exp(cfwd.value)])\n",
    "print('Rev kcat:', [f'{val:.3f}' for val in np.exp(crev.value)])\n",
    "print('Concentrations:', [f'{val:.3f}' for val in np.exp(c.value)])"
   ]
  },
  {
   "cell_type": "code",
   "execution_count": 675,
   "id": "760251b4-5b1d-47dc-8255-acacc9120c71",
   "metadata": {},
   "outputs": [
    {
     "data": {
      "text/html": [
       "<div>\n",
       "<style scoped>\n",
       "    .dataframe tbody tr th:only-of-type {\n",
       "        vertical-align: middle;\n",
       "    }\n",
       "\n",
       "    .dataframe tbody tr th {\n",
       "        vertical-align: top;\n",
       "    }\n",
       "\n",
       "    .dataframe thead th {\n",
       "        text-align: right;\n",
       "    }\n",
       "</style>\n",
       "<table border=\"1\" class=\"dataframe\">\n",
       "  <thead>\n",
       "    <tr style=\"text-align: right;\">\n",
       "      <th></th>\n",
       "      <th>Reaction</th>\n",
       "      <th>variable</th>\n",
       "      <th>value</th>\n",
       "    </tr>\n",
       "  </thead>\n",
       "  <tbody>\n",
       "    <tr>\n",
       "      <th>0</th>\n",
       "      <td>6PFRUCTPHOS-RXN</td>\n",
       "      <td>True fluxes</td>\n",
       "      <td>100.000000</td>\n",
       "    </tr>\n",
       "    <tr>\n",
       "      <th>1</th>\n",
       "      <td>F16ALDOLASE-RXN</td>\n",
       "      <td>True fluxes</td>\n",
       "      <td>20.000000</td>\n",
       "    </tr>\n",
       "    <tr>\n",
       "      <th>2</th>\n",
       "      <td>2TRANSKETO-RXN</td>\n",
       "      <td>True fluxes</td>\n",
       "      <td>30.000000</td>\n",
       "    </tr>\n",
       "    <tr>\n",
       "      <th>3</th>\n",
       "      <td>TRIOSEPISOMERIZATION-RXN</td>\n",
       "      <td>True fluxes</td>\n",
       "      <td>10.000000</td>\n",
       "    </tr>\n",
       "    <tr>\n",
       "      <th>4</th>\n",
       "      <td>6PFRUCTPHOS-RXN</td>\n",
       "      <td>Estimated fluxes</td>\n",
       "      <td>100.051131</td>\n",
       "    </tr>\n",
       "    <tr>\n",
       "      <th>5</th>\n",
       "      <td>F16ALDOLASE-RXN</td>\n",
       "      <td>Estimated fluxes</td>\n",
       "      <td>20.000912</td>\n",
       "    </tr>\n",
       "    <tr>\n",
       "      <th>6</th>\n",
       "      <td>2TRANSKETO-RXN</td>\n",
       "      <td>Estimated fluxes</td>\n",
       "      <td>30.002437</td>\n",
       "    </tr>\n",
       "    <tr>\n",
       "      <th>7</th>\n",
       "      <td>TRIOSEPISOMERIZATION-RXN</td>\n",
       "      <td>Estimated fluxes</td>\n",
       "      <td>10.000444</td>\n",
       "    </tr>\n",
       "  </tbody>\n",
       "</table>\n",
       "</div>"
      ],
      "text/plain": [
       "                   Reaction          variable       value\n",
       "0           6PFRUCTPHOS-RXN       True fluxes  100.000000\n",
       "1           F16ALDOLASE-RXN       True fluxes   20.000000\n",
       "2            2TRANSKETO-RXN       True fluxes   30.000000\n",
       "3  TRIOSEPISOMERIZATION-RXN       True fluxes   10.000000\n",
       "4           6PFRUCTPHOS-RXN  Estimated fluxes  100.051131\n",
       "5           F16ALDOLASE-RXN  Estimated fluxes   20.000912\n",
       "6            2TRANSKETO-RXN  Estimated fluxes   30.002437\n",
       "7  TRIOSEPISOMERIZATION-RXN  Estimated fluxes   10.000444"
      ]
     },
     "execution_count": 675,
     "metadata": {},
     "output_type": "execute_result"
    }
   ],
   "source": [
    "reconst_df = pd.DataFrame({\"Reaction\": Sd.columns, \"True fluxes\": np.abs(vE), \"Estimated fluxes\": np.exp(cfwd.value) * fwd_sat/sat - np.exp(crev.value) * back_sat/sat})\n",
    "reconst_df = reconst_df.melt(id_vars=\"Reaction\")\n",
    "reconst_df"
   ]
  },
  {
   "cell_type": "code",
   "execution_count": 676,
   "id": "ccb402e5-4c55-4e57-8b6c-6c6eb77452d8",
   "metadata": {},
   "outputs": [
    {
     "data": {
      "image/png": "[encoded data removed]",
      "text/plain": [
       "<Figure size 1080.78x360 with 1 Axes>"
      ]
     },
     "metadata": {},
     "output_type": "display_data"
    }
   ],
   "source": [
    "sns.catplot(y=\"Reaction\", hue=\"variable\", x=\"value\", data=reconst_df, kind=\"bar\", aspect=2.5)\n",
    "plt.savefig(\"notebooks/fbagd/figures/reconstruction.png\", dpi=300)"
   ]
  },
  {
   "cell_type": "code",
   "execution_count": 677,
   "id": "3ffdf47a-d0f6-4e70-83c5-f46f50562a94",
   "metadata": {},
   "outputs": [
    {
     "data": {
      "text/plain": [
       "array([100.05113069,  20.00091235,  30.00243667,  10.00044442])"
      ]
     },
     "execution_count": 677,
     "metadata": {},
     "output_type": "execute_result"
    }
   ],
   "source": [
    "np.exp(cfwd.value) * fwd_sat/sat - np.exp(crev.value) * back_sat/sat"
   ]
  },
  {
   "cell_type": "markdown",
   "id": "6f40a66b-cdad-426d-9584-22647d984c5b",
   "metadata": {},
   "source": [
    "# Including inhibition"
   ]
  },
  {
   "cell_type": "markdown",
   "id": "af4bef04-60ec-4e63-af96-b1db319e0a3c",
   "metadata": {},
   "source": [
    "## I'm excluding some of the first operations as they are the same. "
   ]
  },
  {
   "cell_type": "code",
   "execution_count": 678,
   "id": "f76ea927-4576-4eb5-b24e-c3dcdc934ff2",
   "metadata": {
    "tags": []
   },
   "outputs": [
    {
     "data": {
      "text/html": [
       "<div>\n",
       "<style scoped>\n",
       "    .dataframe tbody tr th:only-of-type {\n",
       "        vertical-align: middle;\n",
       "    }\n",
       "\n",
       "    .dataframe tbody tr th {\n",
       "        vertical-align: top;\n",
       "    }\n",
       "\n",
       "    .dataframe thead th {\n",
       "        text-align: right;\n",
       "    }\n",
       "</style>\n",
       "<table border=\"1\" class=\"dataframe\">\n",
       "  <thead>\n",
       "    <tr style=\"text-align: right;\">\n",
       "      <th></th>\n",
       "      <th>6PFRUCTPHOS-RXN</th>\n",
       "      <th>F16ALDOLASE-RXN</th>\n",
       "      <th>2TRANSKETO-RXN</th>\n",
       "      <th>TRIOSEPISOMERIZATION-RXN</th>\n",
       "    </tr>\n",
       "  </thead>\n",
       "  <tbody>\n",
       "    <tr>\n",
       "      <th>FRUCTOSE-6P</th>\n",
       "      <td>-1</td>\n",
       "      <td>0</td>\n",
       "      <td>1</td>\n",
       "      <td>0</td>\n",
       "    </tr>\n",
       "    <tr>\n",
       "      <th>ATP</th>\n",
       "      <td>-1</td>\n",
       "      <td>0</td>\n",
       "      <td>0</td>\n",
       "      <td>0</td>\n",
       "    </tr>\n",
       "    <tr>\n",
       "      <th>PROTON</th>\n",
       "      <td>1</td>\n",
       "      <td>0</td>\n",
       "      <td>0</td>\n",
       "      <td>0</td>\n",
       "    </tr>\n",
       "    <tr>\n",
       "      <th>ADP</th>\n",
       "      <td>1</td>\n",
       "      <td>0</td>\n",
       "      <td>0</td>\n",
       "      <td>0</td>\n",
       "    </tr>\n",
       "    <tr>\n",
       "      <th>FRUCTOSE-16-DIPHOSPHATE</th>\n",
       "      <td>1</td>\n",
       "      <td>-1</td>\n",
       "      <td>0</td>\n",
       "      <td>0</td>\n",
       "    </tr>\n",
       "    <tr>\n",
       "      <th>DIHYDROXY-ACETONE-PHOSPHATE</th>\n",
       "      <td>0</td>\n",
       "      <td>1</td>\n",
       "      <td>0</td>\n",
       "      <td>1</td>\n",
       "    </tr>\n",
       "    <tr>\n",
       "      <th>GAP</th>\n",
       "      <td>0</td>\n",
       "      <td>1</td>\n",
       "      <td>1</td>\n",
       "      <td>-1</td>\n",
       "    </tr>\n",
       "    <tr>\n",
       "      <th>ERYTHROSE-4P</th>\n",
       "      <td>0</td>\n",
       "      <td>0</td>\n",
       "      <td>-1</td>\n",
       "      <td>0</td>\n",
       "    </tr>\n",
       "    <tr>\n",
       "      <th>XYLULOSE-5-PHOSPHATE</th>\n",
       "      <td>0</td>\n",
       "      <td>0</td>\n",
       "      <td>-1</td>\n",
       "      <td>0</td>\n",
       "    </tr>\n",
       "  </tbody>\n",
       "</table>\n",
       "</div>"
      ],
      "text/plain": [
       "                             6PFRUCTPHOS-RXN  F16ALDOLASE-RXN  2TRANSKETO-RXN  \\\n",
       "FRUCTOSE-6P                               -1                0               1   \n",
       "ATP                                       -1                0               0   \n",
       "PROTON                                     1                0               0   \n",
       "ADP                                        1                0               0   \n",
       "FRUCTOSE-16-DIPHOSPHATE                    1               -1               0   \n",
       "DIHYDROXY-ACETONE-PHOSPHATE                0                1               0   \n",
       "GAP                                        0                1               1   \n",
       "ERYTHROSE-4P                               0                0              -1   \n",
       "XYLULOSE-5-PHOSPHATE                       0                0              -1   \n",
       "\n",
       "                             TRIOSEPISOMERIZATION-RXN  \n",
       "FRUCTOSE-6P                                         0  \n",
       "ATP                                                 0  \n",
       "PROTON                                              0  \n",
       "ADP                                                 0  \n",
       "FRUCTOSE-16-DIPHOSPHATE                             0  \n",
       "DIHYDROXY-ACETONE-PHOSPHATE                         1  \n",
       "GAP                                                -1  \n",
       "ERYTHROSE-4P                                        0  \n",
       "XYLULOSE-5-PHOSPHATE                                0  "
      ]
     },
     "execution_count": 678,
     "metadata": {},
     "output_type": "execute_result"
    }
   ],
   "source": [
    "Sd"
   ]
  },
  {
   "cell_type": "markdown",
   "id": "59f138a7-df55-4436-8c87-9e799036d0e0",
   "metadata": {},
   "source": [
    "Adding regulation dict."
   ]
  },
  {
   "cell_type": "code",
   "execution_count": 679,
   "id": "760bee51-984c-4f98-91fd-788113ce0d86",
   "metadata": {},
   "outputs": [
    {
     "data": {
      "text/html": [
       "<div>\n",
       "<style scoped>\n",
       "    .dataframe tbody tr th:only-of-type {\n",
       "        vertical-align: middle;\n",
       "    }\n",
       "\n",
       "    .dataframe tbody tr th {\n",
       "        vertical-align: top;\n",
       "    }\n",
       "\n",
       "    .dataframe thead th {\n",
       "        text-align: right;\n",
       "    }\n",
       "</style>\n",
       "<table border=\"1\" class=\"dataframe\">\n",
       "  <thead>\n",
       "    <tr style=\"text-align: right;\">\n",
       "      <th></th>\n",
       "      <th>6PFRUCTPHOS-RXN</th>\n",
       "      <th>F16ALDOLASE-RXN</th>\n",
       "      <th>2TRANSKETO-RXN</th>\n",
       "      <th>TRIOSEPISOMERIZATION-RXN</th>\n",
       "    </tr>\n",
       "  </thead>\n",
       "  <tbody>\n",
       "    <tr>\n",
       "      <th>FRUCTOSE-6P</th>\n",
       "      <td>1</td>\n",
       "      <td>0</td>\n",
       "      <td>0</td>\n",
       "      <td>0</td>\n",
       "    </tr>\n",
       "    <tr>\n",
       "      <th>ATP</th>\n",
       "      <td>0</td>\n",
       "      <td>0</td>\n",
       "      <td>0</td>\n",
       "      <td>0</td>\n",
       "    </tr>\n",
       "    <tr>\n",
       "      <th>PROTON</th>\n",
       "      <td>0</td>\n",
       "      <td>0</td>\n",
       "      <td>0</td>\n",
       "      <td>0</td>\n",
       "    </tr>\n",
       "    <tr>\n",
       "      <th>ADP</th>\n",
       "      <td>1</td>\n",
       "      <td>0</td>\n",
       "      <td>0</td>\n",
       "      <td>0</td>\n",
       "    </tr>\n",
       "    <tr>\n",
       "      <th>FRUCTOSE-16-DIPHOSPHATE</th>\n",
       "      <td>0</td>\n",
       "      <td>0</td>\n",
       "      <td>0</td>\n",
       "      <td>0</td>\n",
       "    </tr>\n",
       "    <tr>\n",
       "      <th>DIHYDROXY-ACETONE-PHOSPHATE</th>\n",
       "      <td>0</td>\n",
       "      <td>0</td>\n",
       "      <td>0</td>\n",
       "      <td>0</td>\n",
       "    </tr>\n",
       "    <tr>\n",
       "      <th>GAP</th>\n",
       "      <td>0</td>\n",
       "      <td>0</td>\n",
       "      <td>0</td>\n",
       "      <td>0</td>\n",
       "    </tr>\n",
       "    <tr>\n",
       "      <th>ERYTHROSE-4P</th>\n",
       "      <td>0</td>\n",
       "      <td>0</td>\n",
       "      <td>0</td>\n",
       "      <td>0</td>\n",
       "    </tr>\n",
       "    <tr>\n",
       "      <th>XYLULOSE-5-PHOSPHATE</th>\n",
       "      <td>0</td>\n",
       "      <td>0</td>\n",
       "      <td>0</td>\n",
       "      <td>0</td>\n",
       "    </tr>\n",
       "  </tbody>\n",
       "</table>\n",
       "</div>"
      ],
      "text/plain": [
       "                             6PFRUCTPHOS-RXN  F16ALDOLASE-RXN  2TRANSKETO-RXN  \\\n",
       "FRUCTOSE-6P                                1                0               0   \n",
       "ATP                                        0                0               0   \n",
       "PROTON                                     0                0               0   \n",
       "ADP                                        1                0               0   \n",
       "FRUCTOSE-16-DIPHOSPHATE                    0                0               0   \n",
       "DIHYDROXY-ACETONE-PHOSPHATE                0                0               0   \n",
       "GAP                                        0                0               0   \n",
       "ERYTHROSE-4P                               0                0               0   \n",
       "XYLULOSE-5-PHOSPHATE                       0                0               0   \n",
       "\n",
       "                             TRIOSEPISOMERIZATION-RXN  \n",
       "FRUCTOSE-6P                                         0  \n",
       "ATP                                                 0  \n",
       "PROTON                                              0  \n",
       "ADP                                                 0  \n",
       "FRUCTOSE-16-DIPHOSPHATE                             0  \n",
       "DIHYDROXY-ACETONE-PHOSPHATE                         0  \n",
       "GAP                                                 0  \n",
       "ERYTHROSE-4P                                        0  \n",
       "XYLULOSE-5-PHOSPHATE                                0  "
      ]
     },
     "execution_count": 679,
     "metadata": {},
     "output_type": "execute_result"
    }
   ],
   "source": [
    "Sr_min = pd.DataFrame(regulation_dict).fillna(0).astype(np.int8)\n",
    "\n",
    "Sr = Sd.copy()\n",
    "Sr.loc[:,:] = 0\n",
    "Sr.loc[Sd.index.intersection(Sr_min.index), :] = Sr_min.loc[Sd.index.intersection(Sr_min.index), :]\n",
    "Sr"
   ]
  },
  {
   "cell_type": "code",
   "execution_count": 680,
   "id": "3665cfb1-83da-424a-be18-65cdd6769fff",
   "metadata": {},
   "outputs": [
    {
     "data": {
      "text/html": [
       "<div>\n",
       "<style scoped>\n",
       "    .dataframe tbody tr th:only-of-type {\n",
       "        vertical-align: middle;\n",
       "    }\n",
       "\n",
       "    .dataframe tbody tr th {\n",
       "        vertical-align: top;\n",
       "    }\n",
       "\n",
       "    .dataframe thead th {\n",
       "        text-align: right;\n",
       "    }\n",
       "</style>\n",
       "<table border=\"1\" class=\"dataframe\">\n",
       "  <thead>\n",
       "    <tr style=\"text-align: right;\">\n",
       "      <th></th>\n",
       "      <th>6PFRUCTPHOS-RXN</th>\n",
       "      <th>F16ALDOLASE-RXN</th>\n",
       "      <th>2TRANSKETO-RXN</th>\n",
       "      <th>TRIOSEPISOMERIZATION-RXN</th>\n",
       "    </tr>\n",
       "  </thead>\n",
       "  <tbody>\n",
       "    <tr>\n",
       "      <th>$K_{eq}$</th>\n",
       "      <td>8.491991</td>\n",
       "      <td>-8.894527</td>\n",
       "      <td>2.398769</td>\n",
       "      <td>2.266298</td>\n",
       "    </tr>\n",
       "    <tr>\n",
       "      <th>$v$</th>\n",
       "      <td>100.000000</td>\n",
       "      <td>20.000000</td>\n",
       "      <td>30.000000</td>\n",
       "      <td>10.000000</td>\n",
       "    </tr>\n",
       "  </tbody>\n",
       "</table>\n",
       "</div>"
      ],
      "text/plain": [
       "          6PFRUCTPHOS-RXN  F16ALDOLASE-RXN  2TRANSKETO-RXN  \\\n",
       "$K_{eq}$         8.491991        -8.894527        2.398769   \n",
       "$v$            100.000000        20.000000       30.000000   \n",
       "\n",
       "          TRIOSEPISOMERIZATION-RXN  \n",
       "$K_{eq}$                  2.266298  \n",
       "$v$                      10.000000  "
      ]
     },
     "execution_count": 680,
     "metadata": {},
     "output_type": "execute_result"
    }
   ],
   "source": [
    "pd.DataFrame(np.array([K_eq, vE]), columns=Sd.columns, index=[\"$K_{eq}$\", \"$v$\"])"
   ]
  },
  {
   "cell_type": "code",
   "execution_count": 681,
   "id": "5bf8a342-931a-45a0-b57b-d4f0c50c4e20",
   "metadata": {},
   "outputs": [],
   "source": [
    "# set up variables\n",
    "\n",
    "S = np.array(Sd)\n",
    "S = np.multiply(S, vE/np.abs(vE)).astype(np.int8)\n",
    "S[S == -0] = 0\n",
    "S_s = -np.copy(S)\n",
    "S_p = np.copy(S) #reverse neg sign\n",
    "S_s[S > 0] = 0\n",
    "S_p[S < 0] = 0\n",
    "S_i = np.copy(np.array(Sr) == -1)\n",
    "S_a = np.copy(np.array(Sr) == 1)\n",
    "\n",
    "\n",
    "S_s_nz = np.array(S_s.nonzero())\n",
    "S_p_nz = np.array(S_p.nonzero())\n",
    "S_i_nz = np.array(S_i.nonzero())\n",
    "S_a_nz = np.array(S_a.nonzero())\n",
    "\n",
    "# TODO Refactor all the below lines as one liners \n",
    "# first coordinate, e.g. metabolites w nonzero substrate/product coeff across all reactions. also works as substrate indices. \n",
    "met_s_nz = S_s_nz[0, :]\n",
    "met_p_nz = S_p_nz[0, :]\n",
    "met_i_nz = S_i_nz[0, :]\n",
    "met_a_nz = S_a_nz[0, :]\n",
    "\n",
    "# second coordinate, e.g. reactions indices for those concentrations. works to index substrates as well. \n",
    "rxn_s_nz = S_s_nz[1, :]   \n",
    "rxn_p_nz = S_p_nz[1, :]\n",
    "rxn_i_nz = S_i_nz[1, :]\n",
    "rxn_a_nz = S_a_nz[1, :]\n",
    "\n",
    "# one dim is always 2\n",
    "n_Km_s = np.max(met_s_nz.shape) \n",
    "n_Km_p = np.max(met_p_nz.shape)\n",
    "n_Km_i = np.max(met_i_nz.shape) \n",
    "n_Km_a = np.max(met_a_nz.shape)\n",
    "\n",
    "c = cp.Variable(n_met)\n",
    "Km_s = cp.Variable(n_Km_s)\n",
    "Km_p = cp.Variable(n_Km_p)\n",
    "Km_i = cp.Variable(n_Km_i) if n_Km_i else None\n",
    "Km_a = cp.Variable(n_Km_a) if n_Km_a else None\n",
    "\n",
    "cfwd = cp.Variable(n_rxn)\n",
    "crev = cp.Variable(n_rxn)\n",
    "\n",
    "# define Km positions by nonzero S matrix concentrations. Activation is reverse val of inhibition. \n",
    "y_s = c[met_s_nz] - Km_s\n",
    "y_p = c[met_p_nz] - Km_p\n",
    "y_i = c[met_i_nz] - Km_i if n_Km_i else None\n",
    "y_a = -(c[met_a_nz] - Km_a) if n_Km_a else None\n",
    "\n",
    "# saturation stacks\n",
    "if n_Km_i and n_Km_a:\n",
    "    y_f = cp.hstack((y_s, y_i, y_a))\n",
    "    y_r = cp.hstack((y_p, y_i, y_a))\n",
    "elif n_Km_i:\n",
    "    y_f = cp.hstack((y_s, y_i))\n",
    "    y_r = cp.hstack((y_p, y_i))\n",
    "elif n_Km_a:\n",
    "    y_f = cp.hstack((y_s, y_a))\n",
    "    y_r = cp.hstack((y_p, y_a))\n",
    "else:\n",
    "    y_f = y_s\n",
    "    y_r = y_p"
   ]
  },
  {
   "cell_type": "code",
   "execution_count": 682,
   "id": "627f247b-9c2f-4648-8798-4703fbc261e8",
   "metadata": {},
   "outputs": [
    {
     "data": {
      "text/plain": [
       "array([[-1,  0,  1,  0],\n",
       "       [-1,  0,  0,  0],\n",
       "       [ 1,  0,  0,  0],\n",
       "       [ 1,  0,  0,  0],\n",
       "       [ 1, -1,  0,  0],\n",
       "       [ 0,  1,  0,  1],\n",
       "       [ 0,  1,  1, -1],\n",
       "       [ 0,  0, -1,  0],\n",
       "       [ 0,  0, -1,  0]], dtype=int8)"
      ]
     },
     "execution_count": 682,
     "metadata": {},
     "output_type": "execute_result"
    }
   ],
   "source": [
    "S"
   ]
  },
  {
   "cell_type": "code",
   "execution_count": 683,
   "id": "49e94455-be6a-4705-a05b-47e025635894",
   "metadata": {},
   "outputs": [
    {
     "data": {
      "text/plain": [
       "array([0, 0])"
      ]
     },
     "execution_count": 683,
     "metadata": {},
     "output_type": "execute_result"
    }
   ],
   "source": [
    "rxn_a_nz"
   ]
  },
  {
   "cell_type": "code",
   "execution_count": 684,
   "id": "7e415219-5e67-4cbd-9e87-f7c858c1a648",
   "metadata": {},
   "outputs": [],
   "source": [
    "# number of saturation terms for sub, prod\n",
    "S_s_comb = np.concatenate((S_s, S_i, S_a), axis=0)\n",
    "S_p_comb = np.concatenate((S_p, S_i, S_a), axis=0)\n",
    "n_alpha = np.sum(np.power(2, S_s_comb.sum(axis=0)) - 1)\n",
    "n_beta = np.sum(np.power(2, S_p_comb.sum(axis=0)) - 1)\n",
    "\n",
    "# saturation matrix setup, first sub, then inhib, then act. \n",
    "C_alpha = np.zeros([n_alpha, len(met_s_nz) + len(met_i_nz) + len(met_a_nz)])\n",
    "C_beta = np.zeros([n_beta, len(met_p_nz) + len(met_i_nz) + len(met_a_nz)])\n",
    "\n",
    "# to separate different reactions saturation terms to their individual reaction equations. \n",
    "d_alpha = np.zeros(n_alpha, dtype=np.int8)\n",
    "d_beta = np.zeros(n_beta, dtype=np.int8)\n",
    "\n",
    "\n",
    "idx = 0\n",
    "\n",
    "for i in range(n_rxn):\n",
    "    \n",
    "    # pick one reaction at a time (get substrate indicies)\n",
    "    #idx_cur_rxn = rxn_s_nz == i\n",
    "    idx_cur_rxn = np.concatenate((rxn_s_nz == i, rxn_i_nz == i, rxn_a_nz == i))\n",
    "    \n",
    "    # generates all binary permutations minus the first one since that would result in -1\n",
    "    sat_perm = np.array(list(itertools.product([0, 1], repeat=sum(idx_cur_rxn))))\n",
    "    sat_perm = sat_perm[1:, :]\n",
    "    \n",
    "    r, _ = sat_perm.shape\n",
    "    \n",
    "    # replace zeros with saturation matrix\n",
    "    C_alpha[idx:(idx+r), idx_cur_rxn] = sat_perm\n",
    "    d_alpha[idx:(idx+r)] = i\n",
    "        \n",
    "    idx += r # add row # \n",
    "\n",
    "idx = 0\n",
    "    \n",
    "for i in range(n_rxn):\n",
    "    idx_cur_rxn = np.concatenate((rxn_p_nz == i, rxn_i_nz == i, rxn_a_nz == i))\n",
    "    \n",
    "    sat_perm = np.array(list(itertools.product([0, 1], repeat=sum(idx_cur_rxn))))\n",
    "    sat_perm = sat_perm[1:, :]\n",
    "    \n",
    "    r, _ = sat_perm.shape\n",
    "    \n",
    "    C_beta[idx:(idx+r), idx_cur_rxn] = sat_perm\n",
    "    d_beta[idx:(idx+r)] = i\n",
    "        \n",
    "    idx += r # add row # "
   ]
  },
  {
   "cell_type": "code",
   "execution_count": 685,
   "id": "be7e4a69-a3da-4811-b363-bd748ea66e3c",
   "metadata": {},
   "outputs": [
    {
     "data": {
      "text/plain": [
       "[Expression(AFFINE, UNKNOWN, (48,)),\n",
       " Expression(AFFINE, UNKNOWN, (6,)),\n",
       " Expression(AFFINE, UNKNOWN, (8,)),\n",
       " Expression(AFFINE, UNKNOWN, (4,))]"
      ]
     },
     "execution_count": 685,
     "metadata": {},
     "output_type": "execute_result"
    }
   ],
   "source": [
    "n_lse_terms = np.max(np.power(2, S_s.sum(axis=0)) +  np.power(2, S_p.sum(axis=0)) - 2)\n",
    "LSE_expr = []\n",
    "\n",
    "for i in range(n_rxn):\n",
    "    # sum terms are separate in logsumexp. one per saturation term (row in C_alpha, C_beta)\n",
    "    n_term_s = np.sum(d_alpha == i) \n",
    "    n_term_p = np.sum(d_beta == i)\n",
    "    n_term = n_term_s + n_term_p\n",
    "    \n",
    "    Km_s_idx = np.nonzero(S_s_nz[1, :] == i)\n",
    "    S_s_idx = S_s_nz[0, S_s_nz[1, :] == i] # negate -1 entries\n",
    "    \n",
    "    Km_p_idx = np.nonzero(S_p_nz[1, :] == i)\n",
    "    S_p_idx = S_p_nz[0, S_p_nz[1, :] == i]\n",
    "    \n",
    "    LSE_expr.append(cp.hstack( [ lvE[i] + (C_alpha @ y_f)[d_alpha == i] - cp.multiply(np.ones(n_term_s), - S.T[i, S_s_idx] @ y_s[Km_s_idx]) - cfwd[i],  \n",
    "                                 lvE[i] + (C_beta @ y_r)[d_beta == i] - cp.multiply(np.ones(n_term_p), - S.T[i, S_s_idx] @ y_s[Km_s_idx]) - cfwd[i],\n",
    "                                 lvE[i] + 0 - cp.multiply(np.ones(1), -S.T[i, S_s_idx] @ y_s[Km_s_idx])  - cfwd[i],\n",
    "                                 cp.multiply(np.ones(1), S.T[i, S_p_idx] @ y_p[Km_p_idx])  + crev[i]\n",
    "                                 - cp.multiply(np.ones(1), -S.T[i, S_s_idx] @ y_s[Km_s_idx])  - cfwd[i]\n",
    "                                 #-1*np.ones(n_lse_terms - n_term + 1) \n",
    "                               ]\n",
    "                             )\n",
    "                   )  # remove +1 here, could also have cfwd outside objec. \n",
    "    \n",
    "#LSE_expr = cp.vstack(LSE_expr)\n",
    "LSE_expr"
   ]
  },
  {
   "cell_type": "code",
   "execution_count": 686,
   "id": "659d1c8d-3aef-4b75-a77e-76efc4d006a0",
   "metadata": {},
   "outputs": [],
   "source": [
    "l = 0.0000001\n",
    "e = 0.00001\n",
    "f = 0.0000001\n",
    "reg =  cp.sum(cp.hstack([cfwd, crev, c])) + cp.sum(cp.hstack([-Km_s, -Km_p]))# regularization\n",
    "reg2 = cp.norm1(cp.hstack([cfwd, crev, c])) + cp.norm1(cp.hstack([-Km_s, -Km_p]))# regularization\n",
    "reg3 = cp.sum(cp.huber(cp.hstack([y_s, y_p]), 1))\n",
    "\n",
    "if n_Km_i:\n",
    "    reg += cp.sum(cp.hstack([-Km_i]))\n",
    "if n_Km_a:\n",
    "    reg += cp.sum(cp.hstack([-Km_a]))\n",
    "#reg3 = cp.norm1(cp.hstack([y_s, y_p])) # take a look at this\n",
    "\n",
    "loss = 0\n",
    "for i in range(n_rxn):\n",
    "    loss += cp.norm2(cp.pos(cp.log_sum_exp(LSE_expr[i])))\n",
    "loss += l * reg \n",
    "loss += e * reg2\n",
    "loss += f * reg3\n",
    "# "
   ]
  },
  {
   "cell_type": "code",
   "execution_count": 687,
   "id": "004cbea2-33e3-4128-bba3-2aece5cca605",
   "metadata": {},
   "outputs": [],
   "source": [
    "haldane = []\n",
    "fwd_flux = []\n",
    "\n",
    "for i, r in enumerate(S.T):\n",
    "    Km_s_idx = np.nonzero(S_s_nz[1, :] == i)\n",
    "    S_s_idx = S_s_nz[0, S_s_nz[1, :] == i] # negate -1 entries\n",
    "    \n",
    "    Km_p_idx = np.nonzero(S_p_nz[1, :] == i)\n",
    "    S_p_idx = S_p_nz[0, S_p_nz[1, :] == i]\n",
    "    \n",
    "    haldane.append(K_eq[i] == cfwd[i] - crev[i] + r[S_p_idx] @ Km_p[Km_p_idx] - (-r[S_s_idx]) @ Km_s[Km_s_idx])  # add minus since s matrix has minus\n",
    "    fwd_flux.append(cfwd[i] + (-r[S_s_idx]) @ y_s[Km_s_idx] - (crev[i] + r[S_p_idx] @ y_p[Km_p_idx])  >= 0)  # add minus since s matrix has minus"
   ]
  },
  {
   "cell_type": "code",
   "execution_count": 688,
   "id": "c2ec7761-6d1a-4e44-b798-bffab58cdc31",
   "metadata": {},
   "outputs": [],
   "source": [
    "constr = [cp.hstack([cfwd, crev, c, Km_s, Km_p]) >= -12,\n",
    "          cp.hstack([cfwd, crev, c, Km_s, Km_p]) <= 12, \n",
    "          ]\n",
    "\n",
    "if n_Km_i:\n",
    "    constr.extend([Km_i >= -12, Km_i <= 12])\n",
    "if n_Km_a:\n",
    "    constr.extend([Km_a >= -12, Km_a <= 12])\n",
    "\n",
    "# constr.extend(haldane)\n",
    "# constr.extend(fwd_flux)\n",
    "constr.extend([S.T @ c <= K_eq])"
   ]
  },
  {
   "cell_type": "code",
   "execution_count": 689,
   "id": "1aacba37-98cb-40f8-9d5f-6f9a053acbbc",
   "metadata": {},
   "outputs": [
    {
     "data": {
      "text/plain": [
       "0.0002878849609364936"
      ]
     },
     "execution_count": 689,
     "metadata": {},
     "output_type": "execute_result"
    }
   ],
   "source": [
    "p = cp.Problem(cp.Minimize(loss), constr)\n",
    "p.solve(verbose=False, solver=cp.ECOS)"
   ]
  },
  {
   "cell_type": "code",
   "execution_count": null,
   "id": "b3ae86a8-96d3-4c20-902b-133cc9ae4b6d",
   "metadata": {},
   "outputs": [],
   "source": []
  },
  {
   "cell_type": "code",
   "execution_count": 690,
   "id": "6d9cb71d-17e6-40bf-b57a-f6f1201418bb",
   "metadata": {},
   "outputs": [
    {
     "name": "stdout",
     "output_type": "stream",
     "text": [
      "Substrate Km: ['1.000', '1.000', '1.000', '1.000', '1.000', '1.000']\n",
      "Product Km: ['1.000', '1.000', '1.000', '1.000', '1.000', '1.000', '1.000', '1.000']\n",
      "Fwd kcat: ['1450.104', '40.774', '203.357', '21.438']\n",
      "Rev kcat: ['1.000', '1.000', '1.000', '1.000']\n",
      "Concentrations: ['1.000', '1.000', '1.000', '1.000', '1.805', '0.000', '0.875', '1.000', '1.000']\n",
      "Activation Km: ['0.008', '0.009']\n"
     ]
    }
   ],
   "source": [
    "print('Substrate Km:', [f'{val:.3f}' for val in np.exp(Km_s.value)])\n",
    "print('Product Km:', [f'{val:.3f}' for val in np.exp(Km_p.value)])\n",
    "print('Fwd kcat:', [f'{val:.3f}' for val in np.exp(cfwd.value)])\n",
    "print('Rev kcat:', [f'{val:.3f}' for val in np.exp(crev.value)])\n",
    "print('Concentrations:', [f'{val:.3f}' for val in np.exp(c.value)])\n",
    "\n",
    "if n_Km_i:\n",
    "    print('Inhibition Km:', [f'{val:.3f}' for val in np.exp(Km_i.value)])\n",
    "if n_Km_a:\n",
    "    print('Activation Km:', [f'{val:.3f}' for val in np.exp(Km_a.value)])"
   ]
  },
  {
   "cell_type": "markdown",
   "id": "dec12056-d8b5-41ca-baa7-422b6f0fac38",
   "metadata": {},
   "source": [
    "# Check flux reconstruction with inhibition/activation"
   ]
  },
  {
   "cell_type": "code",
   "execution_count": 691,
   "id": "7d487012-6835-43b4-b1b3-9510c066b502",
   "metadata": {},
   "outputs": [],
   "source": [
    "sat_expr = []\n",
    "fwd_sat = np.zeros(n_rxn)\n",
    "back_sat = np.zeros(n_rxn)\n",
    "sat = np.zeros(n_rxn)\n",
    "\n",
    "for i in range(n_rxn):\n",
    "    # sum terms are separate in logsumexp. one per saturation term (row in C_alpha, C_beta)\n",
    "    n_term_s = np.sum(d_alpha == i) \n",
    "    n_term_p = np.sum(d_beta == i)\n",
    "    n_term = n_term_s + n_term_p\n",
    "    \n",
    "    \n",
    "    Km_s_idx = np.nonzero(S_s_nz[1, :] == i)\n",
    "    S_s_idx = S_s_nz[0, S_s_nz[1, :] == i] # negate -1 entries\n",
    "    \n",
    "    Km_p_idx = np.nonzero(S_p_nz[1, :] == i)\n",
    "    S_p_idx = S_p_nz[0, S_p_nz[1, :] == i]\n",
    "    \n",
    "    #S_s_idx = S_s_nz[0, S_s_nz[1, :] == i]\n",
    "    \n",
    "    sat_expr.append(           [ (C_alpha @ y_f.value)[d_alpha == i] ,  \n",
    "                                 (C_beta @ y_r.value)[d_beta == i],\n",
    "                                 0,\n",
    "                                 #-1*np.ones(n_lse_terms - n_term + 1) \n",
    "                               ]\n",
    "                   )\n",
    "    fwd_sat[i] = (np.exp(-S.T[i, S_s_idx] @ y_s.value[Km_s_idx])) # + cfwd.value[i]\n",
    "    back_sat[i] = (np.exp(S.T[i, S_p_idx] @ y_p.value[Km_p_idx])) # + cfwd.value[i]\n",
    "    \n",
    "    \n",
    "\n",
    "for i, rxn in enumerate(sat_expr):\n",
    "    s = 0\n",
    "    \n",
    "    for term in rxn:\n",
    "        s += np.sum(np.exp(term))\n",
    "        \n",
    "    sat[i] = (s)"
   ]
  },
  {
   "cell_type": "code",
   "execution_count": 692,
   "id": "137a8d97-36b6-47d6-89d8-5cc67da64f6f",
   "metadata": {},
   "outputs": [
    {
     "data": {
      "text/plain": [
       "array([100.02345775,  20.00074463,  30.00150046,  10.00027062])"
      ]
     },
     "execution_count": 692,
     "metadata": {},
     "output_type": "execute_result"
    }
   ],
   "source": [
    "np.exp(cfwd.value) * fwd_sat/sat - np.exp(crev.value) * back_sat/sat"
   ]
  },
  {
   "cell_type": "code",
   "execution_count": 693,
   "id": "876a78e3-8871-4951-a94f-176508dec699",
   "metadata": {},
   "outputs": [
    {
     "data": {
      "text/plain": [
       "array([-4.77766892, -4.76698898])"
      ]
     },
     "execution_count": 693,
     "metadata": {},
     "output_type": "execute_result"
    }
   ],
   "source": [
    "Km_a.value"
   ]
  },
  {
   "cell_type": "markdown",
   "id": "b5972830-a1cf-4623-8e47-89ecea910982",
   "metadata": {},
   "source": [
    "Both enzymes have a much higher concentration than K_a, e.g. both are activated."
   ]
  },
  {
   "cell_type": "code",
   "execution_count": 694,
   "id": "0f94615b-1962-4fb2-92c9-53f159fc4f22",
   "metadata": {},
   "outputs": [
    {
     "data": {
      "text/plain": [
       "array([118.82761594, 117.56440535])"
      ]
     },
     "execution_count": 694,
     "metadata": {},
     "output_type": "execute_result"
    }
   ],
   "source": [
    "np.exp(-y_a.value)"
   ]
  },
  {
   "cell_type": "markdown",
   "id": "6269f04e-fb7e-459b-b2fd-091c89a20936",
   "metadata": {},
   "source": [
    "About 99%."
   ]
  },
  {
   "cell_type": "markdown",
   "id": "44701e69-9a4b-4681-82e2-250c1804ba5c",
   "metadata": {},
   "source": [
    "# Reworking directionality to just rearrange terms, so we can add multiple substrate sets. "
   ]
  },
  {
   "cell_type": "code",
   "execution_count": 695,
   "id": "78ba688c-c5cd-4c30-89c5-85c57321b036",
   "metadata": {},
   "outputs": [
    {
     "data": {
      "text/html": [
       "<div>\n",
       "<style scoped>\n",
       "    .dataframe tbody tr th:only-of-type {\n",
       "        vertical-align: middle;\n",
       "    }\n",
       "\n",
       "    .dataframe tbody tr th {\n",
       "        vertical-align: top;\n",
       "    }\n",
       "\n",
       "    .dataframe thead th {\n",
       "        text-align: right;\n",
       "    }\n",
       "</style>\n",
       "<table border=\"1\" class=\"dataframe\">\n",
       "  <thead>\n",
       "    <tr style=\"text-align: right;\">\n",
       "      <th></th>\n",
       "      <th>6PFRUCTPHOS-RXN</th>\n",
       "      <th>F16ALDOLASE-RXN</th>\n",
       "      <th>2TRANSKETO-RXN</th>\n",
       "      <th>TRIOSEPISOMERIZATION-RXN</th>\n",
       "    </tr>\n",
       "  </thead>\n",
       "  <tbody>\n",
       "    <tr>\n",
       "      <th>$K_{eq}$</th>\n",
       "      <td>8.491991</td>\n",
       "      <td>-8.894527</td>\n",
       "      <td>2.398769</td>\n",
       "      <td>2.266298</td>\n",
       "    </tr>\n",
       "    <tr>\n",
       "      <th>$v$</th>\n",
       "      <td>100.000000</td>\n",
       "      <td>20.000000</td>\n",
       "      <td>30.000000</td>\n",
       "      <td>10.000000</td>\n",
       "    </tr>\n",
       "    <tr>\n",
       "      <th>sign</th>\n",
       "      <td>1.000000</td>\n",
       "      <td>1.000000</td>\n",
       "      <td>1.000000</td>\n",
       "      <td>1.000000</td>\n",
       "    </tr>\n",
       "  </tbody>\n",
       "</table>\n",
       "</div>"
      ],
      "text/plain": [
       "          6PFRUCTPHOS-RXN  F16ALDOLASE-RXN  2TRANSKETO-RXN  \\\n",
       "$K_{eq}$         8.491991        -8.894527        2.398769   \n",
       "$v$            100.000000        20.000000       30.000000   \n",
       "sign             1.000000         1.000000        1.000000   \n",
       "\n",
       "          TRIOSEPISOMERIZATION-RXN  \n",
       "$K_{eq}$                  2.266298  \n",
       "$v$                      10.000000  \n",
       "sign                      1.000000  "
      ]
     },
     "execution_count": 695,
     "metadata": {},
     "output_type": "execute_result"
    }
   ],
   "source": [
    "#K_eq = np.log(keq)\n",
    "#vE = np.array([100, 20, -30, -10])\n",
    "\n",
    "# K_eq[vE < 0] = 1/K_eq[vE < 0] \n",
    "\n",
    "lvE = np.log(np.abs(vE))\n",
    "pd.DataFrame(np.array([K_eq, vE, np.sign(vE, dtype=np.int8)]), columns=Sd.columns, index=[\"$K_{eq}$\", \"$v$\", \"sign\"])"
   ]
  },
  {
   "cell_type": "code",
   "execution_count": 696,
   "id": "0fa1b725-8024-4208-a4ba-c10ec77f809c",
   "metadata": {},
   "outputs": [],
   "source": [
    "# set up variables\n",
    "\n",
    "S = np.array(Sd)\n",
    "# S = np.multiply(S, vE/np.abs(vE)).astype(np.int8) # flips signs on reverse reactions, not needed\n",
    "# S[S == -0] = 0\n",
    "S_s = -np.copy(S) # reverse neg sign\n",
    "S_p = np.copy(S) \n",
    "S_s[S > 0] = 0 # zeros products\n",
    "S_p[S < 0] = 0 # zeros substrates\n",
    "S_i = np.copy(np.array(Sr) == -1) # reaction direction does not matter\n",
    "S_a = np.copy(np.array(Sr) == 1)\n",
    "\n",
    "\n",
    "S_s_nz = np.array(S_s.nonzero())\n",
    "S_p_nz = np.array(S_p.nonzero())\n",
    "S_i_nz = np.array(S_i.nonzero())\n",
    "S_a_nz = np.array(S_a.nonzero())\n",
    "\n",
    "# TODO Refactor all the below lines as one liners \n",
    "# first coordinate, e.g. metabolites w nonzero substrate/product coeff across all reactions. also works as substrate indices. \n",
    "met_s_nz = S_s_nz[0, :]\n",
    "met_p_nz = S_p_nz[0, :]\n",
    "met_i_nz = S_i_nz[0, :]\n",
    "met_a_nz = S_a_nz[0, :]\n",
    "\n",
    "# second coordinate, e.g. reactions indices for those concentrations. works to index substrates as well. \n",
    "rxn_s_nz = S_s_nz[1, :]   \n",
    "rxn_p_nz = S_p_nz[1, :]\n",
    "rxn_i_nz = S_i_nz[1, :]\n",
    "rxn_a_nz = S_a_nz[1, :]\n",
    "\n",
    "# one dim is always 2\n",
    "n_Km_s = np.max(met_s_nz.shape) \n",
    "n_Km_p = np.max(met_p_nz.shape)\n",
    "n_Km_i = np.max(met_i_nz.shape) \n",
    "n_Km_a = np.max(met_a_nz.shape)\n",
    "\n",
    "c = cp.Variable(n_met)\n",
    "Km_s = cp.Variable(n_Km_s)\n",
    "Km_p = cp.Variable(n_Km_p)\n",
    "Km_i = cp.Variable(n_Km_i) if n_Km_i else None\n",
    "Km_a = cp.Variable(n_Km_a) if n_Km_a else None\n",
    "\n",
    "cfwd = cp.Variable(n_rxn)\n",
    "crev = cp.Variable(n_rxn)\n",
    "\n",
    "# define Km positions by nonzero S matrix concentrations. Activation is reverse val of inhibition. \n",
    "y_s = c[met_s_nz] - Km_s\n",
    "y_p = c[met_p_nz] - Km_p\n",
    "y_i = c[met_i_nz] - Km_i if n_Km_i else None\n",
    "y_a = -(c[met_a_nz] - Km_a) if n_Km_a else None\n",
    "\n",
    "# saturation stacks\n",
    "if n_Km_i and n_Km_a:\n",
    "    y_f = cp.hstack((y_s, y_i, y_a))\n",
    "    y_r = cp.hstack((y_p, y_i, y_a))\n",
    "elif n_Km_i:\n",
    "    y_f = cp.hstack((y_s, y_i))\n",
    "    y_r = cp.hstack((y_p, y_i))\n",
    "elif n_Km_a:\n",
    "    y_f = cp.hstack((y_s, y_a))\n",
    "    y_r = cp.hstack((y_p, y_a))\n",
    "else:\n",
    "    y_f = y_s\n",
    "    y_r = y_p"
   ]
  },
  {
   "cell_type": "code",
   "execution_count": 697,
   "id": "84de423e-67c2-402c-b7b4-3c7007e205cf",
   "metadata": {},
   "outputs": [
    {
     "data": {
      "text/plain": [
       "array([[-1,  0,  1,  0],\n",
       "       [-1,  0,  0,  0],\n",
       "       [ 1,  0,  0,  0],\n",
       "       [ 1,  0,  0,  0],\n",
       "       [ 1, -1,  0,  0],\n",
       "       [ 0,  1,  0,  1],\n",
       "       [ 0,  1,  1, -1],\n",
       "       [ 0,  0, -1,  0],\n",
       "       [ 0,  0, -1,  0]], dtype=int8)"
      ]
     },
     "execution_count": 697,
     "metadata": {},
     "output_type": "execute_result"
    }
   ],
   "source": [
    "S"
   ]
  },
  {
   "cell_type": "code",
   "execution_count": 698,
   "id": "f2c7b291-51aa-44db-bb1a-d9cdb22d2090",
   "metadata": {},
   "outputs": [],
   "source": [
    "# number of saturation terms for sub, prod\n",
    "S_s_comb = np.concatenate((S_s, S_i, S_a), axis=0)\n",
    "S_p_comb = np.concatenate((S_p, S_i, S_a), axis=0)\n",
    "n_alpha = np.sum(np.power(2, S_s_comb.sum(axis=0)) - 1)\n",
    "n_beta = np.sum(np.power(2, S_p_comb.sum(axis=0)) - 1)\n",
    "\n",
    "# saturation matrix setup, first sub, then inhib, then act. \n",
    "C_alpha = np.zeros([n_alpha, len(met_s_nz) + len(met_i_nz) + len(met_a_nz)])\n",
    "C_beta = np.zeros([n_beta, len(met_p_nz) + len(met_i_nz) + len(met_a_nz)])\n",
    "\n",
    "# to separate different reactions saturation terms to their individual reaction equations. \n",
    "d_alpha = np.zeros(n_alpha, dtype=np.int8)\n",
    "d_beta = np.zeros(n_beta, dtype=np.int8)\n",
    "\n",
    "\n",
    "idx = 0\n",
    "\n",
    "for i in range(n_rxn):\n",
    "    \n",
    "    # pick one reaction at a time (get substrate indicies)\n",
    "    #idx_cur_rxn = rxn_s_nz == i\n",
    "    idx_cur_rxn = np.concatenate((rxn_s_nz == i, rxn_i_nz == i, rxn_a_nz == i))\n",
    "    \n",
    "    # generates all binary permutations minus the first one since that would result in -1\n",
    "    sat_perm = np.array(list(itertools.product([0, 1], repeat=sum(idx_cur_rxn))))\n",
    "    sat_perm = sat_perm[1:, :]\n",
    "    \n",
    "    r, _ = sat_perm.shape\n",
    "    \n",
    "    # replace zeros with saturation matrix\n",
    "    C_alpha[idx:(idx+r), idx_cur_rxn] = sat_perm\n",
    "    d_alpha[idx:(idx+r)] = i\n",
    "        \n",
    "    idx += r # add row # \n",
    "\n",
    "idx = 0\n",
    "    \n",
    "for i in range(n_rxn):\n",
    "    idx_cur_rxn = np.concatenate((rxn_p_nz == i, rxn_i_nz == i, rxn_a_nz == i))\n",
    "    \n",
    "    sat_perm = np.array(list(itertools.product([0, 1], repeat=sum(idx_cur_rxn))))\n",
    "    sat_perm = sat_perm[1:, :]\n",
    "    \n",
    "    r, _ = sat_perm.shape\n",
    "    \n",
    "    C_beta[idx:(idx+r), idx_cur_rxn] = sat_perm\n",
    "    d_beta[idx:(idx+r)] = i\n",
    "        \n",
    "    idx += r # add row # "
   ]
  },
  {
   "cell_type": "code",
   "execution_count": 699,
   "id": "8f9bc9b7-de93-4c01-8ff5-89199d4dfd8a",
   "metadata": {},
   "outputs": [
    {
     "data": {
      "text/plain": [
       "[Expression(AFFINE, UNKNOWN, (48,)),\n",
       " Expression(AFFINE, UNKNOWN, (6,)),\n",
       " Expression(AFFINE, UNKNOWN, (8,)),\n",
       " Expression(AFFINE, UNKNOWN, (4,))]"
      ]
     },
     "execution_count": 699,
     "metadata": {},
     "output_type": "execute_result"
    }
   ],
   "source": [
    "n_lse_terms = np.max(np.power(2, S_s.sum(axis=0)) +  np.power(2, S_p.sum(axis=0)) - 2)\n",
    "LSE_expr = []\n",
    "\n",
    "sign = np.sign(vE)\n",
    "lvE = np.log(sign * vE)\n",
    "\n",
    "for i in range(n_rxn):\n",
    "    # sum terms are separate in logsumexp. one per saturation term (row in C_alpha, C_beta)\n",
    "    \n",
    "    n_term_s = np.sum(d_alpha == i) \n",
    "    n_term_p = np.sum(d_beta == i)\n",
    "    n_term = n_term_s + n_term_p\n",
    "    \n",
    "    Km_s_idx = np.nonzero(S_s_nz[1, :] == i)\n",
    "    S_s_idx = S_s_nz[0, S_s_nz[1, :] == i] # negate -1 entries\n",
    "    \n",
    "    Km_p_idx = np.nonzero(S_p_nz[1, :] == i)\n",
    "    S_p_idx = S_p_nz[0, S_p_nz[1, :] == i]\n",
    "    \n",
    "    if sign[i] == 1:\n",
    "        LSE_expr.append(cp.hstack( [ lvE[i] + (C_alpha @ y_f)[d_alpha == i] - cp.multiply(np.ones(n_term_s), - S.T[i, S_s_idx] @ y_s[Km_s_idx]) - cfwd[i],  \n",
    "                                     lvE[i] + (C_beta @ y_r)[d_beta == i] - cp.multiply(np.ones(n_term_p), - S.T[i, S_s_idx] @ y_s[Km_s_idx]) - cfwd[i],\n",
    "                                     lvE[i] + 0 - cp.multiply(np.ones(1), -S.T[i, S_s_idx] @ y_s[Km_s_idx])  - cfwd[i],\n",
    "                                     cp.multiply(np.ones(1), S.T[i, S_p_idx] @ y_p[Km_p_idx])  + crev[i]\n",
    "                                     - cp.multiply(np.ones(1), -S.T[i, S_s_idx] @ y_s[Km_s_idx])  - cfwd[i]\n",
    "                                     #-1*np.ones(n_lse_terms - n_term + 1) \n",
    "                                   ]\n",
    "                                 )\n",
    "                       )  # remove +1 here, could also have cfwd outside objec. \n",
    "        \n",
    "    # keep saturation term the same, switch around fwd and rev terms. flip all signs with S matrix since it's signed. \n",
    "    if sign[i] == -1:\n",
    "        LSE_expr.append(cp.hstack( [ lvE[i] + (C_alpha @ y_f)[d_alpha == i] - cp.multiply(np.ones(n_term_s), S.T[i, S_p_idx] @ y_p[Km_p_idx]) - crev[i],  \n",
    "                                     lvE[i] + (C_beta @ y_r)[d_beta == i] - cp.multiply(np.ones(n_term_p), S.T[i, S_p_idx] @ y_p[Km_p_idx]) - crev[i],\n",
    "                                     lvE[i] + 0 - cp.multiply(np.ones(1), S.T[i, S_p_idx] @ y_p[Km_p_idx]) - crev[i],\n",
    "                                     cp.multiply(np.ones(1), - S.T[i, S_s_idx] @ y_s[Km_s_idx])  + cfwd[i]\n",
    "                                     - cp.multiply(np.ones(1), S.T[i, S_p_idx] @ y_p[Km_p_idx]) - crev[i],\n",
    "                                     #-1*np.ones(n_lse_terms - n_term + 1) \n",
    "                                   ]\n",
    "                                 )\n",
    "                       )\n",
    "    \n",
    "#LSE_expr = cp.vstack(LSE_expr)\n",
    "LSE_expr"
   ]
  },
  {
   "cell_type": "code",
   "execution_count": 700,
   "id": "46556e00-d226-4552-bdf2-036d770cd0e0",
   "metadata": {},
   "outputs": [],
   "source": [
    "l = 0.0000001\n",
    "e = 0.00001\n",
    "f = 0.0000001\n",
    "reg =  cp.sum(cp.hstack([cfwd, crev, c])) + cp.sum(cp.hstack([-Km_s, -Km_p]))# regularization\n",
    "reg2 = cp.norm1(cp.hstack([cfwd, crev, c])) + cp.norm1(cp.hstack([-Km_s, -Km_p]))# regularization\n",
    "reg3 = cp.sum(cp.huber(cp.hstack([y_s, y_p]), 1))\n",
    "\n",
    "if n_Km_i:\n",
    "    reg += cp.sum(cp.hstack([-Km_i]))\n",
    "if n_Km_a:\n",
    "    reg += cp.sum(cp.hstack([-Km_a]))\n",
    "#reg3 = cp.norm1(cp.hstack([y_s, y_p])) # take a look at this\n",
    "\n",
    "loss = 0\n",
    "for i in range(n_rxn):\n",
    "    loss += cp.norm2(cp.pos(cp.log_sum_exp(LSE_expr[i])))\n",
    "loss += l * reg \n",
    "loss += e * reg2\n",
    "loss += f * reg3\n",
    "# "
   ]
  },
  {
   "cell_type": "code",
   "execution_count": 701,
   "id": "683d5edf-a9df-49d9-a455-f44f87c87fdc",
   "metadata": {},
   "outputs": [],
   "source": [
    "constr = [cp.hstack([cfwd, crev, c, Km_s, Km_p]) >= -12,\n",
    "          cp.hstack([cfwd, crev, c, Km_s, Km_p]) <= 12,\n",
    "          ]\n",
    "\n",
    "if n_Km_i:\n",
    "    constr.extend([Km_i >= -12, Km_i <= 12])\n",
    "if n_Km_a:\n",
    "    constr.extend([Km_a >= -12, Km_a <= 12])\n",
    "\n"
   ]
  },
  {
   "cell_type": "code",
   "execution_count": 702,
   "id": "1ce681a9-0abc-41c2-a6a1-c1abae1c1a2b",
   "metadata": {},
   "outputs": [],
   "source": [
    "haldane = []\n",
    "fwd_flux = []\n",
    "\n",
    "for i, r in enumerate(S.T):\n",
    "    Km_s_idx = np.nonzero(S_s_nz[1, :] == i)\n",
    "    S_s_idx = S_s_nz[0, S_s_nz[1, :] == i] # negate -1 entries\n",
    "    \n",
    "    Km_p_idx = np.nonzero(S_p_nz[1, :] == i)\n",
    "    S_p_idx = S_p_nz[0, S_p_nz[1, :] == i]\n",
    "    \n",
    "    haldane.append(K_eq[i] == cfwd[i] - crev[i] + r[S_p_idx] @ Km_p[Km_p_idx] - (-r[S_s_idx]) @ Km_s[Km_s_idx])  # add minus since s matrix has minus\n",
    "    \n",
    "    if sign[i] == 1:\n",
    "        fwd_flux.append(cfwd[i] + (-r[S_s_idx]) @ y_s[Km_s_idx] - (crev[i] + r[S_p_idx] @ y_p[Km_p_idx])  >= 0)  # add minus since s matrix has minus\n",
    "        constr.extend([r @ c <= K_eq[i]])\n",
    "        \n",
    "    if sign[i] == -1:\n",
    "        fwd_flux.append(cfwd[i] + (-r[S_s_idx]) @ y_s[Km_s_idx] - (crev[i] + r[S_p_idx] @ y_p[Km_p_idx])  <= 0)  # add minus since s matrix has minus\n",
    "        constr.extend([r @ c >= K_eq[i]])\n",
    "        \n",
    "        \n",
    "# constr.extend(haldane)\n",
    "# constr.extend(fwd_flux)"
   ]
  },
  {
   "cell_type": "code",
   "execution_count": 703,
   "id": "7165f3bc-4f92-4ecd-9fa5-72df801f2cfb",
   "metadata": {},
   "outputs": [
    {
     "data": {
      "text/plain": [
       "0.0002878849609364936"
      ]
     },
     "execution_count": 703,
     "metadata": {},
     "output_type": "execute_result"
    }
   ],
   "source": [
    "p = cp.Problem(cp.Minimize(loss), constr)\n",
    "p.solve(verbose=False, solver=cp.ECOS)"
   ]
  },
  {
   "cell_type": "code",
   "execution_count": 704,
   "id": "a23ff96b-063d-4f2d-8704-824aa46b6947",
   "metadata": {},
   "outputs": [
    {
     "name": "stdout",
     "output_type": "stream",
     "text": [
      "Substrate Km: ['1.000', '1.000', '1.000', '1.000', '1.000', '1.000']\n",
      "Product Km: ['1.000', '1.000', '1.000', '1.000', '1.000', '1.000', '1.000', '1.000']\n",
      "Fwd kcat: ['1450.104', '40.774', '203.357', '21.438']\n",
      "Rev kcat: ['1.000', '1.000', '1.000', '1.000']\n",
      "Concentrations: ['1.000', '1.000', '1.000', '1.000', '1.805', '0.000', '0.875', '1.000', '1.000']\n",
      "Activation Km: ['0.008', '0.009']\n"
     ]
    }
   ],
   "source": [
    "print('Substrate Km:', [f'{val:.3f}' for val in np.exp(Km_s.value)])\n",
    "print('Product Km:', [f'{val:.3f}' for val in np.exp(Km_p.value)])\n",
    "print('Fwd kcat:', [f'{val:.3f}' for val in np.exp(cfwd.value)])\n",
    "print('Rev kcat:', [f'{val:.3f}' for val in np.exp(crev.value)])\n",
    "print('Concentrations:', [f'{val:.3f}' for val in np.exp(c.value)])\n",
    "\n",
    "if n_Km_i:\n",
    "    print('Inhibition Km:', [f'{val:.3f}' for val in np.exp(Km_i.value)])\n",
    "if n_Km_a:\n",
    "    print('Activation Km:', [f'{val:.3f}' for val in np.exp(Km_a.value)])"
   ]
  },
  {
   "cell_type": "code",
   "execution_count": 705,
   "id": "6b2045c6-2811-44a6-866d-1669a8cbe536",
   "metadata": {},
   "outputs": [
    {
     "ename": "SyntaxError",
     "evalue": "invalid syntax (3977125863.py, line 1)",
     "output_type": "error",
     "traceback": [
      "\u001b[0;36m  File \u001b[0;32m\"/var/folders/dx/0239zgvj0tgf46b5h8l7v_fc0000gn/T/ipykernel_29367/3977125863.py\"\u001b[0;36m, line \u001b[0;32m1\u001b[0m\n\u001b[0;31m    Substrate Km: ['1.000', '1.000', '1.000', '1.000', '1.000', '1.000']\u001b[0m\n\u001b[0m              ^\u001b[0m\n\u001b[0;31mSyntaxError\u001b[0m\u001b[0;31m:\u001b[0m invalid syntax\n"
     ]
    }
   ],
   "source": [
    "Substrate Km: ['1.000', '1.000', '1.000', '1.000', '1.000', '1.000']\n",
    "Product Km: ['1.000', '1.000', '1.000', '1.000', '1.000', '1.000', '1.000', '1.000']\n",
    "Fwd kcat: ['1450.104', '40.774', '203.357', '21.438']\n",
    "Rev kcat: ['1.000', '1.000', '1.000', '1.000']\n",
    "Concentrations: ['1.000', '1.000', '1.000', '1.000', '1.805', '0.000', '0.875', '1.000', '1.000']\n",
    "Activation Km: ['0.008', '0.009']"
   ]
  },
  {
   "cell_type": "code",
   "execution_count": 706,
   "id": "e91269bb-a064-4590-abd1-60954b2dce64",
   "metadata": {},
   "outputs": [
    {
     "data": {
      "text/html": [
       "<div>\n",
       "<style scoped>\n",
       "    .dataframe tbody tr th:only-of-type {\n",
       "        vertical-align: middle;\n",
       "    }\n",
       "\n",
       "    .dataframe tbody tr th {\n",
       "        vertical-align: top;\n",
       "    }\n",
       "\n",
       "    .dataframe thead th {\n",
       "        text-align: right;\n",
       "    }\n",
       "</style>\n",
       "<table border=\"1\" class=\"dataframe\">\n",
       "  <thead>\n",
       "    <tr style=\"text-align: right;\">\n",
       "      <th></th>\n",
       "      <th>6PFRUCTPHOS-RXN</th>\n",
       "      <th>F16ALDOLASE-RXN</th>\n",
       "      <th>2TRANSKETO-RXN</th>\n",
       "      <th>TRIOSEPISOMERIZATION-RXN</th>\n",
       "    </tr>\n",
       "  </thead>\n",
       "  <tbody>\n",
       "    <tr>\n",
       "      <th>FRUCTOSE-6P</th>\n",
       "      <td>-1</td>\n",
       "      <td>0</td>\n",
       "      <td>1</td>\n",
       "      <td>0</td>\n",
       "    </tr>\n",
       "    <tr>\n",
       "      <th>ATP</th>\n",
       "      <td>-1</td>\n",
       "      <td>0</td>\n",
       "      <td>0</td>\n",
       "      <td>0</td>\n",
       "    </tr>\n",
       "    <tr>\n",
       "      <th>PROTON</th>\n",
       "      <td>1</td>\n",
       "      <td>0</td>\n",
       "      <td>0</td>\n",
       "      <td>0</td>\n",
       "    </tr>\n",
       "    <tr>\n",
       "      <th>ADP</th>\n",
       "      <td>1</td>\n",
       "      <td>0</td>\n",
       "      <td>0</td>\n",
       "      <td>0</td>\n",
       "    </tr>\n",
       "    <tr>\n",
       "      <th>FRUCTOSE-16-DIPHOSPHATE</th>\n",
       "      <td>1</td>\n",
       "      <td>-1</td>\n",
       "      <td>0</td>\n",
       "      <td>0</td>\n",
       "    </tr>\n",
       "    <tr>\n",
       "      <th>DIHYDROXY-ACETONE-PHOSPHATE</th>\n",
       "      <td>0</td>\n",
       "      <td>1</td>\n",
       "      <td>0</td>\n",
       "      <td>1</td>\n",
       "    </tr>\n",
       "    <tr>\n",
       "      <th>GAP</th>\n",
       "      <td>0</td>\n",
       "      <td>1</td>\n",
       "      <td>1</td>\n",
       "      <td>-1</td>\n",
       "    </tr>\n",
       "    <tr>\n",
       "      <th>ERYTHROSE-4P</th>\n",
       "      <td>0</td>\n",
       "      <td>0</td>\n",
       "      <td>-1</td>\n",
       "      <td>0</td>\n",
       "    </tr>\n",
       "    <tr>\n",
       "      <th>XYLULOSE-5-PHOSPHATE</th>\n",
       "      <td>0</td>\n",
       "      <td>0</td>\n",
       "      <td>-1</td>\n",
       "      <td>0</td>\n",
       "    </tr>\n",
       "  </tbody>\n",
       "</table>\n",
       "</div>"
      ],
      "text/plain": [
       "                             6PFRUCTPHOS-RXN  F16ALDOLASE-RXN  2TRANSKETO-RXN  \\\n",
       "FRUCTOSE-6P                               -1                0               1   \n",
       "ATP                                       -1                0               0   \n",
       "PROTON                                     1                0               0   \n",
       "ADP                                        1                0               0   \n",
       "FRUCTOSE-16-DIPHOSPHATE                    1               -1               0   \n",
       "DIHYDROXY-ACETONE-PHOSPHATE                0                1               0   \n",
       "GAP                                        0                1               1   \n",
       "ERYTHROSE-4P                               0                0              -1   \n",
       "XYLULOSE-5-PHOSPHATE                       0                0              -1   \n",
       "\n",
       "                             TRIOSEPISOMERIZATION-RXN  \n",
       "FRUCTOSE-6P                                         0  \n",
       "ATP                                                 0  \n",
       "PROTON                                              0  \n",
       "ADP                                                 0  \n",
       "FRUCTOSE-16-DIPHOSPHATE                             0  \n",
       "DIHYDROXY-ACETONE-PHOSPHATE                         1  \n",
       "GAP                                                -1  \n",
       "ERYTHROSE-4P                                        0  \n",
       "XYLULOSE-5-PHOSPHATE                                0  "
      ]
     },
     "execution_count": 706,
     "metadata": {},
     "output_type": "execute_result"
    }
   ],
   "source": [
    "Sd"
   ]
  },
  {
   "cell_type": "markdown",
   "id": "cb9f9c30-3c2c-402a-a0bc-c77ba84b4d61",
   "metadata": {},
   "source": [
    "# Check flux reconstruction with inhibition/activation"
   ]
  },
  {
   "cell_type": "code",
   "execution_count": 707,
   "id": "5e054d57-710b-4cf5-b54d-4a74deadbcea",
   "metadata": {},
   "outputs": [],
   "source": [
    "sat_expr = []\n",
    "fwd_sat = np.zeros(n_rxn)\n",
    "back_sat = np.zeros(n_rxn)\n",
    "sat = np.zeros(n_rxn)\n",
    "\n",
    "for i in range(n_rxn):\n",
    "    # sum terms are separate in logsumexp. one per saturation term (row in C_alpha, C_beta)\n",
    "    n_term_s = np.sum(d_alpha == i) \n",
    "    n_term_p = np.sum(d_beta == i)\n",
    "    n_term = n_term_s + n_term_p\n",
    "    \n",
    "    \n",
    "    Km_s_idx = np.nonzero(S_s_nz[1, :] == i)\n",
    "    S_s_idx = S_s_nz[0, S_s_nz[1, :] == i] # negate -1 entries\n",
    "    \n",
    "    Km_p_idx = np.nonzero(S_p_nz[1, :] == i)\n",
    "    S_p_idx = S_p_nz[0, S_p_nz[1, :] == i]\n",
    "    \n",
    "    #S_s_idx = S_s_nz[0, S_s_nz[1, :] == i]\n",
    "    \n",
    "    sat_expr.append(           [ (C_alpha @ y_f.value)[d_alpha == i] ,  \n",
    "                                 (C_beta @ y_r.value)[d_beta == i],\n",
    "                                 0,\n",
    "                                 #-1*np.ones(n_lse_terms - n_term + 1) \n",
    "                               ]\n",
    "                   )\n",
    "    fwd_sat[i] = (np.exp(-S.T[i, S_s_idx] @ y_s.value[Km_s_idx])) # + cfwd.value[i]\n",
    "    back_sat[i] = (np.exp(S.T[i, S_p_idx] @ y_p.value[Km_p_idx])) # + cfwd.value[i]\n",
    "    \n",
    "    \n",
    "\n",
    "for i, rxn in enumerate(sat_expr):\n",
    "    s = 0\n",
    "    \n",
    "    for term in rxn:\n",
    "        s += np.sum(np.exp(term))\n",
    "        \n",
    "    sat[i] = (s)"
   ]
  },
  {
   "cell_type": "code",
   "execution_count": 708,
   "id": "a5219ac6-8feb-46c9-add8-215a0e6dec4f",
   "metadata": {},
   "outputs": [
    {
     "data": {
      "text/plain": [
       "array([100.02345775,  20.00074463,  30.00150046,  10.00027062])"
      ]
     },
     "execution_count": 708,
     "metadata": {},
     "output_type": "execute_result"
    }
   ],
   "source": [
    "np.exp(cfwd.value) * fwd_sat/sat - np.exp(crev.value) * back_sat/sat"
   ]
  },
  {
   "cell_type": "code",
   "execution_count": 709,
   "id": "971b3404-a8d4-4beb-9912-641efbac7e5b",
   "metadata": {},
   "outputs": [
    {
     "data": {
      "text/plain": [
       "array([-4.77766892, -4.76698898])"
      ]
     },
     "execution_count": 709,
     "metadata": {},
     "output_type": "execute_result"
    }
   ],
   "source": [
    "Km_a.value"
   ]
  },
  {
   "cell_type": "markdown",
   "id": "696c8e18-e95c-4e4c-bb22-d5594e619c4a",
   "metadata": {},
   "source": [
    "Both enzymes have a much higher concentration than K_a, e.g. both are activated."
   ]
  },
  {
   "cell_type": "code",
   "execution_count": 710,
   "id": "150ff29f-9c11-4a20-a2e1-c27f18ccbd31",
   "metadata": {},
   "outputs": [
    {
     "data": {
      "text/plain": [
       "array([118.82761594, 117.56440535])"
      ]
     },
     "execution_count": 710,
     "metadata": {},
     "output_type": "execute_result"
    }
   ],
   "source": [
    "np.exp(-y_a.value)"
   ]
  },
  {
   "cell_type": "markdown",
   "id": "0f7dc10a-2a69-4c96-9f1e-7d6604c0803a",
   "metadata": {},
   "source": [
    "# Bigger network"
   ]
  },
  {
   "cell_type": "code",
   "execution_count": 514,
   "id": "7abaaa02-b962-4a16-b026-34e968233bce",
   "metadata": {},
   "outputs": [],
   "source": [
    "rxns_names = ['PGLUCISOM-RXN', '6PFRUCTPHOS-RXN', 'F16ALDOLASE-RXN', \n",
    "              '2TRANSKETO-RXN', 'TRIOSEPISOMERIZATION-RXN', 'GAPOXNPHOSPHN-RXN', 'PHOSGLYPHOS-RXN', '3PGAREARR-RXN',\n",
    "             '2PGADEHYDRAT-RXN', 'PEPDEPHOS-RXN']\n"
   ]
  },
  {
   "cell_type": "code",
   "execution_count": 50,
   "id": "f1c95d68-463e-4e70-a98c-741b2b9ec554",
   "metadata": {},
   "outputs": [],
   "source": [
    "s = requests.Session() # create session\n",
    "# Post login credentials to session:\n",
    "s.post('https://websvc.biocyc.org/credentials/login/', data={'email':'cellulararchitect@protonmail.com', 'password':'Cellman0451'})\n",
    "# Issue web service request:\n",
    "r = s.get('https://websvc.biocyc.org/getxml?id=ECOLI:6PFRUCTPHOS-RXN&detail=low&fmt=json')"
   ]
  },
  {
   "cell_type": "code",
   "execution_count": 51,
   "id": "c59c33b0-a62a-43e3-b39c-01532c623abe",
   "metadata": {},
   "outputs": [
    {
     "data": {
      "text/plain": [
       "{'PGLUCISOM-RXN': <equilibrator_api.phased_reaction.PhasedReaction at 0x17484fee0>,\n",
       " '6PFRUCTPHOS-RXN': <equilibrator_api.phased_reaction.PhasedReaction at 0x17623deb0>,\n",
       " 'F16ALDOLASE-RXN': <equilibrator_api.phased_reaction.PhasedReaction at 0x169e54550>,\n",
       " '2TRANSKETO-RXN': <equilibrator_api.phased_reaction.PhasedReaction at 0x169e54610>,\n",
       " 'TRIOSEPISOMERIZATION-RXN': <equilibrator_api.phased_reaction.PhasedReaction at 0x174680bb0>,\n",
       " 'GAPOXNPHOSPHN-RXN': <equilibrator_api.phased_reaction.PhasedReaction at 0x169e57e80>,\n",
       " 'PHOSGLYPHOS-RXN': <equilibrator_api.phased_reaction.PhasedReaction at 0x174680df0>,\n",
       " '3PGAREARR-RXN': <equilibrator_api.phased_reaction.PhasedReaction at 0x28039fc70>,\n",
       " '2PGADEHYDRAT-RXN': <equilibrator_api.phased_reaction.PhasedReaction at 0x28039ff10>,\n",
       " 'PEPDEPHOS-RXN': <equilibrator_api.phased_reaction.PhasedReaction at 0x28039ff70>}"
      ]
     },
     "execution_count": 51,
     "metadata": {},
     "output_type": "execute_result"
    }
   ],
   "source": [
    "rxns_dict = {}\n",
    "stoich_dict = {}\n",
    "\n",
    "for name in rxns_names:\n",
    "    r = s.get(f'https://websvc.biocyc.org/getxml?id=ECOLI:{name}&detail=low&fmt=json')\n",
    "    rxn = xmltodict.parse(r.content)\n",
    "\n",
    "    rxn_dict = {}\n",
    "    stoich_loop_dict = {}\n",
    "    left = rxn['ptools-xml']['Reaction']['left']\n",
    "    right = rxn['ptools-xml']['Reaction']['right']\n",
    "    \n",
    "    if type(left) is dict:\n",
    "        left = [left]\n",
    "    \n",
    "    if type(right) is dict:\n",
    "        right = [right]\n",
    "    \n",
    "    for mol in left:\n",
    "        if type(mol) is dict:\n",
    "            cid = mol['Compound']['@frameid']\n",
    "            mol_cc = cc.get_compound(f\"metacyc.compound:{cid}\")\n",
    "            rxn_dict[mol_cc] = -1\n",
    "            stoich_loop_dict[cid] = -1\n",
    "\n",
    "    for mol in right:\n",
    "        if type(mol) is dict:\n",
    "            cid = mol['Compound']['@frameid']\n",
    "            mol_cc = cc.get_compound(f\"metacyc.compound:{cid}\")\n",
    "            rxn_dict[mol_cc] =  1\n",
    "            stoich_loop_dict[cid] = 1\n",
    "    \n",
    "    rxns_dict[name] = Reaction(rxn_dict)\n",
    "    stoich_dict[name] = stoich_loop_dict\n",
    "    \n",
    "rxns_dict"
   ]
  },
  {
   "cell_type": "code",
   "execution_count": 52,
   "id": "e3e4ddc1-7e2d-4953-959b-10b652921dea",
   "metadata": {},
   "outputs": [
    {
     "data": {
      "text/plain": [
       "array([1.59075969e+00, 4.87556287e+03, 1.37137368e-04, 1.10096201e+01,\n",
       "       9.64363243e+00, 6.25653428e-01, 3.75692596e-04, 6.08165392e+00,\n",
       "       4.65230074e+00, 4.12248676e-05])"
      ]
     },
     "execution_count": 52,
     "metadata": {},
     "output_type": "execute_result"
    }
   ],
   "source": [
    "(standard_dg_prime, dg_uncertainty) = cc.standard_dg_prime_multi(list(rxns_dict.values()), uncertainty_representation=\"cov\")\n",
    "R = 0.008314 # kJ/mol*K\n",
    "T = 298.15 # K\n",
    "\n",
    "dG = standard_dg_prime._magnitude\n",
    "keq = np.exp(-dG/(R*T))\n",
    "keq"
   ]
  },
  {
   "cell_type": "code",
   "execution_count": null,
   "id": "cdb0e411-b499-424d-b55d-b4236264feca",
   "metadata": {},
   "outputs": [],
   "source": []
  }
 ],
 "metadata": {
  "kernelspec": {
   "display_name": "Python 3 (ipykernel)",
   "language": "python",
   "name": "python3"
  },
  "language_info": {
   "codemirror_mode": {
    "name": "ipython",
    "version": 3
   },
   "file_extension": ".py",
   "mimetype": "text/x-python",
   "name": "python",
   "nbconvert_exporter": "python",
   "pygments_lexer": "ipython3",
   "version": "3.9.9"
  }
 },
 "nbformat": 4,
 "nbformat_minor": 5
}
