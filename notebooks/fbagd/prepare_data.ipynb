{
 "cells": [
  {
   "cell_type": "code",
   "execution_count": 25,
   "outputs": [],
   "source": [
    "import numpy as np\n",
    "\n",
    "import seaborn as sns\n",
    "import pandas as pd\n",
    "import polars as pl\n",
    "import os\n",
    "import matplotlib.pyplot as plt\n",
    "import dill\n",
    "import requests\n",
    "import xmltodict\n",
    "import cvxpy as cp\n",
    "import itertools\n",
    "from scipy.special import logsumexp\n",
    "from scipy.sparse import csr_matrix\n",
    "\n",
    "sns.set(style='darkgrid', palette='viridis', context='talk')\n",
    "\n",
    "os.chdir(os.path.expanduser('~/vivarium-ecoli'))\n",
    "\n",
    "from ecoli.processes.metabolism_redux import NetworkFlowModel, FlowResult"
   ],
   "metadata": {
    "collapsed": false,
    "ExecuteTime": {
     "end_time": "2024-05-03T17:44:35.384687Z",
     "start_time": "2024-05-03T17:44:35.376232Z"
    }
   },
   "id": "f602b95acf25a8b7"
  },
  {
   "cell_type": "code",
   "execution_count": 26,
   "outputs": [],
   "source": [
    "# Reading the matrix CSV files\n",
    "def read_matrix(file_path, sparse=False):\n",
    "    # add sparse matrix reading\n",
    "    if sparse:\n",
    "        return csr_matrix(pl.read_csv(file_path, has_header=False).to_numpy())\n",
    "    else:\n",
    "        return pl.read_csv(file_path, has_header=False).to_numpy()\n"
   ],
   "metadata": {
    "collapsed": false,
    "ExecuteTime": {
     "end_time": "2024-05-03T17:44:35.551269Z",
     "start_time": "2024-05-03T17:44:35.542575Z"
    }
   },
   "id": "a3a2f3e089c96a39"
  },
  {
   "cell_type": "markdown",
   "source": [
    "# Import external data"
   ],
   "metadata": {
    "collapsed": false
   },
   "id": "151cf3567a05f066"
  },
  {
   "cell_type": "code",
   "execution_count": 30,
   "outputs": [
    {
     "data": {
      "text/plain": "shape: (5, 7)\n┌──────┬───────────────┬──────────────┬─────────────────┬───────────┬─────────────┬────────────────┐\n│ Gene ┆ MOPS complete ┆ MOPS minimal ┆ MOPS complete   ┆ Gene Name ┆ Accession-1 ┆ Product        │\n│ ---  ┆ ---           ┆ ---          ┆ without         ┆ ---       ┆ ---         ┆ ---            │\n│ str  ┆ i64           ┆ i64          ┆ methionine      ┆ str       ┆ str         ┆ str            │\n│      ┆               ┆              ┆ ---             ┆           ┆             ┆                │\n│      ┆               ┆              ┆ i64             ┆           ┆             ┆                │\n╞══════╪═══════════════╪══════════════╪═════════════════╪═══════════╪═════════════╪════════════════╡\n│ menF ┆ 165           ┆ 67           ┆ 70              ┆ EG12362   ┆ b2265       ┆ MENF-MONOMER   │\n│ mukE ┆ 995           ┆ 263          ┆ 806             ┆ EG11252   ┆ b0923       ┆ EG11252-MONOME │\n│      ┆               ┆              ┆                 ┆           ┆             ┆ R              │\n│ psiF ┆ 17            ┆ 454          ┆ 10              ┆ EG11401   ┆ b0384       ┆ EG11401-MONOME │\n│      ┆               ┆              ┆                 ┆           ┆             ┆ R              │\n│ hisL ┆ 913           ┆ 640          ┆ 170             ┆ EG11269   ┆ b2018       ┆ EG11269-MONOME │\n│      ┆               ┆              ┆                 ┆           ┆             ┆ R              │\n│ yjbR ┆ 532           ┆ 541          ┆ 481             ┆ EG11936   ┆ b4057       ┆ EG11936-MONOME │\n│      ┆               ┆              ┆                 ┆           ┆             ┆ R              │\n└──────┴───────────────┴──────────────┴─────────────────┴───────────┴─────────────┴────────────────┘",
      "text/html": "<div><style>\n.dataframe > thead > tr,\n.dataframe > tbody > tr {\n  text-align: right;\n  white-space: pre-wrap;\n}\n</style>\n<small>shape: (5, 7)</small><table border=\"1\" class=\"dataframe\"><thead><tr><th>Gene</th><th>MOPS complete</th><th>MOPS minimal</th><th>MOPS complete without methionine</th><th>Gene Name</th><th>Accession-1</th><th>Product</th></tr><tr><td>str</td><td>i64</td><td>i64</td><td>i64</td><td>str</td><td>str</td><td>str</td></tr></thead><tbody><tr><td>&quot;menF&quot;</td><td>165</td><td>67</td><td>70</td><td>&quot;EG12362&quot;</td><td>&quot;b2265&quot;</td><td>&quot;MENF-MONOMER&quot;</td></tr><tr><td>&quot;mukE&quot;</td><td>995</td><td>263</td><td>806</td><td>&quot;EG11252&quot;</td><td>&quot;b0923&quot;</td><td>&quot;EG11252-MONOME…</td></tr><tr><td>&quot;psiF&quot;</td><td>17</td><td>454</td><td>10</td><td>&quot;EG11401&quot;</td><td>&quot;b0384&quot;</td><td>&quot;EG11401-MONOME…</td></tr><tr><td>&quot;hisL&quot;</td><td>913</td><td>640</td><td>170</td><td>&quot;EG11269&quot;</td><td>&quot;b2018&quot;</td><td>&quot;EG11269-MONOME…</td></tr><tr><td>&quot;yjbR&quot;</td><td>532</td><td>541</td><td>481</td><td>&quot;EG11936&quot;</td><td>&quot;b4057&quot;</td><td>&quot;EG11936-MONOME…</td></tr></tbody></table></div>"
     },
     "execution_count": 30,
     "metadata": {},
     "output_type": "execute_result"
    }
   ],
   "source": [
    "# genes\n",
    "gn = pl.read_csv(\"notebooks/fbagd/external_data/gene_protein.txt\", separator='\\t')\n",
    "\n",
    "# reactions\n",
    "rx = pl.read_csv(\"notebooks/fbagd/external_data/reactions.txt\", separator='\\t')\n",
    "\n",
    "# ribosome profiling data\n",
    "li = pl.read_csv(\"notebooks/fbagd/external_data/Li_2014_profiling.csv\")\n",
    "\n",
    "# C matrix as np sparse matrix\n",
    "C = read_matrix(\"notebooks/fbagd/external_data/C_matrix.csv\", sparse=True)\n",
    "\n",
    "# join ribosome profiling data with genes on gene id\n",
    "li = li.join(gn, left_on='Gene', right_on='Common-Name')\n",
    "li.head()"
   ],
   "metadata": {
    "collapsed": false,
    "ExecuteTime": {
     "end_time": "2024-05-03T17:45:02.536752Z",
     "start_time": "2024-05-03T17:45:01.936402Z"
    }
   },
   "id": "f5c46c65bacd8c5f"
  },
  {
   "cell_type": "code",
   "execution_count": 31,
   "outputs": [
    {
     "data": {
      "text/plain": "shape: (5, 3)\n┌───────────┬──────────────┬───────────────────────────────────┐\n│ Reaction  ┆ EC-Number    ┆ Enzymes of a reaction             │\n│ ---       ┆ ---          ┆ ---                               │\n│ str       ┆ str          ┆ str                               │\n╞═══════════╪══════════════╪═══════════════════════════════════╡\n│ RXN-16650 ┆ EC-2.4.99.28 ┆ CPLX0-7717 // CPLX0-3951 // G732… │\n│ RXN-5822  ┆ EC-3.1.3.108 ┆ ALKAPHOSPHA-CPLX // NADPPHOSPHAT… │\n│ RXN-17355 ┆ null         ┆ CPLX0-7938                        │\n│ RXN-15356 ┆ null         ┆ null                              │\n│ RXN-22735 ┆ EC-6.3.4.16  ┆ CARBPSYN-CPLX                     │\n└───────────┴──────────────┴───────────────────────────────────┘",
      "text/html": "<div><style>\n.dataframe > thead > tr,\n.dataframe > tbody > tr {\n  text-align: right;\n  white-space: pre-wrap;\n}\n</style>\n<small>shape: (5, 3)</small><table border=\"1\" class=\"dataframe\"><thead><tr><th>Reaction</th><th>EC-Number</th><th>Enzymes of a reaction</th></tr><tr><td>str</td><td>str</td><td>str</td></tr></thead><tbody><tr><td>&quot;RXN-16650&quot;</td><td>&quot;EC-2.4.99.28&quot;</td><td>&quot;CPLX0-7717 // …</td></tr><tr><td>&quot;RXN-5822&quot;</td><td>&quot;EC-3.1.3.108&quot;</td><td>&quot;ALKAPHOSPHA-CP…</td></tr><tr><td>&quot;RXN-17355&quot;</td><td>null</td><td>&quot;CPLX0-7938&quot;</td></tr><tr><td>&quot;RXN-15356&quot;</td><td>null</td><td>null</td></tr><tr><td>&quot;RXN-22735&quot;</td><td>&quot;EC-6.3.4.16&quot;</td><td>&quot;CARBPSYN-CPLX&quot;</td></tr></tbody></table></div>"
     },
     "execution_count": 31,
     "metadata": {},
     "output_type": "execute_result"
    }
   ],
   "source": [
    "rx.head()"
   ],
   "metadata": {
    "collapsed": false,
    "ExecuteTime": {
     "end_time": "2024-05-03T17:45:24.962080Z",
     "start_time": "2024-05-03T17:45:24.952850Z"
    }
   },
   "id": "367d3416824437f8"
  },
  {
   "cell_type": "markdown",
   "source": [
    "# Get stoichiometric matrix"
   ],
   "metadata": {
    "collapsed": false
   },
   "id": "76d0dc851468c73b"
  },
  {
   "cell_type": "code",
   "execution_count": 32,
   "outputs": [],
   "source": [
    "time = '10'\n",
    "date = '2024-04-27'\n",
    "experiment = 'convex_kinetics'\n",
    "entry = f'{experiment}_{time}_{date}'\n",
    "folder = f'out/cofactors/{entry}/'"
   ],
   "metadata": {
    "collapsed": false,
    "ExecuteTime": {
     "end_time": "2024-05-03T20:14:12.878316Z",
     "start_time": "2024-05-03T20:14:12.868623Z"
    }
   },
   "id": "1511d74ff4dba57b"
  },
  {
   "cell_type": "code",
   "execution_count": 33,
   "outputs": [],
   "source": [
    "output = np.load(folder + '0_output.npy',allow_pickle='TRUE').item()\n",
    "# output = np.load(r\"out/geneRxnVerifData/output_glc.npy\", allow_pickle=True, encoding='ASCII').tolist()\n",
    "output = output['agents']['0']\n",
    "fba = output['listeners']['fba_results']\n",
    "mass = output['listeners']['mass']\n",
    "bulk = pd.DataFrame(output['bulk'])"
   ],
   "metadata": {
    "collapsed": false,
    "ExecuteTime": {
     "end_time": "2024-05-03T20:14:13.595460Z",
     "start_time": "2024-05-03T20:14:13.478138Z"
    }
   },
   "id": "ae9602c73521a216"
  },
  {
   "cell_type": "code",
   "execution_count": 34,
   "outputs": [],
   "source": [
    "f = open(folder + 'agent_steps.pkl', 'rb')\n",
    "agent = dill.load(f)\n",
    "f.close()"
   ],
   "metadata": {
    "collapsed": false,
    "ExecuteTime": {
     "end_time": "2024-05-03T20:14:15.124159Z",
     "start_time": "2024-05-03T20:14:14.561261Z"
    }
   },
   "id": "93cda45bf352332c"
  },
  {
   "cell_type": "code",
   "execution_count": 60,
   "outputs": [],
   "source": [
    "stoichiometry = agent['ecoli-metabolism-redux-classic'].stoichiometry\n",
    "process_rxn_names = agent['ecoli-metabolism-redux-classic'].reaction_names\n",
    "process_met_names = agent['ecoli-metabolism-redux-classic'].metabolite_names\n",
    "process_rxn_enz_map = agent['ecoli-metabolism-redux-classic'].catalyzed_rxn_enzymes_idx\n",
    "process_enz_names = agent['ecoli-metabolism-redux-classic'].catalyst_ids\n",
    "\n",
    "# maintenance_reaction = agent['ecoli-metabolism-redux-classic'].model.maintenance_reaction\n",
    "# stoichiometry[\"maintenance_reaction\"] = maintenance_reaction\n",
    "\n",
    "bad_rxns = [\"RXN-12440\", \"TRANS-RXN-121\", \"TRANS-RXN-300\", \"TRANS-RXN-8\", \"R15-RXN-MET/CPD-479//CPD-479/MET.25.\",\"DISULFOXRED-RXN[CCO-PERI-BAC]-MONOMER0-4152/MONOMER0-4438//MONOMER0-4438/MONOMER0-4152.71.\"]\n",
    "# generate carbon mistake in parca, efflux/influx proton gen, iron cheating, mass gen\n",
    "# for rxn in bad_rxns:\n",
    "#    stoichiometry.pop(rxn, None)\n"
   ],
   "metadata": {
    "collapsed": false,
    "ExecuteTime": {
     "end_time": "2024-05-03T20:59:50.594509Z",
     "start_time": "2024-05-03T20:59:50.583306Z"
    }
   },
   "id": "aa7d72bc5c67adbb"
  },
  {
   "cell_type": "markdown",
   "source": [
    "# Load enzyme counts"
   ],
   "metadata": {
    "collapsed": false
   },
   "id": "cc8f203a329acdca"
  },
  {
   "cell_type": "code",
   "execution_count": 66,
   "outputs": [],
   "source": [
    "# from li, pick out mops minimal and product columns\n",
    " = li.select([\"Product\", \"MOPS minimal\"])"
   ],
   "metadata": {
    "collapsed": false,
    "ExecuteTime": {
     "end_time": "2024-05-03T22:41:05.426594Z",
     "start_time": "2024-05-03T22:41:05.415810Z"
    }
   },
   "id": "20d421c1181890d1"
  },
  {
   "cell_type": "code",
   "execution_count": 65,
   "outputs": [
    {
     "data": {
      "text/plain": "shape: (3_755, 7)\n┌──────┬───────────────┬──────────────┬─────────────────┬───────────┬─────────────┬────────────────┐\n│ Gene ┆ MOPS complete ┆ MOPS minimal ┆ MOPS complete   ┆ Gene Name ┆ Accession-1 ┆ Product        │\n│ ---  ┆ ---           ┆ ---          ┆ without         ┆ ---       ┆ ---         ┆ ---            │\n│ str  ┆ i64           ┆ i64          ┆ methionine      ┆ str       ┆ str         ┆ str            │\n│      ┆               ┆              ┆ ---             ┆           ┆             ┆                │\n│      ┆               ┆              ┆ i64             ┆           ┆             ┆                │\n╞══════╪═══════════════╪══════════════╪═════════════════╪═══════════╪═════════════╪════════════════╡\n│ menF ┆ 165           ┆ 67           ┆ 70              ┆ EG12362   ┆ b2265       ┆ MENF-MONOMER   │\n│ mukE ┆ 995           ┆ 263          ┆ 806             ┆ EG11252   ┆ b0923       ┆ EG11252-MONOME │\n│      ┆               ┆              ┆                 ┆           ┆             ┆ R              │\n│ psiF ┆ 17            ┆ 454          ┆ 10              ┆ EG11401   ┆ b0384       ┆ EG11401-MONOME │\n│      ┆               ┆              ┆                 ┆           ┆             ┆ R              │\n│ hisL ┆ 913           ┆ 640          ┆ 170             ┆ EG11269   ┆ b2018       ┆ EG11269-MONOME │\n│      ┆               ┆              ┆                 ┆           ┆             ┆ R              │\n│ yjbR ┆ 532           ┆ 541          ┆ 481             ┆ EG11936   ┆ b4057       ┆ EG11936-MONOME │\n│      ┆               ┆              ┆                 ┆           ┆             ┆ R              │\n│ …    ┆ …             ┆ …            ┆ …               ┆ …         ┆ …           ┆ …              │\n│ tauD ┆ 7             ┆ 19           ┆ 23              ┆ EG12423   ┆ b0368       ┆ MONOMER0-147   │\n│ kbaY ┆ 7             ┆ 2            ┆ 0               ┆ EG12768   ┆ b3137       ┆ TAGAALDOL1-MON │\n│      ┆               ┆              ┆                 ┆           ┆             ┆ OMER           │\n│ tktB ┆ 64            ┆ 1215         ┆ 37              ┆ EG12100   ┆ b2465       ┆ TRANSKETOII-MO │\n│      ┆               ┆              ┆                 ┆           ┆             ┆ NOMER          │\n│ aroB ┆ 770           ┆ 444          ┆ 516             ┆ EG10074   ┆ b3389       ┆ AROB-MONOMER   │\n│ pyrD ┆ 1798          ┆ 1337         ┆ 482             ┆ EG10807   ┆ b0945       ┆ DIHYDROOROTOX- │\n│      ┆               ┆              ┆                 ┆           ┆             ┆ MONOMER        │\n└──────┴───────────────┴──────────────┴─────────────────┴───────────┴─────────────┴────────────────┘",
      "text/html": "<div><style>\n.dataframe > thead > tr,\n.dataframe > tbody > tr {\n  text-align: right;\n  white-space: pre-wrap;\n}\n</style>\n<small>shape: (3_755, 7)</small><table border=\"1\" class=\"dataframe\"><thead><tr><th>Gene</th><th>MOPS complete</th><th>MOPS minimal</th><th>MOPS complete without methionine</th><th>Gene Name</th><th>Accession-1</th><th>Product</th></tr><tr><td>str</td><td>i64</td><td>i64</td><td>i64</td><td>str</td><td>str</td><td>str</td></tr></thead><tbody><tr><td>&quot;menF&quot;</td><td>165</td><td>67</td><td>70</td><td>&quot;EG12362&quot;</td><td>&quot;b2265&quot;</td><td>&quot;MENF-MONOMER&quot;</td></tr><tr><td>&quot;mukE&quot;</td><td>995</td><td>263</td><td>806</td><td>&quot;EG11252&quot;</td><td>&quot;b0923&quot;</td><td>&quot;EG11252-MONOME…</td></tr><tr><td>&quot;psiF&quot;</td><td>17</td><td>454</td><td>10</td><td>&quot;EG11401&quot;</td><td>&quot;b0384&quot;</td><td>&quot;EG11401-MONOME…</td></tr><tr><td>&quot;hisL&quot;</td><td>913</td><td>640</td><td>170</td><td>&quot;EG11269&quot;</td><td>&quot;b2018&quot;</td><td>&quot;EG11269-MONOME…</td></tr><tr><td>&quot;yjbR&quot;</td><td>532</td><td>541</td><td>481</td><td>&quot;EG11936&quot;</td><td>&quot;b4057&quot;</td><td>&quot;EG11936-MONOME…</td></tr><tr><td>&quot;ybcL&quot;</td><td>20</td><td>34</td><td>6</td><td>&quot;G6301&quot;</td><td>&quot;b0545&quot;</td><td>&quot;G6301-MONOMER&quot;</td></tr><tr><td>&quot;cynR&quot;</td><td>152</td><td>47</td><td>94</td><td>&quot;EG11421&quot;</td><td>&quot;b0338&quot;</td><td>&quot;PD00291&quot;</td></tr><tr><td>&quot;feaB&quot;</td><td>12</td><td>28</td><td>7</td><td>&quot;G7961&quot;</td><td>&quot;b1385&quot;</td><td>&quot;PHENDEHYD-MONO…</td></tr><tr><td>&quot;ybhP&quot;</td><td>8</td><td>127</td><td>0</td><td>&quot;G6407&quot;</td><td>&quot;b0790&quot;</td><td>&quot;G6407-MONOMER&quot;</td></tr><tr><td>&quot;ilvX&quot;</td><td>102</td><td>972</td><td>1022</td><td>&quot;G0-10641&quot;</td><td>&quot;b4669&quot;</td><td>&quot;MONOMER0-2868&quot;</td></tr><tr><td>&quot;yhgN&quot;</td><td>669</td><td>72</td><td>310</td><td>&quot;G7753&quot;</td><td>&quot;b3434&quot;</td><td>&quot;G7753-MONOMER&quot;</td></tr><tr><td>&quot;paaG&quot;</td><td>5</td><td>4</td><td>0</td><td>&quot;G6715&quot;</td><td>&quot;b1394&quot;</td><td>&quot;G6715-MONOMER&quot;</td></tr><tr><td>&hellip;</td><td>&hellip;</td><td>&hellip;</td><td>&hellip;</td><td>&hellip;</td><td>&hellip;</td><td>&hellip;</td></tr><tr><td>&quot;aroM&quot;</td><td>306</td><td>116</td><td>97</td><td>&quot;EG10083&quot;</td><td>&quot;b0390&quot;</td><td>&quot;EG10083-MONOME…</td></tr><tr><td>&quot;aspC&quot;</td><td>4498</td><td>7192</td><td>3526</td><td>&quot;EG10096&quot;</td><td>&quot;b0928&quot;</td><td>&quot;ASPAMINOTRANS-…</td></tr><tr><td>&quot;cyoC&quot;</td><td>14872</td><td>2749</td><td>5041</td><td>&quot;EG10180&quot;</td><td>&quot;b0430&quot;</td><td>&quot;CYOC-MONOMER&quot;</td></tr><tr><td>&quot;pflC&quot;</td><td>2</td><td>2</td><td>0</td><td>&quot;EG11911&quot;</td><td>&quot;b3952&quot;</td><td>&quot;EG11911-MONOME…</td></tr><tr><td>&quot;infC&quot;</td><td>22624</td><td>5470</td><td>10419</td><td>&quot;EG10506&quot;</td><td>&quot;b1718&quot;</td><td>&quot;EG10506-MONOME…</td></tr><tr><td>&quot;stfR&quot;</td><td>0</td><td>2</td><td>0</td><td>&quot;G6695&quot;</td><td>&quot;b1372&quot;</td><td>&quot;G6695-MONOMER&quot;</td></tr><tr><td>&quot;astD&quot;</td><td>2</td><td>20</td><td>0</td><td>&quot;G6942&quot;</td><td>&quot;b1746&quot;</td><td>&quot;SUCCGLUALDDEHY…</td></tr><tr><td>&quot;tauD&quot;</td><td>7</td><td>19</td><td>23</td><td>&quot;EG12423&quot;</td><td>&quot;b0368&quot;</td><td>&quot;MONOMER0-147&quot;</td></tr><tr><td>&quot;kbaY&quot;</td><td>7</td><td>2</td><td>0</td><td>&quot;EG12768&quot;</td><td>&quot;b3137&quot;</td><td>&quot;TAGAALDOL1-MON…</td></tr><tr><td>&quot;tktB&quot;</td><td>64</td><td>1215</td><td>37</td><td>&quot;EG12100&quot;</td><td>&quot;b2465&quot;</td><td>&quot;TRANSKETOII-MO…</td></tr><tr><td>&quot;aroB&quot;</td><td>770</td><td>444</td><td>516</td><td>&quot;EG10074&quot;</td><td>&quot;b3389&quot;</td><td>&quot;AROB-MONOMER&quot;</td></tr><tr><td>&quot;pyrD&quot;</td><td>1798</td><td>1337</td><td>482</td><td>&quot;EG10807&quot;</td><td>&quot;b0945&quot;</td><td>&quot;DIHYDROOROTOX-…</td></tr></tbody></table></div>"
     },
     "execution_count": 65,
     "metadata": {},
     "output_type": "execute_result"
    }
   ],
   "source": [
    "li"
   ],
   "metadata": {
    "collapsed": false,
    "ExecuteTime": {
     "end_time": "2024-05-03T22:40:59.412218Z",
     "start_time": "2024-05-03T22:40:59.400513Z"
    }
   },
   "id": "c61dda8bc41a21dd"
  },
  {
   "cell_type": "code",
   "execution_count": null,
   "outputs": [],
   "source": [
    "# To start with, we will be simulating MOPS minimal. "
   ],
   "metadata": {
    "collapsed": false
   },
   "id": "483811c89957533c"
  }
 ],
 "metadata": {
  "kernelspec": {
   "display_name": "Python 3",
   "language": "python",
   "name": "python3"
  },
  "language_info": {
   "codemirror_mode": {
    "name": "ipython",
    "version": 2
   },
   "file_extension": ".py",
   "mimetype": "text/x-python",
   "name": "python",
   "nbconvert_exporter": "python",
   "pygments_lexer": "ipython2",
   "version": "2.7.6"
  }
 },
 "nbformat": 4,
 "nbformat_minor": 5
}
