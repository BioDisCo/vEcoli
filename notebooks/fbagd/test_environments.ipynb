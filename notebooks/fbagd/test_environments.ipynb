{
 "cells": [
  {
   "cell_type": "code",
   "execution_count": 29,
   "id": "8022bfb4-c69b-4cb7-a24c-fec017cc3661",
   "metadata": {},
   "outputs": [],
   "source": [
    "import numpy as np\n",
    "\n",
    "import seaborn as sns\n",
    "import pandas as pd\n",
    "import os\n",
    "\n",
    "os.chdir(os.path.expanduser('~/vivarium-ecoli'))\n",
    "\n",
    "import matplotlib.pyplot as plt\n",
    "import dill\n",
    "import requests\n",
    "import xmltodict\n",
    "from ecoli.processes.metabolism_redux import NetworkFlowModel, FlowResult\n",
    "\n",
    "\n",
    "sns.set(style='darkgrid', palette='viridis', context='talk')\n"
   ]
  },
  {
   "cell_type": "markdown",
   "id": "a143cbbb-3570-4548-bc24-f499c070a880",
   "metadata": {
    "tags": []
   },
   "source": [
    "# Import simulation output\n",
    "\n",
    "Before running this, run a sim in ecoli/experiments/metabolism_redux_sim.py with -n 2 to generate a simulation output. This is necessary to replicate the simulation environment. Use the default .json config."
   ]
  },
  {
   "cell_type": "code",
   "execution_count": 30,
   "id": "09934d23-df11-4304-9ef4-eb81f0b818c1",
   "metadata": {},
   "outputs": [],
   "source": [
    "time = '10'\n",
    "date = '2023-04-10'\n",
    "experiment = 'fba-redux-standard'\n",
    "entry = f'{experiment}_{time}_{date}'\n",
    "folder = f'out/fbagd/{entry}/'"
   ]
  },
  {
   "cell_type": "code",
   "execution_count": 31,
   "id": "b31e4a2e-0491-4e96-946d-9bca6cd43d79",
   "metadata": {},
   "outputs": [],
   "source": [
    "output = np.load(folder + 'output.npy',allow_pickle='TRUE').item()\n",
    "# output = np.load(r\"out/geneRxnVerifData/output_glc.npy\", allow_pickle=True, encoding='ASCII').tolist()\n",
    "output = output['agents']['0']\n",
    "fba = output['listeners']['fba_results']\n",
    "mass = output['listeners']['mass']\n",
    "bulk = pd.DataFrame(output['bulk'])"
   ]
  },
  {
   "cell_type": "code",
   "execution_count": 32,
   "id": "fc9f4494-cab0-43d1-bae7-85572d8e4166",
   "metadata": {},
   "outputs": [],
   "source": [
    "f = open(folder + 'agent_steps.pkl', 'rb')\n",
    "agent = dill.load(f)\n",
    "f.close()"
   ]
  },
  {
   "cell_type": "code",
   "execution_count": 33,
   "id": "27c1e87b-1ff5-4d04-89ac-5aa2bf6dbb9a",
   "metadata": {},
   "outputs": [],
   "source": [
    "stoichiometry = agent['ecoli-metabolism'].model.stoichiometry\n",
    "maintenance_reaction = agent['ecoli-metabolism'].model.maintenance_reaction\n",
    "stoichiometry[\"maintenance_reaction\"] = maintenance_reaction\n",
    "\n",
    "bad_rxns = [\"RXN-12440\", \"TRANS-RXN-121\", \"TRANS-RXN-300\", \"TRANS-RXN-8\"] # generate carbon mistake in parca, efflux/influx proton gen, iron cheating\n",
    "for rxn in bad_rxns:\n",
    "    stoichiometry.pop(rxn, None)\n"
   ]
  },
  {
   "cell_type": "markdown",
   "id": "cc853a7f-8d04-42f7-97d1-7ec846a4ef41",
   "metadata": {},
   "source": [
    "Pandas automatically understands dicts of dicts as matrices."
   ]
  },
  {
   "cell_type": "code",
   "execution_count": 34,
   "id": "14eba36e-0710-4084-b94b-99a4a30ec6dc",
   "metadata": {},
   "outputs": [
    {
     "data": {
      "text/plain": "                                          4\nTRANS-RXN-300                      14905204\nTRANS-RXN-121                      14905204\nTRANS-RXN-145                       4685215\nATPSYN-RXN (reverse)                3622805\nFUMHYDR-RXN__FUMARASE-A             1131615\nFUMHYDR-RXN__FUMARASE-A (reverse)    787822\nGAPOXNPHOSPHN-RXN                    429866\nPHOSGLYPHOS-RXN (reverse)            429864\n2PGADEHYDRAT-RXN                     429258\n3PGAREARR-RXN (reverse)              429210",
      "text/html": "<div>\n<style scoped>\n    .dataframe tbody tr th:only-of-type {\n        vertical-align: middle;\n    }\n\n    .dataframe tbody tr th {\n        vertical-align: top;\n    }\n\n    .dataframe thead th {\n        text-align: right;\n    }\n</style>\n<table border=\"1\" class=\"dataframe\">\n  <thead>\n    <tr style=\"text-align: right;\">\n      <th></th>\n      <th>4</th>\n    </tr>\n  </thead>\n  <tbody>\n    <tr>\n      <th>TRANS-RXN-300</th>\n      <td>14905204</td>\n    </tr>\n    <tr>\n      <th>TRANS-RXN-121</th>\n      <td>14905204</td>\n    </tr>\n    <tr>\n      <th>TRANS-RXN-145</th>\n      <td>4685215</td>\n    </tr>\n    <tr>\n      <th>ATPSYN-RXN (reverse)</th>\n      <td>3622805</td>\n    </tr>\n    <tr>\n      <th>FUMHYDR-RXN__FUMARASE-A</th>\n      <td>1131615</td>\n    </tr>\n    <tr>\n      <th>FUMHYDR-RXN__FUMARASE-A (reverse)</th>\n      <td>787822</td>\n    </tr>\n    <tr>\n      <th>GAPOXNPHOSPHN-RXN</th>\n      <td>429866</td>\n    </tr>\n    <tr>\n      <th>PHOSGLYPHOS-RXN (reverse)</th>\n      <td>429864</td>\n    </tr>\n    <tr>\n      <th>2PGADEHYDRAT-RXN</th>\n      <td>429258</td>\n    </tr>\n    <tr>\n      <th>3PGAREARR-RXN (reverse)</th>\n      <td>429210</td>\n    </tr>\n  </tbody>\n</table>\n</div>"
     },
     "execution_count": 34,
     "metadata": {},
     "output_type": "execute_result"
    }
   ],
   "source": [
    "sim_fluxes = pd.DataFrame(fba[\"estimated_fluxes\"])\n",
    "sim_fluxes = pd.DataFrame(sim_fluxes.loc[4, :].abs().sort_values(ascending=False))\n",
    "sim_fluxes.head(10)"
   ]
  },
  {
   "cell_type": "markdown",
   "id": "31b1bb0c-c85e-442c-8482-5d24d54fba82",
   "metadata": {
    "tags": []
   },
   "source": [
    "# Test changing nutrient composition"
   ]
  },
  {
   "cell_type": "code",
   "execution_count": 62,
   "id": "2b1e4b98-f158-48f0-b15f-f47c73b3d94a",
   "metadata": {},
   "outputs": [
    {
     "data": {
      "text/plain": "{'AMMONIUM[c]',\n 'CA+2[p]',\n 'CARBON-DIOXIDE[p]',\n 'CL-[p]',\n 'CO+2[p]',\n 'FE+2[p]',\n 'FRU[p]',\n 'K+[p]',\n 'L-SELENOCYSTEINE[c]',\n 'MG+2[p]',\n 'MN+2[p]',\n 'NA+[p]',\n 'NI+2[p]',\n 'OXYGEN-MOLECULE[p]',\n 'Pi[p]',\n 'SULFATE[p]',\n 'WATER[p]',\n 'ZN+2[p]'}"
     },
     "execution_count": 62,
     "metadata": {},
     "output_type": "execute_result"
    }
   ],
   "source": [
    "uptake = (fba[\"unconstrained_molecules\"][3]).copy()\n",
    "uptake_c = fba[\"constrained_molecules\"]\n",
    "\n",
    "uptake.extend(list(uptake_c.keys()))\n",
    "uptake = set(uptake)\n",
    "\n",
    "# addition = set([\"CPD0-1074[c]\"])\n",
    "addition = set([\n",
    "        \"FRU[p]\",\n",
    "        # \"NITRATE[p]\"\n",
    "        # 'THIAMINE[p]',\n",
    "        # 'HYDROGEN-MOLECULE[p]',\n",
    "        # 'FUM[p]'\n",
    "])\n",
    "removals = set([\n",
    "                  \"GLC[p]\",\n",
    "               #      # 'AMMONIUM[c]',\n",
    "               #      # 'WATER[p]'\n",
    "               #       # 'Pi[p]',\n",
    "               #       # 'SULFATE[p]'\n",
    "               # 'OXYGEN-MOLECULE[p]'\n",
    "])\n",
    "\n",
    "\n",
    "uptake = uptake | addition\n",
    "uptake = uptake - removals\n",
    "uptake"
   ]
  },
  {
   "cell_type": "markdown",
   "source": [
    "# Use NetworkFlowModel class to run model"
   ],
   "metadata": {
    "collapsed": false,
    "pycharm": {
     "name": "#%% md\n"
    }
   }
  },
  {
   "cell_type": "code",
   "execution_count": 63,
   "outputs": [
    {
     "data": {
      "text/plain": "2-3-DIHYDROXYBENZOATE[c]          73\n2-KETOGLUTARATE[c]               187\n2-PG[c]                           49\n2K-4CH3-PENTANOATE[c]             72\n4-AMINO-BUTYRATE[c]              161\n                              ...   \nWATER[c]                    22086088\nXYLULOSE-5-PHOSPHATE[c]           89\nZN+2[c]                           89\nZN+2[p]                           53\nglycogen-monomer[c]            35110\nName: 4, Length: 172, dtype: int64"
     },
     "execution_count": 63,
     "metadata": {},
     "output_type": "execute_result"
    }
   ],
   "source": [
    "homeostatic = pd.DataFrame(fba[\"target_homeostatic_dmdt\"]).loc[4, :]\n",
    "exchanges = pd.DataFrame(fba[\"estimated_exchange_dmdt\"]).loc[4, :]\n",
    "maintenance = pd.DataFrame(fba[\"target_maintenance_flux\"]).at[4, 0]\n",
    "kinetic = pd.DataFrame(fba[\"target_kinetic_fluxes\"]).loc[4, :]\n",
    "homeostatic"
   ],
   "metadata": {
    "collapsed": false,
    "pycharm": {
     "name": "#%%\n"
    }
   }
  },
  {
   "cell_type": "code",
   "execution_count": 64,
   "outputs": [],
   "source": [
    "model = NetworkFlowModel(reactions=stoichiometry, homeostatic_metabolites=list(dict(homeostatic).keys()))"
   ],
   "metadata": {
    "collapsed": false,
    "pycharm": {
     "name": "#%%\n"
    }
   }
  },
  {
   "cell_type": "code",
   "execution_count": 65,
   "outputs": [],
   "source": [
    "model.set_up_exchanges(exchanges=list(dict(exchanges).keys()), uptakes=uptake)"
   ],
   "metadata": {
    "collapsed": false,
    "pycharm": {
     "name": "#%%\n"
    }
   }
  },
  {
   "cell_type": "code",
   "execution_count": 66,
   "outputs": [],
   "source": [
    "solution: FlowResult = model.solve(homeostatic_targets=dict(homeostatic),\n",
    "                                   maintenance_target=maintenance,\n",
    "                                   kinetic_targets=dict(kinetic),\n",
    "                                   binary_kinetic_targets={},\n",
    "                                   objective_weights={'secretion': 0.001, 'efficiency': 0.00001, 'kinetics': 0.000001},\n",
    "                                   upper_flux_bound=100000000)"
   ],
   "metadata": {
    "collapsed": false,
    "pycharm": {
     "name": "#%%\n"
    }
   }
  },
  {
   "cell_type": "code",
   "execution_count": 67,
   "outputs": [
    {
     "data": {
      "text/plain": "WATER[p]              1.747716e+07\nFRU[p]                1.382843e+06\nAMMONIUM[c]           1.366761e+06\nOXYGEN-MOLECULE[p]    1.261141e+06\nPi[p]                 1.776750e+05\nK+[p]                 5.145700e+04\nSULFATE[p]            1.428000e+04\nMG+2[p]               2.287000e+03\nFE+2[p]               1.930000e+03\nCA+2[p]               1.425000e+03\ndtype: float64"
     },
     "execution_count": 67,
     "metadata": {},
     "output_type": "execute_result"
    }
   ],
   "source": [
    "pd.Series(solution.exchanges).sort_values(ascending=False).head(10)"
   ],
   "metadata": {
    "collapsed": false,
    "pycharm": {
     "name": "#%%\n"
    }
   }
  },
  {
   "cell_type": "code",
   "execution_count": 68,
   "outputs": [
    {
     "data": {
      "text/plain": "TRANS-RXN-145                                                                  1.747716e+07\nATPSYN-RXN (reverse)                                                           4.101845e+06\nmaintenance_reaction                                                           3.058992e+06\nGAPOXNPHOSPHN-RXN                                                              2.252105e+06\nPHOSGLYPHOS-RXN (reverse)                                                      2.252097e+06\nNADH-DEHYDROG-A-RXN-NADH/UBIQUINONE-8/PROTON//NAD/CPD-9956/PROTON.46.          2.183795e+06\n3PGAREARR-RXN (reverse)                                                        2.067018e+06\n2PGADEHYDRAT-RXN                                                               2.066969e+06\nTRANS-RXN0-545[CCO-PM-BAC-NEG]-CARBON-DIOXIDE//CARBON-DIOXIDE.47. (reverse)    1.821538e+06\nTRANS-RXN0-582-FRU/PTSI-PHOSPHORYLATED//FRU1P/PTSI-MONOMER.44.                 1.382843e+06\ndtype: float64"
     },
     "execution_count": 68,
     "metadata": {},
     "output_type": "execute_result"
    }
   ],
   "source": [
    "pd.Series(solution.velocities).sort_values(ascending=False).head(10)"
   ],
   "metadata": {
    "collapsed": false,
    "pycharm": {
     "name": "#%%\n"
    }
   }
  },
  {
   "cell_type": "markdown",
   "source": [
    "# Implement multiple environments"
   ],
   "metadata": {
    "collapsed": false,
    "pycharm": {
     "name": "#%% md\n"
    }
   }
  },
  {
   "cell_type": "markdown",
   "id": "f7a574b2-9c14-4981-a658-1c22c1026d6c",
   "metadata": {
    "tags": []
   },
   "source": [
    "# Set up schema for testing lots of fluxes"
   ]
  },
  {
   "cell_type": "markdown",
   "id": "28db669f-93f3-4f5c-aea0-e23b6a811660",
   "metadata": {},
   "source": [
    "## Connect to EcoCyc to go from Genes -> Reactions"
   ]
  },
  {
   "cell_type": "code",
   "execution_count": 40,
   "id": "a59449e4-be36-49c8-94ed-35c14f5bb72d",
   "metadata": {},
   "outputs": [
    {
     "data": {
      "text/plain": "<Response [200]>"
     },
     "execution_count": 40,
     "metadata": {},
     "output_type": "execute_result"
    }
   ],
   "source": [
    "s = requests.Session() # create session\n",
    "# Post login credentials to session:\n",
    "s.post('https://websvc.biocyc.org/credentials/login/', data={'email':'cellulararchitect@protonmail.com', 'password':'Cellman0451'})"
   ]
  },
  {
   "cell_type": "code",
   "execution_count": 41,
   "id": "ab016fac-3d48-49fb-85c7-63826a8f5664",
   "metadata": {},
   "outputs": [
    {
     "data": {
      "text/plain": "                                      Environment  \\\n0                  Hydrogen + fumarate, -O2, -Glc   \n1                                 Ribose C-source   \n2                              Thiamine salvaging   \n3                     Nitrate as reduction target   \n4  3-Phenylpropionate as carbon and energy source   \n\n                                               Genes  \\\n0  {EG11799, EG10470, G7554, EG11800, EG10468, EG...   \n1               {EG10814, EG10815, EG10818, EG10816}   \n2           {G6566, EG11574, M007, EG11572, EG11573}   \n3  {EG10638, EG10647, EG10639, EG10640, EG10644, ...   \n4                          {M012, M011, M010, G6206}   \n\n                              Add                        Remove Reactions  \n0  {FUM[p], HYDROGEN-MOLECULE[p]}  {GLC[p], OXYGEN-MOLECULE[p]}     [nan]  \n1             {D-Ribopyranose[p]}                      {GLC[p]}     [nan]  \n2                   {THIAMINE[p]}                            {}     [nan]  \n3                    {NITRATE[p]}          {OXYGEN-MOLECULE[p]}     [nan]  \n4         {3-PHENYLPROPIONATE[p]}                      {GLC[p]}     [nan]  ",
      "text/html": "<div>\n<style scoped>\n    .dataframe tbody tr th:only-of-type {\n        vertical-align: middle;\n    }\n\n    .dataframe tbody tr th {\n        vertical-align: top;\n    }\n\n    .dataframe thead th {\n        text-align: right;\n    }\n</style>\n<table border=\"1\" class=\"dataframe\">\n  <thead>\n    <tr style=\"text-align: right;\">\n      <th></th>\n      <th>Environment</th>\n      <th>Genes</th>\n      <th>Add</th>\n      <th>Remove</th>\n      <th>Reactions</th>\n    </tr>\n  </thead>\n  <tbody>\n    <tr>\n      <th>0</th>\n      <td>Hydrogen + fumarate, -O2, -Glc</td>\n      <td>{EG11799, EG10470, G7554, EG11800, EG10468, EG...</td>\n      <td>{FUM[p], HYDROGEN-MOLECULE[p]}</td>\n      <td>{GLC[p], OXYGEN-MOLECULE[p]}</td>\n      <td>[nan]</td>\n    </tr>\n    <tr>\n      <th>1</th>\n      <td>Ribose C-source</td>\n      <td>{EG10814, EG10815, EG10818, EG10816}</td>\n      <td>{D-Ribopyranose[p]}</td>\n      <td>{GLC[p]}</td>\n      <td>[nan]</td>\n    </tr>\n    <tr>\n      <th>2</th>\n      <td>Thiamine salvaging</td>\n      <td>{G6566, EG11574, M007, EG11572, EG11573}</td>\n      <td>{THIAMINE[p]}</td>\n      <td>{}</td>\n      <td>[nan]</td>\n    </tr>\n    <tr>\n      <th>3</th>\n      <td>Nitrate as reduction target</td>\n      <td>{EG10638, EG10647, EG10639, EG10640, EG10644, ...</td>\n      <td>{NITRATE[p]}</td>\n      <td>{OXYGEN-MOLECULE[p]}</td>\n      <td>[nan]</td>\n    </tr>\n    <tr>\n      <th>4</th>\n      <td>3-Phenylpropionate as carbon and energy source</td>\n      <td>{M012, M011, M010, G6206}</td>\n      <td>{3-PHENYLPROPIONATE[p]}</td>\n      <td>{GLC[p]}</td>\n      <td>[nan]</td>\n    </tr>\n  </tbody>\n</table>\n</div>"
     },
     "execution_count": 41,
     "metadata": {},
     "output_type": "execute_result"
    }
   ],
   "source": [
    "condition_sets = {0: {\"Environment\": \"Hydrogen + fumarate, -O2, -Glc\",\n",
    "                      \"Genes\": set([\"EG10468\", \"EG10469\", \"EG10470\", \"EG11799\", \"EG11800\", \"EG11801\", \"G7554\"]), \n",
    "                      \"Add\": set([\"FUM[p]\", 'HYDROGEN-MOLECULE[p]']),\n",
    "                      \"Remove\": set([\"GLC[p]\", \"OXYGEN-MOLECULE[p]\"]),\n",
    "                      },\n",
    "                  \n",
    "                  1: {\"Environment\": \"Ribose C-source\",\n",
    "                      \"Genes\": set([\"EG10814\", \"EG10815\", \"EG10816\", \"EG10818\"]), \n",
    "                      \"Add\": set([\"D-Ribopyranose[p]\"]),\n",
    "                      \"Remove\": set([\"GLC[p]\"]),\n",
    "                      },\n",
    "                  \n",
    "                  2: {\"Environment\": \"Thiamine salvaging\",\n",
    "                      \"Genes\": set([\"EG11574\", \"G6566\", \"M007\", \"EG11573\", \"EG11572\"]), \n",
    "                      \"Add\": set([\"THIAMINE[p]\"]),\n",
    "                      \"Remove\": set(),\n",
    "                      },\n",
    "                  \n",
    "                  3: {\"Environment\": \"Nitrate as reduction target\",\n",
    "                      \"Genes\": set([\"EG10638\", \"EG10639\", \"EG10640\", \"EG10644\", \"EG10647\", \"EG10648\"]), \n",
    "                      \"Add\": set([\"NITRATE[p]\"]),\n",
    "                      \"Remove\": set([\"OXYGEN-MOLECULE[p]\"]),\n",
    "                      },\n",
    "                  \n",
    "                  4: {\"Environment\": \"3-Phenylpropionate as carbon and energy source\",\n",
    "                      \"Genes\": set([\"M010\", \"M011\", \"M012\", \"G6206\"]), \n",
    "                      \"Add\": set([\"3-PHENYLPROPIONATE[p]\"]),\n",
    "                      \"Remove\": set([\"GLC[p]\"]),\n",
    "                      },\n",
    "                  \n",
    "                  # 5: {\"Genes\": set([\"EG10286\", \"EG10287\", \"EG10288\", \"EG10289\", \n",
    "                  #                   \"EG10290\", \"EG10293\", \"EG10294\", \"EG10295\", \n",
    "                  #                   \"EG10296\", \"EG10298\", \"EG10302\", \"EG10303\", \n",
    "                  #                   \"EG10304\", \"EG10305\", \"EG10306\", \"G6414\"]), \n",
    "                  #     \"Add\": set(),\n",
    "                  #     \"Remove\": set(),\n",
    "                  #     \"Environment\": \"Proper metal (iron) uptake\"}\n",
    "                 }\n",
    "\n",
    "condition_df = pd.DataFrame(condition_sets).T\n",
    "condition_df[\"Reactions\"] = [[np.nan]] * len(condition_df)\n",
    "condition_df"
   ]
  },
  {
   "cell_type": "code",
   "execution_count": 42,
   "id": "0ecc835e-9a66-4cfe-838f-257cf37449b0",
   "metadata": {},
   "outputs": [],
   "source": [
    "for i in range(len(condition_df.index)):\n",
    "    \n",
    "    genes = condition_df.loc[i, \"Genes\"]\n",
    "    rxn_set = set()\n",
    "\n",
    "    for gene in genes:\n",
    "        function = \"reactions-of-gene\"\n",
    "        name = gene\n",
    "        req_str = f\"https://websvc.biocyc.org/apixml?fn={function}&id=ECOLI:{name}&detail=none&fmt=json\"\n",
    "\n",
    "        r = s.get(req_str)\n",
    "        o = xmltodict.parse(r.content)['ptools-xml']['Reaction']\n",
    "        if type(o) is dict:\n",
    "            o = [o]\n",
    "        \n",
    "        for rxn in o:\n",
    "            if type(rxn) is not str: # no rxns\n",
    "                rxn_set.add(rxn['@frameid'])\n",
    "            else:\n",
    "                print(gene, rxn)\n",
    "            \n",
    "    condition_df.at[i, \"Reactions\"] = rxn_set"
   ]
  },
  {
   "cell_type": "code",
   "execution_count": 44,
   "id": "4ec194b0-2aeb-43b9-85c6-108bebb4a0e9",
   "metadata": {},
   "outputs": [
    {
     "data": {
      "text/plain": "                                      Environment  \\\n0                  Hydrogen + fumarate, -O2, -Glc   \n1                                 Ribose C-source   \n2                              Thiamine salvaging   \n3                     Nitrate as reduction target   \n4  3-Phenylpropionate as carbon and energy source   \n\n                                               Genes  \\\n0  {EG11799, EG10470, G7554, EG11800, EG10468, EG...   \n1               {EG10814, EG10815, EG10818, EG10816}   \n2           {G6566, EG11574, M007, EG11572, EG11573}   \n3  {EG10638, EG10647, EG10639, EG10640, EG10644, ...   \n4                          {M012, M011, M010, G6206}   \n\n                              Add                        Remove  \\\n0  {FUM[p], HYDROGEN-MOLECULE[p]}  {GLC[p], OXYGEN-MOLECULE[p]}   \n1             {D-Ribopyranose[p]}                      {GLC[p]}   \n2                   {THIAMINE[p]}                            {}   \n3                    {NITRATE[p]}          {OXYGEN-MOLECULE[p]}   \n4         {3-PHENYLPROPIONATE[p]}                      {GLC[p]}   \n\n                                           Reactions  \n0                  {RXN-16420, RXN0-7399, RXN0-5256}  \n1                          {RIBOKIN-RXN, ABC-28-RXN}  \n2  {THIKIN-RXN, THIAZOLSYN3-RXN, RXN0-7298, ABC-3...  \n3                  {RXN-15119, RXN0-7124, RXN0-3501}  \n4  {TRANS-RXN-61, RXN-12073, 1.13.11.16-RXN, MHPH...  ",
      "text/html": "<div>\n<style scoped>\n    .dataframe tbody tr th:only-of-type {\n        vertical-align: middle;\n    }\n\n    .dataframe tbody tr th {\n        vertical-align: top;\n    }\n\n    .dataframe thead th {\n        text-align: right;\n    }\n</style>\n<table border=\"1\" class=\"dataframe\">\n  <thead>\n    <tr style=\"text-align: right;\">\n      <th></th>\n      <th>Environment</th>\n      <th>Genes</th>\n      <th>Add</th>\n      <th>Remove</th>\n      <th>Reactions</th>\n    </tr>\n  </thead>\n  <tbody>\n    <tr>\n      <th>0</th>\n      <td>Hydrogen + fumarate, -O2, -Glc</td>\n      <td>{EG11799, EG10470, G7554, EG11800, EG10468, EG...</td>\n      <td>{FUM[p], HYDROGEN-MOLECULE[p]}</td>\n      <td>{GLC[p], OXYGEN-MOLECULE[p]}</td>\n      <td>{RXN-16420, RXN0-7399, RXN0-5256}</td>\n    </tr>\n    <tr>\n      <th>1</th>\n      <td>Ribose C-source</td>\n      <td>{EG10814, EG10815, EG10818, EG10816}</td>\n      <td>{D-Ribopyranose[p]}</td>\n      <td>{GLC[p]}</td>\n      <td>{RIBOKIN-RXN, ABC-28-RXN}</td>\n    </tr>\n    <tr>\n      <th>2</th>\n      <td>Thiamine salvaging</td>\n      <td>{G6566, EG11574, M007, EG11572, EG11573}</td>\n      <td>{THIAMINE[p]}</td>\n      <td>{}</td>\n      <td>{THIKIN-RXN, THIAZOLSYN3-RXN, RXN0-7298, ABC-3...</td>\n    </tr>\n    <tr>\n      <th>3</th>\n      <td>Nitrate as reduction target</td>\n      <td>{EG10638, EG10647, EG10639, EG10640, EG10644, ...</td>\n      <td>{NITRATE[p]}</td>\n      <td>{OXYGEN-MOLECULE[p]}</td>\n      <td>{RXN-15119, RXN0-7124, RXN0-3501}</td>\n    </tr>\n    <tr>\n      <th>4</th>\n      <td>3-Phenylpropionate as carbon and energy source</td>\n      <td>{M012, M011, M010, G6206}</td>\n      <td>{3-PHENYLPROPIONATE[p]}</td>\n      <td>{GLC[p]}</td>\n      <td>{TRANS-RXN-61, RXN-12073, 1.13.11.16-RXN, MHPH...</td>\n    </tr>\n  </tbody>\n</table>\n</div>"
     },
     "execution_count": 44,
     "metadata": {},
     "output_type": "execute_result"
    }
   ],
   "source": [
    "condition_df"
   ]
  },
  {
   "cell_type": "markdown",
   "id": "bed4cb3d-8c43-44a6-9677-2769b81ade20",
   "metadata": {},
   "source": [
    "## Quick and dirty loop (after init)"
   ]
  },
  {
   "cell_type": "code",
   "execution_count": 49,
   "id": "810fa6c8-b907-45b1-a1a7-d072f2295fe2",
   "metadata": {},
   "outputs": [],
   "source": [
    "results_df = pd.DataFrame(columns=[\"Environment\", \"Reaction\", \"Flux\"])\n",
    "\n",
    "for i in range(len(condition_df)):\n",
    "    condition_idx = i\n",
    "\n",
    "    uptake = (fba[\"unconstrained_molecules\"][3]).copy()\n",
    "    uptake_c = fba[\"constrained_molecules\"]\n",
    "\n",
    "    uptake.extend(list(uptake_c.keys()))\n",
    "    uptake = set(uptake)\n",
    "\n",
    "    addition = condition_df.at[condition_idx, \"Add\"]\n",
    "    removals = condition_df.at[condition_idx, \"Remove\"]\n",
    "\n",
    "    uptake = uptake | addition\n",
    "    uptake = uptake - removals\n",
    "\n",
    "    model.set_up_exchanges(exchanges=list(dict(exchanges).keys()), uptakes=uptake)\n",
    "\n",
    "    solution: FlowResult = model.solve(homeostatic_targets=dict(homeostatic),\n",
    "                                   maintenance_target=maintenance,\n",
    "                                   kinetic_targets=dict(kinetic),\n",
    "                                   binary_kinetic_targets={},\n",
    "                                   objective_weights={'secretion': 0.001, 'efficiency': 0.00001, 'kinetics': 0.000001},\n",
    "                                   upper_flux_bound=100000000)\n",
    "\n",
    "    # Check flux\n",
    "    fluxes = pd.DataFrame({model.rxns[i]: [solution.velocities[model.rxns[i]], stoichiometry[model.rxns[i]]] for i in range(len(model.rxns))}).T\n",
    "    fluxes.columns = [\"Flux\", \"Stoichiometry\"]\n",
    "\n",
    "    relevant_rxns = condition_df.at[condition_idx, \"Reactions\"]\n",
    "    relevant_rxn_idx = []\n",
    "\n",
    "    for rxn in relevant_rxns:\n",
    "        relevant_rxn_idx.extend(list(np.where(fluxes.index.str.contains(rxn))[0] ))\n",
    "\n",
    "    relevant_fluxes = fluxes.iloc[relevant_rxn_idx, :]\n",
    "    \n",
    "    relevant_nonzero_fluxes = relevant_fluxes[relevant_fluxes[\"Flux\"] != 0].loc[:, \"Flux\"]\n",
    "    \n",
    "    for j, k in enumerate(relevant_nonzero_fluxes.index):\n",
    "        results_df = results_df.append(pd.DataFrame([[condition_df.at[condition_idx, \"Environment\"],\n",
    "                          relevant_nonzero_fluxes.index[j],\n",
    "                          relevant_nonzero_fluxes[k]]], columns=[\"Environment\", \"Reaction\", \"Flux\"]))\n",
    "    #print(condition_df.at[condition_idx, \"Environment\"],\"\\n\" ,relevant_fluxes[relevant_fluxes[\"Flux\"] != 0].loc[:, \"Flux\"], \"\\n\")"
   ]
  },
  {
   "cell_type": "code",
   "execution_count": 50,
   "id": "3feb60e7-d881-4b21-afc4-e501301874bc",
   "metadata": {},
   "outputs": [
    {
     "data": {
      "text/plain": "                                      Environment              Reaction  \\\n0                  Hydrogen + fumarate, -O2, -Glc  RXN0-5256-CPD-9728/P   \n0                                 Ribose C-source  RIBOKIN-RXN-CPD0-110   \n0                                 Ribose C-source  RIBOKIN-RXN-CPD0-110   \n0                                 Ribose C-source  ABC-28-RXN-ATP/D-Rib   \n0                              Thiamine salvaging            THIKIN-RXN   \n0                              Thiamine salvaging            ABC-32-RXN   \n0                     Nitrate as reduction target  RXN0-7124-NITRATE/CP   \n0                     Nitrate as reduction target  RXN0-3501-NITRATE/RE   \n0  3-Phenylpropionate as carbon and energy source        1.13.11.16-RXN   \n0  3-Phenylpropionate as carbon and energy source        MHPCHYDROL-RXN   \n\n           Flux  \n0  1.502564e+07  \n0  1.186894e+06  \n0  5.673886e+05  \n0  1.754283e+06  \n0  4.900000e+01  \n0  4.900000e+01  \n0  1.048420e+05  \n0  8.898633e+05  \n0  1.063458e+06  \n0  1.063458e+06  ",
      "text/html": "<div>\n<style scoped>\n    .dataframe tbody tr th:only-of-type {\n        vertical-align: middle;\n    }\n\n    .dataframe tbody tr th {\n        vertical-align: top;\n    }\n\n    .dataframe thead th {\n        text-align: right;\n    }\n</style>\n<table border=\"1\" class=\"dataframe\">\n  <thead>\n    <tr style=\"text-align: right;\">\n      <th></th>\n      <th>Environment</th>\n      <th>Reaction</th>\n      <th>Flux</th>\n    </tr>\n  </thead>\n  <tbody>\n    <tr>\n      <th>0</th>\n      <td>Hydrogen + fumarate, -O2, -Glc</td>\n      <td>RXN0-5256-CPD-9728/P</td>\n      <td>1.502564e+07</td>\n    </tr>\n    <tr>\n      <th>0</th>\n      <td>Ribose C-source</td>\n      <td>RIBOKIN-RXN-CPD0-110</td>\n      <td>1.186894e+06</td>\n    </tr>\n    <tr>\n      <th>0</th>\n      <td>Ribose C-source</td>\n      <td>RIBOKIN-RXN-CPD0-110</td>\n      <td>5.673886e+05</td>\n    </tr>\n    <tr>\n      <th>0</th>\n      <td>Ribose C-source</td>\n      <td>ABC-28-RXN-ATP/D-Rib</td>\n      <td>1.754283e+06</td>\n    </tr>\n    <tr>\n      <th>0</th>\n      <td>Thiamine salvaging</td>\n      <td>THIKIN-RXN</td>\n      <td>4.900000e+01</td>\n    </tr>\n    <tr>\n      <th>0</th>\n      <td>Thiamine salvaging</td>\n      <td>ABC-32-RXN</td>\n      <td>4.900000e+01</td>\n    </tr>\n    <tr>\n      <th>0</th>\n      <td>Nitrate as reduction target</td>\n      <td>RXN0-7124-NITRATE/CP</td>\n      <td>1.048420e+05</td>\n    </tr>\n    <tr>\n      <th>0</th>\n      <td>Nitrate as reduction target</td>\n      <td>RXN0-3501-NITRATE/RE</td>\n      <td>8.898633e+05</td>\n    </tr>\n    <tr>\n      <th>0</th>\n      <td>3-Phenylpropionate as carbon and energy source</td>\n      <td>1.13.11.16-RXN</td>\n      <td>1.063458e+06</td>\n    </tr>\n    <tr>\n      <th>0</th>\n      <td>3-Phenylpropionate as carbon and energy source</td>\n      <td>MHPCHYDROL-RXN</td>\n      <td>1.063458e+06</td>\n    </tr>\n  </tbody>\n</table>\n</div>"
     },
     "execution_count": 50,
     "metadata": {},
     "output_type": "execute_result"
    }
   ],
   "source": [
    "results_df[\"Reaction\"] = results_df['Reaction'].str.slice(0,20)\n",
    "results_df"
   ]
  },
  {
   "cell_type": "code",
   "execution_count": 51,
   "id": "f5dc4036-1bf6-4443-bfe8-198bfff75941",
   "metadata": {},
   "outputs": [
    {
     "data": {
      "text/plain": "<Figure size 1148.28x360 with 1 Axes>",
      "image/png": "[encoded data removed]"
     },
     "metadata": {},
     "output_type": "display_data"
    }
   ],
   "source": [
    "sns.catplot(y=\"Environment\",hue=\"Reaction\", x=\"Flux\", data=results_df, kind=\"bar\", aspect=2.5)\n",
    "plt.xscale('log')\n",
    "#plt.tight_layout()\n",
    "plt.savefig(\"notebooks/fbagd/figures/rxns_light_up.png\", dpi=300)"
   ]
  },
  {
   "cell_type": "markdown",
   "id": "dc585496-f8aa-4a33-95c6-080673fdacee",
   "metadata": {
    "tags": []
   },
   "source": [
    "# Extract specific fluxes for balancing"
   ]
  },
  {
   "cell_type": "code",
   "execution_count": null,
   "id": "a365292b-41f5-4479-9faa-9f4288066d5f",
   "metadata": {},
   "outputs": [],
   "source": [
    "rxns_names = ['PGLUCISOM-RXN', '6PFRUCTPHOS-RXN', 'F16ALDOLASE-RXN', 'TRIOSEPISOMERIZATION-RXN', \n",
    "              'GAPOXNPHOSPHN-RXN', 'PHOSGLYPHOS-RXN', '3PGAREARR-RXN',\n",
    "              '2PGADEHYDRAT-RXN', 'PEPDEPHOS-RXN']"
   ]
  },
  {
   "cell_type": "code",
   "execution_count": null,
   "id": "70d1d678-2b56-4720-b9ea-1e5dcc2cd85e",
   "metadata": {},
   "outputs": [],
   "source": [
    "fluxes.sort_values(by=0, axis=1, ascending=False).T.head(10)"
   ]
  },
  {
   "cell_type": "code",
   "execution_count": null,
   "id": "741fa321-36cf-453b-a8cd-118ddc076956",
   "metadata": {},
   "outputs": [],
   "source": [
    "fluxes_small = fluxes.loc[fluxes.index.isin(rxns_names), :]\n",
    "fluxes_small"
   ]
  },
  {
   "cell_type": "code",
   "execution_count": null,
   "id": "d740f972-9657-4f41-9134-53904ef364e2",
   "metadata": {},
   "outputs": [],
   "source": [
    "fluxes.loc[fluxes.index.str.contains(\"TRIOSEPISOMERIZATION-RXN\"),:]"
   ]
  },
  {
   "cell_type": "code",
   "execution_count": null,
   "id": "3697f643-1b16-4a02-b5bb-35649d260ce8",
   "metadata": {},
   "outputs": [],
   "source": [
    "fluxes.loc[fluxes.index.str.contains(\"3PGAREARR-RXN\"),:]"
   ]
  },
  {
   "cell_type": "code",
   "execution_count": null,
   "id": "ad776937-f57e-4a4f-ab3d-0592cff8dafe",
   "metadata": {},
   "outputs": [],
   "source": [
    "fluxes.loc[fluxes.index.str.contains(\"PHOSGLYPHOS-RXN\"),:]"
   ]
  },
  {
   "cell_type": "code",
   "execution_count": null,
   "id": "bd9c3384-0d65-4333-a8bc-000fb75795ff",
   "metadata": {},
   "outputs": [],
   "source": [
    "fluxes.loc[fluxes.index.str.contains(\"2TRANSKETO-RXN\"),:]"
   ]
  },
  {
   "cell_type": "code",
   "execution_count": null,
   "id": "b9f80e9e-1077-40bf-99b4-fdfbc7d816b7",
   "metadata": {
    "pycharm": {
     "name": "#%%\n"
    }
   },
   "outputs": [],
   "source": [
    "glucose_transport_reactions = ['TRANS-RXN-157-PTSH-PHOSPHORYLATED/GLC//ALPHA-GLC-6-P/PTSH-MONOMER.52.',\n",
    "                               'TRANS-RXN-157-PTSH-PHOSPHORYLATED/GLC//D-glucopyranose-6-phosphate/PTSH-MONOMER.66.',\n",
    "                               'TRANS-RXN-157-PTSH-PHOSPHORYLATED/GLC//GLC-6-P/PTSH-MONOMER.46.',\n",
    "                               'RXN0-7077-GLC/PROTON//ALPHA-GLUCOSE/PROTON.33.',\n",
    "                               'RXN0-7077-GLC/PROTON//Glucopyranose/PROTON.33.',\n",
    "                               'RXN0-7077-GLC/PROTON//GLC/PROTON.23.',\n",
    "                               'TRANS-RXN0-574-GLC//GLC.9.',\n",
    "                               'TRANS-RXN0-574-GLC//Glucopyranose.19.',\n",
    "                               'TRANS-RXN-320-GLC/ATP/WATER//ALPHA-GLUCOSE/ADP/Pi/PROTON.43.',\n",
    "                               'TRANS-RXN-320-GLC/ATP/WATER//GLC/ADP/Pi/PROTON.33.',\n",
    "                               'TRANS-RXN-320-GLC/ATP/WATER//Glucopyranose/ADP/Pi/PROTON.43.']\n"
   ]
  }
 ],
 "metadata": {
  "kernelspec": {
   "display_name": "Python 3 (ipykernel)",
   "language": "python",
   "name": "python3"
  },
  "language_info": {
   "codemirror_mode": {
    "name": "ipython",
    "version": 3
   },
   "file_extension": ".py",
   "mimetype": "text/x-python",
   "name": "python",
   "nbconvert_exporter": "python",
   "pygments_lexer": "ipython3",
   "version": "3.9.9"
  }
 },
 "nbformat": 4,
 "nbformat_minor": 5
}