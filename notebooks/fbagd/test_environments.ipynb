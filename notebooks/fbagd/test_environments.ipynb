{
 "cells": [
  {
   "cell_type": "code",
   "execution_count": 87,
   "id": "8022bfb4-c69b-4cb7-a24c-fec017cc3661",
   "metadata": {},
   "outputs": [],
   "source": [
    "import numpy as np\n",
    "from scipy import linalg, special, sparse\n",
    "import sympy\n",
    "import seaborn as sns\n",
    "import pandas as pd\n",
    "import os\n",
    "import matplotlib.pyplot as plt\n",
    "import dill\n",
    "import cvxpy as cp\n",
    "import copy\n",
    "import requests\n",
    "import xmltodict\n",
    "from typing import Any, Iterable, Iterator, Mapping, Optional, Tuple, Union\n",
    "from dataclasses import dataclass\n",
    "\n",
    "\n",
    "sns.set(style='darkgrid', palette='viridis', context='talk')\n",
    "\n",
    "os.chdir(os.path.expanduser('~/vivarium-ecoli'))"
   ]
  },
  {
   "cell_type": "markdown",
   "id": "a143cbbb-3570-4548-bc24-f499c070a880",
   "metadata": {
    "tags": []
   },
   "source": [
    "# Import simulation output"
   ]
  },
  {
   "cell_type": "code",
   "execution_count": 88,
   "id": "09934d23-df11-4304-9ef4-eb81f0b818c1",
   "metadata": {},
   "outputs": [],
   "source": [
    "time = '10'\n",
    "date = '2023-03-08'\n",
    "experiment = 'balance-fix'\n",
    "entry = f'{experiment}_{time}_{date}'\n",
    "folder = f'out/fbagd/{entry}/'"
   ]
  },
  {
   "cell_type": "code",
   "execution_count": 89,
   "id": "b31e4a2e-0491-4e96-946d-9bca6cd43d79",
   "metadata": {},
   "outputs": [],
   "source": [
    "output = np.load(folder + 'output.npy',allow_pickle='TRUE').item()\n",
    "# output = np.load(r\"out/geneRxnVerifData/output_glc.npy\", allow_pickle=True, encoding='ASCII').tolist()\n",
    "output = output['agents']['0']\n",
    "fba = output['listeners']['fba_results']\n",
    "mass = output['listeners']['mass']\n",
    "bulk = pd.DataFrame(output['bulk'])"
   ]
  },
  {
   "cell_type": "code",
   "execution_count": 90,
   "id": "fc9f4494-cab0-43d1-bae7-85572d8e4166",
   "metadata": {},
   "outputs": [],
   "source": [
    "f = open(folder + 'agent_steps.pkl', 'rb')\n",
    "agent = dill.load(f)\n",
    "f.close()"
   ]
  },
  {
   "cell_type": "code",
   "execution_count": 91,
   "id": "27c1e87b-1ff5-4d04-89ac-5aa2bf6dbb9a",
   "metadata": {},
   "outputs": [],
   "source": [
    "stoichiometry = agent['ecoli-metabolism'].model.stoichiometry\n",
    "maintenance_reaction = agent['ecoli-metabolism'].model.maintenance_reaction\n",
    "stoichiometry[\"maintenance_reaction\"] = maintenance_reaction\n",
    "\n",
    "bad_rxns = [\"RXN-12440\", \"TRANS-RXN-121\", \"TRANS-RXN-300\", \"TRANS-RXN-8\"] # generate carbon mistake in parca, efflux/influx proton gen, iron cheating\n",
    "for rxn in bad_rxns:\n",
    "    stoichiometry.pop(rxn, None)\n"
   ]
  },
  {
   "cell_type": "code",
   "execution_count": 92,
   "id": "3bf55da2-a71c-4fc1-b126-ae09e4298735",
   "metadata": {},
   "outputs": [
    {
     "data": {
      "text/plain": "{'2-DEHYDRO-3-DEOXY-D-GLUCONATE[c]': -1,\n 'NAD[c]': -1,\n 'CPD-343[c]': 1,\n 'NADH[c]': 1,\n 'PROTON[c]': 1}"
     },
     "execution_count": 92,
     "metadata": {},
     "output_type": "execute_result"
    }
   ],
   "source": [
    "stoichiometry['1.1.1.127-RXN']"
   ]
  },
  {
   "cell_type": "markdown",
   "id": "cc853a7f-8d04-42f7-97d1-7ec846a4ef41",
   "metadata": {},
   "source": [
    "Pandas automatically understands dicts of dicts as matrices. "
   ]
  },
  {
   "cell_type": "code",
   "execution_count": 93,
   "id": "14eba36e-0710-4084-b94b-99a4a30ec6dc",
   "metadata": {},
   "outputs": [
    {
     "data": {
      "text/plain": "                                                          4\nATPSYN-RXN (reverse)                                1509759\nTRANS-RXN0-547[CCO-PM-BAC-NEG]-WATER//WATER.29.      905893\nSUCCINATE-DEHYDROGENASE-UBIQUINONE-RXN-SUC/UBIQ...   857780\nR601-RXN-FUM/REDUCED-MENAQUINONE//SUC/CPD-9728.38.   700754\nRXN0-5388-CPD-9728/NADH/PROTON//REDUCED-MENAQUI...   699206\nTRANS-RXN0-545[CCO-PM-BAC-NEG]-CARBON-DIOXIDE//...   468395\nFUMHYDR-RXN__FUMARASE-A                              449687\nTRANS-RXN0-474                                       433303\nRXN-21817-CPD-9956/PROTON/OXYGEN-MOLECULE//UBIQ...   433255\nGAPOXNPHOSPHN-RXN                                    384822",
      "text/html": "<div>\n<style scoped>\n    .dataframe tbody tr th:only-of-type {\n        vertical-align: middle;\n    }\n\n    .dataframe tbody tr th {\n        vertical-align: top;\n    }\n\n    .dataframe thead th {\n        text-align: right;\n    }\n</style>\n<table border=\"1\" class=\"dataframe\">\n  <thead>\n    <tr style=\"text-align: right;\">\n      <th></th>\n      <th>4</th>\n    </tr>\n  </thead>\n  <tbody>\n    <tr>\n      <th>ATPSYN-RXN (reverse)</th>\n      <td>1509759</td>\n    </tr>\n    <tr>\n      <th>TRANS-RXN0-547[CCO-PM-BAC-NEG]-WATER//WATER.29.</th>\n      <td>905893</td>\n    </tr>\n    <tr>\n      <th>SUCCINATE-DEHYDROGENASE-UBIQUINONE-RXN-SUC/UBIQUINONE-8//FUM/CPD-9956.31.</th>\n      <td>857780</td>\n    </tr>\n    <tr>\n      <th>R601-RXN-FUM/REDUCED-MENAQUINONE//SUC/CPD-9728.38.</th>\n      <td>700754</td>\n    </tr>\n    <tr>\n      <th>RXN0-5388-CPD-9728/NADH/PROTON//REDUCED-MENAQUINONE/NAD/PROTON.53.</th>\n      <td>699206</td>\n    </tr>\n    <tr>\n      <th>TRANS-RXN0-545[CCO-PM-BAC-NEG]-CARBON-DIOXIDE//CARBON-DIOXIDE.47. (reverse)</th>\n      <td>468395</td>\n    </tr>\n    <tr>\n      <th>FUMHYDR-RXN__FUMARASE-A</th>\n      <td>449687</td>\n    </tr>\n    <tr>\n      <th>TRANS-RXN0-474</th>\n      <td>433303</td>\n    </tr>\n    <tr>\n      <th>RXN-21817-CPD-9956/PROTON/OXYGEN-MOLECULE//UBIQUINONE-8/PROTON/WATER.59.</th>\n      <td>433255</td>\n    </tr>\n    <tr>\n      <th>GAPOXNPHOSPHN-RXN</th>\n      <td>384822</td>\n    </tr>\n  </tbody>\n</table>\n</div>"
     },
     "execution_count": 93,
     "metadata": {},
     "output_type": "execute_result"
    }
   ],
   "source": [
    "sim_fluxes = pd.DataFrame(fba[\"estimated_fluxes\"])\n",
    "sim_fluxes = pd.DataFrame(sim_fluxes.loc[4, :].abs().sort_values(ascending=False))\n",
    "sim_fluxes.head(10)"
   ]
  },
  {
   "cell_type": "markdown",
   "id": "31b1bb0c-c85e-442c-8482-5d24d54fba82",
   "metadata": {
    "tags": []
   },
   "source": [
    "# Change nutrient composition"
   ]
  },
  {
   "cell_type": "code",
   "execution_count": 94,
   "id": "2b1e4b98-f158-48f0-b15f-f47c73b3d94a",
   "metadata": {},
   "outputs": [
    {
     "data": {
      "text/plain": "{'AMMONIUM[c]',\n 'CA+2[p]',\n 'CARBON-DIOXIDE[p]',\n 'CL-[p]',\n 'CO+2[p]',\n 'FE+2[p]',\n 'GLC[p]',\n 'K+[p]',\n 'L-SELENOCYSTEINE[c]',\n 'MG+2[p]',\n 'MN+2[p]',\n 'NA+[p]',\n 'NI+2[p]',\n 'OXYGEN-MOLECULE[p]',\n 'Pi[p]',\n 'SULFATE[p]',\n 'WATER[p]',\n 'ZN+2[p]'}"
     },
     "execution_count": 94,
     "metadata": {},
     "output_type": "execute_result"
    }
   ],
   "source": [
    "uptake = (fba[\"unconstrained_molecules\"][3]).copy()\n",
    "uptake_c = fba[\"constrained_molecules\"]\n",
    "\n",
    "uptake.extend(list(uptake_c.keys()))\n",
    "uptake = set(uptake)\n",
    "\n",
    "# addition = set([\"CPD0-1074[c]\"])\n",
    "addition = set(\n",
    "    [\n",
    "        # \"D-Ribopyranose[p]\",\n",
    "        # \"NITRATE[p]\"\n",
    "        # 'THIAMINE[p]',\n",
    "        # 'HYDROGEN-MOLECULE[p]',\n",
    "        # 'FUM[p]'\n",
    "    ]\n",
    ")\n",
    "removals = set(\n",
    "                [\n",
    "               #    \"GLC[p]\",\n",
    "               #      # 'AMMONIUM[c]',\n",
    "               #      # 'WATER[p]'\n",
    "               #       # 'Pi[p]',\n",
    "               #       # 'SULFATE[p]'\n",
    "               # 'OXYGEN-MOLECULE[p]'\n",
    "                ]\n",
    "                )\n",
    "\n",
    "\n",
    "uptake = uptake | addition\n",
    "uptake = uptake - removals\n",
    "uptake"
   ]
  },
  {
   "cell_type": "code",
   "execution_count": 95,
   "id": "77925289-ed73-4cda-b664-80afdaa47971",
   "metadata": {},
   "outputs": [
    {
     "name": "stderr",
     "output_type": "stream",
     "text": [
      "/var/folders/dx/0239zgvj0tgf46b5h8l7v_fc0000gn/T/ipykernel_91672/2647282979.py:1: FutureWarning: In a future version, passing float-dtype values containing NaN and an integer dtype will raise IntCastingNaNError (subclass of ValueError) instead of silently ignoring the passed dtype. To retain the old behavior, call Series(arr) or DataFrame(arr) without passing a dtype.\n",
      "  Sd = pd.DataFrame(stoichiometry, dtype=np.int8).fillna(0).astype(np.int8)\n"
     ]
    }
   ],
   "source": [
    "Sd = pd.DataFrame(stoichiometry, dtype=np.int8).fillna(0).astype(np.int8)\n"
   ]
  },
  {
   "cell_type": "code",
   "execution_count": 96,
   "id": "cca88dc1-eac0-48a2-a6c1-a8b697c86dc1",
   "metadata": {},
   "outputs": [],
   "source": [
    "#stoich_dict = {item[\"reaction id\"]: item[\"stoichiometry\"] for item in stoichiometry}\n",
    "\n",
    "mets_df = pd.DataFrame(Sd.index, columns=[\"Name\"]) # index to name\n",
    "rxns_df = pd.DataFrame(Sd.columns, columns=[\"Name\"]) \n",
    "\n",
    "exchanges = pd.DataFrame(fba[\"estimated_exchange_dmdt\"])\n",
    "homeostatic = pd.DataFrame(fba[\"target_homeostatic_dmdt\"])\n",
    "maintenance = pd.DataFrame(fba[\"target_maintenance_flux\"])\n",
    "\n",
    "kinetic = pd.DataFrame(fba[\"target_kinetic_fluxes\"])\n",
    "kin_rxns = list(kinetic.keys())\n",
    "\n",
    "homeostatic_mets = list(homeostatic.keys())\n",
    "exchange_mets = list(exchanges.keys())\n",
    "intermediate_mets = list(set(mets_df[\"Name\"]) - set(homeostatic.keys()))\n",
    "\n",
    "n_mets, n_orig_rxns = Sd.shape\n",
    "\n",
    "exchange_mets.extend(list(uptake))\n",
    "\n",
    "Se = pd.DataFrame(index=Sd.index)\n",
    "\n",
    "for met in exchange_mets:\n",
    "    exch_name = met + \" exchange\"\n",
    "    if met in uptake:\n",
    "        Se[exch_name] = np.zeros(n_mets).astype(np.int8)\n",
    "        Se.at[met, exch_name] = 1\n",
    "    \n",
    "    Se[exch_name + \" rev\"] = np.zeros(n_mets).astype(np.int8)\n",
    "    Se.at[met, exch_name + \" rev\"] = -1\n",
    "      \n",
    "    \n",
    "    \n",
    "S_orig = np.array(Sd, dtype=np.float64)\n",
    "S_exch = np.array(Se, dtype=np.float64)\n",
    "\n",
    "_, n_exch_rxns = S_exch.shape\n",
    "\n",
    "\n",
    "int_df = mets_df[mets_df['Name'].isin(intermediate_mets)].reset_index()\n",
    "int_idx = list(int_df[\"index\"])\n",
    "\n",
    "hom_df = mets_df[mets_df['Name'].isin(homeostatic_mets)].reset_index()\n",
    "target_hom = pd.DataFrame(homeostatic.loc[4, :]).reset_index(drop=False)\n",
    "target_hom.columns = [\"Name\", \"Count\"]\n",
    "merge_df = hom_df.set_index('Name').join(target_hom.set_index('Name'))\n",
    "\n",
    "kin_df = rxns_df[rxns_df['Name'].isin(kin_rxns)].reset_index()\n",
    "target_kin = pd.DataFrame(kinetic.loc[4, :]).reset_index(drop=False)\n",
    "target_kin.columns = [\"Name\", \"Flux\"]\n",
    "merge_kin_df = kin_df.set_index('Name').join(target_kin.set_index('Name'))\n",
    "\n",
    "v_hom = np.array(merge_df[\"Count\"]).astype(np.float64)\n",
    "hom_idx = np.array(merge_df[\"index\"]).astype(np.int64)\n",
    "\n",
    "v_kin = np.array(merge_kin_df[\"Flux\"]).astype(np.float64)\n",
    "kin_idx = np.array(merge_kin_df[\"index\"]).astype(np.int64)\n",
    "\n",
    "v_main = np.array(fba[\"target_maintenance_flux\"][4])\n",
    "main_idx = list(Sd.columns).index(\"maintenance_reaction\")\n",
    "\n",
    "\n",
    "secretion_idx = np.where(S_exch.sum(axis=0) == -1)[0]"
   ]
  },
  {
   "cell_type": "code",
   "execution_count": 97,
   "id": "2b4e0a7a-d825-40fb-855d-3b7c9b75c764",
   "metadata": {},
   "outputs": [],
   "source": [
    "v = cp.Variable(n_orig_rxns)\n",
    "e = cp.Variable(n_exch_rxns)\n",
    "v_t = cp.hstack([v,e])\n",
    "dm = S_orig @ v + S_exch @ e \n",
    "\n",
    "\n",
    "constr = []\n",
    "constr.append(dm[int_idx] == 0)\n",
    "constr.append(v[main_idx] == v_main)\n",
    "# constr.append(dm[hom_idx] == v_hom)\n",
    "constr.extend([v >= 0, v <= 100000000, e >= 0, e <= 100000000])\n",
    "\n",
    "loss = 0\n",
    "loss += cp.norm1(dm[hom_idx] - v_hom)\n",
    "loss += 0.001*(cp.sum(e[secretion_idx]))\n",
    "loss += 0.00001*(cp.sum(v))\n",
    "loss += 0.000001 * cp.norm1(v[kin_idx] - v_kin)"
   ]
  },
  {
   "cell_type": "code",
   "execution_count": 98,
   "id": "220df076-1c00-4108-aa15-15eace88153a",
   "metadata": {},
   "outputs": [
    {
     "data": {
      "text/plain": "1408.8400771785082"
     },
     "execution_count": 98,
     "metadata": {},
     "output_type": "execute_result"
    }
   ],
   "source": [
    "p = cp.Problem(\n",
    "        cp.Minimize(loss),\n",
    "    constr\n",
    "    )\n",
    "               \n",
    "p.solve(solver=cp.GLOP, verbose=False)"
   ]
  },
  {
   "cell_type": "markdown",
   "id": "13095837-7ebf-4688-a90e-26840d832aaf",
   "metadata": {
    "tags": []
   },
   "source": [
    "# Analyze output"
   ]
  },
  {
   "cell_type": "code",
   "execution_count": 99,
   "id": "4bfdd4bd-b00b-4aa2-b584-c415d548b9fb",
   "metadata": {},
   "outputs": [
    {
     "data": {
      "text/plain": "                    Exchange flux\nWATER[p]             4.493609e+06\nCARBON-DIOXIDE[p]    1.006485e+06\nAMMONIUM[c]          8.870805e+05\nOXYGEN-MOLECULE[p]   8.661753e+05\nGLC[p]               7.532153e+05",
      "text/html": "<div>\n<style scoped>\n    .dataframe tbody tr th:only-of-type {\n        vertical-align: middle;\n    }\n\n    .dataframe tbody tr th {\n        vertical-align: top;\n    }\n\n    .dataframe thead th {\n        text-align: right;\n    }\n</style>\n<table border=\"1\" class=\"dataframe\">\n  <thead>\n    <tr style=\"text-align: right;\">\n      <th></th>\n      <th>Exchange flux</th>\n    </tr>\n  </thead>\n  <tbody>\n    <tr>\n      <th>WATER[p]</th>\n      <td>4.493609e+06</td>\n    </tr>\n    <tr>\n      <th>CARBON-DIOXIDE[p]</th>\n      <td>1.006485e+06</td>\n    </tr>\n    <tr>\n      <th>AMMONIUM[c]</th>\n      <td>8.870805e+05</td>\n    </tr>\n    <tr>\n      <th>OXYGEN-MOLECULE[p]</th>\n      <td>8.661753e+05</td>\n    </tr>\n    <tr>\n      <th>GLC[p]</th>\n      <td>7.532153e+05</td>\n    </tr>\n  </tbody>\n</table>\n</div>"
     },
     "execution_count": 99,
     "metadata": {},
     "output_type": "execute_result"
    }
   ],
   "source": [
    "exchange_rxns = Se.columns\n",
    "exchange_nb = pd.DataFrame({exchange_rxns[i]: [e.value[i]] for i in range(len(exchange_rxns))}).sort_values(by=0, axis=1, ascending=False).T\n",
    "exchange_nb = exchange_nb[exchange_nb[0] != 0]\n",
    "index_raw = list(exchange_nb.index.str.split())\n",
    "index_cleaned = [index_raw[i][0] for i in range(len(index_raw))]\n",
    "exchange_nb.index = index_cleaned\n",
    "exchange_nb.columns = [\"Exchange flux\"]\n",
    "exchange_nb.head(5)"
   ]
  },
  {
   "cell_type": "code",
   "execution_count": 100,
   "id": "8184579a-626c-4a5b-878a-7e1619929fdf",
   "metadata": {},
   "outputs": [
    {
     "data": {
      "text/plain": "                                           Exchange flux\nS-ADENOSYL-4-METHYLTHIO-2-OXOBUTANOATE[c]              4\nMETOH[p]                                               4\nL-SELENOCYSTEINE[c]                                    7\nCPD-1772[c]                                           14\nCPD-108[p]                                            16",
      "text/html": "<div>\n<style scoped>\n    .dataframe tbody tr th:only-of-type {\n        vertical-align: middle;\n    }\n\n    .dataframe tbody tr th {\n        vertical-align: top;\n    }\n\n    .dataframe thead th {\n        text-align: right;\n    }\n</style>\n<table border=\"1\" class=\"dataframe\">\n  <thead>\n    <tr style=\"text-align: right;\">\n      <th></th>\n      <th>Exchange flux</th>\n    </tr>\n  </thead>\n  <tbody>\n    <tr>\n      <th>S-ADENOSYL-4-METHYLTHIO-2-OXOBUTANOATE[c]</th>\n      <td>4</td>\n    </tr>\n    <tr>\n      <th>METOH[p]</th>\n      <td>4</td>\n    </tr>\n    <tr>\n      <th>L-SELENOCYSTEINE[c]</th>\n      <td>7</td>\n    </tr>\n    <tr>\n      <th>CPD-1772[c]</th>\n      <td>14</td>\n    </tr>\n    <tr>\n      <th>CPD-108[p]</th>\n      <td>16</td>\n    </tr>\n  </tbody>\n</table>\n</div>"
     },
     "execution_count": 100,
     "metadata": {},
     "output_type": "execute_result"
    }
   ],
   "source": [
    "exchange_sim = pd.DataFrame(exchanges.loc[4, :].abs().sort_values())\n",
    "exchange_sim = exchange_sim[exchange_sim[4] != 0]\n",
    "exchange_sim.columns = [\"Exchange flux\"]\n",
    "exchange_sim.head(5)"
   ]
  },
  {
   "cell_type": "code",
   "execution_count": 101,
   "id": "05b03974-901f-4624-99d1-cf0d4f71af20",
   "metadata": {},
   "outputs": [
    {
     "data": {
      "text/plain": "                    Exchange flux new  Exchange flux standard\nWATER[p]                      4493608                 3625912\nCARBON-DIOXIDE[p]             1006485                 1873581\nAMMONIUM[c]                    887080                  887279\nOXYGEN-MOLECULE[p]             866175                 1733230\nGLC[p]                         753215                  897920",
      "text/html": "<div>\n<style scoped>\n    .dataframe tbody tr th:only-of-type {\n        vertical-align: middle;\n    }\n\n    .dataframe tbody tr th {\n        vertical-align: top;\n    }\n\n    .dataframe thead th {\n        text-align: right;\n    }\n</style>\n<table border=\"1\" class=\"dataframe\">\n  <thead>\n    <tr style=\"text-align: right;\">\n      <th></th>\n      <th>Exchange flux new</th>\n      <th>Exchange flux standard</th>\n    </tr>\n  </thead>\n  <tbody>\n    <tr>\n      <th>WATER[p]</th>\n      <td>4493608</td>\n      <td>3625912</td>\n    </tr>\n    <tr>\n      <th>CARBON-DIOXIDE[p]</th>\n      <td>1006485</td>\n      <td>1873581</td>\n    </tr>\n    <tr>\n      <th>AMMONIUM[c]</th>\n      <td>887080</td>\n      <td>887279</td>\n    </tr>\n    <tr>\n      <th>OXYGEN-MOLECULE[p]</th>\n      <td>866175</td>\n      <td>1733230</td>\n    </tr>\n    <tr>\n      <th>GLC[p]</th>\n      <td>753215</td>\n      <td>897920</td>\n    </tr>\n  </tbody>\n</table>\n</div>"
     },
     "execution_count": 101,
     "metadata": {},
     "output_type": "execute_result"
    }
   ],
   "source": [
    "exch_comp = pd.merge(exchange_nb, exchange_sim, left_index=True, right_index=True, suffixes=(' new', ' standard'), how='outer').fillna(0).astype(np.int64)\n",
    "exch_comp.sort_values(by=\"Exchange flux new\", ascending=False).head()"
   ]
  },
  {
   "cell_type": "code",
   "execution_count": 102,
   "id": "6d6d9806-4e14-4225-878c-c0722d7f9190",
   "metadata": {},
   "outputs": [
    {
     "data": {
      "text/plain": "<Figure size 576x576 with 1 Axes>",
      "image/png": "[encoded data removed]"
     },
     "metadata": {},
     "output_type": "display_data"
    }
   ],
   "source": [
    "plt.figure(figsize=[8,8])\n",
    "\n",
    "sns.scatterplot(x=\"Exchange flux new\", y=\"Exchange flux standard\", data=exch_comp)\n",
    "plt.axis('equal')\n",
    "plt.xscale('log')\n",
    "plt.yscale('log')"
   ]
  },
  {
   "cell_type": "code",
   "execution_count": 103,
   "id": "55e5bdc2-0dbd-4294-ad1b-046333810d33",
   "metadata": {},
   "outputs": [
    {
     "data": {
      "text/plain": "                                                                 0  \\\nTRANS-RXN-145                                       4493608.956661   \nATPSYN-RXN (reverse)                                3189029.242245   \nmaintenance_reaction                                1898967.604471   \nNADH-DEHYDROG-A-RXN-NADH/UBIQUINONE-8/PROTON//N...  1487950.905566   \nGAPOXNPHOSPHN-RXN                                   1250954.681113   \nPHOSGLYPHOS-RXN (reverse)                           1250952.681113   \n3PGAREARR-RXN (reverse)                             1120153.681113   \n2PGADEHYDRAT-RXN                                    1120137.681113   \nTRANS-RXN0-545[CCO-PM-BAC-NEG]-CARBON-DIOXIDE//...  1006485.043339   \nTRANS-RXN0-474                                       866158.293339   \nRXN-21817-CPD-9956/PROTON/OXYGEN-MOLECULE//UBIQ...   866079.793339   \nPHOSICITDEHASE-RXN                                        774905.0   \nDEPHOSICITDEHASE-RXN                                      774905.0   \nPGLUCISOM-RXN-GLC-6-P//FRUCTOSE-6P.21.               736966.340557   \nTRIOSEPISOMERIZATION-RXN (reverse)                   649154.340557   \n\n                                                                                                    1  \nTRANS-RXN-145                                                         {'WATER[p]': -1, 'WATER[c]': 1}  \nATPSYN-RXN (reverse)                                {'ATP[c]': 1, 'WATER[c]': 1, 'PROTON[c]': 3, '...  \nmaintenance_reaction                                {'ATP[c]': -1, 'WATER[c]': -1, 'ADP[c]': 1, 'P...  \nNADH-DEHYDROG-A-RXN-NADH/UBIQUINONE-8/PROTON//N...  {'NADH[c]': -1, 'UBIQUINONE-8[i]': -1, 'PROTON...  \nGAPOXNPHOSPHN-RXN                                   {'GAP[c]': -1, 'NAD[c]': -1, 'Pi[c]': -1, 'DPG...  \nPHOSGLYPHOS-RXN (reverse)                           {'G3P[c]': 1, 'ATP[c]': 1, 'DPG[c]': -1, 'ADP[...  \n3PGAREARR-RXN (reverse)                                                  {'2-PG[c]': 1, 'G3P[c]': -1}  \n2PGADEHYDRAT-RXN                                    {'2-PG[c]': -1, 'PHOSPHO-ENOL-PYRUVATE[c]': 1,...  \nTRANS-RXN0-545[CCO-PM-BAC-NEG]-CARBON-DIOXIDE//...  {'CARBON-DIOXIDE[p]': 1, 'CARBON-DIOXIDE[c]': -1}  \nTRANS-RXN0-474                                      {'OXYGEN-MOLECULE[p]': -1, 'OXYGEN-MOLECULE[c]...  \nRXN-21817-CPD-9956/PROTON/OXYGEN-MOLECULE//UBIQ...  {'CPD-9956[i]': -2, 'PROTON[c]': -8, 'OXYGEN-M...  \nPHOSICITDEHASE-RXN                                  {'isocitrate-dehydrogenase[c]': -1, 'ATP[c]': ...  \nDEPHOSICITDEHASE-RXN                                {'Iso-Cit[c]': -1, 'WATER[c]': -1, 'isocitrate...  \nPGLUCISOM-RXN-GLC-6-P//FRUCTOSE-6P.21.                        {'GLC-6-P[c]': -1, 'FRUCTOSE-6P[c]': 1}  \nTRIOSEPISOMERIZATION-RXN (reverse)                  {'GAP[c]': 1, 'DIHYDROXY-ACETONE-PHOSPHATE[c]'...  ",
      "text/html": "<div>\n<style scoped>\n    .dataframe tbody tr th:only-of-type {\n        vertical-align: middle;\n    }\n\n    .dataframe tbody tr th {\n        vertical-align: top;\n    }\n\n    .dataframe thead th {\n        text-align: right;\n    }\n</style>\n<table border=\"1\" class=\"dataframe\">\n  <thead>\n    <tr style=\"text-align: right;\">\n      <th></th>\n      <th>0</th>\n      <th>1</th>\n    </tr>\n  </thead>\n  <tbody>\n    <tr>\n      <th>TRANS-RXN-145</th>\n      <td>4493608.956661</td>\n      <td>{'WATER[p]': -1, 'WATER[c]': 1}</td>\n    </tr>\n    <tr>\n      <th>ATPSYN-RXN (reverse)</th>\n      <td>3189029.242245</td>\n      <td>{'ATP[c]': 1, 'WATER[c]': 1, 'PROTON[c]': 3, '...</td>\n    </tr>\n    <tr>\n      <th>maintenance_reaction</th>\n      <td>1898967.604471</td>\n      <td>{'ATP[c]': -1, 'WATER[c]': -1, 'ADP[c]': 1, 'P...</td>\n    </tr>\n    <tr>\n      <th>NADH-DEHYDROG-A-RXN-NADH/UBIQUINONE-8/PROTON//NAD/CPD-9956/PROTON.46.</th>\n      <td>1487950.905566</td>\n      <td>{'NADH[c]': -1, 'UBIQUINONE-8[i]': -1, 'PROTON...</td>\n    </tr>\n    <tr>\n      <th>GAPOXNPHOSPHN-RXN</th>\n      <td>1250954.681113</td>\n      <td>{'GAP[c]': -1, 'NAD[c]': -1, 'Pi[c]': -1, 'DPG...</td>\n    </tr>\n    <tr>\n      <th>PHOSGLYPHOS-RXN (reverse)</th>\n      <td>1250952.681113</td>\n      <td>{'G3P[c]': 1, 'ATP[c]': 1, 'DPG[c]': -1, 'ADP[...</td>\n    </tr>\n    <tr>\n      <th>3PGAREARR-RXN (reverse)</th>\n      <td>1120153.681113</td>\n      <td>{'2-PG[c]': 1, 'G3P[c]': -1}</td>\n    </tr>\n    <tr>\n      <th>2PGADEHYDRAT-RXN</th>\n      <td>1120137.681113</td>\n      <td>{'2-PG[c]': -1, 'PHOSPHO-ENOL-PYRUVATE[c]': 1,...</td>\n    </tr>\n    <tr>\n      <th>TRANS-RXN0-545[CCO-PM-BAC-NEG]-CARBON-DIOXIDE//CARBON-DIOXIDE.47. (reverse)</th>\n      <td>1006485.043339</td>\n      <td>{'CARBON-DIOXIDE[p]': 1, 'CARBON-DIOXIDE[c]': -1}</td>\n    </tr>\n    <tr>\n      <th>TRANS-RXN0-474</th>\n      <td>866158.293339</td>\n      <td>{'OXYGEN-MOLECULE[p]': -1, 'OXYGEN-MOLECULE[c]...</td>\n    </tr>\n    <tr>\n      <th>RXN-21817-CPD-9956/PROTON/OXYGEN-MOLECULE//UBIQUINONE-8/PROTON/WATER.59.</th>\n      <td>866079.793339</td>\n      <td>{'CPD-9956[i]': -2, 'PROTON[c]': -8, 'OXYGEN-M...</td>\n    </tr>\n    <tr>\n      <th>PHOSICITDEHASE-RXN</th>\n      <td>774905.0</td>\n      <td>{'isocitrate-dehydrogenase[c]': -1, 'ATP[c]': ...</td>\n    </tr>\n    <tr>\n      <th>DEPHOSICITDEHASE-RXN</th>\n      <td>774905.0</td>\n      <td>{'Iso-Cit[c]': -1, 'WATER[c]': -1, 'isocitrate...</td>\n    </tr>\n    <tr>\n      <th>PGLUCISOM-RXN-GLC-6-P//FRUCTOSE-6P.21.</th>\n      <td>736966.340557</td>\n      <td>{'GLC-6-P[c]': -1, 'FRUCTOSE-6P[c]': 1}</td>\n    </tr>\n    <tr>\n      <th>TRIOSEPISOMERIZATION-RXN (reverse)</th>\n      <td>649154.340557</td>\n      <td>{'GAP[c]': 1, 'DIHYDROXY-ACETONE-PHOSPHATE[c]'...</td>\n    </tr>\n  </tbody>\n</table>\n</div>"
     },
     "execution_count": 103,
     "metadata": {},
     "output_type": "execute_result"
    }
   ],
   "source": [
    "flux_indexed = list(Sd.columns[:n_orig_rxns])\n",
    "fluxes = pd.DataFrame({flux_indexed[i]: [v.value[i], stoichiometry[flux_indexed[i]]] for i in range(len(flux_indexed))}).T\n",
    "fluxes.sort_values(by=0, axis=0, ascending=False).head(15)"
   ]
  },
  {
   "cell_type": "code",
   "execution_count": 104,
   "id": "0b8a538b-b4e1-41a9-a690-c6181b62d4d0",
   "metadata": {},
   "outputs": [
    {
     "data": {
      "text/plain": "                                                          4\nATPSYN-RXN (reverse)                                1509759\nTRANS-RXN0-547[CCO-PM-BAC-NEG]-WATER//WATER.29.      905893\nSUCCINATE-DEHYDROGENASE-UBIQUINONE-RXN-SUC/UBIQ...   857780\nR601-RXN-FUM/REDUCED-MENAQUINONE//SUC/CPD-9728.38.   700754\nRXN0-5388-CPD-9728/NADH/PROTON//REDUCED-MENAQUI...   699206\nTRANS-RXN0-545[CCO-PM-BAC-NEG]-CARBON-DIOXIDE//...   468395\nFUMHYDR-RXN__FUMARASE-A                              449687\nTRANS-RXN0-474                                       433303\nRXN-21817-CPD-9956/PROTON/OXYGEN-MOLECULE//UBIQ...   433255\nGAPOXNPHOSPHN-RXN                                    384822",
      "text/html": "<div>\n<style scoped>\n    .dataframe tbody tr th:only-of-type {\n        vertical-align: middle;\n    }\n\n    .dataframe tbody tr th {\n        vertical-align: top;\n    }\n\n    .dataframe thead th {\n        text-align: right;\n    }\n</style>\n<table border=\"1\" class=\"dataframe\">\n  <thead>\n    <tr style=\"text-align: right;\">\n      <th></th>\n      <th>4</th>\n    </tr>\n  </thead>\n  <tbody>\n    <tr>\n      <th>ATPSYN-RXN (reverse)</th>\n      <td>1509759</td>\n    </tr>\n    <tr>\n      <th>TRANS-RXN0-547[CCO-PM-BAC-NEG]-WATER//WATER.29.</th>\n      <td>905893</td>\n    </tr>\n    <tr>\n      <th>SUCCINATE-DEHYDROGENASE-UBIQUINONE-RXN-SUC/UBIQUINONE-8//FUM/CPD-9956.31.</th>\n      <td>857780</td>\n    </tr>\n    <tr>\n      <th>R601-RXN-FUM/REDUCED-MENAQUINONE//SUC/CPD-9728.38.</th>\n      <td>700754</td>\n    </tr>\n    <tr>\n      <th>RXN0-5388-CPD-9728/NADH/PROTON//REDUCED-MENAQUINONE/NAD/PROTON.53.</th>\n      <td>699206</td>\n    </tr>\n    <tr>\n      <th>TRANS-RXN0-545[CCO-PM-BAC-NEG]-CARBON-DIOXIDE//CARBON-DIOXIDE.47. (reverse)</th>\n      <td>468395</td>\n    </tr>\n    <tr>\n      <th>FUMHYDR-RXN__FUMARASE-A</th>\n      <td>449687</td>\n    </tr>\n    <tr>\n      <th>TRANS-RXN0-474</th>\n      <td>433303</td>\n    </tr>\n    <tr>\n      <th>RXN-21817-CPD-9956/PROTON/OXYGEN-MOLECULE//UBIQUINONE-8/PROTON/WATER.59.</th>\n      <td>433255</td>\n    </tr>\n    <tr>\n      <th>GAPOXNPHOSPHN-RXN</th>\n      <td>384822</td>\n    </tr>\n  </tbody>\n</table>\n</div>"
     },
     "execution_count": 104,
     "metadata": {},
     "output_type": "execute_result"
    }
   ],
   "source": [
    "sim_fluxes = pd.DataFrame(fba[\"estimated_fluxes\"])\n",
    "sim_fluxes = pd.DataFrame(sim_fluxes.loc[4, :].abs().sort_values(ascending=False))\n",
    "sim_fluxes.head(10)"
   ]
  },
  {
   "cell_type": "code",
   "execution_count": 105,
   "id": "993d51d4-3b30-48ed-b26d-d9aab6227f59",
   "metadata": {},
   "outputs": [
    {
     "data": {
      "text/plain": "WATER[p]              3625912\nCARBON-DIOXIDE[p]     1873581\nOXYGEN-MOLECULE[p]    1733230\nGLC[p]                 897920\nAMMONIUM[c]            887279\nPROTON[p]              775061\nPi[p]                  100667\nK+[p]                   17424\nSULFATE[p]               6263\nMG+2[p]                   774\nName: 4, dtype: int64"
     },
     "execution_count": 105,
     "metadata": {},
     "output_type": "execute_result"
    }
   ],
   "source": [
    "exchanges.loc[4,:].abs().sort_values(ascending=False).head(10)"
   ]
  },
  {
   "cell_type": "code",
   "execution_count": 106,
   "id": "7269f5bb-9ba0-4cf7-a163-c56c227610ab",
   "metadata": {},
   "outputs": [
    {
     "data": {
      "text/plain": "                            0          1             2\nPPI[c]               -78147.0   -78147.0 -7.275958e-11\nPROTON[c]            -17999.0   -17999.0  3.725290e-09\nGMP[c]                -4851.0    -4851.0  7.275958e-12\nAMP[c]                -4531.0    -4531.0 -2.728484e-11\nCMP[c]                -4307.0    -4307.0  0.000000e+00\n...                       ...        ...           ...\nVAL[c]                34446.0    34446.0  0.000000e+00\nGLY[c]                34610.0    34610.0  1.455192e-11\nLEU[c]                36085.0    36085.0  0.000000e+00\nL-ALPHA-ALANINE[c]    43678.0    43678.0 -7.275958e-12\nWATER[c]            7288380.0  7288380.0  1.862645e-09\n\n[172 rows x 3 columns]",
      "text/html": "<div>\n<style scoped>\n    .dataframe tbody tr th:only-of-type {\n        vertical-align: middle;\n    }\n\n    .dataframe tbody tr th {\n        vertical-align: top;\n    }\n\n    .dataframe thead th {\n        text-align: right;\n    }\n</style>\n<table border=\"1\" class=\"dataframe\">\n  <thead>\n    <tr style=\"text-align: right;\">\n      <th></th>\n      <th>0</th>\n      <th>1</th>\n      <th>2</th>\n    </tr>\n  </thead>\n  <tbody>\n    <tr>\n      <th>PPI[c]</th>\n      <td>-78147.0</td>\n      <td>-78147.0</td>\n      <td>-7.275958e-11</td>\n    </tr>\n    <tr>\n      <th>PROTON[c]</th>\n      <td>-17999.0</td>\n      <td>-17999.0</td>\n      <td>3.725290e-09</td>\n    </tr>\n    <tr>\n      <th>GMP[c]</th>\n      <td>-4851.0</td>\n      <td>-4851.0</td>\n      <td>7.275958e-12</td>\n    </tr>\n    <tr>\n      <th>AMP[c]</th>\n      <td>-4531.0</td>\n      <td>-4531.0</td>\n      <td>-2.728484e-11</td>\n    </tr>\n    <tr>\n      <th>CMP[c]</th>\n      <td>-4307.0</td>\n      <td>-4307.0</td>\n      <td>0.000000e+00</td>\n    </tr>\n    <tr>\n      <th>...</th>\n      <td>...</td>\n      <td>...</td>\n      <td>...</td>\n    </tr>\n    <tr>\n      <th>VAL[c]</th>\n      <td>34446.0</td>\n      <td>34446.0</td>\n      <td>0.000000e+00</td>\n    </tr>\n    <tr>\n      <th>GLY[c]</th>\n      <td>34610.0</td>\n      <td>34610.0</td>\n      <td>1.455192e-11</td>\n    </tr>\n    <tr>\n      <th>LEU[c]</th>\n      <td>36085.0</td>\n      <td>36085.0</td>\n      <td>0.000000e+00</td>\n    </tr>\n    <tr>\n      <th>L-ALPHA-ALANINE[c]</th>\n      <td>43678.0</td>\n      <td>43678.0</td>\n      <td>-7.275958e-12</td>\n    </tr>\n    <tr>\n      <th>WATER[c]</th>\n      <td>7288380.0</td>\n      <td>7288380.0</td>\n      <td>1.862645e-09</td>\n    </tr>\n  </tbody>\n</table>\n<p>172 rows × 3 columns</p>\n</div>"
     },
     "execution_count": 106,
     "metadata": {},
     "output_type": "execute_result"
    }
   ],
   "source": [
    "dmdt_indexed = list(Sd.index)\n",
    "# hom_idx\n",
    "dmdt_dict = {dmdt_indexed[i]: [dm.value[i], v_hom[j], dm.value[i] - v_hom[j]] for j, i in enumerate(hom_idx)}\n",
    "dmdt = pd.DataFrame(dmdt_dict).sort_values(by=0, axis=1).T\n",
    "dmdt\n",
    "#dmdt = pd.DataFrame({dmdt_indexed[i]: [dm.value[i], v_hom[j]] for j, i in enumerate(hom_idx)})\n",
    "#dmdt.sort_values(by=0, axis=1, ascending=False).T.head(20)"
   ]
  },
  {
   "cell_type": "code",
   "execution_count": 107,
   "id": "de7675d0-147f-4401-b4f2-7e88e2e7e577",
   "metadata": {},
   "outputs": [
    {
     "data": {
      "text/plain": "        Name\n576   FUM[c]\n3678  FUM[p]\n4506  FUM[e]",
      "text/html": "<div>\n<style scoped>\n    .dataframe tbody tr th:only-of-type {\n        vertical-align: middle;\n    }\n\n    .dataframe tbody tr th {\n        vertical-align: top;\n    }\n\n    .dataframe thead th {\n        text-align: right;\n    }\n</style>\n<table border=\"1\" class=\"dataframe\">\n  <thead>\n    <tr style=\"text-align: right;\">\n      <th></th>\n      <th>Name</th>\n    </tr>\n  </thead>\n  <tbody>\n    <tr>\n      <th>576</th>\n      <td>FUM[c]</td>\n    </tr>\n    <tr>\n      <th>3678</th>\n      <td>FUM[p]</td>\n    </tr>\n    <tr>\n      <th>4506</th>\n      <td>FUM[e]</td>\n    </tr>\n  </tbody>\n</table>\n</div>"
     },
     "execution_count": 107,
     "metadata": {},
     "output_type": "execute_result"
    }
   ],
   "source": [
    "mets_df[mets_df.loc[:, \"Name\"].str.contains(\"FUM\")]"
   ]
  },
  {
   "cell_type": "markdown",
   "source": [
    "# Set up function"
   ],
   "metadata": {
    "collapsed": false,
    "pycharm": {
     "name": "#%% md\n"
    }
   }
  },
  {
   "cell_type": "code",
   "execution_count": 108,
   "outputs": [],
   "source": [
    "# inputs\n",
    "exchanges = pd.DataFrame(fba[\"estimated_exchange_dmdt\"]).loc[4,:]\n",
    "homeostatic = pd.DataFrame(fba[\"target_homeostatic_dmdt\"]).loc[4,:]\n",
    "maintenance = pd.DataFrame(fba[\"target_maintenance_flux\"]).loc[4,:]\n",
    "kinetic = pd.DataFrame(fba[\"target_kinetic_fluxes\"]).loc[4,:]\n",
    "\n",
    "exchange_mets = list(exchanges.keys())\n",
    "homeostatic_mets = list(homeostatic.keys())\n",
    "kin_rxns = list(kinetic.keys())\n",
    "\n",
    "uptake = (fba[\"unconstrained_molecules\"][3]).copy()\n",
    "uptake_c = fba[\"constrained_molecules\"]\n",
    "\n",
    "uptake.extend(list(uptake_c.keys()))\n",
    "uptake = set(uptake)\n",
    "\n",
    "stoichiometry\n",
    "\n",
    "kin_rxns = list(kinetic.keys())\n",
    "homeostatic_mets = list(homeostatic.keys())\n",
    "exchange_mets = list(exchanges.keys())"
   ],
   "metadata": {
    "collapsed": false,
    "pycharm": {
     "name": "#%%\n"
    }
   }
  },
  {
   "cell_type": "code",
   "execution_count": 109,
   "outputs": [
    {
     "name": "stderr",
     "output_type": "stream",
     "text": [
      "/var/folders/dx/0239zgvj0tgf46b5h8l7v_fc0000gn/T/ipykernel_91672/3009079414.py:28: FutureWarning: In a future version, passing float-dtype values containing NaN and an integer dtype will raise IntCastingNaNError (subclass of ValueError) instead of silently ignoring the passed dtype. To retain the old behavior, call Series(arr) or DataFrame(arr) without passing a dtype.\n",
      "  Sd = pd.DataFrame.from_dict(reactions, dtype=np.int8).fillna(0).astype(np.int8)\n"
     ]
    }
   ],
   "source": [
    "@dataclass\n",
    "class FlowResult:\n",
    "    \"\"\"Reaction velocities and dm/dt for an FBA solution, with metrics.\"\"\"\n",
    "    velocities: Mapping[str, float]\n",
    "    dm_dt: Mapping[str, float]\n",
    "    exchanges: Mapping[str, float]\n",
    "    objective: float\n",
    "    # residual: Mapping[str, np.ndarray]\n",
    "\n",
    "class NetworkFlowModel:\n",
    "\n",
    "    def __init__(self,\n",
    "                 reactions: Iterable[dict],\n",
    "                 exchanges: Iterable[str],\n",
    "                 uptakes: Iterable[str],\n",
    "                 homeostatic_metabolites: Iterable[str]):\n",
    "\n",
    "        # inputs: reactions: dict of dict\n",
    "        # exchanges: list(set)\n",
    "        # homeostatic: dict of str:floats (concs)\n",
    "\n",
    "        # set up S matrix\n",
    "        # homeostatic objective keys\n",
    "        # exchange keys? if possible\n",
    "        # reversibility is not needed as matrix already does it\n",
    "\n",
    "        # pandas automatically creates S matrix from dict of dicts, then we fill zeros in remainder\n",
    "        Sd = pd.DataFrame.from_dict(reactions, dtype=np.int8).fillna(0).astype(np.int8)\n",
    "        self.n_mets, self.n_orig_rxns = Sd.shape\n",
    "\n",
    "        # extract names of mets and rxns\n",
    "        self.mets = list(Sd.index)\n",
    "        self.rxns = list(Sd.columns)\n",
    "        self.intermediates = list(set(self.mets) - set(homeostatic_metabolites))\n",
    "\n",
    "        all_exchanges = exchanges.copy()\n",
    "        all_exchanges.extend(uptakes)\n",
    "\n",
    "        # Set up exchange rxns df\n",
    "        Se = pd.DataFrame(index=Sd.index)\n",
    "\n",
    "        for met in all_exchanges:\n",
    "            exch_name = met + \" exchange\"\n",
    "            if met in uptakes:\n",
    "                Se[exch_name] = np.zeros(self.n_mets).astype(np.int8)\n",
    "                Se.at[met, exch_name] = 1\n",
    "\n",
    "            Se[exch_name + \" rev\"] = np.zeros(self.n_mets).astype(np.int8)\n",
    "            Se.at[met, exch_name + \" rev\"] = -1\n",
    "\n",
    "        self.S_orig = np.array(Sd, dtype=np.float64)\n",
    "        self.S_exch = np.array(Se, dtype=np.float64)\n",
    "\n",
    "        _, self.n_exch_rxns = self.S_exch.shape\n",
    "\n",
    "        # steady state indices, secretion indices\n",
    "        self.intermediates_idx = [self.mets.index(met) for met in self.intermediates]\n",
    "        self.secretion_idx = np.where(self.S_exch.sum(axis=0) == -1)[0]\n",
    "\n",
    "    def solve(self,\n",
    "              homeostatic_targets: Mapping[str, float],\n",
    "              maintenance_target: float,\n",
    "              kinetic_targets: Mapping[str, float],\n",
    "              **kwargs) -> FlowResult:\n",
    "\n",
    "        # objective targets: dict of dicts to floats, for now\n",
    "        ## kinetic\n",
    "        ## maintenance\n",
    "        ## homeostasis\n",
    "        ## binary kinetic\n",
    "        # starting fluxes: optional for now, could reintroduce\n",
    "        #\n",
    "\n",
    "        homeostatic_arr = [[self.mets.index(met), target] for met, target in homeostatic_targets.items()]\n",
    "        homeostatic_idx, homeostatic_target = np.array(homeostatic_arr)[:, 0], np.array(homeostatic_arr)[:, 1]\n",
    "\n",
    "        kinetic_array = [[self.rxns.index(met), target] for met, target in kinetic_targets.items()]\n",
    "        kinetic_idx, kinetic_target = np.array(kinetic_array)[:, 0], np.array(kinetic_array)[:, 1]\n",
    "\n",
    "        maintenance_idx = self.rxns.index(\"maintenance_reaction\")  # TODO (Cyrus) - use name provided\n",
    "\n",
    "        # set up variables\n",
    "        v = cp.Variable(self.n_orig_rxns)\n",
    "        e = cp.Variable(self.n_exch_rxns)\n",
    "        dm = self.S_orig @ v + self.S_exch @ e\n",
    "\n",
    "        constr = []\n",
    "        constr.append(dm[self.intermediates_idx] == 0)\n",
    "        constr.append(v[maintenance_idx] == maintenance_target)\n",
    "        # constr.append(dm[homeostatic_idx[]] == homeostatic_target)\n",
    "        constr.extend([v >= 0, v <= 100000000, e >= 0, e <= 100000000])\n",
    "\n",
    "        loss = 0\n",
    "        loss += cp.norm1(dm[homeostatic_idx] - homeostatic_target)\n",
    "        loss += 0.001 * (cp.sum(e[self.secretion_idx]))\n",
    "        loss += 0.00001 * (cp.sum(v))\n",
    "        loss += 0.000001 * cp.norm1(v[kinetic_idx] - kinetic_target)\n",
    "\n",
    "        p = cp.Problem(\n",
    "            cp.Minimize(loss),\n",
    "            constr\n",
    "        )\n",
    "\n",
    "        p.solve(solver=cp.GLOP, verbose=False)\n",
    "\n",
    "        return FlowResult(velocities=v.value,\n",
    "                          dm_dt=dm.value,\n",
    "                          exchanges=e.value,\n",
    "                          objective=p.value)\n",
    "\n",
    "model = NetworkFlowModel(stoichiometry, exchange_mets, uptake, homeostatic_mets)"
   ],
   "metadata": {
    "collapsed": false,
    "pycharm": {
     "name": "#%%\n"
    }
   }
  },
  {
   "cell_type": "code",
   "execution_count": 110,
   "outputs": [],
   "source": [
    "result = model.solve(homeostatic_targets=dict(homeostatic), maintenance_target=maintenance, kinetic_targets=dict(kinetic))"
   ],
   "metadata": {
    "collapsed": false,
    "pycharm": {
     "name": "#%%\n"
    }
   }
  },
  {
   "cell_type": "code",
   "execution_count": 111,
   "outputs": [
    {
     "data": {
      "text/plain": "1408.8400771780389"
     },
     "execution_count": 111,
     "metadata": {},
     "output_type": "execute_result"
    }
   ],
   "source": [
    "result.objective"
   ],
   "metadata": {
    "collapsed": false,
    "pycharm": {
     "name": "#%%\n"
    }
   }
  },
  {
   "cell_type": "code",
   "execution_count": 112,
   "outputs": [
    {
     "name": "stderr",
     "output_type": "stream",
     "text": [
      "/var/folders/dx/0239zgvj0tgf46b5h8l7v_fc0000gn/T/ipykernel_91672/972721305.py:8: FutureWarning: In a future version, passing float-dtype values containing NaN and an integer dtype will raise IntCastingNaNError (subclass of ValueError) instead of silently ignoring the passed dtype. To retain the old behavior, call Series(arr) or DataFrame(arr) without passing a dtype.\n",
      "  Sd = pd.DataFrame(stoichiometry, dtype=np.int8).fillna(0).astype(np.int8)\n"
     ]
    }
   ],
   "source": [
    "\n",
    "uptake = (fba[\"unconstrained_molecules\"][3]).copy()\n",
    "uptake_c = fba[\"constrained_molecules\"]\n",
    "\n",
    "uptake.extend(list(uptake_c.keys()))\n",
    "uptake = set(uptake)\n",
    "\n",
    "# convert stoich dict to stoich matrix\n",
    "Sd = pd.DataFrame(stoichiometry, dtype=np.int8).fillna(0).astype(np.int8)\n",
    "\n",
    "\n",
    "\n",
    "#stoich_dict = {item[\"reaction id\"]: item[\"stoichiometry\"] for item in stoichiometry}\n",
    "\n",
    "mets_df = pd.DataFrame(Sd.index, columns=[\"Name\"]) # index to name\n",
    "rxns_df = pd.DataFrame(Sd.columns, columns=[\"Name\"])\n",
    "\n",
    "exchanges = pd.DataFrame(fba[\"estimated_exchange_dmdt\"])\n",
    "homeostatic = pd.DataFrame(fba[\"target_homeostatic_dmdt\"])\n",
    "maintenance = pd.DataFrame(fba[\"target_maintenance_flux\"])\n",
    "\n",
    "kinetic = pd.DataFrame(fba[\"target_kinetic_fluxes\"])\n",
    "\n",
    "kin_rxns = list(kinetic.keys())\n",
    "homeostatic_mets = list(homeostatic.keys())\n",
    "exchange_mets = list(exchanges.keys())\n",
    "intermediate_mets = list(set(mets_df[\"Name\"]) - set(homeostatic.keys()))\n",
    "\n",
    "n_mets, n_orig_rxns = Sd.shape\n",
    "\n",
    "exchange_mets.extend(list(uptake))\n",
    "\n",
    "Se = pd.DataFrame(index=Sd.index)\n",
    "\n",
    "for met in exchange_mets:\n",
    "    exch_name = met + \" exchange\"\n",
    "    if met in uptake:\n",
    "        Se[exch_name] = np.zeros(n_mets).astype(np.int8)\n",
    "        Se.at[met, exch_name] = 1\n",
    "\n",
    "    Se[exch_name + \" rev\"] = np.zeros(n_mets).astype(np.int8)\n",
    "    Se.at[met, exch_name + \" rev\"] = -1\n",
    "\n",
    "\n",
    "\n",
    "S_orig = np.array(Sd, dtype=np.float64)\n",
    "S_exch = np.array(Se, dtype=np.float64)\n",
    "\n",
    "_, n_exch_rxns = S_exch.shape\n",
    "\n",
    "\n",
    "int_df = mets_df[mets_df['Name'].isin(intermediate_mets)].reset_index()\n",
    "int_idx = list(int_df[\"index\"])\n",
    "\n",
    "hom_df = mets_df[mets_df['Name'].isin(homeostatic_mets)].reset_index()\n",
    "target_hom = pd.DataFrame(homeostatic.loc[4, :]).reset_index(drop=False)\n",
    "target_hom.columns = [\"Name\", \"Count\"]\n",
    "merge_df = hom_df.set_index('Name').join(target_hom.set_index('Name'))\n",
    "\n",
    "kin_df = rxns_df[rxns_df['Name'].isin(kin_rxns)].reset_index()\n",
    "target_kin = pd.DataFrame(kinetic.loc[4, :]).reset_index(drop=False)\n",
    "target_kin.columns = [\"Name\", \"Flux\"]\n",
    "merge_kin_df = kin_df.set_index('Name').join(target_kin.set_index('Name'))\n",
    "\n",
    "v_hom = np.array(merge_df[\"Count\"]).astype(np.float64)\n",
    "hom_idx = np.array(merge_df[\"index\"]).astype(np.int64)\n",
    "\n",
    "v_kin = np.array(merge_kin_df[\"Flux\"]).astype(np.float64)\n",
    "kin_idx = np.array(merge_kin_df[\"index\"]).astype(np.int64)\n",
    "\n",
    "v_main = np.array(fba[\"target_maintenance_flux\"][4])\n",
    "main_idx = list(Sd.columns).index(\"maintenance_reaction\")\n",
    "\n",
    "\n",
    "secretion_idx = np.where(S_exch.sum(axis=0) == -1)[0]"
   ],
   "metadata": {
    "collapsed": false,
    "pycharm": {
     "name": "#%%\n"
    }
   }
  },
  {
   "cell_type": "code",
   "execution_count": 113,
   "outputs": [],
   "source": [
    "v = cp.Variable(n_orig_rxns)\n",
    "e = cp.Variable(n_exch_rxns)\n",
    "v_t = cp.hstack([v,e])\n",
    "dm = S_orig @ v + S_exch @ e\n",
    "\n",
    "\n",
    "constr = []\n",
    "constr.append(dm[int_idx] == 0)\n",
    "constr.append(v[main_idx] == v_main)\n",
    "# constr.append(dm[hom_idx] == v_hom)\n",
    "constr.extend([v >= 0, v <= 100000000, e >= 0, e <= 100000000])\n",
    "\n",
    "loss = 0\n",
    "loss += cp.norm1(dm[hom_idx] - v_hom)\n",
    "loss += 0.001*(cp.sum(e[secretion_idx]))\n",
    "loss += 0.00001*(cp.sum(v))\n",
    "loss += 0.000001 * cp.norm1(v[kin_idx] - v_kin)"
   ],
   "metadata": {
    "collapsed": false,
    "pycharm": {
     "name": "#%%\n"
    }
   }
  },
  {
   "cell_type": "code",
   "execution_count": 114,
   "outputs": [
    {
     "data": {
      "text/plain": "1408.8400771785082"
     },
     "execution_count": 114,
     "metadata": {},
     "output_type": "execute_result"
    }
   ],
   "source": [
    "p = cp.Problem(\n",
    "        cp.Minimize(loss),\n",
    "    constr\n",
    "    )\n",
    "\n",
    "p.solve(solver=cp.GLOP, verbose=False)"
   ],
   "metadata": {
    "collapsed": false,
    "pycharm": {
     "name": "#%%\n"
    }
   }
  },
  {
   "cell_type": "markdown",
   "id": "f7a574b2-9c14-4981-a658-1c22c1026d6c",
   "metadata": {
    "tags": []
   },
   "source": [
    "# Set up schema for testing lots of fluxes"
   ]
  },
  {
   "cell_type": "markdown",
   "id": "28db669f-93f3-4f5c-aea0-e23b6a811660",
   "metadata": {},
   "source": [
    "## Connect to EcoCyc to go from Genes -> Reactions"
   ]
  },
  {
   "cell_type": "code",
   "execution_count": 115,
   "id": "a59449e4-be36-49c8-94ed-35c14f5bb72d",
   "metadata": {},
   "outputs": [
    {
     "data": {
      "text/plain": "<Response [200]>"
     },
     "execution_count": 115,
     "metadata": {},
     "output_type": "execute_result"
    }
   ],
   "source": [
    "s = requests.Session() # create session\n",
    "# Post login credentials to session:\n",
    "s.post('https://websvc.biocyc.org/credentials/login/', data={'email':'cellulararchitect@protonmail.com', 'password':'Cellman0451'})"
   ]
  },
  {
   "cell_type": "code",
   "execution_count": 116,
   "id": "ab016fac-3d48-49fb-85c7-63826a8f5664",
   "metadata": {},
   "outputs": [
    {
     "data": {
      "text/plain": "                                      Environment  \\\n0                  Hydrogen + fumarate, -O2, -Glc   \n1                                 Ribose C-source   \n2                              Thiamine salvaging   \n3                     Nitrate as reduction target   \n4  3-Phenylpropionate as carbon and energy source   \n\n                                               Genes  \\\n0  {G7554, EG11801, EG11800, EG11799, EG10469, EG...   \n1               {EG10815, EG10814, EG10816, EG10818}   \n2           {EG11572, G6566, M007, EG11574, EG11573}   \n3  {EG10644, EG10648, EG10640, EG10639, EG10638, ...   \n4                          {M012, M010, M011, G6206}   \n\n                              Add                        Remove Reactions  \n0  {FUM[p], HYDROGEN-MOLECULE[p]}  {OXYGEN-MOLECULE[p], GLC[p]}     [nan]  \n1             {D-Ribopyranose[p]}                      {GLC[p]}     [nan]  \n2                   {THIAMINE[p]}                            {}     [nan]  \n3                    {NITRATE[p]}          {OXYGEN-MOLECULE[p]}     [nan]  \n4         {3-PHENYLPROPIONATE[p]}                      {GLC[p]}     [nan]  ",
      "text/html": "<div>\n<style scoped>\n    .dataframe tbody tr th:only-of-type {\n        vertical-align: middle;\n    }\n\n    .dataframe tbody tr th {\n        vertical-align: top;\n    }\n\n    .dataframe thead th {\n        text-align: right;\n    }\n</style>\n<table border=\"1\" class=\"dataframe\">\n  <thead>\n    <tr style=\"text-align: right;\">\n      <th></th>\n      <th>Environment</th>\n      <th>Genes</th>\n      <th>Add</th>\n      <th>Remove</th>\n      <th>Reactions</th>\n    </tr>\n  </thead>\n  <tbody>\n    <tr>\n      <th>0</th>\n      <td>Hydrogen + fumarate, -O2, -Glc</td>\n      <td>{G7554, EG11801, EG11800, EG11799, EG10469, EG...</td>\n      <td>{FUM[p], HYDROGEN-MOLECULE[p]}</td>\n      <td>{OXYGEN-MOLECULE[p], GLC[p]}</td>\n      <td>[nan]</td>\n    </tr>\n    <tr>\n      <th>1</th>\n      <td>Ribose C-source</td>\n      <td>{EG10815, EG10814, EG10816, EG10818}</td>\n      <td>{D-Ribopyranose[p]}</td>\n      <td>{GLC[p]}</td>\n      <td>[nan]</td>\n    </tr>\n    <tr>\n      <th>2</th>\n      <td>Thiamine salvaging</td>\n      <td>{EG11572, G6566, M007, EG11574, EG11573}</td>\n      <td>{THIAMINE[p]}</td>\n      <td>{}</td>\n      <td>[nan]</td>\n    </tr>\n    <tr>\n      <th>3</th>\n      <td>Nitrate as reduction target</td>\n      <td>{EG10644, EG10648, EG10640, EG10639, EG10638, ...</td>\n      <td>{NITRATE[p]}</td>\n      <td>{OXYGEN-MOLECULE[p]}</td>\n      <td>[nan]</td>\n    </tr>\n    <tr>\n      <th>4</th>\n      <td>3-Phenylpropionate as carbon and energy source</td>\n      <td>{M012, M010, M011, G6206}</td>\n      <td>{3-PHENYLPROPIONATE[p]}</td>\n      <td>{GLC[p]}</td>\n      <td>[nan]</td>\n    </tr>\n  </tbody>\n</table>\n</div>"
     },
     "execution_count": 116,
     "metadata": {},
     "output_type": "execute_result"
    }
   ],
   "source": [
    "condition_sets = {0: {\"Environment\": \"Hydrogen + fumarate, -O2, -Glc\",\n",
    "                      \"Genes\": set([\"EG10468\", \"EG10469\", \"EG10470\", \"EG11799\", \"EG11800\", \"EG11801\", \"G7554\"]), \n",
    "                      \"Add\": set([\"FUM[p]\", 'HYDROGEN-MOLECULE[p]']),\n",
    "                      \"Remove\": set([\"GLC[p]\", \"OXYGEN-MOLECULE[p]\"]),\n",
    "                      },\n",
    "                  \n",
    "                  1: {\"Environment\": \"Ribose C-source\",\n",
    "                      \"Genes\": set([\"EG10814\", \"EG10815\", \"EG10816\", \"EG10818\"]), \n",
    "                      \"Add\": set([\"D-Ribopyranose[p]\"]),\n",
    "                      \"Remove\": set([\"GLC[p]\"]),\n",
    "                      },\n",
    "                  \n",
    "                  2: {\"Environment\": \"Thiamine salvaging\",\n",
    "                      \"Genes\": set([\"EG11574\", \"G6566\", \"M007\", \"EG11573\", \"EG11572\"]), \n",
    "                      \"Add\": set([\"THIAMINE[p]\"]),\n",
    "                      \"Remove\": set(),\n",
    "                      },\n",
    "                  \n",
    "                  3: {\"Environment\": \"Nitrate as reduction target\",\n",
    "                      \"Genes\": set([\"EG10638\", \"EG10639\", \"EG10640\", \"EG10644\", \"EG10647\", \"EG10648\"]), \n",
    "                      \"Add\": set([\"NITRATE[p]\"]),\n",
    "                      \"Remove\": set([\"OXYGEN-MOLECULE[p]\"]),\n",
    "                      },\n",
    "                  \n",
    "                  4: {\"Environment\": \"3-Phenylpropionate as carbon and energy source\",\n",
    "                      \"Genes\": set([\"M010\", \"M011\", \"M012\", \"G6206\"]), \n",
    "                      \"Add\": set([\"3-PHENYLPROPIONATE[p]\"]),\n",
    "                      \"Remove\": set([\"GLC[p]\"]),\n",
    "                      },\n",
    "                  \n",
    "                  # 5: {\"Genes\": set([\"EG10286\", \"EG10287\", \"EG10288\", \"EG10289\", \n",
    "                  #                   \"EG10290\", \"EG10293\", \"EG10294\", \"EG10295\", \n",
    "                  #                   \"EG10296\", \"EG10298\", \"EG10302\", \"EG10303\", \n",
    "                  #                   \"EG10304\", \"EG10305\", \"EG10306\", \"G6414\"]), \n",
    "                  #     \"Add\": set(),\n",
    "                  #     \"Remove\": set(),\n",
    "                  #     \"Environment\": \"Proper metal (iron) uptake\"}\n",
    "                 }\n",
    "\n",
    "condition_df = pd.DataFrame(condition_sets).T\n",
    "condition_df[\"Reactions\"] = [[np.nan]] * len(condition_df)\n",
    "condition_df"
   ]
  },
  {
   "cell_type": "code",
   "execution_count": 117,
   "id": "0ecc835e-9a66-4cfe-838f-257cf37449b0",
   "metadata": {},
   "outputs": [],
   "source": [
    "for i in range(len(condition_df.index)):\n",
    "    \n",
    "    genes = condition_df.loc[i, \"Genes\"]\n",
    "    rxn_set = set()\n",
    "\n",
    "    for gene in genes:\n",
    "        function = \"reactions-of-gene\"\n",
    "        name = gene\n",
    "        req_str = f\"https://websvc.biocyc.org/apixml?fn={function}&id=ECOLI:{name}&detail=none&fmt=json\"\n",
    "\n",
    "        r = s.get(req_str)\n",
    "        o = xmltodict.parse(r.content)['ptools-xml']['Reaction']\n",
    "        if type(o) is dict:\n",
    "            o = [o]\n",
    "        \n",
    "        for rxn in o:\n",
    "            if type(rxn) is not str: # no rxns\n",
    "                rxn_set.add(rxn['@frameid'])\n",
    "            else:\n",
    "                print(gene, rxn)\n",
    "            \n",
    "    condition_df.at[i, \"Reactions\"] = rxn_set"
   ]
  },
  {
   "cell_type": "code",
   "execution_count": 118,
   "id": "1f5e932e-70d4-45e9-8bbf-1fcda5be8c5a",
   "metadata": {},
   "outputs": [
    {
     "data": {
      "text/plain": "{'ptools-xml': {'@ptools-version': '26.5',\n  '@xml:base': 'http://BioCyc.org/apixml?fn=reactions-of-gene%26id=ECOLI:G6206%26detail=NONE',\n  'metadata': {'url': 'http://BioCyc.org/',\n   'service_name': 'apixml',\n   'query': 'fn=reactions-of-gene&id=ECOLI:G6206&detail=NONE',\n   'num_results': '2'},\n  'Reaction': [{'@resource': 'getxml?ECOLI:TRANS-RXN0-457',\n    '@orgid': 'ECOLI',\n    '@frameid': 'TRANS-RXN0-457'},\n   {'@resource': 'getxml?ECOLI:TRANS-RXN-61',\n    '@orgid': 'ECOLI',\n    '@frameid': 'TRANS-RXN-61'}]}}"
     },
     "execution_count": 118,
     "metadata": {},
     "output_type": "execute_result"
    }
   ],
   "source": [
    "xmltodict.parse(r.content)"
   ]
  },
  {
   "cell_type": "code",
   "execution_count": 119,
   "id": "4ec194b0-2aeb-43b9-85c6-108bebb4a0e9",
   "metadata": {},
   "outputs": [
    {
     "data": {
      "text/plain": "                                      Environment  \\\n0                  Hydrogen + fumarate, -O2, -Glc   \n1                                 Ribose C-source   \n2                              Thiamine salvaging   \n3                     Nitrate as reduction target   \n4  3-Phenylpropionate as carbon and energy source   \n\n                                               Genes  \\\n0  {G7554, EG11801, EG11800, EG11799, EG10469, EG...   \n1               {EG10815, EG10814, EG10816, EG10818}   \n2           {EG11572, G6566, M007, EG11574, EG11573}   \n3  {EG10644, EG10648, EG10640, EG10639, EG10638, ...   \n4                          {M012, M010, M011, G6206}   \n\n                              Add                        Remove  \\\n0  {FUM[p], HYDROGEN-MOLECULE[p]}  {OXYGEN-MOLECULE[p], GLC[p]}   \n1             {D-Ribopyranose[p]}                      {GLC[p]}   \n2                   {THIAMINE[p]}                            {}   \n3                    {NITRATE[p]}          {OXYGEN-MOLECULE[p]}   \n4         {3-PHENYLPROPIONATE[p]}                      {GLC[p]}   \n\n                                           Reactions  \n0                  {RXN-16420, RXN0-7399, RXN0-5256}  \n1                          {RIBOKIN-RXN, ABC-28-RXN}  \n2  {ABC-32-RXN, RXN0-7298, THIAZOLSYN3-RXN, THIKI...  \n3                  {RXN0-7124, RXN-15119, RXN0-3501}  \n4  {1.13.11.16-RXN, RXN-10040, MHPCHYDROL-RXN, TR...  ",
      "text/html": "<div>\n<style scoped>\n    .dataframe tbody tr th:only-of-type {\n        vertical-align: middle;\n    }\n\n    .dataframe tbody tr th {\n        vertical-align: top;\n    }\n\n    .dataframe thead th {\n        text-align: right;\n    }\n</style>\n<table border=\"1\" class=\"dataframe\">\n  <thead>\n    <tr style=\"text-align: right;\">\n      <th></th>\n      <th>Environment</th>\n      <th>Genes</th>\n      <th>Add</th>\n      <th>Remove</th>\n      <th>Reactions</th>\n    </tr>\n  </thead>\n  <tbody>\n    <tr>\n      <th>0</th>\n      <td>Hydrogen + fumarate, -O2, -Glc</td>\n      <td>{G7554, EG11801, EG11800, EG11799, EG10469, EG...</td>\n      <td>{FUM[p], HYDROGEN-MOLECULE[p]}</td>\n      <td>{OXYGEN-MOLECULE[p], GLC[p]}</td>\n      <td>{RXN-16420, RXN0-7399, RXN0-5256}</td>\n    </tr>\n    <tr>\n      <th>1</th>\n      <td>Ribose C-source</td>\n      <td>{EG10815, EG10814, EG10816, EG10818}</td>\n      <td>{D-Ribopyranose[p]}</td>\n      <td>{GLC[p]}</td>\n      <td>{RIBOKIN-RXN, ABC-28-RXN}</td>\n    </tr>\n    <tr>\n      <th>2</th>\n      <td>Thiamine salvaging</td>\n      <td>{EG11572, G6566, M007, EG11574, EG11573}</td>\n      <td>{THIAMINE[p]}</td>\n      <td>{}</td>\n      <td>{ABC-32-RXN, RXN0-7298, THIAZOLSYN3-RXN, THIKI...</td>\n    </tr>\n    <tr>\n      <th>3</th>\n      <td>Nitrate as reduction target</td>\n      <td>{EG10644, EG10648, EG10640, EG10639, EG10638, ...</td>\n      <td>{NITRATE[p]}</td>\n      <td>{OXYGEN-MOLECULE[p]}</td>\n      <td>{RXN0-7124, RXN-15119, RXN0-3501}</td>\n    </tr>\n    <tr>\n      <th>4</th>\n      <td>3-Phenylpropionate as carbon and energy source</td>\n      <td>{M012, M010, M011, G6206}</td>\n      <td>{3-PHENYLPROPIONATE[p]}</td>\n      <td>{GLC[p]}</td>\n      <td>{1.13.11.16-RXN, RXN-10040, MHPCHYDROL-RXN, TR...</td>\n    </tr>\n  </tbody>\n</table>\n</div>"
     },
     "execution_count": 119,
     "metadata": {},
     "output_type": "execute_result"
    }
   ],
   "source": [
    "condition_df"
   ]
  },
  {
   "cell_type": "markdown",
   "id": "79c72c16-8774-4794-93e8-43949641fab6",
   "metadata": {},
   "source": [
    "## Initialize FBA"
   ]
  },
  {
   "cell_type": "code",
   "execution_count": 120,
   "id": "39d99202-7a7b-4b7a-b419-50e683af494f",
   "metadata": {},
   "outputs": [],
   "source": [
    "#stoich_dict = {item[\"reaction id\"]: item[\"stoichiometry\"] for item in stoichiometry}\n",
    "\n",
    "mets_df = pd.DataFrame(Sd.index, columns=[\"Name\"]) # index to name\n",
    "rxns_df = pd.DataFrame(Sd.columns, columns=[\"Name\"]) \n",
    "\n",
    "exchanges = pd.DataFrame(fba[\"estimated_exchange_dmdt\"])\n",
    "homeostatic = pd.DataFrame(fba[\"target_homeostatic_dmdt\"])\n",
    "maintenance = pd.DataFrame(fba[\"target_maintenance_flux\"])\n",
    "\n",
    "kinetic = pd.DataFrame(fba[\"target_kinetic_fluxes\"])\n",
    "kin_rxns = list(kinetic.keys())\n",
    "\n",
    "homeostatic_mets = list(homeostatic.keys())\n",
    "exchange_mets = list(exchanges.keys())\n",
    "intermediate_mets = list(set(mets_df[\"Name\"]) - set(homeostatic.keys()))\n",
    "\n",
    "n_mets, n_orig_rxns = Sd.shape\n",
    "\n",
    "\n",
    "int_df = mets_df[mets_df['Name'].isin(intermediate_mets)].reset_index()\n",
    "int_idx = list(int_df[\"index\"])\n",
    "\n",
    "hom_df = mets_df[mets_df['Name'].isin(homeostatic_mets)].reset_index()\n",
    "target_hom = pd.DataFrame(homeostatic.loc[4, :]).reset_index(drop=False)\n",
    "target_hom.columns = [\"Name\", \"Count\"]\n",
    "merge_df = hom_df.set_index('Name').join(target_hom.set_index('Name'))\n",
    "\n",
    "kin_df = rxns_df[rxns_df['Name'].isin(kin_rxns)].reset_index()\n",
    "target_kin = pd.DataFrame(kinetic.loc[4, :]).reset_index(drop=False)\n",
    "target_kin.columns = [\"Name\", \"Flux\"]\n",
    "merge_kin_df = kin_df.set_index('Name').join(target_kin.set_index('Name'))\n",
    "\n",
    "v_hom = np.array(merge_df[\"Count\"]).astype(np.float64)\n",
    "hom_idx = np.array(merge_df[\"index\"]).astype(np.int64)\n",
    "\n",
    "v_kin = np.array(merge_kin_df[\"Flux\"]).astype(np.float64)\n",
    "kin_idx = np.array(merge_kin_df[\"index\"]).astype(np.int64)\n",
    "\n",
    "v_main = np.array(fba[\"target_maintenance_flux\"][4])\n",
    "main_idx = list(Sd.columns).index(\"maintenance_reaction\")"
   ]
  },
  {
   "cell_type": "markdown",
   "id": "bed4cb3d-8c43-44a6-9677-2769b81ade20",
   "metadata": {},
   "source": [
    "## Quick and dirty loop (after init)"
   ]
  },
  {
   "cell_type": "code",
   "execution_count": 121,
   "id": "810fa6c8-b907-45b1-a1a7-d072f2295fe2",
   "metadata": {},
   "outputs": [
    {
     "name": "stderr",
     "output_type": "stream",
     "text": [
      "/var/folders/dx/0239zgvj0tgf46b5h8l7v_fc0000gn/T/ipykernel_91672/3437847573.py:81: FutureWarning: The frame.append method is deprecated and will be removed from pandas in a future version. Use pandas.concat instead.\n",
      "  results_df = results_df.append(pd.DataFrame([[condition_df.at[condition_idx, \"Environment\"],\n",
      "/var/folders/dx/0239zgvj0tgf46b5h8l7v_fc0000gn/T/ipykernel_91672/3437847573.py:81: FutureWarning: The frame.append method is deprecated and will be removed from pandas in a future version. Use pandas.concat instead.\n",
      "  results_df = results_df.append(pd.DataFrame([[condition_df.at[condition_idx, \"Environment\"],\n",
      "/var/folders/dx/0239zgvj0tgf46b5h8l7v_fc0000gn/T/ipykernel_91672/3437847573.py:81: FutureWarning: The frame.append method is deprecated and will be removed from pandas in a future version. Use pandas.concat instead.\n",
      "  results_df = results_df.append(pd.DataFrame([[condition_df.at[condition_idx, \"Environment\"],\n",
      "/var/folders/dx/0239zgvj0tgf46b5h8l7v_fc0000gn/T/ipykernel_91672/3437847573.py:81: FutureWarning: The frame.append method is deprecated and will be removed from pandas in a future version. Use pandas.concat instead.\n",
      "  results_df = results_df.append(pd.DataFrame([[condition_df.at[condition_idx, \"Environment\"],\n",
      "/var/folders/dx/0239zgvj0tgf46b5h8l7v_fc0000gn/T/ipykernel_91672/3437847573.py:81: FutureWarning: The frame.append method is deprecated and will be removed from pandas in a future version. Use pandas.concat instead.\n",
      "  results_df = results_df.append(pd.DataFrame([[condition_df.at[condition_idx, \"Environment\"],\n",
      "/var/folders/dx/0239zgvj0tgf46b5h8l7v_fc0000gn/T/ipykernel_91672/3437847573.py:81: FutureWarning: The frame.append method is deprecated and will be removed from pandas in a future version. Use pandas.concat instead.\n",
      "  results_df = results_df.append(pd.DataFrame([[condition_df.at[condition_idx, \"Environment\"],\n",
      "/var/folders/dx/0239zgvj0tgf46b5h8l7v_fc0000gn/T/ipykernel_91672/3437847573.py:81: FutureWarning: The frame.append method is deprecated and will be removed from pandas in a future version. Use pandas.concat instead.\n",
      "  results_df = results_df.append(pd.DataFrame([[condition_df.at[condition_idx, \"Environment\"],\n",
      "/var/folders/dx/0239zgvj0tgf46b5h8l7v_fc0000gn/T/ipykernel_91672/3437847573.py:81: FutureWarning: The frame.append method is deprecated and will be removed from pandas in a future version. Use pandas.concat instead.\n",
      "  results_df = results_df.append(pd.DataFrame([[condition_df.at[condition_idx, \"Environment\"],\n",
      "/var/folders/dx/0239zgvj0tgf46b5h8l7v_fc0000gn/T/ipykernel_91672/3437847573.py:81: FutureWarning: The frame.append method is deprecated and will be removed from pandas in a future version. Use pandas.concat instead.\n",
      "  results_df = results_df.append(pd.DataFrame([[condition_df.at[condition_idx, \"Environment\"],\n",
      "/var/folders/dx/0239zgvj0tgf46b5h8l7v_fc0000gn/T/ipykernel_91672/3437847573.py:81: FutureWarning: The frame.append method is deprecated and will be removed from pandas in a future version. Use pandas.concat instead.\n",
      "  results_df = results_df.append(pd.DataFrame([[condition_df.at[condition_idx, \"Environment\"],\n"
     ]
    }
   ],
   "source": [
    "results_df = pd.DataFrame(columns=[\"Environment\", \"Reaction\", \"Flux\"])\n",
    "\n",
    "for i in range(len(condition_df)):\n",
    "    condition_idx = i\n",
    "\n",
    "    uptake = (fba[\"unconstrained_molecules\"][3]).copy()\n",
    "    uptake_c = fba[\"constrained_molecules\"]\n",
    "\n",
    "    uptake.extend(list(uptake_c.keys()))\n",
    "    uptake = set(uptake)\n",
    "\n",
    "    addition = condition_df.at[condition_idx, \"Add\"]\n",
    "    removals = condition_df.at[condition_idx, \"Remove\"]\n",
    "\n",
    "    uptake = uptake | addition\n",
    "    uptake = uptake - removals\n",
    "    uptake\n",
    "\n",
    "    # just need to change exchanges.\n",
    "    exchange_mets = list(exchanges.keys())\n",
    "    exchange_mets.extend(list(uptake))\n",
    "\n",
    "    Se = pd.DataFrame(index=Sd.index)\n",
    "\n",
    "    for met in exchange_mets:\n",
    "        exch_name = met + \" exchange\"\n",
    "        if met in uptake:\n",
    "            Se[exch_name] = np.zeros(n_mets).astype(np.int8)\n",
    "            Se.at[met, exch_name] = 1\n",
    "\n",
    "        Se[exch_name + \" rev\"] = np.zeros(n_mets).astype(np.int8)\n",
    "        Se.at[met, exch_name + \" rev\"] = -1\n",
    "\n",
    "    S_exch = np.array(Se, dtype=np.float64)\n",
    "\n",
    "    _, n_exch_rxns = S_exch.shape\n",
    "\n",
    "    secretion_idx = np.where(S_exch.sum(axis=0) == -1)[0]\n",
    "\n",
    "    v = cp.Variable(n_orig_rxns)\n",
    "    e = cp.Variable(n_exch_rxns)\n",
    "    v_t = cp.hstack([v,e])\n",
    "    dm = S_orig @ v + S_exch @ e \n",
    "\n",
    "\n",
    "    constr = []\n",
    "    constr.append(dm[int_idx] == 0)\n",
    "    constr.append(v[main_idx] == v_main)\n",
    "    # constr.append(dm[hom_idx] == v_hom)\n",
    "    constr.extend([v >= 0, v <= 100000000, e >= 0, e <= 100000000])\n",
    "\n",
    "    loss = 0\n",
    "    loss += cp.norm1(dm[hom_idx] - v_hom)\n",
    "    loss += 0.001*(cp.sum(e[secretion_idx]))\n",
    "    loss += 0.00001*(cp.sum(v))\n",
    "    loss += 0.000001 * cp.norm1(v[kin_idx] - v_kin)\n",
    "\n",
    "    p = cp.Problem(\n",
    "            cp.Minimize(loss),\n",
    "        constr\n",
    "        )\n",
    "\n",
    "    p.solve(solver=cp.GLOP, verbose=False)\n",
    "\n",
    "    # Check flux\n",
    "    flux_indexed = list(Sd.columns[:n_orig_rxns])\n",
    "    fluxes = pd.DataFrame({flux_indexed[i]: [v.value[i], stoichiometry[flux_indexed[i]]] for i in range(len(flux_indexed))}).T\n",
    "    fluxes.columns = [\"Flux\", \"Stoichiometry\"]\n",
    "\n",
    "    relevant_rxns = condition_df.at[condition_idx, \"Reactions\"]\n",
    "    relevant_rxn_idx = []\n",
    "\n",
    "    for rxn in relevant_rxns:\n",
    "        relevant_rxn_idx.extend(list(np.where(fluxes.index.str.contains(rxn))[0] ))\n",
    "\n",
    "    relevant_fluxes = fluxes.iloc[relevant_rxn_idx, :]\n",
    "    \n",
    "    relevant_nonzero_fluxes = relevant_fluxes[relevant_fluxes[\"Flux\"] != 0].loc[:, \"Flux\"]\n",
    "    \n",
    "    for j, k in enumerate(relevant_nonzero_fluxes.index):\n",
    "        results_df = results_df.append(pd.DataFrame([[condition_df.at[condition_idx, \"Environment\"],\n",
    "                          relevant_nonzero_fluxes.index[j],\n",
    "                          relevant_nonzero_fluxes[k]]], columns=[\"Environment\", \"Reaction\", \"Flux\"]))\n",
    "    #print(condition_df.at[condition_idx, \"Environment\"],\"\\n\" ,relevant_fluxes[relevant_fluxes[\"Flux\"] != 0].loc[:, \"Flux\"], \"\\n\")"
   ]
  },
  {
   "cell_type": "code",
   "execution_count": 122,
   "id": "3feb60e7-d881-4b21-afc4-e501301874bc",
   "metadata": {},
   "outputs": [
    {
     "data": {
      "text/plain": "                                      Environment              Reaction  \\\n0                  Hydrogen + fumarate, -O2, -Glc  RXN0-5256-CPD-9728/P   \n0                                 Ribose C-source  RIBOKIN-RXN-CPD0-110   \n0                                 Ribose C-source  RIBOKIN-RXN-CPD0-110   \n0                                 Ribose C-source  ABC-28-RXN-ATP/D-Rib   \n0                              Thiamine salvaging            ABC-32-RXN   \n0                              Thiamine salvaging            THIKIN-RXN   \n0                     Nitrate as reduction target  RXN0-7124-NITRATE/CP   \n0                     Nitrate as reduction target  RXN0-3501-NITRATE/RE   \n0  3-Phenylpropionate as carbon and energy source        1.13.11.16-RXN   \n0  3-Phenylpropionate as carbon and energy source        MHPCHYDROL-RXN   \n\n           Flux  \n0  9.625052e+06  \n0  5.656970e+05  \n0  3.818965e+05  \n0  9.475935e+05  \n0  1.600000e+01  \n0  1.600000e+01  \n0  6.746300e+04  \n0  4.963257e+05  \n0  5.747953e+05  \n0  5.747953e+05  ",
      "text/html": "<div>\n<style scoped>\n    .dataframe tbody tr th:only-of-type {\n        vertical-align: middle;\n    }\n\n    .dataframe tbody tr th {\n        vertical-align: top;\n    }\n\n    .dataframe thead th {\n        text-align: right;\n    }\n</style>\n<table border=\"1\" class=\"dataframe\">\n  <thead>\n    <tr style=\"text-align: right;\">\n      <th></th>\n      <th>Environment</th>\n      <th>Reaction</th>\n      <th>Flux</th>\n    </tr>\n  </thead>\n  <tbody>\n    <tr>\n      <th>0</th>\n      <td>Hydrogen + fumarate, -O2, -Glc</td>\n      <td>RXN0-5256-CPD-9728/P</td>\n      <td>9.625052e+06</td>\n    </tr>\n    <tr>\n      <th>0</th>\n      <td>Ribose C-source</td>\n      <td>RIBOKIN-RXN-CPD0-110</td>\n      <td>5.656970e+05</td>\n    </tr>\n    <tr>\n      <th>0</th>\n      <td>Ribose C-source</td>\n      <td>RIBOKIN-RXN-CPD0-110</td>\n      <td>3.818965e+05</td>\n    </tr>\n    <tr>\n      <th>0</th>\n      <td>Ribose C-source</td>\n      <td>ABC-28-RXN-ATP/D-Rib</td>\n      <td>9.475935e+05</td>\n    </tr>\n    <tr>\n      <th>0</th>\n      <td>Thiamine salvaging</td>\n      <td>ABC-32-RXN</td>\n      <td>1.600000e+01</td>\n    </tr>\n    <tr>\n      <th>0</th>\n      <td>Thiamine salvaging</td>\n      <td>THIKIN-RXN</td>\n      <td>1.600000e+01</td>\n    </tr>\n    <tr>\n      <th>0</th>\n      <td>Nitrate as reduction target</td>\n      <td>RXN0-7124-NITRATE/CP</td>\n      <td>6.746300e+04</td>\n    </tr>\n    <tr>\n      <th>0</th>\n      <td>Nitrate as reduction target</td>\n      <td>RXN0-3501-NITRATE/RE</td>\n      <td>4.963257e+05</td>\n    </tr>\n    <tr>\n      <th>0</th>\n      <td>3-Phenylpropionate as carbon and energy source</td>\n      <td>1.13.11.16-RXN</td>\n      <td>5.747953e+05</td>\n    </tr>\n    <tr>\n      <th>0</th>\n      <td>3-Phenylpropionate as carbon and energy source</td>\n      <td>MHPCHYDROL-RXN</td>\n      <td>5.747953e+05</td>\n    </tr>\n  </tbody>\n</table>\n</div>"
     },
     "execution_count": 122,
     "metadata": {},
     "output_type": "execute_result"
    }
   ],
   "source": [
    "results_df[\"Reaction\"] = results_df['Reaction'].str.slice(0,20)\n",
    "results_df"
   ]
  },
  {
   "cell_type": "code",
   "execution_count": 123,
   "id": "f5dc4036-1bf6-4443-bfe8-198bfff75941",
   "metadata": {},
   "outputs": [
    {
     "data": {
      "text/plain": "<Figure size 1148.28x360 with 1 Axes>",
      "image/png": "[encoded data removed]"
     },
     "metadata": {},
     "output_type": "display_data"
    }
   ],
   "source": [
    "sns.catplot(y=\"Environment\",hue=\"Reaction\", x=\"Flux\", data=results_df, kind=\"bar\", aspect=2.5)\n",
    "plt.xscale('log')\n",
    "#plt.tight_layout()\n",
    "plt.savefig(\"notebooks/fbagd/figures/rxns_light_up.png\", dpi=300)"
   ]
  },
  {
   "cell_type": "markdown",
   "id": "7bc6d87b-b3bc-4e3c-b978-7c15f7bd7b96",
   "metadata": {},
   "source": [
    "# Check metal reactions"
   ]
  },
  {
   "cell_type": "code",
   "execution_count": 124,
   "id": "f16b9906-40af-4a77-b29f-a97feec946c8",
   "metadata": {},
   "outputs": [
    {
     "data": {
      "text/plain": "Index(['PROTOHEMEFERROCHELAT-RXN[CCO-CYTOSOL]-PROTOHEME/PROTON//PROTOPORPHYRIN_IX/FE+2.54.',\n       'PROTOHEMEFERROCHELAT-RXN[CCO-CYTOSOL]-PROTOHEME/PROTON//PROTOPORPHYRIN_IX/FE+2.54. (reverse)',\n       'RXN-12540', 'RXN-12541', 'RXN-14960', 'RXN-15292', 'RXN-15293',\n       'RXN-15294',\n       'RXN0-1483[CCO-CYTOSOL]-FE+2/PROTON/OXYGEN-MOLECULE//FE+3/WATER.53.',\n       'RXN0-2421', 'RXN0-6', 'RXN0-6555 (reverse)', 'RXN0-6941 (reverse)',\n       'RXN0-7313 (reverse)', 'SIROHEME-FERROCHELAT-RXN', 'TRANS-RXN-424',\n       'RXN0-949'],\n      dtype='object')"
     },
     "execution_count": 124,
     "metadata": {},
     "output_type": "execute_result"
    }
   ],
   "source": [
    "# find mets containing\n",
    "mets_df[mets_df.loc[:, \"Name\"].str.contains(\"FE\\+2\\[c\\]\")]\n",
    "\n",
    "# find reactions containing met\n",
    "reactions_id = Sd.loc[ \"FE+2[c]\", Sd.iloc[1092, :] != 0].index\n",
    "reactions_id"
   ]
  },
  {
   "cell_type": "code",
   "execution_count": 125,
   "id": "4949ea91-02d3-4e94-bd6a-30226c512259",
   "metadata": {},
   "outputs": [
    {
     "data": {
      "text/plain": "                                                     Flux  \\\nPROTOHEMEFERROCHELAT-RXN[CCO-CYTOSOL]-PROTOHEME...   -0.0   \nPROTOHEMEFERROCHELAT-RXN[CCO-CYTOSOL]-PROTOHEME...   19.0   \nRXN-12540                                            -0.0   \nRXN-12541                                            -0.0   \nRXN-14960                                            -0.0   \nRXN-15292                                            -0.0   \nRXN-15293                                            -0.0   \nRXN-15294                                            -0.0   \nRXN0-1483[CCO-CYTOSOL]-FE+2/PROTON/OXYGEN-MOLEC...   -0.0   \nRXN0-2421                                           635.0   \nRXN0-6                                               -0.0   \nRXN0-6555 (reverse)                                  -0.0   \nRXN0-6941 (reverse)                                  -0.0   \nRXN0-7313 (reverse)                                  -0.0   \nSIROHEME-FERROCHELAT-RXN                             18.0   \nTRANS-RXN-424                                        -0.0   \nRXN0-949                                              0.0   \n\n                                                                                        Stoichiometry  \nPROTOHEMEFERROCHELAT-RXN[CCO-CYTOSOL]-PROTOHEME...  {'PROTOHEME[c]': -1, 'PROTON[c]': -2, 'PROTOPO...  \nPROTOHEMEFERROCHELAT-RXN[CCO-CYTOSOL]-PROTOHEME...  {'PROTOHEME[c]': 1, 'PROTON[c]': 2, 'PROTOPORP...  \nRXN-12540                                           {'HYDROGEN-PEROXIDE[c]': -1, 'FE+2[c]': -1, 'C...  \nRXN-12541                                           {'FE+2[c]': -2, 'OXYGEN-MOLECULE[c]': -2, 'SUP...  \nRXN-14960                                           {'Fe2-siderophores[c]': -1, 'PROTON[c]': -1, '...  \nRXN-15292                                           {'FE+2[c]': -2, 'OXYGEN-MOLECULE[c]': -1, 'WAT...  \nRXN-15293                                           {'FE+2[c]': -2, 'HYDROGEN-PEROXIDE[c]': -1, 'W...  \nRXN-15294                                           {'FE+2[c]': -4, 'OXYGEN-MOLECULE[c]': -1, 'WAT...  \nRXN0-1483[CCO-CYTOSOL]-FE+2/PROTON/OXYGEN-MOLEC...  {'FE+2[c]': -4, 'PROTON[c]': -4, 'OXYGEN-MOLEC...  \nRXN0-2421                                           {'FE+2[p]': -1, 'PROTON[p]': -1, 'FE+2[c]': 1,...  \nRXN0-6                                              {'FE+2[c]': -1, 'PROTON[p]': -1, 'FE+2[p]': 1,...  \nRXN0-6555 (reverse)                                 {'FE+2[c]': 2, 'Siderophore[c]': 2, 'NADP[c]':...  \nRXN0-6941 (reverse)                                 {'FE+2[c]': 2, 'CPD0-2483[c]': 2, 'NADP[c]': 1...  \nRXN0-7313 (reverse)                                 {'FE+2[c]': 2, 'N-23-DIHYDROXYBENZOYL-L-SERINE...  \nSIROHEME-FERROCHELAT-RXN                            {'SIROHYDROCHLORIN[c]': -1, 'FE+2[c]': -1, 'SI...  \nTRANS-RXN-424                                       {'FE+2[p]': -1, 'GTP[c]': -1, 'WATER[c]': -1, ...  \nRXN0-949                                            {'S-ADENOSYLMETHIONINE[c]': -2, 'Octanoylated-...  ",
      "text/html": "<div>\n<style scoped>\n    .dataframe tbody tr th:only-of-type {\n        vertical-align: middle;\n    }\n\n    .dataframe tbody tr th {\n        vertical-align: top;\n    }\n\n    .dataframe thead th {\n        text-align: right;\n    }\n</style>\n<table border=\"1\" class=\"dataframe\">\n  <thead>\n    <tr style=\"text-align: right;\">\n      <th></th>\n      <th>Flux</th>\n      <th>Stoichiometry</th>\n    </tr>\n  </thead>\n  <tbody>\n    <tr>\n      <th>PROTOHEMEFERROCHELAT-RXN[CCO-CYTOSOL]-PROTOHEME/PROTON//PROTOPORPHYRIN_IX/FE+2.54.</th>\n      <td>-0.0</td>\n      <td>{'PROTOHEME[c]': -1, 'PROTON[c]': -2, 'PROTOPO...</td>\n    </tr>\n    <tr>\n      <th>PROTOHEMEFERROCHELAT-RXN[CCO-CYTOSOL]-PROTOHEME/PROTON//PROTOPORPHYRIN_IX/FE+2.54. (reverse)</th>\n      <td>19.0</td>\n      <td>{'PROTOHEME[c]': 1, 'PROTON[c]': 2, 'PROTOPORP...</td>\n    </tr>\n    <tr>\n      <th>RXN-12540</th>\n      <td>-0.0</td>\n      <td>{'HYDROGEN-PEROXIDE[c]': -1, 'FE+2[c]': -1, 'C...</td>\n    </tr>\n    <tr>\n      <th>RXN-12541</th>\n      <td>-0.0</td>\n      <td>{'FE+2[c]': -2, 'OXYGEN-MOLECULE[c]': -2, 'SUP...</td>\n    </tr>\n    <tr>\n      <th>RXN-14960</th>\n      <td>-0.0</td>\n      <td>{'Fe2-siderophores[c]': -1, 'PROTON[c]': -1, '...</td>\n    </tr>\n    <tr>\n      <th>RXN-15292</th>\n      <td>-0.0</td>\n      <td>{'FE+2[c]': -2, 'OXYGEN-MOLECULE[c]': -1, 'WAT...</td>\n    </tr>\n    <tr>\n      <th>RXN-15293</th>\n      <td>-0.0</td>\n      <td>{'FE+2[c]': -2, 'HYDROGEN-PEROXIDE[c]': -1, 'W...</td>\n    </tr>\n    <tr>\n      <th>RXN-15294</th>\n      <td>-0.0</td>\n      <td>{'FE+2[c]': -4, 'OXYGEN-MOLECULE[c]': -1, 'WAT...</td>\n    </tr>\n    <tr>\n      <th>RXN0-1483[CCO-CYTOSOL]-FE+2/PROTON/OXYGEN-MOLECULE//FE+3/WATER.53.</th>\n      <td>-0.0</td>\n      <td>{'FE+2[c]': -4, 'PROTON[c]': -4, 'OXYGEN-MOLEC...</td>\n    </tr>\n    <tr>\n      <th>RXN0-2421</th>\n      <td>635.0</td>\n      <td>{'FE+2[p]': -1, 'PROTON[p]': -1, 'FE+2[c]': 1,...</td>\n    </tr>\n    <tr>\n      <th>RXN0-6</th>\n      <td>-0.0</td>\n      <td>{'FE+2[c]': -1, 'PROTON[p]': -1, 'FE+2[p]': 1,...</td>\n    </tr>\n    <tr>\n      <th>RXN0-6555 (reverse)</th>\n      <td>-0.0</td>\n      <td>{'FE+2[c]': 2, 'Siderophore[c]': 2, 'NADP[c]':...</td>\n    </tr>\n    <tr>\n      <th>RXN0-6941 (reverse)</th>\n      <td>-0.0</td>\n      <td>{'FE+2[c]': 2, 'CPD0-2483[c]': 2, 'NADP[c]': 1...</td>\n    </tr>\n    <tr>\n      <th>RXN0-7313 (reverse)</th>\n      <td>-0.0</td>\n      <td>{'FE+2[c]': 2, 'N-23-DIHYDROXYBENZOYL-L-SERINE...</td>\n    </tr>\n    <tr>\n      <th>SIROHEME-FERROCHELAT-RXN</th>\n      <td>18.0</td>\n      <td>{'SIROHYDROCHLORIN[c]': -1, 'FE+2[c]': -1, 'SI...</td>\n    </tr>\n    <tr>\n      <th>TRANS-RXN-424</th>\n      <td>-0.0</td>\n      <td>{'FE+2[p]': -1, 'GTP[c]': -1, 'WATER[c]': -1, ...</td>\n    </tr>\n    <tr>\n      <th>RXN0-949</th>\n      <td>0.0</td>\n      <td>{'S-ADENOSYLMETHIONINE[c]': -2, 'Octanoylated-...</td>\n    </tr>\n  </tbody>\n</table>\n</div>"
     },
     "execution_count": 125,
     "metadata": {},
     "output_type": "execute_result"
    }
   ],
   "source": [
    "# find reactions containing met\n",
    "fluxes.loc[reactions_id,:]"
   ]
  },
  {
   "cell_type": "markdown",
   "id": "21050edf-d995-4a2d-aa4b-ab18f1406839",
   "metadata": {
    "tags": []
   },
   "source": [
    "# Troubleshoot wrong fluxes"
   ]
  },
  {
   "cell_type": "code",
   "execution_count": 126,
   "id": "edca0469-dd15-4bc5-93bb-9e6357c259de",
   "metadata": {},
   "outputs": [
    {
     "ename": "NameError",
     "evalue": "name 'fluxes_wrong' is not defined",
     "output_type": "error",
     "traceback": [
      "\u001B[0;31m---------------------------------------------------------------------------\u001B[0m",
      "\u001B[0;31mNameError\u001B[0m                                 Traceback (most recent call last)",
      "\u001B[0;32m/var/folders/dx/0239zgvj0tgf46b5h8l7v_fc0000gn/T/ipykernel_91672/2575169728.py\u001B[0m in \u001B[0;36m<module>\u001B[0;34m\u001B[0m\n\u001B[0;32m----> 1\u001B[0;31m \u001B[0mtop_wrong\u001B[0m \u001B[0;34m=\u001B[0m \u001B[0mfluxes_wrong\u001B[0m\u001B[0;34m.\u001B[0m\u001B[0msort_values\u001B[0m\u001B[0;34m(\u001B[0m\u001B[0mby\u001B[0m\u001B[0;34m=\u001B[0m\u001B[0;36m0\u001B[0m\u001B[0;34m,\u001B[0m \u001B[0maxis\u001B[0m\u001B[0;34m=\u001B[0m\u001B[0;36m1\u001B[0m\u001B[0;34m,\u001B[0m \u001B[0mascending\u001B[0m\u001B[0;34m=\u001B[0m\u001B[0;32mFalse\u001B[0m\u001B[0;34m)\u001B[0m\u001B[0;34m.\u001B[0m\u001B[0mT\u001B[0m\u001B[0;34m.\u001B[0m\u001B[0mhead\u001B[0m\u001B[0;34m(\u001B[0m\u001B[0;36m50\u001B[0m\u001B[0;34m)\u001B[0m\u001B[0;34m\u001B[0m\u001B[0;34m\u001B[0m\u001B[0m\n\u001B[0m\u001B[1;32m      2\u001B[0m \u001B[0mtop_right\u001B[0m \u001B[0;34m=\u001B[0m \u001B[0mfluxes\u001B[0m\u001B[0;34m.\u001B[0m\u001B[0msort_values\u001B[0m\u001B[0;34m(\u001B[0m\u001B[0mby\u001B[0m\u001B[0;34m=\u001B[0m\u001B[0;36m0\u001B[0m\u001B[0;34m,\u001B[0m \u001B[0maxis\u001B[0m\u001B[0;34m=\u001B[0m\u001B[0;36m1\u001B[0m\u001B[0;34m,\u001B[0m \u001B[0mascending\u001B[0m\u001B[0;34m=\u001B[0m\u001B[0;32mFalse\u001B[0m\u001B[0;34m)\u001B[0m\u001B[0;34m.\u001B[0m\u001B[0mT\u001B[0m\u001B[0;34m.\u001B[0m\u001B[0mhead\u001B[0m\u001B[0;34m(\u001B[0m\u001B[0;36m50\u001B[0m\u001B[0;34m)\u001B[0m\u001B[0;34m\u001B[0m\u001B[0;34m\u001B[0m\u001B[0m\n\u001B[1;32m      3\u001B[0m \u001B[0;34m\u001B[0m\u001B[0m\n\u001B[1;32m      4\u001B[0m \u001B[0mtop_wrong\u001B[0m\u001B[0;34m.\u001B[0m\u001B[0mjoin\u001B[0m\u001B[0;34m(\u001B[0m\u001B[0mtop_right\u001B[0m\u001B[0;34m,\u001B[0m \u001B[0mlsuffix\u001B[0m\u001B[0;34m=\u001B[0m\u001B[0;34m\"wrong\"\u001B[0m\u001B[0;34m,\u001B[0m \u001B[0mrsuffix\u001B[0m\u001B[0;34m=\u001B[0m\u001B[0;34m\"right\"\u001B[0m\u001B[0;34m)\u001B[0m\u001B[0;34m\u001B[0m\u001B[0;34m\u001B[0m\u001B[0m\n",
      "\u001B[0;31mNameError\u001B[0m: name 'fluxes_wrong' is not defined"
     ]
    }
   ],
   "source": [
    "top_wrong = fluxes_wrong.sort_values(by=0, axis=1, ascending=False).T.head(50)\n",
    "top_right = fluxes.sort_values(by=0, axis=1, ascending=False).T.head(50)\n",
    "\n",
    "top_wrong.join(top_right, lsuffix=\"wrong\", rsuffix=\"right\")"
   ]
  },
  {
   "cell_type": "code",
   "execution_count": null,
   "id": "4afce1bf-1f15-44a0-94f4-d728ae26f0ca",
   "metadata": {},
   "outputs": [],
   "source": [
    "m2 = []\n",
    "\n",
    "for rxn in [\"LXULRU5P-RXN (reverse)\", \"RXN-21400\", \"RXN0-703 (reverse)\", \"RXN0-704\", \"RIBULPEPIM-RXN__EG12287-MONOMER\", \"RXN0-705__EG12285-MONOMER\"]:\n",
    "    m2.append({key: 2*value for key, value in stoichiometry[rxn].items()})\n",
    "    \n",
    "pd.DataFrame(m2, dtype=np.int8).fillna(0).astype(np.int8).sum(axis=0)"
   ]
  },
  {
   "cell_type": "code",
   "execution_count": null,
   "id": "737cad21-e92f-440c-93d8-86d1068a9b35",
   "metadata": {},
   "outputs": [],
   "source": [
    "m1 = []\n",
    "\n",
    "for rxn in [\"ALANINE-AMINOTRANSFERASE-RXN (reverse)\", \"MALATE-DEH-RXN (reverse)\", \"RXN-3523\", \"RXN-10981\", \\\n",
    " \"RXN-12440\", \"CHD-RXN (reverse)\", \"RXN0-7230-CHOLINE/UBIQUINONE-8//BETAINE_ALDEHYDE/CPD-9956.48.\", \"ALARACECAT-RXN\", \"PMPOXI-RXN\", \"RXN0-5240\"]:\n",
    "    m1.append({key: value for key, value in stoichiometry[rxn].items()})\n",
    "    \n",
    "pd.DataFrame(m1, dtype=np.int8).fillna(0).astype(np.int8).sum(axis=0)"
   ]
  },
  {
   "cell_type": "markdown",
   "id": "dc585496-f8aa-4a33-95c6-080673fdacee",
   "metadata": {
    "tags": []
   },
   "source": [
    "# Extract specific fluxes for balancing"
   ]
  },
  {
   "cell_type": "code",
   "execution_count": null,
   "id": "a365292b-41f5-4479-9faa-9f4288066d5f",
   "metadata": {},
   "outputs": [],
   "source": [
    "rxns_names = ['PGLUCISOM-RXN', '6PFRUCTPHOS-RXN', 'F16ALDOLASE-RXN', 'TRIOSEPISOMERIZATION-RXN', \n",
    "              'GAPOXNPHOSPHN-RXN', 'PHOSGLYPHOS-RXN', '3PGAREARR-RXN',\n",
    "              '2PGADEHYDRAT-RXN', 'PEPDEPHOS-RXN']"
   ]
  },
  {
   "cell_type": "code",
   "execution_count": null,
   "id": "70d1d678-2b56-4720-b9ea-1e5dcc2cd85e",
   "metadata": {},
   "outputs": [],
   "source": [
    "fluxes.sort_values(by=0, axis=1, ascending=False).T.head(10)"
   ]
  },
  {
   "cell_type": "code",
   "execution_count": null,
   "id": "741fa321-36cf-453b-a8cd-118ddc076956",
   "metadata": {},
   "outputs": [],
   "source": [
    "fluxes_small = fluxes.loc[fluxes.index.isin(rxns_names), :]\n",
    "fluxes_small"
   ]
  },
  {
   "cell_type": "code",
   "execution_count": null,
   "id": "d740f972-9657-4f41-9134-53904ef364e2",
   "metadata": {},
   "outputs": [],
   "source": [
    "fluxes.loc[fluxes.index.str.contains(\"TRIOSEPISOMERIZATION-RXN\"),:]"
   ]
  },
  {
   "cell_type": "code",
   "execution_count": null,
   "id": "3697f643-1b16-4a02-b5bb-35649d260ce8",
   "metadata": {},
   "outputs": [],
   "source": [
    "fluxes.loc[fluxes.index.str.contains(\"3PGAREARR-RXN\"),:]"
   ]
  },
  {
   "cell_type": "code",
   "execution_count": null,
   "id": "ad776937-f57e-4a4f-ab3d-0592cff8dafe",
   "metadata": {},
   "outputs": [],
   "source": [
    "fluxes.loc[fluxes.index.str.contains(\"PHOSGLYPHOS-RXN\"),:]"
   ]
  },
  {
   "cell_type": "code",
   "execution_count": null,
   "id": "bd9c3384-0d65-4333-a8bc-000fb75795ff",
   "metadata": {},
   "outputs": [],
   "source": [
    "fluxes.loc[fluxes.index.str.contains(\"2TRANSKETO-RXN\"),:]"
   ]
  },
  {
   "cell_type": "markdown",
   "id": "a3456e47-a5de-4bf2-8954-d7e3ef868311",
   "metadata": {},
   "source": [
    "# Glucose transport"
   ]
  },
  {
   "cell_type": "code",
   "execution_count": null,
   "id": "b9f80e9e-1077-40bf-99b4-fdfbc7d816b7",
   "metadata": {},
   "outputs": [],
   "source": [
    "glucose_transport_reactions = ['TRANS-RXN-157-PTSH-PHOSPHORYLATED/GLC//ALPHA-GLC-6-P/PTSH-MONOMER.52.',\n",
    "                               'TRANS-RXN-157-PTSH-PHOSPHORYLATED/GLC//D-glucopyranose-6-phosphate/PTSH-MONOMER.66.',\n",
    "                               'TRANS-RXN-157-PTSH-PHOSPHORYLATED/GLC//GLC-6-P/PTSH-MONOMER.46.',\n",
    "                               'RXN0-7077-GLC/PROTON//ALPHA-GLUCOSE/PROTON.33.',\n",
    "                               'RXN0-7077-GLC/PROTON//Glucopyranose/PROTON.33.',\n",
    "                               'RXN0-7077-GLC/PROTON//GLC/PROTON.23.',\n",
    "                               'TRANS-RXN0-574-GLC//GLC.9.',\n",
    "                               'TRANS-RXN0-574-GLC//Glucopyranose.19.',\n",
    "                               'TRANS-RXN-320-GLC/ATP/WATER//ALPHA-GLUCOSE/ADP/Pi/PROTON.43.',\n",
    "                               'TRANS-RXN-320-GLC/ATP/WATER//GLC/ADP/Pi/PROTON.33.',\n",
    "                               'TRANS-RXN-320-GLC/ATP/WATER//Glucopyranose/ADP/Pi/PROTON.43.']\n"
   ]
  },
  {
   "cell_type": "code",
   "execution_count": null,
   "id": "1389bc28-9889-4c34-bdbe-af444ceecbdd",
   "metadata": {},
   "outputs": [],
   "source": []
  }
 ],
 "metadata": {
  "kernelspec": {
   "display_name": "Python 3 (ipykernel)",
   "language": "python",
   "name": "python3"
  },
  "language_info": {
   "codemirror_mode": {
    "name": "ipython",
    "version": 3
   },
   "file_extension": ".py",
   "mimetype": "text/x-python",
   "name": "python",
   "nbconvert_exporter": "python",
   "pygments_lexer": "ipython3",
   "version": "3.9.9"
  }
 },
 "nbformat": 4,
 "nbformat_minor": 5
}