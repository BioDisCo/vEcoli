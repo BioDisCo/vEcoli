{
 "cells": [
  {
   "cell_type": "code",
   "execution_count": 1,
   "metadata": {
    "collapsed": true,
    "ExecuteTime": {
     "end_time": "2023-07-26T20:40:14.776297Z",
     "start_time": "2023-07-26T20:40:14.377430Z"
    }
   },
   "outputs": [
    {
     "data": {
      "text/plain": "<Response [200]>"
     },
     "execution_count": 1,
     "metadata": {},
     "output_type": "execute_result"
    }
   ],
   "source": [
    "import numpy as np\n",
    "\n",
    "import seaborn as sns\n",
    "import pandas as pd\n",
    "import os\n",
    "import pprint\n",
    "import ast\n",
    "import re\n",
    "import matplotlib.pyplot as plt\n",
    "import dill\n",
    "import requests\n",
    "import xmltodict\n",
    "import json\n",
    "\n",
    "pp = pprint.PrettyPrinter(depth=6)\n",
    "\n",
    "os.chdir(os.path.expanduser('~/vivarium-ecoli'))\n",
    "\n",
    "s = requests.Session() # create session\n",
    "# Post login credentials to session:\n",
    "s.post('https://websvc.biocyc.org/credentials/login/', data={'email':'cellulararchitect@protonmail.com', 'password':'Cellman0451'})\n"
   ]
  },
  {
   "cell_type": "code",
   "execution_count": 2,
   "outputs": [
    {
     "data": {
      "text/plain": "                                            id  \\\n0      1-ACYLGLYCEROL-3-P-ACYLTRANSFER-MONOMER   \n1                                1-PFK-MONOMER   \n2             2-DEHYDROPANTOATE-REDUCT-MONOMER   \n3                 2-ISOPROPYLMALATESYN-MONOMER   \n4     2-OCTAPRENYL-METHOXY-BENZOQ-METH-MONOMER   \n...                                        ...   \n4415                              YTFR-MONOMER   \n4416                              YTFT-MONOMER   \n4417                              ZNUA-MONOMER   \n4418                              ZNUB-MONOMER   \n4419                              ZNUC-MONOMER   \n\n                                            common_name enzyme_reaction  \\\n0     1-acylglycerol-3-phosphate <i>O</i>-acyltransf...               0   \n1                                 1-phosphofructokinase               0   \n2                         2-dehydropantoate 2-reductase               0   \n3                            2-isopropylmalate synthase               0   \n4     bifunctional 2-octaprenyl-6-methoxy-1,4-benzoq...               0   \n...                                                 ...             ...   \n4415  galactofuranose ABC transporter putative ATP b...               0   \n4416  galactofuranose ABC transporter putative membr...               0   \n4417  Zn<sup>2+</sup> ABC transporter periplasmic bi...               0   \n4418   Zn<sup>2+</sup> ABC transporter membrane subunit               0   \n4419  Zn<sup>2+</sup> ABC transporter ATP binding su...               0   \n\n     cofactors metal_features other_features  \n0            0              0              0  \n1            0              0              0  \n2            0              0              0  \n3            0              0              0  \n4            0              0              0  \n...        ...            ...            ...  \n4415         0              0              0  \n4416         0              0              0  \n4417         0              0              0  \n4418         0              0              0  \n4419         0              0              0  \n\n[4420 rows x 6 columns]",
      "text/html": "<div>\n<style scoped>\n    .dataframe tbody tr th:only-of-type {\n        vertical-align: middle;\n    }\n\n    .dataframe tbody tr th {\n        vertical-align: top;\n    }\n\n    .dataframe thead th {\n        text-align: right;\n    }\n</style>\n<table border=\"1\" class=\"dataframe\">\n  <thead>\n    <tr style=\"text-align: right;\">\n      <th></th>\n      <th>id</th>\n      <th>common_name</th>\n      <th>enzyme_reaction</th>\n      <th>cofactors</th>\n      <th>metal_features</th>\n      <th>other_features</th>\n    </tr>\n  </thead>\n  <tbody>\n    <tr>\n      <th>0</th>\n      <td>1-ACYLGLYCEROL-3-P-ACYLTRANSFER-MONOMER</td>\n      <td>1-acylglycerol-3-phosphate &lt;i&gt;O&lt;/i&gt;-acyltransf...</td>\n      <td>0</td>\n      <td>0</td>\n      <td>0</td>\n      <td>0</td>\n    </tr>\n    <tr>\n      <th>1</th>\n      <td>1-PFK-MONOMER</td>\n      <td>1-phosphofructokinase</td>\n      <td>0</td>\n      <td>0</td>\n      <td>0</td>\n      <td>0</td>\n    </tr>\n    <tr>\n      <th>2</th>\n      <td>2-DEHYDROPANTOATE-REDUCT-MONOMER</td>\n      <td>2-dehydropantoate 2-reductase</td>\n      <td>0</td>\n      <td>0</td>\n      <td>0</td>\n      <td>0</td>\n    </tr>\n    <tr>\n      <th>3</th>\n      <td>2-ISOPROPYLMALATESYN-MONOMER</td>\n      <td>2-isopropylmalate synthase</td>\n      <td>0</td>\n      <td>0</td>\n      <td>0</td>\n      <td>0</td>\n    </tr>\n    <tr>\n      <th>4</th>\n      <td>2-OCTAPRENYL-METHOXY-BENZOQ-METH-MONOMER</td>\n      <td>bifunctional 2-octaprenyl-6-methoxy-1,4-benzoq...</td>\n      <td>0</td>\n      <td>0</td>\n      <td>0</td>\n      <td>0</td>\n    </tr>\n    <tr>\n      <th>...</th>\n      <td>...</td>\n      <td>...</td>\n      <td>...</td>\n      <td>...</td>\n      <td>...</td>\n      <td>...</td>\n    </tr>\n    <tr>\n      <th>4415</th>\n      <td>YTFR-MONOMER</td>\n      <td>galactofuranose ABC transporter putative ATP b...</td>\n      <td>0</td>\n      <td>0</td>\n      <td>0</td>\n      <td>0</td>\n    </tr>\n    <tr>\n      <th>4416</th>\n      <td>YTFT-MONOMER</td>\n      <td>galactofuranose ABC transporter putative membr...</td>\n      <td>0</td>\n      <td>0</td>\n      <td>0</td>\n      <td>0</td>\n    </tr>\n    <tr>\n      <th>4417</th>\n      <td>ZNUA-MONOMER</td>\n      <td>Zn&lt;sup&gt;2+&lt;/sup&gt; ABC transporter periplasmic bi...</td>\n      <td>0</td>\n      <td>0</td>\n      <td>0</td>\n      <td>0</td>\n    </tr>\n    <tr>\n      <th>4418</th>\n      <td>ZNUB-MONOMER</td>\n      <td>Zn&lt;sup&gt;2+&lt;/sup&gt; ABC transporter membrane subunit</td>\n      <td>0</td>\n      <td>0</td>\n      <td>0</td>\n      <td>0</td>\n    </tr>\n    <tr>\n      <th>4419</th>\n      <td>ZNUC-MONOMER</td>\n      <td>Zn&lt;sup&gt;2+&lt;/sup&gt; ABC transporter ATP binding su...</td>\n      <td>0</td>\n      <td>0</td>\n      <td>0</td>\n      <td>0</td>\n    </tr>\n  </tbody>\n</table>\n<p>4420 rows × 6 columns</p>\n</div>"
     },
     "execution_count": 2,
     "metadata": {},
     "output_type": "execute_result"
    }
   ],
   "source": [
    "# get a set of all monomers with an associated uniprot id\n",
    "proteins_df = pd.read_csv('reconstruction/ecoli/flat/proteins.tsv', sep='\\t').loc[:, [\"id\", \"common_name\"]]\n",
    "\n",
    "for column in [\"enzyme_reaction\", \"cofactors\", \"metal_features\", \"other_features\"]:\n",
    "    proteins_df[column] = 0\n",
    "    proteins_df[column] = proteins_df[column].astype(object)\n",
    "\n",
    "proteins_df"
   ],
   "metadata": {
    "collapsed": false,
    "ExecuteTime": {
     "end_time": "2023-07-26T20:40:14.833404Z",
     "start_time": "2023-07-26T20:40:14.776063Z"
    }
   }
  },
  {
   "cell_type": "markdown",
   "source": [
    "## Get relevant EcoCyc data and annotate protein monomer table"
   ],
   "metadata": {
    "collapsed": false
   }
  },
  {
   "cell_type": "code",
   "execution_count": 3,
   "outputs": [
    {
     "name": "stdout",
     "output_type": "stream",
     "text": [
      "{'@ptools-version': '27.0',\n",
      " '@xml:base': 'http://BioCyc.org/getxml?ECOLI:EG11333-MONOMER',\n",
      " 'Protein': {'@ID': 'ECOLI:EG11333-MONOMER',\n",
      "             '@detail': 'full',\n",
      "             '@frameid': 'EG11333-MONOMER',\n",
      "             '@orgid': 'ECOLI',\n",
      "             'catalyzes': {'Enzymatic-Reaction': {'@ID': 'ECOLI:ENZRXN0-7774',\n",
      "                                                  '@detail': 'low',\n",
      "                                                  '@frameid': 'ENZRXN0-7774',\n",
      "                                                  '@orgid': 'ECOLI',\n",
      "                                                  'common-name': {'#text': '2-octaprenylphenol '\n",
      "                                                                           '6-hydroxylase',\n",
      "                                                                  '@datatype': 'string'},\n",
      "                                                  'enzyme': {'Protein': {'@frameid': 'EG11333-MONOMER',\n",
      "                                                                         '@orgid': 'ECOLI',\n",
      "                                                                         '@resource': '#ECOLI:EG11333-MONOMER'}},\n",
      "                                                  'reaction': {'Reaction': {'@frameid': '2-OCTAPRENYLPHENOL-HYDROX-RXN',\n",
      "                                                                            '@orgid': 'ECOLI',\n",
      "                                                                            '@resource': 'getxml?ECOLI:2-OCTAPRENYLPHENOL-HYDROX-RXN'}}}},\n",
      "             'comment': {'#text': 'UbiI is a component of the Ubi complex '\n",
      "                                  'metabolon [<a '\n",
      "                                  'href=\"http://www.ncbi.nlm.nih.gov/pubmed/30686758\">Hajj19</a>].  '\n",
      "                                  'UbiI functions in the hydroxylation of the '\n",
      "                                  'C5 position during the aerobic biosynthesis '\n",
      "                                  'of ubiquinone-8.\\n'\n",
      "                                  '<p>\\n'\n",
      "                                  'UbiI predominantly localizes to the '\n",
      "                                  'cytosol.  The seven ubiquinone biosynthesis '\n",
      "                                  'proteins UbiE, UbiF, UbiG, UbiH, UbiI, '\n",
      "                                  'UbiJ, and UbiK form a 1 MDa complex in the '\n",
      "                                  'cytosol [<a '\n",
      "                                  'href=\"http://www.ncbi.nlm.nih.gov/pubmed/30686758\">Hajj19</a>].  \\n'\n",
      "                                  '<p>\\n'\n",
      "                                  'Purified UbiI is unstable; an inactive '\n",
      "                                  'truncated form was isolated and behaves '\n",
      "                                  'like a tetramer in solution.  The crystal '\n",
      "                                  'structure of this protein has been solved '\n",
      "                                  'at 2.0 &Aring; resolution.  Point mutants '\n",
      "                                  'in the predicted FAD binding site do not '\n",
      "                                  'complement a &Delta;<i>ubiI</i> mutant [<a '\n",
      "                                  'href=\"http://www.ncbi.nlm.nih.gov/pubmed/23709220\">Hajj13</a>].\\n'\n",
      "                                  '<p>\\n'\n",
      "                                  'Deletion of <i>ubiI</i> (<i>visC</i>) has '\n",
      "                                  'no effect on photosensitivity or aerobic '\n",
      "                                  'respiration [<a '\n",
      "                                  'href=\"http://www.ncbi.nlm.nih.gov/pubmed/1339425\">Nakahigashi92</a>, '\n",
      "                                  '<a '\n",
      "                                  'href=\"http://www.ncbi.nlm.nih.gov/pubmed/23709220\">Hajj13</a>]; '\n",
      "                                  'however, a <i>ubiI</i> mutant strain '\n",
      "                                  'contains only 7% of wild type levels of '\n",
      "                                  'ubiquinone-8 and accumulates '\n",
      "                                  '3-octaprenyl-4-hydroxyphenol '\n",
      "                                  '(4-HP<sub>8</sub>) [<a '\n",
      "                                  'href=\"http://www.ncbi.nlm.nih.gov/pubmed/23709220\">Hajj13</a>].  '\n",
      "                                  'The residual C5 hydroxylase activity '\n",
      "                                  'appears to be provided by UbiF [<a '\n",
      "                                  'href=\"http://www.ncbi.nlm.nih.gov/pubmed/23709220\">Hajj13</a>].  '\n",
      "                                  'A &Delta;<i>ubiI</i>&Delta;<i>ubiK</i> '\n",
      "                                  'double mutant produces no detectable '\n",
      "                                  'ubiquinone and in contrast to the single '\n",
      "                                  'mutants, has a significant growth defect '\n",
      "                                  'when grown aerobically on rich medium and '\n",
      "                                  'does not grow on the non-fermentable carbon '\n",
      "                                  'sources oleate, acetate, and succinate [<a '\n",
      "                                  'href=\"http://www.ncbi.nlm.nih.gov/pubmed/29042439\">Agrawal17</a>].  '\n",
      "                                  'A <i>ubiI</i> null mutant shows increased '\n",
      "                                  'mean peak length duration of mechanically '\n",
      "                                  'induced calcium flux across the membrane '\n",
      "                                  '[<a '\n",
      "                                  'href=\"http://www.ncbi.nlm.nih.gov/pubmed/28808010\">Bruni17</a>].  '\n",
      "                                  'The requirement for <i>ubiI</i> and other '\n",
      "                                  'ubiquinone biosynthesis genes for growth in '\n",
      "                                  'long chain fatty acids (LCFAs) such as '\n",
      "                                  'oleate suggests that ubiquinone mitigates '\n",
      "                                  'oxidative stress generated during LCFA '\n",
      "                                  'degradation [<a '\n",
      "                                  'href=\"http://www.ncbi.nlm.nih.gov/pubmed/29042439\">Agrawal17</a>].\\n'\n",
      "                                  '<p>\\n'\n",
      "                                  'Radiotracer studies have suggested that '\n",
      "                                  'UbiA, UbiD, and UbiI can utilize '\n",
      "                                  '<i>p</i>-aminobenzoate or intermediates '\n",
      "                                  'derived from it as substrates [<a '\n",
      "                                  'href=\"http://www.ncbi.nlm.nih.gov/pubmed/25681964\">Xie15</a>].\\n'\n",
      "                                  '<p>\\n'\n",
      "                                  'Review: [<a '\n",
      "                                  'href=\"http://www.ncbi.nlm.nih.gov/pubmed/24480387\">Aussel14</a>]',\n",
      "                         '@datatype': 'string'},\n",
      "             'common-name': {'#text': '2-octaprenylphenol 6-hydroxylase',\n",
      "                             '@datatype': 'string'},\n",
      "             'component-of': {'Protein': {'@frameid': 'CPLX0-8301',\n",
      "                                          '@orgid': 'ECOLI',\n",
      "                                          '@resource': 'getxml?ECOLI:CPLX0-8301'}},\n",
      "             'credits': {'last-curated': [{'Organization': {'@frameid': 'SRI',\n",
      "                                                            '@orgid': 'ECOLI',\n",
      "                                                            '@resource': '#ECOLI:SRI'},\n",
      "                                           'Person': {'@ID': 'ECOLI:keseler',\n",
      "                                                      '@detail': 'full',\n",
      "                                                      '@frameid': 'keseler',\n",
      "                                                      '@orgid': 'ECOLI',\n",
      "                                                      'affiliations': {...},\n",
      "                                                      'common-name': {...},\n",
      "                                                      'email': {...}},\n",
      "                                           'date': {'#text': '2013-06-11',\n",
      "                                                    '@datatype': 'date'}},\n",
      "                                          {'Organization': {'@frameid': 'SRI',\n",
      "                                                            '@orgid': 'ECOLI',\n",
      "                                                            '@resource': '#ECOLI:SRI'},\n",
      "                                           'Person': {'@frameid': 'keseler',\n",
      "                                                      '@orgid': 'ECOLI',\n",
      "                                                      '@resource': '#ECOLI:keseler'},\n",
      "                                           'date': {'#text': '2017-09-01',\n",
      "                                                    '@datatype': 'date'}},\n",
      "                                          {'Organization': {'@frameid': 'SRI',\n",
      "                                                            '@orgid': 'ECOLI',\n",
      "                                                            '@resource': '#ECOLI:SRI'},\n",
      "                                           'Person': {'@frameid': 'keseler',\n",
      "                                                      '@orgid': 'ECOLI',\n",
      "                                                      '@resource': '#ECOLI:keseler'},\n",
      "                                           'date': {'#text': '2019-03-25',\n",
      "                                                    '@datatype': 'date'}}]},\n",
      "             'dblink': [{'dblink-URL': 'https://alphafold.ebi.ac.uk/entry/P25535',\n",
      "                         'dblink-db': 'ALPHAFOLD',\n",
      "                         'dblink-oid': 'P25535',\n",
      "                         'dblink-relationship': 'unification'},\n",
      "                        {'dblink-URL': 'http://www.ebi.ac.uk/interpro/entry/IPR036188',\n",
      "                         'dblink-db': 'INTERPRO',\n",
      "                         'dblink-oid': 'IPR036188',\n",
      "                         'dblink-relationship': 'IN-FAMILY'},\n",
      "                        {'dblink-URL': 'https://www.ebi.ac.uk/interpro/entry/pfam/PF01494',\n",
      "                         'dblink-db': 'PFAM',\n",
      "                         'dblink-oid': 'PF01494',\n",
      "                         'dblink-relationship': 'IN-FAMILY'},\n",
      "                        {'dblink-URL': 'http://www.rcsb.org/structure/4K22',\n",
      "                         'dblink-db': 'PDB',\n",
      "                         'dblink-oid': '4K22',\n",
      "                         'dblink-relationship': 'Structure'},\n",
      "                        {'dblink-URL': 'https://swissmodel.expasy.org/repository/uniprot/P25535',\n",
      "                         'dblink-db': 'SMR',\n",
      "                         'dblink-oid': 'P25535',\n",
      "                         'dblink-relationship': 'unification'},\n",
      "                        {'dblink-URL': 'http://www.ebi.ac.uk/interpro/entry/IPR010971',\n",
      "                         'dblink-db': 'INTERPRO',\n",
      "                         'dblink-oid': 'IPR010971',\n",
      "                         'dblink-relationship': 'IN-FAMILY'},\n",
      "                        {'dblink-URL': 'http://www.ebi.ac.uk/interpro/entry/IPR018168',\n",
      "                         'dblink-db': 'INTERPRO',\n",
      "                         'dblink-oid': 'IPR018168',\n",
      "                         'dblink-relationship': 'IN-FAMILY'},\n",
      "                        {'dblink-URL': 'http://www.ebi.ac.uk/interpro/entry/IPR002938',\n",
      "                         'dblink-db': 'INTERPRO',\n",
      "                         'dblink-oid': 'IPR002938',\n",
      "                         'dblink-relationship': 'IN-FAMILY'},\n",
      "                        {'dblink-URL': 'http://prosite.expasy.org/cgi-bin/prosite/nicedoc.pl?PS01304',\n",
      "                         'dblink-db': 'PROSITE',\n",
      "                         'dblink-oid': 'PS01304',\n",
      "                         'dblink-relationship': 'IN-FAMILY'},\n",
      "                        {'dblink-URL': 'http://www.ebi.ac.uk/pride/searchSummary.do?queryTypeSelected=identification%20accession%20number&identificationAccessionNumber=P25535',\n",
      "                         'dblink-db': 'PRIDE',\n",
      "                         'dblink-oid': 'P25535',\n",
      "                         'dblink-relationship': 'unification'},\n",
      "                        {'dblink-URL': 'http://pir.georgetown.edu/cgi-bin/pro/entry_pro?id=PRO_000024212',\n",
      "                         'dblink-db': 'PRODB',\n",
      "                         'dblink-oid': 'PRO_000024212',\n",
      "                         'dblink-relationship': 'unification'},\n",
      "                        {'dblink-URL': 'http://ecoliwiki.org/colipedia/index.php/b2906',\n",
      "                         'dblink-db': 'ECOLIWIKI',\n",
      "                         'dblink-oid': 'b2906',\n",
      "                         'dblink-relationship': 'unification'},\n",
      "                        {'dblink-URL': 'http://modbase.compbio.ucsf.edu/modbase-cgi/model_search.cgi?searchkw=name&kword=P25535',\n",
      "                         'dblink-db': 'MODBASE',\n",
      "                         'dblink-oid': 'P25535',\n",
      "                         'dblink-relationship': 'unification'},\n",
      "                        {'dblink-URL': 'http://www.ncbi.nlm.nih.gov/entrez/viewer.fcgi?val=NP_417382',\n",
      "                         'dblink-db': 'REFSEQ',\n",
      "                         'dblink-oid': 'NP_417382',\n",
      "                         'dblink-relationship': 'unification'},\n",
      "                        {'dblink-URL': 'https://www.uniprot.org/uniprot/P25535',\n",
      "                         'dblink-db': 'UNIPROT',\n",
      "                         'dblink-oid': 'P25535',\n",
      "                         'dblink-relationship': 'unification'}],\n",
      "             'gene': {'Gene': {'@frameid': 'EG11333',\n",
      "                               '@orgid': 'ECOLI',\n",
      "                               '@resource': 'getxml?ECOLI:EG11333'}},\n",
      "             'has-feature': [{'Feature': {'@ID': 'ECOLI:FTR0-1605473',\n",
      "                                          '@detail': 'full',\n",
      "                                          '@frameid': 'FTR0-1605473',\n",
      "                                          '@orgid': 'ECOLI',\n",
      "                                          'accession-1': {'#text': 'PF01494.22',\n",
      "                                                          '@datatype': 'string'},\n",
      "                                          'evidence': {'Evidence-Code': {...},\n",
      "                                                       'Publication': {...}},\n",
      "                                          'feature-of': {'Protein': {...}},\n",
      "                                          'left-end-position': {'#text': '4',\n",
      "                                                                '@datatype': 'integer'},\n",
      "                                          'parent': {'Feature': {...}},\n",
      "                                          'right-end-position': {'#text': '344',\n",
      "                                                                 '@datatype': 'integer'}}},\n",
      "                             {'Feature': {'@ID': 'ECOLI:FTR0-1587742',\n",
      "                                          '@detail': 'full',\n",
      "                                          '@frameid': 'FTR0-1587742',\n",
      "                                          '@orgid': 'ECOLI',\n",
      "                                          'alternate-sequence': {'#text': 'A',\n",
      "                                                                 '@datatype': 'string'},\n",
      "                                          'comment': {'#text': 'UniProt: In '\n",
      "                                                               'Ref. 1; '\n",
      "                                                               'BAA14327..',\n",
      "                                                      '@datatype': 'string'},\n",
      "                                          'evidence': [{...}, {...}],\n",
      "                                          'feature-of': {'Protein': {...}},\n",
      "                                          'left-end-position': {'#text': '383',\n",
      "                                                                '@datatype': 'integer'},\n",
      "                                          'parent': {'Feature': {...}},\n",
      "                                          'right-end-position': {'#text': '383',\n",
      "                                                                 '@datatype': 'integer'}}},\n",
      "                             {'Feature': {'@ID': 'ECOLI:FTR0-1587741',\n",
      "                                          '@detail': 'full',\n",
      "                                          '@frameid': 'FTR0-1587741',\n",
      "                                          '@orgid': 'ECOLI',\n",
      "                                          'alternate-sequence': {'#text': 'A',\n",
      "                                                                 '@datatype': 'string'},\n",
      "                                          'comment': {'#text': 'UniProt: In '\n",
      "                                                               'Ref. 1; '\n",
      "                                                               'BAA14327..',\n",
      "                                                      '@datatype': 'string'},\n",
      "                                          'evidence': [{...}, {...}],\n",
      "                                          'feature-of': {'Protein': {...}},\n",
      "                                          'left-end-position': {'#text': '26',\n",
      "                                                                '@datatype': 'integer'},\n",
      "                                          'parent': {'Feature': {...}},\n",
      "                                          'right-end-position': {'#text': '26',\n",
      "                                                                 '@datatype': 'integer'}}},\n",
      "                             {'Feature': {'@ID': 'ECOLI:FTR0-1587740',\n",
      "                                          '@detail': 'full',\n",
      "                                          '@frameid': 'FTR0-1587740',\n",
      "                                          '@orgid': 'ECOLI',\n",
      "                                          'alternate-sequence': {'#text': 'AVD',\n",
      "                                                                 '@datatype': 'string'},\n",
      "                                          'comment': {'#text': 'UniProt: Leads '\n",
      "                                                               'to the same '\n",
      "                                                               'phenotype as '\n",
      "                                                               'the ubiI '\n",
      "                                                               'deletion '\n",
      "                                                               'mutant, '\n",
      "                                                               'indicating a '\n",
      "                                                               'strongly '\n",
      "                                                               'impaired '\n",
      "                                                               'catalytic '\n",
      "                                                               'activity..',\n",
      "                                                      '@datatype': 'string'},\n",
      "                                          'evidence': {'Evidence-Code': {...},\n",
      "                                                       'Publication': {...}},\n",
      "                                          'feature-of': {'Protein': {...}},\n",
      "                                          'left-end-position': {'#text': '301',\n",
      "                                                                '@datatype': 'integer'},\n",
      "                                          'parent': {'Feature': {...}},\n",
      "                                          'right-end-position': {'#text': '303',\n",
      "                                                                 '@datatype': 'integer'}}},\n",
      "                             {'Feature': {'@ID': 'ECOLI:FTR0-1587739',\n",
      "                                          '@detail': 'full',\n",
      "                                          '@frameid': 'FTR0-1587739',\n",
      "                                          '@orgid': 'ECOLI',\n",
      "                                          'attached-group': {'Compound': {...}},\n",
      "                                          'comment': {'#text': 'UniProt: FAD.',\n",
      "                                                      '@datatype': 'string'},\n",
      "                                          'evidence': {'Evidence-Code': {...},\n",
      "                                                       'Publication': {...}},\n",
      "                                          'feature-of': {'Protein': {...}},\n",
      "                                          'left-end-position': {'#text': '297',\n",
      "                                                                '@datatype': 'integer'},\n",
      "                                          'parent': {'Feature': {...}},\n",
      "                                          'right-end-position': {'#text': '303',\n",
      "                                                                 '@datatype': 'integer'}}},\n",
      "                             {'Feature': {'@ID': 'ECOLI:FTR0-1587738',\n",
      "                                          '@detail': 'full',\n",
      "                                          '@frameid': 'FTR0-1587738',\n",
      "                                          '@orgid': 'ECOLI',\n",
      "                                          'attached-group': {'Compound': {...}},\n",
      "                                          'comment': {'#text': 'UniProt: FAD.',\n",
      "                                                      '@datatype': 'string'},\n",
      "                                          'evidence': {'Evidence-Code': {...},\n",
      "                                                       'Publication': {...}},\n",
      "                                          'feature-of': {'Protein': {...}},\n",
      "                                          'left-end-position': {'#text': '49',\n",
      "                                                                '@datatype': 'integer'},\n",
      "                                          'parent': {'Feature': {...}},\n",
      "                                          'right-end-position': {'#text': '52',\n",
      "                                                                 '@datatype': 'integer'}}},\n",
      "                             {'Feature': {'@ID': 'ECOLI:FTR0-1552193',\n",
      "                                          '@detail': 'full',\n",
      "                                          '@frameid': 'FTR0-1552193',\n",
      "                                          '@orgid': 'ECOLI',\n",
      "                                          'comment': {'#text': 'N6-acetyllysine '\n",
      "                                                               'site '\n",
      "                                                               'upregulated '\n",
      "                                                               '(log<SUB>2</SUB>(fold-change) '\n",
      "                                                               '=  3.20) by '\n",
      "                                                               'YfiQ; digests '\n",
      "                                                               'by trypsin',\n",
      "                                                      '@datatype': 'string'},\n",
      "                                          'evidence': {'Evidence-Code': {...},\n",
      "                                                       'Publication': {...}},\n",
      "                                          'feature-of': {'Protein': {...}},\n",
      "                                          'parent': {'Feature': {...}},\n",
      "                                          'residue-number': {'#text': '373',\n",
      "                                                             '@datatype': 'integer'}}}],\n",
      "             'has-go-term': [{'GO-Term': {'@class': 'true',\n",
      "                                          '@frameid': 'GO:0016705',\n",
      "                                          '@orgid': 'ECOLI',\n",
      "                                          '@resource': 'getxml?ECOLI:GO:0016705'},\n",
      "                              'evidence': {'Evidence-Code': {'@class': 'true',\n",
      "                                                             '@frameid': 'EV-COMP-AINF',\n",
      "                                                             '@orgid': 'ECOLI',\n",
      "                                                             '@resource': '#ECOLI:EV-COMP-AINF'},\n",
      "                                           'Publication': {'@ID': 'ECOLI:PUB-GO_REF-0000002',\n",
      "                                                           '@detail': 'full',\n",
      "                                                           '@frameid': 'PUB-GO_REF-0000002',\n",
      "                                                           '@orgid': 'ECOLI',\n",
      "                                                           'author': [...],\n",
      "                                                           'title': {...},\n",
      "                                                           'url': {...},\n",
      "                                                           'year': {...}},\n",
      "                                           'with': {'#text': 'InterPro\\\\:IPR010971',\n",
      "                                                    '@datatype': 'string'}}},\n",
      "                             {'GO-Term': {'@class': 'true',\n",
      "                                          '@frameid': 'GO:0005737',\n",
      "                                          '@orgid': 'ECOLI',\n",
      "                                          '@resource': 'getxml?ECOLI:GO:0005737'},\n",
      "                              'evidence': [{'Evidence-Code': {...},\n",
      "                                            'Publication': {...},\n",
      "                                            'with': {...}},\n",
      "                                           {'Evidence-Code': {...},\n",
      "                                            'Publication': {...},\n",
      "                                            'with': {...}}]},\n",
      "                             {'GO-Term': {'@class': 'true',\n",
      "                                          '@frameid': 'GO:0071949',\n",
      "                                          '@orgid': 'ECOLI',\n",
      "                                          '@resource': 'getxml?ECOLI:GO:0071949'},\n",
      "                              'evidence': {'Evidence-Code': {'@class': 'true',\n",
      "                                                             '@frameid': 'EV-COMP-AINF',\n",
      "                                                             '@orgid': 'ECOLI',\n",
      "                                                             '@resource': '#ECOLI:EV-COMP-AINF'},\n",
      "                                           'Publication': {'@frameid': 'PUB-GO_REF-0000002',\n",
      "                                                           '@orgid': 'ECOLI',\n",
      "                                                           '@resource': '#ECOLI:PUB-GO_REF-0000002'},\n",
      "                                           'with': {'#text': 'InterPro\\\\:IPR002938',\n",
      "                                                    '@datatype': 'string'}}},\n",
      "                             {'GO-Term': {'@class': 'true',\n",
      "                                          '@frameid': 'GO:0050660',\n",
      "                                          '@orgid': 'ECOLI',\n",
      "                                          '@resource': 'getxml?ECOLI:GO:0050660'},\n",
      "                              'evidence': {'Evidence-Code': {'@class': 'true',\n",
      "                                                             '@frameid': 'EV-COMP-AINF',\n",
      "                                                             '@orgid': 'ECOLI',\n",
      "                                                             '@resource': '#ECOLI:EV-COMP-AINF'},\n",
      "                                           'Publication': {'@frameid': 'PUB-GO_REF-0000002',\n",
      "                                                           '@orgid': 'ECOLI',\n",
      "                                                           '@resource': '#ECOLI:PUB-GO_REF-0000002'},\n",
      "                                           'with': {'#text': 'InterPro\\\\:IPR010971',\n",
      "                                                    '@datatype': 'string'}}},\n",
      "                             {'GO-Term': {'@class': 'true',\n",
      "                                          '@frameid': 'GO:0016709',\n",
      "                                          '@orgid': 'ECOLI',\n",
      "                                          '@resource': 'getxml?ECOLI:GO:0016709'},\n",
      "                              'evidence': {'Evidence-Code': {'@class': 'true',\n",
      "                                                             '@frameid': 'EV-COMP-AINF',\n",
      "                                                             '@orgid': 'ECOLI',\n",
      "                                                             '@resource': '#ECOLI:EV-COMP-AINF'},\n",
      "                                           'Publication': {'@frameid': 'PUB-GO_REF-0000002',\n",
      "                                                           '@orgid': 'ECOLI',\n",
      "                                                           '@resource': '#ECOLI:PUB-GO_REF-0000002'},\n",
      "                                           'with': {'#text': 'InterPro\\\\:IPR018168',\n",
      "                                                    '@datatype': 'string'}}},\n",
      "                             {'GO-Term': {'@class': 'true',\n",
      "                                          '@frameid': 'GO:0016491',\n",
      "                                          '@orgid': 'ECOLI',\n",
      "                                          '@resource': 'getxml?ECOLI:GO:0016491'},\n",
      "                              'evidence': {'Evidence-Code': {'@class': 'true',\n",
      "                                                             '@frameid': 'EV-COMP-AINF',\n",
      "                                                             '@orgid': 'ECOLI',\n",
      "                                                             '@resource': '#ECOLI:EV-COMP-AINF'},\n",
      "                                           'Publication': {'@frameid': 'PUB-GO_REF-0000043',\n",
      "                                                           '@orgid': 'ECOLI',\n",
      "                                                           '@resource': '#ECOLI:PUB-GO_REF-0000043'},\n",
      "                                           'with': {'#text': 'SP_KW\\\\:KW-0560',\n",
      "                                                    '@datatype': 'string'}}},\n",
      "                             {'GO-Term': {'@class': 'true',\n",
      "                                          '@frameid': 'GO:0004497',\n",
      "                                          '@orgid': 'ECOLI',\n",
      "                                          '@resource': 'getxml?ECOLI:GO:0004497'},\n",
      "                              'evidence': {'Evidence-Code': {'@class': 'true',\n",
      "                                                             '@frameid': 'EV-COMP-AINF',\n",
      "                                                             '@orgid': 'ECOLI',\n",
      "                                                             '@resource': '#ECOLI:EV-COMP-AINF'},\n",
      "                                           'Publication': {'@frameid': 'PUB-GO_REF-0000043',\n",
      "                                                           '@orgid': 'ECOLI',\n",
      "                                                           '@resource': '#ECOLI:PUB-GO_REF-0000043'},\n",
      "                                           'with': {'#text': 'SP_KW\\\\:KW-0503',\n",
      "                                                    '@datatype': 'string'}}},\n",
      "                             {'GO-Term': {'@class': 'true',\n",
      "                                          '@frameid': 'GO:0110142',\n",
      "                                          '@orgid': 'ECOLI',\n",
      "                                          '@resource': 'getxml?ECOLI:GO:0110142'},\n",
      "                              'evidence': {'Evidence-Code': {'@ID': 'ECOLI:EV-EXP-IDA',\n",
      "                                                             '@class': 'true',\n",
      "                                                             '@detail': 'full',\n",
      "                                                             '@frameid': 'EV-EXP-IDA',\n",
      "                                                             '@orgid': 'ECOLI',\n",
      "                                                             'comment': {...},\n",
      "                                                             'common-name': {'#text': 'Inferred '\n",
      "                                                                                      'from '\n",
      "                                                                                      'direct '\n",
      "                                                                                      'assay',\n",
      "                                                                             '@datatype': 'string'},\n",
      "                                                             'parent': {...}},\n",
      "                                           'Publication': {'@ID': 'ECOLI:PUB-30686758',\n",
      "                                                           '@detail': 'full',\n",
      "                                                           '@frameid': 'PUB-30686758',\n",
      "                                                           '@orgid': 'ECOLI',\n",
      "                                                           'author': [...],\n",
      "                                                           'pubmed-id': {...},\n",
      "                                                           'source': {...},\n",
      "                                                           'title': {...},\n",
      "                                                           'year': {...}},\n",
      "                                           'with': {'@datatype': 'string'}}},\n",
      "                             {'GO-Term': {'@class': 'true',\n",
      "                                          '@frameid': 'GO:0005515',\n",
      "                                          '@orgid': 'ECOLI',\n",
      "                                          '@resource': 'getxml?ECOLI:GO:0005515'},\n",
      "                              'evidence': {'Evidence-Code': {'@ID': 'ECOLI:EV-EXP-IPI',\n",
      "                                                             '@class': 'true',\n",
      "                                                             '@detail': 'full',\n",
      "                                                             '@frameid': 'EV-EXP-IPI',\n",
      "                                                             '@orgid': 'ECOLI',\n",
      "                                                             'comment': {...},\n",
      "                                                             'common-name': {'#text': 'Inferred '\n",
      "                                                                                      'from '\n",
      "                                                                                      'physical '\n",
      "                                                                                      'interaction',\n",
      "                                                                             '@datatype': 'string'},\n",
      "                                                             'parent': {...}},\n",
      "                                           'Publication': {'@frameid': 'PUB-30686758',\n",
      "                                                           '@orgid': 'ECOLI',\n",
      "                                                           '@resource': '#ECOLI:PUB-30686758'},\n",
      "                                           'with': {'#text': 'UniProtKB\\\\:P0A887|UniProtKB\\\\:P75728|UniProtKB\\\\:P17993|UniProtKB\\\\:P25534|UniProtKB\\\\:P0ADP7',\n",
      "                                                    '@datatype': 'string'}}},\n",
      "                             {'GO-Term': {'@class': 'true',\n",
      "                                          '@frameid': 'GO:0005829',\n",
      "                                          '@orgid': 'ECOLI',\n",
      "                                          '@resource': 'getxml?ECOLI:GO:0005829'},\n",
      "                              'evidence': {'Evidence-Code': {'@class': 'true',\n",
      "                                                             '@frameid': 'EV-COMP-AINF',\n",
      "                                                             '@orgid': 'ECOLI',\n",
      "                                                             '@resource': '#ECOLI:EV-COMP-AINF'},\n",
      "                                           'Publication': {'@ID': 'ECOLI:PUB-19054114',\n",
      "                                                           '@detail': 'full',\n",
      "                                                           '@frameid': 'PUB-19054114',\n",
      "                                                           '@orgid': 'ECOLI',\n",
      "                                                           'author': [...],\n",
      "                                                           'pubmed-id': {...},\n",
      "                                                           'source': {...},\n",
      "                                                           'title': {...},\n",
      "                                                           'year': {...}},\n",
      "                                           'with': {'@datatype': 'string'}}},\n",
      "                             {'GO-Term': {'@class': 'true',\n",
      "                                          '@frameid': 'GO:0019168',\n",
      "                                          '@orgid': 'ECOLI',\n",
      "                                          '@resource': 'getxml?ECOLI:GO:0019168'},\n",
      "                              'evidence': [{'Evidence-Code': {...},\n",
      "                                            'Publication': {...},\n",
      "                                            'with': {...}},\n",
      "                                           {'Evidence-Code': {...},\n",
      "                                            'Publication': {...},\n",
      "                                            'with': {...}},\n",
      "                                           {'Evidence-Code': {...},\n",
      "                                            'Publication': {...},\n",
      "                                            'with': {...}}]},\n",
      "                             {'GO-Term': {'@class': 'true',\n",
      "                                          '@frameid': 'GO:0006744',\n",
      "                                          '@orgid': 'ECOLI',\n",
      "                                          '@resource': 'getxml?ECOLI:GO:0006744'},\n",
      "                              'evidence': [{'Evidence-Code': {...},\n",
      "                                            'Publication': {...},\n",
      "                                            'with': {...}},\n",
      "                                           {'Evidence-Code': {...},\n",
      "                                            'Publication': {...},\n",
      "                                            'with': {...}},\n",
      "                                           {'Evidence-Code': {...},\n",
      "                                            'Publication': {...},\n",
      "                                            'with': {...}},\n",
      "                                           {'Evidence-Code': {...},\n",
      "                                            'Publication': {...},\n",
      "                                            'with': {...}},\n",
      "                                           {'Evidence-Code': {...},\n",
      "                                            'Publication': {...},\n",
      "                                            'with': {...}}]}],\n",
      "             'location': {'cco': {'@frameid': 'CCI-CYTOSOL-GN',\n",
      "                                  '@orgid': 'ECOLI',\n",
      "                                  '@resource': 'getxml?ECOLI:CCI-CYTOSOL-GN'}},\n",
      "             'molecular-weight-seq': {'#text': '44.245',\n",
      "                                      '@datatype': 'float',\n",
      "                                      '@units': 'kD'},\n",
      "             'parent': {'Protein': {'@class': 'true',\n",
      "                                    '@frameid': 'Polypeptides',\n",
      "                                    '@orgid': 'ECOLI',\n",
      "                                    '@resource': 'getxml?ECOLI:Polypeptides'}},\n",
      "             'species': {'Organism': {'@ID': 'ECOLI:ECOLI',\n",
      "                                      '@detail': 'full',\n",
      "                                      '@frameid': 'ECOLI',\n",
      "                                      '@orgid': 'ECOLI',\n",
      "                                      'citation': {'Publication': {'@ID': 'ECOLI:PUB-34394059',\n",
      "                                                                   '@detail': 'full',\n",
      "                                                                   '@frameid': 'PUB-34394059',\n",
      "                                                                   '@orgid': 'ECOLI',\n",
      "                                                                   'author': [{'#text': 'Keseler '\n",
      "                                                                                        'IM',\n",
      "                                                                               '@datatype': 'string'},\n",
      "                                                                              {'#text': 'Gama-Castro '\n",
      "                                                                                        'S',\n",
      "                                                                               '@datatype': 'string'},\n",
      "                                                                              {'#text': 'Mackie '\n",
      "                                                                                        'A',\n",
      "                                                                               '@datatype': 'string'},\n",
      "                                                                              {'#text': 'Billington '\n",
      "                                                                                        'R',\n",
      "                                                                               '@datatype': 'string'},\n",
      "                                                                              {'#text': 'Bonavides-Martinez '\n",
      "                                                                                        'C',\n",
      "                                                                               '@datatype': 'string'},\n",
      "                                                                              {'#text': 'Caspi '\n",
      "                                                                                        'R',\n",
      "                                                                               '@datatype': 'string'},\n",
      "                                                                              {'#text': 'Kothari '\n",
      "                                                                                        'A',\n",
      "                                                                               '@datatype': 'string'},\n",
      "                                                                              {'#text': 'Krummenacker '\n",
      "                                                                                        'M',\n",
      "                                                                               '@datatype': 'string'},\n",
      "                                                                              {'#text': 'Midford '\n",
      "                                                                                        'PE',\n",
      "                                                                               '@datatype': 'string'},\n",
      "                                                                              {'#text': 'Muniz-Rascado '\n",
      "                                                                                        'L',\n",
      "                                                                               '@datatype': 'string'},\n",
      "                                                                              {'#text': 'Ong '\n",
      "                                                                                        'WK',\n",
      "                                                                               '@datatype': 'string'},\n",
      "                                                                              {'#text': 'Paley '\n",
      "                                                                                        'S',\n",
      "                                                                               '@datatype': 'string'},\n",
      "                                                                              {'#text': 'Santos-Zavaleta '\n",
      "                                                                                        'A',\n",
      "                                                                               '@datatype': 'string'},\n",
      "                                                                              {'#text': 'Subhraveti '\n",
      "                                                                                        'P',\n",
      "                                                                               '@datatype': 'string'},\n",
      "                                                                              {'#text': 'Tierrafria '\n",
      "                                                                                        'VH',\n",
      "                                                                               '@datatype': 'string'},\n",
      "                                                                              {'#text': 'Wolfe '\n",
      "                                                                                        'AJ',\n",
      "                                                                               '@datatype': 'string'},\n",
      "                                                                              {'#text': 'Collado-Vides '\n",
      "                                                                                        'J',\n",
      "                                                                               '@datatype': 'string'},\n",
      "                                                                              {'#text': 'Paulsen '\n",
      "                                                                                        'IT',\n",
      "                                                                               '@datatype': 'string'},\n",
      "                                                                              {'#text': 'Karp '\n",
      "                                                                                        'PD',\n",
      "                                                                               '@datatype': 'string'}],\n",
      "                                                                   'doi-id': {'#text': '10.3389/fmicb.2021.711077',\n",
      "                                                                              '@datatype': 'string'},\n",
      "                                                                   'pubmed-id': {'#text': '34394059',\n",
      "                                                                                 '@datatype': 'string'},\n",
      "                                                                   'source': {'#text': 'Front '\n",
      "                                                                                       'Microbiol '\n",
      "                                                                                       '12;711077',\n",
      "                                                                              '@datatype': 'string'},\n",
      "                                                                   'title': {'#text': 'The '\n",
      "                                                                                      'EcoCyc '\n",
      "                                                                                      'Database '\n",
      "                                                                                      'in '\n",
      "                                                                                      '2021.',\n",
      "                                                                             '@datatype': 'string'},\n",
      "                                                                   'year': {'#text': '2021',\n",
      "                                                                            '@datatype': 'integer'}}},\n",
      "                                      'comment': {'#text': 'EcoCyc is a '\n",
      "                                                           'model-organism '\n",
      "                                                           'database for '\n",
      "                                                           '<i>Escherichia '\n",
      "                                                           'coli</i> K-12 '\n",
      "                                                           'MG1655. For more '\n",
      "                                                           'information, see '\n",
      "                                                           'URL EcoCyc.org.\\n'\n",
      "                                                           '<p>\\n'\n",
      "                                                           'The <i>E. coli</i> '\n",
      "                                                           'genome sequence '\n",
      "                                                           'used in EcoCyc has '\n",
      "                                                           'been updated from '\n",
      "                                                           'version 2 to '\n",
      "                                                           'version 3, GenBank '\n",
      "                                                           'accession number '\n",
      "                                                           'U00096.3, for '\n",
      "                                                           'release 20.0 of '\n",
      "                                                           'EcoCyc. Despite '\n",
      "                                                           'the involvement of '\n",
      "                                                           'EcoCyc staff in '\n",
      "                                                           'ongoing updates to '\n",
      "                                                           'the U00096 record, '\n",
      "                                                           'some annotation '\n",
      "                                                           'differences may be '\n",
      "                                                           'found between '\n",
      "                                                           'U00096 and EcoCyc, '\n",
      "                                                           'such as due to '\n",
      "                                                           'recent updates to '\n",
      "                                                           'EcoCyc.',\n",
      "                                                  '@datatype': 'string'},\n",
      "                                      'common-name': {'#text': 'Escherichia '\n",
      "                                                               'coli',\n",
      "                                                      '@datatype': 'string'},\n",
      "                                      'dblink': [{'dblink-URL': 'http://www.ncbi.nlm.nih.gov/Taxonomy/Browser/wwwtax.cgi?mode=Info&id=511145',\n",
      "                                                  'dblink-db': 'NCBI-TAXONOMY-DB',\n",
      "                                                  'dblink-oid': '511145',\n",
      "                                                  'dblink-relationship': 'unification'},\n",
      "                                                 {'dblink-URL': 'http://genomesonline.org/projects?id=Gp0072557',\n",
      "                                                  'dblink-db': 'GOLD',\n",
      "                                                  'dblink-oid': 'Gp0072557',\n",
      "                                                  'dblink-relationship': 'unification'}],\n",
      "                                      'genome': {'Genetic-Element': {'@frameid': 'COLI-K12',\n",
      "                                                                     '@orgid': 'ECOLI',\n",
      "                                                                     '@resource': 'getxml?ECOLI:COLI-K12'}},\n",
      "                                      'parent': {'Organism': {'@class': 'true',\n",
      "                                                              '@frameid': 'TAX-511145',\n",
      "                                                              '@orgid': 'ECOLI',\n",
      "                                                              '@resource': 'getxml?ECOLI:TAX-511145'}},\n",
      "                                      'pgdb-author': [{'Person': {...}},\n",
      "                                                      {'Person': {...}},\n",
      "                                                      {'Person': {...}},\n",
      "                                                      {'Person': {...}},\n",
      "                                                      {'Person': {...}},\n",
      "                                                      {'Person': {...}},\n",
      "                                                      {'Person': {...}},\n",
      "                                                      {'Person': {...}},\n",
      "                                                      {'Person': {...}},\n",
      "                                                      {'Person': {...}},\n",
      "                                                      {'Person': {...}},\n",
      "                                                      {'Person': {...}},\n",
      "                                                      {'Person': {...}}],\n",
      "                                      'pgdb-copyright': {'#text': 'Copyright '\n",
      "                                                                  'SRI '\n",
      "                                                                  'International '\n",
      "                                                                  '1999-2023, '\n",
      "                                                                  'Marine '\n",
      "                                                                  'Biological '\n",
      "                                                                  'Laboratory '\n",
      "                                                                  '1998-2001, '\n",
      "                                                                  'DoubleTwist '\n",
      "                                                                  'Inc '\n",
      "                                                                  '1998-1999.  '\n",
      "                                                                  'All Rights '\n",
      "                                                                  'Reserved.',\n",
      "                                                         '@datatype': 'string'},\n",
      "                                      'pgdb-footer-citation': {'#text': '<a '\n",
      "                                                                        'href=\"https://www.frontiersin.org/articles/10.3389/fmicb.2021.711077/full\">Frontiers '\n",
      "                                                                        'in '\n",
      "                                                                        'Microbiology '\n",
      "                                                                        '2021</a>',\n",
      "                                                               '@datatype': 'string'},\n",
      "                                      'pgdb-name': {'#text': 'EcoCyc',\n",
      "                                                    '@datatype': 'string'},\n",
      "                                      'pgdb-tier': {'#text': '1',\n",
      "                                                    '@datatype': 'integer'},\n",
      "                                      'rank': 'strain',\n",
      "                                      'strain-name': {'#text': 'K-12 substr. '\n",
      "                                                               'MG1655',\n",
      "                                                      '@datatype': 'string'},\n",
      "                                      'synonym': {'#text': 'Escherichia coli '\n",
      "                                                           'K-12 substr. '\n",
      "                                                           'MG1655',\n",
      "                                                  '@datatype': 'string'}}},\n",
      "             'synonym': [{'#text': 'UbiI', '@datatype': 'string'},\n",
      "                         {'#text': 'VisC', '@datatype': 'string'}]},\n",
      " 'metadata': {'PGDB': {'@orgid': 'ECOLI',\n",
      "                       '@version': '27.0',\n",
      "                       'dblink': {'dblink-URL': 'http://www.ncbi.nlm.nih.gov/Taxonomy/Browser/wwwtax.cgi?mode=Info&id=511145',\n",
      "                                  'dblink-db': 'NCBI-TAXONOMY-DB',\n",
      "                                  'dblink-oid': '511145',\n",
      "                                  'dblink-relationship': 'unification'},\n",
      "                       'species': {'#text': 'Escherichia coli',\n",
      "                                   '@datatype': 'string'},\n",
      "                       'strain': {'#text': 'K-12 substr. MG1655',\n",
      "                                  '@datatype': 'string'}},\n",
      "              'num_results': '1',\n",
      "              'query': 'ECOLI:EG11333-MONOMER',\n",
      "              'service_name': 'getxml',\n",
      "              'url': 'http://BioCyc.org/'}}\n"
     ]
    }
   ],
   "source": [
    "# example entry\n",
    "protein = 'EG11333-MONOMER'\n",
    "req_str = f'https://websvc.biocyc.org/getxml?id=ECOLI:{protein}&detail=high'\n",
    "\n",
    "r = s.get(req_str)\n",
    "if r.status_code != 200:\n",
    "    print(protein, r.status_code)\n",
    "\n",
    "o = xmltodict.parse(r.content)['ptools-xml']\n",
    "pp.pprint(o)"
   ],
   "metadata": {
    "collapsed": false,
    "ExecuteTime": {
     "end_time": "2023-07-26T20:40:15.141393Z",
     "start_time": "2023-07-26T20:40:14.804741Z"
    }
   }
  },
  {
   "cell_type": "code",
   "execution_count": null,
   "outputs": [
    {
     "name": "stdout",
     "output_type": "stream",
     "text": [
      "0\n"
     ]
    }
   ],
   "source": [
    "for i in range(len(proteins_df.index)):\n",
    "    if i % 100 == 0:\n",
    "        print(i)\n",
    "\n",
    "    protein = proteins_df.loc[i, 'id']\n",
    "    proteins_df.at[i, 'other_features'] = set()\n",
    "    proteins_df.at[i, 'metal_features'] = set()\n",
    "    proteins_df.at[i, 'enzyme_reaction'] = set()\n",
    "    proteins_df.at[i, 'cofactors'] = set()\n",
    "\n",
    "    req_str = f'https://websvc.biocyc.org/getxml?id=ECOLI:{protein}&detail=high'\n",
    "\n",
    "\n",
    "\n",
    "    r = s.get(req_str)\n",
    "    if r.status_code != 200:\n",
    "        print(protein, r.status_code)\n",
    "        continue\n",
    "\n",
    "    o = xmltodict.parse(r.content)['ptools-xml']\n",
    "\n",
    "    metal_set = set()\n",
    "    other_feature_set = set()\n",
    "    if 'Protein' in o and 'has-feature' in o['Protein']:\n",
    "        features = o['Protein']['has-feature']\n",
    "\n",
    "        if type(features) is dict:\n",
    "            features = [features]\n",
    "\n",
    "        for feature in features:\n",
    "            if 'parent' not in feature['Feature']:\n",
    "                continue\n",
    "\n",
    "            category = feature['Feature']['parent']['Feature']['@frameid']\n",
    "            if category == 'Metal-Binding-Sites' and 'comment' in feature['Feature']:\n",
    "\n",
    "                # Detect match to any of the allowed metal names and allowed cofactor names and add to list\n",
    "                comment = feature['Feature']['comment']['#text']\n",
    "                metal_set.add(comment)\n",
    "\n",
    "                proteins_df.at[i, 'metal_features'] = list(metal_set)\n",
    "\n",
    "            if category == 'Nucleotide-Phosphate-Binding-Regions' and 'attached-group' in feature['Feature'] and 'Compound' in feature['Feature']['attached-group']:\n",
    "                attached_group = feature['Feature']['attached-group']['Compound']['@frameid']\n",
    "                other_feature_set.add(attached_group)\n",
    "\n",
    "            if category == 'N6-pyridoxal-phosphate-Lys-Modifications':\n",
    "                other_feature_set.add('PYRIDOXAL_PHOSPHATE')\n",
    "\n",
    "            if category == 'Protein-Segments' and 'comment' in feature['Feature'] and 'Thiamine' in feature['Feature']['comment']['#text']:\n",
    "                other_feature_set.add('THIAMINE-PYROPHOSPHATE')\n",
    "\n",
    "            if category == 'Selenocysteine-site':\n",
    "                metal_set.add('L-SELENOCYSTEINE')\n",
    "\n",
    "            proteins_df.at[i, 'metal_features'] = list(metal_set)\n",
    "            proteins_df.at[i, 'other_features'] = list(other_feature_set)\n",
    "\n",
    "        if 'catalyzes' in o['Protein']:\n",
    "            oc = o['Protein']['catalyzes']['Enzymatic-Reaction']\n",
    "\n",
    "            if type(oc) is dict:\n",
    "                oc = [oc]\n",
    "\n",
    "            cofactor_set = set()\n",
    "            enz_rxn_set = set()\n",
    "\n",
    "            for enzrxn in oc:\n",
    "                enz_id = enzrxn['@frameid']\n",
    "\n",
    "                enz_rxn_set.add(enz_id)\n",
    "\n",
    "                enz_req_str = f'https://websvc.biocyc.org/getxml?id=ECOLI:{enz_id}&detail=high'\n",
    "\n",
    "                rz = s.get(enz_req_str)\n",
    "                oe = xmltodict.parse(rz.content)['ptools-xml']['Enzymatic-Reaction']\n",
    "\n",
    "                if \"cofactor\" in oe:\n",
    "                    oe = oe['cofactor']\n",
    "\n",
    "                    if type(oe) is dict:\n",
    "                        oe = [oe]\n",
    "\n",
    "                    for cofactor in oe:\n",
    "                        cof = cofactor['Compound']['@frameid']\n",
    "                        cofactor_set.add(cof)\n",
    "\n",
    "            proteins_df.at[i, 'enzyme_reaction'] = enz_rxn_set\n",
    "            proteins_df.at[i, 'cofactors'] = cofactor_set\n",
    "\n",
    "\n"
   ],
   "metadata": {
    "collapsed": false,
    "is_executing": true,
    "ExecuteTime": {
     "start_time": "2023-07-26T20:40:15.144700Z"
    }
   }
  },
  {
   "cell_type": "code",
   "execution_count": null,
   "outputs": [],
   "source": [
    "proteins_df"
   ],
   "metadata": {
    "collapsed": false,
    "is_executing": true
   }
  },
  {
   "cell_type": "code",
   "execution_count": null,
   "outputs": [],
   "source": [
    "# proteins_df.to_parquet('notebooks/fbagd/data/raw_protein_features.parquet', index=False)"
   ],
   "metadata": {
    "collapsed": false,
    "is_executing": true
   }
  },
  {
   "cell_type": "markdown",
   "source": [
    "## Reload protein feature table"
   ],
   "metadata": {
    "collapsed": false
   }
  },
  {
   "cell_type": "code",
   "execution_count": null,
   "outputs": [],
   "source": [
    "# proteins_df = pd.read_parquet('notebooks/fbagd/data/raw_protein_features.parquet')\n",
    "# proteins_df['metal_features'] = proteins_df['metal_features'].apply(ast.literal_eval)\n",
    "# # for rows of proteins with where other_features is set, convert from string to set with literal_eval\n",
    "# proteins_df.loc[proteins_df['other_features'].str.startswith('['), 'other_features'] = \\\n",
    "#     proteins_df.loc[proteins_df['other_features'].str.startswith('['), 'other_features'].apply(ast.literal_eval)\n",
    "\n",
    "filter_protein_df = proteins_df.copy().loc[:, ['id', 'common_name', 'metal_features', 'other_features', 'enzyme_reaction', 'cofactors']]\n",
    "filter_protein_df"
   ],
   "metadata": {
    "collapsed": false,
    "is_executing": true
   }
  },
  {
   "cell_type": "markdown",
   "source": [
    "## Process raw EcoCyc annotations into standard EcoCyc names"
   ],
   "metadata": {
    "collapsed": false
   }
  },
  {
   "cell_type": "code",
   "execution_count": null,
   "outputs": [],
   "source": [
    "ALLOWED_METAL_NAMES =   {'Iron': 'FE+2', 'Cobalt': 'CO+2', 'Copper': 'CU+2', 'Manganese': 'MN+2', 'Molybdenum': 'CPD-8123', 'Nickel': 'NI+2', 'Tungsten': 'W', 'Zinc': 'ZN+2',\n",
    "                        'Calcium': 'CA+2', 'Magnesium': 'MG+2', 'Sodium': 'NA+', 'Potassium': 'K+',\n",
    "                        'Iron-sulfur \\(4Fe-4S\\)': 'CPD-7', 'Iron-sulfur \\(2Fe-2S\\)': 'CPD-6',\n",
    "                         'Iron-sulfur \\(4Fe-4S-S-AdoMet\\)': 'CPD-7', 'Iron-sulfur \\(3Fe-4S\\)': '3FE-4S', 'Iron-oxo-sulfur \\(4Fe-2O-2S\\)': 'CPD-7',\n",
    "                        'heme': 'Heme-b', 'Molybdate': 'CPD-3', 'heme B': 'Heme-b',\n",
    "                         'L-SELENOCYSTEINE': 'L-SELENOCYSTEINE',\n",
    "                        'Divalent metal cation': 'Any+2'}\n",
    "\n",
    "# remove all \\ characters from keys in ALLOWED_METAL_NAMES\n",
    "NON_REGEX_METAL = {key.replace('\\\\', ''): value for key, value in ALLOWED_METAL_NAMES.items()}\n",
    "\n",
    "filter_protein_df['metal_features_processed'] = 0\n",
    "filter_protein_df['metal_features_processed'] = filter_protein_df['metal_features_processed'].astype(object)\n",
    "\n",
    "metal_pattern = '|'.join(ALLOWED_METAL_NAMES.keys())\n",
    "metal_regex = re.compile(f'(({metal_pattern})(\\s\\d[\\.,;]|[\\.,;]|\\s\\())')\n",
    "\n",
    "\n",
    "for i in range(len(filter_protein_df.index)):\n",
    "\n",
    "    metal_binding = filter_protein_df.loc[i, 'metal_features']\n",
    "\n",
    "    metal_count_dict = {}\n",
    "    existing_matches = set()\n",
    "\n",
    "    for feature in metal_binding:\n",
    "        matches = metal_regex.search(feature)\n",
    "        if matches:\n",
    "            metal = matches.group(0)[:-1]\n",
    "\n",
    "            # eliminate duplicates\n",
    "            if metal not in existing_matches:\n",
    "\n",
    "                existing_matches.add(metal)\n",
    "\n",
    "                if 'heme' in feature:\n",
    "                    metal = metal.replace('Iron', 'heme')\n",
    "\n",
    "                # check if last char of metal is a number, then crop\n",
    "                if metal[-1].isdigit():\n",
    "                    metal = metal[:-2]\n",
    "\n",
    "                metal = metal.strip()\n",
    "\n",
    "                # replace metal name with allowed metal name\n",
    "                metal = NON_REGEX_METAL[metal]\n",
    "\n",
    "                if metal in metal_count_dict:\n",
    "                    metal_count_dict[metal] += 1\n",
    "                else:\n",
    "                    metal_count_dict[metal] = 1\n",
    "\n",
    "        else:\n",
    "            print(f'No match for {feature} in {filter_protein_df.loc[i, \"id\"]}')\n",
    "\n",
    "\n",
    "\n",
    "\n",
    "    filter_protein_df.at[i, 'metal_features_processed'] = metal_count_dict"
   ],
   "metadata": {
    "collapsed": false,
    "is_executing": true
   }
  },
  {
   "cell_type": "code",
   "execution_count": null,
   "outputs": [],
   "source": [
    "filter_protein_df = filter_protein_df.drop(columns=['metal_features'])\n",
    "filter_protein_df"
   ],
   "metadata": {
    "collapsed": false,
    "is_executing": true
   }
  },
  {
   "cell_type": "code",
   "execution_count": null,
   "outputs": [],
   "source": [
    "filter_protein_df['other_features_processed'] = 0\n",
    "filter_protein_df['other_features_processed'] = filter_protein_df['other_features_processed'].astype(object)\n",
    "\n",
    "ACCEPTED_OTHER_FEATURES = {'PYRIDOXAL_PHOSPHATE', 'THIAMINE-PYROPHOSPHATE', 'FMN', 'FAD'}\n",
    "\n",
    "for i in range(len(filter_protein_df.index)):\n",
    "\n",
    "    other_features = filter_protein_df.loc[i, 'other_features']\n",
    "\n",
    "    other_feature_count_dict = {}\n",
    "    existing_matches = set()\n",
    "\n",
    "    for feature in other_features:\n",
    "\n",
    "        # eliminate duplicates\n",
    "        if feature not in existing_matches:\n",
    "\n",
    "            existing_matches.add(feature)\n",
    "\n",
    "            if feature in ACCEPTED_OTHER_FEATURES:\n",
    "                if feature in other_feature_count_dict:\n",
    "                    other_feature_count_dict[feature] += 1\n",
    "                else:\n",
    "                    other_feature_count_dict[feature] = 1\n",
    "\n",
    "    filter_protein_df.at[i, 'other_features_processed'] = other_feature_count_dict"
   ],
   "metadata": {
    "collapsed": false,
    "is_executing": true
   }
  },
  {
   "cell_type": "code",
   "execution_count": null,
   "outputs": [],
   "source": [
    "filter_protein_df = filter_protein_df.drop(columns=['other_features'])\n",
    "\n",
    "filter_protein_df"
   ],
   "metadata": {
    "collapsed": false,
    "is_executing": true
   }
  },
  {
   "cell_type": "code",
   "execution_count": null,
   "outputs": [],
   "source": [
    "# filter_protein_df.to_parquet('notebooks/fbagd/data/processed_proteins.parquet', index=False)"
   ],
   "metadata": {
    "collapsed": false,
    "is_executing": true
   }
  },
  {
   "cell_type": "markdown",
   "source": [
    "# Annotate complexation with EcoCyc data"
   ],
   "metadata": {
    "collapsed": false
   }
  },
  {
   "cell_type": "code",
   "execution_count": null,
   "outputs": [],
   "source": [
    "complex_df = pd.read_csv('reconstruction/ecoli/flat/complexation_reactions.tsv', sep='\\t').loc[:, ['id', 'stoichiometry']]\n",
    "\n",
    "\n",
    "removed_complexes = pd.read_csv('reconstruction/ecoli/flat/complexation_reactions_removed.tsv', sep='\\t')\n",
    "\n",
    "# remove rows where id starts with '#'\n",
    "complex_df = complex_df[~complex_df['id'].str.startswith('#')].reset_index(drop=True)\n",
    "\n",
    "# remove rows of complex_df where id matches an id in removed_complexes\n",
    "complex_df = complex_df[~complex_df['id'].isin(removed_complexes['id'])].reset_index(drop=True)\n",
    "complex_df.stoichiometry = complex_df.stoichiometry.astype(object)\n",
    "\n",
    "\n",
    "for i, stoich in enumerate(complex_df.loc[:, 'stoichiometry']):\n",
    "\n",
    "    if type(stoich) is str and stoich[0] == '{':\n",
    "        stoich = stoich.replace('null', '-1')\n",
    "        stoich = ast.literal_eval(stoich)\n",
    "\n",
    "        complex_df.at[i, 'stoichiometry'] = stoich\n",
    "\n",
    "    else:\n",
    "        complex_df.at[i, 'stoichiometry'] = {}\n",
    "\n",
    "\n",
    "# for each row, find dict entry with positive value\n",
    "for i in range(len(complex_df.index)):\n",
    "\n",
    "    stoich = complex_df.loc[i, 'stoichiometry']\n",
    "\n",
    "    for k,v in stoich.items():\n",
    "        if v > 0:\n",
    "            complex_df.at[i, 'id'] = k\n",
    "\n",
    "complex_df"
   ],
   "metadata": {
    "collapsed": false,
    "is_executing": true
   }
  },
  {
   "cell_type": "code",
   "execution_count": null,
   "outputs": [],
   "source": [
    "complex_df[\"cofactors\"] = 0\n",
    "complex_df[\"cofactors\"] = complex_df[\"cofactors\"].astype(object)\n",
    "\n",
    "complex_df[\"enzyme_reaction\"] = 0\n",
    "complex_df[\"enzyme_reaction\"] = complex_df[\"enzyme_reaction\"].astype(object)\n",
    "\n",
    "for i in range(len(complex_df.index)):\n",
    "\n",
    "    if i % 100 == 0:\n",
    "        print(i)\n",
    "\n",
    "    complex = complex_df.loc[i, 'id']\n",
    "\n",
    "    req_str = f'https://websvc.biocyc.org/getxml?id=ECOLI:{complex}&detail=low'\n",
    "\n",
    "    r = s.get(req_str)\n",
    "    if r.status_code != 200:\n",
    "        print(complex, r.status_code)\n",
    "        complex_df.at[i, 'enzyme_reaction'] = set()\n",
    "        complex_df.at[i, 'cofactors'] = set()\n",
    "        continue\n",
    "\n",
    "    o = xmltodict.parse(r.content)['ptools-xml']['Protein']\n",
    "\n",
    "\n",
    "    # if enzyme\n",
    "    if 'catalyzes' in o:\n",
    "        o = o['catalyzes']['Enzymatic-Reaction']\n",
    "\n",
    "        if type(o) is dict:\n",
    "            o = [o]\n",
    "\n",
    "        cofactor_set = set()\n",
    "        enz_rxn_set = set()\n",
    "\n",
    "        for enzrxn in o:\n",
    "            enz_id = enzrxn['@frameid']\n",
    "\n",
    "            enz_rxn_set.add(enz_id)\n",
    "\n",
    "            enz_req_str = f'https://websvc.biocyc.org/getxml?id=ECOLI:{enz_id}&detail=high'\n",
    "\n",
    "            rz = s.get(enz_req_str)\n",
    "            oe = xmltodict.parse(rz.content)['ptools-xml']['Enzymatic-Reaction']\n",
    "\n",
    "            if \"cofactor\" in oe:\n",
    "                oe = oe['cofactor']\n",
    "\n",
    "                if type(oe) is dict:\n",
    "                    oe = [oe]\n",
    "\n",
    "                for cofactor in oe:\n",
    "                    cof = cofactor['Compound']['@frameid']\n",
    "                    cofactor_set.add(cof)\n",
    "\n",
    "        complex_df.at[i, 'enzyme_reaction'] = enz_rxn_set\n",
    "        complex_df.at[i, 'cofactors'] = cofactor_set\n",
    "\n",
    "    else:\n",
    "        complex_df.at[i, 'enzyme_reaction'] = set()\n",
    "        complex_df.at[i, 'cofactors'] = set()"
   ],
   "metadata": {
    "collapsed": false,
    "is_executing": true
   }
  },
  {
   "cell_type": "code",
   "execution_count": null,
   "outputs": [],
   "source": [
    "# save complex_df to parquet in a way that preserves dicts\n"
   ],
   "metadata": {
    "collapsed": false,
    "is_executing": true
   }
  },
  {
   "cell_type": "code",
   "execution_count": null,
   "outputs": [],
   "source": [
    "for col in ['enzyme_reaction', 'cofactors']:\n",
    "    complex_df[col] = complex_df[col].apply(lambda x: list(x))\n",
    "\n",
    "complex_df.to_parquet('notebooks/fbagd/data/raw_complexes.parquet', index=False, engine='fastparquet')\n",
    "complex_df"
   ],
   "metadata": {
    "collapsed": false,
    "is_executing": true
   }
  },
  {
   "cell_type": "markdown",
   "source": [
    "## Create new column for monomer component stoichiometry"
   ],
   "metadata": {
    "collapsed": false
   }
  },
  {
   "cell_type": "code",
   "execution_count": null,
   "outputs": [],
   "source": [
    "test_complex_df = pd.read_parquet('notebooks/fbagd/data/raw_complexes.parquet')\n",
    "test_complex_df\n",
    "\n",
    "# convert cofactors and enzyme_reaction to str\n",
    "for col in ['stoichiometry', 'enzyme_reaction', 'cofactors']:\n",
    "    test_complex_df[col] = test_complex_df[col].astype(str)\n",
    "\n",
    "    # interpret as str literal\n",
    "    test_complex_df[col] = test_complex_df[col].apply(lambda x: ast.literal_eval(x))\n",
    "\n",
    "test_complex_df\n",
    "\n",
    "complex_names = complex_df['id'].tolist()\n",
    "monomer_names = filter_protein_df['id'].tolist()"
   ],
   "metadata": {
    "collapsed": false,
    "is_executing": true
   }
  },
  {
   "cell_type": "code",
   "execution_count": null,
   "outputs": [],
   "source": [
    "def recursive_component_tree(current_component_name, complex_table, protein_table,\n",
    "                             current_multiplier=1, component_list=None, parent=None, return_cofactors=False):\n",
    "    \"\"\"\n",
    "    Recursively find all downstream components of a given complex.\n",
    "    \"\"\"\n",
    "\n",
    "    complex_names = complex_table['id'].tolist()\n",
    "    monomer_names = protein_table['id'].tolist()\n",
    "\n",
    "\n",
    "    my_children = {}\n",
    "\n",
    "    if component_list is None:\n",
    "        component_list = []\n",
    "\n",
    "\n",
    "    if current_component_name in complex_names:\n",
    "\n",
    "\n",
    "        cplx_idx = complex_table.index[complex_table['id'] == current_component_name][0]\n",
    "        stoichiometry = complex_table.at[cplx_idx, 'stoichiometry']\n",
    "\n",
    "        for component_name, coefficient in stoichiometry.items():\n",
    "\n",
    "            if coefficient < 0 and component_name != current_component_name:\n",
    "\n",
    "                child_multiplier = abs(coefficient) * current_multiplier\n",
    "\n",
    "                new_child = recursive_component_tree(component_name, complex_table, protein_table,\n",
    "                                                     child_multiplier, component_list, current_component_name, return_cofactors)\n",
    "                my_children = my_children | new_child\n",
    "\n",
    "\n",
    "            elif coefficient > 0 and component_name == current_component_name:\n",
    "                continue\n",
    "\n",
    "            else:\n",
    "                raise ValueError(f\"key {k} and value {v} for complex {component_name} not processed properly.\")\n",
    "\n",
    "        component_list.append({'name': current_component_name,'parent': parent, 'children': list(my_children.keys()),\n",
    "                               'multiplier': current_multiplier, })\n",
    "\n",
    "\n",
    "    elif current_component_name in monomer_names:\n",
    "\n",
    "        # TODO check if enzrxn\n",
    "        if return_cofactors:\n",
    "            protein_idx = protein_table.index[protein_table['id'] == current_component_name][0]\n",
    "\n",
    "            protein_metals = protein_table.at[protein_idx, 'metal_features_processed']\n",
    "            protein_other = protein_table.at[protein_idx, 'other_features_processed']\n",
    "\n",
    "            table_cofactors = protein_metals | protein_other\n",
    "\n",
    "            if len(table_cofactors) > 0:\n",
    "                my_children = {f'APO-{current_component_name}': 1}\n",
    "                component_list.append({'parent': current_component_name,\n",
    "                                       'name': f'APO-{current_component_name}',\n",
    "                                       'multiplier': current_multiplier,\n",
    "                                       'children': None})\n",
    "\n",
    "                for cofactor, cofactor_coefficient in table_cofactors.items():\n",
    "                    if table_cofactors[cofactor] !=  None:\n",
    "                        my_children[cofactor] = cofactor_coefficient\n",
    "                        component_list.append({'parent': current_component_name,\n",
    "                                               'name': cofactor,\n",
    "                                               'multiplier': current_multiplier * cofactor_coefficient,\n",
    "                                               'children': None})\n",
    "\n",
    "        else:\n",
    "            my_children = None\n",
    "\n",
    "        component_list.append({'parent': parent, 'name': current_component_name, 'multiplier': current_multiplier, 'children': list(my_children.keys())})\n",
    "\n",
    "    else:\n",
    "        print(f\"component {current_component_name} not found in complex or protein tables\")\n",
    "\n",
    "        return {}\n",
    "\n",
    "\n",
    "    if parent is None:\n",
    "        return {current_component_name: my_children}, component_list\n",
    "    else:\n",
    "        return {current_component_name: my_children}\n"
   ],
   "metadata": {
    "collapsed": false,
    "is_executing": true
   }
  },
  {
   "cell_type": "code",
   "execution_count": null,
   "outputs": [],
   "source": [
    "complex_tree_structure, nodes = recursive_component_tree('CPLX0-8167', complex_df, filter_protein_df)\n",
    "pp.pprint(nodes)"
   ],
   "metadata": {
    "collapsed": false,
    "is_executing": true
   }
  },
  {
   "cell_type": "code",
   "execution_count": null,
   "outputs": [],
   "source": [
    "complex_df['monomer_component_stoichiometry'] = 0\n",
    "complex_df['monomer_component_stoichiometry'] = complex_df['monomer_component_stoichiometry'].astype(object)\n",
    "\n",
    "for i in range(len(complex_df.index)):\n",
    "    complex_name = complex_df.loc[i, 'id']\n",
    "    complex_tree_structure, nodes = recursive_component_tree(complex_name, complex_df, filter_protein_df)\n",
    "\n",
    "    monomer_components = {node['name']: node['multiplier'] for node in nodes if node['children'] is None}\n",
    "\n",
    "    complex_df.at[i, 'monomer_component_stoichiometry'] = monomer_components"
   ],
   "metadata": {
    "collapsed": false,
    "is_executing": true
   }
  },
  {
   "cell_type": "code",
   "execution_count": null,
   "outputs": [],
   "source": [
    "filter_complex_df = complex_df.loc[:, [\"id\", \"monomer_component_stoichiometry\", \"cofactors\"]]\n",
    "filter_complex_df"
   ],
   "metadata": {
    "collapsed": false,
    "is_executing": true
   }
  },
  {
   "cell_type": "code",
   "execution_count": null,
   "outputs": [],
   "source": [
    "# filter_complex_df.to_parquet('notebooks/fbagd/data/processed_complexes.parquet', index=False)"
   ],
   "metadata": {
    "collapsed": false,
    "is_executing": true
   }
  },
  {
   "cell_type": "markdown",
   "source": [
    "# Get cofactor elemental composition and more"
   ],
   "metadata": {
    "collapsed": false
   }
  },
  {
   "cell_type": "code",
   "execution_count": null,
   "outputs": [],
   "source": [
    "# get set of all cofactors\n",
    "all_metal_cofactors = set()\n",
    "all_other_cofactors = set()\n",
    "\n",
    "for i in range(len(filter_protein_df.index)):\n",
    "\n",
    "    metal_cofactors = filter_protein_df.loc[i, 'metal_features_processed']\n",
    "    other_cofactors = filter_protein_df.loc[i, 'other_features_processed']\n",
    "\n",
    "    all_metal_cofactors = all_metal_cofactors | set(metal_cofactors.keys())\n",
    "    all_other_cofactors = all_other_cofactors | set(other_cofactors.keys())\n",
    "\n",
    "filter_cofactor_df = pd.DataFrame(columns=['id', 'elemental_composition'])\n",
    "filter_cofactor_df['id'] = list(all_metal_cofactors | all_other_cofactors)\n",
    "\n",
    "filter_cofactor_df['elemental_composition'] = 0\n",
    "filter_cofactor_df['elemental_composition'] = filter_cofactor_df['elemental_composition'].astype(object)\n",
    "\n",
    "# for each cofactor, get elemental composition\n",
    "for i in range(len(filter_cofactor_df.index)):\n",
    "\n",
    "    compound = filter_cofactor_df.loc[i, 'id']\n",
    "    atom_dict = {}\n",
    "\n",
    "    url_name = compound.replace('+', '%2b')\n",
    "\n",
    "    req_str = f'https://websvc.biocyc.org/getxml?id=ECOLI:{url_name}&detail=full'\n",
    "\n",
    "    r = s.get(req_str)\n",
    "    if r.status_code != 200:\n",
    "        print(compound, r.status_code)\n",
    "        filter_cofactor_df.at[i, 'elemental_composition'] = {}\n",
    "        continue\n",
    "\n",
    "    o = xmltodict.parse(r.content)['ptools-xml']\n",
    "\n",
    "    atoms = o['Compound']['cml']['molecule']['atomArray']['atom']\n",
    "    if type(atoms) is dict:\n",
    "        atoms = [atoms]\n",
    "\n",
    "    for atom in atoms:\n",
    "        element = atom['@elementType']\n",
    "\n",
    "        # either add new element or add to existing element\n",
    "        if element not in atom_dict:\n",
    "            atom_dict[element] = 1\n",
    "        else:\n",
    "            atom_dict[element] += 1\n",
    "\n",
    "    filter_cofactor_df.at[i, 'elemental_composition'] = atom_dict"
   ],
   "metadata": {
    "collapsed": false,
    "is_executing": true
   }
  },
  {
   "cell_type": "code",
   "execution_count": null,
   "outputs": [],
   "source": [
    "filter_cofactor_df"
   ],
   "metadata": {
    "collapsed": false,
    "is_executing": true
   }
  },
  {
   "cell_type": "code",
   "execution_count": null,
   "outputs": [],
   "source": [
    "# save as parquet\n",
    "# filter_cofactor_df.to_parquet('notebooks/fbagd/data/processed_cofactors.parquet', index=False)"
   ],
   "metadata": {
    "collapsed": false,
    "is_executing": true
   }
  },
  {
   "cell_type": "markdown",
   "source": [
    "# For each complex, look up components and check how many are missing from protein features."
   ],
   "metadata": {
    "collapsed": false
   }
  },
  {
   "cell_type": "code",
   "execution_count": null,
   "outputs": [],
   "source": [
    "# filter_protein_df = pd.read_parquet('notebooks/fbagd/data/processed_proteins.parquet')\n",
    "# filter_complex_df = pd.read_parquet('notebooks/fbagd/data/processed_complexes.parquet')\n",
    "# filter_cofactor_df = pd.read_parquet('notebooks/fbagd/data/processed_cofactors.parquet')"
   ],
   "metadata": {
    "collapsed": false,
    "is_executing": true
   }
  },
  {
   "cell_type": "code",
   "execution_count": null,
   "outputs": [],
   "source": [
    "filter_complex_df"
   ],
   "metadata": {
    "collapsed": false,
    "is_executing": true
   }
  },
  {
   "cell_type": "code",
   "execution_count": null,
   "outputs": [],
   "source": [
    " # for each complex, look up components and get cofactors for those components.\n",
    "for i in range(len(filter_complex_df.index)):\n",
    "    complex_id = filter_complex_df.loc[i, 'id']\n",
    "    complex_components = filter_complex_df.loc[i, 'monomer_component_stoichiometry']\n",
    "    complex_cofactors = filter_complex_df.loc[i, 'cofactors']\n",
    "\n",
    "    current_combined_features = set()\n",
    "\n",
    "\n",
    "    for component_name, component_count in complex_components.items():\n",
    "        # get index of component in filter_protein_df\n",
    "        component_index = filter_protein_df.index[filter_protein_df['id'] == component_name].tolist()[0]\n",
    "\n",
    "\n",
    "        component_metals = filter_protein_df.at[component_index, 'metal_features_processed']\n",
    "        component_other = filter_protein_df.at[component_index, 'other_features_processed']\n",
    "\n",
    "        current_combined_features.update(set(component_metals.keys()))\n",
    "        current_combined_features.update(set(component_other.keys()))\n",
    "\n",
    "        # print(f'component_name: {component_name}, component_metals: {component_metals}, component_other: {component_other}, cofactors: {complex_cofactors}')\n",
    "\n",
    "    # print difference between combined features and complex cofactors\n",
    "    if len(complex_cofactors - current_combined_features) > 0:\n",
    "        print(f'{complex_cofactors - current_combined_features}, {complex_id}, {current_combined_features}, {complex_cofactors}')\n",
    "\n",
    "\n",
    "    filter_complex_df.at[i, 'cofactors'] = complex_cofactors"
   ],
   "metadata": {
    "collapsed": false,
    "is_executing": true
   }
  },
  {
   "cell_type": "markdown",
   "source": [
    "Seems neglible. Let's just use the protein features."
   ],
   "metadata": {
    "collapsed": false
   }
  },
  {
   "cell_type": "markdown",
   "source": [
    "# Create matrices to get cofactor counts"
   ],
   "metadata": {
    "collapsed": false
   }
  },
  {
   "cell_type": "code",
   "execution_count": null,
   "outputs": [],
   "source": [
    "filter_protein_df"
   ],
   "metadata": {
    "collapsed": false,
    "is_executing": true
   }
  },
  {
   "cell_type": "code",
   "execution_count": null,
   "outputs": [],
   "source": [
    "# create protein name to index mapping\n",
    "protein_name_to_index = {}\n",
    "for i in range(len(filter_protein_df.index)):\n",
    "    protein_name_to_index[filter_protein_df.at[i, 'id']] = i\n",
    "\n",
    "# C matrix: complexes x proteins\n",
    "C = np.zeros((len(filter_complex_df.index), len(filter_protein_df.index)))\n",
    "\n",
    "for i in range(len(filter_complex_df.index)):\n",
    "\n",
    "    complex_components = filter_complex_df.loc[i, 'monomer_component_stoichiometry']\n",
    "\n",
    "    # TODO consider cofactors\n",
    "    # complex_cofactors = filter_complex_df.loc[i, 'cofactors']\n",
    "\n",
    "\n",
    "    for component_name, component_count in complex_components.items():\n",
    "        if component_count is not None:             # side effect of parquet\n",
    "            # get index of component in filter_protein_df\n",
    "            component_index = protein_name_to_index[component_name]\n",
    "\n",
    "            if filter_complex_df.at[i, 'id'] == 'APORNAP-CPLX':\n",
    "                print(f'component_name: {component_name}, component_count: {component_count}, component_index: {component_index}')\n",
    "\n",
    "            C[i, component_index] = component_count\n",
    "\n",
    "# append an identity matrix to C\n",
    "C = np.concatenate((C, np.identity(len(filter_protein_df.index))), axis=0)\n",
    "\n",
    "C_names = list(filter_complex_df['id']) + list(filter_protein_df['id'])"
   ],
   "metadata": {
    "collapsed": false,
    "is_executing": true
   }
  },
  {
   "cell_type": "code",
   "execution_count": null,
   "outputs": [],
   "source": [
    "filter_complex_df.at[99, 'id']"
   ],
   "metadata": {
    "collapsed": false,
    "is_executing": true
   }
  },
  {
   "cell_type": "code",
   "execution_count": null,
   "outputs": [],
   "source": [
    "# create cofactor name to index mapping\n",
    "cofactor_name_to_index = {}\n",
    "for i in range(len(filter_cofactor_df.index)):\n",
    "    cofactor_name_to_index[filter_cofactor_df.at[i, 'id']] = i\n",
    "\n",
    "cofactor_names = list(filter_cofactor_df['id'])\n",
    "\n",
    "# P matrix: proteins x cofactors\n",
    "P = np.zeros((len(filter_protein_df.index), len(filter_cofactor_df.index)))\n",
    "\n",
    "for i in range(len(filter_protein_df.index)):\n",
    "    protein_metals = filter_protein_df.loc[i, 'metal_features_processed']\n",
    "    protein_other = filter_protein_df.loc[i, 'other_features_processed']\n",
    "\n",
    "    for metal, count in protein_metals.items():\n",
    "        if count is not None:             # side effect of parquet\n",
    "            cofactor_index = cofactor_name_to_index[metal]\n",
    "            P[i, cofactor_index] = count\n",
    "\n",
    "    for other, count in protein_other.items():\n",
    "        if count is not None:             # side effect of parquet\n",
    "            cofactor_index = cofactor_name_to_index[other]\n",
    "            P[i, cofactor_index] = count\n"
   ],
   "metadata": {
    "collapsed": false,
    "is_executing": true
   }
  },
  {
   "cell_type": "code",
   "execution_count": null,
   "outputs": [],
   "source": [
    "P"
   ],
   "metadata": {
    "collapsed": false,
    "is_executing": true
   }
  },
  {
   "cell_type": "code",
   "execution_count": null,
   "outputs": [],
   "source": [
    "# create list of unique elements\n",
    "unique_elements = set()\n",
    "for i in range(len(filter_cofactor_df.index)):\n",
    "    cofactor = filter_cofactor_df.at[i, 'elemental_composition']\n",
    "    unique_elements.update(cofactor.keys())\n",
    "\n",
    "unique_elements = list(unique_elements)\n",
    "\n",
    "# create E matrix: cofactors x elements\n",
    "E = np.zeros((len(filter_cofactor_df.index), len(unique_elements)))\n",
    "\n",
    "for i in range(len(filter_cofactor_df.index)):\n",
    "    cofactor = filter_cofactor_df.at[i, 'elemental_composition']\n",
    "\n",
    "    for element, count in cofactor.items():\n",
    "        if count is not None:             # side effect of parquet\n",
    "            element_index = unique_elements.index(element)\n",
    "            E[i, element_index] = count"
   ],
   "metadata": {
    "collapsed": false,
    "is_executing": true
   }
  },
  {
   "cell_type": "code",
   "execution_count": null,
   "outputs": [],
   "source": [
    "unique_elements"
   ],
   "metadata": {
    "collapsed": false,
    "is_executing": true
   }
  },
  {
   "cell_type": "code",
   "execution_count": null,
   "outputs": [],
   "source": [
    "C_to_E = C @ P @ E"
   ],
   "metadata": {
    "collapsed": false,
    "is_executing": true
   }
  },
  {
   "cell_type": "code",
   "execution_count": null,
   "outputs": [],
   "source": [
    "C_names[1577]"
   ],
   "metadata": {
    "collapsed": false,
    "is_executing": true
   }
  },
  {
   "cell_type": "markdown",
   "source": [
    "# Now ... add the counts >:o"
   ],
   "metadata": {
    "collapsed": false
   }
  },
  {
   "cell_type": "code",
   "execution_count": null,
   "outputs": [],
   "source": [
    "time = '50'\n",
    "date = '2023-06-09'\n",
    "experiment = 'fba-redux'\n",
    "entry = f'{experiment}_{time}_{date}'\n",
    "folder = f'out/fbagd/{entry}/'"
   ],
   "metadata": {
    "collapsed": false,
    "is_executing": true
   }
  },
  {
   "cell_type": "code",
   "execution_count": null,
   "outputs": [],
   "source": [
    "output = np.load(folder + 'output.npy',allow_pickle='TRUE').item()\n",
    "# output = np.load(r\"out/geneRxnVerifData/output_glc.npy\", allow_pickle=True, encoding='ASCII').tolist()\n",
    "output = output['agents']['0']\n",
    "fba = output['listeners']['fba_results']\n",
    "mass = output['listeners']['mass']\n",
    "bulk = pd.DataFrame(output['bulk'])"
   ],
   "metadata": {
    "collapsed": false,
    "is_executing": true
   }
  },
  {
   "cell_type": "code",
   "execution_count": null,
   "outputs": [],
   "source": [
    "bulk"
   ],
   "metadata": {
    "collapsed": false,
    "is_executing": true
   }
  },
  {
   "cell_type": "code",
   "execution_count": null,
   "outputs": [],
   "source": [
    "f = open(folder + 'agent_steps.pkl', 'rb')\n",
    "agent = dill.load(f)\n",
    "f.close()\n",
    "\n",
    "metabolism = agent['ecoli-metabolism-redux']\n",
    "stoichiometry = metabolism.stoichiometry\n"
   ],
   "metadata": {
    "collapsed": false,
    "is_executing": true
   }
  },
  {
   "cell_type": "code",
   "execution_count": null,
   "outputs": [],
   "source": [
    "initial_state = json.load(open('data/wcecoli_t0.json'))\n",
    "\n",
    "bulk_ids = [item[0] for item in initial_state['bulk']]\n",
    "\n",
    "bulk.columns = bulk_ids"
   ],
   "metadata": {
    "collapsed": false,
    "is_executing": true
   }
  },
  {
   "cell_type": "code",
   "execution_count": null,
   "outputs": [],
   "source": [
    "ecocyc_to_wcm_map = {}\n",
    "\n",
    "# combined complex and protein names\n",
    "protein_names = list(filter_protein_df['id']) + list(filter_complex_df['id'])\n",
    "\n",
    "for name in protein_names:\n",
    "\n",
    "    # find complex name in bulk_ids\n",
    "    found = False\n",
    "\n",
    "    try:\n",
    "        idx = bulk_ids.index(name+'[c]')\n",
    "        ecocyc_to_wcm_map[name] = name+'[c]'\n",
    "        found = True\n",
    "        # print(f'found {complex_name} at {idx}')\n",
    "\n",
    "    except ValueError:\n",
    "        # delete key\n",
    "        found = False\n",
    "\n",
    "\n",
    "    if found == False:\n",
    "\n",
    "        for id in bulk_ids:\n",
    "            if name+'[' in id and bulk.loc[:, id].sum() > 0:\n",
    "                #print(f'found {name} in {id} with nonzero count')\n",
    "                ecocyc_to_wcm_map[name] = id\n",
    "                found = True\n",
    "                break           # ensures preferring nonzero counts\n",
    "\n",
    "            elif name+'[' in id:\n",
    "                # print(f'found {name} in {id} with zero count')\n",
    "                ecocyc_to_wcm_map[name] = id\n",
    "                found = True\n",
    "\n",
    "    if found == False:\n",
    "        ecocyc_to_wcm_map[name] = '--TRANS-ACENAPHTHENE-12-DIOL[j]' # should be none\n",
    "        print(f'could not find {name}')\n"
   ],
   "metadata": {
    "collapsed": false,
    "is_executing": true
   }
  },
  {
   "cell_type": "code",
   "execution_count": null,
   "outputs": [],
   "source": [
    "complex_wcm_names = [ecocyc_to_wcm_map[name] for name in C_names]\n",
    "\n",
    "counts = bulk.loc[0, complex_wcm_names]"
   ],
   "metadata": {
    "collapsed": false,
    "is_executing": true
   }
  },
  {
   "cell_type": "markdown",
   "source": [
    "# Finally ... add the counts >:o"
   ],
   "metadata": {
    "collapsed": false
   }
  },
  {
   "cell_type": "code",
   "execution_count": null,
   "outputs": [],
   "source": [
    "factored_cofactor_elements = np.array(counts).reshape(-1,1) * C @ P @ E"
   ],
   "metadata": {
    "collapsed": false,
    "is_executing": true
   }
  },
  {
   "cell_type": "code",
   "execution_count": null,
   "outputs": [],
   "source": [
    "factored_cofactor_elements"
   ],
   "metadata": {
    "collapsed": false,
    "is_executing": true
   }
  },
  {
   "cell_type": "code",
   "execution_count": null,
   "outputs": [],
   "source": [
    "{unique_elements[i]: factored_cofactor_elements.sum(axis=0)[i] for i in range(len(unique_elements))}"
   ],
   "metadata": {
    "collapsed": false,
    "is_executing": true
   }
  },
  {
   "cell_type": "code",
   "execution_count": null,
   "outputs": [],
   "source": [
    "C_names[4443]"
   ],
   "metadata": {
    "collapsed": false,
    "is_executing": true
   }
  },
  {
   "cell_type": "code",
   "execution_count": null,
   "outputs": [],
   "source": [
    "C_names.index('APORNAP-CPLX')"
   ],
   "metadata": {
    "collapsed": false,
    "is_executing": true
   }
  },
  {
   "cell_type": "code",
   "execution_count": null,
   "outputs": [],
   "source": [
    "factored_cofactor_elements[99,:]"
   ],
   "metadata": {
    "collapsed": false,
    "is_executing": true
   }
  },
  {
   "cell_type": "code",
   "execution_count": null,
   "outputs": [],
   "source": [
    "# get filter_complex_df idx of APORNAP-CPLX\n",
    "rnap_idx = filter_complex_df.index[filter_complex_df['id'] == 'APORNAP-CPLX'][0]\n",
    "\n",
    "rnap_stoich = filter_complex_df.at[rnap_idx, 'monomer_component_stoichiometry']\n",
    "\n",
    "for k,v in rnap_stoich.items():\n",
    "    if v is not None:\n",
    "        print(k,v)"
   ],
   "metadata": {
    "collapsed": false,
    "is_executing": true
   }
  },
  {
   "cell_type": "code",
   "execution_count": null,
   "outputs": [],
   "source": [
    "complex_tree_structure, nodes = recursive_component_tree('APORNAP-CPLX', complex_df, filter_protein_df)\n",
    "pp.pprint(nodes)"
   ],
   "metadata": {
    "collapsed": false,
    "is_executing": true
   }
  },
  {
   "cell_type": "code",
   "execution_count": null,
   "outputs": [],
   "source": [
    "ecocyc_to_wcm_map['APORNAP-CPLX']"
   ],
   "metadata": {
    "collapsed": false,
    "is_executing": true
   }
  },
  {
   "cell_type": "code",
   "execution_count": null,
   "outputs": [],
   "source": [
    "bulk.loc[0, 'APORNAP-CPLX[c]']"
   ],
   "metadata": {
    "collapsed": false,
    "is_executing": true
   }
  },
  {
   "cell_type": "code",
   "execution_count": null,
   "outputs": [],
   "source": [
    "filter_complex_df[filter_complex_df['id'] == 'APORNAP-CPLX']"
   ],
   "metadata": {
    "collapsed": false,
    "is_executing": true
   }
  },
  {
   "cell_type": "code",
   "execution_count": null,
   "outputs": [],
   "source": [
    "rpoc_idx = filter_protein_df.index[filter_protein_df['id'] == 'RPOC-MONOMER'][0]\n",
    "\n",
    "filter_protein_df.at[rpoc_idx, 'metal_features_processed']"
   ],
   "metadata": {
    "collapsed": false,
    "is_executing": true
   }
  },
  {
   "cell_type": "code",
   "execution_count": null,
   "outputs": [],
   "source": [
    "C[99,4108]"
   ],
   "metadata": {
    "collapsed": false,
    "is_executing": true
   }
  },
  {
   "cell_type": "code",
   "execution_count": null,
   "outputs": [],
   "source": [
    "protein_names.index('RPOC-MONOMER')"
   ],
   "metadata": {
    "collapsed": false,
    "is_executing": true
   }
  },
  {
   "cell_type": "markdown",
   "source": [
    "# Saving outputs to files compatible with Julia"
   ],
   "metadata": {
    "collapsed": false
   }
  },
  {
   "cell_type": "code",
   "execution_count": null,
   "outputs": [],
   "source": [
    "# save C, P and E to julia-compatible formats\n",
    "np.savetxt('data/C_matrix.csv', C, delimiter=',')\n",
    "np.savetxt('data/P_matrix.csv', P, delimiter=',')\n",
    "np.savetxt('data/E_matrix.csv', E, delimiter=',')\n",
    "\n",
    "# save names\n",
    "complex_names = list(filter_complex_df['id'])\n",
    "protein_names = list(filter_protein_df['id'])\n",
    "cofactor_names = list(filter_cofactor_df['id'])\n",
    "element_names = unique_elements\n",
    "\n",
    "# write all names to single file with each list on a new line\n",
    "with open('data/names.txt', 'w') as f:\n",
    "    f.write('complexes:' + '\\n'.join(complex_names))\n",
    "    f.write('\\n')\n",
    "    f.write('proteins,' +'\\n'.join(protein_names))\n",
    "    f.write('\\n')\n",
    "    f.write('cofactors:' +'\\n'.join(cofactor_names))\n",
    "    f.write('\\n')\n",
    "    f.write('elements:' +'\\n'.join(element_names))\n",
    "\n",
    "# save counts of proteins and complexes\n",
    "np.savetxt('data/counts.csv', np.array(counts), delimiter=',')\n",
    "\n",
    "# save tree structures\n"
   ],
   "metadata": {
    "collapsed": false,
    "is_executing": true
   }
  },
  {
   "cell_type": "code",
   "execution_count": null,
   "outputs": [],
   "source": [
    "complex_tree_structure, nodes = recursive_component_tree('CPLX0-8167', complex_df, filter_protein_df, return_cofactors=True)\n",
    "nodes"
   ],
   "metadata": {
    "collapsed": false,
    "is_executing": true
   }
  },
  {
   "cell_type": "code",
   "execution_count": null,
   "outputs": [],
   "source": [
    "np.array(counts)"
   ],
   "metadata": {
    "collapsed": false,
    "is_executing": true
   }
  },
  {
   "cell_type": "code",
   "execution_count": null,
   "outputs": [],
   "source": [],
   "metadata": {
    "collapsed": false,
    "is_executing": true
   }
  }
 ],
 "metadata": {
  "kernelspec": {
   "display_name": "Python 3",
   "language": "python",
   "name": "python3"
  },
  "language_info": {
   "codemirror_mode": {
    "name": "ipython",
    "version": 2
   },
   "file_extension": ".py",
   "mimetype": "text/x-python",
   "name": "python",
   "nbconvert_exporter": "python",
   "pygments_lexer": "ipython2",
   "version": "2.7.6"
  }
 },
 "nbformat": 4,
 "nbformat_minor": 0
}
