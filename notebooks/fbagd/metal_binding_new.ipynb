{
 "cells": [
  {
   "cell_type": "code",
   "execution_count": 65,
   "metadata": {
    "collapsed": true,
    "ExecuteTime": {
     "end_time": "2023-06-27T00:48:06.008857Z",
     "start_time": "2023-06-27T00:48:05.769734Z"
    }
   },
   "outputs": [
    {
     "data": {
      "text/plain": "<Response [200]>"
     },
     "execution_count": 65,
     "metadata": {},
     "output_type": "execute_result"
    }
   ],
   "source": [
    "import numpy as np\n",
    "\n",
    "import seaborn as sns\n",
    "import pandas as pd\n",
    "import os\n",
    "import pprint\n",
    "import ast\n",
    "import re\n",
    "import matplotlib.pyplot as plt\n",
    "import dill\n",
    "import requests\n",
    "import xmltodict\n",
    "\n",
    "pp = pprint.PrettyPrinter(depth=6)\n",
    "\n",
    "os.chdir(os.path.expanduser('~/vivarium-ecoli'))\n",
    "\n",
    "s = requests.Session() # create session\n",
    "# Post login credentials to session:\n",
    "s.post('https://websvc.biocyc.org/credentials/login/', data={'email':'cellulararchitect@protonmail.com', 'password':'Cellman0451'})\n"
   ]
  },
  {
   "cell_type": "code",
   "execution_count": 66,
   "outputs": [
    {
     "data": {
      "text/plain": "                                            id  \\\n0      1-ACYLGLYCEROL-3-P-ACYLTRANSFER-MONOMER   \n1                                1-PFK-MONOMER   \n2             2-DEHYDROPANTOATE-REDUCT-MONOMER   \n3                 2-ISOPROPYLMALATESYN-MONOMER   \n4     2-OCTAPRENYL-METHOXY-BENZOQ-METH-MONOMER   \n...                                        ...   \n4415                              YTFR-MONOMER   \n4416                              YTFT-MONOMER   \n4417                              ZNUA-MONOMER   \n4418                              ZNUB-MONOMER   \n4419                              ZNUC-MONOMER   \n\n                                            common_name metal_features  \\\n0     1-acylglycerol-3-phosphate <i>O</i>-acyltransf...              0   \n1                                 1-phosphofructokinase              0   \n2                         2-dehydropantoate 2-reductase              0   \n3                            2-isopropylmalate synthase              0   \n4     bifunctional 2-octaprenyl-6-methoxy-1,4-benzoq...              0   \n...                                                 ...            ...   \n4415  galactofuranose ABC transporter putative ATP b...              0   \n4416  galactofuranose ABC transporter putative membr...              0   \n4417  Zn<sup>2+</sup> ABC transporter periplasmic bi...              0   \n4418   Zn<sup>2+</sup> ABC transporter membrane subunit              0   \n4419  Zn<sup>2+</sup> ABC transporter ATP binding su...              0   \n\n     other_features  \n0                 0  \n1                 0  \n2                 0  \n3                 0  \n4                 0  \n...             ...  \n4415              0  \n4416              0  \n4417              0  \n4418              0  \n4419              0  \n\n[4420 rows x 4 columns]",
      "text/html": "<div>\n<style scoped>\n    .dataframe tbody tr th:only-of-type {\n        vertical-align: middle;\n    }\n\n    .dataframe tbody tr th {\n        vertical-align: top;\n    }\n\n    .dataframe thead th {\n        text-align: right;\n    }\n</style>\n<table border=\"1\" class=\"dataframe\">\n  <thead>\n    <tr style=\"text-align: right;\">\n      <th></th>\n      <th>id</th>\n      <th>common_name</th>\n      <th>metal_features</th>\n      <th>other_features</th>\n    </tr>\n  </thead>\n  <tbody>\n    <tr>\n      <th>0</th>\n      <td>1-ACYLGLYCEROL-3-P-ACYLTRANSFER-MONOMER</td>\n      <td>1-acylglycerol-3-phosphate &lt;i&gt;O&lt;/i&gt;-acyltransf...</td>\n      <td>0</td>\n      <td>0</td>\n    </tr>\n    <tr>\n      <th>1</th>\n      <td>1-PFK-MONOMER</td>\n      <td>1-phosphofructokinase</td>\n      <td>0</td>\n      <td>0</td>\n    </tr>\n    <tr>\n      <th>2</th>\n      <td>2-DEHYDROPANTOATE-REDUCT-MONOMER</td>\n      <td>2-dehydropantoate 2-reductase</td>\n      <td>0</td>\n      <td>0</td>\n    </tr>\n    <tr>\n      <th>3</th>\n      <td>2-ISOPROPYLMALATESYN-MONOMER</td>\n      <td>2-isopropylmalate synthase</td>\n      <td>0</td>\n      <td>0</td>\n    </tr>\n    <tr>\n      <th>4</th>\n      <td>2-OCTAPRENYL-METHOXY-BENZOQ-METH-MONOMER</td>\n      <td>bifunctional 2-octaprenyl-6-methoxy-1,4-benzoq...</td>\n      <td>0</td>\n      <td>0</td>\n    </tr>\n    <tr>\n      <th>...</th>\n      <td>...</td>\n      <td>...</td>\n      <td>...</td>\n      <td>...</td>\n    </tr>\n    <tr>\n      <th>4415</th>\n      <td>YTFR-MONOMER</td>\n      <td>galactofuranose ABC transporter putative ATP b...</td>\n      <td>0</td>\n      <td>0</td>\n    </tr>\n    <tr>\n      <th>4416</th>\n      <td>YTFT-MONOMER</td>\n      <td>galactofuranose ABC transporter putative membr...</td>\n      <td>0</td>\n      <td>0</td>\n    </tr>\n    <tr>\n      <th>4417</th>\n      <td>ZNUA-MONOMER</td>\n      <td>Zn&lt;sup&gt;2+&lt;/sup&gt; ABC transporter periplasmic bi...</td>\n      <td>0</td>\n      <td>0</td>\n    </tr>\n    <tr>\n      <th>4418</th>\n      <td>ZNUB-MONOMER</td>\n      <td>Zn&lt;sup&gt;2+&lt;/sup&gt; ABC transporter membrane subunit</td>\n      <td>0</td>\n      <td>0</td>\n    </tr>\n    <tr>\n      <th>4419</th>\n      <td>ZNUC-MONOMER</td>\n      <td>Zn&lt;sup&gt;2+&lt;/sup&gt; ABC transporter ATP binding su...</td>\n      <td>0</td>\n      <td>0</td>\n    </tr>\n  </tbody>\n</table>\n<p>4420 rows × 4 columns</p>\n</div>"
     },
     "execution_count": 66,
     "metadata": {},
     "output_type": "execute_result"
    }
   ],
   "source": [
    "# get a set of all monomers with an associated uniprot id\n",
    "proteins_df = pd.read_csv('reconstruction/ecoli/flat/proteins.tsv', sep='\\t').loc[:, [\"id\", \"common_name\"]]\n",
    "\n",
    "proteins_df[\"metal_features\"] = 0\n",
    "proteins_df[\"metal_features\"] = proteins_df[\"metal_features\"].astype(object)\n",
    "\n",
    "proteins_df[\"other_features\"] = 0\n",
    "proteins_df[\"other_features\"] = proteins_df[\"other_features\"].astype(object)\n",
    "\n",
    "proteins_df"
   ],
   "metadata": {
    "collapsed": false,
    "ExecuteTime": {
     "end_time": "2023-06-27T00:48:06.051791Z",
     "start_time": "2023-06-27T00:48:06.011010Z"
    }
   }
  },
  {
   "cell_type": "code",
   "execution_count": 67,
   "outputs": [
    {
     "name": "stdout",
     "output_type": "stream",
     "text": [
      "[{'Feature': {'@ID': 'ECOLI:FTR0-1606133',\n",
      "              '@detail': 'full',\n",
      "              '@frameid': 'FTR0-1606133',\n",
      "              '@orgid': 'ECOLI',\n",
      "              'accession-1': {'#text': 'PF01266.27', '@datatype': 'string'},\n",
      "              'evidence': {'Evidence-Code': {'@ID': 'ECOLI:EV-COMP-AINF',\n",
      "                                             '@class': 'true',\n",
      "                                             '@detail': 'full',\n",
      "                                             '@frameid': 'EV-COMP-AINF',\n",
      "                                             '@orgid': 'ECOLI',\n",
      "                                             'comment': {'#text': 'Automated '\n",
      "                                                                  'inference.  '\n",
      "                                                                  'A computer '\n",
      "                                                                  'inferred '\n",
      "                                                                  'this '\n",
      "                                                                  'assertion '\n",
      "                                                                  'through one '\n",
      "                                                                  'of many '\n",
      "                                                                  'possible '\n",
      "                                                                  'methods '\n",
      "                                                                  'such as \\n'\n",
      "                                                                  'sequence '\n",
      "                                                                  'similarity, '\n",
      "                                                                  'recognized '\n",
      "                                                                  'motifs or '\n",
      "                                                                  'consensus '\n",
      "                                                                  'sequence, '\n",
      "                                                                  'etc.  When '\n",
      "                                                                  'a person '\n",
      "                                                                  'made the '\n",
      "                                                                  'inference \\n'\n",
      "                                                                  'from '\n",
      "                                                                  'computational '\n",
      "                                                                  'evidence, '\n",
      "                                                                  'use '\n",
      "                                                                  'EV-COMP-HINF.',\n",
      "                                                         '@datatype': 'string'},\n",
      "                                             'common-name': {'#text': 'Inferred '\n",
      "                                                                      'computationally '\n",
      "                                                                      'without '\n",
      "                                                                      'human '\n",
      "                                                                      'oversight',\n",
      "                                                             '@datatype': 'string'},\n",
      "                                             'parent': {'Evidence-Code': {'@class': 'true',\n",
      "                                                                          '@frameid': 'EV-COMP',\n",
      "                                                                          '@orgid': 'ECOLI',\n",
      "                                                                          '@resource': 'getxml?ECOLI:EV-COMP'}}},\n",
      "                           'Publication': {'@ID': 'ECOLI:PUB-26673716',\n",
      "                                           '@detail': 'full',\n",
      "                                           '@frameid': 'PUB-26673716',\n",
      "                                           '@orgid': 'ECOLI',\n",
      "                                           'author': [{...},\n",
      "                                                      {...},\n",
      "                                                      {...},\n",
      "                                                      {...},\n",
      "                                                      {...},\n",
      "                                                      {...},\n",
      "                                                      {...},\n",
      "                                                      {...},\n",
      "                                                      {...},\n",
      "                                                      {...},\n",
      "                                                      {...},\n",
      "                                                      {...},\n",
      "                                                      {...}],\n",
      "                                           'pubmed-id': {'#text': '26673716',\n",
      "                                                         '@datatype': 'string'},\n",
      "                                           'source': {'#text': 'Nucleic Acids '\n",
      "                                                               'Res '\n",
      "                                                               '44(D1);D279-85',\n",
      "                                                      '@datatype': 'string'},\n",
      "                                           'title': {'#text': 'The Pfam '\n",
      "                                                              'protein '\n",
      "                                                              'families '\n",
      "                                                              'database: '\n",
      "                                                              'towards a more '\n",
      "                                                              'sustainable '\n",
      "                                                              'future.',\n",
      "                                                     '@datatype': 'string'},\n",
      "                                           'year': {'#text': '2016',\n",
      "                                                    '@datatype': 'integer'}}},\n",
      "              'feature-of': {'Protein': {'@frameid': 'DALADEHYDROGA-MONOMER',\n",
      "                                         '@orgid': 'ECOLI',\n",
      "                                         '@resource': '#ECOLI:DALADEHYDROGA-MONOMER'}},\n",
      "              'left-end-position': {'#text': '2', '@datatype': 'integer'},\n",
      "              'parent': {'Feature': {'@class': 'true',\n",
      "                                     '@frameid': 'Pfam-Features',\n",
      "                                     '@orgid': 'ECOLI',\n",
      "                                     '@resource': 'getxml?ECOLI:Pfam-Features'}},\n",
      "              'right-end-position': {'#text': '397', '@datatype': 'integer'}}},\n",
      " {'Feature': {'@ID': 'ECOLI:FTR0-1586643',\n",
      "              '@detail': 'full',\n",
      "              '@frameid': 'FTR0-1586643',\n",
      "              '@orgid': 'ECOLI',\n",
      "              'attached-group': {'Compound': {'@frameid': 'FAD',\n",
      "                                              '@orgid': 'ECOLI',\n",
      "                                              '@resource': 'getxml?ECOLI:FAD'}},\n",
      "              'comment': {'#text': 'UniProt: FAD.', '@datatype': 'string'},\n",
      "              'evidence': {'Evidence-Code': {'@ID': 'ECOLI:EV-COMP-HINF-ISM',\n",
      "                                             '@class': 'true',\n",
      "                                             '@detail': 'full',\n",
      "                                             '@frameid': 'EV-COMP-HINF-ISM',\n",
      "                                             '@orgid': 'ECOLI',\n",
      "                                             'comment': {'#text': 'Human '\n",
      "                                                                  'inference '\n",
      "                                                                  'based on '\n",
      "                                                                  'evidence '\n",
      "                                                                  'from some '\n",
      "                                                                  'kind of '\n",
      "                                                                  'statistical '\n",
      "                                                                  'model of a '\n",
      "                                                                  'sequence\\n'\n",
      "                                                                  'or group of '\n",
      "                                                                  'sequences, '\n",
      "                                                                  'which is '\n",
      "                                                                  'used to '\n",
      "                                                                  'make a '\n",
      "                                                                  'prediction '\n",
      "                                                                  'about the '\n",
      "                                                                  'function of '\n",
      "                                                                  'a protein '\n",
      "                                                                  'or RNA.\\n'\n",
      "                                                                  '<p>\\n'\n",
      "                                                                  '- '\n",
      "                                                                  'Prediction '\n",
      "                                                                  'methods for '\n",
      "                                                                  'non-coding '\n",
      "                                                                  'RNA genes '\n",
      "                                                                  'such as '\n",
      "                                                                  'tRNASCAN-SE, '\n",
      "                                                                  'Snoscan, '\n",
      "                                                                  'and Rfam\\n'\n",
      "                                                                  '<p>\\n'\n",
      "                                                                  '- Predicted '\n",
      "                                                                  'presence of '\n",
      "                                                                  'recognized '\n",
      "                                                                  'functional '\n",
      "                                                                  'domains or '\n",
      "                                                                  'membership '\n",
      "                                                                  'in protein '\n",
      "                                                                  'families,\\n'\n",
      "                                                                  '  as '\n",
      "                                                                  'determined '\n",
      "                                                                  'by tools '\n",
      "                                                                  'such as '\n",
      "                                                                  'profile '\n",
      "                                                                  'Hidden '\n",
      "                                                                  'Markov '\n",
      "                                                                  'Models '\n",
      "                                                                  '(HMMs), '\n",
      "                                                                  'including '\n",
      "                                                                  'Pfam and '\n",
      "                                                                  'TIGRFAM\\n'\n",
      "                                                                  '<p>\\n'\n",
      "                                                                  '- Predicted '\n",
      "                                                                  'protein '\n",
      "                                                                  'features '\n",
      "                                                                  'using tools '\n",
      "                                                                  'such as '\n",
      "                                                                  'TMHMM '\n",
      "                                                                  '(transmembrane '\n",
      "                                                                  'regions), '\n",
      "                                                                  'SignalP '\n",
      "                                                                  '(signal '\n",
      "                                                                  'peptides on '\n",
      "                                                                  'secreted '\n",
      "                                                                  'proteins),\\n'\n",
      "                                                                  '  and '\n",
      "                                                                  'TargetP '\n",
      "                                                                  '(subcellular '\n",
      "                                                                  'localization)\\n'\n",
      "                                                                  '<p>\\n'\n",
      "                                                                  '- any other '\n",
      "                                                                  'kind of '\n",
      "                                                                  'domain '\n",
      "                                                                  'modeling '\n",
      "                                                                  'tool or '\n",
      "                                                                  'collections '\n",
      "                                                                  'of them '\n",
      "                                                                  'such as '\n",
      "                                                                  'SMART, '\n",
      "                                                                  'PROSITE, '\n",
      "                                                                  'PANTHER, '\n",
      "                                                                  'InterPro, '\n",
      "                                                                  'etc.\\n'\n",
      "                                                                  '<p>\\n'\n",
      "                                                                  '- An entry '\n",
      "                                                                  'in the with '\n",
      "                                                                  'field of a '\n",
      "                                                                  'GO '\n",
      "                                                                  'annotation '\n",
      "                                                                  'is required '\n",
      "                                                                  'when the '\n",
      "                                                                  'model used '\n",
      "                                                                  'is an '\n",
      "                                                                  'object with '\n",
      "                                                                  'an '\n",
      "                                                                  'accession '\n",
      "                                                                  'number\\n'\n",
      "                                                                  '  (as found '\n",
      "                                                                  'with Pfam, '\n",
      "                                                                  'TIGRFAM, '\n",
      "                                                                  'InterPro, '\n",
      "                                                                  'PROSITE, '\n",
      "                                                                  'Rfam, '\n",
      "                                                                  'etc.)  The '\n",
      "                                                                  'with field '\n",
      "                                                                  'may be left '\n",
      "                                                                  'blank for '\n",
      "                                                                  'tools such '\n",
      "                                                                  'as\\n'\n",
      "                                                                  '  tRNAscan '\n",
      "                                                                  'and Snoscan '\n",
      "                                                                  'where there '\n",
      "                                                                  'is not an '\n",
      "                                                                  'object with '\n",
      "                                                                  'an '\n",
      "                                                                  'accession '\n",
      "                                                                  'to point '\n",
      "                                                                  'to.',\n",
      "                                                         '@datatype': 'string'},\n",
      "                                             'common-name': {'#text': 'Inferred '\n",
      "                                                                      'from '\n",
      "                                                                      'Sequence '\n",
      "                                                                      'Model',\n",
      "                                                             '@datatype': 'string'},\n",
      "                                             'parent': {'Evidence-Code': {'@class': 'true',\n",
      "                                                                          '@frameid': 'EV-COMP-HINF-FN-FROM-SEQ',\n",
      "                                                                          '@orgid': 'ECOLI',\n",
      "                                                                          '@resource': 'getxml?ECOLI:EV-COMP-HINF-FN-FROM-SEQ'}}},\n",
      "                           'Publication': {'@ID': 'ECOLI:PUB-UNIPROT-2021-03',\n",
      "                                           '@detail': 'full',\n",
      "                                           '@frameid': 'PUB-UNIPROT-2021-03',\n",
      "                                           '@orgid': 'ECOLI',\n",
      "                                           'author': {'#text': 'UniProt '\n",
      "                                                               'Consortium',\n",
      "                                                      '@datatype': 'string'},\n",
      "                                           'source': {'#text': 'Database',\n",
      "                                                      '@datatype': 'string'},\n",
      "                                           'title': {'#text': 'UniProt version '\n",
      "                                                              '2021-03 '\n",
      "                                                              'released on '\n",
      "                                                              '2021-06-16',\n",
      "                                                     '@datatype': 'string'},\n",
      "                                           'year': {'#text': '2021',\n",
      "                                                    '@datatype': 'integer'}}},\n",
      "              'feature-of': {'Protein': {'@frameid': 'DALADEHYDROGA-MONOMER',\n",
      "                                         '@orgid': 'ECOLI',\n",
      "                                         '@resource': '#ECOLI:DALADEHYDROGA-MONOMER'}},\n",
      "              'left-end-position': {'#text': '3', '@datatype': 'integer'},\n",
      "              'parent': {'Feature': {'@class': 'true',\n",
      "                                     '@frameid': 'Nucleotide-Phosphate-Binding-Regions',\n",
      "                                     '@orgid': 'ECOLI',\n",
      "                                     '@resource': 'getxml?ECOLI:Nucleotide-Phosphate-Binding-Regions'}},\n",
      "              'right-end-position': {'#text': '17', '@datatype': 'integer'}}},\n",
      " {'Feature': {'@ID': 'ECOLI:FTR0-1552175',\n",
      "              '@detail': 'full',\n",
      "              '@frameid': 'FTR0-1552175',\n",
      "              '@orgid': 'ECOLI',\n",
      "              'comment': {'#text': 'N6-acetyllysine site upregulated '\n",
      "                                   '(log<SUB>2</SUB>(fold-change) =  2.41) by '\n",
      "                                   'YfiQ; digests by trypsin',\n",
      "                          '@datatype': 'string'},\n",
      "              'evidence': {'Evidence-Code': {'@ID': 'ECOLI:EV-EXP',\n",
      "                                             '@class': 'true',\n",
      "                                             '@detail': 'full',\n",
      "                                             '@frameid': 'EV-EXP',\n",
      "                                             '@orgid': 'ECOLI',\n",
      "                                             'comment': {'#text': 'Inferred '\n",
      "                                                                  'from '\n",
      "                                                                  'experiment.  '\n",
      "                                                                  'The '\n",
      "                                                                  'evidence '\n",
      "                                                                  'for an '\n",
      "                                                                  'assertion '\n",
      "                                                                  'comes from '\n",
      "                                                                  'a\\n'\n",
      "                                                                  'wet-lab '\n",
      "                                                                  'experiment '\n",
      "                                                                  'of some '\n",
      "                                                                  'type.',\n",
      "                                                         '@datatype': 'string'},\n",
      "                                             'common-name': {'#text': 'Inferred '\n",
      "                                                                      'from '\n",
      "                                                                      'experiment',\n",
      "                                                             '@datatype': 'string'}},\n",
      "                           'Publication': {'@ID': 'ECOLI:PUB-30352934',\n",
      "                                           '@detail': 'full',\n",
      "                                           '@frameid': 'PUB-30352934',\n",
      "                                           '@orgid': 'ECOLI',\n",
      "                                           'author': [{...},\n",
      "                                                      {...},\n",
      "                                                      {...},\n",
      "                                                      {...},\n",
      "                                                      {...},\n",
      "                                                      {...},\n",
      "                                                      {...},\n",
      "                                                      {...},\n",
      "                                                      {...}],\n",
      "                                           'pubmed-id': {'#text': '30352934',\n",
      "                                                         '@datatype': 'string'},\n",
      "                                           'source': {'#text': 'MBio 9(5)',\n",
      "                                                      '@datatype': 'string'},\n",
      "                                           'title': {'#text': 'Identification '\n",
      "                                                              'of Novel '\n",
      "                                                              'Protein Lysine '\n",
      "                                                              'Acetyltransferases '\n",
      "                                                              'in Escherichia '\n",
      "                                                              'coli.',\n",
      "                                                     '@datatype': 'string'},\n",
      "                                           'year': {'#text': '2018',\n",
      "                                                    '@datatype': 'integer'}}},\n",
      "              'feature-of': {'Protein': {'@frameid': 'DALADEHYDROGA-MONOMER',\n",
      "                                         '@orgid': 'ECOLI',\n",
      "                                         '@resource': '#ECOLI:DALADEHYDROGA-MONOMER'}},\n",
      "              'parent': {'Feature': {'@class': 'true',\n",
      "                                     '@frameid': 'N6-acetyllysine-Modifications',\n",
      "                                     '@orgid': 'ECOLI',\n",
      "                                     '@resource': 'getxml?ECOLI:N6-acetyllysine-Modifications'}},\n",
      "              'residue-number': {'#text': '217', '@datatype': 'integer'}}},\n",
      " {'Feature': {'@ID': 'ECOLI:FTR0-1551738',\n",
      "              '@detail': 'full',\n",
      "              '@frameid': 'FTR0-1551738',\n",
      "              '@orgid': 'ECOLI',\n",
      "              'comment': {'#text': 'N6-acetyllysine site upregulated '\n",
      "                                   '(log<SUB>2</SUB>(fold-change) =  3.61) by '\n",
      "                                   'YiaC; digests by trypsin',\n",
      "                          '@datatype': 'string'},\n",
      "              'evidence': {'Evidence-Code': {'@class': 'true',\n",
      "                                             '@frameid': 'EV-EXP',\n",
      "                                             '@orgid': 'ECOLI',\n",
      "                                             '@resource': '#ECOLI:EV-EXP'},\n",
      "                           'Publication': {'@frameid': 'PUB-30352934',\n",
      "                                           '@orgid': 'ECOLI',\n",
      "                                           '@resource': '#ECOLI:PUB-30352934'}},\n",
      "              'feature-of': {'Protein': {'@frameid': 'DALADEHYDROGA-MONOMER',\n",
      "                                         '@orgid': 'ECOLI',\n",
      "                                         '@resource': '#ECOLI:DALADEHYDROGA-MONOMER'}},\n",
      "              'parent': {'Feature': {'@class': 'true',\n",
      "                                     '@frameid': 'N6-acetyllysine-Modifications',\n",
      "                                     '@orgid': 'ECOLI',\n",
      "                                     '@resource': 'getxml?ECOLI:N6-acetyllysine-Modifications'}},\n",
      "              'residue-number': {'#text': '66', '@datatype': 'integer'}}}]\n"
     ]
    }
   ],
   "source": [
    "protein = 'DALADEHYDROGA-MONOMER'\n",
    "\n",
    "req_str = f'https://websvc.biocyc.org/getxml?id=ECOLI:{protein}&detail=high'\n",
    "\n",
    "r = s.get(req_str)\n",
    "\n",
    "o = xmltodict.parse(r.content)['ptools-xml']\n",
    "pp.pprint(o['Protein']['has-feature'])"
   ],
   "metadata": {
    "collapsed": false,
    "ExecuteTime": {
     "end_time": "2023-06-27T00:48:06.285758Z",
     "start_time": "2023-06-27T00:48:06.128835Z"
    }
   }
  },
  {
   "cell_type": "code",
   "execution_count": 71,
   "outputs": [
    {
     "name": "stdout",
     "output_type": "stream",
     "text": [
      "0\n",
      "100\n",
      "200\n",
      "300\n",
      "400\n",
      "500\n",
      "600\n",
      "700\n",
      "800\n",
      "900\n",
      "1000\n",
      "1100\n",
      "EG11708-MONOMER 404\n",
      "1200\n",
      "1300\n",
      "1400\n",
      "1500\n",
      "1600\n",
      "1700\n",
      "1800\n",
      "1900\n",
      "2000\n",
      "2100\n",
      "2200\n",
      "2300\n",
      "2400\n",
      "2500\n",
      "2600\n",
      "2700\n",
      "2800\n",
      "2900\n",
      "3000\n",
      "3100\n",
      "3200\n",
      "3300\n",
      "3400\n",
      "3500\n",
      "3600\n",
      "3700\n",
      "3800\n",
      "3900\n",
      "4000\n",
      "4100\n",
      "4200\n",
      "4300\n",
      "4400\n"
     ]
    }
   ],
   "source": [
    "for i in range(len(proteins_df.index)):\n",
    "    if i % 100 == 0:\n",
    "        print(i)\n",
    "\n",
    "    protein = proteins_df.loc[i, 'id']\n",
    "\n",
    "    req_str = f'https://websvc.biocyc.org/getxml?id=ECOLI:{protein}&detail=high'\n",
    "\n",
    "    r = s.get(req_str)\n",
    "    if r.status_code != 200:\n",
    "        print(protein, r.status_code)\n",
    "        proteins_df.loc[i, 'other_features'] = 'NO ECOCYC ENTRY'\n",
    "        continue\n",
    "\n",
    "    o = xmltodict.parse(r.content)['ptools-xml']\n",
    "\n",
    "    metal_set = set()\n",
    "    other_feature_set = set()\n",
    "    if 'Protein' in o and 'has-feature' in o['Protein']:\n",
    "        features = o['Protein']['has-feature']\n",
    "\n",
    "        if type(features) is dict:\n",
    "            features = [features]\n",
    "\n",
    "        for feature in features:\n",
    "            if 'parent' not in feature['Feature']:\n",
    "                continue\n",
    "\n",
    "            category = feature['Feature']['parent']['Feature']['@frameid']\n",
    "            if category == 'Metal-Binding-Sites' and 'comment' in feature['Feature']:\n",
    "\n",
    "                # Detect match to any of the allowed metal names and allowed cofactor names and add to list\n",
    "                comment = feature['Feature']['comment']['#text']\n",
    "                metal_set.add(comment)\n",
    "\n",
    "                proteins_df.at[i, 'metal_features'] = list(metal_set)\n",
    "\n",
    "            if category == 'Nucleotide-Phosphate-Binding-Regions' and 'attached-group' in feature['Feature'] and 'Compound' in feature['Feature']['attached-group']:\n",
    "                attached_group = feature['Feature']['attached-group']['Compound']['@frameid']\n",
    "                other_feature_set.add(attached_group)\n",
    "\n",
    "            if category == 'N6-pyridoxal-phosphate-Lys-Modifications':\n",
    "                other_feature_set.add('PYRIDOXAL_PHOSPHATE')\n",
    "\n",
    "            if category == 'Protein-Segments' and 'comment' in feature['Feature'] and 'Thiamine' in feature['Feature']['comment']['#text']:\n",
    "                other_feature_set.add('THIAMINE-PYROPHOSPHATE')\n",
    "\n",
    "            proteins_df.at[i, 'metal_features'] = list(metal_set)\n",
    "            proteins_df.at[i, 'other_features'] = list(other_feature_set)\n",
    "\n"
   ],
   "metadata": {
    "collapsed": false,
    "ExecuteTime": {
     "end_time": "2023-06-27T01:16:54.542896Z",
     "start_time": "2023-06-27T01:00:23.582713Z"
    }
   }
  },
  {
   "cell_type": "code",
   "execution_count": 73,
   "outputs": [
    {
     "data": {
      "text/plain": "                                            id  \\\n0      1-ACYLGLYCEROL-3-P-ACYLTRANSFER-MONOMER   \n1                                1-PFK-MONOMER   \n2             2-DEHYDROPANTOATE-REDUCT-MONOMER   \n3                 2-ISOPROPYLMALATESYN-MONOMER   \n4     2-OCTAPRENYL-METHOXY-BENZOQ-METH-MONOMER   \n...                                        ...   \n4415                              YTFR-MONOMER   \n4416                              YTFT-MONOMER   \n4417                              ZNUA-MONOMER   \n4418                              ZNUB-MONOMER   \n4419                              ZNUC-MONOMER   \n\n                                            common_name  \\\n0     1-acylglycerol-3-phosphate <i>O</i>-acyltransf...   \n1                                 1-phosphofructokinase   \n2                         2-dehydropantoate 2-reductase   \n3                            2-isopropylmalate synthase   \n4     bifunctional 2-octaprenyl-6-methoxy-1,4-benzoq...   \n...                                                 ...   \n4415  galactofuranose ABC transporter putative ATP b...   \n4416  galactofuranose ABC transporter putative membr...   \n4417  Zn<sup>2+</sup> ABC transporter periplasmic bi...   \n4418   Zn<sup>2+</sup> ABC transporter membrane subunit   \n4419  Zn<sup>2+</sup> ABC transporter ATP binding su...   \n\n                                         metal_features other_features  \n0                                                    []             []  \n1                                                    []          [ATP]  \n2                                                    []         [NADP]  \n3                                                    []             []  \n4                                                    []             []  \n...                                                 ...            ...  \n4415                                                 []          [ATP]  \n4416                                                 []             []  \n4417  [UniProt: Zinc., implicated in a second zinc b...             []  \n4418                                                 []             []  \n4419                                                 []          [ATP]  \n\n[4420 rows x 4 columns]",
      "text/html": "<div>\n<style scoped>\n    .dataframe tbody tr th:only-of-type {\n        vertical-align: middle;\n    }\n\n    .dataframe tbody tr th {\n        vertical-align: top;\n    }\n\n    .dataframe thead th {\n        text-align: right;\n    }\n</style>\n<table border=\"1\" class=\"dataframe\">\n  <thead>\n    <tr style=\"text-align: right;\">\n      <th></th>\n      <th>id</th>\n      <th>common_name</th>\n      <th>metal_features</th>\n      <th>other_features</th>\n    </tr>\n  </thead>\n  <tbody>\n    <tr>\n      <th>0</th>\n      <td>1-ACYLGLYCEROL-3-P-ACYLTRANSFER-MONOMER</td>\n      <td>1-acylglycerol-3-phosphate &lt;i&gt;O&lt;/i&gt;-acyltransf...</td>\n      <td>[]</td>\n      <td>[]</td>\n    </tr>\n    <tr>\n      <th>1</th>\n      <td>1-PFK-MONOMER</td>\n      <td>1-phosphofructokinase</td>\n      <td>[]</td>\n      <td>[ATP]</td>\n    </tr>\n    <tr>\n      <th>2</th>\n      <td>2-DEHYDROPANTOATE-REDUCT-MONOMER</td>\n      <td>2-dehydropantoate 2-reductase</td>\n      <td>[]</td>\n      <td>[NADP]</td>\n    </tr>\n    <tr>\n      <th>3</th>\n      <td>2-ISOPROPYLMALATESYN-MONOMER</td>\n      <td>2-isopropylmalate synthase</td>\n      <td>[]</td>\n      <td>[]</td>\n    </tr>\n    <tr>\n      <th>4</th>\n      <td>2-OCTAPRENYL-METHOXY-BENZOQ-METH-MONOMER</td>\n      <td>bifunctional 2-octaprenyl-6-methoxy-1,4-benzoq...</td>\n      <td>[]</td>\n      <td>[]</td>\n    </tr>\n    <tr>\n      <th>...</th>\n      <td>...</td>\n      <td>...</td>\n      <td>...</td>\n      <td>...</td>\n    </tr>\n    <tr>\n      <th>4415</th>\n      <td>YTFR-MONOMER</td>\n      <td>galactofuranose ABC transporter putative ATP b...</td>\n      <td>[]</td>\n      <td>[ATP]</td>\n    </tr>\n    <tr>\n      <th>4416</th>\n      <td>YTFT-MONOMER</td>\n      <td>galactofuranose ABC transporter putative membr...</td>\n      <td>[]</td>\n      <td>[]</td>\n    </tr>\n    <tr>\n      <th>4417</th>\n      <td>ZNUA-MONOMER</td>\n      <td>Zn&lt;sup&gt;2+&lt;/sup&gt; ABC transporter periplasmic bi...</td>\n      <td>[UniProt: Zinc., implicated in a second zinc b...</td>\n      <td>[]</td>\n    </tr>\n    <tr>\n      <th>4418</th>\n      <td>ZNUB-MONOMER</td>\n      <td>Zn&lt;sup&gt;2+&lt;/sup&gt; ABC transporter membrane subunit</td>\n      <td>[]</td>\n      <td>[]</td>\n    </tr>\n    <tr>\n      <th>4419</th>\n      <td>ZNUC-MONOMER</td>\n      <td>Zn&lt;sup&gt;2+&lt;/sup&gt; ABC transporter ATP binding su...</td>\n      <td>[]</td>\n      <td>[ATP]</td>\n    </tr>\n  </tbody>\n</table>\n<p>4420 rows × 4 columns</p>\n</div>"
     },
     "execution_count": 73,
     "metadata": {},
     "output_type": "execute_result"
    }
   ],
   "source": [
    "proteins_df"
   ],
   "metadata": {
    "collapsed": false,
    "ExecuteTime": {
     "end_time": "2023-06-27T01:17:17.866235Z",
     "start_time": "2023-06-27T01:17:17.863873Z"
    }
   }
  },
  {
   "cell_type": "code",
   "execution_count": 74,
   "outputs": [],
   "source": [
    "proteins_df.to_csv('notebooks/fbagd/protein_features.csv', index=False)"
   ],
   "metadata": {
    "collapsed": false,
    "ExecuteTime": {
     "end_time": "2023-06-27T01:17:19.266462Z",
     "start_time": "2023-06-27T01:17:19.256633Z"
    }
   }
  },
  {
   "cell_type": "markdown",
   "source": [
    "# Filter protein features."
   ],
   "metadata": {
    "collapsed": false
   }
  },
  {
   "cell_type": "code",
   "execution_count": 75,
   "outputs": [
    {
     "data": {
      "text/plain": "                                            id  \\\n0      1-ACYLGLYCEROL-3-P-ACYLTRANSFER-MONOMER   \n1                                1-PFK-MONOMER   \n2             2-DEHYDROPANTOATE-REDUCT-MONOMER   \n3                 2-ISOPROPYLMALATESYN-MONOMER   \n4     2-OCTAPRENYL-METHOXY-BENZOQ-METH-MONOMER   \n...                                        ...   \n4415                              YTFR-MONOMER   \n4416                              YTFT-MONOMER   \n4417                              ZNUA-MONOMER   \n4418                              ZNUB-MONOMER   \n4419                              ZNUC-MONOMER   \n\n                                            common_name  \\\n0     1-acylglycerol-3-phosphate <i>O</i>-acyltransf...   \n1                                 1-phosphofructokinase   \n2                         2-dehydropantoate 2-reductase   \n3                            2-isopropylmalate synthase   \n4     bifunctional 2-octaprenyl-6-methoxy-1,4-benzoq...   \n...                                                 ...   \n4415  galactofuranose ABC transporter putative ATP b...   \n4416  galactofuranose ABC transporter putative membr...   \n4417  Zn<sup>2+</sup> ABC transporter periplasmic bi...   \n4418   Zn<sup>2+</sup> ABC transporter membrane subunit   \n4419  Zn<sup>2+</sup> ABC transporter ATP binding su...   \n\n                                         metal_features other_features  \n0                                                    []             []  \n1                                                    []          [ATP]  \n2                                                    []         [NADP]  \n3                                                    []             []  \n4                                                    []             []  \n...                                                 ...            ...  \n4415                                                 []          [ATP]  \n4416                                                 []             []  \n4417  [UniProt: Zinc., implicated in a second zinc b...             []  \n4418                                                 []             []  \n4419                                                 []          [ATP]  \n\n[4420 rows x 4 columns]",
      "text/html": "<div>\n<style scoped>\n    .dataframe tbody tr th:only-of-type {\n        vertical-align: middle;\n    }\n\n    .dataframe tbody tr th {\n        vertical-align: top;\n    }\n\n    .dataframe thead th {\n        text-align: right;\n    }\n</style>\n<table border=\"1\" class=\"dataframe\">\n  <thead>\n    <tr style=\"text-align: right;\">\n      <th></th>\n      <th>id</th>\n      <th>common_name</th>\n      <th>metal_features</th>\n      <th>other_features</th>\n    </tr>\n  </thead>\n  <tbody>\n    <tr>\n      <th>0</th>\n      <td>1-ACYLGLYCEROL-3-P-ACYLTRANSFER-MONOMER</td>\n      <td>1-acylglycerol-3-phosphate &lt;i&gt;O&lt;/i&gt;-acyltransf...</td>\n      <td>[]</td>\n      <td>[]</td>\n    </tr>\n    <tr>\n      <th>1</th>\n      <td>1-PFK-MONOMER</td>\n      <td>1-phosphofructokinase</td>\n      <td>[]</td>\n      <td>[ATP]</td>\n    </tr>\n    <tr>\n      <th>2</th>\n      <td>2-DEHYDROPANTOATE-REDUCT-MONOMER</td>\n      <td>2-dehydropantoate 2-reductase</td>\n      <td>[]</td>\n      <td>[NADP]</td>\n    </tr>\n    <tr>\n      <th>3</th>\n      <td>2-ISOPROPYLMALATESYN-MONOMER</td>\n      <td>2-isopropylmalate synthase</td>\n      <td>[]</td>\n      <td>[]</td>\n    </tr>\n    <tr>\n      <th>4</th>\n      <td>2-OCTAPRENYL-METHOXY-BENZOQ-METH-MONOMER</td>\n      <td>bifunctional 2-octaprenyl-6-methoxy-1,4-benzoq...</td>\n      <td>[]</td>\n      <td>[]</td>\n    </tr>\n    <tr>\n      <th>...</th>\n      <td>...</td>\n      <td>...</td>\n      <td>...</td>\n      <td>...</td>\n    </tr>\n    <tr>\n      <th>4415</th>\n      <td>YTFR-MONOMER</td>\n      <td>galactofuranose ABC transporter putative ATP b...</td>\n      <td>[]</td>\n      <td>[ATP]</td>\n    </tr>\n    <tr>\n      <th>4416</th>\n      <td>YTFT-MONOMER</td>\n      <td>galactofuranose ABC transporter putative membr...</td>\n      <td>[]</td>\n      <td>[]</td>\n    </tr>\n    <tr>\n      <th>4417</th>\n      <td>ZNUA-MONOMER</td>\n      <td>Zn&lt;sup&gt;2+&lt;/sup&gt; ABC transporter periplasmic bi...</td>\n      <td>[UniProt: Zinc., implicated in a second zinc b...</td>\n      <td>[]</td>\n    </tr>\n    <tr>\n      <th>4418</th>\n      <td>ZNUB-MONOMER</td>\n      <td>Zn&lt;sup&gt;2+&lt;/sup&gt; ABC transporter membrane subunit</td>\n      <td>[]</td>\n      <td>[]</td>\n    </tr>\n    <tr>\n      <th>4419</th>\n      <td>ZNUC-MONOMER</td>\n      <td>Zn&lt;sup&gt;2+&lt;/sup&gt; ABC transporter ATP binding su...</td>\n      <td>[]</td>\n      <td>[ATP]</td>\n    </tr>\n  </tbody>\n</table>\n<p>4420 rows × 4 columns</p>\n</div>"
     },
     "execution_count": 75,
     "metadata": {},
     "output_type": "execute_result"
    }
   ],
   "source": [
    "filter_protein_df = proteins_df.copy().loc[:, ['id', 'common_name', 'metal_features', 'other_features']]\n",
    "filter_protein_df"
   ],
   "metadata": {
    "collapsed": false,
    "ExecuteTime": {
     "end_time": "2023-06-27T01:17:22.653149Z",
     "start_time": "2023-06-27T01:17:22.650118Z"
    }
   }
  },
  {
   "cell_type": "markdown",
   "source": [
    "## First process metal names"
   ],
   "metadata": {
    "collapsed": false
   }
  },
  {
   "cell_type": "code",
   "execution_count": 76,
   "outputs": [],
   "source": [
    "ALLOWED_METAL_NAMES = {'Iron': 'FE+2', 'Cobalt': 'CO+2', 'Copper': 'CU+2', 'Manganese': 'MN+2', 'Molybdenum': 'MO+2', 'Nickel': 'NI+2', 'Tungsten': 'W', 'Zinc': 'ZN+2',\n",
    "                       'Calcium': 'CA+2', 'Magnesium': 'MG+2', 'Sodium': 'NA+', 'Potassium': 'K+',\n",
    "                       'Iron-sulfur \\(4Fe-4S\\)': 'CPD-7', 'Iron-sulfur \\(2Fe-2S\\)': 'CPD-6', 'heme': 'heme', 'Molybdate': 'CPD-3'}\n",
    "\n",
    "NON_REGEX_METAL = {'Iron': 'FE+2', 'Cobalt': 'CO+2', 'Copper': 'CU+2', 'Manganese': 'MN+2', 'Molybdenum': 'MO+2', 'Nickel': 'NI+2', 'Tungsten': 'W', 'Zinc': 'ZN+2',\n",
    "                       'Calcium': 'CA+2', 'Magnesium': 'MG+2', 'Sodium': 'NA+', 'Potassium': 'K+',\n",
    "                       'Iron-sulfur (4Fe-4S)': 'CPD-7', 'Iron-sulfur (2Fe-2S)': 'CPD-6', 'heme': 'heme', 'Molybdate': 'CPD-3'}\n",
    "\n",
    "filter_protein_df['metal_features_processed'] = 0\n",
    "filter_protein_df['metal_features_processed'] = filter_protein_df['metal_features_processed'].astype(object)\n",
    "\n",
    "metal_pattern = '|'.join(ALLOWED_METAL_NAMES.keys())\n",
    "metal_regex = re.compile(f'(({metal_pattern})(\\s\\d[\\.,;]|[\\.,;]|\\s\\())')\n",
    "\n",
    "\n",
    "for i in range(len(filter_protein_df.index)):\n",
    "\n",
    "    if filter_protein_df.loc[i, 'metal_features'] is not None and filter_protein_df.loc[i, 'metal_features'] != 0:\n",
    "        metal_binding = filter_protein_df.loc[i, 'metal_features']\n",
    "\n",
    "        metal_count_dict = {}\n",
    "        existing_matches = set()\n",
    "\n",
    "        for feature in metal_binding:\n",
    "            matches = metal_regex.search(feature)\n",
    "            if matches:\n",
    "                metal = matches.group(0)[:-1]\n",
    "\n",
    "                # eliminate duplicates\n",
    "                if metal not in existing_matches:\n",
    "\n",
    "                    existing_matches.add(metal)\n",
    "\n",
    "                    if 'heme' in feature:\n",
    "                        metal = metal.replace('Iron', 'heme')\n",
    "\n",
    "                    # check if last char of metal is a number, then crop\n",
    "                    if metal[-1].isdigit():\n",
    "                        metal = metal[:-2]\n",
    "\n",
    "                    metal = metal.strip()\n",
    "\n",
    "                    # replace metal name with allowed metal name\n",
    "                    metal = NON_REGEX_METAL[metal]\n",
    "\n",
    "                    if metal in metal_count_dict:\n",
    "                        metal_count_dict[metal] += 1\n",
    "                    else:\n",
    "                        metal_count_dict[metal] = 1\n",
    "\n",
    "\n",
    "\n",
    "\n",
    "        filter_protein_df.at[i, 'metal_features_processed'] = metal_count_dict"
   ],
   "metadata": {
    "collapsed": false,
    "ExecuteTime": {
     "end_time": "2023-06-27T01:17:24.750680Z",
     "start_time": "2023-06-27T01:17:24.745354Z"
    }
   }
  },
  {
   "cell_type": "code",
   "execution_count": 78,
   "outputs": [
    {
     "data": {
      "text/plain": "                                            id  \\\n0      1-ACYLGLYCEROL-3-P-ACYLTRANSFER-MONOMER   \n1                                1-PFK-MONOMER   \n2             2-DEHYDROPANTOATE-REDUCT-MONOMER   \n3                 2-ISOPROPYLMALATESYN-MONOMER   \n4     2-OCTAPRENYL-METHOXY-BENZOQ-METH-MONOMER   \n...                                        ...   \n4415                              YTFR-MONOMER   \n4416                              YTFT-MONOMER   \n4417                              ZNUA-MONOMER   \n4418                              ZNUB-MONOMER   \n4419                              ZNUC-MONOMER   \n\n                                            common_name other_features  \\\n0     1-acylglycerol-3-phosphate <i>O</i>-acyltransf...             []   \n1                                 1-phosphofructokinase          [ATP]   \n2                         2-dehydropantoate 2-reductase         [NADP]   \n3                            2-isopropylmalate synthase             []   \n4     bifunctional 2-octaprenyl-6-methoxy-1,4-benzoq...             []   \n...                                                 ...            ...   \n4415  galactofuranose ABC transporter putative ATP b...          [ATP]   \n4416  galactofuranose ABC transporter putative membr...             []   \n4417  Zn<sup>2+</sup> ABC transporter periplasmic bi...             []   \n4418   Zn<sup>2+</sup> ABC transporter membrane subunit             []   \n4419  Zn<sup>2+</sup> ABC transporter ATP binding su...          [ATP]   \n\n     metal_features_processed  \n0                          {}  \n1                          {}  \n2                          {}  \n3                          {}  \n4                          {}  \n...                       ...  \n4415                       {}  \n4416                       {}  \n4417              {'ZN+2': 1}  \n4418                       {}  \n4419                       {}  \n\n[4420 rows x 4 columns]",
      "text/html": "<div>\n<style scoped>\n    .dataframe tbody tr th:only-of-type {\n        vertical-align: middle;\n    }\n\n    .dataframe tbody tr th {\n        vertical-align: top;\n    }\n\n    .dataframe thead th {\n        text-align: right;\n    }\n</style>\n<table border=\"1\" class=\"dataframe\">\n  <thead>\n    <tr style=\"text-align: right;\">\n      <th></th>\n      <th>id</th>\n      <th>common_name</th>\n      <th>other_features</th>\n      <th>metal_features_processed</th>\n    </tr>\n  </thead>\n  <tbody>\n    <tr>\n      <th>0</th>\n      <td>1-ACYLGLYCEROL-3-P-ACYLTRANSFER-MONOMER</td>\n      <td>1-acylglycerol-3-phosphate &lt;i&gt;O&lt;/i&gt;-acyltransf...</td>\n      <td>[]</td>\n      <td>{}</td>\n    </tr>\n    <tr>\n      <th>1</th>\n      <td>1-PFK-MONOMER</td>\n      <td>1-phosphofructokinase</td>\n      <td>[ATP]</td>\n      <td>{}</td>\n    </tr>\n    <tr>\n      <th>2</th>\n      <td>2-DEHYDROPANTOATE-REDUCT-MONOMER</td>\n      <td>2-dehydropantoate 2-reductase</td>\n      <td>[NADP]</td>\n      <td>{}</td>\n    </tr>\n    <tr>\n      <th>3</th>\n      <td>2-ISOPROPYLMALATESYN-MONOMER</td>\n      <td>2-isopropylmalate synthase</td>\n      <td>[]</td>\n      <td>{}</td>\n    </tr>\n    <tr>\n      <th>4</th>\n      <td>2-OCTAPRENYL-METHOXY-BENZOQ-METH-MONOMER</td>\n      <td>bifunctional 2-octaprenyl-6-methoxy-1,4-benzoq...</td>\n      <td>[]</td>\n      <td>{}</td>\n    </tr>\n    <tr>\n      <th>...</th>\n      <td>...</td>\n      <td>...</td>\n      <td>...</td>\n      <td>...</td>\n    </tr>\n    <tr>\n      <th>4415</th>\n      <td>YTFR-MONOMER</td>\n      <td>galactofuranose ABC transporter putative ATP b...</td>\n      <td>[ATP]</td>\n      <td>{}</td>\n    </tr>\n    <tr>\n      <th>4416</th>\n      <td>YTFT-MONOMER</td>\n      <td>galactofuranose ABC transporter putative membr...</td>\n      <td>[]</td>\n      <td>{}</td>\n    </tr>\n    <tr>\n      <th>4417</th>\n      <td>ZNUA-MONOMER</td>\n      <td>Zn&lt;sup&gt;2+&lt;/sup&gt; ABC transporter periplasmic bi...</td>\n      <td>[]</td>\n      <td>{'ZN+2': 1}</td>\n    </tr>\n    <tr>\n      <th>4418</th>\n      <td>ZNUB-MONOMER</td>\n      <td>Zn&lt;sup&gt;2+&lt;/sup&gt; ABC transporter membrane subunit</td>\n      <td>[]</td>\n      <td>{}</td>\n    </tr>\n    <tr>\n      <th>4419</th>\n      <td>ZNUC-MONOMER</td>\n      <td>Zn&lt;sup&gt;2+&lt;/sup&gt; ABC transporter ATP binding su...</td>\n      <td>[ATP]</td>\n      <td>{}</td>\n    </tr>\n  </tbody>\n</table>\n<p>4420 rows × 4 columns</p>\n</div>"
     },
     "execution_count": 78,
     "metadata": {},
     "output_type": "execute_result"
    }
   ],
   "source": [
    "filter_protein_df = filter_protein_df.drop(columns=['metal_features'])\n",
    "filter_protein_df"
   ],
   "metadata": {
    "collapsed": false,
    "ExecuteTime": {
     "end_time": "2023-06-27T01:17:37.409649Z",
     "start_time": "2023-06-27T01:17:37.405683Z"
    }
   }
  },
  {
   "cell_type": "code",
   "execution_count": 79,
   "outputs": [],
   "source": [
    "filter_protein_df['other_features_processed'] = 0\n",
    "filter_protein_df['other_features_processed'] = filter_protein_df['other_features_processed'].astype(object)\n",
    "\n",
    "ACCEPTED_OTHER_FEATURES = {'PYRIDOXAL_PHOSPHATE', 'THIAMINE-PYROPHOSPHATE', 'FMN', 'FAD'}\n",
    "\n",
    "for i in range(len(filter_protein_df.index)):\n",
    "\n",
    "    if filter_protein_df.loc[i, 'other_features'] is not None and filter_protein_df.loc[i, 'other_features'] != 0:\n",
    "        other_features = filter_protein_df.loc[i, 'other_features']\n",
    "\n",
    "        other_feature_count_dict = {}\n",
    "        existing_matches = set()\n",
    "\n",
    "        for feature in other_features:\n",
    "\n",
    "            # eliminate duplicates\n",
    "            if feature not in existing_matches:\n",
    "\n",
    "                existing_matches.add(feature)\n",
    "\n",
    "                if feature in ACCEPTED_OTHER_FEATURES:\n",
    "                    if feature in other_feature_count_dict:\n",
    "                        other_feature_count_dict[feature] += 1\n",
    "                    else:\n",
    "                        other_feature_count_dict[feature] = 1\n",
    "\n",
    "        filter_protein_df.at[i, 'other_features_processed'] = other_feature_count_dict"
   ],
   "metadata": {
    "collapsed": false,
    "ExecuteTime": {
     "end_time": "2023-06-27T01:19:08.389340Z",
     "start_time": "2023-06-27T01:19:08.373175Z"
    }
   }
  },
  {
   "cell_type": "code",
   "execution_count": 81,
   "outputs": [
    {
     "data": {
      "text/plain": "                                            id  \\\n0      1-ACYLGLYCEROL-3-P-ACYLTRANSFER-MONOMER   \n1                                1-PFK-MONOMER   \n2             2-DEHYDROPANTOATE-REDUCT-MONOMER   \n3                 2-ISOPROPYLMALATESYN-MONOMER   \n4     2-OCTAPRENYL-METHOXY-BENZOQ-METH-MONOMER   \n...                                        ...   \n4415                              YTFR-MONOMER   \n4416                              YTFT-MONOMER   \n4417                              ZNUA-MONOMER   \n4418                              ZNUB-MONOMER   \n4419                              ZNUC-MONOMER   \n\n                                            common_name  \\\n0     1-acylglycerol-3-phosphate <i>O</i>-acyltransf...   \n1                                 1-phosphofructokinase   \n2                         2-dehydropantoate 2-reductase   \n3                            2-isopropylmalate synthase   \n4     bifunctional 2-octaprenyl-6-methoxy-1,4-benzoq...   \n...                                                 ...   \n4415  galactofuranose ABC transporter putative ATP b...   \n4416  galactofuranose ABC transporter putative membr...   \n4417  Zn<sup>2+</sup> ABC transporter periplasmic bi...   \n4418   Zn<sup>2+</sup> ABC transporter membrane subunit   \n4419  Zn<sup>2+</sup> ABC transporter ATP binding su...   \n\n     metal_features_processed other_features_processed  \n0                          {}                       {}  \n1                          {}                       {}  \n2                          {}                       {}  \n3                          {}                       {}  \n4                          {}                       {}  \n...                       ...                      ...  \n4415                       {}                       {}  \n4416                       {}                       {}  \n4417              {'ZN+2': 1}                       {}  \n4418                       {}                       {}  \n4419                       {}                       {}  \n\n[4420 rows x 4 columns]",
      "text/html": "<div>\n<style scoped>\n    .dataframe tbody tr th:only-of-type {\n        vertical-align: middle;\n    }\n\n    .dataframe tbody tr th {\n        vertical-align: top;\n    }\n\n    .dataframe thead th {\n        text-align: right;\n    }\n</style>\n<table border=\"1\" class=\"dataframe\">\n  <thead>\n    <tr style=\"text-align: right;\">\n      <th></th>\n      <th>id</th>\n      <th>common_name</th>\n      <th>metal_features_processed</th>\n      <th>other_features_processed</th>\n    </tr>\n  </thead>\n  <tbody>\n    <tr>\n      <th>0</th>\n      <td>1-ACYLGLYCEROL-3-P-ACYLTRANSFER-MONOMER</td>\n      <td>1-acylglycerol-3-phosphate &lt;i&gt;O&lt;/i&gt;-acyltransf...</td>\n      <td>{}</td>\n      <td>{}</td>\n    </tr>\n    <tr>\n      <th>1</th>\n      <td>1-PFK-MONOMER</td>\n      <td>1-phosphofructokinase</td>\n      <td>{}</td>\n      <td>{}</td>\n    </tr>\n    <tr>\n      <th>2</th>\n      <td>2-DEHYDROPANTOATE-REDUCT-MONOMER</td>\n      <td>2-dehydropantoate 2-reductase</td>\n      <td>{}</td>\n      <td>{}</td>\n    </tr>\n    <tr>\n      <th>3</th>\n      <td>2-ISOPROPYLMALATESYN-MONOMER</td>\n      <td>2-isopropylmalate synthase</td>\n      <td>{}</td>\n      <td>{}</td>\n    </tr>\n    <tr>\n      <th>4</th>\n      <td>2-OCTAPRENYL-METHOXY-BENZOQ-METH-MONOMER</td>\n      <td>bifunctional 2-octaprenyl-6-methoxy-1,4-benzoq...</td>\n      <td>{}</td>\n      <td>{}</td>\n    </tr>\n    <tr>\n      <th>...</th>\n      <td>...</td>\n      <td>...</td>\n      <td>...</td>\n      <td>...</td>\n    </tr>\n    <tr>\n      <th>4415</th>\n      <td>YTFR-MONOMER</td>\n      <td>galactofuranose ABC transporter putative ATP b...</td>\n      <td>{}</td>\n      <td>{}</td>\n    </tr>\n    <tr>\n      <th>4416</th>\n      <td>YTFT-MONOMER</td>\n      <td>galactofuranose ABC transporter putative membr...</td>\n      <td>{}</td>\n      <td>{}</td>\n    </tr>\n    <tr>\n      <th>4417</th>\n      <td>ZNUA-MONOMER</td>\n      <td>Zn&lt;sup&gt;2+&lt;/sup&gt; ABC transporter periplasmic bi...</td>\n      <td>{'ZN+2': 1}</td>\n      <td>{}</td>\n    </tr>\n    <tr>\n      <th>4418</th>\n      <td>ZNUB-MONOMER</td>\n      <td>Zn&lt;sup&gt;2+&lt;/sup&gt; ABC transporter membrane subunit</td>\n      <td>{}</td>\n      <td>{}</td>\n    </tr>\n    <tr>\n      <th>4419</th>\n      <td>ZNUC-MONOMER</td>\n      <td>Zn&lt;sup&gt;2+&lt;/sup&gt; ABC transporter ATP binding su...</td>\n      <td>{}</td>\n      <td>{}</td>\n    </tr>\n  </tbody>\n</table>\n<p>4420 rows × 4 columns</p>\n</div>"
     },
     "execution_count": 81,
     "metadata": {},
     "output_type": "execute_result"
    }
   ],
   "source": [
    "filter_protein_df = filter_protein_df.drop(columns=['other_features'])\n",
    "filter_protein_df"
   ],
   "metadata": {
    "collapsed": false,
    "ExecuteTime": {
     "end_time": "2023-06-27T01:19:37.603591Z",
     "start_time": "2023-06-27T01:19:37.589178Z"
    }
   }
  },
  {
   "cell_type": "code",
   "execution_count": 101,
   "outputs": [
    {
     "data": {
      "text/plain": "                                        id  \\\n0                                1-PFK_RXN   \n1                2OXOGLUTARATEDEH-CPLX_RXN   \n2          3-ISOPROPYLMALDEHYDROG-CPLX_RXN   \n3              3-ISOPROPYLMALISOM-CPLX_RXN   \n4     3-METHYL-2-OXOBUT-OHCH3XFER-CPLX_RXN   \n...                                    ...   \n1063                        CPLX0-8053_RXN   \n1064                        CPLX0-8253_RXN   \n1065                          SRP-CPLX_RXN   \n1066                     CPLX0-7796APO_RXN   \n1067                         ARCB-CPLX_RXN   \n\n                                          stoichiometry  \\\n0                     {'1-PFK': 1, '1-PFK-MONOMER': -2}   \n1     {'2OXOGLUTARATEDEH-CPLX': 1, 'E1O': -1, 'E2O':...   \n2     {'3-ISOPROPYLMALDEHYDROG-CPLX': 1, '3-ISOPROPY...   \n3     {'3-ISOPROPYLMALISOM-CPLX': 1, 'LEUC-MONOMER':...   \n4     {'3-METHYL-2-OXOBUT-OHCH3XFER-CPLX': 1, '3-CH3...   \n...                                                 ...   \n1063           {'CPLX0-8053': 1, 'EG10942-MONOMER': -1}   \n1064  {'CPLX0-8253': 1, 'CSRC-RNA': -1, 'EG11447-MON...   \n1065  {'SRP-CPLX': 1, 'EG10300-MONOMER': -1, 'FFS-RN...   \n1066                {'CPLX0-7796APO': 1, 'PD04032': -2}   \n1067               {'ARCB-CPLX': 1, 'ARCB-MONOMER': -2}   \n\n                                    common_name  \n0                                           NaN  \n1          2-oxoglutarate dehydrogenase complex  \n2                                           NaN  \n3                 3-isopropylmalate dehydratase  \n4                                           NaN  \n...                                         ...  \n1063  SelB-L-selenocysteinyl-tRNA<sup>sec</sup>  \n1064                 CsrA complex with CsrC RNA  \n1065                Signal Recognition Particle  \n1066                                        NaN  \n1067                                        NaN  \n\n[1068 rows x 3 columns]",
      "text/html": "<div>\n<style scoped>\n    .dataframe tbody tr th:only-of-type {\n        vertical-align: middle;\n    }\n\n    .dataframe tbody tr th {\n        vertical-align: top;\n    }\n\n    .dataframe thead th {\n        text-align: right;\n    }\n</style>\n<table border=\"1\" class=\"dataframe\">\n  <thead>\n    <tr style=\"text-align: right;\">\n      <th></th>\n      <th>id</th>\n      <th>stoichiometry</th>\n      <th>common_name</th>\n    </tr>\n  </thead>\n  <tbody>\n    <tr>\n      <th>0</th>\n      <td>1-PFK_RXN</td>\n      <td>{'1-PFK': 1, '1-PFK-MONOMER': -2}</td>\n      <td>NaN</td>\n    </tr>\n    <tr>\n      <th>1</th>\n      <td>2OXOGLUTARATEDEH-CPLX_RXN</td>\n      <td>{'2OXOGLUTARATEDEH-CPLX': 1, 'E1O': -1, 'E2O':...</td>\n      <td>2-oxoglutarate dehydrogenase complex</td>\n    </tr>\n    <tr>\n      <th>2</th>\n      <td>3-ISOPROPYLMALDEHYDROG-CPLX_RXN</td>\n      <td>{'3-ISOPROPYLMALDEHYDROG-CPLX': 1, '3-ISOPROPY...</td>\n      <td>NaN</td>\n    </tr>\n    <tr>\n      <th>3</th>\n      <td>3-ISOPROPYLMALISOM-CPLX_RXN</td>\n      <td>{'3-ISOPROPYLMALISOM-CPLX': 1, 'LEUC-MONOMER':...</td>\n      <td>3-isopropylmalate dehydratase</td>\n    </tr>\n    <tr>\n      <th>4</th>\n      <td>3-METHYL-2-OXOBUT-OHCH3XFER-CPLX_RXN</td>\n      <td>{'3-METHYL-2-OXOBUT-OHCH3XFER-CPLX': 1, '3-CH3...</td>\n      <td>NaN</td>\n    </tr>\n    <tr>\n      <th>...</th>\n      <td>...</td>\n      <td>...</td>\n      <td>...</td>\n    </tr>\n    <tr>\n      <th>1063</th>\n      <td>CPLX0-8053_RXN</td>\n      <td>{'CPLX0-8053': 1, 'EG10942-MONOMER': -1}</td>\n      <td>SelB-L-selenocysteinyl-tRNA&lt;sup&gt;sec&lt;/sup&gt;</td>\n    </tr>\n    <tr>\n      <th>1064</th>\n      <td>CPLX0-8253_RXN</td>\n      <td>{'CPLX0-8253': 1, 'CSRC-RNA': -1, 'EG11447-MON...</td>\n      <td>CsrA complex with CsrC RNA</td>\n    </tr>\n    <tr>\n      <th>1065</th>\n      <td>SRP-CPLX_RXN</td>\n      <td>{'SRP-CPLX': 1, 'EG10300-MONOMER': -1, 'FFS-RN...</td>\n      <td>Signal Recognition Particle</td>\n    </tr>\n    <tr>\n      <th>1066</th>\n      <td>CPLX0-7796APO_RXN</td>\n      <td>{'CPLX0-7796APO': 1, 'PD04032': -2}</td>\n      <td>NaN</td>\n    </tr>\n    <tr>\n      <th>1067</th>\n      <td>ARCB-CPLX_RXN</td>\n      <td>{'ARCB-CPLX': 1, 'ARCB-MONOMER': -2}</td>\n      <td>NaN</td>\n    </tr>\n  </tbody>\n</table>\n<p>1068 rows × 3 columns</p>\n</div>"
     },
     "execution_count": 101,
     "metadata": {},
     "output_type": "execute_result"
    }
   ],
   "source": [
    "complex_df = pd.read_csv('reconstruction/ecoli/flat/complexation_reactions.tsv', sep='\\t').loc[:, ['id', 'stoichiometry', 'common_name']]\n",
    "\n",
    "\n",
    "removed_complexes = pd.read_csv('reconstruction/ecoli/flat/complexation_reactions_removed.tsv', sep='\\t')\n",
    "\n",
    "# remove rows where id starts with '#'\n",
    "complex_df = complex_df[~complex_df['id'].str.startswith('#')].reset_index(drop=True)\n",
    "\n",
    "# remove rows of complex_df where id matches an id in removed_complexes\n",
    "complex_df = complex_df[~complex_df['id'].isin(removed_complexes['id'])].reset_index(drop=True)\n",
    "complex_df.stoichiometry = complex_df.stoichiometry.astype(object)\n",
    "\n",
    "for i, stoich in enumerate(complex_df.loc[:, 'stoichiometry']):\n",
    "\n",
    "    if type(stoich) is str and stoich[0] == '{':\n",
    "        stoich = stoich.replace('null', '-1')\n",
    "        stoich = ast.literal_eval(stoich)\n",
    "\n",
    "        complex_df.at[i, 'stoichiometry'] = stoich\n",
    "\n",
    "    else:\n",
    "        complex_df.at[i, 'stoichiometry'] = {}\n",
    "\n",
    "complex_df"
   ],
   "metadata": {
    "collapsed": false,
    "ExecuteTime": {
     "end_time": "2023-06-27T20:33:01.900909Z",
     "start_time": "2023-06-27T20:33:01.862806Z"
    }
   }
  },
  {
   "cell_type": "code",
   "execution_count": 128,
   "outputs": [
    {
     "data": {
      "text/plain": "                                        id                      complex_name  \\\n0                                1-PFK_RXN                             1-PFK   \n1                2OXOGLUTARATEDEH-CPLX_RXN             2OXOGLUTARATEDEH-CPLX   \n2          3-ISOPROPYLMALDEHYDROG-CPLX_RXN       3-ISOPROPYLMALDEHYDROG-CPLX   \n3              3-ISOPROPYLMALISOM-CPLX_RXN           3-ISOPROPYLMALISOM-CPLX   \n4     3-METHYL-2-OXOBUT-OHCH3XFER-CPLX_RXN  3-METHYL-2-OXOBUT-OHCH3XFER-CPLX   \n...                                    ...                               ...   \n1063                        CPLX0-8053_RXN                        CPLX0-8053   \n1064                        CPLX0-8253_RXN                        CPLX0-8253   \n1065                          SRP-CPLX_RXN                          SRP-CPLX   \n1066                     CPLX0-7796APO_RXN                     CPLX0-7796APO   \n1067                         ARCB-CPLX_RXN                         ARCB-CPLX   \n\n                        monomer_component_stoichiometry  \n0                                 {'1-PFK-MONOMER': -2}  \n1                                                    {}  \n2                {'3-ISOPROPYLMALDEHYDROG-MONOMER': -2}  \n3              {'LEUC-MONOMER': -1, 'LEUD-MONOMER': -1}  \n4     {'3-CH3-2-OXOBUTANOATE-OH-CH3-XFER-MONOMER': -10}  \n...                                                 ...  \n1063                            {'EG10942-MONOMER': -1}  \n1064                            {'EG11447-MONOMER': -9}  \n1065                            {'EG10300-MONOMER': -1}  \n1066                                    {'PD04032': -2}  \n1067                               {'ARCB-MONOMER': -2}  \n\n[1068 rows x 3 columns]",
      "text/html": "<div>\n<style scoped>\n    .dataframe tbody tr th:only-of-type {\n        vertical-align: middle;\n    }\n\n    .dataframe tbody tr th {\n        vertical-align: top;\n    }\n\n    .dataframe thead th {\n        text-align: right;\n    }\n</style>\n<table border=\"1\" class=\"dataframe\">\n  <thead>\n    <tr style=\"text-align: right;\">\n      <th></th>\n      <th>id</th>\n      <th>complex_name</th>\n      <th>monomer_component_stoichiometry</th>\n    </tr>\n  </thead>\n  <tbody>\n    <tr>\n      <th>0</th>\n      <td>1-PFK_RXN</td>\n      <td>1-PFK</td>\n      <td>{'1-PFK-MONOMER': -2}</td>\n    </tr>\n    <tr>\n      <th>1</th>\n      <td>2OXOGLUTARATEDEH-CPLX_RXN</td>\n      <td>2OXOGLUTARATEDEH-CPLX</td>\n      <td>{}</td>\n    </tr>\n    <tr>\n      <th>2</th>\n      <td>3-ISOPROPYLMALDEHYDROG-CPLX_RXN</td>\n      <td>3-ISOPROPYLMALDEHYDROG-CPLX</td>\n      <td>{'3-ISOPROPYLMALDEHYDROG-MONOMER': -2}</td>\n    </tr>\n    <tr>\n      <th>3</th>\n      <td>3-ISOPROPYLMALISOM-CPLX_RXN</td>\n      <td>3-ISOPROPYLMALISOM-CPLX</td>\n      <td>{'LEUC-MONOMER': -1, 'LEUD-MONOMER': -1}</td>\n    </tr>\n    <tr>\n      <th>4</th>\n      <td>3-METHYL-2-OXOBUT-OHCH3XFER-CPLX_RXN</td>\n      <td>3-METHYL-2-OXOBUT-OHCH3XFER-CPLX</td>\n      <td>{'3-CH3-2-OXOBUTANOATE-OH-CH3-XFER-MONOMER': -10}</td>\n    </tr>\n    <tr>\n      <th>...</th>\n      <td>...</td>\n      <td>...</td>\n      <td>...</td>\n    </tr>\n    <tr>\n      <th>1063</th>\n      <td>CPLX0-8053_RXN</td>\n      <td>CPLX0-8053</td>\n      <td>{'EG10942-MONOMER': -1}</td>\n    </tr>\n    <tr>\n      <th>1064</th>\n      <td>CPLX0-8253_RXN</td>\n      <td>CPLX0-8253</td>\n      <td>{'EG11447-MONOMER': -9}</td>\n    </tr>\n    <tr>\n      <th>1065</th>\n      <td>SRP-CPLX_RXN</td>\n      <td>SRP-CPLX</td>\n      <td>{'EG10300-MONOMER': -1}</td>\n    </tr>\n    <tr>\n      <th>1066</th>\n      <td>CPLX0-7796APO_RXN</td>\n      <td>CPLX0-7796APO</td>\n      <td>{'PD04032': -2}</td>\n    </tr>\n    <tr>\n      <th>1067</th>\n      <td>ARCB-CPLX_RXN</td>\n      <td>ARCB-CPLX</td>\n      <td>{'ARCB-MONOMER': -2}</td>\n    </tr>\n  </tbody>\n</table>\n<p>1068 rows × 3 columns</p>\n</div>"
     },
     "execution_count": 128,
     "metadata": {},
     "output_type": "execute_result"
    }
   ],
   "source": [
    "# create new column for complex name\n",
    "complex_df['complex_name'] = ''\n",
    "\n",
    "complex_df['monomer_component_stoichiometry'] = 0\n",
    "complex_df['monomer_component_stoichiometry'] = complex_df['monomer_component_stoichiometry'].astype(object)\n",
    "\n",
    "monomer_names = filter_protein_df['id'].tolist()\n",
    "\n",
    "# for row of complex_df, find key of stoichiometry dict with positive value, then set complex_name to that key\n",
    "for i in range(len(complex_df.index)):\n",
    "    stoichiometry = complex_df.loc[i, 'stoichiometry']\n",
    "\n",
    "    monomer_component_stoichiometry = {}\n",
    "\n",
    "    for component_name, component_count in stoichiometry.items():\n",
    "\n",
    "        if component_count > 0:\n",
    "            complex_df.at[i, 'complex_name'] = component_name\n",
    "\n",
    "        else:\n",
    "            # get monomer components of complex\n",
    "            if component_name in monomer_names:\n",
    "                monomer_component_stoichiometry[component_name] = component_count\n",
    "\n",
    "            else:\n",
    "                outer_count = abs(component_count)\n",
    "\n",
    "                # find row of complex_df where id matches component_name\n",
    "                component_stoich = complex_df.loc[complex_df['id'] == component_name, 'stoichiometry']\n",
    "\n",
    "                for inner_component_name, inner_component_count in component_stoich.items():\n",
    "                    if inner_component_count < 0:\n",
    "                        monomer_component_stoichiometry[inner_component_name] = abs(inner_component_count) * outer_count\n",
    "\n",
    "    complex_df.at[i, 'monomer_component_stoichiometry'] = monomer_component_stoichiometry\n",
    "\n",
    "complex_df.loc[:, ['id', 'complex_name', 'monomer_component_stoichiometry']]"
   ],
   "metadata": {
    "collapsed": false,
    "ExecuteTime": {
     "end_time": "2023-06-27T21:02:28.053631Z",
     "start_time": "2023-06-27T21:02:28.006107Z"
    }
   }
  },
  {
   "cell_type": "code",
   "execution_count": 125,
   "outputs": [
    {
     "data": {
      "text/plain": "0       False\n1        True\n2       False\n3       False\n4       False\n        ...  \n4415    False\n4416    False\n4417    False\n4418    False\n4419    False\nName: id, Length: 4420, dtype: bool"
     },
     "execution_count": 125,
     "metadata": {},
     "output_type": "execute_result"
    }
   ],
   "source": [
    "filter_protein_df['id'].str.contains('1-PFK')"
   ],
   "metadata": {
    "collapsed": false,
    "ExecuteTime": {
     "end_time": "2023-06-27T21:01:17.452816Z",
     "start_time": "2023-06-27T21:01:17.449796Z"
    }
   }
  },
  {
   "cell_type": "code",
   "execution_count": 126,
   "outputs": [
    {
     "data": {
      "text/plain": "                                            id  \\\n0      1-ACYLGLYCEROL-3-P-ACYLTRANSFER-MONOMER   \n1                                1-PFK-MONOMER   \n2             2-DEHYDROPANTOATE-REDUCT-MONOMER   \n3                 2-ISOPROPYLMALATESYN-MONOMER   \n4     2-OCTAPRENYL-METHOXY-BENZOQ-METH-MONOMER   \n...                                        ...   \n4415                              YTFR-MONOMER   \n4416                              YTFT-MONOMER   \n4417                              ZNUA-MONOMER   \n4418                              ZNUB-MONOMER   \n4419                              ZNUC-MONOMER   \n\n                                            common_name  \\\n0     1-acylglycerol-3-phosphate <i>O</i>-acyltransf...   \n1                                 1-phosphofructokinase   \n2                         2-dehydropantoate 2-reductase   \n3                            2-isopropylmalate synthase   \n4     bifunctional 2-octaprenyl-6-methoxy-1,4-benzoq...   \n...                                                 ...   \n4415  galactofuranose ABC transporter putative ATP b...   \n4416  galactofuranose ABC transporter putative membr...   \n4417  Zn<sup>2+</sup> ABC transporter periplasmic bi...   \n4418   Zn<sup>2+</sup> ABC transporter membrane subunit   \n4419  Zn<sup>2+</sup> ABC transporter ATP binding su...   \n\n     metal_features_processed other_features_processed  \n0                          {}                       {}  \n1                          {}                       {}  \n2                          {}                       {}  \n3                          {}                       {}  \n4                          {}                       {}  \n...                       ...                      ...  \n4415                       {}                       {}  \n4416                       {}                       {}  \n4417              {'ZN+2': 1}                       {}  \n4418                       {}                       {}  \n4419                       {}                       {}  \n\n[4420 rows x 4 columns]",
      "text/html": "<div>\n<style scoped>\n    .dataframe tbody tr th:only-of-type {\n        vertical-align: middle;\n    }\n\n    .dataframe tbody tr th {\n        vertical-align: top;\n    }\n\n    .dataframe thead th {\n        text-align: right;\n    }\n</style>\n<table border=\"1\" class=\"dataframe\">\n  <thead>\n    <tr style=\"text-align: right;\">\n      <th></th>\n      <th>id</th>\n      <th>common_name</th>\n      <th>metal_features_processed</th>\n      <th>other_features_processed</th>\n    </tr>\n  </thead>\n  <tbody>\n    <tr>\n      <th>0</th>\n      <td>1-ACYLGLYCEROL-3-P-ACYLTRANSFER-MONOMER</td>\n      <td>1-acylglycerol-3-phosphate &lt;i&gt;O&lt;/i&gt;-acyltransf...</td>\n      <td>{}</td>\n      <td>{}</td>\n    </tr>\n    <tr>\n      <th>1</th>\n      <td>1-PFK-MONOMER</td>\n      <td>1-phosphofructokinase</td>\n      <td>{}</td>\n      <td>{}</td>\n    </tr>\n    <tr>\n      <th>2</th>\n      <td>2-DEHYDROPANTOATE-REDUCT-MONOMER</td>\n      <td>2-dehydropantoate 2-reductase</td>\n      <td>{}</td>\n      <td>{}</td>\n    </tr>\n    <tr>\n      <th>3</th>\n      <td>2-ISOPROPYLMALATESYN-MONOMER</td>\n      <td>2-isopropylmalate synthase</td>\n      <td>{}</td>\n      <td>{}</td>\n    </tr>\n    <tr>\n      <th>4</th>\n      <td>2-OCTAPRENYL-METHOXY-BENZOQ-METH-MONOMER</td>\n      <td>bifunctional 2-octaprenyl-6-methoxy-1,4-benzoq...</td>\n      <td>{}</td>\n      <td>{}</td>\n    </tr>\n    <tr>\n      <th>...</th>\n      <td>...</td>\n      <td>...</td>\n      <td>...</td>\n      <td>...</td>\n    </tr>\n    <tr>\n      <th>4415</th>\n      <td>YTFR-MONOMER</td>\n      <td>galactofuranose ABC transporter putative ATP b...</td>\n      <td>{}</td>\n      <td>{}</td>\n    </tr>\n    <tr>\n      <th>4416</th>\n      <td>YTFT-MONOMER</td>\n      <td>galactofuranose ABC transporter putative membr...</td>\n      <td>{}</td>\n      <td>{}</td>\n    </tr>\n    <tr>\n      <th>4417</th>\n      <td>ZNUA-MONOMER</td>\n      <td>Zn&lt;sup&gt;2+&lt;/sup&gt; ABC transporter periplasmic bi...</td>\n      <td>{'ZN+2': 1}</td>\n      <td>{}</td>\n    </tr>\n    <tr>\n      <th>4418</th>\n      <td>ZNUB-MONOMER</td>\n      <td>Zn&lt;sup&gt;2+&lt;/sup&gt; ABC transporter membrane subunit</td>\n      <td>{}</td>\n      <td>{}</td>\n    </tr>\n    <tr>\n      <th>4419</th>\n      <td>ZNUC-MONOMER</td>\n      <td>Zn&lt;sup&gt;2+&lt;/sup&gt; ABC transporter ATP binding su...</td>\n      <td>{}</td>\n      <td>{}</td>\n    </tr>\n  </tbody>\n</table>\n<p>4420 rows × 4 columns</p>\n</div>"
     },
     "execution_count": 126,
     "metadata": {},
     "output_type": "execute_result"
    }
   ],
   "source": [
    "filter_protein_df"
   ],
   "metadata": {
    "collapsed": false,
    "ExecuteTime": {
     "end_time": "2023-06-27T21:01:23.576980Z",
     "start_time": "2023-06-27T21:01:23.572306Z"
    }
   }
  },
  {
   "cell_type": "code",
   "execution_count": 120,
   "outputs": [
    {
     "data": {
      "text/plain": "False"
     },
     "execution_count": 120,
     "metadata": {},
     "output_type": "execute_result"
    }
   ],
   "source": [
    "# check if 'name' is in filter_protein_df['id']\n",
    "'1-ACYLGLYCEROL-3-P-ACYLTRANSFER-MONOMER' in filter_protein_df.loc[:, 'id']"
   ],
   "metadata": {
    "collapsed": false,
    "ExecuteTime": {
     "end_time": "2023-06-27T20:59:49.517289Z",
     "start_time": "2023-06-27T20:59:49.511961Z"
    }
   }
  },
  {
   "cell_type": "code",
   "execution_count": null,
   "outputs": [],
   "source": [],
   "metadata": {
    "collapsed": false
   }
  }
 ],
 "metadata": {
  "kernelspec": {
   "display_name": "Python 3",
   "language": "python",
   "name": "python3"
  },
  "language_info": {
   "codemirror_mode": {
    "name": "ipython",
    "version": 2
   },
   "file_extension": ".py",
   "mimetype": "text/x-python",
   "name": "python",
   "nbconvert_exporter": "python",
   "pygments_lexer": "ipython2",
   "version": "2.7.6"
  }
 },
 "nbformat": 4,
 "nbformat_minor": 0
}
