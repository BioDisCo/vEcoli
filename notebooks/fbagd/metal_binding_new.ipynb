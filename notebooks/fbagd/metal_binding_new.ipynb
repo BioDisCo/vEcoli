{
 "cells": [
  {
   "cell_type": "code",
   "execution_count": 288,
   "metadata": {
    "collapsed": true,
    "ExecuteTime": {
     "end_time": "2023-07-24T23:08:00.699254Z",
     "start_time": "2023-07-24T23:08:00.410267Z"
    }
   },
   "outputs": [
    {
     "data": {
      "text/plain": "<Response [200]>"
     },
     "execution_count": 288,
     "metadata": {},
     "output_type": "execute_result"
    }
   ],
   "source": [
    "import numpy as np\n",
    "\n",
    "import seaborn as sns\n",
    "import pandas as pd\n",
    "import os\n",
    "import pprint\n",
    "import ast\n",
    "import re\n",
    "import matplotlib.pyplot as plt\n",
    "import dill\n",
    "import requests\n",
    "import xmltodict\n",
    "import json\n",
    "\n",
    "pp = pprint.PrettyPrinter(depth=6)\n",
    "\n",
    "os.chdir(os.path.expanduser('~/vivarium-ecoli'))\n",
    "\n",
    "s = requests.Session() # create session\n",
    "# Post login credentials to session:\n",
    "s.post('https://websvc.biocyc.org/credentials/login/', data={'email':'cellulararchitect@protonmail.com', 'password':'Cellman0451'})\n"
   ]
  },
  {
   "cell_type": "code",
   "execution_count": 2,
   "outputs": [
    {
     "data": {
      "text/plain": "                                            id  \\\n0      1-ACYLGLYCEROL-3-P-ACYLTRANSFER-MONOMER   \n1                                1-PFK-MONOMER   \n2             2-DEHYDROPANTOATE-REDUCT-MONOMER   \n3                 2-ISOPROPYLMALATESYN-MONOMER   \n4     2-OCTAPRENYL-METHOXY-BENZOQ-METH-MONOMER   \n...                                        ...   \n4415                              YTFR-MONOMER   \n4416                              YTFT-MONOMER   \n4417                              ZNUA-MONOMER   \n4418                              ZNUB-MONOMER   \n4419                              ZNUC-MONOMER   \n\n                                            common_name enzyme_reaction  \\\n0     1-acylglycerol-3-phosphate <i>O</i>-acyltransf...               0   \n1                                 1-phosphofructokinase               0   \n2                         2-dehydropantoate 2-reductase               0   \n3                            2-isopropylmalate synthase               0   \n4     bifunctional 2-octaprenyl-6-methoxy-1,4-benzoq...               0   \n...                                                 ...             ...   \n4415  galactofuranose ABC transporter putative ATP b...               0   \n4416  galactofuranose ABC transporter putative membr...               0   \n4417  Zn<sup>2+</sup> ABC transporter periplasmic bi...               0   \n4418   Zn<sup>2+</sup> ABC transporter membrane subunit               0   \n4419  Zn<sup>2+</sup> ABC transporter ATP binding su...               0   \n\n     cofactors metal_features other_features  \n0            0              0              0  \n1            0              0              0  \n2            0              0              0  \n3            0              0              0  \n4            0              0              0  \n...        ...            ...            ...  \n4415         0              0              0  \n4416         0              0              0  \n4417         0              0              0  \n4418         0              0              0  \n4419         0              0              0  \n\n[4420 rows x 6 columns]",
      "text/html": "<div>\n<style scoped>\n    .dataframe tbody tr th:only-of-type {\n        vertical-align: middle;\n    }\n\n    .dataframe tbody tr th {\n        vertical-align: top;\n    }\n\n    .dataframe thead th {\n        text-align: right;\n    }\n</style>\n<table border=\"1\" class=\"dataframe\">\n  <thead>\n    <tr style=\"text-align: right;\">\n      <th></th>\n      <th>id</th>\n      <th>common_name</th>\n      <th>enzyme_reaction</th>\n      <th>cofactors</th>\n      <th>metal_features</th>\n      <th>other_features</th>\n    </tr>\n  </thead>\n  <tbody>\n    <tr>\n      <th>0</th>\n      <td>1-ACYLGLYCEROL-3-P-ACYLTRANSFER-MONOMER</td>\n      <td>1-acylglycerol-3-phosphate &lt;i&gt;O&lt;/i&gt;-acyltransf...</td>\n      <td>0</td>\n      <td>0</td>\n      <td>0</td>\n      <td>0</td>\n    </tr>\n    <tr>\n      <th>1</th>\n      <td>1-PFK-MONOMER</td>\n      <td>1-phosphofructokinase</td>\n      <td>0</td>\n      <td>0</td>\n      <td>0</td>\n      <td>0</td>\n    </tr>\n    <tr>\n      <th>2</th>\n      <td>2-DEHYDROPANTOATE-REDUCT-MONOMER</td>\n      <td>2-dehydropantoate 2-reductase</td>\n      <td>0</td>\n      <td>0</td>\n      <td>0</td>\n      <td>0</td>\n    </tr>\n    <tr>\n      <th>3</th>\n      <td>2-ISOPROPYLMALATESYN-MONOMER</td>\n      <td>2-isopropylmalate synthase</td>\n      <td>0</td>\n      <td>0</td>\n      <td>0</td>\n      <td>0</td>\n    </tr>\n    <tr>\n      <th>4</th>\n      <td>2-OCTAPRENYL-METHOXY-BENZOQ-METH-MONOMER</td>\n      <td>bifunctional 2-octaprenyl-6-methoxy-1,4-benzoq...</td>\n      <td>0</td>\n      <td>0</td>\n      <td>0</td>\n      <td>0</td>\n    </tr>\n    <tr>\n      <th>...</th>\n      <td>...</td>\n      <td>...</td>\n      <td>...</td>\n      <td>...</td>\n      <td>...</td>\n      <td>...</td>\n    </tr>\n    <tr>\n      <th>4415</th>\n      <td>YTFR-MONOMER</td>\n      <td>galactofuranose ABC transporter putative ATP b...</td>\n      <td>0</td>\n      <td>0</td>\n      <td>0</td>\n      <td>0</td>\n    </tr>\n    <tr>\n      <th>4416</th>\n      <td>YTFT-MONOMER</td>\n      <td>galactofuranose ABC transporter putative membr...</td>\n      <td>0</td>\n      <td>0</td>\n      <td>0</td>\n      <td>0</td>\n    </tr>\n    <tr>\n      <th>4417</th>\n      <td>ZNUA-MONOMER</td>\n      <td>Zn&lt;sup&gt;2+&lt;/sup&gt; ABC transporter periplasmic bi...</td>\n      <td>0</td>\n      <td>0</td>\n      <td>0</td>\n      <td>0</td>\n    </tr>\n    <tr>\n      <th>4418</th>\n      <td>ZNUB-MONOMER</td>\n      <td>Zn&lt;sup&gt;2+&lt;/sup&gt; ABC transporter membrane subunit</td>\n      <td>0</td>\n      <td>0</td>\n      <td>0</td>\n      <td>0</td>\n    </tr>\n    <tr>\n      <th>4419</th>\n      <td>ZNUC-MONOMER</td>\n      <td>Zn&lt;sup&gt;2+&lt;/sup&gt; ABC transporter ATP binding su...</td>\n      <td>0</td>\n      <td>0</td>\n      <td>0</td>\n      <td>0</td>\n    </tr>\n  </tbody>\n</table>\n<p>4420 rows × 6 columns</p>\n</div>"
     },
     "execution_count": 2,
     "metadata": {},
     "output_type": "execute_result"
    }
   ],
   "source": [
    "# get a set of all monomers with an associated uniprot id\n",
    "proteins_df = pd.read_csv('reconstruction/ecoli/flat/proteins.tsv', sep='\\t').loc[:, [\"id\", \"common_name\"]]\n",
    "\n",
    "for column in [\"enzyme_reaction\", \"cofactors\", \"metal_features\", \"other_features\"]:\n",
    "    proteins_df[column] = 0\n",
    "    proteins_df[column] = proteins_df[column].astype(object)\n",
    "\n",
    "proteins_df"
   ],
   "metadata": {
    "collapsed": false,
    "ExecuteTime": {
     "end_time": "2023-07-20T19:39:22.482573Z",
     "start_time": "2023-07-20T19:39:22.456018Z"
    }
   }
  },
  {
   "cell_type": "markdown",
   "source": [
    "## Get relevant EcoCyc data and annotate protein monomer table"
   ],
   "metadata": {
    "collapsed": false
   }
  },
  {
   "cell_type": "code",
   "execution_count": 3,
   "outputs": [
    {
     "name": "stdout",
     "output_type": "stream",
     "text": [
      "{'@ptools-version': '27.0',\n",
      " '@xml:base': 'http://BioCyc.org/getxml?ECOLI:EG11333-MONOMER',\n",
      " 'Protein': {'@ID': 'ECOLI:EG11333-MONOMER',\n",
      "             '@detail': 'full',\n",
      "             '@frameid': 'EG11333-MONOMER',\n",
      "             '@orgid': 'ECOLI',\n",
      "             'catalyzes': {'Enzymatic-Reaction': {'@ID': 'ECOLI:ENZRXN0-7774',\n",
      "                                                  '@detail': 'low',\n",
      "                                                  '@frameid': 'ENZRXN0-7774',\n",
      "                                                  '@orgid': 'ECOLI',\n",
      "                                                  'common-name': {'#text': '2-octaprenylphenol '\n",
      "                                                                           '6-hydroxylase',\n",
      "                                                                  '@datatype': 'string'},\n",
      "                                                  'enzyme': {'Protein': {'@frameid': 'EG11333-MONOMER',\n",
      "                                                                         '@orgid': 'ECOLI',\n",
      "                                                                         '@resource': '#ECOLI:EG11333-MONOMER'}},\n",
      "                                                  'reaction': {'Reaction': {'@frameid': '2-OCTAPRENYLPHENOL-HYDROX-RXN',\n",
      "                                                                            '@orgid': 'ECOLI',\n",
      "                                                                            '@resource': 'getxml?ECOLI:2-OCTAPRENYLPHENOL-HYDROX-RXN'}}}},\n",
      "             'comment': {'#text': 'UbiI is a component of the Ubi complex '\n",
      "                                  'metabolon [<a '\n",
      "                                  'href=\"http://www.ncbi.nlm.nih.gov/pubmed/30686758\">Hajj19</a>].  '\n",
      "                                  'UbiI functions in the hydroxylation of the '\n",
      "                                  'C5 position during the aerobic biosynthesis '\n",
      "                                  'of ubiquinone-8.\\n'\n",
      "                                  '<p>\\n'\n",
      "                                  'UbiI predominantly localizes to the '\n",
      "                                  'cytosol.  The seven ubiquinone biosynthesis '\n",
      "                                  'proteins UbiE, UbiF, UbiG, UbiH, UbiI, '\n",
      "                                  'UbiJ, and UbiK form a 1 MDa complex in the '\n",
      "                                  'cytosol [<a '\n",
      "                                  'href=\"http://www.ncbi.nlm.nih.gov/pubmed/30686758\">Hajj19</a>].  \\n'\n",
      "                                  '<p>\\n'\n",
      "                                  'Purified UbiI is unstable; an inactive '\n",
      "                                  'truncated form was isolated and behaves '\n",
      "                                  'like a tetramer in solution.  The crystal '\n",
      "                                  'structure of this protein has been solved '\n",
      "                                  'at 2.0 &Aring; resolution.  Point mutants '\n",
      "                                  'in the predicted FAD binding site do not '\n",
      "                                  'complement a &Delta;<i>ubiI</i> mutant [<a '\n",
      "                                  'href=\"http://www.ncbi.nlm.nih.gov/pubmed/23709220\">Hajj13</a>].\\n'\n",
      "                                  '<p>\\n'\n",
      "                                  'Deletion of <i>ubiI</i> (<i>visC</i>) has '\n",
      "                                  'no effect on photosensitivity or aerobic '\n",
      "                                  'respiration [<a '\n",
      "                                  'href=\"http://www.ncbi.nlm.nih.gov/pubmed/1339425\">Nakahigashi92</a>, '\n",
      "                                  '<a '\n",
      "                                  'href=\"http://www.ncbi.nlm.nih.gov/pubmed/23709220\">Hajj13</a>]; '\n",
      "                                  'however, a <i>ubiI</i> mutant strain '\n",
      "                                  'contains only 7% of wild type levels of '\n",
      "                                  'ubiquinone-8 and accumulates '\n",
      "                                  '3-octaprenyl-4-hydroxyphenol '\n",
      "                                  '(4-HP<sub>8</sub>) [<a '\n",
      "                                  'href=\"http://www.ncbi.nlm.nih.gov/pubmed/23709220\">Hajj13</a>].  '\n",
      "                                  'The residual C5 hydroxylase activity '\n",
      "                                  'appears to be provided by UbiF [<a '\n",
      "                                  'href=\"http://www.ncbi.nlm.nih.gov/pubmed/23709220\">Hajj13</a>].  '\n",
      "                                  'A &Delta;<i>ubiI</i>&Delta;<i>ubiK</i> '\n",
      "                                  'double mutant produces no detectable '\n",
      "                                  'ubiquinone and in contrast to the single '\n",
      "                                  'mutants, has a significant growth defect '\n",
      "                                  'when grown aerobically on rich medium and '\n",
      "                                  'does not grow on the non-fermentable carbon '\n",
      "                                  'sources oleate, acetate, and succinate [<a '\n",
      "                                  'href=\"http://www.ncbi.nlm.nih.gov/pubmed/29042439\">Agrawal17</a>].  '\n",
      "                                  'A <i>ubiI</i> null mutant shows increased '\n",
      "                                  'mean peak length duration of mechanically '\n",
      "                                  'induced calcium flux across the membrane '\n",
      "                                  '[<a '\n",
      "                                  'href=\"http://www.ncbi.nlm.nih.gov/pubmed/28808010\">Bruni17</a>].  '\n",
      "                                  'The requirement for <i>ubiI</i> and other '\n",
      "                                  'ubiquinone biosynthesis genes for growth in '\n",
      "                                  'long chain fatty acids (LCFAs) such as '\n",
      "                                  'oleate suggests that ubiquinone mitigates '\n",
      "                                  'oxidative stress generated during LCFA '\n",
      "                                  'degradation [<a '\n",
      "                                  'href=\"http://www.ncbi.nlm.nih.gov/pubmed/29042439\">Agrawal17</a>].\\n'\n",
      "                                  '<p>\\n'\n",
      "                                  'Radiotracer studies have suggested that '\n",
      "                                  'UbiA, UbiD, and UbiI can utilize '\n",
      "                                  '<i>p</i>-aminobenzoate or intermediates '\n",
      "                                  'derived from it as substrates [<a '\n",
      "                                  'href=\"http://www.ncbi.nlm.nih.gov/pubmed/25681964\">Xie15</a>].\\n'\n",
      "                                  '<p>\\n'\n",
      "                                  'Review: [<a '\n",
      "                                  'href=\"http://www.ncbi.nlm.nih.gov/pubmed/24480387\">Aussel14</a>]',\n",
      "                         '@datatype': 'string'},\n",
      "             'common-name': {'#text': '2-octaprenylphenol 6-hydroxylase',\n",
      "                             '@datatype': 'string'},\n",
      "             'component-of': {'Protein': {'@frameid': 'CPLX0-8301',\n",
      "                                          '@orgid': 'ECOLI',\n",
      "                                          '@resource': 'getxml?ECOLI:CPLX0-8301'}},\n",
      "             'credits': {'last-curated': [{'Organization': {'@frameid': 'SRI',\n",
      "                                                            '@orgid': 'ECOLI',\n",
      "                                                            '@resource': '#ECOLI:SRI'},\n",
      "                                           'Person': {'@ID': 'ECOLI:keseler',\n",
      "                                                      '@detail': 'full',\n",
      "                                                      '@frameid': 'keseler',\n",
      "                                                      '@orgid': 'ECOLI',\n",
      "                                                      'affiliations': {...},\n",
      "                                                      'common-name': {...},\n",
      "                                                      'email': {...}},\n",
      "                                           'date': {'#text': '2013-06-11',\n",
      "                                                    '@datatype': 'date'}},\n",
      "                                          {'Organization': {'@frameid': 'SRI',\n",
      "                                                            '@orgid': 'ECOLI',\n",
      "                                                            '@resource': '#ECOLI:SRI'},\n",
      "                                           'Person': {'@frameid': 'keseler',\n",
      "                                                      '@orgid': 'ECOLI',\n",
      "                                                      '@resource': '#ECOLI:keseler'},\n",
      "                                           'date': {'#text': '2017-09-01',\n",
      "                                                    '@datatype': 'date'}},\n",
      "                                          {'Organization': {'@frameid': 'SRI',\n",
      "                                                            '@orgid': 'ECOLI',\n",
      "                                                            '@resource': '#ECOLI:SRI'},\n",
      "                                           'Person': {'@frameid': 'keseler',\n",
      "                                                      '@orgid': 'ECOLI',\n",
      "                                                      '@resource': '#ECOLI:keseler'},\n",
      "                                           'date': {'#text': '2019-03-25',\n",
      "                                                    '@datatype': 'date'}}]},\n",
      "             'dblink': [{'dblink-URL': 'https://alphafold.ebi.ac.uk/entry/P25535',\n",
      "                         'dblink-db': 'ALPHAFOLD',\n",
      "                         'dblink-oid': 'P25535',\n",
      "                         'dblink-relationship': 'unification'},\n",
      "                        {'dblink-URL': 'http://www.ebi.ac.uk/interpro/entry/IPR036188',\n",
      "                         'dblink-db': 'INTERPRO',\n",
      "                         'dblink-oid': 'IPR036188',\n",
      "                         'dblink-relationship': 'IN-FAMILY'},\n",
      "                        {'dblink-URL': 'https://www.ebi.ac.uk/interpro/entry/pfam/PF01494',\n",
      "                         'dblink-db': 'PFAM',\n",
      "                         'dblink-oid': 'PF01494',\n",
      "                         'dblink-relationship': 'IN-FAMILY'},\n",
      "                        {'dblink-URL': 'http://www.rcsb.org/structure/4K22',\n",
      "                         'dblink-db': 'PDB',\n",
      "                         'dblink-oid': '4K22',\n",
      "                         'dblink-relationship': 'Structure'},\n",
      "                        {'dblink-URL': 'https://swissmodel.expasy.org/repository/uniprot/P25535',\n",
      "                         'dblink-db': 'SMR',\n",
      "                         'dblink-oid': 'P25535',\n",
      "                         'dblink-relationship': 'unification'},\n",
      "                        {'dblink-URL': 'http://www.ebi.ac.uk/interpro/entry/IPR010971',\n",
      "                         'dblink-db': 'INTERPRO',\n",
      "                         'dblink-oid': 'IPR010971',\n",
      "                         'dblink-relationship': 'IN-FAMILY'},\n",
      "                        {'dblink-URL': 'http://www.ebi.ac.uk/interpro/entry/IPR018168',\n",
      "                         'dblink-db': 'INTERPRO',\n",
      "                         'dblink-oid': 'IPR018168',\n",
      "                         'dblink-relationship': 'IN-FAMILY'},\n",
      "                        {'dblink-URL': 'http://www.ebi.ac.uk/interpro/entry/IPR002938',\n",
      "                         'dblink-db': 'INTERPRO',\n",
      "                         'dblink-oid': 'IPR002938',\n",
      "                         'dblink-relationship': 'IN-FAMILY'},\n",
      "                        {'dblink-URL': 'http://prosite.expasy.org/cgi-bin/prosite/nicedoc.pl?PS01304',\n",
      "                         'dblink-db': 'PROSITE',\n",
      "                         'dblink-oid': 'PS01304',\n",
      "                         'dblink-relationship': 'IN-FAMILY'},\n",
      "                        {'dblink-URL': 'http://www.ebi.ac.uk/pride/searchSummary.do?queryTypeSelected=identification%20accession%20number&identificationAccessionNumber=P25535',\n",
      "                         'dblink-db': 'PRIDE',\n",
      "                         'dblink-oid': 'P25535',\n",
      "                         'dblink-relationship': 'unification'},\n",
      "                        {'dblink-URL': 'http://pir.georgetown.edu/cgi-bin/pro/entry_pro?id=PRO_000024212',\n",
      "                         'dblink-db': 'PRODB',\n",
      "                         'dblink-oid': 'PRO_000024212',\n",
      "                         'dblink-relationship': 'unification'},\n",
      "                        {'dblink-URL': 'http://ecoliwiki.org/colipedia/index.php/b2906',\n",
      "                         'dblink-db': 'ECOLIWIKI',\n",
      "                         'dblink-oid': 'b2906',\n",
      "                         'dblink-relationship': 'unification'},\n",
      "                        {'dblink-URL': 'http://modbase.compbio.ucsf.edu/modbase-cgi/model_search.cgi?searchkw=name&kword=P25535',\n",
      "                         'dblink-db': 'MODBASE',\n",
      "                         'dblink-oid': 'P25535',\n",
      "                         'dblink-relationship': 'unification'},\n",
      "                        {'dblink-URL': 'http://www.ncbi.nlm.nih.gov/entrez/viewer.fcgi?val=NP_417382',\n",
      "                         'dblink-db': 'REFSEQ',\n",
      "                         'dblink-oid': 'NP_417382',\n",
      "                         'dblink-relationship': 'unification'},\n",
      "                        {'dblink-URL': 'https://www.uniprot.org/uniprot/P25535',\n",
      "                         'dblink-db': 'UNIPROT',\n",
      "                         'dblink-oid': 'P25535',\n",
      "                         'dblink-relationship': 'unification'}],\n",
      "             'gene': {'Gene': {'@frameid': 'EG11333',\n",
      "                               '@orgid': 'ECOLI',\n",
      "                               '@resource': 'getxml?ECOLI:EG11333'}},\n",
      "             'has-feature': [{'Feature': {'@ID': 'ECOLI:FTR0-1605473',\n",
      "                                          '@detail': 'full',\n",
      "                                          '@frameid': 'FTR0-1605473',\n",
      "                                          '@orgid': 'ECOLI',\n",
      "                                          'accession-1': {'#text': 'PF01494.22',\n",
      "                                                          '@datatype': 'string'},\n",
      "                                          'evidence': {'Evidence-Code': {...},\n",
      "                                                       'Publication': {...}},\n",
      "                                          'feature-of': {'Protein': {...}},\n",
      "                                          'left-end-position': {'#text': '4',\n",
      "                                                                '@datatype': 'integer'},\n",
      "                                          'parent': {'Feature': {...}},\n",
      "                                          'right-end-position': {'#text': '344',\n",
      "                                                                 '@datatype': 'integer'}}},\n",
      "                             {'Feature': {'@ID': 'ECOLI:FTR0-1587742',\n",
      "                                          '@detail': 'full',\n",
      "                                          '@frameid': 'FTR0-1587742',\n",
      "                                          '@orgid': 'ECOLI',\n",
      "                                          'alternate-sequence': {'#text': 'A',\n",
      "                                                                 '@datatype': 'string'},\n",
      "                                          'comment': {'#text': 'UniProt: In '\n",
      "                                                               'Ref. 1; '\n",
      "                                                               'BAA14327..',\n",
      "                                                      '@datatype': 'string'},\n",
      "                                          'evidence': [{...}, {...}],\n",
      "                                          'feature-of': {'Protein': {...}},\n",
      "                                          'left-end-position': {'#text': '383',\n",
      "                                                                '@datatype': 'integer'},\n",
      "                                          'parent': {'Feature': {...}},\n",
      "                                          'right-end-position': {'#text': '383',\n",
      "                                                                 '@datatype': 'integer'}}},\n",
      "                             {'Feature': {'@ID': 'ECOLI:FTR0-1587741',\n",
      "                                          '@detail': 'full',\n",
      "                                          '@frameid': 'FTR0-1587741',\n",
      "                                          '@orgid': 'ECOLI',\n",
      "                                          'alternate-sequence': {'#text': 'A',\n",
      "                                                                 '@datatype': 'string'},\n",
      "                                          'comment': {'#text': 'UniProt: In '\n",
      "                                                               'Ref. 1; '\n",
      "                                                               'BAA14327..',\n",
      "                                                      '@datatype': 'string'},\n",
      "                                          'evidence': [{...}, {...}],\n",
      "                                          'feature-of': {'Protein': {...}},\n",
      "                                          'left-end-position': {'#text': '26',\n",
      "                                                                '@datatype': 'integer'},\n",
      "                                          'parent': {'Feature': {...}},\n",
      "                                          'right-end-position': {'#text': '26',\n",
      "                                                                 '@datatype': 'integer'}}},\n",
      "                             {'Feature': {'@ID': 'ECOLI:FTR0-1587740',\n",
      "                                          '@detail': 'full',\n",
      "                                          '@frameid': 'FTR0-1587740',\n",
      "                                          '@orgid': 'ECOLI',\n",
      "                                          'alternate-sequence': {'#text': 'AVD',\n",
      "                                                                 '@datatype': 'string'},\n",
      "                                          'comment': {'#text': 'UniProt: Leads '\n",
      "                                                               'to the same '\n",
      "                                                               'phenotype as '\n",
      "                                                               'the ubiI '\n",
      "                                                               'deletion '\n",
      "                                                               'mutant, '\n",
      "                                                               'indicating a '\n",
      "                                                               'strongly '\n",
      "                                                               'impaired '\n",
      "                                                               'catalytic '\n",
      "                                                               'activity..',\n",
      "                                                      '@datatype': 'string'},\n",
      "                                          'evidence': {'Evidence-Code': {...},\n",
      "                                                       'Publication': {...}},\n",
      "                                          'feature-of': {'Protein': {...}},\n",
      "                                          'left-end-position': {'#text': '301',\n",
      "                                                                '@datatype': 'integer'},\n",
      "                                          'parent': {'Feature': {...}},\n",
      "                                          'right-end-position': {'#text': '303',\n",
      "                                                                 '@datatype': 'integer'}}},\n",
      "                             {'Feature': {'@ID': 'ECOLI:FTR0-1587739',\n",
      "                                          '@detail': 'full',\n",
      "                                          '@frameid': 'FTR0-1587739',\n",
      "                                          '@orgid': 'ECOLI',\n",
      "                                          'attached-group': {'Compound': {...}},\n",
      "                                          'comment': {'#text': 'UniProt: FAD.',\n",
      "                                                      '@datatype': 'string'},\n",
      "                                          'evidence': {'Evidence-Code': {...},\n",
      "                                                       'Publication': {...}},\n",
      "                                          'feature-of': {'Protein': {...}},\n",
      "                                          'left-end-position': {'#text': '297',\n",
      "                                                                '@datatype': 'integer'},\n",
      "                                          'parent': {'Feature': {...}},\n",
      "                                          'right-end-position': {'#text': '303',\n",
      "                                                                 '@datatype': 'integer'}}},\n",
      "                             {'Feature': {'@ID': 'ECOLI:FTR0-1587738',\n",
      "                                          '@detail': 'full',\n",
      "                                          '@frameid': 'FTR0-1587738',\n",
      "                                          '@orgid': 'ECOLI',\n",
      "                                          'attached-group': {'Compound': {...}},\n",
      "                                          'comment': {'#text': 'UniProt: FAD.',\n",
      "                                                      '@datatype': 'string'},\n",
      "                                          'evidence': {'Evidence-Code': {...},\n",
      "                                                       'Publication': {...}},\n",
      "                                          'feature-of': {'Protein': {...}},\n",
      "                                          'left-end-position': {'#text': '49',\n",
      "                                                                '@datatype': 'integer'},\n",
      "                                          'parent': {'Feature': {...}},\n",
      "                                          'right-end-position': {'#text': '52',\n",
      "                                                                 '@datatype': 'integer'}}},\n",
      "                             {'Feature': {'@ID': 'ECOLI:FTR0-1552193',\n",
      "                                          '@detail': 'full',\n",
      "                                          '@frameid': 'FTR0-1552193',\n",
      "                                          '@orgid': 'ECOLI',\n",
      "                                          'comment': {'#text': 'N6-acetyllysine '\n",
      "                                                               'site '\n",
      "                                                               'upregulated '\n",
      "                                                               '(log<SUB>2</SUB>(fold-change) '\n",
      "                                                               '=  3.20) by '\n",
      "                                                               'YfiQ; digests '\n",
      "                                                               'by trypsin',\n",
      "                                                      '@datatype': 'string'},\n",
      "                                          'evidence': {'Evidence-Code': {...},\n",
      "                                                       'Publication': {...}},\n",
      "                                          'feature-of': {'Protein': {...}},\n",
      "                                          'parent': {'Feature': {...}},\n",
      "                                          'residue-number': {'#text': '373',\n",
      "                                                             '@datatype': 'integer'}}}],\n",
      "             'has-go-term': [{'GO-Term': {'@class': 'true',\n",
      "                                          '@frameid': 'GO:0016705',\n",
      "                                          '@orgid': 'ECOLI',\n",
      "                                          '@resource': 'getxml?ECOLI:GO:0016705'},\n",
      "                              'evidence': {'Evidence-Code': {'@class': 'true',\n",
      "                                                             '@frameid': 'EV-COMP-AINF',\n",
      "                                                             '@orgid': 'ECOLI',\n",
      "                                                             '@resource': '#ECOLI:EV-COMP-AINF'},\n",
      "                                           'Publication': {'@ID': 'ECOLI:PUB-GO_REF-0000002',\n",
      "                                                           '@detail': 'full',\n",
      "                                                           '@frameid': 'PUB-GO_REF-0000002',\n",
      "                                                           '@orgid': 'ECOLI',\n",
      "                                                           'author': [...],\n",
      "                                                           'title': {...},\n",
      "                                                           'url': {...},\n",
      "                                                           'year': {...}},\n",
      "                                           'with': {'#text': 'InterPro\\\\:IPR010971',\n",
      "                                                    '@datatype': 'string'}}},\n",
      "                             {'GO-Term': {'@class': 'true',\n",
      "                                          '@frameid': 'GO:0005737',\n",
      "                                          '@orgid': 'ECOLI',\n",
      "                                          '@resource': 'getxml?ECOLI:GO:0005737'},\n",
      "                              'evidence': [{'Evidence-Code': {...},\n",
      "                                            'Publication': {...},\n",
      "                                            'with': {...}},\n",
      "                                           {'Evidence-Code': {...},\n",
      "                                            'Publication': {...},\n",
      "                                            'with': {...}}]},\n",
      "                             {'GO-Term': {'@class': 'true',\n",
      "                                          '@frameid': 'GO:0071949',\n",
      "                                          '@orgid': 'ECOLI',\n",
      "                                          '@resource': 'getxml?ECOLI:GO:0071949'},\n",
      "                              'evidence': {'Evidence-Code': {'@class': 'true',\n",
      "                                                             '@frameid': 'EV-COMP-AINF',\n",
      "                                                             '@orgid': 'ECOLI',\n",
      "                                                             '@resource': '#ECOLI:EV-COMP-AINF'},\n",
      "                                           'Publication': {'@frameid': 'PUB-GO_REF-0000002',\n",
      "                                                           '@orgid': 'ECOLI',\n",
      "                                                           '@resource': '#ECOLI:PUB-GO_REF-0000002'},\n",
      "                                           'with': {'#text': 'InterPro\\\\:IPR002938',\n",
      "                                                    '@datatype': 'string'}}},\n",
      "                             {'GO-Term': {'@class': 'true',\n",
      "                                          '@frameid': 'GO:0050660',\n",
      "                                          '@orgid': 'ECOLI',\n",
      "                                          '@resource': 'getxml?ECOLI:GO:0050660'},\n",
      "                              'evidence': {'Evidence-Code': {'@class': 'true',\n",
      "                                                             '@frameid': 'EV-COMP-AINF',\n",
      "                                                             '@orgid': 'ECOLI',\n",
      "                                                             '@resource': '#ECOLI:EV-COMP-AINF'},\n",
      "                                           'Publication': {'@frameid': 'PUB-GO_REF-0000002',\n",
      "                                                           '@orgid': 'ECOLI',\n",
      "                                                           '@resource': '#ECOLI:PUB-GO_REF-0000002'},\n",
      "                                           'with': {'#text': 'InterPro\\\\:IPR010971',\n",
      "                                                    '@datatype': 'string'}}},\n",
      "                             {'GO-Term': {'@class': 'true',\n",
      "                                          '@frameid': 'GO:0016709',\n",
      "                                          '@orgid': 'ECOLI',\n",
      "                                          '@resource': 'getxml?ECOLI:GO:0016709'},\n",
      "                              'evidence': {'Evidence-Code': {'@class': 'true',\n",
      "                                                             '@frameid': 'EV-COMP-AINF',\n",
      "                                                             '@orgid': 'ECOLI',\n",
      "                                                             '@resource': '#ECOLI:EV-COMP-AINF'},\n",
      "                                           'Publication': {'@frameid': 'PUB-GO_REF-0000002',\n",
      "                                                           '@orgid': 'ECOLI',\n",
      "                                                           '@resource': '#ECOLI:PUB-GO_REF-0000002'},\n",
      "                                           'with': {'#text': 'InterPro\\\\:IPR018168',\n",
      "                                                    '@datatype': 'string'}}},\n",
      "                             {'GO-Term': {'@class': 'true',\n",
      "                                          '@frameid': 'GO:0016491',\n",
      "                                          '@orgid': 'ECOLI',\n",
      "                                          '@resource': 'getxml?ECOLI:GO:0016491'},\n",
      "                              'evidence': {'Evidence-Code': {'@class': 'true',\n",
      "                                                             '@frameid': 'EV-COMP-AINF',\n",
      "                                                             '@orgid': 'ECOLI',\n",
      "                                                             '@resource': '#ECOLI:EV-COMP-AINF'},\n",
      "                                           'Publication': {'@frameid': 'PUB-GO_REF-0000043',\n",
      "                                                           '@orgid': 'ECOLI',\n",
      "                                                           '@resource': '#ECOLI:PUB-GO_REF-0000043'},\n",
      "                                           'with': {'#text': 'SP_KW\\\\:KW-0560',\n",
      "                                                    '@datatype': 'string'}}},\n",
      "                             {'GO-Term': {'@class': 'true',\n",
      "                                          '@frameid': 'GO:0004497',\n",
      "                                          '@orgid': 'ECOLI',\n",
      "                                          '@resource': 'getxml?ECOLI:GO:0004497'},\n",
      "                              'evidence': {'Evidence-Code': {'@class': 'true',\n",
      "                                                             '@frameid': 'EV-COMP-AINF',\n",
      "                                                             '@orgid': 'ECOLI',\n",
      "                                                             '@resource': '#ECOLI:EV-COMP-AINF'},\n",
      "                                           'Publication': {'@frameid': 'PUB-GO_REF-0000043',\n",
      "                                                           '@orgid': 'ECOLI',\n",
      "                                                           '@resource': '#ECOLI:PUB-GO_REF-0000043'},\n",
      "                                           'with': {'#text': 'SP_KW\\\\:KW-0503',\n",
      "                                                    '@datatype': 'string'}}},\n",
      "                             {'GO-Term': {'@class': 'true',\n",
      "                                          '@frameid': 'GO:0110142',\n",
      "                                          '@orgid': 'ECOLI',\n",
      "                                          '@resource': 'getxml?ECOLI:GO:0110142'},\n",
      "                              'evidence': {'Evidence-Code': {'@ID': 'ECOLI:EV-EXP-IDA',\n",
      "                                                             '@class': 'true',\n",
      "                                                             '@detail': 'full',\n",
      "                                                             '@frameid': 'EV-EXP-IDA',\n",
      "                                                             '@orgid': 'ECOLI',\n",
      "                                                             'comment': {...},\n",
      "                                                             'common-name': {'#text': 'Inferred '\n",
      "                                                                                      'from '\n",
      "                                                                                      'direct '\n",
      "                                                                                      'assay',\n",
      "                                                                             '@datatype': 'string'},\n",
      "                                                             'parent': {...}},\n",
      "                                           'Publication': {'@ID': 'ECOLI:PUB-30686758',\n",
      "                                                           '@detail': 'full',\n",
      "                                                           '@frameid': 'PUB-30686758',\n",
      "                                                           '@orgid': 'ECOLI',\n",
      "                                                           'author': [...],\n",
      "                                                           'pubmed-id': {...},\n",
      "                                                           'source': {...},\n",
      "                                                           'title': {...},\n",
      "                                                           'year': {...}},\n",
      "                                           'with': {'@datatype': 'string'}}},\n",
      "                             {'GO-Term': {'@class': 'true',\n",
      "                                          '@frameid': 'GO:0005515',\n",
      "                                          '@orgid': 'ECOLI',\n",
      "                                          '@resource': 'getxml?ECOLI:GO:0005515'},\n",
      "                              'evidence': {'Evidence-Code': {'@ID': 'ECOLI:EV-EXP-IPI',\n",
      "                                                             '@class': 'true',\n",
      "                                                             '@detail': 'full',\n",
      "                                                             '@frameid': 'EV-EXP-IPI',\n",
      "                                                             '@orgid': 'ECOLI',\n",
      "                                                             'comment': {...},\n",
      "                                                             'common-name': {'#text': 'Inferred '\n",
      "                                                                                      'from '\n",
      "                                                                                      'physical '\n",
      "                                                                                      'interaction',\n",
      "                                                                             '@datatype': 'string'},\n",
      "                                                             'parent': {...}},\n",
      "                                           'Publication': {'@frameid': 'PUB-30686758',\n",
      "                                                           '@orgid': 'ECOLI',\n",
      "                                                           '@resource': '#ECOLI:PUB-30686758'},\n",
      "                                           'with': {'#text': 'UniProtKB\\\\:P0A887|UniProtKB\\\\:P75728|UniProtKB\\\\:P17993|UniProtKB\\\\:P25534|UniProtKB\\\\:P0ADP7',\n",
      "                                                    '@datatype': 'string'}}},\n",
      "                             {'GO-Term': {'@class': 'true',\n",
      "                                          '@frameid': 'GO:0005829',\n",
      "                                          '@orgid': 'ECOLI',\n",
      "                                          '@resource': 'getxml?ECOLI:GO:0005829'},\n",
      "                              'evidence': {'Evidence-Code': {'@class': 'true',\n",
      "                                                             '@frameid': 'EV-COMP-AINF',\n",
      "                                                             '@orgid': 'ECOLI',\n",
      "                                                             '@resource': '#ECOLI:EV-COMP-AINF'},\n",
      "                                           'Publication': {'@ID': 'ECOLI:PUB-19054114',\n",
      "                                                           '@detail': 'full',\n",
      "                                                           '@frameid': 'PUB-19054114',\n",
      "                                                           '@orgid': 'ECOLI',\n",
      "                                                           'author': [...],\n",
      "                                                           'pubmed-id': {...},\n",
      "                                                           'source': {...},\n",
      "                                                           'title': {...},\n",
      "                                                           'year': {...}},\n",
      "                                           'with': {'@datatype': 'string'}}},\n",
      "                             {'GO-Term': {'@class': 'true',\n",
      "                                          '@frameid': 'GO:0019168',\n",
      "                                          '@orgid': 'ECOLI',\n",
      "                                          '@resource': 'getxml?ECOLI:GO:0019168'},\n",
      "                              'evidence': [{'Evidence-Code': {...},\n",
      "                                            'Publication': {...},\n",
      "                                            'with': {...}},\n",
      "                                           {'Evidence-Code': {...},\n",
      "                                            'Publication': {...},\n",
      "                                            'with': {...}},\n",
      "                                           {'Evidence-Code': {...},\n",
      "                                            'Publication': {...},\n",
      "                                            'with': {...}}]},\n",
      "                             {'GO-Term': {'@class': 'true',\n",
      "                                          '@frameid': 'GO:0006744',\n",
      "                                          '@orgid': 'ECOLI',\n",
      "                                          '@resource': 'getxml?ECOLI:GO:0006744'},\n",
      "                              'evidence': [{'Evidence-Code': {...},\n",
      "                                            'Publication': {...},\n",
      "                                            'with': {...}},\n",
      "                                           {'Evidence-Code': {...},\n",
      "                                            'Publication': {...},\n",
      "                                            'with': {...}},\n",
      "                                           {'Evidence-Code': {...},\n",
      "                                            'Publication': {...},\n",
      "                                            'with': {...}},\n",
      "                                           {'Evidence-Code': {...},\n",
      "                                            'Publication': {...},\n",
      "                                            'with': {...}},\n",
      "                                           {'Evidence-Code': {...},\n",
      "                                            'Publication': {...},\n",
      "                                            'with': {...}}]}],\n",
      "             'location': {'cco': {'@frameid': 'CCI-CYTOSOL-GN',\n",
      "                                  '@orgid': 'ECOLI',\n",
      "                                  '@resource': 'getxml?ECOLI:CCI-CYTOSOL-GN'}},\n",
      "             'molecular-weight-seq': {'#text': '44.245',\n",
      "                                      '@datatype': 'float',\n",
      "                                      '@units': 'kD'},\n",
      "             'parent': {'Protein': {'@class': 'true',\n",
      "                                    '@frameid': 'Polypeptides',\n",
      "                                    '@orgid': 'ECOLI',\n",
      "                                    '@resource': 'getxml?ECOLI:Polypeptides'}},\n",
      "             'species': {'Organism': {'@ID': 'ECOLI:ECOLI',\n",
      "                                      '@detail': 'full',\n",
      "                                      '@frameid': 'ECOLI',\n",
      "                                      '@orgid': 'ECOLI',\n",
      "                                      'citation': {'Publication': {'@ID': 'ECOLI:PUB-34394059',\n",
      "                                                                   '@detail': 'full',\n",
      "                                                                   '@frameid': 'PUB-34394059',\n",
      "                                                                   '@orgid': 'ECOLI',\n",
      "                                                                   'author': [{'#text': 'Keseler '\n",
      "                                                                                        'IM',\n",
      "                                                                               '@datatype': 'string'},\n",
      "                                                                              {'#text': 'Gama-Castro '\n",
      "                                                                                        'S',\n",
      "                                                                               '@datatype': 'string'},\n",
      "                                                                              {'#text': 'Mackie '\n",
      "                                                                                        'A',\n",
      "                                                                               '@datatype': 'string'},\n",
      "                                                                              {'#text': 'Billington '\n",
      "                                                                                        'R',\n",
      "                                                                               '@datatype': 'string'},\n",
      "                                                                              {'#text': 'Bonavides-Martinez '\n",
      "                                                                                        'C',\n",
      "                                                                               '@datatype': 'string'},\n",
      "                                                                              {'#text': 'Caspi '\n",
      "                                                                                        'R',\n",
      "                                                                               '@datatype': 'string'},\n",
      "                                                                              {'#text': 'Kothari '\n",
      "                                                                                        'A',\n",
      "                                                                               '@datatype': 'string'},\n",
      "                                                                              {'#text': 'Krummenacker '\n",
      "                                                                                        'M',\n",
      "                                                                               '@datatype': 'string'},\n",
      "                                                                              {'#text': 'Midford '\n",
      "                                                                                        'PE',\n",
      "                                                                               '@datatype': 'string'},\n",
      "                                                                              {'#text': 'Muniz-Rascado '\n",
      "                                                                                        'L',\n",
      "                                                                               '@datatype': 'string'},\n",
      "                                                                              {'#text': 'Ong '\n",
      "                                                                                        'WK',\n",
      "                                                                               '@datatype': 'string'},\n",
      "                                                                              {'#text': 'Paley '\n",
      "                                                                                        'S',\n",
      "                                                                               '@datatype': 'string'},\n",
      "                                                                              {'#text': 'Santos-Zavaleta '\n",
      "                                                                                        'A',\n",
      "                                                                               '@datatype': 'string'},\n",
      "                                                                              {'#text': 'Subhraveti '\n",
      "                                                                                        'P',\n",
      "                                                                               '@datatype': 'string'},\n",
      "                                                                              {'#text': 'Tierrafria '\n",
      "                                                                                        'VH',\n",
      "                                                                               '@datatype': 'string'},\n",
      "                                                                              {'#text': 'Wolfe '\n",
      "                                                                                        'AJ',\n",
      "                                                                               '@datatype': 'string'},\n",
      "                                                                              {'#text': 'Collado-Vides '\n",
      "                                                                                        'J',\n",
      "                                                                               '@datatype': 'string'},\n",
      "                                                                              {'#text': 'Paulsen '\n",
      "                                                                                        'IT',\n",
      "                                                                               '@datatype': 'string'},\n",
      "                                                                              {'#text': 'Karp '\n",
      "                                                                                        'PD',\n",
      "                                                                               '@datatype': 'string'}],\n",
      "                                                                   'doi-id': {'#text': '10.3389/fmicb.2021.711077',\n",
      "                                                                              '@datatype': 'string'},\n",
      "                                                                   'pubmed-id': {'#text': '34394059',\n",
      "                                                                                 '@datatype': 'string'},\n",
      "                                                                   'source': {'#text': 'Front '\n",
      "                                                                                       'Microbiol '\n",
      "                                                                                       '12;711077',\n",
      "                                                                              '@datatype': 'string'},\n",
      "                                                                   'title': {'#text': 'The '\n",
      "                                                                                      'EcoCyc '\n",
      "                                                                                      'Database '\n",
      "                                                                                      'in '\n",
      "                                                                                      '2021.',\n",
      "                                                                             '@datatype': 'string'},\n",
      "                                                                   'year': {'#text': '2021',\n",
      "                                                                            '@datatype': 'integer'}}},\n",
      "                                      'comment': {'#text': 'EcoCyc is a '\n",
      "                                                           'model-organism '\n",
      "                                                           'database for '\n",
      "                                                           '<i>Escherichia '\n",
      "                                                           'coli</i> K-12 '\n",
      "                                                           'MG1655. For more '\n",
      "                                                           'information, see '\n",
      "                                                           'URL EcoCyc.org.\\n'\n",
      "                                                           '<p>\\n'\n",
      "                                                           'The <i>E. coli</i> '\n",
      "                                                           'genome sequence '\n",
      "                                                           'used in EcoCyc has '\n",
      "                                                           'been updated from '\n",
      "                                                           'version 2 to '\n",
      "                                                           'version 3, GenBank '\n",
      "                                                           'accession number '\n",
      "                                                           'U00096.3, for '\n",
      "                                                           'release 20.0 of '\n",
      "                                                           'EcoCyc. Despite '\n",
      "                                                           'the involvement of '\n",
      "                                                           'EcoCyc staff in '\n",
      "                                                           'ongoing updates to '\n",
      "                                                           'the U00096 record, '\n",
      "                                                           'some annotation '\n",
      "                                                           'differences may be '\n",
      "                                                           'found between '\n",
      "                                                           'U00096 and EcoCyc, '\n",
      "                                                           'such as due to '\n",
      "                                                           'recent updates to '\n",
      "                                                           'EcoCyc.',\n",
      "                                                  '@datatype': 'string'},\n",
      "                                      'common-name': {'#text': 'Escherichia '\n",
      "                                                               'coli',\n",
      "                                                      '@datatype': 'string'},\n",
      "                                      'dblink': [{'dblink-URL': 'http://www.ncbi.nlm.nih.gov/Taxonomy/Browser/wwwtax.cgi?mode=Info&id=511145',\n",
      "                                                  'dblink-db': 'NCBI-TAXONOMY-DB',\n",
      "                                                  'dblink-oid': '511145',\n",
      "                                                  'dblink-relationship': 'unification'},\n",
      "                                                 {'dblink-URL': 'http://genomesonline.org/projects?id=Gp0072557',\n",
      "                                                  'dblink-db': 'GOLD',\n",
      "                                                  'dblink-oid': 'Gp0072557',\n",
      "                                                  'dblink-relationship': 'unification'}],\n",
      "                                      'genome': {'Genetic-Element': {'@frameid': 'COLI-K12',\n",
      "                                                                     '@orgid': 'ECOLI',\n",
      "                                                                     '@resource': 'getxml?ECOLI:COLI-K12'}},\n",
      "                                      'parent': {'Organism': {'@class': 'true',\n",
      "                                                              '@frameid': 'TAX-511145',\n",
      "                                                              '@orgid': 'ECOLI',\n",
      "                                                              '@resource': 'getxml?ECOLI:TAX-511145'}},\n",
      "                                      'pgdb-author': [{'Person': {...}},\n",
      "                                                      {'Person': {...}},\n",
      "                                                      {'Person': {...}},\n",
      "                                                      {'Person': {...}},\n",
      "                                                      {'Person': {...}},\n",
      "                                                      {'Person': {...}},\n",
      "                                                      {'Person': {...}},\n",
      "                                                      {'Person': {...}},\n",
      "                                                      {'Person': {...}},\n",
      "                                                      {'Person': {...}},\n",
      "                                                      {'Person': {...}},\n",
      "                                                      {'Person': {...}},\n",
      "                                                      {'Person': {...}}],\n",
      "                                      'pgdb-copyright': {'#text': 'Copyright '\n",
      "                                                                  'SRI '\n",
      "                                                                  'International '\n",
      "                                                                  '1999-2023, '\n",
      "                                                                  'Marine '\n",
      "                                                                  'Biological '\n",
      "                                                                  'Laboratory '\n",
      "                                                                  '1998-2001, '\n",
      "                                                                  'DoubleTwist '\n",
      "                                                                  'Inc '\n",
      "                                                                  '1998-1999.  '\n",
      "                                                                  'All Rights '\n",
      "                                                                  'Reserved.',\n",
      "                                                         '@datatype': 'string'},\n",
      "                                      'pgdb-footer-citation': {'#text': '<a '\n",
      "                                                                        'href=\"https://www.frontiersin.org/articles/10.3389/fmicb.2021.711077/full\">Frontiers '\n",
      "                                                                        'in '\n",
      "                                                                        'Microbiology '\n",
      "                                                                        '2021</a>',\n",
      "                                                               '@datatype': 'string'},\n",
      "                                      'pgdb-name': {'#text': 'EcoCyc',\n",
      "                                                    '@datatype': 'string'},\n",
      "                                      'pgdb-tier': {'#text': '1',\n",
      "                                                    '@datatype': 'integer'},\n",
      "                                      'rank': 'strain',\n",
      "                                      'strain-name': {'#text': 'K-12 substr. '\n",
      "                                                               'MG1655',\n",
      "                                                      '@datatype': 'string'},\n",
      "                                      'synonym': {'#text': 'Escherichia coli '\n",
      "                                                           'K-12 substr. '\n",
      "                                                           'MG1655',\n",
      "                                                  '@datatype': 'string'}}},\n",
      "             'synonym': [{'#text': 'UbiI', '@datatype': 'string'},\n",
      "                         {'#text': 'VisC', '@datatype': 'string'}]},\n",
      " 'metadata': {'PGDB': {'@orgid': 'ECOLI',\n",
      "                       '@version': '27.0',\n",
      "                       'dblink': {'dblink-URL': 'http://www.ncbi.nlm.nih.gov/Taxonomy/Browser/wwwtax.cgi?mode=Info&id=511145',\n",
      "                                  'dblink-db': 'NCBI-TAXONOMY-DB',\n",
      "                                  'dblink-oid': '511145',\n",
      "                                  'dblink-relationship': 'unification'},\n",
      "                       'species': {'#text': 'Escherichia coli',\n",
      "                                   '@datatype': 'string'},\n",
      "                       'strain': {'#text': 'K-12 substr. MG1655',\n",
      "                                  '@datatype': 'string'}},\n",
      "              'num_results': '1',\n",
      "              'query': 'ECOLI:EG11333-MONOMER',\n",
      "              'service_name': 'getxml',\n",
      "              'url': 'http://BioCyc.org/'}}\n"
     ]
    }
   ],
   "source": [
    "# example entry\n",
    "protein = 'EG11333-MONOMER'\n",
    "req_str = f'https://websvc.biocyc.org/getxml?id=ECOLI:{protein}&detail=high'\n",
    "\n",
    "r = s.get(req_str)\n",
    "if r.status_code != 200:\n",
    "    print(protein, r.status_code)\n",
    "\n",
    "o = xmltodict.parse(r.content)['ptools-xml']\n",
    "pp.pprint(o)"
   ],
   "metadata": {
    "collapsed": false,
    "ExecuteTime": {
     "end_time": "2023-07-20T19:39:23.475804Z",
     "start_time": "2023-07-20T19:39:23.251282Z"
    }
   }
  },
  {
   "cell_type": "code",
   "execution_count": 7,
   "outputs": [
    {
     "name": "stdout",
     "output_type": "stream",
     "text": [
      "0\n",
      "100\n",
      "200\n",
      "300\n",
      "400\n",
      "500\n",
      "600\n",
      "700\n",
      "800\n",
      "900\n",
      "1000\n",
      "1100\n",
      "EG11708-MONOMER 404\n",
      "1200\n",
      "1300\n",
      "1400\n",
      "1500\n",
      "1600\n",
      "1700\n",
      "1800\n",
      "1900\n",
      "2000\n",
      "2100\n",
      "2200\n",
      "2300\n",
      "2400\n",
      "2500\n",
      "2600\n",
      "2700\n",
      "2800\n",
      "2900\n",
      "3000\n",
      "3100\n",
      "3200\n",
      "3300\n",
      "3400\n",
      "3500\n",
      "3600\n",
      "3700\n",
      "3800\n",
      "3900\n",
      "4000\n",
      "4100\n",
      "4200\n",
      "4300\n",
      "4400\n"
     ]
    }
   ],
   "source": [
    "for i in range(len(proteins_df.index)):\n",
    "    if i % 100 == 0:\n",
    "        print(i)\n",
    "\n",
    "    protein = proteins_df.loc[i, 'id']\n",
    "    proteins_df.at[i, 'other_features'] = set()\n",
    "    proteins_df.at[i, 'metal_features'] = set()\n",
    "    proteins_df.at[i, 'enzyme_reaction'] = set()\n",
    "    proteins_df.at[i, 'cofactors'] = set()\n",
    "\n",
    "    req_str = f'https://websvc.biocyc.org/getxml?id=ECOLI:{protein}&detail=high'\n",
    "\n",
    "\n",
    "\n",
    "    r = s.get(req_str)\n",
    "    if r.status_code != 200:\n",
    "        print(protein, r.status_code)\n",
    "        continue\n",
    "\n",
    "    o = xmltodict.parse(r.content)['ptools-xml']\n",
    "\n",
    "    metal_set = set()\n",
    "    other_feature_set = set()\n",
    "    if 'Protein' in o and 'has-feature' in o['Protein']:\n",
    "        features = o['Protein']['has-feature']\n",
    "\n",
    "        if type(features) is dict:\n",
    "            features = [features]\n",
    "\n",
    "        for feature in features:\n",
    "            if 'parent' not in feature['Feature']:\n",
    "                continue\n",
    "\n",
    "            category = feature['Feature']['parent']['Feature']['@frameid']\n",
    "            if category == 'Metal-Binding-Sites' and 'comment' in feature['Feature']:\n",
    "\n",
    "                # Detect match to any of the allowed metal names and allowed cofactor names and add to list\n",
    "                comment = feature['Feature']['comment']['#text']\n",
    "                metal_set.add(comment)\n",
    "\n",
    "                proteins_df.at[i, 'metal_features'] = list(metal_set)\n",
    "\n",
    "            if category == 'Nucleotide-Phosphate-Binding-Regions' and 'attached-group' in feature['Feature'] and 'Compound' in feature['Feature']['attached-group']:\n",
    "                attached_group = feature['Feature']['attached-group']['Compound']['@frameid']\n",
    "                other_feature_set.add(attached_group)\n",
    "\n",
    "            if category == 'N6-pyridoxal-phosphate-Lys-Modifications':\n",
    "                other_feature_set.add('PYRIDOXAL_PHOSPHATE')\n",
    "\n",
    "            if category == 'Protein-Segments' and 'comment' in feature['Feature'] and 'Thiamine' in feature['Feature']['comment']['#text']:\n",
    "                other_feature_set.add('THIAMINE-PYROPHOSPHATE')\n",
    "\n",
    "            if category == 'Selenocysteine-site':\n",
    "                metal_set.add('L-SELENOCYSTEINE')\n",
    "\n",
    "            proteins_df.at[i, 'metal_features'] = list(metal_set)\n",
    "            proteins_df.at[i, 'other_features'] = list(other_feature_set)\n",
    "\n",
    "        if 'catalyzes' in o['Protein']:\n",
    "            oc = o['Protein']['catalyzes']['Enzymatic-Reaction']\n",
    "\n",
    "            if type(oc) is dict:\n",
    "                oc = [oc]\n",
    "\n",
    "            cofactor_set = set()\n",
    "            enz_rxn_set = set()\n",
    "\n",
    "            for enzrxn in oc:\n",
    "                enz_id = enzrxn['@frameid']\n",
    "\n",
    "                enz_rxn_set.add(enz_id)\n",
    "\n",
    "                enz_req_str = f'https://websvc.biocyc.org/getxml?id=ECOLI:{enz_id}&detail=high'\n",
    "\n",
    "                rz = s.get(enz_req_str)\n",
    "                oe = xmltodict.parse(rz.content)['ptools-xml']['Enzymatic-Reaction']\n",
    "\n",
    "                if \"cofactor\" in oe:\n",
    "                    oe = oe['cofactor']\n",
    "\n",
    "                    if type(oe) is dict:\n",
    "                        oe = [oe]\n",
    "\n",
    "                    for cofactor in oe:\n",
    "                        cof = cofactor['Compound']['@frameid']\n",
    "                        cofactor_set.add(cof)\n",
    "\n",
    "            proteins_df.at[i, 'enzyme_reaction'] = enz_rxn_set\n",
    "            proteins_df.at[i, 'cofactors'] = cofactor_set\n",
    "\n",
    "\n"
   ],
   "metadata": {
    "collapsed": false,
    "ExecuteTime": {
     "end_time": "2023-07-20T20:46:12.073038Z",
     "start_time": "2023-07-20T20:27:44.945861Z"
    }
   }
  },
  {
   "cell_type": "code",
   "execution_count": 8,
   "outputs": [
    {
     "data": {
      "text/plain": "                                            id  \\\n0      1-ACYLGLYCEROL-3-P-ACYLTRANSFER-MONOMER   \n1                                1-PFK-MONOMER   \n2             2-DEHYDROPANTOATE-REDUCT-MONOMER   \n3                 2-ISOPROPYLMALATESYN-MONOMER   \n4     2-OCTAPRENYL-METHOXY-BENZOQ-METH-MONOMER   \n...                                        ...   \n4415                              YTFR-MONOMER   \n4416                              YTFT-MONOMER   \n4417                              ZNUA-MONOMER   \n4418                              ZNUB-MONOMER   \n4419                              ZNUC-MONOMER   \n\n                                            common_name  \\\n0     1-acylglycerol-3-phosphate <i>O</i>-acyltransf...   \n1                                 1-phosphofructokinase   \n2                         2-dehydropantoate 2-reductase   \n3                            2-isopropylmalate synthase   \n4     bifunctional 2-octaprenyl-6-methoxy-1,4-benzoq...   \n...                                                 ...   \n4415  galactofuranose ABC transporter putative ATP b...   \n4416  galactofuranose ABC transporter putative membr...   \n4417  Zn<sup>2+</sup> ABC transporter periplasmic bi...   \n4418   Zn<sup>2+</sup> ABC transporter membrane subunit   \n4419  Zn<sup>2+</sup> ABC transporter ATP binding su...   \n\n                                        enzyme_reaction cofactors  \\\n0     {ENZRXN0-7992, ENZRXN0-7993, ENZRXN0-8629, ENZ...        {}   \n1                                                    {}        {}   \n2                     {2-DEHYDROPANTOATE-REDUCT-ENZRXN}        {}   \n3                                        {ENZRXN0-6250}        {}   \n4     {ADOMET-DMK-METHYLTRANSFER-ENZRXN, 2-OCTAPRENY...        {}   \n...                                                 ...       ...   \n4415                                                 {}        {}   \n4416                                                 {}        {}   \n4417                                                 {}        {}   \n4418                                                 {}        {}   \n4419                                                 {}        {}   \n\n                                         metal_features other_features  \n0                                                    []             []  \n1                                                    []          [ATP]  \n2                                                    []         [NADP]  \n3                                                    []             []  \n4                                                    []             []  \n...                                                 ...            ...  \n4415                                                 []          [ATP]  \n4416                                                 []             []  \n4417  [UniProt: Zinc., implicated in a second zinc b...             []  \n4418                                                 []             []  \n4419                                                 []          [ATP]  \n\n[4420 rows x 6 columns]",
      "text/html": "<div>\n<style scoped>\n    .dataframe tbody tr th:only-of-type {\n        vertical-align: middle;\n    }\n\n    .dataframe tbody tr th {\n        vertical-align: top;\n    }\n\n    .dataframe thead th {\n        text-align: right;\n    }\n</style>\n<table border=\"1\" class=\"dataframe\">\n  <thead>\n    <tr style=\"text-align: right;\">\n      <th></th>\n      <th>id</th>\n      <th>common_name</th>\n      <th>enzyme_reaction</th>\n      <th>cofactors</th>\n      <th>metal_features</th>\n      <th>other_features</th>\n    </tr>\n  </thead>\n  <tbody>\n    <tr>\n      <th>0</th>\n      <td>1-ACYLGLYCEROL-3-P-ACYLTRANSFER-MONOMER</td>\n      <td>1-acylglycerol-3-phosphate &lt;i&gt;O&lt;/i&gt;-acyltransf...</td>\n      <td>{ENZRXN0-7992, ENZRXN0-7993, ENZRXN0-8629, ENZ...</td>\n      <td>{}</td>\n      <td>[]</td>\n      <td>[]</td>\n    </tr>\n    <tr>\n      <th>1</th>\n      <td>1-PFK-MONOMER</td>\n      <td>1-phosphofructokinase</td>\n      <td>{}</td>\n      <td>{}</td>\n      <td>[]</td>\n      <td>[ATP]</td>\n    </tr>\n    <tr>\n      <th>2</th>\n      <td>2-DEHYDROPANTOATE-REDUCT-MONOMER</td>\n      <td>2-dehydropantoate 2-reductase</td>\n      <td>{2-DEHYDROPANTOATE-REDUCT-ENZRXN}</td>\n      <td>{}</td>\n      <td>[]</td>\n      <td>[NADP]</td>\n    </tr>\n    <tr>\n      <th>3</th>\n      <td>2-ISOPROPYLMALATESYN-MONOMER</td>\n      <td>2-isopropylmalate synthase</td>\n      <td>{ENZRXN0-6250}</td>\n      <td>{}</td>\n      <td>[]</td>\n      <td>[]</td>\n    </tr>\n    <tr>\n      <th>4</th>\n      <td>2-OCTAPRENYL-METHOXY-BENZOQ-METH-MONOMER</td>\n      <td>bifunctional 2-octaprenyl-6-methoxy-1,4-benzoq...</td>\n      <td>{ADOMET-DMK-METHYLTRANSFER-ENZRXN, 2-OCTAPRENY...</td>\n      <td>{}</td>\n      <td>[]</td>\n      <td>[]</td>\n    </tr>\n    <tr>\n      <th>...</th>\n      <td>...</td>\n      <td>...</td>\n      <td>...</td>\n      <td>...</td>\n      <td>...</td>\n      <td>...</td>\n    </tr>\n    <tr>\n      <th>4415</th>\n      <td>YTFR-MONOMER</td>\n      <td>galactofuranose ABC transporter putative ATP b...</td>\n      <td>{}</td>\n      <td>{}</td>\n      <td>[]</td>\n      <td>[ATP]</td>\n    </tr>\n    <tr>\n      <th>4416</th>\n      <td>YTFT-MONOMER</td>\n      <td>galactofuranose ABC transporter putative membr...</td>\n      <td>{}</td>\n      <td>{}</td>\n      <td>[]</td>\n      <td>[]</td>\n    </tr>\n    <tr>\n      <th>4417</th>\n      <td>ZNUA-MONOMER</td>\n      <td>Zn&lt;sup&gt;2+&lt;/sup&gt; ABC transporter periplasmic bi...</td>\n      <td>{}</td>\n      <td>{}</td>\n      <td>[UniProt: Zinc., implicated in a second zinc b...</td>\n      <td>[]</td>\n    </tr>\n    <tr>\n      <th>4418</th>\n      <td>ZNUB-MONOMER</td>\n      <td>Zn&lt;sup&gt;2+&lt;/sup&gt; ABC transporter membrane subunit</td>\n      <td>{}</td>\n      <td>{}</td>\n      <td>[]</td>\n      <td>[]</td>\n    </tr>\n    <tr>\n      <th>4419</th>\n      <td>ZNUC-MONOMER</td>\n      <td>Zn&lt;sup&gt;2+&lt;/sup&gt; ABC transporter ATP binding su...</td>\n      <td>{}</td>\n      <td>{}</td>\n      <td>[]</td>\n      <td>[ATP]</td>\n    </tr>\n  </tbody>\n</table>\n<p>4420 rows × 6 columns</p>\n</div>"
     },
     "execution_count": 8,
     "metadata": {},
     "output_type": "execute_result"
    }
   ],
   "source": [
    "proteins_df"
   ],
   "metadata": {
    "collapsed": false,
    "ExecuteTime": {
     "end_time": "2023-07-20T22:15:24.259429Z",
     "start_time": "2023-07-20T22:15:24.255867Z"
    }
   }
  },
  {
   "cell_type": "code",
   "execution_count": 9,
   "outputs": [],
   "source": [
    "proteins_df.to_parquet('notebooks/fbagd/data/raw_protein_features.parquet', index=False)"
   ],
   "metadata": {
    "collapsed": false,
    "ExecuteTime": {
     "end_time": "2023-07-20T22:15:28.978607Z",
     "start_time": "2023-07-20T22:15:28.966222Z"
    }
   }
  },
  {
   "cell_type": "markdown",
   "source": [
    "## Reload protein feature table"
   ],
   "metadata": {
    "collapsed": false
   }
  },
  {
   "cell_type": "code",
   "execution_count": 16,
   "outputs": [
    {
     "data": {
      "text/plain": "                                            id  \\\n0      1-ACYLGLYCEROL-3-P-ACYLTRANSFER-MONOMER   \n1                                1-PFK-MONOMER   \n2             2-DEHYDROPANTOATE-REDUCT-MONOMER   \n3                 2-ISOPROPYLMALATESYN-MONOMER   \n4     2-OCTAPRENYL-METHOXY-BENZOQ-METH-MONOMER   \n...                                        ...   \n4415                              YTFR-MONOMER   \n4416                              YTFT-MONOMER   \n4417                              ZNUA-MONOMER   \n4418                              ZNUB-MONOMER   \n4419                              ZNUC-MONOMER   \n\n                                            common_name  \\\n0     1-acylglycerol-3-phosphate <i>O</i>-acyltransf...   \n1                                 1-phosphofructokinase   \n2                         2-dehydropantoate 2-reductase   \n3                            2-isopropylmalate synthase   \n4     bifunctional 2-octaprenyl-6-methoxy-1,4-benzoq...   \n...                                                 ...   \n4415  galactofuranose ABC transporter putative ATP b...   \n4416  galactofuranose ABC transporter putative membr...   \n4417  Zn<sup>2+</sup> ABC transporter periplasmic bi...   \n4418   Zn<sup>2+</sup> ABC transporter membrane subunit   \n4419  Zn<sup>2+</sup> ABC transporter ATP binding su...   \n\n                                         metal_features other_features  \\\n0                                                    []             []   \n1                                                    []          [ATP]   \n2                                                    []         [NADP]   \n3                                                    []             []   \n4                                                    []             []   \n...                                                 ...            ...   \n4415                                                 []          [ATP]   \n4416                                                 []             []   \n4417  [UniProt: Zinc., implicated in a second zinc b...             []   \n4418                                                 []             []   \n4419                                                 []          [ATP]   \n\n                                        enzyme_reaction cofactors  \n0     [ENZRXN0-7992, ENZRXN0-7993, ENZRXN0-8629, ENZ...        []  \n1                                                    []        []  \n2                     [2-DEHYDROPANTOATE-REDUCT-ENZRXN]        []  \n3                                        [ENZRXN0-6250]        []  \n4     [ADOMET-DMK-METHYLTRANSFER-ENZRXN, 2-OCTAPRENY...        []  \n...                                                 ...       ...  \n4415                                                 []        []  \n4416                                                 []        []  \n4417                                                 []        []  \n4418                                                 []        []  \n4419                                                 []        []  \n\n[4420 rows x 6 columns]",
      "text/html": "<div>\n<style scoped>\n    .dataframe tbody tr th:only-of-type {\n        vertical-align: middle;\n    }\n\n    .dataframe tbody tr th {\n        vertical-align: top;\n    }\n\n    .dataframe thead th {\n        text-align: right;\n    }\n</style>\n<table border=\"1\" class=\"dataframe\">\n  <thead>\n    <tr style=\"text-align: right;\">\n      <th></th>\n      <th>id</th>\n      <th>common_name</th>\n      <th>metal_features</th>\n      <th>other_features</th>\n      <th>enzyme_reaction</th>\n      <th>cofactors</th>\n    </tr>\n  </thead>\n  <tbody>\n    <tr>\n      <th>0</th>\n      <td>1-ACYLGLYCEROL-3-P-ACYLTRANSFER-MONOMER</td>\n      <td>1-acylglycerol-3-phosphate &lt;i&gt;O&lt;/i&gt;-acyltransf...</td>\n      <td>[]</td>\n      <td>[]</td>\n      <td>[ENZRXN0-7992, ENZRXN0-7993, ENZRXN0-8629, ENZ...</td>\n      <td>[]</td>\n    </tr>\n    <tr>\n      <th>1</th>\n      <td>1-PFK-MONOMER</td>\n      <td>1-phosphofructokinase</td>\n      <td>[]</td>\n      <td>[ATP]</td>\n      <td>[]</td>\n      <td>[]</td>\n    </tr>\n    <tr>\n      <th>2</th>\n      <td>2-DEHYDROPANTOATE-REDUCT-MONOMER</td>\n      <td>2-dehydropantoate 2-reductase</td>\n      <td>[]</td>\n      <td>[NADP]</td>\n      <td>[2-DEHYDROPANTOATE-REDUCT-ENZRXN]</td>\n      <td>[]</td>\n    </tr>\n    <tr>\n      <th>3</th>\n      <td>2-ISOPROPYLMALATESYN-MONOMER</td>\n      <td>2-isopropylmalate synthase</td>\n      <td>[]</td>\n      <td>[]</td>\n      <td>[ENZRXN0-6250]</td>\n      <td>[]</td>\n    </tr>\n    <tr>\n      <th>4</th>\n      <td>2-OCTAPRENYL-METHOXY-BENZOQ-METH-MONOMER</td>\n      <td>bifunctional 2-octaprenyl-6-methoxy-1,4-benzoq...</td>\n      <td>[]</td>\n      <td>[]</td>\n      <td>[ADOMET-DMK-METHYLTRANSFER-ENZRXN, 2-OCTAPRENY...</td>\n      <td>[]</td>\n    </tr>\n    <tr>\n      <th>...</th>\n      <td>...</td>\n      <td>...</td>\n      <td>...</td>\n      <td>...</td>\n      <td>...</td>\n      <td>...</td>\n    </tr>\n    <tr>\n      <th>4415</th>\n      <td>YTFR-MONOMER</td>\n      <td>galactofuranose ABC transporter putative ATP b...</td>\n      <td>[]</td>\n      <td>[ATP]</td>\n      <td>[]</td>\n      <td>[]</td>\n    </tr>\n    <tr>\n      <th>4416</th>\n      <td>YTFT-MONOMER</td>\n      <td>galactofuranose ABC transporter putative membr...</td>\n      <td>[]</td>\n      <td>[]</td>\n      <td>[]</td>\n      <td>[]</td>\n    </tr>\n    <tr>\n      <th>4417</th>\n      <td>ZNUA-MONOMER</td>\n      <td>Zn&lt;sup&gt;2+&lt;/sup&gt; ABC transporter periplasmic bi...</td>\n      <td>[UniProt: Zinc., implicated in a second zinc b...</td>\n      <td>[]</td>\n      <td>[]</td>\n      <td>[]</td>\n    </tr>\n    <tr>\n      <th>4418</th>\n      <td>ZNUB-MONOMER</td>\n      <td>Zn&lt;sup&gt;2+&lt;/sup&gt; ABC transporter membrane subunit</td>\n      <td>[]</td>\n      <td>[]</td>\n      <td>[]</td>\n      <td>[]</td>\n    </tr>\n    <tr>\n      <th>4419</th>\n      <td>ZNUC-MONOMER</td>\n      <td>Zn&lt;sup&gt;2+&lt;/sup&gt; ABC transporter ATP binding su...</td>\n      <td>[]</td>\n      <td>[ATP]</td>\n      <td>[]</td>\n      <td>[]</td>\n    </tr>\n  </tbody>\n</table>\n<p>4420 rows × 6 columns</p>\n</div>"
     },
     "execution_count": 16,
     "metadata": {},
     "output_type": "execute_result"
    }
   ],
   "source": [
    "proteins_df = pd.read_parquet('notebooks/fbagd/data/raw_protein_features.parquet')\n",
    "# proteins_df['metal_features'] = proteins_df['metal_features'].apply(ast.literal_eval)\n",
    "# # for rows of proteins with where other_features is set, convert from string to set with literal_eval\n",
    "# proteins_df.loc[proteins_df['other_features'].str.startswith('['), 'other_features'] = \\\n",
    "#     proteins_df.loc[proteins_df['other_features'].str.startswith('['), 'other_features'].apply(ast.literal_eval)\n",
    "\n",
    "filter_protein_df = proteins_df.copy().loc[:, ['id', 'common_name', 'metal_features', 'other_features', 'enzyme_reaction', 'cofactors']]\n",
    "filter_protein_df"
   ],
   "metadata": {
    "collapsed": false,
    "ExecuteTime": {
     "end_time": "2023-07-20T22:16:22.358733Z",
     "start_time": "2023-07-20T22:16:22.338844Z"
    }
   }
  },
  {
   "cell_type": "markdown",
   "source": [
    "## Process raw EcoCyc annotations into standard EcoCyc names"
   ],
   "metadata": {
    "collapsed": false
   }
  },
  {
   "cell_type": "code",
   "execution_count": 17,
   "outputs": [
    {
     "name": "stdout",
     "output_type": "stream",
     "text": [
      "No match for UniProt: Magnesium or manganese. in 3-ISOPROPYLMALDEHYDROG-MONOMER\n",
      "No match for conserved, Fe(III) binding motif in BASS-MONOMER\n",
      "No match for predicted heme d ligand in CYDA-MONOMER\n",
      "No match for UniProt: Zn(2+); catalytic. in CYTDEAM-MONOMER\n",
      "No match for UniProt: Fe(2+); catalytic. in CYTDEAM-MONOMER\n",
      "No match for The amino-terminus of ClpA contains a Zinc binding site. in EG10156-MONOMER\n",
      "No match for The active-site magnesium ion is coordinated by three aspartate residues (401, 403, 555). Two of them form part of \n",
      "the PDXD active-site motif. in EG10238-MONOMER\n",
      "No match for Based on crystal structures, Glu-265 and Asp-309 coordinate a divalent cation. in EG10239-MONOMER\n",
      "No match for Divalent magnesium ions are chelated by three aspartate residues, two in the conserved DPD sequence (345, 347) \n",
      "and one in the conserved EGYMD sequence (269). in EG10239-MONOMER\n",
      "No match for These residues are thought to coordinate the one or two divalent magnesium ions required for the \n",
      "gyrase cleavage-religation reaction. in EG10424-MONOMER\n",
      "No match for Mg<sup>2+</sup> binding site in EG10599-MONOMER\n",
      "No match for Iron-sulfur (4Fe-4S) in EG10627-MONOMER\n",
      "No match for This metal-binding motif was identified in a crystal structure [<a href=\"http://www.ncbi.nlm.nih.gov/pubmed/16885166\">Ito06</a>]. in EG10696-MONOMER\n",
      "No match for Asp-10, Glu-48 and Asp-70 coordinate a divalent manganese ion which is required for catalytic activity. in EG10860-MONOMER\n",
      "No match for Asp-10 and Asp-134 coordinate a divalent manganese ion which, when present may inhibit enzymatic activity. in EG10860-MONOMER\n",
      "No match for Asn-44 and Glu-48 coordinate magnesium when it is present. in EG10860-MONOMER\n",
      "No match for binds Zn<sup>2+</sup> and Cd<sup>2+</sup> with high affinity and Fe<sup>2+</sup> with lower affinity in EG11167-MONOMER\n",
      "No match for binds Fe<sup>2+</sup> with high affinity in EG11167-MONOMER\n",
      "No match for UniProt: Iron-sulfur 2 (4Fe-4S-substrate). in EG11595-MONOMER\n",
      "No match for UniProt: Iron-sulfur 1 (4Fe-4S-S-AdoMet). in EG11595-MONOMER\n",
      "No match for Zn<sup>2+</sup> binding in EG11918-MONOMER\n",
      "No match for predicted zinc binding site in EG11955-MONOMER\n",
      "No match for cluster of cysteines that may be involved in binding zinc; possible zinc finger domains in EG12045-MONOMER\n",
      "No match for coordination of zinc in EG12045-MONOMER\n",
      "No match for conserved histidines located in periplasmic regions on either side of the WWD region; ligands for heme in holoCcmE in EG12054-MONOMER\n",
      "No match for Ligands to <i>b</i> heme in EG12054-MONOMER\n",
      "No match for UniProt: Zn(2+); catalytic. in EG12097-MONOMER\n",
      "No match for Calcium in EG12244-MONOMER\n",
      "No match for type II, non-blue copper site in EG12318-MONOMER\n",
      "No match for type III, coupled binuclear Cu site in EG12318-MONOMER\n",
      "No match for substrate binding oxidation site: Cu(I) &rarr; Cu(II) in EG12318-MONOMER\n",
      "No match for labile or regulatory copper binding site; functions as an electron transfer site not a substrate reaction site in EG12318-MONOMER\n",
      "No match for type I, blue copper site in EG12318-MONOMER\n",
      "No match for a third Met ligand is likely located in the region 380-403; substrate binding oxidation site: Cu(I) &rarr; Cu(II) in EG12318-MONOMER\n",
      "No match for UniProt: Iron-sulfur. in EG12332-MONOMER\n",
      "No match for UniProt: Iron-sulfur. in EG12933-MONOMER\n",
      "No match for conserved in members of the TEES family of bacterial GTPases; implicated in potassium binding in <i>S. thermophilus</i> nFeoB in FEOB-MONOMER\n",
      "No match for 4Fe:4S coordination site in FUM-FE-S\n",
      "No match for UniProt: Iron-sulfur 1 (2Fe-2S). in FUM-FE-S\n",
      "No match for 3Fe:4S coordination site in FUM-FE-S\n",
      "No match for 2Fe:2S coordination site in FUM-FE-S\n",
      "No match for UniProt: Iron-sulfur 3 (3Fe-4S). in FUM-FE-S\n",
      "No match for UniProt: Iron-sulfur 2 (4Fe-4S). in FUM-FE-S\n",
      "No match for UniProt: Copper(1+). in G6263-MONOMER\n",
      "No match for Ag(I) binding; involved in binding one Ag(I) ion per CusS monomer in G6318-MONOMER\n",
      "No match for Ag(I) binding, symmetrical binding of two Ag(I) ions at the CusS dimer interface; F43, H176 and H42' co-ordinate one Ag(I) ion while F43', H176' and H42 coordinate the second in G6318-MONOMER\n",
      "No match for Each of the cysteines in this conserved iron-binding motif is individually required\n",
      "for MiaB enzymatic activity. in G6364-MONOMER\n",
      "No match for potential Zn(2) binding site in G6527-MONOMER\n",
      "No match for potential metal binding site in G6527-MONOMER\n",
      "No match for enzyme shows preference for Fe<sup>2+</sup>, Ni<sup>2+</sup> and Co<sup>2+</sup> over Zn<sup>2+</sup> in G6530-MONOMER\n",
      "No match for Cu<sup>2+</sup>-binding site in G7014-MONOMER\n",
      "No match for potential, conserved copper binding site in G7139-MONOMER\n",
      "No match for zinc binding site in G7430-MONOMER\n",
      "No match for zinc binding in G7458-MONOMER\n",
      "No match for UniProt: Iron-sulfur 1 (4Fe-4S-S-AdoMet). in G7953-MONOMER\n",
      "No match for UniProt: Iron-sulfur 3 (4Fe-4S). in G7953-MONOMER\n",
      "No match for UniProt: Iron-sulfur 2 (4Fe-4S). in G7953-MONOMER\n",
      "No match for Cys ligands for the nickel ion of the Ni-Fe active site in HYAB-MONOMER\n",
      "No match for heme <i>b</i> ligand in HYAC-MONOMER\n",
      "No match for ligand single calcium ions bound to each monomer of the homodimer; R167 and Ser152 ligands are from monomer A, Ser172 ligand is from monomer B in MONOMER0-341\n",
      "No match for predicted copper ligands in NADH-DHII-MONOMER\n",
      "No match for UniProt: Magnesium or cobalt. in NAG1P-URIDYLTRANS-MONOMER\n",
      "No match for coordinates a molybdenum hydroxo ligand in NARG-MONOMER\n",
      "No match for [4Fe-4S] corodination, FS3 in NARY-MONOMER\n",
      "No match for [4Fe-4S] coordination; FS1 in NARY-MONOMER\n",
      "No match for [3Fe-4S] coordination, FS4 in NARY-MONOMER\n",
      "No match for [4Fe-4S] coordination, FS2 in NARY-MONOMER\n",
      "No match for implicated in Na<sup>+</sup> binding above pH7 in NHAA-MONOMER\n",
      "No match for UniProt: Iron-sulfur. in TTDA-MONOMER\n",
      "No match for These residues make up the zinc-binding site. Histidines 79 and 238 appear to directly coordinate zinc, with\n",
      "additional coordination provided by one of the two other residues. All four are essential for catalytic\n",
      "activity [<a href=\"http://www.ncbi.nlm.nih.gov/pubmed/11148046\">Jackman01</a>]. Extended X-ray absorption fine structure spectroscopy suggests that aspartate-246\n",
      "coordinates zinc with the aid of a solvent molecule [<a href=\"http://www.ncbi.nlm.nih.gov/pubmed/12620676\">McClure03</a>]. in UDPACYLGLCNACDEACETYL-MONOMER\n",
      "No match for methionine residues shown to coordinate Cu(I) in the periplasmic binding cleft in YBDE-MONOMER\n",
      "No match for methionine pair located in periplasmic region of protein; suggested to form binding site as part of a methionine shuttle for movement of substrate in YBDE-MONOMER\n",
      "No match for residues constituting a (Met<sub>2</sub> O/N) metal binding motif in YBDE-MONOMER\n",
      "No match for methionine pair located in transmembrane region of protein; suggested to form binding site as part of a methionine shuttle for movement of substrate in YBDE-MONOMER\n",
      "No match for implicated in metal (Zn<sup>2+</sup> and Cd<sup>2+</sup>) coordination in YIIP-MONOMER\n",
      "No match for implicated in a second zinc binding site in ZNUA-MONOMER\n",
      "No match for zinc-coordinating residues in ZNUA-MONOMER\n"
     ]
    }
   ],
   "source": [
    "ALLOWED_METAL_NAMES =   {'Iron': 'FE+2', 'Cobalt': 'CO+2', 'Copper': 'CU+2', 'Manganese': 'MN+2', 'Molybdenum': 'CPD-8123', 'Nickel': 'NI+2', 'Tungsten': 'W', 'Zinc': 'ZN+2',\n",
    "                        'Calcium': 'CA+2', 'Magnesium': 'MG+2', 'Sodium': 'NA+', 'Potassium': 'K+',\n",
    "                        'Iron-sulfur \\(4Fe-4S\\)': 'CPD-7', 'Iron-sulfur \\(2Fe-2S\\)': 'CPD-6',\n",
    "                         'Iron-sulfur \\(4Fe-4S-S-AdoMet\\)': 'CPD-7', 'Iron-sulfur \\(3Fe-4S\\)': '3FE-4S', 'Iron-oxo-sulfur \\(4Fe-2O-2S\\)': 'CPD-7',\n",
    "                        'heme': 'Heme-b', 'Molybdate': 'CPD-3', 'heme B': 'Heme-b',\n",
    "                         'L-SELENOCYSTEINE': 'L-SELENOCYSTEINE',\n",
    "                        'Divalent metal cation': 'Any+2'}\n",
    "\n",
    "# remove all \\ characters from keys in ALLOWED_METAL_NAMES\n",
    "NON_REGEX_METAL = {key.replace('\\\\', ''): value for key, value in ALLOWED_METAL_NAMES.items()}\n",
    "\n",
    "filter_protein_df['metal_features_processed'] = 0\n",
    "filter_protein_df['metal_features_processed'] = filter_protein_df['metal_features_processed'].astype(object)\n",
    "\n",
    "metal_pattern = '|'.join(ALLOWED_METAL_NAMES.keys())\n",
    "metal_regex = re.compile(f'(({metal_pattern})(\\s\\d[\\.,;]|[\\.,;]|\\s\\())')\n",
    "\n",
    "\n",
    "for i in range(len(filter_protein_df.index)):\n",
    "\n",
    "    metal_binding = filter_protein_df.loc[i, 'metal_features']\n",
    "\n",
    "    metal_count_dict = {}\n",
    "    existing_matches = set()\n",
    "\n",
    "    for feature in metal_binding:\n",
    "        matches = metal_regex.search(feature)\n",
    "        if matches:\n",
    "            metal = matches.group(0)[:-1]\n",
    "\n",
    "            # eliminate duplicates\n",
    "            if metal not in existing_matches:\n",
    "\n",
    "                existing_matches.add(metal)\n",
    "\n",
    "                if 'heme' in feature:\n",
    "                    metal = metal.replace('Iron', 'heme')\n",
    "\n",
    "                # check if last char of metal is a number, then crop\n",
    "                if metal[-1].isdigit():\n",
    "                    metal = metal[:-2]\n",
    "\n",
    "                metal = metal.strip()\n",
    "\n",
    "                # replace metal name with allowed metal name\n",
    "                metal = NON_REGEX_METAL[metal]\n",
    "\n",
    "                if metal in metal_count_dict:\n",
    "                    metal_count_dict[metal] += 1\n",
    "                else:\n",
    "                    metal_count_dict[metal] = 1\n",
    "\n",
    "        else:\n",
    "            print(f'No match for {feature} in {filter_protein_df.loc[i, \"id\"]}')\n",
    "\n",
    "\n",
    "\n",
    "\n",
    "    filter_protein_df.at[i, 'metal_features_processed'] = metal_count_dict"
   ],
   "metadata": {
    "collapsed": false,
    "ExecuteTime": {
     "end_time": "2023-07-20T22:16:23.840786Z",
     "start_time": "2023-07-20T22:16:23.750360Z"
    }
   }
  },
  {
   "cell_type": "code",
   "execution_count": 18,
   "outputs": [
    {
     "data": {
      "text/plain": "                                            id  \\\n0      1-ACYLGLYCEROL-3-P-ACYLTRANSFER-MONOMER   \n1                                1-PFK-MONOMER   \n2             2-DEHYDROPANTOATE-REDUCT-MONOMER   \n3                 2-ISOPROPYLMALATESYN-MONOMER   \n4     2-OCTAPRENYL-METHOXY-BENZOQ-METH-MONOMER   \n...                                        ...   \n4415                              YTFR-MONOMER   \n4416                              YTFT-MONOMER   \n4417                              ZNUA-MONOMER   \n4418                              ZNUB-MONOMER   \n4419                              ZNUC-MONOMER   \n\n                                            common_name other_features  \\\n0     1-acylglycerol-3-phosphate <i>O</i>-acyltransf...             []   \n1                                 1-phosphofructokinase          [ATP]   \n2                         2-dehydropantoate 2-reductase         [NADP]   \n3                            2-isopropylmalate synthase             []   \n4     bifunctional 2-octaprenyl-6-methoxy-1,4-benzoq...             []   \n...                                                 ...            ...   \n4415  galactofuranose ABC transporter putative ATP b...          [ATP]   \n4416  galactofuranose ABC transporter putative membr...             []   \n4417  Zn<sup>2+</sup> ABC transporter periplasmic bi...             []   \n4418   Zn<sup>2+</sup> ABC transporter membrane subunit             []   \n4419  Zn<sup>2+</sup> ABC transporter ATP binding su...          [ATP]   \n\n                                        enzyme_reaction cofactors  \\\n0     [ENZRXN0-7992, ENZRXN0-7993, ENZRXN0-8629, ENZ...        []   \n1                                                    []        []   \n2                     [2-DEHYDROPANTOATE-REDUCT-ENZRXN]        []   \n3                                        [ENZRXN0-6250]        []   \n4     [ADOMET-DMK-METHYLTRANSFER-ENZRXN, 2-OCTAPRENY...        []   \n...                                                 ...       ...   \n4415                                                 []        []   \n4416                                                 []        []   \n4417                                                 []        []   \n4418                                                 []        []   \n4419                                                 []        []   \n\n     metal_features_processed  \n0                          {}  \n1                          {}  \n2                          {}  \n3                          {}  \n4                          {}  \n...                       ...  \n4415                       {}  \n4416                       {}  \n4417              {'ZN+2': 1}  \n4418                       {}  \n4419                       {}  \n\n[4420 rows x 6 columns]",
      "text/html": "<div>\n<style scoped>\n    .dataframe tbody tr th:only-of-type {\n        vertical-align: middle;\n    }\n\n    .dataframe tbody tr th {\n        vertical-align: top;\n    }\n\n    .dataframe thead th {\n        text-align: right;\n    }\n</style>\n<table border=\"1\" class=\"dataframe\">\n  <thead>\n    <tr style=\"text-align: right;\">\n      <th></th>\n      <th>id</th>\n      <th>common_name</th>\n      <th>other_features</th>\n      <th>enzyme_reaction</th>\n      <th>cofactors</th>\n      <th>metal_features_processed</th>\n    </tr>\n  </thead>\n  <tbody>\n    <tr>\n      <th>0</th>\n      <td>1-ACYLGLYCEROL-3-P-ACYLTRANSFER-MONOMER</td>\n      <td>1-acylglycerol-3-phosphate &lt;i&gt;O&lt;/i&gt;-acyltransf...</td>\n      <td>[]</td>\n      <td>[ENZRXN0-7992, ENZRXN0-7993, ENZRXN0-8629, ENZ...</td>\n      <td>[]</td>\n      <td>{}</td>\n    </tr>\n    <tr>\n      <th>1</th>\n      <td>1-PFK-MONOMER</td>\n      <td>1-phosphofructokinase</td>\n      <td>[ATP]</td>\n      <td>[]</td>\n      <td>[]</td>\n      <td>{}</td>\n    </tr>\n    <tr>\n      <th>2</th>\n      <td>2-DEHYDROPANTOATE-REDUCT-MONOMER</td>\n      <td>2-dehydropantoate 2-reductase</td>\n      <td>[NADP]</td>\n      <td>[2-DEHYDROPANTOATE-REDUCT-ENZRXN]</td>\n      <td>[]</td>\n      <td>{}</td>\n    </tr>\n    <tr>\n      <th>3</th>\n      <td>2-ISOPROPYLMALATESYN-MONOMER</td>\n      <td>2-isopropylmalate synthase</td>\n      <td>[]</td>\n      <td>[ENZRXN0-6250]</td>\n      <td>[]</td>\n      <td>{}</td>\n    </tr>\n    <tr>\n      <th>4</th>\n      <td>2-OCTAPRENYL-METHOXY-BENZOQ-METH-MONOMER</td>\n      <td>bifunctional 2-octaprenyl-6-methoxy-1,4-benzoq...</td>\n      <td>[]</td>\n      <td>[ADOMET-DMK-METHYLTRANSFER-ENZRXN, 2-OCTAPRENY...</td>\n      <td>[]</td>\n      <td>{}</td>\n    </tr>\n    <tr>\n      <th>...</th>\n      <td>...</td>\n      <td>...</td>\n      <td>...</td>\n      <td>...</td>\n      <td>...</td>\n      <td>...</td>\n    </tr>\n    <tr>\n      <th>4415</th>\n      <td>YTFR-MONOMER</td>\n      <td>galactofuranose ABC transporter putative ATP b...</td>\n      <td>[ATP]</td>\n      <td>[]</td>\n      <td>[]</td>\n      <td>{}</td>\n    </tr>\n    <tr>\n      <th>4416</th>\n      <td>YTFT-MONOMER</td>\n      <td>galactofuranose ABC transporter putative membr...</td>\n      <td>[]</td>\n      <td>[]</td>\n      <td>[]</td>\n      <td>{}</td>\n    </tr>\n    <tr>\n      <th>4417</th>\n      <td>ZNUA-MONOMER</td>\n      <td>Zn&lt;sup&gt;2+&lt;/sup&gt; ABC transporter periplasmic bi...</td>\n      <td>[]</td>\n      <td>[]</td>\n      <td>[]</td>\n      <td>{'ZN+2': 1}</td>\n    </tr>\n    <tr>\n      <th>4418</th>\n      <td>ZNUB-MONOMER</td>\n      <td>Zn&lt;sup&gt;2+&lt;/sup&gt; ABC transporter membrane subunit</td>\n      <td>[]</td>\n      <td>[]</td>\n      <td>[]</td>\n      <td>{}</td>\n    </tr>\n    <tr>\n      <th>4419</th>\n      <td>ZNUC-MONOMER</td>\n      <td>Zn&lt;sup&gt;2+&lt;/sup&gt; ABC transporter ATP binding su...</td>\n      <td>[ATP]</td>\n      <td>[]</td>\n      <td>[]</td>\n      <td>{}</td>\n    </tr>\n  </tbody>\n</table>\n<p>4420 rows × 6 columns</p>\n</div>"
     },
     "execution_count": 18,
     "metadata": {},
     "output_type": "execute_result"
    }
   ],
   "source": [
    "filter_protein_df = filter_protein_df.drop(columns=['metal_features'])\n",
    "filter_protein_df"
   ],
   "metadata": {
    "collapsed": false,
    "ExecuteTime": {
     "end_time": "2023-07-20T22:16:24.334230Z",
     "start_time": "2023-07-20T22:16:24.331755Z"
    }
   }
  },
  {
   "cell_type": "code",
   "execution_count": 19,
   "outputs": [],
   "source": [
    "filter_protein_df['other_features_processed'] = 0\n",
    "filter_protein_df['other_features_processed'] = filter_protein_df['other_features_processed'].astype(object)\n",
    "\n",
    "ACCEPTED_OTHER_FEATURES = {'PYRIDOXAL_PHOSPHATE', 'THIAMINE-PYROPHOSPHATE', 'FMN', 'FAD'}\n",
    "\n",
    "for i in range(len(filter_protein_df.index)):\n",
    "\n",
    "    other_features = filter_protein_df.loc[i, 'other_features']\n",
    "\n",
    "    other_feature_count_dict = {}\n",
    "    existing_matches = set()\n",
    "\n",
    "    for feature in other_features:\n",
    "\n",
    "        # eliminate duplicates\n",
    "        if feature not in existing_matches:\n",
    "\n",
    "            existing_matches.add(feature)\n",
    "\n",
    "            if feature in ACCEPTED_OTHER_FEATURES:\n",
    "                if feature in other_feature_count_dict:\n",
    "                    other_feature_count_dict[feature] += 1\n",
    "                else:\n",
    "                    other_feature_count_dict[feature] = 1\n",
    "\n",
    "    filter_protein_df.at[i, 'other_features_processed'] = other_feature_count_dict"
   ],
   "metadata": {
    "collapsed": false,
    "ExecuteTime": {
     "end_time": "2023-07-20T22:16:24.811104Z",
     "start_time": "2023-07-20T22:16:24.772044Z"
    }
   }
  },
  {
   "cell_type": "code",
   "execution_count": 20,
   "outputs": [
    {
     "data": {
      "text/plain": "                                            id  \\\n0      1-ACYLGLYCEROL-3-P-ACYLTRANSFER-MONOMER   \n1                                1-PFK-MONOMER   \n2             2-DEHYDROPANTOATE-REDUCT-MONOMER   \n3                 2-ISOPROPYLMALATESYN-MONOMER   \n4     2-OCTAPRENYL-METHOXY-BENZOQ-METH-MONOMER   \n...                                        ...   \n4415                              YTFR-MONOMER   \n4416                              YTFT-MONOMER   \n4417                              ZNUA-MONOMER   \n4418                              ZNUB-MONOMER   \n4419                              ZNUC-MONOMER   \n\n                                            common_name  \\\n0     1-acylglycerol-3-phosphate <i>O</i>-acyltransf...   \n1                                 1-phosphofructokinase   \n2                         2-dehydropantoate 2-reductase   \n3                            2-isopropylmalate synthase   \n4     bifunctional 2-octaprenyl-6-methoxy-1,4-benzoq...   \n...                                                 ...   \n4415  galactofuranose ABC transporter putative ATP b...   \n4416  galactofuranose ABC transporter putative membr...   \n4417  Zn<sup>2+</sup> ABC transporter periplasmic bi...   \n4418   Zn<sup>2+</sup> ABC transporter membrane subunit   \n4419  Zn<sup>2+</sup> ABC transporter ATP binding su...   \n\n                                        enzyme_reaction cofactors  \\\n0     [ENZRXN0-7992, ENZRXN0-7993, ENZRXN0-8629, ENZ...        []   \n1                                                    []        []   \n2                     [2-DEHYDROPANTOATE-REDUCT-ENZRXN]        []   \n3                                        [ENZRXN0-6250]        []   \n4     [ADOMET-DMK-METHYLTRANSFER-ENZRXN, 2-OCTAPRENY...        []   \n...                                                 ...       ...   \n4415                                                 []        []   \n4416                                                 []        []   \n4417                                                 []        []   \n4418                                                 []        []   \n4419                                                 []        []   \n\n     metal_features_processed other_features_processed  \n0                          {}                       {}  \n1                          {}                       {}  \n2                          {}                       {}  \n3                          {}                       {}  \n4                          {}                       {}  \n...                       ...                      ...  \n4415                       {}                       {}  \n4416                       {}                       {}  \n4417              {'ZN+2': 1}                       {}  \n4418                       {}                       {}  \n4419                       {}                       {}  \n\n[4420 rows x 6 columns]",
      "text/html": "<div>\n<style scoped>\n    .dataframe tbody tr th:only-of-type {\n        vertical-align: middle;\n    }\n\n    .dataframe tbody tr th {\n        vertical-align: top;\n    }\n\n    .dataframe thead th {\n        text-align: right;\n    }\n</style>\n<table border=\"1\" class=\"dataframe\">\n  <thead>\n    <tr style=\"text-align: right;\">\n      <th></th>\n      <th>id</th>\n      <th>common_name</th>\n      <th>enzyme_reaction</th>\n      <th>cofactors</th>\n      <th>metal_features_processed</th>\n      <th>other_features_processed</th>\n    </tr>\n  </thead>\n  <tbody>\n    <tr>\n      <th>0</th>\n      <td>1-ACYLGLYCEROL-3-P-ACYLTRANSFER-MONOMER</td>\n      <td>1-acylglycerol-3-phosphate &lt;i&gt;O&lt;/i&gt;-acyltransf...</td>\n      <td>[ENZRXN0-7992, ENZRXN0-7993, ENZRXN0-8629, ENZ...</td>\n      <td>[]</td>\n      <td>{}</td>\n      <td>{}</td>\n    </tr>\n    <tr>\n      <th>1</th>\n      <td>1-PFK-MONOMER</td>\n      <td>1-phosphofructokinase</td>\n      <td>[]</td>\n      <td>[]</td>\n      <td>{}</td>\n      <td>{}</td>\n    </tr>\n    <tr>\n      <th>2</th>\n      <td>2-DEHYDROPANTOATE-REDUCT-MONOMER</td>\n      <td>2-dehydropantoate 2-reductase</td>\n      <td>[2-DEHYDROPANTOATE-REDUCT-ENZRXN]</td>\n      <td>[]</td>\n      <td>{}</td>\n      <td>{}</td>\n    </tr>\n    <tr>\n      <th>3</th>\n      <td>2-ISOPROPYLMALATESYN-MONOMER</td>\n      <td>2-isopropylmalate synthase</td>\n      <td>[ENZRXN0-6250]</td>\n      <td>[]</td>\n      <td>{}</td>\n      <td>{}</td>\n    </tr>\n    <tr>\n      <th>4</th>\n      <td>2-OCTAPRENYL-METHOXY-BENZOQ-METH-MONOMER</td>\n      <td>bifunctional 2-octaprenyl-6-methoxy-1,4-benzoq...</td>\n      <td>[ADOMET-DMK-METHYLTRANSFER-ENZRXN, 2-OCTAPRENY...</td>\n      <td>[]</td>\n      <td>{}</td>\n      <td>{}</td>\n    </tr>\n    <tr>\n      <th>...</th>\n      <td>...</td>\n      <td>...</td>\n      <td>...</td>\n      <td>...</td>\n      <td>...</td>\n      <td>...</td>\n    </tr>\n    <tr>\n      <th>4415</th>\n      <td>YTFR-MONOMER</td>\n      <td>galactofuranose ABC transporter putative ATP b...</td>\n      <td>[]</td>\n      <td>[]</td>\n      <td>{}</td>\n      <td>{}</td>\n    </tr>\n    <tr>\n      <th>4416</th>\n      <td>YTFT-MONOMER</td>\n      <td>galactofuranose ABC transporter putative membr...</td>\n      <td>[]</td>\n      <td>[]</td>\n      <td>{}</td>\n      <td>{}</td>\n    </tr>\n    <tr>\n      <th>4417</th>\n      <td>ZNUA-MONOMER</td>\n      <td>Zn&lt;sup&gt;2+&lt;/sup&gt; ABC transporter periplasmic bi...</td>\n      <td>[]</td>\n      <td>[]</td>\n      <td>{'ZN+2': 1}</td>\n      <td>{}</td>\n    </tr>\n    <tr>\n      <th>4418</th>\n      <td>ZNUB-MONOMER</td>\n      <td>Zn&lt;sup&gt;2+&lt;/sup&gt; ABC transporter membrane subunit</td>\n      <td>[]</td>\n      <td>[]</td>\n      <td>{}</td>\n      <td>{}</td>\n    </tr>\n    <tr>\n      <th>4419</th>\n      <td>ZNUC-MONOMER</td>\n      <td>Zn&lt;sup&gt;2+&lt;/sup&gt; ABC transporter ATP binding su...</td>\n      <td>[]</td>\n      <td>[]</td>\n      <td>{}</td>\n      <td>{}</td>\n    </tr>\n  </tbody>\n</table>\n<p>4420 rows × 6 columns</p>\n</div>"
     },
     "execution_count": 20,
     "metadata": {},
     "output_type": "execute_result"
    }
   ],
   "source": [
    "filter_protein_df = filter_protein_df.drop(columns=['other_features'])\n",
    "\n",
    "filter_protein_df"
   ],
   "metadata": {
    "collapsed": false,
    "ExecuteTime": {
     "end_time": "2023-07-20T22:16:25.103929Z",
     "start_time": "2023-07-20T22:16:25.088960Z"
    }
   }
  },
  {
   "cell_type": "code",
   "execution_count": 21,
   "outputs": [],
   "source": [
    "filter_protein_df.to_parquet('notebooks/fbagd/data/processed_proteins.parquet', index=False)"
   ],
   "metadata": {
    "collapsed": false,
    "ExecuteTime": {
     "end_time": "2023-07-20T22:16:26.006242Z",
     "start_time": "2023-07-20T22:16:25.992718Z"
    }
   }
  },
  {
   "cell_type": "markdown",
   "source": [
    "# Annotate complexation with EcoCyc data"
   ],
   "metadata": {
    "collapsed": false
   }
  },
  {
   "cell_type": "code",
   "execution_count": 22,
   "outputs": [
    {
     "data": {
      "text/plain": "                                    id  \\\n0                                1-PFK   \n1                2OXOGLUTARATEDEH-CPLX   \n2          3-ISOPROPYLMALDEHYDROG-CPLX   \n3              3-ISOPROPYLMALISOM-CPLX   \n4     3-METHYL-2-OXOBUT-OHCH3XFER-CPLX   \n...                                ...   \n1063                        CPLX0-8053   \n1064                        CPLX0-8253   \n1065                          SRP-CPLX   \n1066                     CPLX0-7796APO   \n1067                         ARCB-CPLX   \n\n                                          stoichiometry  \n0                     {'1-PFK': 1, '1-PFK-MONOMER': -2}  \n1     {'2OXOGLUTARATEDEH-CPLX': 1, 'E1O': -1, 'E2O':...  \n2     {'3-ISOPROPYLMALDEHYDROG-CPLX': 1, '3-ISOPROPY...  \n3     {'3-ISOPROPYLMALISOM-CPLX': 1, 'LEUC-MONOMER':...  \n4     {'3-METHYL-2-OXOBUT-OHCH3XFER-CPLX': 1, '3-CH3...  \n...                                                 ...  \n1063           {'CPLX0-8053': 1, 'EG10942-MONOMER': -1}  \n1064  {'CPLX0-8253': 1, 'CSRC-RNA': -1, 'EG11447-MON...  \n1065  {'SRP-CPLX': 1, 'EG10300-MONOMER': -1, 'FFS-RN...  \n1066                {'CPLX0-7796APO': 1, 'PD04032': -2}  \n1067               {'ARCB-CPLX': 1, 'ARCB-MONOMER': -2}  \n\n[1068 rows x 2 columns]",
      "text/html": "<div>\n<style scoped>\n    .dataframe tbody tr th:only-of-type {\n        vertical-align: middle;\n    }\n\n    .dataframe tbody tr th {\n        vertical-align: top;\n    }\n\n    .dataframe thead th {\n        text-align: right;\n    }\n</style>\n<table border=\"1\" class=\"dataframe\">\n  <thead>\n    <tr style=\"text-align: right;\">\n      <th></th>\n      <th>id</th>\n      <th>stoichiometry</th>\n    </tr>\n  </thead>\n  <tbody>\n    <tr>\n      <th>0</th>\n      <td>1-PFK</td>\n      <td>{'1-PFK': 1, '1-PFK-MONOMER': -2}</td>\n    </tr>\n    <tr>\n      <th>1</th>\n      <td>2OXOGLUTARATEDEH-CPLX</td>\n      <td>{'2OXOGLUTARATEDEH-CPLX': 1, 'E1O': -1, 'E2O':...</td>\n    </tr>\n    <tr>\n      <th>2</th>\n      <td>3-ISOPROPYLMALDEHYDROG-CPLX</td>\n      <td>{'3-ISOPROPYLMALDEHYDROG-CPLX': 1, '3-ISOPROPY...</td>\n    </tr>\n    <tr>\n      <th>3</th>\n      <td>3-ISOPROPYLMALISOM-CPLX</td>\n      <td>{'3-ISOPROPYLMALISOM-CPLX': 1, 'LEUC-MONOMER':...</td>\n    </tr>\n    <tr>\n      <th>4</th>\n      <td>3-METHYL-2-OXOBUT-OHCH3XFER-CPLX</td>\n      <td>{'3-METHYL-2-OXOBUT-OHCH3XFER-CPLX': 1, '3-CH3...</td>\n    </tr>\n    <tr>\n      <th>...</th>\n      <td>...</td>\n      <td>...</td>\n    </tr>\n    <tr>\n      <th>1063</th>\n      <td>CPLX0-8053</td>\n      <td>{'CPLX0-8053': 1, 'EG10942-MONOMER': -1}</td>\n    </tr>\n    <tr>\n      <th>1064</th>\n      <td>CPLX0-8253</td>\n      <td>{'CPLX0-8253': 1, 'CSRC-RNA': -1, 'EG11447-MON...</td>\n    </tr>\n    <tr>\n      <th>1065</th>\n      <td>SRP-CPLX</td>\n      <td>{'SRP-CPLX': 1, 'EG10300-MONOMER': -1, 'FFS-RN...</td>\n    </tr>\n    <tr>\n      <th>1066</th>\n      <td>CPLX0-7796APO</td>\n      <td>{'CPLX0-7796APO': 1, 'PD04032': -2}</td>\n    </tr>\n    <tr>\n      <th>1067</th>\n      <td>ARCB-CPLX</td>\n      <td>{'ARCB-CPLX': 1, 'ARCB-MONOMER': -2}</td>\n    </tr>\n  </tbody>\n</table>\n<p>1068 rows × 2 columns</p>\n</div>"
     },
     "execution_count": 22,
     "metadata": {},
     "output_type": "execute_result"
    }
   ],
   "source": [
    "complex_df = pd.read_csv('reconstruction/ecoli/flat/complexation_reactions.tsv', sep='\\t').loc[:, ['id', 'stoichiometry']]\n",
    "\n",
    "\n",
    "removed_complexes = pd.read_csv('reconstruction/ecoli/flat/complexation_reactions_removed.tsv', sep='\\t')\n",
    "\n",
    "# remove rows where id starts with '#'\n",
    "complex_df = complex_df[~complex_df['id'].str.startswith('#')].reset_index(drop=True)\n",
    "\n",
    "# remove rows of complex_df where id matches an id in removed_complexes\n",
    "complex_df = complex_df[~complex_df['id'].isin(removed_complexes['id'])].reset_index(drop=True)\n",
    "complex_df.stoichiometry = complex_df.stoichiometry.astype(object)\n",
    "\n",
    "\n",
    "for i, stoich in enumerate(complex_df.loc[:, 'stoichiometry']):\n",
    "\n",
    "    if type(stoich) is str and stoich[0] == '{':\n",
    "        stoich = stoich.replace('null', '-1')\n",
    "        stoich = ast.literal_eval(stoich)\n",
    "\n",
    "        complex_df.at[i, 'stoichiometry'] = stoich\n",
    "\n",
    "    else:\n",
    "        complex_df.at[i, 'stoichiometry'] = {}\n",
    "\n",
    "\n",
    "# for each row, find dict entry with positive value\n",
    "for i in range(len(complex_df.index)):\n",
    "\n",
    "    stoich = complex_df.loc[i, 'stoichiometry']\n",
    "\n",
    "    for k,v in stoich.items():\n",
    "        if v > 0:\n",
    "            complex_df.at[i, 'id'] = k\n",
    "\n",
    "complex_df"
   ],
   "metadata": {
    "collapsed": false,
    "ExecuteTime": {
     "end_time": "2023-07-20T22:28:22.577200Z",
     "start_time": "2023-07-20T22:28:22.522524Z"
    }
   }
  },
  {
   "cell_type": "code",
   "execution_count": 23,
   "outputs": [
    {
     "name": "stdout",
     "output_type": "stream",
     "text": [
      "0\n",
      "100\n",
      "200\n",
      "CPLX0-2423 404\n",
      "300\n",
      "CPLX0-3976 404\n",
      "400\n",
      "500\n",
      "600\n",
      "700\n",
      "800\n",
      "900\n",
      "RECFOR-CPLX 404\n",
      "1000\n",
      "CPLX0-7796APO 404\n"
     ]
    }
   ],
   "source": [
    "complex_df[\"cofactors\"] = 0\n",
    "complex_df[\"cofactors\"] = complex_df[\"cofactors\"].astype(object)\n",
    "\n",
    "complex_df[\"enzyme_reaction\"] = 0\n",
    "complex_df[\"enzyme_reaction\"] = complex_df[\"enzyme_reaction\"].astype(object)\n",
    "\n",
    "for i in range(len(complex_df.index)):\n",
    "\n",
    "    if i % 100 == 0:\n",
    "        print(i)\n",
    "\n",
    "    complex = complex_df.loc[i, 'id']\n",
    "\n",
    "    req_str = f'https://websvc.biocyc.org/getxml?id=ECOLI:{complex}&detail=low'\n",
    "\n",
    "    r = s.get(req_str)\n",
    "    if r.status_code != 200:\n",
    "        print(complex, r.status_code)\n",
    "        complex_df.at[i, 'enzyme_reaction'] = set()\n",
    "        complex_df.at[i, 'cofactors'] = set()\n",
    "        continue\n",
    "\n",
    "    o = xmltodict.parse(r.content)['ptools-xml']['Protein']\n",
    "\n",
    "\n",
    "    # if enzyme\n",
    "    if 'catalyzes' in o:\n",
    "        o = o['catalyzes']['Enzymatic-Reaction']\n",
    "\n",
    "        if type(o) is dict:\n",
    "            o = [o]\n",
    "\n",
    "        cofactor_set = set()\n",
    "        enz_rxn_set = set()\n",
    "\n",
    "        for enzrxn in o:\n",
    "            enz_id = enzrxn['@frameid']\n",
    "\n",
    "            enz_rxn_set.add(enz_id)\n",
    "\n",
    "            enz_req_str = f'https://websvc.biocyc.org/getxml?id=ECOLI:{enz_id}&detail=high'\n",
    "\n",
    "            rz = s.get(enz_req_str)\n",
    "            oe = xmltodict.parse(rz.content)['ptools-xml']['Enzymatic-Reaction']\n",
    "\n",
    "            if \"cofactor\" in oe:\n",
    "                oe = oe['cofactor']\n",
    "\n",
    "                if type(oe) is dict:\n",
    "                    oe = [oe]\n",
    "\n",
    "                for cofactor in oe:\n",
    "                    cof = cofactor['Compound']['@frameid']\n",
    "                    cofactor_set.add(cof)\n",
    "\n",
    "        complex_df.at[i, 'enzyme_reaction'] = enz_rxn_set\n",
    "        complex_df.at[i, 'cofactors'] = cofactor_set\n",
    "\n",
    "    else:\n",
    "        complex_df.at[i, 'enzyme_reaction'] = set()\n",
    "        complex_df.at[i, 'cofactors'] = set()"
   ],
   "metadata": {
    "collapsed": false,
    "ExecuteTime": {
     "end_time": "2023-07-20T22:31:23.659510Z",
     "start_time": "2023-07-20T22:28:30.603287Z"
    }
   }
  },
  {
   "cell_type": "code",
   "execution_count": 24,
   "outputs": [],
   "source": [
    "# save complex_df to parquet in a way that preserves dicts\n"
   ],
   "metadata": {
    "collapsed": false,
    "ExecuteTime": {
     "end_time": "2023-07-20T22:33:23.564155Z",
     "start_time": "2023-07-20T22:33:23.561488Z"
    }
   }
  },
  {
   "cell_type": "code",
   "execution_count": 25,
   "outputs": [
    {
     "data": {
      "text/plain": "                                    id  \\\n0                                1-PFK   \n1                2OXOGLUTARATEDEH-CPLX   \n2          3-ISOPROPYLMALDEHYDROG-CPLX   \n3              3-ISOPROPYLMALISOM-CPLX   \n4     3-METHYL-2-OXOBUT-OHCH3XFER-CPLX   \n...                                ...   \n1063                        CPLX0-8053   \n1064                        CPLX0-8253   \n1065                          SRP-CPLX   \n1066                     CPLX0-7796APO   \n1067                         ARCB-CPLX   \n\n                                          stoichiometry  \\\n0                     {'1-PFK': 1, '1-PFK-MONOMER': -2}   \n1     {'2OXOGLUTARATEDEH-CPLX': 1, 'E1O': -1, 'E2O':...   \n2     {'3-ISOPROPYLMALDEHYDROG-CPLX': 1, '3-ISOPROPY...   \n3     {'3-ISOPROPYLMALISOM-CPLX': 1, 'LEUC-MONOMER':...   \n4     {'3-METHYL-2-OXOBUT-OHCH3XFER-CPLX': 1, '3-CH3...   \n...                                                 ...   \n1063           {'CPLX0-8053': 1, 'EG10942-MONOMER': -1}   \n1064  {'CPLX0-8253': 1, 'CSRC-RNA': -1, 'EG11447-MON...   \n1065  {'SRP-CPLX': 1, 'EG10300-MONOMER': -1, 'FFS-RN...   \n1066                {'CPLX0-7796APO': 1, 'PD04032': -2}   \n1067               {'ARCB-CPLX': 1, 'ARCB-MONOMER': -2}   \n\n                                             cofactors  \\\n0                                               [MG+2]   \n1     [FAD, LIPOIC-ACID, MG+2, THIAMINE-PYROPHOSPHATE]   \n2                                         [MN+2, MG+2]   \n3                                              [CPD-7]   \n4                                               [MG+2]   \n...                                                ...   \n1063                                                []   \n1064                                                []   \n1065                                                []   \n1066                                                []   \n1067                                                []   \n\n                           enzyme_reaction  \n0                  [1PFRUCTPHOSPHN-ENZRXN]  \n1                [2OXOGLUTARATEDEH-ENZRXN]  \n2          [3-ISOPROPYLMALDEHYDROG-ENZRXN]  \n3              [3-ISOPROPYLMALISOM-ENZRXN]  \n4     [3-METHYL-2-OXOBUT-OHCH3XFER-ENZRXN]  \n...                                    ...  \n1063                                    []  \n1064                                    []  \n1065                                    []  \n1066                                    []  \n1067                        [ENZRXN0-8568]  \n\n[1068 rows x 4 columns]",
      "text/html": "<div>\n<style scoped>\n    .dataframe tbody tr th:only-of-type {\n        vertical-align: middle;\n    }\n\n    .dataframe tbody tr th {\n        vertical-align: top;\n    }\n\n    .dataframe thead th {\n        text-align: right;\n    }\n</style>\n<table border=\"1\" class=\"dataframe\">\n  <thead>\n    <tr style=\"text-align: right;\">\n      <th></th>\n      <th>id</th>\n      <th>stoichiometry</th>\n      <th>cofactors</th>\n      <th>enzyme_reaction</th>\n    </tr>\n  </thead>\n  <tbody>\n    <tr>\n      <th>0</th>\n      <td>1-PFK</td>\n      <td>{'1-PFK': 1, '1-PFK-MONOMER': -2}</td>\n      <td>[MG+2]</td>\n      <td>[1PFRUCTPHOSPHN-ENZRXN]</td>\n    </tr>\n    <tr>\n      <th>1</th>\n      <td>2OXOGLUTARATEDEH-CPLX</td>\n      <td>{'2OXOGLUTARATEDEH-CPLX': 1, 'E1O': -1, 'E2O':...</td>\n      <td>[FAD, LIPOIC-ACID, MG+2, THIAMINE-PYROPHOSPHATE]</td>\n      <td>[2OXOGLUTARATEDEH-ENZRXN]</td>\n    </tr>\n    <tr>\n      <th>2</th>\n      <td>3-ISOPROPYLMALDEHYDROG-CPLX</td>\n      <td>{'3-ISOPROPYLMALDEHYDROG-CPLX': 1, '3-ISOPROPY...</td>\n      <td>[MN+2, MG+2]</td>\n      <td>[3-ISOPROPYLMALDEHYDROG-ENZRXN]</td>\n    </tr>\n    <tr>\n      <th>3</th>\n      <td>3-ISOPROPYLMALISOM-CPLX</td>\n      <td>{'3-ISOPROPYLMALISOM-CPLX': 1, 'LEUC-MONOMER':...</td>\n      <td>[CPD-7]</td>\n      <td>[3-ISOPROPYLMALISOM-ENZRXN]</td>\n    </tr>\n    <tr>\n      <th>4</th>\n      <td>3-METHYL-2-OXOBUT-OHCH3XFER-CPLX</td>\n      <td>{'3-METHYL-2-OXOBUT-OHCH3XFER-CPLX': 1, '3-CH3...</td>\n      <td>[MG+2]</td>\n      <td>[3-METHYL-2-OXOBUT-OHCH3XFER-ENZRXN]</td>\n    </tr>\n    <tr>\n      <th>...</th>\n      <td>...</td>\n      <td>...</td>\n      <td>...</td>\n      <td>...</td>\n    </tr>\n    <tr>\n      <th>1063</th>\n      <td>CPLX0-8053</td>\n      <td>{'CPLX0-8053': 1, 'EG10942-MONOMER': -1}</td>\n      <td>[]</td>\n      <td>[]</td>\n    </tr>\n    <tr>\n      <th>1064</th>\n      <td>CPLX0-8253</td>\n      <td>{'CPLX0-8253': 1, 'CSRC-RNA': -1, 'EG11447-MON...</td>\n      <td>[]</td>\n      <td>[]</td>\n    </tr>\n    <tr>\n      <th>1065</th>\n      <td>SRP-CPLX</td>\n      <td>{'SRP-CPLX': 1, 'EG10300-MONOMER': -1, 'FFS-RN...</td>\n      <td>[]</td>\n      <td>[]</td>\n    </tr>\n    <tr>\n      <th>1066</th>\n      <td>CPLX0-7796APO</td>\n      <td>{'CPLX0-7796APO': 1, 'PD04032': -2}</td>\n      <td>[]</td>\n      <td>[]</td>\n    </tr>\n    <tr>\n      <th>1067</th>\n      <td>ARCB-CPLX</td>\n      <td>{'ARCB-CPLX': 1, 'ARCB-MONOMER': -2}</td>\n      <td>[]</td>\n      <td>[ENZRXN0-8568]</td>\n    </tr>\n  </tbody>\n</table>\n<p>1068 rows × 4 columns</p>\n</div>"
     },
     "execution_count": 25,
     "metadata": {},
     "output_type": "execute_result"
    }
   ],
   "source": [
    "for col in ['enzyme_reaction', 'cofactors']:\n",
    "    complex_df[col] = complex_df[col].apply(lambda x: list(x))\n",
    "\n",
    "complex_df.to_parquet('notebooks/fbagd/data/raw_complexes.parquet', index=False, engine='fastparquet')\n",
    "complex_df"
   ],
   "metadata": {
    "collapsed": false,
    "ExecuteTime": {
     "end_time": "2023-07-20T22:33:24.324417Z",
     "start_time": "2023-07-20T22:33:24.257580Z"
    }
   }
  },
  {
   "cell_type": "markdown",
   "source": [
    "## Create new column for monomer component stoichiometry"
   ],
   "metadata": {
    "collapsed": false
   }
  },
  {
   "cell_type": "code",
   "execution_count": 26,
   "outputs": [],
   "source": [
    "test_complex_df = pd.read_parquet('notebooks/fbagd/data/raw_complexes.parquet')\n",
    "test_complex_df\n",
    "\n",
    "# convert cofactors and enzyme_reaction to str\n",
    "for col in ['stoichiometry', 'enzyme_reaction', 'cofactors']:\n",
    "    test_complex_df[col] = test_complex_df[col].astype(str)\n",
    "\n",
    "    # interpret as str literal\n",
    "    test_complex_df[col] = test_complex_df[col].apply(lambda x: ast.literal_eval(x))\n",
    "\n",
    "test_complex_df\n",
    "\n",
    "complex_names = complex_df['id'].tolist()\n",
    "monomer_names = filter_protein_df['id'].tolist()"
   ],
   "metadata": {
    "collapsed": false,
    "ExecuteTime": {
     "end_time": "2023-07-20T22:33:26.993725Z",
     "start_time": "2023-07-20T22:33:26.963781Z"
    }
   }
  },
  {
   "cell_type": "code",
   "execution_count": 149,
   "outputs": [],
   "source": [
    "def recursive_component_tree(current_component_name, complex_table, protein_table,\n",
    "                             current_multiplier=1, component_list=None, parent=None):\n",
    "    \"\"\"\n",
    "    Recursively find all downstream components of a given complex.\n",
    "    \"\"\"\n",
    "\n",
    "    complex_names = complex_table['id'].tolist()\n",
    "    monomer_names = protein_table['id'].tolist()\n",
    "\n",
    "\n",
    "    my_children = {}\n",
    "\n",
    "    if component_list is None:\n",
    "        component_list = []\n",
    "\n",
    "\n",
    "    if current_component_name in complex_names:\n",
    "\n",
    "\n",
    "        cplx_idx = complex_table.index[complex_table['id'] == current_component_name][0]\n",
    "        stoichiometry = complex_table.at[cplx_idx, 'stoichiometry']\n",
    "\n",
    "        for component_name, coefficient in stoichiometry.items():\n",
    "\n",
    "            if coefficient < 0 and component_name != current_component_name:\n",
    "\n",
    "                child_multiplier = abs(coefficient) * current_multiplier\n",
    "\n",
    "                new_child = recursive_component_tree(component_name, complex_table, protein_table, child_multiplier, component_list, current_component_name)\n",
    "                my_children = my_children | new_child\n",
    "\n",
    "\n",
    "            elif coefficient > 0 and component_name == current_component_name:\n",
    "                continue\n",
    "\n",
    "            else:\n",
    "                raise ValueError(f\"key {k} and value {v} for complex {component_name} not processed properly.\")\n",
    "\n",
    "        component_list.append({'name': current_component_name,'parent': parent, 'children': list(my_children.keys()),\n",
    "                               'multiplier': current_multiplier, })\n",
    "\n",
    "\n",
    "    elif current_component_name in monomer_names:\n",
    "\n",
    "        # TODO check if enzrxn\n",
    "        my_children = None\n",
    "\n",
    "        component_list.append({'parent': parent, 'name': current_component_name, 'multiplier': current_multiplier, 'children': my_children})\n",
    "\n",
    "    else:\n",
    "        print(f\"component {current_component_name} not found in complex or protein tables\")\n",
    "\n",
    "        return {}\n",
    "\n",
    "\n",
    "    if parent is None:\n",
    "        return {current_component_name: my_children}, component_list\n",
    "    else:\n",
    "        return {current_component_name: my_children}\n"
   ],
   "metadata": {
    "collapsed": false,
    "ExecuteTime": {
     "end_time": "2023-07-21T22:23:09.597232Z",
     "start_time": "2023-07-21T22:23:09.593935Z"
    }
   }
  },
  {
   "cell_type": "code",
   "execution_count": 150,
   "outputs": [
    {
     "name": "stdout",
     "output_type": "stream",
     "text": [
      "[{'children': None,\n",
      "  'multiplier': 4,\n",
      "  'name': 'HYAA-MONOMER',\n",
      "  'parent': 'FORMHYDROGI-CPLX'},\n",
      " {'children': None,\n",
      "  'multiplier': 4,\n",
      "  'name': 'HYAB-MONOMER',\n",
      "  'parent': 'FORMHYDROGI-CPLX'},\n",
      " {'children': None,\n",
      "  'multiplier': 2,\n",
      "  'name': 'HYAC-MONOMER',\n",
      "  'parent': 'FORMHYDROGI-CPLX'},\n",
      " {'children': ['HYAA-MONOMER', 'HYAB-MONOMER', 'HYAC-MONOMER'],\n",
      "  'multiplier': 2,\n",
      "  'name': 'FORMHYDROGI-CPLX',\n",
      "  'parent': 'CPLX0-8167'},\n",
      " {'children': ['FORMHYDROGI-CPLX'],\n",
      "  'multiplier': 1,\n",
      "  'name': 'CPLX0-8167',\n",
      "  'parent': None}]\n"
     ]
    }
   ],
   "source": [
    "complex_tree_structure, nodes = recursive_component_tree('CPLX0-8167', complex_df, filter_protein_df)\n",
    "pp.pprint(nodes)"
   ],
   "metadata": {
    "collapsed": false,
    "ExecuteTime": {
     "end_time": "2023-07-21T22:23:10.017701Z",
     "start_time": "2023-07-21T22:23:10.012994Z"
    }
   }
  },
  {
   "cell_type": "code",
   "execution_count": 153,
   "outputs": [
    {
     "name": "stdout",
     "output_type": "stream",
     "text": [
      "component CPLX0-7701 not found in complex or protein tables\n",
      "component CPLX0-7677 not found in complex or protein tables\n",
      "component MONOMER0-1781 not found in complex or protein tables\n",
      "component CPLX0-7702 not found in complex or protein tables\n",
      "component CSRB-RNA not found in complex or protein tables\n",
      "component RNPB-RNA not found in complex or protein tables\n",
      "component RRSA-RRNA not found in complex or protein tables\n",
      "component RRLA-RRNA not found in complex or protein tables\n",
      "component RRFA-RRNA not found in complex or protein tables\n",
      "component IS061-RNA not found in complex or protein tables\n",
      "component CSRC-RNA not found in complex or protein tables\n",
      "component FFS-RNA not found in complex or protein tables\n"
     ]
    }
   ],
   "source": [
    "complex_df['monomer_component_stoichiometry'] = 0\n",
    "complex_df['monomer_component_stoichiometry'] = complex_df['monomer_component_stoichiometry'].astype(object)\n",
    "\n",
    "for i in range(len(complex_df.index)):\n",
    "    complex_name = complex_df.loc[i, 'id']\n",
    "    complex_tree_structure, nodes = recursive_component_tree(complex_name, complex_df, filter_protein_df)\n",
    "\n",
    "    monomer_components = {node['name']: node['multiplier'] for node in nodes if node['children'] is None}\n",
    "\n",
    "    complex_df.at[i, 'monomer_component_stoichiometry'] = monomer_components"
   ],
   "metadata": {
    "collapsed": false,
    "ExecuteTime": {
     "end_time": "2023-07-21T22:59:45.064342Z",
     "start_time": "2023-07-21T22:59:44.804304Z"
    }
   }
  },
  {
   "cell_type": "code",
   "execution_count": 155,
   "outputs": [
    {
     "data": {
      "text/plain": "                                    id  \\\n0                                1-PFK   \n1                2OXOGLUTARATEDEH-CPLX   \n2          3-ISOPROPYLMALDEHYDROG-CPLX   \n3              3-ISOPROPYLMALISOM-CPLX   \n4     3-METHYL-2-OXOBUT-OHCH3XFER-CPLX   \n...                                ...   \n1063                        CPLX0-8053   \n1064                        CPLX0-8253   \n1065                          SRP-CPLX   \n1066                     CPLX0-7796APO   \n1067                         ARCB-CPLX   \n\n                        monomer_component_stoichiometry  \\\n0                                  {'1-PFK-MONOMER': 2}   \n1     {'E1O-MONOMER': 12, 'E2O-MONOMER': 24, 'E3-MON...   \n2                 {'3-ISOPROPYLMALDEHYDROG-MONOMER': 2}   \n3                {'LEUC-MONOMER': 1, 'LEUD-MONOMER': 1}   \n4      {'3-CH3-2-OXOBUTANOATE-OH-CH3-XFER-MONOMER': 10}   \n...                                                 ...   \n1063                             {'EG10942-MONOMER': 1}   \n1064                             {'EG11447-MONOMER': 9}   \n1065                             {'EG10300-MONOMER': 1}   \n1066                                     {'PD04032': 2}   \n1067                                {'ARCB-MONOMER': 2}   \n\n                                             cofactors  \n0                                               [MG+2]  \n1     [FAD, LIPOIC-ACID, MG+2, THIAMINE-PYROPHOSPHATE]  \n2                                         [MN+2, MG+2]  \n3                                              [CPD-7]  \n4                                               [MG+2]  \n...                                                ...  \n1063                                                []  \n1064                                                []  \n1065                                                []  \n1066                                                []  \n1067                                                []  \n\n[1068 rows x 3 columns]",
      "text/html": "<div>\n<style scoped>\n    .dataframe tbody tr th:only-of-type {\n        vertical-align: middle;\n    }\n\n    .dataframe tbody tr th {\n        vertical-align: top;\n    }\n\n    .dataframe thead th {\n        text-align: right;\n    }\n</style>\n<table border=\"1\" class=\"dataframe\">\n  <thead>\n    <tr style=\"text-align: right;\">\n      <th></th>\n      <th>id</th>\n      <th>monomer_component_stoichiometry</th>\n      <th>cofactors</th>\n    </tr>\n  </thead>\n  <tbody>\n    <tr>\n      <th>0</th>\n      <td>1-PFK</td>\n      <td>{'1-PFK-MONOMER': 2}</td>\n      <td>[MG+2]</td>\n    </tr>\n    <tr>\n      <th>1</th>\n      <td>2OXOGLUTARATEDEH-CPLX</td>\n      <td>{'E1O-MONOMER': 12, 'E2O-MONOMER': 24, 'E3-MON...</td>\n      <td>[FAD, LIPOIC-ACID, MG+2, THIAMINE-PYROPHOSPHATE]</td>\n    </tr>\n    <tr>\n      <th>2</th>\n      <td>3-ISOPROPYLMALDEHYDROG-CPLX</td>\n      <td>{'3-ISOPROPYLMALDEHYDROG-MONOMER': 2}</td>\n      <td>[MN+2, MG+2]</td>\n    </tr>\n    <tr>\n      <th>3</th>\n      <td>3-ISOPROPYLMALISOM-CPLX</td>\n      <td>{'LEUC-MONOMER': 1, 'LEUD-MONOMER': 1}</td>\n      <td>[CPD-7]</td>\n    </tr>\n    <tr>\n      <th>4</th>\n      <td>3-METHYL-2-OXOBUT-OHCH3XFER-CPLX</td>\n      <td>{'3-CH3-2-OXOBUTANOATE-OH-CH3-XFER-MONOMER': 10}</td>\n      <td>[MG+2]</td>\n    </tr>\n    <tr>\n      <th>...</th>\n      <td>...</td>\n      <td>...</td>\n      <td>...</td>\n    </tr>\n    <tr>\n      <th>1063</th>\n      <td>CPLX0-8053</td>\n      <td>{'EG10942-MONOMER': 1}</td>\n      <td>[]</td>\n    </tr>\n    <tr>\n      <th>1064</th>\n      <td>CPLX0-8253</td>\n      <td>{'EG11447-MONOMER': 9}</td>\n      <td>[]</td>\n    </tr>\n    <tr>\n      <th>1065</th>\n      <td>SRP-CPLX</td>\n      <td>{'EG10300-MONOMER': 1}</td>\n      <td>[]</td>\n    </tr>\n    <tr>\n      <th>1066</th>\n      <td>CPLX0-7796APO</td>\n      <td>{'PD04032': 2}</td>\n      <td>[]</td>\n    </tr>\n    <tr>\n      <th>1067</th>\n      <td>ARCB-CPLX</td>\n      <td>{'ARCB-MONOMER': 2}</td>\n      <td>[]</td>\n    </tr>\n  </tbody>\n</table>\n<p>1068 rows × 3 columns</p>\n</div>"
     },
     "execution_count": 155,
     "metadata": {},
     "output_type": "execute_result"
    }
   ],
   "source": [
    "filter_complex_df = complex_df.loc[:, [\"id\", \"monomer_component_stoichiometry\", \"cofactors\"]]\n",
    "filter_complex_df"
   ],
   "metadata": {
    "collapsed": false,
    "ExecuteTime": {
     "end_time": "2023-07-21T23:00:04.156525Z",
     "start_time": "2023-07-21T23:00:04.154094Z"
    }
   }
  },
  {
   "cell_type": "code",
   "execution_count": 156,
   "outputs": [],
   "source": [
    "filter_complex_df.to_parquet('notebooks/fbagd/data/processed_complexes.parquet', index=False)"
   ],
   "metadata": {
    "collapsed": false,
    "ExecuteTime": {
     "end_time": "2023-07-21T23:00:16.732913Z",
     "start_time": "2023-07-21T23:00:16.687416Z"
    }
   }
  },
  {
   "cell_type": "markdown",
   "source": [
    "# Get cofactor elemental composition and more"
   ],
   "metadata": {
    "collapsed": false
   }
  },
  {
   "cell_type": "code",
   "execution_count": 188,
   "outputs": [
    {
     "name": "stdout",
     "output_type": "stream",
     "text": [
      "CPD-6\n",
      "[{'@elementType': 'FE',\n",
      "  '@id': 'CPD-6-atom1',\n",
      "  '@x2': '-52053.0',\n",
      "  '@y2': '-9036.0'},\n",
      " {'@elementType': 'FE',\n",
      "  '@id': 'CPD-6-atom2',\n",
      "  '@x2': '-29830.0',\n",
      "  '@y2': '-8839.0'},\n",
      " {'@elementType': 'S',\n",
      "  '@id': 'CPD-6-atom3',\n",
      "  '@x2': '-25705.0',\n",
      "  '@y2': '-15984.0'},\n",
      " {'@elementType': 'S',\n",
      "  '@id': 'CPD-6-atom4',\n",
      "  '@x2': '-23996.0',\n",
      "  '@y2': '-3006.0'},\n",
      " {'@elementType': 'S',\n",
      "  '@id': 'CPD-6-atom5',\n",
      "  '@x2': '-56178.0',\n",
      "  '@y2': '-1891.0'},\n",
      " {'@elementType': 'S',\n",
      "  '@id': 'CPD-6-atom6',\n",
      "  '@x2': '-56178.0',\n",
      "  '@y2': '-16180.0'},\n",
      " {'@elementType': 'S',\n",
      "  '@id': 'CPD-6-atom7',\n",
      "  '@x2': '-40155.0',\n",
      "  '@y2': '-13528.0'},\n",
      " {'@elementType': 'S',\n",
      "  '@id': 'CPD-6-atom8',\n",
      "  '@x2': '-40043.0',\n",
      "  '@y2': '-4248.0'},\n",
      " {'@elementType': 'R',\n",
      "  '@id': 'CPD-6-atom9',\n",
      "  '@x2': '-64428.0',\n",
      "  '@y2': '-1891.0'},\n",
      " {'@elementType': 'R',\n",
      "  '@id': 'CPD-6-atom10',\n",
      "  '@x2': '-17455.0',\n",
      "  '@y2': '-15984.0'},\n",
      " {'@elementType': 'R',\n",
      "  '@id': 'CPD-6-atom11',\n",
      "  '@x2': '-15746.0',\n",
      "  '@y2': '-3006.0'},\n",
      " {'@elementType': 'R',\n",
      "  '@id': 'CPD-6-atom12',\n",
      "  '@x2': '-64477.0',\n",
      "  '@y2': '-16180.0'}]\n"
     ]
    }
   ],
   "source": [
    "compound = 'CPD-6'\n",
    "req_str = f'https://websvc.biocyc.org/getxml?id=ECOLI:{compound}&detail=full'\n",
    "r = s.get(req_str)\n",
    "if r.status_code != 200:\n",
    "    print(compound, r.status_code)\n",
    "\n",
    "o = xmltodict.parse(r.content)['ptools-xml']\n",
    "print(compound)\n",
    "pp.pprint(o['Compound']['cml']['molecule']['atomArray']['atom'])"
   ],
   "metadata": {
    "collapsed": false,
    "ExecuteTime": {
     "end_time": "2023-07-21T23:21:51.760653Z",
     "start_time": "2023-07-21T23:21:51.679912Z"
    }
   }
  },
  {
   "cell_type": "code",
   "execution_count": 204,
   "outputs": [
    {
     "name": "stdout",
     "output_type": "stream",
     "text": [
      "Any+2 404\n",
      "heme 404\n"
     ]
    }
   ],
   "source": [
    "# get set of all cofactors\n",
    "all_metal_cofactors = set()\n",
    "all_other_cofactors = set()\n",
    "\n",
    "for i in range(len(filter_protein_df.index)):\n",
    "\n",
    "    metal_cofactors = filter_protein_df.loc[i, 'metal_features_processed']\n",
    "    other_cofactors = filter_protein_df.loc[i, 'other_features_processed']\n",
    "\n",
    "    all_metal_cofactors = all_metal_cofactors | set(metal_cofactors.keys())\n",
    "    all_other_cofactors = all_other_cofactors | set(other_cofactors.keys())\n",
    "\n",
    "filter_cofactor_df = pd.DataFrame(columns=['id', 'elemental_composition'])\n",
    "filter_cofactor_df['id'] = list(all_metal_cofactors | all_other_cofactors)\n",
    "\n",
    "filter_cofactor_df['elemental_composition'] = 0\n",
    "filter_cofactor_df['elemental_composition'] = filter_cofactor_df['elemental_composition'].astype(object)\n",
    "\n",
    "# for each cofactor, get elemental composition\n",
    "for i in range(len(filter_cofactor_df.index)):\n",
    "\n",
    "    compound = filter_cofactor_df.loc[i, 'id']\n",
    "    atom_dict = {}\n",
    "\n",
    "    url_name = compound.replace('+', '%2b')\n",
    "\n",
    "    req_str = f'https://websvc.biocyc.org/getxml?id=ECOLI:{url_name}&detail=full'\n",
    "\n",
    "    r = s.get(req_str)\n",
    "    if r.status_code != 200:\n",
    "        print(compound, r.status_code)\n",
    "        filter_cofactor_df.at[i, 'elemental_composition'] = {}\n",
    "        continue\n",
    "\n",
    "    o = xmltodict.parse(r.content)['ptools-xml']\n",
    "\n",
    "    atoms = o['Compound']['cml']['molecule']['atomArray']['atom']\n",
    "    if type(atoms) is dict:\n",
    "        atoms = [atoms]\n",
    "\n",
    "    for atom in atoms:\n",
    "        element = atom['@elementType']\n",
    "\n",
    "        # either add new element or add to existing element\n",
    "        if element not in atom_dict:\n",
    "            atom_dict[element] = 1\n",
    "        else:\n",
    "            atom_dict[element] += 1\n",
    "\n",
    "    filter_cofactor_df.at[i, 'elemental_composition'] = atom_dict"
   ],
   "metadata": {
    "collapsed": false,
    "ExecuteTime": {
     "end_time": "2023-07-22T00:08:29.339925Z",
     "start_time": "2023-07-22T00:08:24.819924Z"
    }
   }
  },
  {
   "cell_type": "code",
   "execution_count": 205,
   "outputs": [
    {
     "data": {
      "text/plain": "                        id                              elemental_composition\n0                      FAD                 {'C': 27, 'N': 9, 'O': 15, 'P': 2}\n1                   3FE-4S                                  {'FE': 3, 'S': 4}\n2                     MN+2                                          {'MN': 1}\n3                     CA+2                                          {'CA': 1}\n4   THIAMINE-PYROPHOSPHATE          {'C': 12, 'N': 4, 'O': 7, 'P': 2, 'S': 1}\n5                    Any+2                                                 {}\n6                     heme                                                 {}\n7                     FE+2                                          {'FE': 1}\n8                     MG+2                                          {'MG': 1}\n9                      FMN                  {'C': 17, 'N': 4, 'O': 9, 'P': 1}\n10                   CPD-6                          {'FE': 2, 'S': 6, 'R': 4}\n11                    CO+2                                          {'CO': 1}\n12                    ZN+2                                          {'ZN': 1}\n13                   CPD-3                                  {'MO': 1, 'O': 4}\n14                      K+                                           {'K': 1}\n15                    NI+2                                          {'NI': 1}\n16                   CPD-7                                  {'FE': 4, 'S': 4}\n17                     NA+                                          {'NA': 1}\n18                    CU+2                                          {'CU': 1}\n19                CPD-8123  {'C': 10, 'N': 5, 'O': 8, 'P': 1, 'S': 2, 'MO'...\n20     PYRIDOXAL_PHOSPHATE                   {'C': 8, 'N': 1, 'O': 6, 'P': 1}",
      "text/html": "<div>\n<style scoped>\n    .dataframe tbody tr th:only-of-type {\n        vertical-align: middle;\n    }\n\n    .dataframe tbody tr th {\n        vertical-align: top;\n    }\n\n    .dataframe thead th {\n        text-align: right;\n    }\n</style>\n<table border=\"1\" class=\"dataframe\">\n  <thead>\n    <tr style=\"text-align: right;\">\n      <th></th>\n      <th>id</th>\n      <th>elemental_composition</th>\n    </tr>\n  </thead>\n  <tbody>\n    <tr>\n      <th>0</th>\n      <td>FAD</td>\n      <td>{'C': 27, 'N': 9, 'O': 15, 'P': 2}</td>\n    </tr>\n    <tr>\n      <th>1</th>\n      <td>3FE-4S</td>\n      <td>{'FE': 3, 'S': 4}</td>\n    </tr>\n    <tr>\n      <th>2</th>\n      <td>MN+2</td>\n      <td>{'MN': 1}</td>\n    </tr>\n    <tr>\n      <th>3</th>\n      <td>CA+2</td>\n      <td>{'CA': 1}</td>\n    </tr>\n    <tr>\n      <th>4</th>\n      <td>THIAMINE-PYROPHOSPHATE</td>\n      <td>{'C': 12, 'N': 4, 'O': 7, 'P': 2, 'S': 1}</td>\n    </tr>\n    <tr>\n      <th>5</th>\n      <td>Any+2</td>\n      <td>{}</td>\n    </tr>\n    <tr>\n      <th>6</th>\n      <td>heme</td>\n      <td>{}</td>\n    </tr>\n    <tr>\n      <th>7</th>\n      <td>FE+2</td>\n      <td>{'FE': 1}</td>\n    </tr>\n    <tr>\n      <th>8</th>\n      <td>MG+2</td>\n      <td>{'MG': 1}</td>\n    </tr>\n    <tr>\n      <th>9</th>\n      <td>FMN</td>\n      <td>{'C': 17, 'N': 4, 'O': 9, 'P': 1}</td>\n    </tr>\n    <tr>\n      <th>10</th>\n      <td>CPD-6</td>\n      <td>{'FE': 2, 'S': 6, 'R': 4}</td>\n    </tr>\n    <tr>\n      <th>11</th>\n      <td>CO+2</td>\n      <td>{'CO': 1}</td>\n    </tr>\n    <tr>\n      <th>12</th>\n      <td>ZN+2</td>\n      <td>{'ZN': 1}</td>\n    </tr>\n    <tr>\n      <th>13</th>\n      <td>CPD-3</td>\n      <td>{'MO': 1, 'O': 4}</td>\n    </tr>\n    <tr>\n      <th>14</th>\n      <td>K+</td>\n      <td>{'K': 1}</td>\n    </tr>\n    <tr>\n      <th>15</th>\n      <td>NI+2</td>\n      <td>{'NI': 1}</td>\n    </tr>\n    <tr>\n      <th>16</th>\n      <td>CPD-7</td>\n      <td>{'FE': 4, 'S': 4}</td>\n    </tr>\n    <tr>\n      <th>17</th>\n      <td>NA+</td>\n      <td>{'NA': 1}</td>\n    </tr>\n    <tr>\n      <th>18</th>\n      <td>CU+2</td>\n      <td>{'CU': 1}</td>\n    </tr>\n    <tr>\n      <th>19</th>\n      <td>CPD-8123</td>\n      <td>{'C': 10, 'N': 5, 'O': 8, 'P': 1, 'S': 2, 'MO'...</td>\n    </tr>\n    <tr>\n      <th>20</th>\n      <td>PYRIDOXAL_PHOSPHATE</td>\n      <td>{'C': 8, 'N': 1, 'O': 6, 'P': 1}</td>\n    </tr>\n  </tbody>\n</table>\n</div>"
     },
     "execution_count": 205,
     "metadata": {},
     "output_type": "execute_result"
    }
   ],
   "source": [
    "filter_cofactor_df"
   ],
   "metadata": {
    "collapsed": false,
    "ExecuteTime": {
     "end_time": "2023-07-22T00:08:29.350594Z",
     "start_time": "2023-07-22T00:08:29.347511Z"
    }
   }
  },
  {
   "cell_type": "code",
   "execution_count": 206,
   "outputs": [],
   "source": [
    "# save as parquet\n",
    "filter_cofactor_df.to_parquet('notebooks/fbagd/data/processed_cofactors.parquet', index=False)"
   ],
   "metadata": {
    "collapsed": false,
    "ExecuteTime": {
     "end_time": "2023-07-22T00:08:30.139742Z",
     "start_time": "2023-07-22T00:08:30.131607Z"
    }
   }
  },
  {
   "cell_type": "markdown",
   "source": [
    "# For each complex, look up components and check how many are missing from protein features."
   ],
   "metadata": {
    "collapsed": false
   }
  },
  {
   "cell_type": "code",
   "execution_count": 207,
   "outputs": [],
   "source": [
    "# filter_protein_df = pd.read_parquet('notebooks/fbagd/data/processed_proteins.parquet')\n",
    "# filter_complex_df = pd.read_parquet('notebooks/fbagd/data/processed_complexes.parquet')\n",
    "# filter_cofactor_df = pd.read_parquet('notebooks/fbagd/data/processed_cofactors.parquet')"
   ],
   "metadata": {
    "collapsed": false,
    "ExecuteTime": {
     "end_time": "2023-07-22T00:08:31.848251Z",
     "start_time": "2023-07-22T00:08:31.616175Z"
    }
   }
  },
  {
   "cell_type": "code",
   "execution_count": 211,
   "outputs": [
    {
     "data": {
      "text/plain": "                                    id  \\\n0                                1-PFK   \n1                2OXOGLUTARATEDEH-CPLX   \n2          3-ISOPROPYLMALDEHYDROG-CPLX   \n3              3-ISOPROPYLMALISOM-CPLX   \n4     3-METHYL-2-OXOBUT-OHCH3XFER-CPLX   \n...                                ...   \n1063                        CPLX0-8053   \n1064                        CPLX0-8253   \n1065                          SRP-CPLX   \n1066                     CPLX0-7796APO   \n1067                         ARCB-CPLX   \n\n                        monomer_component_stoichiometry  \\\n0     {'1-PFK-MONOMER': 2.0, '2-OCTAPRENYL-METHOXY-B...   \n1     {'1-PFK-MONOMER': None, '2-OCTAPRENYL-METHOXY-...   \n2     {'1-PFK-MONOMER': None, '2-OCTAPRENYL-METHOXY-...   \n3     {'1-PFK-MONOMER': None, '2-OCTAPRENYL-METHOXY-...   \n4     {'1-PFK-MONOMER': None, '2-OCTAPRENYL-METHOXY-...   \n...                                                 ...   \n1063  {'1-PFK-MONOMER': None, '2-OCTAPRENYL-METHOXY-...   \n1064  {'1-PFK-MONOMER': None, '2-OCTAPRENYL-METHOXY-...   \n1065  {'1-PFK-MONOMER': None, '2-OCTAPRENYL-METHOXY-...   \n1066  {'1-PFK-MONOMER': None, '2-OCTAPRENYL-METHOXY-...   \n1067  {'1-PFK-MONOMER': None, '2-OCTAPRENYL-METHOXY-...   \n\n                                             cofactors  \n0                                               [MG+2]  \n1     [FAD, LIPOIC-ACID, MG+2, THIAMINE-PYROPHOSPHATE]  \n2                                         [MN+2, MG+2]  \n3                                              [CPD-7]  \n4                                               [MG+2]  \n...                                                ...  \n1063                                                []  \n1064                                                []  \n1065                                                []  \n1066                                                []  \n1067                                                []  \n\n[1068 rows x 3 columns]",
      "text/html": "<div>\n<style scoped>\n    .dataframe tbody tr th:only-of-type {\n        vertical-align: middle;\n    }\n\n    .dataframe tbody tr th {\n        vertical-align: top;\n    }\n\n    .dataframe thead th {\n        text-align: right;\n    }\n</style>\n<table border=\"1\" class=\"dataframe\">\n  <thead>\n    <tr style=\"text-align: right;\">\n      <th></th>\n      <th>id</th>\n      <th>monomer_component_stoichiometry</th>\n      <th>cofactors</th>\n    </tr>\n  </thead>\n  <tbody>\n    <tr>\n      <th>0</th>\n      <td>1-PFK</td>\n      <td>{'1-PFK-MONOMER': 2.0, '2-OCTAPRENYL-METHOXY-B...</td>\n      <td>[MG+2]</td>\n    </tr>\n    <tr>\n      <th>1</th>\n      <td>2OXOGLUTARATEDEH-CPLX</td>\n      <td>{'1-PFK-MONOMER': None, '2-OCTAPRENYL-METHOXY-...</td>\n      <td>[FAD, LIPOIC-ACID, MG+2, THIAMINE-PYROPHOSPHATE]</td>\n    </tr>\n    <tr>\n      <th>2</th>\n      <td>3-ISOPROPYLMALDEHYDROG-CPLX</td>\n      <td>{'1-PFK-MONOMER': None, '2-OCTAPRENYL-METHOXY-...</td>\n      <td>[MN+2, MG+2]</td>\n    </tr>\n    <tr>\n      <th>3</th>\n      <td>3-ISOPROPYLMALISOM-CPLX</td>\n      <td>{'1-PFK-MONOMER': None, '2-OCTAPRENYL-METHOXY-...</td>\n      <td>[CPD-7]</td>\n    </tr>\n    <tr>\n      <th>4</th>\n      <td>3-METHYL-2-OXOBUT-OHCH3XFER-CPLX</td>\n      <td>{'1-PFK-MONOMER': None, '2-OCTAPRENYL-METHOXY-...</td>\n      <td>[MG+2]</td>\n    </tr>\n    <tr>\n      <th>...</th>\n      <td>...</td>\n      <td>...</td>\n      <td>...</td>\n    </tr>\n    <tr>\n      <th>1063</th>\n      <td>CPLX0-8053</td>\n      <td>{'1-PFK-MONOMER': None, '2-OCTAPRENYL-METHOXY-...</td>\n      <td>[]</td>\n    </tr>\n    <tr>\n      <th>1064</th>\n      <td>CPLX0-8253</td>\n      <td>{'1-PFK-MONOMER': None, '2-OCTAPRENYL-METHOXY-...</td>\n      <td>[]</td>\n    </tr>\n    <tr>\n      <th>1065</th>\n      <td>SRP-CPLX</td>\n      <td>{'1-PFK-MONOMER': None, '2-OCTAPRENYL-METHOXY-...</td>\n      <td>[]</td>\n    </tr>\n    <tr>\n      <th>1066</th>\n      <td>CPLX0-7796APO</td>\n      <td>{'1-PFK-MONOMER': None, '2-OCTAPRENYL-METHOXY-...</td>\n      <td>[]</td>\n    </tr>\n    <tr>\n      <th>1067</th>\n      <td>ARCB-CPLX</td>\n      <td>{'1-PFK-MONOMER': None, '2-OCTAPRENYL-METHOXY-...</td>\n      <td>[]</td>\n    </tr>\n  </tbody>\n</table>\n<p>1068 rows × 3 columns</p>\n</div>"
     },
     "execution_count": 211,
     "metadata": {},
     "output_type": "execute_result"
    }
   ],
   "source": [
    "filter_complex_df"
   ],
   "metadata": {
    "collapsed": false,
    "ExecuteTime": {
     "end_time": "2023-07-22T00:11:09.539898Z",
     "start_time": "2023-07-22T00:11:09.536014Z"
    }
   }
  },
  {
   "cell_type": "code",
   "execution_count": null,
   "outputs": [],
   "source": [
    " # for each complex, look up components and get cofactors for those components.\n",
    "for i in range(len(filter_complex_df.index)):\n",
    "    complex_id = filter_complex_df.loc[i, 'id']\n",
    "    complex_components = filter_complex_df.loc[i, 'monomer_component_stoichiometry']\n",
    "    complex_cofactors = filter_complex_df.loc[i, 'cofactors']\n",
    "\n",
    "    current_combined_features = set()\n",
    "\n",
    "\n",
    "    for component_name, component_count in complex_components.items():\n",
    "        # get index of component in filter_protein_df\n",
    "        component_index = filter_protein_df.index[filter_protein_df['id'] == component_name].tolist()[0]\n",
    "\n",
    "\n",
    "        component_metals = filter_protein_df.at[component_index, 'metal_features_processed']\n",
    "        component_other = filter_protein_df.at[component_index, 'other_features_processed']\n",
    "\n",
    "        current_combined_features.update(set(component_metals.keys()))\n",
    "        current_combined_features.update(set(component_other.keys()))\n",
    "\n",
    "        # print(f'component_name: {component_name}, component_metals: {component_metals}, component_other: {component_other}, cofactors: {complex_cofactors}')\n",
    "\n",
    "    # print difference between combined features and complex cofactors\n",
    "    if len(complex_cofactors - current_combined_features) > 0:\n",
    "        print(f'{complex_cofactors - current_combined_features}, {complex_id}, {current_combined_features}, {complex_cofactors}')\n",
    "\n",
    "\n",
    "    filter_complex_df.at[i, 'cofactors'] = complex_cofactors"
   ],
   "metadata": {
    "collapsed": false
   }
  },
  {
   "cell_type": "markdown",
   "source": [
    "Seems neglible. Let's just use the protein features."
   ],
   "metadata": {
    "collapsed": false
   }
  },
  {
   "cell_type": "markdown",
   "source": [
    "# Create matrices to get cofactor counts"
   ],
   "metadata": {
    "collapsed": false
   }
  },
  {
   "cell_type": "code",
   "execution_count": 224,
   "outputs": [
    {
     "data": {
      "text/plain": "                                            id  \\\n0      1-ACYLGLYCEROL-3-P-ACYLTRANSFER-MONOMER   \n1                                1-PFK-MONOMER   \n2             2-DEHYDROPANTOATE-REDUCT-MONOMER   \n3                 2-ISOPROPYLMALATESYN-MONOMER   \n4     2-OCTAPRENYL-METHOXY-BENZOQ-METH-MONOMER   \n...                                        ...   \n4415                              YTFR-MONOMER   \n4416                              YTFT-MONOMER   \n4417                              ZNUA-MONOMER   \n4418                              ZNUB-MONOMER   \n4419                              ZNUC-MONOMER   \n\n                                            common_name  \\\n0     1-acylglycerol-3-phosphate <i>O</i>-acyltransf...   \n1                                 1-phosphofructokinase   \n2                         2-dehydropantoate 2-reductase   \n3                            2-isopropylmalate synthase   \n4     bifunctional 2-octaprenyl-6-methoxy-1,4-benzoq...   \n...                                                 ...   \n4415  galactofuranose ABC transporter putative ATP b...   \n4416  galactofuranose ABC transporter putative membr...   \n4417  Zn<sup>2+</sup> ABC transporter periplasmic bi...   \n4418   Zn<sup>2+</sup> ABC transporter membrane subunit   \n4419  Zn<sup>2+</sup> ABC transporter ATP binding su...   \n\n                                        enzyme_reaction cofactors  \\\n0     [ENZRXN0-7992, ENZRXN0-7993, ENZRXN0-8629, ENZ...        []   \n1                                                    []        []   \n2                     [2-DEHYDROPANTOATE-REDUCT-ENZRXN]        []   \n3                                        [ENZRXN0-6250]        []   \n4     [ADOMET-DMK-METHYLTRANSFER-ENZRXN, 2-OCTAPRENY...        []   \n...                                                 ...       ...   \n4415                                                 []        []   \n4416                                                 []        []   \n4417                                                 []        []   \n4418                                                 []        []   \n4419                                                 []        []   \n\n                               metal_features_processed  \\\n0     {'3FE-4S': None, 'Any+2': None, 'CA+2': None, ...   \n1     {'3FE-4S': None, 'Any+2': None, 'CA+2': None, ...   \n2     {'3FE-4S': None, 'Any+2': None, 'CA+2': None, ...   \n3     {'3FE-4S': None, 'Any+2': None, 'CA+2': None, ...   \n4     {'3FE-4S': None, 'Any+2': None, 'CA+2': None, ...   \n...                                                 ...   \n4415  {'3FE-4S': None, 'Any+2': None, 'CA+2': None, ...   \n4416  {'3FE-4S': None, 'Any+2': None, 'CA+2': None, ...   \n4417  {'3FE-4S': None, 'Any+2': None, 'CA+2': None, ...   \n4418  {'3FE-4S': None, 'Any+2': None, 'CA+2': None, ...   \n4419  {'3FE-4S': None, 'Any+2': None, 'CA+2': None, ...   \n\n                               other_features_processed  \n0     {'FAD': None, 'FMN': None, 'PYRIDOXAL_PHOSPHAT...  \n1     {'FAD': None, 'FMN': None, 'PYRIDOXAL_PHOSPHAT...  \n2     {'FAD': None, 'FMN': None, 'PYRIDOXAL_PHOSPHAT...  \n3     {'FAD': None, 'FMN': None, 'PYRIDOXAL_PHOSPHAT...  \n4     {'FAD': None, 'FMN': None, 'PYRIDOXAL_PHOSPHAT...  \n...                                                 ...  \n4415  {'FAD': None, 'FMN': None, 'PYRIDOXAL_PHOSPHAT...  \n4416  {'FAD': None, 'FMN': None, 'PYRIDOXAL_PHOSPHAT...  \n4417  {'FAD': None, 'FMN': None, 'PYRIDOXAL_PHOSPHAT...  \n4418  {'FAD': None, 'FMN': None, 'PYRIDOXAL_PHOSPHAT...  \n4419  {'FAD': None, 'FMN': None, 'PYRIDOXAL_PHOSPHAT...  \n\n[4420 rows x 6 columns]",
      "text/html": "<div>\n<style scoped>\n    .dataframe tbody tr th:only-of-type {\n        vertical-align: middle;\n    }\n\n    .dataframe tbody tr th {\n        vertical-align: top;\n    }\n\n    .dataframe thead th {\n        text-align: right;\n    }\n</style>\n<table border=\"1\" class=\"dataframe\">\n  <thead>\n    <tr style=\"text-align: right;\">\n      <th></th>\n      <th>id</th>\n      <th>common_name</th>\n      <th>enzyme_reaction</th>\n      <th>cofactors</th>\n      <th>metal_features_processed</th>\n      <th>other_features_processed</th>\n    </tr>\n  </thead>\n  <tbody>\n    <tr>\n      <th>0</th>\n      <td>1-ACYLGLYCEROL-3-P-ACYLTRANSFER-MONOMER</td>\n      <td>1-acylglycerol-3-phosphate &lt;i&gt;O&lt;/i&gt;-acyltransf...</td>\n      <td>[ENZRXN0-7992, ENZRXN0-7993, ENZRXN0-8629, ENZ...</td>\n      <td>[]</td>\n      <td>{'3FE-4S': None, 'Any+2': None, 'CA+2': None, ...</td>\n      <td>{'FAD': None, 'FMN': None, 'PYRIDOXAL_PHOSPHAT...</td>\n    </tr>\n    <tr>\n      <th>1</th>\n      <td>1-PFK-MONOMER</td>\n      <td>1-phosphofructokinase</td>\n      <td>[]</td>\n      <td>[]</td>\n      <td>{'3FE-4S': None, 'Any+2': None, 'CA+2': None, ...</td>\n      <td>{'FAD': None, 'FMN': None, 'PYRIDOXAL_PHOSPHAT...</td>\n    </tr>\n    <tr>\n      <th>2</th>\n      <td>2-DEHYDROPANTOATE-REDUCT-MONOMER</td>\n      <td>2-dehydropantoate 2-reductase</td>\n      <td>[2-DEHYDROPANTOATE-REDUCT-ENZRXN]</td>\n      <td>[]</td>\n      <td>{'3FE-4S': None, 'Any+2': None, 'CA+2': None, ...</td>\n      <td>{'FAD': None, 'FMN': None, 'PYRIDOXAL_PHOSPHAT...</td>\n    </tr>\n    <tr>\n      <th>3</th>\n      <td>2-ISOPROPYLMALATESYN-MONOMER</td>\n      <td>2-isopropylmalate synthase</td>\n      <td>[ENZRXN0-6250]</td>\n      <td>[]</td>\n      <td>{'3FE-4S': None, 'Any+2': None, 'CA+2': None, ...</td>\n      <td>{'FAD': None, 'FMN': None, 'PYRIDOXAL_PHOSPHAT...</td>\n    </tr>\n    <tr>\n      <th>4</th>\n      <td>2-OCTAPRENYL-METHOXY-BENZOQ-METH-MONOMER</td>\n      <td>bifunctional 2-octaprenyl-6-methoxy-1,4-benzoq...</td>\n      <td>[ADOMET-DMK-METHYLTRANSFER-ENZRXN, 2-OCTAPRENY...</td>\n      <td>[]</td>\n      <td>{'3FE-4S': None, 'Any+2': None, 'CA+2': None, ...</td>\n      <td>{'FAD': None, 'FMN': None, 'PYRIDOXAL_PHOSPHAT...</td>\n    </tr>\n    <tr>\n      <th>...</th>\n      <td>...</td>\n      <td>...</td>\n      <td>...</td>\n      <td>...</td>\n      <td>...</td>\n      <td>...</td>\n    </tr>\n    <tr>\n      <th>4415</th>\n      <td>YTFR-MONOMER</td>\n      <td>galactofuranose ABC transporter putative ATP b...</td>\n      <td>[]</td>\n      <td>[]</td>\n      <td>{'3FE-4S': None, 'Any+2': None, 'CA+2': None, ...</td>\n      <td>{'FAD': None, 'FMN': None, 'PYRIDOXAL_PHOSPHAT...</td>\n    </tr>\n    <tr>\n      <th>4416</th>\n      <td>YTFT-MONOMER</td>\n      <td>galactofuranose ABC transporter putative membr...</td>\n      <td>[]</td>\n      <td>[]</td>\n      <td>{'3FE-4S': None, 'Any+2': None, 'CA+2': None, ...</td>\n      <td>{'FAD': None, 'FMN': None, 'PYRIDOXAL_PHOSPHAT...</td>\n    </tr>\n    <tr>\n      <th>4417</th>\n      <td>ZNUA-MONOMER</td>\n      <td>Zn&lt;sup&gt;2+&lt;/sup&gt; ABC transporter periplasmic bi...</td>\n      <td>[]</td>\n      <td>[]</td>\n      <td>{'3FE-4S': None, 'Any+2': None, 'CA+2': None, ...</td>\n      <td>{'FAD': None, 'FMN': None, 'PYRIDOXAL_PHOSPHAT...</td>\n    </tr>\n    <tr>\n      <th>4418</th>\n      <td>ZNUB-MONOMER</td>\n      <td>Zn&lt;sup&gt;2+&lt;/sup&gt; ABC transporter membrane subunit</td>\n      <td>[]</td>\n      <td>[]</td>\n      <td>{'3FE-4S': None, 'Any+2': None, 'CA+2': None, ...</td>\n      <td>{'FAD': None, 'FMN': None, 'PYRIDOXAL_PHOSPHAT...</td>\n    </tr>\n    <tr>\n      <th>4419</th>\n      <td>ZNUC-MONOMER</td>\n      <td>Zn&lt;sup&gt;2+&lt;/sup&gt; ABC transporter ATP binding su...</td>\n      <td>[]</td>\n      <td>[]</td>\n      <td>{'3FE-4S': None, 'Any+2': None, 'CA+2': None, ...</td>\n      <td>{'FAD': None, 'FMN': None, 'PYRIDOXAL_PHOSPHAT...</td>\n    </tr>\n  </tbody>\n</table>\n<p>4420 rows × 6 columns</p>\n</div>"
     },
     "execution_count": 224,
     "metadata": {},
     "output_type": "execute_result"
    }
   ],
   "source": [
    "filter_protein_df"
   ],
   "metadata": {
    "collapsed": false,
    "ExecuteTime": {
     "end_time": "2023-07-24T21:33:43.209753Z",
     "start_time": "2023-07-24T21:33:43.199090Z"
    }
   }
  },
  {
   "cell_type": "code",
   "execution_count": 247,
   "outputs": [],
   "source": [
    "# create protein name to index mapping\n",
    "protein_name_to_index = {}\n",
    "for i in range(len(filter_protein_df.index)):\n",
    "    protein_name_to_index[filter_protein_df.at[i, 'id']] = i\n",
    "\n",
    "# C matrix: complexes x proteins\n",
    "C = np.zeros((len(filter_complex_df.index), len(filter_protein_df.index)))\n",
    "\n",
    "for i in range(10): # range(len(filter_complex_df.index)):\n",
    "\n",
    "    complex_components = filter_complex_df.loc[i, 'monomer_component_stoichiometry']\n",
    "\n",
    "    # TODO consider cofactors\n",
    "    # complex_cofactors = filter_complex_df.loc[i, 'cofactors']\n",
    "\n",
    "    for component_name, component_count in complex_components.items():\n",
    "        if component_count is not None:             # side effect of parquet\n",
    "            # get index of component in filter_protein_df\n",
    "            component_index = protein_name_to_index[component_name]\n",
    "\n",
    "            C[i, component_index] = component_count\n",
    "\n",
    "# append an identity matrix to C\n",
    "C = np.concatenate((C, np.identity(len(filter_protein_df.index))), axis=0)\n",
    "\n",
    "C_names = list(filter_complex_df['id']) + list(filter_protein_df['id'])"
   ],
   "metadata": {
    "collapsed": false,
    "ExecuteTime": {
     "end_time": "2023-07-24T21:45:12.846816Z",
     "start_time": "2023-07-24T21:45:12.793517Z"
    }
   }
  },
  {
   "cell_type": "code",
   "execution_count": 248,
   "outputs": [
    {
     "data": {
      "text/plain": "array([[0., 2., 0., ..., 0., 0., 0.],\n       [0., 0., 0., ..., 0., 0., 0.],\n       [0., 0., 0., ..., 0., 0., 0.],\n       ...,\n       [0., 0., 0., ..., 1., 0., 0.],\n       [0., 0., 0., ..., 0., 1., 0.],\n       [0., 0., 0., ..., 0., 0., 1.]])"
     },
     "execution_count": 248,
     "metadata": {},
     "output_type": "execute_result"
    }
   ],
   "source": [
    "C"
   ],
   "metadata": {
    "collapsed": false,
    "ExecuteTime": {
     "end_time": "2023-07-24T21:45:13.387597Z",
     "start_time": "2023-07-24T21:45:13.385296Z"
    }
   }
  },
  {
   "cell_type": "code",
   "execution_count": 389,
   "outputs": [],
   "source": [
    "# create cofactor name to index mapping\n",
    "cofactor_name_to_index = {}\n",
    "for i in range(len(filter_cofactor_df.index)):\n",
    "    cofactor_name_to_index[filter_cofactor_df.at[i, 'id']] = i\n",
    "\n",
    "cofactor_names = list(filter_cofactor_df['id'])\n",
    "\n",
    "# P matrix: proteins x cofactors\n",
    "P = np.zeros((len(filter_protein_df.index), len(filter_cofactor_df.index)))\n",
    "\n",
    "for i in range(len(filter_protein_df.index)):\n",
    "    protein_metals = filter_protein_df.loc[i, 'metal_features_processed']\n",
    "    protein_other = filter_protein_df.loc[i, 'other_features_processed']\n",
    "\n",
    "    for metal, count in protein_metals.items():\n",
    "        if count is not None:             # side effect of parquet\n",
    "            cofactor_index = cofactor_name_to_index[metal]\n",
    "            P[i, cofactor_index] = count\n",
    "\n",
    "    for other, count in protein_other.items():\n",
    "        if count is not None:             # side effect of parquet\n",
    "            cofactor_index = cofactor_name_to_index[other]\n",
    "            P[i, cofactor_index] = count\n"
   ],
   "metadata": {
    "collapsed": false,
    "ExecuteTime": {
     "end_time": "2023-07-25T00:16:59.444654Z",
     "start_time": "2023-07-25T00:16:59.407663Z"
    }
   }
  },
  {
   "cell_type": "code",
   "execution_count": 250,
   "outputs": [
    {
     "data": {
      "text/plain": "array([[0., 0., 0., ..., 0., 0., 0.],\n       [0., 0., 0., ..., 0., 0., 0.],\n       [0., 0., 0., ..., 0., 0., 0.],\n       ...,\n       [0., 0., 0., ..., 0., 0., 0.],\n       [0., 0., 0., ..., 0., 0., 0.],\n       [0., 0., 0., ..., 0., 0., 0.]])"
     },
     "execution_count": 250,
     "metadata": {},
     "output_type": "execute_result"
    }
   ],
   "source": [
    "P"
   ],
   "metadata": {
    "collapsed": false,
    "ExecuteTime": {
     "end_time": "2023-07-24T21:45:14.027127Z",
     "start_time": "2023-07-24T21:45:13.970233Z"
    }
   }
  },
  {
   "cell_type": "code",
   "execution_count": 251,
   "outputs": [],
   "source": [
    "# create list of unique elements\n",
    "unique_elements = set()\n",
    "for i in range(len(filter_cofactor_df.index)):\n",
    "    cofactor = filter_cofactor_df.at[i, 'elemental_composition']\n",
    "    unique_elements.update(cofactor.keys())\n",
    "\n",
    "unique_elements = list(unique_elements)\n",
    "\n",
    "# create E matrix: cofactors x elements\n",
    "E = np.zeros((len(filter_cofactor_df.index), len(unique_elements)))\n",
    "\n",
    "for i in range(len(filter_cofactor_df.index)):\n",
    "    cofactor = filter_cofactor_df.at[i, 'elemental_composition']\n",
    "\n",
    "    for element, count in cofactor.items():\n",
    "        if count is not None:             # side effect of parquet\n",
    "            element_index = unique_elements.index(element)\n",
    "            E[i, element_index] = count"
   ],
   "metadata": {
    "collapsed": false,
    "ExecuteTime": {
     "end_time": "2023-07-24T21:45:14.842718Z",
     "start_time": "2023-07-24T21:45:14.832798Z"
    }
   }
  },
  {
   "cell_type": "code",
   "execution_count": 255,
   "outputs": [
    {
     "data": {
      "text/plain": "['S',\n 'FE',\n 'CA',\n 'NA',\n 'MG',\n 'N',\n 'R',\n 'K',\n 'MN',\n 'NI',\n 'CO',\n 'C',\n 'MO',\n 'O',\n 'P',\n 'CU',\n 'H',\n 'ZN']"
     },
     "execution_count": 255,
     "metadata": {},
     "output_type": "execute_result"
    }
   ],
   "source": [
    "unique_elements"
   ],
   "metadata": {
    "collapsed": false,
    "ExecuteTime": {
     "end_time": "2023-07-24T21:48:41.174750Z",
     "start_time": "2023-07-24T21:48:41.172503Z"
    }
   }
  },
  {
   "cell_type": "code",
   "execution_count": 245,
   "outputs": [
    {
     "data": {
      "text/plain": "array([[0., 0., 0., ..., 0., 0., 0.],\n       [0., 0., 0., ..., 0., 0., 0.],\n       [0., 0., 0., ..., 0., 0., 0.],\n       ...,\n       [0., 0., 0., ..., 0., 0., 1.],\n       [0., 0., 0., ..., 0., 0., 0.],\n       [0., 0., 0., ..., 0., 0., 0.]])"
     },
     "execution_count": 245,
     "metadata": {},
     "output_type": "execute_result"
    }
   ],
   "source": [
    "C_to_E = C @ P @ E"
   ],
   "metadata": {
    "collapsed": false,
    "ExecuteTime": {
     "end_time": "2023-07-24T21:43:33.449984Z",
     "start_time": "2023-07-24T21:43:33.328356Z"
    }
   }
  },
  {
   "cell_type": "code",
   "execution_count": 265,
   "outputs": [
    {
     "data": {
      "text/plain": "'EG10471-MONOMER'"
     },
     "execution_count": 265,
     "metadata": {},
     "output_type": "execute_result"
    }
   ],
   "source": [
    "C_names[1577]"
   ],
   "metadata": {
    "collapsed": false,
    "ExecuteTime": {
     "end_time": "2023-07-24T21:56:19.566222Z",
     "start_time": "2023-07-24T21:56:19.563139Z"
    }
   }
  },
  {
   "cell_type": "markdown",
   "source": [
    "# Now ... add the counts >:o"
   ],
   "metadata": {
    "collapsed": false
   }
  },
  {
   "cell_type": "code",
   "execution_count": 266,
   "outputs": [],
   "source": [
    "time = '50'\n",
    "date = '2023-06-09'\n",
    "experiment = 'fba-redux'\n",
    "entry = f'{experiment}_{time}_{date}'\n",
    "folder = f'out/fbagd/{entry}/'"
   ],
   "metadata": {
    "collapsed": false,
    "ExecuteTime": {
     "end_time": "2023-07-24T22:22:17.129995Z",
     "start_time": "2023-07-24T22:22:17.091511Z"
    }
   }
  },
  {
   "cell_type": "code",
   "execution_count": 267,
   "outputs": [],
   "source": [
    "output = np.load(folder + 'output.npy',allow_pickle='TRUE').item()\n",
    "# output = np.load(r\"out/geneRxnVerifData/output_glc.npy\", allow_pickle=True, encoding='ASCII').tolist()\n",
    "output = output['agents']['0']\n",
    "fba = output['listeners']['fba_results']\n",
    "mass = output['listeners']['mass']\n",
    "bulk = pd.DataFrame(output['bulk'])"
   ],
   "metadata": {
    "collapsed": false,
    "ExecuteTime": {
     "end_time": "2023-07-24T22:22:21.967743Z",
     "start_time": "2023-07-24T22:22:21.434419Z"
    }
   }
  },
  {
   "cell_type": "code",
   "execution_count": 268,
   "outputs": [
    {
     "data": {
      "text/plain": "    0      1      2      3      4      5      6      7      8      9      ...  \\\n0       0      0      0      0      0      0      0      0      0      0  ...   \n1       0      0      0      0      0      0      0      0      0      0  ...   \n2       0      0      0      0      0      0      0      0      0      0  ...   \n3       0      0      0      0      0      0      0      0      0      0  ...   \n4       0      0      0      0      0      0      0      0      0      0  ...   \n5       0      0      0      0      0      0      0      0      0      0  ...   \n6       0      0      0      0      0      0      0      0      0      0  ...   \n7       0      0      0      0      0      0      0      0      0      0  ...   \n8       0      0      0      0      0      0      0      0      0      0  ...   \n9       0      0      0      0      0      0      0      0      0      0  ...   \n10      0      0      0      0      0      0      0      0      0      0  ...   \n11      0      0      0      0      0      0      0      0      0      0  ...   \n12      0      0      0      0      0      0      0      0      0      0  ...   \n13      0      0      0      0      0      0      0      0      0      0  ...   \n14      0      0      0      0      0      0      0      0      0      0  ...   \n15      0      0      0      0      0      0      0      0      0      0  ...   \n16      0      0      0      0      0      0      0      0      0      0  ...   \n17      0      0      0      0      0      0      0      0      0      0  ...   \n18      0      0      0      0      0      0      0      0      0      0  ...   \n19      0      0      0      0      0      0      0      0      0      0  ...   \n20      0      0      0      0      0      0      0      0      0      0  ...   \n21      0      0      0      0      0      0      0      0      0      0  ...   \n22      0      0      0      0      0      0      0      0      0      0  ...   \n23      0      0      0      0      0      0      0      0      0      0  ...   \n24      0      0      0      0      0      0      0      0      0      0  ...   \n25      0      0      0      0      0      0      0      0      0      0  ...   \n\n    40879  40880  40881  40882  40883  40884  40885  40886  40887  40888  \n0       0      0      0      0   1934   1006    864   1590   2772   3232  \n1       0      0      0      0   1936   1006    864   1590   2774   3232  \n2       0      0      0      0   1938   1006    864   1590   2774   3234  \n3       0      0      0      0   1940   1006    864   1590   2775   3234  \n4       0      0      0      0   1941   1006    864   1591   2776   3234  \n5       0      0      0      0   1941   1006    864   1591   2776   3235  \n6       0      0      0      0   1942   1007    866   1592   2776   3237  \n7       0      0      0      0   1941   1007    866   1594   2778   3237  \n8       0      0      0      0   1942   1007    866   1595   2780   3238  \n9       0      0      0      0   1942   1008    866   1595   2781   3239  \n10      0      0      0      0   1945   1008    866   1596   2782   3240  \n11      0      0      0      0   1947   1009    868   1599   2783   3242  \n12      0      0      0      0   1948   1009    868   1599   2783   3245  \n13      0      0      0      0   1948   1010    868   1599   2785   3246  \n14      0      0      0      0   1948   1010    869   1601   2786   3249  \n15      0      0      0      0   1949   1010    871   1602   2786   3251  \n16      0      0      0      0   1949   1011    871   1603   2786   3253  \n17      0      0      0      0   1950   1012    871   1604   2789   3257  \n18      0      0      0      0   1954   1012    871   1604   2789   3257  \n19      0      0      0      0   1957   1013    871   1606   2790   3257  \n20      0      0      0      0   1959   1014    871   1608   2791   3259  \n21      0      0      0      0   1959   1014    872   1609   2791   3261  \n22      0      0      0      0   1959   1014    872   1613   2791   3261  \n23      0      0      0      0   1959   1014    872   1613   2792   3262  \n24      0      0      0      0   1959   1014    872   1613   2794   3263  \n25      0      0      0      0   1960   1014    873   1614   2794   3264  \n\n[26 rows x 40889 columns]",
      "text/html": "<div>\n<style scoped>\n    .dataframe tbody tr th:only-of-type {\n        vertical-align: middle;\n    }\n\n    .dataframe tbody tr th {\n        vertical-align: top;\n    }\n\n    .dataframe thead th {\n        text-align: right;\n    }\n</style>\n<table border=\"1\" class=\"dataframe\">\n  <thead>\n    <tr style=\"text-align: right;\">\n      <th></th>\n      <th>0</th>\n      <th>1</th>\n      <th>2</th>\n      <th>3</th>\n      <th>4</th>\n      <th>5</th>\n      <th>6</th>\n      <th>7</th>\n      <th>8</th>\n      <th>9</th>\n      <th>...</th>\n      <th>40879</th>\n      <th>40880</th>\n      <th>40881</th>\n      <th>40882</th>\n      <th>40883</th>\n      <th>40884</th>\n      <th>40885</th>\n      <th>40886</th>\n      <th>40887</th>\n      <th>40888</th>\n    </tr>\n  </thead>\n  <tbody>\n    <tr>\n      <th>0</th>\n      <td>0</td>\n      <td>0</td>\n      <td>0</td>\n      <td>0</td>\n      <td>0</td>\n      <td>0</td>\n      <td>0</td>\n      <td>0</td>\n      <td>0</td>\n      <td>0</td>\n      <td>...</td>\n      <td>0</td>\n      <td>0</td>\n      <td>0</td>\n      <td>0</td>\n      <td>1934</td>\n      <td>1006</td>\n      <td>864</td>\n      <td>1590</td>\n      <td>2772</td>\n      <td>3232</td>\n    </tr>\n    <tr>\n      <th>1</th>\n      <td>0</td>\n      <td>0</td>\n      <td>0</td>\n      <td>0</td>\n      <td>0</td>\n      <td>0</td>\n      <td>0</td>\n      <td>0</td>\n      <td>0</td>\n      <td>0</td>\n      <td>...</td>\n      <td>0</td>\n      <td>0</td>\n      <td>0</td>\n      <td>0</td>\n      <td>1936</td>\n      <td>1006</td>\n      <td>864</td>\n      <td>1590</td>\n      <td>2774</td>\n      <td>3232</td>\n    </tr>\n    <tr>\n      <th>2</th>\n      <td>0</td>\n      <td>0</td>\n      <td>0</td>\n      <td>0</td>\n      <td>0</td>\n      <td>0</td>\n      <td>0</td>\n      <td>0</td>\n      <td>0</td>\n      <td>0</td>\n      <td>...</td>\n      <td>0</td>\n      <td>0</td>\n      <td>0</td>\n      <td>0</td>\n      <td>1938</td>\n      <td>1006</td>\n      <td>864</td>\n      <td>1590</td>\n      <td>2774</td>\n      <td>3234</td>\n    </tr>\n    <tr>\n      <th>3</th>\n      <td>0</td>\n      <td>0</td>\n      <td>0</td>\n      <td>0</td>\n      <td>0</td>\n      <td>0</td>\n      <td>0</td>\n      <td>0</td>\n      <td>0</td>\n      <td>0</td>\n      <td>...</td>\n      <td>0</td>\n      <td>0</td>\n      <td>0</td>\n      <td>0</td>\n      <td>1940</td>\n      <td>1006</td>\n      <td>864</td>\n      <td>1590</td>\n      <td>2775</td>\n      <td>3234</td>\n    </tr>\n    <tr>\n      <th>4</th>\n      <td>0</td>\n      <td>0</td>\n      <td>0</td>\n      <td>0</td>\n      <td>0</td>\n      <td>0</td>\n      <td>0</td>\n      <td>0</td>\n      <td>0</td>\n      <td>0</td>\n      <td>...</td>\n      <td>0</td>\n      <td>0</td>\n      <td>0</td>\n      <td>0</td>\n      <td>1941</td>\n      <td>1006</td>\n      <td>864</td>\n      <td>1591</td>\n      <td>2776</td>\n      <td>3234</td>\n    </tr>\n    <tr>\n      <th>5</th>\n      <td>0</td>\n      <td>0</td>\n      <td>0</td>\n      <td>0</td>\n      <td>0</td>\n      <td>0</td>\n      <td>0</td>\n      <td>0</td>\n      <td>0</td>\n      <td>0</td>\n      <td>...</td>\n      <td>0</td>\n      <td>0</td>\n      <td>0</td>\n      <td>0</td>\n      <td>1941</td>\n      <td>1006</td>\n      <td>864</td>\n      <td>1591</td>\n      <td>2776</td>\n      <td>3235</td>\n    </tr>\n    <tr>\n      <th>6</th>\n      <td>0</td>\n      <td>0</td>\n      <td>0</td>\n      <td>0</td>\n      <td>0</td>\n      <td>0</td>\n      <td>0</td>\n      <td>0</td>\n      <td>0</td>\n      <td>0</td>\n      <td>...</td>\n      <td>0</td>\n      <td>0</td>\n      <td>0</td>\n      <td>0</td>\n      <td>1942</td>\n      <td>1007</td>\n      <td>866</td>\n      <td>1592</td>\n      <td>2776</td>\n      <td>3237</td>\n    </tr>\n    <tr>\n      <th>7</th>\n      <td>0</td>\n      <td>0</td>\n      <td>0</td>\n      <td>0</td>\n      <td>0</td>\n      <td>0</td>\n      <td>0</td>\n      <td>0</td>\n      <td>0</td>\n      <td>0</td>\n      <td>...</td>\n      <td>0</td>\n      <td>0</td>\n      <td>0</td>\n      <td>0</td>\n      <td>1941</td>\n      <td>1007</td>\n      <td>866</td>\n      <td>1594</td>\n      <td>2778</td>\n      <td>3237</td>\n    </tr>\n    <tr>\n      <th>8</th>\n      <td>0</td>\n      <td>0</td>\n      <td>0</td>\n      <td>0</td>\n      <td>0</td>\n      <td>0</td>\n      <td>0</td>\n      <td>0</td>\n      <td>0</td>\n      <td>0</td>\n      <td>...</td>\n      <td>0</td>\n      <td>0</td>\n      <td>0</td>\n      <td>0</td>\n      <td>1942</td>\n      <td>1007</td>\n      <td>866</td>\n      <td>1595</td>\n      <td>2780</td>\n      <td>3238</td>\n    </tr>\n    <tr>\n      <th>9</th>\n      <td>0</td>\n      <td>0</td>\n      <td>0</td>\n      <td>0</td>\n      <td>0</td>\n      <td>0</td>\n      <td>0</td>\n      <td>0</td>\n      <td>0</td>\n      <td>0</td>\n      <td>...</td>\n      <td>0</td>\n      <td>0</td>\n      <td>0</td>\n      <td>0</td>\n      <td>1942</td>\n      <td>1008</td>\n      <td>866</td>\n      <td>1595</td>\n      <td>2781</td>\n      <td>3239</td>\n    </tr>\n    <tr>\n      <th>10</th>\n      <td>0</td>\n      <td>0</td>\n      <td>0</td>\n      <td>0</td>\n      <td>0</td>\n      <td>0</td>\n      <td>0</td>\n      <td>0</td>\n      <td>0</td>\n      <td>0</td>\n      <td>...</td>\n      <td>0</td>\n      <td>0</td>\n      <td>0</td>\n      <td>0</td>\n      <td>1945</td>\n      <td>1008</td>\n      <td>866</td>\n      <td>1596</td>\n      <td>2782</td>\n      <td>3240</td>\n    </tr>\n    <tr>\n      <th>11</th>\n      <td>0</td>\n      <td>0</td>\n      <td>0</td>\n      <td>0</td>\n      <td>0</td>\n      <td>0</td>\n      <td>0</td>\n      <td>0</td>\n      <td>0</td>\n      <td>0</td>\n      <td>...</td>\n      <td>0</td>\n      <td>0</td>\n      <td>0</td>\n      <td>0</td>\n      <td>1947</td>\n      <td>1009</td>\n      <td>868</td>\n      <td>1599</td>\n      <td>2783</td>\n      <td>3242</td>\n    </tr>\n    <tr>\n      <th>12</th>\n      <td>0</td>\n      <td>0</td>\n      <td>0</td>\n      <td>0</td>\n      <td>0</td>\n      <td>0</td>\n      <td>0</td>\n      <td>0</td>\n      <td>0</td>\n      <td>0</td>\n      <td>...</td>\n      <td>0</td>\n      <td>0</td>\n      <td>0</td>\n      <td>0</td>\n      <td>1948</td>\n      <td>1009</td>\n      <td>868</td>\n      <td>1599</td>\n      <td>2783</td>\n      <td>3245</td>\n    </tr>\n    <tr>\n      <th>13</th>\n      <td>0</td>\n      <td>0</td>\n      <td>0</td>\n      <td>0</td>\n      <td>0</td>\n      <td>0</td>\n      <td>0</td>\n      <td>0</td>\n      <td>0</td>\n      <td>0</td>\n      <td>...</td>\n      <td>0</td>\n      <td>0</td>\n      <td>0</td>\n      <td>0</td>\n      <td>1948</td>\n      <td>1010</td>\n      <td>868</td>\n      <td>1599</td>\n      <td>2785</td>\n      <td>3246</td>\n    </tr>\n    <tr>\n      <th>14</th>\n      <td>0</td>\n      <td>0</td>\n      <td>0</td>\n      <td>0</td>\n      <td>0</td>\n      <td>0</td>\n      <td>0</td>\n      <td>0</td>\n      <td>0</td>\n      <td>0</td>\n      <td>...</td>\n      <td>0</td>\n      <td>0</td>\n      <td>0</td>\n      <td>0</td>\n      <td>1948</td>\n      <td>1010</td>\n      <td>869</td>\n      <td>1601</td>\n      <td>2786</td>\n      <td>3249</td>\n    </tr>\n    <tr>\n      <th>15</th>\n      <td>0</td>\n      <td>0</td>\n      <td>0</td>\n      <td>0</td>\n      <td>0</td>\n      <td>0</td>\n      <td>0</td>\n      <td>0</td>\n      <td>0</td>\n      <td>0</td>\n      <td>...</td>\n      <td>0</td>\n      <td>0</td>\n      <td>0</td>\n      <td>0</td>\n      <td>1949</td>\n      <td>1010</td>\n      <td>871</td>\n      <td>1602</td>\n      <td>2786</td>\n      <td>3251</td>\n    </tr>\n    <tr>\n      <th>16</th>\n      <td>0</td>\n      <td>0</td>\n      <td>0</td>\n      <td>0</td>\n      <td>0</td>\n      <td>0</td>\n      <td>0</td>\n      <td>0</td>\n      <td>0</td>\n      <td>0</td>\n      <td>...</td>\n      <td>0</td>\n      <td>0</td>\n      <td>0</td>\n      <td>0</td>\n      <td>1949</td>\n      <td>1011</td>\n      <td>871</td>\n      <td>1603</td>\n      <td>2786</td>\n      <td>3253</td>\n    </tr>\n    <tr>\n      <th>17</th>\n      <td>0</td>\n      <td>0</td>\n      <td>0</td>\n      <td>0</td>\n      <td>0</td>\n      <td>0</td>\n      <td>0</td>\n      <td>0</td>\n      <td>0</td>\n      <td>0</td>\n      <td>...</td>\n      <td>0</td>\n      <td>0</td>\n      <td>0</td>\n      <td>0</td>\n      <td>1950</td>\n      <td>1012</td>\n      <td>871</td>\n      <td>1604</td>\n      <td>2789</td>\n      <td>3257</td>\n    </tr>\n    <tr>\n      <th>18</th>\n      <td>0</td>\n      <td>0</td>\n      <td>0</td>\n      <td>0</td>\n      <td>0</td>\n      <td>0</td>\n      <td>0</td>\n      <td>0</td>\n      <td>0</td>\n      <td>0</td>\n      <td>...</td>\n      <td>0</td>\n      <td>0</td>\n      <td>0</td>\n      <td>0</td>\n      <td>1954</td>\n      <td>1012</td>\n      <td>871</td>\n      <td>1604</td>\n      <td>2789</td>\n      <td>3257</td>\n    </tr>\n    <tr>\n      <th>19</th>\n      <td>0</td>\n      <td>0</td>\n      <td>0</td>\n      <td>0</td>\n      <td>0</td>\n      <td>0</td>\n      <td>0</td>\n      <td>0</td>\n      <td>0</td>\n      <td>0</td>\n      <td>...</td>\n      <td>0</td>\n      <td>0</td>\n      <td>0</td>\n      <td>0</td>\n      <td>1957</td>\n      <td>1013</td>\n      <td>871</td>\n      <td>1606</td>\n      <td>2790</td>\n      <td>3257</td>\n    </tr>\n    <tr>\n      <th>20</th>\n      <td>0</td>\n      <td>0</td>\n      <td>0</td>\n      <td>0</td>\n      <td>0</td>\n      <td>0</td>\n      <td>0</td>\n      <td>0</td>\n      <td>0</td>\n      <td>0</td>\n      <td>...</td>\n      <td>0</td>\n      <td>0</td>\n      <td>0</td>\n      <td>0</td>\n      <td>1959</td>\n      <td>1014</td>\n      <td>871</td>\n      <td>1608</td>\n      <td>2791</td>\n      <td>3259</td>\n    </tr>\n    <tr>\n      <th>21</th>\n      <td>0</td>\n      <td>0</td>\n      <td>0</td>\n      <td>0</td>\n      <td>0</td>\n      <td>0</td>\n      <td>0</td>\n      <td>0</td>\n      <td>0</td>\n      <td>0</td>\n      <td>...</td>\n      <td>0</td>\n      <td>0</td>\n      <td>0</td>\n      <td>0</td>\n      <td>1959</td>\n      <td>1014</td>\n      <td>872</td>\n      <td>1609</td>\n      <td>2791</td>\n      <td>3261</td>\n    </tr>\n    <tr>\n      <th>22</th>\n      <td>0</td>\n      <td>0</td>\n      <td>0</td>\n      <td>0</td>\n      <td>0</td>\n      <td>0</td>\n      <td>0</td>\n      <td>0</td>\n      <td>0</td>\n      <td>0</td>\n      <td>...</td>\n      <td>0</td>\n      <td>0</td>\n      <td>0</td>\n      <td>0</td>\n      <td>1959</td>\n      <td>1014</td>\n      <td>872</td>\n      <td>1613</td>\n      <td>2791</td>\n      <td>3261</td>\n    </tr>\n    <tr>\n      <th>23</th>\n      <td>0</td>\n      <td>0</td>\n      <td>0</td>\n      <td>0</td>\n      <td>0</td>\n      <td>0</td>\n      <td>0</td>\n      <td>0</td>\n      <td>0</td>\n      <td>0</td>\n      <td>...</td>\n      <td>0</td>\n      <td>0</td>\n      <td>0</td>\n      <td>0</td>\n      <td>1959</td>\n      <td>1014</td>\n      <td>872</td>\n      <td>1613</td>\n      <td>2792</td>\n      <td>3262</td>\n    </tr>\n    <tr>\n      <th>24</th>\n      <td>0</td>\n      <td>0</td>\n      <td>0</td>\n      <td>0</td>\n      <td>0</td>\n      <td>0</td>\n      <td>0</td>\n      <td>0</td>\n      <td>0</td>\n      <td>0</td>\n      <td>...</td>\n      <td>0</td>\n      <td>0</td>\n      <td>0</td>\n      <td>0</td>\n      <td>1959</td>\n      <td>1014</td>\n      <td>872</td>\n      <td>1613</td>\n      <td>2794</td>\n      <td>3263</td>\n    </tr>\n    <tr>\n      <th>25</th>\n      <td>0</td>\n      <td>0</td>\n      <td>0</td>\n      <td>0</td>\n      <td>0</td>\n      <td>0</td>\n      <td>0</td>\n      <td>0</td>\n      <td>0</td>\n      <td>0</td>\n      <td>...</td>\n      <td>0</td>\n      <td>0</td>\n      <td>0</td>\n      <td>0</td>\n      <td>1960</td>\n      <td>1014</td>\n      <td>873</td>\n      <td>1614</td>\n      <td>2794</td>\n      <td>3264</td>\n    </tr>\n  </tbody>\n</table>\n<p>26 rows × 40889 columns</p>\n</div>"
     },
     "execution_count": 268,
     "metadata": {},
     "output_type": "execute_result"
    }
   ],
   "source": [
    "bulk"
   ],
   "metadata": {
    "collapsed": false,
    "ExecuteTime": {
     "end_time": "2023-07-24T22:22:33.304812Z",
     "start_time": "2023-07-24T22:22:33.272560Z"
    }
   }
  },
  {
   "cell_type": "code",
   "execution_count": 286,
   "outputs": [],
   "source": [
    "f = open(folder + 'agent_steps.pkl', 'rb')\n",
    "agent = dill.load(f)\n",
    "f.close()\n",
    "\n",
    "metabolism = agent['ecoli-metabolism-redux']\n",
    "stoichiometry = metabolism.stoichiometry\n"
   ],
   "metadata": {
    "collapsed": false,
    "ExecuteTime": {
     "end_time": "2023-07-24T23:06:43.141611Z",
     "start_time": "2023-07-24T23:06:42.724040Z"
    }
   }
  },
  {
   "cell_type": "code",
   "execution_count": 319,
   "outputs": [],
   "source": [
    "initial_state = json.load(open('data/wcecoli_t0.json'))\n",
    "\n",
    "bulk_ids = [item[0] for item in initial_state['bulk']]\n",
    "\n",
    "bulk.columns = bulk_ids"
   ],
   "metadata": {
    "collapsed": false,
    "ExecuteTime": {
     "end_time": "2023-07-24T23:18:21.551689Z",
     "start_time": "2023-07-24T23:18:21.385373Z"
    }
   }
  },
  {
   "cell_type": "code",
   "execution_count": 344,
   "outputs": [
    {
     "name": "stdout",
     "output_type": "stream",
     "text": [
      "could not find MONOMER0-1241\n",
      "could not find MONOMER0-4223\n"
     ]
    }
   ],
   "source": [
    "ecocyc_to_wcm_map = {}\n",
    "\n",
    "# combined complex and protein names\n",
    "protein_names = list(filter_protein_df['id']) + list(filter_complex_df['id'])\n",
    "\n",
    "for name in protein_names:\n",
    "\n",
    "    # find complex name in bulk_ids\n",
    "    found = False\n",
    "\n",
    "    try:\n",
    "        idx = bulk_ids.index(name+'[c]')\n",
    "        ecocyc_to_wcm_map[name] = name+'[c]'\n",
    "        found = True\n",
    "        # print(f'found {complex_name} at {idx}')\n",
    "\n",
    "    except ValueError:\n",
    "        # delete key\n",
    "        found = False\n",
    "\n",
    "\n",
    "    if found == False:\n",
    "\n",
    "        for id in bulk_ids:\n",
    "            if name+'[' in id and bulk.loc[:, id].sum() > 0:\n",
    "                #print(f'found {name} in {id} with nonzero count')\n",
    "                ecocyc_to_wcm_map[name] = id\n",
    "                found = True\n",
    "                break           # ensures preferring nonzero counts\n",
    "\n",
    "            elif name+'[' in id:\n",
    "                # print(f'found {name} in {id} with zero count')\n",
    "                ecocyc_to_wcm_map[name] = id\n",
    "                found = True\n",
    "\n",
    "    if found == False:\n",
    "        ecocyc_to_wcm_map[name] = '--TRANS-ACENAPHTHENE-12-DIOL[j]' # should be none\n",
    "        print(f'could not find {name}')\n"
   ],
   "metadata": {
    "collapsed": false,
    "ExecuteTime": {
     "end_time": "2023-07-25T00:02:18.928588Z",
     "start_time": "2023-07-25T00:02:09.919591Z"
    }
   }
  },
  {
   "cell_type": "code",
   "execution_count": 347,
   "outputs": [],
   "source": [
    "complex_wcm_names = [ecocyc_to_wcm_map[name] for name in C_names]\n",
    "\n",
    "counts = bulk.loc[0, complex_wcm_names]"
   ],
   "metadata": {
    "collapsed": false,
    "ExecuteTime": {
     "end_time": "2023-07-25T00:02:41.807549Z",
     "start_time": "2023-07-25T00:02:41.801823Z"
    }
   }
  },
  {
   "cell_type": "markdown",
   "source": [
    "# Finally ... add the counts >:o"
   ],
   "metadata": {
    "collapsed": false
   }
  },
  {
   "cell_type": "code",
   "execution_count": 390,
   "outputs": [],
   "source": [
    "factored_cofactor_elements = np.array(counts).reshape(-1,1) * C @ P"
   ],
   "metadata": {
    "collapsed": false,
    "ExecuteTime": {
     "end_time": "2023-07-25T00:17:05.675209Z",
     "start_time": "2023-07-25T00:17:05.584430Z"
    }
   }
  },
  {
   "cell_type": "code",
   "execution_count": 391,
   "outputs": [
    {
     "data": {
      "text/plain": "array([[  0.,   0.,   0., ...,   0.,   0.,   0.],\n       [172.,   0.,   0., ...,   0.,   0.,   0.],\n       [  0.,   0.,   0., ...,   0.,   0.,   0.],\n       ...,\n       [  0.,   0.,   0., ...,   0.,   0.,   0.],\n       [  0.,   0.,   0., ...,   0.,   0.,   0.],\n       [  0.,   0.,   0., ...,   0.,   0.,   0.]])"
     },
     "execution_count": 391,
     "metadata": {},
     "output_type": "execute_result"
    }
   ],
   "source": [
    "factored_cofactor_elements"
   ],
   "metadata": {
    "collapsed": false,
    "ExecuteTime": {
     "end_time": "2023-07-25T00:17:05.875226Z",
     "start_time": "2023-07-25T00:17:05.835532Z"
    }
   }
  },
  {
   "cell_type": "code",
   "execution_count": 392,
   "outputs": [
    {
     "data": {
      "text/plain": "['FAD',\n '3FE-4S',\n 'MN+2',\n 'CA+2',\n 'THIAMINE-PYROPHOSPHATE',\n 'Any+2',\n 'heme',\n 'FE+2',\n 'MG+2',\n 'FMN',\n 'CPD-6',\n 'CO+2',\n 'ZN+2',\n 'CPD-3',\n 'K+',\n 'NI+2',\n 'CPD-7',\n 'NA+',\n 'CU+2',\n 'CPD-8123',\n 'PYRIDOXAL_PHOSPHATE']"
     },
     "execution_count": 392,
     "metadata": {},
     "output_type": "execute_result"
    }
   ],
   "source": [
    "cofactor_names"
   ],
   "metadata": {
    "collapsed": false,
    "ExecuteTime": {
     "end_time": "2023-07-25T00:17:17.961985Z",
     "start_time": "2023-07-25T00:17:17.958176Z"
    }
   }
  },
  {
   "cell_type": "code",
   "execution_count": 393,
   "outputs": [
    {
     "data": {
      "text/plain": "'THRESYN-MONOMER'"
     },
     "execution_count": 393,
     "metadata": {},
     "output_type": "execute_result"
    }
   ],
   "source": [
    "C_names[5262]"
   ],
   "metadata": {
    "collapsed": false,
    "ExecuteTime": {
     "end_time": "2023-07-25T00:17:53.045826Z",
     "start_time": "2023-07-25T00:17:53.040959Z"
    }
   }
  },
  {
   "cell_type": "code",
   "execution_count": null,
   "outputs": [],
   "source": [],
   "metadata": {
    "collapsed": false
   }
  }
 ],
 "metadata": {
  "kernelspec": {
   "display_name": "Python 3",
   "language": "python",
   "name": "python3"
  },
  "language_info": {
   "codemirror_mode": {
    "name": "ipython",
    "version": 2
   },
   "file_extension": ".py",
   "mimetype": "text/x-python",
   "name": "python",
   "nbconvert_exporter": "python",
   "pygments_lexer": "ipython2",
   "version": "2.7.6"
  }
 },
 "nbformat": 4,
 "nbformat_minor": 0
}
