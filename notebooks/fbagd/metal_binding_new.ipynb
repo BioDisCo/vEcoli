{
 "cells": [
  {
   "cell_type": "code",
   "execution_count": 1,
   "metadata": {
    "collapsed": true,
    "ExecuteTime": {
     "end_time": "2023-07-26T20:40:14.776297Z",
     "start_time": "2023-07-26T20:40:14.377430Z"
    }
   },
   "outputs": [
    {
     "data": {
      "text/plain": "<Response [200]>"
     },
     "execution_count": 1,
     "metadata": {},
     "output_type": "execute_result"
    }
   ],
   "source": [
    "import numpy as np\n",
    "\n",
    "import seaborn as sns\n",
    "import pandas as pd\n",
    "import os\n",
    "import pprint\n",
    "import ast\n",
    "import re\n",
    "import matplotlib.pyplot as plt\n",
    "import dill\n",
    "import requests\n",
    "import xmltodict\n",
    "import json\n",
    "\n",
    "pp = pprint.PrettyPrinter(depth=6)\n",
    "\n",
    "os.chdir(os.path.expanduser('~/vivarium-ecoli'))\n",
    "\n",
    "s = requests.Session() # create session\n",
    "# Post login credentials to session:\n",
    "s.post('https://websvc.biocyc.org/credentials/login/', data={'email':'cellulararchitect@protonmail.com', 'password':'Cellman0451'})\n"
   ]
  },
  {
   "cell_type": "code",
   "execution_count": 2,
   "outputs": [
    {
     "data": {
      "text/plain": "                                            id  \\\n0      1-ACYLGLYCEROL-3-P-ACYLTRANSFER-MONOMER   \n1                                1-PFK-MONOMER   \n2             2-DEHYDROPANTOATE-REDUCT-MONOMER   \n3                 2-ISOPROPYLMALATESYN-MONOMER   \n4     2-OCTAPRENYL-METHOXY-BENZOQ-METH-MONOMER   \n...                                        ...   \n4415                              YTFR-MONOMER   \n4416                              YTFT-MONOMER   \n4417                              ZNUA-MONOMER   \n4418                              ZNUB-MONOMER   \n4419                              ZNUC-MONOMER   \n\n                                            common_name enzyme_reaction  \\\n0     1-acylglycerol-3-phosphate <i>O</i>-acyltransf...               0   \n1                                 1-phosphofructokinase               0   \n2                         2-dehydropantoate 2-reductase               0   \n3                            2-isopropylmalate synthase               0   \n4     bifunctional 2-octaprenyl-6-methoxy-1,4-benzoq...               0   \n...                                                 ...             ...   \n4415  galactofuranose ABC transporter putative ATP b...               0   \n4416  galactofuranose ABC transporter putative membr...               0   \n4417  Zn<sup>2+</sup> ABC transporter periplasmic bi...               0   \n4418   Zn<sup>2+</sup> ABC transporter membrane subunit               0   \n4419  Zn<sup>2+</sup> ABC transporter ATP binding su...               0   \n\n     cofactors metal_features other_features  \n0            0              0              0  \n1            0              0              0  \n2            0              0              0  \n3            0              0              0  \n4            0              0              0  \n...        ...            ...            ...  \n4415         0              0              0  \n4416         0              0              0  \n4417         0              0              0  \n4418         0              0              0  \n4419         0              0              0  \n\n[4420 rows x 6 columns]",
      "text/html": "<div>\n<style scoped>\n    .dataframe tbody tr th:only-of-type {\n        vertical-align: middle;\n    }\n\n    .dataframe tbody tr th {\n        vertical-align: top;\n    }\n\n    .dataframe thead th {\n        text-align: right;\n    }\n</style>\n<table border=\"1\" class=\"dataframe\">\n  <thead>\n    <tr style=\"text-align: right;\">\n      <th></th>\n      <th>id</th>\n      <th>common_name</th>\n      <th>enzyme_reaction</th>\n      <th>cofactors</th>\n      <th>metal_features</th>\n      <th>other_features</th>\n    </tr>\n  </thead>\n  <tbody>\n    <tr>\n      <th>0</th>\n      <td>1-ACYLGLYCEROL-3-P-ACYLTRANSFER-MONOMER</td>\n      <td>1-acylglycerol-3-phosphate &lt;i&gt;O&lt;/i&gt;-acyltransf...</td>\n      <td>0</td>\n      <td>0</td>\n      <td>0</td>\n      <td>0</td>\n    </tr>\n    <tr>\n      <th>1</th>\n      <td>1-PFK-MONOMER</td>\n      <td>1-phosphofructokinase</td>\n      <td>0</td>\n      <td>0</td>\n      <td>0</td>\n      <td>0</td>\n    </tr>\n    <tr>\n      <th>2</th>\n      <td>2-DEHYDROPANTOATE-REDUCT-MONOMER</td>\n      <td>2-dehydropantoate 2-reductase</td>\n      <td>0</td>\n      <td>0</td>\n      <td>0</td>\n      <td>0</td>\n    </tr>\n    <tr>\n      <th>3</th>\n      <td>2-ISOPROPYLMALATESYN-MONOMER</td>\n      <td>2-isopropylmalate synthase</td>\n      <td>0</td>\n      <td>0</td>\n      <td>0</td>\n      <td>0</td>\n    </tr>\n    <tr>\n      <th>4</th>\n      <td>2-OCTAPRENYL-METHOXY-BENZOQ-METH-MONOMER</td>\n      <td>bifunctional 2-octaprenyl-6-methoxy-1,4-benzoq...</td>\n      <td>0</td>\n      <td>0</td>\n      <td>0</td>\n      <td>0</td>\n    </tr>\n    <tr>\n      <th>...</th>\n      <td>...</td>\n      <td>...</td>\n      <td>...</td>\n      <td>...</td>\n      <td>...</td>\n      <td>...</td>\n    </tr>\n    <tr>\n      <th>4415</th>\n      <td>YTFR-MONOMER</td>\n      <td>galactofuranose ABC transporter putative ATP b...</td>\n      <td>0</td>\n      <td>0</td>\n      <td>0</td>\n      <td>0</td>\n    </tr>\n    <tr>\n      <th>4416</th>\n      <td>YTFT-MONOMER</td>\n      <td>galactofuranose ABC transporter putative membr...</td>\n      <td>0</td>\n      <td>0</td>\n      <td>0</td>\n      <td>0</td>\n    </tr>\n    <tr>\n      <th>4417</th>\n      <td>ZNUA-MONOMER</td>\n      <td>Zn&lt;sup&gt;2+&lt;/sup&gt; ABC transporter periplasmic bi...</td>\n      <td>0</td>\n      <td>0</td>\n      <td>0</td>\n      <td>0</td>\n    </tr>\n    <tr>\n      <th>4418</th>\n      <td>ZNUB-MONOMER</td>\n      <td>Zn&lt;sup&gt;2+&lt;/sup&gt; ABC transporter membrane subunit</td>\n      <td>0</td>\n      <td>0</td>\n      <td>0</td>\n      <td>0</td>\n    </tr>\n    <tr>\n      <th>4419</th>\n      <td>ZNUC-MONOMER</td>\n      <td>Zn&lt;sup&gt;2+&lt;/sup&gt; ABC transporter ATP binding su...</td>\n      <td>0</td>\n      <td>0</td>\n      <td>0</td>\n      <td>0</td>\n    </tr>\n  </tbody>\n</table>\n<p>4420 rows × 6 columns</p>\n</div>"
     },
     "execution_count": 2,
     "metadata": {},
     "output_type": "execute_result"
    }
   ],
   "source": [
    "# get a set of all monomers with an associated uniprot id\n",
    "proteins_df = pd.read_csv('reconstruction/ecoli/flat/proteins.tsv', sep='\\t').loc[:, [\"id\", \"common_name\"]]\n",
    "\n",
    "for column in [\"enzyme_reaction\", \"cofactors\", \"metal_features\", \"other_features\"]:\n",
    "    proteins_df[column] = 0\n",
    "    proteins_df[column] = proteins_df[column].astype(object)\n",
    "\n",
    "proteins_df"
   ],
   "metadata": {
    "collapsed": false,
    "ExecuteTime": {
     "end_time": "2023-07-26T20:40:14.833404Z",
     "start_time": "2023-07-26T20:40:14.776063Z"
    }
   }
  },
  {
   "cell_type": "markdown",
   "source": [
    "## Get relevant EcoCyc data and annotate protein monomer table"
   ],
   "metadata": {
    "collapsed": false
   }
  },
  {
   "cell_type": "code",
   "execution_count": 3,
   "outputs": [
    {
     "name": "stdout",
     "output_type": "stream",
     "text": [
      "{'@ptools-version': '27.0',\n",
      " '@xml:base': 'http://BioCyc.org/getxml?ECOLI:EG11333-MONOMER',\n",
      " 'Protein': {'@ID': 'ECOLI:EG11333-MONOMER',\n",
      "             '@detail': 'full',\n",
      "             '@frameid': 'EG11333-MONOMER',\n",
      "             '@orgid': 'ECOLI',\n",
      "             'catalyzes': {'Enzymatic-Reaction': {'@ID': 'ECOLI:ENZRXN0-7774',\n",
      "                                                  '@detail': 'low',\n",
      "                                                  '@frameid': 'ENZRXN0-7774',\n",
      "                                                  '@orgid': 'ECOLI',\n",
      "                                                  'common-name': {'#text': '2-octaprenylphenol '\n",
      "                                                                           '6-hydroxylase',\n",
      "                                                                  '@datatype': 'string'},\n",
      "                                                  'enzyme': {'Protein': {'@frameid': 'EG11333-MONOMER',\n",
      "                                                                         '@orgid': 'ECOLI',\n",
      "                                                                         '@resource': '#ECOLI:EG11333-MONOMER'}},\n",
      "                                                  'reaction': {'Reaction': {'@frameid': '2-OCTAPRENYLPHENOL-HYDROX-RXN',\n",
      "                                                                            '@orgid': 'ECOLI',\n",
      "                                                                            '@resource': 'getxml?ECOLI:2-OCTAPRENYLPHENOL-HYDROX-RXN'}}}},\n",
      "             'comment': {'#text': 'UbiI is a component of the Ubi complex '\n",
      "                                  'metabolon [<a '\n",
      "                                  'href=\"http://www.ncbi.nlm.nih.gov/pubmed/30686758\">Hajj19</a>].  '\n",
      "                                  'UbiI functions in the hydroxylation of the '\n",
      "                                  'C5 position during the aerobic biosynthesis '\n",
      "                                  'of ubiquinone-8.\\n'\n",
      "                                  '<p>\\n'\n",
      "                                  'UbiI predominantly localizes to the '\n",
      "                                  'cytosol.  The seven ubiquinone biosynthesis '\n",
      "                                  'proteins UbiE, UbiF, UbiG, UbiH, UbiI, '\n",
      "                                  'UbiJ, and UbiK form a 1 MDa complex in the '\n",
      "                                  'cytosol [<a '\n",
      "                                  'href=\"http://www.ncbi.nlm.nih.gov/pubmed/30686758\">Hajj19</a>].  \\n'\n",
      "                                  '<p>\\n'\n",
      "                                  'Purified UbiI is unstable; an inactive '\n",
      "                                  'truncated form was isolated and behaves '\n",
      "                                  'like a tetramer in solution.  The crystal '\n",
      "                                  'structure of this protein has been solved '\n",
      "                                  'at 2.0 &Aring; resolution.  Point mutants '\n",
      "                                  'in the predicted FAD binding site do not '\n",
      "                                  'complement a &Delta;<i>ubiI</i> mutant [<a '\n",
      "                                  'href=\"http://www.ncbi.nlm.nih.gov/pubmed/23709220\">Hajj13</a>].\\n'\n",
      "                                  '<p>\\n'\n",
      "                                  'Deletion of <i>ubiI</i> (<i>visC</i>) has '\n",
      "                                  'no effect on photosensitivity or aerobic '\n",
      "                                  'respiration [<a '\n",
      "                                  'href=\"http://www.ncbi.nlm.nih.gov/pubmed/1339425\">Nakahigashi92</a>, '\n",
      "                                  '<a '\n",
      "                                  'href=\"http://www.ncbi.nlm.nih.gov/pubmed/23709220\">Hajj13</a>]; '\n",
      "                                  'however, a <i>ubiI</i> mutant strain '\n",
      "                                  'contains only 7% of wild type levels of '\n",
      "                                  'ubiquinone-8 and accumulates '\n",
      "                                  '3-octaprenyl-4-hydroxyphenol '\n",
      "                                  '(4-HP<sub>8</sub>) [<a '\n",
      "                                  'href=\"http://www.ncbi.nlm.nih.gov/pubmed/23709220\">Hajj13</a>].  '\n",
      "                                  'The residual C5 hydroxylase activity '\n",
      "                                  'appears to be provided by UbiF [<a '\n",
      "                                  'href=\"http://www.ncbi.nlm.nih.gov/pubmed/23709220\">Hajj13</a>].  '\n",
      "                                  'A &Delta;<i>ubiI</i>&Delta;<i>ubiK</i> '\n",
      "                                  'double mutant produces no detectable '\n",
      "                                  'ubiquinone and in contrast to the single '\n",
      "                                  'mutants, has a significant growth defect '\n",
      "                                  'when grown aerobically on rich medium and '\n",
      "                                  'does not grow on the non-fermentable carbon '\n",
      "                                  'sources oleate, acetate, and succinate [<a '\n",
      "                                  'href=\"http://www.ncbi.nlm.nih.gov/pubmed/29042439\">Agrawal17</a>].  '\n",
      "                                  'A <i>ubiI</i> null mutant shows increased '\n",
      "                                  'mean peak length duration of mechanically '\n",
      "                                  'induced calcium flux across the membrane '\n",
      "                                  '[<a '\n",
      "                                  'href=\"http://www.ncbi.nlm.nih.gov/pubmed/28808010\">Bruni17</a>].  '\n",
      "                                  'The requirement for <i>ubiI</i> and other '\n",
      "                                  'ubiquinone biosynthesis genes for growth in '\n",
      "                                  'long chain fatty acids (LCFAs) such as '\n",
      "                                  'oleate suggests that ubiquinone mitigates '\n",
      "                                  'oxidative stress generated during LCFA '\n",
      "                                  'degradation [<a '\n",
      "                                  'href=\"http://www.ncbi.nlm.nih.gov/pubmed/29042439\">Agrawal17</a>].\\n'\n",
      "                                  '<p>\\n'\n",
      "                                  'Radiotracer studies have suggested that '\n",
      "                                  'UbiA, UbiD, and UbiI can utilize '\n",
      "                                  '<i>p</i>-aminobenzoate or intermediates '\n",
      "                                  'derived from it as substrates [<a '\n",
      "                                  'href=\"http://www.ncbi.nlm.nih.gov/pubmed/25681964\">Xie15</a>].\\n'\n",
      "                                  '<p>\\n'\n",
      "                                  'Review: [<a '\n",
      "                                  'href=\"http://www.ncbi.nlm.nih.gov/pubmed/24480387\">Aussel14</a>]',\n",
      "                         '@datatype': 'string'},\n",
      "             'common-name': {'#text': '2-octaprenylphenol 6-hydroxylase',\n",
      "                             '@datatype': 'string'},\n",
      "             'component-of': {'Protein': {'@frameid': 'CPLX0-8301',\n",
      "                                          '@orgid': 'ECOLI',\n",
      "                                          '@resource': 'getxml?ECOLI:CPLX0-8301'}},\n",
      "             'credits': {'last-curated': [{'Organization': {'@frameid': 'SRI',\n",
      "                                                            '@orgid': 'ECOLI',\n",
      "                                                            '@resource': '#ECOLI:SRI'},\n",
      "                                           'Person': {'@ID': 'ECOLI:keseler',\n",
      "                                                      '@detail': 'full',\n",
      "                                                      '@frameid': 'keseler',\n",
      "                                                      '@orgid': 'ECOLI',\n",
      "                                                      'affiliations': {...},\n",
      "                                                      'common-name': {...},\n",
      "                                                      'email': {...}},\n",
      "                                           'date': {'#text': '2013-06-11',\n",
      "                                                    '@datatype': 'date'}},\n",
      "                                          {'Organization': {'@frameid': 'SRI',\n",
      "                                                            '@orgid': 'ECOLI',\n",
      "                                                            '@resource': '#ECOLI:SRI'},\n",
      "                                           'Person': {'@frameid': 'keseler',\n",
      "                                                      '@orgid': 'ECOLI',\n",
      "                                                      '@resource': '#ECOLI:keseler'},\n",
      "                                           'date': {'#text': '2017-09-01',\n",
      "                                                    '@datatype': 'date'}},\n",
      "                                          {'Organization': {'@frameid': 'SRI',\n",
      "                                                            '@orgid': 'ECOLI',\n",
      "                                                            '@resource': '#ECOLI:SRI'},\n",
      "                                           'Person': {'@frameid': 'keseler',\n",
      "                                                      '@orgid': 'ECOLI',\n",
      "                                                      '@resource': '#ECOLI:keseler'},\n",
      "                                           'date': {'#text': '2019-03-25',\n",
      "                                                    '@datatype': 'date'}}]},\n",
      "             'dblink': [{'dblink-URL': 'https://alphafold.ebi.ac.uk/entry/P25535',\n",
      "                         'dblink-db': 'ALPHAFOLD',\n",
      "                         'dblink-oid': 'P25535',\n",
      "                         'dblink-relationship': 'unification'},\n",
      "                        {'dblink-URL': 'http://www.ebi.ac.uk/interpro/entry/IPR036188',\n",
      "                         'dblink-db': 'INTERPRO',\n",
      "                         'dblink-oid': 'IPR036188',\n",
      "                         'dblink-relationship': 'IN-FAMILY'},\n",
      "                        {'dblink-URL': 'https://www.ebi.ac.uk/interpro/entry/pfam/PF01494',\n",
      "                         'dblink-db': 'PFAM',\n",
      "                         'dblink-oid': 'PF01494',\n",
      "                         'dblink-relationship': 'IN-FAMILY'},\n",
      "                        {'dblink-URL': 'http://www.rcsb.org/structure/4K22',\n",
      "                         'dblink-db': 'PDB',\n",
      "                         'dblink-oid': '4K22',\n",
      "                         'dblink-relationship': 'Structure'},\n",
      "                        {'dblink-URL': 'https://swissmodel.expasy.org/repository/uniprot/P25535',\n",
      "                         'dblink-db': 'SMR',\n",
      "                         'dblink-oid': 'P25535',\n",
      "                         'dblink-relationship': 'unification'},\n",
      "                        {'dblink-URL': 'http://www.ebi.ac.uk/interpro/entry/IPR010971',\n",
      "                         'dblink-db': 'INTERPRO',\n",
      "                         'dblink-oid': 'IPR010971',\n",
      "                         'dblink-relationship': 'IN-FAMILY'},\n",
      "                        {'dblink-URL': 'http://www.ebi.ac.uk/interpro/entry/IPR018168',\n",
      "                         'dblink-db': 'INTERPRO',\n",
      "                         'dblink-oid': 'IPR018168',\n",
      "                         'dblink-relationship': 'IN-FAMILY'},\n",
      "                        {'dblink-URL': 'http://www.ebi.ac.uk/interpro/entry/IPR002938',\n",
      "                         'dblink-db': 'INTERPRO',\n",
      "                         'dblink-oid': 'IPR002938',\n",
      "                         'dblink-relationship': 'IN-FAMILY'},\n",
      "                        {'dblink-URL': 'http://prosite.expasy.org/cgi-bin/prosite/nicedoc.pl?PS01304',\n",
      "                         'dblink-db': 'PROSITE',\n",
      "                         'dblink-oid': 'PS01304',\n",
      "                         'dblink-relationship': 'IN-FAMILY'},\n",
      "                        {'dblink-URL': 'http://www.ebi.ac.uk/pride/searchSummary.do?queryTypeSelected=identification%20accession%20number&identificationAccessionNumber=P25535',\n",
      "                         'dblink-db': 'PRIDE',\n",
      "                         'dblink-oid': 'P25535',\n",
      "                         'dblink-relationship': 'unification'},\n",
      "                        {'dblink-URL': 'http://pir.georgetown.edu/cgi-bin/pro/entry_pro?id=PRO_000024212',\n",
      "                         'dblink-db': 'PRODB',\n",
      "                         'dblink-oid': 'PRO_000024212',\n",
      "                         'dblink-relationship': 'unification'},\n",
      "                        {'dblink-URL': 'http://ecoliwiki.org/colipedia/index.php/b2906',\n",
      "                         'dblink-db': 'ECOLIWIKI',\n",
      "                         'dblink-oid': 'b2906',\n",
      "                         'dblink-relationship': 'unification'},\n",
      "                        {'dblink-URL': 'http://modbase.compbio.ucsf.edu/modbase-cgi/model_search.cgi?searchkw=name&kword=P25535',\n",
      "                         'dblink-db': 'MODBASE',\n",
      "                         'dblink-oid': 'P25535',\n",
      "                         'dblink-relationship': 'unification'},\n",
      "                        {'dblink-URL': 'http://www.ncbi.nlm.nih.gov/entrez/viewer.fcgi?val=NP_417382',\n",
      "                         'dblink-db': 'REFSEQ',\n",
      "                         'dblink-oid': 'NP_417382',\n",
      "                         'dblink-relationship': 'unification'},\n",
      "                        {'dblink-URL': 'https://www.uniprot.org/uniprot/P25535',\n",
      "                         'dblink-db': 'UNIPROT',\n",
      "                         'dblink-oid': 'P25535',\n",
      "                         'dblink-relationship': 'unification'}],\n",
      "             'gene': {'Gene': {'@frameid': 'EG11333',\n",
      "                               '@orgid': 'ECOLI',\n",
      "                               '@resource': 'getxml?ECOLI:EG11333'}},\n",
      "             'has-feature': [{'Feature': {'@ID': 'ECOLI:FTR0-1605473',\n",
      "                                          '@detail': 'full',\n",
      "                                          '@frameid': 'FTR0-1605473',\n",
      "                                          '@orgid': 'ECOLI',\n",
      "                                          'accession-1': {'#text': 'PF01494.22',\n",
      "                                                          '@datatype': 'string'},\n",
      "                                          'evidence': {'Evidence-Code': {...},\n",
      "                                                       'Publication': {...}},\n",
      "                                          'feature-of': {'Protein': {...}},\n",
      "                                          'left-end-position': {'#text': '4',\n",
      "                                                                '@datatype': 'integer'},\n",
      "                                          'parent': {'Feature': {...}},\n",
      "                                          'right-end-position': {'#text': '344',\n",
      "                                                                 '@datatype': 'integer'}}},\n",
      "                             {'Feature': {'@ID': 'ECOLI:FTR0-1587742',\n",
      "                                          '@detail': 'full',\n",
      "                                          '@frameid': 'FTR0-1587742',\n",
      "                                          '@orgid': 'ECOLI',\n",
      "                                          'alternate-sequence': {'#text': 'A',\n",
      "                                                                 '@datatype': 'string'},\n",
      "                                          'comment': {'#text': 'UniProt: In '\n",
      "                                                               'Ref. 1; '\n",
      "                                                               'BAA14327..',\n",
      "                                                      '@datatype': 'string'},\n",
      "                                          'evidence': [{...}, {...}],\n",
      "                                          'feature-of': {'Protein': {...}},\n",
      "                                          'left-end-position': {'#text': '383',\n",
      "                                                                '@datatype': 'integer'},\n",
      "                                          'parent': {'Feature': {...}},\n",
      "                                          'right-end-position': {'#text': '383',\n",
      "                                                                 '@datatype': 'integer'}}},\n",
      "                             {'Feature': {'@ID': 'ECOLI:FTR0-1587741',\n",
      "                                          '@detail': 'full',\n",
      "                                          '@frameid': 'FTR0-1587741',\n",
      "                                          '@orgid': 'ECOLI',\n",
      "                                          'alternate-sequence': {'#text': 'A',\n",
      "                                                                 '@datatype': 'string'},\n",
      "                                          'comment': {'#text': 'UniProt: In '\n",
      "                                                               'Ref. 1; '\n",
      "                                                               'BAA14327..',\n",
      "                                                      '@datatype': 'string'},\n",
      "                                          'evidence': [{...}, {...}],\n",
      "                                          'feature-of': {'Protein': {...}},\n",
      "                                          'left-end-position': {'#text': '26',\n",
      "                                                                '@datatype': 'integer'},\n",
      "                                          'parent': {'Feature': {...}},\n",
      "                                          'right-end-position': {'#text': '26',\n",
      "                                                                 '@datatype': 'integer'}}},\n",
      "                             {'Feature': {'@ID': 'ECOLI:FTR0-1587740',\n",
      "                                          '@detail': 'full',\n",
      "                                          '@frameid': 'FTR0-1587740',\n",
      "                                          '@orgid': 'ECOLI',\n",
      "                                          'alternate-sequence': {'#text': 'AVD',\n",
      "                                                                 '@datatype': 'string'},\n",
      "                                          'comment': {'#text': 'UniProt: Leads '\n",
      "                                                               'to the same '\n",
      "                                                               'phenotype as '\n",
      "                                                               'the ubiI '\n",
      "                                                               'deletion '\n",
      "                                                               'mutant, '\n",
      "                                                               'indicating a '\n",
      "                                                               'strongly '\n",
      "                                                               'impaired '\n",
      "                                                               'catalytic '\n",
      "                                                               'activity..',\n",
      "                                                      '@datatype': 'string'},\n",
      "                                          'evidence': {'Evidence-Code': {...},\n",
      "                                                       'Publication': {...}},\n",
      "                                          'feature-of': {'Protein': {...}},\n",
      "                                          'left-end-position': {'#text': '301',\n",
      "                                                                '@datatype': 'integer'},\n",
      "                                          'parent': {'Feature': {...}},\n",
      "                                          'right-end-position': {'#text': '303',\n",
      "                                                                 '@datatype': 'integer'}}},\n",
      "                             {'Feature': {'@ID': 'ECOLI:FTR0-1587739',\n",
      "                                          '@detail': 'full',\n",
      "                                          '@frameid': 'FTR0-1587739',\n",
      "                                          '@orgid': 'ECOLI',\n",
      "                                          'attached-group': {'Compound': {...}},\n",
      "                                          'comment': {'#text': 'UniProt: FAD.',\n",
      "                                                      '@datatype': 'string'},\n",
      "                                          'evidence': {'Evidence-Code': {...},\n",
      "                                                       'Publication': {...}},\n",
      "                                          'feature-of': {'Protein': {...}},\n",
      "                                          'left-end-position': {'#text': '297',\n",
      "                                                                '@datatype': 'integer'},\n",
      "                                          'parent': {'Feature': {...}},\n",
      "                                          'right-end-position': {'#text': '303',\n",
      "                                                                 '@datatype': 'integer'}}},\n",
      "                             {'Feature': {'@ID': 'ECOLI:FTR0-1587738',\n",
      "                                          '@detail': 'full',\n",
      "                                          '@frameid': 'FTR0-1587738',\n",
      "                                          '@orgid': 'ECOLI',\n",
      "                                          'attached-group': {'Compound': {...}},\n",
      "                                          'comment': {'#text': 'UniProt: FAD.',\n",
      "                                                      '@datatype': 'string'},\n",
      "                                          'evidence': {'Evidence-Code': {...},\n",
      "                                                       'Publication': {...}},\n",
      "                                          'feature-of': {'Protein': {...}},\n",
      "                                          'left-end-position': {'#text': '49',\n",
      "                                                                '@datatype': 'integer'},\n",
      "                                          'parent': {'Feature': {...}},\n",
      "                                          'right-end-position': {'#text': '52',\n",
      "                                                                 '@datatype': 'integer'}}},\n",
      "                             {'Feature': {'@ID': 'ECOLI:FTR0-1552193',\n",
      "                                          '@detail': 'full',\n",
      "                                          '@frameid': 'FTR0-1552193',\n",
      "                                          '@orgid': 'ECOLI',\n",
      "                                          'comment': {'#text': 'N6-acetyllysine '\n",
      "                                                               'site '\n",
      "                                                               'upregulated '\n",
      "                                                               '(log<SUB>2</SUB>(fold-change) '\n",
      "                                                               '=  3.20) by '\n",
      "                                                               'YfiQ; digests '\n",
      "                                                               'by trypsin',\n",
      "                                                      '@datatype': 'string'},\n",
      "                                          'evidence': {'Evidence-Code': {...},\n",
      "                                                       'Publication': {...}},\n",
      "                                          'feature-of': {'Protein': {...}},\n",
      "                                          'parent': {'Feature': {...}},\n",
      "                                          'residue-number': {'#text': '373',\n",
      "                                                             '@datatype': 'integer'}}}],\n",
      "             'has-go-term': [{'GO-Term': {'@class': 'true',\n",
      "                                          '@frameid': 'GO:0016705',\n",
      "                                          '@orgid': 'ECOLI',\n",
      "                                          '@resource': 'getxml?ECOLI:GO:0016705'},\n",
      "                              'evidence': {'Evidence-Code': {'@class': 'true',\n",
      "                                                             '@frameid': 'EV-COMP-AINF',\n",
      "                                                             '@orgid': 'ECOLI',\n",
      "                                                             '@resource': '#ECOLI:EV-COMP-AINF'},\n",
      "                                           'Publication': {'@ID': 'ECOLI:PUB-GO_REF-0000002',\n",
      "                                                           '@detail': 'full',\n",
      "                                                           '@frameid': 'PUB-GO_REF-0000002',\n",
      "                                                           '@orgid': 'ECOLI',\n",
      "                                                           'author': [...],\n",
      "                                                           'title': {...},\n",
      "                                                           'url': {...},\n",
      "                                                           'year': {...}},\n",
      "                                           'with': {'#text': 'InterPro\\\\:IPR010971',\n",
      "                                                    '@datatype': 'string'}}},\n",
      "                             {'GO-Term': {'@class': 'true',\n",
      "                                          '@frameid': 'GO:0005737',\n",
      "                                          '@orgid': 'ECOLI',\n",
      "                                          '@resource': 'getxml?ECOLI:GO:0005737'},\n",
      "                              'evidence': [{'Evidence-Code': {...},\n",
      "                                            'Publication': {...},\n",
      "                                            'with': {...}},\n",
      "                                           {'Evidence-Code': {...},\n",
      "                                            'Publication': {...},\n",
      "                                            'with': {...}}]},\n",
      "                             {'GO-Term': {'@class': 'true',\n",
      "                                          '@frameid': 'GO:0071949',\n",
      "                                          '@orgid': 'ECOLI',\n",
      "                                          '@resource': 'getxml?ECOLI:GO:0071949'},\n",
      "                              'evidence': {'Evidence-Code': {'@class': 'true',\n",
      "                                                             '@frameid': 'EV-COMP-AINF',\n",
      "                                                             '@orgid': 'ECOLI',\n",
      "                                                             '@resource': '#ECOLI:EV-COMP-AINF'},\n",
      "                                           'Publication': {'@frameid': 'PUB-GO_REF-0000002',\n",
      "                                                           '@orgid': 'ECOLI',\n",
      "                                                           '@resource': '#ECOLI:PUB-GO_REF-0000002'},\n",
      "                                           'with': {'#text': 'InterPro\\\\:IPR002938',\n",
      "                                                    '@datatype': 'string'}}},\n",
      "                             {'GO-Term': {'@class': 'true',\n",
      "                                          '@frameid': 'GO:0050660',\n",
      "                                          '@orgid': 'ECOLI',\n",
      "                                          '@resource': 'getxml?ECOLI:GO:0050660'},\n",
      "                              'evidence': {'Evidence-Code': {'@class': 'true',\n",
      "                                                             '@frameid': 'EV-COMP-AINF',\n",
      "                                                             '@orgid': 'ECOLI',\n",
      "                                                             '@resource': '#ECOLI:EV-COMP-AINF'},\n",
      "                                           'Publication': {'@frameid': 'PUB-GO_REF-0000002',\n",
      "                                                           '@orgid': 'ECOLI',\n",
      "                                                           '@resource': '#ECOLI:PUB-GO_REF-0000002'},\n",
      "                                           'with': {'#text': 'InterPro\\\\:IPR010971',\n",
      "                                                    '@datatype': 'string'}}},\n",
      "                             {'GO-Term': {'@class': 'true',\n",
      "                                          '@frameid': 'GO:0016709',\n",
      "                                          '@orgid': 'ECOLI',\n",
      "                                          '@resource': 'getxml?ECOLI:GO:0016709'},\n",
      "                              'evidence': {'Evidence-Code': {'@class': 'true',\n",
      "                                                             '@frameid': 'EV-COMP-AINF',\n",
      "                                                             '@orgid': 'ECOLI',\n",
      "                                                             '@resource': '#ECOLI:EV-COMP-AINF'},\n",
      "                                           'Publication': {'@frameid': 'PUB-GO_REF-0000002',\n",
      "                                                           '@orgid': 'ECOLI',\n",
      "                                                           '@resource': '#ECOLI:PUB-GO_REF-0000002'},\n",
      "                                           'with': {'#text': 'InterPro\\\\:IPR018168',\n",
      "                                                    '@datatype': 'string'}}},\n",
      "                             {'GO-Term': {'@class': 'true',\n",
      "                                          '@frameid': 'GO:0016491',\n",
      "                                          '@orgid': 'ECOLI',\n",
      "                                          '@resource': 'getxml?ECOLI:GO:0016491'},\n",
      "                              'evidence': {'Evidence-Code': {'@class': 'true',\n",
      "                                                             '@frameid': 'EV-COMP-AINF',\n",
      "                                                             '@orgid': 'ECOLI',\n",
      "                                                             '@resource': '#ECOLI:EV-COMP-AINF'},\n",
      "                                           'Publication': {'@frameid': 'PUB-GO_REF-0000043',\n",
      "                                                           '@orgid': 'ECOLI',\n",
      "                                                           '@resource': '#ECOLI:PUB-GO_REF-0000043'},\n",
      "                                           'with': {'#text': 'SP_KW\\\\:KW-0560',\n",
      "                                                    '@datatype': 'string'}}},\n",
      "                             {'GO-Term': {'@class': 'true',\n",
      "                                          '@frameid': 'GO:0004497',\n",
      "                                          '@orgid': 'ECOLI',\n",
      "                                          '@resource': 'getxml?ECOLI:GO:0004497'},\n",
      "                              'evidence': {'Evidence-Code': {'@class': 'true',\n",
      "                                                             '@frameid': 'EV-COMP-AINF',\n",
      "                                                             '@orgid': 'ECOLI',\n",
      "                                                             '@resource': '#ECOLI:EV-COMP-AINF'},\n",
      "                                           'Publication': {'@frameid': 'PUB-GO_REF-0000043',\n",
      "                                                           '@orgid': 'ECOLI',\n",
      "                                                           '@resource': '#ECOLI:PUB-GO_REF-0000043'},\n",
      "                                           'with': {'#text': 'SP_KW\\\\:KW-0503',\n",
      "                                                    '@datatype': 'string'}}},\n",
      "                             {'GO-Term': {'@class': 'true',\n",
      "                                          '@frameid': 'GO:0110142',\n",
      "                                          '@orgid': 'ECOLI',\n",
      "                                          '@resource': 'getxml?ECOLI:GO:0110142'},\n",
      "                              'evidence': {'Evidence-Code': {'@ID': 'ECOLI:EV-EXP-IDA',\n",
      "                                                             '@class': 'true',\n",
      "                                                             '@detail': 'full',\n",
      "                                                             '@frameid': 'EV-EXP-IDA',\n",
      "                                                             '@orgid': 'ECOLI',\n",
      "                                                             'comment': {...},\n",
      "                                                             'common-name': {'#text': 'Inferred '\n",
      "                                                                                      'from '\n",
      "                                                                                      'direct '\n",
      "                                                                                      'assay',\n",
      "                                                                             '@datatype': 'string'},\n",
      "                                                             'parent': {...}},\n",
      "                                           'Publication': {'@ID': 'ECOLI:PUB-30686758',\n",
      "                                                           '@detail': 'full',\n",
      "                                                           '@frameid': 'PUB-30686758',\n",
      "                                                           '@orgid': 'ECOLI',\n",
      "                                                           'author': [...],\n",
      "                                                           'pubmed-id': {...},\n",
      "                                                           'source': {...},\n",
      "                                                           'title': {...},\n",
      "                                                           'year': {...}},\n",
      "                                           'with': {'@datatype': 'string'}}},\n",
      "                             {'GO-Term': {'@class': 'true',\n",
      "                                          '@frameid': 'GO:0005515',\n",
      "                                          '@orgid': 'ECOLI',\n",
      "                                          '@resource': 'getxml?ECOLI:GO:0005515'},\n",
      "                              'evidence': {'Evidence-Code': {'@ID': 'ECOLI:EV-EXP-IPI',\n",
      "                                                             '@class': 'true',\n",
      "                                                             '@detail': 'full',\n",
      "                                                             '@frameid': 'EV-EXP-IPI',\n",
      "                                                             '@orgid': 'ECOLI',\n",
      "                                                             'comment': {...},\n",
      "                                                             'common-name': {'#text': 'Inferred '\n",
      "                                                                                      'from '\n",
      "                                                                                      'physical '\n",
      "                                                                                      'interaction',\n",
      "                                                                             '@datatype': 'string'},\n",
      "                                                             'parent': {...}},\n",
      "                                           'Publication': {'@frameid': 'PUB-30686758',\n",
      "                                                           '@orgid': 'ECOLI',\n",
      "                                                           '@resource': '#ECOLI:PUB-30686758'},\n",
      "                                           'with': {'#text': 'UniProtKB\\\\:P0A887|UniProtKB\\\\:P75728|UniProtKB\\\\:P17993|UniProtKB\\\\:P25534|UniProtKB\\\\:P0ADP7',\n",
      "                                                    '@datatype': 'string'}}},\n",
      "                             {'GO-Term': {'@class': 'true',\n",
      "                                          '@frameid': 'GO:0005829',\n",
      "                                          '@orgid': 'ECOLI',\n",
      "                                          '@resource': 'getxml?ECOLI:GO:0005829'},\n",
      "                              'evidence': {'Evidence-Code': {'@class': 'true',\n",
      "                                                             '@frameid': 'EV-COMP-AINF',\n",
      "                                                             '@orgid': 'ECOLI',\n",
      "                                                             '@resource': '#ECOLI:EV-COMP-AINF'},\n",
      "                                           'Publication': {'@ID': 'ECOLI:PUB-19054114',\n",
      "                                                           '@detail': 'full',\n",
      "                                                           '@frameid': 'PUB-19054114',\n",
      "                                                           '@orgid': 'ECOLI',\n",
      "                                                           'author': [...],\n",
      "                                                           'pubmed-id': {...},\n",
      "                                                           'source': {...},\n",
      "                                                           'title': {...},\n",
      "                                                           'year': {...}},\n",
      "                                           'with': {'@datatype': 'string'}}},\n",
      "                             {'GO-Term': {'@class': 'true',\n",
      "                                          '@frameid': 'GO:0019168',\n",
      "                                          '@orgid': 'ECOLI',\n",
      "                                          '@resource': 'getxml?ECOLI:GO:0019168'},\n",
      "                              'evidence': [{'Evidence-Code': {...},\n",
      "                                            'Publication': {...},\n",
      "                                            'with': {...}},\n",
      "                                           {'Evidence-Code': {...},\n",
      "                                            'Publication': {...},\n",
      "                                            'with': {...}},\n",
      "                                           {'Evidence-Code': {...},\n",
      "                                            'Publication': {...},\n",
      "                                            'with': {...}}]},\n",
      "                             {'GO-Term': {'@class': 'true',\n",
      "                                          '@frameid': 'GO:0006744',\n",
      "                                          '@orgid': 'ECOLI',\n",
      "                                          '@resource': 'getxml?ECOLI:GO:0006744'},\n",
      "                              'evidence': [{'Evidence-Code': {...},\n",
      "                                            'Publication': {...},\n",
      "                                            'with': {...}},\n",
      "                                           {'Evidence-Code': {...},\n",
      "                                            'Publication': {...},\n",
      "                                            'with': {...}},\n",
      "                                           {'Evidence-Code': {...},\n",
      "                                            'Publication': {...},\n",
      "                                            'with': {...}},\n",
      "                                           {'Evidence-Code': {...},\n",
      "                                            'Publication': {...},\n",
      "                                            'with': {...}},\n",
      "                                           {'Evidence-Code': {...},\n",
      "                                            'Publication': {...},\n",
      "                                            'with': {...}}]}],\n",
      "             'location': {'cco': {'@frameid': 'CCI-CYTOSOL-GN',\n",
      "                                  '@orgid': 'ECOLI',\n",
      "                                  '@resource': 'getxml?ECOLI:CCI-CYTOSOL-GN'}},\n",
      "             'molecular-weight-seq': {'#text': '44.245',\n",
      "                                      '@datatype': 'float',\n",
      "                                      '@units': 'kD'},\n",
      "             'parent': {'Protein': {'@class': 'true',\n",
      "                                    '@frameid': 'Polypeptides',\n",
      "                                    '@orgid': 'ECOLI',\n",
      "                                    '@resource': 'getxml?ECOLI:Polypeptides'}},\n",
      "             'species': {'Organism': {'@ID': 'ECOLI:ECOLI',\n",
      "                                      '@detail': 'full',\n",
      "                                      '@frameid': 'ECOLI',\n",
      "                                      '@orgid': 'ECOLI',\n",
      "                                      'citation': {'Publication': {'@ID': 'ECOLI:PUB-34394059',\n",
      "                                                                   '@detail': 'full',\n",
      "                                                                   '@frameid': 'PUB-34394059',\n",
      "                                                                   '@orgid': 'ECOLI',\n",
      "                                                                   'author': [{'#text': 'Keseler '\n",
      "                                                                                        'IM',\n",
      "                                                                               '@datatype': 'string'},\n",
      "                                                                              {'#text': 'Gama-Castro '\n",
      "                                                                                        'S',\n",
      "                                                                               '@datatype': 'string'},\n",
      "                                                                              {'#text': 'Mackie '\n",
      "                                                                                        'A',\n",
      "                                                                               '@datatype': 'string'},\n",
      "                                                                              {'#text': 'Billington '\n",
      "                                                                                        'R',\n",
      "                                                                               '@datatype': 'string'},\n",
      "                                                                              {'#text': 'Bonavides-Martinez '\n",
      "                                                                                        'C',\n",
      "                                                                               '@datatype': 'string'},\n",
      "                                                                              {'#text': 'Caspi '\n",
      "                                                                                        'R',\n",
      "                                                                               '@datatype': 'string'},\n",
      "                                                                              {'#text': 'Kothari '\n",
      "                                                                                        'A',\n",
      "                                                                               '@datatype': 'string'},\n",
      "                                                                              {'#text': 'Krummenacker '\n",
      "                                                                                        'M',\n",
      "                                                                               '@datatype': 'string'},\n",
      "                                                                              {'#text': 'Midford '\n",
      "                                                                                        'PE',\n",
      "                                                                               '@datatype': 'string'},\n",
      "                                                                              {'#text': 'Muniz-Rascado '\n",
      "                                                                                        'L',\n",
      "                                                                               '@datatype': 'string'},\n",
      "                                                                              {'#text': 'Ong '\n",
      "                                                                                        'WK',\n",
      "                                                                               '@datatype': 'string'},\n",
      "                                                                              {'#text': 'Paley '\n",
      "                                                                                        'S',\n",
      "                                                                               '@datatype': 'string'},\n",
      "                                                                              {'#text': 'Santos-Zavaleta '\n",
      "                                                                                        'A',\n",
      "                                                                               '@datatype': 'string'},\n",
      "                                                                              {'#text': 'Subhraveti '\n",
      "                                                                                        'P',\n",
      "                                                                               '@datatype': 'string'},\n",
      "                                                                              {'#text': 'Tierrafria '\n",
      "                                                                                        'VH',\n",
      "                                                                               '@datatype': 'string'},\n",
      "                                                                              {'#text': 'Wolfe '\n",
      "                                                                                        'AJ',\n",
      "                                                                               '@datatype': 'string'},\n",
      "                                                                              {'#text': 'Collado-Vides '\n",
      "                                                                                        'J',\n",
      "                                                                               '@datatype': 'string'},\n",
      "                                                                              {'#text': 'Paulsen '\n",
      "                                                                                        'IT',\n",
      "                                                                               '@datatype': 'string'},\n",
      "                                                                              {'#text': 'Karp '\n",
      "                                                                                        'PD',\n",
      "                                                                               '@datatype': 'string'}],\n",
      "                                                                   'doi-id': {'#text': '10.3389/fmicb.2021.711077',\n",
      "                                                                              '@datatype': 'string'},\n",
      "                                                                   'pubmed-id': {'#text': '34394059',\n",
      "                                                                                 '@datatype': 'string'},\n",
      "                                                                   'source': {'#text': 'Front '\n",
      "                                                                                       'Microbiol '\n",
      "                                                                                       '12;711077',\n",
      "                                                                              '@datatype': 'string'},\n",
      "                                                                   'title': {'#text': 'The '\n",
      "                                                                                      'EcoCyc '\n",
      "                                                                                      'Database '\n",
      "                                                                                      'in '\n",
      "                                                                                      '2021.',\n",
      "                                                                             '@datatype': 'string'},\n",
      "                                                                   'year': {'#text': '2021',\n",
      "                                                                            '@datatype': 'integer'}}},\n",
      "                                      'comment': {'#text': 'EcoCyc is a '\n",
      "                                                           'model-organism '\n",
      "                                                           'database for '\n",
      "                                                           '<i>Escherichia '\n",
      "                                                           'coli</i> K-12 '\n",
      "                                                           'MG1655. For more '\n",
      "                                                           'information, see '\n",
      "                                                           'URL EcoCyc.org.\\n'\n",
      "                                                           '<p>\\n'\n",
      "                                                           'The <i>E. coli</i> '\n",
      "                                                           'genome sequence '\n",
      "                                                           'used in EcoCyc has '\n",
      "                                                           'been updated from '\n",
      "                                                           'version 2 to '\n",
      "                                                           'version 3, GenBank '\n",
      "                                                           'accession number '\n",
      "                                                           'U00096.3, for '\n",
      "                                                           'release 20.0 of '\n",
      "                                                           'EcoCyc. Despite '\n",
      "                                                           'the involvement of '\n",
      "                                                           'EcoCyc staff in '\n",
      "                                                           'ongoing updates to '\n",
      "                                                           'the U00096 record, '\n",
      "                                                           'some annotation '\n",
      "                                                           'differences may be '\n",
      "                                                           'found between '\n",
      "                                                           'U00096 and EcoCyc, '\n",
      "                                                           'such as due to '\n",
      "                                                           'recent updates to '\n",
      "                                                           'EcoCyc.',\n",
      "                                                  '@datatype': 'string'},\n",
      "                                      'common-name': {'#text': 'Escherichia '\n",
      "                                                               'coli',\n",
      "                                                      '@datatype': 'string'},\n",
      "                                      'dblink': [{'dblink-URL': 'http://www.ncbi.nlm.nih.gov/Taxonomy/Browser/wwwtax.cgi?mode=Info&id=511145',\n",
      "                                                  'dblink-db': 'NCBI-TAXONOMY-DB',\n",
      "                                                  'dblink-oid': '511145',\n",
      "                                                  'dblink-relationship': 'unification'},\n",
      "                                                 {'dblink-URL': 'http://genomesonline.org/projects?id=Gp0072557',\n",
      "                                                  'dblink-db': 'GOLD',\n",
      "                                                  'dblink-oid': 'Gp0072557',\n",
      "                                                  'dblink-relationship': 'unification'}],\n",
      "                                      'genome': {'Genetic-Element': {'@frameid': 'COLI-K12',\n",
      "                                                                     '@orgid': 'ECOLI',\n",
      "                                                                     '@resource': 'getxml?ECOLI:COLI-K12'}},\n",
      "                                      'parent': {'Organism': {'@class': 'true',\n",
      "                                                              '@frameid': 'TAX-511145',\n",
      "                                                              '@orgid': 'ECOLI',\n",
      "                                                              '@resource': 'getxml?ECOLI:TAX-511145'}},\n",
      "                                      'pgdb-author': [{'Person': {...}},\n",
      "                                                      {'Person': {...}},\n",
      "                                                      {'Person': {...}},\n",
      "                                                      {'Person': {...}},\n",
      "                                                      {'Person': {...}},\n",
      "                                                      {'Person': {...}},\n",
      "                                                      {'Person': {...}},\n",
      "                                                      {'Person': {...}},\n",
      "                                                      {'Person': {...}},\n",
      "                                                      {'Person': {...}},\n",
      "                                                      {'Person': {...}},\n",
      "                                                      {'Person': {...}},\n",
      "                                                      {'Person': {...}}],\n",
      "                                      'pgdb-copyright': {'#text': 'Copyright '\n",
      "                                                                  'SRI '\n",
      "                                                                  'International '\n",
      "                                                                  '1999-2023, '\n",
      "                                                                  'Marine '\n",
      "                                                                  'Biological '\n",
      "                                                                  'Laboratory '\n",
      "                                                                  '1998-2001, '\n",
      "                                                                  'DoubleTwist '\n",
      "                                                                  'Inc '\n",
      "                                                                  '1998-1999.  '\n",
      "                                                                  'All Rights '\n",
      "                                                                  'Reserved.',\n",
      "                                                         '@datatype': 'string'},\n",
      "                                      'pgdb-footer-citation': {'#text': '<a '\n",
      "                                                                        'href=\"https://www.frontiersin.org/articles/10.3389/fmicb.2021.711077/full\">Frontiers '\n",
      "                                                                        'in '\n",
      "                                                                        'Microbiology '\n",
      "                                                                        '2021</a>',\n",
      "                                                               '@datatype': 'string'},\n",
      "                                      'pgdb-name': {'#text': 'EcoCyc',\n",
      "                                                    '@datatype': 'string'},\n",
      "                                      'pgdb-tier': {'#text': '1',\n",
      "                                                    '@datatype': 'integer'},\n",
      "                                      'rank': 'strain',\n",
      "                                      'strain-name': {'#text': 'K-12 substr. '\n",
      "                                                               'MG1655',\n",
      "                                                      '@datatype': 'string'},\n",
      "                                      'synonym': {'#text': 'Escherichia coli '\n",
      "                                                           'K-12 substr. '\n",
      "                                                           'MG1655',\n",
      "                                                  '@datatype': 'string'}}},\n",
      "             'synonym': [{'#text': 'UbiI', '@datatype': 'string'},\n",
      "                         {'#text': 'VisC', '@datatype': 'string'}]},\n",
      " 'metadata': {'PGDB': {'@orgid': 'ECOLI',\n",
      "                       '@version': '27.0',\n",
      "                       'dblink': {'dblink-URL': 'http://www.ncbi.nlm.nih.gov/Taxonomy/Browser/wwwtax.cgi?mode=Info&id=511145',\n",
      "                                  'dblink-db': 'NCBI-TAXONOMY-DB',\n",
      "                                  'dblink-oid': '511145',\n",
      "                                  'dblink-relationship': 'unification'},\n",
      "                       'species': {'#text': 'Escherichia coli',\n",
      "                                   '@datatype': 'string'},\n",
      "                       'strain': {'#text': 'K-12 substr. MG1655',\n",
      "                                  '@datatype': 'string'}},\n",
      "              'num_results': '1',\n",
      "              'query': 'ECOLI:EG11333-MONOMER',\n",
      "              'service_name': 'getxml',\n",
      "              'url': 'http://BioCyc.org/'}}\n"
     ]
    }
   ],
   "source": [
    "# example entry\n",
    "protein = 'EG11333-MONOMER'\n",
    "req_str = f'https://websvc.biocyc.org/getxml?id=ECOLI:{protein}&detail=high'\n",
    "\n",
    "r = s.get(req_str)\n",
    "if r.status_code != 200:\n",
    "    print(protein, r.status_code)\n",
    "\n",
    "o = xmltodict.parse(r.content)['ptools-xml']\n",
    "pp.pprint(o)"
   ],
   "metadata": {
    "collapsed": false,
    "ExecuteTime": {
     "end_time": "2023-07-26T20:40:15.141393Z",
     "start_time": "2023-07-26T20:40:14.804741Z"
    }
   }
  },
  {
   "cell_type": "code",
   "execution_count": 4,
   "outputs": [
    {
     "name": "stdout",
     "output_type": "stream",
     "text": [
      "0\n",
      "100\n",
      "200\n",
      "300\n",
      "400\n",
      "500\n",
      "600\n",
      "700\n",
      "800\n",
      "900\n",
      "1000\n",
      "1100\n",
      "EG11708-MONOMER 404\n",
      "1200\n",
      "1300\n",
      "1400\n",
      "1500\n",
      "1600\n",
      "1700\n",
      "1800\n",
      "1900\n",
      "2000\n",
      "2100\n",
      "2200\n",
      "2300\n",
      "2400\n",
      "2500\n",
      "2600\n",
      "2700\n",
      "2800\n",
      "2900\n",
      "3000\n",
      "3100\n",
      "3200\n",
      "3300\n",
      "3400\n",
      "3500\n",
      "3600\n",
      "3700\n",
      "3800\n",
      "3900\n",
      "4000\n",
      "4100\n",
      "4200\n",
      "4300\n",
      "4400\n"
     ]
    }
   ],
   "source": [
    "for i in range(len(proteins_df.index)):\n",
    "    if i % 100 == 0:\n",
    "        print(i)\n",
    "\n",
    "    protein = proteins_df.loc[i, 'id']\n",
    "    proteins_df.at[i, 'other_features'] = set()\n",
    "    proteins_df.at[i, 'metal_features'] = set()\n",
    "    proteins_df.at[i, 'enzyme_reaction'] = set()\n",
    "    proteins_df.at[i, 'cofactors'] = set()\n",
    "\n",
    "    req_str = f'https://websvc.biocyc.org/getxml?id=ECOLI:{protein}&detail=high'\n",
    "\n",
    "\n",
    "\n",
    "    r = s.get(req_str)\n",
    "    if r.status_code != 200:\n",
    "        print(protein, r.status_code)\n",
    "        continue\n",
    "\n",
    "    o = xmltodict.parse(r.content)['ptools-xml']\n",
    "\n",
    "    metal_set = set()\n",
    "    other_feature_set = set()\n",
    "    if 'Protein' in o and 'has-feature' in o['Protein']:\n",
    "        features = o['Protein']['has-feature']\n",
    "\n",
    "        if type(features) is dict:\n",
    "            features = [features]\n",
    "\n",
    "        for feature in features:\n",
    "            if 'parent' not in feature['Feature']:\n",
    "                continue\n",
    "\n",
    "            category = feature['Feature']['parent']['Feature']['@frameid']\n",
    "            if category == 'Metal-Binding-Sites' and 'comment' in feature['Feature']:\n",
    "\n",
    "                # Detect match to any of the allowed metal names and allowed cofactor names and add to list\n",
    "                comment = feature['Feature']['comment']['#text']\n",
    "                metal_set.add(comment)\n",
    "\n",
    "                proteins_df.at[i, 'metal_features'] = list(metal_set)\n",
    "\n",
    "            if category == 'Nucleotide-Phosphate-Binding-Regions' and 'attached-group' in feature['Feature'] and 'Compound' in feature['Feature']['attached-group']:\n",
    "                attached_group = feature['Feature']['attached-group']['Compound']['@frameid']\n",
    "                other_feature_set.add(attached_group)\n",
    "\n",
    "            if category == 'N6-pyridoxal-phosphate-Lys-Modifications':\n",
    "                other_feature_set.add('PYRIDOXAL_PHOSPHATE')\n",
    "\n",
    "            if category == 'Protein-Segments' and 'comment' in feature['Feature'] and 'Thiamine' in feature['Feature']['comment']['#text']:\n",
    "                other_feature_set.add('THIAMINE-PYROPHOSPHATE')\n",
    "\n",
    "            if category == 'Selenocysteine-site':\n",
    "                metal_set.add('L-SELENOCYSTEINE')\n",
    "\n",
    "            proteins_df.at[i, 'metal_features'] = list(metal_set)\n",
    "            proteins_df.at[i, 'other_features'] = list(other_feature_set)\n",
    "\n",
    "        if 'catalyzes' in o['Protein']:\n",
    "            oc = o['Protein']['catalyzes']['Enzymatic-Reaction']\n",
    "\n",
    "            if type(oc) is dict:\n",
    "                oc = [oc]\n",
    "\n",
    "            cofactor_set = set()\n",
    "            enz_rxn_set = set()\n",
    "\n",
    "            for enzrxn in oc:\n",
    "                enz_id = enzrxn['@frameid']\n",
    "\n",
    "                enz_rxn_set.add(enz_id)\n",
    "\n",
    "                enz_req_str = f'https://websvc.biocyc.org/getxml?id=ECOLI:{enz_id}&detail=high'\n",
    "\n",
    "                rz = s.get(enz_req_str)\n",
    "                oe = xmltodict.parse(rz.content)['ptools-xml']['Enzymatic-Reaction']\n",
    "\n",
    "                if \"cofactor\" in oe:\n",
    "                    oe = oe['cofactor']\n",
    "\n",
    "                    if type(oe) is dict:\n",
    "                        oe = [oe]\n",
    "\n",
    "                    for cofactor in oe:\n",
    "                        cof = cofactor['Compound']['@frameid']\n",
    "                        cofactor_set.add(cof)\n",
    "\n",
    "            proteins_df.at[i, 'enzyme_reaction'] = enz_rxn_set\n",
    "            proteins_df.at[i, 'cofactors'] = cofactor_set\n",
    "\n",
    "\n"
   ],
   "metadata": {
    "collapsed": false,
    "ExecuteTime": {
     "end_time": "2023-07-26T20:58:49.107919Z",
     "start_time": "2023-07-26T20:40:15.144700Z"
    }
   }
  },
  {
   "cell_type": "code",
   "execution_count": 5,
   "outputs": [
    {
     "data": {
      "text/plain": "                                            id  \\\n0      1-ACYLGLYCEROL-3-P-ACYLTRANSFER-MONOMER   \n1                                1-PFK-MONOMER   \n2             2-DEHYDROPANTOATE-REDUCT-MONOMER   \n3                 2-ISOPROPYLMALATESYN-MONOMER   \n4     2-OCTAPRENYL-METHOXY-BENZOQ-METH-MONOMER   \n...                                        ...   \n4415                              YTFR-MONOMER   \n4416                              YTFT-MONOMER   \n4417                              ZNUA-MONOMER   \n4418                              ZNUB-MONOMER   \n4419                              ZNUC-MONOMER   \n\n                                            common_name  \\\n0     1-acylglycerol-3-phosphate <i>O</i>-acyltransf...   \n1                                 1-phosphofructokinase   \n2                         2-dehydropantoate 2-reductase   \n3                            2-isopropylmalate synthase   \n4     bifunctional 2-octaprenyl-6-methoxy-1,4-benzoq...   \n...                                                 ...   \n4415  galactofuranose ABC transporter putative ATP b...   \n4416  galactofuranose ABC transporter putative membr...   \n4417  Zn<sup>2+</sup> ABC transporter periplasmic bi...   \n4418   Zn<sup>2+</sup> ABC transporter membrane subunit   \n4419  Zn<sup>2+</sup> ABC transporter ATP binding su...   \n\n                                        enzyme_reaction cofactors  \\\n0     {ENZRXN0-7993, ENZRXN0-7991, ENZRXN0-6620, ENZ...        {}   \n1                                                    {}        {}   \n2                     {2-DEHYDROPANTOATE-REDUCT-ENZRXN}        {}   \n3                                        {ENZRXN0-6250}        {}   \n4     {2-OCTAPRENYL-METHOXY-BENZOQ-METH-ENZRXN, ADOM...        {}   \n...                                                 ...       ...   \n4415                                                 {}        {}   \n4416                                                 {}        {}   \n4417                                                 {}        {}   \n4418                                                 {}        {}   \n4419                                                 {}        {}   \n\n                                         metal_features other_features  \n0                                                    []             []  \n1                                                    []          [ATP]  \n2                                                    []         [NADP]  \n3                                                    []             []  \n4                                                    []             []  \n...                                                 ...            ...  \n4415                                                 []          [ATP]  \n4416                                                 []             []  \n4417  [UniProt: Zinc., implicated in a second zinc b...             []  \n4418                                                 []             []  \n4419                                                 []          [ATP]  \n\n[4420 rows x 6 columns]",
      "text/html": "<div>\n<style scoped>\n    .dataframe tbody tr th:only-of-type {\n        vertical-align: middle;\n    }\n\n    .dataframe tbody tr th {\n        vertical-align: top;\n    }\n\n    .dataframe thead th {\n        text-align: right;\n    }\n</style>\n<table border=\"1\" class=\"dataframe\">\n  <thead>\n    <tr style=\"text-align: right;\">\n      <th></th>\n      <th>id</th>\n      <th>common_name</th>\n      <th>enzyme_reaction</th>\n      <th>cofactors</th>\n      <th>metal_features</th>\n      <th>other_features</th>\n    </tr>\n  </thead>\n  <tbody>\n    <tr>\n      <th>0</th>\n      <td>1-ACYLGLYCEROL-3-P-ACYLTRANSFER-MONOMER</td>\n      <td>1-acylglycerol-3-phosphate &lt;i&gt;O&lt;/i&gt;-acyltransf...</td>\n      <td>{ENZRXN0-7993, ENZRXN0-7991, ENZRXN0-6620, ENZ...</td>\n      <td>{}</td>\n      <td>[]</td>\n      <td>[]</td>\n    </tr>\n    <tr>\n      <th>1</th>\n      <td>1-PFK-MONOMER</td>\n      <td>1-phosphofructokinase</td>\n      <td>{}</td>\n      <td>{}</td>\n      <td>[]</td>\n      <td>[ATP]</td>\n    </tr>\n    <tr>\n      <th>2</th>\n      <td>2-DEHYDROPANTOATE-REDUCT-MONOMER</td>\n      <td>2-dehydropantoate 2-reductase</td>\n      <td>{2-DEHYDROPANTOATE-REDUCT-ENZRXN}</td>\n      <td>{}</td>\n      <td>[]</td>\n      <td>[NADP]</td>\n    </tr>\n    <tr>\n      <th>3</th>\n      <td>2-ISOPROPYLMALATESYN-MONOMER</td>\n      <td>2-isopropylmalate synthase</td>\n      <td>{ENZRXN0-6250}</td>\n      <td>{}</td>\n      <td>[]</td>\n      <td>[]</td>\n    </tr>\n    <tr>\n      <th>4</th>\n      <td>2-OCTAPRENYL-METHOXY-BENZOQ-METH-MONOMER</td>\n      <td>bifunctional 2-octaprenyl-6-methoxy-1,4-benzoq...</td>\n      <td>{2-OCTAPRENYL-METHOXY-BENZOQ-METH-ENZRXN, ADOM...</td>\n      <td>{}</td>\n      <td>[]</td>\n      <td>[]</td>\n    </tr>\n    <tr>\n      <th>...</th>\n      <td>...</td>\n      <td>...</td>\n      <td>...</td>\n      <td>...</td>\n      <td>...</td>\n      <td>...</td>\n    </tr>\n    <tr>\n      <th>4415</th>\n      <td>YTFR-MONOMER</td>\n      <td>galactofuranose ABC transporter putative ATP b...</td>\n      <td>{}</td>\n      <td>{}</td>\n      <td>[]</td>\n      <td>[ATP]</td>\n    </tr>\n    <tr>\n      <th>4416</th>\n      <td>YTFT-MONOMER</td>\n      <td>galactofuranose ABC transporter putative membr...</td>\n      <td>{}</td>\n      <td>{}</td>\n      <td>[]</td>\n      <td>[]</td>\n    </tr>\n    <tr>\n      <th>4417</th>\n      <td>ZNUA-MONOMER</td>\n      <td>Zn&lt;sup&gt;2+&lt;/sup&gt; ABC transporter periplasmic bi...</td>\n      <td>{}</td>\n      <td>{}</td>\n      <td>[UniProt: Zinc., implicated in a second zinc b...</td>\n      <td>[]</td>\n    </tr>\n    <tr>\n      <th>4418</th>\n      <td>ZNUB-MONOMER</td>\n      <td>Zn&lt;sup&gt;2+&lt;/sup&gt; ABC transporter membrane subunit</td>\n      <td>{}</td>\n      <td>{}</td>\n      <td>[]</td>\n      <td>[]</td>\n    </tr>\n    <tr>\n      <th>4419</th>\n      <td>ZNUC-MONOMER</td>\n      <td>Zn&lt;sup&gt;2+&lt;/sup&gt; ABC transporter ATP binding su...</td>\n      <td>{}</td>\n      <td>{}</td>\n      <td>[]</td>\n      <td>[ATP]</td>\n    </tr>\n  </tbody>\n</table>\n<p>4420 rows × 6 columns</p>\n</div>"
     },
     "execution_count": 5,
     "metadata": {},
     "output_type": "execute_result"
    }
   ],
   "source": [
    "proteins_df"
   ],
   "metadata": {
    "collapsed": false,
    "ExecuteTime": {
     "end_time": "2023-07-26T20:58:49.143122Z",
     "start_time": "2023-07-26T20:58:49.105496Z"
    }
   }
  },
  {
   "cell_type": "code",
   "execution_count": 6,
   "outputs": [],
   "source": [
    "# proteins_df.to_parquet('notebooks/fbagd/data/raw_protein_features.parquet', index=False)"
   ],
   "metadata": {
    "collapsed": false,
    "ExecuteTime": {
     "end_time": "2023-07-26T20:58:49.143268Z",
     "start_time": "2023-07-26T20:58:49.136025Z"
    }
   }
  },
  {
   "cell_type": "markdown",
   "source": [
    "## Reload protein feature table"
   ],
   "metadata": {
    "collapsed": false
   }
  },
  {
   "cell_type": "code",
   "execution_count": 7,
   "outputs": [
    {
     "data": {
      "text/plain": "                                            id  \\\n0      1-ACYLGLYCEROL-3-P-ACYLTRANSFER-MONOMER   \n1                                1-PFK-MONOMER   \n2             2-DEHYDROPANTOATE-REDUCT-MONOMER   \n3                 2-ISOPROPYLMALATESYN-MONOMER   \n4     2-OCTAPRENYL-METHOXY-BENZOQ-METH-MONOMER   \n...                                        ...   \n4415                              YTFR-MONOMER   \n4416                              YTFT-MONOMER   \n4417                              ZNUA-MONOMER   \n4418                              ZNUB-MONOMER   \n4419                              ZNUC-MONOMER   \n\n                                            common_name  \\\n0     1-acylglycerol-3-phosphate <i>O</i>-acyltransf...   \n1                                 1-phosphofructokinase   \n2                         2-dehydropantoate 2-reductase   \n3                            2-isopropylmalate synthase   \n4     bifunctional 2-octaprenyl-6-methoxy-1,4-benzoq...   \n...                                                 ...   \n4415  galactofuranose ABC transporter putative ATP b...   \n4416  galactofuranose ABC transporter putative membr...   \n4417  Zn<sup>2+</sup> ABC transporter periplasmic bi...   \n4418   Zn<sup>2+</sup> ABC transporter membrane subunit   \n4419  Zn<sup>2+</sup> ABC transporter ATP binding su...   \n\n                                         metal_features other_features  \\\n0                                                    []             []   \n1                                                    []          [ATP]   \n2                                                    []         [NADP]   \n3                                                    []             []   \n4                                                    []             []   \n...                                                 ...            ...   \n4415                                                 []          [ATP]   \n4416                                                 []             []   \n4417  [UniProt: Zinc., implicated in a second zinc b...             []   \n4418                                                 []             []   \n4419                                                 []          [ATP]   \n\n                                        enzyme_reaction cofactors  \n0     {ENZRXN0-7993, ENZRXN0-7991, ENZRXN0-6620, ENZ...        {}  \n1                                                    {}        {}  \n2                     {2-DEHYDROPANTOATE-REDUCT-ENZRXN}        {}  \n3                                        {ENZRXN0-6250}        {}  \n4     {2-OCTAPRENYL-METHOXY-BENZOQ-METH-ENZRXN, ADOM...        {}  \n...                                                 ...       ...  \n4415                                                 {}        {}  \n4416                                                 {}        {}  \n4417                                                 {}        {}  \n4418                                                 {}        {}  \n4419                                                 {}        {}  \n\n[4420 rows x 6 columns]",
      "text/html": "<div>\n<style scoped>\n    .dataframe tbody tr th:only-of-type {\n        vertical-align: middle;\n    }\n\n    .dataframe tbody tr th {\n        vertical-align: top;\n    }\n\n    .dataframe thead th {\n        text-align: right;\n    }\n</style>\n<table border=\"1\" class=\"dataframe\">\n  <thead>\n    <tr style=\"text-align: right;\">\n      <th></th>\n      <th>id</th>\n      <th>common_name</th>\n      <th>metal_features</th>\n      <th>other_features</th>\n      <th>enzyme_reaction</th>\n      <th>cofactors</th>\n    </tr>\n  </thead>\n  <tbody>\n    <tr>\n      <th>0</th>\n      <td>1-ACYLGLYCEROL-3-P-ACYLTRANSFER-MONOMER</td>\n      <td>1-acylglycerol-3-phosphate &lt;i&gt;O&lt;/i&gt;-acyltransf...</td>\n      <td>[]</td>\n      <td>[]</td>\n      <td>{ENZRXN0-7993, ENZRXN0-7991, ENZRXN0-6620, ENZ...</td>\n      <td>{}</td>\n    </tr>\n    <tr>\n      <th>1</th>\n      <td>1-PFK-MONOMER</td>\n      <td>1-phosphofructokinase</td>\n      <td>[]</td>\n      <td>[ATP]</td>\n      <td>{}</td>\n      <td>{}</td>\n    </tr>\n    <tr>\n      <th>2</th>\n      <td>2-DEHYDROPANTOATE-REDUCT-MONOMER</td>\n      <td>2-dehydropantoate 2-reductase</td>\n      <td>[]</td>\n      <td>[NADP]</td>\n      <td>{2-DEHYDROPANTOATE-REDUCT-ENZRXN}</td>\n      <td>{}</td>\n    </tr>\n    <tr>\n      <th>3</th>\n      <td>2-ISOPROPYLMALATESYN-MONOMER</td>\n      <td>2-isopropylmalate synthase</td>\n      <td>[]</td>\n      <td>[]</td>\n      <td>{ENZRXN0-6250}</td>\n      <td>{}</td>\n    </tr>\n    <tr>\n      <th>4</th>\n      <td>2-OCTAPRENYL-METHOXY-BENZOQ-METH-MONOMER</td>\n      <td>bifunctional 2-octaprenyl-6-methoxy-1,4-benzoq...</td>\n      <td>[]</td>\n      <td>[]</td>\n      <td>{2-OCTAPRENYL-METHOXY-BENZOQ-METH-ENZRXN, ADOM...</td>\n      <td>{}</td>\n    </tr>\n    <tr>\n      <th>...</th>\n      <td>...</td>\n      <td>...</td>\n      <td>...</td>\n      <td>...</td>\n      <td>...</td>\n      <td>...</td>\n    </tr>\n    <tr>\n      <th>4415</th>\n      <td>YTFR-MONOMER</td>\n      <td>galactofuranose ABC transporter putative ATP b...</td>\n      <td>[]</td>\n      <td>[ATP]</td>\n      <td>{}</td>\n      <td>{}</td>\n    </tr>\n    <tr>\n      <th>4416</th>\n      <td>YTFT-MONOMER</td>\n      <td>galactofuranose ABC transporter putative membr...</td>\n      <td>[]</td>\n      <td>[]</td>\n      <td>{}</td>\n      <td>{}</td>\n    </tr>\n    <tr>\n      <th>4417</th>\n      <td>ZNUA-MONOMER</td>\n      <td>Zn&lt;sup&gt;2+&lt;/sup&gt; ABC transporter periplasmic bi...</td>\n      <td>[UniProt: Zinc., implicated in a second zinc b...</td>\n      <td>[]</td>\n      <td>{}</td>\n      <td>{}</td>\n    </tr>\n    <tr>\n      <th>4418</th>\n      <td>ZNUB-MONOMER</td>\n      <td>Zn&lt;sup&gt;2+&lt;/sup&gt; ABC transporter membrane subunit</td>\n      <td>[]</td>\n      <td>[]</td>\n      <td>{}</td>\n      <td>{}</td>\n    </tr>\n    <tr>\n      <th>4419</th>\n      <td>ZNUC-MONOMER</td>\n      <td>Zn&lt;sup&gt;2+&lt;/sup&gt; ABC transporter ATP binding su...</td>\n      <td>[]</td>\n      <td>[ATP]</td>\n      <td>{}</td>\n      <td>{}</td>\n    </tr>\n  </tbody>\n</table>\n<p>4420 rows × 6 columns</p>\n</div>"
     },
     "execution_count": 7,
     "metadata": {},
     "output_type": "execute_result"
    }
   ],
   "source": [
    "# proteins_df = pd.read_parquet('notebooks/fbagd/data/raw_protein_features.parquet')\n",
    "# proteins_df['metal_features'] = proteins_df['metal_features'].apply(ast.literal_eval)\n",
    "# # for rows of proteins with where other_features is set, convert from string to set with literal_eval\n",
    "# proteins_df.loc[proteins_df['other_features'].str.startswith('['), 'other_features'] = \\\n",
    "#     proteins_df.loc[proteins_df['other_features'].str.startswith('['), 'other_features'].apply(ast.literal_eval)\n",
    "\n",
    "filter_protein_df = proteins_df.copy().loc[:, ['id', 'common_name', 'metal_features', 'other_features', 'enzyme_reaction', 'cofactors']]\n",
    "filter_protein_df"
   ],
   "metadata": {
    "collapsed": false,
    "ExecuteTime": {
     "end_time": "2023-07-26T20:58:49.163751Z",
     "start_time": "2023-07-26T20:58:49.138204Z"
    }
   }
  },
  {
   "cell_type": "markdown",
   "source": [
    "## Process raw EcoCyc annotations into standard EcoCyc names"
   ],
   "metadata": {
    "collapsed": false
   }
  },
  {
   "cell_type": "code",
   "execution_count": 8,
   "outputs": [
    {
     "name": "stdout",
     "output_type": "stream",
     "text": [
      "No match for UniProt: Magnesium or manganese. in 3-ISOPROPYLMALDEHYDROG-MONOMER\n",
      "No match for conserved, Fe(III) binding motif in BASS-MONOMER\n",
      "No match for predicted heme d ligand in CYDA-MONOMER\n",
      "No match for UniProt: Fe(2+); catalytic. in CYTDEAM-MONOMER\n",
      "No match for UniProt: Zn(2+); catalytic. in CYTDEAM-MONOMER\n",
      "No match for The amino-terminus of ClpA contains a Zinc binding site. in EG10156-MONOMER\n",
      "No match for The active-site magnesium ion is coordinated by three aspartate residues (401, 403, 555). Two of them form part of \n",
      "the PDXD active-site motif. in EG10238-MONOMER\n",
      "No match for Based on crystal structures, Glu-265 and Asp-309 coordinate a divalent cation. in EG10239-MONOMER\n",
      "No match for Divalent magnesium ions are chelated by three aspartate residues, two in the conserved DPD sequence (345, 347) \n",
      "and one in the conserved EGYMD sequence (269). in EG10239-MONOMER\n",
      "No match for These residues are thought to coordinate the one or two divalent magnesium ions required for the \n",
      "gyrase cleavage-religation reaction. in EG10424-MONOMER\n",
      "No match for Mg<sup>2+</sup> binding site in EG10599-MONOMER\n",
      "No match for Iron-sulfur (4Fe-4S) in EG10627-MONOMER\n",
      "No match for This metal-binding motif was identified in a crystal structure [<a href=\"http://www.ncbi.nlm.nih.gov/pubmed/16885166\">Ito06</a>]. in EG10696-MONOMER\n",
      "No match for Asp-10, Glu-48 and Asp-70 coordinate a divalent manganese ion which is required for catalytic activity. in EG10860-MONOMER\n",
      "No match for Asp-10 and Asp-134 coordinate a divalent manganese ion which, when present may inhibit enzymatic activity. in EG10860-MONOMER\n",
      "No match for Asn-44 and Glu-48 coordinate magnesium when it is present. in EG10860-MONOMER\n",
      "No match for binds Zn<sup>2+</sup> and Cd<sup>2+</sup> with high affinity and Fe<sup>2+</sup> with lower affinity in EG11167-MONOMER\n",
      "No match for binds Fe<sup>2+</sup> with high affinity in EG11167-MONOMER\n",
      "No match for UniProt: Iron-sulfur 2 (4Fe-4S-substrate). in EG11595-MONOMER\n",
      "No match for UniProt: Iron-sulfur 1 (4Fe-4S-S-AdoMet). in EG11595-MONOMER\n",
      "No match for Zn<sup>2+</sup> binding in EG11918-MONOMER\n",
      "No match for predicted zinc binding site in EG11955-MONOMER\n",
      "No match for coordination of zinc in EG12045-MONOMER\n",
      "No match for cluster of cysteines that may be involved in binding zinc; possible zinc finger domains in EG12045-MONOMER\n",
      "No match for conserved histidines located in periplasmic regions on either side of the WWD region; ligands for heme in holoCcmE in EG12054-MONOMER\n",
      "No match for Ligands to <i>b</i> heme in EG12054-MONOMER\n",
      "No match for UniProt: Zn(2+); catalytic. in EG12097-MONOMER\n",
      "No match for Calcium in EG12244-MONOMER\n",
      "No match for type III, coupled binuclear Cu site in EG12318-MONOMER\n",
      "No match for type I, blue copper site in EG12318-MONOMER\n",
      "No match for labile or regulatory copper binding site; functions as an electron transfer site not a substrate reaction site in EG12318-MONOMER\n",
      "No match for substrate binding oxidation site: Cu(I) &rarr; Cu(II) in EG12318-MONOMER\n",
      "No match for type II, non-blue copper site in EG12318-MONOMER\n",
      "No match for a third Met ligand is likely located in the region 380-403; substrate binding oxidation site: Cu(I) &rarr; Cu(II) in EG12318-MONOMER\n",
      "No match for UniProt: Iron-sulfur. in EG12332-MONOMER\n",
      "No match for UniProt: Iron-sulfur. in EG12933-MONOMER\n",
      "No match for conserved in members of the TEES family of bacterial GTPases; implicated in potassium binding in <i>S. thermophilus</i> nFeoB in FEOB-MONOMER\n",
      "No match for 3Fe:4S coordination site in FUM-FE-S\n",
      "No match for 4Fe:4S coordination site in FUM-FE-S\n",
      "No match for UniProt: Iron-sulfur 1 (2Fe-2S). in FUM-FE-S\n",
      "No match for 2Fe:2S coordination site in FUM-FE-S\n",
      "No match for UniProt: Iron-sulfur 3 (3Fe-4S). in FUM-FE-S\n",
      "No match for UniProt: Iron-sulfur 2 (4Fe-4S). in FUM-FE-S\n",
      "No match for UniProt: Copper(1+). in G6263-MONOMER\n",
      "No match for Ag(I) binding; involved in binding one Ag(I) ion per CusS monomer in G6318-MONOMER\n",
      "No match for Ag(I) binding, symmetrical binding of two Ag(I) ions at the CusS dimer interface; F43, H176 and H42' co-ordinate one Ag(I) ion while F43', H176' and H42 coordinate the second in G6318-MONOMER\n",
      "No match for Each of the cysteines in this conserved iron-binding motif is individually required\n",
      "for MiaB enzymatic activity. in G6364-MONOMER\n",
      "No match for potential Zn(2) binding site in G6527-MONOMER\n",
      "No match for potential metal binding site in G6527-MONOMER\n",
      "No match for enzyme shows preference for Fe<sup>2+</sup>, Ni<sup>2+</sup> and Co<sup>2+</sup> over Zn<sup>2+</sup> in G6530-MONOMER\n",
      "No match for Cu<sup>2+</sup>-binding site in G7014-MONOMER\n",
      "No match for potential, conserved copper binding site in G7139-MONOMER\n",
      "No match for zinc binding site in G7430-MONOMER\n",
      "No match for zinc binding in G7458-MONOMER\n",
      "No match for UniProt: Iron-sulfur 1 (4Fe-4S-S-AdoMet). in G7953-MONOMER\n",
      "No match for UniProt: Iron-sulfur 3 (4Fe-4S). in G7953-MONOMER\n",
      "No match for UniProt: Iron-sulfur 2 (4Fe-4S). in G7953-MONOMER\n",
      "No match for Cys ligands for the nickel ion of the Ni-Fe active site in HYAB-MONOMER\n",
      "No match for heme <i>b</i> ligand in HYAC-MONOMER\n",
      "No match for ligand single calcium ions bound to each monomer of the homodimer; R167 and Ser152 ligands are from monomer A, Ser172 ligand is from monomer B in MONOMER0-341\n",
      "No match for predicted copper ligands in NADH-DHII-MONOMER\n",
      "No match for UniProt: Magnesium or cobalt. in NAG1P-URIDYLTRANS-MONOMER\n",
      "No match for coordinates a molybdenum hydroxo ligand in NARG-MONOMER\n",
      "No match for [4Fe-4S] coordination, FS2 in NARY-MONOMER\n",
      "No match for [4Fe-4S] corodination, FS3 in NARY-MONOMER\n",
      "No match for [3Fe-4S] coordination, FS4 in NARY-MONOMER\n",
      "No match for [4Fe-4S] coordination; FS1 in NARY-MONOMER\n",
      "No match for implicated in Na<sup>+</sup> binding above pH7 in NHAA-MONOMER\n",
      "No match for UniProt: Iron-sulfur. in TTDA-MONOMER\n",
      "No match for These residues make up the zinc-binding site. Histidines 79 and 238 appear to directly coordinate zinc, with\n",
      "additional coordination provided by one of the two other residues. All four are essential for catalytic\n",
      "activity [<a href=\"http://www.ncbi.nlm.nih.gov/pubmed/11148046\">Jackman01</a>]. Extended X-ray absorption fine structure spectroscopy suggests that aspartate-246\n",
      "coordinates zinc with the aid of a solvent molecule [<a href=\"http://www.ncbi.nlm.nih.gov/pubmed/12620676\">McClure03</a>]. in UDPACYLGLCNACDEACETYL-MONOMER\n",
      "No match for methionine pair located in transmembrane region of protein; suggested to form binding site as part of a methionine shuttle for movement of substrate in YBDE-MONOMER\n",
      "No match for methionine residues shown to coordinate Cu(I) in the periplasmic binding cleft in YBDE-MONOMER\n",
      "No match for residues constituting a (Met<sub>2</sub> O/N) metal binding motif in YBDE-MONOMER\n",
      "No match for methionine pair located in periplasmic region of protein; suggested to form binding site as part of a methionine shuttle for movement of substrate in YBDE-MONOMER\n",
      "No match for implicated in metal (Zn<sup>2+</sup> and Cd<sup>2+</sup>) coordination in YIIP-MONOMER\n",
      "No match for implicated in a second zinc binding site in ZNUA-MONOMER\n",
      "No match for zinc-coordinating residues in ZNUA-MONOMER\n"
     ]
    }
   ],
   "source": [
    "ALLOWED_METAL_NAMES =   {'Iron': 'FE+2', 'Cobalt': 'CO+2', 'Copper': 'CU+2', 'Manganese': 'MN+2', 'Molybdenum': 'CPD-8123', 'Nickel': 'NI+2', 'Tungsten': 'W', 'Zinc': 'ZN+2',\n",
    "                        'Calcium': 'CA+2', 'Magnesium': 'MG+2', 'Sodium': 'NA+', 'Potassium': 'K+',\n",
    "                        'Iron-sulfur \\(4Fe-4S\\)': 'CPD-7', 'Iron-sulfur \\(2Fe-2S\\)': 'CPD-6',\n",
    "                         'Iron-sulfur \\(4Fe-4S-S-AdoMet\\)': 'CPD-7', 'Iron-sulfur \\(3Fe-4S\\)': '3FE-4S', 'Iron-oxo-sulfur \\(4Fe-2O-2S\\)': 'CPD-7',\n",
    "                        'heme': 'Heme-b', 'Molybdate': 'CPD-3', 'heme B': 'Heme-b',\n",
    "                         'L-SELENOCYSTEINE': 'L-SELENOCYSTEINE',\n",
    "                        'Divalent metal cation': 'Any+2'}\n",
    "\n",
    "# remove all \\ characters from keys in ALLOWED_METAL_NAMES\n",
    "NON_REGEX_METAL = {key.replace('\\\\', ''): value for key, value in ALLOWED_METAL_NAMES.items()}\n",
    "\n",
    "filter_protein_df['metal_features_processed'] = 0\n",
    "filter_protein_df['metal_features_processed'] = filter_protein_df['metal_features_processed'].astype(object)\n",
    "\n",
    "metal_pattern = '|'.join(ALLOWED_METAL_NAMES.keys())\n",
    "metal_regex = re.compile(f'(({metal_pattern})(\\s\\d[\\.,;]|[\\.,;]|\\s\\())')\n",
    "\n",
    "\n",
    "for i in range(len(filter_protein_df.index)):\n",
    "\n",
    "    metal_binding = filter_protein_df.loc[i, 'metal_features']\n",
    "\n",
    "    metal_count_dict = {}\n",
    "    existing_matches = set()\n",
    "\n",
    "    for feature in metal_binding:\n",
    "        matches = metal_regex.search(feature)\n",
    "        if matches:\n",
    "            metal = matches.group(0)[:-1]\n",
    "\n",
    "            # eliminate duplicates\n",
    "            if metal not in existing_matches:\n",
    "\n",
    "                existing_matches.add(metal)\n",
    "\n",
    "                if 'heme' in feature:\n",
    "                    metal = metal.replace('Iron', 'heme')\n",
    "\n",
    "                # check if last char of metal is a number, then crop\n",
    "                if metal[-1].isdigit():\n",
    "                    metal = metal[:-2]\n",
    "\n",
    "                metal = metal.strip()\n",
    "\n",
    "                # replace metal name with allowed metal name\n",
    "                metal = NON_REGEX_METAL[metal]\n",
    "\n",
    "                if metal in metal_count_dict:\n",
    "                    metal_count_dict[metal] += 1\n",
    "                else:\n",
    "                    metal_count_dict[metal] = 1\n",
    "\n",
    "        else:\n",
    "            print(f'No match for {feature} in {filter_protein_df.loc[i, \"id\"]}')\n",
    "\n",
    "\n",
    "\n",
    "\n",
    "    filter_protein_df.at[i, 'metal_features_processed'] = metal_count_dict"
   ],
   "metadata": {
    "collapsed": false,
    "ExecuteTime": {
     "end_time": "2023-07-26T20:58:49.295456Z",
     "start_time": "2023-07-26T20:58:49.162286Z"
    }
   }
  },
  {
   "cell_type": "code",
   "execution_count": 9,
   "outputs": [
    {
     "data": {
      "text/plain": "                                            id  \\\n0      1-ACYLGLYCEROL-3-P-ACYLTRANSFER-MONOMER   \n1                                1-PFK-MONOMER   \n2             2-DEHYDROPANTOATE-REDUCT-MONOMER   \n3                 2-ISOPROPYLMALATESYN-MONOMER   \n4     2-OCTAPRENYL-METHOXY-BENZOQ-METH-MONOMER   \n...                                        ...   \n4415                              YTFR-MONOMER   \n4416                              YTFT-MONOMER   \n4417                              ZNUA-MONOMER   \n4418                              ZNUB-MONOMER   \n4419                              ZNUC-MONOMER   \n\n                                            common_name other_features  \\\n0     1-acylglycerol-3-phosphate <i>O</i>-acyltransf...             []   \n1                                 1-phosphofructokinase          [ATP]   \n2                         2-dehydropantoate 2-reductase         [NADP]   \n3                            2-isopropylmalate synthase             []   \n4     bifunctional 2-octaprenyl-6-methoxy-1,4-benzoq...             []   \n...                                                 ...            ...   \n4415  galactofuranose ABC transporter putative ATP b...          [ATP]   \n4416  galactofuranose ABC transporter putative membr...             []   \n4417  Zn<sup>2+</sup> ABC transporter periplasmic bi...             []   \n4418   Zn<sup>2+</sup> ABC transporter membrane subunit             []   \n4419  Zn<sup>2+</sup> ABC transporter ATP binding su...          [ATP]   \n\n                                        enzyme_reaction cofactors  \\\n0     {ENZRXN0-7993, ENZRXN0-7991, ENZRXN0-6620, ENZ...        {}   \n1                                                    {}        {}   \n2                     {2-DEHYDROPANTOATE-REDUCT-ENZRXN}        {}   \n3                                        {ENZRXN0-6250}        {}   \n4     {2-OCTAPRENYL-METHOXY-BENZOQ-METH-ENZRXN, ADOM...        {}   \n...                                                 ...       ...   \n4415                                                 {}        {}   \n4416                                                 {}        {}   \n4417                                                 {}        {}   \n4418                                                 {}        {}   \n4419                                                 {}        {}   \n\n     metal_features_processed  \n0                          {}  \n1                          {}  \n2                          {}  \n3                          {}  \n4                          {}  \n...                       ...  \n4415                       {}  \n4416                       {}  \n4417              {'ZN+2': 1}  \n4418                       {}  \n4419                       {}  \n\n[4420 rows x 6 columns]",
      "text/html": "<div>\n<style scoped>\n    .dataframe tbody tr th:only-of-type {\n        vertical-align: middle;\n    }\n\n    .dataframe tbody tr th {\n        vertical-align: top;\n    }\n\n    .dataframe thead th {\n        text-align: right;\n    }\n</style>\n<table border=\"1\" class=\"dataframe\">\n  <thead>\n    <tr style=\"text-align: right;\">\n      <th></th>\n      <th>id</th>\n      <th>common_name</th>\n      <th>other_features</th>\n      <th>enzyme_reaction</th>\n      <th>cofactors</th>\n      <th>metal_features_processed</th>\n    </tr>\n  </thead>\n  <tbody>\n    <tr>\n      <th>0</th>\n      <td>1-ACYLGLYCEROL-3-P-ACYLTRANSFER-MONOMER</td>\n      <td>1-acylglycerol-3-phosphate &lt;i&gt;O&lt;/i&gt;-acyltransf...</td>\n      <td>[]</td>\n      <td>{ENZRXN0-7993, ENZRXN0-7991, ENZRXN0-6620, ENZ...</td>\n      <td>{}</td>\n      <td>{}</td>\n    </tr>\n    <tr>\n      <th>1</th>\n      <td>1-PFK-MONOMER</td>\n      <td>1-phosphofructokinase</td>\n      <td>[ATP]</td>\n      <td>{}</td>\n      <td>{}</td>\n      <td>{}</td>\n    </tr>\n    <tr>\n      <th>2</th>\n      <td>2-DEHYDROPANTOATE-REDUCT-MONOMER</td>\n      <td>2-dehydropantoate 2-reductase</td>\n      <td>[NADP]</td>\n      <td>{2-DEHYDROPANTOATE-REDUCT-ENZRXN}</td>\n      <td>{}</td>\n      <td>{}</td>\n    </tr>\n    <tr>\n      <th>3</th>\n      <td>2-ISOPROPYLMALATESYN-MONOMER</td>\n      <td>2-isopropylmalate synthase</td>\n      <td>[]</td>\n      <td>{ENZRXN0-6250}</td>\n      <td>{}</td>\n      <td>{}</td>\n    </tr>\n    <tr>\n      <th>4</th>\n      <td>2-OCTAPRENYL-METHOXY-BENZOQ-METH-MONOMER</td>\n      <td>bifunctional 2-octaprenyl-6-methoxy-1,4-benzoq...</td>\n      <td>[]</td>\n      <td>{2-OCTAPRENYL-METHOXY-BENZOQ-METH-ENZRXN, ADOM...</td>\n      <td>{}</td>\n      <td>{}</td>\n    </tr>\n    <tr>\n      <th>...</th>\n      <td>...</td>\n      <td>...</td>\n      <td>...</td>\n      <td>...</td>\n      <td>...</td>\n      <td>...</td>\n    </tr>\n    <tr>\n      <th>4415</th>\n      <td>YTFR-MONOMER</td>\n      <td>galactofuranose ABC transporter putative ATP b...</td>\n      <td>[ATP]</td>\n      <td>{}</td>\n      <td>{}</td>\n      <td>{}</td>\n    </tr>\n    <tr>\n      <th>4416</th>\n      <td>YTFT-MONOMER</td>\n      <td>galactofuranose ABC transporter putative membr...</td>\n      <td>[]</td>\n      <td>{}</td>\n      <td>{}</td>\n      <td>{}</td>\n    </tr>\n    <tr>\n      <th>4417</th>\n      <td>ZNUA-MONOMER</td>\n      <td>Zn&lt;sup&gt;2+&lt;/sup&gt; ABC transporter periplasmic bi...</td>\n      <td>[]</td>\n      <td>{}</td>\n      <td>{}</td>\n      <td>{'ZN+2': 1}</td>\n    </tr>\n    <tr>\n      <th>4418</th>\n      <td>ZNUB-MONOMER</td>\n      <td>Zn&lt;sup&gt;2+&lt;/sup&gt; ABC transporter membrane subunit</td>\n      <td>[]</td>\n      <td>{}</td>\n      <td>{}</td>\n      <td>{}</td>\n    </tr>\n    <tr>\n      <th>4419</th>\n      <td>ZNUC-MONOMER</td>\n      <td>Zn&lt;sup&gt;2+&lt;/sup&gt; ABC transporter ATP binding su...</td>\n      <td>[ATP]</td>\n      <td>{}</td>\n      <td>{}</td>\n      <td>{}</td>\n    </tr>\n  </tbody>\n</table>\n<p>4420 rows × 6 columns</p>\n</div>"
     },
     "execution_count": 9,
     "metadata": {},
     "output_type": "execute_result"
    }
   ],
   "source": [
    "filter_protein_df = filter_protein_df.drop(columns=['metal_features'])\n",
    "filter_protein_df"
   ],
   "metadata": {
    "collapsed": false,
    "ExecuteTime": {
     "end_time": "2023-07-26T20:58:49.295880Z",
     "start_time": "2023-07-26T20:58:49.265962Z"
    }
   }
  },
  {
   "cell_type": "code",
   "execution_count": 10,
   "outputs": [],
   "source": [
    "filter_protein_df['other_features_processed'] = 0\n",
    "filter_protein_df['other_features_processed'] = filter_protein_df['other_features_processed'].astype(object)\n",
    "\n",
    "ACCEPTED_OTHER_FEATURES = {'PYRIDOXAL_PHOSPHATE', 'THIAMINE-PYROPHOSPHATE', 'FMN', 'FAD'}\n",
    "\n",
    "for i in range(len(filter_protein_df.index)):\n",
    "\n",
    "    other_features = filter_protein_df.loc[i, 'other_features']\n",
    "\n",
    "    other_feature_count_dict = {}\n",
    "    existing_matches = set()\n",
    "\n",
    "    for feature in other_features:\n",
    "\n",
    "        # eliminate duplicates\n",
    "        if feature not in existing_matches:\n",
    "\n",
    "            existing_matches.add(feature)\n",
    "\n",
    "            if feature in ACCEPTED_OTHER_FEATURES:\n",
    "                if feature in other_feature_count_dict:\n",
    "                    other_feature_count_dict[feature] += 1\n",
    "                else:\n",
    "                    other_feature_count_dict[feature] = 1\n",
    "\n",
    "    filter_protein_df.at[i, 'other_features_processed'] = other_feature_count_dict"
   ],
   "metadata": {
    "collapsed": false,
    "ExecuteTime": {
     "end_time": "2023-07-26T20:58:49.368116Z",
     "start_time": "2023-07-26T20:58:49.269499Z"
    }
   }
  },
  {
   "cell_type": "code",
   "execution_count": 11,
   "outputs": [
    {
     "data": {
      "text/plain": "                                            id  \\\n0      1-ACYLGLYCEROL-3-P-ACYLTRANSFER-MONOMER   \n1                                1-PFK-MONOMER   \n2             2-DEHYDROPANTOATE-REDUCT-MONOMER   \n3                 2-ISOPROPYLMALATESYN-MONOMER   \n4     2-OCTAPRENYL-METHOXY-BENZOQ-METH-MONOMER   \n...                                        ...   \n4415                              YTFR-MONOMER   \n4416                              YTFT-MONOMER   \n4417                              ZNUA-MONOMER   \n4418                              ZNUB-MONOMER   \n4419                              ZNUC-MONOMER   \n\n                                            common_name  \\\n0     1-acylglycerol-3-phosphate <i>O</i>-acyltransf...   \n1                                 1-phosphofructokinase   \n2                         2-dehydropantoate 2-reductase   \n3                            2-isopropylmalate synthase   \n4     bifunctional 2-octaprenyl-6-methoxy-1,4-benzoq...   \n...                                                 ...   \n4415  galactofuranose ABC transporter putative ATP b...   \n4416  galactofuranose ABC transporter putative membr...   \n4417  Zn<sup>2+</sup> ABC transporter periplasmic bi...   \n4418   Zn<sup>2+</sup> ABC transporter membrane subunit   \n4419  Zn<sup>2+</sup> ABC transporter ATP binding su...   \n\n                                        enzyme_reaction cofactors  \\\n0     {ENZRXN0-7993, ENZRXN0-7991, ENZRXN0-6620, ENZ...        {}   \n1                                                    {}        {}   \n2                     {2-DEHYDROPANTOATE-REDUCT-ENZRXN}        {}   \n3                                        {ENZRXN0-6250}        {}   \n4     {2-OCTAPRENYL-METHOXY-BENZOQ-METH-ENZRXN, ADOM...        {}   \n...                                                 ...       ...   \n4415                                                 {}        {}   \n4416                                                 {}        {}   \n4417                                                 {}        {}   \n4418                                                 {}        {}   \n4419                                                 {}        {}   \n\n     metal_features_processed other_features_processed  \n0                          {}                       {}  \n1                          {}                       {}  \n2                          {}                       {}  \n3                          {}                       {}  \n4                          {}                       {}  \n...                       ...                      ...  \n4415                       {}                       {}  \n4416                       {}                       {}  \n4417              {'ZN+2': 1}                       {}  \n4418                       {}                       {}  \n4419                       {}                       {}  \n\n[4420 rows x 6 columns]",
      "text/html": "<div>\n<style scoped>\n    .dataframe tbody tr th:only-of-type {\n        vertical-align: middle;\n    }\n\n    .dataframe tbody tr th {\n        vertical-align: top;\n    }\n\n    .dataframe thead th {\n        text-align: right;\n    }\n</style>\n<table border=\"1\" class=\"dataframe\">\n  <thead>\n    <tr style=\"text-align: right;\">\n      <th></th>\n      <th>id</th>\n      <th>common_name</th>\n      <th>enzyme_reaction</th>\n      <th>cofactors</th>\n      <th>metal_features_processed</th>\n      <th>other_features_processed</th>\n    </tr>\n  </thead>\n  <tbody>\n    <tr>\n      <th>0</th>\n      <td>1-ACYLGLYCEROL-3-P-ACYLTRANSFER-MONOMER</td>\n      <td>1-acylglycerol-3-phosphate &lt;i&gt;O&lt;/i&gt;-acyltransf...</td>\n      <td>{ENZRXN0-7993, ENZRXN0-7991, ENZRXN0-6620, ENZ...</td>\n      <td>{}</td>\n      <td>{}</td>\n      <td>{}</td>\n    </tr>\n    <tr>\n      <th>1</th>\n      <td>1-PFK-MONOMER</td>\n      <td>1-phosphofructokinase</td>\n      <td>{}</td>\n      <td>{}</td>\n      <td>{}</td>\n      <td>{}</td>\n    </tr>\n    <tr>\n      <th>2</th>\n      <td>2-DEHYDROPANTOATE-REDUCT-MONOMER</td>\n      <td>2-dehydropantoate 2-reductase</td>\n      <td>{2-DEHYDROPANTOATE-REDUCT-ENZRXN}</td>\n      <td>{}</td>\n      <td>{}</td>\n      <td>{}</td>\n    </tr>\n    <tr>\n      <th>3</th>\n      <td>2-ISOPROPYLMALATESYN-MONOMER</td>\n      <td>2-isopropylmalate synthase</td>\n      <td>{ENZRXN0-6250}</td>\n      <td>{}</td>\n      <td>{}</td>\n      <td>{}</td>\n    </tr>\n    <tr>\n      <th>4</th>\n      <td>2-OCTAPRENYL-METHOXY-BENZOQ-METH-MONOMER</td>\n      <td>bifunctional 2-octaprenyl-6-methoxy-1,4-benzoq...</td>\n      <td>{2-OCTAPRENYL-METHOXY-BENZOQ-METH-ENZRXN, ADOM...</td>\n      <td>{}</td>\n      <td>{}</td>\n      <td>{}</td>\n    </tr>\n    <tr>\n      <th>...</th>\n      <td>...</td>\n      <td>...</td>\n      <td>...</td>\n      <td>...</td>\n      <td>...</td>\n      <td>...</td>\n    </tr>\n    <tr>\n      <th>4415</th>\n      <td>YTFR-MONOMER</td>\n      <td>galactofuranose ABC transporter putative ATP b...</td>\n      <td>{}</td>\n      <td>{}</td>\n      <td>{}</td>\n      <td>{}</td>\n    </tr>\n    <tr>\n      <th>4416</th>\n      <td>YTFT-MONOMER</td>\n      <td>galactofuranose ABC transporter putative membr...</td>\n      <td>{}</td>\n      <td>{}</td>\n      <td>{}</td>\n      <td>{}</td>\n    </tr>\n    <tr>\n      <th>4417</th>\n      <td>ZNUA-MONOMER</td>\n      <td>Zn&lt;sup&gt;2+&lt;/sup&gt; ABC transporter periplasmic bi...</td>\n      <td>{}</td>\n      <td>{}</td>\n      <td>{'ZN+2': 1}</td>\n      <td>{}</td>\n    </tr>\n    <tr>\n      <th>4418</th>\n      <td>ZNUB-MONOMER</td>\n      <td>Zn&lt;sup&gt;2+&lt;/sup&gt; ABC transporter membrane subunit</td>\n      <td>{}</td>\n      <td>{}</td>\n      <td>{}</td>\n      <td>{}</td>\n    </tr>\n    <tr>\n      <th>4419</th>\n      <td>ZNUC-MONOMER</td>\n      <td>Zn&lt;sup&gt;2+&lt;/sup&gt; ABC transporter ATP binding su...</td>\n      <td>{}</td>\n      <td>{}</td>\n      <td>{}</td>\n      <td>{}</td>\n    </tr>\n  </tbody>\n</table>\n<p>4420 rows × 6 columns</p>\n</div>"
     },
     "execution_count": 11,
     "metadata": {},
     "output_type": "execute_result"
    }
   ],
   "source": [
    "filter_protein_df = filter_protein_df.drop(columns=['other_features'])\n",
    "\n",
    "filter_protein_df"
   ],
   "metadata": {
    "collapsed": false,
    "ExecuteTime": {
     "end_time": "2023-07-26T20:58:49.399066Z",
     "start_time": "2023-07-26T20:58:49.353907Z"
    }
   }
  },
  {
   "cell_type": "code",
   "execution_count": 12,
   "outputs": [],
   "source": [
    "# filter_protein_df.to_parquet('notebooks/fbagd/data/processed_proteins.parquet', index=False)"
   ],
   "metadata": {
    "collapsed": false,
    "ExecuteTime": {
     "end_time": "2023-07-26T20:58:49.399445Z",
     "start_time": "2023-07-26T20:58:49.363582Z"
    }
   }
  },
  {
   "cell_type": "markdown",
   "source": [
    "# Annotate complexation with EcoCyc data"
   ],
   "metadata": {
    "collapsed": false
   }
  },
  {
   "cell_type": "code",
   "execution_count": 13,
   "outputs": [
    {
     "data": {
      "text/plain": "                                    id  \\\n0                                1-PFK   \n1                2OXOGLUTARATEDEH-CPLX   \n2          3-ISOPROPYLMALDEHYDROG-CPLX   \n3              3-ISOPROPYLMALISOM-CPLX   \n4     3-METHYL-2-OXOBUT-OHCH3XFER-CPLX   \n...                                ...   \n1063                        CPLX0-8053   \n1064                        CPLX0-8253   \n1065                          SRP-CPLX   \n1066                     CPLX0-7796APO   \n1067                         ARCB-CPLX   \n\n                                          stoichiometry  \n0                     {'1-PFK': 1, '1-PFK-MONOMER': -2}  \n1     {'2OXOGLUTARATEDEH-CPLX': 1, 'E1O': -1, 'E2O':...  \n2     {'3-ISOPROPYLMALDEHYDROG-CPLX': 1, '3-ISOPROPY...  \n3     {'3-ISOPROPYLMALISOM-CPLX': 1, 'LEUC-MONOMER':...  \n4     {'3-METHYL-2-OXOBUT-OHCH3XFER-CPLX': 1, '3-CH3...  \n...                                                 ...  \n1063           {'CPLX0-8053': 1, 'EG10942-MONOMER': -1}  \n1064  {'CPLX0-8253': 1, 'CSRC-RNA': -1, 'EG11447-MON...  \n1065  {'SRP-CPLX': 1, 'EG10300-MONOMER': -1, 'FFS-RN...  \n1066                {'CPLX0-7796APO': 1, 'PD04032': -2}  \n1067               {'ARCB-CPLX': 1, 'ARCB-MONOMER': -2}  \n\n[1068 rows x 2 columns]",
      "text/html": "<div>\n<style scoped>\n    .dataframe tbody tr th:only-of-type {\n        vertical-align: middle;\n    }\n\n    .dataframe tbody tr th {\n        vertical-align: top;\n    }\n\n    .dataframe thead th {\n        text-align: right;\n    }\n</style>\n<table border=\"1\" class=\"dataframe\">\n  <thead>\n    <tr style=\"text-align: right;\">\n      <th></th>\n      <th>id</th>\n      <th>stoichiometry</th>\n    </tr>\n  </thead>\n  <tbody>\n    <tr>\n      <th>0</th>\n      <td>1-PFK</td>\n      <td>{'1-PFK': 1, '1-PFK-MONOMER': -2}</td>\n    </tr>\n    <tr>\n      <th>1</th>\n      <td>2OXOGLUTARATEDEH-CPLX</td>\n      <td>{'2OXOGLUTARATEDEH-CPLX': 1, 'E1O': -1, 'E2O':...</td>\n    </tr>\n    <tr>\n      <th>2</th>\n      <td>3-ISOPROPYLMALDEHYDROG-CPLX</td>\n      <td>{'3-ISOPROPYLMALDEHYDROG-CPLX': 1, '3-ISOPROPY...</td>\n    </tr>\n    <tr>\n      <th>3</th>\n      <td>3-ISOPROPYLMALISOM-CPLX</td>\n      <td>{'3-ISOPROPYLMALISOM-CPLX': 1, 'LEUC-MONOMER':...</td>\n    </tr>\n    <tr>\n      <th>4</th>\n      <td>3-METHYL-2-OXOBUT-OHCH3XFER-CPLX</td>\n      <td>{'3-METHYL-2-OXOBUT-OHCH3XFER-CPLX': 1, '3-CH3...</td>\n    </tr>\n    <tr>\n      <th>...</th>\n      <td>...</td>\n      <td>...</td>\n    </tr>\n    <tr>\n      <th>1063</th>\n      <td>CPLX0-8053</td>\n      <td>{'CPLX0-8053': 1, 'EG10942-MONOMER': -1}</td>\n    </tr>\n    <tr>\n      <th>1064</th>\n      <td>CPLX0-8253</td>\n      <td>{'CPLX0-8253': 1, 'CSRC-RNA': -1, 'EG11447-MON...</td>\n    </tr>\n    <tr>\n      <th>1065</th>\n      <td>SRP-CPLX</td>\n      <td>{'SRP-CPLX': 1, 'EG10300-MONOMER': -1, 'FFS-RN...</td>\n    </tr>\n    <tr>\n      <th>1066</th>\n      <td>CPLX0-7796APO</td>\n      <td>{'CPLX0-7796APO': 1, 'PD04032': -2}</td>\n    </tr>\n    <tr>\n      <th>1067</th>\n      <td>ARCB-CPLX</td>\n      <td>{'ARCB-CPLX': 1, 'ARCB-MONOMER': -2}</td>\n    </tr>\n  </tbody>\n</table>\n<p>1068 rows × 2 columns</p>\n</div>"
     },
     "execution_count": 13,
     "metadata": {},
     "output_type": "execute_result"
    }
   ],
   "source": [
    "complex_df = pd.read_csv('reconstruction/ecoli/flat/complexation_reactions.tsv', sep='\\t').loc[:, ['id', 'stoichiometry']]\n",
    "\n",
    "\n",
    "removed_complexes = pd.read_csv('reconstruction/ecoli/flat/complexation_reactions_removed.tsv', sep='\\t')\n",
    "\n",
    "# remove rows where id starts with '#'\n",
    "complex_df = complex_df[~complex_df['id'].str.startswith('#')].reset_index(drop=True)\n",
    "\n",
    "# remove rows of complex_df where id matches an id in removed_complexes\n",
    "complex_df = complex_df[~complex_df['id'].isin(removed_complexes['id'])].reset_index(drop=True)\n",
    "complex_df.stoichiometry = complex_df.stoichiometry.astype(object)\n",
    "\n",
    "\n",
    "for i, stoich in enumerate(complex_df.loc[:, 'stoichiometry']):\n",
    "\n",
    "    if type(stoich) is str and stoich[0] == '{':\n",
    "        stoich = stoich.replace('null', '-1')\n",
    "        stoich = ast.literal_eval(stoich)\n",
    "\n",
    "        complex_df.at[i, 'stoichiometry'] = stoich\n",
    "\n",
    "    else:\n",
    "        complex_df.at[i, 'stoichiometry'] = {}\n",
    "\n",
    "\n",
    "# for each row, find dict entry with positive value\n",
    "for i in range(len(complex_df.index)):\n",
    "\n",
    "    stoich = complex_df.loc[i, 'stoichiometry']\n",
    "\n",
    "    for k,v in stoich.items():\n",
    "        if v > 0:\n",
    "            complex_df.at[i, 'id'] = k\n",
    "\n",
    "complex_df"
   ],
   "metadata": {
    "collapsed": false,
    "ExecuteTime": {
     "end_time": "2023-07-26T20:58:49.478048Z",
     "start_time": "2023-07-26T20:58:49.368225Z"
    }
   }
  },
  {
   "cell_type": "code",
   "execution_count": 14,
   "outputs": [
    {
     "name": "stdout",
     "output_type": "stream",
     "text": [
      "0\n",
      "100\n",
      "200\n",
      "CPLX0-2423 404\n",
      "300\n",
      "CPLX0-3976 404\n",
      "400\n",
      "500\n",
      "600\n",
      "700\n",
      "800\n",
      "900\n",
      "RECFOR-CPLX 404\n",
      "1000\n",
      "CPLX0-7796APO 404\n"
     ]
    }
   ],
   "source": [
    "complex_df[\"cofactors\"] = 0\n",
    "complex_df[\"cofactors\"] = complex_df[\"cofactors\"].astype(object)\n",
    "\n",
    "complex_df[\"enzyme_reaction\"] = 0\n",
    "complex_df[\"enzyme_reaction\"] = complex_df[\"enzyme_reaction\"].astype(object)\n",
    "\n",
    "for i in range(len(complex_df.index)):\n",
    "\n",
    "    if i % 100 == 0:\n",
    "        print(i)\n",
    "\n",
    "    complex = complex_df.loc[i, 'id']\n",
    "\n",
    "    req_str = f'https://websvc.biocyc.org/getxml?id=ECOLI:{complex}&detail=low'\n",
    "\n",
    "    r = s.get(req_str)\n",
    "    if r.status_code != 200:\n",
    "        print(complex, r.status_code)\n",
    "        complex_df.at[i, 'enzyme_reaction'] = set()\n",
    "        complex_df.at[i, 'cofactors'] = set()\n",
    "        continue\n",
    "\n",
    "    o = xmltodict.parse(r.content)['ptools-xml']['Protein']\n",
    "\n",
    "\n",
    "    # if enzyme\n",
    "    if 'catalyzes' in o:\n",
    "        o = o['catalyzes']['Enzymatic-Reaction']\n",
    "\n",
    "        if type(o) is dict:\n",
    "            o = [o]\n",
    "\n",
    "        cofactor_set = set()\n",
    "        enz_rxn_set = set()\n",
    "\n",
    "        for enzrxn in o:\n",
    "            enz_id = enzrxn['@frameid']\n",
    "\n",
    "            enz_rxn_set.add(enz_id)\n",
    "\n",
    "            enz_req_str = f'https://websvc.biocyc.org/getxml?id=ECOLI:{enz_id}&detail=high'\n",
    "\n",
    "            rz = s.get(enz_req_str)\n",
    "            oe = xmltodict.parse(rz.content)['ptools-xml']['Enzymatic-Reaction']\n",
    "\n",
    "            if \"cofactor\" in oe:\n",
    "                oe = oe['cofactor']\n",
    "\n",
    "                if type(oe) is dict:\n",
    "                    oe = [oe]\n",
    "\n",
    "                for cofactor in oe:\n",
    "                    cof = cofactor['Compound']['@frameid']\n",
    "                    cofactor_set.add(cof)\n",
    "\n",
    "        complex_df.at[i, 'enzyme_reaction'] = enz_rxn_set\n",
    "        complex_df.at[i, 'cofactors'] = cofactor_set\n",
    "\n",
    "    else:\n",
    "        complex_df.at[i, 'enzyme_reaction'] = set()\n",
    "        complex_df.at[i, 'cofactors'] = set()"
   ],
   "metadata": {
    "collapsed": false,
    "ExecuteTime": {
     "end_time": "2023-07-26T21:01:51.061914Z",
     "start_time": "2023-07-26T20:58:49.425847Z"
    }
   }
  },
  {
   "cell_type": "code",
   "execution_count": 15,
   "outputs": [],
   "source": [
    "# save complex_df to parquet in a way that preserves dicts\n"
   ],
   "metadata": {
    "collapsed": false,
    "ExecuteTime": {
     "end_time": "2023-07-26T21:01:51.063711Z",
     "start_time": "2023-07-26T21:01:51.062466Z"
    }
   }
  },
  {
   "cell_type": "code",
   "execution_count": 16,
   "outputs": [
    {
     "data": {
      "text/plain": "                                    id  \\\n0                                1-PFK   \n1                2OXOGLUTARATEDEH-CPLX   \n2          3-ISOPROPYLMALDEHYDROG-CPLX   \n3              3-ISOPROPYLMALISOM-CPLX   \n4     3-METHYL-2-OXOBUT-OHCH3XFER-CPLX   \n...                                ...   \n1063                        CPLX0-8053   \n1064                        CPLX0-8253   \n1065                          SRP-CPLX   \n1066                     CPLX0-7796APO   \n1067                         ARCB-CPLX   \n\n                                          stoichiometry  \\\n0                     {'1-PFK': 1, '1-PFK-MONOMER': -2}   \n1     {'2OXOGLUTARATEDEH-CPLX': 1, 'E1O': -1, 'E2O':...   \n2     {'3-ISOPROPYLMALDEHYDROG-CPLX': 1, '3-ISOPROPY...   \n3     {'3-ISOPROPYLMALISOM-CPLX': 1, 'LEUC-MONOMER':...   \n4     {'3-METHYL-2-OXOBUT-OHCH3XFER-CPLX': 1, '3-CH3...   \n...                                                 ...   \n1063           {'CPLX0-8053': 1, 'EG10942-MONOMER': -1}   \n1064  {'CPLX0-8253': 1, 'CSRC-RNA': -1, 'EG11447-MON...   \n1065  {'SRP-CPLX': 1, 'EG10300-MONOMER': -1, 'FFS-RN...   \n1066                {'CPLX0-7796APO': 1, 'PD04032': -2}   \n1067               {'ARCB-CPLX': 1, 'ARCB-MONOMER': -2}   \n\n                                             cofactors  \\\n0                                               [MG+2]   \n1     [FAD, THIAMINE-PYROPHOSPHATE, MG+2, LIPOIC-ACID]   \n2                                         [MG+2, MN+2]   \n3                                              [CPD-7]   \n4                                               [MG+2]   \n...                                                ...   \n1063                                                []   \n1064                                                []   \n1065                                                []   \n1066                                                []   \n1067                                                []   \n\n                           enzyme_reaction  \n0                  [1PFRUCTPHOSPHN-ENZRXN]  \n1                [2OXOGLUTARATEDEH-ENZRXN]  \n2          [3-ISOPROPYLMALDEHYDROG-ENZRXN]  \n3              [3-ISOPROPYLMALISOM-ENZRXN]  \n4     [3-METHYL-2-OXOBUT-OHCH3XFER-ENZRXN]  \n...                                    ...  \n1063                                    []  \n1064                                    []  \n1065                                    []  \n1066                                    []  \n1067                        [ENZRXN0-8568]  \n\n[1068 rows x 4 columns]",
      "text/html": "<div>\n<style scoped>\n    .dataframe tbody tr th:only-of-type {\n        vertical-align: middle;\n    }\n\n    .dataframe tbody tr th {\n        vertical-align: top;\n    }\n\n    .dataframe thead th {\n        text-align: right;\n    }\n</style>\n<table border=\"1\" class=\"dataframe\">\n  <thead>\n    <tr style=\"text-align: right;\">\n      <th></th>\n      <th>id</th>\n      <th>stoichiometry</th>\n      <th>cofactors</th>\n      <th>enzyme_reaction</th>\n    </tr>\n  </thead>\n  <tbody>\n    <tr>\n      <th>0</th>\n      <td>1-PFK</td>\n      <td>{'1-PFK': 1, '1-PFK-MONOMER': -2}</td>\n      <td>[MG+2]</td>\n      <td>[1PFRUCTPHOSPHN-ENZRXN]</td>\n    </tr>\n    <tr>\n      <th>1</th>\n      <td>2OXOGLUTARATEDEH-CPLX</td>\n      <td>{'2OXOGLUTARATEDEH-CPLX': 1, 'E1O': -1, 'E2O':...</td>\n      <td>[FAD, THIAMINE-PYROPHOSPHATE, MG+2, LIPOIC-ACID]</td>\n      <td>[2OXOGLUTARATEDEH-ENZRXN]</td>\n    </tr>\n    <tr>\n      <th>2</th>\n      <td>3-ISOPROPYLMALDEHYDROG-CPLX</td>\n      <td>{'3-ISOPROPYLMALDEHYDROG-CPLX': 1, '3-ISOPROPY...</td>\n      <td>[MG+2, MN+2]</td>\n      <td>[3-ISOPROPYLMALDEHYDROG-ENZRXN]</td>\n    </tr>\n    <tr>\n      <th>3</th>\n      <td>3-ISOPROPYLMALISOM-CPLX</td>\n      <td>{'3-ISOPROPYLMALISOM-CPLX': 1, 'LEUC-MONOMER':...</td>\n      <td>[CPD-7]</td>\n      <td>[3-ISOPROPYLMALISOM-ENZRXN]</td>\n    </tr>\n    <tr>\n      <th>4</th>\n      <td>3-METHYL-2-OXOBUT-OHCH3XFER-CPLX</td>\n      <td>{'3-METHYL-2-OXOBUT-OHCH3XFER-CPLX': 1, '3-CH3...</td>\n      <td>[MG+2]</td>\n      <td>[3-METHYL-2-OXOBUT-OHCH3XFER-ENZRXN]</td>\n    </tr>\n    <tr>\n      <th>...</th>\n      <td>...</td>\n      <td>...</td>\n      <td>...</td>\n      <td>...</td>\n    </tr>\n    <tr>\n      <th>1063</th>\n      <td>CPLX0-8053</td>\n      <td>{'CPLX0-8053': 1, 'EG10942-MONOMER': -1}</td>\n      <td>[]</td>\n      <td>[]</td>\n    </tr>\n    <tr>\n      <th>1064</th>\n      <td>CPLX0-8253</td>\n      <td>{'CPLX0-8253': 1, 'CSRC-RNA': -1, 'EG11447-MON...</td>\n      <td>[]</td>\n      <td>[]</td>\n    </tr>\n    <tr>\n      <th>1065</th>\n      <td>SRP-CPLX</td>\n      <td>{'SRP-CPLX': 1, 'EG10300-MONOMER': -1, 'FFS-RN...</td>\n      <td>[]</td>\n      <td>[]</td>\n    </tr>\n    <tr>\n      <th>1066</th>\n      <td>CPLX0-7796APO</td>\n      <td>{'CPLX0-7796APO': 1, 'PD04032': -2}</td>\n      <td>[]</td>\n      <td>[]</td>\n    </tr>\n    <tr>\n      <th>1067</th>\n      <td>ARCB-CPLX</td>\n      <td>{'ARCB-CPLX': 1, 'ARCB-MONOMER': -2}</td>\n      <td>[]</td>\n      <td>[ENZRXN0-8568]</td>\n    </tr>\n  </tbody>\n</table>\n<p>1068 rows × 4 columns</p>\n</div>"
     },
     "execution_count": 16,
     "metadata": {},
     "output_type": "execute_result"
    }
   ],
   "source": [
    "for col in ['enzyme_reaction', 'cofactors']:\n",
    "    complex_df[col] = complex_df[col].apply(lambda x: list(x))\n",
    "\n",
    "complex_df.to_parquet('notebooks/fbagd/data/raw_complexes.parquet', index=False, engine='fastparquet')\n",
    "complex_df"
   ],
   "metadata": {
    "collapsed": false,
    "ExecuteTime": {
     "end_time": "2023-07-26T21:01:51.121306Z",
     "start_time": "2023-07-26T21:01:51.066201Z"
    }
   }
  },
  {
   "cell_type": "markdown",
   "source": [
    "## Create new column for monomer component stoichiometry"
   ],
   "metadata": {
    "collapsed": false
   }
  },
  {
   "cell_type": "code",
   "execution_count": 17,
   "outputs": [],
   "source": [
    "test_complex_df = pd.read_parquet('notebooks/fbagd/data/raw_complexes.parquet')\n",
    "test_complex_df\n",
    "\n",
    "# convert cofactors and enzyme_reaction to str\n",
    "for col in ['stoichiometry', 'enzyme_reaction', 'cofactors']:\n",
    "    test_complex_df[col] = test_complex_df[col].astype(str)\n",
    "\n",
    "    # interpret as str literal\n",
    "    test_complex_df[col] = test_complex_df[col].apply(lambda x: ast.literal_eval(x))\n",
    "\n",
    "test_complex_df\n",
    "\n",
    "complex_ids = complex_df['id'].tolist()\n",
    "monomer_names = filter_protein_df['id'].tolist()"
   ],
   "metadata": {
    "collapsed": false,
    "ExecuteTime": {
     "end_time": "2023-07-26T21:01:51.187583Z",
     "start_time": "2023-07-26T21:01:51.122531Z"
    }
   }
  },
  {
   "cell_type": "code",
   "execution_count": 190,
   "outputs": [],
   "source": [
    "def recursive_component_tree(current_component_name, complex_table, protein_table,\n",
    "                             current_multiplier=1, component_list=None, parent=None, return_cofactors=False):\n",
    "    \"\"\"\n",
    "    Recursively find all downstream components of a given complex.\n",
    "    \"\"\"\n",
    "\n",
    "    complex_names = complex_table['id'].tolist()\n",
    "    monomer_names = protein_table['id'].tolist()\n",
    "\n",
    "\n",
    "    my_children = {}\n",
    "\n",
    "    if component_list is None:\n",
    "        component_list = []\n",
    "\n",
    "\n",
    "    if current_component_name in complex_names:\n",
    "\n",
    "\n",
    "        cplx_idx = complex_table.index[complex_table['id'] == current_component_name][0]\n",
    "        stoichiometry = complex_table.at[cplx_idx, 'stoichiometry']\n",
    "\n",
    "        direct_children = {k: abs(v) for k, v in stoichiometry.items() if v < 0}\n",
    "\n",
    "        for component_name, coefficient in stoichiometry.items():\n",
    "\n",
    "            if coefficient < 0 and component_name != current_component_name:\n",
    "\n",
    "                child_multiplier = abs(coefficient * current_multiplier)\n",
    "\n",
    "                new_child = recursive_component_tree(component_name, complex_table, protein_table,\n",
    "                                                     child_multiplier, component_list, current_component_name, return_cofactors)\n",
    "\n",
    "                my_children = my_children | new_child\n",
    "\n",
    "\n",
    "            elif coefficient > 0 and component_name == current_component_name:\n",
    "                continue\n",
    "\n",
    "            else:\n",
    "                raise ValueError(f\"key {component_name} and value {coefficient} for complex {component_name} not processed properly.\")\n",
    "\n",
    "        component_list.append({'name': current_component_name,'parent': parent, 'children': direct_children,\n",
    "                               'multiplier': int(current_multiplier), })\n",
    "\n",
    "\n",
    "    elif current_component_name in monomer_names:\n",
    "\n",
    "        # TODO check if enzrxn\n",
    "        if return_cofactors:\n",
    "            protein_idx = protein_table.index[protein_table['id'] == current_component_name][0]\n",
    "\n",
    "            protein_metals = protein_table.at[protein_idx, 'metal_features_processed']\n",
    "            protein_other = protein_table.at[protein_idx, 'other_features_processed']\n",
    "\n",
    "            table_cofactors = protein_metals | protein_other\n",
    "\n",
    "            if len(table_cofactors) > 0:\n",
    "                # TODO Add apo protein to component list\n",
    "                my_children = {}\n",
    "\n",
    "                for cofactor, cofactor_coefficient in table_cofactors.items():\n",
    "                    if table_cofactors[cofactor] !=  None:\n",
    "                        my_children[cofactor] = cofactor_coefficient\n",
    "                        component_list.append({'parent': current_component_name,\n",
    "                                               'name': cofactor,\n",
    "                                               'multiplier': abs(int(current_multiplier * cofactor_coefficient)),\n",
    "                                               'children': None})\n",
    "\n",
    "            component_list.append({'parent': parent, 'name': current_component_name, 'multiplier': current_multiplier, 'children': my_children})\n",
    "\n",
    "        else:\n",
    "            my_children = None\n",
    "            component_list.append({'parent': parent, 'name': current_component_name, 'multiplier': current_multiplier, 'children': None})\n",
    "\n",
    "\n",
    "\n",
    "    else:\n",
    "        print(f\"component {current_component_name} not found in complex or protein tables\")\n",
    "\n",
    "        return {}\n",
    "\n",
    "\n",
    "    if parent is None:\n",
    "        return {current_component_name: my_children}, component_list\n",
    "    else:\n",
    "        return {current_component_name: my_children}\n"
   ],
   "metadata": {
    "collapsed": false,
    "ExecuteTime": {
     "end_time": "2023-07-27T01:05:45.651719Z",
     "start_time": "2023-07-27T01:05:45.645477Z"
    }
   }
  },
  {
   "cell_type": "code",
   "execution_count": 191,
   "outputs": [
    {
     "name": "stdout",
     "output_type": "stream",
     "text": [
      "[{'children': None,\n",
      "  'multiplier': 4,\n",
      "  'name': 'HYAA-MONOMER',\n",
      "  'parent': 'FORMHYDROGI-CPLX'},\n",
      " {'children': None,\n",
      "  'multiplier': 4,\n",
      "  'name': 'HYAB-MONOMER',\n",
      "  'parent': 'FORMHYDROGI-CPLX'},\n",
      " {'children': None,\n",
      "  'multiplier': 2,\n",
      "  'name': 'HYAC-MONOMER',\n",
      "  'parent': 'FORMHYDROGI-CPLX'},\n",
      " {'children': {'HYAA-MONOMER': 2, 'HYAB-MONOMER': 2, 'HYAC-MONOMER': 1},\n",
      "  'multiplier': 2,\n",
      "  'name': 'FORMHYDROGI-CPLX',\n",
      "  'parent': 'CPLX0-8167'},\n",
      " {'children': {'FORMHYDROGI-CPLX': 2},\n",
      "  'multiplier': 1,\n",
      "  'name': 'CPLX0-8167',\n",
      "  'parent': None}]\n"
     ]
    }
   ],
   "source": [
    "complex_tree_structure, nodes = recursive_component_tree('CPLX0-8167', complex_df, filter_protein_df)\n",
    "pp.pprint(nodes)"
   ],
   "metadata": {
    "collapsed": false,
    "ExecuteTime": {
     "end_time": "2023-07-27T01:05:49.788836Z",
     "start_time": "2023-07-27T01:05:49.785240Z"
    }
   }
  },
  {
   "cell_type": "code",
   "execution_count": 192,
   "outputs": [
    {
     "name": "stdout",
     "output_type": "stream",
     "text": [
      "component CPLX0-7701 not found in complex or protein tables\n",
      "component CPLX0-7677 not found in complex or protein tables\n",
      "component MONOMER0-1781 not found in complex or protein tables\n",
      "component CPLX0-7702 not found in complex or protein tables\n",
      "component CSRB-RNA not found in complex or protein tables\n",
      "component RNPB-RNA not found in complex or protein tables\n",
      "component RRSA-RRNA not found in complex or protein tables\n",
      "component RRLA-RRNA not found in complex or protein tables\n",
      "component RRFA-RRNA not found in complex or protein tables\n",
      "component IS061-RNA not found in complex or protein tables\n",
      "component CSRC-RNA not found in complex or protein tables\n",
      "component FFS-RNA not found in complex or protein tables\n"
     ]
    }
   ],
   "source": [
    "complex_df['monomer_component_stoichiometry'] = 0\n",
    "complex_df['monomer_component_stoichiometry'] = complex_df['monomer_component_stoichiometry'].astype(object)\n",
    "\n",
    "for i in range(len(complex_df.index)):\n",
    "    complex_name = complex_df.loc[i, 'id']\n",
    "    complex_tree_structure, nodes = recursive_component_tree(complex_name, complex_df, filter_protein_df)\n",
    "\n",
    "    monomer_components = {node['name']: node['multiplier'] for node in nodes if node['children'] is None}\n",
    "\n",
    "    complex_df.at[i, 'monomer_component_stoichiometry'] = monomer_components"
   ],
   "metadata": {
    "collapsed": false,
    "ExecuteTime": {
     "end_time": "2023-07-27T01:05:53.593362Z",
     "start_time": "2023-07-27T01:05:53.436617Z"
    }
   }
  },
  {
   "cell_type": "code",
   "execution_count": 193,
   "outputs": [
    {
     "data": {
      "text/plain": "                                    id  \\\n0                                1-PFK   \n1                2OXOGLUTARATEDEH-CPLX   \n2          3-ISOPROPYLMALDEHYDROG-CPLX   \n3              3-ISOPROPYLMALISOM-CPLX   \n4     3-METHYL-2-OXOBUT-OHCH3XFER-CPLX   \n...                                ...   \n1063                        CPLX0-8053   \n1064                        CPLX0-8253   \n1065                          SRP-CPLX   \n1066                     CPLX0-7796APO   \n1067                         ARCB-CPLX   \n\n                        monomer_component_stoichiometry  \\\n0                                  {'1-PFK-MONOMER': 2}   \n1     {'E1O-MONOMER': 12, 'E2O-MONOMER': 24, 'E3-MON...   \n2                 {'3-ISOPROPYLMALDEHYDROG-MONOMER': 2}   \n3                {'LEUC-MONOMER': 1, 'LEUD-MONOMER': 1}   \n4      {'3-CH3-2-OXOBUTANOATE-OH-CH3-XFER-MONOMER': 10}   \n...                                                 ...   \n1063                             {'EG10942-MONOMER': 1}   \n1064                             {'EG11447-MONOMER': 9}   \n1065                             {'EG10300-MONOMER': 1}   \n1066                                     {'PD04032': 2}   \n1067                                {'ARCB-MONOMER': 2}   \n\n                                             cofactors  \n0                                               [MG+2]  \n1     [FAD, THIAMINE-PYROPHOSPHATE, MG+2, LIPOIC-ACID]  \n2                                         [MG+2, MN+2]  \n3                                              [CPD-7]  \n4                                               [MG+2]  \n...                                                ...  \n1063                                                []  \n1064                                                []  \n1065                                                []  \n1066                                                []  \n1067                                                []  \n\n[1068 rows x 3 columns]",
      "text/html": "<div>\n<style scoped>\n    .dataframe tbody tr th:only-of-type {\n        vertical-align: middle;\n    }\n\n    .dataframe tbody tr th {\n        vertical-align: top;\n    }\n\n    .dataframe thead th {\n        text-align: right;\n    }\n</style>\n<table border=\"1\" class=\"dataframe\">\n  <thead>\n    <tr style=\"text-align: right;\">\n      <th></th>\n      <th>id</th>\n      <th>monomer_component_stoichiometry</th>\n      <th>cofactors</th>\n    </tr>\n  </thead>\n  <tbody>\n    <tr>\n      <th>0</th>\n      <td>1-PFK</td>\n      <td>{'1-PFK-MONOMER': 2}</td>\n      <td>[MG+2]</td>\n    </tr>\n    <tr>\n      <th>1</th>\n      <td>2OXOGLUTARATEDEH-CPLX</td>\n      <td>{'E1O-MONOMER': 12, 'E2O-MONOMER': 24, 'E3-MON...</td>\n      <td>[FAD, THIAMINE-PYROPHOSPHATE, MG+2, LIPOIC-ACID]</td>\n    </tr>\n    <tr>\n      <th>2</th>\n      <td>3-ISOPROPYLMALDEHYDROG-CPLX</td>\n      <td>{'3-ISOPROPYLMALDEHYDROG-MONOMER': 2}</td>\n      <td>[MG+2, MN+2]</td>\n    </tr>\n    <tr>\n      <th>3</th>\n      <td>3-ISOPROPYLMALISOM-CPLX</td>\n      <td>{'LEUC-MONOMER': 1, 'LEUD-MONOMER': 1}</td>\n      <td>[CPD-7]</td>\n    </tr>\n    <tr>\n      <th>4</th>\n      <td>3-METHYL-2-OXOBUT-OHCH3XFER-CPLX</td>\n      <td>{'3-CH3-2-OXOBUTANOATE-OH-CH3-XFER-MONOMER': 10}</td>\n      <td>[MG+2]</td>\n    </tr>\n    <tr>\n      <th>...</th>\n      <td>...</td>\n      <td>...</td>\n      <td>...</td>\n    </tr>\n    <tr>\n      <th>1063</th>\n      <td>CPLX0-8053</td>\n      <td>{'EG10942-MONOMER': 1}</td>\n      <td>[]</td>\n    </tr>\n    <tr>\n      <th>1064</th>\n      <td>CPLX0-8253</td>\n      <td>{'EG11447-MONOMER': 9}</td>\n      <td>[]</td>\n    </tr>\n    <tr>\n      <th>1065</th>\n      <td>SRP-CPLX</td>\n      <td>{'EG10300-MONOMER': 1}</td>\n      <td>[]</td>\n    </tr>\n    <tr>\n      <th>1066</th>\n      <td>CPLX0-7796APO</td>\n      <td>{'PD04032': 2}</td>\n      <td>[]</td>\n    </tr>\n    <tr>\n      <th>1067</th>\n      <td>ARCB-CPLX</td>\n      <td>{'ARCB-MONOMER': 2}</td>\n      <td>[]</td>\n    </tr>\n  </tbody>\n</table>\n<p>1068 rows × 3 columns</p>\n</div>"
     },
     "execution_count": 193,
     "metadata": {},
     "output_type": "execute_result"
    }
   ],
   "source": [
    "filter_complex_df = complex_df.loc[:, [\"id\", \"monomer_component_stoichiometry\", \"cofactors\"]]\n",
    "filter_complex_df"
   ],
   "metadata": {
    "collapsed": false,
    "ExecuteTime": {
     "end_time": "2023-07-27T01:05:53.600892Z",
     "start_time": "2023-07-27T01:05:53.597192Z"
    }
   }
  },
  {
   "cell_type": "code",
   "execution_count": 194,
   "outputs": [],
   "source": [
    "# filter_complex_df.to_parquet('notebooks/fbagd/data/processed_complexes.parquet', index=False)"
   ],
   "metadata": {
    "collapsed": false,
    "ExecuteTime": {
     "end_time": "2023-07-27T01:05:53.677846Z",
     "start_time": "2023-07-27T01:05:53.656556Z"
    }
   }
  },
  {
   "cell_type": "markdown",
   "source": [
    "# Get cofactor elemental composition and more"
   ],
   "metadata": {
    "collapsed": false
   }
  },
  {
   "cell_type": "code",
   "execution_count": 195,
   "outputs": [
    {
     "name": "stdout",
     "output_type": "stream",
     "text": [
      "Any+2 404\n"
     ]
    }
   ],
   "source": [
    "# get set of all cofactors\n",
    "all_metal_cofactors = set()\n",
    "all_other_cofactors = set()\n",
    "\n",
    "for i in range(len(filter_protein_df.index)):\n",
    "\n",
    "    metal_cofactors = filter_protein_df.loc[i, 'metal_features_processed']\n",
    "    other_cofactors = filter_protein_df.loc[i, 'other_features_processed']\n",
    "\n",
    "    all_metal_cofactors = all_metal_cofactors | set(metal_cofactors.keys())\n",
    "    all_other_cofactors = all_other_cofactors | set(other_cofactors.keys())\n",
    "\n",
    "filter_cofactor_df = pd.DataFrame(columns=['id', 'elemental_composition'])\n",
    "filter_cofactor_df['id'] = list(all_metal_cofactors | all_other_cofactors)\n",
    "\n",
    "filter_cofactor_df['elemental_composition'] = 0\n",
    "filter_cofactor_df['elemental_composition'] = filter_cofactor_df['elemental_composition'].astype(object)\n",
    "\n",
    "# for each cofactor, get elemental composition\n",
    "for i in range(len(filter_cofactor_df.index)):\n",
    "\n",
    "    compound = filter_cofactor_df.loc[i, 'id']\n",
    "    atom_dict = {}\n",
    "\n",
    "    url_name = compound.replace('+', '%2b')\n",
    "\n",
    "    req_str = f'https://websvc.biocyc.org/getxml?id=ECOLI:{url_name}&detail=full'\n",
    "\n",
    "    r = s.get(req_str)\n",
    "    if r.status_code != 200:\n",
    "        print(compound, r.status_code)\n",
    "        filter_cofactor_df.at[i, 'elemental_composition'] = {}\n",
    "        continue\n",
    "\n",
    "    o = xmltodict.parse(r.content)['ptools-xml']\n",
    "\n",
    "    atoms = o['Compound']['cml']['molecule']['atomArray']['atom']\n",
    "    if type(atoms) is dict:\n",
    "        atoms = [atoms]\n",
    "\n",
    "    for atom in atoms:\n",
    "        element = atom['@elementType']\n",
    "\n",
    "        # either add new element or add to existing element\n",
    "        if element not in atom_dict:\n",
    "            atom_dict[element] = 1\n",
    "        else:\n",
    "            atom_dict[element] += 1\n",
    "\n",
    "    filter_cofactor_df.at[i, 'elemental_composition'] = atom_dict"
   ],
   "metadata": {
    "collapsed": false,
    "ExecuteTime": {
     "end_time": "2023-07-27T01:05:59.375562Z",
     "start_time": "2023-07-27T01:05:53.995353Z"
    }
   }
  },
  {
   "cell_type": "code",
   "execution_count": 196,
   "outputs": [
    {
     "data": {
      "text/plain": "                        id                              elemental_composition\n0                      NA+                                          {'NA': 1}\n1                     FE+2                                          {'FE': 1}\n2                     CU+2                                          {'CU': 1}\n3                     CA+2                                          {'CA': 1}\n4                     CO+2                                          {'CO': 1}\n5                     ZN+2                                          {'ZN': 1}\n6                     NI+2                                          {'NI': 1}\n7                      FMN                  {'C': 17, 'N': 4, 'O': 9, 'P': 1}\n8   THIAMINE-PYROPHOSPHATE          {'C': 12, 'N': 4, 'O': 7, 'P': 2, 'S': 1}\n9                       K+                                           {'K': 1}\n10                   CPD-3                                  {'MO': 1, 'O': 4}\n11                  3FE-4S                                  {'FE': 3, 'S': 4}\n12     PYRIDOXAL_PHOSPHATE                   {'C': 8, 'N': 1, 'O': 6, 'P': 1}\n13                   Any+2                                                 {}\n14                   CPD-6                          {'FE': 2, 'S': 6, 'R': 4}\n15                    MG+2                                          {'MG': 1}\n16                    MN+2                                          {'MN': 1}\n17                   CPD-7                                  {'FE': 4, 'S': 4}\n18                  Heme-b                 {'C': 34, 'N': 4, 'O': 4, 'FE': 1}\n19                CPD-8123  {'C': 10, 'N': 5, 'O': 8, 'P': 1, 'S': 2, 'MO'...\n20                     FAD                 {'C': 27, 'N': 9, 'O': 15, 'P': 2}",
      "text/html": "<div>\n<style scoped>\n    .dataframe tbody tr th:only-of-type {\n        vertical-align: middle;\n    }\n\n    .dataframe tbody tr th {\n        vertical-align: top;\n    }\n\n    .dataframe thead th {\n        text-align: right;\n    }\n</style>\n<table border=\"1\" class=\"dataframe\">\n  <thead>\n    <tr style=\"text-align: right;\">\n      <th></th>\n      <th>id</th>\n      <th>elemental_composition</th>\n    </tr>\n  </thead>\n  <tbody>\n    <tr>\n      <th>0</th>\n      <td>NA+</td>\n      <td>{'NA': 1}</td>\n    </tr>\n    <tr>\n      <th>1</th>\n      <td>FE+2</td>\n      <td>{'FE': 1}</td>\n    </tr>\n    <tr>\n      <th>2</th>\n      <td>CU+2</td>\n      <td>{'CU': 1}</td>\n    </tr>\n    <tr>\n      <th>3</th>\n      <td>CA+2</td>\n      <td>{'CA': 1}</td>\n    </tr>\n    <tr>\n      <th>4</th>\n      <td>CO+2</td>\n      <td>{'CO': 1}</td>\n    </tr>\n    <tr>\n      <th>5</th>\n      <td>ZN+2</td>\n      <td>{'ZN': 1}</td>\n    </tr>\n    <tr>\n      <th>6</th>\n      <td>NI+2</td>\n      <td>{'NI': 1}</td>\n    </tr>\n    <tr>\n      <th>7</th>\n      <td>FMN</td>\n      <td>{'C': 17, 'N': 4, 'O': 9, 'P': 1}</td>\n    </tr>\n    <tr>\n      <th>8</th>\n      <td>THIAMINE-PYROPHOSPHATE</td>\n      <td>{'C': 12, 'N': 4, 'O': 7, 'P': 2, 'S': 1}</td>\n    </tr>\n    <tr>\n      <th>9</th>\n      <td>K+</td>\n      <td>{'K': 1}</td>\n    </tr>\n    <tr>\n      <th>10</th>\n      <td>CPD-3</td>\n      <td>{'MO': 1, 'O': 4}</td>\n    </tr>\n    <tr>\n      <th>11</th>\n      <td>3FE-4S</td>\n      <td>{'FE': 3, 'S': 4}</td>\n    </tr>\n    <tr>\n      <th>12</th>\n      <td>PYRIDOXAL_PHOSPHATE</td>\n      <td>{'C': 8, 'N': 1, 'O': 6, 'P': 1}</td>\n    </tr>\n    <tr>\n      <th>13</th>\n      <td>Any+2</td>\n      <td>{}</td>\n    </tr>\n    <tr>\n      <th>14</th>\n      <td>CPD-6</td>\n      <td>{'FE': 2, 'S': 6, 'R': 4}</td>\n    </tr>\n    <tr>\n      <th>15</th>\n      <td>MG+2</td>\n      <td>{'MG': 1}</td>\n    </tr>\n    <tr>\n      <th>16</th>\n      <td>MN+2</td>\n      <td>{'MN': 1}</td>\n    </tr>\n    <tr>\n      <th>17</th>\n      <td>CPD-7</td>\n      <td>{'FE': 4, 'S': 4}</td>\n    </tr>\n    <tr>\n      <th>18</th>\n      <td>Heme-b</td>\n      <td>{'C': 34, 'N': 4, 'O': 4, 'FE': 1}</td>\n    </tr>\n    <tr>\n      <th>19</th>\n      <td>CPD-8123</td>\n      <td>{'C': 10, 'N': 5, 'O': 8, 'P': 1, 'S': 2, 'MO'...</td>\n    </tr>\n    <tr>\n      <th>20</th>\n      <td>FAD</td>\n      <td>{'C': 27, 'N': 9, 'O': 15, 'P': 2}</td>\n    </tr>\n  </tbody>\n</table>\n</div>"
     },
     "execution_count": 196,
     "metadata": {},
     "output_type": "execute_result"
    }
   ],
   "source": [
    "filter_cofactor_df"
   ],
   "metadata": {
    "collapsed": false,
    "ExecuteTime": {
     "end_time": "2023-07-27T01:05:59.389796Z",
     "start_time": "2023-07-27T01:05:59.380980Z"
    }
   }
  },
  {
   "cell_type": "code",
   "execution_count": 197,
   "outputs": [],
   "source": [
    "# save as parquet\n",
    "# filter_cofactor_df.to_parquet('notebooks/fbagd/data/processed_cofactors.parquet', index=False)"
   ],
   "metadata": {
    "collapsed": false,
    "ExecuteTime": {
     "end_time": "2023-07-27T01:05:59.389870Z",
     "start_time": "2023-07-27T01:05:59.383463Z"
    }
   }
  },
  {
   "cell_type": "markdown",
   "source": [
    "# For each complex, look up components and check how many are missing from protein features."
   ],
   "metadata": {
    "collapsed": false
   }
  },
  {
   "cell_type": "code",
   "execution_count": 198,
   "outputs": [],
   "source": [
    "# filter_protein_df = pd.read_parquet('notebooks/fbagd/data/processed_proteins.parquet')\n",
    "# filter_complex_df = pd.read_parquet('notebooks/fbagd/data/processed_complexes.parquet')\n",
    "# filter_cofactor_df = pd.read_parquet('notebooks/fbagd/data/processed_cofactors.parquet')"
   ],
   "metadata": {
    "collapsed": false,
    "ExecuteTime": {
     "end_time": "2023-07-27T01:05:59.389900Z",
     "start_time": "2023-07-27T01:05:59.385854Z"
    }
   }
  },
  {
   "cell_type": "code",
   "execution_count": 199,
   "outputs": [
    {
     "data": {
      "text/plain": "                                            id  \\\n0      1-ACYLGLYCEROL-3-P-ACYLTRANSFER-MONOMER   \n1                                1-PFK-MONOMER   \n2             2-DEHYDROPANTOATE-REDUCT-MONOMER   \n3                 2-ISOPROPYLMALATESYN-MONOMER   \n4     2-OCTAPRENYL-METHOXY-BENZOQ-METH-MONOMER   \n...                                        ...   \n4415                              YTFR-MONOMER   \n4416                              YTFT-MONOMER   \n4417                              ZNUA-MONOMER   \n4418                              ZNUB-MONOMER   \n4419                              ZNUC-MONOMER   \n\n                                            common_name  \\\n0     1-acylglycerol-3-phosphate <i>O</i>-acyltransf...   \n1                                 1-phosphofructokinase   \n2                         2-dehydropantoate 2-reductase   \n3                            2-isopropylmalate synthase   \n4     bifunctional 2-octaprenyl-6-methoxy-1,4-benzoq...   \n...                                                 ...   \n4415  galactofuranose ABC transporter putative ATP b...   \n4416  galactofuranose ABC transporter putative membr...   \n4417  Zn<sup>2+</sup> ABC transporter periplasmic bi...   \n4418   Zn<sup>2+</sup> ABC transporter membrane subunit   \n4419  Zn<sup>2+</sup> ABC transporter ATP binding su...   \n\n                                        enzyme_reaction cofactors  \\\n0     {ENZRXN0-7993, ENZRXN0-7991, ENZRXN0-6620, ENZ...        {}   \n1                                                    {}        {}   \n2                     {2-DEHYDROPANTOATE-REDUCT-ENZRXN}        {}   \n3                                        {ENZRXN0-6250}        {}   \n4     {2-OCTAPRENYL-METHOXY-BENZOQ-METH-ENZRXN, ADOM...        {}   \n...                                                 ...       ...   \n4415                                                 {}        {}   \n4416                                                 {}        {}   \n4417                                                 {}        {}   \n4418                                                 {}        {}   \n4419                                                 {}        {}   \n\n     metal_features_processed other_features_processed  \n0                          {}                       {}  \n1                          {}                       {}  \n2                          {}                       {}  \n3                          {}                       {}  \n4                          {}                       {}  \n...                       ...                      ...  \n4415                       {}                       {}  \n4416                       {}                       {}  \n4417              {'ZN+2': 1}                       {}  \n4418                       {}                       {}  \n4419                       {}                       {}  \n\n[4420 rows x 6 columns]",
      "text/html": "<div>\n<style scoped>\n    .dataframe tbody tr th:only-of-type {\n        vertical-align: middle;\n    }\n\n    .dataframe tbody tr th {\n        vertical-align: top;\n    }\n\n    .dataframe thead th {\n        text-align: right;\n    }\n</style>\n<table border=\"1\" class=\"dataframe\">\n  <thead>\n    <tr style=\"text-align: right;\">\n      <th></th>\n      <th>id</th>\n      <th>common_name</th>\n      <th>enzyme_reaction</th>\n      <th>cofactors</th>\n      <th>metal_features_processed</th>\n      <th>other_features_processed</th>\n    </tr>\n  </thead>\n  <tbody>\n    <tr>\n      <th>0</th>\n      <td>1-ACYLGLYCEROL-3-P-ACYLTRANSFER-MONOMER</td>\n      <td>1-acylglycerol-3-phosphate &lt;i&gt;O&lt;/i&gt;-acyltransf...</td>\n      <td>{ENZRXN0-7993, ENZRXN0-7991, ENZRXN0-6620, ENZ...</td>\n      <td>{}</td>\n      <td>{}</td>\n      <td>{}</td>\n    </tr>\n    <tr>\n      <th>1</th>\n      <td>1-PFK-MONOMER</td>\n      <td>1-phosphofructokinase</td>\n      <td>{}</td>\n      <td>{}</td>\n      <td>{}</td>\n      <td>{}</td>\n    </tr>\n    <tr>\n      <th>2</th>\n      <td>2-DEHYDROPANTOATE-REDUCT-MONOMER</td>\n      <td>2-dehydropantoate 2-reductase</td>\n      <td>{2-DEHYDROPANTOATE-REDUCT-ENZRXN}</td>\n      <td>{}</td>\n      <td>{}</td>\n      <td>{}</td>\n    </tr>\n    <tr>\n      <th>3</th>\n      <td>2-ISOPROPYLMALATESYN-MONOMER</td>\n      <td>2-isopropylmalate synthase</td>\n      <td>{ENZRXN0-6250}</td>\n      <td>{}</td>\n      <td>{}</td>\n      <td>{}</td>\n    </tr>\n    <tr>\n      <th>4</th>\n      <td>2-OCTAPRENYL-METHOXY-BENZOQ-METH-MONOMER</td>\n      <td>bifunctional 2-octaprenyl-6-methoxy-1,4-benzoq...</td>\n      <td>{2-OCTAPRENYL-METHOXY-BENZOQ-METH-ENZRXN, ADOM...</td>\n      <td>{}</td>\n      <td>{}</td>\n      <td>{}</td>\n    </tr>\n    <tr>\n      <th>...</th>\n      <td>...</td>\n      <td>...</td>\n      <td>...</td>\n      <td>...</td>\n      <td>...</td>\n      <td>...</td>\n    </tr>\n    <tr>\n      <th>4415</th>\n      <td>YTFR-MONOMER</td>\n      <td>galactofuranose ABC transporter putative ATP b...</td>\n      <td>{}</td>\n      <td>{}</td>\n      <td>{}</td>\n      <td>{}</td>\n    </tr>\n    <tr>\n      <th>4416</th>\n      <td>YTFT-MONOMER</td>\n      <td>galactofuranose ABC transporter putative membr...</td>\n      <td>{}</td>\n      <td>{}</td>\n      <td>{}</td>\n      <td>{}</td>\n    </tr>\n    <tr>\n      <th>4417</th>\n      <td>ZNUA-MONOMER</td>\n      <td>Zn&lt;sup&gt;2+&lt;/sup&gt; ABC transporter periplasmic bi...</td>\n      <td>{}</td>\n      <td>{}</td>\n      <td>{'ZN+2': 1}</td>\n      <td>{}</td>\n    </tr>\n    <tr>\n      <th>4418</th>\n      <td>ZNUB-MONOMER</td>\n      <td>Zn&lt;sup&gt;2+&lt;/sup&gt; ABC transporter membrane subunit</td>\n      <td>{}</td>\n      <td>{}</td>\n      <td>{}</td>\n      <td>{}</td>\n    </tr>\n    <tr>\n      <th>4419</th>\n      <td>ZNUC-MONOMER</td>\n      <td>Zn&lt;sup&gt;2+&lt;/sup&gt; ABC transporter ATP binding su...</td>\n      <td>{}</td>\n      <td>{}</td>\n      <td>{}</td>\n      <td>{}</td>\n    </tr>\n  </tbody>\n</table>\n<p>4420 rows × 6 columns</p>\n</div>"
     },
     "execution_count": 199,
     "metadata": {},
     "output_type": "execute_result"
    }
   ],
   "source": [
    "filter_protein_df"
   ],
   "metadata": {
    "collapsed": false,
    "ExecuteTime": {
     "end_time": "2023-07-27T01:05:59.403077Z",
     "start_time": "2023-07-27T01:05:59.387213Z"
    }
   }
  },
  {
   "cell_type": "code",
   "execution_count": 200,
   "outputs": [],
   "source": [
    "#  # for each complex, look up components and get cofactors for those components.\n",
    "# for i in range(len(filter_complex_df.index)):\n",
    "#     complex_id = filter_complex_df.loc[i, 'id']\n",
    "#     complex_components = filter_complex_df.loc[i, 'monomer_component_stoichiometry']\n",
    "#     complex_cofactors = filter_complex_df.loc[i, 'cofactors']\n",
    "#\n",
    "#     current_combined_features = set()\n",
    "#\n",
    "#\n",
    "#     for component_name, component_count in complex_components.items():\n",
    "#         # get index of component in filter_protein_df\n",
    "#         component_index = filter_protein_df.index[filter_protein_df['id'] == component_name].tolist()[0]\n",
    "#\n",
    "#\n",
    "#         component_metals = filter_protein_df.at[component_index, 'metal_features_processed']\n",
    "#         component_other = filter_protein_df.at[component_index, 'other_features_processed']\n",
    "#\n",
    "#         current_combined_features.update(set(component_metals.keys()))\n",
    "#         current_combined_features.update(set(component_other.keys()))\n",
    "#\n",
    "#         # print(f'component_name: {component_name}, component_metals: {component_metals}, component_other: {component_other}, cofactors: {complex_cofactors}')\n",
    "#\n",
    "#     # print difference between combined features and complex cofactors\n",
    "#     if len(complex_cofactors - current_combined_features) > 0:\n",
    "#         print(f'{complex_cofactors - current_combined_features}, {complex_id}, {current_combined_features}, {complex_cofactors}')\n",
    "#\n",
    "#\n",
    "#     filter_complex_df.at[i, 'cofactors'] = complex_cofactors"
   ],
   "metadata": {
    "collapsed": false,
    "ExecuteTime": {
     "end_time": "2023-07-27T01:05:59.429432Z",
     "start_time": "2023-07-27T01:05:59.398007Z"
    }
   }
  },
  {
   "cell_type": "markdown",
   "source": [
    "Seems neglible. Let's just use the protein features."
   ],
   "metadata": {
    "collapsed": false
   }
  },
  {
   "cell_type": "markdown",
   "source": [
    "## Create tree matrix (also for Julia)"
   ],
   "metadata": {
    "collapsed": false
   }
  },
  {
   "cell_type": "code",
   "execution_count": 246,
   "outputs": [
    {
     "name": "stdout",
     "output_type": "stream",
     "text": [
      "component CPLX0-7701 not found in complex or protein tables\n",
      "component CPLX0-7677 not found in complex or protein tables\n",
      "component MONOMER0-1781 not found in complex or protein tables\n",
      "component CPLX0-7702 not found in complex or protein tables\n",
      "component CSRB-RNA not found in complex or protein tables\n",
      "component RNPB-RNA not found in complex or protein tables\n",
      "component RRSA-RRNA not found in complex or protein tables\n",
      "component RRLA-RRNA not found in complex or protein tables\n",
      "component RRFA-RRNA not found in complex or protein tables\n",
      "component IS061-RNA not found in complex or protein tables\n",
      "component CSRC-RNA not found in complex or protein tables\n",
      "component FFS-RNA not found in complex or protein tables\n"
     ]
    }
   ],
   "source": [
    "# save names\n",
    "complex_ids = list(filter_complex_df['id'])\n",
    "protein_ids = list(filter_protein_df['id'])\n",
    "cofactor_ids = list(filter_cofactor_df['id'])\n",
    "\n",
    "\n",
    "name_idx = complex_ids + protein_ids + cofactor_ids\n",
    "tree_matrix = np.zeros([len(complex_ids) + len(protein_ids) + len(cofactor_ids), len(complex_ids) + len(protein_ids) + len(cofactor_ids)], dtype=np.int64)\n",
    "\n",
    "for i in range(len(filter_complex_df)):\n",
    "    name = filter_complex_df.at[i, 'id']\n",
    "    tree_structure, nodes = recursive_component_tree(name, complex_df, filter_protein_df, return_cofactors=True)\n",
    "\n",
    "    for node in nodes:\n",
    "        node_name = node['name']\n",
    "        node_children = node['children']\n",
    "\n",
    "        if node_children != None:\n",
    "            for child_name, child_coefficient in node_children.items():\n",
    "                if child_name in name_idx:\n",
    "                        tree_matrix[name_idx.index(node_name), name_idx.index(child_name)] = child_coefficient"
   ],
   "metadata": {
    "collapsed": false,
    "ExecuteTime": {
     "end_time": "2023-07-27T16:41:57.622245Z",
     "start_time": "2023-07-27T16:41:56.697330Z"
    }
   }
  },
  {
   "cell_type": "markdown",
   "source": [
    "# Create matrices to get cofactor counts"
   ],
   "metadata": {
    "collapsed": false
   }
  },
  {
   "cell_type": "code",
   "execution_count": 247,
   "outputs": [
    {
     "data": {
      "text/plain": "                                            id  \\\n0      1-ACYLGLYCEROL-3-P-ACYLTRANSFER-MONOMER   \n1                                1-PFK-MONOMER   \n2             2-DEHYDROPANTOATE-REDUCT-MONOMER   \n3                 2-ISOPROPYLMALATESYN-MONOMER   \n4     2-OCTAPRENYL-METHOXY-BENZOQ-METH-MONOMER   \n...                                        ...   \n4415                              YTFR-MONOMER   \n4416                              YTFT-MONOMER   \n4417                              ZNUA-MONOMER   \n4418                              ZNUB-MONOMER   \n4419                              ZNUC-MONOMER   \n\n                                            common_name  \\\n0     1-acylglycerol-3-phosphate <i>O</i>-acyltransf...   \n1                                 1-phosphofructokinase   \n2                         2-dehydropantoate 2-reductase   \n3                            2-isopropylmalate synthase   \n4     bifunctional 2-octaprenyl-6-methoxy-1,4-benzoq...   \n...                                                 ...   \n4415  galactofuranose ABC transporter putative ATP b...   \n4416  galactofuranose ABC transporter putative membr...   \n4417  Zn<sup>2+</sup> ABC transporter periplasmic bi...   \n4418   Zn<sup>2+</sup> ABC transporter membrane subunit   \n4419  Zn<sup>2+</sup> ABC transporter ATP binding su...   \n\n                                        enzyme_reaction cofactors  \\\n0     {ENZRXN0-7993, ENZRXN0-7991, ENZRXN0-6620, ENZ...        {}   \n1                                                    {}        {}   \n2                     {2-DEHYDROPANTOATE-REDUCT-ENZRXN}        {}   \n3                                        {ENZRXN0-6250}        {}   \n4     {2-OCTAPRENYL-METHOXY-BENZOQ-METH-ENZRXN, ADOM...        {}   \n...                                                 ...       ...   \n4415                                                 {}        {}   \n4416                                                 {}        {}   \n4417                                                 {}        {}   \n4418                                                 {}        {}   \n4419                                                 {}        {}   \n\n     metal_features_processed other_features_processed  \n0                          {}                       {}  \n1                          {}                       {}  \n2                          {}                       {}  \n3                          {}                       {}  \n4                          {}                       {}  \n...                       ...                      ...  \n4415                       {}                       {}  \n4416                       {}                       {}  \n4417              {'ZN+2': 1}                       {}  \n4418                       {}                       {}  \n4419                       {}                       {}  \n\n[4420 rows x 6 columns]",
      "text/html": "<div>\n<style scoped>\n    .dataframe tbody tr th:only-of-type {\n        vertical-align: middle;\n    }\n\n    .dataframe tbody tr th {\n        vertical-align: top;\n    }\n\n    .dataframe thead th {\n        text-align: right;\n    }\n</style>\n<table border=\"1\" class=\"dataframe\">\n  <thead>\n    <tr style=\"text-align: right;\">\n      <th></th>\n      <th>id</th>\n      <th>common_name</th>\n      <th>enzyme_reaction</th>\n      <th>cofactors</th>\n      <th>metal_features_processed</th>\n      <th>other_features_processed</th>\n    </tr>\n  </thead>\n  <tbody>\n    <tr>\n      <th>0</th>\n      <td>1-ACYLGLYCEROL-3-P-ACYLTRANSFER-MONOMER</td>\n      <td>1-acylglycerol-3-phosphate &lt;i&gt;O&lt;/i&gt;-acyltransf...</td>\n      <td>{ENZRXN0-7993, ENZRXN0-7991, ENZRXN0-6620, ENZ...</td>\n      <td>{}</td>\n      <td>{}</td>\n      <td>{}</td>\n    </tr>\n    <tr>\n      <th>1</th>\n      <td>1-PFK-MONOMER</td>\n      <td>1-phosphofructokinase</td>\n      <td>{}</td>\n      <td>{}</td>\n      <td>{}</td>\n      <td>{}</td>\n    </tr>\n    <tr>\n      <th>2</th>\n      <td>2-DEHYDROPANTOATE-REDUCT-MONOMER</td>\n      <td>2-dehydropantoate 2-reductase</td>\n      <td>{2-DEHYDROPANTOATE-REDUCT-ENZRXN}</td>\n      <td>{}</td>\n      <td>{}</td>\n      <td>{}</td>\n    </tr>\n    <tr>\n      <th>3</th>\n      <td>2-ISOPROPYLMALATESYN-MONOMER</td>\n      <td>2-isopropylmalate synthase</td>\n      <td>{ENZRXN0-6250}</td>\n      <td>{}</td>\n      <td>{}</td>\n      <td>{}</td>\n    </tr>\n    <tr>\n      <th>4</th>\n      <td>2-OCTAPRENYL-METHOXY-BENZOQ-METH-MONOMER</td>\n      <td>bifunctional 2-octaprenyl-6-methoxy-1,4-benzoq...</td>\n      <td>{2-OCTAPRENYL-METHOXY-BENZOQ-METH-ENZRXN, ADOM...</td>\n      <td>{}</td>\n      <td>{}</td>\n      <td>{}</td>\n    </tr>\n    <tr>\n      <th>...</th>\n      <td>...</td>\n      <td>...</td>\n      <td>...</td>\n      <td>...</td>\n      <td>...</td>\n      <td>...</td>\n    </tr>\n    <tr>\n      <th>4415</th>\n      <td>YTFR-MONOMER</td>\n      <td>galactofuranose ABC transporter putative ATP b...</td>\n      <td>{}</td>\n      <td>{}</td>\n      <td>{}</td>\n      <td>{}</td>\n    </tr>\n    <tr>\n      <th>4416</th>\n      <td>YTFT-MONOMER</td>\n      <td>galactofuranose ABC transporter putative membr...</td>\n      <td>{}</td>\n      <td>{}</td>\n      <td>{}</td>\n      <td>{}</td>\n    </tr>\n    <tr>\n      <th>4417</th>\n      <td>ZNUA-MONOMER</td>\n      <td>Zn&lt;sup&gt;2+&lt;/sup&gt; ABC transporter periplasmic bi...</td>\n      <td>{}</td>\n      <td>{}</td>\n      <td>{'ZN+2': 1}</td>\n      <td>{}</td>\n    </tr>\n    <tr>\n      <th>4418</th>\n      <td>ZNUB-MONOMER</td>\n      <td>Zn&lt;sup&gt;2+&lt;/sup&gt; ABC transporter membrane subunit</td>\n      <td>{}</td>\n      <td>{}</td>\n      <td>{}</td>\n      <td>{}</td>\n    </tr>\n    <tr>\n      <th>4419</th>\n      <td>ZNUC-MONOMER</td>\n      <td>Zn&lt;sup&gt;2+&lt;/sup&gt; ABC transporter ATP binding su...</td>\n      <td>{}</td>\n      <td>{}</td>\n      <td>{}</td>\n      <td>{}</td>\n    </tr>\n  </tbody>\n</table>\n<p>4420 rows × 6 columns</p>\n</div>"
     },
     "execution_count": 247,
     "metadata": {},
     "output_type": "execute_result"
    }
   ],
   "source": [
    "filter_protein_df"
   ],
   "metadata": {
    "collapsed": false,
    "ExecuteTime": {
     "end_time": "2023-07-27T16:41:59.852077Z",
     "start_time": "2023-07-27T16:41:59.848478Z"
    }
   }
  },
  {
   "cell_type": "code",
   "execution_count": 248,
   "outputs": [
    {
     "name": "stdout",
     "output_type": "stream",
     "text": [
      "component_name: EG10893-MONOMER, component_count: 2, component_index: 697\n",
      "component_name: RPOC-MONOMER, component_count: 1, component_index: 4108\n",
      "component_name: RPOB-MONOMER, component_count: 1, component_index: 4107\n"
     ]
    }
   ],
   "source": [
    "# create protein name to index mapping\n",
    "protein_name_to_index = {}\n",
    "for i in range(len(filter_protein_df.index)):\n",
    "    protein_name_to_index[filter_protein_df.at[i, 'id']] = i\n",
    "\n",
    "# C matrix: complexes x proteins\n",
    "C = np.zeros((len(filter_complex_df.index), len(filter_protein_df.index)))\n",
    "\n",
    "for i in range(len(filter_complex_df.index)):\n",
    "\n",
    "    complex_components = filter_complex_df.loc[i, 'monomer_component_stoichiometry']\n",
    "\n",
    "    # TODO consider cofactors\n",
    "    # complex_cofactors = filter_complex_df.loc[i, 'cofactors']\n",
    "\n",
    "\n",
    "    for component_name, component_count in complex_components.items():\n",
    "        if component_count is not None:             # side effect of parquet\n",
    "            # get index of component in filter_protein_df\n",
    "            component_index = protein_name_to_index[component_name]\n",
    "\n",
    "            if filter_complex_df.at[i, 'id'] == 'APORNAP-CPLX':\n",
    "                print(f'component_name: {component_name}, component_count: {component_count}, component_index: {component_index}')\n",
    "\n",
    "            C[i, component_index] = component_count\n",
    "\n",
    "# append an identity matrix to C\n",
    "C = np.concatenate((C, np.identity(len(filter_protein_df.index))), axis=0)\n",
    "\n",
    "C_names = list(filter_complex_df['id']) + list(filter_protein_df['id'])"
   ],
   "metadata": {
    "collapsed": false,
    "ExecuteTime": {
     "end_time": "2023-07-27T16:42:00.619707Z",
     "start_time": "2023-07-27T16:42:00.525346Z"
    }
   }
  },
  {
   "cell_type": "code",
   "execution_count": 249,
   "outputs": [
    {
     "data": {
      "text/plain": "'APORNAP-CPLX'"
     },
     "execution_count": 249,
     "metadata": {},
     "output_type": "execute_result"
    }
   ],
   "source": [
    "filter_complex_df.at[99, 'id']"
   ],
   "metadata": {
    "collapsed": false,
    "ExecuteTime": {
     "end_time": "2023-07-27T16:42:07.990627Z",
     "start_time": "2023-07-27T16:42:07.984516Z"
    }
   }
  },
  {
   "cell_type": "code",
   "execution_count": 250,
   "outputs": [],
   "source": [
    "# create cofactor name to index mapping\n",
    "cofactor_name_to_index = {}\n",
    "for i in range(len(filter_cofactor_df.index)):\n",
    "    cofactor_name_to_index[filter_cofactor_df.at[i, 'id']] = i\n",
    "\n",
    "cofactor_ids = list(filter_cofactor_df['id'])\n",
    "\n",
    "# P matrix: proteins x cofactors\n",
    "P = np.zeros((len(filter_protein_df.index), len(filter_cofactor_df.index)))\n",
    "\n",
    "for i in range(len(filter_protein_df.index)):\n",
    "    protein_metals = filter_protein_df.loc[i, 'metal_features_processed']\n",
    "    protein_other = filter_protein_df.loc[i, 'other_features_processed']\n",
    "\n",
    "    for metal, count in protein_metals.items():\n",
    "        if count is not None:             # side effect of parquet\n",
    "            cofactor_index = cofactor_name_to_index[metal]\n",
    "            P[i, cofactor_index] = count\n",
    "\n",
    "    for other, count in protein_other.items():\n",
    "        if count is not None:             # side effect of parquet\n",
    "            cofactor_index = cofactor_name_to_index[other]\n",
    "            P[i, cofactor_index] = count\n"
   ],
   "metadata": {
    "collapsed": false,
    "ExecuteTime": {
     "end_time": "2023-07-27T16:42:09.186493Z",
     "start_time": "2023-07-27T16:42:09.184955Z"
    }
   }
  },
  {
   "cell_type": "code",
   "execution_count": 251,
   "outputs": [
    {
     "data": {
      "text/plain": "array([[0., 0., 0., ..., 0., 0., 0.],\n       [0., 0., 0., ..., 0., 0., 0.],\n       [0., 0., 0., ..., 0., 0., 0.],\n       ...,\n       [0., 0., 0., ..., 0., 0., 0.],\n       [0., 0., 0., ..., 0., 0., 0.],\n       [0., 0., 0., ..., 0., 0., 0.]])"
     },
     "execution_count": 251,
     "metadata": {},
     "output_type": "execute_result"
    }
   ],
   "source": [
    "P"
   ],
   "metadata": {
    "collapsed": false,
    "ExecuteTime": {
     "end_time": "2023-07-27T16:42:09.885951Z",
     "start_time": "2023-07-27T16:42:09.882282Z"
    }
   }
  },
  {
   "cell_type": "code",
   "execution_count": 252,
   "outputs": [],
   "source": [
    "# create list of unique elements\n",
    "unique_elements = set()\n",
    "for i in range(len(filter_cofactor_df.index)):\n",
    "    cofactor = filter_cofactor_df.at[i, 'elemental_composition']\n",
    "    unique_elements.update(cofactor.keys())\n",
    "\n",
    "unique_elements = list(unique_elements)\n",
    "\n",
    "# create E matrix: cofactors x elements\n",
    "E = np.zeros((len(filter_cofactor_df.index), len(unique_elements)))\n",
    "\n",
    "for i in range(len(filter_cofactor_df.index)):\n",
    "    cofactor = filter_cofactor_df.at[i, 'elemental_composition']\n",
    "\n",
    "    for element, count in cofactor.items():\n",
    "        if count is not None:             # side effect of parquet\n",
    "            element_index = unique_elements.index(element)\n",
    "            E[i, element_index] = count\n",
    "\n",
    "\n",
    "element_ids = unique_elements"
   ],
   "metadata": {
    "collapsed": false,
    "ExecuteTime": {
     "end_time": "2023-07-27T16:42:10.421823Z",
     "start_time": "2023-07-27T16:42:10.419264Z"
    }
   }
  },
  {
   "cell_type": "code",
   "execution_count": 253,
   "outputs": [
    {
     "data": {
      "text/plain": "['MG',\n 'R',\n 'S',\n 'N',\n 'H',\n 'C',\n 'NI',\n 'P',\n 'K',\n 'O',\n 'MO',\n 'CU',\n 'ZN',\n 'NA',\n 'MN',\n 'CA',\n 'CO',\n 'FE']"
     },
     "execution_count": 253,
     "metadata": {},
     "output_type": "execute_result"
    }
   ],
   "source": [
    "unique_elements"
   ],
   "metadata": {
    "collapsed": false,
    "ExecuteTime": {
     "end_time": "2023-07-27T16:42:12.637165Z",
     "start_time": "2023-07-27T16:42:12.631609Z"
    }
   }
  },
  {
   "cell_type": "code",
   "execution_count": 254,
   "outputs": [],
   "source": [
    "C_to_E = C @ P @ E"
   ],
   "metadata": {
    "collapsed": false,
    "ExecuteTime": {
     "end_time": "2023-07-27T16:42:13.227622Z",
     "start_time": "2023-07-27T16:42:13.139976Z"
    }
   }
  },
  {
   "cell_type": "code",
   "execution_count": 255,
   "outputs": [
    {
     "data": {
      "text/plain": "'EG10471-MONOMER'"
     },
     "execution_count": 255,
     "metadata": {},
     "output_type": "execute_result"
    }
   ],
   "source": [
    "C_names[1577]"
   ],
   "metadata": {
    "collapsed": false,
    "ExecuteTime": {
     "end_time": "2023-07-27T16:42:13.444134Z",
     "start_time": "2023-07-27T16:42:13.429603Z"
    }
   }
  },
  {
   "cell_type": "markdown",
   "source": [
    "# Now ... add the counts >:o"
   ],
   "metadata": {
    "collapsed": false
   }
  },
  {
   "cell_type": "code",
   "execution_count": 256,
   "outputs": [],
   "source": [
    "time = '50'\n",
    "date = '2023-06-09'\n",
    "experiment = 'fba-redux'\n",
    "entry = f'{experiment}_{time}_{date}'\n",
    "folder = f'out/fbagd/{entry}/'"
   ],
   "metadata": {
    "collapsed": false,
    "ExecuteTime": {
     "end_time": "2023-07-27T16:42:14.147129Z",
     "start_time": "2023-07-27T16:42:14.143892Z"
    }
   }
  },
  {
   "cell_type": "code",
   "execution_count": 257,
   "outputs": [],
   "source": [
    "output = np.load(folder + 'output.npy',allow_pickle='TRUE').item()\n",
    "# output = np.load(r\"out/geneRxnVerifData/output_glc.npy\", allow_pickle=True, encoding='ASCII').tolist()\n",
    "output = output['agents']['0']\n",
    "fba = output['listeners']['fba_results']\n",
    "mass = output['listeners']['mass']\n",
    "bulk = pd.DataFrame(output['bulk'])"
   ],
   "metadata": {
    "collapsed": false,
    "ExecuteTime": {
     "end_time": "2023-07-27T16:42:15.369431Z",
     "start_time": "2023-07-27T16:42:14.948740Z"
    }
   }
  },
  {
   "cell_type": "code",
   "execution_count": 258,
   "outputs": [
    {
     "data": {
      "text/plain": "    0      1      2      3      4      5      6      7      8      9      ...  \\\n0       0      0      0      0      0      0      0      0      0      0  ...   \n1       0      0      0      0      0      0      0      0      0      0  ...   \n2       0      0      0      0      0      0      0      0      0      0  ...   \n3       0      0      0      0      0      0      0      0      0      0  ...   \n4       0      0      0      0      0      0      0      0      0      0  ...   \n5       0      0      0      0      0      0      0      0      0      0  ...   \n6       0      0      0      0      0      0      0      0      0      0  ...   \n7       0      0      0      0      0      0      0      0      0      0  ...   \n8       0      0      0      0      0      0      0      0      0      0  ...   \n9       0      0      0      0      0      0      0      0      0      0  ...   \n10      0      0      0      0      0      0      0      0      0      0  ...   \n11      0      0      0      0      0      0      0      0      0      0  ...   \n12      0      0      0      0      0      0      0      0      0      0  ...   \n13      0      0      0      0      0      0      0      0      0      0  ...   \n14      0      0      0      0      0      0      0      0      0      0  ...   \n15      0      0      0      0      0      0      0      0      0      0  ...   \n16      0      0      0      0      0      0      0      0      0      0  ...   \n17      0      0      0      0      0      0      0      0      0      0  ...   \n18      0      0      0      0      0      0      0      0      0      0  ...   \n19      0      0      0      0      0      0      0      0      0      0  ...   \n20      0      0      0      0      0      0      0      0      0      0  ...   \n21      0      0      0      0      0      0      0      0      0      0  ...   \n22      0      0      0      0      0      0      0      0      0      0  ...   \n23      0      0      0      0      0      0      0      0      0      0  ...   \n24      0      0      0      0      0      0      0      0      0      0  ...   \n25      0      0      0      0      0      0      0      0      0      0  ...   \n\n    40879  40880  40881  40882  40883  40884  40885  40886  40887  40888  \n0       0      0      0      0   1934   1006    864   1590   2772   3232  \n1       0      0      0      0   1936   1006    864   1590   2774   3232  \n2       0      0      0      0   1938   1006    864   1590   2774   3234  \n3       0      0      0      0   1940   1006    864   1590   2775   3234  \n4       0      0      0      0   1941   1006    864   1591   2776   3234  \n5       0      0      0      0   1941   1006    864   1591   2776   3235  \n6       0      0      0      0   1942   1007    866   1592   2776   3237  \n7       0      0      0      0   1941   1007    866   1594   2778   3237  \n8       0      0      0      0   1942   1007    866   1595   2780   3238  \n9       0      0      0      0   1942   1008    866   1595   2781   3239  \n10      0      0      0      0   1945   1008    866   1596   2782   3240  \n11      0      0      0      0   1947   1009    868   1599   2783   3242  \n12      0      0      0      0   1948   1009    868   1599   2783   3245  \n13      0      0      0      0   1948   1010    868   1599   2785   3246  \n14      0      0      0      0   1948   1010    869   1601   2786   3249  \n15      0      0      0      0   1949   1010    871   1602   2786   3251  \n16      0      0      0      0   1949   1011    871   1603   2786   3253  \n17      0      0      0      0   1950   1012    871   1604   2789   3257  \n18      0      0      0      0   1954   1012    871   1604   2789   3257  \n19      0      0      0      0   1957   1013    871   1606   2790   3257  \n20      0      0      0      0   1959   1014    871   1608   2791   3259  \n21      0      0      0      0   1959   1014    872   1609   2791   3261  \n22      0      0      0      0   1959   1014    872   1613   2791   3261  \n23      0      0      0      0   1959   1014    872   1613   2792   3262  \n24      0      0      0      0   1959   1014    872   1613   2794   3263  \n25      0      0      0      0   1960   1014    873   1614   2794   3264  \n\n[26 rows x 40889 columns]",
      "text/html": "<div>\n<style scoped>\n    .dataframe tbody tr th:only-of-type {\n        vertical-align: middle;\n    }\n\n    .dataframe tbody tr th {\n        vertical-align: top;\n    }\n\n    .dataframe thead th {\n        text-align: right;\n    }\n</style>\n<table border=\"1\" class=\"dataframe\">\n  <thead>\n    <tr style=\"text-align: right;\">\n      <th></th>\n      <th>0</th>\n      <th>1</th>\n      <th>2</th>\n      <th>3</th>\n      <th>4</th>\n      <th>5</th>\n      <th>6</th>\n      <th>7</th>\n      <th>8</th>\n      <th>9</th>\n      <th>...</th>\n      <th>40879</th>\n      <th>40880</th>\n      <th>40881</th>\n      <th>40882</th>\n      <th>40883</th>\n      <th>40884</th>\n      <th>40885</th>\n      <th>40886</th>\n      <th>40887</th>\n      <th>40888</th>\n    </tr>\n  </thead>\n  <tbody>\n    <tr>\n      <th>0</th>\n      <td>0</td>\n      <td>0</td>\n      <td>0</td>\n      <td>0</td>\n      <td>0</td>\n      <td>0</td>\n      <td>0</td>\n      <td>0</td>\n      <td>0</td>\n      <td>0</td>\n      <td>...</td>\n      <td>0</td>\n      <td>0</td>\n      <td>0</td>\n      <td>0</td>\n      <td>1934</td>\n      <td>1006</td>\n      <td>864</td>\n      <td>1590</td>\n      <td>2772</td>\n      <td>3232</td>\n    </tr>\n    <tr>\n      <th>1</th>\n      <td>0</td>\n      <td>0</td>\n      <td>0</td>\n      <td>0</td>\n      <td>0</td>\n      <td>0</td>\n      <td>0</td>\n      <td>0</td>\n      <td>0</td>\n      <td>0</td>\n      <td>...</td>\n      <td>0</td>\n      <td>0</td>\n      <td>0</td>\n      <td>0</td>\n      <td>1936</td>\n      <td>1006</td>\n      <td>864</td>\n      <td>1590</td>\n      <td>2774</td>\n      <td>3232</td>\n    </tr>\n    <tr>\n      <th>2</th>\n      <td>0</td>\n      <td>0</td>\n      <td>0</td>\n      <td>0</td>\n      <td>0</td>\n      <td>0</td>\n      <td>0</td>\n      <td>0</td>\n      <td>0</td>\n      <td>0</td>\n      <td>...</td>\n      <td>0</td>\n      <td>0</td>\n      <td>0</td>\n      <td>0</td>\n      <td>1938</td>\n      <td>1006</td>\n      <td>864</td>\n      <td>1590</td>\n      <td>2774</td>\n      <td>3234</td>\n    </tr>\n    <tr>\n      <th>3</th>\n      <td>0</td>\n      <td>0</td>\n      <td>0</td>\n      <td>0</td>\n      <td>0</td>\n      <td>0</td>\n      <td>0</td>\n      <td>0</td>\n      <td>0</td>\n      <td>0</td>\n      <td>...</td>\n      <td>0</td>\n      <td>0</td>\n      <td>0</td>\n      <td>0</td>\n      <td>1940</td>\n      <td>1006</td>\n      <td>864</td>\n      <td>1590</td>\n      <td>2775</td>\n      <td>3234</td>\n    </tr>\n    <tr>\n      <th>4</th>\n      <td>0</td>\n      <td>0</td>\n      <td>0</td>\n      <td>0</td>\n      <td>0</td>\n      <td>0</td>\n      <td>0</td>\n      <td>0</td>\n      <td>0</td>\n      <td>0</td>\n      <td>...</td>\n      <td>0</td>\n      <td>0</td>\n      <td>0</td>\n      <td>0</td>\n      <td>1941</td>\n      <td>1006</td>\n      <td>864</td>\n      <td>1591</td>\n      <td>2776</td>\n      <td>3234</td>\n    </tr>\n    <tr>\n      <th>5</th>\n      <td>0</td>\n      <td>0</td>\n      <td>0</td>\n      <td>0</td>\n      <td>0</td>\n      <td>0</td>\n      <td>0</td>\n      <td>0</td>\n      <td>0</td>\n      <td>0</td>\n      <td>...</td>\n      <td>0</td>\n      <td>0</td>\n      <td>0</td>\n      <td>0</td>\n      <td>1941</td>\n      <td>1006</td>\n      <td>864</td>\n      <td>1591</td>\n      <td>2776</td>\n      <td>3235</td>\n    </tr>\n    <tr>\n      <th>6</th>\n      <td>0</td>\n      <td>0</td>\n      <td>0</td>\n      <td>0</td>\n      <td>0</td>\n      <td>0</td>\n      <td>0</td>\n      <td>0</td>\n      <td>0</td>\n      <td>0</td>\n      <td>...</td>\n      <td>0</td>\n      <td>0</td>\n      <td>0</td>\n      <td>0</td>\n      <td>1942</td>\n      <td>1007</td>\n      <td>866</td>\n      <td>1592</td>\n      <td>2776</td>\n      <td>3237</td>\n    </tr>\n    <tr>\n      <th>7</th>\n      <td>0</td>\n      <td>0</td>\n      <td>0</td>\n      <td>0</td>\n      <td>0</td>\n      <td>0</td>\n      <td>0</td>\n      <td>0</td>\n      <td>0</td>\n      <td>0</td>\n      <td>...</td>\n      <td>0</td>\n      <td>0</td>\n      <td>0</td>\n      <td>0</td>\n      <td>1941</td>\n      <td>1007</td>\n      <td>866</td>\n      <td>1594</td>\n      <td>2778</td>\n      <td>3237</td>\n    </tr>\n    <tr>\n      <th>8</th>\n      <td>0</td>\n      <td>0</td>\n      <td>0</td>\n      <td>0</td>\n      <td>0</td>\n      <td>0</td>\n      <td>0</td>\n      <td>0</td>\n      <td>0</td>\n      <td>0</td>\n      <td>...</td>\n      <td>0</td>\n      <td>0</td>\n      <td>0</td>\n      <td>0</td>\n      <td>1942</td>\n      <td>1007</td>\n      <td>866</td>\n      <td>1595</td>\n      <td>2780</td>\n      <td>3238</td>\n    </tr>\n    <tr>\n      <th>9</th>\n      <td>0</td>\n      <td>0</td>\n      <td>0</td>\n      <td>0</td>\n      <td>0</td>\n      <td>0</td>\n      <td>0</td>\n      <td>0</td>\n      <td>0</td>\n      <td>0</td>\n      <td>...</td>\n      <td>0</td>\n      <td>0</td>\n      <td>0</td>\n      <td>0</td>\n      <td>1942</td>\n      <td>1008</td>\n      <td>866</td>\n      <td>1595</td>\n      <td>2781</td>\n      <td>3239</td>\n    </tr>\n    <tr>\n      <th>10</th>\n      <td>0</td>\n      <td>0</td>\n      <td>0</td>\n      <td>0</td>\n      <td>0</td>\n      <td>0</td>\n      <td>0</td>\n      <td>0</td>\n      <td>0</td>\n      <td>0</td>\n      <td>...</td>\n      <td>0</td>\n      <td>0</td>\n      <td>0</td>\n      <td>0</td>\n      <td>1945</td>\n      <td>1008</td>\n      <td>866</td>\n      <td>1596</td>\n      <td>2782</td>\n      <td>3240</td>\n    </tr>\n    <tr>\n      <th>11</th>\n      <td>0</td>\n      <td>0</td>\n      <td>0</td>\n      <td>0</td>\n      <td>0</td>\n      <td>0</td>\n      <td>0</td>\n      <td>0</td>\n      <td>0</td>\n      <td>0</td>\n      <td>...</td>\n      <td>0</td>\n      <td>0</td>\n      <td>0</td>\n      <td>0</td>\n      <td>1947</td>\n      <td>1009</td>\n      <td>868</td>\n      <td>1599</td>\n      <td>2783</td>\n      <td>3242</td>\n    </tr>\n    <tr>\n      <th>12</th>\n      <td>0</td>\n      <td>0</td>\n      <td>0</td>\n      <td>0</td>\n      <td>0</td>\n      <td>0</td>\n      <td>0</td>\n      <td>0</td>\n      <td>0</td>\n      <td>0</td>\n      <td>...</td>\n      <td>0</td>\n      <td>0</td>\n      <td>0</td>\n      <td>0</td>\n      <td>1948</td>\n      <td>1009</td>\n      <td>868</td>\n      <td>1599</td>\n      <td>2783</td>\n      <td>3245</td>\n    </tr>\n    <tr>\n      <th>13</th>\n      <td>0</td>\n      <td>0</td>\n      <td>0</td>\n      <td>0</td>\n      <td>0</td>\n      <td>0</td>\n      <td>0</td>\n      <td>0</td>\n      <td>0</td>\n      <td>0</td>\n      <td>...</td>\n      <td>0</td>\n      <td>0</td>\n      <td>0</td>\n      <td>0</td>\n      <td>1948</td>\n      <td>1010</td>\n      <td>868</td>\n      <td>1599</td>\n      <td>2785</td>\n      <td>3246</td>\n    </tr>\n    <tr>\n      <th>14</th>\n      <td>0</td>\n      <td>0</td>\n      <td>0</td>\n      <td>0</td>\n      <td>0</td>\n      <td>0</td>\n      <td>0</td>\n      <td>0</td>\n      <td>0</td>\n      <td>0</td>\n      <td>...</td>\n      <td>0</td>\n      <td>0</td>\n      <td>0</td>\n      <td>0</td>\n      <td>1948</td>\n      <td>1010</td>\n      <td>869</td>\n      <td>1601</td>\n      <td>2786</td>\n      <td>3249</td>\n    </tr>\n    <tr>\n      <th>15</th>\n      <td>0</td>\n      <td>0</td>\n      <td>0</td>\n      <td>0</td>\n      <td>0</td>\n      <td>0</td>\n      <td>0</td>\n      <td>0</td>\n      <td>0</td>\n      <td>0</td>\n      <td>...</td>\n      <td>0</td>\n      <td>0</td>\n      <td>0</td>\n      <td>0</td>\n      <td>1949</td>\n      <td>1010</td>\n      <td>871</td>\n      <td>1602</td>\n      <td>2786</td>\n      <td>3251</td>\n    </tr>\n    <tr>\n      <th>16</th>\n      <td>0</td>\n      <td>0</td>\n      <td>0</td>\n      <td>0</td>\n      <td>0</td>\n      <td>0</td>\n      <td>0</td>\n      <td>0</td>\n      <td>0</td>\n      <td>0</td>\n      <td>...</td>\n      <td>0</td>\n      <td>0</td>\n      <td>0</td>\n      <td>0</td>\n      <td>1949</td>\n      <td>1011</td>\n      <td>871</td>\n      <td>1603</td>\n      <td>2786</td>\n      <td>3253</td>\n    </tr>\n    <tr>\n      <th>17</th>\n      <td>0</td>\n      <td>0</td>\n      <td>0</td>\n      <td>0</td>\n      <td>0</td>\n      <td>0</td>\n      <td>0</td>\n      <td>0</td>\n      <td>0</td>\n      <td>0</td>\n      <td>...</td>\n      <td>0</td>\n      <td>0</td>\n      <td>0</td>\n      <td>0</td>\n      <td>1950</td>\n      <td>1012</td>\n      <td>871</td>\n      <td>1604</td>\n      <td>2789</td>\n      <td>3257</td>\n    </tr>\n    <tr>\n      <th>18</th>\n      <td>0</td>\n      <td>0</td>\n      <td>0</td>\n      <td>0</td>\n      <td>0</td>\n      <td>0</td>\n      <td>0</td>\n      <td>0</td>\n      <td>0</td>\n      <td>0</td>\n      <td>...</td>\n      <td>0</td>\n      <td>0</td>\n      <td>0</td>\n      <td>0</td>\n      <td>1954</td>\n      <td>1012</td>\n      <td>871</td>\n      <td>1604</td>\n      <td>2789</td>\n      <td>3257</td>\n    </tr>\n    <tr>\n      <th>19</th>\n      <td>0</td>\n      <td>0</td>\n      <td>0</td>\n      <td>0</td>\n      <td>0</td>\n      <td>0</td>\n      <td>0</td>\n      <td>0</td>\n      <td>0</td>\n      <td>0</td>\n      <td>...</td>\n      <td>0</td>\n      <td>0</td>\n      <td>0</td>\n      <td>0</td>\n      <td>1957</td>\n      <td>1013</td>\n      <td>871</td>\n      <td>1606</td>\n      <td>2790</td>\n      <td>3257</td>\n    </tr>\n    <tr>\n      <th>20</th>\n      <td>0</td>\n      <td>0</td>\n      <td>0</td>\n      <td>0</td>\n      <td>0</td>\n      <td>0</td>\n      <td>0</td>\n      <td>0</td>\n      <td>0</td>\n      <td>0</td>\n      <td>...</td>\n      <td>0</td>\n      <td>0</td>\n      <td>0</td>\n      <td>0</td>\n      <td>1959</td>\n      <td>1014</td>\n      <td>871</td>\n      <td>1608</td>\n      <td>2791</td>\n      <td>3259</td>\n    </tr>\n    <tr>\n      <th>21</th>\n      <td>0</td>\n      <td>0</td>\n      <td>0</td>\n      <td>0</td>\n      <td>0</td>\n      <td>0</td>\n      <td>0</td>\n      <td>0</td>\n      <td>0</td>\n      <td>0</td>\n      <td>...</td>\n      <td>0</td>\n      <td>0</td>\n      <td>0</td>\n      <td>0</td>\n      <td>1959</td>\n      <td>1014</td>\n      <td>872</td>\n      <td>1609</td>\n      <td>2791</td>\n      <td>3261</td>\n    </tr>\n    <tr>\n      <th>22</th>\n      <td>0</td>\n      <td>0</td>\n      <td>0</td>\n      <td>0</td>\n      <td>0</td>\n      <td>0</td>\n      <td>0</td>\n      <td>0</td>\n      <td>0</td>\n      <td>0</td>\n      <td>...</td>\n      <td>0</td>\n      <td>0</td>\n      <td>0</td>\n      <td>0</td>\n      <td>1959</td>\n      <td>1014</td>\n      <td>872</td>\n      <td>1613</td>\n      <td>2791</td>\n      <td>3261</td>\n    </tr>\n    <tr>\n      <th>23</th>\n      <td>0</td>\n      <td>0</td>\n      <td>0</td>\n      <td>0</td>\n      <td>0</td>\n      <td>0</td>\n      <td>0</td>\n      <td>0</td>\n      <td>0</td>\n      <td>0</td>\n      <td>...</td>\n      <td>0</td>\n      <td>0</td>\n      <td>0</td>\n      <td>0</td>\n      <td>1959</td>\n      <td>1014</td>\n      <td>872</td>\n      <td>1613</td>\n      <td>2792</td>\n      <td>3262</td>\n    </tr>\n    <tr>\n      <th>24</th>\n      <td>0</td>\n      <td>0</td>\n      <td>0</td>\n      <td>0</td>\n      <td>0</td>\n      <td>0</td>\n      <td>0</td>\n      <td>0</td>\n      <td>0</td>\n      <td>0</td>\n      <td>...</td>\n      <td>0</td>\n      <td>0</td>\n      <td>0</td>\n      <td>0</td>\n      <td>1959</td>\n      <td>1014</td>\n      <td>872</td>\n      <td>1613</td>\n      <td>2794</td>\n      <td>3263</td>\n    </tr>\n    <tr>\n      <th>25</th>\n      <td>0</td>\n      <td>0</td>\n      <td>0</td>\n      <td>0</td>\n      <td>0</td>\n      <td>0</td>\n      <td>0</td>\n      <td>0</td>\n      <td>0</td>\n      <td>0</td>\n      <td>...</td>\n      <td>0</td>\n      <td>0</td>\n      <td>0</td>\n      <td>0</td>\n      <td>1960</td>\n      <td>1014</td>\n      <td>873</td>\n      <td>1614</td>\n      <td>2794</td>\n      <td>3264</td>\n    </tr>\n  </tbody>\n</table>\n<p>26 rows × 40889 columns</p>\n</div>"
     },
     "execution_count": 258,
     "metadata": {},
     "output_type": "execute_result"
    }
   ],
   "source": [
    "bulk"
   ],
   "metadata": {
    "collapsed": false,
    "ExecuteTime": {
     "end_time": "2023-07-27T16:42:15.380328Z",
     "start_time": "2023-07-27T16:42:15.377262Z"
    }
   }
  },
  {
   "cell_type": "code",
   "execution_count": 274,
   "outputs": [],
   "source": [
    "f = open(folder + 'agent_steps.pkl', 'rb')\n",
    "agent = dill.load(f)\n",
    "f.close()\n",
    "\n",
    "metabolism = agent['ecoli-metabolism-redux']\n",
    "stoichiometry = metabolism.stoichiometry\n"
   ],
   "metadata": {
    "collapsed": false,
    "ExecuteTime": {
     "end_time": "2023-07-28T15:48:46.223346Z",
     "start_time": "2023-07-28T15:48:45.682813Z"
    }
   }
  },
  {
   "cell_type": "code",
   "execution_count": 275,
   "outputs": [],
   "source": [
    "initial_state = json.load(open('data/wcecoli_t0.json'))\n",
    "\n",
    "bulk_ids = [item[0] for item in initial_state['bulk']]\n",
    "\n",
    "bulk.columns = bulk_ids"
   ],
   "metadata": {
    "collapsed": false,
    "ExecuteTime": {
     "end_time": "2023-07-28T15:48:46.277139Z",
     "start_time": "2023-07-28T15:48:46.224199Z"
    }
   }
  },
  {
   "cell_type": "code",
   "execution_count": 276,
   "outputs": [
    {
     "name": "stdout",
     "output_type": "stream",
     "text": [
      "could not find MONOMER0-1241\n",
      "could not find MONOMER0-4223\n"
     ]
    }
   ],
   "source": [
    "ecocyc_to_wcm_map = {}\n",
    "\n",
    "# combined complex and protein names\n",
    "complex_protein_names = list(filter_protein_df['id']) + list(filter_complex_df['id'])\n",
    "\n",
    "for name in complex_protein_names:\n",
    "\n",
    "    # find complex name in bulk_ids\n",
    "    found = False\n",
    "\n",
    "    try:\n",
    "        idx = bulk_ids.index(name+'[c]')\n",
    "        ecocyc_to_wcm_map[name] = name+'[c]'\n",
    "        found = True\n",
    "        # print(f'found {complex_name} at {idx}')\n",
    "\n",
    "    except ValueError:\n",
    "        # delete key\n",
    "        found = False\n",
    "\n",
    "\n",
    "    if found == False:\n",
    "\n",
    "        for id in bulk_ids:\n",
    "            if name+'[' in id and id.startswith(name) and bulk.loc[:, id].sum() > 0:\n",
    "                #print(f'found {name} in {id} with nonzero count')\n",
    "                ecocyc_to_wcm_map[name] = id\n",
    "                found = True\n",
    "                break           # ensures preferring nonzero counts\n",
    "\n",
    "            elif name+'[' in id and id.startswith(name):\n",
    "                # print(f'found {name} in {id} with zero count')\n",
    "                ecocyc_to_wcm_map[name] = id\n",
    "                found = True\n",
    "\n",
    "    if found == False:\n",
    "        ecocyc_to_wcm_map[name] = '--TRANS-ACENAPHTHENE-12-DIOL[j]' # should be none\n",
    "        print(f'could not find {name}')\n"
   ],
   "metadata": {
    "collapsed": false,
    "ExecuteTime": {
     "end_time": "2023-07-28T15:48:55.818383Z",
     "start_time": "2023-07-28T15:48:46.842032Z"
    }
   }
  },
  {
   "cell_type": "code",
   "execution_count": 277,
   "outputs": [],
   "source": [
    "complex_wcm_names = [ecocyc_to_wcm_map[name] for name in C_names]\n",
    "\n",
    "counts = bulk.loc[0, complex_wcm_names]"
   ],
   "metadata": {
    "collapsed": false,
    "ExecuteTime": {
     "end_time": "2023-07-28T15:48:55.823369Z",
     "start_time": "2023-07-28T15:48:55.822110Z"
    }
   }
  },
  {
   "cell_type": "markdown",
   "source": [
    "# Finally ... add the counts >:o"
   ],
   "metadata": {
    "collapsed": false
   }
  },
  {
   "cell_type": "code",
   "execution_count": 278,
   "outputs": [],
   "source": [
    "factored_cofactor_elements = np.array(counts).reshape(-1,1) * C @ P @ E"
   ],
   "metadata": {
    "collapsed": false,
    "ExecuteTime": {
     "end_time": "2023-07-28T15:48:55.965375Z",
     "start_time": "2023-07-28T15:48:55.824542Z"
    }
   }
  },
  {
   "cell_type": "code",
   "execution_count": 279,
   "outputs": [
    {
     "data": {
      "text/plain": "array([[   0.,    0.,    0., ...,    0.,    0.,    0.],\n       [   0.,    0.,    0., ...,    0.,    0.,    0.],\n       [2098.,    0.,    0., ...,    0.,    0.,    0.],\n       ...,\n       [   0.,    0.,    0., ...,    0.,    0.,    0.],\n       [   0.,    0.,    0., ...,    0.,    0.,    0.],\n       [   0.,    0.,    0., ...,    0.,    0.,    0.]])"
     },
     "execution_count": 279,
     "metadata": {},
     "output_type": "execute_result"
    }
   ],
   "source": [
    "factored_cofactor_elements"
   ],
   "metadata": {
    "collapsed": false,
    "ExecuteTime": {
     "end_time": "2023-07-28T15:48:55.974841Z",
     "start_time": "2023-07-28T15:48:55.966967Z"
    }
   }
  },
  {
   "cell_type": "code",
   "execution_count": 295,
   "outputs": [
    {
     "data": {
      "text/plain": "{'MG': 246699.0,\n 'R': 70880.0,\n 'S': 251064.0,\n 'N': 345962.0,\n 'H': 702.0,\n 'C': 1554626.0,\n 'NI': 8625.0,\n 'P': 119428.0,\n 'K': 14221.0,\n 'O': 834498.0,\n 'MO': 1642.0,\n 'CU': 4872.0,\n 'ZN': 149239.0,\n 'NA': 1003.0,\n 'MN': 40243.0,\n 'CA': 10028.0,\n 'CO': 1018.0,\n 'FE': 219263.0}"
     },
     "execution_count": 295,
     "metadata": {},
     "output_type": "execute_result"
    }
   ],
   "source": [
    "{unique_elements[i]: factored_cofactor_elements.sum(axis=0)[i] for i in range(len(unique_elements))}"
   ],
   "metadata": {
    "collapsed": false,
    "ExecuteTime": {
     "end_time": "2023-07-31T21:34:48.984831Z",
     "start_time": "2023-07-31T21:34:48.978990Z"
    }
   }
  },
  {
   "cell_type": "code",
   "execution_count": 281,
   "outputs": [
    {
     "data": {
      "text/plain": "{'MG': 2674.0, 'ZN': 5348.0}"
     },
     "execution_count": 281,
     "metadata": {},
     "output_type": "execute_result"
    }
   ],
   "source": [
    "cidx = C_names.index('APORNAP-CPLX')\n",
    "{unique_elements[i]: factored_cofactor_elements[cidx,i] for i in range(len(unique_elements)) if factored_cofactor_elements[cidx,i] > 0}"
   ],
   "metadata": {
    "collapsed": false,
    "ExecuteTime": {
     "end_time": "2023-07-28T15:48:56.008540Z",
     "start_time": "2023-07-28T15:48:55.984413Z"
    }
   }
  },
  {
   "cell_type": "markdown",
   "source": [
    "# Saving outputs to files compatible with Julia"
   ],
   "metadata": {
    "collapsed": false
   }
  },
  {
   "cell_type": "code",
   "execution_count": 282,
   "outputs": [],
   "source": [
    "complex_ids = list(filter_complex_df['id'])\n",
    "protein_ids = list(filter_protein_df['id'])\n",
    "cofactor_ids = list(filter_cofactor_df['id'])\n",
    "\n",
    "\n",
    "# save C, P and E to julia-compatible formats\n",
    "np.savetxt('notebooks/fbagd/data/C_matrix.csv', C.astype(np.int64), delimiter=',', fmt='%i')\n",
    "np.savetxt('notebooks/fbagd/data/P_matrix.csv', P.astype(np.int64), delimiter=',', fmt='%i')\n",
    "np.savetxt('notebooks/fbagd/data/E_matrix.csv', E.astype(np.int64), delimiter=',', fmt='%i')\n",
    "\n",
    "\n",
    "\n",
    "# write all names to single file with each list on a new line\n",
    "with open('notebooks/fbagd/data/complex_ids.txt', 'w') as f:\n",
    "    f.write('\\n'.join(complex_ids))\n",
    "with open('notebooks/fbagd/data/protein_ids.txt', 'w') as f:\n",
    "    f.write('\\n'.join(protein_ids))\n",
    "with open('notebooks/fbagd/data/cofactor_ids.txt', 'w') as f:\n",
    "    f.write('\\n'.join(cofactor_ids))\n",
    "with open('notebooks/fbagd/data/element_ids.txt', 'w') as f:\n",
    "    f.write('\\n'.join(element_ids))\n",
    "\n",
    "# write all names to single file with each list on a new line\n",
    "with open('notebooks/fbagd/data/complex_ids.txt', 'w') as f:\n",
    "    f.write('\\n'.join(complex_ids))\n",
    "with open('notebooks/fbagd/data/protein_ids.txt', 'w') as f:\n",
    "    f.write('\\n'.join(protein_ids))\n",
    "with open('notebooks/fbagd/data/cofactor_ids.txt', 'w') as f:\n",
    "    f.write('\\n'.join(cofactor_ids))\n",
    "\n",
    "\n",
    "# save counts of proteins and complexes\n",
    "np.savetxt('notebooks/fbagd/data/counts.csv', np.array(counts, dtype=np.int64), delimiter=',', fmt='%i')\n",
    "\n",
    "# save tree_matrix\n",
    "np.savetxt('notebooks/fbagd/data/tree_matrix.csv', tree_matrix, delimiter=',', fmt='%i')\n",
    "\n"
   ],
   "metadata": {
    "collapsed": false,
    "ExecuteTime": {
     "end_time": "2023-07-28T15:49:00.046184Z",
     "start_time": "2023-07-28T15:48:56.001938Z"
    }
   }
  },
  {
   "cell_type": "code",
   "execution_count": 294,
   "outputs": [
    {
     "data": {
      "text/plain": "                                    id  \\\n0                                1-PFK   \n1                2OXOGLUTARATEDEH-CPLX   \n2          3-ISOPROPYLMALDEHYDROG-CPLX   \n3              3-ISOPROPYLMALISOM-CPLX   \n4     3-METHYL-2-OXOBUT-OHCH3XFER-CPLX   \n...                                ...   \n1063                        CPLX0-8053   \n1064                        CPLX0-8253   \n1065                          SRP-CPLX   \n1066                     CPLX0-7796APO   \n1067                         ARCB-CPLX   \n\n                        monomer_component_stoichiometry  \\\n0                                  {'1-PFK-MONOMER': 2}   \n1     {'E1O-MONOMER': 12, 'E2O-MONOMER': 24, 'E3-MON...   \n2                 {'3-ISOPROPYLMALDEHYDROG-MONOMER': 2}   \n3                {'LEUC-MONOMER': 1, 'LEUD-MONOMER': 1}   \n4      {'3-CH3-2-OXOBUTANOATE-OH-CH3-XFER-MONOMER': 10}   \n...                                                 ...   \n1063                             {'EG10942-MONOMER': 1}   \n1064                             {'EG11447-MONOMER': 9}   \n1065                             {'EG10300-MONOMER': 1}   \n1066                                     {'PD04032': 2}   \n1067                                {'ARCB-MONOMER': 2}   \n\n                                             cofactors  \n0                                               [MG+2]  \n1     [FAD, THIAMINE-PYROPHOSPHATE, MG+2, LIPOIC-ACID]  \n2                                         [MG+2, MN+2]  \n3                                              [CPD-7]  \n4                                               [MG+2]  \n...                                                ...  \n1063                                                []  \n1064                                                []  \n1065                                                []  \n1066                                                []  \n1067                                                []  \n\n[1068 rows x 3 columns]",
      "text/html": "<div>\n<style scoped>\n    .dataframe tbody tr th:only-of-type {\n        vertical-align: middle;\n    }\n\n    .dataframe tbody tr th {\n        vertical-align: top;\n    }\n\n    .dataframe thead th {\n        text-align: right;\n    }\n</style>\n<table border=\"1\" class=\"dataframe\">\n  <thead>\n    <tr style=\"text-align: right;\">\n      <th></th>\n      <th>id</th>\n      <th>monomer_component_stoichiometry</th>\n      <th>cofactors</th>\n    </tr>\n  </thead>\n  <tbody>\n    <tr>\n      <th>0</th>\n      <td>1-PFK</td>\n      <td>{'1-PFK-MONOMER': 2}</td>\n      <td>[MG+2]</td>\n    </tr>\n    <tr>\n      <th>1</th>\n      <td>2OXOGLUTARATEDEH-CPLX</td>\n      <td>{'E1O-MONOMER': 12, 'E2O-MONOMER': 24, 'E3-MON...</td>\n      <td>[FAD, THIAMINE-PYROPHOSPHATE, MG+2, LIPOIC-ACID]</td>\n    </tr>\n    <tr>\n      <th>2</th>\n      <td>3-ISOPROPYLMALDEHYDROG-CPLX</td>\n      <td>{'3-ISOPROPYLMALDEHYDROG-MONOMER': 2}</td>\n      <td>[MG+2, MN+2]</td>\n    </tr>\n    <tr>\n      <th>3</th>\n      <td>3-ISOPROPYLMALISOM-CPLX</td>\n      <td>{'LEUC-MONOMER': 1, 'LEUD-MONOMER': 1}</td>\n      <td>[CPD-7]</td>\n    </tr>\n    <tr>\n      <th>4</th>\n      <td>3-METHYL-2-OXOBUT-OHCH3XFER-CPLX</td>\n      <td>{'3-CH3-2-OXOBUTANOATE-OH-CH3-XFER-MONOMER': 10}</td>\n      <td>[MG+2]</td>\n    </tr>\n    <tr>\n      <th>...</th>\n      <td>...</td>\n      <td>...</td>\n      <td>...</td>\n    </tr>\n    <tr>\n      <th>1063</th>\n      <td>CPLX0-8053</td>\n      <td>{'EG10942-MONOMER': 1}</td>\n      <td>[]</td>\n    </tr>\n    <tr>\n      <th>1064</th>\n      <td>CPLX0-8253</td>\n      <td>{'EG11447-MONOMER': 9}</td>\n      <td>[]</td>\n    </tr>\n    <tr>\n      <th>1065</th>\n      <td>SRP-CPLX</td>\n      <td>{'EG10300-MONOMER': 1}</td>\n      <td>[]</td>\n    </tr>\n    <tr>\n      <th>1066</th>\n      <td>CPLX0-7796APO</td>\n      <td>{'PD04032': 2}</td>\n      <td>[]</td>\n    </tr>\n    <tr>\n      <th>1067</th>\n      <td>ARCB-CPLX</td>\n      <td>{'ARCB-MONOMER': 2}</td>\n      <td>[]</td>\n    </tr>\n  </tbody>\n</table>\n<p>1068 rows × 3 columns</p>\n</div>"
     },
     "execution_count": 294,
     "metadata": {},
     "output_type": "execute_result"
    }
   ],
   "source": [
    "filter_complex_df"
   ],
   "metadata": {
    "collapsed": false,
    "ExecuteTime": {
     "end_time": "2023-07-28T19:19:01.643184Z",
     "start_time": "2023-07-28T19:19:01.637766Z"
    }
   }
  },
  {
   "cell_type": "code",
   "execution_count": 293,
   "outputs": [
    {
     "name": "stdout",
     "output_type": "stream",
     "text": [
      "AICARTRANSIMPCYCLO-CPLX\n"
     ]
    }
   ],
   "source": [
    "for name in protein_ids:\n",
    "    if 'CPLX' in name:\n",
    "        print(name)"
   ],
   "metadata": {
    "collapsed": false,
    "ExecuteTime": {
     "end_time": "2023-07-28T15:50:21.364228Z",
     "start_time": "2023-07-28T15:50:21.355605Z"
    }
   }
  },
  {
   "cell_type": "code",
   "execution_count": 288,
   "outputs": [
    {
     "data": {
      "text/plain": "10"
     },
     "execution_count": 288,
     "metadata": {},
     "output_type": "execute_result"
    }
   ],
   "source": [
    "counts[ecocyc_to_wcm_map[\"NAP-CPLX\"]]"
   ],
   "metadata": {
    "collapsed": false,
    "ExecuteTime": {
     "end_time": "2023-07-28T15:49:30.820771Z",
     "start_time": "2023-07-28T15:49:30.815724Z"
    }
   }
  },
  {
   "cell_type": "code",
   "execution_count": 289,
   "outputs": [
    {
     "data": {
      "text/plain": "'NAP-CPLX[p]'"
     },
     "execution_count": 289,
     "metadata": {},
     "output_type": "execute_result"
    }
   ],
   "source": [
    "ecocyc_to_wcm_map[\"NAP-CPLX\"]"
   ],
   "metadata": {
    "collapsed": false,
    "ExecuteTime": {
     "end_time": "2023-07-28T15:49:31.937105Z",
     "start_time": "2023-07-28T15:49:31.925126Z"
    }
   }
  },
  {
   "cell_type": "code",
   "execution_count": 273,
   "outputs": [
    {
     "data": {
      "text/plain": "False"
     },
     "execution_count": 273,
     "metadata": {},
     "output_type": "execute_result"
    }
   ],
   "source": [
    "\"^\"+'NAP-CPLX'+\"[\" in 'NAP-CPLX['"
   ],
   "metadata": {
    "collapsed": false,
    "ExecuteTime": {
     "end_time": "2023-07-28T15:47:44.794669Z",
     "start_time": "2023-07-28T15:47:44.789911Z"
    }
   }
  },
  {
   "cell_type": "code",
   "execution_count": 291,
   "outputs": [
    {
     "data": {
      "text/plain": "['ARGDECARBOXDEG-MONOMER',\n 'ARGS-MONOMER',\n 'ARGSUCCINLYA-MONOMER',\n 'ARGSUCCINSYN-MONOMER',\n 'ARGSUCCTRAN-MONOMER',\n 'ARGT-MONOMER',\n 'AROA-MONOMER',\n 'AROB-MONOMER',\n 'AROC-MONOMER',\n 'AROD-MONOMER',\n 'AROE-MONOMER',\n 'AROF-MONOMER',\n 'AROG-MONOMER',\n 'AROH-MONOMER',\n 'AROK-MONOMER',\n 'AROL-MONOMER',\n 'AROP-MONOMER',\n 'ARSF-MONOMER',\n 'ARTI-MONOMER',\n 'ARTJ-MONOMER',\n 'ARTM-MONOMER',\n 'ARTP-MONOMER',\n 'ARTQ-MONOMER',\n 'ARYLSULFAT-MONOMER',\n 'ASCF-MONOMER',\n 'ASL-MONOMER',\n 'ASNS-MONOMER',\n 'ASNSYNA-MONOMER',\n 'ASNSYNB-MONOMER',\n 'ASP-SEMIALDEHYDE-DEHYDROGENASE-MONOMER',\n 'ASPAMINOTRANS-MONOMER',\n 'ASPARTASE-MONOMER',\n 'ASPCARBCAT-MONOMER',\n 'ASPCARBREG-MONOMER',\n 'ASPDECARBOX-MONOMER',\n 'ASPKINIHOMOSERDEHYDROGI-MONOMER',\n 'ASPKINIIHOMOSERDEHYDROGII-MONOMER',\n 'ASPKINIII-MONOMER',\n 'ASPS-MONOMER',\n 'ATOA-MONOMER',\n 'ATOC-MONOMER',\n 'ATOD-MONOMER',\n 'ATOS-MONOMER',\n 'ATPA-MONOMER',\n 'ATPB-MONOMER',\n 'ATPC-MONOMER',\n 'ATPD-MONOMER',\n 'ATPE-MONOMER',\n 'ATPF-MONOMER',\n 'ATPG-MONOMER',\n 'ATPH-MONOMER',\n 'ATPPHOSRIBOSTRANS-MONOMER',\n 'B0070-MONOMER',\n 'B0260-MONOMER',\n 'B0270-MONOMER',\n 'B0427-MONOMER',\n 'B0486-MONOMER',\n 'B0511-MONOMER',\n 'B0612-MONOMER',\n 'B0709-MONOMER',\n 'B0752-MONOMER',\n 'B0770-MONOMER',\n 'B0899-MONOMER',\n 'B1006-MONOMER',\n 'B1065-MONOMER',\n 'B1296-MONOMER',\n 'B1433-MONOMER',\n 'B1543-MONOMER',\n 'B1596-MONOMER',\n 'B1599-MONOMER',\n 'B1600-MONOMER',\n 'B1634-MONOMER',\n 'B1657-MONOMER',\n 'B1690-MONOMER',\n 'B1691-MONOMER',\n 'B1775-MONOMER',\n 'B1791-MONOMER',\n 'B1828-MONOMER',\n 'B2075-MONOMER',\n 'B2076-MONOMER',\n 'B2077-MONOMER',\n 'B2098-MONOMER',\n 'B2170-MONOMER',\n 'B2246-MONOMER',\n 'B2322-MONOMER',\n 'B2372-MONOMER',\n 'B2740-MONOMER',\n 'B2771-MONOMER',\n 'B2775-MONOMER',\n 'B2789-MONOMER',\n 'B2845-MONOMER',\n 'B2975-MONOMER',\n 'B3659-MONOMER',\n 'B4141-MONOMER',\n 'BADH-MONOMER',\n 'BAER-MONOMER',\n 'BAES-MONOMER',\n 'BARA-MONOMER',\n 'BASR-MONOMER',\n 'BASS-MONOMER',\n 'BCCP-MONOMER',\n 'BCR-MONOMER',\n 'BETA-GLUCURONID-MONOMER',\n 'BETACOMP-MONOMER',\n 'BETAGALACTOSID-MONOMER',\n 'BETT-MONOMER',\n 'BGLF-MONOMER',\n 'BIOTIN-CARBOXYL-MONOMER',\n 'BIOTIN-SYN-MONOMER',\n 'BIOTINLIG-MONOMER',\n 'BRANCHED-CHAINAMINOTRANSFER-MONOMER',\n 'BRNQ-MONOMER',\n 'BTUC-MONOMER',\n 'BTUD-MONOMER',\n 'BTUE-MONOMER',\n 'CADB-MONOMER',\n 'CAIC-MONOMER',\n 'CAIE-MONOMER',\n 'CAIT-MONOMER',\n 'CARBODEHYDRAT-MONOMER',\n 'CARBOXYL-TRANSFERASE-ALPHA-MONOMER',\n 'CARBOXYL-TRANSFERASE-BETA-MONOMER',\n 'CARBPSYN-LARGE',\n 'CARBPSYN-SMALL',\n 'CARDIOLIPSYN-MONOMER',\n 'CARNDEHYDRA-MONOMER',\n 'CARNRACE-MONOMER',\n 'CCMA-MONOMER',\n 'CCMB-MONOMER',\n 'CCMC-MONOMER',\n 'CCME-MONOMER',\n 'CDPDIGLYPYPHOSPHA-MONOMER',\n 'CDPDIGLYSYN-MONOMER',\n 'CELA-MONOMER',\n 'CELB-MONOMER',\n 'CELC-MONOMER',\n 'CFA-MONOMER',\n 'CHAA-MONOMER',\n 'CHAINF-MONOMER',\n 'CHAINI-MONOMER',\n 'CHD-MONOMER',\n 'CHEA-SMALL',\n 'CHEB-MONOMER',\n 'CHER-MONOMER',\n 'CHEW-MONOMER',\n 'CHEY-MONOMER',\n 'CHEZ-MONOMER',\n 'CHORISMUTPREPHENDEHYDRAT-MONOMER',\n 'CHORISMUTPREPHENDEHYDROG-MONOMER',\n 'CHORPYRLY-MONOMER',\n 'CITC-MONOMER',\n 'CITRYLY-MONOMER',\n 'CITSYN-MONOMER',\n 'CITTRANS-MONOMER',\n 'CMPKI-MONOMER',\n 'CMR-MONOMER',\n 'CMTA-MONOMER',\n 'CMTB-MONOMER',\n 'COBALADENOSYLTRANS-MONOMER',\n 'COBS-MONOMER',\n 'COBU-MONOMER',\n 'CODB-MONOMER',\n 'COPROGENOXI-MONOMER',\n 'CORA-MONOMER',\n 'CPDB-MONOMER',\n 'CPM-KDOSYNTH-MONOMER',\n 'CPXA-MONOMER',\n 'CPXR-MONOMER',\n 'CREB-MONOMER',\n 'CREC-MONOMER',\n 'CROBETREDUCT-MONOMER',\n 'CRR-MONOMER',\n 'CTPSYN-MONOMER',\n 'CYANLY-MONOMER',\n 'CYCA-MONOMER',\n 'CYCLASE-MONOMER',\n 'CYDA-MONOMER',\n 'CYDB-MONOMER',\n 'CYDC-MONOMER',\n 'CYDD-MONOMER',\n 'CYNX-MONOMER',\n 'CYOA-MONOMER',\n 'CYOB-MONOMER',\n 'CYOC-MONOMER',\n 'CYOD-MONOMER',\n 'CYSA-MONOMER',\n 'CYSD-MONOMER',\n 'CYSN-MONOMER',\n 'CYSP-MONOMER',\n 'CYSS-MONOMER',\n 'CYST-MONOMER',\n 'CYSTATHIONINE-BETA-LYASE-MONOMER',\n 'CYSW-MONOMER',\n 'CYTDEAM-MONOMER',\n 'CYTIDEAM-MONOMER',\n 'CYTOCHROME-B561-MONOMER',\n 'CYTOCHROMEC-MONOMER',\n 'CYTOCHROMEC552-MONOMER',\n 'DALADALALIGA-MONOMER',\n 'DALADALALIGB-MONOMER',\n 'DALADEHYDROGA-MONOMER',\n 'DAPASYN-MONOMER',\n 'DCTA-MONOMER',\n 'DCTP-DEAM-MONOMER',\n 'DCUA-MONOMER',\n 'DCUB-MONOMER',\n 'DCUC-MONOMER',\n 'DCUR-MONOMER',\n 'DCUS-MONOMER',\n 'DCYSDESULF-MONOMER',\n 'DEHYDDEOXGALACTKIN-MONOMER',\n 'DEHYDDEOXPHOSGALACT-ALDOL-MONOMER',\n 'DEOA-MONOMER',\n 'DEOD-MONOMER',\n 'DEOXYGLUCONOKIN-MONOMER',\n 'DEOXYRIBOSE-P-ALD-MONOMER',\n 'DETHIOBIOTIN-SYN-MONOMER',\n 'DGTPTRIPHYDRO-MONOMER',\n 'DHHB-METHYLTRANSFER-MONOMER',\n 'DHPDIOXYGEN-MONOMER',\n 'DIACYLGLYKIN-MONOMER',\n 'DIAMINOPIMDECARB-MONOMER',\n 'DIAMINOPIMEPIM-MONOMER',\n 'DIENOYLCOAREDUCT-MONOMER',\n 'DIHYDRODIPICSYN-MONOMER',\n 'DIHYDROFOLATEREDUCT-MONOMER',\n 'DIHYDROOROT-MONOMER',\n 'DIHYDROOROTOX-MONOMER',\n 'DIHYDROPICRED-MONOMER',\n 'DIHYDROPTERIREDUCT-MONOMER',\n 'DIHYDROXYACIDDEHYDRAT-MONOMER',\n 'DINF-MONOMER',\n 'DIOHBUTANONEPSYN-MONOMER',\n 'DISULFOXRED-MONOMER',\n 'DLACTDEHYDROGFAD-MONOMER',\n 'DLACTDEHYDROGNAD-MONOMER',\n 'DMBPPRIBOSYLTRANS-MONOMER',\n 'DMK-MONOMER',\n 'DMSA-MONOMER',\n 'DMSB-MONOMER',\n 'DMSC-MONOMER',\n 'DPPA-MONOMER',\n 'DPPB-MONOMER',\n 'DPPC-MONOMER',\n 'DPPD-MONOMER',\n 'DPPF-MONOMER',\n 'DSBBPROT-MONOMER',\n 'DSBC-MONOMER',\n 'DSBD-MONOMER',\n 'DSBG-MONOMER',\n 'DSDX-MONOMER',\n 'DSERDEAM-MONOMER',\n 'DTDPDEHYDRHAMEPIM-MONOMER',\n 'DTDPDEHYRHAMREDUCT-MONOMER',\n 'DTDPGLUCDEHYDRAT-MONOMER',\n 'DTDPGLUCDEHYDRAT2-MONOMER',\n 'DTDPGLUCOSEPP-MONOMER',\n 'DTDPGLUCOSEPP2-MONOMER',\n 'DTMPKI-MONOMER',\n 'DUTP-PYROP-MONOMER',\n 'DXPREDISOM-MONOMER',\n 'DXS-MONOMER',\n 'E1O-MONOMER',\n 'E1P-MONOMER',\n 'E2O-MONOMER',\n 'E2P-MONOMER',\n 'E3-MONOMER',\n 'EG10003-MONOMER',\n 'EG10004-MONOMER',\n 'EG10010-MONOMER',\n 'EG10011-MONOMER',\n 'EG10013-MONOMER',\n 'EG10015-MONOMER',\n 'EG10018-MONOMER',\n 'EG10021-MONOMER',\n 'EG10037-MONOMER',\n 'EG10040-MONOMER',\n 'EG10041-MONOMER',\n 'EG10042-MONOMER',\n 'EG10043-MONOMER',\n 'EG10044-MONOMER',\n 'EG10047-MONOMER',\n 'EG10048-MONOMER',\n 'EG10083-MONOMER',\n 'EG10085-MONOMER',\n 'EG10087-MONOMER',\n 'EG10090-MONOMER',\n 'EG10106-MONOMER',\n 'EG10108-MONOMER',\n 'EG10113-MONOMER',\n 'EG10114-MONOMER',\n 'EG10116-MONOMER',\n 'EG10119-MONOMER',\n 'EG10122-MONOMER',\n 'EG10124-MONOMER',\n 'EG10125-MONOMER',\n 'EG10126-MONOMER',\n 'EG10136-MONOMER',\n 'EG10143-MONOMER',\n 'EG10144-MONOMER',\n 'EG10145-MONOMER',\n 'EG10153-MONOMER',\n 'EG10154-MONOMER',\n 'EG10155-MONOMER',\n 'EG10156-MONOMER',\n 'EG10157-MONOMER',\n 'EG10158-MONOMER',\n 'EG10159-MONOMER',\n 'EG10167-MONOMER',\n 'EG10168-MONOMER',\n 'EG10169-MONOMER',\n 'EG10201-MONOMER',\n 'EG10202-MONOMER',\n 'EG10203-MONOMER',\n 'EG10204-MONOMER',\n 'EG10210-MONOMER',\n 'EG10211-MONOMER',\n 'EG10212-MONOMER',\n 'EG10215-MONOMER',\n 'EG10216-MONOMER',\n 'EG10218-MONOMER',\n 'EG10226-MONOMER',\n 'EG10227-MONOMER',\n 'EG10228-MONOMER',\n 'EG10229-MONOMER',\n 'EG10230-MONOMER',\n 'EG10236-MONOMER',\n 'EG10237-MONOMER',\n 'EG10238-MONOMER',\n 'EG10239-MONOMER',\n 'EG10240-MONOMER',\n 'EG10241-MONOMER',\n 'EG10242-MONOMER',\n 'EG10243-MONOMER',\n 'EG10244-MONOMER',\n 'EG10245-MONOMER',\n 'EG10246-MONOMER',\n 'EG10252-MONOMER',\n 'EG10253-MONOMER',\n 'EG10255-MONOMER',\n 'EG10266-MONOMER',\n 'EG10270-MONOMER',\n 'EG10271-MONOMER',\n 'EG10272-MONOMER',\n 'EG10280-MONOMER',\n 'EG10284-MONOMER',\n 'EG10286-MONOMER',\n 'EG10292-MONOMER',\n 'EG10293-MONOMER',\n 'EG10297-MONOMER',\n 'EG10299-MONOMER',\n 'EG10300-MONOMER',\n 'EG10302-MONOMER',\n 'EG10306-MONOMER',\n 'EG10307-MONOMER',\n 'EG10308-MONOMER',\n 'EG10309-MONOMER',\n 'EG10310-MONOMER',\n 'EG10311-MONOMER',\n 'EG10312-MONOMER',\n 'EG10313-MONOMER',\n 'EG10314-MONOMER',\n 'EG10315-MONOMER',\n 'EG10320-MONOMER',\n 'EG10321-MONOMER',\n 'EG10322-MONOMER',\n 'EG10329-MONOMER',\n 'EG10335-MONOMER',\n 'EG10339-MONOMER',\n 'EG10341-MONOMER',\n 'EG10342-MONOMER',\n 'EG10343-MONOMER',\n 'EG10344-MONOMER',\n 'EG10346-MONOMER',\n 'EG10347-MONOMER',\n 'EG10355-MONOMER',\n 'EG10360-MONOMER',\n 'EG10370-MONOMER',\n 'EG10373-MONOMER',\n 'EG10374-MONOMER',\n 'EG10375-MONOMER',\n 'EG10376-MONOMER',\n 'EG10381-MONOMER',\n 'EG10395-MONOMER',\n 'EG10397-MONOMER',\n 'EG10415-MONOMER',\n 'EG10416-MONOMER',\n 'EG10423-MONOMER',\n 'EG10424-MONOMER',\n 'EG10426-MONOMER',\n 'EG10434-MONOMER',\n 'EG10435-MONOMER',\n 'EG10436-MONOMER',\n 'EG10437-MONOMER',\n 'EG10438-MONOMER',\n 'EG10439-MONOMER',\n 'EG10442-MONOMER',\n 'EG10443-MONOMER',\n 'EG10454-MONOMER',\n 'EG10455-MONOMER',\n 'EG10456-MONOMER',\n 'EG10458-MONOMER',\n 'EG10459-MONOMER',\n 'EG10460-MONOMER',\n 'EG10461-MONOMER',\n 'EG10462-MONOMER',\n 'EG10463-MONOMER',\n 'EG10466-MONOMER',\n 'EG10467-MONOMER',\n 'EG10471-MONOMER',\n 'EG10472-MONOMER',\n 'EG10473-MONOMER',\n 'EG10474-MONOMER',\n 'EG10481-MONOMER',\n 'EG10483-MONOMER',\n 'EG10484-MONOMER',\n 'EG10485-MONOMER',\n 'EG10486-MONOMER',\n 'EG10487-MONOMER',\n 'EG10488-MONOMER',\n 'EG10490-MONOMER',\n 'EG10504-MONOMER',\n 'EG10505-MONOMER',\n 'EG10506-MONOMER',\n 'EG10507-MONOMER',\n 'EG10513-MONOMER',\n 'EG10515-MONOMER',\n 'EG10523-MONOMER',\n 'EG10528-MONOMER',\n 'EG10529-MONOMER',\n 'EG10530-MONOMER',\n 'EG10534-MONOMER',\n 'EG10535-MONOMER',\n 'EG10542-MONOMER',\n 'EG10544-MONOMER',\n 'EG10548-MONOMER',\n 'EG10559-MONOMER',\n 'EG10564-MONOMER',\n 'EG10570-MONOMER',\n 'EG10571-MONOMER',\n 'EG10572-MONOMER',\n 'EG10573-MONOMER',\n 'EG10574-MONOMER',\n 'EG10575-MONOMER',\n 'EG10580-MONOMER',\n 'EG10595-MONOMER',\n 'EG10596-MONOMER',\n 'EG10597-MONOMER',\n 'EG10598-MONOMER',\n 'EG10599-MONOMER',\n 'EG10600-MONOMER',\n 'EG10603-MONOMER',\n 'EG10605-MONOMER',\n 'EG10606-MONOMER',\n 'EG10607-MONOMER',\n 'EG10608-MONOMER',\n 'EG10609-MONOMER',\n 'EG10610-MONOMER',\n 'EG10611-MONOMER',\n 'EG10612-MONOMER',\n 'EG10613-MONOMER',\n 'EG10618-MONOMER',\n 'EG10624-MONOMER',\n 'EG10625-MONOMER',\n 'EG10626-MONOMER',\n 'EG10627-MONOMER',\n 'EG10634-MONOMER',\n 'EG10651-MONOMER',\n 'EG10656-MONOMER',\n 'EG10657-MONOMER',\n 'EG10658-MONOMER',\n 'EG10659-MONOMER',\n 'EG10662-MONOMER',\n 'EG10665-MONOMER',\n 'EG10666-MONOMER',\n 'EG10667-MONOMER',\n 'EG10668-MONOMER',\n 'EG10669-MONOMER',\n 'EG10670-MONOMER',\n 'EG10671-MONOMER',\n 'EG10673-MONOMER',\n 'EG10679-MONOMER',\n 'EG10680-MONOMER',\n 'EG10684-MONOMER',\n 'EG10686-MONOMER',\n 'EG10687-MONOMER',\n 'EG10689-MONOMER',\n 'EG10690-MONOMER',\n 'EG10694-MONOMER',\n 'EG10695-MONOMER',\n 'EG10696-MONOMER',\n 'EG10697-MONOMER',\n 'EG10698-MONOMER',\n 'EG10711-MONOMER',\n 'EG10712-MONOMER',\n 'EG10715-MONOMER',\n 'EG10716-MONOMER',\n 'EG10717-MONOMER',\n 'EG10718-MONOMER',\n 'EG10719-MONOMER',\n 'EG10722-MONOMER',\n 'EG10723-MONOMER',\n 'EG10724-MONOMER',\n 'EG10725-MONOMER',\n 'EG10735-MONOMER',\n 'EG10736-MONOMER',\n 'EG10737-MONOMER',\n 'EG10739-MONOMER',\n 'EG10741-MONOMER',\n 'EG10743-MONOMER',\n 'EG10746-MONOMER',\n 'EG10747-MONOMER',\n 'EG10748-MONOMER',\n 'EG10757-MONOMER',\n 'EG10758-MONOMER',\n 'EG10760-MONOMER',\n 'EG10761-MONOMER',\n 'EG10762-MONOMER',\n 'EG10763-MONOMER',\n 'EG10764-MONOMER',\n 'EG10765-MONOMER',\n 'EG10776-MONOMER',\n 'EG10777-MONOMER',\n 'EG10778-MONOMER',\n 'EG10779-MONOMER',\n 'EG10780-MONOMER',\n 'EG10785-MONOMER',\n 'EG10786-MONOMER',\n 'EG10812-MONOMER',\n 'EG10813-MONOMER',\n 'EG10817-MONOMER',\n 'EG10823-MONOMER',\n 'EG10824-MONOMER',\n 'EG10825-MONOMER',\n 'EG10826-MONOMER',\n 'EG10827-MONOMER',\n 'EG10828-MONOMER',\n 'EG10829-MONOMER',\n 'EG10830-MONOMER',\n 'EG10831-MONOMER',\n 'EG10832-MONOMER',\n 'EG10833-MONOMER',\n 'EG10834-MONOMER',\n 'EG10836-MONOMER',\n 'EG10837-MONOMER',\n 'EG10838-MONOMER',\n 'EG10839-MONOMER',\n 'EG10841-MONOMER',\n 'EG10844-MONOMER',\n 'EG10845-MONOMER',\n 'EG10846-MONOMER',\n 'EG10847-MONOMER',\n 'EG10848-MONOMER',\n 'EG10849-MONOMER',\n 'EG10850-MONOMER',\n 'EG10851-MONOMER',\n 'EG10852-MONOMER',\n 'EG10853-MONOMER',\n 'EG10854-MONOMER',\n 'EG10855-MONOMER',\n 'EG10856-MONOMER',\n 'EG10857-MONOMER',\n 'EG10858-MONOMER',\n 'EG10859-MONOMER',\n 'EG10860-MONOMER',\n 'EG10861-MONOMER',\n 'EG10862-MONOMER',\n 'EG10863-MONOMER',\n 'EG10864-MONOMER',\n 'EG10865-MONOMER',\n 'EG10866-MONOMER',\n 'EG10867-MONOMER',\n 'EG10868-MONOMER',\n 'EG10869-MONOMER',\n 'EG10870-MONOMER',\n 'EG10871-MONOMER',\n 'EG10872-MONOMER',\n 'EG10873-MONOMER',\n 'EG10874-MONOMER',\n 'EG10875-MONOMER',\n 'EG10876-MONOMER',\n 'EG10877-MONOMER',\n 'EG10878-MONOMER',\n 'EG10879-MONOMER',\n 'EG10880-MONOMER',\n 'EG10881-MONOMER',\n 'EG10882-MONOMER',\n 'EG10883-MONOMER',\n 'EG10884-MONOMER',\n 'EG10885-MONOMER',\n 'EG10886-MONOMER',\n 'EG10887-MONOMER',\n 'EG10888-MONOMER',\n 'EG10889-MONOMER',\n 'EG10890-MONOMER',\n 'EG10891-MONOMER',\n 'EG10892-MONOMER',\n 'EG10893-MONOMER',\n 'EG10899-MONOMER',\n 'EG10900-MONOMER',\n 'EG10901-MONOMER',\n 'EG10902-MONOMER',\n 'EG10903-MONOMER',\n 'EG10904-MONOMER',\n 'EG10905-MONOMER',\n 'EG10906-MONOMER',\n 'EG10907-MONOMER',\n 'EG10908-MONOMER',\n 'EG10909-MONOMER',\n 'EG10910-MONOMER',\n 'EG10911-MONOMER',\n 'EG10912-MONOMER',\n 'EG10913-MONOMER',\n 'EG10914-MONOMER',\n 'EG10915-MONOMER',\n 'EG10916-MONOMER',\n 'EG10917-MONOMER',\n 'EG10918-MONOMER',\n 'EG10919-MONOMER',\n 'EG10920-MONOMER',\n 'EG10921-MONOMER',\n 'EG10923-MONOMER',\n 'EG10924-MONOMER',\n 'EG10925-MONOMER',\n 'EG10926-MONOMER',\n 'EG10927-MONOMER',\n 'EG10941-MONOMER',\n 'EG10942-MONOMER',\n 'EG10943-MONOMER',\n 'EG10949-MONOMER',\n 'EG10950-MONOMER',\n 'EG10951-MONOMER',\n 'EG10952-MONOMER',\n 'EG10955-MONOMER',\n 'EG10956-MONOMER',\n 'EG10967-MONOMER',\n 'EG10968-MONOMER',\n 'EG10973-MONOMER',\n 'EG10975-MONOMER',\n 'EG10976-MONOMER',\n 'EG10977-MONOMER',\n 'EG10978-MONOMER',\n 'EG10983-MONOMER',\n 'EG10984-MONOMER',\n 'EG10985-MONOMER',\n 'EG10986-MONOMER',\n 'EG10996-MONOMER',\n 'EG10997-MONOMER',\n 'EG11003-MONOMER',\n 'EG11004-MONOMER',\n 'EG11007-MONOMER',\n 'EG11008-MONOMER',\n 'EG11009-MONOMER',\n 'EG11010-MONOMER',\n 'EG11011-MONOMER',\n 'EG11012-MONOMER',\n 'EG11013-MONOMER',\n 'EG11014-MONOMER',\n 'EG11016-MONOMER',\n 'EG11022-MONOMER',\n 'EG11023-MONOMER',\n 'EG11033-MONOMER',\n 'EG11035-MONOMER',\n 'EG11036-MONOMER',\n 'EG11037-MONOMER',\n 'EG11038-MONOMER',\n 'EG11056-MONOMER',\n 'EG11057-MONOMER',\n 'EG11058-MONOMER',\n 'EG11059-MONOMER',\n 'EG11061-MONOMER',\n 'EG11062-MONOMER',\n 'EG11063-MONOMER',\n 'EG11064-MONOMER',\n 'EG11068-MONOMER',\n 'EG11069-MONOMER',\n 'EG11071-MONOMER',\n 'EG11072-MONOMER',\n 'EG11073-MONOMER',\n 'EG11080-MONOMER',\n 'EG11081-MONOMER',\n 'EG11082-MONOMER',\n 'EG11083-MONOMER',\n 'EG11084-MONOMER',\n 'EG11085-MONOMER',\n 'EG11086-MONOMER',\n 'EG11087-MONOMER',\n 'EG11088-MONOMER',\n 'EG11089-MONOMER',\n 'EG11090-MONOMER',\n 'EG11091-MONOMER',\n 'EG11092-MONOMER',\n 'EG11093-MONOMER',\n 'EG11094-MONOMER',\n 'EG11095-MONOMER',\n 'EG11096-MONOMER',\n 'EG11097-MONOMER',\n 'EG11098-MONOMER',\n 'EG11099-MONOMER',\n 'EG11100-MONOMER',\n 'EG11101-MONOMER',\n 'EG11103-MONOMER',\n 'EG11105-MONOMER',\n 'EG11108-MONOMER',\n 'EG11110-MONOMER',\n 'EG11111-MONOMER',\n 'EG11112-MONOMER',\n 'EG11113-MONOMER',\n 'EG11116-MONOMER',\n 'EG11117-MONOMER',\n 'EG11118-MONOMER',\n 'EG11119-MONOMER',\n 'EG11120-MONOMER',\n 'EG11121-MONOMER',\n 'EG11122-MONOMER',\n 'EG11123-MONOMER',\n 'EG11124-MONOMER',\n 'EG11125-MONOMER',\n 'EG11126-MONOMER',\n 'EG11127-MONOMER',\n 'EG11128-MONOMER',\n 'EG11129-MONOMER',\n 'EG11130-MONOMER',\n 'EG11131-MONOMER',\n 'EG11132-MONOMER',\n 'EG11133-MONOMER',\n 'EG11134-MONOMER',\n 'EG11136-MONOMER',\n 'EG11137-MONOMER',\n 'EG11139-MONOMER',\n 'EG11140-MONOMER',\n 'EG11141-MONOMER',\n 'EG11142-MONOMER',\n 'EG11144-MONOMER',\n 'EG11145-MONOMER',\n 'EG11146-MONOMER',\n 'EG11147-MONOMER',\n 'EG11149-MONOMER',\n 'EG11151-MONOMER',\n 'EG11152-MONOMER',\n 'EG11153-MONOMER',\n 'EG11154-MONOMER',\n 'EG11155-MONOMER',\n 'EG11156-MONOMER',\n 'EG11157-MONOMER',\n 'EG11158-MONOMER',\n 'EG11160-MONOMER',\n 'EG11161-MONOMER',\n 'EG11162-MONOMER',\n 'EG11164-MONOMER',\n 'EG11165-MONOMER',\n 'EG11166-MONOMER',\n 'EG11167-MONOMER',\n 'EG11171-MONOMER',\n 'EG11173-MONOMER',\n 'EG11174-MONOMER',\n 'EG11177-MONOMER',\n 'EG11178-MONOMER',\n 'EG11179-MONOMER',\n 'EG11180-MONOMER',\n 'EG11181-MONOMER',\n 'EG11182-MONOMER',\n 'EG11183-MONOMER',\n 'EG11184-MONOMER',\n 'EG11186-MONOMER',\n 'EG11187-MONOMER',\n 'EG11188-MONOMER',\n 'EG11189-MONOMER',\n 'EG11191-MONOMER',\n 'EG11192-MONOMER',\n 'EG11193-MONOMER',\n 'EG11195-MONOMER',\n 'EG11196-MONOMER',\n 'EG11199-MONOMER',\n 'EG11201-MONOMER',\n 'EG11202-MONOMER',\n 'EG11203-MONOMER',\n 'EG11206-MONOMER',\n 'EG11207-MONOMER',\n 'EG11208-MONOMER',\n 'EG11209-MONOMER',\n 'EG11210-MONOMER',\n 'EG11211-MONOMER',\n 'EG11212-MONOMER',\n 'EG11214-MONOMER',\n 'EG11215-MONOMER',\n 'EG11217-MONOMER',\n 'EG11219-MONOMER',\n 'EG11222-MONOMER',\n 'EG11224-MONOMER',\n 'EG11231-MONOMER',\n 'EG11232-MONOMER',\n 'EG11234-MONOMER',\n 'EG11235-MONOMER',\n 'EG11236-MONOMER',\n 'EG11237-MONOMER',\n 'EG11238-MONOMER',\n 'EG11239-MONOMER',\n 'EG11241-MONOMER',\n 'EG11244-MONOMER',\n 'EG11245-MONOMER',\n 'EG11246-MONOMER',\n 'EG11247-MONOMER',\n 'EG11249-MONOMER',\n 'EG11250-MONOMER',\n 'EG11251-MONOMER',\n 'EG11252-MONOMER',\n 'EG11253-MONOMER',\n 'EG11254-MONOMER',\n 'EG11255-MONOMER',\n 'EG11256-MONOMER',\n 'EG11257-MONOMER',\n 'EG11259-MONOMER',\n 'EG11260-MONOMER',\n 'EG11261-MONOMER',\n 'EG11263-MONOMER',\n 'EG11266-MONOMER',\n 'EG11267-MONOMER',\n 'EG11268-MONOMER',\n 'EG11269-MONOMER',\n 'EG11270-MONOMER',\n 'EG11271-MONOMER',\n 'EG11272-MONOMER',\n 'EG11274-MONOMER',\n 'EG11275-MONOMER',\n 'EG11276-MONOMER',\n 'EG11277-MONOMER',\n 'EG11279-MONOMER',\n 'EG11280-MONOMER',\n 'EG11281-MONOMER',\n 'EG11285-MONOMER',\n 'EG11287-MONOMER',\n 'EG11288-MONOMER',\n 'EG11289-MONOMER',\n 'EG11290-MONOMER',\n 'EG11291-MONOMER',\n 'EG11292-MONOMER',\n 'EG11293-MONOMER',\n 'EG11294-MONOMER',\n 'EG11295-MONOMER',\n 'EG11296-MONOMER',\n 'EG11298-MONOMER',\n 'EG11299-MONOMER',\n 'EG11300-MONOMER',\n 'EG11301-MONOMER',\n 'EG11302-MONOMER',\n 'EG11303-MONOMER',\n 'EG11304-MONOMER',\n 'EG11305-MONOMER',\n 'EG11306-MONOMER',\n 'EG11309-MONOMER',\n 'EG11310-MONOMER',\n 'EG11311-MONOMER',\n 'EG11312-MONOMER',\n 'EG11315-MONOMER',\n 'EG11320-MONOMER',\n 'EG11323-MONOMER',\n 'EG11333-MONOMER',\n 'EG11334-MONOMER',\n 'EG11336-MONOMER',\n 'EG11338-MONOMER',\n 'EG11339-MONOMER',\n 'EG11340-MONOMER',\n 'EG11341-MONOMER',\n 'EG11342-MONOMER',\n 'EG11344-MONOMER',\n 'EG11345-MONOMER',\n 'EG11346-MONOMER',\n 'EG11350-MONOMER',\n 'EG11351-MONOMER',\n 'EG11352-MONOMER',\n 'EG11353-MONOMER',\n 'EG11354-MONOMER',\n 'EG11355-MONOMER',\n 'EG11356-MONOMER',\n 'EG11357-MONOMER',\n 'EG11359-MONOMER',\n 'EG11360-MONOMER',\n 'EG11361-MONOMER',\n 'EG11362-MONOMER',\n 'EG11364-MONOMER',\n 'EG11371-MONOMER',\n 'EG11372-MONOMER',\n 'EG11373-MONOMER',\n 'EG11376-MONOMER',\n 'EG11378-MONOMER',\n 'EG11381-MONOMER',\n 'EG11383-MONOMER',\n 'EG11384-MONOMER',\n 'EG11385-MONOMER',\n 'EG11386-MONOMER',\n 'EG11388-MONOMER',\n 'EG11389-MONOMER',\n 'EG11390-MONOMER',\n 'EG11391-MONOMER',\n 'EG11394-MONOMER',\n 'EG11395-MONOMER',\n 'EG11396-MONOMER',\n 'EG11398-MONOMER',\n 'EG11399-MONOMER',\n 'EG11400-MONOMER',\n 'EG11401-MONOMER',\n 'EG11404-MONOMER',\n 'EG11410-MONOMER',\n 'EG11412-MONOMER',\n 'EG11413-MONOMER',\n 'EG11414-MONOMER',\n 'EG11415-MONOMER',\n 'EG11422-MONOMER',\n 'EG11423-MONOMER',\n 'EG11424-MONOMER',\n 'EG11425-MONOMER',\n 'EG11426-MONOMER',\n 'EG11429-MONOMER',\n 'EG11430-MONOMER',\n 'EG11431-MONOMER',\n 'EG11432-MONOMER',\n 'EG11433-MONOMER',\n 'EG11436-MONOMER',\n 'EG11437-MONOMER',\n 'EG11438-MONOMER',\n 'EG11440-MONOMER',\n 'EG11441-MONOMER',\n 'EG11445-MONOMER',\n 'EG11447-MONOMER',\n 'EG11449-MONOMER',\n 'EG11450-MONOMER',\n 'EG11462-MONOMER',\n 'EG11464-MONOMER',\n 'EG11465-MONOMER',\n 'EG11466-MONOMER',\n 'EG11467-MONOMER',\n 'EG11470-MONOMER',\n 'EG11471-MONOMER',\n 'EG11472-MONOMER',\n 'EG11474-MONOMER',\n 'EG11479-MONOMER',\n 'EG11481-MONOMER',\n 'EG11484-MONOMER',\n 'EG11486-MONOMER',\n 'EG11488-MONOMER',\n 'EG11489-MONOMER',\n 'EG11494-MONOMER',\n 'EG11495-MONOMER',\n 'EG11496-MONOMER',\n 'EG11497-MONOMER',\n 'EG11498-MONOMER',\n 'EG11499-MONOMER',\n 'EG11500-MONOMER',\n 'EG11503-MONOMER',\n 'EG11505-MONOMER',\n 'EG11506-MONOMER',\n 'EG11507-MONOMER',\n 'EG11508-MONOMER',\n 'EG11509-MONOMER',\n 'EG11511-MONOMER',\n 'EG11512-MONOMER',\n 'EG11514-MONOMER',\n 'EG11515-MONOMER',\n 'EG11516-MONOMER',\n 'EG11517-MONOMER',\n 'EG11519-MONOMER',\n 'EG11520-MONOMER',\n 'EG11521-MONOMER',\n 'EG11522-MONOMER',\n 'EG11523-MONOMER',\n 'EG11524-MONOMER',\n 'EG11525-MONOMER',\n 'EG11526-MONOMER',\n 'EG11529-MONOMER',\n 'EG11533-MONOMER',\n 'EG11534-MONOMER',\n 'EG11535-MONOMER',\n 'EG11536-MONOMER',\n 'EG11537-MONOMER',\n 'EG11538-MONOMER',\n 'EG11544-MONOMER',\n 'EG11545-MONOMER',\n 'EG11547-MONOMER',\n 'EG11548-MONOMER',\n 'EG11549-MONOMER',\n 'EG11551-MONOMER',\n 'EG11552-MONOMER',\n 'EG11554-MONOMER',\n 'EG11562-MONOMER',\n 'EG11563-MONOMER',\n 'EG11564-MONOMER',\n 'EG11565-MONOMER',\n 'EG11568-MONOMER',\n 'EG11569-MONOMER',\n 'EG11570-MONOMER',\n 'EG11571-MONOMER',\n 'EG11578-MONOMER',\n 'EG11579-MONOMER',\n 'EG11580-MONOMER',\n 'EG11581-MONOMER',\n 'EG11591-MONOMER',\n 'EG11592-MONOMER',\n 'EG11594-MONOMER',\n 'EG11595-MONOMER',\n ...]"
     },
     "execution_count": 291,
     "metadata": {},
     "output_type": "execute_result"
    }
   ],
   "source": [
    "protein_ids[1]"
   ],
   "metadata": {
    "collapsed": false,
    "ExecuteTime": {
     "end_time": "2023-07-28T15:49:48.411134Z",
     "start_time": "2023-07-28T15:49:48.405868Z"
    }
   }
  },
  {
   "cell_type": "code",
   "execution_count": null,
   "outputs": [],
   "source": [],
   "metadata": {
    "collapsed": false
   }
  }
 ],
 "metadata": {
  "kernelspec": {
   "display_name": "Python 3",
   "language": "python",
   "name": "python3"
  },
  "language_info": {
   "codemirror_mode": {
    "name": "ipython",
    "version": 2
   },
   "file_extension": ".py",
   "mimetype": "text/x-python",
   "name": "python",
   "nbconvert_exporter": "python",
   "pygments_lexer": "ipython2",
   "version": "2.7.6"
  }
 },
 "nbformat": 4,
 "nbformat_minor": 0
}
