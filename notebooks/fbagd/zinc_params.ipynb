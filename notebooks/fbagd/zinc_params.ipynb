{
 "cells": [
  {
   "cell_type": "code",
   "id": "89c876b4-8497-499f-a413-26ad32cec39e",
   "metadata": {
    "ExecuteTime": {
     "end_time": "2024-05-21T21:36:28.147205Z",
     "start_time": "2024-05-21T21:36:28.141377Z"
    }
   },
   "source": [
    "import numpy as np\n",
    "from scipy.special import logsumexp\n",
    "from scipy.integrate import solve_ivp, odeint\n",
    "import seaborn as sns\n",
    "import pandas as pd\n",
    "import os\n",
    "import matplotlib.pyplot as plt\n",
    "from equilibrator_api import ComponentContribution, Q_, Reaction\n",
    "import requests\n",
    "import xmltodict\n",
    "import pint\n",
    "import cvxpy as cp\n",
    "import itertools\n",
    "import copy\n",
    "from convex_kinetics_new import ConvexKineticsNew\n",
    "\n",
    "sns.set(style='darkgrid', palette='viridis', context='talk')\n",
    "\n",
    "os.chdir(os.path.expanduser('~/vivarium-ecoli'))"
   ],
   "outputs": [],
   "execution_count": 133
  },
  {
   "cell_type": "markdown",
   "id": "82a34091-b89a-4a8b-b49e-ce86aeab25c6",
   "metadata": {},
   "source": [
    "A + B -E1> C -E2> D\n",
    "\n",
    "B -E3> F\n",
    "\n",
    "A -E4> G"
   ]
  },
  {
   "cell_type": "markdown",
   "id": "2cc077b2-8c38-4065-b306-2e91611fd975",
   "metadata": {
    "jp-MarkdownHeadingCollapsed": true,
    "tags": []
   },
   "source": [
    "# Testing eQuilibrator"
   ]
  },
  {
   "cell_type": "code",
   "id": "77f87609-2312-4734-8970-05177c5c3434",
   "metadata": {
    "ExecuteTime": {
     "end_time": "2024-05-21T21:13:16.175839Z",
     "start_time": "2024-05-21T21:13:08.467314Z"
    }
   },
   "source": [
    "cc = ComponentContribution()\n",
    "\n",
    "# optional: changing the aqueous environment parameters\n",
    "cc.p_h = Q_(7.4)\n",
    "cc.p_mg = Q_(3.0)\n",
    "cc.ionic_strength = Q_(\"0.25M\")\n",
    "cc.temperature = Q_(\"298.15K\")\n",
    "\n"
   ],
   "outputs": [],
   "execution_count": 2
  },
  {
   "cell_type": "code",
   "id": "90008655-107b-487c-b60b-a98b12137dd6",
   "metadata": {
    "ExecuteTime": {
     "end_time": "2024-05-21T21:13:16.195664Z",
     "start_time": "2024-05-21T21:13:16.186787Z"
    }
   },
   "source": [
    "from equilibrator_api import Reaction\n",
    "compound_ids = [\"WATER\", \"ADP\", \"ATP\", \"Pi\"]\n",
    "compound_dict = {cid : cc.get_compound(f\"metacyc.compound:{cid}\") for cid in compound_ids}\n",
    "atpase_reaction = Reaction({\n",
    "    compound_dict[\"ATP\"]: -1,\n",
    "    compound_dict[\"WATER\"]: -1,\n",
    "    compound_dict[\"ADP\"]: 1,\n",
    "    compound_dict[\"Pi\"]: 1,\n",
    "})"
   ],
   "outputs": [],
   "execution_count": 3
  },
  {
   "cell_type": "code",
   "id": "ac886c79-121d-4d77-9ba0-eb4b25d19039",
   "metadata": {
    "ExecuteTime": {
     "end_time": "2024-05-21T21:13:16.653642Z",
     "start_time": "2024-05-21T21:13:16.200214Z"
    }
   },
   "source": [
    "standard_dg_prime = cc.standard_dg_prime(atpase_reaction)\n",
    "standard_dg_prime"
   ],
   "outputs": [
    {
     "data": {
      "text/plain": [
       "<Measurement(-29.144472212600157, 0.30427785535776736, kilojoule / mole)>"
      ],
      "text/html": [
       "(-29.14 &plusmn; 0.30) kilojoule/mole"
      ],
      "text/latex": "$\\left(-29.14 \\pm 0.30\\right)\\ \\frac{\\mathrm{kilojoule}}{\\mathrm{mole}}$"
     },
     "execution_count": 4,
     "metadata": {},
     "output_type": "execute_result"
    }
   ],
   "execution_count": 4
  },
  {
   "cell_type": "code",
   "id": "c6be2265-c9ec-45cf-8b87-8ca2df1376dd",
   "metadata": {
    "ExecuteTime": {
     "end_time": "2024-05-21T21:13:25.937196Z",
     "start_time": "2024-05-21T21:13:16.654475Z"
    }
   },
   "source": [
    "cytoplasmic_p_h = Q_(7.5)\n",
    "cytoplasmic_ionic_strength = Q_(\"250 mM\")\n",
    "periplasmic_p_h = Q_(7.0)\n",
    "periplasmic_ionic_strength = Q_(\"200 mM\")\n",
    "e_potential_difference = Q_(\"0.15 V\")\n",
    "cytoplasmic_reaction = \"bigg.metabolite:pep = bigg.metabolite:g6p + bigg.metabolite:pyr\"\n",
    "periplasmic_reaction = \"bigg.metabolite:glc__D = \"\n",
    "\n",
    "cc = ComponentContribution()\n",
    "cc.p_h = cytoplasmic_p_h\n",
    "cc.ionic_strength = cytoplasmic_ionic_strength\n",
    "standard_dg_prime = cc.multicompartmental_standard_dg_prime(\n",
    "    cc.parse_reaction_formula(cytoplasmic_reaction),\n",
    "    cc.parse_reaction_formula(periplasmic_reaction),\n",
    "    e_potential_difference=e_potential_difference,\n",
    "    p_h_outer=periplasmic_p_h,\n",
    "    ionic_strength_outer=periplasmic_ionic_strength,\n",
    ")\n",
    "\n",
    "print(standard_dg_prime)\n"
   ],
   "outputs": [
    {
     "name": "stdout",
     "output_type": "stream",
     "text": [
      "(-44.8 +/- 0.6) kilojoule / mole\n"
     ]
    }
   ],
   "execution_count": 5
  },
  {
   "cell_type": "code",
   "id": "3c97b6b4-77e2-4ddb-926c-b39f4780811b",
   "metadata": {
    "ExecuteTime": {
     "end_time": "2024-05-21T21:13:26.107133Z",
     "start_time": "2024-05-21T21:13:26.051808Z"
    }
   },
   "source": [
    "cc.get_compound_by_inchi(\"WQZGKKKJIJFFOK-GASJEMHNSA-N\")"
   ],
   "outputs": [],
   "execution_count": 6
  },
  {
   "cell_type": "markdown",
   "id": "fb140010-52ab-4edd-844e-a3645b3d5a41",
   "metadata": {
    "jp-MarkdownHeadingCollapsed": true,
    "tags": []
   },
   "source": [
    "# Using eQuilibrator to generate equilibrium constants"
   ]
  },
  {
   "cell_type": "code",
   "id": "6cd11cad-2e4b-4cb7-bec6-6d3e4f7b21bd",
   "metadata": {
    "ExecuteTime": {
     "end_time": "2024-05-21T21:13:39.658869Z",
     "start_time": "2024-05-21T21:13:39.276767Z"
    }
   },
   "source": [
    "s = requests.Session() # create session\n",
    "# Post login credentials to session:\n",
    "s.post('https://websvc.biocyc.org/credentials/login/', data={'email':'cellulararchitect@protonmail.com', 'password':'#'})\n",
    "# Issue web service request:\n",
    "r = s.get('https://websvc.biocyc.org/getxml?id=ECOLI:6PFRUCTPHOS-RXN&detail=low&fmt=json')"
   ],
   "outputs": [],
   "execution_count": 9
  },
  {
   "cell_type": "code",
   "id": "0ceafb21-0bf4-41d7-8e07-c159e8b73302",
   "metadata": {
    "ExecuteTime": {
     "end_time": "2024-05-21T21:13:41.728630Z",
     "start_time": "2024-05-21T21:13:41.636945Z"
    }
   },
   "source": [
    "name = 'F16ALDOLASE-RXN'\n",
    "\n",
    "r = s.get(f'https://websvc.biocyc.org/getxml?id=ECOLI:{name}&detail=low&fmt=json')\n",
    "o = xmltodict.parse(r.content)['ptools-xml']\n",
    "o['Reaction']['enzymatic-reaction']['Enzymatic-Reaction'][0]['@frameid']"
   ],
   "outputs": [
    {
     "data": {
      "text/plain": [
       "'F16ALDOLASE-ENZRXN-CLASSI'"
      ]
     },
     "execution_count": 10,
     "metadata": {},
     "output_type": "execute_result"
    }
   ],
   "execution_count": 10
  },
  {
   "cell_type": "code",
   "id": "837d6516-fa3c-4b71-ba39-4a98bb9689d3",
   "metadata": {
    "ExecuteTime": {
     "end_time": "2024-05-21T21:13:42.531068Z",
     "start_time": "2024-05-21T21:13:42.090729Z"
    }
   },
   "source": [
    "rxns_names = ['ABC-63-RXN', 'RXN0-5205']\n",
    "# rxns_names = ['6PFRUCTPHOS-RXN', 'F16ALDOLASE-RXN', '2TRANSKETO-RXN', 'TRIOSEPISOMERIZATION-RXN']\n",
    "\n",
    "rxns_dict = {}\n",
    "stoich_dict = {}\n",
    "regulation_dict = {}\n",
    "\n",
    "for name in rxns_names:\n",
    "    r = s.get(f'https://websvc.biocyc.org/getxml?id=ECOLI:{name}&detail=low&fmt=json')\n",
    "    rxn = xmltodict.parse(r.content)['ptools-xml']\n",
    "\n",
    "    rxn_dict = {}\n",
    "    stoich_loop_dict = {}\n",
    "    regulation_loop_dict = {}\n",
    "    left = rxn['Reaction']['left']\n",
    "    right = rxn['Reaction']['right'] \n",
    "    \n",
    "    # i will know exact complex in model (connected to rxn), but for now will pick random\n",
    "    enz_rxn = rxn['Reaction']['enzymatic-reaction']['Enzymatic-Reaction']\n",
    "    \n",
    "    if type(left) is dict:\n",
    "        left = [left]\n",
    "    \n",
    "    if type(right) is dict:\n",
    "        right = [right]\n",
    "        \n",
    "    if type(enz_rxn) is dict:\n",
    "        enz_rxn = [enz_rxn]\n",
    "    \n",
    "    enz_rxn_id =  enz_rxn[0]['@frameid']\n",
    "    re = s.get(f'https://websvc.biocyc.org/getxml?id=ECOLI:{enz_rxn_id}&detail=high&fmt=json')\n",
    "    oe = xmltodict.parse(re.content)['ptools-xml']['Enzymatic-Reaction']\n",
    "    \n",
    "    if 'regulated-by' in oe:\n",
    "        oe = oe['regulated-by']['Regulation']\n",
    "    \n",
    "        if type(oe) is dict:\n",
    "            oe = [oe]\n",
    "            \n",
    "        # add regulators, target regulator directly with id to get info like irreversible, etc\n",
    "        for regulator in oe:\n",
    "            reg_name = regulator['regulator']['Compound']['@frameid']\n",
    "            reg_type = regulator['mode']['#text']\n",
    "            reg_type = 1 if reg_type == '+' else -1\n",
    "            regulation_loop_dict[reg_name] = reg_type\n",
    "    \n",
    "    for mol in left:\n",
    "        if type(mol) is dict:\n",
    "            cid = mol['Compound']['@frameid']\n",
    "            mol_cc = cc.get_compound(f\"metacyc.compound:{cid}\")\n",
    "            \n",
    "            compartment = mol['compartment']['cco']['@frameid']\n",
    "            \n",
    "            if compartment == 'CCO-IN':\n",
    "                # mol_cc = mol_cc.in_compartment('c')\n",
    "                compartment = 'c'\n",
    "            elif compartment == 'CCO-OUT':\n",
    "                # mol_cc = mol_cc.in_compartment('p')\n",
    "                compartment = 'p'\n",
    "            \n",
    "            rxn_dict[mol_cc] = -1\n",
    "            stoich_loop_dict[f'{cid}[{compartment}]'] = -1\n",
    "\n",
    "    for mol in right:\n",
    "        if type(mol) is dict:\n",
    "            cid = mol['Compound']['@frameid']\n",
    "            mol_cc = cc.get_compound(f\"metacyc.compound:{cid}\")\n",
    "            \n",
    "            compartment = mol['compartment']['cco']['@frameid']\n",
    "            \n",
    "            if compartment == 'CCO-IN':\n",
    "                # mol_cc = mol_cc.in_compartment('c')\n",
    "                compartment = 'c'\n",
    "            elif compartment == 'CCO-OUT':\n",
    "                # mol_cc = mol_cc.in_compartment('p')\n",
    "                compartment = 'p'\n",
    "                \n",
    "            rxn_dict[mol_cc] =  1\n",
    "            stoich_loop_dict[f'{cid}[{compartment}]']  = 1\n",
    "    \n",
    "    rxns_dict[name] = Reaction(rxn_dict)\n",
    "    stoich_dict[name] = stoich_loop_dict\n",
    "    regulation_dict[name] = regulation_loop_dict\n",
    "\n",
    "# (standard_dg_prime, dg_uncertainty) = cc.standard_dg_prime_multi(list(rxns_dict.values()), uncertainty_representation=\"cov\")\n",
    "# R = 0.008314 # kJ/mol*K\n",
    "# T = 298.15 # K\n",
    "# dG = standard_dg_prime._magnitude\n",
    "# \n",
    "# K_eq = -dG/(R*T)\n",
    "\n",
    "rxns_dict"
   ],
   "outputs": [
    {
     "data": {
      "text/plain": [
       "{'ABC-63-RXN': <equilibrator_api.phased_reaction.PhasedReaction at 0x127e4d9f0>,\n",
       " 'RXN0-5205': <equilibrator_api.phased_reaction.PhasedReaction at 0x1377d6c80>}"
      ]
     },
     "execution_count": 11,
     "metadata": {},
     "output_type": "execute_result"
    }
   ],
   "execution_count": 11
  },
  {
   "metadata": {
    "ExecuteTime": {
     "end_time": "2024-05-21T21:13:42.535548Z",
     "start_time": "2024-05-21T21:13:42.532497Z"
    }
   },
   "cell_type": "code",
   "source": "stoich_dict",
   "id": "747bbdd0dcedc056",
   "outputs": [
    {
     "data": {
      "text/plain": [
       "{'ABC-63-RXN': {'ZN+2[p]': -1,\n",
       "  'WATER[c]': -1,\n",
       "  'ATP[c]': -1,\n",
       "  'ZN+2[c]': 1,\n",
       "  'ADP[c]': 1,\n",
       "  'Pi[c]': 1,\n",
       "  'PROTON[c]': 1},\n",
       " 'RXN0-5205': {'ZN+2[c]': -1,\n",
       "  'WATER[c]': -1,\n",
       "  'ATP[c]': -1,\n",
       "  'ZN+2[p]': 1,\n",
       "  'ADP[c]': 1,\n",
       "  'Pi[c]': 1,\n",
       "  'PROTON[c]': 1}}"
      ]
     },
     "execution_count": 12,
     "metadata": {},
     "output_type": "execute_result"
    }
   ],
   "execution_count": 12
  },
  {
   "metadata": {},
   "cell_type": "markdown",
   "source": "# Drop water and protons ",
   "id": "1f61b5f60bc6acd4"
  },
  {
   "metadata": {},
   "cell_type": "markdown",
   "source": "",
   "id": "4aaf97f22e37e489"
  },
  {
   "metadata": {
    "ExecuteTime": {
     "end_time": "2024-05-21T21:13:42.866904Z",
     "start_time": "2024-05-21T21:13:42.863994Z"
    }
   },
   "cell_type": "code",
   "source": [
    "# drop water and protons from dict\n",
    "for rxn in stoich_dict:\n",
    "    stoich_dict[rxn] = {k: v for k, v in stoich_dict[rxn].items() if 'WATER' not in k and 'PROTON' not in k}\n",
    "    \n",
    "stoich_dict"
   ],
   "id": "f84327ba78c1d8b2",
   "outputs": [
    {
     "data": {
      "text/plain": [
       "{'ABC-63-RXN': {'ZN+2[p]': -1,\n",
       "  'ATP[c]': -1,\n",
       "  'ZN+2[c]': 1,\n",
       "  'ADP[c]': 1,\n",
       "  'Pi[c]': 1},\n",
       " 'RXN0-5205': {'ZN+2[c]': -1,\n",
       "  'ATP[c]': -1,\n",
       "  'ZN+2[p]': 1,\n",
       "  'ADP[c]': 1,\n",
       "  'Pi[c]': 1}}"
      ]
     },
     "execution_count": 13,
     "metadata": {},
     "output_type": "execute_result"
    }
   ],
   "execution_count": 13
  },
  {
   "cell_type": "markdown",
   "id": "3a19ac18-e8ce-4653-9976-3946c1227c85",
   "metadata": {
    "jp-MarkdownHeadingCollapsed": true,
    "tags": []
   },
   "source": [
    "# Calculating set of kinetic parameters with given equilibrium constants and arbitrary fluxes"
   ]
  },
  {
   "cell_type": "code",
   "id": "ad0c9880-fd76-40d6-9d15-3bb61f96e3e9",
   "metadata": {
    "ExecuteTime": {
     "end_time": "2024-05-21T21:25:57.047460Z",
     "start_time": "2024-05-21T21:25:57.041314Z"
    }
   },
   "source": [
    "Sd = pd.DataFrame(stoich_dict).fillna(0).astype(np.int8)\n",
    "# Sd = Sd.iloc[0:7, 0:2]\n",
    "\n",
    "n_rxn = Sd.shape[1]\n",
    "n_met = Sd.shape[0]\n",
    "\n",
    "Sd\n",
    "\n",
    "# Sd[\"6PFRUCTPHOS-RXN\"] = Sd[\"6PFRUCTPHOS-RXN\"] # * 2\n",
    "Sd"
   ],
   "outputs": [
    {
     "data": {
      "text/plain": [
       "         ABC-63-RXN  RXN0-5205\n",
       "ZN+2[p]          -1          1\n",
       "ATP[c]           -1         -1\n",
       "ZN+2[c]           1         -1\n",
       "ADP[c]            1          1\n",
       "Pi[c]             1          1"
      ],
      "text/html": [
       "<div>\n",
       "<style scoped>\n",
       "    .dataframe tbody tr th:only-of-type {\n",
       "        vertical-align: middle;\n",
       "    }\n",
       "\n",
       "    .dataframe tbody tr th {\n",
       "        vertical-align: top;\n",
       "    }\n",
       "\n",
       "    .dataframe thead th {\n",
       "        text-align: right;\n",
       "    }\n",
       "</style>\n",
       "<table border=\"1\" class=\"dataframe\">\n",
       "  <thead>\n",
       "    <tr style=\"text-align: right;\">\n",
       "      <th></th>\n",
       "      <th>ABC-63-RXN</th>\n",
       "      <th>RXN0-5205</th>\n",
       "    </tr>\n",
       "  </thead>\n",
       "  <tbody>\n",
       "    <tr>\n",
       "      <th>ZN+2[p]</th>\n",
       "      <td>-1</td>\n",
       "      <td>1</td>\n",
       "    </tr>\n",
       "    <tr>\n",
       "      <th>ATP[c]</th>\n",
       "      <td>-1</td>\n",
       "      <td>-1</td>\n",
       "    </tr>\n",
       "    <tr>\n",
       "      <th>ZN+2[c]</th>\n",
       "      <td>1</td>\n",
       "      <td>-1</td>\n",
       "    </tr>\n",
       "    <tr>\n",
       "      <th>ADP[c]</th>\n",
       "      <td>1</td>\n",
       "      <td>1</td>\n",
       "    </tr>\n",
       "    <tr>\n",
       "      <th>Pi[c]</th>\n",
       "      <td>1</td>\n",
       "      <td>1</td>\n",
       "    </tr>\n",
       "  </tbody>\n",
       "</table>\n",
       "</div>"
      ]
     },
     "execution_count": 90,
     "metadata": {},
     "output_type": "execute_result"
    }
   ],
   "execution_count": 90
  },
  {
   "cell_type": "code",
   "id": "760bee51-984c-4f98-91fd-788113ce0d86",
   "metadata": {
    "ExecuteTime": {
     "end_time": "2024-05-21T21:25:57.211153Z",
     "start_time": "2024-05-21T21:25:57.206475Z"
    }
   },
   "source": [
    "Sr_min = pd.DataFrame(regulation_dict).fillna(0).astype(np.int8)\n",
    "\n",
    "Sr = Sd.copy()\n",
    "Sr.loc[:,:] = 0\n",
    "Sr.loc[Sd.index.intersection(Sr_min.index), :] = Sr_min.loc[Sd.index.intersection(Sr_min.index), :]\n",
    "Sr"
   ],
   "outputs": [
    {
     "data": {
      "text/plain": [
       "         ABC-63-RXN  RXN0-5205\n",
       "ZN+2[p]           0          0\n",
       "ATP[c]            0          0\n",
       "ZN+2[c]           0          0\n",
       "ADP[c]            0          0\n",
       "Pi[c]             0          0"
      ],
      "text/html": [
       "<div>\n",
       "<style scoped>\n",
       "    .dataframe tbody tr th:only-of-type {\n",
       "        vertical-align: middle;\n",
       "    }\n",
       "\n",
       "    .dataframe tbody tr th {\n",
       "        vertical-align: top;\n",
       "    }\n",
       "\n",
       "    .dataframe thead th {\n",
       "        text-align: right;\n",
       "    }\n",
       "</style>\n",
       "<table border=\"1\" class=\"dataframe\">\n",
       "  <thead>\n",
       "    <tr style=\"text-align: right;\">\n",
       "      <th></th>\n",
       "      <th>ABC-63-RXN</th>\n",
       "      <th>RXN0-5205</th>\n",
       "    </tr>\n",
       "  </thead>\n",
       "  <tbody>\n",
       "    <tr>\n",
       "      <th>ZN+2[p]</th>\n",
       "      <td>0</td>\n",
       "      <td>0</td>\n",
       "    </tr>\n",
       "    <tr>\n",
       "      <th>ATP[c]</th>\n",
       "      <td>0</td>\n",
       "      <td>0</td>\n",
       "    </tr>\n",
       "    <tr>\n",
       "      <th>ZN+2[c]</th>\n",
       "      <td>0</td>\n",
       "      <td>0</td>\n",
       "    </tr>\n",
       "    <tr>\n",
       "      <th>ADP[c]</th>\n",
       "      <td>0</td>\n",
       "      <td>0</td>\n",
       "    </tr>\n",
       "    <tr>\n",
       "      <th>Pi[c]</th>\n",
       "      <td>0</td>\n",
       "      <td>0</td>\n",
       "    </tr>\n",
       "  </tbody>\n",
       "</table>\n",
       "</div>"
      ]
     },
     "execution_count": 91,
     "metadata": {},
     "output_type": "execute_result"
    }
   ],
   "execution_count": 91
  },
  {
   "metadata": {
    "ExecuteTime": {
     "end_time": "2024-05-21T21:25:57.345967Z",
     "start_time": "2024-05-21T21:25:57.343833Z"
    }
   },
   "cell_type": "code",
   "source": [
    "# estimate flows\n",
    "# ZnuBC has 125 copies per cell normally. Grows to about 600 copies per cell in zinc starvation.\n",
    "# ZntA has 300 copies per cell normally. Falls to zero in zinc starvation.\n",
    "# dynamic equilibrium flows are as follows in counts:\n",
    "# Zn_in = 400 atoms per second\n",
    "# Zn_out = 200 atoms per second\n",
    "# Zn_prot = 200 atoms per second\n",
    "\n",
    "# convert flows to molar/second\n",
    "cell_volume = 3e-15 # L\n",
    "Zn_in = 400 / (6.022e23 * cell_volume)\n",
    "Zn_out = 200 / (6.022e23 * cell_volume)\n",
    "Zn_prot = 200 / (6.022e23 * cell_volume)"
   ],
   "id": "77bfc7c2af1bbc61",
   "outputs": [],
   "execution_count": 92
  },
  {
   "metadata": {
    "ExecuteTime": {
     "end_time": "2024-05-21T21:25:57.481879Z",
     "start_time": "2024-05-21T21:25:57.479116Z"
    }
   },
   "cell_type": "code",
   "source": "vE",
   "id": "1a42c3fa68a81357",
   "outputs": [
    {
     "data": {
      "text/plain": [
       "array([[2.21410384e-07, 2.21410384e-07],\n",
       "       [2.21410384e-07, 1.10705192e-07],\n",
       "       [2.21410384e-07, 4.42820768e-07],\n",
       "       [2.65692461e-07, 1.32846230e-07],\n",
       "       [2.21410384e-07, 1.10705192e-07],\n",
       "       [1.77128307e-07, 8.85641537e-08],\n",
       "       [2.21410384e-07, 1.10705192e-07],\n",
       "       [2.21410384e-07, 1.10705192e-07],\n",
       "       [2.21410384e-07, 1.10705192e-07]])"
      ]
     },
     "execution_count": 93,
     "metadata": {},
     "output_type": "execute_result"
    }
   ],
   "execution_count": 93
  },
  {
   "cell_type": "code",
   "source": [
    "# K_eq = np.log(keq)\n",
    "K_eq = np.array([8, 8])\n",
    "K_eq_mod = K_eq[:, np.newaxis].T\n",
    "vE = np.array([[Zn_in, Zn_out*2], \n",
    "               [Zn_in, Zn_out], \n",
    "               [Zn_in, Zn_out*4],\n",
    "               [1.2*Zn_in, 1.2*Zn_out],\n",
    "               [Zn_in, Zn_out],\n",
    "               [0.8*Zn_in, 0.8*Zn_out],\n",
    "               [Zn_in, Zn_out],\n",
    "               [Zn_in, Zn_out],\n",
    "               [Zn_in, Zn_out],])\n",
    "# vE[:, 0] = vE[:, 0] / 2\n",
    "\n",
    "n_flux_set = vE.shape[0]\n",
    "\n",
    "# K_eq[vE < 0] = 1/K_eq[vE < 0]\n",
    "\n",
    "lvE = np.log(np.abs(vE))\n",
    "pd.DataFrame(np.concatenate([K_eq_mod, vE, np.sign(vE)]), columns=Sd.columns,\n",
    "             index=[\"$K_{eq}$\", ] + [f\"Flux set {i}\" for i in range(n_flux_set)] + [f\"Sign set {i}\" for i in range(n_flux_set)])"
   ],
   "metadata": {
    "collapsed": false,
    "ExecuteTime": {
     "end_time": "2024-05-21T21:25:57.627053Z",
     "start_time": "2024-05-21T21:25:57.620199Z"
    }
   },
   "id": "a35d2a38b36b7483",
   "outputs": [
    {
     "data": {
      "text/plain": [
       "              ABC-63-RXN     RXN0-5205\n",
       "$K_{eq}$    8.000000e+00  8.000000e+00\n",
       "Flux set 0  2.214104e-07  2.214104e-07\n",
       "Flux set 1  2.214104e-07  1.107052e-07\n",
       "Flux set 2  2.214104e-07  4.428208e-07\n",
       "Flux set 3  2.656925e-07  1.328462e-07\n",
       "Flux set 4  2.214104e-07  1.107052e-07\n",
       "Flux set 5  1.771283e-07  8.856415e-08\n",
       "Flux set 6  2.214104e-07  1.107052e-07\n",
       "Flux set 7  2.214104e-07  1.107052e-07\n",
       "Flux set 8  2.214104e-07  1.107052e-07\n",
       "Sign set 0  1.000000e+00  1.000000e+00\n",
       "Sign set 1  1.000000e+00  1.000000e+00\n",
       "Sign set 2  1.000000e+00  1.000000e+00\n",
       "Sign set 3  1.000000e+00  1.000000e+00\n",
       "Sign set 4  1.000000e+00  1.000000e+00\n",
       "Sign set 5  1.000000e+00  1.000000e+00\n",
       "Sign set 6  1.000000e+00  1.000000e+00\n",
       "Sign set 7  1.000000e+00  1.000000e+00\n",
       "Sign set 8  1.000000e+00  1.000000e+00"
      ],
      "text/html": [
       "<div>\n",
       "<style scoped>\n",
       "    .dataframe tbody tr th:only-of-type {\n",
       "        vertical-align: middle;\n",
       "    }\n",
       "\n",
       "    .dataframe tbody tr th {\n",
       "        vertical-align: top;\n",
       "    }\n",
       "\n",
       "    .dataframe thead th {\n",
       "        text-align: right;\n",
       "    }\n",
       "</style>\n",
       "<table border=\"1\" class=\"dataframe\">\n",
       "  <thead>\n",
       "    <tr style=\"text-align: right;\">\n",
       "      <th></th>\n",
       "      <th>ABC-63-RXN</th>\n",
       "      <th>RXN0-5205</th>\n",
       "    </tr>\n",
       "  </thead>\n",
       "  <tbody>\n",
       "    <tr>\n",
       "      <th>$K_{eq}$</th>\n",
       "      <td>8.000000e+00</td>\n",
       "      <td>8.000000e+00</td>\n",
       "    </tr>\n",
       "    <tr>\n",
       "      <th>Flux set 0</th>\n",
       "      <td>2.214104e-07</td>\n",
       "      <td>2.214104e-07</td>\n",
       "    </tr>\n",
       "    <tr>\n",
       "      <th>Flux set 1</th>\n",
       "      <td>2.214104e-07</td>\n",
       "      <td>1.107052e-07</td>\n",
       "    </tr>\n",
       "    <tr>\n",
       "      <th>Flux set 2</th>\n",
       "      <td>2.214104e-07</td>\n",
       "      <td>4.428208e-07</td>\n",
       "    </tr>\n",
       "    <tr>\n",
       "      <th>Flux set 3</th>\n",
       "      <td>2.656925e-07</td>\n",
       "      <td>1.328462e-07</td>\n",
       "    </tr>\n",
       "    <tr>\n",
       "      <th>Flux set 4</th>\n",
       "      <td>2.214104e-07</td>\n",
       "      <td>1.107052e-07</td>\n",
       "    </tr>\n",
       "    <tr>\n",
       "      <th>Flux set 5</th>\n",
       "      <td>1.771283e-07</td>\n",
       "      <td>8.856415e-08</td>\n",
       "    </tr>\n",
       "    <tr>\n",
       "      <th>Flux set 6</th>\n",
       "      <td>2.214104e-07</td>\n",
       "      <td>1.107052e-07</td>\n",
       "    </tr>\n",
       "    <tr>\n",
       "      <th>Flux set 7</th>\n",
       "      <td>2.214104e-07</td>\n",
       "      <td>1.107052e-07</td>\n",
       "    </tr>\n",
       "    <tr>\n",
       "      <th>Flux set 8</th>\n",
       "      <td>2.214104e-07</td>\n",
       "      <td>1.107052e-07</td>\n",
       "    </tr>\n",
       "    <tr>\n",
       "      <th>Sign set 0</th>\n",
       "      <td>1.000000e+00</td>\n",
       "      <td>1.000000e+00</td>\n",
       "    </tr>\n",
       "    <tr>\n",
       "      <th>Sign set 1</th>\n",
       "      <td>1.000000e+00</td>\n",
       "      <td>1.000000e+00</td>\n",
       "    </tr>\n",
       "    <tr>\n",
       "      <th>Sign set 2</th>\n",
       "      <td>1.000000e+00</td>\n",
       "      <td>1.000000e+00</td>\n",
       "    </tr>\n",
       "    <tr>\n",
       "      <th>Sign set 3</th>\n",
       "      <td>1.000000e+00</td>\n",
       "      <td>1.000000e+00</td>\n",
       "    </tr>\n",
       "    <tr>\n",
       "      <th>Sign set 4</th>\n",
       "      <td>1.000000e+00</td>\n",
       "      <td>1.000000e+00</td>\n",
       "    </tr>\n",
       "    <tr>\n",
       "      <th>Sign set 5</th>\n",
       "      <td>1.000000e+00</td>\n",
       "      <td>1.000000e+00</td>\n",
       "    </tr>\n",
       "    <tr>\n",
       "      <th>Sign set 6</th>\n",
       "      <td>1.000000e+00</td>\n",
       "      <td>1.000000e+00</td>\n",
       "    </tr>\n",
       "    <tr>\n",
       "      <th>Sign set 7</th>\n",
       "      <td>1.000000e+00</td>\n",
       "      <td>1.000000e+00</td>\n",
       "    </tr>\n",
       "    <tr>\n",
       "      <th>Sign set 8</th>\n",
       "      <td>1.000000e+00</td>\n",
       "      <td>1.000000e+00</td>\n",
       "    </tr>\n",
       "  </tbody>\n",
       "</table>\n",
       "</div>"
      ]
     },
     "execution_count": 94,
     "metadata": {},
     "output_type": "execute_result"
    }
   ],
   "execution_count": 94
  },
  {
   "cell_type": "code",
   "source": [
    "[Zn_in, Zn_out],[Zn_in, Zn_out],# set up variables\n",
    "\n",
    "S_mol = np.array(Sd)\n",
    "S = np.sign(S_mol) #\n",
    "S_s = -np.copy(S) # reverse neg sign\n",
    "S_p = np.copy(S)\n",
    "S_s[S > 0] = 0 # zeros products\n",
    "S_p[S < 0] = 0 # zeros substrates\n",
    "S_i = np.copy(np.array(Sr) == -1) # reaction direction does not matter\n",
    "S_a = np.copy(np.array(Sr) == 1)\n",
    "\n",
    "\n",
    "S_s_nz = np.array(S_s.nonzero())\n",
    "S_p_nz = np.array(S_p.nonzero())\n",
    "S_i_nz = np.array(S_i.nonzero())\n",
    "S_a_nz = np.array(S_a.nonzero())\n",
    "S_s_mol = np.abs(S_mol)[S_s.nonzero()]\n",
    "S_p_mol = np.abs(S_mol)[S_p.nonzero()]\n",
    "\n",
    "# TODO Refactor all the below lines as one liners\n",
    "# first coordinate, e.g. metabolites w nonzero substrate/product coeff across all reactions. also works as substrate indices.\n",
    "met_s_nz = S_s_nz[0, :]\n",
    "met_p_nz = S_p_nz[0, :]\n",
    "met_i_nz = S_i_nz[0, :]\n",
    "met_a_nz = S_a_nz[0, :]\n",
    "\n",
    "# second coordinate, e.g. reactions indices for those concentrations. works to index substrates as well.\n",
    "rxn_s_nz = S_s_nz[1, :]\n",
    "rxn_p_nz = S_p_nz[1, :]\n",
    "rxn_i_nz = S_i_nz[1, :]\n",
    "rxn_a_nz = S_a_nz[1, :]\n",
    "\n",
    "# one dim is always 2\n",
    "n_Km_s = np.max(met_s_nz.shape)\n",
    "n_Km_p = np.max(met_p_nz.shape)\n",
    "n_Km_i = np.max(met_i_nz.shape)\n",
    "n_Km_a = np.max(met_a_nz.shape)\n",
    "\n",
    "c = cp.Variable([n_met, n_flux_set])\n",
    "Km_s = cp.Variable(n_Km_s)\n",
    "Km_p = cp.Variable(n_Km_p)\n",
    "Km_i = cp.Variable(n_Km_i) if n_Km_i else None\n",
    "Km_a = cp.Variable(n_Km_a) if n_Km_a else None\n",
    "\n",
    "cfwd = cp.Variable(n_rxn)\n",
    "crev = cp.Variable(n_rxn)\n",
    "\n",
    "# define y vecs\n",
    "y_s_t = []\n",
    "y_p_t = []\n",
    "y_i_t = []\n",
    "y_a_t = []\n",
    "\n",
    "# define Km positions by nonzero S matrix concentrations. Activation is reverse val of inhibition.\n",
    "# TODO Add molecularity here.\n",
    "for i in range(n_flux_set):\n",
    "    y_s_t.append(cp.multiply(S_s_mol, c[met_s_nz, i] - Km_s))\n",
    "    y_p_t.append(cp.multiply(S_p_mol, c[met_p_nz, i] - Km_p))\n",
    "    y_i_t.append(c[met_i_nz, i] - Km_i if n_Km_i else None)\n",
    "    y_a_t.append(-(c[met_a_nz, i] - Km_a) if n_Km_a else None)\n",
    "\n",
    "y_s = cp.vstack(y_s_t)\n",
    "y_p = cp.vstack(y_p_t)\n",
    "y_i = cp.vstack(y_i_t)\n",
    "y_a = cp.vstack(y_a_t)\n",
    "\n",
    "# saturation stacks\n",
    "y_f_vec = [y_s]\n",
    "y_r_vec = [y_p]\n",
    "if n_Km_i:\n",
    "    y_f_vec.append(y_i)\n",
    "    y_r_vec.append(y_i)\n",
    "if n_Km_a:\n",
    "    y_f_vec.append(y_a)\n",
    "    y_r_vec.append(y_a)\n",
    "\n",
    "y_f = cp.hstack(y_f_vec)\n",
    "y_r = cp.hstack(y_r_vec)"
   ],
   "metadata": {
    "collapsed": false,
    "ExecuteTime": {
     "end_time": "2024-05-21T21:25:57.760056Z",
     "start_time": "2024-05-21T21:25:57.752121Z"
    }
   },
   "id": "356774a40e10091d",
   "outputs": [],
   "execution_count": 95
  },
  {
   "cell_type": "code",
   "source": [
    "# number of saturation terms for sub, prod\n",
    "S_s_comb = np.concatenate((S_s, S_i, S_a), axis=0)\n",
    "S_p_comb = np.concatenate((S_p, S_i, S_a), axis=0)\n",
    "n_alpha = np.sum(np.power(2, np.sign(S_s_comb).sum(axis=0)) - 1)\n",
    "n_beta = np.sum(np.power(2, np.sign(S_p_comb).sum(axis=0)) - 1)\n",
    "\n",
    "# saturation matrix setup, first sub, then inhib, then act.\n",
    "C_alpha = np.zeros([n_alpha, len(met_s_nz) + len(met_i_nz) + len(met_a_nz)])\n",
    "C_beta = np.zeros([n_beta, len(met_p_nz) + len(met_i_nz) + len(met_a_nz)])\n",
    "\n",
    "# to separate different reactions saturation terms to their individual reaction equations.\n",
    "d_alpha = np.zeros(n_alpha, dtype=np.int8)\n",
    "d_beta = np.zeros(n_beta, dtype=np.int8)\n",
    "\n",
    "\n",
    "idx = 0\n",
    "\n",
    "for i in range(n_rxn):\n",
    "\n",
    "    # pick one reaction at a time (get substrate indicies)\n",
    "    #idx_cur_rxn = rxn_s_nz == i\n",
    "    # TODO This does not properly multiply by molecularity. Alternatively, generate C_alpha and\n",
    "    # TODO beta without molecularity (first ==1) and then multiply by molecularity in the end.\n",
    "    idx_cur_rxn = np.concatenate((rxn_s_nz == i, rxn_i_nz == i, rxn_a_nz == i))\n",
    "\n",
    "    # generates all binary permutations minus the first one since that would result in -1\n",
    "    sat_perm = np.array(list(itertools.product([0, 1], repeat=sum(idx_cur_rxn))))\n",
    "    sat_perm = sat_perm[1:, :]\n",
    "\n",
    "    r, _ = sat_perm.shape\n",
    "\n",
    "    # replace zeros with saturation matrix\n",
    "    C_alpha[idx:(idx+r), idx_cur_rxn] = sat_perm\n",
    "    d_alpha[idx:(idx+r)] = i\n",
    "\n",
    "    idx += r # add row #\n",
    "\n",
    "idx = 0\n",
    "\n",
    "for i in range(n_rxn):\n",
    "    idx_cur_rxn = np.concatenate((rxn_p_nz == i, rxn_i_nz == i, rxn_a_nz == i))\n",
    "\n",
    "    sat_perm = np.array(list(itertools.product([0, 1], repeat=sum(idx_cur_rxn))))\n",
    "    sat_perm = sat_perm[1:, :]\n",
    "\n",
    "    r, _ = sat_perm.shape\n",
    "\n",
    "    C_beta[idx:(idx+r), idx_cur_rxn] = sat_perm\n",
    "    d_beta[idx:(idx+r)] = i\n",
    "\n",
    "    idx += r # add row #"
   ],
   "metadata": {
    "collapsed": false,
    "ExecuteTime": {
     "end_time": "2024-05-21T21:25:57.918167Z",
     "start_time": "2024-05-21T21:25:57.912964Z"
    }
   },
   "id": "ecd5ba7a0843ebd0",
   "outputs": [],
   "execution_count": 96
  },
  {
   "cell_type": "code",
   "source": [
    "C_alpha"
   ],
   "metadata": {
    "collapsed": false,
    "ExecuteTime": {
     "end_time": "2024-05-21T21:25:58.066353Z",
     "start_time": "2024-05-21T21:25:58.063894Z"
    }
   },
   "id": "7876a61f1e3b73d9",
   "outputs": [
    {
     "data": {
      "text/plain": [
       "array([[0., 1., 0., 0.],\n",
       "       [1., 0., 0., 0.],\n",
       "       [1., 1., 0., 0.],\n",
       "       [0., 0., 0., 1.],\n",
       "       [0., 0., 1., 0.],\n",
       "       [0., 0., 1., 1.]])"
      ]
     },
     "execution_count": 97,
     "metadata": {},
     "output_type": "execute_result"
    }
   ],
   "execution_count": 97
  },
  {
   "cell_type": "code",
   "source": [
    "n_lse_terms = np.max(np.power(2, S_s.sum(axis=0)) +  np.power(2, S_p.sum(axis=0)) - 2)\n",
    "LSE_expr = []\n",
    "denom_expr = []\n",
    "\n",
    "sign = np.sign(vE)\n",
    "lvE = np.log(sign * vE)\n",
    "\n",
    "for j in range(n_flux_set):\n",
    "    for i in range(n_rxn):\n",
    "        # sum terms are separate in logsumexp. one per saturation term (row in C_alpha, C_beta)\n",
    "\n",
    "        n_term_s = np.sum(d_alpha == i)\n",
    "        n_term_p = np.sum(d_beta == i)\n",
    "        n_term = n_term_s + n_term_p\n",
    "\n",
    "        Km_s_idx = np.nonzero(S_s_nz[1, :] == i)\n",
    "        S_s_idx = S_s_nz[0, S_s_nz[1, :] == i] # negate -1 entries\n",
    "\n",
    "        Km_p_idx = np.nonzero(S_p_nz[1, :] == i)\n",
    "        S_p_idx = S_p_nz[0, S_p_nz[1, :] == i]\n",
    "\n",
    "        if sign[j, i] == 1:\n",
    "            LSE_expr.append(cp.hstack( [\n",
    "                                         lvE[j, i] + (C_alpha @ cp.vec(y_f[j, :]))[d_alpha == i]\n",
    "                                            - cp.multiply(np.ones(n_term_s), - S.T[i, S_s_idx] @ cp.vec(y_s[j, Km_s_idx])) - cfwd[i],\n",
    "                                         lvE[j, i] + (C_beta @ cp.vec(y_r[j, :]))[d_beta == i]\n",
    "                                            - cp.multiply(np.ones(n_term_p), - S.T[i, S_s_idx] @ cp.vec(y_s[j, Km_s_idx])) - cfwd[i],\n",
    "\n",
    "                                         lvE[j, i] + 0 - cp.multiply(np.ones(1), -S.T[i, S_s_idx] @ cp.vec(y_s[j, Km_s_idx]))  - cfwd[i],\n",
    "\n",
    "                                         cp.multiply(np.ones(1), S.T[i, S_p_idx] @ cp.vec(y_p[j, Km_p_idx]))  + crev[i]\n",
    "                                            - cp.multiply(np.ones(1), -S.T[i, S_s_idx] @ cp.vec(y_s[j, Km_s_idx]))  - cfwd[i],\n",
    "\n",
    "                                       ]\n",
    "                                     )\n",
    "                           )  # remove +1 here, could also have cfwd outside objec.\n",
    "\n",
    "            denom_expr.append(cp.multiply(np.ones(1), -S.T[i, S_s_idx] @ cp.vec(y_s[j, Km_s_idx])) + cfwd[i],)\n",
    "\n",
    "\n",
    "        # keep saturation term the same, switch around fwd and rev terms. flip all signs with S matrix since it's signed.\n",
    "        if sign[j, i] == -1:\n",
    "            LSE_expr.append(cp.hstack( [ lvE[j, i] + (C_alpha @ cp.vec(y_f[j, :]))[d_alpha == i]\n",
    "                                            - cp.multiply(np.ones(n_term_s), S.T[i, S_p_idx] @ cp.vec(y_p[j, Km_p_idx])) - crev[i],\n",
    "\n",
    "                                         lvE[j, i] + (C_beta @ cp.vec(y_r[j, :]))[d_beta == i]\n",
    "                                            - cp.multiply(np.ones(n_term_p), S.T[i, S_p_idx] @ cp.vec(y_p[j, Km_p_idx])) - crev[i],\n",
    "\n",
    "                                         lvE[j, i] + 0 - cp.multiply(np.ones(1), S.T[i, S_p_idx] @ cp.vec(y_p[j, Km_p_idx])) - crev[i],\n",
    "\n",
    "                                         cp.multiply(np.ones(1), - S.T[i, S_s_idx] @ cp.vec(y_s[j, Km_s_idx]))  + cfwd[i]\n",
    "                                            - cp.multiply(np.ones(1), S.T[i, S_p_idx] @ cp.vec(y_p[j, Km_p_idx])) - crev[i],\n",
    "\n",
    "                                       ]\n",
    "                                     )\n",
    "                           )\n",
    "\n",
    "            denom_expr.append(cp.multiply(np.ones(1), S.T[i, S_p_idx] @ cp.vec(y_p[j, Km_p_idx])) + crev[i])\n",
    "\n",
    "\n",
    "#LSE_expr = cp.vstack(LSE_expr)\n",
    "LSE_expr"
   ],
   "metadata": {
    "collapsed": false,
    "ExecuteTime": {
     "end_time": "2024-05-21T21:25:58.242336Z",
     "start_time": "2024-05-21T21:25:58.210128Z"
    }
   },
   "id": "94583ebedbc980de",
   "outputs": [
    {
     "data": {
      "text/plain": [
       "[Expression(AFFINE, UNKNOWN, (12,)),\n",
       " Expression(AFFINE, UNKNOWN, (12,)),\n",
       " Expression(AFFINE, UNKNOWN, (12,)),\n",
       " Expression(AFFINE, UNKNOWN, (12,)),\n",
       " Expression(AFFINE, UNKNOWN, (12,)),\n",
       " Expression(AFFINE, UNKNOWN, (12,)),\n",
       " Expression(AFFINE, UNKNOWN, (12,)),\n",
       " Expression(AFFINE, UNKNOWN, (12,)),\n",
       " Expression(AFFINE, UNKNOWN, (12,)),\n",
       " Expression(AFFINE, UNKNOWN, (12,)),\n",
       " Expression(AFFINE, UNKNOWN, (12,)),\n",
       " Expression(AFFINE, UNKNOWN, (12,)),\n",
       " Expression(AFFINE, UNKNOWN, (12,)),\n",
       " Expression(AFFINE, UNKNOWN, (12,)),\n",
       " Expression(AFFINE, UNKNOWN, (12,)),\n",
       " Expression(AFFINE, UNKNOWN, (12,)),\n",
       " Expression(AFFINE, UNKNOWN, (12,)),\n",
       " Expression(AFFINE, UNKNOWN, (12,))]"
      ]
     },
     "execution_count": 98,
     "metadata": {},
     "output_type": "execute_result"
    }
   ],
   "execution_count": 98
  },
  {
   "cell_type": "code",
   "source": [
    "l = 0.001\n",
    "e = 0.01\n",
    "f = 0.01\n",
    "g = 1\n",
    "reg =  cp.sum(cp.hstack([cfwd, crev, cp.vec(c)])) + cp.sum(cp.hstack([-Km_s, -Km_p])) # regularization\n",
    "reg2 = (cp.norm1(cp.hstack([cfwd, crev, cp.vec(c)])) \n",
    "        #+ cp.norm1(cp.hstack([-Km_s, -Km_p]) - 4)\n",
    "        ) # regularization\n",
    "reg3 = cp.sum(cp.huber(cp.hstack([-Km_s, -Km_p]) - 4,3  )) # issue with matrix\n",
    "\n",
    "# if y_s is larger than 3 or smaller than -3, add penalty\n",
    "reg4 = cp.sum(cp.max(cp.abs(cp.hstack([y_s, y_p])) - 3, 0))\n",
    "\n",
    "if n_Km_i:\n",
    "    reg += cp.sum(cp.hstack([-Km_i]))\n",
    "if n_Km_a:\n",
    "    reg += cp.sum(cp.hstack([-Km_a]))\n",
    "#reg3 = cp.norm1(cp.hstack([y_s, y_p])) # take a look at this\n",
    "\n",
    "loss = 0\n",
    "# for i in range(len(LSE_expr)):\n",
    "#     loss += cp.norm1(cp.pos(cp.log_sum_exp(LSE_expr[i])))\n",
    "for i in range(len(denom_expr)):\n",
    "    loss += 1 * denom_expr[i]\n",
    "loss += l * reg\n",
    "# loss += e * reg2\n",
    "# loss += f * reg3\n",
    "loss += g * reg4"
   ],
   "metadata": {
    "collapsed": false,
    "ExecuteTime": {
     "end_time": "2024-05-21T21:25:58.370759Z",
     "start_time": "2024-05-21T21:25:58.366280Z"
    }
   },
   "id": "8cdd817ad886e5fe",
   "outputs": [],
   "execution_count": 99
  },
  {
   "metadata": {
    "ExecuteTime": {
     "end_time": "2024-05-21T21:25:58.527523Z",
     "start_time": "2024-05-21T21:25:58.524374Z"
    }
   },
   "cell_type": "code",
   "source": "cp.max(cp.abs(cp.hstack([y_s, y_p])) - 3, 0)",
   "id": "721e71cfb4f43526",
   "outputs": [
    {
     "data": {
      "text/plain": [
       "Expression(CONVEX, UNKNOWN, (10,))"
      ]
     },
     "execution_count": 100,
     "metadata": {},
     "output_type": "execute_result"
    }
   ],
   "execution_count": 100
  },
  {
   "metadata": {
    "ExecuteTime": {
     "end_time": "2024-05-21T21:25:58.674370Z",
     "start_time": "2024-05-21T21:25:58.671970Z"
    }
   },
   "cell_type": "code",
   "source": [
    "# concentration estimates\n",
    "# Zn_conc_in = 1e-12 M\n",
    "# Zn_conc_out = 1e-6 M\n",
    "# ATP = 5e-3 M\n",
    "# ADP = 5e-4 M\n",
    "# Pi = 5e-4 M\n",
    "\n",
    "# km measured\n",
    "# ZntA_Zn_in = 1e-12 M\n",
    "\n",
    "list(Sd.index)"
   ],
   "id": "bf0b03f0a540f07c",
   "outputs": [
    {
     "data": {
      "text/plain": [
       "['ZN+2[p]', 'ATP[c]', 'ZN+2[c]', 'ADP[c]', 'Pi[c]']"
      ]
     },
     "execution_count": 101,
     "metadata": {},
     "output_type": "execute_result"
    }
   ],
   "execution_count": 101
  },
  {
   "metadata": {
    "ExecuteTime": {
     "end_time": "2024-05-21T21:25:58.834045Z",
     "start_time": "2024-05-21T21:25:58.831490Z"
    }
   },
   "cell_type": "code",
   "source": [
    "concentrations = {\n",
    "    'ZN+2[p]': [1e-6, 1e-6, 1e-6, 1e-6, 1e-6, 1e-6, 0.9e-6, 1.1e-6, 0.95e-6, ],\n",
    "    'ZN+2[c]': [1e-12, 0.5e-12, 2e-12,1e-12,1e-12,1e-12,0.9e-12,1.1e-12,0.95e-12],\n",
    "    'ATP[c]': [5e-3, 5e-3, 5e-3,5e-3, 5e-3, 5e-3,5.1e-3, 5.05e-3, 4.95e-3],\n",
    "    'ADP[c]': [5e-4, 5e-4, 5e-4,5e-4, 5e-4, 5e-4,5.1e-4, 5.05e-4, 4.95e-4],\n",
    "    'Pi[c]': [5e-4, 5e-4, 5e-4,5e-4, 5e-4, 5e-4,5.1e-4, 4.95e-4, 5.1e-4],\n",
    "}\n",
    "\n"
   ],
   "id": "e17544bbf53c8415",
   "outputs": [],
   "execution_count": 102
  },
  {
   "cell_type": "code",
   "source": [
    "constr = [cp.hstack([cfwd, crev, cp.vec(c), Km_s, Km_p]) >= -50,\n",
    "          cp.hstack([cfwd, crev, cp.vec(c), Km_s, Km_p]) <= 6,\n",
    "          ]\n",
    "\n",
    "if n_Km_i:\n",
    "    constr.extend([Km_i >= -12, Km_i <= 12])\n",
    "if n_Km_a:\n",
    "    constr.extend([Km_a >= -12, Km_a <= 12])\n",
    "\n",
    "# for now, just set concentrations as a constraint\n",
    "for i, met in enumerate(Sd.index):\n",
    "    if met in concentrations:\n",
    "        constr.extend([c[i, 0] == np.log(concentrations[met][0])])\n",
    "        constr.extend([c[i, 1] == np.log(concentrations[met][1])])\n",
    "        \n",
    "\n",
    "for i in range(len(LSE_expr)):\n",
    "    constr.extend([cp.pos(cp.log_sum_exp(LSE_expr[i])) <= 0])\n",
    "# set Kms as a constraint"
   ],
   "metadata": {
    "collapsed": false,
    "ExecuteTime": {
     "end_time": "2024-05-21T21:25:58.992072Z",
     "start_time": "2024-05-21T21:25:58.983254Z"
    }
   },
   "id": "3d2e26bf727f6531",
   "outputs": [],
   "execution_count": 103
  },
  {
   "cell_type": "code",
   "source": [
    "haldane = []\n",
    "fwd_flux = []\n",
    "\n",
    "for i, r in enumerate(S.T):\n",
    "    Km_s_idx = np.nonzero(S_s_nz[1, :] == i)\n",
    "    S_s_idx = S_s_nz[0, S_s_nz[1, :] == i] # negate -1 entries\n",
    "\n",
    "    Km_p_idx = np.nonzero(S_p_nz[1, :] == i)\n",
    "    S_p_idx = S_p_nz[0, S_p_nz[1, :] == i]\n",
    "\n",
    "    haldane.append(K_eq[i] == cfwd[i] - crev[i] + r[S_p_idx] @ Km_p[Km_p_idx] - (-r[S_s_idx]) @ Km_s[Km_s_idx])\n",
    "\n",
    "for j in range(n_flux_set):\n",
    "    for i, r in enumerate(S.T):\n",
    "        Km_s_idx = np.nonzero(S_s_nz[1, :] == i)\n",
    "        S_s_idx = S_s_nz[0, S_s_nz[1, :] == i] # negate -1 entries\n",
    "\n",
    "        Km_p_idx = np.nonzero(S_p_nz[1, :] == i)\n",
    "        S_p_idx = S_p_nz[0, S_p_nz[1, :] == i]\n",
    "\n",
    "        if sign[j, i] == 1:\n",
    "            fwd_flux.append(cfwd[i] + (-r[S_s_idx]) @ cp.vec(y_s[j, Km_s_idx]) - (crev[i] + r[S_p_idx] @ cp.vec(y_p[j, Km_p_idx]))  >= 0)  # add minus since s matrix has minus\n",
    "\n",
    "        if sign[j, i] == -1:\n",
    "            fwd_flux.append(cfwd[i] + (-r[S_s_idx]) @ cp.vec(y_s[j, Km_s_idx]) - (crev[i] + r[S_p_idx] @ cp.vec(y_p[j, Km_p_idx]))  <= 0)  # add minus since s matrix has minus\n",
    "\n",
    "    constr.extend([cp.multiply(S.T @ cp.vec(c[:, j]), sign[j, :])  <= cp.multiply(K_eq, sign[j, :])])\n",
    "\n",
    "# constr.extend(haldane)\n",
    "constr.extend(fwd_flux)"
   ],
   "metadata": {
    "collapsed": false,
    "ExecuteTime": {
     "end_time": "2024-05-21T21:25:59.143175Z",
     "start_time": "2024-05-21T21:25:59.132300Z"
    }
   },
   "id": "3c75a1b408e473",
   "outputs": [],
   "execution_count": 104
  },
  {
   "cell_type": "code",
   "source": [
    "p = cp.Problem(cp.Minimize(loss), constr)\n",
    "p.solve(verbose=True, solver=cp.CLARABEL)"
   ],
   "metadata": {
    "collapsed": false,
    "ExecuteTime": {
     "end_time": "2024-05-21T21:26:00.304581Z",
     "start_time": "2024-05-21T21:25:59.297863Z"
    }
   },
   "id": "e842c44cd8f9a5e9",
   "outputs": [
    {
     "name": "stdout",
     "output_type": "stream",
     "text": [
      "===============================================================================\n",
      "                                     CVXPY                                     \n",
      "                                     v1.4.3                                    \n",
      "===============================================================================\n",
      "(CVXPY) May 21 02:25:59 PM: Your problem has 59 variables, 57 constraints, and 0 parameters.\n",
      "(CVXPY) May 21 02:25:59 PM: It is compliant with the following grammars: DCP, DQCP\n",
      "(CVXPY) May 21 02:25:59 PM: (If you need to solve this problem multiple times, but with different data, consider using parameters.)\n",
      "(CVXPY) May 21 02:25:59 PM: CVXPY will first compile your problem; then, it will invoke a numerical solver to obtain a solution.\n",
      "(CVXPY) May 21 02:25:59 PM: Your problem is compiled with the CPP canonicalization backend.\n",
      "-------------------------------------------------------------------------------\n",
      "                                  Compilation                                  \n",
      "-------------------------------------------------------------------------------\n",
      "(CVXPY) May 21 02:25:59 PM: Compiling problem (target solver=CLARABEL).\n",
      "(CVXPY) May 21 02:25:59 PM: Reduction chain: Dcp2Cone -> CvxAttr2Constr -> ConeMatrixStuffing -> CLARABEL\n",
      "(CVXPY) May 21 02:25:59 PM: Applying reduction Dcp2Cone\n",
      "(CVXPY) May 21 02:25:59 PM: Applying reduction CvxAttr2Constr\n",
      "(CVXPY) May 21 02:25:59 PM: Applying reduction ConeMatrixStuffing\n",
      "(CVXPY) May 21 02:26:00 PM: Applying reduction CLARABEL\n",
      "(CVXPY) May 21 02:26:00 PM: Finished problem compilation (took 9.491e-01 seconds).\n",
      "-------------------------------------------------------------------------------\n",
      "                                Numerical solver                               \n",
      "-------------------------------------------------------------------------------\n",
      "(CVXPY) May 21 02:26:00 PM: Invoking solver CLARABEL  to obtain a solution.\n",
      "-------------------------------------------------------------\n",
      "           Clarabel.rs v0.6.0  -  Clever Acronym              \n",
      "\n",
      "                   (c) Paul Goulart                          \n",
      "                University of Oxford, 2022                   \n",
      "-------------------------------------------------------------\n",
      "\n",
      "problem:\n",
      "  variables     = 411\n",
      "  constraints   = 1154\n",
      "  nnz(P)        = 0\n",
      "  nnz(A)        = 3368\n",
      "  cones (total) = 218\n",
      "    :        Zero = 1,  numel = 10\n",
      "    : Nonnegative = 1,  numel = 496\n",
      "    : Exponential = 216,  numel = (3,3,3,3,...,3)\n",
      "\n",
      "settings:\n",
      "  linear algebra: direct / qdldl, precision: 64 bit\n",
      "  max iter = 200, time limit = Inf,  max step = 0.990\n",
      "  tol_feas = 1.0e-8, tol_gap_abs = 1.0e-8, tol_gap_rel = 1.0e-8,\n",
      "  static reg : on, ϵ1 = 1.0e-8, ϵ2 = 4.9e-32\n",
      "  dynamic reg: on, ϵ = 1.0e-13, δ = 2.0e-7\n",
      "  iter refine: on, reltol = 1.0e-13, abstol = 1.0e-12,\n",
      "               max iter = 10, stop ratio = 5.0\n",
      "  equilibrate: on, min_scale = 1.0e-4, max_scale = 1.0e4\n",
      "               max iter = 10\n",
      "\n",
      "iter    pcost        dcost       gap       pres      dres      k/t        μ       step      \n",
      "---------------------------------------------------------------------------------------------\n",
      "  0  +0.0000e+00  -7.0951e+03  7.10e+03  5.19e+00  7.14e+00  1.00e+00  1.00e+00   ------   \n",
      "  1  +5.4662e+01  -6.6390e+03  1.22e+02  2.98e+00  3.40e+00  2.33e+00  3.90e-01  7.72e-01  \n",
      "  2  +1.8046e+02  -4.4682e+03  2.58e+01  8.64e-01  9.50e-01  5.10e+00  9.98e-02  7.98e-01  \n",
      "  3  +7.5652e+01  -2.4103e+03  3.29e+01  3.50e-01  5.03e-01  1.54e+00  4.76e-02  9.80e-01  \n",
      "  4  -7.0605e+01  -8.9234e+02  1.16e+01  9.75e-02  1.63e-01  5.06e-01  1.50e-02  7.99e-01  \n",
      "  5  -1.9314e+02  -4.9415e+02  1.56e+00  3.50e-02  7.01e-02  1.73e-01  6.46e-03  6.26e-01  \n",
      "  6  -2.4099e+02  -3.6354e+02  5.09e-01  1.44e-02  3.15e-02  7.06e-02  3.04e-03  5.90e-01  \n",
      "  7  -2.6584e+02  -3.0899e+02  1.62e-01  5.07e-03  1.15e-02  2.97e-02  1.17e-03  7.84e-01  \n",
      "  8  -2.7448e+02  -2.9004e+02  5.67e-02  1.83e-03  4.21e-03  1.09e-02  4.36e-04  6.86e-01  \n",
      "  9  -2.7807e+02  -2.8212e+02  1.45e-02  4.73e-04  1.09e-03  2.91e-03  1.14e-04  8.17e-01  \n",
      " 10  -2.7889e+02  -2.8006e+02  4.18e-03  1.36e-04  3.12e-04  8.51e-04  3.28e-05  7.58e-01  \n",
      " 11  -2.7906e+02  -2.7967e+02  2.16e-03  6.93e-05  1.59e-04  4.51e-04  1.65e-05  5.66e-01  \n",
      " 12  -2.7912e+02  -2.7962e+02  1.81e-03  5.03e-05  1.19e-04  4.24e-04  1.19e-05  4.60e-01  \n",
      " 13  -2.7913e+02  -2.7954e+02  1.49e-03  4.81e-05  1.10e-04  2.87e-04  1.15e-05  2.54e-01  \n",
      " 14  -2.7920e+02  -2.7947e+02  9.53e-04  2.73e-05  6.40e-05  2.13e-04  6.44e-06  6.74e-01  \n",
      " 15  -2.7927e+02  -2.7935e+02  2.89e-04  8.19e-06  1.92e-05  5.99e-05  1.93e-06  7.84e-01  \n",
      " 16  -2.7930e+02  -2.7932e+02  8.97e-05  2.51e-06  5.92e-06  1.87e-05  5.94e-07  7.15e-01  \n",
      " 17  -2.7930e+02  -2.7931e+02  2.72e-05  7.58e-07  1.79e-06  5.70e-06  1.80e-07  7.07e-01  \n",
      " 18  -2.7931e+02  -2.7931e+02  4.50e-06  1.25e-07  2.96e-07  9.59e-07  2.96e-08  8.58e-01  \n",
      " 19  -2.7931e+02  -2.7931e+02  1.04e-06  2.91e-08  6.86e-08  2.24e-07  6.88e-09  7.84e-01  \n",
      " 20  -2.7931e+02  -2.7931e+02  9.52e-07  2.65e-08  6.26e-08  2.05e-07  6.28e-09  1.32e-01  \n",
      " 21  -2.7931e+02  -2.7931e+02  8.47e-07  2.36e-08  5.57e-08  1.84e-07  5.58e-09  1.64e-01  \n",
      " 22  -2.7931e+02  -2.7931e+02  5.86e-07  1.63e-08  3.85e-08  1.29e-07  3.86e-09  4.01e-01  \n",
      " 23  -2.7931e+02  -2.7931e+02  1.60e-07  4.44e-09  1.05e-08  3.52e-08  1.05e-09  7.41e-01  \n",
      " 24  -2.7931e+02  -2.7931e+02  1.60e-07  4.44e-09  1.05e-08  3.52e-08  1.05e-09  0.00e+00  \n",
      " 25  -2.7931e+02  -2.7931e+02  1.59e-07  4.41e-09  1.04e-08  3.55e-08  1.01e-09  8.42e-02  \n",
      " 26  -2.7931e+02  -2.7931e+02  1.17e-07  3.25e-09  7.62e-09  2.69e-08  7.01e-10  4.01e-01  \n",
      " 27  -2.7931e+02  -2.7931e+02  3.00e-08  8.34e-10  1.95e-09  6.88e-09  1.81e-10  7.69e-01  \n",
      " 28  -2.7931e+02  -2.7931e+02  1.17e-08  3.26e-10  7.64e-10  2.71e-09  7.02e-11  6.21e-01  \n",
      " 29  -2.7931e+02  -2.7931e+02  2.63e-09  7.32e-11  1.71e-10  6.01e-10  1.59e-11  7.84e-01  \n",
      "---------------------------------------------------------------------------------------------\n",
      "Terminated with status = Solved\n",
      "solve time = 12.713295ms\n",
      "-------------------------------------------------------------------------------\n",
      "                                    Summary                                    \n",
      "-------------------------------------------------------------------------------\n",
      "(CVXPY) May 21 02:26:00 PM: Problem status: optimal\n",
      "(CVXPY) May 21 02:26:00 PM: Optimal value: -2.793e+02\n",
      "(CVXPY) May 21 02:26:00 PM: Compilation took 9.491e-01 seconds\n",
      "(CVXPY) May 21 02:26:00 PM: Solver (including time spent in interface) took 1.382e-02 seconds\n"
     ]
    },
    {
     "data": {
      "text/plain": [
       "-279.3068791152393"
      ]
     },
     "execution_count": 105,
     "metadata": {},
     "output_type": "execute_result"
    }
   ],
   "execution_count": 105
  },
  {
   "cell_type": "code",
   "source": [
    "print('Substrate Km:', [f'{val:.6f}' for val in np.exp(Km_s.value)])\n",
    "print('Product Km:', [f'{val:.3f}' for val in np.exp(Km_p.value)])\n",
    "print('Fwd kcat:', [f'{val:.3f}' for val in np.exp(cfwd.value)])\n",
    "print('Rev kcat:', [f'{val:.3f}' for val in np.exp(crev.value)])\n",
    "\n",
    "concs = np.exp(c.value).T\n",
    "for row in concs:\n",
    "    print('Concentration:', [f'{val:.12f}' for val in row])\n",
    "\n",
    "if n_Km_i:\n",
    "    print('Inhibition Km:', [f'{val:.7f}' for val in np.exp(Km_i.value)])\n",
    "if n_Km_a:\n",
    "    print('Activation Km:', [f'{val:.7f}' for val in np.exp(Km_a.value)])"
   ],
   "metadata": {
    "collapsed": false,
    "ExecuteTime": {
     "end_time": "2024-05-21T21:26:00.309085Z",
     "start_time": "2024-05-21T21:26:00.305752Z"
    }
   },
   "id": "5dc96cbcf5f92165",
   "outputs": [
    {
     "name": "stdout",
     "output_type": "stream",
     "text": [
      "Substrate Km: ['0.000005', '0.026811', '0.027247', '0.000000']\n",
      "Product Km: ['0.000', '0.000', '0.003', '0.003', '0.003', '0.003']\n",
      "Fwd kcat: ['0.000', '0.000']\n",
      "Rev kcat: ['0.000', '0.000']\n",
      "Concentration: ['0.000001000000', '0.005000000003', '0.000000000001', '0.000500000000', '0.000500000000']\n",
      "Concentration: ['0.000001000000', '0.005000000003', '0.000000000001', '0.000500000000', '0.000500000000']\n",
      "Concentration: ['0.000000991821', '0.005835436520', '0.000000000002', '0.000500000001', '0.000500000001']\n",
      "Concentration: ['0.000000993420', '0.005685640124', '0.000000000001', '0.000500000000', '0.000500000000']\n",
      "Concentration: ['0.000000991821', '0.004630534318', '0.000000000001', '0.000500000000', '0.000500000000']\n",
      "Concentration: ['0.000000991821', '0.003623050782', '0.000000000001', '0.000500001023', '0.000500001023']\n",
      "Concentration: ['0.000000991821', '0.004630534319', '0.000000000001', '0.000500000000', '0.000500000000']\n",
      "Concentration: ['0.000000991821', '0.004630534321', '0.000000000001', '0.000500000000', '0.000500000000']\n",
      "Concentration: ['0.000000991821', '0.004630534315', '0.000000000001', '0.000500000000', '0.000500000000']\n"
     ]
    }
   ],
   "execution_count": 106
  },
  {
   "metadata": {
    "ExecuteTime": {
     "end_time": "2024-05-21T21:26:00.311330Z",
     "start_time": "2024-05-21T21:26:00.310013Z"
    }
   },
   "cell_type": "code",
   "source": "",
   "id": "94d7fd1f4f9fe25d",
   "outputs": [],
   "execution_count": 106
  },
  {
   "metadata": {
    "ExecuteTime": {
     "end_time": "2024-05-21T21:26:00.317039Z",
     "start_time": "2024-05-21T21:26:00.312495Z"
    }
   },
   "cell_type": "code",
   "source": [
    "print('reaction 1, ZnuBC Out -> In, no water, proton')\n",
    "print('List of substrates: ', list(Sd.index[Sd.iloc[:, 0] < 0]))\n",
    "print('Substrate Km:', [f'{val:.4f}' for val in Km_s.value[0:2]])\n",
    "print('List of products: ', list(Sd.index[Sd.iloc[:, 0] > 0]))\n",
    "print('Product Km:', [f'{val:.4f}' for val in Km_p.value[0:3]])\n",
    "\n",
    "print('Fwd kcat:', [f'{val:.4f}' for val in cfwd.value][0])\n",
    "print('Rev kcat:', [f'{val:.4f}' for val in crev.value][0])\n",
    "\n",
    "\n",
    "print('reaction 2, ZntA in -> out, no water, proton')\n",
    "print('List of substrates: ', list(Sd.index[Sd.iloc[:, 1] < 0]))\n",
    "print('Substrate Km:', [f'{val:.4f}' for val in Km_s.value[2:4]])\n",
    "print('List of products: ', list(Sd.index[Sd.iloc[:, 1] > 0]))\n",
    "print('Product Km:', [f'{val:.4f}' for val in Km_p.value[3:6]])\n",
    "\n",
    "print('Fwd kcat:', [f'{val:.4f}' for val in cfwd.value][1])\n",
    "print('Rev kcat:', [f'{val:.4f}' for val in crev.value][1])\n",
    "\n",
    "# concentrations\n",
    "print('Molecules: ', list(Sd.index))\n",
    "print('Concentration:', [f'{val:.4f}' for val in c.value[:, 0]])"
   ],
   "id": "161ab745dda08e8e",
   "outputs": [
    {
     "name": "stdout",
     "output_type": "stream",
     "text": [
      "reaction 1, ZnuBC Out -> In, no water, proton\n",
      "List of substrates:  ['ZN+2[p]', 'ATP[c]']\n",
      "Substrate Km: ['-12.1344', '-3.6190']\n",
      "List of products:  ['ZN+2[c]', 'ADP[c]', 'Pi[c]']\n",
      "Product Km: ['-12.0022', '-26.1227', '-5.7821']\n",
      "Fwd kcat: -11.2415\n",
      "Rev kcat: -50.0000\n",
      "reaction 2, ZntA in -> out, no water, proton\n",
      "List of substrates:  ['ATP[c]', 'ZN+2[c]']\n",
      "Substrate Km: ['-3.6028', '-26.1330']\n",
      "List of products:  ['ZN+2[p]', 'ADP[c]', 'Pi[c]']\n",
      "Product Km: ['-5.7814', '-5.7821', '-5.7814']\n",
      "Fwd kcat: -11.4272\n",
      "Rev kcat: -50.0000\n",
      "Molecules:  ['ZN+2[p]', 'ATP[c]', 'ZN+2[c]', 'ADP[c]', 'Pi[c]']\n",
      "Concentration: ['-13.8155', '-5.2983', '-27.6310', '-7.6009', '-7.6009']\n"
     ]
    }
   ],
   "execution_count": 107
  },
  {
   "metadata": {
    "ExecuteTime": {
     "end_time": "2024-05-21T21:26:00.320096Z",
     "start_time": "2024-05-21T21:26:00.317600Z"
    }
   },
   "cell_type": "code",
   "source": "y_p.value",
   "id": "eb9fad975337c713",
   "outputs": [
    {
     "data": {
      "text/plain": [
       "array([[-1.81331122, -1.50830977, -1.8187824 , -1.81954237, -1.81878228,\n",
       "        -1.8195406 ],\n",
       "       [-1.81331122, -2.20145695, -1.8187824 , -1.81954237, -1.81878228,\n",
       "        -1.8195406 ],\n",
       "       [-1.82152392, -0.83193008, -1.8187824 , -1.81954237, -1.81878228,\n",
       "        -1.8195406 ],\n",
       "       [-1.81991288, -2.20145694, -1.8187824 , -1.81954237, -1.81878229,\n",
       "        -1.8195406 ],\n",
       "       [-1.82152391, -2.20145691, -1.8187824 , -1.81954237, -1.81878229,\n",
       "        -1.8195406 ],\n",
       "       [-1.82152392, -2.20145695, -1.81878036, -1.81954032, -1.81878024,\n",
       "        -1.81953855],\n",
       "       [-1.82152391, -2.20145692, -1.8187824 , -1.81954237, -1.81878229,\n",
       "        -1.8195406 ],\n",
       "       [-1.82152391, -2.20145692, -1.8187824 , -1.81954237, -1.81878229,\n",
       "        -1.8195406 ],\n",
       "       [-1.82152391, -2.20145691, -1.8187824 , -1.81954237, -1.81878229,\n",
       "        -1.8195406 ]])"
      ]
     },
     "execution_count": 108,
     "metadata": {},
     "output_type": "execute_result"
    }
   ],
   "execution_count": 108
  },
  {
   "cell_type": "code",
   "source": [
    "for v in LSE_expr:\n",
    "    #print(v.value)\n",
    "    print(logsumexp(v.value))"
   ],
   "metadata": {
    "collapsed": false,
    "ExecuteTime": {
     "end_time": "2024-05-21T21:26:00.339119Z",
     "start_time": "2024-05-21T21:26:00.320735Z"
    }
   },
   "id": "614a1856236dd492",
   "outputs": [
    {
     "name": "stdout",
     "output_type": "stream",
     "text": [
      "-5.389406587674728e-09\n",
      "-6.486111980841258e-09\n",
      "-0.07542785344079872\n",
      "-0.06777920522496461\n",
      "-1.945136518521906e-08\n",
      "-9.095276309878386e-09\n",
      "-1.1380598463617275e-08\n",
      "-1.3670357845718684e-08\n",
      "-1.2554864814440236e-08\n",
      "-1.3274641497140749e-08\n",
      "-0.0016296258620314141\n",
      "-2.006330282910973e-05\n",
      "-1.2680181349367103e-08\n",
      "-1.3168074741720659e-08\n",
      "-1.3068105708669009e-08\n",
      "-1.35066372530801e-08\n",
      "-1.1721575488010672e-08\n",
      "-1.3219316308266116e-08\n"
     ]
    }
   ],
   "execution_count": 109
  },
  {
   "cell_type": "markdown",
   "source": [
    "Perfect? Wow."
   ],
   "metadata": {
    "collapsed": false
   },
   "id": "84b952a45a6433a7"
  },
  {
   "cell_type": "markdown",
   "source": [
    "# Check flux reconstruction with inhibition/activation"
   ],
   "metadata": {
    "collapsed": false
   },
   "id": "3f8aa2dbe686be22"
  },
  {
   "cell_type": "code",
   "source": [
    "reconstructed_vE = np.zeros(vE.shape)\n",
    "\n",
    "for j in range(n_flux_set):\n",
    "    sat_expr = []\n",
    "    fwd_sat = np.zeros(n_rxn)\n",
    "    back_sat = np.zeros(n_rxn)\n",
    "    sat = np.zeros(n_rxn)\n",
    "\n",
    "    for i in range(n_rxn):\n",
    "        # sum terms are separate in logsumexp. one per saturation term (row in C_alpha, C_beta)\n",
    "        n_term_s = np.sum(d_alpha == i)\n",
    "        n_term_p = np.sum(d_beta == i)\n",
    "        n_term = n_term_s + n_term_p\n",
    "\n",
    "\n",
    "        Km_s_idx = np.nonzero(S_s_nz[1, :] == i)\n",
    "        S_s_idx = S_s_nz[0, S_s_nz[1, :] == i] # negate -1 entries\n",
    "\n",
    "        Km_p_idx = np.nonzero(S_p_nz[1, :] == i)\n",
    "        S_p_idx = S_p_nz[0, S_p_nz[1, :] == i]\n",
    "\n",
    "        #S_s_idx = S_s_nz[0, S_s_nz[1, :] == i]\n",
    "\n",
    "        sat_expr.append(           [ (C_alpha @ y_f.value[j, :].flatten())[d_alpha == i] ,\n",
    "                                     (C_beta @ y_r.value[j, :].flatten())[d_beta == i],\n",
    "                                     0,\n",
    "                                     #-1*np.ones(n_lse_terms - n_term + 1)\n",
    "                                   ]\n",
    "                       )\n",
    "        fwd_sat[i] = (np.exp(-S.T[i, S_s_idx] @ y_s.value[j, Km_s_idx].flatten())) # + cfwd.value[i]\n",
    "        back_sat[i] = (np.exp(S.T[i, S_p_idx] @ y_p.value[j, Km_p_idx].flatten())) # + cfwd.value[i]\n",
    "\n",
    "\n",
    "\n",
    "    for i, rxn in enumerate(sat_expr):\n",
    "        s = 0\n",
    "\n",
    "        for term in rxn:\n",
    "            s += np.sum(np.exp(term))\n",
    "\n",
    "        sat[i] = (s)\n",
    "\n",
    "    reconstr = np.exp(cfwd.value) * fwd_sat/sat - np.exp(crev.value) * back_sat/sat\n",
    "    print(reconstr)\n",
    "    reconstructed_vE[j, :] = reconstr"
   ],
   "metadata": {
    "collapsed": false,
    "ExecuteTime": {
     "end_time": "2024-05-21T21:26:02.948529Z",
     "start_time": "2024-05-21T21:26:02.927944Z"
    }
   },
   "id": "2ddb299ea4615230",
   "outputs": [
    {
     "name": "stdout",
     "output_type": "stream",
     "text": [
      "[2.21410385e-07 2.21410386e-07]\n",
      "[2.38756875e-07 1.18468837e-07]\n",
      "[2.21410388e-07 4.42820772e-07]\n",
      "[2.65692464e-07 1.32846232e-07]\n",
      "[2.21410387e-07 1.10705194e-07]\n",
      "[1.77417196e-07 8.85659306e-08]\n",
      "[2.21410387e-07 1.10705194e-07]\n",
      "[2.21410387e-07 1.10705194e-07]\n",
      "[2.21410387e-07 1.10705194e-07]\n"
     ]
    }
   ],
   "execution_count": 110
  },
  {
   "cell_type": "code",
   "source": [
    "df_vE = pd.DataFrame(vE, columns=Sd.columns, index=[\"Flux set 1\", \"Flux set 2\",\"Flux set 3\"]).melt(ignore_index=False).reset_index(drop=False)\n",
    "df_vE[\"kind\"] = \"Actual flux\"\n",
    "df_recon = pd.DataFrame(reconstructed_vE, columns=Sd.columns, index=[\"Flux set 1\", \"Flux set 2\",\"Flux set 3\"]).melt(ignore_index=False).reset_index(drop=False)\n",
    "df_recon[\"kind\"] = \"Reconstructed flux\"\n",
    "\n",
    "df_reconstr_comp = pd.concat([df_vE, df_recon]).reset_index(drop=True)\n",
    "df_reconstr_comp"
   ],
   "metadata": {
    "collapsed": false,
    "ExecuteTime": {
     "end_time": "2024-05-21T21:26:03.994513Z",
     "start_time": "2024-05-21T21:26:03.949317Z"
    }
   },
   "id": "f2b325d0a4f20e05",
   "outputs": [
    {
     "ename": "ValueError",
     "evalue": "Shape of passed values is (9, 2), indices imply (3, 2)",
     "output_type": "error",
     "traceback": [
      "\u001B[0;31m---------------------------------------------------------------------------\u001B[0m",
      "\u001B[0;31mValueError\u001B[0m                                Traceback (most recent call last)",
      "Cell \u001B[0;32mIn[111], line 1\u001B[0m\n\u001B[0;32m----> 1\u001B[0m df_vE \u001B[38;5;241m=\u001B[39m \u001B[43mpd\u001B[49m\u001B[38;5;241;43m.\u001B[39;49m\u001B[43mDataFrame\u001B[49m\u001B[43m(\u001B[49m\u001B[43mvE\u001B[49m\u001B[43m,\u001B[49m\u001B[43m \u001B[49m\u001B[43mcolumns\u001B[49m\u001B[38;5;241;43m=\u001B[39;49m\u001B[43mSd\u001B[49m\u001B[38;5;241;43m.\u001B[39;49m\u001B[43mcolumns\u001B[49m\u001B[43m,\u001B[49m\u001B[43m \u001B[49m\u001B[43mindex\u001B[49m\u001B[38;5;241;43m=\u001B[39;49m\u001B[43m[\u001B[49m\u001B[38;5;124;43m\"\u001B[39;49m\u001B[38;5;124;43mFlux set 1\u001B[39;49m\u001B[38;5;124;43m\"\u001B[39;49m\u001B[43m,\u001B[49m\u001B[43m \u001B[49m\u001B[38;5;124;43m\"\u001B[39;49m\u001B[38;5;124;43mFlux set 2\u001B[39;49m\u001B[38;5;124;43m\"\u001B[39;49m\u001B[43m,\u001B[49m\u001B[38;5;124;43m\"\u001B[39;49m\u001B[38;5;124;43mFlux set 3\u001B[39;49m\u001B[38;5;124;43m\"\u001B[39;49m\u001B[43m]\u001B[49m\u001B[43m)\u001B[49m\u001B[38;5;241m.\u001B[39mmelt(ignore_index\u001B[38;5;241m=\u001B[39m\u001B[38;5;28;01mFalse\u001B[39;00m)\u001B[38;5;241m.\u001B[39mreset_index(drop\u001B[38;5;241m=\u001B[39m\u001B[38;5;28;01mFalse\u001B[39;00m)\n\u001B[1;32m      2\u001B[0m df_vE[\u001B[38;5;124m\"\u001B[39m\u001B[38;5;124mkind\u001B[39m\u001B[38;5;124m\"\u001B[39m] \u001B[38;5;241m=\u001B[39m \u001B[38;5;124m\"\u001B[39m\u001B[38;5;124mActual flux\u001B[39m\u001B[38;5;124m\"\u001B[39m\n\u001B[1;32m      3\u001B[0m df_recon \u001B[38;5;241m=\u001B[39m pd\u001B[38;5;241m.\u001B[39mDataFrame(reconstructed_vE, columns\u001B[38;5;241m=\u001B[39mSd\u001B[38;5;241m.\u001B[39mcolumns, index\u001B[38;5;241m=\u001B[39m[\u001B[38;5;124m\"\u001B[39m\u001B[38;5;124mFlux set 1\u001B[39m\u001B[38;5;124m\"\u001B[39m, \u001B[38;5;124m\"\u001B[39m\u001B[38;5;124mFlux set 2\u001B[39m\u001B[38;5;124m\"\u001B[39m,\u001B[38;5;124m\"\u001B[39m\u001B[38;5;124mFlux set 3\u001B[39m\u001B[38;5;124m\"\u001B[39m])\u001B[38;5;241m.\u001B[39mmelt(ignore_index\u001B[38;5;241m=\u001B[39m\u001B[38;5;28;01mFalse\u001B[39;00m)\u001B[38;5;241m.\u001B[39mreset_index(drop\u001B[38;5;241m=\u001B[39m\u001B[38;5;28;01mFalse\u001B[39;00m)\n",
      "File \u001B[0;32m~/.pyenv/versions/viv-10/lib/python3.10/site-packages/pandas/core/frame.py:816\u001B[0m, in \u001B[0;36mDataFrame.__init__\u001B[0;34m(self, data, index, columns, dtype, copy)\u001B[0m\n\u001B[1;32m    805\u001B[0m         mgr \u001B[38;5;241m=\u001B[39m dict_to_mgr(\n\u001B[1;32m    806\u001B[0m             \u001B[38;5;66;03m# error: Item \"ndarray\" of \"Union[ndarray, Series, Index]\" has no\u001B[39;00m\n\u001B[1;32m    807\u001B[0m             \u001B[38;5;66;03m# attribute \"name\"\u001B[39;00m\n\u001B[0;32m   (...)\u001B[0m\n\u001B[1;32m    813\u001B[0m             copy\u001B[38;5;241m=\u001B[39m_copy,\n\u001B[1;32m    814\u001B[0m         )\n\u001B[1;32m    815\u001B[0m     \u001B[38;5;28;01melse\u001B[39;00m:\n\u001B[0;32m--> 816\u001B[0m         mgr \u001B[38;5;241m=\u001B[39m \u001B[43mndarray_to_mgr\u001B[49m\u001B[43m(\u001B[49m\n\u001B[1;32m    817\u001B[0m \u001B[43m            \u001B[49m\u001B[43mdata\u001B[49m\u001B[43m,\u001B[49m\n\u001B[1;32m    818\u001B[0m \u001B[43m            \u001B[49m\u001B[43mindex\u001B[49m\u001B[43m,\u001B[49m\n\u001B[1;32m    819\u001B[0m \u001B[43m            \u001B[49m\u001B[43mcolumns\u001B[49m\u001B[43m,\u001B[49m\n\u001B[1;32m    820\u001B[0m \u001B[43m            \u001B[49m\u001B[43mdtype\u001B[49m\u001B[38;5;241;43m=\u001B[39;49m\u001B[43mdtype\u001B[49m\u001B[43m,\u001B[49m\n\u001B[1;32m    821\u001B[0m \u001B[43m            \u001B[49m\u001B[43mcopy\u001B[49m\u001B[38;5;241;43m=\u001B[39;49m\u001B[43mcopy\u001B[49m\u001B[43m,\u001B[49m\n\u001B[1;32m    822\u001B[0m \u001B[43m            \u001B[49m\u001B[43mtyp\u001B[49m\u001B[38;5;241;43m=\u001B[39;49m\u001B[43mmanager\u001B[49m\u001B[43m,\u001B[49m\n\u001B[1;32m    823\u001B[0m \u001B[43m        \u001B[49m\u001B[43m)\u001B[49m\n\u001B[1;32m    825\u001B[0m \u001B[38;5;66;03m# For data is list-like, or Iterable (will consume into list)\u001B[39;00m\n\u001B[1;32m    826\u001B[0m \u001B[38;5;28;01melif\u001B[39;00m is_list_like(data):\n",
      "File \u001B[0;32m~/.pyenv/versions/viv-10/lib/python3.10/site-packages/pandas/core/internals/construction.py:336\u001B[0m, in \u001B[0;36mndarray_to_mgr\u001B[0;34m(values, index, columns, dtype, copy, typ)\u001B[0m\n\u001B[1;32m    331\u001B[0m \u001B[38;5;66;03m# _prep_ndarraylike ensures that values.ndim == 2 at this point\u001B[39;00m\n\u001B[1;32m    332\u001B[0m index, columns \u001B[38;5;241m=\u001B[39m _get_axes(\n\u001B[1;32m    333\u001B[0m     values\u001B[38;5;241m.\u001B[39mshape[\u001B[38;5;241m0\u001B[39m], values\u001B[38;5;241m.\u001B[39mshape[\u001B[38;5;241m1\u001B[39m], index\u001B[38;5;241m=\u001B[39mindex, columns\u001B[38;5;241m=\u001B[39mcolumns\n\u001B[1;32m    334\u001B[0m )\n\u001B[0;32m--> 336\u001B[0m \u001B[43m_check_values_indices_shape_match\u001B[49m\u001B[43m(\u001B[49m\u001B[43mvalues\u001B[49m\u001B[43m,\u001B[49m\u001B[43m \u001B[49m\u001B[43mindex\u001B[49m\u001B[43m,\u001B[49m\u001B[43m \u001B[49m\u001B[43mcolumns\u001B[49m\u001B[43m)\u001B[49m\n\u001B[1;32m    338\u001B[0m \u001B[38;5;28;01mif\u001B[39;00m typ \u001B[38;5;241m==\u001B[39m \u001B[38;5;124m\"\u001B[39m\u001B[38;5;124marray\u001B[39m\u001B[38;5;124m\"\u001B[39m:\n\u001B[1;32m    339\u001B[0m     \u001B[38;5;28;01mif\u001B[39;00m \u001B[38;5;28missubclass\u001B[39m(values\u001B[38;5;241m.\u001B[39mdtype\u001B[38;5;241m.\u001B[39mtype, \u001B[38;5;28mstr\u001B[39m):\n",
      "File \u001B[0;32m~/.pyenv/versions/viv-10/lib/python3.10/site-packages/pandas/core/internals/construction.py:420\u001B[0m, in \u001B[0;36m_check_values_indices_shape_match\u001B[0;34m(values, index, columns)\u001B[0m\n\u001B[1;32m    418\u001B[0m passed \u001B[38;5;241m=\u001B[39m values\u001B[38;5;241m.\u001B[39mshape\n\u001B[1;32m    419\u001B[0m implied \u001B[38;5;241m=\u001B[39m (\u001B[38;5;28mlen\u001B[39m(index), \u001B[38;5;28mlen\u001B[39m(columns))\n\u001B[0;32m--> 420\u001B[0m \u001B[38;5;28;01mraise\u001B[39;00m \u001B[38;5;167;01mValueError\u001B[39;00m(\u001B[38;5;124mf\u001B[39m\u001B[38;5;124m\"\u001B[39m\u001B[38;5;124mShape of passed values is \u001B[39m\u001B[38;5;132;01m{\u001B[39;00mpassed\u001B[38;5;132;01m}\u001B[39;00m\u001B[38;5;124m, indices imply \u001B[39m\u001B[38;5;132;01m{\u001B[39;00mimplied\u001B[38;5;132;01m}\u001B[39;00m\u001B[38;5;124m\"\u001B[39m)\n",
      "\u001B[0;31mValueError\u001B[0m: Shape of passed values is (9, 2), indices imply (3, 2)"
     ]
    }
   ],
   "execution_count": 111
  },
  {
   "cell_type": "code",
   "source": [
    "sns.catplot(x=\"index\", y=\"value\", hue=\"kind\", col=\"variable\", kind=\"bar\", data=df_reconstr_comp, height=5, aspect=1, col_wrap=2)\n",
    "plt.savefig(\"flux_set_comparison.svg\")"
   ],
   "metadata": {
    "collapsed": false,
    "ExecuteTime": {
     "end_time": "2024-05-21T21:26:04.619429Z",
     "start_time": "2024-05-21T21:26:04.608326Z"
    }
   },
   "id": "9adae98f0fb2aa55",
   "outputs": [
    {
     "ename": "NameError",
     "evalue": "name 'df_reconstr_comp' is not defined",
     "output_type": "error",
     "traceback": [
      "\u001B[0;31m---------------------------------------------------------------------------\u001B[0m",
      "\u001B[0;31mNameError\u001B[0m                                 Traceback (most recent call last)",
      "Cell \u001B[0;32mIn[112], line 1\u001B[0m\n\u001B[0;32m----> 1\u001B[0m sns\u001B[38;5;241m.\u001B[39mcatplot(x\u001B[38;5;241m=\u001B[39m\u001B[38;5;124m\"\u001B[39m\u001B[38;5;124mindex\u001B[39m\u001B[38;5;124m\"\u001B[39m, y\u001B[38;5;241m=\u001B[39m\u001B[38;5;124m\"\u001B[39m\u001B[38;5;124mvalue\u001B[39m\u001B[38;5;124m\"\u001B[39m, hue\u001B[38;5;241m=\u001B[39m\u001B[38;5;124m\"\u001B[39m\u001B[38;5;124mkind\u001B[39m\u001B[38;5;124m\"\u001B[39m, col\u001B[38;5;241m=\u001B[39m\u001B[38;5;124m\"\u001B[39m\u001B[38;5;124mvariable\u001B[39m\u001B[38;5;124m\"\u001B[39m, kind\u001B[38;5;241m=\u001B[39m\u001B[38;5;124m\"\u001B[39m\u001B[38;5;124mbar\u001B[39m\u001B[38;5;124m\"\u001B[39m, data\u001B[38;5;241m=\u001B[39m\u001B[43mdf_reconstr_comp\u001B[49m, height\u001B[38;5;241m=\u001B[39m\u001B[38;5;241m5\u001B[39m, aspect\u001B[38;5;241m=\u001B[39m\u001B[38;5;241m1\u001B[39m, col_wrap\u001B[38;5;241m=\u001B[39m\u001B[38;5;241m2\u001B[39m)\n\u001B[1;32m      2\u001B[0m plt\u001B[38;5;241m.\u001B[39msavefig(\u001B[38;5;124m\"\u001B[39m\u001B[38;5;124mflux_set_comparison.svg\u001B[39m\u001B[38;5;124m\"\u001B[39m)\n",
      "\u001B[0;31mNameError\u001B[0m: name 'df_reconstr_comp' is not defined"
     ]
    }
   ],
   "execution_count": 112
  },
  {
   "cell_type": "code",
   "source": [
    "reconstructed_vE = np.zeros(vE.shape)\n",
    "\n",
    "for j in range(n_flux_set):\n",
    "    sat_expr = []\n",
    "    fwd_sat = np.zeros(n_rxn)\n",
    "    back_sat = np.zeros(n_rxn)\n",
    "    sat = np.zeros(n_rxn)\n",
    "\n",
    "    for i in range(n_rxn):\n",
    "        # sum terms are separate in logsumexp. one per saturation term (row in C_alpha, C_beta)\n",
    "\n",
    "\n",
    "        Km_s_idx = np.nonzero(S_s_nz[1, :] == i)\n",
    "        S_s_idx = S_s_nz[0, S_s_nz[1, :] == i] # negate -1 entries\n",
    "\n",
    "        Km_p_idx = np.nonzero(S_p_nz[1, :] == i)\n",
    "        S_p_idx = S_p_nz[0, S_p_nz[1, :] == i]\n",
    "\n",
    "        sat_expr.append(           [ (C_alpha @ y_f.value[j, :].flatten())[d_alpha == i] ,\n",
    "                                     (C_beta @ y_r.value[j, :].flatten())[d_beta == i],\n",
    "                                     0,\n",
    "                                     #-1*np.ones(n_lse_terms - n_term + 1)\n",
    "                                   ]\n",
    "                       )\n",
    "        fwd_sat[i] = (np.exp(-S.T[i, S_s_idx] @ y_s.value[j, Km_s_idx].flatten())) \n",
    "        back_sat[i] = (np.exp(S.T[i, S_p_idx] @ y_p.value[j, Km_p_idx].flatten()))\n",
    "\n",
    "\n",
    "\n",
    "    for i, rxn in enumerate(sat_expr):\n",
    "        s = 0\n",
    "\n",
    "        for term in rxn:\n",
    "            s += np.sum(np.exp(term))\n",
    "\n",
    "        sat[i] = (s)\n",
    "\n",
    "    reconstr = np.exp(cfwd.value) * fwd_sat/sat - np.exp(crev.value) * back_sat/sat\n",
    "    print(reconstr)\n",
    "    reconstructed_vE[j, :] = reconstr"
   ],
   "metadata": {
    "collapsed": false,
    "ExecuteTime": {
     "end_time": "2024-05-21T21:26:04.804235Z",
     "start_time": "2024-05-21T21:26:04.788222Z"
    }
   },
   "id": "471d3352182b24c",
   "outputs": [
    {
     "name": "stdout",
     "output_type": "stream",
     "text": [
      "[2.21410385e-07 2.21410386e-07]\n",
      "[2.38756875e-07 1.18468837e-07]\n",
      "[2.21410388e-07 4.42820772e-07]\n",
      "[2.65692464e-07 1.32846232e-07]\n",
      "[2.21410387e-07 1.10705194e-07]\n",
      "[1.77417196e-07 8.85659306e-08]\n",
      "[2.21410387e-07 1.10705194e-07]\n",
      "[2.21410387e-07 1.10705194e-07]\n",
      "[2.21410387e-07 1.10705194e-07]\n"
     ]
    }
   ],
   "execution_count": 113
  },
  {
   "cell_type": "code",
   "source": [
    "dmdt_ext = S @ reconstructed_vE.T\n",
    "dmdt_ext"
   ],
   "metadata": {
    "collapsed": false,
    "ExecuteTime": {
     "end_time": "2024-05-21T21:26:06.451607Z",
     "start_time": "2024-05-21T21:26:06.448192Z"
    }
   },
   "id": "2458932aa987b224",
   "outputs": [
    {
     "data": {
      "text/plain": [
       "array([[ 2.42821926e-16, -1.20288038e-07,  2.21410384e-07,\n",
       "        -1.32846232e-07, -1.10705193e-07, -8.88512649e-08,\n",
       "        -1.10705193e-07, -1.10705193e-07, -1.10705193e-07],\n",
       "       [-4.42820771e-07, -3.57225712e-07, -6.64231161e-07,\n",
       "        -3.98538696e-07, -3.32115580e-07, -2.65983126e-07,\n",
       "        -3.32115580e-07, -3.32115581e-07, -3.32115580e-07],\n",
       "       [-2.42821926e-16,  1.20288038e-07, -2.21410384e-07,\n",
       "         1.32846232e-07,  1.10705193e-07,  8.88512649e-08,\n",
       "         1.10705193e-07,  1.10705193e-07,  1.10705193e-07],\n",
       "       [ 4.42820771e-07,  3.57225712e-07,  6.64231161e-07,\n",
       "         3.98538696e-07,  3.32115580e-07,  2.65983126e-07,\n",
       "         3.32115580e-07,  3.32115581e-07,  3.32115580e-07],\n",
       "       [ 4.42820771e-07,  3.57225712e-07,  6.64231161e-07,\n",
       "         3.98538696e-07,  3.32115580e-07,  2.65983126e-07,\n",
       "         3.32115580e-07,  3.32115581e-07,  3.32115580e-07]])"
      ]
     },
     "execution_count": 114,
     "metadata": {},
     "output_type": "execute_result"
    }
   ],
   "execution_count": 114
  },
  {
   "metadata": {},
   "cell_type": "markdown",
   "source": "# Simulate dynamic response",
   "id": "89cf0cf48e43c80e"
  },
  {
   "metadata": {
    "ExecuteTime": {
     "end_time": "2024-05-21T21:26:07.813020Z",
     "start_time": "2024-05-21T21:26:07.810290Z"
    }
   },
   "cell_type": "code",
   "source": "c.value",
   "id": "291fa3ee1859fcdb",
   "outputs": [
    {
     "data": {
      "text/plain": [
       "array([[-13.81551056, -13.81551056, -13.82372325, -13.82211222,\n",
       "        -13.82372324, -13.82372326, -13.82372324, -13.82372324,\n",
       "        -13.82372324],\n",
       "       [ -5.29831737,  -5.29831737,  -5.14380621,  -5.16981156,\n",
       "         -5.37508301,  -5.62043885,  -5.37508301,  -5.37508301,\n",
       "         -5.37508301],\n",
       "       [-27.63102111, -28.32416829, -26.95464142, -28.32416828,\n",
       "        -28.32416826, -28.3241683 , -28.32416826, -28.32416826,\n",
       "        -28.32416826],\n",
       "       [ -7.60090246,  -7.60090246,  -7.60090246,  -7.60090246,\n",
       "         -7.60090246,  -7.60090041,  -7.60090246,  -7.60090246,\n",
       "         -7.60090246],\n",
       "       [ -7.60090246,  -7.60090246,  -7.60090246,  -7.60090246,\n",
       "         -7.60090246,  -7.60090041,  -7.60090246,  -7.60090246,\n",
       "         -7.60090246]])"
      ]
     },
     "execution_count": 115,
     "metadata": {},
     "output_type": "execute_result"
    }
   ],
   "execution_count": 115
  },
  {
   "metadata": {
    "ExecuteTime": {
     "end_time": "2024-05-21T21:24:38.141939Z",
     "start_time": "2024-05-21T21:24:38.138857Z"
    }
   },
   "cell_type": "code",
   "source": "Sd.index",
   "id": "23d55da803c295b0",
   "outputs": [
    {
     "data": {
      "text/plain": [
       "Index(['ZN+2[p]', 'ATP[c]', 'ZN+2[c]', 'ADP[c]', 'Pi[c]'], dtype='object')"
      ]
     },
     "execution_count": 81,
     "metadata": {},
     "output_type": "execute_result"
    }
   ],
   "execution_count": 81
  },
  {
   "metadata": {
    "ExecuteTime": {
     "end_time": "2024-05-21T21:26:27.150386Z",
     "start_time": "2024-05-21T21:26:27.147698Z"
    }
   },
   "cell_type": "code",
   "source": "np.log(np.array([1e-6, 5e-3, 1e-12, 5e-4, 5e-4,]))",
   "id": "1c3ee62ca7cebdd6",
   "outputs": [
    {
     "data": {
      "text/plain": [
       "array([-13.81551056,  -5.29831737, -27.63102112,  -7.60090246,\n",
       "        -7.60090246])"
      ]
     },
     "execution_count": 117,
     "metadata": {},
     "output_type": "execute_result"
    }
   ],
   "execution_count": 117
  },
  {
   "metadata": {
    "ExecuteTime": {
     "end_time": "2024-05-22T04:44:42.119964Z",
     "start_time": "2024-05-22T04:44:36.681697Z"
    }
   },
   "cell_type": "code",
   "source": [
    "Cc = []\n",
    "Dmdt = []\n",
    "Vv = []\n",
    "\n",
    "for start in [0.001, 0.01, 0.1, 1, 10, 100, 1000]:\n",
    "    \n",
    "    \n",
    "    c = np.log(np.array([1e-6, 5e-3, 1e-12 * start, 5e-4, 5e-4,]))\n",
    "    \n",
    "    C = []\n",
    "    D = []\n",
    "    V = []\n",
    "    \n",
    "    for t in range(10000):\n",
    "        \n",
    "        v = np.zeros(n_rxn)\n",
    "    \n",
    "        for i in range(n_rxn):\n",
    "            y_s_t = []\n",
    "            y_p_t = []\n",
    "            sat_expr = []\n",
    "            \n",
    "            j = 0\n",
    "                \n",
    "            Km_s_idx = np.nonzero(S_s_nz[1, :] == i)\n",
    "            S_s_idx = S_s_nz[0, S_s_nz[1, :] == i] # negate -1 entries\n",
    "            \n",
    "            \n",
    "            Km_p_idx = np.nonzero(S_p_nz[1, :] == i)\n",
    "            S_p_idx = S_p_nz[0, S_p_nz[1, :] == i]\n",
    "            \n",
    "            y_s_t.append(np.multiply(S_s_mol, c[met_s_nz] - Km_s.value))\n",
    "            y_p_t.append(np.multiply(S_p_mol, c[met_p_nz] - Km_p.value))\n",
    "            \n",
    "            y_s = np.vstack(y_s_t)\n",
    "            y_p = np.vstack(y_p_t)\n",
    "            \n",
    "            y_f_vec = [y_s]\n",
    "            y_r_vec = [y_p]\n",
    "            \n",
    "            y_f = np.hstack(y_f_vec)\n",
    "            y_r = np.hstack(y_r_vec)\n",
    "            \n",
    "            sat_expr = list((C_alpha @ y_f[j, :].flatten())[d_alpha == i]) + list((C_beta @ y_r[j, :].flatten())[d_beta == i]) + [0]\n",
    "            sat_exp = np.sum(np.exp(sat_expr))\n",
    "            \n",
    "            fwd_sat = (np.exp(-S.T[i, S_s_idx] @ y_s[j, Km_s_idx].flatten())) \n",
    "            back_sat = (np.exp(S.T[i, S_p_idx] @ y_p[j, Km_p_idx].flatten()))\n",
    "            \n",
    "            v[i] = np.exp(cfwd.value[i]) * fwd_sat/sat_exp - np.exp(crev.value[i]) * back_sat/sat_exp\n",
    "            \n",
    "        \n",
    "        v[1] += 0.8 * v[0]\n",
    "        dmdt = S @ np.array(v)\n",
    "        \n",
    "        # add noise\n",
    "        noise = np.random.normal(0, 5*10**(-16))\n",
    "        \n",
    "        c[2] = np.log(np.max([np.exp(c[2]) + dmdt[2] * 0.0000001 + noise,10**(-18) ]   )) \n",
    "        \n",
    "        C.append(c[2])\n",
    "        D.append(dmdt[2])\n",
    "        V.append(v[0])\n",
    "        \n",
    "    Cc.append(C)\n",
    "    Dmdt.append(D)\n",
    "    Vv.append(V)"
   ],
   "id": "1ffd8c783c33fc1a",
   "outputs": [],
   "execution_count": 282
  },
  {
   "metadata": {
    "ExecuteTime": {
     "end_time": "2024-05-22T04:44:42.244428Z",
     "start_time": "2024-05-22T04:44:42.120972Z"
    }
   },
   "cell_type": "code",
   "source": "plt.plot(np.array(Cc).T )",
   "id": "e3340dab0c123110",
   "outputs": [
    {
     "data": {
      "text/plain": [
       "[<matplotlib.lines.Line2D at 0x2acacd780>,\n",
       " <matplotlib.lines.Line2D at 0x2acacc070>,\n",
       " <matplotlib.lines.Line2D at 0x2acacc0d0>,\n",
       " <matplotlib.lines.Line2D at 0x2acacc280>,\n",
       " <matplotlib.lines.Line2D at 0x2acacca90>,\n",
       " <matplotlib.lines.Line2D at 0x2acaccc40>,\n",
       " <matplotlib.lines.Line2D at 0x2acacc2e0>]"
      ]
     },
     "execution_count": 283,
     "metadata": {},
     "output_type": "execute_result"
    },
    {
     "data": {
      "text/plain": [
       "<Figure size 640x480 with 1 Axes>"
      ],
      "image/png": "[encoded data removed]"
     },
     "metadata": {},
     "output_type": "display_data"
    }
   ],
   "execution_count": 283
  },
  {
   "metadata": {
    "ExecuteTime": {
     "end_time": "2024-05-22T04:33:20.644877Z",
     "start_time": "2024-05-22T04:33:20.643315Z"
    }
   },
   "cell_type": "code",
   "source": "",
   "id": "62b9b20aa8e38f89",
   "outputs": [],
   "execution_count": 242
  },
  {
   "metadata": {},
   "cell_type": "code",
   "outputs": [],
   "execution_count": null,
   "source": "",
   "id": "dbcf25615b286adb"
  }
 ],
 "metadata": {
  "kernelspec": {
   "display_name": "Python 3 (ipykernel)",
   "language": "python",
   "name": "python3"
  },
  "language_info": {
   "codemirror_mode": {
    "name": "ipython",
    "version": 3
   },
   "file_extension": ".py",
   "mimetype": "text/x-python",
   "name": "python",
   "nbconvert_exporter": "python",
   "pygments_lexer": "ipython3",
   "version": "3.9.9"
  }
 },
 "nbformat": 4,
 "nbformat_minor": 5
}
