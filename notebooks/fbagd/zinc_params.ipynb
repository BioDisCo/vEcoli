{
 "cells": [
  {
   "cell_type": "code",
   "id": "89c876b4-8497-499f-a413-26ad32cec39e",
   "metadata": {
    "ExecuteTime": {
     "end_time": "2024-05-20T16:49:21.769347Z",
     "start_time": "2024-05-20T16:49:21.761276Z"
    }
   },
   "source": [
    "import numpy as np\n",
    "from scipy.special import logsumexp\n",
    "import seaborn as sns\n",
    "import pandas as pd\n",
    "import os\n",
    "import matplotlib.pyplot as plt\n",
    "from equilibrator_api import ComponentContribution, Q_, Reaction\n",
    "import requests\n",
    "import xmltodict\n",
    "import pint\n",
    "import cvxpy as cp\n",
    "import itertools\n",
    "import copy\n",
    "from convex_kinetics_new import ConvexKineticsNew\n",
    "\n",
    "sns.set(style='darkgrid', palette='viridis', context='talk')\n",
    "\n",
    "os.chdir(os.path.expanduser('~/vivarium-ecoli'))"
   ],
   "outputs": [],
   "execution_count": 2
  },
  {
   "cell_type": "markdown",
   "id": "82a34091-b89a-4a8b-b49e-ce86aeab25c6",
   "metadata": {},
   "source": [
    "A + B -E1> C -E2> D\n",
    "\n",
    "B -E3> F\n",
    "\n",
    "A -E4> G"
   ]
  },
  {
   "cell_type": "markdown",
   "id": "2cc077b2-8c38-4065-b306-2e91611fd975",
   "metadata": {
    "jp-MarkdownHeadingCollapsed": true,
    "tags": []
   },
   "source": [
    "# Testing eQuilibrator"
   ]
  },
  {
   "cell_type": "code",
   "id": "77f87609-2312-4734-8970-05177c5c3434",
   "metadata": {
    "ExecuteTime": {
     "end_time": "2024-05-20T16:49:32.438004Z",
     "start_time": "2024-05-20T16:49:22.859994Z"
    }
   },
   "source": [
    "cc = ComponentContribution()\n",
    "\n",
    "# optional: changing the aqueous environment parameters\n",
    "cc.p_h = Q_(7.4)\n",
    "cc.p_mg = Q_(3.0)\n",
    "cc.ionic_strength = Q_(\"0.25M\")\n",
    "cc.temperature = Q_(\"298.15K\")\n",
    "\n"
   ],
   "outputs": [],
   "execution_count": 3
  },
  {
   "cell_type": "code",
   "id": "90008655-107b-487c-b60b-a98b12137dd6",
   "metadata": {
    "ExecuteTime": {
     "end_time": "2024-05-20T16:49:32.459594Z",
     "start_time": "2024-05-20T16:49:32.442556Z"
    }
   },
   "source": [
    "from equilibrator_api import Reaction\n",
    "compound_ids = [\"WATER\", \"ADP\", \"ATP\", \"Pi\"]\n",
    "compound_dict = {cid : cc.get_compound(f\"metacyc.compound:{cid}\") for cid in compound_ids}\n",
    "atpase_reaction = Reaction({\n",
    "    compound_dict[\"ATP\"]: -1,\n",
    "    compound_dict[\"WATER\"]: -1,\n",
    "    compound_dict[\"ADP\"]: 1,\n",
    "    compound_dict[\"Pi\"]: 1,\n",
    "})"
   ],
   "outputs": [],
   "execution_count": 4
  },
  {
   "cell_type": "code",
   "id": "ac886c79-121d-4d77-9ba0-eb4b25d19039",
   "metadata": {
    "ExecuteTime": {
     "end_time": "2024-05-20T16:49:32.966802Z",
     "start_time": "2024-05-20T16:49:32.483463Z"
    }
   },
   "source": [
    "standard_dg_prime = cc.standard_dg_prime(atpase_reaction)\n",
    "standard_dg_prime"
   ],
   "outputs": [
    {
     "data": {
      "text/plain": [
       "<Measurement(-29.144472212600157, 0.30427785535776736, kilojoule / mole)>"
      ],
      "text/html": [
       "(-29.14 &plusmn; 0.30) kilojoule/mole"
      ],
      "text/latex": "$\\left(-29.14 \\pm 0.30\\right)\\ \\frac{\\mathrm{kilojoule}}{\\mathrm{mole}}$"
     },
     "execution_count": 5,
     "metadata": {},
     "output_type": "execute_result"
    }
   ],
   "execution_count": 5
  },
  {
   "cell_type": "code",
   "id": "c6be2265-c9ec-45cf-8b87-8ca2df1376dd",
   "metadata": {
    "ExecuteTime": {
     "end_time": "2024-05-20T16:49:45.099377Z",
     "start_time": "2024-05-20T16:49:32.968369Z"
    }
   },
   "source": [
    "cytoplasmic_p_h = Q_(7.5)\n",
    "cytoplasmic_ionic_strength = Q_(\"250 mM\")\n",
    "periplasmic_p_h = Q_(7.0)\n",
    "periplasmic_ionic_strength = Q_(\"200 mM\")\n",
    "e_potential_difference = Q_(\"0.15 V\")\n",
    "cytoplasmic_reaction = \"bigg.metabolite:pep = bigg.metabolite:g6p + bigg.metabolite:pyr\"\n",
    "periplasmic_reaction = \"bigg.metabolite:glc__D = \"\n",
    "\n",
    "cc = ComponentContribution()\n",
    "cc.p_h = cytoplasmic_p_h\n",
    "cc.ionic_strength = cytoplasmic_ionic_strength\n",
    "standard_dg_prime = cc.multicompartmental_standard_dg_prime(\n",
    "    cc.parse_reaction_formula(cytoplasmic_reaction),\n",
    "    cc.parse_reaction_formula(periplasmic_reaction),\n",
    "    e_potential_difference=e_potential_difference,\n",
    "    p_h_outer=periplasmic_p_h,\n",
    "    ionic_strength_outer=periplasmic_ionic_strength,\n",
    ")\n",
    "\n",
    "print(standard_dg_prime)\n"
   ],
   "outputs": [
    {
     "name": "stdout",
     "output_type": "stream",
     "text": [
      "(-44.8 +/- 0.6) kilojoule / mole\n"
     ]
    }
   ],
   "execution_count": 6
  },
  {
   "cell_type": "code",
   "id": "3c97b6b4-77e2-4ddb-926c-b39f4780811b",
   "metadata": {
    "ExecuteTime": {
     "end_time": "2024-05-20T16:49:45.223135Z",
     "start_time": "2024-05-20T16:49:45.144689Z"
    }
   },
   "source": [
    "cc.get_compound_by_inchi(\"WQZGKKKJIJFFOK-GASJEMHNSA-N\")"
   ],
   "outputs": [],
   "execution_count": 7
  },
  {
   "cell_type": "markdown",
   "id": "fb140010-52ab-4edd-844e-a3645b3d5a41",
   "metadata": {
    "jp-MarkdownHeadingCollapsed": true,
    "tags": []
   },
   "source": [
    "# Using eQuilibrator to generate equilibrium constants"
   ]
  },
  {
   "cell_type": "code",
   "id": "6cd11cad-2e4b-4cb7-bec6-6d3e4f7b21bd",
   "metadata": {
    "ExecuteTime": {
     "end_time": "2024-05-20T16:49:47.237882Z",
     "start_time": "2024-05-20T16:49:46.728546Z"
    }
   },
   "source": [
    "s = requests.Session() # create session\n",
    "# Post login credentials to session:\n",
    "s.post('https://websvc.biocyc.org/credentials/login/', data={'email':'cellulararchitect@protonmail.com', 'password':'#'})\n",
    "# Issue web service request:\n",
    "r = s.get('https://websvc.biocyc.org/getxml?id=ECOLI:6PFRUCTPHOS-RXN&detail=low&fmt=json')"
   ],
   "outputs": [],
   "execution_count": 8
  },
  {
   "cell_type": "code",
   "id": "0ceafb21-0bf4-41d7-8e07-c159e8b73302",
   "metadata": {
    "ExecuteTime": {
     "end_time": "2024-05-20T16:49:50.155696Z",
     "start_time": "2024-05-20T16:49:50.089533Z"
    }
   },
   "source": [
    "name = 'F16ALDOLASE-RXN'\n",
    "\n",
    "r = s.get(f'https://websvc.biocyc.org/getxml?id=ECOLI:{name}&detail=low&fmt=json')\n",
    "o = xmltodict.parse(r.content)['ptools-xml']\n",
    "o['Reaction']['enzymatic-reaction']['Enzymatic-Reaction'][0]['@frameid']"
   ],
   "outputs": [
    {
     "data": {
      "text/plain": [
       "'F16ALDOLASE-ENZRXN-CLASSI'"
      ]
     },
     "execution_count": 9,
     "metadata": {},
     "output_type": "execute_result"
    }
   ],
   "execution_count": 9
  },
  {
   "cell_type": "code",
   "id": "837d6516-fa3c-4b71-ba39-4a98bb9689d3",
   "metadata": {
    "ExecuteTime": {
     "end_time": "2024-05-20T16:59:11.389112Z",
     "start_time": "2024-05-20T16:59:11.065926Z"
    }
   },
   "source": [
    "rxns_names = ['ABC-63-RXN', 'RXN0-5205']\n",
    "# rxns_names = ['6PFRUCTPHOS-RXN', 'F16ALDOLASE-RXN', '2TRANSKETO-RXN', 'TRIOSEPISOMERIZATION-RXN']\n",
    "\n",
    "rxns_dict = {}\n",
    "stoich_dict = {}\n",
    "regulation_dict = {}\n",
    "\n",
    "for name in rxns_names:\n",
    "    r = s.get(f'https://websvc.biocyc.org/getxml?id=ECOLI:{name}&detail=low&fmt=json')\n",
    "    rxn = xmltodict.parse(r.content)['ptools-xml']\n",
    "\n",
    "    rxn_dict = {}\n",
    "    stoich_loop_dict = {}\n",
    "    regulation_loop_dict = {}\n",
    "    left = rxn['Reaction']['left']\n",
    "    right = rxn['Reaction']['right'] \n",
    "    \n",
    "    # i will know exact complex in model (connected to rxn), but for now will pick random\n",
    "    enz_rxn = rxn['Reaction']['enzymatic-reaction']['Enzymatic-Reaction']\n",
    "    \n",
    "    if type(left) is dict:\n",
    "        left = [left]\n",
    "    \n",
    "    if type(right) is dict:\n",
    "        right = [right]\n",
    "        \n",
    "    if type(enz_rxn) is dict:\n",
    "        enz_rxn = [enz_rxn]\n",
    "    \n",
    "    enz_rxn_id =  enz_rxn[0]['@frameid']\n",
    "    re = s.get(f'https://websvc.biocyc.org/getxml?id=ECOLI:{enz_rxn_id}&detail=high&fmt=json')\n",
    "    oe = xmltodict.parse(re.content)['ptools-xml']['Enzymatic-Reaction']\n",
    "    \n",
    "    if 'regulated-by' in oe:\n",
    "        oe = oe['regulated-by']['Regulation']\n",
    "    \n",
    "        if type(oe) is dict:\n",
    "            oe = [oe]\n",
    "            \n",
    "        # add regulators, target regulator directly with id to get info like irreversible, etc\n",
    "        for regulator in oe:\n",
    "            reg_name = regulator['regulator']['Compound']['@frameid']\n",
    "            reg_type = regulator['mode']['#text']\n",
    "            reg_type = 1 if reg_type == '+' else -1\n",
    "            regulation_loop_dict[reg_name] = reg_type\n",
    "    \n",
    "    for mol in left:\n",
    "        if type(mol) is dict:\n",
    "            cid = mol['Compound']['@frameid']\n",
    "            mol_cc = cc.get_compound(f\"metacyc.compound:{cid}\")\n",
    "            \n",
    "            compartment = mol['compartment']['cco']['@frameid']\n",
    "            \n",
    "            if compartment == 'CCO-IN':\n",
    "                # mol_cc = mol_cc.in_compartment('c')\n",
    "                compartment = 'c'\n",
    "            elif compartment == 'CCO-OUT':\n",
    "                # mol_cc = mol_cc.in_compartment('p')\n",
    "                compartment = 'p'\n",
    "            \n",
    "            rxn_dict[mol_cc] = -1\n",
    "            stoich_loop_dict[f'{cid}[{compartment}]'] = -1\n",
    "\n",
    "    for mol in right:\n",
    "        if type(mol) is dict:\n",
    "            cid = mol['Compound']['@frameid']\n",
    "            mol_cc = cc.get_compound(f\"metacyc.compound:{cid}\")\n",
    "            \n",
    "            compartment = mol['compartment']['cco']['@frameid']\n",
    "            \n",
    "            if compartment == 'CCO-IN':\n",
    "                # mol_cc = mol_cc.in_compartment('c')\n",
    "                compartment = 'c'\n",
    "            elif compartment == 'CCO-OUT':\n",
    "                # mol_cc = mol_cc.in_compartment('p')\n",
    "                compartment = 'p'\n",
    "                \n",
    "            rxn_dict[mol_cc] =  1\n",
    "            stoich_loop_dict[f'{cid}[{compartment}]']  = 1\n",
    "    \n",
    "    rxns_dict[name] = Reaction(rxn_dict)\n",
    "    stoich_dict[name] = stoich_loop_dict\n",
    "    regulation_dict[name] = regulation_loop_dict\n",
    "\n",
    "# (standard_dg_prime, dg_uncertainty) = cc.standard_dg_prime_multi(list(rxns_dict.values()), uncertainty_representation=\"cov\")\n",
    "# R = 0.008314 # kJ/mol*K\n",
    "# T = 298.15 # K\n",
    "# dG = standard_dg_prime._magnitude\n",
    "# \n",
    "# K_eq = -dG/(R*T)\n",
    "\n",
    "rxns_dict"
   ],
   "outputs": [
    {
     "data": {
      "text/plain": [
       "{'ABC-63-RXN': <equilibrator_api.phased_reaction.PhasedReaction at 0x17b52da20>,\n",
       " 'RXN0-5205': <equilibrator_api.phased_reaction.PhasedReaction at 0x17f8fe650>}"
      ]
     },
     "execution_count": 18,
     "metadata": {},
     "output_type": "execute_result"
    }
   ],
   "execution_count": 18
  },
  {
   "metadata": {
    "ExecuteTime": {
     "end_time": "2024-05-20T16:59:11.898436Z",
     "start_time": "2024-05-20T16:59:11.895729Z"
    }
   },
   "cell_type": "code",
   "source": "stoich_dict",
   "id": "747bbdd0dcedc056",
   "outputs": [
    {
     "data": {
      "text/plain": [
       "{'ABC-63-RXN': {'ZN+2[p]': -1,\n",
       "  'WATER[c]': -1,\n",
       "  'ATP[c]': -1,\n",
       "  'ZN+2[c]': 1,\n",
       "  'ADP[c]': 1,\n",
       "  'Pi[c]': 1,\n",
       "  'PROTON[c]': 1},\n",
       " 'RXN0-5205': {'ZN+2[c]': -1,\n",
       "  'WATER[c]': -1,\n",
       "  'ATP[c]': -1,\n",
       "  'ZN+2[p]': 1,\n",
       "  'ADP[c]': 1,\n",
       "  'Pi[c]': 1,\n",
       "  'PROTON[c]': 1}}"
      ]
     },
     "execution_count": 19,
     "metadata": {},
     "output_type": "execute_result"
    }
   ],
   "execution_count": 19
  },
  {
   "metadata": {},
   "cell_type": "markdown",
   "source": "# Drop water and protons ",
   "id": "1f61b5f60bc6acd4"
  },
  {
   "metadata": {
    "ExecuteTime": {
     "end_time": "2024-05-20T22:51:56.168724Z",
     "start_time": "2024-05-20T22:51:56.165099Z"
    }
   },
   "cell_type": "code",
   "source": [
    "# drop water and protons from dict\n",
    "for rxn in stoich_dict:\n",
    "    stoich_dict[rxn] = {k: v for k, v in stoich_dict[rxn].items() if 'WATER' not in k and 'PROTON' not in k}\n",
    "    \n",
    "stoich_dict"
   ],
   "id": "f84327ba78c1d8b2",
   "outputs": [
    {
     "data": {
      "text/plain": [
       "{'ABC-63-RXN': {'ZN+2[p]': -1,\n",
       "  'ATP[c]': -1,\n",
       "  'ZN+2[c]': 1,\n",
       "  'ADP[c]': 1,\n",
       "  'Pi[c]': 1},\n",
       " 'RXN0-5205': {'ZN+2[c]': -1,\n",
       "  'ATP[c]': -1,\n",
       "  'ZN+2[p]': 1,\n",
       "  'ADP[c]': 1,\n",
       "  'Pi[c]': 1}}"
      ]
     },
     "execution_count": 56,
     "metadata": {},
     "output_type": "execute_result"
    }
   ],
   "execution_count": 56
  },
  {
   "cell_type": "markdown",
   "id": "3a19ac18-e8ce-4653-9976-3946c1227c85",
   "metadata": {
    "jp-MarkdownHeadingCollapsed": true,
    "tags": []
   },
   "source": [
    "# Calculating set of kinetic parameters with given equilibrium constants and arbitrary fluxes"
   ]
  },
  {
   "cell_type": "code",
   "id": "ad0c9880-fd76-40d6-9d15-3bb61f96e3e9",
   "metadata": {
    "ExecuteTime": {
     "end_time": "2024-05-20T22:51:56.993460Z",
     "start_time": "2024-05-20T22:51:56.987699Z"
    }
   },
   "source": [
    "Sd = pd.DataFrame(stoich_dict).fillna(0).astype(np.int8)\n",
    "# Sd = Sd.iloc[0:7, 0:2]\n",
    "\n",
    "n_rxn = Sd.shape[1]\n",
    "n_met = Sd.shape[0]\n",
    "\n",
    "Sd\n",
    "\n",
    "# Sd[\"6PFRUCTPHOS-RXN\"] = Sd[\"6PFRUCTPHOS-RXN\"] # * 2\n",
    "Sd"
   ],
   "outputs": [
    {
     "data": {
      "text/plain": [
       "         ABC-63-RXN  RXN0-5205\n",
       "ZN+2[p]          -1          1\n",
       "ATP[c]           -1         -1\n",
       "ZN+2[c]           1         -1\n",
       "ADP[c]            1          1\n",
       "Pi[c]             1          1"
      ],
      "text/html": [
       "<div>\n",
       "<style scoped>\n",
       "    .dataframe tbody tr th:only-of-type {\n",
       "        vertical-align: middle;\n",
       "    }\n",
       "\n",
       "    .dataframe tbody tr th {\n",
       "        vertical-align: top;\n",
       "    }\n",
       "\n",
       "    .dataframe thead th {\n",
       "        text-align: right;\n",
       "    }\n",
       "</style>\n",
       "<table border=\"1\" class=\"dataframe\">\n",
       "  <thead>\n",
       "    <tr style=\"text-align: right;\">\n",
       "      <th></th>\n",
       "      <th>ABC-63-RXN</th>\n",
       "      <th>RXN0-5205</th>\n",
       "    </tr>\n",
       "  </thead>\n",
       "  <tbody>\n",
       "    <tr>\n",
       "      <th>ZN+2[p]</th>\n",
       "      <td>-1</td>\n",
       "      <td>1</td>\n",
       "    </tr>\n",
       "    <tr>\n",
       "      <th>ATP[c]</th>\n",
       "      <td>-1</td>\n",
       "      <td>-1</td>\n",
       "    </tr>\n",
       "    <tr>\n",
       "      <th>ZN+2[c]</th>\n",
       "      <td>1</td>\n",
       "      <td>-1</td>\n",
       "    </tr>\n",
       "    <tr>\n",
       "      <th>ADP[c]</th>\n",
       "      <td>1</td>\n",
       "      <td>1</td>\n",
       "    </tr>\n",
       "    <tr>\n",
       "      <th>Pi[c]</th>\n",
       "      <td>1</td>\n",
       "      <td>1</td>\n",
       "    </tr>\n",
       "  </tbody>\n",
       "</table>\n",
       "</div>"
      ]
     },
     "execution_count": 57,
     "metadata": {},
     "output_type": "execute_result"
    }
   ],
   "execution_count": 57
  },
  {
   "cell_type": "code",
   "id": "760bee51-984c-4f98-91fd-788113ce0d86",
   "metadata": {
    "ExecuteTime": {
     "end_time": "2024-05-20T22:52:00.069012Z",
     "start_time": "2024-05-20T22:52:00.060169Z"
    }
   },
   "source": [
    "Sr_min = pd.DataFrame(regulation_dict).fillna(0).astype(np.int8)\n",
    "\n",
    "Sr = Sd.copy()\n",
    "Sr.loc[:,:] = 0\n",
    "Sr.loc[Sd.index.intersection(Sr_min.index), :] = Sr_min.loc[Sd.index.intersection(Sr_min.index), :]\n",
    "Sr"
   ],
   "outputs": [
    {
     "data": {
      "text/plain": [
       "         ABC-63-RXN  RXN0-5205\n",
       "ZN+2[p]           0          0\n",
       "ATP[c]            0          0\n",
       "ZN+2[c]           0          0\n",
       "ADP[c]            0          0\n",
       "Pi[c]             0          0"
      ],
      "text/html": [
       "<div>\n",
       "<style scoped>\n",
       "    .dataframe tbody tr th:only-of-type {\n",
       "        vertical-align: middle;\n",
       "    }\n",
       "\n",
       "    .dataframe tbody tr th {\n",
       "        vertical-align: top;\n",
       "    }\n",
       "\n",
       "    .dataframe thead th {\n",
       "        text-align: right;\n",
       "    }\n",
       "</style>\n",
       "<table border=\"1\" class=\"dataframe\">\n",
       "  <thead>\n",
       "    <tr style=\"text-align: right;\">\n",
       "      <th></th>\n",
       "      <th>ABC-63-RXN</th>\n",
       "      <th>RXN0-5205</th>\n",
       "    </tr>\n",
       "  </thead>\n",
       "  <tbody>\n",
       "    <tr>\n",
       "      <th>ZN+2[p]</th>\n",
       "      <td>0</td>\n",
       "      <td>0</td>\n",
       "    </tr>\n",
       "    <tr>\n",
       "      <th>ATP[c]</th>\n",
       "      <td>0</td>\n",
       "      <td>0</td>\n",
       "    </tr>\n",
       "    <tr>\n",
       "      <th>ZN+2[c]</th>\n",
       "      <td>0</td>\n",
       "      <td>0</td>\n",
       "    </tr>\n",
       "    <tr>\n",
       "      <th>ADP[c]</th>\n",
       "      <td>0</td>\n",
       "      <td>0</td>\n",
       "    </tr>\n",
       "    <tr>\n",
       "      <th>Pi[c]</th>\n",
       "      <td>0</td>\n",
       "      <td>0</td>\n",
       "    </tr>\n",
       "  </tbody>\n",
       "</table>\n",
       "</div>"
      ]
     },
     "execution_count": 58,
     "metadata": {},
     "output_type": "execute_result"
    }
   ],
   "execution_count": 58
  },
  {
   "metadata": {
    "ExecuteTime": {
     "end_time": "2024-05-20T23:08:21.304647Z",
     "start_time": "2024-05-20T23:08:21.301313Z"
    }
   },
   "cell_type": "code",
   "source": [
    "# estimate flows\n",
    "# ZnuBC has 125 copies per cell normally. Grows to about 600 copies per cell in zinc starvation.\n",
    "# ZntA has 300 copies per cell normally. Falls to zero in zinc starvation.\n",
    "# dynamic equilibrium flows are as follows in counts:\n",
    "# Zn_in = 400 atoms per second\n",
    "# Zn_out = 200 atoms per second\n",
    "# Zn_prot = 200 atoms per second\n",
    "\n",
    "# convert flows to molar/second\n",
    "cell_volume = 3e-15 # L\n",
    "Zn_in = 400 / (6.022e23 * cell_volume)\n",
    "Zn_out = 200 / (6.022e23 * cell_volume)\n",
    "Zn_prot = 200 / (6.022e23 * cell_volume)"
   ],
   "id": "77bfc7c2af1bbc61",
   "outputs": [],
   "execution_count": 141
  },
  {
   "cell_type": "code",
   "source": [
    "# K_eq = np.log(keq)\n",
    "K_eq = np.array([8, 8])\n",
    "K_eq_mod = K_eq[:, np.newaxis].T\n",
    "vE = np.array([[Zn_in, Zn_out], [Zn_in, Zn_out]])\n",
    "# vE[:, 0] = vE[:, 0] / 2\n",
    "\n",
    "n_flux_set = vE.shape[0]\n",
    "\n",
    "# K_eq[vE < 0] = 1/K_eq[vE < 0]\n",
    "\n",
    "lvE = np.log(np.abs(vE))\n",
    "pd.DataFrame(np.concatenate([K_eq_mod, vE, np.sign(vE)]), columns=Sd.columns,\n",
    "             index=[\"$K_{eq}$\", \"$v_1$\", \"$v_2$\", \"sign 1\", \"sign 2\"])"
   ],
   "metadata": {
    "collapsed": false,
    "ExecuteTime": {
     "end_time": "2024-05-20T23:08:21.446732Z",
     "start_time": "2024-05-20T23:08:21.441100Z"
    }
   },
   "id": "a35d2a38b36b7483",
   "outputs": [
    {
     "data": {
      "text/plain": [
       "            ABC-63-RXN     RXN0-5205\n",
       "$K_{eq}$  8.000000e+00  8.000000e+00\n",
       "$v_1$     2.214104e-07  1.107052e-07\n",
       "$v_2$     2.214104e-07  1.107052e-07\n",
       "sign 1    1.000000e+00  1.000000e+00\n",
       "sign 2    1.000000e+00  1.000000e+00"
      ],
      "text/html": [
       "<div>\n",
       "<style scoped>\n",
       "    .dataframe tbody tr th:only-of-type {\n",
       "        vertical-align: middle;\n",
       "    }\n",
       "\n",
       "    .dataframe tbody tr th {\n",
       "        vertical-align: top;\n",
       "    }\n",
       "\n",
       "    .dataframe thead th {\n",
       "        text-align: right;\n",
       "    }\n",
       "</style>\n",
       "<table border=\"1\" class=\"dataframe\">\n",
       "  <thead>\n",
       "    <tr style=\"text-align: right;\">\n",
       "      <th></th>\n",
       "      <th>ABC-63-RXN</th>\n",
       "      <th>RXN0-5205</th>\n",
       "    </tr>\n",
       "  </thead>\n",
       "  <tbody>\n",
       "    <tr>\n",
       "      <th>$K_{eq}$</th>\n",
       "      <td>8.000000e+00</td>\n",
       "      <td>8.000000e+00</td>\n",
       "    </tr>\n",
       "    <tr>\n",
       "      <th>$v_1$</th>\n",
       "      <td>2.214104e-07</td>\n",
       "      <td>1.107052e-07</td>\n",
       "    </tr>\n",
       "    <tr>\n",
       "      <th>$v_2$</th>\n",
       "      <td>2.214104e-07</td>\n",
       "      <td>1.107052e-07</td>\n",
       "    </tr>\n",
       "    <tr>\n",
       "      <th>sign 1</th>\n",
       "      <td>1.000000e+00</td>\n",
       "      <td>1.000000e+00</td>\n",
       "    </tr>\n",
       "    <tr>\n",
       "      <th>sign 2</th>\n",
       "      <td>1.000000e+00</td>\n",
       "      <td>1.000000e+00</td>\n",
       "    </tr>\n",
       "  </tbody>\n",
       "</table>\n",
       "</div>"
      ]
     },
     "execution_count": 142,
     "metadata": {},
     "output_type": "execute_result"
    }
   ],
   "execution_count": 142
  },
  {
   "cell_type": "code",
   "source": [
    "# set up variables\n",
    "\n",
    "S_mol = np.array(Sd)\n",
    "S = np.sign(S_mol) #\n",
    "S_s = -np.copy(S) # reverse neg sign\n",
    "S_p = np.copy(S)\n",
    "S_s[S > 0] = 0 # zeros products\n",
    "S_p[S < 0] = 0 # zeros substrates\n",
    "S_i = np.copy(np.array(Sr) == -1) # reaction direction does not matter\n",
    "S_a = np.copy(np.array(Sr) == 1)\n",
    "\n",
    "\n",
    "S_s_nz = np.array(S_s.nonzero())\n",
    "S_p_nz = np.array(S_p.nonzero())\n",
    "S_i_nz = np.array(S_i.nonzero())\n",
    "S_a_nz = np.array(S_a.nonzero())\n",
    "S_s_mol = np.abs(S_mol)[S_s.nonzero()]\n",
    "S_p_mol = np.abs(S_mol)[S_p.nonzero()]\n",
    "\n",
    "# TODO Refactor all the below lines as one liners\n",
    "# first coordinate, e.g. metabolites w nonzero substrate/product coeff across all reactions. also works as substrate indices.\n",
    "met_s_nz = S_s_nz[0, :]\n",
    "met_p_nz = S_p_nz[0, :]\n",
    "met_i_nz = S_i_nz[0, :]\n",
    "met_a_nz = S_a_nz[0, :]\n",
    "\n",
    "# second coordinate, e.g. reactions indices for those concentrations. works to index substrates as well.\n",
    "rxn_s_nz = S_s_nz[1, :]\n",
    "rxn_p_nz = S_p_nz[1, :]\n",
    "rxn_i_nz = S_i_nz[1, :]\n",
    "rxn_a_nz = S_a_nz[1, :]\n",
    "\n",
    "# one dim is always 2\n",
    "n_Km_s = np.max(met_s_nz.shape)\n",
    "n_Km_p = np.max(met_p_nz.shape)\n",
    "n_Km_i = np.max(met_i_nz.shape)\n",
    "n_Km_a = np.max(met_a_nz.shape)\n",
    "\n",
    "c = cp.Variable([n_met, n_flux_set])\n",
    "Km_s = cp.Variable(n_Km_s)\n",
    "Km_p = cp.Variable(n_Km_p)\n",
    "Km_i = cp.Variable(n_Km_i) if n_Km_i else None\n",
    "Km_a = cp.Variable(n_Km_a) if n_Km_a else None\n",
    "\n",
    "cfwd = cp.Variable(n_rxn)\n",
    "crev = cp.Variable(n_rxn)\n",
    "\n",
    "# define y vecs\n",
    "y_s_t = []\n",
    "y_p_t = []\n",
    "y_i_t = []\n",
    "y_a_t = []\n",
    "\n",
    "# define Km positions by nonzero S matrix concentrations. Activation is reverse val of inhibition.\n",
    "# TODO Add molecularity here.\n",
    "for i in range(n_flux_set):\n",
    "    y_s_t.append(cp.multiply(S_s_mol, c[met_s_nz, i] - Km_s))\n",
    "    y_p_t.append(cp.multiply(S_p_mol, c[met_p_nz, i] - Km_p))\n",
    "    y_i_t.append(c[met_i_nz, i] - Km_i if n_Km_i else None)\n",
    "    y_a_t.append(-(c[met_a_nz, i] - Km_a) if n_Km_a else None)\n",
    "\n",
    "y_s = cp.vstack(y_s_t)\n",
    "y_p = cp.vstack(y_p_t)\n",
    "y_i = cp.vstack(y_i_t)\n",
    "y_a = cp.vstack(y_a_t)\n",
    "\n",
    "# saturation stacks\n",
    "y_f_vec = [y_s]\n",
    "y_r_vec = [y_p]\n",
    "if n_Km_i:\n",
    "    y_f_vec.append(y_i)\n",
    "    y_r_vec.append(y_i)\n",
    "if n_Km_a:\n",
    "    y_f_vec.append(y_a)\n",
    "    y_r_vec.append(y_a)\n",
    "\n",
    "y_f = cp.hstack(y_f_vec)\n",
    "y_r = cp.hstack(y_r_vec)"
   ],
   "metadata": {
    "collapsed": false,
    "ExecuteTime": {
     "end_time": "2024-05-20T23:08:21.639037Z",
     "start_time": "2024-05-20T23:08:21.632041Z"
    }
   },
   "id": "356774a40e10091d",
   "outputs": [],
   "execution_count": 143
  },
  {
   "cell_type": "code",
   "source": [
    "# number of saturation terms for sub, prod\n",
    "S_s_comb = np.concatenate((S_s, S_i, S_a), axis=0)\n",
    "S_p_comb = np.concatenate((S_p, S_i, S_a), axis=0)\n",
    "n_alpha = np.sum(np.power(2, np.sign(S_s_comb).sum(axis=0)) - 1)\n",
    "n_beta = np.sum(np.power(2, np.sign(S_p_comb).sum(axis=0)) - 1)\n",
    "\n",
    "# saturation matrix setup, first sub, then inhib, then act.\n",
    "C_alpha = np.zeros([n_alpha, len(met_s_nz) + len(met_i_nz) + len(met_a_nz)])\n",
    "C_beta = np.zeros([n_beta, len(met_p_nz) + len(met_i_nz) + len(met_a_nz)])\n",
    "\n",
    "# to separate different reactions saturation terms to their individual reaction equations.\n",
    "d_alpha = np.zeros(n_alpha, dtype=np.int8)\n",
    "d_beta = np.zeros(n_beta, dtype=np.int8)\n",
    "\n",
    "\n",
    "idx = 0\n",
    "\n",
    "for i in range(n_rxn):\n",
    "\n",
    "    # pick one reaction at a time (get substrate indicies)\n",
    "    #idx_cur_rxn = rxn_s_nz == i\n",
    "    # TODO This does not properly multiply by molecularity. Alternatively, generate C_alpha and\n",
    "    # TODO beta without molecularity (first ==1) and then multiply by molecularity in the end.\n",
    "    idx_cur_rxn = np.concatenate((rxn_s_nz == i, rxn_i_nz == i, rxn_a_nz == i))\n",
    "\n",
    "    # generates all binary permutations minus the first one since that would result in -1\n",
    "    sat_perm = np.array(list(itertools.product([0, 1], repeat=sum(idx_cur_rxn))))\n",
    "    sat_perm = sat_perm[1:, :]\n",
    "\n",
    "    r, _ = sat_perm.shape\n",
    "\n",
    "    # replace zeros with saturation matrix\n",
    "    C_alpha[idx:(idx+r), idx_cur_rxn] = sat_perm\n",
    "    d_alpha[idx:(idx+r)] = i\n",
    "\n",
    "    idx += r # add row #\n",
    "\n",
    "idx = 0\n",
    "\n",
    "for i in range(n_rxn):\n",
    "    idx_cur_rxn = np.concatenate((rxn_p_nz == i, rxn_i_nz == i, rxn_a_nz == i))\n",
    "\n",
    "    sat_perm = np.array(list(itertools.product([0, 1], repeat=sum(idx_cur_rxn))))\n",
    "    sat_perm = sat_perm[1:, :]\n",
    "\n",
    "    r, _ = sat_perm.shape\n",
    "\n",
    "    C_beta[idx:(idx+r), idx_cur_rxn] = sat_perm\n",
    "    d_beta[idx:(idx+r)] = i\n",
    "\n",
    "    idx += r # add row #"
   ],
   "metadata": {
    "collapsed": false,
    "ExecuteTime": {
     "end_time": "2024-05-20T23:08:21.804746Z",
     "start_time": "2024-05-20T23:08:21.798483Z"
    }
   },
   "id": "ecd5ba7a0843ebd0",
   "outputs": [],
   "execution_count": 144
  },
  {
   "cell_type": "code",
   "source": [
    "C_alpha"
   ],
   "metadata": {
    "collapsed": false,
    "ExecuteTime": {
     "end_time": "2024-05-20T23:08:21.937026Z",
     "start_time": "2024-05-20T23:08:21.934028Z"
    }
   },
   "id": "7876a61f1e3b73d9",
   "outputs": [
    {
     "data": {
      "text/plain": [
       "array([[0., 1., 0., 0.],\n",
       "       [1., 0., 0., 0.],\n",
       "       [1., 1., 0., 0.],\n",
       "       [0., 0., 0., 1.],\n",
       "       [0., 0., 1., 0.],\n",
       "       [0., 0., 1., 1.]])"
      ]
     },
     "execution_count": 145,
     "metadata": {},
     "output_type": "execute_result"
    }
   ],
   "execution_count": 145
  },
  {
   "cell_type": "code",
   "source": [
    "n_lse_terms = np.max(np.power(2, S_s.sum(axis=0)) +  np.power(2, S_p.sum(axis=0)) - 2)\n",
    "LSE_expr = []\n",
    "denom_expr = []\n",
    "\n",
    "sign = np.sign(vE)\n",
    "lvE = np.log(sign * vE)\n",
    "\n",
    "for j in range(n_flux_set):\n",
    "    for i in range(n_rxn):\n",
    "        # sum terms are separate in logsumexp. one per saturation term (row in C_alpha, C_beta)\n",
    "\n",
    "        n_term_s = np.sum(d_alpha == i)\n",
    "        n_term_p = np.sum(d_beta == i)\n",
    "        n_term = n_term_s + n_term_p\n",
    "\n",
    "        Km_s_idx = np.nonzero(S_s_nz[1, :] == i)\n",
    "        S_s_idx = S_s_nz[0, S_s_nz[1, :] == i] # negate -1 entries\n",
    "\n",
    "        Km_p_idx = np.nonzero(S_p_nz[1, :] == i)\n",
    "        S_p_idx = S_p_nz[0, S_p_nz[1, :] == i]\n",
    "\n",
    "        if sign[j, i] == 1:\n",
    "            LSE_expr.append(cp.hstack( [\n",
    "                                         lvE[j, i] + (C_alpha @ cp.vec(y_f[j, :]))[d_alpha == i]\n",
    "                                            - cp.multiply(np.ones(n_term_s), - S.T[i, S_s_idx] @ cp.vec(y_s[j, Km_s_idx])) - cfwd[i],\n",
    "                                         lvE[j, i] + (C_beta @ cp.vec(y_r[j, :]))[d_beta == i]\n",
    "                                            - cp.multiply(np.ones(n_term_p), - S.T[i, S_s_idx] @ cp.vec(y_s[j, Km_s_idx])) - cfwd[i],\n",
    "\n",
    "                                         lvE[j, i] + 0 - cp.multiply(np.ones(1), -S.T[i, S_s_idx] @ cp.vec(y_s[j, Km_s_idx]))  - cfwd[i],\n",
    "\n",
    "                                         cp.multiply(np.ones(1), S.T[i, S_p_idx] @ cp.vec(y_p[j, Km_p_idx]))  + crev[i]\n",
    "                                            - cp.multiply(np.ones(1), -S.T[i, S_s_idx] @ cp.vec(y_s[j, Km_s_idx]))  - cfwd[i],\n",
    "\n",
    "                                       ]\n",
    "                                     )\n",
    "                           )  # remove +1 here, could also have cfwd outside objec.\n",
    "\n",
    "            denom_expr.append(cp.multiply(np.ones(1), -S.T[i, S_s_idx] @ cp.vec(y_s[j, Km_s_idx])) + cfwd[i],)\n",
    "\n",
    "\n",
    "        # keep saturation term the same, switch around fwd and rev terms. flip all signs with S matrix since it's signed.\n",
    "        if sign[j, i] == -1:\n",
    "            LSE_expr.append(cp.hstack( [ lvE[j, i] + (C_alpha @ cp.vec(y_f[j, :]))[d_alpha == i]\n",
    "                                            - cp.multiply(np.ones(n_term_s), S.T[i, S_p_idx] @ cp.vec(y_p[j, Km_p_idx])) - crev[i],\n",
    "\n",
    "                                         lvE[j, i] + (C_beta @ cp.vec(y_r[j, :]))[d_beta == i]\n",
    "                                            - cp.multiply(np.ones(n_term_p), S.T[i, S_p_idx] @ cp.vec(y_p[j, Km_p_idx])) - crev[i],\n",
    "\n",
    "                                         lvE[j, i] + 0 - cp.multiply(np.ones(1), S.T[i, S_p_idx] @ cp.vec(y_p[j, Km_p_idx])) - crev[i],\n",
    "\n",
    "                                         cp.multiply(np.ones(1), - S.T[i, S_s_idx] @ cp.vec(y_s[j, Km_s_idx]))  + cfwd[i]\n",
    "                                            - cp.multiply(np.ones(1), S.T[i, S_p_idx] @ cp.vec(y_p[j, Km_p_idx])) - crev[i],\n",
    "\n",
    "                                       ]\n",
    "                                     )\n",
    "                           )\n",
    "\n",
    "            denom_expr.append(cp.multiply(np.ones(1), S.T[i, S_p_idx] @ cp.vec(y_p[j, Km_p_idx])) + crev[i])\n",
    "\n",
    "\n",
    "#LSE_expr = cp.vstack(LSE_expr)\n",
    "LSE_expr"
   ],
   "metadata": {
    "collapsed": false,
    "ExecuteTime": {
     "end_time": "2024-05-20T23:08:22.078938Z",
     "start_time": "2024-05-20T23:08:22.063271Z"
    }
   },
   "id": "94583ebedbc980de",
   "outputs": [
    {
     "data": {
      "text/plain": [
       "[Expression(AFFINE, UNKNOWN, (12,)),\n",
       " Expression(AFFINE, UNKNOWN, (12,)),\n",
       " Expression(AFFINE, UNKNOWN, (12,)),\n",
       " Expression(AFFINE, UNKNOWN, (12,))]"
      ]
     },
     "execution_count": 146,
     "metadata": {},
     "output_type": "execute_result"
    }
   ],
   "execution_count": 146
  },
  {
   "cell_type": "code",
   "source": [
    "l = 0.001\n",
    "e = 0.001\n",
    "f = 0.000001\n",
    "reg =  cp.sum(cp.hstack([cfwd, crev, cp.vec(c)])) + cp.sum(cp.hstack([-Km_s, -Km_p])) # regularization\n",
    "reg2 = cp.norm1(cp.hstack([cfwd, crev, cp.vec(c)])) + cp.norm1(cp.hstack([-Km_s, -Km_p])) # regularization\n",
    "reg3 = cp.sum(cp.huber(cp.hstack([y_s, y_p]), 1)) # issue with matrix\n",
    "\n",
    "if n_Km_i:\n",
    "    reg += cp.sum(cp.hstack([-Km_i]))\n",
    "if n_Km_a:\n",
    "    reg += cp.sum(cp.hstack([-Km_a]))\n",
    "#reg3 = cp.norm1(cp.hstack([y_s, y_p])) # take a look at this\n",
    "\n",
    "loss = 0\n",
    "for i in range(len(LSE_expr)):\n",
    "    loss += cp.norm1(cp.pos(cp.log_sum_exp(LSE_expr[i])))\n",
    "for i in range(len(denom_expr)):\n",
    "    loss += 0.01 * denom_expr[i]\n",
    "loss += l * reg\n",
    "loss += e * reg2\n",
    "# loss += f * reg3\n",
    "#"
   ],
   "metadata": {
    "collapsed": false,
    "ExecuteTime": {
     "end_time": "2024-05-20T23:08:22.456817Z",
     "start_time": "2024-05-20T23:08:22.450435Z"
    }
   },
   "id": "8cdd817ad886e5fe",
   "outputs": [],
   "execution_count": 147
  },
  {
   "metadata": {
    "ExecuteTime": {
     "end_time": "2024-05-20T23:08:22.617768Z",
     "start_time": "2024-05-20T23:08:22.614747Z"
    }
   },
   "cell_type": "code",
   "source": [
    "# concentration estimates\n",
    "# Zn_conc_in = 1e-12 M\n",
    "# Zn_conc_out = 1e-6 M\n",
    "# ATP = 5e-3 M\n",
    "# ADP = 5e-4 M\n",
    "# Pi = 5e-4 M\n",
    "\n",
    "list(Sd.index)"
   ],
   "id": "bf0b03f0a540f07c",
   "outputs": [
    {
     "data": {
      "text/plain": [
       "['ZN+2[p]', 'ATP[c]', 'ZN+2[c]', 'ADP[c]', 'Pi[c]']"
      ]
     },
     "execution_count": 148,
     "metadata": {},
     "output_type": "execute_result"
    }
   ],
   "execution_count": 148
  },
  {
   "metadata": {
    "ExecuteTime": {
     "end_time": "2024-05-20T23:08:22.996518Z",
     "start_time": "2024-05-20T23:08:22.994495Z"
    }
   },
   "cell_type": "code",
   "source": [
    "concentrations = {\n",
    "    'ZN+2[p]': 1e-12,\n",
    "    'ZN+2[c]': 1e-6,\n",
    "    'ATP[c]': 5e-3,\n",
    "    'ADP[c]': 5e-4,\n",
    "    'Pi[c]': 5e-4,\n",
    "}"
   ],
   "id": "e17544bbf53c8415",
   "outputs": [],
   "execution_count": 149
  },
  {
   "cell_type": "code",
   "source": [
    "constr = [cp.hstack([cfwd, crev, cp.vec(c), Km_s, Km_p]) >= -50,\n",
    "          cp.hstack([cfwd, crev, cp.vec(c), Km_s, Km_p]) <= 12,\n",
    "          ]\n",
    "\n",
    "if n_Km_i:\n",
    "    constr.extend([Km_i >= -12, Km_i <= 12])\n",
    "if n_Km_a:\n",
    "    constr.extend([Km_a >= -12, Km_a <= 12])\n",
    "\n",
    "# for now, just set concentrations as a constraint\n",
    "for i, met in enumerate(Sd.index):\n",
    "    if met in concentrations:\n",
    "        constr.extend([c[i, 0] == np.log(concentrations[met])])\n",
    "        constr.extend([c[i, 1] == np.log(concentrations[met])])"
   ],
   "metadata": {
    "collapsed": false,
    "ExecuteTime": {
     "end_time": "2024-05-20T23:08:23.333328Z",
     "start_time": "2024-05-20T23:08:23.327681Z"
    }
   },
   "id": "3d2e26bf727f6531",
   "outputs": [
    {
     "name": "stdout",
     "output_type": "stream",
     "text": [
      "hey\n",
      "hey\n",
      "hey\n",
      "hey\n",
      "hey\n"
     ]
    }
   ],
   "execution_count": 150
  },
  {
   "cell_type": "code",
   "source": [
    "haldane = []\n",
    "fwd_flux = []\n",
    "\n",
    "for i, r in enumerate(S.T):\n",
    "    Km_s_idx = np.nonzero(S_s_nz[1, :] == i)\n",
    "    S_s_idx = S_s_nz[0, S_s_nz[1, :] == i] # negate -1 entries\n",
    "\n",
    "    Km_p_idx = np.nonzero(S_p_nz[1, :] == i)\n",
    "    S_p_idx = S_p_nz[0, S_p_nz[1, :] == i]\n",
    "\n",
    "    haldane.append(K_eq[i] == cfwd[i] - crev[i] + r[S_p_idx] @ Km_p[Km_p_idx] - (-r[S_s_idx]) @ Km_s[Km_s_idx])\n",
    "\n",
    "for j in range(n_flux_set):\n",
    "    for i, r in enumerate(S.T):\n",
    "        Km_s_idx = np.nonzero(S_s_nz[1, :] == i)\n",
    "        S_s_idx = S_s_nz[0, S_s_nz[1, :] == i] # negate -1 entries\n",
    "\n",
    "        Km_p_idx = np.nonzero(S_p_nz[1, :] == i)\n",
    "        S_p_idx = S_p_nz[0, S_p_nz[1, :] == i]\n",
    "\n",
    "        if sign[j, i] == 1:\n",
    "            fwd_flux.append(cfwd[i] + (-r[S_s_idx]) @ cp.vec(y_s[j, Km_s_idx]) - (crev[i] + r[S_p_idx] @ cp.vec(y_p[j, Km_p_idx]))  >= 0)  # add minus since s matrix has minus\n",
    "\n",
    "        if sign[j, i] == -1:\n",
    "            fwd_flux.append(cfwd[i] + (-r[S_s_idx]) @ cp.vec(y_s[j, Km_s_idx]) - (crev[i] + r[S_p_idx] @ cp.vec(y_p[j, Km_p_idx]))  <= 0)  # add minus since s matrix has minus\n",
    "\n",
    "    # constr.extend([cp.multiply(S.T @ cp.vec(c[:, j]), sign[j, :])  <= cp.multiply(K_eq, sign[j, :])])\n",
    "\n",
    "# constr.extend(haldane)\n",
    "# constr.extend(fwd_flux)"
   ],
   "metadata": {
    "collapsed": false,
    "ExecuteTime": {
     "end_time": "2024-05-20T23:08:23.745602Z",
     "start_time": "2024-05-20T23:08:23.739638Z"
    }
   },
   "id": "3c75a1b408e473",
   "outputs": [],
   "execution_count": 151
  },
  {
   "cell_type": "code",
   "source": [
    "p = cp.Problem(cp.Minimize(loss), constr)\n",
    "p.solve(verbose=True, solver=cp.ECOS)"
   ],
   "metadata": {
    "collapsed": false,
    "ExecuteTime": {
     "end_time": "2024-05-20T23:08:24.310570Z",
     "start_time": "2024-05-20T23:08:24.226491Z"
    }
   },
   "id": "e842c44cd8f9a5e9",
   "outputs": [
    {
     "name": "stdout",
     "output_type": "stream",
     "text": [
      "===============================================================================\n",
      "                                     CVXPY                                     \n",
      "                                     v1.4.3                                    \n",
      "===============================================================================\n",
      "(CVXPY) May 20 04:08:24 PM: Your problem has 24 variables, 12 constraints, and 0 parameters.\n",
      "(CVXPY) May 20 04:08:24 PM: It is compliant with the following grammars: DCP, DQCP\n",
      "(CVXPY) May 20 04:08:24 PM: (If you need to solve this problem multiple times, but with different data, consider using parameters.)\n",
      "(CVXPY) May 20 04:08:24 PM: CVXPY will first compile your problem; then, it will invoke a numerical solver to obtain a solution.\n",
      "(CVXPY) May 20 04:08:24 PM: Your problem is compiled with the CPP canonicalization backend.\n",
      "-------------------------------------------------------------------------------\n",
      "                                  Compilation                                  \n",
      "-------------------------------------------------------------------------------\n",
      "(CVXPY) May 20 04:08:24 PM: Compiling problem (target solver=ECOS).\n",
      "(CVXPY) May 20 04:08:24 PM: Reduction chain: Dcp2Cone -> CvxAttr2Constr -> ConeMatrixStuffing -> ECOS\n",
      "(CVXPY) May 20 04:08:24 PM: Applying reduction Dcp2Cone\n",
      "(CVXPY) May 20 04:08:24 PM: Applying reduction CvxAttr2Constr\n",
      "(CVXPY) May 20 04:08:24 PM: Applying reduction ConeMatrixStuffing\n",
      "(CVXPY) May 20 04:08:24 PM: Applying reduction ECOS\n",
      "(CVXPY) May 20 04:08:24 PM: Finished problem compilation (took 7.032e-02 seconds).\n",
      "-------------------------------------------------------------------------------\n",
      "                                Numerical solver                               \n",
      "-------------------------------------------------------------------------------\n",
      "(CVXPY) May 20 04:08:24 PM: Invoking solver ECOS  to obtain a solution.\n",
      "-------------------------------------------------------------------------------\n",
      "                                    Summary                                    \n",
      "-------------------------------------------------------------------------------\n",
      "(CVXPY) May 20 04:08:24 PM: Problem status: optimal\n",
      "(CVXPY) May 20 04:08:24 PM: Optimal value: -5.852e-01\n",
      "(CVXPY) May 20 04:08:24 PM: Compilation took 7.032e-02 seconds\n",
      "(CVXPY) May 20 04:08:24 PM: Solver (including time spent in interface) took 2.498e-03 seconds\n"
     ]
    },
    {
     "data": {
      "text/plain": [
       "-0.5851662515677502"
      ]
     },
     "execution_count": 152,
     "metadata": {},
     "output_type": "execute_result"
    }
   ],
   "execution_count": 152
  },
  {
   "cell_type": "code",
   "source": [
    "print('Substrate Km:', [f'{val:.6f}' for val in np.exp(Km_s.value)])\n",
    "print('Product Km:', [f'{val:.3f}' for val in np.exp(Km_p.value)])\n",
    "print('Fwd kcat:', [f'{val:.3f}' for val in np.exp(cfwd.value)])\n",
    "print('Rev kcat:', [f'{val:.3f}' for val in np.exp(crev.value)])\n",
    "\n",
    "concs = np.exp(c.value).T\n",
    "for row in concs:\n",
    "    print('Concentration:', [f'{val:.12f}' for val in row])\n",
    "\n",
    "if n_Km_i:\n",
    "    print('Inhibition Km:', [f'{val:.7f}' for val in np.exp(Km_i.value)])\n",
    "if n_Km_a:\n",
    "    print('Activation Km:', [f'{val:.7f}' for val in np.exp(Km_a.value)])"
   ],
   "metadata": {
    "collapsed": false,
    "ExecuteTime": {
     "end_time": "2024-05-20T23:14:10.780036Z",
     "start_time": "2024-05-20T23:14:10.776585Z"
    }
   },
   "id": "5dc96cbcf5f92165",
   "outputs": [
    {
     "name": "stdout",
     "output_type": "stream",
     "text": [
      "Substrate Km: ['0.000056', '0.999993', '0.999993', '0.752514']\n",
      "Product Km: ['7.340', '64.985', '2261.165', '1645.383', '2261.165', '1645.383']\n",
      "Fwd kcat: ['2476.522', '16.745']\n",
      "Rev kcat: ['0.005', '0.009']\n",
      "Concentration: ['0.000000000001', '0.005000000002', '0.000001000000', '0.000500000000', '0.000500000000']\n",
      "Concentration: ['0.000000000001', '0.005000000002', '0.000001000000', '0.000500000000', '0.000500000000']\n"
     ]
    }
   ],
   "execution_count": 156
  },
  {
   "metadata": {},
   "cell_type": "code",
   "outputs": [],
   "execution_count": null,
   "source": "",
   "id": "94d7fd1f4f9fe25d"
  },
  {
   "metadata": {
    "ExecuteTime": {
     "end_time": "2024-05-21T00:08:11.906307Z",
     "start_time": "2024-05-21T00:08:11.894418Z"
    }
   },
   "cell_type": "code",
   "source": [
    "print('reaction 1, ZnuBC Out -> In, no water, proton')\n",
    "print('List of substrates: ', list(Sd.index[Sd.iloc[:, 0] < 0]))\n",
    "print('Substrate Km:', [f'{val:.6f}' for val in np.exp(Km_s.value[0:2])])\n",
    "print('List of products: ', list(Sd.index[Sd.iloc[:, 0] > 0]))\n",
    "print('Product Km:', [f'{val:.3f}' for val in np.exp(Km_p.value[0:3])])\n",
    "\n",
    "print('Fwd kcat:', [f'{val:.3f}' for val in np.exp(cfwd.value)][0])\n",
    "print('Rev kcat:', [f'{val:.3f}' for val in np.exp(crev.value)][0])\n",
    "\n",
    "\n",
    "print('reaction 2, ZntA in -> out, no water, proton')\n",
    "print('List of substrates: ', list(Sd.index[Sd.iloc[:, 1] < 0]))\n",
    "print('Substrate Km:', [f'{val:.6f}' for val in np.exp(Km_s.value[2:4])])\n",
    "print('List of products: ', list(Sd.index[Sd.iloc[:, 1] > 0]))\n",
    "print('Product Km:', [f'{val:.3f}' for val in np.exp(Km_p.value[3:5])])\n",
    "\n",
    "print('Fwd kcat:', [f'{val:.3f}' for val in np.exp(cfwd.value)][1])\n",
    "print('Rev kcat:', [f'{val:.3f}' for val in np.exp(crev.value)][1])"
   ],
   "id": "161ab745dda08e8e",
   "outputs": [
    {
     "name": "stdout",
     "output_type": "stream",
     "text": [
      "reaction 1, ZnuBC Out -> In, no water, proton\n",
      "List of substrates:  ['ZN+2[p]', 'ATP[c]']\n",
      "Substrate Km: ['0.000056', '0.999993']\n",
      "List of products:  ['ZN+2[c]', 'ADP[c]', 'Pi[c]']\n",
      "Product Km: ['7.340', '64.985', '2261.165']\n",
      "Fwd kcat: 2476.522\n",
      "Rev kcat: 0.005\n",
      "reaction 2, ZntA in -> out, no water, proton\n",
      "List of substrates:  ['ATP[c]', 'ZN+2[c]']\n",
      "Substrate Km: ['0.999993', '0.752514']\n",
      "List of products:  ['ZN+2[p]', 'ADP[c]', 'Pi[c]']\n",
      "Product Km: ['1645.383', '2261.165']\n",
      "Fwd kcat: 16.745\n",
      "Rev kcat: 0.009\n"
     ]
    }
   ],
   "execution_count": 164
  },
  {
   "cell_type": "code",
   "source": [
    "for v in LSE_expr:\n",
    "    #print(v.value)\n",
    "    print(logsumexp(v.value))"
   ],
   "metadata": {
    "collapsed": false,
    "ExecuteTime": {
     "end_time": "2024-05-20T23:05:14.196928Z",
     "start_time": "2024-05-20T23:05:14.192068Z"
    }
   },
   "id": "614a1856236dd492",
   "outputs": [
    {
     "name": "stdout",
     "output_type": "stream",
     "text": [
      "-1.426170478790274e-06\n",
      "-1.414166772847848e-06\n",
      "-1.4261708162980734e-06\n",
      "-1.4141663538494616e-06\n"
     ]
    }
   ],
   "execution_count": 99
  },
  {
   "cell_type": "markdown",
   "source": [
    "Perfect? Wow."
   ],
   "metadata": {
    "collapsed": false
   },
   "id": "84b952a45a6433a7"
  },
  {
   "cell_type": "markdown",
   "source": [
    "# Check flux reconstruction with inhibition/activation"
   ],
   "metadata": {
    "collapsed": false
   },
   "id": "3f8aa2dbe686be22"
  },
  {
   "cell_type": "code",
   "source": [
    "reconstructed_vE = np.zeros(vE.shape)\n",
    "\n",
    "for j in range(n_flux_set):\n",
    "    sat_expr = []\n",
    "    fwd_sat = np.zeros(n_rxn)\n",
    "    back_sat = np.zeros(n_rxn)\n",
    "    sat = np.zeros(n_rxn)\n",
    "\n",
    "    for i in range(n_rxn):\n",
    "        # sum terms are separate in logsumexp. one per saturation term (row in C_alpha, C_beta)\n",
    "        n_term_s = np.sum(d_alpha == i)\n",
    "        n_term_p = np.sum(d_beta == i)\n",
    "        n_term = n_term_s + n_term_p\n",
    "\n",
    "\n",
    "        Km_s_idx = np.nonzero(S_s_nz[1, :] == i)\n",
    "        S_s_idx = S_s_nz[0, S_s_nz[1, :] == i] # negate -1 entries\n",
    "\n",
    "        Km_p_idx = np.nonzero(S_p_nz[1, :] == i)\n",
    "        S_p_idx = S_p_nz[0, S_p_nz[1, :] == i]\n",
    "\n",
    "        #S_s_idx = S_s_nz[0, S_s_nz[1, :] == i]\n",
    "\n",
    "        sat_expr.append(           [ (C_alpha @ y_f.value[j, :].flatten())[d_alpha == i] ,\n",
    "                                     (C_beta @ y_r.value[j, :].flatten())[d_beta == i],\n",
    "                                     0,\n",
    "                                     #-1*np.ones(n_lse_terms - n_term + 1)\n",
    "                                   ]\n",
    "                       )\n",
    "        fwd_sat[i] = (np.exp(-S.T[i, S_s_idx] @ y_s.value[j, Km_s_idx].flatten())) # + cfwd.value[i]\n",
    "        back_sat[i] = (np.exp(S.T[i, S_p_idx] @ y_p.value[j, Km_p_idx].flatten())) # + cfwd.value[i]\n",
    "\n",
    "\n",
    "\n",
    "    for i, rxn in enumerate(sat_expr):\n",
    "        s = 0\n",
    "\n",
    "        for term in rxn:\n",
    "            s += np.sum(np.exp(term))\n",
    "\n",
    "        sat[i] = (s)\n",
    "\n",
    "    reconstr = np.exp(cfwd.value) * fwd_sat/sat - np.exp(crev.value) * back_sat/sat\n",
    "    print(reconstr)\n",
    "    reconstructed_vE[j, :] = reconstr"
   ],
   "metadata": {
    "collapsed": false,
    "ExecuteTime": {
     "end_time": "2024-05-20T23:01:14.697972Z",
     "start_time": "2024-05-20T23:01:14.691746Z"
    }
   },
   "id": "2ddb299ea4615230",
   "outputs": [
    {
     "name": "stdout",
     "output_type": "stream",
     "text": [
      "[2.21410614e-07 1.10705305e-07]\n",
      "[2.21410614e-07 1.10705305e-07]\n"
     ]
    }
   ],
   "execution_count": 85
  },
  {
   "cell_type": "code",
   "source": [
    "df_vE = pd.DataFrame(vE, columns=Sd.columns, index=[\"Flux set 1\", \"Flux set 2\",]).melt(ignore_index=False).reset_index(drop=False)\n",
    "df_vE[\"kind\"] = \"Actual flux\"\n",
    "df_recon = pd.DataFrame(reconstructed_vE, columns=Sd.columns, index=[\"Flux set 1\", \"Flux set 2\",]).melt(ignore_index=False).reset_index(drop=False)\n",
    "df_recon[\"kind\"] = \"Reconstructed flux\"\n",
    "\n",
    "df_reconstr_comp = pd.concat([df_vE, df_recon]).reset_index(drop=True)\n",
    "df_reconstr_comp"
   ],
   "metadata": {
    "collapsed": false,
    "ExecuteTime": {
     "end_time": "2024-05-20T23:01:20.833044Z",
     "start_time": "2024-05-20T23:01:20.821730Z"
    }
   },
   "id": "f2b325d0a4f20e05",
   "outputs": [
    {
     "data": {
      "text/plain": [
       "        index    variable         value                kind\n",
       "0  Flux set 1  ABC-63-RXN  2.214104e-07         Actual flux\n",
       "1  Flux set 2  ABC-63-RXN  2.214104e-07         Actual flux\n",
       "2  Flux set 1   RXN0-5205  1.107052e-07         Actual flux\n",
       "3  Flux set 2   RXN0-5205  1.107052e-07         Actual flux\n",
       "4  Flux set 1  ABC-63-RXN  2.214106e-07  Reconstructed flux\n",
       "5  Flux set 2  ABC-63-RXN  2.214106e-07  Reconstructed flux\n",
       "6  Flux set 1   RXN0-5205  1.107053e-07  Reconstructed flux\n",
       "7  Flux set 2   RXN0-5205  1.107053e-07  Reconstructed flux"
      ],
      "text/html": [
       "<div>\n",
       "<style scoped>\n",
       "    .dataframe tbody tr th:only-of-type {\n",
       "        vertical-align: middle;\n",
       "    }\n",
       "\n",
       "    .dataframe tbody tr th {\n",
       "        vertical-align: top;\n",
       "    }\n",
       "\n",
       "    .dataframe thead th {\n",
       "        text-align: right;\n",
       "    }\n",
       "</style>\n",
       "<table border=\"1\" class=\"dataframe\">\n",
       "  <thead>\n",
       "    <tr style=\"text-align: right;\">\n",
       "      <th></th>\n",
       "      <th>index</th>\n",
       "      <th>variable</th>\n",
       "      <th>value</th>\n",
       "      <th>kind</th>\n",
       "    </tr>\n",
       "  </thead>\n",
       "  <tbody>\n",
       "    <tr>\n",
       "      <th>0</th>\n",
       "      <td>Flux set 1</td>\n",
       "      <td>ABC-63-RXN</td>\n",
       "      <td>2.214104e-07</td>\n",
       "      <td>Actual flux</td>\n",
       "    </tr>\n",
       "    <tr>\n",
       "      <th>1</th>\n",
       "      <td>Flux set 2</td>\n",
       "      <td>ABC-63-RXN</td>\n",
       "      <td>2.214104e-07</td>\n",
       "      <td>Actual flux</td>\n",
       "    </tr>\n",
       "    <tr>\n",
       "      <th>2</th>\n",
       "      <td>Flux set 1</td>\n",
       "      <td>RXN0-5205</td>\n",
       "      <td>1.107052e-07</td>\n",
       "      <td>Actual flux</td>\n",
       "    </tr>\n",
       "    <tr>\n",
       "      <th>3</th>\n",
       "      <td>Flux set 2</td>\n",
       "      <td>RXN0-5205</td>\n",
       "      <td>1.107052e-07</td>\n",
       "      <td>Actual flux</td>\n",
       "    </tr>\n",
       "    <tr>\n",
       "      <th>4</th>\n",
       "      <td>Flux set 1</td>\n",
       "      <td>ABC-63-RXN</td>\n",
       "      <td>2.214106e-07</td>\n",
       "      <td>Reconstructed flux</td>\n",
       "    </tr>\n",
       "    <tr>\n",
       "      <th>5</th>\n",
       "      <td>Flux set 2</td>\n",
       "      <td>ABC-63-RXN</td>\n",
       "      <td>2.214106e-07</td>\n",
       "      <td>Reconstructed flux</td>\n",
       "    </tr>\n",
       "    <tr>\n",
       "      <th>6</th>\n",
       "      <td>Flux set 1</td>\n",
       "      <td>RXN0-5205</td>\n",
       "      <td>1.107053e-07</td>\n",
       "      <td>Reconstructed flux</td>\n",
       "    </tr>\n",
       "    <tr>\n",
       "      <th>7</th>\n",
       "      <td>Flux set 2</td>\n",
       "      <td>RXN0-5205</td>\n",
       "      <td>1.107053e-07</td>\n",
       "      <td>Reconstructed flux</td>\n",
       "    </tr>\n",
       "  </tbody>\n",
       "</table>\n",
       "</div>"
      ]
     },
     "execution_count": 86,
     "metadata": {},
     "output_type": "execute_result"
    }
   ],
   "execution_count": 86
  },
  {
   "cell_type": "code",
   "source": [
    "sns.catplot(x=\"index\", y=\"value\", hue=\"kind\", col=\"variable\", kind=\"bar\", data=df_reconstr_comp, height=5, aspect=1, col_wrap=2)\n",
    "plt.savefig(\"flux_set_comparison.svg\")"
   ],
   "metadata": {
    "collapsed": false,
    "ExecuteTime": {
     "end_time": "2024-05-20T17:14:36.055886Z",
     "start_time": "2024-05-20T17:14:35.716022Z"
    }
   },
   "id": "9adae98f0fb2aa55",
   "outputs": [
    {
     "data": {
      "text/plain": [
       "<Figure size 1272.38x500 with 2 Axes>"
      ],
      "image/png": "[encoded data removed]"
     },
     "metadata": {},
     "output_type": "display_data"
    }
   ],
   "execution_count": 52
  },
  {
   "cell_type": "code",
   "source": [
    "reconstructed_vE = np.zeros(vE.shape)\n",
    "\n",
    "for j in range(n_flux_set):\n",
    "    sat_expr = []\n",
    "    fwd_sat = np.zeros(n_rxn)\n",
    "    back_sat = np.zeros(n_rxn)\n",
    "    sat = np.zeros(n_rxn)\n",
    "\n",
    "    for i in range(n_rxn):\n",
    "        # sum terms are separate in logsumexp. one per saturation term (row in C_alpha, C_beta)\n",
    "\n",
    "\n",
    "        Km_s_idx = np.nonzero(S_s_nz[1, :] == i)\n",
    "        S_s_idx = S_s_nz[0, S_s_nz[1, :] == i] # negate -1 entries\n",
    "\n",
    "        Km_p_idx = np.nonzero(S_p_nz[1, :] == i)\n",
    "        S_p_idx = S_p_nz[0, S_p_nz[1, :] == i]\n",
    "\n",
    "        sat_expr.append(           [ (C_alpha @ y_f.value[j, :].flatten())[d_alpha == i] ,\n",
    "                                     (C_beta @ y_r.value[j, :].flatten())[d_beta == i],\n",
    "                                     0,\n",
    "                                     #-1*np.ones(n_lse_terms - n_term + 1)\n",
    "                                   ]\n",
    "                       )\n",
    "        fwd_sat[i] = (np.exp(-S.T[i, S_s_idx] @ y_s.value[j, Km_s_idx].flatten())) \n",
    "        back_sat[i] = (np.exp(S.T[i, S_p_idx] @ y_p.value[j, Km_p_idx].flatten()))\n",
    "\n",
    "\n",
    "\n",
    "    for i, rxn in enumerate(sat_expr):\n",
    "        s = 0\n",
    "\n",
    "        for term in rxn:\n",
    "            s += np.sum(np.exp(term))\n",
    "\n",
    "        sat[i] = (s)\n",
    "\n",
    "    reconstr = np.exp(cfwd.value) * fwd_sat/sat - np.exp(crev.value) * back_sat/sat\n",
    "    print(reconstr)\n",
    "    reconstructed_vE[j, :] = reconstr"
   ],
   "metadata": {
    "collapsed": false,
    "ExecuteTime": {
     "end_time": "2024-05-20T17:15:23.466412Z",
     "start_time": "2024-05-20T17:15:23.457948Z"
    }
   },
   "id": "471d3352182b24c",
   "outputs": [
    {
     "name": "stdout",
     "output_type": "stream",
     "text": [
      "[300.00036479 100.00013873]\n",
      "[100.00013939 100.00012445]\n"
     ]
    }
   ],
   "execution_count": 53
  },
  {
   "cell_type": "code",
   "source": [
    "dmdt_ext = S @ reconstructed_vE.T\n",
    "dmdt_ext"
   ],
   "metadata": {
    "collapsed": false,
    "ExecuteTime": {
     "end_time": "2024-05-20T17:15:27.084970Z",
     "start_time": "2024-05-20T17:15:27.080923Z"
    }
   },
   "id": "2458932aa987b224",
   "outputs": [
    {
     "data": {
      "text/plain": [
       "array([[-2.00000226e+02, -1.49365546e-05],\n",
       "       [-4.00000504e+02, -2.00000264e+02],\n",
       "       [-4.00000504e+02, -2.00000264e+02],\n",
       "       [ 2.00000226e+02,  1.49365546e-05],\n",
       "       [ 4.00000504e+02,  2.00000264e+02],\n",
       "       [ 4.00000504e+02,  2.00000264e+02],\n",
       "       [ 4.00000504e+02,  2.00000264e+02]])"
      ]
     },
     "execution_count": 54,
     "metadata": {},
     "output_type": "execute_result"
    }
   ],
   "execution_count": 54
  },
  {
   "cell_type": "markdown",
   "source": [
    "# Function that calculates fluxes from concentrations and basic parameters"
   ],
   "metadata": {
    "collapsed": false
   },
   "id": "e7a8b33a9fd785c5"
  }
 ],
 "metadata": {
  "kernelspec": {
   "display_name": "Python 3 (ipykernel)",
   "language": "python",
   "name": "python3"
  },
  "language_info": {
   "codemirror_mode": {
    "name": "ipython",
    "version": 3
   },
   "file_extension": ".py",
   "mimetype": "text/x-python",
   "name": "python",
   "nbconvert_exporter": "python",
   "pygments_lexer": "ipython3",
   "version": "3.9.9"
  }
 },
 "nbformat": 4,
 "nbformat_minor": 5
}
