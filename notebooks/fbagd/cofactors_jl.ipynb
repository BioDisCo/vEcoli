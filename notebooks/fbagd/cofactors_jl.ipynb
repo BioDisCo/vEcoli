{
 "cells": [
  {
   "cell_type": "code",
   "execution_count": null,
   "metadata": {
    "tags": []
   },
   "outputs": [
    {
     "name": "stderr",
     "output_type": "stream",
     "text": [
      "\u001b[36m\u001b[1m[ \u001b[22m\u001b[39m\u001b[36m\u001b[1mInfo: \u001b[22m\u001b[39mPrecompiling GraphMakie [1ecd5474-83a3-4783-bb4f-06765db800d2]\n"
     ]
    }
   ],
   "source": [
    "using GraphMakie\n",
    "using CSV\n",
    "using DataFrames\n",
    "using DelimitedFiles\n",
    "using SankeyPlots\n",
    "using ColorSchemes\n"
   ]
  },
  {
   "cell_type": "code",
   "execution_count": null,
   "metadata": {
    "tags": []
   },
   "outputs": [],
   "source": [
    "Tree = Matrix(DataFrame(CSV.File(\"data/tree_matrix.csv\")))\n",
    "\n"
   ]
  },
  {
   "cell_type": "code",
   "execution_count": null,
   "metadata": {
    "tags": []
   },
   "outputs": [],
   "source": [
    "complex_names = vec(readdlm(\"data/complex_names.txt\", '\\t', String, '\\n'))\n",
    "monomer_names = vec(readdlm(\"data/protein_names.txt\", '\\t', String, '\\n'))\n",
    "cofactor_names = vec(readdlm(\"data/cofactor_names.txt\", '\\t', String, '\\n'))\n",
    "element_names = vec(readdlm(\"data/element_names.txt\", '\\t', String, '\\n'))\n",
    "\n",
    "protein_names = [complex_names; monomer_names]\n",
    "\n",
    "C = Matrix(DataFrame(CSV.File(\"data/C_matrix.csv\", header=false)))\n",
    "P = Matrix(DataFrame(CSV.File(\"data/P_matrix.csv\", header=false)))\n",
    "E = Matrix(DataFrame(CSV.File(\"data/E_matrix.csv\", header=false)))\n",
    "\n",
    "counts = vec(Matrix(DataFrame(CSV.File(\"data/counts.csv\", header=false))))\n"
   ]
  },
  {
   "cell_type": "code",
   "execution_count": null,
   "metadata": {
    "tags": []
   },
   "outputs": [],
   "source": [
    "Counts = repeat(counts, 1, length(monomer_names))\n",
    "\n",
    "C_counts = C .* Counts\n",
    "\n",
    "C_counts_elements = C_counts * P * E"
   ]
  },
  {
   "cell_type": "code",
   "execution_count": null,
   "metadata": {
    "tags": []
   },
   "outputs": [],
   "source": [
    "# get top 10 iron\n",
    "cur_element = \"FE\"\n",
    "element_idx = element_names .== cur_element\n",
    "top_included = 20\n",
    "\n",
    "cofactors_with_element_idx = vec(E[:, element_idx] .!= 0)\n",
    "\n",
    "complexes_by_this_element = vec(C_counts_elements[:, element_idx])\n",
    "top_element_content_indices = sortperm(complexes_by_this_element, rev=true)[1:top_included]\n",
    "\n",
    "top_complex_cofactor_map = (C_counts * P)[top_element_content_indices, cofactors_with_element_idx]"
   ]
  },
  {
   "cell_type": "code",
   "execution_count": null,
   "metadata": {
    "tags": []
   },
   "outputs": [],
   "source": [
    "src = Vector{Int64}()\n",
    "dst = Vector{Int64}()\n",
    "weights = Vector{Int64}()\n",
    "\n",
    "ordering_cofactors = Vector{Pair{Int64, Int64}}()\n",
    "\n",
    "n_cplx = size(top_complex_cofactor_map)[1]\n",
    "n_cofactor = size(top_complex_cofactor_map)[2]\n",
    "\n",
    "node_labels = [cur_element; cofactor_names[cofactors_with_element_idx]; protein_names[top_element_content_indices]]\n",
    "\n",
    "n_cofactors_sum = vec(sum((C_counts * P), dims=1))[cofactors_with_element_idx]\n",
    "n_cofactors_sum_elementwise = n_cofactors_sum .* E[cofactors_with_element_idx, element_idx]\n",
    "\n",
    "\n",
    "for j in 1:n_cofactor\n",
    "    push!(src, 1)\n",
    "    push!(dst, 1+j)\n",
    "    push!(weights, n_cofactors_sum_elementwise[j])\n",
    "end\n",
    "\n",
    "for i in 1:n_cplx\n",
    "    for j in 1:n_cofactor\n",
    "        if top_complex_cofactor_map[i,j] != 0\n",
    "            push!(src, 1+j)\n",
    "            push!(dst, 1+n_cofactor + i)\n",
    "            push!(weights, top_complex_cofactor_map[i,j] * E[cofactors_with_element_idx, element_idx][j])\n",
    "            \n",
    "        end\n",
    "    end\n",
    "end\n",
    "\n",
    "\n",
    "\n",
    "# create sorting\n",
    "\n",
    "sort_cofactors = sortperm(vec(n_cofactors_sum_elementwise), rev=true)\n",
    "\n",
    "\n",
    "for i in 1:(n_cofactor-1)\n",
    "    \n",
    "    \n",
    "    push!(ordering_cofactors, 1+sort_cofactors[i]=>1+sort_cofactors[i+1])\n",
    "end\n",
    "\n",
    "\n",
    "already_sorted = Vector{Int64}()\n",
    "\n",
    "for i in sort_cofactors\n",
    "    name = node_labels[1+i]\n",
    "    println(\"currently sorting $name\")\n",
    "    # exclude last element since redundant\n",
    "    sorted_column = sortperm(top_complex_cofactor_map[:, i], rev=true)\n",
    "    nonzero = sum(top_complex_cofactor_map[sorted_column, i] .> 0)\n",
    "    \n",
    "    for j in 1:length(sorted_column[1:nonzero-1])\n",
    "        \n",
    "        \n",
    "        cplx_name = node_labels[1+n_cofactor+sorted_column[j]]\n",
    "        downstream = node_labels[1+n_cofactor+sorted_column[j+1]]\n",
    "        \n",
    "        count = top_complex_cofactor_map[sorted_column[j], i]\n",
    "        \n",
    "        println(\"currently sorting $cplx_name with count $count\")\n",
    "        \n",
    "        if !(sorted_column[j] in already_sorted || sorted_column[j+1] in already_sorted)\n",
    "            \n",
    "            println(\"Connecting node $cplx_name with $downstream\")\n",
    "            \n",
    "            push!(ordering_cofactors, \n",
    "                        1+n_cofactor+sorted_column[j] => 1+n_cofactor+sorted_column[j+1])\n",
    "\n",
    "\n",
    "        end\n",
    "    end\n",
    "    \n",
    "    append!(already_sorted, sorted_column[1:nonzero-1])\n",
    "    \n",
    "end\n",
    "\n",
    "# create internal sorting of largest cofactor sizes\n",
    "\n"
   ]
  },
  {
   "cell_type": "code",
   "execution_count": null,
   "metadata": {
    "tags": []
   },
   "outputs": [],
   "source": [
    "top_complex_cofactor_map"
   ]
  },
  {
   "cell_type": "code",
   "execution_count": null,
   "metadata": {
    "tags": []
   },
   "outputs": [],
   "source": [
    "sorted_column = sortperm(top_complex_cofactor_map[:, 4], rev=true)\n"
   ]
  },
  {
   "cell_type": "code",
   "execution_count": null,
   "metadata": {
    "tags": []
   },
   "outputs": [],
   "source": [
    "node_labels[1+n_cofactor+3]"
   ]
  },
  {
   "cell_type": "code",
   "execution_count": null,
   "metadata": {
    "tags": []
   },
   "outputs": [],
   "source": [
    "sankey(src, dst, weights, \n",
    "        compact = true,\n",
    "        node_labels = node_labels,\n",
    "        node_colors = palette([:purple, :green], 7),\n",
    "        edge_color = :gradient,\n",
    "        size=(1000,1000),\n",
    "        force_order = ordering_cofactors\n",
    ")"
   ]
  },
  {
   "cell_type": "code",
   "execution_count": null,
   "metadata": {
    "tags": []
   },
   "outputs": [],
   "source": [
    "del palette"
   ]
  },
  {
   "cell_type": "code",
   "execution_count": null,
   "metadata": {},
   "outputs": [],
   "source": []
  }
 ],
 "metadata": {
  "kernelspec": {
   "display_name": "Julia 1.9.1",
   "language": "julia",
   "name": "julia-1.9"
  },
  "language_info": {
   "file_extension": ".jl",
   "mimetype": "application/julia",
   "name": "julia",
   "version": "1.9.1"
  }
 },
 "nbformat": 4,
 "nbformat_minor": 4
}
