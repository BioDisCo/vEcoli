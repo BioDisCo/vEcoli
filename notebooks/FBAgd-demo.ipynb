{
 "cells": [
  {
   "cell_type": "code",
   "execution_count": 1,
   "id": "3b8a6aab",
   "metadata": {},
   "outputs": [],
   "source": [
    "import sys\n",
    "sys.path.insert(0, \"../\")\n",
    "\n",
    "import numpy as np\n",
    "\n",
    "import cobra.test\n",
    "from ecoli.library import fba_gd\n"
   ]
  },
  {
   "cell_type": "markdown",
   "id": "0e934830",
   "metadata": {},
   "source": [
    "# Test case: OAA -> Asp -> Asn, Lys, Met, Thr\n",
    "\n",
    "### Read full E. coli model from cobra, and extract a subset of reaction stoichiometries to work with"
   ]
  },
  {
   "cell_type": "code",
   "execution_count": 2,
   "id": "a5b94a12",
   "metadata": {},
   "outputs": [],
   "source": [
    "full_model = cobra.test.create_test_model(\"ecoli\")  # iJO1366\n",
    "\n",
    "stoichiometry = {}\n",
    "for reaction in full_model.reactions:\n",
    "    if reaction.id in [\n",
    "        \"ASPTA\",  # -> Asp\n",
    "        \"ASNN\",  # -> Asn\n",
    "\n",
    "        \"DHDPS\",\n",
    "        \"DHDPRy\",\n",
    "        \"THDPS\",\n",
    "        \"SDPTA\",\n",
    "        \"SDPDS\",\n",
    "        \"DAPE\",\n",
    "        \"DAPDC\",  # -> Lus\n",
    "\n",
    "        \"HSST\",\n",
    "        \"SHSL1\",\n",
    "        \"CYSTL\",\n",
    "        \"METS\",  # -> Met\n",
    "\n",
    "        \"ASPK\",\n",
    "        \"ASAD\",\n",
    "        \"HSDy\",\n",
    "        \"HSK\",\n",
    "        \"THRS\",  # -> Thr\n",
    "    ]:\n",
    "        stoichiometry[reaction.id] = {metabolite.id: coeff for metabolite, coeff in reaction.metabolites.items()}\n",
    "\n",
    "exchanges=['5mthf_c', 'adp_c', 'akg_c', 'atp_c', 'co2_c', 'coa_c', 'cys__L_c', 'glu__L_c', 'h2o_c', 'h_c',\n",
    "           'nadp_c', 'nadph_c', 'nh4_c', 'oaa_c', 'pi_c', 'pyr_c', 'succ_c', 'succoa_c', 'thf_c']\n",
    "objective={\"asn__L_c\": 0.6, \"asp__L_c\": 1.0, \"lys__L_c\": 0.9, \"met__L_c\": 0.5, \"thr__L_c\": 2.}\n"
   ]
  },
  {
   "cell_type": "markdown",
   "id": "c3460c84",
   "metadata": {},
   "source": [
    "### Set up the structure of the FBA problem"
   ]
  },
  {
   "cell_type": "code",
   "execution_count": 4,
   "id": "508aaa59",
   "metadata": {},
   "outputs": [],
   "source": [
    "fba = fba_gd.GradientDescentFba(\n",
    "    stoichiometry,\n",
    "    exchanges=exchanges,\n",
    "    objective=objective,\n",
    "    objectiveType=\"homeostatic\",\n",
    ")"
   ]
  },
  {
   "cell_type": "markdown",
   "id": "af377380",
   "metadata": {},
   "source": [
    "### Solve the problem, passing in current objectives"
   ]
  },
  {
   "cell_type": "code",
   "execution_count": 6,
   "id": "d0a7a9b6",
   "metadata": {},
   "outputs": [
    {
     "name": "stderr",
     "output_type": "stream",
     "text": [
      "WARNING:absl:No GPU/TPU found, falling back to CPU. (Set TF_CPP_MIN_LOG_LEVEL=0 and rerun for more info.)\n"
     ]
    },
    {
     "name": "stdout",
     "output_type": "stream",
     "text": [
      "RMSE = 1.2942808943932731e-07\n"
     ]
    }
   ],
   "source": [
    "soln = fba.solve(objective, params=None)\n",
    "\n",
    "# Steady-state residual is a measure of how far the solution is from steady-state\n",
    "print(f\"RMSE = {np.sqrt(np.sum(np.square(soln.ss_residual)))}\")"
   ]
  },
  {
   "cell_type": "markdown",
   "id": "a0227f8a",
   "metadata": {},
   "source": [
    "### The solution object has solved values for reaction velocities, and rates of change (dm/dt) of all molecules\n",
    "\n",
    "- Objective molecules have dm/dt close to their objective values\n",
    "- Exchange molecules' dm/dt are as needed to support production of the objectives\n",
    "- Internal (intermediate) molecules have dm/dt close to zero (i.e. steady state)"
   ]
  },
  {
   "cell_type": "code",
   "execution_count": 13,
   "id": "6f67e68d",
   "metadata": {},
   "outputs": [
    {
     "name": "stdout",
     "output_type": "stream",
     "text": [
      "Fluxes\n",
      "        ASAD:   -3.40\n",
      "        ASNN:   -0.60\n",
      "        ASPK:   +3.40\n",
      "       ASPTA:   -5.00\n",
      "       CYSTL:   +0.50\n",
      "       DAPDC:   +0.90\n",
      "        DAPE:   +0.90\n",
      "      DHDPRy:   +0.90\n",
      "       DHDPS:   +0.90\n",
      "        HSDy:   -2.50\n",
      "         HSK:   +2.00\n",
      "        HSST:   +0.50\n",
      "        METS:   +0.50\n",
      "       SDPDS:   +0.90\n",
      "       SDPTA:   -0.90\n",
      "       SHSL1:   +0.50\n",
      "       THDPS:   +0.90\n",
      "        THRS:   +2.00\n",
      "\n",
      "Objectives\n",
      "    asn__L_c:   0.60 / 0.60\n",
      "    asp__L_c:   1.00 / 1.00\n",
      "    lys__L_c:   0.90 / 0.90\n",
      "    met__L_c:   0.50 / 0.50\n",
      "    thr__L_c:   2.00 / 2.00\n",
      "\n",
      "Exchanges\n",
      "     5mthf_c:   -0.50\n",
      "       adp_c:   +5.40\n",
      "       akg_c:   +5.90\n",
      "       atp_c:   -5.40\n",
      "       co2_c:   +0.90\n",
      "       coa_c:   +1.40\n",
      "    cys__L_c:   -0.50\n",
      "    glu__L_c:   -5.90\n",
      "       h2o_c:   -1.90\n",
      "         h_c:   -3.80\n",
      "      nadp_c:   +6.80\n",
      "     nadph_c:   -6.80\n",
      "       nh4_c:   -0.10\n",
      "       oaa_c:   -5.00\n",
      "        pi_c:   +5.40\n",
      "       pyr_c:   -0.40\n",
      "      succ_c:   +1.40\n",
      "    succoa_c:   -1.40\n",
      "       thf_c:   +0.50\n",
      "\n",
      "Intermediates\n",
      "     aspsa_c:    4.82e-08\n",
      "     4pasp_c:   -2.06e-08\n",
      "   cyst__L_c:   -3.52e-09\n",
      "   hcys__L_c:   -3.85e-08\n",
      "  26dap__M_c:   -8.29e-09\n",
      "  26dap_LL_c:    2.15e-09\n",
      "    23dhdp_c:   -4.46e-09\n",
      "      thdp_c:   -1.60e-09\n",
      "    hom__L_c:    3.78e-08\n",
      "      phom_c:   -1.05e-07\n",
      "    suchms_c:    3.50e-11\n",
      "    sl26da_c:   -3.70e-10\n",
      "    sl2a6o_c:    3.16e-09\n"
     ]
    }
   ],
   "source": [
    "print(\"Fluxes\")\n",
    "for reaction_id in sorted(stoichiometry):\n",
    "    print(f\"  {reaction_id:>10}:   {soln.velocities[reaction_id]:+.2f}\")\n",
    "\n",
    "print()\n",
    "print(\"Objectives\")\n",
    "for molecule in sorted(objective):\n",
    "    print(f\"  {molecule:>10}:   {soln.dm_dt[molecule]:.2f} / {objective[molecule]:.2f}\")\n",
    "\n",
    "print()\n",
    "print(\"Exchanges\")\n",
    "for molecule in sorted(exchanges):\n",
    "    print(f\"  {molecule:>10}:   {soln.dm_dt[molecule]:+.2f}\")\n",
    "\n",
    "print()\n",
    "print(\"Intermediates\")\n",
    "for molecule in fba.network.moleculeIDs():\n",
    "    if molecule not in objective and molecule not in exchanges:\n",
    "        print(f\"  {molecule:>10}:   {soln.dm_dt[molecule]: .2e}\")\n",
    "\n"
   ]
  }
 ],
 "metadata": {
  "kernelspec": {
   "display_name": "Python 3",
   "language": "python",
   "name": "python3"
  },
  "language_info": {
   "codemirror_mode": {
    "name": "ipython",
    "version": 3
   },
   "file_extension": ".py",
   "mimetype": "text/x-python",
   "name": "python",
   "nbconvert_exporter": "python",
   "pygments_lexer": "ipython3",
   "version": "3.8.5"
  }
 },
 "nbformat": 4,
 "nbformat_minor": 5
}
