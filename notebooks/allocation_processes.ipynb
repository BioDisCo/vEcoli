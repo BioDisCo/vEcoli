{
 "cells": [
  {
   "cell_type": "markdown",
   "id": "c0b6e13f",
   "metadata": {},
   "source": [
    "# Allocation Processes"
   ]
  },
  {
   "cell_type": "code",
   "execution_count": 24,
   "id": "478c4e17",
   "metadata": {},
   "outputs": [],
   "source": [
    "from vivarium.core.process import Process\n",
    "from vivarium.core.store import Store\n",
    "from vivarium.core.engine import Engine, pp\n",
    "from vivarium.core.composition import simulate_process, simulate_composite\n",
    "from vivarium.plots.topology import plot_topology\n",
    "\n",
    "topology_settings = {\n",
    "    'buffer': 1,\n",
    "    'show_ports': False,\n",
    "    'node_size': 10000,\n",
    "    'dashed_edges': True,\n",
    "    'node_distance': 4,\n",
    "}"
   ]
  },
  {
   "cell_type": "code",
   "execution_count": 2,
   "id": "cd8d6300",
   "metadata": {},
   "outputs": [
    {
     "name": "stdout",
     "output_type": "stream",
     "text": [
      "/Users/eranagmon/code/vivarium-ecoli\n"
     ]
    }
   ],
   "source": [
    "# Make sure notebook runs out of vivarium-ecoli directory\n",
    "import sys, os\n",
    "\n",
    "# get the path to the notebook, and change working directory\n",
    "notebook_path = sys.path[0][:sys.path[0].index('notebooks')]\n",
    "sys.path.append(notebook_path)\n",
    "os.chdir(sys.path[-1])\n",
    "cwd = os.getcwd()\n",
    "\n",
    "# print(cwd)"
   ]
  },
  {
   "cell_type": "code",
   "execution_count": 4,
   "id": "1ba0afd5",
   "metadata": {},
   "outputs": [],
   "source": [
    "from ecoli.processes.allocator import Allocator\n",
    "from ecoli.processes.partition import PartitionedProcess, Evolver, Requester"
   ]
  },
  {
   "cell_type": "code",
   "execution_count": 16,
   "id": "853f2ca5",
   "metadata": {},
   "outputs": [],
   "source": [
    "class Example(PartitionedProcess):\n",
    "    name = 'example'\n",
    "    topology = {'port': ('store',)}\n",
    "    def ports_schema(self):\n",
    "        return {'port': {'variable': {'_default': 0.}}}\n",
    "    def calculate_request(self, timestep, states):\n",
    "        return {}\n",
    "    def evolve_state(self, timestep, states):\n",
    "        return {}"
   ]
  },
  {
   "cell_type": "code",
   "execution_count": 19,
   "id": "c7b70b1c",
   "metadata": {},
   "outputs": [],
   "source": [
    "example_process = Example()"
   ]
  },
  {
   "cell_type": "code",
   "execution_count": 25,
   "id": "0494574c",
   "metadata": {},
   "outputs": [
    {
     "data": {
      "image/png": "[encoded data removed]",
      "text/plain": [
       "<Figure size 144x720 with 1 Axes>"
      ]
     },
     "metadata": {},
     "output_type": "display_data"
    }
   ],
   "source": [
    "process_topo_fig = plot_topology(example_process, topology_settings)"
   ]
  },
  {
   "cell_type": "code",
   "execution_count": 23,
   "id": "c019adb6",
   "metadata": {},
   "outputs": [],
   "source": [
    "evolver = Evolver({'process': example_process})"
   ]
  },
  {
   "cell_type": "code",
   "execution_count": 26,
   "id": "c3e407b3",
   "metadata": {},
   "outputs": [
    {
     "data": {
      "image/png": "[encoded data removed]",
      "text/plain": [
       "<Figure size 432x720 with 1 Axes>"
      ]
     },
     "metadata": {},
     "output_type": "display_data"
    }
   ],
   "source": [
    "evolver_topo_fig = plot_topology(evolver, topology_settings)"
   ]
  },
  {
   "cell_type": "code",
   "execution_count": null,
   "id": "31d49638",
   "metadata": {},
   "outputs": [],
   "source": [
    "requester = Requester({'process': example_process})"
   ]
  }
 ],
 "metadata": {
  "kernelspec": {
   "display_name": "Python 3 (ipykernel)",
   "language": "python",
   "name": "python3"
  },
  "language_info": {
   "codemirror_mode": {
    "name": "ipython",
    "version": 3
   },
   "file_extension": ".py",
   "mimetype": "text/x-python",
   "name": "python",
   "nbconvert_exporter": "python",
   "pygments_lexer": "ipython3",
   "version": "3.8.3"
  },
  "toc": {
   "base_numbering": 1,
   "nav_menu": {},
   "number_sections": false,
   "sideBar": true,
   "skip_h1_title": false,
   "title_cell": "Table of Contents",
   "title_sidebar": "Contents",
   "toc_cell": false,
   "toc_position": {},
   "toc_section_display": true,
   "toc_window_display": true
  }
 },
 "nbformat": 4,
 "nbformat_minor": 5
}
