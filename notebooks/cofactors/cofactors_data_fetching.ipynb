{
 "cells": [
  {
   "cell_type": "markdown",
   "source": [
    "# Setup"
   ],
   "metadata": {
    "collapsed": false
   }
  },
  {
   "cell_type": "code",
   "execution_count": 1,
   "metadata": {
    "collapsed": true,
    "ExecuteTime": {
     "end_time": "2023-08-10T23:55:34.935444Z",
     "start_time": "2023-08-10T23:55:34.803685Z"
    }
   },
   "outputs": [],
   "source": [
    "import numpy as np\n",
    "\n",
    "import seaborn as sns\n",
    "import pandas as pd\n",
    "import os\n",
    "import pprint\n",
    "import ast\n",
    "import re\n",
    "import matplotlib.pyplot as plt\n",
    "import dill\n",
    "import requests\n",
    "import xmltodict\n",
    "import json\n",
    "\n",
    "pp = pprint.PrettyPrinter(depth=6)\n",
    "\n",
    "os.chdir(os.path.expanduser('~/vivarium-ecoli'))\n",
    "\n",
    "ALLOWED_METAL_NAMES =   {'Iron': 'FE+2', 'Cobalt': 'CO+2', 'Copper': 'CU+2', 'Manganese': 'MN+2', 'Molybdenum': 'CPD-8123', 'Nickel': 'NI+2', 'Zinc': 'ZN+2',\n",
    "                        'Calcium': 'CA+2', 'Magnesium': 'MG+2', 'Sodium': 'NA+', 'Potassium': 'K+',\n",
    "                        'Iron-sulfur \\(4Fe-4S\\)': 'CPD-7', 'Iron-sulfur \\(2Fe-2S\\)': 'CPD-6',\n",
    "                         'Iron-sulfur \\(4Fe-4S-S-AdoMet\\)': 'CPD-7', 'Iron-sulfur \\(3Fe-4S\\)': '3FE-4S', 'Iron-oxo-sulfur \\(4Fe-2O-2S\\)': 'CPD-7',\n",
    "                        'heme': 'Heme-b', 'Molybdate': 'CPD-3', 'heme B': 'Heme-b',\n",
    "                         'Selenocysteine': 'L-SELENOCYSTEINE',\n",
    "                        'Divalent metal cation': 'Any+2'}\n",
    "\n",
    "\n",
    "ACCEPTED_OTHER_FEATURES = {'PYRIDOXAL_PHOSPHATE', 'THIAMINE-PYROPHOSPHATE', 'FMN', 'FAD'}"
   ]
  },
  {
   "cell_type": "markdown",
   "source": [
    "## Connect to api"
   ],
   "metadata": {
    "collapsed": false
   }
  },
  {
   "cell_type": "code",
   "execution_count": 2,
   "outputs": [],
   "source": [
    "password = input(\"Enter Password: \")"
   ],
   "metadata": {
    "collapsed": false,
    "ExecuteTime": {
     "end_time": "2023-08-10T23:55:38.162003Z",
     "start_time": "2023-08-10T23:55:34.844755Z"
    }
   }
  },
  {
   "cell_type": "code",
   "execution_count": 3,
   "outputs": [
    {
     "data": {
      "text/plain": "<Response [200]>"
     },
     "execution_count": 3,
     "metadata": {},
     "output_type": "execute_result"
    }
   ],
   "source": [
    "s = requests.Session() # create session\n",
    "# Post login credentials to session:\n",
    "s.post('https://websvc.biocyc.org/credentials/login/', data={'email':'cellulararchitect@protonmail.com', 'password': password})"
   ],
   "metadata": {
    "collapsed": false,
    "ExecuteTime": {
     "end_time": "2023-08-10T23:55:38.400913Z",
     "start_time": "2023-08-10T23:55:38.128094Z"
    }
   }
  },
  {
   "cell_type": "markdown",
   "source": [
    "## api test"
   ],
   "metadata": {
    "collapsed": false
   }
  },
  {
   "cell_type": "code",
   "execution_count": 4,
   "outputs": [
    {
     "name": "stdout",
     "output_type": "stream",
     "text": [
      "'Selenocysteine-sites'\n"
     ]
    }
   ],
   "source": [
    "# example entry\n",
    "# entity = 'PWY0-1356'\n",
    "entity = 'FDOG-MONOMER'\n",
    "req_str = f'https://websvc.biocyc.org/getxml?id=ECOLI:{entity}&detail=high'\n",
    "\n",
    "r = s.get(req_str)\n",
    "if r.status_code != 200:\n",
    "    print(entity, r.status_code)\n",
    "\n",
    "o = xmltodict.parse(r.content)\n",
    "pp.pprint(o['ptools-xml']['Protein']['has-feature'][5]['Feature']['parent']['Feature']['@frameid'])"
   ],
   "metadata": {
    "collapsed": false,
    "ExecuteTime": {
     "end_time": "2023-08-10T23:55:38.655302Z",
     "start_time": "2023-08-10T23:55:38.403813Z"
    }
   }
  },
  {
   "cell_type": "code",
   "execution_count": 5,
   "outputs": [
    {
     "name": "stdout",
     "output_type": "stream",
     "text": [
      "{'@ptools-version': '27.0',\n",
      " '@xml:base': 'http://BioCyc.org/apixml?fn=get-class-all-instances%26id=ECOLI:Fermentation%26detail=NONE',\n",
      " 'Pathway': [{'@frameid': 'PWY-5480',\n",
      "              '@orgid': 'ECOLI',\n",
      "              '@resource': 'getxml?ECOLI:PWY-5480'},\n",
      "             {'@frameid': 'PWY0-1312',\n",
      "              '@orgid': 'ECOLI',\n",
      "              '@resource': 'getxml?ECOLI:PWY0-1312'},\n",
      "             {'@frameid': 'PWY-5485',\n",
      "              '@orgid': 'ECOLI',\n",
      "              '@resource': 'getxml?ECOLI:PWY-5485'},\n",
      "             {'@frameid': 'FERMENTATION-PWY',\n",
      "              '@orgid': 'ECOLI',\n",
      "              '@resource': 'getxml?ECOLI:FERMENTATION-PWY'},\n",
      "             {'@frameid': 'PWY-5437',\n",
      "              '@orgid': 'ECOLI',\n",
      "              '@resource': 'getxml?ECOLI:PWY-5437'},\n",
      "             {'@frameid': 'PWY-8274',\n",
      "              '@orgid': 'ECOLI',\n",
      "              '@resource': 'getxml?ECOLI:PWY-8274'}],\n",
      " 'metadata': {'num_results': '6',\n",
      "              'query': 'fn=get-class-all-instances&id=ECOLI:Fermentation&detail=NONE',\n",
      "              'service_name': 'apixml',\n",
      "              'url': 'http://BioCyc.org/'}}\n"
     ]
    }
   ],
   "source": [
    "entity = 'Fermentation'\n",
    "\n",
    "fn = 'get-class-all-instances'\n",
    "req_str = f'https://websvc.biocyc.org/apixml?fn={fn}&id=ECOLI:{entity}&detail=none'\n",
    "\n",
    "r = s.get(req_str)\n",
    "if r.status_code != 200:\n",
    "    print(entity, r.status_code)\n",
    "\n",
    "o = xmltodict.parse(r.content)\n",
    "pp.pprint(o['ptools-xml'])"
   ],
   "metadata": {
    "collapsed": false,
    "ExecuteTime": {
     "end_time": "2023-08-10T23:55:38.706884Z",
     "start_time": "2023-08-10T23:55:38.657844Z"
    }
   }
  },
  {
   "cell_type": "markdown",
   "source": [
    "# Getting raw data"
   ],
   "metadata": {
    "collapsed": false
   }
  },
  {
   "cell_type": "markdown",
   "source": [
    "## Fetch EcoCyc pathway tree"
   ],
   "metadata": {
    "collapsed": false
   }
  },
  {
   "cell_type": "code",
   "execution_count": 6,
   "outputs": [],
   "source": [
    "def recursive_pathway_tree(current_node, parent_node, node_dict, level):\n",
    "\n",
    "\n",
    "    if current_node in node_dict.keys():\n",
    "\n",
    "        if level < node_dict[current_node]['level']:\n",
    "            node_dict[current_node]['level'] = level\n",
    "\n",
    "        node_dict[current_node]['parents'].append(parent_node)\n",
    "\n",
    "        return\n",
    "\n",
    "    else:\n",
    "\n",
    "        req_str = f'https://websvc.biocyc.org/getxml?id=ECOLI:{current_node}&detail=high'\n",
    "\n",
    "        node_dict[current_node] = {'parents': [], 'children': [], 'level': level}\n",
    "\n",
    "        if parent_node is not None:\n",
    "            node_dict[current_node]['parents'].append(parent_node)\n",
    "\n",
    "        r = s.get(req_str)\n",
    "        if r.status_code != 200:\n",
    "            print(current_node, r.status_code)\n",
    "            return\n",
    "\n",
    "        o = xmltodict.parse(r.content)\n",
    "\n",
    "\n",
    "        subclasses = o['ptools-xml']['Pathway']['subclass'] if 'subclass' in o['ptools-xml']['Pathway'] else []\n",
    "        if type(subclasses) is dict:\n",
    "            subclasses = [subclasses]\n",
    "\n",
    "        instances = o['ptools-xml']['Pathway']['instance'] if 'instance' in o['ptools-xml']['Pathway'] else []\n",
    "        if type(instances) is dict:\n",
    "            instances = [instances]\n",
    "\n",
    "        pathways = subclasses + instances\n",
    "\n",
    "        # print(f'{current_node}: {len(subclasses)}, {len(instances)}')\n",
    "\n",
    "        for pathway in pathways:\n",
    "            pathway_id = pathway['Pathway']['@frameid']\n",
    "\n",
    "            node_dict[current_node]['children'].append(pathway_id)\n",
    "            recursive_pathway_tree(pathway_id, current_node, node_dict, level+1)\n",
    "\n",
    "\n",
    "    return\n",
    "\n",
    "\n",
    "def get_pathway_ith_level_parents(cur_pathway_idx, pathway_matrix, name_list, level_vector, level=2, parent_dict=None):\n",
    "\n",
    "    if parent_dict is None:\n",
    "        parent_dict = {}\n",
    "\n",
    "    cur_pathway_level = level_vector[cur_pathway_idx]\n",
    "\n",
    "    if cur_pathway_level == level:\n",
    "        parent_dict[name_list[cur_pathway_idx]] = cur_pathway_level\n",
    "\n",
    "    parent_slice = pathway_matrix[:, cur_pathway_idx]\n",
    "    parent_idxs = np.where(parent_slice != 0)[0]\n",
    "\n",
    "\n",
    "    for idx in parent_idxs:\n",
    "\n",
    "        _ = get_pathway_ith_level_parents(idx, pathway_matrix, name_list, level_vector, level, parent_dict)\n",
    "\n",
    "    return parent_dict\n",
    "\n"
   ],
   "metadata": {
    "collapsed": false,
    "ExecuteTime": {
     "end_time": "2023-08-10T23:55:38.712822Z",
     "start_time": "2023-08-10T23:55:38.711574Z"
    }
   }
  },
  {
   "cell_type": "code",
   "execution_count": 7,
   "outputs": [
    {
     "name": "stdout",
     "output_type": "stream",
     "text": [
      "ARG+POLYAMINE-SYN 404\n"
     ]
    }
   ],
   "source": [
    "entity = 'Pathways'\n",
    "\n",
    "fn = 'get-class-direct-subs'\n",
    "req_str = f'https://websvc.biocyc.org/apixml?fn={fn}&id=ECOLI:{entity}&detail=none'\n",
    "\n",
    "r = s.get(req_str)\n",
    "o = xmltodict.parse(r.content)['ptools-xml']['Pathway']\n",
    "top_level_pathways = [pathway['@frameid'] for pathway in o]\n",
    "\n",
    "pathway_node_dict = {}\n",
    "\n",
    "for top_node in top_level_pathways:\n",
    "\n",
    "    recursive_pathway_tree(top_node, None, pathway_node_dict, level=1)"
   ],
   "metadata": {
    "collapsed": false,
    "ExecuteTime": {
     "end_time": "2023-08-10T23:58:00.270361Z",
     "start_time": "2023-08-10T23:55:38.714720Z"
    }
   }
  },
  {
   "cell_type": "code",
   "execution_count": 8,
   "outputs": [
    {
     "data": {
      "text/plain": "                                      id  \\\n0                     Signaling-Pathways   \n1                              PWY0-1559   \n2                              PWY0-1495   \n3                              PWY0-1518   \n4                              PWY0-1490   \n...                                  ...   \n1159                  GLUTATHIONESYN-PWY   \n1160             Butanediol-Biosynthesis   \n1161                       CYCLOPEPTIDES   \n1162  6-HM-Dihydropterin-PP-Biosynthesis   \n1163                            PWY-6147   \n\n                                   parents  \\\n0                                       []   \n1                     [Signaling-Pathways]   \n2                     [Signaling-Pathways]   \n3                     [Signaling-Pathways]   \n4                     [Signaling-Pathways]   \n...                                    ...   \n1159                          [Reductants]   \n1160                  [Other-biosynthesis]   \n1161                  [Other-biosynthesis]   \n1162                  [Other-biosynthesis]   \n1163  [6-HM-Dihydropterin-PP-Biosynthesis]   \n\n                                               children level  \n0     [PWY0-1559, PWY0-1495, PWY0-1518, PWY0-1490, P...     1  \n1                                                    []     2  \n2                                                    []     2  \n3                                                    []     2  \n4                                                    []     2  \n...                                                 ...   ...  \n1159                                                 []     4  \n1160                                                 []     3  \n1161                                                 []     3  \n1162                                         [PWY-6147]     3  \n1163                                                 []     4  \n\n[1164 rows x 4 columns]",
      "text/html": "<div>\n<style scoped>\n    .dataframe tbody tr th:only-of-type {\n        vertical-align: middle;\n    }\n\n    .dataframe tbody tr th {\n        vertical-align: top;\n    }\n\n    .dataframe thead th {\n        text-align: right;\n    }\n</style>\n<table border=\"1\" class=\"dataframe\">\n  <thead>\n    <tr style=\"text-align: right;\">\n      <th></th>\n      <th>id</th>\n      <th>parents</th>\n      <th>children</th>\n      <th>level</th>\n    </tr>\n  </thead>\n  <tbody>\n    <tr>\n      <th>0</th>\n      <td>Signaling-Pathways</td>\n      <td>[]</td>\n      <td>[PWY0-1559, PWY0-1495, PWY0-1518, PWY0-1490, P...</td>\n      <td>1</td>\n    </tr>\n    <tr>\n      <th>1</th>\n      <td>PWY0-1559</td>\n      <td>[Signaling-Pathways]</td>\n      <td>[]</td>\n      <td>2</td>\n    </tr>\n    <tr>\n      <th>2</th>\n      <td>PWY0-1495</td>\n      <td>[Signaling-Pathways]</td>\n      <td>[]</td>\n      <td>2</td>\n    </tr>\n    <tr>\n      <th>3</th>\n      <td>PWY0-1518</td>\n      <td>[Signaling-Pathways]</td>\n      <td>[]</td>\n      <td>2</td>\n    </tr>\n    <tr>\n      <th>4</th>\n      <td>PWY0-1490</td>\n      <td>[Signaling-Pathways]</td>\n      <td>[]</td>\n      <td>2</td>\n    </tr>\n    <tr>\n      <th>...</th>\n      <td>...</td>\n      <td>...</td>\n      <td>...</td>\n      <td>...</td>\n    </tr>\n    <tr>\n      <th>1159</th>\n      <td>GLUTATHIONESYN-PWY</td>\n      <td>[Reductants]</td>\n      <td>[]</td>\n      <td>4</td>\n    </tr>\n    <tr>\n      <th>1160</th>\n      <td>Butanediol-Biosynthesis</td>\n      <td>[Other-biosynthesis]</td>\n      <td>[]</td>\n      <td>3</td>\n    </tr>\n    <tr>\n      <th>1161</th>\n      <td>CYCLOPEPTIDES</td>\n      <td>[Other-biosynthesis]</td>\n      <td>[]</td>\n      <td>3</td>\n    </tr>\n    <tr>\n      <th>1162</th>\n      <td>6-HM-Dihydropterin-PP-Biosynthesis</td>\n      <td>[Other-biosynthesis]</td>\n      <td>[PWY-6147]</td>\n      <td>3</td>\n    </tr>\n    <tr>\n      <th>1163</th>\n      <td>PWY-6147</td>\n      <td>[6-HM-Dihydropterin-PP-Biosynthesis]</td>\n      <td>[]</td>\n      <td>4</td>\n    </tr>\n  </tbody>\n</table>\n<p>1164 rows × 4 columns</p>\n</div>"
     },
     "execution_count": 8,
     "metadata": {},
     "output_type": "execute_result"
    }
   ],
   "source": [
    "pathway_df = pd.DataFrame(pathway_node_dict).T.reset_index(names='id')\n",
    "pathway_df"
   ],
   "metadata": {
    "collapsed": false,
    "ExecuteTime": {
     "end_time": "2023-08-10T23:58:00.311302Z",
     "start_time": "2023-08-10T23:58:00.301338Z"
    }
   }
  },
  {
   "cell_type": "markdown",
   "source": [
    "## Fetch protein monomer annotations"
   ],
   "metadata": {
    "collapsed": false
   }
  },
  {
   "cell_type": "code",
   "execution_count": 9,
   "outputs": [
    {
     "data": {
      "text/plain": "                                            id  \\\n0      1-ACYLGLYCEROL-3-P-ACYLTRANSFER-MONOMER   \n1                                1-PFK-MONOMER   \n2             2-DEHYDROPANTOATE-REDUCT-MONOMER   \n3                 2-ISOPROPYLMALATESYN-MONOMER   \n4     2-OCTAPRENYL-METHOXY-BENZOQ-METH-MONOMER   \n...                                        ...   \n4415                              YTFR-MONOMER   \n4416                              YTFT-MONOMER   \n4417                              ZNUA-MONOMER   \n4418                              ZNUB-MONOMER   \n4419                              ZNUC-MONOMER   \n\n                                            common_name enzyme_reaction  \\\n0     1-acylglycerol-3-phosphate <i>O</i>-acyltransf...               0   \n1                                 1-phosphofructokinase               0   \n2                         2-dehydropantoate 2-reductase               0   \n3                            2-isopropylmalate synthase               0   \n4     bifunctional 2-octaprenyl-6-methoxy-1,4-benzoq...               0   \n...                                                 ...             ...   \n4415  galactofuranose ABC transporter putative ATP b...               0   \n4416  galactofuranose ABC transporter putative membr...               0   \n4417  Zn<sup>2+</sup> ABC transporter periplasmic bi...               0   \n4418   Zn<sup>2+</sup> ABC transporter membrane subunit               0   \n4419  Zn<sup>2+</sup> ABC transporter ATP binding su...               0   \n\n     cofactors metal_features other_features direct_annotations  \n0            0              0              0                  0  \n1            0              0              0                  0  \n2            0              0              0                  0  \n3            0              0              0                  0  \n4            0              0              0                  0  \n...        ...            ...            ...                ...  \n4415         0              0              0                  0  \n4416         0              0              0                  0  \n4417         0              0              0                  0  \n4418         0              0              0                  0  \n4419         0              0              0                  0  \n\n[4420 rows x 7 columns]",
      "text/html": "<div>\n<style scoped>\n    .dataframe tbody tr th:only-of-type {\n        vertical-align: middle;\n    }\n\n    .dataframe tbody tr th {\n        vertical-align: top;\n    }\n\n    .dataframe thead th {\n        text-align: right;\n    }\n</style>\n<table border=\"1\" class=\"dataframe\">\n  <thead>\n    <tr style=\"text-align: right;\">\n      <th></th>\n      <th>id</th>\n      <th>common_name</th>\n      <th>enzyme_reaction</th>\n      <th>cofactors</th>\n      <th>metal_features</th>\n      <th>other_features</th>\n      <th>direct_annotations</th>\n    </tr>\n  </thead>\n  <tbody>\n    <tr>\n      <th>0</th>\n      <td>1-ACYLGLYCEROL-3-P-ACYLTRANSFER-MONOMER</td>\n      <td>1-acylglycerol-3-phosphate &lt;i&gt;O&lt;/i&gt;-acyltransf...</td>\n      <td>0</td>\n      <td>0</td>\n      <td>0</td>\n      <td>0</td>\n      <td>0</td>\n    </tr>\n    <tr>\n      <th>1</th>\n      <td>1-PFK-MONOMER</td>\n      <td>1-phosphofructokinase</td>\n      <td>0</td>\n      <td>0</td>\n      <td>0</td>\n      <td>0</td>\n      <td>0</td>\n    </tr>\n    <tr>\n      <th>2</th>\n      <td>2-DEHYDROPANTOATE-REDUCT-MONOMER</td>\n      <td>2-dehydropantoate 2-reductase</td>\n      <td>0</td>\n      <td>0</td>\n      <td>0</td>\n      <td>0</td>\n      <td>0</td>\n    </tr>\n    <tr>\n      <th>3</th>\n      <td>2-ISOPROPYLMALATESYN-MONOMER</td>\n      <td>2-isopropylmalate synthase</td>\n      <td>0</td>\n      <td>0</td>\n      <td>0</td>\n      <td>0</td>\n      <td>0</td>\n    </tr>\n    <tr>\n      <th>4</th>\n      <td>2-OCTAPRENYL-METHOXY-BENZOQ-METH-MONOMER</td>\n      <td>bifunctional 2-octaprenyl-6-methoxy-1,4-benzoq...</td>\n      <td>0</td>\n      <td>0</td>\n      <td>0</td>\n      <td>0</td>\n      <td>0</td>\n    </tr>\n    <tr>\n      <th>...</th>\n      <td>...</td>\n      <td>...</td>\n      <td>...</td>\n      <td>...</td>\n      <td>...</td>\n      <td>...</td>\n      <td>...</td>\n    </tr>\n    <tr>\n      <th>4415</th>\n      <td>YTFR-MONOMER</td>\n      <td>galactofuranose ABC transporter putative ATP b...</td>\n      <td>0</td>\n      <td>0</td>\n      <td>0</td>\n      <td>0</td>\n      <td>0</td>\n    </tr>\n    <tr>\n      <th>4416</th>\n      <td>YTFT-MONOMER</td>\n      <td>galactofuranose ABC transporter putative membr...</td>\n      <td>0</td>\n      <td>0</td>\n      <td>0</td>\n      <td>0</td>\n      <td>0</td>\n    </tr>\n    <tr>\n      <th>4417</th>\n      <td>ZNUA-MONOMER</td>\n      <td>Zn&lt;sup&gt;2+&lt;/sup&gt; ABC transporter periplasmic bi...</td>\n      <td>0</td>\n      <td>0</td>\n      <td>0</td>\n      <td>0</td>\n      <td>0</td>\n    </tr>\n    <tr>\n      <th>4418</th>\n      <td>ZNUB-MONOMER</td>\n      <td>Zn&lt;sup&gt;2+&lt;/sup&gt; ABC transporter membrane subunit</td>\n      <td>0</td>\n      <td>0</td>\n      <td>0</td>\n      <td>0</td>\n      <td>0</td>\n    </tr>\n    <tr>\n      <th>4419</th>\n      <td>ZNUC-MONOMER</td>\n      <td>Zn&lt;sup&gt;2+&lt;/sup&gt; ABC transporter ATP binding su...</td>\n      <td>0</td>\n      <td>0</td>\n      <td>0</td>\n      <td>0</td>\n      <td>0</td>\n    </tr>\n  </tbody>\n</table>\n<p>4420 rows × 7 columns</p>\n</div>"
     },
     "execution_count": 9,
     "metadata": {},
     "output_type": "execute_result"
    }
   ],
   "source": [
    "# get a set of all monomers with an associated uniprot id\n",
    "proteins_df = pd.read_csv('reconstruction/ecoli/flat/proteins.tsv', sep='\\t').loc[:, [\"id\", \"common_name\"]]\n",
    "\n",
    "for column in [\"enzyme_reaction\", \"cofactors\", \"metal_features\", \"other_features\", \"direct_annotations\"]:\n",
    "    proteins_df[column] = 0\n",
    "    proteins_df[column] = proteins_df[column].astype(object)\n",
    "\n",
    "proteins_df"
   ],
   "metadata": {
    "collapsed": false,
    "ExecuteTime": {
     "end_time": "2023-08-10T23:58:00.362316Z",
     "start_time": "2023-08-10T23:58:00.312554Z"
    }
   }
  },
  {
   "cell_type": "code",
   "execution_count": 10,
   "outputs": [
    {
     "name": "stdout",
     "output_type": "stream",
     "text": [
      "0\n",
      "100\n",
      "200\n",
      "300\n",
      "400\n",
      "500\n",
      "600\n",
      "700\n",
      "800\n",
      "900\n",
      "1000\n",
      "1100\n",
      "EG11708-MONOMER 404\n",
      "1200\n",
      "1300\n",
      "1400\n",
      "1500\n",
      "1600\n",
      "1700\n",
      "found selenocysteine\n",
      "found selenocysteine\n",
      "found selenocysteine\n",
      "1800\n",
      "1900\n",
      "2000\n",
      "2100\n",
      "2200\n",
      "2300\n",
      "2400\n",
      "2500\n",
      "2600\n",
      "2700\n",
      "2800\n",
      "2900\n",
      "3000\n",
      "3100\n",
      "3200\n",
      "3300\n",
      "3400\n",
      "3500\n",
      "3600\n",
      "3700\n",
      "3800\n",
      "3900\n",
      "4000\n",
      "4100\n",
      "4200\n",
      "4300\n",
      "4400\n"
     ]
    }
   ],
   "source": [
    "for i in range(len(proteins_df.index)):\n",
    "    if i % 100 == 0:\n",
    "        print(i)\n",
    "\n",
    "    protein = proteins_df.loc[i, 'id']\n",
    "    proteins_df.at[i, 'other_features'] = set()\n",
    "    proteins_df.at[i, 'metal_features'] = set()\n",
    "    proteins_df.at[i, 'enzyme_reaction'] = set()\n",
    "    proteins_df.at[i, 'cofactors'] = set()\n",
    "    proteins_df.at[i, 'direct_annotations'] = set()\n",
    "\n",
    "    req_str = f'https://websvc.biocyc.org/getxml?id=ECOLI:{protein}&detail=high'\n",
    "\n",
    "\n",
    "\n",
    "    r = s.get(req_str)\n",
    "    if r.status_code != 200:\n",
    "        print(protein, r.status_code)\n",
    "        continue\n",
    "\n",
    "    o = xmltodict.parse(r.content)['ptools-xml']\n",
    "\n",
    "\n",
    "\n",
    "    metal_set = set()\n",
    "    other_feature_set = set()\n",
    "    if 'Protein' in o and 'has-feature' in o['Protein']:\n",
    "        features = o['Protein']['has-feature']\n",
    "\n",
    "        if type(features) is dict:\n",
    "            features = [features]\n",
    "\n",
    "        for feature in features:\n",
    "            if 'parent' not in feature['Feature']:\n",
    "                continue\n",
    "\n",
    "            category = feature['Feature']['parent']['Feature']['@frameid']\n",
    "            if category == 'Metal-Binding-Sites' and 'comment' in feature['Feature']:\n",
    "\n",
    "                # Detect match to any of the allowed metal names and allowed cofactor names and add to list\n",
    "                comment = feature['Feature']['comment']['#text']\n",
    "                metal_set.add(comment)\n",
    "\n",
    "                proteins_df.at[i, 'metal_features'] = list(metal_set)\n",
    "\n",
    "            if category == 'Nucleotide-Phosphate-Binding-Regions' and 'attached-group' in feature['Feature'] and 'Compound' in feature['Feature']['attached-group']:\n",
    "                attached_group = feature['Feature']['attached-group']['Compound']['@frameid']\n",
    "                other_feature_set.add(attached_group)\n",
    "\n",
    "            if category == 'N6-pyridoxal-phosphate-Lys-Modifications':\n",
    "                other_feature_set.add('PYRIDOXAL_PHOSPHATE')\n",
    "\n",
    "            if category == 'Protein-Segments' and 'comment' in feature['Feature'] and 'Thiamine' in feature['Feature']['comment']['#text']:\n",
    "                other_feature_set.add('THIAMINE-PYROPHOSPHATE')\n",
    "\n",
    "            if category == 'Selenocysteine-sites':\n",
    "                print('found selenocysteine')\n",
    "                metal_set.add('Selenocysteine.')\n",
    "\n",
    "            proteins_df.at[i, 'metal_features'] = list(metal_set)\n",
    "            proteins_df.at[i, 'other_features'] = list(other_feature_set)\n",
    "\n",
    "        if 'catalyzes' in o['Protein']:\n",
    "            oc = o['Protein']['catalyzes']['Enzymatic-Reaction']\n",
    "\n",
    "            if type(oc) is dict:\n",
    "                oc = [oc]\n",
    "\n",
    "            cofactor_set = set()\n",
    "            enz_rxn_set = set()\n",
    "\n",
    "            for enzrxn in oc:\n",
    "                enz_id = enzrxn['@frameid']\n",
    "\n",
    "                enz_rxn_set.add(enz_id)\n",
    "\n",
    "                enz_req_str = f'https://websvc.biocyc.org/getxml?id=ECOLI:{enz_id}&detail=high'\n",
    "\n",
    "                rz = s.get(enz_req_str)\n",
    "                oe = xmltodict.parse(rz.content)['ptools-xml']['Enzymatic-Reaction']\n",
    "\n",
    "                if \"cofactor\" in oe:\n",
    "                    oe = oe['cofactor']\n",
    "\n",
    "                    if type(oe) is dict:\n",
    "                        oe = [oe]\n",
    "\n",
    "                    for cofactor in oe:\n",
    "                        cof = cofactor['Compound']['@frameid']\n",
    "                        cofactor_set.add(cof)\n",
    "\n",
    "            proteins_df.at[i, 'enzyme_reaction'] = enz_rxn_set\n",
    "            proteins_df.at[i, 'cofactors'] = cofactor_set\n",
    "\n",
    "    # get gene pathway annotation\n",
    "    if 'Protein' in o and 'gene' in o['Protein']:\n",
    "\n",
    "        gene = o['Protein']['gene']['Gene']['@frameid']\n",
    "        gene_req_str = f'https://websvc.biocyc.org/apixml?fn=pathways-of-gene&id=ECOLI:{gene}&detail=none'\n",
    "\n",
    "        rg = s.get(gene_req_str)\n",
    "        og = xmltodict.parse(rg.content)['ptools-xml']\n",
    "\n",
    "        if 'Pathway' in og:\n",
    "            pathways = og['Pathway']\n",
    "\n",
    "            if type(pathways) is dict:\n",
    "                pathways = [pathways]\n",
    "\n",
    "            for pathway in pathways:\n",
    "                pathway_id = pathway['@frameid']\n",
    "                proteins_df.at[i, 'direct_annotations'].add(pathway_id)\n",
    "\n",
    "\n"
   ],
   "metadata": {
    "collapsed": false,
    "ExecuteTime": {
     "end_time": "2023-08-11T00:22:55.359332Z",
     "start_time": "2023-08-10T23:58:00.357543Z"
    }
   }
  },
  {
   "cell_type": "code",
   "execution_count": 10,
   "outputs": [],
   "source": [],
   "metadata": {
    "collapsed": false,
    "ExecuteTime": {
     "end_time": "2023-08-11T00:22:55.359657Z",
     "start_time": "2023-08-11T00:22:55.358587Z"
    }
   }
  },
  {
   "cell_type": "code",
   "execution_count": 11,
   "outputs": [
    {
     "data": {
      "text/plain": "['Selenocysteine.', 'UniProt: Iron-sulfur (4Fe-4S).']"
     },
     "execution_count": 11,
     "metadata": {},
     "output_type": "execute_result"
    }
   ],
   "source": [
    "# find row with id FDOG-MONOMER\n",
    "protein_idx = np.where(proteins_df['id'] == 'FDOG-MONOMER')[0][0]\n",
    "proteins_df.at[protein_idx, 'metal_features']\n",
    "\n"
   ],
   "metadata": {
    "collapsed": false,
    "ExecuteTime": {
     "end_time": "2023-08-11T00:22:55.370140Z",
     "start_time": "2023-08-11T00:22:55.364258Z"
    }
   }
  },
  {
   "cell_type": "code",
   "execution_count": 12,
   "outputs": [],
   "source": [
    "# proteins_df.to_parquet('notebooks/fbagd/data/raw_protein_features.parquet', index=False)"
   ],
   "metadata": {
    "collapsed": false,
    "ExecuteTime": {
     "end_time": "2023-08-11T00:22:55.375049Z",
     "start_time": "2023-08-11T00:22:55.368601Z"
    }
   }
  },
  {
   "cell_type": "markdown",
   "source": [
    "## Reload protein feature table"
   ],
   "metadata": {
    "collapsed": false
   }
  },
  {
   "cell_type": "code",
   "execution_count": 13,
   "outputs": [
    {
     "data": {
      "text/plain": "                                            id  \\\n0      1-ACYLGLYCEROL-3-P-ACYLTRANSFER-MONOMER   \n1                                1-PFK-MONOMER   \n2             2-DEHYDROPANTOATE-REDUCT-MONOMER   \n3                 2-ISOPROPYLMALATESYN-MONOMER   \n4     2-OCTAPRENYL-METHOXY-BENZOQ-METH-MONOMER   \n...                                        ...   \n4415                              YTFR-MONOMER   \n4416                              YTFT-MONOMER   \n4417                              ZNUA-MONOMER   \n4418                              ZNUB-MONOMER   \n4419                              ZNUC-MONOMER   \n\n                                            common_name  \\\n0     1-acylglycerol-3-phosphate <i>O</i>-acyltransf...   \n1                                 1-phosphofructokinase   \n2                         2-dehydropantoate 2-reductase   \n3                            2-isopropylmalate synthase   \n4     bifunctional 2-octaprenyl-6-methoxy-1,4-benzoq...   \n...                                                 ...   \n4415  galactofuranose ABC transporter putative ATP b...   \n4416  galactofuranose ABC transporter putative membr...   \n4417  Zn<sup>2+</sup> ABC transporter periplasmic bi...   \n4418   Zn<sup>2+</sup> ABC transporter membrane subunit   \n4419  Zn<sup>2+</sup> ABC transporter ATP binding su...   \n\n                                         metal_features other_features  \\\n0                                                    []             []   \n1                                                    []          [ATP]   \n2                                                    []         [NADP]   \n3                                                    []             []   \n4                                                    []             []   \n...                                                 ...            ...   \n4415                                                 []          [ATP]   \n4416                                                 []             []   \n4417  [implicated in a second zinc binding site, Uni...             []   \n4418                                                 []             []   \n4419                                                 []          [ATP]   \n\n                                        enzyme_reaction cofactors  \\\n0     {ENZRXN0-8629, ENZRXN0-6620, ENZRXN0-7995, ENZ...        {}   \n1                                                    {}        {}   \n2                     {2-DEHYDROPANTOATE-REDUCT-ENZRXN}        {}   \n3                                        {ENZRXN0-6250}        {}   \n4     {ADOMET-DMK-METHYLTRANSFER-ENZRXN, 2-OCTAPRENY...        {}   \n...                                                 ...       ...   \n4415                                                 {}        {}   \n4416                                                 {}        {}   \n4417                                                 {}        {}   \n4418                                                 {}        {}   \n4419                                                 {}        {}   \n\n                  direct_annotations  \n0              {PWY-5667, PWY0-1319}  \n1                        {PWY0-1314}  \n2                        {PANTO-PWY}  \n3                       {LEUSYN-PWY}  \n4     {MENAQUINONESYN-PWY, PWY-6708}  \n...                              ...  \n4415                              {}  \n4416                              {}  \n4417                              {}  \n4418                              {}  \n4419                              {}  \n\n[4420 rows x 7 columns]",
      "text/html": "<div>\n<style scoped>\n    .dataframe tbody tr th:only-of-type {\n        vertical-align: middle;\n    }\n\n    .dataframe tbody tr th {\n        vertical-align: top;\n    }\n\n    .dataframe thead th {\n        text-align: right;\n    }\n</style>\n<table border=\"1\" class=\"dataframe\">\n  <thead>\n    <tr style=\"text-align: right;\">\n      <th></th>\n      <th>id</th>\n      <th>common_name</th>\n      <th>metal_features</th>\n      <th>other_features</th>\n      <th>enzyme_reaction</th>\n      <th>cofactors</th>\n      <th>direct_annotations</th>\n    </tr>\n  </thead>\n  <tbody>\n    <tr>\n      <th>0</th>\n      <td>1-ACYLGLYCEROL-3-P-ACYLTRANSFER-MONOMER</td>\n      <td>1-acylglycerol-3-phosphate &lt;i&gt;O&lt;/i&gt;-acyltransf...</td>\n      <td>[]</td>\n      <td>[]</td>\n      <td>{ENZRXN0-8629, ENZRXN0-6620, ENZRXN0-7995, ENZ...</td>\n      <td>{}</td>\n      <td>{PWY-5667, PWY0-1319}</td>\n    </tr>\n    <tr>\n      <th>1</th>\n      <td>1-PFK-MONOMER</td>\n      <td>1-phosphofructokinase</td>\n      <td>[]</td>\n      <td>[ATP]</td>\n      <td>{}</td>\n      <td>{}</td>\n      <td>{PWY0-1314}</td>\n    </tr>\n    <tr>\n      <th>2</th>\n      <td>2-DEHYDROPANTOATE-REDUCT-MONOMER</td>\n      <td>2-dehydropantoate 2-reductase</td>\n      <td>[]</td>\n      <td>[NADP]</td>\n      <td>{2-DEHYDROPANTOATE-REDUCT-ENZRXN}</td>\n      <td>{}</td>\n      <td>{PANTO-PWY}</td>\n    </tr>\n    <tr>\n      <th>3</th>\n      <td>2-ISOPROPYLMALATESYN-MONOMER</td>\n      <td>2-isopropylmalate synthase</td>\n      <td>[]</td>\n      <td>[]</td>\n      <td>{ENZRXN0-6250}</td>\n      <td>{}</td>\n      <td>{LEUSYN-PWY}</td>\n    </tr>\n    <tr>\n      <th>4</th>\n      <td>2-OCTAPRENYL-METHOXY-BENZOQ-METH-MONOMER</td>\n      <td>bifunctional 2-octaprenyl-6-methoxy-1,4-benzoq...</td>\n      <td>[]</td>\n      <td>[]</td>\n      <td>{ADOMET-DMK-METHYLTRANSFER-ENZRXN, 2-OCTAPRENY...</td>\n      <td>{}</td>\n      <td>{MENAQUINONESYN-PWY, PWY-6708}</td>\n    </tr>\n    <tr>\n      <th>...</th>\n      <td>...</td>\n      <td>...</td>\n      <td>...</td>\n      <td>...</td>\n      <td>...</td>\n      <td>...</td>\n      <td>...</td>\n    </tr>\n    <tr>\n      <th>4415</th>\n      <td>YTFR-MONOMER</td>\n      <td>galactofuranose ABC transporter putative ATP b...</td>\n      <td>[]</td>\n      <td>[ATP]</td>\n      <td>{}</td>\n      <td>{}</td>\n      <td>{}</td>\n    </tr>\n    <tr>\n      <th>4416</th>\n      <td>YTFT-MONOMER</td>\n      <td>galactofuranose ABC transporter putative membr...</td>\n      <td>[]</td>\n      <td>[]</td>\n      <td>{}</td>\n      <td>{}</td>\n      <td>{}</td>\n    </tr>\n    <tr>\n      <th>4417</th>\n      <td>ZNUA-MONOMER</td>\n      <td>Zn&lt;sup&gt;2+&lt;/sup&gt; ABC transporter periplasmic bi...</td>\n      <td>[implicated in a second zinc binding site, Uni...</td>\n      <td>[]</td>\n      <td>{}</td>\n      <td>{}</td>\n      <td>{}</td>\n    </tr>\n    <tr>\n      <th>4418</th>\n      <td>ZNUB-MONOMER</td>\n      <td>Zn&lt;sup&gt;2+&lt;/sup&gt; ABC transporter membrane subunit</td>\n      <td>[]</td>\n      <td>[]</td>\n      <td>{}</td>\n      <td>{}</td>\n      <td>{}</td>\n    </tr>\n    <tr>\n      <th>4419</th>\n      <td>ZNUC-MONOMER</td>\n      <td>Zn&lt;sup&gt;2+&lt;/sup&gt; ABC transporter ATP binding su...</td>\n      <td>[]</td>\n      <td>[ATP]</td>\n      <td>{}</td>\n      <td>{}</td>\n      <td>{}</td>\n    </tr>\n  </tbody>\n</table>\n<p>4420 rows × 7 columns</p>\n</div>"
     },
     "execution_count": 13,
     "metadata": {},
     "output_type": "execute_result"
    }
   ],
   "source": [
    "# proteins_df = pd.read_parquet('notebooks/fbagd/data/raw_protein_features.parquet')\n",
    "# proteins_df['metal_features'] = proteins_df['metal_features'].apply(ast.literal_eval)\n",
    "# # for rows of proteins with where other_features is set, convert from string to set with literal_eval\n",
    "# proteins_df.loc[proteins_df['other_features'].str.startswith('['), 'other_features'] = \\\n",
    "#     proteins_df.loc[proteins_df['other_features'].str.startswith('['), 'other_features'].apply(ast.literal_eval)\n",
    "\n",
    "filter_protein_df = proteins_df.copy().loc[:, ['id', 'common_name', 'metal_features', 'other_features', 'enzyme_reaction', 'cofactors', 'direct_annotations']]\n",
    "filter_protein_df"
   ],
   "metadata": {
    "collapsed": false,
    "ExecuteTime": {
     "end_time": "2023-08-11T00:22:55.454744Z",
     "start_time": "2023-08-11T00:22:55.372393Z"
    }
   }
  },
  {
   "cell_type": "markdown",
   "source": [
    "## Annotate complexation with EcoCyc data"
   ],
   "metadata": {
    "collapsed": false
   }
  },
  {
   "cell_type": "code",
   "execution_count": 14,
   "outputs": [
    {
     "data": {
      "text/plain": "                                    id  \\\n0                                1-PFK   \n1                2OXOGLUTARATEDEH-CPLX   \n2          3-ISOPROPYLMALDEHYDROG-CPLX   \n3              3-ISOPROPYLMALISOM-CPLX   \n4     3-METHYL-2-OXOBUT-OHCH3XFER-CPLX   \n...                                ...   \n1063                        CPLX0-8053   \n1064                        CPLX0-8253   \n1065                          SRP-CPLX   \n1066                     CPLX0-7796APO   \n1067                         ARCB-CPLX   \n\n                                          stoichiometry  \n0                     {'1-PFK': 1, '1-PFK-MONOMER': -2}  \n1     {'2OXOGLUTARATEDEH-CPLX': 1, 'E1O': -1, 'E2O':...  \n2     {'3-ISOPROPYLMALDEHYDROG-CPLX': 1, '3-ISOPROPY...  \n3     {'3-ISOPROPYLMALISOM-CPLX': 1, 'LEUC-MONOMER':...  \n4     {'3-METHYL-2-OXOBUT-OHCH3XFER-CPLX': 1, '3-CH3...  \n...                                                 ...  \n1063           {'CPLX0-8053': 1, 'EG10942-MONOMER': -1}  \n1064  {'CPLX0-8253': 1, 'CSRC-RNA': -1, 'EG11447-MON...  \n1065  {'SRP-CPLX': 1, 'EG10300-MONOMER': -1, 'FFS-RN...  \n1066                {'CPLX0-7796APO': 1, 'PD04032': -2}  \n1067               {'ARCB-CPLX': 1, 'ARCB-MONOMER': -2}  \n\n[1068 rows x 2 columns]",
      "text/html": "<div>\n<style scoped>\n    .dataframe tbody tr th:only-of-type {\n        vertical-align: middle;\n    }\n\n    .dataframe tbody tr th {\n        vertical-align: top;\n    }\n\n    .dataframe thead th {\n        text-align: right;\n    }\n</style>\n<table border=\"1\" class=\"dataframe\">\n  <thead>\n    <tr style=\"text-align: right;\">\n      <th></th>\n      <th>id</th>\n      <th>stoichiometry</th>\n    </tr>\n  </thead>\n  <tbody>\n    <tr>\n      <th>0</th>\n      <td>1-PFK</td>\n      <td>{'1-PFK': 1, '1-PFK-MONOMER': -2}</td>\n    </tr>\n    <tr>\n      <th>1</th>\n      <td>2OXOGLUTARATEDEH-CPLX</td>\n      <td>{'2OXOGLUTARATEDEH-CPLX': 1, 'E1O': -1, 'E2O':...</td>\n    </tr>\n    <tr>\n      <th>2</th>\n      <td>3-ISOPROPYLMALDEHYDROG-CPLX</td>\n      <td>{'3-ISOPROPYLMALDEHYDROG-CPLX': 1, '3-ISOPROPY...</td>\n    </tr>\n    <tr>\n      <th>3</th>\n      <td>3-ISOPROPYLMALISOM-CPLX</td>\n      <td>{'3-ISOPROPYLMALISOM-CPLX': 1, 'LEUC-MONOMER':...</td>\n    </tr>\n    <tr>\n      <th>4</th>\n      <td>3-METHYL-2-OXOBUT-OHCH3XFER-CPLX</td>\n      <td>{'3-METHYL-2-OXOBUT-OHCH3XFER-CPLX': 1, '3-CH3...</td>\n    </tr>\n    <tr>\n      <th>...</th>\n      <td>...</td>\n      <td>...</td>\n    </tr>\n    <tr>\n      <th>1063</th>\n      <td>CPLX0-8053</td>\n      <td>{'CPLX0-8053': 1, 'EG10942-MONOMER': -1}</td>\n    </tr>\n    <tr>\n      <th>1064</th>\n      <td>CPLX0-8253</td>\n      <td>{'CPLX0-8253': 1, 'CSRC-RNA': -1, 'EG11447-MON...</td>\n    </tr>\n    <tr>\n      <th>1065</th>\n      <td>SRP-CPLX</td>\n      <td>{'SRP-CPLX': 1, 'EG10300-MONOMER': -1, 'FFS-RN...</td>\n    </tr>\n    <tr>\n      <th>1066</th>\n      <td>CPLX0-7796APO</td>\n      <td>{'CPLX0-7796APO': 1, 'PD04032': -2}</td>\n    </tr>\n    <tr>\n      <th>1067</th>\n      <td>ARCB-CPLX</td>\n      <td>{'ARCB-CPLX': 1, 'ARCB-MONOMER': -2}</td>\n    </tr>\n  </tbody>\n</table>\n<p>1068 rows × 2 columns</p>\n</div>"
     },
     "execution_count": 14,
     "metadata": {},
     "output_type": "execute_result"
    }
   ],
   "source": [
    "complex_df = pd.read_csv('reconstruction/ecoli/flat/complexation_reactions.tsv', sep='\\t').loc[:, ['id', 'stoichiometry']]\n",
    "\n",
    "\n",
    "removed_complexes = pd.read_csv('reconstruction/ecoli/flat/complexation_reactions_removed.tsv', sep='\\t')\n",
    "\n",
    "# remove rows where id starts with '#'\n",
    "complex_df = complex_df[~complex_df['id'].str.startswith('#')].reset_index(drop=True)\n",
    "\n",
    "# remove rows of complex_df where id matches an id in removed_complexes\n",
    "complex_df = complex_df[~complex_df['id'].isin(removed_complexes['id'])].reset_index(drop=True)\n",
    "complex_df.stoichiometry = complex_df.stoichiometry.astype(object)\n",
    "\n",
    "\n",
    "for i, stoich in enumerate(complex_df.loc[:, 'stoichiometry']):\n",
    "\n",
    "    if type(stoich) is str and stoich[0] == '{':\n",
    "        stoich = stoich.replace('null', '-1')\n",
    "        stoich = ast.literal_eval(stoich)\n",
    "\n",
    "        complex_df.at[i, 'stoichiometry'] = stoich\n",
    "\n",
    "    else:\n",
    "        complex_df.at[i, 'stoichiometry'] = {}\n",
    "\n",
    "\n",
    "# for each row, find dict entry with positive value\n",
    "for i in range(len(complex_df.index)):\n",
    "\n",
    "    stoich = complex_df.loc[i, 'stoichiometry']\n",
    "\n",
    "    for k,v in stoich.items():\n",
    "        if v > 0:\n",
    "            complex_df.at[i, 'id'] = k\n",
    "\n",
    "complex_df"
   ],
   "metadata": {
    "collapsed": false,
    "ExecuteTime": {
     "end_time": "2023-08-11T00:22:55.522182Z",
     "start_time": "2023-08-11T00:22:55.386674Z"
    }
   }
  },
  {
   "cell_type": "code",
   "execution_count": 15,
   "outputs": [
    {
     "name": "stdout",
     "output_type": "stream",
     "text": [
      "0\n",
      "100\n",
      "200\n",
      "CPLX0-2423 404\n",
      "300\n",
      "CPLX0-3976 404\n",
      "400\n",
      "500\n",
      "600\n",
      "700\n",
      "800\n",
      "900\n",
      "RECFOR-CPLX 404\n",
      "1000\n",
      "CPLX0-7796APO 404\n"
     ]
    }
   ],
   "source": [
    "complex_df[\"cofactors\"] = 0\n",
    "complex_df[\"cofactors\"] = complex_df[\"cofactors\"].astype(object)\n",
    "\n",
    "complex_df[\"enzyme_reaction\"] = 0\n",
    "complex_df[\"enzyme_reaction\"] = complex_df[\"enzyme_reaction\"].astype(object)\n",
    "\n",
    "for i in range(len(complex_df.index)):\n",
    "\n",
    "    if i % 100 == 0:\n",
    "        print(i)\n",
    "\n",
    "    complex = complex_df.loc[i, 'id']\n",
    "\n",
    "    req_str = f'https://websvc.biocyc.org/getxml?id=ECOLI:{complex}&detail=low'\n",
    "\n",
    "    r = s.get(req_str)\n",
    "    if r.status_code != 200:\n",
    "        print(complex, r.status_code)\n",
    "        complex_df.at[i, 'enzyme_reaction'] = set()\n",
    "        complex_df.at[i, 'cofactors'] = set()\n",
    "        continue\n",
    "\n",
    "    o = xmltodict.parse(r.content)['ptools-xml']['Protein']\n",
    "\n",
    "\n",
    "    # if enzyme\n",
    "    if 'catalyzes' in o:\n",
    "        o = o['catalyzes']['Enzymatic-Reaction']\n",
    "\n",
    "        if type(o) is dict:\n",
    "            o = [o]\n",
    "\n",
    "        cofactor_set = set()\n",
    "        enz_rxn_set = set()\n",
    "\n",
    "        for enzrxn in o:\n",
    "            enz_id = enzrxn['@frameid']\n",
    "\n",
    "            enz_rxn_set.add(enz_id)\n",
    "\n",
    "            enz_req_str = f'https://websvc.biocyc.org/getxml?id=ECOLI:{enz_id}&detail=high'\n",
    "\n",
    "            rz = s.get(enz_req_str)\n",
    "            oe = xmltodict.parse(rz.content)['ptools-xml']['Enzymatic-Reaction']\n",
    "\n",
    "            if \"cofactor\" in oe:\n",
    "                oe = oe['cofactor']\n",
    "\n",
    "                if type(oe) is dict:\n",
    "                    oe = [oe]\n",
    "\n",
    "                for cofactor in oe:\n",
    "                    cof = cofactor['Compound']['@frameid']\n",
    "                    cofactor_set.add(cof)\n",
    "\n",
    "        complex_df.at[i, 'enzyme_reaction'] = enz_rxn_set\n",
    "        complex_df.at[i, 'cofactors'] = cofactor_set\n",
    "\n",
    "    else:\n",
    "        complex_df.at[i, 'enzyme_reaction'] = set()\n",
    "        complex_df.at[i, 'cofactors'] = set()"
   ],
   "metadata": {
    "collapsed": false,
    "ExecuteTime": {
     "end_time": "2023-08-11T00:27:53.821771Z",
     "start_time": "2023-08-11T00:22:55.505255Z"
    }
   }
  },
  {
   "cell_type": "markdown",
   "source": [
    "## Get cofactor elemental composition and more"
   ],
   "metadata": {
    "collapsed": false
   }
  },
  {
   "cell_type": "code",
   "execution_count": 16,
   "outputs": [
    {
     "name": "stdout",
     "output_type": "stream",
     "text": [
      "Any+2 404\n"
     ]
    }
   ],
   "source": [
    "# get set of all cofactors\n",
    "all_metal_cofactors = set(ALLOWED_METAL_NAMES.values())\n",
    "all_other_cofactors = ACCEPTED_OTHER_FEATURES\n",
    "\n",
    "filter_cofactor_df = pd.DataFrame(columns=['id', 'elemental_composition'])\n",
    "filter_cofactor_df['id'] = list(all_metal_cofactors | all_other_cofactors)\n",
    "\n",
    "filter_cofactor_df['elemental_composition'] = 0\n",
    "filter_cofactor_df['elemental_composition'] = filter_cofactor_df['elemental_composition'].astype(object)\n",
    "\n",
    "# for each cofactor, get elemental composition\n",
    "for i in range(len(filter_cofactor_df.index)):\n",
    "\n",
    "    compound = filter_cofactor_df.loc[i, 'id']\n",
    "    atom_dict = {}\n",
    "\n",
    "    url_name = compound.replace('+', '%2b')\n",
    "\n",
    "    req_str = f'https://websvc.biocyc.org/getxml?id=ECOLI:{url_name}&detail=full'\n",
    "\n",
    "    r = s.get(req_str)\n",
    "    if r.status_code != 200:\n",
    "        print(compound, r.status_code)\n",
    "        filter_cofactor_df.at[i, 'elemental_composition'] = {}\n",
    "        continue\n",
    "\n",
    "    o = xmltodict.parse(r.content)['ptools-xml']\n",
    "\n",
    "    atoms = o['Compound']['cml']['molecule']['atomArray']['atom']\n",
    "    if type(atoms) is dict:\n",
    "        atoms = [atoms]\n",
    "\n",
    "    for atom in atoms:\n",
    "        element = atom['@elementType']\n",
    "\n",
    "        # either add new element or add to existing element\n",
    "        if element not in atom_dict:\n",
    "            atom_dict[element] = 1\n",
    "        else:\n",
    "            atom_dict[element] += 1\n",
    "\n",
    "    filter_cofactor_df.at[i, 'elemental_composition'] = atom_dict"
   ],
   "metadata": {
    "collapsed": false,
    "ExecuteTime": {
     "end_time": "2023-08-11T00:27:57.587983Z",
     "start_time": "2023-08-11T00:27:53.839268Z"
    }
   }
  },
  {
   "cell_type": "code",
   "execution_count": 17,
   "outputs": [
    {
     "data": {
      "text/plain": "                        id                              elemental_composition\n0                      FAD                 {'C': 27, 'N': 9, 'O': 15, 'P': 2}\n1                   Heme-b                 {'C': 34, 'N': 4, 'O': 4, 'FE': 1}\n2                     FE+2                                          {'FE': 1}\n3                     NI+2                                          {'NI': 1}\n4                     CA+2                                          {'CA': 1}\n5         L-SELENOCYSTEINE                  {'C': 3, 'N': 1, 'O': 2, 'SE': 1}\n6                    CPD-7                                  {'FE': 4, 'S': 4}\n7                     MN+2                                          {'MN': 1}\n8                   3FE-4S                                  {'FE': 3, 'S': 4}\n9                     ZN+2                                          {'ZN': 1}\n10                    CU+2                                          {'CU': 1}\n11                      K+                                           {'K': 1}\n12                    CO+2                                          {'CO': 1}\n13                     NA+                                          {'NA': 1}\n14  THIAMINE-PYROPHOSPHATE          {'C': 12, 'N': 4, 'O': 7, 'P': 2, 'S': 1}\n15     PYRIDOXAL_PHOSPHATE                   {'C': 8, 'N': 1, 'O': 6, 'P': 1}\n16                     FMN                  {'C': 17, 'N': 4, 'O': 9, 'P': 1}\n17                   CPD-3                                  {'MO': 1, 'O': 4}\n18                   CPD-6                          {'FE': 2, 'S': 6, 'R': 4}\n19                CPD-8123  {'C': 10, 'N': 5, 'O': 8, 'P': 1, 'S': 2, 'MO'...\n20                   Any+2                                                 {}\n21                    MG+2                                          {'MG': 1}",
      "text/html": "<div>\n<style scoped>\n    .dataframe tbody tr th:only-of-type {\n        vertical-align: middle;\n    }\n\n    .dataframe tbody tr th {\n        vertical-align: top;\n    }\n\n    .dataframe thead th {\n        text-align: right;\n    }\n</style>\n<table border=\"1\" class=\"dataframe\">\n  <thead>\n    <tr style=\"text-align: right;\">\n      <th></th>\n      <th>id</th>\n      <th>elemental_composition</th>\n    </tr>\n  </thead>\n  <tbody>\n    <tr>\n      <th>0</th>\n      <td>FAD</td>\n      <td>{'C': 27, 'N': 9, 'O': 15, 'P': 2}</td>\n    </tr>\n    <tr>\n      <th>1</th>\n      <td>Heme-b</td>\n      <td>{'C': 34, 'N': 4, 'O': 4, 'FE': 1}</td>\n    </tr>\n    <tr>\n      <th>2</th>\n      <td>FE+2</td>\n      <td>{'FE': 1}</td>\n    </tr>\n    <tr>\n      <th>3</th>\n      <td>NI+2</td>\n      <td>{'NI': 1}</td>\n    </tr>\n    <tr>\n      <th>4</th>\n      <td>CA+2</td>\n      <td>{'CA': 1}</td>\n    </tr>\n    <tr>\n      <th>5</th>\n      <td>L-SELENOCYSTEINE</td>\n      <td>{'C': 3, 'N': 1, 'O': 2, 'SE': 1}</td>\n    </tr>\n    <tr>\n      <th>6</th>\n      <td>CPD-7</td>\n      <td>{'FE': 4, 'S': 4}</td>\n    </tr>\n    <tr>\n      <th>7</th>\n      <td>MN+2</td>\n      <td>{'MN': 1}</td>\n    </tr>\n    <tr>\n      <th>8</th>\n      <td>3FE-4S</td>\n      <td>{'FE': 3, 'S': 4}</td>\n    </tr>\n    <tr>\n      <th>9</th>\n      <td>ZN+2</td>\n      <td>{'ZN': 1}</td>\n    </tr>\n    <tr>\n      <th>10</th>\n      <td>CU+2</td>\n      <td>{'CU': 1}</td>\n    </tr>\n    <tr>\n      <th>11</th>\n      <td>K+</td>\n      <td>{'K': 1}</td>\n    </tr>\n    <tr>\n      <th>12</th>\n      <td>CO+2</td>\n      <td>{'CO': 1}</td>\n    </tr>\n    <tr>\n      <th>13</th>\n      <td>NA+</td>\n      <td>{'NA': 1}</td>\n    </tr>\n    <tr>\n      <th>14</th>\n      <td>THIAMINE-PYROPHOSPHATE</td>\n      <td>{'C': 12, 'N': 4, 'O': 7, 'P': 2, 'S': 1}</td>\n    </tr>\n    <tr>\n      <th>15</th>\n      <td>PYRIDOXAL_PHOSPHATE</td>\n      <td>{'C': 8, 'N': 1, 'O': 6, 'P': 1}</td>\n    </tr>\n    <tr>\n      <th>16</th>\n      <td>FMN</td>\n      <td>{'C': 17, 'N': 4, 'O': 9, 'P': 1}</td>\n    </tr>\n    <tr>\n      <th>17</th>\n      <td>CPD-3</td>\n      <td>{'MO': 1, 'O': 4}</td>\n    </tr>\n    <tr>\n      <th>18</th>\n      <td>CPD-6</td>\n      <td>{'FE': 2, 'S': 6, 'R': 4}</td>\n    </tr>\n    <tr>\n      <th>19</th>\n      <td>CPD-8123</td>\n      <td>{'C': 10, 'N': 5, 'O': 8, 'P': 1, 'S': 2, 'MO'...</td>\n    </tr>\n    <tr>\n      <th>20</th>\n      <td>Any+2</td>\n      <td>{}</td>\n    </tr>\n    <tr>\n      <th>21</th>\n      <td>MG+2</td>\n      <td>{'MG': 1}</td>\n    </tr>\n  </tbody>\n</table>\n</div>"
     },
     "execution_count": 17,
     "metadata": {},
     "output_type": "execute_result"
    }
   ],
   "source": [
    "filter_cofactor_df"
   ],
   "metadata": {
    "collapsed": false,
    "ExecuteTime": {
     "end_time": "2023-08-11T00:27:57.608020Z",
     "start_time": "2023-08-11T00:27:57.603302Z"
    }
   }
  },
  {
   "cell_type": "markdown",
   "source": [
    "## Save tables to avoid having to re-download"
   ],
   "metadata": {
    "collapsed": false
   }
  },
  {
   "cell_type": "code",
   "execution_count": 18,
   "outputs": [],
   "source": [
    "# save complex_df to csv in a way that preserves dicts\n",
    "complex_df.to_csv('notebooks/cofactors/data/raw_complexes.csv', index=False)\n",
    "proteins_df.to_csv('notebooks/cofactors/data/raw_proteins.csv', index=False)\n",
    "filter_cofactor_df.to_csv('notebooks/cofactors/data/raw_cofactors.csv', index=False)\n",
    "pathway_df.to_csv('notebooks/cofactors/data/raw_pathways.csv', index=False)"
   ],
   "metadata": {
    "collapsed": false,
    "ExecuteTime": {
     "end_time": "2023-08-11T00:27:57.663743Z",
     "start_time": "2023-08-11T00:27:57.609958Z"
    }
   }
  },
  {
   "cell_type": "code",
   "execution_count": 19,
   "outputs": [
    {
     "data": {
      "text/plain": "                                    id  \\\n0                                1-PFK   \n1                2OXOGLUTARATEDEH-CPLX   \n2          3-ISOPROPYLMALDEHYDROG-CPLX   \n3              3-ISOPROPYLMALISOM-CPLX   \n4     3-METHYL-2-OXOBUT-OHCH3XFER-CPLX   \n...                                ...   \n1063                        CPLX0-8053   \n1064                        CPLX0-8253   \n1065                          SRP-CPLX   \n1066                     CPLX0-7796APO   \n1067                         ARCB-CPLX   \n\n                                          stoichiometry  \\\n0                     {'1-PFK': 1, '1-PFK-MONOMER': -2}   \n1     {'2OXOGLUTARATEDEH-CPLX': 1, 'E1O': -1, 'E2O':...   \n2     {'3-ISOPROPYLMALDEHYDROG-CPLX': 1, '3-ISOPROPY...   \n3     {'3-ISOPROPYLMALISOM-CPLX': 1, 'LEUC-MONOMER':...   \n4     {'3-METHYL-2-OXOBUT-OHCH3XFER-CPLX': 1, '3-CH3...   \n...                                                 ...   \n1063           {'CPLX0-8053': 1, 'EG10942-MONOMER': -1}   \n1064  {'CPLX0-8253': 1, 'CSRC-RNA': -1, 'EG11447-MON...   \n1065  {'SRP-CPLX': 1, 'EG10300-MONOMER': -1, 'FFS-RN...   \n1066                {'CPLX0-7796APO': 1, 'PD04032': -2}   \n1067               {'ARCB-CPLX': 1, 'ARCB-MONOMER': -2}   \n\n                                             cofactors  \\\n0                                               {MG+2}   \n1     {FAD, MG+2, LIPOIC-ACID, THIAMINE-PYROPHOSPHATE}   \n2                                         {MN+2, MG+2}   \n3                                              {CPD-7}   \n4                                               {MG+2}   \n...                                                ...   \n1063                                                {}   \n1064                                                {}   \n1065                                                {}   \n1066                                                {}   \n1067                                                {}   \n\n                           enzyme_reaction  \n0                  {1PFRUCTPHOSPHN-ENZRXN}  \n1                {2OXOGLUTARATEDEH-ENZRXN}  \n2          {3-ISOPROPYLMALDEHYDROG-ENZRXN}  \n3              {3-ISOPROPYLMALISOM-ENZRXN}  \n4     {3-METHYL-2-OXOBUT-OHCH3XFER-ENZRXN}  \n...                                    ...  \n1063                                    {}  \n1064                                    {}  \n1065                                    {}  \n1066                                    {}  \n1067                        {ENZRXN0-8568}  \n\n[1068 rows x 4 columns]",
      "text/html": "<div>\n<style scoped>\n    .dataframe tbody tr th:only-of-type {\n        vertical-align: middle;\n    }\n\n    .dataframe tbody tr th {\n        vertical-align: top;\n    }\n\n    .dataframe thead th {\n        text-align: right;\n    }\n</style>\n<table border=\"1\" class=\"dataframe\">\n  <thead>\n    <tr style=\"text-align: right;\">\n      <th></th>\n      <th>id</th>\n      <th>stoichiometry</th>\n      <th>cofactors</th>\n      <th>enzyme_reaction</th>\n    </tr>\n  </thead>\n  <tbody>\n    <tr>\n      <th>0</th>\n      <td>1-PFK</td>\n      <td>{'1-PFK': 1, '1-PFK-MONOMER': -2}</td>\n      <td>{MG+2}</td>\n      <td>{1PFRUCTPHOSPHN-ENZRXN}</td>\n    </tr>\n    <tr>\n      <th>1</th>\n      <td>2OXOGLUTARATEDEH-CPLX</td>\n      <td>{'2OXOGLUTARATEDEH-CPLX': 1, 'E1O': -1, 'E2O':...</td>\n      <td>{FAD, MG+2, LIPOIC-ACID, THIAMINE-PYROPHOSPHATE}</td>\n      <td>{2OXOGLUTARATEDEH-ENZRXN}</td>\n    </tr>\n    <tr>\n      <th>2</th>\n      <td>3-ISOPROPYLMALDEHYDROG-CPLX</td>\n      <td>{'3-ISOPROPYLMALDEHYDROG-CPLX': 1, '3-ISOPROPY...</td>\n      <td>{MN+2, MG+2}</td>\n      <td>{3-ISOPROPYLMALDEHYDROG-ENZRXN}</td>\n    </tr>\n    <tr>\n      <th>3</th>\n      <td>3-ISOPROPYLMALISOM-CPLX</td>\n      <td>{'3-ISOPROPYLMALISOM-CPLX': 1, 'LEUC-MONOMER':...</td>\n      <td>{CPD-7}</td>\n      <td>{3-ISOPROPYLMALISOM-ENZRXN}</td>\n    </tr>\n    <tr>\n      <th>4</th>\n      <td>3-METHYL-2-OXOBUT-OHCH3XFER-CPLX</td>\n      <td>{'3-METHYL-2-OXOBUT-OHCH3XFER-CPLX': 1, '3-CH3...</td>\n      <td>{MG+2}</td>\n      <td>{3-METHYL-2-OXOBUT-OHCH3XFER-ENZRXN}</td>\n    </tr>\n    <tr>\n      <th>...</th>\n      <td>...</td>\n      <td>...</td>\n      <td>...</td>\n      <td>...</td>\n    </tr>\n    <tr>\n      <th>1063</th>\n      <td>CPLX0-8053</td>\n      <td>{'CPLX0-8053': 1, 'EG10942-MONOMER': -1}</td>\n      <td>{}</td>\n      <td>{}</td>\n    </tr>\n    <tr>\n      <th>1064</th>\n      <td>CPLX0-8253</td>\n      <td>{'CPLX0-8253': 1, 'CSRC-RNA': -1, 'EG11447-MON...</td>\n      <td>{}</td>\n      <td>{}</td>\n    </tr>\n    <tr>\n      <th>1065</th>\n      <td>SRP-CPLX</td>\n      <td>{'SRP-CPLX': 1, 'EG10300-MONOMER': -1, 'FFS-RN...</td>\n      <td>{}</td>\n      <td>{}</td>\n    </tr>\n    <tr>\n      <th>1066</th>\n      <td>CPLX0-7796APO</td>\n      <td>{'CPLX0-7796APO': 1, 'PD04032': -2}</td>\n      <td>{}</td>\n      <td>{}</td>\n    </tr>\n    <tr>\n      <th>1067</th>\n      <td>ARCB-CPLX</td>\n      <td>{'ARCB-CPLX': 1, 'ARCB-MONOMER': -2}</td>\n      <td>{}</td>\n      <td>{ENZRXN0-8568}</td>\n    </tr>\n  </tbody>\n</table>\n<p>1068 rows × 4 columns</p>\n</div>"
     },
     "execution_count": 19,
     "metadata": {},
     "output_type": "execute_result"
    }
   ],
   "source": [
    "complex_df"
   ],
   "metadata": {
    "collapsed": false,
    "ExecuteTime": {
     "end_time": "2023-08-11T00:27:57.664449Z",
     "start_time": "2023-08-11T00:27:57.641253Z"
    }
   }
  },
  {
   "cell_type": "code",
   "execution_count": 20,
   "outputs": [],
   "source": [
    "\n",
    "# if 'Protein' in o and 'has-go-term' in o['Protein']:\n",
    "#     go_terms = o['Protein']['has-go-term']\n",
    "#\n",
    "#     annotation_set = set()\n",
    "#\n",
    "#     if type(go_terms) is dict:\n",
    "#         go_terms = [go_terms]\n",
    "#\n",
    "#     for go_term in go_terms:\n",
    "#         # example entry\n",
    "#         entity = go_term['GO-Term']['@frameid']\n",
    "#         entity = entity.replace(':', '%3A')\n",
    "#         req_str = f'https://www.ebi.ac.uk/QuickGO/services/ontology/go/terms/{entity}'\n",
    "#\n",
    "#         r = s.get(req_str)\n",
    "#         if r.status_code != 200:\n",
    "#             print(entity, r.status_code)\n",
    "#\n",
    "#         o = json.loads(r.content)\n",
    "#         if len(o['results']) != 1:\n",
    "#             print('error', entity, len(o['results']))\n",
    "#             continue\n",
    "#         elif o['results'][0]['aspect'] == 'biological_process':\n",
    "#             annotation_set.add(o['results'][0]['name'])\n",
    "#\n",
    "#             o['ptools-xml']['Protein']['gene']['Gene']['@frameid']\n",
    "#\n",
    "#     proteins_df.at[i, 'direct_annotations'] = annotation_set"
   ],
   "metadata": {
    "collapsed": false,
    "ExecuteTime": {
     "end_time": "2023-08-11T00:27:57.683357Z",
     "start_time": "2023-08-11T00:27:57.644575Z"
    }
   }
  }
 ],
 "metadata": {
  "kernelspec": {
   "display_name": "Python 3",
   "language": "python",
   "name": "python3"
  },
  "language_info": {
   "codemirror_mode": {
    "name": "ipython",
    "version": 2
   },
   "file_extension": ".py",
   "mimetype": "text/x-python",
   "name": "python",
   "nbconvert_exporter": "python",
   "pygments_lexer": "ipython2",
   "version": "2.7.6"
  }
 },
 "nbformat": 4,
 "nbformat_minor": 0
}
