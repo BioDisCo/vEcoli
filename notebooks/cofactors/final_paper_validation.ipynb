{
 "cells": [
  {
   "cell_type": "code",
   "execution_count": 12,
   "outputs": [],
   "source": [
    "import pandas as pd\n",
    "import numpy as np\n",
    "import matplotlib.pyplot as plt\n",
    "import seaborn as sns\n",
    "import polars as pl\n",
    "import itertools\n",
    "import warnings\n",
    "from scipy.sparse import csr_matrix\n",
    "\n",
    "import pandas as pd\n",
    "import statsmodels.api as sm "
   ],
   "metadata": {
    "collapsed": false,
    "ExecuteTime": {
     "end_time": "2024-03-22T18:15:40.726097Z",
     "start_time": "2024-03-22T18:15:40.720744Z"
    }
   },
   "id": "a9228842bc617733"
  },
  {
   "cell_type": "code",
   "execution_count": 53,
   "outputs": [],
   "source": [
    "# dont ignore the first line of the csv files. Keep variable as np array\n",
    "\n",
    "def read_names(file_path):\n",
    "    return np.genfromtxt(file_path, dtype=str, delimiter=\"\\n\")\n",
    "\n",
    "unwrapped_complex_names = read_names(\"data/complex_names.txt\")\n",
    "unwrapped_monomer_names = read_names(\"data/protein_names.txt\")\n",
    "unwrapped_cofactor_names = read_names(\"data/cofactor_names.txt\")\n",
    "unwrapped_element_names = read_names(\"data/element_ids.txt\")\n",
    "unwrapped_pathway_names = read_names(\"data/pathway_names.txt\")\n",
    "\n",
    "complex_ids = read_names(\"data/complex_ids.txt\")\n",
    "monomer_ids = read_names(\"data/protein_ids.txt\")\n",
    "cofactor_ids = read_names(\"data/cofactor_ids.txt\")\n",
    "element_ids = read_names(\"data/element_ids.txt\")\n",
    "pathway_ids = read_names(\"data/pathway_ids.txt\")\n",
    "aa_ids = read_names(\"data/amino_acid_ids.txt\")\n",
    "\n",
    "unwrapped_protein_names = np.concatenate([unwrapped_complex_names, unwrapped_monomer_names])\n",
    "protein_ids = np.concatenate([complex_ids, monomer_ids])\n",
    "\n",
    "# Reading the matrix CSV files\n",
    "def read_matrix(file_path, sparse=False):\n",
    "    # add sparse matrix reading\n",
    "    if sparse:\n",
    "        return csr_matrix(pl.read_csv(file_path, has_header=False).to_numpy())\n",
    "    else:\n",
    "        return pl.read_csv(file_path, has_header=False).to_numpy()\n",
    "\n",
    "C = read_matrix(\"data/C_matrix.csv\", sparse=True)\n",
    "P = read_matrix(\"data/P_matrix.csv\", sparse=True)\n",
    "E = read_matrix(\"data/E_matrix.csv\", sparse=True)\n",
    "W = read_matrix(\"data/W_matrix.csv\", sparse=True)\n",
    "W2 = read_matrix(\"data/W2_matrix.csv\", sparse=True)\n",
    "W1 = read_matrix(\"data/W1_matrix.csv\", sparse=True)\n",
    "A = read_matrix(\"data/A_matrix.csv\")\n",
    "Tree = read_matrix(\"data/tree_matrix.csv\", sparse=True)\n",
    "\n",
    "total_counts_min = read_matrix(\"data/counts.csv\")\n",
    "total_counts = read_matrix(\"data/rich_counts.csv\")\n",
    "total_counts_anaero = read_matrix(\"data/anaerobic_counts.csv\")\n",
    "total_counts_big = read_matrix(\"data/rich_counts_big.csv\")\n",
    "total_counts_big = total_counts_big[:, 1:-1]\n",
    "\n",
    "monomer_masses = read_matrix(\"data/monomer_masses.csv\").flatten()\n",
    "monomer_areas = read_matrix(\"data/monomer_areas.csv\").flatten()\n",
    "complex_areas = read_matrix(\"data/complex_areas.csv\").flatten()\n",
    "protein_areas = np.concatenate([complex_areas, monomer_areas])"
   ],
   "metadata": {
    "collapsed": false,
    "ExecuteTime": {
     "end_time": "2024-03-22T18:32:37.174479Z",
     "start_time": "2024-03-22T18:32:35.330398Z"
    }
   },
   "id": "6ee90a60c4f495b"
  },
  {
   "cell_type": "code",
   "execution_count": 54,
   "outputs": [
    {
     "data": {
      "text/plain": "<5527x4434 sparse matrix of type '<class 'numpy.int64'>'\n\twith 6208 stored elements in Compressed Sparse Row format>"
     },
     "execution_count": 54,
     "metadata": {},
     "output_type": "execute_result"
    }
   ],
   "source": [
    "C"
   ],
   "metadata": {
    "collapsed": false,
    "ExecuteTime": {
     "end_time": "2024-03-22T18:32:38.713502Z",
     "start_time": "2024-03-22T18:32:38.707008Z"
    }
   },
   "id": "45619686311d0e1a"
  },
  {
   "cell_type": "code",
   "execution_count": 58,
   "outputs": [
    {
     "name": "stderr",
     "output_type": "stream",
     "text": [
      "/Users/cyrus/.pyenv/versions/viv-10/lib/python3.10/site-packages/seaborn/_oldcore.py:1119: FutureWarning: use_inf_as_na option is deprecated and will be removed in a future version. Convert inf values to NaN before operating instead.\n",
      "  with pd.option_context('mode.use_inf_as_na', True):\n",
      "/Users/cyrus/.pyenv/versions/viv-10/lib/python3.10/site-packages/seaborn/_oldcore.py:1075: FutureWarning: When grouping with a length-1 list-like, you will need to pass a length-1 tuple to get_group in a future version of pandas. Pass `(name,)` instead of `name` to silence this warning.\n",
      "  data_subset = grouped_data.get_group(pd_key)\n",
      "/Users/cyrus/.pyenv/versions/viv-10/lib/python3.10/site-packages/seaborn/_oldcore.py:1075: FutureWarning: When grouping with a length-1 list-like, you will need to pass a length-1 tuple to get_group in a future version of pandas. Pass `(name,)` instead of `name` to silence this warning.\n",
      "  data_subset = grouped_data.get_group(pd_key)\n",
      "/Users/cyrus/.pyenv/versions/viv-10/lib/python3.10/site-packages/seaborn/_oldcore.py:1075: FutureWarning: When grouping with a length-1 list-like, you will need to pass a length-1 tuple to get_group in a future version of pandas. Pass `(name,)` instead of `name` to silence this warning.\n",
      "  data_subset = grouped_data.get_group(pd_key)\n",
      "/Users/cyrus/.pyenv/versions/viv-10/lib/python3.10/site-packages/seaborn/_oldcore.py:1075: FutureWarning: When grouping with a length-1 list-like, you will need to pass a length-1 tuple to get_group in a future version of pandas. Pass `(name,)` instead of `name` to silence this warning.\n",
      "  data_subset = grouped_data.get_group(pd_key)\n",
      "/Users/cyrus/.pyenv/versions/viv-10/lib/python3.10/site-packages/seaborn/_oldcore.py:1075: FutureWarning: When grouping with a length-1 list-like, you will need to pass a length-1 tuple to get_group in a future version of pandas. Pass `(name,)` instead of `name` to silence this warning.\n",
      "  data_subset = grouped_data.get_group(pd_key)\n",
      "/Users/cyrus/.pyenv/versions/viv-10/lib/python3.10/site-packages/seaborn/_oldcore.py:1075: FutureWarning: When grouping with a length-1 list-like, you will need to pass a length-1 tuple to get_group in a future version of pandas. Pass `(name,)` instead of `name` to silence this warning.\n",
      "  data_subset = grouped_data.get_group(pd_key)\n",
      "/Users/cyrus/.pyenv/versions/viv-10/lib/python3.10/site-packages/seaborn/_oldcore.py:1075: FutureWarning: When grouping with a length-1 list-like, you will need to pass a length-1 tuple to get_group in a future version of pandas. Pass `(name,)` instead of `name` to silence this warning.\n",
      "  data_subset = grouped_data.get_group(pd_key)\n",
      "/Users/cyrus/.pyenv/versions/viv-10/lib/python3.10/site-packages/seaborn/_oldcore.py:1075: FutureWarning: When grouping with a length-1 list-like, you will need to pass a length-1 tuple to get_group in a future version of pandas. Pass `(name,)` instead of `name` to silence this warning.\n",
      "  data_subset = grouped_data.get_group(pd_key)\n"
     ]
    },
    {
     "data": {
      "text/plain": "<Axes: xlabel='Atoms/cell', ylabel='Count'>"
     },
     "execution_count": 58,
     "metadata": {},
     "output_type": "execute_result"
    },
    {
     "data": {
      "text/plain": "<Figure size 640x480 with 1 Axes>",
      "image/png": "[encoded data removed]"
     },
     "metadata": {},
     "output_type": "display_data"
    }
   ],
   "source": [
    "# find the indices of \"FE\", \"ZN\", \"MN\", \"CU\", \"MO\", \"NI\", \"CO\":\n",
    "elements = [\"FE\", \"ZN\", \"MN\", \"CU\", \"MO\", \"NI\", \"CO\"]\n",
    "element_indices = [np.where(element_ids == element)[0][0] for element in elements]\n",
    "\n",
    "# compute the timeseries for the elements\n",
    "element_timeseries = total_counts @ C @ P @ E[:, element_indices]\n",
    "\n",
    "# convert to polars dataframe\n",
    "element_df = pl.DataFrame(element_timeseries, schema=elements)\n",
    "\n",
    "# melt to long form\n",
    "element_df = element_df.melt(id_vars=None, value_name=\"Atoms/cell\", variable_name=\"Element\")\n",
    "sns.histplot(element_df, x=\"Atoms/cell\", hue=\"Element\", element=\"step\")\n",
    "\n",
    "# plt.xscale(\"log\")"
   ],
   "metadata": {
    "collapsed": false,
    "ExecuteTime": {
     "end_time": "2024-03-22T18:33:15.635601Z",
     "start_time": "2024-03-22T18:33:15.463018Z"
    }
   },
   "id": "fafeabe955cc8197"
  },
  {
   "cell_type": "code",
   "execution_count": 60,
   "outputs": [
    {
     "data": {
      "text/plain": "shape: (27, 4)\n┌───────────┬───────┬──────────┬────────────┐\n│ Below LOD ┆  Cell ┆  Element ┆  Distance  │\n│ ---       ┆ ---   ┆ ---      ┆ ---        │\n│ i64       ┆ i64   ┆ str      ┆ f64        │\n╞═══════════╪═══════╪══════════╪════════════╡\n│ 0         ┆ 1     ┆  MO      ┆ 146.248788 │\n│ 0         ┆ 0     ┆  MO      ┆ 97.206029  │\n│ 0         ┆ 1     ┆  SE      ┆ 152.493722 │\n│ 0         ┆ 0     ┆  SE      ┆ 65.996332  │\n│ 0         ┆ 1     ┆  ZN      ┆ 207.787945 │\n│ …         ┆ …     ┆ …        ┆ …          │\n│ 0         ┆ 1     ┆  K       ┆ 313.899838 │\n│ 0         ┆ 0     ┆  K       ┆ 281.796446 │\n│ 0         ┆ 1     ┆  MG      ┆ 297.848142 │\n│ 0         ┆ 0     ┆  MG      ┆ 199.756433 │\n│ 0         ┆ 0     ┆  Scale   ┆ 353.14     │\n└───────────┴───────┴──────────┴────────────┘",
      "text/html": "<div><style>\n.dataframe > thead > tr,\n.dataframe > tbody > tr {\n  text-align: right;\n  white-space: pre-wrap;\n}\n</style>\n<small>shape: (27, 4)</small><table border=\"1\" class=\"dataframe\"><thead><tr><th>Below LOD</th><th> Cell</th><th> Element</th><th> Distance</th></tr><tr><td>i64</td><td>i64</td><td>str</td><td>f64</td></tr></thead><tbody><tr><td>0</td><td>1</td><td>&quot; MO&quot;</td><td>146.248788</td></tr><tr><td>0</td><td>0</td><td>&quot; MO&quot;</td><td>97.206029</td></tr><tr><td>0</td><td>1</td><td>&quot; SE&quot;</td><td>152.493722</td></tr><tr><td>0</td><td>0</td><td>&quot; SE&quot;</td><td>65.996332</td></tr><tr><td>0</td><td>1</td><td>&quot; ZN&quot;</td><td>207.787945</td></tr><tr><td>0</td><td>0</td><td>&quot; ZN&quot;</td><td>159.627693</td></tr><tr><td>0</td><td>1</td><td>&quot; CU&quot;</td><td>181.919225</td></tr><tr><td>0</td><td>0</td><td>&quot; CU&quot;</td><td>84.717286</td></tr><tr><td>1</td><td>1</td><td>&quot; NI&quot;</td><td>125.738288</td></tr><tr><td>0</td><td>0</td><td>&quot; NI&quot;</td><td>80.258481</td></tr><tr><td>1</td><td>1</td><td>&quot; CO&quot;</td><td>91.851373</td></tr><tr><td>0</td><td>0</td><td>&quot; CO&quot;</td><td>85.613691</td></tr><tr><td>&hellip;</td><td>&hellip;</td><td>&hellip;</td><td>&hellip;</td></tr><tr><td>0</td><td>0</td><td>&quot; MN&quot;</td><td>86.505404</td></tr><tr><td>0</td><td>1</td><td>&quot; CR&quot;</td><td>126.630048</td></tr><tr><td>0</td><td>0</td><td>&quot; CR&quot;</td><td>137.334075</td></tr><tr><td>0</td><td>1</td><td>&quot; V&quot;</td><td>82.042003</td></tr><tr><td>0</td><td>0</td><td>&quot; V&quot;</td><td>123.954766</td></tr><tr><td>0</td><td>1</td><td>&quot; CA&quot;</td><td>206.88853</td></tr><tr><td>0</td><td>0</td><td>&quot; CA&quot;</td><td>204.213247</td></tr><tr><td>0</td><td>1</td><td>&quot; K&quot;</td><td>313.899838</td></tr><tr><td>0</td><td>0</td><td>&quot; K&quot;</td><td>281.796446</td></tr><tr><td>0</td><td>1</td><td>&quot; MG&quot;</td><td>297.848142</td></tr><tr><td>0</td><td>0</td><td>&quot; MG&quot;</td><td>199.756433</td></tr><tr><td>0</td><td>0</td><td>&quot; Scale&quot;</td><td>353.14</td></tr></tbody></table></div>"
     },
     "execution_count": 60,
     "metadata": {},
     "output_type": "execute_result"
    }
   ],
   "source": [
    "pl.read_csv('external_data/distances_rich.csv')"
   ],
   "metadata": {
    "collapsed": false,
    "ExecuteTime": {
     "end_time": "2024-03-22T20:43:20.185117Z",
     "start_time": "2024-03-22T20:43:20.176835Z"
    }
   },
   "id": "121fc4400b78373"
  },
  {
   "cell_type": "code",
   "execution_count": null,
   "outputs": [],
   "source": [],
   "metadata": {
    "collapsed": false
   },
   "id": "baadc5a0883ed104"
  }
 ],
 "metadata": {
  "kernelspec": {
   "name": "python3",
   "language": "python",
   "display_name": "Python 3 (ipykernel)"
  }
 },
 "nbformat": 4,
 "nbformat_minor": 5
}
