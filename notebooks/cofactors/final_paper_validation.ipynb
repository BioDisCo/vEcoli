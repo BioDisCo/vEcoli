{
 "cells": [
  {
   "cell_type": "code",
   "source": [
    "import pandas as pd\n",
    "import numpy as np\n",
    "import matplotlib.pyplot as plt\n",
    "import matplotlib.patches as mpatches\n",
    "import seaborn as sns\n",
    "import polars as pl\n",
    "import itertools\n",
    "import warnings\n",
    "from scipy.sparse import csr_matrix\n",
    "from textwrap import wrap\n",
    "\n",
    "import pandas as pd\n",
    "import statsmodels.api as sm \n",
    "\n",
    "sns.set(style=\"darkgrid\", palette=\"Set2\", context=\"paper\")\n",
    "warnings.filterwarnings(action='ignore')"
   ],
   "metadata": {
    "collapsed": false,
    "ExecuteTime": {
     "end_time": "2024-05-14T18:06:10.522814Z",
     "start_time": "2024-05-14T18:06:10.518986Z"
    }
   },
   "id": "a9228842bc617733",
   "outputs": [],
   "execution_count": 180
  },
  {
   "cell_type": "code",
   "source": [
    "# dont ignore the first line of the csv files. Keep variable as np array\n",
    "\n",
    "def read_names(file_path):\n",
    "    return np.genfromtxt(file_path, dtype=str, delimiter=\"\\n\")\n",
    "\n",
    "unwrapped_complex_names = read_names(\"data/complex_names.txt\")\n",
    "unwrapped_monomer_names = read_names(\"data/protein_names.txt\")\n",
    "unwrapped_cofactor_names = read_names(\"data/cofactor_names.txt\")\n",
    "unwrapped_element_names = read_names(\"data/element_ids.txt\")\n",
    "unwrapped_pathway_names = read_names(\"data/pathway_names.txt\")\n",
    "\n",
    "\n",
    "complex_ids = read_names(\"data/complex_ids.txt\")\n",
    "monomer_ids = read_names(\"data/protein_ids.txt\")\n",
    "cofactor_ids = read_names(\"data/cofactor_ids.txt\")\n",
    "element_ids = read_names(\"data/element_ids.txt\")\n",
    "pathway_ids = read_names(\"data/pathway_ids.txt\")\n",
    "aa_ids = read_names(\"data/amino_acid_ids.txt\")\n",
    "\n",
    "unwrapped_protein_names = np.concatenate([unwrapped_complex_names, unwrapped_monomer_names])\n",
    "protein_ids = np.concatenate([complex_ids, monomer_ids])\n",
    "\n",
    "# Reading the matrix CSV files\n",
    "def read_matrix(file_path, sparse=False):\n",
    "    # add sparse matrix reading\n",
    "    if sparse:\n",
    "        return csr_matrix(pl.read_csv(file_path, has_header=False).to_numpy())\n",
    "    else:\n",
    "        return pl.read_csv(file_path, has_header=False).to_numpy()\n",
    "\n",
    "C = read_matrix(\"data/C_matrix.csv\", sparse=True)\n",
    "P = read_matrix(\"data/P_matrix.csv\", sparse=True)\n",
    "E = read_matrix(\"data/E_matrix.csv\", sparse=True)\n",
    "W = read_matrix(\"data/W_matrix.csv\", sparse=True)\n",
    "W2 = read_matrix(\"data/W2_matrix.csv\", sparse=True)\n",
    "W1 = read_matrix(\"data/W1_matrix.csv\", sparse=True)\n",
    "A = read_matrix(\"data/A_matrix.csv\")\n",
    "Tree = read_matrix(\"data/tree_matrix.csv\", sparse=True)\n",
    "\n",
    "total_counts_min = read_matrix(\"data/counts.csv\")\n",
    "total_counts = read_matrix(\"data/rich_counts.csv\")\n",
    "total_counts_anaero = read_matrix(\"data/anaerobic_counts.csv\")\n",
    "total_counts_big = read_matrix(\"data/rich_counts_big.csv\")\n",
    "\n",
    "monomer_masses = read_matrix(\"data/monomer_masses.csv\").flatten()\n",
    "monomer_areas = read_matrix(\"data/monomer_areas.csv\").flatten()\n",
    "complex_areas = read_matrix(\"data/complex_areas.csv\").flatten()\n",
    "protein_areas = np.concatenate([complex_areas, monomer_areas])"
   ],
   "metadata": {
    "collapsed": false,
    "ExecuteTime": {
     "end_time": "2024-05-14T18:06:14.649737Z",
     "start_time": "2024-05-14T18:06:10.761182Z"
    }
   },
   "id": "6ee90a60c4f495b",
   "outputs": [],
   "execution_count": 181
  },
  {
   "cell_type": "markdown",
   "source": [
    "# Validation against 2001 ICP-MS data"
   ],
   "metadata": {
    "collapsed": false
   },
   "id": "db6442c4868259ec"
  },
  {
   "cell_type": "code",
   "source": [
    "# find the indices of \"FE\", \"ZN\", \"MN\", \"CU\", \"MO\", \"NI\", \"CO\":\n",
    "elements = [\"FE\", \"ZN\", \"MN\", \"CU\", \"MO\", \"NI\", \"CO\"]\n",
    "element_indices = [np.where(element_ids == element)[0][0] for element in elements]\n",
    "\n",
    "# compute the timeseries for the elements\n",
    "element_timeseries = total_counts @ C @ P @ E[:, element_indices]\n",
    "\n",
    "# convert to polars dataframe\n",
    "element_df = pl.DataFrame(element_timeseries, schema=elements)\n",
    "\n",
    "# melt to long form\n",
    "element_df = element_df.melt(id_vars=None, value_name=\"Atoms/cell\", variable_name=\"Element\")\n",
    "sns.histplot(element_df, x=\"Atoms/cell\", hue=\"Element\", element=\"step\")\n",
    "\n",
    "# plt.xscale(\"log\")"
   ],
   "metadata": {
    "collapsed": false,
    "ExecuteTime": {
     "end_time": "2024-05-14T18:06:14.833668Z",
     "start_time": "2024-05-14T18:06:14.651038Z"
    }
   },
   "id": "fafeabe955cc8197",
   "outputs": [
    {
     "data": {
      "text/plain": [
       "<Axes: xlabel='Atoms/cell', ylabel='Count'>"
      ]
     },
     "execution_count": 182,
     "metadata": {},
     "output_type": "execute_result"
    },
    {
     "data": {
      "text/plain": [
       "<Figure size 640x480 with 1 Axes>"
      ],
      "image/png": "[encoded data removed]"
     },
     "metadata": {},
     "output_type": "display_data"
    }
   ],
   "execution_count": 182
  },
  {
   "cell_type": "code",
   "source": [
    "elements = [\"FE\", \"ZN\", \"MN\", \"CU\", \"MO\", \"NI\", \"CO\", \"V\", \"CR\"]\n",
    "\n",
    "val_orig_df = pl.read_csv('external_data/distances.csv')\n",
    "\n",
    "val_orig_df = val_orig_df.with_columns((   (-9* ( 1 - pl.col(\"Distance\") / pl.col(\"ScaleDist\")))  ).alias(\"Log concentration\"))\n",
    "val_orig_df = val_orig_df.with_columns(   (10**(pl.col(\"Log concentration\"))).alias(\"Concentration (M)\")  )\n",
    "val_orig_df = val_orig_df.with_columns( (pl.col(\"Concentration (M)\") *  (10**pl.col(\"ScaleCounts\")) ).alias(\"Atoms/cell\"))\n",
    "val_orig_df\n",
    "\n",
    "# filter out the elements\n",
    "val_df = val_orig_df.filter(pl.col(\"Element\").is_in(elements) & pl.col(\"Cell\") == True)\n",
    "\n",
    "# val_df = val_df.filter(pl.col(\"Condition\") == \"Rich\")\n",
    "\n",
    "val_df.write_csv(\"data/val_df.csv\", include_header=True)"
   ],
   "metadata": {
    "collapsed": false,
    "ExecuteTime": {
     "end_time": "2024-05-14T18:06:14.840906Z",
     "start_time": "2024-05-14T18:06:14.834719Z"
    }
   },
   "id": "121fc4400b78373",
   "outputs": [],
   "execution_count": 183
  },
  {
   "cell_type": "markdown",
   "source": [
    "## Estimate upper limit of atoms/cell available in media"
   ],
   "metadata": {
    "collapsed": false
   },
   "id": "637eba8a4bc01cae"
  },
  {
   "cell_type": "code",
   "source": [
    "media_lim_df = val_orig_df.filter(pl.col(\"Cell\") == False).drop([\"Error\", \"Distance\", \"ScaleDist\", \"ScaleCounts\"])\n",
    "# media_lim_df = media_lim_df.filter(pl.col(\"Condition\") == \"Rich\")\n",
    "\n",
    "# to convert from atoms/cell in media, take the concentration in the media, convert to atoms by mult w avo, then divide by 3e11 cells per L\n",
    "media_lim_df = media_lim_df.with_columns( (pl.col(\"Concentration (M)\") * 6.022e23 / 3.5e11).alias(\"Atoms/cell\"))\n",
    "\n",
    "media_lim_df.to_pandas()"
   ],
   "metadata": {
    "collapsed": false,
    "ExecuteTime": {
     "end_time": "2024-05-14T18:06:14.851091Z",
     "start_time": "2024-05-14T18:06:14.842747Z"
    }
   },
   "id": "ad38e55e31f2cfaf",
   "outputs": [
    {
     "data": {
      "text/plain": [
       "   Condition  Below LOD  Cell Element  Log concentration  Concentration (M)  \\\n",
       "0    Minimal          0     0      MO          -7.730374       1.860483e-08   \n",
       "1    Minimal          0     0      SE          -7.548822       2.826037e-08   \n",
       "2    Minimal          0     0      ZN          -6.903050       1.250115e-07   \n",
       "3    Minimal          0     0      CU          -7.208921       6.181290e-08   \n",
       "4    Minimal          0     0      NI          -7.707702       1.960187e-08   \n",
       "5    Minimal          1     0      CO          -8.342515       4.544486e-09   \n",
       "6    Minimal          1     0      FE          -6.460629       3.462353e-07   \n",
       "7    Minimal          0     0      MN          -7.685031       2.065235e-08   \n",
       "8    Minimal          0     0      CR          -6.687467       2.053679e-07   \n",
       "9    Minimal          0     0       V          -7.707504       1.961085e-08   \n",
       "10   Minimal          0     0      CA          -5.440514       3.626489e-06   \n",
       "11   Minimal          0     0       K          -0.815417       1.529617e-01   \n",
       "12   Minimal          0     0      MG          -3.037294       9.177120e-04   \n",
       "13      Rich          0     0      MO          -6.522642       3.001637e-07   \n",
       "14      Rich          0     0      SE          -7.318041       4.807939e-08   \n",
       "15      Rich          0     0      ZN          -4.931786       1.170077e-05   \n",
       "16      Rich          0     0      CU          -6.840925       1.442363e-07   \n",
       "17      Rich          0     0      NI          -6.954561       1.110297e-07   \n",
       "18      Rich          0     0      CO          -6.818080       1.520267e-07   \n",
       "19      Rich          0     0      FE          -5.272686       5.337203e-06   \n",
       "20      Rich          0     0      MN          -6.795354       1.601939e-07   \n",
       "21      Rich          0     0      CR          -5.499953       3.162621e-06   \n",
       "22      Rich          0     0       V          -5.840933       1.442338e-06   \n",
       "23      Rich          0     0      CA          -3.795494       1.601423e-04   \n",
       "24      Rich          0     0       K          -1.818236       1.519720e-02   \n",
       "25      Rich          0     0      MG          -3.909079       1.232881e-04   \n",
       "\n",
       "      Atoms/cell  \n",
       "0   3.201094e+04  \n",
       "1   4.862399e+04  \n",
       "2   2.150911e+05  \n",
       "3   1.063535e+05  \n",
       "4   3.372642e+04  \n",
       "5   7.819112e+03  \n",
       "6   5.957225e+05  \n",
       "7   3.553384e+04  \n",
       "8   3.533501e+05  \n",
       "9   3.374187e+04  \n",
       "10  6.239633e+06  \n",
       "11  2.631816e+11  \n",
       "12  1.578989e+09  \n",
       "13  5.164531e+05  \n",
       "14  8.272403e+04  \n",
       "15  2.013201e+07  \n",
       "16  2.481688e+05  \n",
       "17  1.910345e+05  \n",
       "18  2.615729e+05  \n",
       "19  9.183039e+06  \n",
       "20  2.756250e+05  \n",
       "21  5.441516e+06  \n",
       "22  2.481645e+06  \n",
       "23  2.755362e+08  \n",
       "24  2.614787e+10  \n",
       "25  2.121260e+08  "
      ],
      "text/html": [
       "<div>\n",
       "<style scoped>\n",
       "    .dataframe tbody tr th:only-of-type {\n",
       "        vertical-align: middle;\n",
       "    }\n",
       "\n",
       "    .dataframe tbody tr th {\n",
       "        vertical-align: top;\n",
       "    }\n",
       "\n",
       "    .dataframe thead th {\n",
       "        text-align: right;\n",
       "    }\n",
       "</style>\n",
       "<table border=\"1\" class=\"dataframe\">\n",
       "  <thead>\n",
       "    <tr style=\"text-align: right;\">\n",
       "      <th></th>\n",
       "      <th>Condition</th>\n",
       "      <th>Below LOD</th>\n",
       "      <th>Cell</th>\n",
       "      <th>Element</th>\n",
       "      <th>Log concentration</th>\n",
       "      <th>Concentration (M)</th>\n",
       "      <th>Atoms/cell</th>\n",
       "    </tr>\n",
       "  </thead>\n",
       "  <tbody>\n",
       "    <tr>\n",
       "      <th>0</th>\n",
       "      <td>Minimal</td>\n",
       "      <td>0</td>\n",
       "      <td>0</td>\n",
       "      <td>MO</td>\n",
       "      <td>-7.730374</td>\n",
       "      <td>1.860483e-08</td>\n",
       "      <td>3.201094e+04</td>\n",
       "    </tr>\n",
       "    <tr>\n",
       "      <th>1</th>\n",
       "      <td>Minimal</td>\n",
       "      <td>0</td>\n",
       "      <td>0</td>\n",
       "      <td>SE</td>\n",
       "      <td>-7.548822</td>\n",
       "      <td>2.826037e-08</td>\n",
       "      <td>4.862399e+04</td>\n",
       "    </tr>\n",
       "    <tr>\n",
       "      <th>2</th>\n",
       "      <td>Minimal</td>\n",
       "      <td>0</td>\n",
       "      <td>0</td>\n",
       "      <td>ZN</td>\n",
       "      <td>-6.903050</td>\n",
       "      <td>1.250115e-07</td>\n",
       "      <td>2.150911e+05</td>\n",
       "    </tr>\n",
       "    <tr>\n",
       "      <th>3</th>\n",
       "      <td>Minimal</td>\n",
       "      <td>0</td>\n",
       "      <td>0</td>\n",
       "      <td>CU</td>\n",
       "      <td>-7.208921</td>\n",
       "      <td>6.181290e-08</td>\n",
       "      <td>1.063535e+05</td>\n",
       "    </tr>\n",
       "    <tr>\n",
       "      <th>4</th>\n",
       "      <td>Minimal</td>\n",
       "      <td>0</td>\n",
       "      <td>0</td>\n",
       "      <td>NI</td>\n",
       "      <td>-7.707702</td>\n",
       "      <td>1.960187e-08</td>\n",
       "      <td>3.372642e+04</td>\n",
       "    </tr>\n",
       "    <tr>\n",
       "      <th>5</th>\n",
       "      <td>Minimal</td>\n",
       "      <td>1</td>\n",
       "      <td>0</td>\n",
       "      <td>CO</td>\n",
       "      <td>-8.342515</td>\n",
       "      <td>4.544486e-09</td>\n",
       "      <td>7.819112e+03</td>\n",
       "    </tr>\n",
       "    <tr>\n",
       "      <th>6</th>\n",
       "      <td>Minimal</td>\n",
       "      <td>1</td>\n",
       "      <td>0</td>\n",
       "      <td>FE</td>\n",
       "      <td>-6.460629</td>\n",
       "      <td>3.462353e-07</td>\n",
       "      <td>5.957225e+05</td>\n",
       "    </tr>\n",
       "    <tr>\n",
       "      <th>7</th>\n",
       "      <td>Minimal</td>\n",
       "      <td>0</td>\n",
       "      <td>0</td>\n",
       "      <td>MN</td>\n",
       "      <td>-7.685031</td>\n",
       "      <td>2.065235e-08</td>\n",
       "      <td>3.553384e+04</td>\n",
       "    </tr>\n",
       "    <tr>\n",
       "      <th>8</th>\n",
       "      <td>Minimal</td>\n",
       "      <td>0</td>\n",
       "      <td>0</td>\n",
       "      <td>CR</td>\n",
       "      <td>-6.687467</td>\n",
       "      <td>2.053679e-07</td>\n",
       "      <td>3.533501e+05</td>\n",
       "    </tr>\n",
       "    <tr>\n",
       "      <th>9</th>\n",
       "      <td>Minimal</td>\n",
       "      <td>0</td>\n",
       "      <td>0</td>\n",
       "      <td>V</td>\n",
       "      <td>-7.707504</td>\n",
       "      <td>1.961085e-08</td>\n",
       "      <td>3.374187e+04</td>\n",
       "    </tr>\n",
       "    <tr>\n",
       "      <th>10</th>\n",
       "      <td>Minimal</td>\n",
       "      <td>0</td>\n",
       "      <td>0</td>\n",
       "      <td>CA</td>\n",
       "      <td>-5.440514</td>\n",
       "      <td>3.626489e-06</td>\n",
       "      <td>6.239633e+06</td>\n",
       "    </tr>\n",
       "    <tr>\n",
       "      <th>11</th>\n",
       "      <td>Minimal</td>\n",
       "      <td>0</td>\n",
       "      <td>0</td>\n",
       "      <td>K</td>\n",
       "      <td>-0.815417</td>\n",
       "      <td>1.529617e-01</td>\n",
       "      <td>2.631816e+11</td>\n",
       "    </tr>\n",
       "    <tr>\n",
       "      <th>12</th>\n",
       "      <td>Minimal</td>\n",
       "      <td>0</td>\n",
       "      <td>0</td>\n",
       "      <td>MG</td>\n",
       "      <td>-3.037294</td>\n",
       "      <td>9.177120e-04</td>\n",
       "      <td>1.578989e+09</td>\n",
       "    </tr>\n",
       "    <tr>\n",
       "      <th>13</th>\n",
       "      <td>Rich</td>\n",
       "      <td>0</td>\n",
       "      <td>0</td>\n",
       "      <td>MO</td>\n",
       "      <td>-6.522642</td>\n",
       "      <td>3.001637e-07</td>\n",
       "      <td>5.164531e+05</td>\n",
       "    </tr>\n",
       "    <tr>\n",
       "      <th>14</th>\n",
       "      <td>Rich</td>\n",
       "      <td>0</td>\n",
       "      <td>0</td>\n",
       "      <td>SE</td>\n",
       "      <td>-7.318041</td>\n",
       "      <td>4.807939e-08</td>\n",
       "      <td>8.272403e+04</td>\n",
       "    </tr>\n",
       "    <tr>\n",
       "      <th>15</th>\n",
       "      <td>Rich</td>\n",
       "      <td>0</td>\n",
       "      <td>0</td>\n",
       "      <td>ZN</td>\n",
       "      <td>-4.931786</td>\n",
       "      <td>1.170077e-05</td>\n",
       "      <td>2.013201e+07</td>\n",
       "    </tr>\n",
       "    <tr>\n",
       "      <th>16</th>\n",
       "      <td>Rich</td>\n",
       "      <td>0</td>\n",
       "      <td>0</td>\n",
       "      <td>CU</td>\n",
       "      <td>-6.840925</td>\n",
       "      <td>1.442363e-07</td>\n",
       "      <td>2.481688e+05</td>\n",
       "    </tr>\n",
       "    <tr>\n",
       "      <th>17</th>\n",
       "      <td>Rich</td>\n",
       "      <td>0</td>\n",
       "      <td>0</td>\n",
       "      <td>NI</td>\n",
       "      <td>-6.954561</td>\n",
       "      <td>1.110297e-07</td>\n",
       "      <td>1.910345e+05</td>\n",
       "    </tr>\n",
       "    <tr>\n",
       "      <th>18</th>\n",
       "      <td>Rich</td>\n",
       "      <td>0</td>\n",
       "      <td>0</td>\n",
       "      <td>CO</td>\n",
       "      <td>-6.818080</td>\n",
       "      <td>1.520267e-07</td>\n",
       "      <td>2.615729e+05</td>\n",
       "    </tr>\n",
       "    <tr>\n",
       "      <th>19</th>\n",
       "      <td>Rich</td>\n",
       "      <td>0</td>\n",
       "      <td>0</td>\n",
       "      <td>FE</td>\n",
       "      <td>-5.272686</td>\n",
       "      <td>5.337203e-06</td>\n",
       "      <td>9.183039e+06</td>\n",
       "    </tr>\n",
       "    <tr>\n",
       "      <th>20</th>\n",
       "      <td>Rich</td>\n",
       "      <td>0</td>\n",
       "      <td>0</td>\n",
       "      <td>MN</td>\n",
       "      <td>-6.795354</td>\n",
       "      <td>1.601939e-07</td>\n",
       "      <td>2.756250e+05</td>\n",
       "    </tr>\n",
       "    <tr>\n",
       "      <th>21</th>\n",
       "      <td>Rich</td>\n",
       "      <td>0</td>\n",
       "      <td>0</td>\n",
       "      <td>CR</td>\n",
       "      <td>-5.499953</td>\n",
       "      <td>3.162621e-06</td>\n",
       "      <td>5.441516e+06</td>\n",
       "    </tr>\n",
       "    <tr>\n",
       "      <th>22</th>\n",
       "      <td>Rich</td>\n",
       "      <td>0</td>\n",
       "      <td>0</td>\n",
       "      <td>V</td>\n",
       "      <td>-5.840933</td>\n",
       "      <td>1.442338e-06</td>\n",
       "      <td>2.481645e+06</td>\n",
       "    </tr>\n",
       "    <tr>\n",
       "      <th>23</th>\n",
       "      <td>Rich</td>\n",
       "      <td>0</td>\n",
       "      <td>0</td>\n",
       "      <td>CA</td>\n",
       "      <td>-3.795494</td>\n",
       "      <td>1.601423e-04</td>\n",
       "      <td>2.755362e+08</td>\n",
       "    </tr>\n",
       "    <tr>\n",
       "      <th>24</th>\n",
       "      <td>Rich</td>\n",
       "      <td>0</td>\n",
       "      <td>0</td>\n",
       "      <td>K</td>\n",
       "      <td>-1.818236</td>\n",
       "      <td>1.519720e-02</td>\n",
       "      <td>2.614787e+10</td>\n",
       "    </tr>\n",
       "    <tr>\n",
       "      <th>25</th>\n",
       "      <td>Rich</td>\n",
       "      <td>0</td>\n",
       "      <td>0</td>\n",
       "      <td>MG</td>\n",
       "      <td>-3.909079</td>\n",
       "      <td>1.232881e-04</td>\n",
       "      <td>2.121260e+08</td>\n",
       "    </tr>\n",
       "  </tbody>\n",
       "</table>\n",
       "</div>"
      ]
     },
     "execution_count": 184,
     "metadata": {},
     "output_type": "execute_result"
    }
   ],
   "execution_count": 184
  },
  {
   "cell_type": "markdown",
   "source": [
    "## Import EZ rich composition"
   ],
   "metadata": {
    "collapsed": false
   },
   "id": "e11030316a7d0c1a"
  },
  {
   "cell_type": "code",
   "source": [
    "ez_df = pl.read_csv('external_data/ez_media_concentrations.csv')\n",
    "\n",
    "# convert µM to molar\n",
    "ez_df = ez_df.with_columns( (ez_df[\"Concentration (µM)\"] * 1e-6).alias(\"Concentration (M)\")  )\n",
    "\n",
    "# convert to atoms/cell assuming 8.0 * 10^8 cells per L\n",
    "ez_df = ez_df.with_columns( (ez_df[\"Concentration (M)\"] * 6.022e23 / 2e11).alias(\"Atoms/cell\")  )\n",
    "\n",
    "# Set Zn to 0 since it's unreliable due to contamination\n",
    "ez_df = ez_df.with_columns(pl.when(pl.col(\"Element\") == \"ZN\").then(-500000).otherwise(pl.col(\"Atoms/cell\")).alias(\"Atoms/cell\"))\n",
    "\n",
    "ez_df"
   ],
   "metadata": {
    "collapsed": false,
    "ExecuteTime": {
     "end_time": "2024-05-14T18:06:14.857114Z",
     "start_time": "2024-05-14T18:06:14.851856Z"
    }
   },
   "id": "d75a73247fe05998",
   "outputs": [
    {
     "data": {
      "text/plain": [
       "shape: (14, 6)\n",
       "┌───────────┬─────────┬─────────────────────┬────────────────────┬───────────────────┬────────────┐\n",
       "│ Condition ┆ Element ┆ Concentration (raw) ┆ Concentration (µM) ┆ Concentration (M) ┆ Atoms/cell │\n",
       "│ ---       ┆ ---     ┆ ---                 ┆ ---                ┆ ---               ┆ ---        │\n",
       "│ str       ┆ str     ┆ str                 ┆ f64                ┆ f64               ┆ f64        │\n",
       "╞═══════════╪═════════╪═════════════════════╪════════════════════╪═══════════════════╪════════════╡\n",
       "│ Minimal   ┆ FE      ┆ 10 µM               ┆ 10.0               ┆ 0.00001           ┆ 3.011e7    │\n",
       "│ Minimal   ┆ MN      ┆ 80 nM               ┆ 0.08               ┆ 8.0000e-8         ┆ 240880.0   │\n",
       "│ Minimal   ┆ CO      ┆ 30.0 nM             ┆ 0.03               ┆ 3.0000e-8         ┆ 90330.0    │\n",
       "│ Minimal   ┆ ZN      ┆ 10 nM               ┆ 0.01               ┆ 1.0000e-8         ┆ -500000.0  │\n",
       "│ Minimal   ┆ CU      ┆ 10 nM               ┆ 0.01               ┆ 1.0000e-8         ┆ 30110.0    │\n",
       "│ …         ┆ …       ┆ …                   ┆ …                  ┆ …                 ┆ …          │\n",
       "│ Rich      ┆ CO      ┆ 30.0 nM             ┆ 0.03               ┆ 3.0000e-8         ┆ 90330.0    │\n",
       "│ Rich      ┆ ZN      ┆ 10 nM               ┆ 0.01               ┆ 1.0000e-8         ┆ -500000.0  │\n",
       "│ Rich      ┆ CU      ┆ 10 nM               ┆ 0.01               ┆ 1.0000e-8         ┆ 30110.0    │\n",
       "│ Rich      ┆ MO      ┆ 3 nM                ┆ 0.003              ┆ 3.0000e-9         ┆ 9033.0     │\n",
       "│ Rich      ┆ NI      ┆ 0 nM                ┆ 0.0                ┆ 0.0               ┆ 0.0        │\n",
       "└───────────┴─────────┴─────────────────────┴────────────────────┴───────────────────┴────────────┘"
      ],
      "text/html": [
       "<div><style>\n",
       ".dataframe > thead > tr,\n",
       ".dataframe > tbody > tr {\n",
       "  text-align: right;\n",
       "  white-space: pre-wrap;\n",
       "}\n",
       "</style>\n",
       "<small>shape: (14, 6)</small><table border=\"1\" class=\"dataframe\"><thead><tr><th>Condition</th><th>Element</th><th>Concentration (raw)</th><th>Concentration (µM)</th><th>Concentration (M)</th><th>Atoms/cell</th></tr><tr><td>str</td><td>str</td><td>str</td><td>f64</td><td>f64</td><td>f64</td></tr></thead><tbody><tr><td>&quot;Minimal&quot;</td><td>&quot;FE&quot;</td><td>&quot;10 µM&quot;</td><td>10.0</td><td>0.00001</td><td>3.011e7</td></tr><tr><td>&quot;Minimal&quot;</td><td>&quot;MN&quot;</td><td>&quot;80 nM&quot;</td><td>0.08</td><td>8.0000e-8</td><td>240880.0</td></tr><tr><td>&quot;Minimal&quot;</td><td>&quot;CO&quot;</td><td>&quot;30.0 nM&quot;</td><td>0.03</td><td>3.0000e-8</td><td>90330.0</td></tr><tr><td>&quot;Minimal&quot;</td><td>&quot;ZN&quot;</td><td>&quot;10 nM&quot;</td><td>0.01</td><td>1.0000e-8</td><td>-500000.0</td></tr><tr><td>&quot;Minimal&quot;</td><td>&quot;CU&quot;</td><td>&quot;10 nM&quot;</td><td>0.01</td><td>1.0000e-8</td><td>30110.0</td></tr><tr><td>&quot;Minimal&quot;</td><td>&quot;MO&quot;</td><td>&quot;3 nM&quot;</td><td>0.003</td><td>3.0000e-9</td><td>9033.0</td></tr><tr><td>&quot;Minimal&quot;</td><td>&quot;NI&quot;</td><td>&quot;0 nM&quot;</td><td>0.0</td><td>0.0</td><td>0.0</td></tr><tr><td>&quot;Rich&quot;</td><td>&quot;FE&quot;</td><td>&quot;10 µM&quot;</td><td>10.0</td><td>0.00001</td><td>3.011e7</td></tr><tr><td>&quot;Rich&quot;</td><td>&quot;MN&quot;</td><td>&quot;80 nM&quot;</td><td>0.08</td><td>8.0000e-8</td><td>240880.0</td></tr><tr><td>&quot;Rich&quot;</td><td>&quot;CO&quot;</td><td>&quot;30.0 nM&quot;</td><td>0.03</td><td>3.0000e-8</td><td>90330.0</td></tr><tr><td>&quot;Rich&quot;</td><td>&quot;ZN&quot;</td><td>&quot;10 nM&quot;</td><td>0.01</td><td>1.0000e-8</td><td>-500000.0</td></tr><tr><td>&quot;Rich&quot;</td><td>&quot;CU&quot;</td><td>&quot;10 nM&quot;</td><td>0.01</td><td>1.0000e-8</td><td>30110.0</td></tr><tr><td>&quot;Rich&quot;</td><td>&quot;MO&quot;</td><td>&quot;3 nM&quot;</td><td>0.003</td><td>3.0000e-9</td><td>9033.0</td></tr><tr><td>&quot;Rich&quot;</td><td>&quot;NI&quot;</td><td>&quot;0 nM&quot;</td><td>0.0</td><td>0.0</td><td>0.0</td></tr></tbody></table></div>"
      ]
     },
     "execution_count": 185,
     "metadata": {},
     "output_type": "execute_result"
    }
   ],
   "execution_count": 185
  },
  {
   "cell_type": "markdown",
   "source": [
    "## Final rich plot"
   ],
   "metadata": {
    "collapsed": false
   },
   "id": "1f683f8651852808"
  },
  {
   "cell_type": "code",
   "source": [
    "rich_exp_caption = \"Experiment, LB rich media\"\n",
    "rich_sim_caption = \"Simulation, EZ rich media\"\n",
    "minimal_exp_caption = \"Experiment, M9 minimal media\"\n",
    "minimal_sim_caption = \"Simulation, MOPS minimal media\"\n",
    "\n",
    "figure_height = 3"
   ],
   "metadata": {
    "collapsed": false,
    "ExecuteTime": {
     "end_time": "2024-05-14T18:06:14.860024Z",
     "start_time": "2024-05-14T18:06:14.858037Z"
    }
   },
   "id": "a9224544da571a40",
   "outputs": [],
   "execution_count": 186
  },
  {
   "cell_type": "code",
   "source": [
    "# copy ez_df to have 0 at the minimal condition\n",
    "ez_df_copy = ez_df.clone().filter(pl.col(\"Element\").is_in(elements))\n",
    "ez_df_copy = ez_df_copy.with_columns(pl.when(pl.col(\"Condition\") == \"Minimal\").then(-500000).otherwise(pl.col(\"Atoms/cell\")).alias(\"Atoms/cell\"))\n",
    "ez_df_copy = ez_df_copy.with_columns(pl.when(pl.col(\"Condition\") == \"Minimal\").then(pl.lit(rich_exp_caption)).otherwise(pl.lit(rich_sim_caption)).alias(\"Type\"))\n",
    "\n",
    "# zero values above 800000\n",
    "ez_df_copy = ez_df_copy.with_columns(pl.when(pl.col(\"Atoms/cell\") > 800000).then(-500000).otherwise(pl.col(\"Atoms/cell\")).alias(\"Atoms/cell\"))"
   ],
   "metadata": {
    "collapsed": false,
    "ExecuteTime": {
     "end_time": "2024-05-14T18:06:14.864394Z",
     "start_time": "2024-05-14T18:06:14.860689Z"
    }
   },
   "id": "85795a29ede35358",
   "outputs": [],
   "execution_count": 187
  },
  {
   "cell_type": "code",
   "source": [
    "# temporarily modify media_lim_df to have 0 at the minimal condition\n",
    "media_lim_df_copy = media_lim_df.clone().filter(pl.col(\"Element\").is_in(elements))\n",
    "media_lim_df_copy = media_lim_df_copy.with_columns(pl.when(pl.col(\"Condition\") == \"Minimal\").then(-500000).otherwise(pl.col(\"Atoms/cell\")).alias(\"Atoms/cell\"))\n",
    "media_lim_df_copy = media_lim_df_copy.with_columns(pl.when(pl.col(\"Condition\") == \"Minimal\").then(pl.lit(rich_sim_caption)).otherwise(pl.lit(rich_exp_caption)).alias(\"Type\"))\n",
    "# zero values above 800000\n",
    "media_lim_df_copy = media_lim_df_copy.with_columns(pl.when(pl.col(\"Atoms/cell\") > 800000).then(-500000).otherwise(pl.col(\"Atoms/cell\")).alias(\"Atoms/cell\"))\n",
    "\n",
    "media_lim_df_copy.to_pandas()"
   ],
   "metadata": {
    "collapsed": false,
    "ExecuteTime": {
     "end_time": "2024-05-14T18:06:14.873845Z",
     "start_time": "2024-05-14T18:06:14.864991Z"
    }
   },
   "id": "ec2ca39ee206260",
   "outputs": [
    {
     "data": {
      "text/plain": [
       "   Condition  Below LOD  Cell Element  Log concentration  Concentration (M)  \\\n",
       "0    Minimal          0     0      MO          -7.730374       1.860483e-08   \n",
       "1    Minimal          0     0      ZN          -6.903050       1.250115e-07   \n",
       "2    Minimal          0     0      CU          -7.208921       6.181290e-08   \n",
       "3    Minimal          0     0      NI          -7.707702       1.960187e-08   \n",
       "4    Minimal          1     0      CO          -8.342515       4.544486e-09   \n",
       "5    Minimal          1     0      FE          -6.460629       3.462353e-07   \n",
       "6    Minimal          0     0      MN          -7.685031       2.065235e-08   \n",
       "7    Minimal          0     0      CR          -6.687467       2.053679e-07   \n",
       "8    Minimal          0     0       V          -7.707504       1.961085e-08   \n",
       "9       Rich          0     0      MO          -6.522642       3.001637e-07   \n",
       "10      Rich          0     0      ZN          -4.931786       1.170077e-05   \n",
       "11      Rich          0     0      CU          -6.840925       1.442363e-07   \n",
       "12      Rich          0     0      NI          -6.954561       1.110297e-07   \n",
       "13      Rich          0     0      CO          -6.818080       1.520267e-07   \n",
       "14      Rich          0     0      FE          -5.272686       5.337203e-06   \n",
       "15      Rich          0     0      MN          -6.795354       1.601939e-07   \n",
       "16      Rich          0     0      CR          -5.499953       3.162621e-06   \n",
       "17      Rich          0     0       V          -5.840933       1.442338e-06   \n",
       "\n",
       "       Atoms/cell                       Type  \n",
       "0  -500000.000000  Simulation, EZ rich media  \n",
       "1  -500000.000000  Simulation, EZ rich media  \n",
       "2  -500000.000000  Simulation, EZ rich media  \n",
       "3  -500000.000000  Simulation, EZ rich media  \n",
       "4  -500000.000000  Simulation, EZ rich media  \n",
       "5  -500000.000000  Simulation, EZ rich media  \n",
       "6  -500000.000000  Simulation, EZ rich media  \n",
       "7  -500000.000000  Simulation, EZ rich media  \n",
       "8  -500000.000000  Simulation, EZ rich media  \n",
       "9   516453.080545  Experiment, LB rich media  \n",
       "10 -500000.000000  Experiment, LB rich media  \n",
       "11  248168.822328  Experiment, LB rich media  \n",
       "12  191034.461764  Experiment, LB rich media  \n",
       "13  261572.863674  Experiment, LB rich media  \n",
       "14 -500000.000000  Experiment, LB rich media  \n",
       "15  275624.974698  Experiment, LB rich media  \n",
       "16 -500000.000000  Experiment, LB rich media  \n",
       "17 -500000.000000  Experiment, LB rich media  "
      ],
      "text/html": [
       "<div>\n",
       "<style scoped>\n",
       "    .dataframe tbody tr th:only-of-type {\n",
       "        vertical-align: middle;\n",
       "    }\n",
       "\n",
       "    .dataframe tbody tr th {\n",
       "        vertical-align: top;\n",
       "    }\n",
       "\n",
       "    .dataframe thead th {\n",
       "        text-align: right;\n",
       "    }\n",
       "</style>\n",
       "<table border=\"1\" class=\"dataframe\">\n",
       "  <thead>\n",
       "    <tr style=\"text-align: right;\">\n",
       "      <th></th>\n",
       "      <th>Condition</th>\n",
       "      <th>Below LOD</th>\n",
       "      <th>Cell</th>\n",
       "      <th>Element</th>\n",
       "      <th>Log concentration</th>\n",
       "      <th>Concentration (M)</th>\n",
       "      <th>Atoms/cell</th>\n",
       "      <th>Type</th>\n",
       "    </tr>\n",
       "  </thead>\n",
       "  <tbody>\n",
       "    <tr>\n",
       "      <th>0</th>\n",
       "      <td>Minimal</td>\n",
       "      <td>0</td>\n",
       "      <td>0</td>\n",
       "      <td>MO</td>\n",
       "      <td>-7.730374</td>\n",
       "      <td>1.860483e-08</td>\n",
       "      <td>-500000.000000</td>\n",
       "      <td>Simulation, EZ rich media</td>\n",
       "    </tr>\n",
       "    <tr>\n",
       "      <th>1</th>\n",
       "      <td>Minimal</td>\n",
       "      <td>0</td>\n",
       "      <td>0</td>\n",
       "      <td>ZN</td>\n",
       "      <td>-6.903050</td>\n",
       "      <td>1.250115e-07</td>\n",
       "      <td>-500000.000000</td>\n",
       "      <td>Simulation, EZ rich media</td>\n",
       "    </tr>\n",
       "    <tr>\n",
       "      <th>2</th>\n",
       "      <td>Minimal</td>\n",
       "      <td>0</td>\n",
       "      <td>0</td>\n",
       "      <td>CU</td>\n",
       "      <td>-7.208921</td>\n",
       "      <td>6.181290e-08</td>\n",
       "      <td>-500000.000000</td>\n",
       "      <td>Simulation, EZ rich media</td>\n",
       "    </tr>\n",
       "    <tr>\n",
       "      <th>3</th>\n",
       "      <td>Minimal</td>\n",
       "      <td>0</td>\n",
       "      <td>0</td>\n",
       "      <td>NI</td>\n",
       "      <td>-7.707702</td>\n",
       "      <td>1.960187e-08</td>\n",
       "      <td>-500000.000000</td>\n",
       "      <td>Simulation, EZ rich media</td>\n",
       "    </tr>\n",
       "    <tr>\n",
       "      <th>4</th>\n",
       "      <td>Minimal</td>\n",
       "      <td>1</td>\n",
       "      <td>0</td>\n",
       "      <td>CO</td>\n",
       "      <td>-8.342515</td>\n",
       "      <td>4.544486e-09</td>\n",
       "      <td>-500000.000000</td>\n",
       "      <td>Simulation, EZ rich media</td>\n",
       "    </tr>\n",
       "    <tr>\n",
       "      <th>5</th>\n",
       "      <td>Minimal</td>\n",
       "      <td>1</td>\n",
       "      <td>0</td>\n",
       "      <td>FE</td>\n",
       "      <td>-6.460629</td>\n",
       "      <td>3.462353e-07</td>\n",
       "      <td>-500000.000000</td>\n",
       "      <td>Simulation, EZ rich media</td>\n",
       "    </tr>\n",
       "    <tr>\n",
       "      <th>6</th>\n",
       "      <td>Minimal</td>\n",
       "      <td>0</td>\n",
       "      <td>0</td>\n",
       "      <td>MN</td>\n",
       "      <td>-7.685031</td>\n",
       "      <td>2.065235e-08</td>\n",
       "      <td>-500000.000000</td>\n",
       "      <td>Simulation, EZ rich media</td>\n",
       "    </tr>\n",
       "    <tr>\n",
       "      <th>7</th>\n",
       "      <td>Minimal</td>\n",
       "      <td>0</td>\n",
       "      <td>0</td>\n",
       "      <td>CR</td>\n",
       "      <td>-6.687467</td>\n",
       "      <td>2.053679e-07</td>\n",
       "      <td>-500000.000000</td>\n",
       "      <td>Simulation, EZ rich media</td>\n",
       "    </tr>\n",
       "    <tr>\n",
       "      <th>8</th>\n",
       "      <td>Minimal</td>\n",
       "      <td>0</td>\n",
       "      <td>0</td>\n",
       "      <td>V</td>\n",
       "      <td>-7.707504</td>\n",
       "      <td>1.961085e-08</td>\n",
       "      <td>-500000.000000</td>\n",
       "      <td>Simulation, EZ rich media</td>\n",
       "    </tr>\n",
       "    <tr>\n",
       "      <th>9</th>\n",
       "      <td>Rich</td>\n",
       "      <td>0</td>\n",
       "      <td>0</td>\n",
       "      <td>MO</td>\n",
       "      <td>-6.522642</td>\n",
       "      <td>3.001637e-07</td>\n",
       "      <td>516453.080545</td>\n",
       "      <td>Experiment, LB rich media</td>\n",
       "    </tr>\n",
       "    <tr>\n",
       "      <th>10</th>\n",
       "      <td>Rich</td>\n",
       "      <td>0</td>\n",
       "      <td>0</td>\n",
       "      <td>ZN</td>\n",
       "      <td>-4.931786</td>\n",
       "      <td>1.170077e-05</td>\n",
       "      <td>-500000.000000</td>\n",
       "      <td>Experiment, LB rich media</td>\n",
       "    </tr>\n",
       "    <tr>\n",
       "      <th>11</th>\n",
       "      <td>Rich</td>\n",
       "      <td>0</td>\n",
       "      <td>0</td>\n",
       "      <td>CU</td>\n",
       "      <td>-6.840925</td>\n",
       "      <td>1.442363e-07</td>\n",
       "      <td>248168.822328</td>\n",
       "      <td>Experiment, LB rich media</td>\n",
       "    </tr>\n",
       "    <tr>\n",
       "      <th>12</th>\n",
       "      <td>Rich</td>\n",
       "      <td>0</td>\n",
       "      <td>0</td>\n",
       "      <td>NI</td>\n",
       "      <td>-6.954561</td>\n",
       "      <td>1.110297e-07</td>\n",
       "      <td>191034.461764</td>\n",
       "      <td>Experiment, LB rich media</td>\n",
       "    </tr>\n",
       "    <tr>\n",
       "      <th>13</th>\n",
       "      <td>Rich</td>\n",
       "      <td>0</td>\n",
       "      <td>0</td>\n",
       "      <td>CO</td>\n",
       "      <td>-6.818080</td>\n",
       "      <td>1.520267e-07</td>\n",
       "      <td>261572.863674</td>\n",
       "      <td>Experiment, LB rich media</td>\n",
       "    </tr>\n",
       "    <tr>\n",
       "      <th>14</th>\n",
       "      <td>Rich</td>\n",
       "      <td>0</td>\n",
       "      <td>0</td>\n",
       "      <td>FE</td>\n",
       "      <td>-5.272686</td>\n",
       "      <td>5.337203e-06</td>\n",
       "      <td>-500000.000000</td>\n",
       "      <td>Experiment, LB rich media</td>\n",
       "    </tr>\n",
       "    <tr>\n",
       "      <th>15</th>\n",
       "      <td>Rich</td>\n",
       "      <td>0</td>\n",
       "      <td>0</td>\n",
       "      <td>MN</td>\n",
       "      <td>-6.795354</td>\n",
       "      <td>1.601939e-07</td>\n",
       "      <td>275624.974698</td>\n",
       "      <td>Experiment, LB rich media</td>\n",
       "    </tr>\n",
       "    <tr>\n",
       "      <th>16</th>\n",
       "      <td>Rich</td>\n",
       "      <td>0</td>\n",
       "      <td>0</td>\n",
       "      <td>CR</td>\n",
       "      <td>-5.499953</td>\n",
       "      <td>3.162621e-06</td>\n",
       "      <td>-500000.000000</td>\n",
       "      <td>Experiment, LB rich media</td>\n",
       "    </tr>\n",
       "    <tr>\n",
       "      <th>17</th>\n",
       "      <td>Rich</td>\n",
       "      <td>0</td>\n",
       "      <td>0</td>\n",
       "      <td>V</td>\n",
       "      <td>-5.840933</td>\n",
       "      <td>1.442338e-06</td>\n",
       "      <td>-500000.000000</td>\n",
       "      <td>Experiment, LB rich media</td>\n",
       "    </tr>\n",
       "  </tbody>\n",
       "</table>\n",
       "</div>"
      ]
     },
     "execution_count": 188,
     "metadata": {},
     "output_type": "execute_result"
    }
   ],
   "execution_count": 188
  },
  {
   "cell_type": "code",
   "source": [
    "# find the indices of \"FE\", \"ZN\", \"MN\", \"CU\", \"MO\", \"NI\", \"CO\":\n",
    "elements = [\"FE\", \"ZN\", \"MN\", \"CU\"]\n",
    "element_indices = [np.where(element_ids == element)[0][0] for element in elements]\n",
    "\n",
    "# compute the timeseries for the elements\n",
    "element_timeseries = total_counts @ C @ P @ E[:, element_indices]\n",
    "\n",
    "# convert to polars dataframe\n",
    "element_df = pl.DataFrame(element_timeseries, schema=elements)\n",
    "\n",
    "# melt to long form\n",
    "element_df = element_df.melt(id_vars=None, value_name=\"Atoms/cell\", variable_name=\"Element\")\n",
    "\n",
    "\n",
    "# temporarily modify val_df to have 0 at the minimal condition\n",
    "val_df_copy = val_df.clone()\n",
    "val_df_copy = val_df_copy.with_columns(pl.when(pl.col(\"Condition\") == \"Minimal\").then(-500000).otherwise(pl.col(\"Atoms/cell\")).alias(\"Atoms/cell\"))\n",
    "\n",
    "\n",
    "\n",
    "\n",
    "# add artificial column to separate validation from element_df\n",
    "val_df_copy = val_df_copy.with_columns(pl.when(pl.col(\"Condition\") == \"Minimal\").then(pl.lit(rich_sim_caption)).otherwise(pl.lit(rich_exp_caption)).alias(\"Type\"))\n",
    "\n",
    "\n",
    "g = sns.catplot(data=val_df_copy.to_pandas(), x=\"Element\", y=\"Atoms/cell\", \n",
    "            hue=\"Type\",  kind=\"point\", aspect=2, order=elements, join=False, \n",
    "                dodge=.4, hue_order=[rich_exp_caption, rich_sim_caption], legend=False, height=figure_height)\n",
    "\n",
    "\n",
    "\n",
    "element_df = element_df.with_columns(Condition = pl.lit(\"Minimal\"))\n",
    "element_df = element_df.with_columns(Type = pl.lit(rich_sim_caption))\n",
    "element_df = pl.concat([element_df, pl.DataFrame({\"Element\": \"FE\", \"Atoms/cell\": -500000, \"Condition\": \"Rich\", \"Type\": rich_exp_caption})])  \n",
    "element_df\n",
    "\n",
    "# stupid workaround to plot errorbars\n",
    "for ax in g.axes[0]:\n",
    "    for path in ax.collections:\n",
    "        points = path.get_offsets()\n",
    "    all_x_values = [path.get_offsets()[:, 0] for path in ax.collections]\n",
    "    all_y_values = [path.get_offsets()[:, 1] for path in ax.collections]\n",
    "    \n",
    "x_coords = list(all_x_values[0]) # list(all_x_values[0]) + \n",
    "y_coords = list(all_y_values[0]) # list(all_y_values[0]) +\n",
    "error_vals = [val_df.filter((pl.col(\"Condition\") == \"Rich\") & (pl.col(\"Element\") == element))[0,\"Error\"] for element in elements]\n",
    "\n",
    "# add errorbar plot at these coords\n",
    "plt.errorbar(x = x_coords, y = y_coords, yerr=error_vals, fmt='none', c= 'black', capsize = 2)\n",
    "\n",
    "# g.map_dataframe(sns.boxplot, data=element_df.to_pandas(), x=\"Element\", y=\"Atoms/cell\", \n",
    "#             hue=\"Condition\")\n",
    "\n",
    "g.map(sns.pointplot, data=media_lim_df_copy.to_pandas(), x=\"Element\", y=\"Atoms/cell\", \n",
    "            hue=\"Type\", hue_order=[rich_exp_caption, rich_sim_caption], join=False, dodge=.4, label=\"Media limit\", order=elements, markers=['v', None])\n",
    "\n",
    "ax = g.map(sns.pointplot, data=ez_df_copy.to_pandas(), x=\"Element\", y=\"Atoms/cell\", \n",
    "            hue=\"Type\", hue_order=[rich_exp_caption, rich_sim_caption], join=False, dodge=.4, label=\"Media limit\", order=elements, markers=[None, 'v'])\n",
    "\n",
    "ax = g.map(sns.boxplot, data=element_df.to_pandas(), x=\"Element\", y=\"Atoms/cell\", \n",
    "            hue=\"Type\", hue_order=[rich_exp_caption, rich_sim_caption], order=elements)\n",
    "\n",
    "plt.ylim(-50000, None)\n",
    "\n",
    "\n",
    "plt.legend(handles=[mpatches.Patch(color=sns.color_palette(\"Set2\")[0], label=rich_exp_caption),\n",
    "                    mpatches.Patch(color=sns.color_palette(\"Set2\")[1], label=rich_sim_caption)])\n",
    "\n",
    "# change the color used to the first color of the set2 palette\n",
    "# ax.get_legend().get_texts()[0].set_color(sns.color_palette(\"Set2\")[0])\n",
    "\n",
    "# sns.move_legend(\n",
    "#     g, \"lower center\",\n",
    "#     bbox_to_anchor=(.67, .75), ncol=1, title=\"Condition\", frameon=True,\n",
    "# )\n",
    "\n",
    "# plt.yscale(\"log\")"
   ],
   "metadata": {
    "collapsed": false,
    "ExecuteTime": {
     "end_time": "2024-05-14T18:06:15.150155Z",
     "start_time": "2024-05-14T18:06:14.874788Z"
    }
   },
   "id": "5da725bdd216e507",
   "outputs": [
    {
     "data": {
      "text/plain": [
       "<matplotlib.legend.Legend at 0x2816c6ec0>"
      ]
     },
     "execution_count": 189,
     "metadata": {},
     "output_type": "execute_result"
    },
    {
     "data": {
      "text/plain": [
       "<Figure size 600x300 with 1 Axes>"
      ],
      "image/png": "[encoded data removed]"
     },
     "metadata": {},
     "output_type": "display_data"
    }
   ],
   "execution_count": 189
  },
  {
   "cell_type": "code",
   "source": [
    "\n",
    "\n",
    "# find the indices of \"FE\", \"ZN\", \"MN\", \"CU\", \"MO\", \"NI\", \"CO\":\n",
    "elements = [\"MO\", \"NI\", \"CO\"]\n",
    "element_indices = [np.where(element_ids == element)[0][0] for element in elements]\n",
    "\n",
    "# compute the timeseries for the elements\n",
    "element_timeseries = total_counts @ C @ P @ E[:, element_indices]\n",
    "\n",
    "# convert to polars dataframe\n",
    "element_df = pl.DataFrame(element_timeseries, schema=elements)\n",
    "\n",
    "# melt to long form\n",
    "element_df = element_df.melt(id_vars=None, value_name=\"Atoms/cell\", variable_name=\"Element\")\n",
    "\n",
    "\n",
    "# temporarily modify val_df to have 0 at the minimal condition\n",
    "val_df_copy = val_df.clone()\n",
    "val_df_copy = val_df_copy.with_columns(pl.when(pl.col(\"Condition\") == \"Minimal\").then(-500000).otherwise(pl.col(\"Atoms/cell\")).alias(\"Atoms/cell\"))\n",
    "\n",
    "\n",
    "\n",
    "\n",
    "# add artificial column to separate validation from element_df\n",
    "val_df_copy = val_df_copy.with_columns(pl.when(pl.col(\"Condition\") == \"Minimal\").then(pl.lit(rich_sim_caption)).otherwise(pl.lit(rich_exp_caption)).alias(\"Type\"))\n",
    "\n",
    "\n",
    "g = sns.catplot(data=val_df_copy.to_pandas(), x=\"Element\", y=\"Atoms/cell\", \n",
    "            hue=\"Type\",  kind=\"point\", aspect=1.5, order=elements, join=False, dodge=.4, \n",
    "                hue_order=[rich_exp_caption, rich_sim_caption], legend=False, height=figure_height)\n",
    "\n",
    "\n",
    "\n",
    "element_df = element_df.with_columns(Condition = pl.lit(\"Minimal\"))\n",
    "element_df = element_df.with_columns(Type = pl.lit(rich_sim_caption))\n",
    "element_df = pl.concat([element_df, pl.DataFrame({\"Element\": \"FE\", \"Atoms/cell\": -500000, \"Condition\": \"Rich\", \"Type\": rich_exp_caption})])  \n",
    "element_df\n",
    "\n",
    "# stupid workaround to plot errorbars\n",
    "for ax in g.axes[0]:\n",
    "    for path in ax.collections:\n",
    "        points = path.get_offsets()\n",
    "    all_x_values = [path.get_offsets()[:, 0] for path in ax.collections]\n",
    "    all_y_values = [path.get_offsets()[:, 1] for path in ax.collections]\n",
    "    \n",
    "x_coords = list(all_x_values[0]) # list(all_x_values[0]) + \n",
    "y_coords = list(all_y_values[0]) # list(all_y_values[0]) +\n",
    "error_vals = [val_df.filter((pl.col(\"Condition\") == \"Rich\") & (pl.col(\"Element\") == element))[0,\"Error\"] for element in elements]\n",
    "\n",
    "# add errorbar plot at these coords\n",
    "plt.errorbar(x = x_coords, y = y_coords, yerr=error_vals, fmt='none', c= 'black', capsize = 2)\n",
    "\n",
    "# g.map_dataframe(sns.boxplot, data=element_df.to_pandas(), x=\"Element\", y=\"Atoms/cell\", \n",
    "#             hue=\"Condition\")\n",
    "\n",
    "g.map(sns.pointplot, data=media_lim_df_copy.to_pandas(), x=\"Element\", y=\"Atoms/cell\", \n",
    "            hue=\"Type\", hue_order=[rich_exp_caption, rich_sim_caption], join=False, dodge=.4, label=\"Media limit\", order=elements, markers=['v', None])\n",
    "\n",
    "g.map(sns.pointplot, data=ez_df_copy.to_pandas(), x=\"Element\", y=\"Atoms/cell\", \n",
    "            hue=\"Type\", hue_order=[rich_exp_caption, rich_sim_caption], join=False, dodge=.4, label=\"Media limit\", order=elements, markers=[None, 'v'])\n",
    "\n",
    "g.map(sns.boxplot, data=element_df.to_pandas(), x=\"Element\", y=\"Atoms/cell\", \n",
    "            hue=\"Type\", hue_order=[rich_exp_caption, rich_sim_caption], order=elements)\n",
    "\n",
    "# modify legend\n",
    "plt.legend(handles=[mpatches.Patch(color=sns.color_palette(\"Set2\")[0], label=rich_exp_caption),\n",
    "                    mpatches.Patch(color=sns.color_palette(\"Set2\")[1], label=rich_sim_caption)])\n",
    "\n",
    "plt.ylim(-1000, 20000)\n",
    "\n",
    "# plt.yscale(\"log\")"
   ],
   "metadata": {
    "collapsed": false,
    "ExecuteTime": {
     "end_time": "2024-05-14T18:06:15.398922Z",
     "start_time": "2024-05-14T18:06:15.152820Z"
    }
   },
   "id": "36bbfc3a77a5d673",
   "outputs": [
    {
     "data": {
      "text/plain": [
       "(-1000.0, 20000.0)"
      ]
     },
     "execution_count": 190,
     "metadata": {},
     "output_type": "execute_result"
    },
    {
     "data": {
      "text/plain": [
       "<Figure size 450x300 with 1 Axes>"
      ],
      "image/png": "[encoded data removed]"
     },
     "metadata": {},
     "output_type": "display_data"
    }
   ],
   "execution_count": 190
  },
  {
   "metadata": {},
   "cell_type": "markdown",
   "source": "# Add biologically unnecessary trace elements ",
   "id": "6bbd9a824cf8d742"
  },
  {
   "metadata": {
    "ExecuteTime": {
     "end_time": "2024-05-14T18:06:15.403635Z",
     "start_time": "2024-05-14T18:06:15.399729Z"
    }
   },
   "cell_type": "code",
   "source": [
    "# find the indices of \"FE\", \"ZN\", \"MN\", \"CU\", \"MO\", \"NI\", \"CO\":\n",
    "elements = [\"V\", \"CR\"]\n",
    "estimated_counts = np.zeros([2,1], dtype=np.int64)\n",
    "# convert to polars dataframe\n",
    "element_df = pl.DataFrame(estimated_counts, schema=elements)\n",
    "\n",
    "# melt to long form\n",
    "element_df = element_df.melt(id_vars=None, value_name=\"Atoms/cell\", variable_name=\"Element\")\n",
    "element_df"
   ],
   "id": "47dea71e9a52eca6",
   "outputs": [
    {
     "data": {
      "text/plain": [
       "shape: (2, 2)\n",
       "┌─────────┬────────────┐\n",
       "│ Element ┆ Atoms/cell │\n",
       "│ ---     ┆ ---        │\n",
       "│ str     ┆ i64        │\n",
       "╞═════════╪════════════╡\n",
       "│ V       ┆ 0          │\n",
       "│ CR      ┆ 0          │\n",
       "└─────────┴────────────┘"
      ],
      "text/html": [
       "<div><style>\n",
       ".dataframe > thead > tr,\n",
       ".dataframe > tbody > tr {\n",
       "  text-align: right;\n",
       "  white-space: pre-wrap;\n",
       "}\n",
       "</style>\n",
       "<small>shape: (2, 2)</small><table border=\"1\" class=\"dataframe\"><thead><tr><th>Element</th><th>Atoms/cell</th></tr><tr><td>str</td><td>i64</td></tr></thead><tbody><tr><td>&quot;V&quot;</td><td>0</td></tr><tr><td>&quot;CR&quot;</td><td>0</td></tr></tbody></table></div>"
      ]
     },
     "execution_count": 191,
     "metadata": {},
     "output_type": "execute_result"
    }
   ],
   "execution_count": 191
  },
  {
   "metadata": {
    "ExecuteTime": {
     "end_time": "2024-05-14T18:06:15.621177Z",
     "start_time": "2024-05-14T18:06:15.404587Z"
    }
   },
   "cell_type": "code",
   "source": [
    "\n",
    "# temporarily modify val_df to have 0 at the minimal condition\n",
    "val_df_copy = val_df.clone()\n",
    "val_df_copy = val_df_copy.with_columns(pl.when(pl.col(\"Condition\") == \"Minimal\").then(-500000).otherwise(pl.col(\"Atoms/cell\")).alias(\"Atoms/cell\"))\n",
    "\n",
    "\n",
    "\n",
    "\n",
    "# add artificial column to separate validation from element_df\n",
    "val_df_copy = val_df_copy.with_columns(pl.when(pl.col(\"Condition\") == \"Minimal\").then(pl.lit(rich_sim_caption)).otherwise(pl.lit(rich_exp_caption)).alias(\"Type\"))\n",
    "\n",
    "\n",
    "g = sns.catplot(data=val_df_copy.to_pandas(), x=\"Element\", y=\"Atoms/cell\", \n",
    "            hue=\"Type\",  kind=\"point\", aspect=1, order=elements, join=False, dodge=.4, \n",
    "                hue_order=[rich_exp_caption, rich_sim_caption], legend=False, height=figure_height)\n",
    "\n",
    "\n",
    "\n",
    "element_df = element_df.with_columns(Condition = pl.lit(\"Minimal\"))\n",
    "element_df = element_df.with_columns(Type = pl.lit(rich_sim_caption))\n",
    "element_df = pl.concat([element_df, pl.DataFrame({\"Element\": \"FE\", \"Atoms/cell\": -500000, \"Condition\": \"Rich\", \"Type\": rich_exp_caption})])  \n",
    "element_df\n",
    "\n",
    "# stupid workaround to plot errorbars\n",
    "for ax in g.axes[0]:\n",
    "    for path in ax.collections:\n",
    "        points = path.get_offsets()\n",
    "    all_x_values = [path.get_offsets()[:, 0] for path in ax.collections]\n",
    "    all_y_values = [path.get_offsets()[:, 1] for path in ax.collections]\n",
    "    \n",
    "x_coords = list(all_x_values[0]) # list(all_x_values[0]) + \n",
    "y_coords = list(all_y_values[0]) # list(all_y_values[0]) +\n",
    "error_vals = [val_df.filter((pl.col(\"Condition\") == \"Rich\") & (pl.col(\"Element\") == element))[0,\"Error\"] for element in elements]\n",
    "\n",
    "# add errorbar plot at these coords\n",
    "plt.errorbar(x = x_coords, y = y_coords, yerr=error_vals, fmt='none', c= 'black', capsize = 2)\n",
    "\n",
    "# g.map_dataframe(sns.boxplot, data=element_df.to_pandas(), x=\"Element\", y=\"Atoms/cell\", \n",
    "#             hue=\"Condition\")\n",
    "\n",
    "g.map(sns.pointplot, data=media_lim_df_copy.to_pandas(), x=\"Element\", y=\"Atoms/cell\", \n",
    "            hue=\"Type\", hue_order=[rich_exp_caption, rich_sim_caption], join=False, dodge=.4, label=\"Media limit\", order=elements, markers=['v', None])\n",
    "\n",
    "g.map(sns.pointplot, data=ez_df_copy.to_pandas(), x=\"Element\", y=\"Atoms/cell\", \n",
    "            hue=\"Type\", hue_order=[rich_exp_caption, rich_sim_caption], join=False, dodge=.4, label=\"Media limit\", order=elements, markers=[None, 'v'])\n",
    "\n",
    "g.map(sns.pointplot, data=element_df.to_pandas(), x=\"Element\", y=\"Atoms/cell\", \n",
    "            hue=\"Type\", hue_order=[rich_exp_caption, rich_sim_caption], order=elements, join=False, dodge=.4,)\n",
    "\n",
    "# modify legend\n",
    "plt.legend(handles=[mpatches.Patch(color=sns.color_palette(\"Set2\")[0], label=rich_exp_caption),\n",
    "                    mpatches.Patch(color=sns.color_palette(\"Set2\")[1], label=rich_sim_caption)])\n",
    "\n",
    "plt.ylim(-1000, 20000)\n",
    "\n",
    "# plt.yscale(\"log\")"
   ],
   "id": "36ce51cf961900a7",
   "outputs": [
    {
     "data": {
      "text/plain": [
       "(-1000.0, 20000.0)"
      ]
     },
     "execution_count": 192,
     "metadata": {},
     "output_type": "execute_result"
    },
    {
     "data": {
      "text/plain": [
       "<Figure size 300x300 with 1 Axes>"
      ],
      "image/png": "[encoded data removed]"
     },
     "metadata": {},
     "output_type": "display_data"
    }
   ],
   "execution_count": 192
  },
  {
   "cell_type": "markdown",
   "source": [
    "## Final minimal plot"
   ],
   "metadata": {
    "collapsed": false
   },
   "id": "279de448633f96b8"
  },
  {
   "cell_type": "code",
   "source": [
    "element_df"
   ],
   "metadata": {
    "collapsed": false,
    "ExecuteTime": {
     "end_time": "2024-05-14T18:06:15.625849Z",
     "start_time": "2024-05-14T18:06:15.622118Z"
    }
   },
   "id": "e457ccdce353e0d3",
   "outputs": [
    {
     "data": {
      "text/plain": [
       "shape: (3, 4)\n",
       "┌─────────┬────────────┬───────────┬───────────────────────────┐\n",
       "│ Element ┆ Atoms/cell ┆ Condition ┆ Type                      │\n",
       "│ ---     ┆ ---        ┆ ---       ┆ ---                       │\n",
       "│ str     ┆ i64        ┆ str       ┆ str                       │\n",
       "╞═════════╪════════════╪═══════════╪═══════════════════════════╡\n",
       "│ V       ┆ 0          ┆ Minimal   ┆ Simulation, EZ rich media │\n",
       "│ CR      ┆ 0          ┆ Minimal   ┆ Simulation, EZ rich media │\n",
       "│ FE      ┆ -500000    ┆ Rich      ┆ Experiment, LB rich media │\n",
       "└─────────┴────────────┴───────────┴───────────────────────────┘"
      ],
      "text/html": [
       "<div><style>\n",
       ".dataframe > thead > tr,\n",
       ".dataframe > tbody > tr {\n",
       "  text-align: right;\n",
       "  white-space: pre-wrap;\n",
       "}\n",
       "</style>\n",
       "<small>shape: (3, 4)</small><table border=\"1\" class=\"dataframe\"><thead><tr><th>Element</th><th>Atoms/cell</th><th>Condition</th><th>Type</th></tr><tr><td>str</td><td>i64</td><td>str</td><td>str</td></tr></thead><tbody><tr><td>&quot;V&quot;</td><td>0</td><td>&quot;Minimal&quot;</td><td>&quot;Simulation, EZ…</td></tr><tr><td>&quot;CR&quot;</td><td>0</td><td>&quot;Minimal&quot;</td><td>&quot;Simulation, EZ…</td></tr><tr><td>&quot;FE&quot;</td><td>-500000</td><td>&quot;Rich&quot;</td><td>&quot;Experiment, LB…</td></tr></tbody></table></div>"
      ]
     },
     "execution_count": 193,
     "metadata": {},
     "output_type": "execute_result"
    }
   ],
   "execution_count": 193
  },
  {
   "cell_type": "code",
   "source": [
    "elements = [\"FE\", \"ZN\", \"MN\", \"CU\", \"MO\", \"NI\", \"CO\"]\n",
    "\n",
    "# copy ez_df to have 0 at the minimal condition\n",
    "ez_df_copy = ez_df.clone().filter(pl.col(\"Element\").is_in(elements))\n",
    "ez_df_copy = ez_df_copy.with_columns(pl.when(pl.col(\"Condition\") == \"Rich\").then(-500000).otherwise(pl.col(\"Atoms/cell\")).alias(\"Atoms/cell\"))\n",
    "ez_df_copy = ez_df_copy.with_columns(pl.when(pl.col(\"Condition\") == \"Rich\").then(pl.lit(minimal_exp_caption)).otherwise(pl.lit(minimal_sim_caption)).alias(\"Type\"))\n",
    "\n",
    "# zero values above 800000\n",
    "ez_df_copy = ez_df_copy.with_columns(pl.when(pl.col(\"Atoms/cell\") > 800000).then(-500000).otherwise(pl.col(\"Atoms/cell\")).alias(\"Atoms/cell\"))"
   ],
   "metadata": {
    "collapsed": false,
    "ExecuteTime": {
     "end_time": "2024-05-14T18:06:15.633953Z",
     "start_time": "2024-05-14T18:06:15.628248Z"
    }
   },
   "id": "6b6d8f8bfffca614",
   "outputs": [],
   "execution_count": 194
  },
  {
   "cell_type": "code",
   "source": [
    "# temporarily modify media_lim_df to have 0 at the minimal condition\n",
    "media_lim_df_copy = media_lim_df.clone().filter(pl.col(\"Element\").is_in(elements))\n",
    "media_lim_df_copy = media_lim_df_copy.with_columns(pl.when(pl.col(\"Condition\") == \"Rich\").then(-500000).otherwise(pl.col(\"Atoms/cell\")).alias(\"Atoms/cell\"))\n",
    "media_lim_df_copy = media_lim_df_copy.with_columns(pl.when(pl.col(\"Condition\") == \"Rich\").then(pl.lit(minimal_sim_caption)).otherwise(pl.lit(minimal_exp_caption)).alias(\"Type\"))\n",
    "# zero values above 800000\n",
    "media_lim_df_copy = media_lim_df_copy.with_columns(pl.when(pl.col(\"Atoms/cell\") > 500000).then(-500000).otherwise(pl.col(\"Atoms/cell\")).alias(\"Atoms/cell\"))\n",
    "\n",
    "media_lim_df_copy.to_pandas()"
   ],
   "metadata": {
    "collapsed": false,
    "ExecuteTime": {
     "end_time": "2024-05-14T18:06:15.643728Z",
     "start_time": "2024-05-14T18:06:15.635134Z"
    }
   },
   "id": "79cbafe3564d43e3",
   "outputs": [
    {
     "data": {
      "text/plain": [
       "   Condition  Below LOD  Cell Element  Log concentration  Concentration (M)  \\\n",
       "0    Minimal          0     0      MO          -7.730374       1.860483e-08   \n",
       "1    Minimal          0     0      ZN          -6.903050       1.250115e-07   \n",
       "2    Minimal          0     0      CU          -7.208921       6.181290e-08   \n",
       "3    Minimal          0     0      NI          -7.707702       1.960187e-08   \n",
       "4    Minimal          1     0      CO          -8.342515       4.544486e-09   \n",
       "5    Minimal          1     0      FE          -6.460629       3.462353e-07   \n",
       "6    Minimal          0     0      MN          -7.685031       2.065235e-08   \n",
       "7       Rich          0     0      MO          -6.522642       3.001637e-07   \n",
       "8       Rich          0     0      ZN          -4.931786       1.170077e-05   \n",
       "9       Rich          0     0      CU          -6.840925       1.442363e-07   \n",
       "10      Rich          0     0      NI          -6.954561       1.110297e-07   \n",
       "11      Rich          0     0      CO          -6.818080       1.520267e-07   \n",
       "12      Rich          0     0      FE          -5.272686       5.337203e-06   \n",
       "13      Rich          0     0      MN          -6.795354       1.601939e-07   \n",
       "\n",
       "       Atoms/cell                            Type  \n",
       "0    32010.938103    Experiment, M9 minimal media  \n",
       "1   215091.142940    Experiment, M9 minimal media  \n",
       "2   106353.506190    Experiment, M9 minimal media  \n",
       "3    33726.423494    Experiment, M9 minimal media  \n",
       "4     7819.112138    Experiment, M9 minimal media  \n",
       "5  -500000.000000    Experiment, M9 minimal media  \n",
       "6    35533.842778    Experiment, M9 minimal media  \n",
       "7  -500000.000000  Simulation, MOPS minimal media  \n",
       "8  -500000.000000  Simulation, MOPS minimal media  \n",
       "9  -500000.000000  Simulation, MOPS minimal media  \n",
       "10 -500000.000000  Simulation, MOPS minimal media  \n",
       "11 -500000.000000  Simulation, MOPS minimal media  \n",
       "12 -500000.000000  Simulation, MOPS minimal media  \n",
       "13 -500000.000000  Simulation, MOPS minimal media  "
      ],
      "text/html": [
       "<div>\n",
       "<style scoped>\n",
       "    .dataframe tbody tr th:only-of-type {\n",
       "        vertical-align: middle;\n",
       "    }\n",
       "\n",
       "    .dataframe tbody tr th {\n",
       "        vertical-align: top;\n",
       "    }\n",
       "\n",
       "    .dataframe thead th {\n",
       "        text-align: right;\n",
       "    }\n",
       "</style>\n",
       "<table border=\"1\" class=\"dataframe\">\n",
       "  <thead>\n",
       "    <tr style=\"text-align: right;\">\n",
       "      <th></th>\n",
       "      <th>Condition</th>\n",
       "      <th>Below LOD</th>\n",
       "      <th>Cell</th>\n",
       "      <th>Element</th>\n",
       "      <th>Log concentration</th>\n",
       "      <th>Concentration (M)</th>\n",
       "      <th>Atoms/cell</th>\n",
       "      <th>Type</th>\n",
       "    </tr>\n",
       "  </thead>\n",
       "  <tbody>\n",
       "    <tr>\n",
       "      <th>0</th>\n",
       "      <td>Minimal</td>\n",
       "      <td>0</td>\n",
       "      <td>0</td>\n",
       "      <td>MO</td>\n",
       "      <td>-7.730374</td>\n",
       "      <td>1.860483e-08</td>\n",
       "      <td>32010.938103</td>\n",
       "      <td>Experiment, M9 minimal media</td>\n",
       "    </tr>\n",
       "    <tr>\n",
       "      <th>1</th>\n",
       "      <td>Minimal</td>\n",
       "      <td>0</td>\n",
       "      <td>0</td>\n",
       "      <td>ZN</td>\n",
       "      <td>-6.903050</td>\n",
       "      <td>1.250115e-07</td>\n",
       "      <td>215091.142940</td>\n",
       "      <td>Experiment, M9 minimal media</td>\n",
       "    </tr>\n",
       "    <tr>\n",
       "      <th>2</th>\n",
       "      <td>Minimal</td>\n",
       "      <td>0</td>\n",
       "      <td>0</td>\n",
       "      <td>CU</td>\n",
       "      <td>-7.208921</td>\n",
       "      <td>6.181290e-08</td>\n",
       "      <td>106353.506190</td>\n",
       "      <td>Experiment, M9 minimal media</td>\n",
       "    </tr>\n",
       "    <tr>\n",
       "      <th>3</th>\n",
       "      <td>Minimal</td>\n",
       "      <td>0</td>\n",
       "      <td>0</td>\n",
       "      <td>NI</td>\n",
       "      <td>-7.707702</td>\n",
       "      <td>1.960187e-08</td>\n",
       "      <td>33726.423494</td>\n",
       "      <td>Experiment, M9 minimal media</td>\n",
       "    </tr>\n",
       "    <tr>\n",
       "      <th>4</th>\n",
       "      <td>Minimal</td>\n",
       "      <td>1</td>\n",
       "      <td>0</td>\n",
       "      <td>CO</td>\n",
       "      <td>-8.342515</td>\n",
       "      <td>4.544486e-09</td>\n",
       "      <td>7819.112138</td>\n",
       "      <td>Experiment, M9 minimal media</td>\n",
       "    </tr>\n",
       "    <tr>\n",
       "      <th>5</th>\n",
       "      <td>Minimal</td>\n",
       "      <td>1</td>\n",
       "      <td>0</td>\n",
       "      <td>FE</td>\n",
       "      <td>-6.460629</td>\n",
       "      <td>3.462353e-07</td>\n",
       "      <td>-500000.000000</td>\n",
       "      <td>Experiment, M9 minimal media</td>\n",
       "    </tr>\n",
       "    <tr>\n",
       "      <th>6</th>\n",
       "      <td>Minimal</td>\n",
       "      <td>0</td>\n",
       "      <td>0</td>\n",
       "      <td>MN</td>\n",
       "      <td>-7.685031</td>\n",
       "      <td>2.065235e-08</td>\n",
       "      <td>35533.842778</td>\n",
       "      <td>Experiment, M9 minimal media</td>\n",
       "    </tr>\n",
       "    <tr>\n",
       "      <th>7</th>\n",
       "      <td>Rich</td>\n",
       "      <td>0</td>\n",
       "      <td>0</td>\n",
       "      <td>MO</td>\n",
       "      <td>-6.522642</td>\n",
       "      <td>3.001637e-07</td>\n",
       "      <td>-500000.000000</td>\n",
       "      <td>Simulation, MOPS minimal media</td>\n",
       "    </tr>\n",
       "    <tr>\n",
       "      <th>8</th>\n",
       "      <td>Rich</td>\n",
       "      <td>0</td>\n",
       "      <td>0</td>\n",
       "      <td>ZN</td>\n",
       "      <td>-4.931786</td>\n",
       "      <td>1.170077e-05</td>\n",
       "      <td>-500000.000000</td>\n",
       "      <td>Simulation, MOPS minimal media</td>\n",
       "    </tr>\n",
       "    <tr>\n",
       "      <th>9</th>\n",
       "      <td>Rich</td>\n",
       "      <td>0</td>\n",
       "      <td>0</td>\n",
       "      <td>CU</td>\n",
       "      <td>-6.840925</td>\n",
       "      <td>1.442363e-07</td>\n",
       "      <td>-500000.000000</td>\n",
       "      <td>Simulation, MOPS minimal media</td>\n",
       "    </tr>\n",
       "    <tr>\n",
       "      <th>10</th>\n",
       "      <td>Rich</td>\n",
       "      <td>0</td>\n",
       "      <td>0</td>\n",
       "      <td>NI</td>\n",
       "      <td>-6.954561</td>\n",
       "      <td>1.110297e-07</td>\n",
       "      <td>-500000.000000</td>\n",
       "      <td>Simulation, MOPS minimal media</td>\n",
       "    </tr>\n",
       "    <tr>\n",
       "      <th>11</th>\n",
       "      <td>Rich</td>\n",
       "      <td>0</td>\n",
       "      <td>0</td>\n",
       "      <td>CO</td>\n",
       "      <td>-6.818080</td>\n",
       "      <td>1.520267e-07</td>\n",
       "      <td>-500000.000000</td>\n",
       "      <td>Simulation, MOPS minimal media</td>\n",
       "    </tr>\n",
       "    <tr>\n",
       "      <th>12</th>\n",
       "      <td>Rich</td>\n",
       "      <td>0</td>\n",
       "      <td>0</td>\n",
       "      <td>FE</td>\n",
       "      <td>-5.272686</td>\n",
       "      <td>5.337203e-06</td>\n",
       "      <td>-500000.000000</td>\n",
       "      <td>Simulation, MOPS minimal media</td>\n",
       "    </tr>\n",
       "    <tr>\n",
       "      <th>13</th>\n",
       "      <td>Rich</td>\n",
       "      <td>0</td>\n",
       "      <td>0</td>\n",
       "      <td>MN</td>\n",
       "      <td>-6.795354</td>\n",
       "      <td>1.601939e-07</td>\n",
       "      <td>-500000.000000</td>\n",
       "      <td>Simulation, MOPS minimal media</td>\n",
       "    </tr>\n",
       "  </tbody>\n",
       "</table>\n",
       "</div>"
      ]
     },
     "execution_count": 195,
     "metadata": {},
     "output_type": "execute_result"
    }
   ],
   "execution_count": 195
  },
  {
   "cell_type": "code",
   "source": [
    "# find the indices of \"FE\", \"ZN\", \"MN\", \"CU\", \"MO\", \"NI\", \"CO\":\n",
    "elements = [\"FE\", \"ZN\", \"MN\", \"CU\"]\n",
    "element_indices = [np.where(element_ids == element)[0][0] for element in elements]\n",
    "\n",
    "# compute the timeseries for the elements\n",
    "element_timeseries = total_counts_min @ C @ P @ E[:, element_indices]\n",
    "\n",
    "# convert to polars dataframe\n",
    "element_df = pl.DataFrame(element_timeseries, schema=elements)\n",
    "\n",
    "# melt to long form\n",
    "element_df = element_df.melt(id_vars=None, value_name=\"Atoms/cell\", variable_name=\"Element\")\n",
    "\n",
    "\n",
    "# temporarily modify val_df to have 0 at the minimal condition\n",
    "val_df_copy = val_df.clone()\n",
    "val_df_copy = val_df_copy.with_columns(pl.when(pl.col(\"Condition\") == \"Rich\").then(-500000).otherwise(pl.col(\"Atoms/cell\")).alias(\"Atoms/cell\"))\n",
    "\n",
    "# add artificial column to separate validation from element_df\n",
    "val_df_copy = val_df_copy.with_columns(pl.when(pl.col(\"Condition\") == \"Rich\").then(pl.lit(minimal_sim_caption)).otherwise(pl.lit(minimal_exp_caption)).alias(\"Type\"))\n",
    "\n",
    "\n",
    "g = sns.catplot(data=val_df_copy.to_pandas(), x=\"Element\", y=\"Atoms/cell\", \n",
    "            hue=\"Type\",  kind=\"point\", aspect=2, order=elements, join=False, dodge=.4, height=figure_height, legend=False)\n",
    "\n",
    "element_df = element_df.with_columns(Condition = pl.lit(\"Rich\"))\n",
    "element_df = element_df.with_columns(Type = pl.lit(minimal_sim_caption))\n",
    "element_df = pl.concat([element_df, pl.DataFrame({\"Element\": \"FE\", \"Atoms/cell\": -500000, \"Condition\": \"Minimal\", \"Type\": minimal_exp_caption})])  \n",
    "element_df\n",
    "\n",
    "# stupid workaround to plot errorbars\n",
    "for ax in g.axes[0]:\n",
    "    for path in ax.collections:\n",
    "        points = path.get_offsets()\n",
    "    all_x_values = [path.get_offsets()[:, 0] for path in ax.collections]\n",
    "    all_y_values = [path.get_offsets()[:, 1] for path in ax.collections]\n",
    "    \n",
    "x_coords = list(all_x_values[0]) # list(all_x_values[0]) + \n",
    "y_coords = list(all_y_values[0]) # list(all_y_values[0]) +\n",
    "error_vals = [val_df.filter((pl.col(\"Condition\") == \"Minimal\") & (pl.col(\"Element\") == element))[0,\"Error\"] for element in elements]\n",
    "\n",
    "# add errorbar plot at these coords\n",
    "plt.errorbar(x = x_coords, y = y_coords, yerr=error_vals, fmt='none', c= 'black', capsize = 2)\n",
    "\n",
    "# g.map_dataframe(sns.boxplot, data=element_df.to_pandas(), x=\"Element\", y=\"Atoms/cell\", \n",
    "#             hue=\"Condition\")\n",
    "\n",
    "g.map(sns.pointplot, data=media_lim_df_copy.to_pandas(), x=\"Element\", y=\"Atoms/cell\", \n",
    "            hue=\"Type\", hue_order=[minimal_exp_caption, minimal_sim_caption], join=False, dodge=.4, label=\"Media limit\", order=elements, markers=['v', None])\n",
    "\n",
    "g.map(sns.pointplot, data=ez_df_copy.to_pandas(), x=\"Element\", y=\"Atoms/cell\", \n",
    "            hue=\"Type\", hue_order=[minimal_exp_caption, minimal_sim_caption], join=False, dodge=.4, label=\"Media limit\", order=elements, markers=[None, 'v'])\n",
    "\n",
    "g.map(sns.boxplot, data=element_df.to_pandas(), x=\"Element\", y=\"Atoms/cell\", \n",
    "            hue=\"Type\", hue_order=[minimal_exp_caption, minimal_sim_caption])\n",
    "\n",
    "# modify legend\n",
    "plt.legend(handles=[mpatches.Patch(color=sns.color_palette(\"Set2\")[0], label=minimal_exp_caption),\n",
    "                    mpatches.Patch(color=sns.color_palette(\"Set2\")[1], label=minimal_sim_caption)])\n",
    "\n",
    "# set lower ylim to 0\n",
    "plt.ylim(-25000, None)\n",
    "\n",
    "# plt.yscale(\"log\")"
   ],
   "metadata": {
    "collapsed": false,
    "ExecuteTime": {
     "end_time": "2024-05-14T18:06:16.000429Z",
     "start_time": "2024-05-14T18:06:15.644771Z"
    }
   },
   "id": "ccde5f08f2998905",
   "outputs": [
    {
     "data": {
      "text/plain": [
       "(-25000.0, 408777.1)"
      ]
     },
     "execution_count": 196,
     "metadata": {},
     "output_type": "execute_result"
    },
    {
     "data": {
      "text/plain": [
       "<Figure size 600x300 with 1 Axes>"
      ],
      "image/png": "[encoded data removed]"
     },
     "metadata": {},
     "output_type": "display_data"
    }
   ],
   "execution_count": 196
  },
  {
   "cell_type": "code",
   "source": [
    "# find the indices of \"FE\", \"ZN\", \"MN\", \"CU\", \"MO\", \"NI\", \"CO\":\n",
    "elements = [\"MO\", \"NI\", \"CO\"]\n",
    "element_indices = [np.where(element_ids == element)[0][0] for element in elements]\n",
    "\n",
    "# compute the timeseries for the elements\n",
    "element_timeseries = total_counts_min @ C @ P @ E[:, element_indices]\n",
    "\n",
    "# convert to polars dataframe\n",
    "element_df = pl.DataFrame(element_timeseries, schema=elements)\n",
    "\n",
    "# melt to long form\n",
    "element_df = element_df.melt(id_vars=None, value_name=\"Atoms/cell\", variable_name=\"Element\")\n",
    "\n",
    "\n",
    "# temporarily modify val_df to have 0 at the minimal condition\n",
    "val_df_copy = val_df.clone()\n",
    "val_df_copy = val_df_copy.with_columns(pl.when(pl.col(\"Condition\") == \"Rich\").then(-500000).otherwise(pl.col(\"Atoms/cell\")).alias(\"Atoms/cell\"))\n",
    "\n",
    "# add artificial column to separate validation from element_df\n",
    "val_df_copy = val_df_copy.with_columns(pl.when(pl.col(\"Condition\") == \"Rich\").then(pl.lit(minimal_sim_caption)).otherwise(pl.lit(minimal_exp_caption)).alias(\"Type\"))\n",
    "\n",
    "\n",
    "g = sns.catplot(data=val_df_copy.to_pandas(), x=\"Element\", y=\"Atoms/cell\", \n",
    "            hue=\"Type\",  kind=\"point\", aspect=1.5, order=elements, join=False, dodge=.4, height=figure_height, legend=False)\n",
    "\n",
    "element_df = element_df.with_columns(Condition = pl.lit(\"Rich\"))\n",
    "element_df = element_df.with_columns(Type = pl.lit(minimal_sim_caption))\n",
    "element_df = pl.concat([element_df, pl.DataFrame({\"Element\": \"MO\", \"Atoms/cell\": -500000, \"Condition\": \"Minimal\", \"Type\": minimal_exp_caption})])  \n",
    "element_df\n",
    "\n",
    "# stupid workaround to plot errorbars\n",
    "for ax in g.axes[0]:\n",
    "    for path in ax.collections:\n",
    "        points = path.get_offsets()\n",
    "    all_x_values = [path.get_offsets()[:, 0] for path in ax.collections]\n",
    "    all_y_values = [path.get_offsets()[:, 1] for path in ax.collections]\n",
    "    \n",
    "x_coords = list(all_x_values[0]) # list(all_x_values[0]) + \n",
    "y_coords = list(all_y_values[0]) # list(all_y_values[0]) +\n",
    "error_vals = [val_df.filter((pl.col(\"Condition\") == \"Minimal\") & (pl.col(\"Element\") == element))[0,\"Error\"] for element in elements]\n",
    "\n",
    "# add errorbar plot at these coords\n",
    "plt.errorbar(x = x_coords, y = y_coords, yerr=error_vals, fmt='none', c= 'black', capsize = 2)\n",
    "\n",
    "# g.map_dataframe(sns.boxplot, data=element_df.to_pandas(), x=\"Element\", y=\"Atoms/cell\", \n",
    "#             hue=\"Condition\")\n",
    "\n",
    "g.map(sns.pointplot, data=media_lim_df_copy.to_pandas(), x=\"Element\", y=\"Atoms/cell\", \n",
    "            hue=\"Type\", hue_order=[minimal_exp_caption, minimal_sim_caption], join=False, dodge=.4, label=\"Media limit\", order=elements, markers=['v', None])\n",
    "\n",
    "g.map(sns.pointplot, data=ez_df_copy.to_pandas(), x=\"Element\", y=\"Atoms/cell\", \n",
    "            hue=\"Type\", hue_order=[minimal_exp_caption, minimal_sim_caption], join=False, dodge=.4, label=\"Media limit\", order=elements, markers=[None, 'v'])\n",
    "\n",
    "g.map(sns.boxplot, data=element_df.to_pandas(), x=\"Element\", y=\"Atoms/cell\", \n",
    "            hue=\"Type\", hue_order=[minimal_exp_caption, minimal_sim_caption])\n",
    "\n",
    "# modify legend\n",
    "plt.legend(handles=[mpatches.Patch(color=sns.color_palette(\"Set2\")[0], label=minimal_exp_caption),\n",
    "                    mpatches.Patch(color=sns.color_palette(\"Set2\")[1], label=minimal_sim_caption)])\n",
    "\n",
    "# set lower ylim to 0\n",
    "plt.ylim(-500, 10000)\n",
    "\n",
    "# plt.yscale(\"log\")"
   ],
   "metadata": {
    "collapsed": false,
    "ExecuteTime": {
     "end_time": "2024-05-14T18:06:16.247791Z",
     "start_time": "2024-05-14T18:06:16.001224Z"
    }
   },
   "id": "e6768fa231c35cdc",
   "outputs": [
    {
     "data": {
      "text/plain": [
       "(-500.0, 10000.0)"
      ]
     },
     "execution_count": 197,
     "metadata": {},
     "output_type": "execute_result"
    },
    {
     "data": {
      "text/plain": [
       "<Figure size 450x300 with 1 Axes>"
      ],
      "image/png": "[encoded data removed]"
     },
     "metadata": {},
     "output_type": "display_data"
    }
   ],
   "execution_count": 197
  },
  {
   "cell_type": "markdown",
   "source": [
    "# Single-cell data"
   ],
   "metadata": {
    "collapsed": false
   },
   "id": "c84c03063e8dd8c4"
  },
  {
   "cell_type": "code",
   "source": [
    "elements = [\"FE\", \"ZN\", \"MN\", \"CU\", \"MO\", \"NI\", \"CO\"]\n",
    "element_indices = [np.where(element_ids == element)[0][0] for element in elements]\n",
    "\n",
    "sc_df = pl.read_csv('external_data/single_cell_fe.csv')\n",
    "\n",
    "# remove the first row\n",
    "# sc_df = sc_df.filter((pl.col(\"Bin\") > 16) & (pl.col(\"Bin\") < 60))\n",
    "\n",
    "# create 1d list of all bins with comprehension\n",
    "bins = sc_df[\"Bin\"].to_numpy()\n",
    "counts = sc_df[\"Count\"].to_numpy()\n",
    "\n",
    "# create a list with bin value repeated counts times\n",
    "real_hist_data = np.repeat(bins, counts)"
   ],
   "metadata": {
    "collapsed": false,
    "ExecuteTime": {
     "end_time": "2024-05-14T18:06:16.252867Z",
     "start_time": "2024-05-14T18:06:16.248621Z"
    }
   },
   "id": "a5a6bf7df2c0370e",
   "outputs": [],
   "execution_count": 198
  },
  {
   "cell_type": "code",
   "source": [
    "# compute the timeseries for the elements\n",
    "big_element_timeseries = total_counts_big[:, 1:-1] @ C @ P @ E[:, element_indices]\n",
    "\n",
    "# convert to polars dataframe\n",
    "big_element_df = pl.DataFrame(big_element_timeseries, schema=elements)\n",
    "\n",
    "# add Timestep and Cell index from total_counts_big \n",
    "big_element_df = big_element_df.with_columns(pl.DataFrame(total_counts_big[:, [0, -1]], schema=[\"Timestep\", \"Cell index\"]))\n",
    "big_element_df\n",
    "\n",
    "# Groupby cell index, then add the max timestep for each cell\n",
    "max_timestep = big_element_df.group_by(\"Cell index\").agg(pl.col(\"Timestep\").max().alias(\"Max timestep\"))\n",
    "\n",
    "# merge with original\n",
    "big_element_df = big_element_df.join(max_timestep, on=\"Cell index\")\n",
    "\n",
    "# calculate cell density correction factor with 2 ^((Max timestep - Timestep)/Max timestep)\n",
    "big_element_df = big_element_df.with_columns( (2 ** ((big_element_df[\"Max timestep\"] - big_element_df[\"Timestep\"]) \n",
    "                                                     / big_element_df[\"Max timestep\"])).alias(\"Density correction\"))\n",
    "\n",
    "# remove all cols except element, cell index and density correction\n",
    "big_element_df = big_element_df.drop([\"Timestep\", \"Max timestep\"])\n",
    "\n",
    "# multiply the atoms/cell by the density correction\n",
    "big_element_df = big_element_df.melt(id_vars=[\"Cell index\", \"Density correction\"], value_name=\"Atoms/cell\", variable_name=\"Element\")"
   ],
   "metadata": {
    "collapsed": false,
    "ExecuteTime": {
     "end_time": "2024-05-14T18:06:16.855528Z",
     "start_time": "2024-05-14T18:06:16.253624Z"
    }
   },
   "id": "a8a578dac7ad6636",
   "outputs": [],
   "execution_count": 199
  },
  {
   "cell_type": "code",
   "source": [
    "# filter FE \n",
    "big_fe_df = big_element_df.filter(pl.col(\"Element\") == \"FE\")\n",
    "\n",
    "# convert atoms/cell to float\n",
    "big_fe_df = big_fe_df.with_columns( (big_fe_df[\"Atoms/cell\"] * 55.85 * 10**18 * 0.92 / (6.023*10**23)).alias(\"Fe-56 (ag)\"))\n",
    "\n",
    "# create fig\n",
    "plt.figure(figsize=(8, 2))\n",
    "\n",
    "# create a weighted KDE plot \n",
    "sns.kdeplot(data=big_fe_df.to_pandas(), x=\"Fe-56 (ag)\", weights=\"Density correction\", fill=True, bw_adjust=2, label=\"Aggregate simulation\", alpha=0.5)\n",
    "# sns.histplot(data=big_fe_df.to_pandas(), x=\"Fe-56 (ag)\", weights=\"Density correction\",stat=\"density\", binwidth=10, alpha=0.5, label=\"Aggregate sim\")\n",
    "\n",
    "# plot every cell from 0 to 18 with low alpha and gray color\n",
    "for i in range(0, 18):\n",
    "    if i == 1:\n",
    "        sns.kdeplot(data=big_fe_df.filter(pl.col(\"Cell index\") == i).to_pandas(), x=\"Fe-56 (ag)\", \n",
    "                weights=\"Density correction\", fill=True, bw_adjust=2, alpha=0.1, color=\"gray\", linewidth=0.2, label=\"Single-cell simulation\")\n",
    "    else:\n",
    "        sns.kdeplot(data=big_fe_df.filter(pl.col(\"Cell index\") == i).to_pandas(), x=\"Fe-56 (ag)\", \n",
    "                # weights=\"Density correction\", \n",
    "                fill=True, bw_adjust=2, alpha=0.05, color=\"gray\", linewidth=0.05)\n",
    "\n",
    "# sns.kdeplot(data=big_fe_df.filter(pl.col(\"Cell index\") == 10).to_pandas(), x=\"Fe-56 (ag)\", \n",
    "#             weights=\"Density correction\", fill=True, bw_adjust=2, label=\"Random cell 10\")\n",
    "# sns.kdeplot(data=big_fe_df.filter(pl.col(\"Cell index\") == 3).to_pandas(), x=\"Fe-56 (ag)\", \n",
    "#             weights=\"Density correction\", fill=True, bw_adjust=2, label=\"Random cell 3\")\n",
    "\n",
    "# plot histogram data in sc_df, as lineplot with fill\n",
    "sns.kdeplot(data=real_hist_data, fill=True, bw_adjust=1.3, label=\"Real single-cell dist.\", alpha=0.5)\n",
    "# sns.histplot(real_hist_data, element=\"step\", stat=\"density\", binwidth=10, alpha=0.3, label=\"Real single-cell dist.\", binrange=(10, 90))\n",
    "\n",
    "plt.legend()"
   ],
   "metadata": {
    "collapsed": false,
    "ExecuteTime": {
     "end_time": "2024-05-14T18:06:18.119713Z",
     "start_time": "2024-05-14T18:06:16.857617Z"
    }
   },
   "id": "e1d05b0f14ec44d6",
   "outputs": [
    {
     "data": {
      "text/plain": [
       "<matplotlib.legend.Legend at 0x3a5e82c50>"
      ]
     },
     "execution_count": 200,
     "metadata": {},
     "output_type": "execute_result"
    },
    {
     "data": {
      "text/plain": [
       "<Figure size 800x200 with 1 Axes>"
      ],
      "image/png": "[encoded data removed]"
     },
     "metadata": {},
     "output_type": "display_data"
    }
   ],
   "execution_count": 200
  },
  {
   "metadata": {},
   "cell_type": "markdown",
   "source": "# Figure 2, general insights",
   "id": "fc0bdd803e2931d8"
  },
  {
   "metadata": {},
   "cell_type": "markdown",
   "source": "## Resource comparison",
   "id": "2752b24746239156"
  },
  {
   "metadata": {
    "ExecuteTime": {
     "end_time": "2024-05-14T18:06:18.135391Z",
     "start_time": "2024-05-14T18:06:18.126658Z"
    }
   },
   "cell_type": "code",
   "source": [
    "elements = [\"FE\", \"ZN\"]\n",
    "element_indices = [np.where(element_ids == element)[0][0] for element in elements]\n",
    "\n",
    "aa = [\"TRP\", \"GLY\"]\n",
    "aa_indices = [np.where(aa_ids == aa)[0][0] for aa in aa]"
   ],
   "id": "9fe51fe760ea2727",
   "outputs": [],
   "execution_count": 201
  },
  {
   "metadata": {
    "ExecuteTime": {
     "end_time": "2024-05-14T18:06:18.339383Z",
     "start_time": "2024-05-14T18:06:18.138584Z"
    }
   },
   "cell_type": "code",
   "source": [
    "median_count = csr_matrix(np.diag(np.median(total_counts_min, axis=0)))\n",
    "\n",
    "pe_counts = median_count @ C @ P @ E[:, element_indices]\n",
    "paa_counts = (median_count @ C @ A[:, aa_indices])\n",
    "pm_mass = median_count @ C * monomer_masses\n",
    "resources = csr_matrix(np.stack([pe_counts[:, 0].toarray().flatten(), pe_counts[:, 1].toarray().flatten(), \n",
    "                                 paa_counts[:, 0].flatten(), paa_counts[:, 1].flatten(), pm_mass], axis=0))\n",
    "\n",
    "# need to assign here to pathways\n",
    "Pw = (C @ W @ W2) / (C @ W @ W2).sum(axis=1)\n",
    "\n",
    "# multiply resources by Pw\n",
    "Rp = resources @ Pw"
   ],
   "id": "a203404c0324dd26",
   "outputs": [],
   "execution_count": 202
  },
  {
   "metadata": {
    "ExecuteTime": {
     "end_time": "2024-05-14T18:06:18.355731Z",
     "start_time": "2024-05-14T18:06:18.340136Z"
    }
   },
   "cell_type": "code",
   "source": [
    "wrapped_names = [\"\\n\".join(wrap(text, 14)) for text in unwrapped_pathway_names]\n",
    "\n",
    "# put in one array and convert to dataframe\n",
    "resource_df = pl.DataFrame(Rp.toarray(), schema=elements + aa + [\"Protein mass\"])\n",
    "\n",
    "# add protein ID column\n",
    "resource_df = resource_df.with_columns(pl.DataFrame(wrapped_names, schema=[\"Pathway\"]))\n",
    "\n",
    "# melt df \n",
    "resource_df = resource_df.melt(value_name=\"Value\", variable_name=\"Resource\", id_vars=\"Pathway\")\n",
    "\n",
    "# groupby resource and get the sum\n",
    "sum_df = resource_df.group_by(\"Resource\").agg(pl.sum(\"Value\").alias(\"Total\"))\n",
    "\n",
    "# join with resource_df to get the percentage\n",
    "resource_df = resource_df.join(sum_df, on=\"Resource\")\n",
    "resource_df = resource_df.with_columns( (resource_df[\"Value\"] / resource_df[\"Total\"]).alias(\"Fraction\"))\n",
    "\n",
    "# drop zero value rows\n",
    "resource_df = resource_df.filter(pl.col(\"Value\") > 0)\n",
    "\n",
    "# groupby pathway and get the sum of fraction\n",
    "sum_f_df = resource_df.group_by(\"Pathway\").agg(pl.sum(\"Fraction\").alias(\"Sum of resource fractions\"))\n",
    "\n",
    "# join with resource_df to get the percentage\n",
    "resource_df = resource_df.join(sum_f_df, on=\"Pathway\")\n",
    "\n",
    "# drop rows with Sum of resource fractions < 0.1\n",
    "resource_df_f = resource_df.filter(pl.col(\"Sum of resource fractions\") > 0.15)\n"
   ],
   "id": "70156845057ace07",
   "outputs": [],
   "execution_count": 203
  },
  {
   "metadata": {
    "ExecuteTime": {
     "end_time": "2024-05-14T18:06:18.619691Z",
     "start_time": "2024-05-14T18:06:18.356466Z"
    }
   },
   "cell_type": "code",
   "source": [
    "pw_order = resource_df_f.filter(pl.col(\"Resource\") == \"FE\").sort(\"Sum of resource fractions\", descending=True).select(\"Pathway\").to_series().to_list()\n",
    "\n",
    "sns.catplot(x=\"Pathway\", y=\"Fraction\", hue=\"Resource\", data=resource_df.to_pandas(), kind=\"bar\", aspect=2.2, height=3, order=pw_order, legend_out=False)\n",
    "\n",
    "# rotate labels\n",
    "plt.xticks(rotation=0)"
   ],
   "id": "b07354a5c0f892df",
   "outputs": [
    {
     "data": {
      "text/plain": [
       "(array([0, 1, 2, 3, 4, 5, 6, 7]),\n",
       " [Text(0, 0, 'Translation'),\n",
       "  Text(1, 0, 'Uncategorized'),\n",
       "  Text(2, 0, 'Cofactor,\\nCarrier, and\\nVitamin\\nBiosynthesis'),\n",
       "  Text(3, 0, 'Amino Acid\\nBiosynthesis'),\n",
       "  Text(4, 0, 'Electron\\nTransfer\\nChains'),\n",
       "  Text(5, 0, 'Regulation of\\ntranscription'),\n",
       "  Text(6, 0, 'TCA cycle'),\n",
       "  Text(7, 0, 'Nucleoside and\\nNucleotide\\nBiosynthesis')])"
      ]
     },
     "execution_count": 204,
     "metadata": {},
     "output_type": "execute_result"
    },
    {
     "data": {
      "text/plain": [
       "<Figure size 660x300 with 1 Axes>"
      ],
      "image/png": "[encoded data removed]"
     },
     "metadata": {},
     "output_type": "display_data"
    }
   ],
   "execution_count": 204
  },
  {
   "metadata": {
    "ExecuteTime": {
     "end_time": "2024-05-14T18:06:18.928752Z",
     "start_time": "2024-05-14T18:06:18.620486Z"
    }
   },
   "cell_type": "code",
   "source": [
    "uncategorized_vec = (csr_matrix(np.diag(resources[-1, :].toarray().flatten())) @ Pw)[:, list(pathway_ids).index(\"Uncategorized (II)\")]\n",
    "\n",
    "\n",
    "# convert to dataframe\n",
    "uncategorized_df = pl.DataFrame(uncategorized_vec.toarray(), schema=[\"Protein mass\"])\n",
    "\n",
    "# add protein ID column\n",
    "uncategorized_df = uncategorized_df.with_columns(pl.DataFrame(protein_ids, schema=[\"Protein ID\"]))\n",
    "\n",
    "# sort and get top 20, then plot\n",
    "uncategorized_df = uncategorized_df.sort(\"Protein mass\", descending=True).head(20)\n",
    "\n",
    "plt.figure(figsize=(4, 4))\n",
    "sns.barplot(data=uncategorized_df.to_pandas(), x=\"Protein ID\", y=\"Protein mass\", color=sns.color_palette(\"Set2\")[0])\n",
    "\n",
    "plt.xticks(rotation=90)"
   ],
   "id": "bf4e2ad880dba67c",
   "outputs": [
    {
     "data": {
      "text/plain": [
       "(array([ 0,  1,  2,  3,  4,  5,  6,  7,  8,  9, 10, 11, 12, 13, 14, 15, 16,\n",
       "        17, 18, 19]),\n",
       " [Text(0, 0, 'G6763-MONOMER'),\n",
       "  Text(1, 0, 'CPLX0-7747'),\n",
       "  Text(2, 0, 'EG10308-MONOMER'),\n",
       "  Text(3, 0, 'CPLX0-7938'),\n",
       "  Text(4, 0, 'CPLX0-8585'),\n",
       "  Text(5, 0, 'CPLX0-7521'),\n",
       "  Text(6, 0, 'G7087-MONOMER'),\n",
       "  Text(7, 0, 'G7128-MONOMER'),\n",
       "  Text(8, 0, 'EG10321-MONOMER'),\n",
       "  Text(9, 0, 'CPLX0-8103'),\n",
       "  Text(10, 0, 'CPLX0-7452'),\n",
       "  Text(11, 0, 'EG11967-MONOMER'),\n",
       "  Text(12, 0, 'CPLX0-8102'),\n",
       "  Text(13, 0, 'EG11545-MONOMER'),\n",
       "  Text(14, 0, 'MONOMER0-4539'),\n",
       "  Text(15, 0, 'CPLX0-2441'),\n",
       "  Text(16, 0, 'FLGI-FLAGELLAR-P-RING'),\n",
       "  Text(17, 0, 'CPLX0-8104'),\n",
       "  Text(18, 0, 'EG10841-MONOMER'),\n",
       "  Text(19, 0, 'CPLX0-7956')])"
      ]
     },
     "execution_count": 205,
     "metadata": {},
     "output_type": "execute_result"
    },
    {
     "data": {
      "text/plain": [
       "<Figure size 400x400 with 1 Axes>"
      ],
      "image/png": "[encoded data removed]"
     },
     "metadata": {},
     "output_type": "display_data"
    }
   ],
   "execution_count": 205
  },
  {
   "metadata": {},
   "cell_type": "markdown",
   "source": "## Fe/Zn generalist vs specialist",
   "id": "580ec05b33ecc978"
  },
  {
   "metadata": {
    "ExecuteTime": {
     "end_time": "2024-05-14T18:06:19.121634Z",
     "start_time": "2024-05-14T18:06:18.929537Z"
    }
   },
   "cell_type": "code",
   "source": [
    "median_count = csr_matrix(np.diag(np.median(total_counts_min, axis=0)))\n",
    "\n",
    "ep_counts = median_count @ C @ P @ E[:, element_indices]\n",
    "\n",
    "# convert to dataframe\n",
    "ep_df = pl.DataFrame(ep_counts.toarray(), schema=elements)\n",
    "\n",
    "# add protein_ids as a column\n",
    "ep_df = ep_df.with_columns(pl.DataFrame(protein_ids, schema=[\"Protein\"]))\n",
    "\n",
    "# melt to long form\n",
    "ep_df = ep_df.melt(id_vars=\"Protein\", value_name=\"Metal atoms allocated to protein\", variable_name=\"Element\")\n",
    "\n",
    "# remove all rows with 0 atoms/cell\n",
    "ep_df = ep_df.filter(pl.col(\"Metal atoms allocated to protein\") > 0)\n",
    "\n",
    "# Get the sum per element\n",
    "sum_df = ep_df.group_by(\"Element\").agg(pl.sum(\"Metal atoms allocated to protein\").alias(\"Total atoms\"))\n",
    "\n",
    "# Join with ep_df to get the percentage\n",
    "ep_df = ep_df.join(sum_df, on=\"Element\")\n",
    "\n",
    "# calculate the percentage\n",
    "ep_df = ep_df.with_columns( (ep_df[\"Metal atoms allocated to protein\"] / ep_df[\"Total atoms\"]).alias(\"Fraction of metal\"))\n",
    "\n",
    "# sort by element, then by fraction of metal\n",
    "ep_df = ep_df.sort([\"Element\", \"Fraction of metal\"], descending=[False, True])\n",
    "\n",
    "# get the index per row\n",
    "ep_df = ep_df.with_columns(pl.DataFrame(np.arange(1, ep_df.shape[0]+1), schema=[\"Index\"]))\n",
    "\n",
    "# groupby element and get minimum index\n",
    "min_index = ep_df.group_by(\"Element\").agg(pl.min(\"Index\").alias(\"Min index\"))\n",
    "\n",
    "# join with ep_df, then subtract min index from index\n",
    "ep_df = ep_df.join(min_index, on=\"Element\")\n",
    "ep_df = ep_df.with_columns( (ep_df[\"Index\"] - ep_df[\"Min index\"] + 1).alias(\"Rank\"))\n",
    "ep_df = ep_df.drop([\"Min index\", \"Index\"])\n",
    "\n",
    "# Create cumulative sum of fraction of metal\n",
    "cumsum_col = ep_df.select(pl.col('Fraction of metal').cumsum().over('Element'))\n",
    "\n",
    "# add column to ep_df\n",
    "ep_df = ep_df.with_columns(cumsum_col)\n",
    "\n",
    "# rename fraction of metal to cumulative fraction of metal\n",
    "ep_df = ep_df.rename({\"Fraction of metal\": \"Cumulative fraction of metal\"})\n",
    "\n",
    "ep_df"
   ],
   "id": "dcd8d92d32cb70ca",
   "outputs": [
    {
     "data": {
      "text/plain": [
       "shape: (438, 6)\n",
       "┌──────────────────────────┬─────────┬──────────────┬─────────────┬─────────────────────────┬──────┐\n",
       "│ Protein                  ┆ Element ┆ Metal atoms  ┆ Total atoms ┆ Cumulative fraction of  ┆ Rank │\n",
       "│ ---                      ┆ ---     ┆ allocated to ┆ ---         ┆ metal                   ┆ ---  │\n",
       "│ str                      ┆ str     ┆ protein      ┆ f64         ┆ ---                     ┆ i64  │\n",
       "│                          ┆         ┆ ---          ┆             ┆ f64                     ┆      │\n",
       "│                          ┆         ┆ f64          ┆             ┆                         ┆      │\n",
       "╞══════════════════════════╪═════════╪══════════════╪═════════════╪═════════════════════════╪══════╡\n",
       "│ NADH-DHI-CPLX            ┆ FE      ┆ 22624.0      ┆ 268867.0    ┆ 0.084146                ┆ 1    │\n",
       "│ 3-ISOPROPYLMALISOM-CPLX  ┆ FE      ┆ 15304.0      ┆ 268867.0    ┆ 0.141066                ┆ 2    │\n",
       "│ GLUTAMATESYN-CPLX        ┆ FE      ┆ 13496.0      ┆ 268867.0    ┆ 0.191262                ┆ 3    │\n",
       "│ ACONITATEDEHYDRB-MONOMER ┆ FE      ┆ 10568.0      ┆ 268867.0    ┆ 0.230568                ┆ 4    │\n",
       "│ CPLX0-7797               ┆ FE      ┆ 10464.0      ┆ 268867.0    ┆ 0.269486                ┆ 5    │\n",
       "│ …                        ┆ …       ┆ …            ┆ …           ┆ …                       ┆ …    │\n",
       "│ RHAMNULPALDOL-MONOMER    ┆ ZN      ┆ 1.0          ┆ 234414.0    ┆ 0.999983                ┆ 214  │\n",
       "│ RIBOFLAVINSYNDEAM-MONOME ┆ ZN      ┆ 1.0          ┆ 234414.0    ┆ 0.999987                ┆ 215  │\n",
       "│ R                        ┆         ┆              ┆             ┆                         ┆      │\n",
       "│ RIBONUCLEOSIDE-TRIP-REDU ┆ ZN      ┆ 1.0          ┆ 234414.0    ┆ 0.999991                ┆ 216  │\n",
       "│ CT-MONOM…                ┆         ┆              ┆             ┆                         ┆      │\n",
       "│ SECA                     ┆ ZN      ┆ 1.0          ┆ 234414.0    ┆ 0.999996                ┆ 217  │\n",
       "│ THIF-MONOMER             ┆ ZN      ┆ 1.0          ┆ 234414.0    ┆ 1.0                     ┆ 218  │\n",
       "└──────────────────────────┴─────────┴──────────────┴─────────────┴─────────────────────────┴──────┘"
      ],
      "text/html": [
       "<div><style>\n",
       ".dataframe > thead > tr,\n",
       ".dataframe > tbody > tr {\n",
       "  text-align: right;\n",
       "  white-space: pre-wrap;\n",
       "}\n",
       "</style>\n",
       "<small>shape: (438, 6)</small><table border=\"1\" class=\"dataframe\"><thead><tr><th>Protein</th><th>Element</th><th>Metal atoms allocated to protein</th><th>Total atoms</th><th>Cumulative fraction of metal</th><th>Rank</th></tr><tr><td>str</td><td>str</td><td>f64</td><td>f64</td><td>f64</td><td>i64</td></tr></thead><tbody><tr><td>&quot;NADH-DHI-CPLX&quot;</td><td>&quot;FE&quot;</td><td>22624.0</td><td>268867.0</td><td>0.084146</td><td>1</td></tr><tr><td>&quot;3-ISOPROPYLMAL…</td><td>&quot;FE&quot;</td><td>15304.0</td><td>268867.0</td><td>0.141066</td><td>2</td></tr><tr><td>&quot;GLUTAMATESYN-C…</td><td>&quot;FE&quot;</td><td>13496.0</td><td>268867.0</td><td>0.191262</td><td>3</td></tr><tr><td>&quot;ACONITATEDEHYD…</td><td>&quot;FE&quot;</td><td>10568.0</td><td>268867.0</td><td>0.230568</td><td>4</td></tr><tr><td>&quot;CPLX0-7797&quot;</td><td>&quot;FE&quot;</td><td>10464.0</td><td>268867.0</td><td>0.269486</td><td>5</td></tr><tr><td>&quot;SDH-FE-S&quot;</td><td>&quot;FE&quot;</td><td>9828.0</td><td>268867.0</td><td>0.30604</td><td>6</td></tr><tr><td>&quot;THIC-MONOMER&quot;</td><td>&quot;FE&quot;</td><td>9360.0</td><td>268867.0</td><td>0.340853</td><td>7</td></tr><tr><td>&quot;G7949-MONOMER&quot;</td><td>&quot;FE&quot;</td><td>7152.0</td><td>268867.0</td><td>0.367453</td><td>8</td></tr><tr><td>&quot;CYT-O-UBIOX-CP…</td><td>&quot;FE&quot;</td><td>6986.0</td><td>268867.0</td><td>0.393436</td><td>9</td></tr><tr><td>&quot;CPLX0-3361&quot;</td><td>&quot;FE&quot;</td><td>6592.0</td><td>268867.0</td><td>0.417954</td><td>10</td></tr><tr><td>&quot;ADHE-CPLX&quot;</td><td>&quot;FE&quot;</td><td>6080.0</td><td>268867.0</td><td>0.440567</td><td>11</td></tr><tr><td>&quot;EG12712-MONOME…</td><td>&quot;FE&quot;</td><td>5693.0</td><td>268867.0</td><td>0.461741</td><td>12</td></tr><tr><td>&hellip;</td><td>&hellip;</td><td>&hellip;</td><td>&hellip;</td><td>&hellip;</td><td>&hellip;</td></tr><tr><td>&quot;G7431-MONOMER&quot;</td><td>&quot;ZN&quot;</td><td>1.0</td><td>234414.0</td><td>0.999953</td><td>207</td></tr><tr><td>&quot;G7564-MONOMER&quot;</td><td>&quot;ZN&quot;</td><td>1.0</td><td>234414.0</td><td>0.999957</td><td>208</td></tr><tr><td>&quot;GALACTURIDYLYL…</td><td>&quot;ZN&quot;</td><td>1.0</td><td>234414.0</td><td>0.999962</td><td>209</td></tr><tr><td>&quot;GTP-CYCLOHYDRO…</td><td>&quot;ZN&quot;</td><td>1.0</td><td>234414.0</td><td>0.999966</td><td>210</td></tr><tr><td>&quot;IMIDPHOSPHADEH…</td><td>&quot;ZN&quot;</td><td>1.0</td><td>234414.0</td><td>0.99997</td><td>211</td></tr><tr><td>&quot;METG-MONOMER&quot;</td><td>&quot;ZN&quot;</td><td>1.0</td><td>234414.0</td><td>0.999974</td><td>212</td></tr><tr><td>&quot;NANK-MONOMER&quot;</td><td>&quot;ZN&quot;</td><td>1.0</td><td>234414.0</td><td>0.999979</td><td>213</td></tr><tr><td>&quot;RHAMNULPALDOL-…</td><td>&quot;ZN&quot;</td><td>1.0</td><td>234414.0</td><td>0.999983</td><td>214</td></tr><tr><td>&quot;RIBOFLAVINSYND…</td><td>&quot;ZN&quot;</td><td>1.0</td><td>234414.0</td><td>0.999987</td><td>215</td></tr><tr><td>&quot;RIBONUCLEOSIDE…</td><td>&quot;ZN&quot;</td><td>1.0</td><td>234414.0</td><td>0.999991</td><td>216</td></tr><tr><td>&quot;SECA&quot;</td><td>&quot;ZN&quot;</td><td>1.0</td><td>234414.0</td><td>0.999996</td><td>217</td></tr><tr><td>&quot;THIF-MONOMER&quot;</td><td>&quot;ZN&quot;</td><td>1.0</td><td>234414.0</td><td>1.0</td><td>218</td></tr></tbody></table></div>"
      ]
     },
     "execution_count": 206,
     "metadata": {},
     "output_type": "execute_result"
    }
   ],
   "execution_count": 206
  },
  {
   "metadata": {
    "ExecuteTime": {
     "end_time": "2024-05-14T18:06:19.278346Z",
     "start_time": "2024-05-14T18:06:19.122343Z"
    }
   },
   "cell_type": "code",
   "source": [
    "# plot fraction of metal against rank\n",
    "plt.figure(figsize=(4, 4))\n",
    "g = sns.lineplot(data=ep_df.to_pandas(), x=\"Rank\", y=\"Cumulative fraction of metal\", hue=\"Element\", marker=\"o\")\n",
    "plt.xlim(0.5, 20.5)\n",
    "plt.ylim(-0.05, 1.05)\n",
    "plt.xticks(np.arange(1, 21, 1))\n",
    "g.xaxis.grid(False)"
   ],
   "id": "97b6671a124d47c8",
   "outputs": [
    {
     "data": {
      "text/plain": [
       "<Figure size 400x400 with 1 Axes>"
      ],
      "image/png": "[encoded data removed]"
     },
     "metadata": {},
     "output_type": "display_data"
    }
   ],
   "execution_count": 207
  },
  {
   "metadata": {
    "ExecuteTime": {
     "end_time": "2024-05-14T18:06:19.574855Z",
     "start_time": "2024-05-14T18:06:19.282694Z"
    }
   },
   "cell_type": "code",
   "source": [
    "plt.figure(figsize=(4, 4))\n",
    "sns.ecdfplot(data=ep_df.to_pandas(), x=\"Metal atoms allocated to protein\", hue=\"Element\", complementary=False, log_scale=True)"
   ],
   "id": "54dc0d9b3591d3e8",
   "outputs": [
    {
     "data": {
      "text/plain": [
       "<Axes: xlabel='Metal atoms allocated to protein', ylabel='Proportion'>"
      ]
     },
     "execution_count": 208,
     "metadata": {},
     "output_type": "execute_result"
    },
    {
     "data": {
      "text/plain": [
       "<Figure size 400x400 with 1 Axes>"
      ],
      "image/png": "[encoded data removed]"
     },
     "metadata": {},
     "output_type": "display_data"
    }
   ],
   "execution_count": 208
  },
  {
   "metadata": {},
   "cell_type": "markdown",
   "source": "## Cell iron is mostly in iron-sulfur clusters",
   "id": "8ad777700f18bca7"
  },
  {
   "metadata": {
    "ExecuteTime": {
     "end_time": "2024-05-14T18:06:19.716276Z",
     "start_time": "2024-05-14T18:06:19.575700Z"
    }
   },
   "cell_type": "code",
   "source": [
    "plot_names = {'3FE-4S': '3Fe-4S', 'FE+2': 'Fe+2', 'Heme-b': 'Heme', 'CPD-7': '4Fe-4S', 'CPD-6':'2Fe-2S'}\n",
    "\n",
    "elements = [\"FE\"]\n",
    "element_indices = [np.where(element_ids == element)[0][0] for element in elements]\n",
    "\n",
    "# find cofactors that use iron\n",
    "cofactor_iron_stoich = E[:, element_indices].toarray().flatten()\n",
    "\n",
    "# cofactor names\n",
    "cofactor_names = np.array(cofactor_ids)[cofactor_iron_stoich > 0]\n",
    "cofactor_names = [plot_names.get(name, name) for name in cofactor_names]\n",
    "\n",
    "# compute the distribution across forms of iron\n",
    "median_count = csr_matrix(np.median(total_counts_min, axis=0))\n",
    "ep_counts = np.multiply((median_count @ C @ P)[:, cofactor_iron_stoich>0].toarray(), cofactor_iron_stoich[cofactor_iron_stoich>0])\n",
    "\n",
    "# divide by sum\n",
    "ep_counts = ep_counts / ep_counts.sum(axis=1)\n",
    "\n",
    "# create dataframe\n",
    "ep_df = pl.DataFrame(ep_counts, schema=cofactor_names)\n",
    "\n",
    "# make plot\n",
    "sns.catplot(data=ep_df.to_pandas(), kind=\"bar\", aspect=1, height=3)"
   ],
   "id": "b15d8295992a2803",
   "outputs": [
    {
     "data": {
      "text/plain": [
       "<seaborn.axisgrid.FacetGrid at 0x3f9988310>"
      ]
     },
     "execution_count": 209,
     "metadata": {},
     "output_type": "execute_result"
    },
    {
     "data": {
      "text/plain": [
       "<Figure size 300x300 with 1 Axes>"
      ],
      "image/png": "[encoded data removed]"
     },
     "metadata": {},
     "output_type": "display_data"
    }
   ],
   "execution_count": 209
  },
  {
   "cell_type": "markdown",
   "source": [
    "## # Compare different real bulk data sets"
   ],
   "metadata": {
    "collapsed": false
   },
   "id": "1c50d8e4d9fcd56f"
  },
  {
   "cell_type": "markdown",
   "source": [
    "# Li et al data"
   ],
   "metadata": {
    "collapsed": false
   },
   "id": "f1314b2864b5bcc4"
  },
  {
   "cell_type": "code",
   "source": [
    "li = pl.read_csv(\"external_data/Li_2014_profiling.csv\")\n",
    "li\n"
   ],
   "metadata": {
    "collapsed": false,
    "ExecuteTime": {
     "end_time": "2024-05-14T18:06:19.722827Z",
     "start_time": "2024-05-14T18:06:19.717131Z"
    }
   },
   "id": "c397fcc549dd57c9",
   "outputs": [
    {
     "data": {
      "text/plain": [
       "shape: (4_095, 4)\n",
       "┌──────┬───────────────┬──────────────┬──────────────────────────────────┐\n",
       "│ Gene ┆ MOPS complete ┆ MOPS minimal ┆ MOPS complete without methionine │\n",
       "│ ---  ┆ ---           ┆ ---          ┆ ---                              │\n",
       "│ str  ┆ i64           ┆ i64          ┆ i64                              │\n",
       "╞══════╪═══════════════╪══════════════╪══════════════════════════════════╡\n",
       "│ aaeA ┆ 62            ┆ 5            ┆ 21                               │\n",
       "│ aaeB ┆ 16            ┆ 2            ┆ 0                                │\n",
       "│ aaeR ┆ 203           ┆ 79           ┆ 141                              │\n",
       "│ aaeX ┆ 28            ┆ 5            ┆ 11                               │\n",
       "│ aas  ┆ 188           ┆ 80           ┆ 162                              │\n",
       "│ …    ┆ …             ┆ …            ┆ …                                │\n",
       "│ zraR ┆ 98            ┆ 30           ┆ 50                               │\n",
       "│ zraS ┆ 8             ┆ 4            ┆ 0                                │\n",
       "│ zupT ┆ 407           ┆ 217          ┆ 295                              │\n",
       "│ zur  ┆ 333           ┆ 167          ┆ 582                              │\n",
       "│ zwf  ┆ 5185          ┆ 1928         ┆ 3262                             │\n",
       "└──────┴───────────────┴──────────────┴──────────────────────────────────┘"
      ],
      "text/html": [
       "<div><style>\n",
       ".dataframe > thead > tr,\n",
       ".dataframe > tbody > tr {\n",
       "  text-align: right;\n",
       "  white-space: pre-wrap;\n",
       "}\n",
       "</style>\n",
       "<small>shape: (4_095, 4)</small><table border=\"1\" class=\"dataframe\"><thead><tr><th>Gene</th><th>MOPS complete</th><th>MOPS minimal</th><th>MOPS complete without methionine</th></tr><tr><td>str</td><td>i64</td><td>i64</td><td>i64</td></tr></thead><tbody><tr><td>&quot;aaeA&quot;</td><td>62</td><td>5</td><td>21</td></tr><tr><td>&quot;aaeB&quot;</td><td>16</td><td>2</td><td>0</td></tr><tr><td>&quot;aaeR&quot;</td><td>203</td><td>79</td><td>141</td></tr><tr><td>&quot;aaeX&quot;</td><td>28</td><td>5</td><td>11</td></tr><tr><td>&quot;aas&quot;</td><td>188</td><td>80</td><td>162</td></tr><tr><td>&quot;aat&quot;</td><td>151</td><td>111</td><td>123</td></tr><tr><td>&quot;abgA&quot;</td><td>9</td><td>12</td><td>8</td></tr><tr><td>&quot;abgB&quot;</td><td>5</td><td>9</td><td>0</td></tr><tr><td>&quot;abgR&quot;</td><td>27</td><td>26</td><td>19</td></tr><tr><td>&quot;abgT&quot;</td><td>0</td><td>3</td><td>0</td></tr><tr><td>&quot;abrB&quot;</td><td>13</td><td>8</td><td>4</td></tr><tr><td>&quot;accA&quot;</td><td>10155</td><td>1800</td><td>4753</td></tr><tr><td>&hellip;</td><td>&hellip;</td><td>&hellip;</td><td>&hellip;</td></tr><tr><td>&quot;zitB&quot;</td><td>84</td><td>85</td><td>70</td></tr><tr><td>&quot;zntA&quot;</td><td>342</td><td>16</td><td>18</td></tr><tr><td>&quot;zntR&quot;</td><td>382</td><td>296</td><td>606</td></tr><tr><td>&quot;znuA&quot;</td><td>3453</td><td>25238</td><td>57733</td></tr><tr><td>&quot;znuB&quot;</td><td>252</td><td>301</td><td>450</td></tr><tr><td>&quot;znuC&quot;</td><td>332</td><td>468</td><td>1322</td></tr><tr><td>&quot;zraP&quot;</td><td>18</td><td>10</td><td>8</td></tr><tr><td>&quot;zraR&quot;</td><td>98</td><td>30</td><td>50</td></tr><tr><td>&quot;zraS&quot;</td><td>8</td><td>4</td><td>0</td></tr><tr><td>&quot;zupT&quot;</td><td>407</td><td>217</td><td>295</td></tr><tr><td>&quot;zur&quot;</td><td>333</td><td>167</td><td>582</td></tr><tr><td>&quot;zwf&quot;</td><td>5185</td><td>1928</td><td>3262</td></tr></tbody></table></div>"
      ]
     },
     "execution_count": 210,
     "metadata": {},
     "output_type": "execute_result"
    }
   ],
   "execution_count": 210
  },
  {
   "cell_type": "code",
   "source": [
    "\n",
    "name_df = pl.read_csv(\"external_data/ecocyc_name_conversion.txt\", separator=\"\\t\")\n",
    "name_df"
   ],
   "metadata": {
    "collapsed": false,
    "ExecuteTime": {
     "end_time": "2024-05-14T18:06:19.728901Z",
     "start_time": "2024-05-14T18:06:19.723716Z"
    }
   },
   "id": "6f3a62c3d4e3ca4c",
   "outputs": [
    {
     "data": {
      "text/plain": [
       "shape: (4_481, 4)\n",
       "┌──────────────────────────┬─────────┬─────────────────────┬─────────────┐\n",
       "│ Proteins                 ┆ Genes   ┆ Accession-1 of Gene ┆ Common-Name │\n",
       "│ ---                      ┆ ---     ┆ ---                 ┆ ---         │\n",
       "│ str                      ┆ str     ┆ str                 ┆ str         │\n",
       "╞══════════════════════════╪═════════╪═════════════════════╪═════════════╡\n",
       "│ LYSU-CPLX                ┆ EG10553 ┆ b4129               ┆ lysU        │\n",
       "│ EG11817-MONOMER          ┆ EG11817 ┆ b2744               ┆ umpG        │\n",
       "│ MONOMER0-4534            ┆ G6577   ┆ b1120               ┆ cobB        │\n",
       "│ FDOI-MONOMER             ┆ EG11856 ┆ b3892               ┆ fdoI        │\n",
       "│ G6991-MONOMER            ┆ G6991   ┆ b1807               ┆ tsaB        │\n",
       "│ …                        ┆ …       ┆ …                   ┆ …           │\n",
       "│ G7835-MONOMER            ┆ G7835   ┆ b4145               ┆ yjeJ        │\n",
       "│ GALACTITOLPDEHYD-MONOMER ┆ EG12417 ┆ b2091               ┆ gatD        │\n",
       "│ EG10736-MONOMER          ┆ EG10736 ┆ b0708               ┆ phr         │\n",
       "│ EG10853-MONOMER          ┆ EG10853 ┆ b1427               ┆ rimL        │\n",
       "│ EG12344-MONOMER          ┆ EG12344 ┆ b1303               ┆ pspF        │\n",
       "└──────────────────────────┴─────────┴─────────────────────┴─────────────┘"
      ],
      "text/html": [
       "<div><style>\n",
       ".dataframe > thead > tr,\n",
       ".dataframe > tbody > tr {\n",
       "  text-align: right;\n",
       "  white-space: pre-wrap;\n",
       "}\n",
       "</style>\n",
       "<small>shape: (4_481, 4)</small><table border=\"1\" class=\"dataframe\"><thead><tr><th>Proteins</th><th>Genes</th><th>Accession-1 of Gene</th><th>Common-Name</th></tr><tr><td>str</td><td>str</td><td>str</td><td>str</td></tr></thead><tbody><tr><td>&quot;LYSU-CPLX&quot;</td><td>&quot;EG10553&quot;</td><td>&quot;b4129&quot;</td><td>&quot;lysU&quot;</td></tr><tr><td>&quot;EG11817-MONOME…</td><td>&quot;EG11817&quot;</td><td>&quot;b2744&quot;</td><td>&quot;umpG&quot;</td></tr><tr><td>&quot;MONOMER0-4534&quot;</td><td>&quot;G6577&quot;</td><td>&quot;b1120&quot;</td><td>&quot;cobB&quot;</td></tr><tr><td>&quot;FDOI-MONOMER&quot;</td><td>&quot;EG11856&quot;</td><td>&quot;b3892&quot;</td><td>&quot;fdoI&quot;</td></tr><tr><td>&quot;G6991-MONOMER&quot;</td><td>&quot;G6991&quot;</td><td>&quot;b1807&quot;</td><td>&quot;tsaB&quot;</td></tr><tr><td>&quot;ADENODEAMIN-MO…</td><td>&quot;EG10030&quot;</td><td>&quot;b1623&quot;</td><td>&quot;add&quot;</td></tr><tr><td>&quot;EG10875-MONOME…</td><td>&quot;EG10875&quot;</td><td>&quot;b3310&quot;</td><td>&quot;rplN&quot;</td></tr><tr><td>&quot;G7586-MONOMER&quot;</td><td>&quot;G7586&quot;</td><td>&quot;b3047&quot;</td><td>&quot;yqiH&quot;</td></tr><tr><td>&quot;G6284-MONOMER&quot;</td><td>&quot;G6284&quot;</td><td>&quot;b0515&quot;</td><td>&quot;allE&quot;</td></tr><tr><td>&quot;MONOMER0-2842&quot;</td><td>&quot;G0-10617&quot;</td><td>&quot;b4662&quot;</td><td>&quot;sgrT&quot;</td></tr><tr><td>&quot;G7466-MONOMER&quot;</td><td>&quot;G7466&quot;</td><td>&quot;b2846&quot;</td><td>&quot;yqeH&quot;</td></tr><tr><td>&quot;EG11763-MONOME…</td><td>&quot;EG11763&quot;</td><td>&quot;b3596&quot;</td><td>&quot;yibG&quot;</td></tr><tr><td>&hellip;</td><td>&hellip;</td><td>&hellip;</td><td>&hellip;</td></tr><tr><td>&quot;G7921-MONOMER&quot;</td><td>&quot;G7921&quot;</td><td>&quot;b4311&quot;</td><td>&quot;nanC&quot;</td></tr><tr><td>&quot;EG10668-MONOME…</td><td>&quot;EG10668&quot;</td><td>&quot;b1335&quot;</td><td>&quot;ogt&quot;</td></tr><tr><td>&quot;MONOMER0-4490&quot;</td><td>&quot;G0-17024&quot;</td><td>&quot;b4778&quot;</td><td>&quot;yecV&quot;</td></tr><tr><td>&quot;G7258-MONOMER&quot;</td><td>&quot;G7258&quot;</td><td>&quot;b2412&quot;</td><td>&quot;zipA&quot;</td></tr><tr><td>&quot;G6191-MONOMER&quot;</td><td>&quot;G6191&quot;</td><td>&quot;b0326&quot;</td><td>&quot;yahL&quot;</td></tr><tr><td>&quot;EG11594-MONOME…</td><td>&quot;EG11594&quot;</td><td>&quot;b0629&quot;</td><td>&quot;ybeF&quot;</td></tr><tr><td>&quot;EG11547-MONOME…</td><td>&quot;EG11547&quot;</td><td>&quot;b1652&quot;</td><td>&quot;rnt&quot;</td></tr><tr><td>&quot;G7835-MONOMER&quot;</td><td>&quot;G7835&quot;</td><td>&quot;b4145&quot;</td><td>&quot;yjeJ&quot;</td></tr><tr><td>&quot;GALACTITOLPDEH…</td><td>&quot;EG12417&quot;</td><td>&quot;b2091&quot;</td><td>&quot;gatD&quot;</td></tr><tr><td>&quot;EG10736-MONOME…</td><td>&quot;EG10736&quot;</td><td>&quot;b0708&quot;</td><td>&quot;phr&quot;</td></tr><tr><td>&quot;EG10853-MONOME…</td><td>&quot;EG10853&quot;</td><td>&quot;b1427&quot;</td><td>&quot;rimL&quot;</td></tr><tr><td>&quot;EG12344-MONOME…</td><td>&quot;EG12344&quot;</td><td>&quot;b1303&quot;</td><td>&quot;pspF&quot;</td></tr></tbody></table></div>"
      ]
     },
     "execution_count": 211,
     "metadata": {},
     "output_type": "execute_result"
    }
   ],
   "execution_count": 211
  },
  {
   "cell_type": "code",
   "source": [
    "li_df = li.join(name_df, left_on=\"Gene\", right_on=\"Common-Name\")\n",
    "li_df"
   ],
   "metadata": {
    "collapsed": false,
    "ExecuteTime": {
     "end_time": "2024-05-14T18:06:19.734405Z",
     "start_time": "2024-05-14T18:06:19.729646Z"
    }
   },
   "id": "53441650e638230f",
   "outputs": [
    {
     "data": {
      "text/plain": [
       "shape: (3_883, 7)\n",
       "┌──────┬───────────────┬──────────────┬────────────────┬────────────────┬─────────┬────────────────┐\n",
       "│ Gene ┆ MOPS complete ┆ MOPS minimal ┆ MOPS complete  ┆ Proteins       ┆ Genes   ┆ Accession-1 of │\n",
       "│ ---  ┆ ---           ┆ ---          ┆ without        ┆ ---            ┆ ---     ┆ Gene           │\n",
       "│ str  ┆ i64           ┆ i64          ┆ methionine     ┆ str            ┆ str     ┆ ---            │\n",
       "│      ┆               ┆              ┆ ---            ┆                ┆         ┆ str            │\n",
       "│      ┆               ┆              ┆ i64            ┆                ┆         ┆                │\n",
       "╞══════╪═══════════════╪══════════════╪════════════════╪════════════════╪═════════╪════════════════╡\n",
       "│ lysU ┆ 1644          ┆ 315          ┆ 768            ┆ LYSU-CPLX      ┆ EG10553 ┆ b4129          │\n",
       "│ cobB ┆ 827           ┆ 572          ┆ 666            ┆ MONOMER0-4534  ┆ G6577   ┆ b1120          │\n",
       "│ fdoI ┆ 221           ┆ 16           ┆ 13             ┆ FDOI-MONOMER   ┆ EG11856 ┆ b3892          │\n",
       "│ add  ┆ 724           ┆ 265          ┆ 548            ┆ ADENODEAMIN-MO ┆ EG10030 ┆ b1623          │\n",
       "│      ┆               ┆              ┆                ┆ NOMER          ┆         ┆                │\n",
       "│ rplN ┆ 118153        ┆ 18836        ┆ 79079          ┆ EG10875-MONOME ┆ EG10875 ┆ b3310          │\n",
       "│      ┆               ┆              ┆                ┆ R              ┆         ┆                │\n",
       "│ …    ┆ …             ┆ …            ┆ …              ┆ …              ┆ …       ┆ …              │\n",
       "│ yjeJ ┆ 45            ┆ 19           ┆ 71             ┆ G7835-MONOMER  ┆ G7835   ┆ b4145          │\n",
       "│ gatD ┆ 643           ┆ 2360         ┆ 465            ┆ GALACTITOLPDEH ┆ EG12417 ┆ b2091          │\n",
       "│      ┆               ┆              ┆                ┆ YD-MONOMER     ┆         ┆                │\n",
       "│ phr  ┆ 21            ┆ 37           ┆ 5              ┆ EG10736-MONOME ┆ EG10736 ┆ b0708          │\n",
       "│      ┆               ┆              ┆                ┆ R              ┆         ┆                │\n",
       "│ rimL ┆ 174           ┆ 217          ┆ 88             ┆ EG10853-MONOME ┆ EG10853 ┆ b1427          │\n",
       "│      ┆               ┆              ┆                ┆ R              ┆         ┆                │\n",
       "│ pspF ┆ 121           ┆ 66           ┆ 119            ┆ EG12344-MONOME ┆ EG12344 ┆ b1303          │\n",
       "│      ┆               ┆              ┆                ┆ R              ┆         ┆                │\n",
       "└──────┴───────────────┴──────────────┴────────────────┴────────────────┴─────────┴────────────────┘"
      ],
      "text/html": [
       "<div><style>\n",
       ".dataframe > thead > tr,\n",
       ".dataframe > tbody > tr {\n",
       "  text-align: right;\n",
       "  white-space: pre-wrap;\n",
       "}\n",
       "</style>\n",
       "<small>shape: (3_883, 7)</small><table border=\"1\" class=\"dataframe\"><thead><tr><th>Gene</th><th>MOPS complete</th><th>MOPS minimal</th><th>MOPS complete without methionine</th><th>Proteins</th><th>Genes</th><th>Accession-1 of Gene</th></tr><tr><td>str</td><td>i64</td><td>i64</td><td>i64</td><td>str</td><td>str</td><td>str</td></tr></thead><tbody><tr><td>&quot;lysU&quot;</td><td>1644</td><td>315</td><td>768</td><td>&quot;LYSU-CPLX&quot;</td><td>&quot;EG10553&quot;</td><td>&quot;b4129&quot;</td></tr><tr><td>&quot;cobB&quot;</td><td>827</td><td>572</td><td>666</td><td>&quot;MONOMER0-4534&quot;</td><td>&quot;G6577&quot;</td><td>&quot;b1120&quot;</td></tr><tr><td>&quot;fdoI&quot;</td><td>221</td><td>16</td><td>13</td><td>&quot;FDOI-MONOMER&quot;</td><td>&quot;EG11856&quot;</td><td>&quot;b3892&quot;</td></tr><tr><td>&quot;add&quot;</td><td>724</td><td>265</td><td>548</td><td>&quot;ADENODEAMIN-MO…</td><td>&quot;EG10030&quot;</td><td>&quot;b1623&quot;</td></tr><tr><td>&quot;rplN&quot;</td><td>118153</td><td>18836</td><td>79079</td><td>&quot;EG10875-MONOME…</td><td>&quot;EG10875&quot;</td><td>&quot;b3310&quot;</td></tr><tr><td>&quot;yqiH&quot;</td><td>4</td><td>4</td><td>0</td><td>&quot;G7586-MONOMER&quot;</td><td>&quot;G7586&quot;</td><td>&quot;b3047&quot;</td></tr><tr><td>&quot;sgrT&quot;</td><td>0</td><td>0</td><td>0</td><td>&quot;MONOMER0-2842&quot;</td><td>&quot;G0-10617&quot;</td><td>&quot;b4662&quot;</td></tr><tr><td>&quot;yqeH&quot;</td><td>14</td><td>5</td><td>0</td><td>&quot;G7466-MONOMER&quot;</td><td>&quot;G7466&quot;</td><td>&quot;b2846&quot;</td></tr><tr><td>&quot;yibG&quot;</td><td>8</td><td>5</td><td>0</td><td>&quot;EG11763-MONOME…</td><td>&quot;EG11763&quot;</td><td>&quot;b3596&quot;</td></tr><tr><td>&quot;ymgA&quot;</td><td>48</td><td>43</td><td>13</td><td>&quot;G6605-MONOMER&quot;</td><td>&quot;G6605&quot;</td><td>&quot;b1165&quot;</td></tr><tr><td>&quot;yiaA&quot;</td><td>2</td><td>1</td><td>0</td><td>&quot;EG11186-MONOME…</td><td>&quot;EG11186&quot;</td><td>&quot;b3562&quot;</td></tr><tr><td>&quot;scpB&quot;</td><td>37</td><td>23</td><td>0</td><td>&quot;G7516-MONOMER&quot;</td><td>&quot;G7516&quot;</td><td>&quot;b2919&quot;</td></tr><tr><td>&hellip;</td><td>&hellip;</td><td>&hellip;</td><td>&hellip;</td><td>&hellip;</td><td>&hellip;</td><td>&hellip;</td></tr><tr><td>&quot;yecM&quot;</td><td>438</td><td>210</td><td>227</td><td>&quot;G7025-MONOMER&quot;</td><td>&quot;G7025&quot;</td><td>&quot;b1875&quot;</td></tr><tr><td>&quot;nanC&quot;</td><td>0</td><td>0</td><td>0</td><td>&quot;G7921-MONOMER&quot;</td><td>&quot;G7921&quot;</td><td>&quot;b4311&quot;</td></tr><tr><td>&quot;ogt&quot;</td><td>163</td><td>94</td><td>144</td><td>&quot;EG10668-MONOME…</td><td>&quot;EG10668&quot;</td><td>&quot;b1335&quot;</td></tr><tr><td>&quot;zipA&quot;</td><td>2128</td><td>501</td><td>874</td><td>&quot;G7258-MONOMER&quot;</td><td>&quot;G7258&quot;</td><td>&quot;b2412&quot;</td></tr><tr><td>&quot;yahL&quot;</td><td>1</td><td>1</td><td>0</td><td>&quot;G6191-MONOMER&quot;</td><td>&quot;G6191&quot;</td><td>&quot;b0326&quot;</td></tr><tr><td>&quot;ybeF&quot;</td><td>21</td><td>5</td><td>0</td><td>&quot;EG11594-MONOME…</td><td>&quot;EG11594&quot;</td><td>&quot;b0629&quot;</td></tr><tr><td>&quot;rnt&quot;</td><td>1089</td><td>204</td><td>345</td><td>&quot;EG11547-MONOME…</td><td>&quot;EG11547&quot;</td><td>&quot;b1652&quot;</td></tr><tr><td>&quot;yjeJ&quot;</td><td>45</td><td>19</td><td>71</td><td>&quot;G7835-MONOMER&quot;</td><td>&quot;G7835&quot;</td><td>&quot;b4145&quot;</td></tr><tr><td>&quot;gatD&quot;</td><td>643</td><td>2360</td><td>465</td><td>&quot;GALACTITOLPDEH…</td><td>&quot;EG12417&quot;</td><td>&quot;b2091&quot;</td></tr><tr><td>&quot;phr&quot;</td><td>21</td><td>37</td><td>5</td><td>&quot;EG10736-MONOME…</td><td>&quot;EG10736&quot;</td><td>&quot;b0708&quot;</td></tr><tr><td>&quot;rimL&quot;</td><td>174</td><td>217</td><td>88</td><td>&quot;EG10853-MONOME…</td><td>&quot;EG10853&quot;</td><td>&quot;b1427&quot;</td></tr><tr><td>&quot;pspF&quot;</td><td>121</td><td>66</td><td>119</td><td>&quot;EG12344-MONOME…</td><td>&quot;EG12344&quot;</td><td>&quot;b1303&quot;</td></tr></tbody></table></div>"
      ]
     },
     "execution_count": 212,
     "metadata": {},
     "output_type": "execute_result"
    }
   ],
   "execution_count": 212
  },
  {
   "cell_type": "code",
   "source": [
    "# make a list where for each name in monomer_ids,  the corresponding counts in MOPS minimal from li is inserted\n",
    "# if not found, insert 0\n",
    "li_counts = [li_df.filter(pl.col(\"Proteins\") == protein)[0, \"MOPS complete\"] if len(li_df.filter(pl.col(\"Proteins\") == protein)) > 0 else 0 for protein in monomer_ids]\n",
    "li_counts_min = [li_df.filter(pl.col(\"Proteins\") == protein)[0, \"MOPS minimal\"] if len(li_df.filter(pl.col(\"Proteins\") == protein)) > 0 else 0 for protein in monomer_ids]\n",
    "li_counts_met = [li_df.filter(pl.col(\"Proteins\") == protein)[0, \"MOPS complete without methionine\"] if len(li_df.filter(pl.col(\"Proteins\") == protein)) > 0 else 0 for protein in monomer_ids]\n",
    "\n",
    "\n",
    "li_counts = np.array(li_counts).flatten().astype(int)\n",
    "li_counts_min = np.array(li_counts_min).flatten().astype(int)\n",
    "li_counts_met = np.array(li_counts_met).flatten().astype(int)\n",
    "\n",
    "# save to csv \n",
    "np.savetxt('data/li_counts.csv', np.array(li_counts, dtype=np.int64), delimiter=',', fmt='%i')\n",
    "np.savetxt('data/li_counts_min.csv', np.array(li_counts_min, dtype=np.int64), delimiter=',', fmt='%i')\n",
    "np.savetxt('data/li_counts_met.csv', np.array(li_counts_min, dtype=np.int64), delimiter=',', fmt='%i')"
   ],
   "metadata": {
    "collapsed": false,
    "ExecuteTime": {
     "end_time": "2024-05-14T18:06:21.513820Z",
     "start_time": "2024-05-14T18:06:19.735124Z"
    }
   },
   "id": "78faa9fc3be0cbf5",
   "outputs": [],
   "execution_count": 213
  },
  {
   "cell_type": "code",
   "source": [
    "elements = [\"FE\", \"ZN\"]\n",
    "element_indices = [np.where(element_ids == element)[0][0] for element in elements]\n",
    "\n",
    "M = (P @ E[:, element_indices]).toarray()\n",
    "\n",
    "# make a new array. For each column of M, multiply it elementwise by the li_counts vector\n",
    "for i in range(M.shape[1]):\n",
    "    M[:, i] = np.multiply(M[:, i], li_counts_met)\n",
    "\n",
    "# create polars dataframe. cols are elements, rows are protein_ids\n",
    "M_df = pl.DataFrame(M, schema=elements)\n",
    "\n",
    "# add protein_ids as a column\n",
    "M_df = M_df.with_columns(pl.DataFrame(monomer_ids, schema=[\"Protein ID\"]))\n",
    "\n",
    "# melt to long form\n",
    "M_df = M_df.melt(id_vars=\"Protein ID\", value_name=\"Atoms/cell\", variable_name=\"Element\")"
   ],
   "metadata": {
    "collapsed": false,
    "ExecuteTime": {
     "end_time": "2024-05-14T18:06:21.519955Z",
     "start_time": "2024-05-14T18:06:21.514636Z"
    }
   },
   "id": "68925fb9e26046dc",
   "outputs": [],
   "execution_count": 214
  },
  {
   "metadata": {
    "ExecuteTime": {
     "end_time": "2024-05-14T18:06:21.524563Z",
     "start_time": "2024-05-14T18:06:21.520825Z"
    }
   },
   "cell_type": "code",
   "source": [
    "# plot top 20 proteins using iron\n",
    "top_20_proteins = M_df.filter(pl.col(\"Element\") == \"ZN\").sort(by=\"Atoms/cell\", descending=True).head(20)\n",
    "\n",
    "top_20_proteins"
   ],
   "id": "fd735bb11a020055",
   "outputs": [
    {
     "data": {
      "text/plain": [
       "shape: (20, 3)\n",
       "┌───────────────────────────────────┬─────────┬────────────┐\n",
       "│ Protein ID                        ┆ Element ┆ Atoms/cell │\n",
       "│ ---                               ┆ ---     ┆ ---        │\n",
       "│ str                               ┆ str     ┆ i64        │\n",
       "╞═══════════════════════════════════╪═════════╪════════════╡\n",
       "│ HOMOCYSMET-MONOMER                ┆ ZN      ┆ 282818     │\n",
       "│ G7061-MONOMER                     ┆ ZN      ┆ 100140     │\n",
       "│ ZNUA-MONOMER                      ┆ ZN      ┆ 57733      │\n",
       "│ FRUCTBISALD-CLASSII-MONOMER       ┆ ZN      ┆ 30954      │\n",
       "│ RPOC-MONOMER                      ┆ ZN      ┆ 20760      │\n",
       "│ …                                 ┆ …       ┆ …          │\n",
       "│ ILES-MONOMER                      ┆ ZN      ┆ 4760       │\n",
       "│ PD00260                           ┆ ZN      ┆ 4625       │\n",
       "│ CARBOXYL-TRANSFERASE-BETA-MONOME… ┆ ZN      ┆ 4611       │\n",
       "│ THREODEHYD-MONOMER                ┆ ZN      ┆ 4568       │\n",
       "│ EG10159-MONOMER                   ┆ ZN      ┆ 3870       │\n",
       "└───────────────────────────────────┴─────────┴────────────┘"
      ],
      "text/html": [
       "<div><style>\n",
       ".dataframe > thead > tr,\n",
       ".dataframe > tbody > tr {\n",
       "  text-align: right;\n",
       "  white-space: pre-wrap;\n",
       "}\n",
       "</style>\n",
       "<small>shape: (20, 3)</small><table border=\"1\" class=\"dataframe\"><thead><tr><th>Protein ID</th><th>Element</th><th>Atoms/cell</th></tr><tr><td>str</td><td>str</td><td>i64</td></tr></thead><tbody><tr><td>&quot;HOMOCYSMET-MON…</td><td>&quot;ZN&quot;</td><td>282818</td></tr><tr><td>&quot;G7061-MONOMER&quot;</td><td>&quot;ZN&quot;</td><td>100140</td></tr><tr><td>&quot;ZNUA-MONOMER&quot;</td><td>&quot;ZN&quot;</td><td>57733</td></tr><tr><td>&quot;FRUCTBISALD-CL…</td><td>&quot;ZN&quot;</td><td>30954</td></tr><tr><td>&quot;RPOC-MONOMER&quot;</td><td>&quot;ZN&quot;</td><td>20760</td></tr><tr><td>&quot;EG10230-MONOME…</td><td>&quot;ZN&quot;</td><td>17469</td></tr><tr><td>&quot;EG10889-MONOME…</td><td>&quot;ZN&quot;</td><td>16272</td></tr><tr><td>&quot;EG10240-MONOME…</td><td>&quot;ZN&quot;</td><td>9902</td></tr><tr><td>&quot;EG10695-MONOME…</td><td>&quot;ZN&quot;</td><td>8822</td></tr><tr><td>&quot;THRS-MONOMER&quot;</td><td>&quot;ZN&quot;</td><td>8569</td></tr><tr><td>&quot;GTP-CYCLOHYDRO…</td><td>&quot;ZN&quot;</td><td>8104</td></tr><tr><td>&quot;TAGAALDOL2-MON…</td><td>&quot;ZN&quot;</td><td>7752</td></tr><tr><td>&quot;GLURS-MONOMER&quot;</td><td>&quot;ZN&quot;</td><td>5822</td></tr><tr><td>&quot;ALAS-MONOMER&quot;</td><td>&quot;ZN&quot;</td><td>5773</td></tr><tr><td>&quot;EG12319-MONOME…</td><td>&quot;ZN&quot;</td><td>5429</td></tr><tr><td>&quot;ILES-MONOMER&quot;</td><td>&quot;ZN&quot;</td><td>4760</td></tr><tr><td>&quot;PD00260&quot;</td><td>&quot;ZN&quot;</td><td>4625</td></tr><tr><td>&quot;CARBOXYL-TRANS…</td><td>&quot;ZN&quot;</td><td>4611</td></tr><tr><td>&quot;THREODEHYD-MON…</td><td>&quot;ZN&quot;</td><td>4568</td></tr><tr><td>&quot;EG10159-MONOME…</td><td>&quot;ZN&quot;</td><td>3870</td></tr></tbody></table></div>"
      ]
     },
     "execution_count": 215,
     "metadata": {},
     "output_type": "execute_result"
    }
   ],
   "execution_count": 215
  },
  {
   "metadata": {
    "ExecuteTime": {
     "end_time": "2024-05-14T18:06:21.528679Z",
     "start_time": "2024-05-14T18:06:21.525335Z"
    }
   },
   "cell_type": "code",
   "source": "M_df.filter((pl.col(\"Element\") == \"ZN\") & (pl.col(\"Atoms/cell\") > 0))",
   "id": "2ff874faea35598e",
   "outputs": [
    {
     "data": {
      "text/plain": [
       "shape: (125, 3)\n",
       "┌───────────────────────────────┬─────────┬────────────┐\n",
       "│ Protein ID                    ┆ Element ┆ Atoms/cell │\n",
       "│ ---                           ┆ ---     ┆ ---        │\n",
       "│ str                           ┆ str     ┆ i64        │\n",
       "╞═══════════════════════════════╪═════════╪════════════╡\n",
       "│ ACETYLORNDEACET-MONOMER       ┆ ZN      ┆ 628        │\n",
       "│ ADENODEAMIN-MONOMER           ┆ ZN      ┆ 548        │\n",
       "│ ADHC-MONOMER                  ┆ ZN      ┆ 3116       │\n",
       "│ ADHP-MONOMER                  ┆ ZN      ┆ 42         │\n",
       "│ ALAS-MONOMER                  ┆ ZN      ┆ 5773       │\n",
       "│ …                             ┆ …       ┆ …          │\n",
       "│ UDPACYLGLCNACDEACETYL-MONOMER ┆ ZN      ┆ 3773       │\n",
       "│ USHA-MONOMER                  ┆ ZN      ┆ 926        │\n",
       "│ YHHO-MONOMER                  ┆ ZN      ┆ 36         │\n",
       "│ YPHC-MONOMER                  ┆ ZN      ┆ 56         │\n",
       "│ ZNUA-MONOMER                  ┆ ZN      ┆ 57733      │\n",
       "└───────────────────────────────┴─────────┴────────────┘"
      ],
      "text/html": [
       "<div><style>\n",
       ".dataframe > thead > tr,\n",
       ".dataframe > tbody > tr {\n",
       "  text-align: right;\n",
       "  white-space: pre-wrap;\n",
       "}\n",
       "</style>\n",
       "<small>shape: (125, 3)</small><table border=\"1\" class=\"dataframe\"><thead><tr><th>Protein ID</th><th>Element</th><th>Atoms/cell</th></tr><tr><td>str</td><td>str</td><td>i64</td></tr></thead><tbody><tr><td>&quot;ACETYLORNDEACE…</td><td>&quot;ZN&quot;</td><td>628</td></tr><tr><td>&quot;ADENODEAMIN-MO…</td><td>&quot;ZN&quot;</td><td>548</td></tr><tr><td>&quot;ADHC-MONOMER&quot;</td><td>&quot;ZN&quot;</td><td>3116</td></tr><tr><td>&quot;ADHP-MONOMER&quot;</td><td>&quot;ZN&quot;</td><td>42</td></tr><tr><td>&quot;ALAS-MONOMER&quot;</td><td>&quot;ZN&quot;</td><td>5773</td></tr><tr><td>&quot;ALKAPHOSPHA-MO…</td><td>&quot;ZN&quot;</td><td>348</td></tr><tr><td>&quot;AROB-MONOMER&quot;</td><td>&quot;ZN&quot;</td><td>516</td></tr><tr><td>&quot;ASPCARBREG-MON…</td><td>&quot;ZN&quot;</td><td>463</td></tr><tr><td>&quot;CARBODEHYDRAT-…</td><td>&quot;ZN&quot;</td><td>18</td></tr><tr><td>&quot;CARBOXYL-TRANS…</td><td>&quot;ZN&quot;</td><td>4611</td></tr><tr><td>&quot;CHAINI-MONOMER…</td><td>&quot;ZN&quot;</td><td>19</td></tr><tr><td>&quot;CYSS-MONOMER&quot;</td><td>&quot;ZN&quot;</td><td>1816</td></tr><tr><td>&hellip;</td><td>&hellip;</td><td>&hellip;</td></tr><tr><td>&quot;SECA&quot;</td><td>&quot;ZN&quot;</td><td>3269</td></tr><tr><td>&quot;TAGAALDOL2-MON…</td><td>&quot;ZN&quot;</td><td>7752</td></tr><tr><td>&quot;TDK-MONOMER&quot;</td><td>&quot;ZN&quot;</td><td>758</td></tr><tr><td>&quot;THIC-MONOMER&quot;</td><td>&quot;ZN&quot;</td><td>5</td></tr><tr><td>&quot;THIF-MONOMER&quot;</td><td>&quot;ZN&quot;</td><td>3</td></tr><tr><td>&quot;THREODEHYD-MON…</td><td>&quot;ZN&quot;</td><td>4568</td></tr><tr><td>&quot;THRS-MONOMER&quot;</td><td>&quot;ZN&quot;</td><td>8569</td></tr><tr><td>&quot;UDPACYLGLCNACD…</td><td>&quot;ZN&quot;</td><td>3773</td></tr><tr><td>&quot;USHA-MONOMER&quot;</td><td>&quot;ZN&quot;</td><td>926</td></tr><tr><td>&quot;YHHO-MONOMER&quot;</td><td>&quot;ZN&quot;</td><td>36</td></tr><tr><td>&quot;YPHC-MONOMER&quot;</td><td>&quot;ZN&quot;</td><td>56</td></tr><tr><td>&quot;ZNUA-MONOMER&quot;</td><td>&quot;ZN&quot;</td><td>57733</td></tr></tbody></table></div>"
      ]
     },
     "execution_count": 216,
     "metadata": {},
     "output_type": "execute_result"
    }
   ],
   "execution_count": 216
  },
  {
   "metadata": {},
   "cell_type": "markdown",
   "source": "## Create comparison plot between methionine and dropout",
   "id": "6b27e0b7862c13f1"
  },
  {
   "metadata": {
    "ExecuteTime": {
     "end_time": "2024-05-14T18:06:21.531527Z",
     "start_time": "2024-05-14T18:06:21.529320Z"
    }
   },
   "cell_type": "code",
   "source": "cofactor_ids",
   "id": "cbb9b3d9eb9f56bf",
   "outputs": [
    {
     "data": {
      "text/plain": [
       "array(['PYRIDOXAL_PHOSPHATE', 'LIPOIC-ACID', '3FE-4S', 'ZN+2',\n",
       "       'THIAMINE-PYROPHOSPHATE', 'FMN', 'Any+2', 'NA+', 'MG+2', 'FE+2',\n",
       "       'MN+2', 'Heme-b', 'CPD-8123', 'BIOTIN', 'CA+2', 'COB-I-ALAMIN',\n",
       "       'CPD-7', 'CPD-6', 'CPD-3', 'L-SELENOCYSTEINE', 'NI+2', 'K+',\n",
       "       'CO+2', 'CU+2', 'FAD'], dtype='<U22')"
      ]
     },
     "execution_count": 217,
     "metadata": {},
     "output_type": "execute_result"
    }
   ],
   "execution_count": 217
  },
  {
   "metadata": {
    "ExecuteTime": {
     "end_time": "2024-05-14T18:43:50.355996Z",
     "start_time": "2024-05-14T18:43:50.351886Z"
    }
   },
   "cell_type": "code",
   "source": [
    "cofactors = [\"ZN+2\"]\n",
    "cofactor_indices = [np.where(cofactor_ids == cofactor)[0][0] for cofactor in cofactors]\n",
    "\n",
    "# get indices of Zn-containing proteins\n",
    "zn_protein_mask = P[:, cofactor_indices].toarray().flatten() > 0 \n",
    "\n",
    "# get all ribosome proteins\n",
    "ribosome_id = ['CPLX0-3964']\n",
    "ribosome_indices = [np.where(protein_ids == protein)[0][0] for protein in ribosome_id]\n",
    "ribosome_protein_mask = C[ribosome_indices, :].toarray().flatten() > 0\n",
    "\n",
    "# nonstandard ribosomal protein\n",
    "nonstandard_ribosome_id = ['G6167-MONOMER','MONOMER0-2656', ]\n",
    "nonstandard_ribosome_indices = [np.where(monomer_ids == protein)[0][0] for protein in nonstandard_ribosome_id]\n",
    "nonstandard_ribosome_protein_mask = np.zeros(len(monomer_ids), dtype=bool)\n",
    "nonstandard_ribosome_protein_mask[nonstandard_ribosome_indices] = True"
   ],
   "id": "2c2da430c379d412",
   "outputs": [],
   "execution_count": 281
  },
  {
   "metadata": {
    "ExecuteTime": {
     "end_time": "2024-05-14T19:25:05.896912Z",
     "start_time": "2024-05-14T19:25:04.303465Z"
    }
   },
   "cell_type": "code",
   "source": [
    "# create dataframe with the counts\n",
    "li_df = pl.DataFrame([li_counts, li_counts_met, monomer_ids, zn_protein_mask, ribosome_protein_mask, nonstandard_ribosome_protein_mask], \n",
    "                     schema=[\"Complete\", \"Methionine\", \"Protein ID\", \"Uses Zn\", \"Ribosomal protein\", \"Nonstandard ribosomal protein\"])\n",
    "\n",
    "# create new conditional column. If both Uses Zn and Ribosomal protein are true, then \"Ribosomal protein with Zn\"\n",
    "li_df = li_df.with_columns(pl.lit(\"N/A\").alias(\"Protein type\"))\n",
    "\n",
    "# iterate over rows\n",
    "for i in range(li_df.shape[0]):\n",
    "    if li_df[i, \"Uses Zn\"] and li_df[i, \"Ribosomal protein\"]:\n",
    "        li_df[i, \"Protein type\"] = \"Standard ribosomal protein with Zn\"\n",
    "    elif li_df[i, \"Uses Zn\"]:\n",
    "        li_df[i, \"Protein type\"] = \"Zn-containing protein\"\n",
    "    elif li_df[i, \"Ribosomal protein\"]:\n",
    "        li_df[i, \"Protein type\"] = \"Standard ribosomal protein\"\n",
    "    elif li_df[i, \"Nonstandard ribosomal protein\"]:\n",
    "        li_df[i, \"Protein type\"] = \"Nonstandard ribosomal protein\"\n",
    "    else:\n",
    "        li_df[i, \"Protein type\"] = \"Other protein\"\n",
    "\n",
    "\n",
    "# join with name df to get common names\n",
    "li_df = li_df.join(name_df, left_on=\"Protein ID\", right_on=\"Proteins\")\n",
    "\n",
    "# drop rows where both complete and methionine are <1000\n",
    "li_df = li_df.filter((pl.col(\"Complete\") > 1000) | (pl.col(\"Methionine\") > 1000))\n",
    "# li_df = li_df.filter((pl.col(\"Complete\") > 200) & (pl.col(\"Methionine\") > 200))\n",
    "\n",
    "\n",
    "reg = 10\n",
    "# calculate fold change from complete to methionine\n",
    "li_df = li_df.with_columns( ((li_df[\"Methionine\"] + reg) / (li_df[\"Complete\"] + reg)).alias(\"Fold change\"))\n",
    "\n",
    "# sort by fold change\n",
    "li_df = li_df.sort(\"Fold change\", descending=False)\n",
    "\n",
    "# make new df with just head and tail\n",
    "n = 30\n",
    "li_df_head = li_df.head(n).with_columns(pl.lit(\"Decrease\").alias(\"Type\"))\n",
    "li_df_tail = li_df.tail(n).with_columns(pl.lit(\"Increase\").alias(\"Type\"))\n",
    "# concat\n",
    "li_df_short = pl.concat([li_df_head, li_df_tail])\n",
    "\n",
    "\n",
    "# plot log fold change against protein id\n",
    "g = sns.catplot(data=li_df_short.to_pandas(), x=\"Common-Name\", hue=\"Protein type\", dodge=False,\n",
    "                y=\"Fold change\", kind=\"bar\", aspect=1.7, height=2.5, col=\"Type\", sharex=False, sharey=False, log=True)\n",
    "\n",
    "# rotate labels\n",
    "g.set_xticklabels(rotation=90)"
   ],
   "id": "544994be6bde42de",
   "outputs": [
    {
     "data": {
      "text/plain": [
       "<seaborn.axisgrid.FacetGrid at 0x29cebe980>"
      ]
     },
     "execution_count": 295,
     "metadata": {},
     "output_type": "execute_result"
    },
    {
     "data": {
      "text/plain": [
       "<Figure size 1084.38x250 with 2 Axes>"
      ],
      "image/png": "[encoded data removed]"
     },
     "metadata": {},
     "output_type": "display_data"
    }
   ],
   "execution_count": 295
  },
  {
   "metadata": {},
   "cell_type": "markdown",
   "source": "## Growth rate data",
   "id": "8b296e4419f61ab8"
  },
  {
   "metadata": {
    "ExecuteTime": {
     "end_time": "2024-05-15T16:25:20.023320Z",
     "start_time": "2024-05-15T16:25:20.018559Z"
    }
   },
   "cell_type": "code",
   "source": [
    "gr = pl.read_csv(\"data/growth_rate_processed.csv\")\n",
    "\n",
    "# rename slope to Growth rate\n",
    "gr = gr.rename({\"slope\": \"Growth rate (1/hr)\", \"doubling_time\": \"Doubling time (h)\", \"doubling_time_min\": \"Doubling time (min)\"})\n",
    "\n",
    "# Only keep columns Additive, Replicate, Growth rate\n",
    "gr = gr.select(\"Additive\", \"Growth rate (1/hr)\")\n",
    "\n",
    "gr.head()"
   ],
   "id": "13325625767b545e",
   "outputs": [
    {
     "data": {
      "text/plain": [
       "shape: (5, 2)\n",
       "┌──────────┬────────────────────┐\n",
       "│ Additive ┆ Growth rate (1/hr) │\n",
       "│ ---      ┆ ---                │\n",
       "│ str      ┆ f64                │\n",
       "╞══════════╪════════════════════╡\n",
       "│ B12      ┆ 1.118869           │\n",
       "│ B12      ┆ 1.060833           │\n",
       "│ B12      ┆ 1.102755           │\n",
       "│ Zn       ┆ 1.068039           │\n",
       "│ Zn       ┆ 1.102385           │\n",
       "└──────────┴────────────────────┘"
      ],
      "text/html": [
       "<div><style>\n",
       ".dataframe > thead > tr,\n",
       ".dataframe > tbody > tr {\n",
       "  text-align: right;\n",
       "  white-space: pre-wrap;\n",
       "}\n",
       "</style>\n",
       "<small>shape: (5, 2)</small><table border=\"1\" class=\"dataframe\"><thead><tr><th>Additive</th><th>Growth rate (1/hr)</th></tr><tr><td>str</td><td>f64</td></tr></thead><tbody><tr><td>&quot;B12&quot;</td><td>1.118869</td></tr><tr><td>&quot;B12&quot;</td><td>1.060833</td></tr><tr><td>&quot;B12&quot;</td><td>1.102755</td></tr><tr><td>&quot;Zn&quot;</td><td>1.068039</td></tr><tr><td>&quot;Zn&quot;</td><td>1.102385</td></tr></tbody></table></div>"
      ]
     },
     "execution_count": 327,
     "metadata": {},
     "output_type": "execute_result"
    }
   ],
   "execution_count": 327
  },
  {
   "metadata": {
    "ExecuteTime": {
     "end_time": "2024-05-15T16:25:20.406247Z",
     "start_time": "2024-05-15T16:25:20.403087Z"
    }
   },
   "cell_type": "code",
   "source": [
    "# get mean of growth rate for met\n",
    "met_mean = gr.filter(pl.col(\"Additive\") == \"met\").mean().select(\"Growth rate (1/hr)\")\n",
    "\n",
    "# add a column with met_mean as the value\n",
    "gr = gr.with_columns(pl.lit(met_mean).alias(\"Mean growth rate (1/hr)\"))\n",
    "\n",
    "# calculate growth rate decrease from mean\n",
    "gr = gr.with_columns( ((gr[\"Growth rate (1/hr)\"] / gr[\"Mean growth rate (1/hr)\"])).alias(\"Growth rate defect\"))"
   ],
   "id": "477893e223f43d94",
   "outputs": [],
   "execution_count": 328
  },
  {
   "metadata": {
    "ExecuteTime": {
     "end_time": "2024-05-15T16:28:00.028745Z",
     "start_time": "2024-05-15T16:27:59.839887Z"
    }
   },
   "cell_type": "code",
   "source": [
    "\n",
    "g = sns.catplot(data=gr.to_pandas(), x=\"Additive\", y=\"Growth rate defect\", kind=\"bar\", aspect=1, height=3, alpha=0.5)\n",
    "\n",
    "g.map_dataframe(sns.stripplot, x=\"Additive\", y=\"Growth rate defect\", alpha=0.6, dodge=True, jitter=0.1, size=5)\n",
    "\n",
    "plt.ylim(0.8, 1.05)"
   ],
   "id": "400f369d24c405cf",
   "outputs": [
    {
     "data": {
      "text/plain": [
       "(0.8, 1.05)"
      ]
     },
     "execution_count": 341,
     "metadata": {},
     "output_type": "execute_result"
    },
    {
     "data": {
      "text/plain": [
       "<Figure size 300x300 with 1 Axes>"
      ],
      "image/png": "[encoded data removed]"
     },
     "metadata": {},
     "output_type": "display_data"
    }
   ],
   "execution_count": 341
  },
  {
   "cell_type": "markdown",
   "source": "    # Timeseries stability of aggregate molecules",
   "metadata": {
    "collapsed": false
   },
   "id": "b69454d5c768f6ea"
  },
  {
   "cell_type": "code",
   "source": [
    "elements = [\"ZN\"]\n",
    "element_indices = [np.where(element_ids == element)[0][0] for element in elements]\n",
    "\n",
    "# compute the timeseries for the elements\n",
    "element_vec = C @ P @ E[:, element_indices]\n",
    "\n",
    "# multiply rows of total_counts by element_vec\n",
    "total_counts_zn = total_counts.copy()\n",
    "\n",
    "for i in range(total_counts_zn.shape[0]):\n",
    "    total_counts_zn[i, :] = np.multiply(total_counts_zn[i, :], element_vec.toarray().flatten())\n",
    "    \n",
    "# eliminate columns with all zeros\n",
    "filter_cols = np.any(total_counts_zn, axis=0)\n",
    "total_counts_zn_filter = total_counts_zn[:, filter_cols]\n",
    "\n",
    "# index protein ids by filter_cols\n",
    "protein_ids_filter = protein_ids[filter_cols]"
   ],
   "metadata": {
    "collapsed": false
   },
   "id": "b4d971144b134a48",
   "outputs": [],
   "execution_count": null
  },
  {
   "cell_type": "code",
   "source": [
    "# create a dataframe with the timeseries\n",
    "total_counts_zn_df = pl.DataFrame(total_counts_zn_filter, schema=protein_ids_filter.tolist())\n",
    "\n",
    "# add timestep column\n",
    "total_counts_zn_df = total_counts_zn_df.with_columns(pl.DataFrame(np.arange(0, total_counts_zn_df.shape[0]), schema=[\"Timestep\"]))\n",
    "\n",
    "# melt to long form\n",
    "total_counts_zn_df_m = total_counts_zn_df.melt(value_name=\"Atoms/cell\", variable_name=\"Protein ID\", id_vars=\"Timestep\")\n",
    "\n",
    "# for each protein, find value with timestep 0\n",
    "initial_values = total_counts_zn_df_m.filter(pl.col(\"Timestep\") == 0)\n",
    "\n",
    "# alias the column to avoid confusion\n",
    "initial_values = initial_values.with_columns(pl.col(\"Atoms/cell\").alias(\"Initial Atoms/cell\"))\n",
    "\n",
    "# join with the original dataframe\n",
    "total_counts_zn_df_m = total_counts_zn_df_m.join(initial_values, on=\"Protein ID\", how=\"left\")\n",
    "\n",
    "# filter out proteins with initial atoms/cell less than 100\n",
    "total_counts_zn_df_m = total_counts_zn_df_m.filter(pl.col(\"Initial Atoms/cell\") > 20)\n",
    "\n",
    "# calculate the fold change\n",
    "total_counts_zn_df_m = total_counts_zn_df_m.with_columns( ((total_counts_zn_df_m[\"Atoms/cell\"] +0)/ (total_counts_zn_df_m[\"Initial Atoms/cell\"] +0)).alias(\"Fold change since t=0\"))\n",
    "\n",
    "# create a sum_df from total_counts_zn_df\n",
    "sum_df = total_counts_zn_df_m.group_by(\"Timestep\").agg(pl.sum(\"Atoms/cell\").alias(\"Total atoms\"))\n",
    "\n",
    "# divide sum_df Total atoms by the initial value\n",
    "sum_df = sum_df.with_columns( (sum_df[\"Total atoms\"] / sum_df.filter(pl.col(\"Timestep\") == 0)[\"Total atoms\"][0]).alias(\"Fold change since t=0\"))"
   ],
   "metadata": {
    "collapsed": false
   },
   "id": "71fd184cf5119761",
   "outputs": [],
   "execution_count": null
  },
  {
   "cell_type": "code",
   "source": [
    "# plot timeseries for all proteins in a single big chart\n",
    "sns.lineplot(data=total_counts_zn_df_m.to_pandas(), x=\"Timestep\", y=\"Fold change since t=0\", hue=\"Protein ID\", legend=False, alpha=0.1, palette=\"gray\")\n",
    "\n",
    "\n",
    "# plot the sum as a thicker line\n",
    "sns.lineplot(data=sum_df.to_pandas(), x=\"Timestep\", y=\"Fold change since t=0\", color=\"black\", linewidth=2, label=\"Total Zn atoms/cell\")"
   ],
   "metadata": {
    "collapsed": false
   },
   "id": "7539ff302d7e2e5b",
   "outputs": [],
   "execution_count": null
  },
  {
   "cell_type": "code",
   "source": [
    "uptake_df = sum_df.sort(by=\"Timestep\")\n",
    "\n",
    "# per timestep, calculate the difference from the previous timestep in atoms/cell\n",
    "uptake_df = uptake_df.with_columns( (uptake_df[\"Total atoms\"] - uptake_df[\"Total atoms\"].shift(1)).alias(\"Current uptake\"))\n",
    "\n",
    "# do a 5 row moving average of the current uptake\n",
    "uptake_df = uptake_df.with_columns( (uptake_df[\"Current uptake\"].rolling_mean(window_size=10)).alias(\"Moving average (10s)\"))\n",
    "\n",
    "# drop rows with null values in current uptake\n",
    "uptake_df = uptake_df.filter(pl.col(\"Moving average (10s)\").is_not_null())\n",
    "\n",
    "\n",
    "# plot current uptake\n",
    "sns.lineplot(data=uptake_df.to_pandas(), x=\"Timestep\", y=\"Current uptake\", color=\"black\", linewidth=0.5, alpha=0.1, label=\"Uptake per timestep\")\n",
    "sns.lineplot(data=uptake_df.to_pandas(), x=\"Timestep\", y=\"Moving average (10s)\", color=\"black\", linewidth=1, label=\"10s moving average uptake\")\n",
    "\n",
    "plt.ylim(0, None)"
   ],
   "metadata": {
    "collapsed": false
   },
   "id": "3f72da151d10b21e",
   "outputs": [],
   "execution_count": null
  },
  {
   "cell_type": "code",
   "source": [
    "total_counts_zn_df\n",
    "\n",
    "# select columns with a minimum larger than 100\n",
    "total_counts_zn_df_s = total_counts_zn_df.select(pl.all().min() > 500)\n",
    "include = {k: v[0] for k,v in total_counts_zn_df_s.to_dict(as_series=False).items()}\n",
    "include = [k for k,v in include.items() if v][0:10]\n",
    "\n",
    "# select columns where total_counts_zn_df_pruned is true\n",
    "total_counts_zn_df_pruned = total_counts_zn_df.select(include)\n",
    "\n",
    "# calculate the difference from previous step\n",
    "diff_df = total_counts_zn_df_pruned.with_columns( (total_counts_zn_df_pruned - total_counts_zn_df_pruned.shift(1)))\n",
    "                                     \n",
    "# melt\n",
    "diff_df = diff_df.with_columns(pl.DataFrame(np.arange(0, diff_df.shape[0]), schema=[\"Timestep\"]))\n",
    "\n",
    "diff_df = diff_df.melt(value_name=\"Uptake per protein\", variable_name=\"Protein ID\", id_vars=\"Timestep\")\n",
    "diff_df = diff_df.with_columns( (diff_df[\"Uptake per protein\"].rolling_mean(window_size=20)).alias(\"Moving average (10s)\"))\n",
    "\n",
    "diff_df                                                                         "
   ],
   "metadata": {
    "collapsed": false
   },
   "id": "7af9d604ebd9cab9",
   "outputs": [],
   "execution_count": null
  },
  {
   "cell_type": "code",
   "source": [
    "plt.figure(figsize=(10, 6))\n",
    "\n",
    "# sns.lineplot(data=diff_df.to_pandas(), x=\"Timestep\", y=\"Uptake per protein\", hue=\"Protein ID\", legend=False, alpha=1, linewidth=2, palette=\"gray\")\n",
    "sns.lineplot(data=diff_df.to_pandas(), x=\"Timestep\", y=\"Moving average (10s)\", hue=\"Protein ID\", legend=False, alpha=1, linewidth=1, palette=\"viridis\")\n"
   ],
   "metadata": {
    "collapsed": false
   },
   "id": "a5c3c9463d34f307",
   "outputs": [],
   "execution_count": null
  },
  {
   "metadata": {},
   "cell_type": "markdown",
   "source": "## Transporter mean and noise",
   "id": "4cd19d6ef9092343"
  },
  {
   "metadata": {},
   "cell_type": "code",
   "source": [
    "transporter_IDs = ['ABC-63-CPLX', 'ZNUC-MONOMER', 'YHHO-MONOMER', 'B0752-MONOMER', 'EG11167-MONOMER']\n",
    "\n",
    "# find the indices of the transporters\n",
    "ts_idx = [np.where(protein_ids == transporter)[0][0] for transporter in transporter_IDs]\n",
    "\n",
    "\n",
    "# make df\n",
    "ts_df = pl.DataFrame(total_counts_min[:, ts_idx], schema=transporter_IDs)\n",
    "\n",
    "# plot timeseries\n",
    "plt.figure(figsize=(10, 6))\n",
    "sns.lineplot(data=ts_df.to_pandas(), dashes=False, linewidth=1)"
   ],
   "id": "dfe55f445e1f94d2",
   "outputs": [],
   "execution_count": null
  },
  {
   "metadata": {},
   "cell_type": "code",
   "source": "ts_df.std()",
   "id": "a824b5788f1819b6",
   "outputs": [],
   "execution_count": null
  },
  {
   "cell_type": "code",
   "source": [
    "total_counts_zn_df\n",
    "\n",
    "# select columns with a minimum larger than 100\n",
    "total_counts_zn_df_s = total_counts_zn_df.select(pl.all().min() > 500)\n",
    "include = {k: v[0] for k,v in total_counts_zn_df_s.to_dict(as_series=False).items()}\n",
    "include = [k for k,v in include.items() if v][0:10]\n",
    "\n",
    "# select columns where total_counts_zn_df_pruned is true\n",
    "total_counts_zn_df_pruned = total_counts_zn_df.select(include)\n",
    "\n",
    "# calculate the difference from previous step\n",
    "diff_df = total_counts_zn_df_pruned.with_columns( (total_counts_zn_df_pruned - total_counts_zn_df_pruned.shift(1)))\n",
    "                                     \n",
    "# melt\n",
    "diff_df = diff_df.with_columns(pl.DataFrame(np.arange(0, diff_df.shape[0]), schema=[\"Timestep\"]))\n",
    "\n",
    "diff_df = diff_df.melt(value_name=\"Uptake per protein\", variable_name=\"Protein ID\", id_vars=\"Timestep\")\n",
    "diff_df = diff_df.with_columns( (diff_df[\"Uptake per protein\"].rolling_mean(window_size=20)).alias(\"Moving average (10s)\"))\n",
    "\n",
    "diff_df                                                                         "
   ],
   "metadata": {
    "collapsed": false
   },
   "id": "f71a4ddec4df2d2d",
   "outputs": [],
   "execution_count": null
  },
  {
   "metadata": {},
   "cell_type": "code",
   "source": [
    "plt.figure(figsize=(10, 6))\n",
    "\n",
    "# sns.lineplot(data=diff_df.to_pandas(), x=\"Timestep\", y=\"Uptake per protein\", hue=\"Protein ID\", legend=False, alpha=1, linewidth=2, palette=\"gray\")\n",
    "sns.lineplot(data=diff_df.to_pandas(), x=\"Timestep\", y=\"Moving average (10s)\", hue=\"Protein ID\", legend=False, alpha=1, linewidth=1, palette=\"viridis\")\n"
   ],
   "id": "4b6a200446e42e2a",
   "outputs": [],
   "execution_count": null
  }
 ],
 "metadata": {
  "kernelspec": {
   "name": "python3",
   "language": "python",
   "display_name": "Python 3 (ipykernel)"
  }
 },
 "nbformat": 4,
 "nbformat_minor": 5
}
