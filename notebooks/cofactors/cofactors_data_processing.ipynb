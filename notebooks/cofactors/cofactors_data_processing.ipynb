{
 "cells": [
  {
   "cell_type": "markdown",
   "source": [
    "# Setup"
   ],
   "metadata": {
    "collapsed": false
   }
  },
  {
   "cell_type": "markdown",
   "source": [],
   "metadata": {
    "collapsed": false
   }
  },
  {
   "cell_type": "code",
   "execution_count": 1,
   "metadata": {
    "collapsed": true,
    "ExecuteTime": {
     "end_time": "2024-02-26T23:21:52.852984Z",
     "start_time": "2024-02-26T23:21:52.781619Z"
    }
   },
   "outputs": [],
   "source": [
    "import numpy as np\n",
    "\n",
    "import seaborn as sns\n",
    "import pandas as pd\n",
    "import os\n",
    "import pprint\n",
    "import ast\n",
    "import re\n",
    "import matplotlib.pyplot as plt\n",
    "import dill\n",
    "import requests\n",
    "import xmltodict\n",
    "import json\n",
    "\n",
    "pp = pprint.PrettyPrinter(depth=6)\n",
    "\n",
    "os.chdir(os.path.expanduser('~/vivarium-ecoli'))\n",
    "\n",
    "ALLOWED_METAL_NAMES =   {'Iron': 'FE+2', 'Cobalt': 'CO+2', 'Copper': 'CU+2', 'Manganese': 'MN+2', 'Molybdenum': 'CPD-8123', 'Nickel': 'NI+2', 'Zinc': 'ZN+2',\n",
    "                        'Calcium': 'CA+2', 'Magnesium': 'MG+2', 'Sodium': 'NA+', 'Potassium': 'K+',\n",
    "                        'Iron-sulfur \\(4Fe-4S\\)': 'CPD-7', 'Iron-sulfur \\(2Fe-2S\\)': 'CPD-6',\n",
    "                         'Iron-sulfur \\(4Fe-4S-S-AdoMet\\)': 'CPD-7', 'Iron-sulfur \\(3Fe-4S\\)': '3FE-4S', 'Iron-oxo-sulfur \\(4Fe-2O-2S\\)': 'CPD-7',\n",
    "                         'Iron-sulfur': 'CPD-7', # has to be after others since it is a substring of others\n",
    "                        'heme': 'Heme-b', 'Molybdate': 'CPD-3', 'heme B': 'Heme-b', 'Cobalamin': 'COB-I-ALAMIN',\n",
    "                         'Selenocysteine': 'L-SELENOCYSTEINE',\n",
    "                        'Divalent metal cation': 'Any+2'}\n",
    "\n",
    "\n",
    "ACCEPTED_OTHER_FEATURES = {'PYRIDOXAL_PHOSPHATE', 'THIAMINE-PYROPHOSPHATE', 'FMN', 'FAD', 'LIPOIC-ACID', 'BIOTIN'}\n",
    "\n",
    "AMINO_ACID_MAP = {'A': 'ALA', 'C': 'CYS', 'D': 'ASP', 'E': 'GLU', 'F': 'PHE', 'G': 'GLY', 'H': 'HIS', 'I': 'ILE',\n",
    "                  'K': 'LYS', 'L': 'LEU', 'M': 'MET', 'N': 'ASN', 'P': 'PRO', 'Q': 'GLN', 'R': 'ARG', 'S': 'SER',\n",
    "                  'T': 'THR', 'V': 'VAL', 'W': 'TRP', 'Y': 'TYR', 'U': 'SEL', '*': 'TER'}\n",
    "\n",
    "# Create a list of temporarily allowed Gene Ontology terms to fix gaps in pathway annotations. Usually non-metabolic\n",
    "# Currently: Tx Reg, Transcription, translation, DNA replication, Cell division, iron-sulfur cluster assembly, proteolysis, dna repair, copper response\n",
    "TEMP_GO_TERMS = {'GO:0006355': 'Regulation of transcription', 'GO:0010468': 'Regulation of transcription',\n",
    "                  'GO:0006351': 'Transcription', 'GO:0006350': 'Transcription',\n",
    "                  'GO:0006412': 'Translation', 'GO:0006260': 'DNA replication', 'GO:0006457': 'Protein folding', 'GO:0045454': 'Redox homeostasis',\n",
    "                  'GO:0051301': 'Cell division', 'GO:0015288': 'Porin',\n",
    "                  'GO:0016226': 'Iron-sulfur cluster assembly', 'GO:0006508': 'Proteolysis', 'GO:0006281': 'DNA repair',\n",
    "                  'GO:0046688': 'Response to copper ion'}\n",
    "\n",
    "\n",
    "# as residues\n",
    "AMINO_ACID_RESIDUE_MASSES = {\n",
    "    'ALA': 71.03711, 'ARG': 156.10111, 'ASN': 114.04293, 'ASP': 115.02694,\n",
    "    'CYS': 103.00919, 'GLU': 129.04259, 'GLN': 128.05858, 'GLY': 57.02146,\n",
    "    'HIS': 137.05891, 'ILE': 113.08406, 'LEU': 113.08406, 'LYS': 128.09496,\n",
    "    'MET': 131.04049, 'PHE': 147.06841, 'PRO': 97.05276, 'SER': 87.03203,\n",
    "    'THR': 101.04768, 'TRP': 186.07931, 'TYR': 163.06333, 'VAL': 99.06841,\n",
    "    'SEL': 150.0379, 'TER': 0.0\n",
    "}\n",
    "\n",
    "\n",
    "erroneous_monomer_metal_interactions = [\"EG11415-MONOMER\", \"EG12132-MONOMER\",\n",
    "    \"EG12332-MONOMER\", \"EG11378-MONOMER\", \"G7748-MONOMER\", \"CRR-MONOMER\", \"EG11663-MONOMER\", \"GLYOXI-MONOMER\"]\n",
    "\n",
    "def get_pathway_ith_level_parents(cur_pathway_idx, pathway_matrix, name_list, level_vector, level=2, parent_dict=None):\n",
    "\n",
    "    if parent_dict is None:\n",
    "        parent_dict = {}\n",
    "\n",
    "    cur_pathway_level = level_vector[cur_pathway_idx]\n",
    "\n",
    "    if cur_pathway_level == level:\n",
    "        parent_dict[name_list[cur_pathway_idx]] = cur_pathway_level\n",
    "\n",
    "    parent_slice = pathway_matrix[:, cur_pathway_idx]\n",
    "    parent_idxs = np.where(parent_slice != 0)[0]\n",
    "\n",
    "\n",
    "    for idx in parent_idxs:\n",
    "\n",
    "        _ = get_pathway_ith_level_parents(idx, pathway_matrix, name_list, level_vector, level, parent_dict)\n",
    "\n",
    "    return parent_dict"
   ]
  },
  {
   "cell_type": "markdown",
   "source": [
    "## Reload data"
   ],
   "metadata": {
    "collapsed": false
   }
  },
  {
   "cell_type": "code",
   "execution_count": 2,
   "outputs": [],
   "source": [
    "parsed_complex_df = pd.read_csv('notebooks/cofactors/data/raw_complexes.csv', index_col=False)\n",
    "\n",
    "# read stoichiometry, cofactors and enzyme_reaction as literal sets\n",
    "for column in ['stoichiometry', 'cofactors', 'enzyme_reaction']:\n",
    "    parsed_complex_df[column] = parsed_complex_df[column].apply(ast.literal_eval)\n",
    "\n",
    "parsed_protein_df = pd.read_csv('notebooks/cofactors/data/raw_proteins.csv', index_col=False)\n",
    "\n",
    "for column in ['cofactors', 'enzyme_reaction', 'metal_features', 'other_features', 'direct_annotations', 'go_annotations']:\n",
    "    parsed_protein_df[column] = parsed_protein_df[column].apply(ast.literal_eval)\n",
    "\n",
    "\n",
    "parsed_cofactor_df = pd.read_csv('notebooks/cofactors/data/raw_cofactors.csv', index_col=False)\n",
    "\n",
    "for column in ['elemental_composition']:\n",
    "    parsed_cofactor_df[column] = parsed_cofactor_df[column].apply(ast.literal_eval)\n",
    "\n",
    "parsed_pathway_df = pd.read_csv('notebooks/cofactors/data/raw_pathways.csv', index_col=False)\n",
    "\n",
    "for column in ['parents', 'children']:\n",
    "    parsed_pathway_df[column] = parsed_pathway_df[column].apply(ast.literal_eval)\n",
    "\n",
    "# add GO \"pathways\" to pathway df\n",
    "go_collection = []\n",
    "go_collection.append({'id': 'Other functions', 'common_name': 'Other functions', 'level': 1, 'parents': [], 'children': []})\n",
    "\n",
    "for go_term, go_name in TEMP_GO_TERMS.items():\n",
    "    go_collection[0]['children'].append(go_name)\n",
    "    go_collection.append({'id': go_name, 'common_name': go_name, 'level': 2, 'parents': ['Other functions'], 'children': []})\n",
    "\n",
    "go_df = pd.DataFrame(go_collection)\n",
    "\n",
    "parsed_pathway_df = pd.concat([parsed_pathway_df, go_df], ignore_index=True)\n",
    "# parsed_pathway_df\n",
    "\n",
    "\n",
    "# add membrane protein areas\n",
    "membrane_monomers = pd.read_csv('notebooks/cofactors/data/monomer_vs_area.csv', index_col=False)\n",
    "membrane_complexes = pd.read_csv('notebooks/cofactors/data/complex_vs_area.csv', index_col=False)\n",
    "\n",
    "# rename complex column in membrane_complexes to id\n",
    "membrane_complexes = membrane_complexes.rename(columns={'complex': 'id'})\n",
    "\n",
    "# concat, pick out id and area_trans\n",
    "membrane_proteins = pd.concat([membrane_monomers, membrane_complexes], ignore_index=True)\n",
    "membrane_proteins = membrane_proteins.loc[:, ['id', 'area_trans']]"
   ],
   "metadata": {
    "collapsed": false,
    "ExecuteTime": {
     "end_time": "2024-02-26T23:21:53.060884Z",
     "start_time": "2024-02-26T23:21:52.854712Z"
    }
   }
  },
  {
   "cell_type": "markdown",
   "source": [
    "# Data processing into final tables\n",
    "## Specific adjustments"
   ],
   "metadata": {
    "collapsed": false
   }
  },
  {
   "cell_type": "code",
   "execution_count": 3,
   "outputs": [],
   "source": [
    "# removing specific troublesome interactions that have been discovered in the data\n",
    "# should not be in model\n",
    "\n",
    "\n",
    "# remove metal features from EG11415-MONOMER in parsed_protein_df\\\n",
    "for protein in erroneous_monomer_metal_interactions:\n",
    "    prot_idx = np.where(parsed_protein_df['id'] == protein)[0][0]\n",
    "    parsed_protein_df.at[prot_idx, 'metal_features'] = []\n",
    "\n",
    "# classify folE gene use as cofactor production (THF)\n",
    "pathway_idx = parsed_pathway_df[parsed_pathway_df['id'] == '6-HM-Dihydropterin-PP-Biosynthesis'].index[0]\n",
    "parsed_pathway_df.at[pathway_idx, 'parents'] = ['Cofactor-Biosynthesis']\n",
    "\n",
    "protein_idx = parsed_protein_df[parsed_protein_df['id'] == 'GTP-CYCLOHYDRO-I-MONOMER'].index[0]\n",
    "parsed_protein_df.at[protein_idx, 'direct_annotations'] = set(['PWY-6147'])\n",
    "\n",
    "\n",
    "# Add uncategorized pathways\n",
    "new_rows = [\n",
    "    {'id': 'Uncategorized (I)', 'parents': [], 'children': ['Uncategorized (II)'], 'level': 1, 'common_name': 'Uncategorized'},\n",
    "    {'id': 'Uncategorized (II)', 'parents': ['Uncategorized (I)'], 'children': ['Uncategorized (III)'], 'level': 2, 'common_name': 'Uncategorized'},\n",
    "    {'id': 'Uncategorized (III)', 'parents': ['Uncategorized (II)'], 'children': [], 'level': 3, 'common_name': 'Uncategorized'},\n",
    "]\n",
    "\n",
    "# Convert the dictionaries to a DataFrame.\n",
    "new_rows_df = pd.DataFrame(new_rows)\n",
    "\n",
    "# Insert the new rows into the existing DataFrame.\n",
    "# Assuming you want to append at the end:\n",
    "parsed_pathway_df = pd.concat([parsed_pathway_df, new_rows_df], ignore_index=True)\n",
    "\n"
   ],
   "metadata": {
    "collapsed": false,
    "ExecuteTime": {
     "end_time": "2024-02-26T23:21:53.069131Z",
     "start_time": "2024-02-26T23:21:53.063048Z"
    }
   }
  },
  {
   "cell_type": "code",
   "execution_count": 4,
   "outputs": [
    {
     "data": {
      "text/plain": "                                            id  \\\n0      1-ACYLGLYCEROL-3-P-ACYLTRANSFER-MONOMER   \n1                                1-PFK-MONOMER   \n2             2-DEHYDROPANTOATE-REDUCT-MONOMER   \n3                 2-ISOPROPYLMALATESYN-MONOMER   \n4     2-OCTAPRENYL-METHOXY-BENZOQ-METH-MONOMER   \n...                                        ...   \n4429                              YTFR-MONOMER   \n4430                              YTFT-MONOMER   \n4431                              ZNUA-MONOMER   \n4432                              ZNUB-MONOMER   \n4433                              ZNUC-MONOMER   \n\n                                            common_name  \\\n0     1-acylglycerol-3-phosphate <i>O</i>-acyltransf...   \n1                                 1-phosphofructokinase   \n2                         2-dehydropantoate 2-reductase   \n3                            2-isopropylmalate synthase   \n4     bifunctional 2-octaprenyl-6-methoxy-1,4-benzoq...   \n...                                                 ...   \n4429  galactofuranose ABC transporter putative ATP b...   \n4430  galactofuranose ABC transporter putative membr...   \n4431  Zn<sup>2+</sup> ABC transporter periplasmic bi...   \n4432   Zn<sup>2+</sup> ABC transporter membrane subunit   \n4433  Zn<sup>2+</sup> ABC transporter ATP binding su...   \n\n                                                    seq  \\\n0     MLYIFRLIITVIYSILVCVFGSIYCLFSPRNPKHVATFGHMFGRLA...   \n1     MSRRVATITLNPAYDLVGFCPEIERGEVNLVKTTGLHAAGKGINVA...   \n2     MKITVLGCGALGQLWLTALCKQGHEVQGWLRVPQPYCSVNLVETDG...   \n3     MSQQVIIFDTTLRDGEQALQASLSVKEKLQIALALERMGVDVMEVG...   \n4     MVDKSQETTHFGFQTVAKEQKADMVAHVFHSVASKYDVMNDLMSFG...   \n...                                                 ...   \n4429  MTTDQHQEILRTEGLSKFFPGVKALDNVDFSLRRGEIMALLGENGA...   \n4430  MMPQSLPDTTTPKRRFRWPTGMPQLVALLLVLLVDSLVAPHFWQVV...   \n4431  MLHKKTLLFAALSAALWGGATQAADAAVVASLKPVGFIASAIADGV...   \n4432  MIELLFPGWLAGIMLACAAGPLGSFVVWRRMSYFGDTLAHASLLGV...   \n4433  MTSLVSLENVSVSFGQRRVLSDVSLELKPGKILTLLGPNGAGKSTL...   \n\n                                        enzyme_reaction cofactors  \\\n0     {ENZRXN0-7462, ENZRXN0-7993, ENZRXN0-7994, ENZ...        {}   \n1                                                    {}        {}   \n2                     {2-DEHYDROPANTOATE-REDUCT-ENZRXN}        {}   \n3                                        {ENZRXN0-6250}        {}   \n4     {ADOMET-DMK-METHYLTRANSFER-ENZRXN, 2-OCTAPRENY...        {}   \n...                                                 ...       ...   \n4429                                                 {}        {}   \n4430                                                 {}        {}   \n4431                                                 {}        {}   \n4432                                                 {}        {}   \n4433                                                 {}        {}   \n\n                                         metal_features other_features  \\\n0                                                    []             []   \n1                                                    []          [ATP]   \n2                                                    []         [NADP]   \n3                                                    []             []   \n4                                                    []             []   \n...                                                 ...            ...   \n4429                                                 []          [ATP]   \n4430                                                 []             []   \n4431  [zinc-coordinating residues, implicated in a s...             []   \n4432                                                 []             []   \n4433                                                 []          [ATP]   \n\n                  direct_annotations  \\\n0              {PWY-5667, PWY0-1319}   \n1                        {PWY0-1314}   \n2                        {PANTO-PWY}   \n3                       {LEUSYN-PWY}   \n4     {PWY-6708, MENAQUINONESYN-PWY}   \n...                              ...   \n4429           {Uncategorized (III)}   \n4430           {Uncategorized (III)}   \n4431           {Uncategorized (III)}   \n4432           {Uncategorized (III)}   \n4433           {Uncategorized (III)}   \n\n                                         go_annotations uniprot_id  \n0     {GO:0006654, GO:0006629, GO:0003841, GO:000865...     P26647  \n1     {GO:0016773, GO:0005829, GO:0005524, GO:004683...     P0AEW9  \n2     {GO:0005829, GO:0050661, GO:0008677, GO:001661...     P0A9J4  \n3     {GO:0019752, GO:0046872, GO:0005829, GO:000385...     P09151  \n4     {GO:0006744, GO:0008757, GO:0009234, GO:000551...     P0A887  \n...                                                 ...        ...  \n4429  {GO:0140271, GO:0042626, GO:0043190, GO:000552...     Q6BEX0  \n4430  {GO:0140271, GO:0043190, GO:0005515, GO:000864...     P39328  \n4431  {GO:0046872, GO:0030288, GO:0008270, GO:004259...     P39172  \n4432  {GO:0043190, GO:0000006, GO:0010043, GO:007157...     P39832  \n4433  {GO:0043190, GO:0042626, GO:0005524, GO:001563...     P0A9X1  \n\n[4434 rows x 10 columns]",
      "text/html": "<div>\n<style scoped>\n    .dataframe tbody tr th:only-of-type {\n        vertical-align: middle;\n    }\n\n    .dataframe tbody tr th {\n        vertical-align: top;\n    }\n\n    .dataframe thead th {\n        text-align: right;\n    }\n</style>\n<table border=\"1\" class=\"dataframe\">\n  <thead>\n    <tr style=\"text-align: right;\">\n      <th></th>\n      <th>id</th>\n      <th>common_name</th>\n      <th>seq</th>\n      <th>enzyme_reaction</th>\n      <th>cofactors</th>\n      <th>metal_features</th>\n      <th>other_features</th>\n      <th>direct_annotations</th>\n      <th>go_annotations</th>\n      <th>uniprot_id</th>\n    </tr>\n  </thead>\n  <tbody>\n    <tr>\n      <th>0</th>\n      <td>1-ACYLGLYCEROL-3-P-ACYLTRANSFER-MONOMER</td>\n      <td>1-acylglycerol-3-phosphate &lt;i&gt;O&lt;/i&gt;-acyltransf...</td>\n      <td>MLYIFRLIITVIYSILVCVFGSIYCLFSPRNPKHVATFGHMFGRLA...</td>\n      <td>{ENZRXN0-7462, ENZRXN0-7993, ENZRXN0-7994, ENZ...</td>\n      <td>{}</td>\n      <td>[]</td>\n      <td>[]</td>\n      <td>{PWY-5667, PWY0-1319}</td>\n      <td>{GO:0006654, GO:0006629, GO:0003841, GO:000865...</td>\n      <td>P26647</td>\n    </tr>\n    <tr>\n      <th>1</th>\n      <td>1-PFK-MONOMER</td>\n      <td>1-phosphofructokinase</td>\n      <td>MSRRVATITLNPAYDLVGFCPEIERGEVNLVKTTGLHAAGKGINVA...</td>\n      <td>{}</td>\n      <td>{}</td>\n      <td>[]</td>\n      <td>[ATP]</td>\n      <td>{PWY0-1314}</td>\n      <td>{GO:0016773, GO:0005829, GO:0005524, GO:004683...</td>\n      <td>P0AEW9</td>\n    </tr>\n    <tr>\n      <th>2</th>\n      <td>2-DEHYDROPANTOATE-REDUCT-MONOMER</td>\n      <td>2-dehydropantoate 2-reductase</td>\n      <td>MKITVLGCGALGQLWLTALCKQGHEVQGWLRVPQPYCSVNLVETDG...</td>\n      <td>{2-DEHYDROPANTOATE-REDUCT-ENZRXN}</td>\n      <td>{}</td>\n      <td>[]</td>\n      <td>[NADP]</td>\n      <td>{PANTO-PWY}</td>\n      <td>{GO:0005829, GO:0050661, GO:0008677, GO:001661...</td>\n      <td>P0A9J4</td>\n    </tr>\n    <tr>\n      <th>3</th>\n      <td>2-ISOPROPYLMALATESYN-MONOMER</td>\n      <td>2-isopropylmalate synthase</td>\n      <td>MSQQVIIFDTTLRDGEQALQASLSVKEKLQIALALERMGVDVMEVG...</td>\n      <td>{ENZRXN0-6250}</td>\n      <td>{}</td>\n      <td>[]</td>\n      <td>[]</td>\n      <td>{LEUSYN-PWY}</td>\n      <td>{GO:0019752, GO:0046872, GO:0005829, GO:000385...</td>\n      <td>P09151</td>\n    </tr>\n    <tr>\n      <th>4</th>\n      <td>2-OCTAPRENYL-METHOXY-BENZOQ-METH-MONOMER</td>\n      <td>bifunctional 2-octaprenyl-6-methoxy-1,4-benzoq...</td>\n      <td>MVDKSQETTHFGFQTVAKEQKADMVAHVFHSVASKYDVMNDLMSFG...</td>\n      <td>{ADOMET-DMK-METHYLTRANSFER-ENZRXN, 2-OCTAPRENY...</td>\n      <td>{}</td>\n      <td>[]</td>\n      <td>[]</td>\n      <td>{PWY-6708, MENAQUINONESYN-PWY}</td>\n      <td>{GO:0006744, GO:0008757, GO:0009234, GO:000551...</td>\n      <td>P0A887</td>\n    </tr>\n    <tr>\n      <th>...</th>\n      <td>...</td>\n      <td>...</td>\n      <td>...</td>\n      <td>...</td>\n      <td>...</td>\n      <td>...</td>\n      <td>...</td>\n      <td>...</td>\n      <td>...</td>\n      <td>...</td>\n    </tr>\n    <tr>\n      <th>4429</th>\n      <td>YTFR-MONOMER</td>\n      <td>galactofuranose ABC transporter putative ATP b...</td>\n      <td>MTTDQHQEILRTEGLSKFFPGVKALDNVDFSLRRGEIMALLGENGA...</td>\n      <td>{}</td>\n      <td>{}</td>\n      <td>[]</td>\n      <td>[ATP]</td>\n      <td>{Uncategorized (III)}</td>\n      <td>{GO:0140271, GO:0042626, GO:0043190, GO:000552...</td>\n      <td>Q6BEX0</td>\n    </tr>\n    <tr>\n      <th>4430</th>\n      <td>YTFT-MONOMER</td>\n      <td>galactofuranose ABC transporter putative membr...</td>\n      <td>MMPQSLPDTTTPKRRFRWPTGMPQLVALLLVLLVDSLVAPHFWQVV...</td>\n      <td>{}</td>\n      <td>{}</td>\n      <td>[]</td>\n      <td>[]</td>\n      <td>{Uncategorized (III)}</td>\n      <td>{GO:0140271, GO:0043190, GO:0005515, GO:000864...</td>\n      <td>P39328</td>\n    </tr>\n    <tr>\n      <th>4431</th>\n      <td>ZNUA-MONOMER</td>\n      <td>Zn&lt;sup&gt;2+&lt;/sup&gt; ABC transporter periplasmic bi...</td>\n      <td>MLHKKTLLFAALSAALWGGATQAADAAVVASLKPVGFIASAIADGV...</td>\n      <td>{}</td>\n      <td>{}</td>\n      <td>[zinc-coordinating residues, implicated in a s...</td>\n      <td>[]</td>\n      <td>{Uncategorized (III)}</td>\n      <td>{GO:0046872, GO:0030288, GO:0008270, GO:004259...</td>\n      <td>P39172</td>\n    </tr>\n    <tr>\n      <th>4432</th>\n      <td>ZNUB-MONOMER</td>\n      <td>Zn&lt;sup&gt;2+&lt;/sup&gt; ABC transporter membrane subunit</td>\n      <td>MIELLFPGWLAGIMLACAAGPLGSFVVWRRMSYFGDTLAHASLLGV...</td>\n      <td>{}</td>\n      <td>{}</td>\n      <td>[]</td>\n      <td>[]</td>\n      <td>{Uncategorized (III)}</td>\n      <td>{GO:0043190, GO:0000006, GO:0010043, GO:007157...</td>\n      <td>P39832</td>\n    </tr>\n    <tr>\n      <th>4433</th>\n      <td>ZNUC-MONOMER</td>\n      <td>Zn&lt;sup&gt;2+&lt;/sup&gt; ABC transporter ATP binding su...</td>\n      <td>MTSLVSLENVSVSFGQRRVLSDVSLELKPGKILTLLGPNGAGKSTL...</td>\n      <td>{}</td>\n      <td>{}</td>\n      <td>[]</td>\n      <td>[ATP]</td>\n      <td>{Uncategorized (III)}</td>\n      <td>{GO:0043190, GO:0042626, GO:0005524, GO:001563...</td>\n      <td>P0A9X1</td>\n    </tr>\n  </tbody>\n</table>\n<p>4434 rows × 10 columns</p>\n</div>"
     },
     "execution_count": 4,
     "metadata": {},
     "output_type": "execute_result"
    }
   ],
   "source": [
    "# for all proteins with empty direct_annotations, add 'Uncategorized (III)'\n",
    "for i in range(len(parsed_protein_df.index)):\n",
    "    if len(parsed_protein_df.at[i, 'direct_annotations']) == 0:\n",
    "        parsed_protein_df.at[i, 'direct_annotations'] = set(['Uncategorized (III)'])\n",
    "        \n",
    "parsed_protein_df"
   ],
   "metadata": {
    "collapsed": false,
    "ExecuteTime": {
     "end_time": "2024-02-26T23:21:53.161807Z",
     "start_time": "2024-02-26T23:21:53.131067Z"
    }
   }
  },
  {
   "cell_type": "markdown",
   "source": [
    "## Add membrane protein areas to parsed_protein_df"
   ],
   "metadata": {
    "collapsed": false
   }
  },
  {
   "cell_type": "markdown",
   "source": [
    "## Process raw EcoCyc annotations into standard EcoCyc names"
   ],
   "metadata": {
    "collapsed": false
   }
  },
  {
   "cell_type": "code",
   "execution_count": 5,
   "outputs": [
    {
     "name": "stdout",
     "output_type": "stream",
     "text": [
      "No match for UniProt: Magnesium or manganese. in 3-ISOPROPYLMALDEHYDROG-MONOMER\n",
      "No match for conserved, Fe(III) binding motif in BASS-MONOMER\n",
      "No match for predicted heme d ligand in CYDA-MONOMER\n",
      "No match for UniProt: Zn(2+); catalytic. in CYTDEAM-MONOMER\n",
      "No match for UniProt: Fe(2+); catalytic. in CYTDEAM-MONOMER\n",
      "No match for The amino-terminus of ClpA contains a Zinc binding site. in EG10156-MONOMER\n",
      "No match for The active-site magnesium ion is coordinated by three aspartate residues (401, 403, 555). Two of them form part of \n",
      "the PDXD active-site motif. in EG10238-MONOMER\n",
      "No match for Divalent magnesium ions are chelated by three aspartate residues, two in the conserved DPD sequence (345, 347) \n",
      "and one in the conserved EGYMD sequence (269). in EG10239-MONOMER\n",
      "No match for Based on crystal structures, Glu-265 and Asp-309 coordinate a divalent cation. in EG10239-MONOMER\n",
      "No match for These residues are thought to coordinate the one or two divalent magnesium ions required for the \n",
      "gyrase cleavage-religation reaction. in EG10424-MONOMER\n",
      "No match for Mg<sup>2+</sup> binding site in EG10599-MONOMER\n",
      "No match for This metal-binding motif was identified in a crystal structure [<a href=\"http://www.ncbi.nlm.nih.gov/pubmed/16885166\">Ito06</a>]. in EG10696-MONOMER\n",
      "No match for Asp-10 and Asp-134 coordinate a divalent manganese ion which, when present may inhibit enzymatic activity. in EG10860-MONOMER\n",
      "No match for Asn-44 and Glu-48 coordinate magnesium when it is present. in EG10860-MONOMER\n",
      "No match for Asp-10, Glu-48 and Asp-70 coordinate a divalent manganese ion which is required for catalytic activity. in EG10860-MONOMER\n",
      "No match for binds Zn<sup>2+</sup> and Cd<sup>2+</sup> with high affinity and Fe<sup>2+</sup> with lower affinity in EG11167-MONOMER\n",
      "No match for binds Fe<sup>2+</sup> with high affinity in EG11167-MONOMER\n",
      "No match for Zn<sup>2+</sup> binding in EG11918-MONOMER\n",
      "No match for predicted zinc binding site in EG11955-MONOMER\n",
      "No match for coordination of zinc in EG12045-MONOMER\n",
      "No match for cluster of cysteines that may be involved in binding zinc; possible zinc finger domains in EG12045-MONOMER\n",
      "No match for conserved histidines located in periplasmic regions on either side of the WWD region; ligands for heme in holoCcmE in EG12054-MONOMER\n",
      "No match for Ligands to <i>b</i> heme in EG12054-MONOMER\n",
      "No match for UniProt: Zn(2+); catalytic. in EG12097-MONOMER\n",
      "No match for Calcium in EG12244-MONOMER\n",
      "No match for substrate binding oxidation site: Cu(I) &rarr; Cu(II) in EG12318-MONOMER\n",
      "No match for labile or regulatory copper binding site; functions as an electron transfer site not a substrate reaction site in EG12318-MONOMER\n",
      "No match for type I, blue copper site in EG12318-MONOMER\n",
      "No match for type III, coupled binuclear Cu site in EG12318-MONOMER\n",
      "No match for a third Met ligand is likely located in the region 380-403; substrate binding oxidation site: Cu(I) &rarr; Cu(II) in EG12318-MONOMER\n",
      "No match for type II, non-blue copper site in EG12318-MONOMER\n",
      "No match for conserved in members of the TEES family of bacterial GTPases; implicated in potassium binding in <i>S. thermophilus</i> nFeoB in FEOB-MONOMER\n",
      "No match for 4Fe:4S coordination site in FUM-FE-S\n",
      "No match for 3Fe:4S coordination site in FUM-FE-S\n",
      "No match for 2Fe:2S coordination site in FUM-FE-S\n",
      "No match for UniProt: Copper(1+). in G6263-MONOMER\n",
      "No match for Ag(I) binding, symmetrical binding of two Ag(I) ions at the CusS dimer interface; F43, H176 and H42' co-ordinate one Ag(I) ion while F43', H176' and H42 coordinate the second in G6318-MONOMER\n",
      "No match for Ag(I) binding; involved in binding one Ag(I) ion per CusS monomer in G6318-MONOMER\n",
      "No match for Each of the cysteines in this conserved iron-binding motif is individually required\n",
      "for MiaB enzymatic activity. in G6364-MONOMER\n",
      "No match for potential metal binding site in G6527-MONOMER\n",
      "No match for potential Zn(2) binding site in G6527-MONOMER\n",
      "No match for enzyme shows preference for Fe<sup>2+</sup>, Ni<sup>2+</sup> and Co<sup>2+</sup> over Zn<sup>2+</sup> in G6530-MONOMER\n",
      "No match for Cu<sup>2+</sup>-binding site in G7014-MONOMER\n",
      "No match for potential, conserved copper binding site in G7139-MONOMER\n",
      "No match for zinc binding site in G7430-MONOMER\n",
      "No match for zinc binding in G7458-MONOMER\n",
      "No match for Cys ligands for the nickel ion of the Ni-Fe active site in HYAB-MONOMER\n",
      "No match for heme <i>b</i> ligand in HYAC-MONOMER\n",
      "No match for ligand single calcium ions bound to each monomer of the homodimer; R167 and Ser152 ligands are from monomer A, Ser172 ligand is from monomer B in MONOMER0-341\n",
      "No match for predicted copper ligands in NADH-DHII-MONOMER\n",
      "No match for UniProt: Magnesium or cobalt. in NAG1P-URIDYLTRANS-MONOMER\n",
      "No match for coordinates a molybdenum hydroxo ligand in NARG-MONOMER\n",
      "No match for [4Fe-4S] coordination; FS1 in NARY-MONOMER\n",
      "No match for [3Fe-4S] coordination, FS4 in NARY-MONOMER\n",
      "No match for [4Fe-4S] coordination, FS2 in NARY-MONOMER\n",
      "No match for [4Fe-4S] corodination, FS3 in NARY-MONOMER\n",
      "No match for implicated in Na<sup>+</sup> binding above pH7 in NHAA-MONOMER\n",
      "No match for These residues make up the zinc-binding site. Histidines 79 and 238 appear to directly coordinate zinc, with\n",
      "additional coordination provided by one of the two other residues. All four are essential for catalytic\n",
      "activity [<a href=\"http://www.ncbi.nlm.nih.gov/pubmed/11148046\">Jackman01</a>]. Extended X-ray absorption fine structure spectroscopy suggests that aspartate-246\n",
      "coordinates zinc with the aid of a solvent molecule [<a href=\"http://www.ncbi.nlm.nih.gov/pubmed/12620676\">McClure03</a>]. in UDPACYLGLCNACDEACETYL-MONOMER\n",
      "No match for methionine residues shown to coordinate Cu(I) in the periplasmic binding cleft in YBDE-MONOMER\n",
      "No match for residues constituting a (Met<sub>2</sub> O/N) metal binding motif in YBDE-MONOMER\n",
      "No match for methionine pair located in transmembrane region of protein; suggested to form binding site as part of a methionine shuttle for movement of substrate in YBDE-MONOMER\n",
      "No match for methionine pair located in periplasmic region of protein; suggested to form binding site as part of a methionine shuttle for movement of substrate in YBDE-MONOMER\n",
      "No match for implicated in metal (Zn<sup>2+</sup> and Cd<sup>2+</sup>) coordination in YIIP-MONOMER\n",
      "No match for zinc-coordinating residues in ZNUA-MONOMER\n",
      "No match for implicated in a second zinc binding site in ZNUA-MONOMER\n"
     ]
    }
   ],
   "source": [
    "\n",
    "# remove all \\ characters from keys in ALLOWED_METAL_NAMES\n",
    "NON_REGEX_METAL = {key.replace('\\\\', ''): value for key, value in ALLOWED_METAL_NAMES.items()}\n",
    "\n",
    "parsed_protein_df['metal_features_processed'] = 0\n",
    "parsed_protein_df['metal_features_processed'] = parsed_protein_df['metal_features_processed'].astype(object)\n",
    "\n",
    "metal_pattern = '|'.join(ALLOWED_METAL_NAMES.keys())\n",
    "metal_regex = re.compile(f'(({metal_pattern})(\\s\\d[\\.,;]|[\\.,;]|\\s\\())')\n",
    "\n",
    "\n",
    "for i in range(len(parsed_protein_df.index)):\n",
    "\n",
    "    metal_binding = parsed_protein_df.loc[i, 'metal_features']\n",
    "\n",
    "    metal_count_dict = {}\n",
    "    existing_matches = set()\n",
    "\n",
    "    for feature in metal_binding:\n",
    "        matches = metal_regex.search(feature)\n",
    "        if matches:\n",
    "            metal = matches.group(0)[:-1]\n",
    "\n",
    "            # eliminate duplicates\n",
    "            if metal not in existing_matches:\n",
    "\n",
    "                existing_matches.add(metal)\n",
    "\n",
    "                if 'heme' in feature:\n",
    "                    metal = metal.replace('Iron', 'heme')\n",
    "                if 'alamin' in feature:\n",
    "                    metal = metal.replace('Cobalt', 'Cobalamin')\n",
    "\n",
    "                # check if last char of metal is a number, then crop\n",
    "                if metal[-1].isdigit():\n",
    "                    metal = metal[:-2]\n",
    "\n",
    "                metal = metal.strip()\n",
    "\n",
    "                # replace metal name with allowed metal name\n",
    "                metal = NON_REGEX_METAL[metal]\n",
    "\n",
    "                if metal in metal_count_dict:\n",
    "                    metal_count_dict[metal] += 1\n",
    "                else:\n",
    "                    metal_count_dict[metal] = 1\n",
    "\n",
    "        else:\n",
    "            print(f'No match for {feature} in {parsed_protein_df.loc[i, \"id\"]}')\n",
    "\n",
    "\n",
    "\n",
    "    # EXCEPTIONS\n",
    "    # if both magnesium and manganese are present, replace with magnesium\n",
    "    # TODO remove when using UniProt data. Ecocyc data is not as reliable\n",
    "    if 'MG+2' in metal_count_dict and 'MN+2' in metal_count_dict and metal_count_dict['MG+2'] == metal_count_dict['MN+2']:\n",
    "        del metal_count_dict['MN+2']\n",
    "    # same with cobalt\n",
    "    if 'CO+2' in metal_count_dict and 'MG+2' in metal_count_dict and metal_count_dict['CO+2'] == metal_count_dict['MG+2']:\n",
    "        del metal_count_dict['CO+2']\n",
    "    elif 'CO+2' in metal_count_dict:\n",
    "        metal_count_dict['MG+2'] = metal_count_dict['CO+2']\n",
    "        del metal_count_dict['CO+2']\n",
    "\n",
    "    parsed_protein_df.at[i, 'metal_features_processed'] = metal_count_dict"
   ],
   "metadata": {
    "collapsed": false,
    "ExecuteTime": {
     "end_time": "2024-02-26T23:21:53.245335Z",
     "start_time": "2024-02-26T23:21:53.149525Z"
    }
   }
  },
  {
   "cell_type": "code",
   "execution_count": 6,
   "outputs": [],
   "source": [
    "# manual corrections in data\n",
    "correction_idx = parsed_protein_df.index[parsed_protein_df['id'] == '3-OXOACYL-ACP-REDUCT-MONOMER'][0]\n",
    "\n",
    "# remove cofactors\n",
    "parsed_protein_df.at[correction_idx, 'metal_features_processed'] = {}\n",
    "\n",
    "correction_idx = parsed_protein_df.index[parsed_protein_df['id'] == 'CARBPSYN-LARGE'][0]\n",
    "\n",
    "# remove cofactors\n",
    "parsed_protein_df.at[correction_idx, 'metal_features_processed']\n",
    "mn_cofactor_count = parsed_protein_df.at[correction_idx, 'metal_features_processed']['MN+2']\n",
    "parsed_protein_df.at[correction_idx, 'metal_features_processed'] = {'MG+2': mn_cofactor_count}\n",
    "\n",
    "# dps\n",
    "correction_idx = parsed_protein_df.index[parsed_protein_df['id'] == 'EG11415-MONOMER'][0]\n",
    "parsed_protein_df.at[correction_idx, 'metal_features_processed'] = {}"
   ],
   "metadata": {
    "collapsed": false,
    "ExecuteTime": {
     "end_time": "2024-02-26T23:21:53.252316Z",
     "start_time": "2024-02-26T23:21:53.245484Z"
    }
   }
  },
  {
   "cell_type": "code",
   "execution_count": 7,
   "outputs": [
    {
     "data": {
      "text/plain": "                                            id  \\\n0      1-ACYLGLYCEROL-3-P-ACYLTRANSFER-MONOMER   \n1                                1-PFK-MONOMER   \n2             2-DEHYDROPANTOATE-REDUCT-MONOMER   \n3                 2-ISOPROPYLMALATESYN-MONOMER   \n4     2-OCTAPRENYL-METHOXY-BENZOQ-METH-MONOMER   \n...                                        ...   \n4429                              YTFR-MONOMER   \n4430                              YTFT-MONOMER   \n4431                              ZNUA-MONOMER   \n4432                              ZNUB-MONOMER   \n4433                              ZNUC-MONOMER   \n\n                                            common_name  \\\n0     1-acylglycerol-3-phosphate <i>O</i>-acyltransf...   \n1                                 1-phosphofructokinase   \n2                         2-dehydropantoate 2-reductase   \n3                            2-isopropylmalate synthase   \n4     bifunctional 2-octaprenyl-6-methoxy-1,4-benzoq...   \n...                                                 ...   \n4429  galactofuranose ABC transporter putative ATP b...   \n4430  galactofuranose ABC transporter putative membr...   \n4431  Zn<sup>2+</sup> ABC transporter periplasmic bi...   \n4432   Zn<sup>2+</sup> ABC transporter membrane subunit   \n4433  Zn<sup>2+</sup> ABC transporter ATP binding su...   \n\n                                                    seq  \\\n0     MLYIFRLIITVIYSILVCVFGSIYCLFSPRNPKHVATFGHMFGRLA...   \n1     MSRRVATITLNPAYDLVGFCPEIERGEVNLVKTTGLHAAGKGINVA...   \n2     MKITVLGCGALGQLWLTALCKQGHEVQGWLRVPQPYCSVNLVETDG...   \n3     MSQQVIIFDTTLRDGEQALQASLSVKEKLQIALALERMGVDVMEVG...   \n4     MVDKSQETTHFGFQTVAKEQKADMVAHVFHSVASKYDVMNDLMSFG...   \n...                                                 ...   \n4429  MTTDQHQEILRTEGLSKFFPGVKALDNVDFSLRRGEIMALLGENGA...   \n4430  MMPQSLPDTTTPKRRFRWPTGMPQLVALLLVLLVDSLVAPHFWQVV...   \n4431  MLHKKTLLFAALSAALWGGATQAADAAVVASLKPVGFIASAIADGV...   \n4432  MIELLFPGWLAGIMLACAAGPLGSFVVWRRMSYFGDTLAHASLLGV...   \n4433  MTSLVSLENVSVSFGQRRVLSDVSLELKPGKILTLLGPNGAGKSTL...   \n\n                                        enzyme_reaction cofactors  \\\n0     {ENZRXN0-7462, ENZRXN0-7993, ENZRXN0-7994, ENZ...        {}   \n1                                                    {}        {}   \n2                     {2-DEHYDROPANTOATE-REDUCT-ENZRXN}        {}   \n3                                        {ENZRXN0-6250}        {}   \n4     {ADOMET-DMK-METHYLTRANSFER-ENZRXN, 2-OCTAPRENY...        {}   \n...                                                 ...       ...   \n4429                                                 {}        {}   \n4430                                                 {}        {}   \n4431                                                 {}        {}   \n4432                                                 {}        {}   \n4433                                                 {}        {}   \n\n     other_features              direct_annotations  \\\n0                []           {PWY-5667, PWY0-1319}   \n1             [ATP]                     {PWY0-1314}   \n2            [NADP]                     {PANTO-PWY}   \n3                []                    {LEUSYN-PWY}   \n4                []  {PWY-6708, MENAQUINONESYN-PWY}   \n...             ...                             ...   \n4429          [ATP]           {Uncategorized (III)}   \n4430             []           {Uncategorized (III)}   \n4431             []           {Uncategorized (III)}   \n4432             []           {Uncategorized (III)}   \n4433          [ATP]           {Uncategorized (III)}   \n\n                                         go_annotations uniprot_id  \\\n0     {GO:0006654, GO:0006629, GO:0003841, GO:000865...     P26647   \n1     {GO:0016773, GO:0005829, GO:0005524, GO:004683...     P0AEW9   \n2     {GO:0005829, GO:0050661, GO:0008677, GO:001661...     P0A9J4   \n3     {GO:0019752, GO:0046872, GO:0005829, GO:000385...     P09151   \n4     {GO:0006744, GO:0008757, GO:0009234, GO:000551...     P0A887   \n...                                                 ...        ...   \n4429  {GO:0140271, GO:0042626, GO:0043190, GO:000552...     Q6BEX0   \n4430  {GO:0140271, GO:0043190, GO:0005515, GO:000864...     P39328   \n4431  {GO:0046872, GO:0030288, GO:0008270, GO:004259...     P39172   \n4432  {GO:0043190, GO:0000006, GO:0010043, GO:007157...     P39832   \n4433  {GO:0043190, GO:0042626, GO:0005524, GO:001563...     P0A9X1   \n\n     metal_features_processed  \n0                          {}  \n1                          {}  \n2                          {}  \n3                          {}  \n4                          {}  \n...                       ...  \n4429                       {}  \n4430                       {}  \n4431              {'ZN+2': 1}  \n4432                       {}  \n4433                       {}  \n\n[4434 rows x 10 columns]",
      "text/html": "<div>\n<style scoped>\n    .dataframe tbody tr th:only-of-type {\n        vertical-align: middle;\n    }\n\n    .dataframe tbody tr th {\n        vertical-align: top;\n    }\n\n    .dataframe thead th {\n        text-align: right;\n    }\n</style>\n<table border=\"1\" class=\"dataframe\">\n  <thead>\n    <tr style=\"text-align: right;\">\n      <th></th>\n      <th>id</th>\n      <th>common_name</th>\n      <th>seq</th>\n      <th>enzyme_reaction</th>\n      <th>cofactors</th>\n      <th>other_features</th>\n      <th>direct_annotations</th>\n      <th>go_annotations</th>\n      <th>uniprot_id</th>\n      <th>metal_features_processed</th>\n    </tr>\n  </thead>\n  <tbody>\n    <tr>\n      <th>0</th>\n      <td>1-ACYLGLYCEROL-3-P-ACYLTRANSFER-MONOMER</td>\n      <td>1-acylglycerol-3-phosphate &lt;i&gt;O&lt;/i&gt;-acyltransf...</td>\n      <td>MLYIFRLIITVIYSILVCVFGSIYCLFSPRNPKHVATFGHMFGRLA...</td>\n      <td>{ENZRXN0-7462, ENZRXN0-7993, ENZRXN0-7994, ENZ...</td>\n      <td>{}</td>\n      <td>[]</td>\n      <td>{PWY-5667, PWY0-1319}</td>\n      <td>{GO:0006654, GO:0006629, GO:0003841, GO:000865...</td>\n      <td>P26647</td>\n      <td>{}</td>\n    </tr>\n    <tr>\n      <th>1</th>\n      <td>1-PFK-MONOMER</td>\n      <td>1-phosphofructokinase</td>\n      <td>MSRRVATITLNPAYDLVGFCPEIERGEVNLVKTTGLHAAGKGINVA...</td>\n      <td>{}</td>\n      <td>{}</td>\n      <td>[ATP]</td>\n      <td>{PWY0-1314}</td>\n      <td>{GO:0016773, GO:0005829, GO:0005524, GO:004683...</td>\n      <td>P0AEW9</td>\n      <td>{}</td>\n    </tr>\n    <tr>\n      <th>2</th>\n      <td>2-DEHYDROPANTOATE-REDUCT-MONOMER</td>\n      <td>2-dehydropantoate 2-reductase</td>\n      <td>MKITVLGCGALGQLWLTALCKQGHEVQGWLRVPQPYCSVNLVETDG...</td>\n      <td>{2-DEHYDROPANTOATE-REDUCT-ENZRXN}</td>\n      <td>{}</td>\n      <td>[NADP]</td>\n      <td>{PANTO-PWY}</td>\n      <td>{GO:0005829, GO:0050661, GO:0008677, GO:001661...</td>\n      <td>P0A9J4</td>\n      <td>{}</td>\n    </tr>\n    <tr>\n      <th>3</th>\n      <td>2-ISOPROPYLMALATESYN-MONOMER</td>\n      <td>2-isopropylmalate synthase</td>\n      <td>MSQQVIIFDTTLRDGEQALQASLSVKEKLQIALALERMGVDVMEVG...</td>\n      <td>{ENZRXN0-6250}</td>\n      <td>{}</td>\n      <td>[]</td>\n      <td>{LEUSYN-PWY}</td>\n      <td>{GO:0019752, GO:0046872, GO:0005829, GO:000385...</td>\n      <td>P09151</td>\n      <td>{}</td>\n    </tr>\n    <tr>\n      <th>4</th>\n      <td>2-OCTAPRENYL-METHOXY-BENZOQ-METH-MONOMER</td>\n      <td>bifunctional 2-octaprenyl-6-methoxy-1,4-benzoq...</td>\n      <td>MVDKSQETTHFGFQTVAKEQKADMVAHVFHSVASKYDVMNDLMSFG...</td>\n      <td>{ADOMET-DMK-METHYLTRANSFER-ENZRXN, 2-OCTAPRENY...</td>\n      <td>{}</td>\n      <td>[]</td>\n      <td>{PWY-6708, MENAQUINONESYN-PWY}</td>\n      <td>{GO:0006744, GO:0008757, GO:0009234, GO:000551...</td>\n      <td>P0A887</td>\n      <td>{}</td>\n    </tr>\n    <tr>\n      <th>...</th>\n      <td>...</td>\n      <td>...</td>\n      <td>...</td>\n      <td>...</td>\n      <td>...</td>\n      <td>...</td>\n      <td>...</td>\n      <td>...</td>\n      <td>...</td>\n      <td>...</td>\n    </tr>\n    <tr>\n      <th>4429</th>\n      <td>YTFR-MONOMER</td>\n      <td>galactofuranose ABC transporter putative ATP b...</td>\n      <td>MTTDQHQEILRTEGLSKFFPGVKALDNVDFSLRRGEIMALLGENGA...</td>\n      <td>{}</td>\n      <td>{}</td>\n      <td>[ATP]</td>\n      <td>{Uncategorized (III)}</td>\n      <td>{GO:0140271, GO:0042626, GO:0043190, GO:000552...</td>\n      <td>Q6BEX0</td>\n      <td>{}</td>\n    </tr>\n    <tr>\n      <th>4430</th>\n      <td>YTFT-MONOMER</td>\n      <td>galactofuranose ABC transporter putative membr...</td>\n      <td>MMPQSLPDTTTPKRRFRWPTGMPQLVALLLVLLVDSLVAPHFWQVV...</td>\n      <td>{}</td>\n      <td>{}</td>\n      <td>[]</td>\n      <td>{Uncategorized (III)}</td>\n      <td>{GO:0140271, GO:0043190, GO:0005515, GO:000864...</td>\n      <td>P39328</td>\n      <td>{}</td>\n    </tr>\n    <tr>\n      <th>4431</th>\n      <td>ZNUA-MONOMER</td>\n      <td>Zn&lt;sup&gt;2+&lt;/sup&gt; ABC transporter periplasmic bi...</td>\n      <td>MLHKKTLLFAALSAALWGGATQAADAAVVASLKPVGFIASAIADGV...</td>\n      <td>{}</td>\n      <td>{}</td>\n      <td>[]</td>\n      <td>{Uncategorized (III)}</td>\n      <td>{GO:0046872, GO:0030288, GO:0008270, GO:004259...</td>\n      <td>P39172</td>\n      <td>{'ZN+2': 1}</td>\n    </tr>\n    <tr>\n      <th>4432</th>\n      <td>ZNUB-MONOMER</td>\n      <td>Zn&lt;sup&gt;2+&lt;/sup&gt; ABC transporter membrane subunit</td>\n      <td>MIELLFPGWLAGIMLACAAGPLGSFVVWRRMSYFGDTLAHASLLGV...</td>\n      <td>{}</td>\n      <td>{}</td>\n      <td>[]</td>\n      <td>{Uncategorized (III)}</td>\n      <td>{GO:0043190, GO:0000006, GO:0010043, GO:007157...</td>\n      <td>P39832</td>\n      <td>{}</td>\n    </tr>\n    <tr>\n      <th>4433</th>\n      <td>ZNUC-MONOMER</td>\n      <td>Zn&lt;sup&gt;2+&lt;/sup&gt; ABC transporter ATP binding su...</td>\n      <td>MTSLVSLENVSVSFGQRRVLSDVSLELKPGKILTLLGPNGAGKSTL...</td>\n      <td>{}</td>\n      <td>{}</td>\n      <td>[ATP]</td>\n      <td>{Uncategorized (III)}</td>\n      <td>{GO:0043190, GO:0042626, GO:0005524, GO:001563...</td>\n      <td>P0A9X1</td>\n      <td>{}</td>\n    </tr>\n  </tbody>\n</table>\n<p>4434 rows × 10 columns</p>\n</div>"
     },
     "execution_count": 7,
     "metadata": {},
     "output_type": "execute_result"
    }
   ],
   "source": [
    "parsed_protein_df = parsed_protein_df.drop(columns=['metal_features'])\n",
    "parsed_protein_df"
   ],
   "metadata": {
    "collapsed": false,
    "ExecuteTime": {
     "end_time": "2024-02-26T23:21:53.272380Z",
     "start_time": "2024-02-26T23:21:53.259284Z"
    }
   }
  },
  {
   "cell_type": "code",
   "execution_count": 8,
   "outputs": [],
   "source": [
    "parsed_protein_df['other_features_processed'] = 0\n",
    "parsed_protein_df['other_features_processed'] = parsed_protein_df['other_features_processed'].astype(object)\n",
    "\n",
    "for i in range(len(parsed_protein_df.index)):\n",
    "\n",
    "    other_features = parsed_protein_df.loc[i, 'other_features']\n",
    "\n",
    "    other_feature_count_dict = {}\n",
    "    existing_matches = set()\n",
    "\n",
    "    for feature in other_features:\n",
    "\n",
    "        # eliminate duplicates\n",
    "        if feature not in existing_matches:\n",
    "\n",
    "            existing_matches.add(feature)\n",
    "\n",
    "            if feature in ACCEPTED_OTHER_FEATURES:\n",
    "                if feature in other_feature_count_dict:\n",
    "                    other_feature_count_dict[feature] += 1\n",
    "                else:\n",
    "                    other_feature_count_dict[feature] = 1\n",
    "\n",
    "    parsed_protein_df.at[i, 'other_features_processed'] = other_feature_count_dict"
   ],
   "metadata": {
    "collapsed": false,
    "ExecuteTime": {
     "end_time": "2024-02-26T23:21:53.413074Z",
     "start_time": "2024-02-26T23:21:53.293039Z"
    }
   }
  },
  {
   "cell_type": "code",
   "execution_count": 9,
   "outputs": [],
   "source": [
    "# processed go_annotations. if no pathways exist for monomer, use go annotations\n",
    "for i in range(len(parsed_protein_df.index)):\n",
    "\n",
    "    cur_go_annotations = parsed_protein_df.loc[i, 'go_annotations']\n",
    "    cur_pathways = parsed_protein_df.loc[i, 'direct_annotations']\n",
    "\n",
    "    replacement_pathways = list()\n",
    "\n",
    "    if len(cur_pathways) == 0:\n",
    "\n",
    "        for go_term in TEMP_GO_TERMS:\n",
    "            for go_annotation in cur_go_annotations:\n",
    "                if go_term == go_annotation:\n",
    "                    replacement_pathways.append(TEMP_GO_TERMS[go_term])\n",
    "\n",
    "        if len(replacement_pathways) > 0:\n",
    "            print(parsed_protein_df.at[i, \"id\"], set([replacement_pathways[0]]))\n",
    "            parsed_protein_df.at[i, 'direct_annotations'] = set([replacement_pathways[0]])\n",
    "\n",
    "\n",
    "# parsed_protein_df[parsed_protein_df['id'] == 'PD00197']"
   ],
   "metadata": {
    "collapsed": false,
    "ExecuteTime": {
     "end_time": "2024-02-26T23:21:53.415617Z",
     "start_time": "2024-02-26T23:21:53.363750Z"
    }
   }
  },
  {
   "cell_type": "code",
   "execution_count": 10,
   "outputs": [
    {
     "name": "stderr",
     "output_type": "stream",
     "text": [
      "/var/folders/dx/0239zgvj0tgf46b5h8l7v_fc0000gn/T/ipykernel_38825/3799389604.py:33: FutureWarning: Setting an item of incompatible dtype is deprecated and will raise an error in a future version of pandas. Value '27417.49714999999' has dtype incompatible with int64, please explicitly cast to a compatible dtype first.\n",
      "  parsed_protein_df.at[i, 'sequence_mass'] = mass\n"
     ]
    },
    {
     "name": "stdout",
     "output_type": "stream",
     "text": [
      "No sequence for MONOMER0-1241\n",
      "No sequence for MONOMER0-4223\n"
     ]
    }
   ],
   "source": [
    "# decompose sequence into dict of amino acid counts\n",
    "parsed_protein_df['sequence_processed'] = 0\n",
    "parsed_protein_df['sequence_processed'] = parsed_protein_df['sequence_processed'].astype(object)\n",
    "\n",
    "parsed_protein_df['sequence_mass'] = 0\n",
    "\n",
    "unique_aa = set()\n",
    "\n",
    "for i in range(len(parsed_protein_df.index)):\n",
    "\n",
    "    sequence = parsed_protein_df.loc[i, 'seq']\n",
    "\n",
    "    if type(sequence) != str:\n",
    "        print(f'No sequence for {parsed_protein_df.loc[i, \"id\"]}')\n",
    "        continue\n",
    "\n",
    "    aa_count_dict = {}\n",
    "\n",
    "    mass = 0\n",
    "\n",
    "    for aa in sequence:\n",
    "        if aa in aa_count_dict:\n",
    "            aa_count_dict[aa] += 1\n",
    "        else:\n",
    "            aa_count_dict[aa] = 1\n",
    "\n",
    "        if aa not in unique_aa:\n",
    "            unique_aa.add(aa)\n",
    "\n",
    "        mass += AMINO_ACID_RESIDUE_MASSES[AMINO_ACID_MAP[aa]]\n",
    "\n",
    "    parsed_protein_df.at[i, 'sequence_processed'] = aa_count_dict\n",
    "    parsed_protein_df.at[i, 'sequence_mass'] = mass"
   ],
   "metadata": {
    "collapsed": false,
    "ExecuteTime": {
     "end_time": "2024-02-26T23:21:53.816117Z",
     "start_time": "2024-02-26T23:21:53.453062Z"
    }
   }
  },
  {
   "cell_type": "code",
   "execution_count": 11,
   "outputs": [
    {
     "data": {
      "text/plain": "                                            id  \\\n0      1-ACYLGLYCEROL-3-P-ACYLTRANSFER-MONOMER   \n1                                1-PFK-MONOMER   \n2             2-DEHYDROPANTOATE-REDUCT-MONOMER   \n3                 2-ISOPROPYLMALATESYN-MONOMER   \n4     2-OCTAPRENYL-METHOXY-BENZOQ-METH-MONOMER   \n...                                        ...   \n4429                              YTFR-MONOMER   \n4430                              YTFT-MONOMER   \n4431                              ZNUA-MONOMER   \n4432                              ZNUB-MONOMER   \n4433                              ZNUC-MONOMER   \n\n                                            common_name  \\\n0     1-acylglycerol-3-phosphate <i>O</i>-acyltransf...   \n1                                 1-phosphofructokinase   \n2                         2-dehydropantoate 2-reductase   \n3                            2-isopropylmalate synthase   \n4     bifunctional 2-octaprenyl-6-methoxy-1,4-benzoq...   \n...                                                 ...   \n4429  galactofuranose ABC transporter putative ATP b...   \n4430  galactofuranose ABC transporter putative membr...   \n4431  Zn<sup>2+</sup> ABC transporter periplasmic bi...   \n4432   Zn<sup>2+</sup> ABC transporter membrane subunit   \n4433  Zn<sup>2+</sup> ABC transporter ATP binding su...   \n\n                                        enzyme_reaction cofactors  \\\n0     {ENZRXN0-7462, ENZRXN0-7993, ENZRXN0-7994, ENZ...        {}   \n1                                                    {}        {}   \n2                     {2-DEHYDROPANTOATE-REDUCT-ENZRXN}        {}   \n3                                        {ENZRXN0-6250}        {}   \n4     {ADOMET-DMK-METHYLTRANSFER-ENZRXN, 2-OCTAPRENY...        {}   \n...                                                 ...       ...   \n4429                                                 {}        {}   \n4430                                                 {}        {}   \n4431                                                 {}        {}   \n4432                                                 {}        {}   \n4433                                                 {}        {}   \n\n                  direct_annotations  \\\n0              {PWY-5667, PWY0-1319}   \n1                        {PWY0-1314}   \n2                        {PANTO-PWY}   \n3                       {LEUSYN-PWY}   \n4     {PWY-6708, MENAQUINONESYN-PWY}   \n...                              ...   \n4429           {Uncategorized (III)}   \n4430           {Uncategorized (III)}   \n4431           {Uncategorized (III)}   \n4432           {Uncategorized (III)}   \n4433           {Uncategorized (III)}   \n\n                                         go_annotations uniprot_id  \\\n0     {GO:0006654, GO:0006629, GO:0003841, GO:000865...     P26647   \n1     {GO:0016773, GO:0005829, GO:0005524, GO:004683...     P0AEW9   \n2     {GO:0005829, GO:0050661, GO:0008677, GO:001661...     P0A9J4   \n3     {GO:0019752, GO:0046872, GO:0005829, GO:000385...     P09151   \n4     {GO:0006744, GO:0008757, GO:0009234, GO:000551...     P0A887   \n...                                                 ...        ...   \n4429  {GO:0140271, GO:0042626, GO:0043190, GO:000552...     Q6BEX0   \n4430  {GO:0140271, GO:0043190, GO:0005515, GO:000864...     P39328   \n4431  {GO:0046872, GO:0030288, GO:0008270, GO:004259...     P39172   \n4432  {GO:0043190, GO:0000006, GO:0010043, GO:007157...     P39832   \n4433  {GO:0043190, GO:0042626, GO:0005524, GO:001563...     P0A9X1   \n\n     metal_features_processed other_features_processed  \\\n0                          {}                       {}   \n1                          {}                       {}   \n2                          {}                       {}   \n3                          {}                       {}   \n4                          {}                       {}   \n...                       ...                      ...   \n4429                       {}                       {}   \n4430                       {}                       {}   \n4431              {'ZN+2': 1}                       {}   \n4432                       {}                       {}   \n4433                       {}                       {}   \n\n                                     sequence_processed  sequence_mass  \n0     {'M': 6, 'L': 21, 'Y': 8, 'I': 22, 'F': 12, 'R...    27417.49715  \n1     {'M': 8, 'S': 21, 'R': 18, 'V': 32, 'A': 30, '...    33716.33963  \n2     {'M': 7, 'K': 7, 'I': 24, 'T': 21, 'V': 21, 'L...    33831.33232  \n3     {'M': 13, 'S': 30, 'Q': 22, 'V': 46, 'I': 39, ...    57244.09138  \n4     {'M': 10, 'V': 22, 'D': 19, 'K': 16, 'S': 16, ...    28037.26502  \n...                                                 ...            ...  \n4429  {'M': 11, 'T': 26, 'D': 24, 'Q': 26, 'H': 7, '...    55207.40745  \n4430  {'M': 12, 'P': 15, 'Q': 11, 'S': 17, 'L': 53, ...    35617.89729  \n4431  {'M': 7, 'L': 34, 'H': 13, 'K': 20, 'T': 16, '...    33738.19213  \n4432  {'M': 13, 'I': 18, 'E': 4, 'L': 47, 'F': 12, '...    27692.26700  \n4433  {'M': 5, 'T': 12, 'S': 13, 'L': 42, 'V': 25, '...    27832.00030  \n\n[4434 rows x 11 columns]",
      "text/html": "<div>\n<style scoped>\n    .dataframe tbody tr th:only-of-type {\n        vertical-align: middle;\n    }\n\n    .dataframe tbody tr th {\n        vertical-align: top;\n    }\n\n    .dataframe thead th {\n        text-align: right;\n    }\n</style>\n<table border=\"1\" class=\"dataframe\">\n  <thead>\n    <tr style=\"text-align: right;\">\n      <th></th>\n      <th>id</th>\n      <th>common_name</th>\n      <th>enzyme_reaction</th>\n      <th>cofactors</th>\n      <th>direct_annotations</th>\n      <th>go_annotations</th>\n      <th>uniprot_id</th>\n      <th>metal_features_processed</th>\n      <th>other_features_processed</th>\n      <th>sequence_processed</th>\n      <th>sequence_mass</th>\n    </tr>\n  </thead>\n  <tbody>\n    <tr>\n      <th>0</th>\n      <td>1-ACYLGLYCEROL-3-P-ACYLTRANSFER-MONOMER</td>\n      <td>1-acylglycerol-3-phosphate &lt;i&gt;O&lt;/i&gt;-acyltransf...</td>\n      <td>{ENZRXN0-7462, ENZRXN0-7993, ENZRXN0-7994, ENZ...</td>\n      <td>{}</td>\n      <td>{PWY-5667, PWY0-1319}</td>\n      <td>{GO:0006654, GO:0006629, GO:0003841, GO:000865...</td>\n      <td>P26647</td>\n      <td>{}</td>\n      <td>{}</td>\n      <td>{'M': 6, 'L': 21, 'Y': 8, 'I': 22, 'F': 12, 'R...</td>\n      <td>27417.49715</td>\n    </tr>\n    <tr>\n      <th>1</th>\n      <td>1-PFK-MONOMER</td>\n      <td>1-phosphofructokinase</td>\n      <td>{}</td>\n      <td>{}</td>\n      <td>{PWY0-1314}</td>\n      <td>{GO:0016773, GO:0005829, GO:0005524, GO:004683...</td>\n      <td>P0AEW9</td>\n      <td>{}</td>\n      <td>{}</td>\n      <td>{'M': 8, 'S': 21, 'R': 18, 'V': 32, 'A': 30, '...</td>\n      <td>33716.33963</td>\n    </tr>\n    <tr>\n      <th>2</th>\n      <td>2-DEHYDROPANTOATE-REDUCT-MONOMER</td>\n      <td>2-dehydropantoate 2-reductase</td>\n      <td>{2-DEHYDROPANTOATE-REDUCT-ENZRXN}</td>\n      <td>{}</td>\n      <td>{PANTO-PWY}</td>\n      <td>{GO:0005829, GO:0050661, GO:0008677, GO:001661...</td>\n      <td>P0A9J4</td>\n      <td>{}</td>\n      <td>{}</td>\n      <td>{'M': 7, 'K': 7, 'I': 24, 'T': 21, 'V': 21, 'L...</td>\n      <td>33831.33232</td>\n    </tr>\n    <tr>\n      <th>3</th>\n      <td>2-ISOPROPYLMALATESYN-MONOMER</td>\n      <td>2-isopropylmalate synthase</td>\n      <td>{ENZRXN0-6250}</td>\n      <td>{}</td>\n      <td>{LEUSYN-PWY}</td>\n      <td>{GO:0019752, GO:0046872, GO:0005829, GO:000385...</td>\n      <td>P09151</td>\n      <td>{}</td>\n      <td>{}</td>\n      <td>{'M': 13, 'S': 30, 'Q': 22, 'V': 46, 'I': 39, ...</td>\n      <td>57244.09138</td>\n    </tr>\n    <tr>\n      <th>4</th>\n      <td>2-OCTAPRENYL-METHOXY-BENZOQ-METH-MONOMER</td>\n      <td>bifunctional 2-octaprenyl-6-methoxy-1,4-benzoq...</td>\n      <td>{ADOMET-DMK-METHYLTRANSFER-ENZRXN, 2-OCTAPRENY...</td>\n      <td>{}</td>\n      <td>{PWY-6708, MENAQUINONESYN-PWY}</td>\n      <td>{GO:0006744, GO:0008757, GO:0009234, GO:000551...</td>\n      <td>P0A887</td>\n      <td>{}</td>\n      <td>{}</td>\n      <td>{'M': 10, 'V': 22, 'D': 19, 'K': 16, 'S': 16, ...</td>\n      <td>28037.26502</td>\n    </tr>\n    <tr>\n      <th>...</th>\n      <td>...</td>\n      <td>...</td>\n      <td>...</td>\n      <td>...</td>\n      <td>...</td>\n      <td>...</td>\n      <td>...</td>\n      <td>...</td>\n      <td>...</td>\n      <td>...</td>\n      <td>...</td>\n    </tr>\n    <tr>\n      <th>4429</th>\n      <td>YTFR-MONOMER</td>\n      <td>galactofuranose ABC transporter putative ATP b...</td>\n      <td>{}</td>\n      <td>{}</td>\n      <td>{Uncategorized (III)}</td>\n      <td>{GO:0140271, GO:0042626, GO:0043190, GO:000552...</td>\n      <td>Q6BEX0</td>\n      <td>{}</td>\n      <td>{}</td>\n      <td>{'M': 11, 'T': 26, 'D': 24, 'Q': 26, 'H': 7, '...</td>\n      <td>55207.40745</td>\n    </tr>\n    <tr>\n      <th>4430</th>\n      <td>YTFT-MONOMER</td>\n      <td>galactofuranose ABC transporter putative membr...</td>\n      <td>{}</td>\n      <td>{}</td>\n      <td>{Uncategorized (III)}</td>\n      <td>{GO:0140271, GO:0043190, GO:0005515, GO:000864...</td>\n      <td>P39328</td>\n      <td>{}</td>\n      <td>{}</td>\n      <td>{'M': 12, 'P': 15, 'Q': 11, 'S': 17, 'L': 53, ...</td>\n      <td>35617.89729</td>\n    </tr>\n    <tr>\n      <th>4431</th>\n      <td>ZNUA-MONOMER</td>\n      <td>Zn&lt;sup&gt;2+&lt;/sup&gt; ABC transporter periplasmic bi...</td>\n      <td>{}</td>\n      <td>{}</td>\n      <td>{Uncategorized (III)}</td>\n      <td>{GO:0046872, GO:0030288, GO:0008270, GO:004259...</td>\n      <td>P39172</td>\n      <td>{'ZN+2': 1}</td>\n      <td>{}</td>\n      <td>{'M': 7, 'L': 34, 'H': 13, 'K': 20, 'T': 16, '...</td>\n      <td>33738.19213</td>\n    </tr>\n    <tr>\n      <th>4432</th>\n      <td>ZNUB-MONOMER</td>\n      <td>Zn&lt;sup&gt;2+&lt;/sup&gt; ABC transporter membrane subunit</td>\n      <td>{}</td>\n      <td>{}</td>\n      <td>{Uncategorized (III)}</td>\n      <td>{GO:0043190, GO:0000006, GO:0010043, GO:007157...</td>\n      <td>P39832</td>\n      <td>{}</td>\n      <td>{}</td>\n      <td>{'M': 13, 'I': 18, 'E': 4, 'L': 47, 'F': 12, '...</td>\n      <td>27692.26700</td>\n    </tr>\n    <tr>\n      <th>4433</th>\n      <td>ZNUC-MONOMER</td>\n      <td>Zn&lt;sup&gt;2+&lt;/sup&gt; ABC transporter ATP binding su...</td>\n      <td>{}</td>\n      <td>{}</td>\n      <td>{Uncategorized (III)}</td>\n      <td>{GO:0043190, GO:0042626, GO:0005524, GO:001563...</td>\n      <td>P0A9X1</td>\n      <td>{}</td>\n      <td>{}</td>\n      <td>{'M': 5, 'T': 12, 'S': 13, 'L': 42, 'V': 25, '...</td>\n      <td>27832.00030</td>\n    </tr>\n  </tbody>\n</table>\n<p>4434 rows × 11 columns</p>\n</div>"
     },
     "execution_count": 11,
     "metadata": {},
     "output_type": "execute_result"
    }
   ],
   "source": [
    "parsed_protein_df = parsed_protein_df.drop(columns=['other_features','seq'])\n",
    "\n",
    "parsed_protein_df"
   ],
   "metadata": {
    "collapsed": false,
    "ExecuteTime": {
     "end_time": "2024-02-26T23:21:53.828516Z",
     "start_time": "2024-02-26T23:21:53.807906Z"
    }
   }
  },
  {
   "cell_type": "markdown",
   "source": [
    "## Create new column for monomer component stoichiometry"
   ],
   "metadata": {
    "collapsed": false
   }
  },
  {
   "cell_type": "code",
   "execution_count": 12,
   "outputs": [],
   "source": [
    "complex_ids = parsed_complex_df['id'].tolist()\n",
    "monomer_names = parsed_protein_df['id'].tolist()"
   ],
   "metadata": {
    "collapsed": false,
    "ExecuteTime": {
     "end_time": "2024-02-26T23:21:53.828731Z",
     "start_time": "2024-02-26T23:21:53.823931Z"
    }
   }
  },
  {
   "cell_type": "code",
   "execution_count": 13,
   "outputs": [],
   "source": [
    "def recursive_component_tree(current_component_name, complex_table, protein_table,\n",
    "                             current_multiplier=1, component_list=None, parent=None, return_cofactors=False):\n",
    "    \"\"\"\n",
    "    Recursively find all downstream components of a given complex.\n",
    "    \"\"\"\n",
    "\n",
    "    complex_names = complex_table['id'].tolist()\n",
    "    monomer_names = protein_table['id'].tolist()\n",
    "\n",
    "\n",
    "    my_children = {}\n",
    "\n",
    "    if component_list is None:\n",
    "        component_list = []\n",
    "\n",
    "\n",
    "    if current_component_name in complex_names:\n",
    "\n",
    "\n",
    "        cplx_idx = complex_table.index[complex_table['id'] == current_component_name][0]\n",
    "        stoichiometry = complex_table.at[cplx_idx, 'stoichiometry']\n",
    "\n",
    "        direct_children = {k: abs(v) for k, v in stoichiometry.items() if v < 0}\n",
    "\n",
    "        for component_name, coefficient in stoichiometry.items():\n",
    "\n",
    "            if coefficient < 0 and component_name != current_component_name:\n",
    "\n",
    "                child_multiplier = abs(coefficient * current_multiplier)\n",
    "\n",
    "                new_child = recursive_component_tree(component_name, complex_table, protein_table,\n",
    "                                                     child_multiplier, component_list, current_component_name, return_cofactors)\n",
    "\n",
    "                my_children = my_children | new_child\n",
    "\n",
    "\n",
    "            elif coefficient > 0 and component_name == current_component_name:\n",
    "                continue\n",
    "\n",
    "            else:\n",
    "                raise ValueError(f\"key {component_name} and value {coefficient} for complex {component_name} not processed properly.\")\n",
    "\n",
    "        component_list.append({'name': current_component_name,'parent': parent, 'children': direct_children,\n",
    "                               'multiplier': int(current_multiplier), })\n",
    "\n",
    "\n",
    "    elif current_component_name in monomer_names:\n",
    "\n",
    "        # TODO check if enzrxn\n",
    "        if return_cofactors:\n",
    "            protein_idx = protein_table.index[protein_table['id'] == current_component_name][0]\n",
    "\n",
    "            protein_metals = protein_table.at[protein_idx, 'metal_features_processed']\n",
    "            protein_other = protein_table.at[protein_idx, 'other_features_processed']\n",
    "\n",
    "            table_cofactors = protein_metals | protein_other\n",
    "\n",
    "            if len(table_cofactors) > 0:\n",
    "                # TODO Add apo protein to component list\n",
    "                my_children = {}\n",
    "\n",
    "                for cofactor, cofactor_coefficient in table_cofactors.items():\n",
    "                    if table_cofactors[cofactor] !=  None:\n",
    "                        my_children[cofactor] = cofactor_coefficient\n",
    "                        component_list.append({'parent': current_component_name,\n",
    "                                               'name': cofactor,\n",
    "                                               'multiplier': abs(int(current_multiplier * cofactor_coefficient)),\n",
    "                                               'children': None})\n",
    "\n",
    "            component_list.append({'parent': parent, 'name': current_component_name, 'multiplier': current_multiplier, 'children': my_children})\n",
    "\n",
    "        else:\n",
    "            my_children = None\n",
    "            component_list.append({'parent': parent, 'name': current_component_name, 'multiplier': current_multiplier, 'children': None})\n",
    "\n",
    "\n",
    "\n",
    "    else:\n",
    "        print(f\"component {current_component_name} not found in complex or protein tables\")\n",
    "\n",
    "        return {}\n",
    "\n",
    "\n",
    "    if parent is None:\n",
    "        return {current_component_name: my_children}, component_list\n",
    "    else:\n",
    "        return {current_component_name: my_children}\n"
   ],
   "metadata": {
    "collapsed": false,
    "ExecuteTime": {
     "end_time": "2024-02-26T23:21:53.834446Z",
     "start_time": "2024-02-26T23:21:53.830631Z"
    }
   }
  },
  {
   "cell_type": "code",
   "execution_count": 14,
   "outputs": [
    {
     "name": "stdout",
     "output_type": "stream",
     "text": [
      "[{'children': None,\n",
      "  'multiplier': 4,\n",
      "  'name': 'HYAA-MONOMER',\n",
      "  'parent': 'FORMHYDROGI-CPLX'},\n",
      " {'children': None,\n",
      "  'multiplier': 4,\n",
      "  'name': 'HYAB-MONOMER',\n",
      "  'parent': 'FORMHYDROGI-CPLX'},\n",
      " {'children': None,\n",
      "  'multiplier': 2,\n",
      "  'name': 'HYAC-MONOMER',\n",
      "  'parent': 'FORMHYDROGI-CPLX'},\n",
      " {'children': {'HYAA-MONOMER': 2, 'HYAB-MONOMER': 2, 'HYAC-MONOMER': 1},\n",
      "  'multiplier': 2,\n",
      "  'name': 'FORMHYDROGI-CPLX',\n",
      "  'parent': 'CPLX0-8167'},\n",
      " {'children': {'FORMHYDROGI-CPLX': 2},\n",
      "  'multiplier': 1,\n",
      "  'name': 'CPLX0-8167',\n",
      "  'parent': None}]\n"
     ]
    }
   ],
   "source": [
    "complex_tree_structure, nodes = recursive_component_tree('CPLX0-8167', parsed_complex_df, parsed_protein_df)\n",
    "pp.pprint(nodes)"
   ],
   "metadata": {
    "collapsed": false,
    "ExecuteTime": {
     "end_time": "2024-02-26T23:21:53.836880Z",
     "start_time": "2024-02-26T23:21:53.833970Z"
    }
   }
  },
  {
   "cell_type": "code",
   "execution_count": 15,
   "outputs": [
    {
     "name": "stdout",
     "output_type": "stream",
     "text": [
      "component CPLX0-7701 not found in complex or protein tables\n",
      "component CPLX0-7677 not found in complex or protein tables\n",
      "component MONOMER0-1781 not found in complex or protein tables\n",
      "component CPLX0-7702 not found in complex or protein tables\n",
      "component CSRB-RNA not found in complex or protein tables\n",
      "component RNPB-RNA not found in complex or protein tables\n",
      "component RRSA-RRNA not found in complex or protein tables\n",
      "component RRLA-RRNA not found in complex or protein tables\n",
      "component RRFA-RRNA not found in complex or protein tables\n",
      "component RRSA-RRNA not found in complex or protein tables\n",
      "component RRLA-RRNA not found in complex or protein tables\n",
      "component RRFA-RRNA not found in complex or protein tables\n",
      "component IS061-RNA not found in complex or protein tables\n",
      "component CSRC-RNA not found in complex or protein tables\n",
      "component FFS-RNA not found in complex or protein tables\n"
     ]
    }
   ],
   "source": [
    "parsed_complex_df['monomer_component_stoichiometry'] = 0\n",
    "parsed_complex_df['monomer_component_stoichiometry'] = parsed_complex_df['monomer_component_stoichiometry'].astype(object)\n",
    "\n",
    "for i in range(len(parsed_complex_df.index)):\n",
    "    complex_name = parsed_complex_df.loc[i, 'id']\n",
    "    complex_tree_structure, nodes = recursive_component_tree(complex_name, parsed_complex_df, parsed_protein_df)\n",
    "\n",
    "    monomer_components = {node['name']: node['multiplier'] for node in nodes if node['children'] is None}\n",
    "\n",
    "    parsed_complex_df.at[i, 'monomer_component_stoichiometry'] = monomer_components"
   ],
   "metadata": {
    "collapsed": false,
    "ExecuteTime": {
     "end_time": "2024-02-26T23:21:54.105428Z",
     "start_time": "2024-02-26T23:21:53.839647Z"
    }
   }
  },
  {
   "cell_type": "code",
   "execution_count": 16,
   "outputs": [
    {
     "data": {
      "text/plain": "                                    id  \\\n0                                1-PFK   \n1                2OXOGLUTARATEDEH-CPLX   \n2          3-ISOPROPYLMALDEHYDROG-CPLX   \n3              3-ISOPROPYLMALISOM-CPLX   \n4     3-METHYL-2-OXOBUT-OHCH3XFER-CPLX   \n...                                ...   \n1088                        CPLX0-3964   \n1089                        CPLX0-8028   \n1090                        CPLX0-8053   \n1091                        CPLX0-8253   \n1092                          SRP-CPLX   \n\n                                           common_name  \\\n0                                1-phosphofructokinase   \n1                 2-oxoglutarate dehydrogenase complex   \n2                      3-isopropylmalate dehydrogenase   \n3                        3-isopropylmalate dehydratase   \n4     3-methyl-2-oxobutanoate hydroxymethyltransferase   \n...                                                ...   \n1088                                          ribosome   \n1089                        CsrA complex with McaS RNA   \n1090         SelB-L-selenocysteinyl-tRNA<sup>sec</sup>   \n1091                        CsrA complex with CsrC RNA   \n1092                       Signal Recognition Particle   \n\n                                          stoichiometry  \\\n0                     {'1-PFK': 1, '1-PFK-MONOMER': -2}   \n1     {'2OXOGLUTARATEDEH-CPLX': 1, 'E1O': -1, 'E2O':...   \n2     {'3-ISOPROPYLMALDEHYDROG-CPLX': 1, '3-ISOPROPY...   \n3     {'3-ISOPROPYLMALISOM-CPLX': 1, 'LEUC-MONOMER':...   \n4     {'3-METHYL-2-OXOBUT-OHCH3XFER-CPLX': 1, '3-CH3...   \n...                                                 ...   \n1088  {'CPLX0-3964': 1, 'CPLX0-3953': -1, 'CPLX0-396...   \n1089  {'CPLX0-8028': 1, 'IS061-RNA': -1, 'CPLX0-7956...   \n1090           {'CPLX0-8053': 1, 'EG10942-MONOMER': -1}   \n1091  {'CPLX0-8253': 1, 'CSRC-RNA': -1, 'EG11447-MON...   \n1092  {'SRP-CPLX': 1, 'EG10300-MONOMER': -1, 'FFS-RN...   \n\n                        monomer_component_stoichiometry  \\\n0                                  {'1-PFK-MONOMER': 2}   \n1     {'E1O-MONOMER': 12, 'E2O-MONOMER': 24, 'E3-MON...   \n2                 {'3-ISOPROPYLMALDEHYDROG-MONOMER': 2}   \n3                {'LEUC-MONOMER': 1, 'LEUD-MONOMER': 1}   \n4      {'3-CH3-2-OXOBUTANOATE-OH-CH3-XFER-MONOMER': 10}   \n...                                                 ...   \n1088  {'EG10900-MONOMER': 1, 'EG10901-MONOMER': 1, '...   \n1089                             {'EG11447-MONOMER': 2}   \n1090                             {'EG10942-MONOMER': 1}   \n1091                             {'EG11447-MONOMER': 9}   \n1092                             {'EG10300-MONOMER': 1}   \n\n                                             cofactors  \n0                                               {MG+2}  \n1     {FAD, MG+2, LIPOIC-ACID, THIAMINE-PYROPHOSPHATE}  \n2                                         {MN+2, MG+2}  \n3                                              {CPD-7}  \n4                                               {MG+2}  \n...                                                ...  \n1088                                                {}  \n1089                                                {}  \n1090                                                {}  \n1091                                                {}  \n1092                                                {}  \n\n[1093 rows x 5 columns]",
      "text/html": "<div>\n<style scoped>\n    .dataframe tbody tr th:only-of-type {\n        vertical-align: middle;\n    }\n\n    .dataframe tbody tr th {\n        vertical-align: top;\n    }\n\n    .dataframe thead th {\n        text-align: right;\n    }\n</style>\n<table border=\"1\" class=\"dataframe\">\n  <thead>\n    <tr style=\"text-align: right;\">\n      <th></th>\n      <th>id</th>\n      <th>common_name</th>\n      <th>stoichiometry</th>\n      <th>monomer_component_stoichiometry</th>\n      <th>cofactors</th>\n    </tr>\n  </thead>\n  <tbody>\n    <tr>\n      <th>0</th>\n      <td>1-PFK</td>\n      <td>1-phosphofructokinase</td>\n      <td>{'1-PFK': 1, '1-PFK-MONOMER': -2}</td>\n      <td>{'1-PFK-MONOMER': 2}</td>\n      <td>{MG+2}</td>\n    </tr>\n    <tr>\n      <th>1</th>\n      <td>2OXOGLUTARATEDEH-CPLX</td>\n      <td>2-oxoglutarate dehydrogenase complex</td>\n      <td>{'2OXOGLUTARATEDEH-CPLX': 1, 'E1O': -1, 'E2O':...</td>\n      <td>{'E1O-MONOMER': 12, 'E2O-MONOMER': 24, 'E3-MON...</td>\n      <td>{FAD, MG+2, LIPOIC-ACID, THIAMINE-PYROPHOSPHATE}</td>\n    </tr>\n    <tr>\n      <th>2</th>\n      <td>3-ISOPROPYLMALDEHYDROG-CPLX</td>\n      <td>3-isopropylmalate dehydrogenase</td>\n      <td>{'3-ISOPROPYLMALDEHYDROG-CPLX': 1, '3-ISOPROPY...</td>\n      <td>{'3-ISOPROPYLMALDEHYDROG-MONOMER': 2}</td>\n      <td>{MN+2, MG+2}</td>\n    </tr>\n    <tr>\n      <th>3</th>\n      <td>3-ISOPROPYLMALISOM-CPLX</td>\n      <td>3-isopropylmalate dehydratase</td>\n      <td>{'3-ISOPROPYLMALISOM-CPLX': 1, 'LEUC-MONOMER':...</td>\n      <td>{'LEUC-MONOMER': 1, 'LEUD-MONOMER': 1}</td>\n      <td>{CPD-7}</td>\n    </tr>\n    <tr>\n      <th>4</th>\n      <td>3-METHYL-2-OXOBUT-OHCH3XFER-CPLX</td>\n      <td>3-methyl-2-oxobutanoate hydroxymethyltransferase</td>\n      <td>{'3-METHYL-2-OXOBUT-OHCH3XFER-CPLX': 1, '3-CH3...</td>\n      <td>{'3-CH3-2-OXOBUTANOATE-OH-CH3-XFER-MONOMER': 10}</td>\n      <td>{MG+2}</td>\n    </tr>\n    <tr>\n      <th>...</th>\n      <td>...</td>\n      <td>...</td>\n      <td>...</td>\n      <td>...</td>\n      <td>...</td>\n    </tr>\n    <tr>\n      <th>1088</th>\n      <td>CPLX0-3964</td>\n      <td>ribosome</td>\n      <td>{'CPLX0-3964': 1, 'CPLX0-3953': -1, 'CPLX0-396...</td>\n      <td>{'EG10900-MONOMER': 1, 'EG10901-MONOMER': 1, '...</td>\n      <td>{}</td>\n    </tr>\n    <tr>\n      <th>1089</th>\n      <td>CPLX0-8028</td>\n      <td>CsrA complex with McaS RNA</td>\n      <td>{'CPLX0-8028': 1, 'IS061-RNA': -1, 'CPLX0-7956...</td>\n      <td>{'EG11447-MONOMER': 2}</td>\n      <td>{}</td>\n    </tr>\n    <tr>\n      <th>1090</th>\n      <td>CPLX0-8053</td>\n      <td>SelB-L-selenocysteinyl-tRNA&lt;sup&gt;sec&lt;/sup&gt;</td>\n      <td>{'CPLX0-8053': 1, 'EG10942-MONOMER': -1}</td>\n      <td>{'EG10942-MONOMER': 1}</td>\n      <td>{}</td>\n    </tr>\n    <tr>\n      <th>1091</th>\n      <td>CPLX0-8253</td>\n      <td>CsrA complex with CsrC RNA</td>\n      <td>{'CPLX0-8253': 1, 'CSRC-RNA': -1, 'EG11447-MON...</td>\n      <td>{'EG11447-MONOMER': 9}</td>\n      <td>{}</td>\n    </tr>\n    <tr>\n      <th>1092</th>\n      <td>SRP-CPLX</td>\n      <td>Signal Recognition Particle</td>\n      <td>{'SRP-CPLX': 1, 'EG10300-MONOMER': -1, 'FFS-RN...</td>\n      <td>{'EG10300-MONOMER': 1}</td>\n      <td>{}</td>\n    </tr>\n  </tbody>\n</table>\n<p>1093 rows × 5 columns</p>\n</div>"
     },
     "execution_count": 16,
     "metadata": {},
     "output_type": "execute_result"
    }
   ],
   "source": [
    "parsed_complex_df = parsed_complex_df.loc[:, [\"id\", \"common_name\", \"stoichiometry\", \"monomer_component_stoichiometry\", \"cofactors\"]]\n",
    "parsed_complex_df"
   ],
   "metadata": {
    "collapsed": false,
    "ExecuteTime": {
     "end_time": "2024-02-26T23:21:54.115478Z",
     "start_time": "2024-02-26T23:21:54.105119Z"
    }
   }
  },
  {
   "cell_type": "markdown",
   "source": [
    "## Create tree matrix (also for Julia)"
   ],
   "metadata": {
    "collapsed": false
   }
  },
  {
   "cell_type": "code",
   "execution_count": 17,
   "outputs": [
    {
     "name": "stdout",
     "output_type": "stream",
     "text": [
      "component CPLX0-7701 not found in complex or protein tables\n",
      "component CPLX0-7677 not found in complex or protein tables\n",
      "component MONOMER0-1781 not found in complex or protein tables\n",
      "component CPLX0-7702 not found in complex or protein tables\n",
      "component CSRB-RNA not found in complex or protein tables\n",
      "component RNPB-RNA not found in complex or protein tables\n",
      "component RRSA-RRNA not found in complex or protein tables\n",
      "component RRLA-RRNA not found in complex or protein tables\n",
      "component RRFA-RRNA not found in complex or protein tables\n",
      "component RRSA-RRNA not found in complex or protein tables\n",
      "component RRLA-RRNA not found in complex or protein tables\n",
      "component RRFA-RRNA not found in complex or protein tables\n",
      "component IS061-RNA not found in complex or protein tables\n",
      "component CSRC-RNA not found in complex or protein tables\n",
      "component FFS-RNA not found in complex or protein tables\n"
     ]
    }
   ],
   "source": [
    "# save names\n",
    "complex_ids = list(parsed_complex_df['id'])\n",
    "protein_ids = list(parsed_protein_df['id'])\n",
    "cofactor_ids = list(parsed_cofactor_df['id'])\n",
    "pathway_ids = list(parsed_pathway_df['id'])\n",
    "\n",
    "\n",
    "name_idx = complex_ids + protein_ids + cofactor_ids\n",
    "tree_matrix = np.zeros([len(complex_ids) + len(protein_ids) + len(cofactor_ids), len(complex_ids) + len(protein_ids) + len(cofactor_ids)], dtype=np.int64)\n",
    "\n",
    "for i in range(len(parsed_complex_df)):\n",
    "    name = parsed_complex_df.at[i, 'id']\n",
    "    tree_structure, nodes = recursive_component_tree(name, parsed_complex_df, parsed_protein_df, return_cofactors=True)\n",
    "\n",
    "    for node in nodes:\n",
    "        node_name = node['name']\n",
    "        node_children = node['children']\n",
    "\n",
    "        if node_children != None:\n",
    "            for child_name, child_coefficient in node_children.items():\n",
    "                if child_name in name_idx:\n",
    "                        tree_matrix[name_idx.index(node_name), name_idx.index(child_name)] = child_coefficient"
   ],
   "metadata": {
    "collapsed": false,
    "ExecuteTime": {
     "end_time": "2024-02-26T23:21:54.836382Z",
     "start_time": "2024-02-26T23:21:54.195039Z"
    }
   }
  },
  {
   "cell_type": "markdown",
   "source": [
    "# Create matrices to get cofactor counts"
   ],
   "metadata": {
    "collapsed": false
   }
  },
  {
   "cell_type": "code",
   "execution_count": 18,
   "outputs": [
    {
     "data": {
      "text/plain": "                          id  \\\n0         Transport-Pathways   \n1         Metabolic-Clusters   \n2               OANTIGEN-PWY   \n3                   PWY-7206   \n4                   PWY-7184   \n...                      ...   \n1186              DNA repair   \n1187  Response to copper ion   \n1188       Uncategorized (I)   \n1189      Uncategorized (II)   \n1190     Uncategorized (III)   \n\n                                                parents  \\\n0                                                    []   \n1                                                    []   \n2     [Metabolic-Clusters, SUGAR-NUCLEOTIDES, Super-...   \n3     [Metabolic-Clusters, Pyrimidine-Deoxyribonucle...   \n4     [Metabolic-Clusters, Pyrimid-Deoxyribonucleot-...   \n...                                                 ...   \n1186                                  [Other functions]   \n1187                                  [Other functions]   \n1188                                                 []   \n1189                                [Uncategorized (I)]   \n1190                               [Uncategorized (II)]   \n\n                                               children  level  \\\n0                                                    []      1   \n1     [OANTIGEN-PWY, PWY-7206, PWY-7184, PWY-7801, P...      1   \n2                                                    []      2   \n3                                                    []      2   \n4                                                    []      2   \n...                                                 ...    ...   \n1186                                                 []      2   \n1187                                                 []      2   \n1188                               [Uncategorized (II)]      1   \n1189                              [Uncategorized (III)]      2   \n1190                                                 []      3   \n\n                                            common_name  \n0                                             Transport  \n1                                    Metabolic Clusters  \n2     <i>O</i>-antigen building blocks biosynthesis ...  \n3     pyrimidine deoxyribonucleotides dephosphorylation  \n4     pyrimidine deoxyribonucleotides <i>de novo</i>...  \n...                                                 ...  \n1186                                         DNA repair  \n1187                             Response to copper ion  \n1188                                      Uncategorized  \n1189                                      Uncategorized  \n1190                                      Uncategorized  \n\n[1191 rows x 5 columns]",
      "text/html": "<div>\n<style scoped>\n    .dataframe tbody tr th:only-of-type {\n        vertical-align: middle;\n    }\n\n    .dataframe tbody tr th {\n        vertical-align: top;\n    }\n\n    .dataframe thead th {\n        text-align: right;\n    }\n</style>\n<table border=\"1\" class=\"dataframe\">\n  <thead>\n    <tr style=\"text-align: right;\">\n      <th></th>\n      <th>id</th>\n      <th>parents</th>\n      <th>children</th>\n      <th>level</th>\n      <th>common_name</th>\n    </tr>\n  </thead>\n  <tbody>\n    <tr>\n      <th>0</th>\n      <td>Transport-Pathways</td>\n      <td>[]</td>\n      <td>[]</td>\n      <td>1</td>\n      <td>Transport</td>\n    </tr>\n    <tr>\n      <th>1</th>\n      <td>Metabolic-Clusters</td>\n      <td>[]</td>\n      <td>[OANTIGEN-PWY, PWY-7206, PWY-7184, PWY-7801, P...</td>\n      <td>1</td>\n      <td>Metabolic Clusters</td>\n    </tr>\n    <tr>\n      <th>2</th>\n      <td>OANTIGEN-PWY</td>\n      <td>[Metabolic-Clusters, SUGAR-NUCLEOTIDES, Super-...</td>\n      <td>[]</td>\n      <td>2</td>\n      <td>&lt;i&gt;O&lt;/i&gt;-antigen building blocks biosynthesis ...</td>\n    </tr>\n    <tr>\n      <th>3</th>\n      <td>PWY-7206</td>\n      <td>[Metabolic-Clusters, Pyrimidine-Deoxyribonucle...</td>\n      <td>[]</td>\n      <td>2</td>\n      <td>pyrimidine deoxyribonucleotides dephosphorylation</td>\n    </tr>\n    <tr>\n      <th>4</th>\n      <td>PWY-7184</td>\n      <td>[Metabolic-Clusters, Pyrimid-Deoxyribonucleot-...</td>\n      <td>[]</td>\n      <td>2</td>\n      <td>pyrimidine deoxyribonucleotides &lt;i&gt;de novo&lt;/i&gt;...</td>\n    </tr>\n    <tr>\n      <th>...</th>\n      <td>...</td>\n      <td>...</td>\n      <td>...</td>\n      <td>...</td>\n      <td>...</td>\n    </tr>\n    <tr>\n      <th>1186</th>\n      <td>DNA repair</td>\n      <td>[Other functions]</td>\n      <td>[]</td>\n      <td>2</td>\n      <td>DNA repair</td>\n    </tr>\n    <tr>\n      <th>1187</th>\n      <td>Response to copper ion</td>\n      <td>[Other functions]</td>\n      <td>[]</td>\n      <td>2</td>\n      <td>Response to copper ion</td>\n    </tr>\n    <tr>\n      <th>1188</th>\n      <td>Uncategorized (I)</td>\n      <td>[]</td>\n      <td>[Uncategorized (II)]</td>\n      <td>1</td>\n      <td>Uncategorized</td>\n    </tr>\n    <tr>\n      <th>1189</th>\n      <td>Uncategorized (II)</td>\n      <td>[Uncategorized (I)]</td>\n      <td>[Uncategorized (III)]</td>\n      <td>2</td>\n      <td>Uncategorized</td>\n    </tr>\n    <tr>\n      <th>1190</th>\n      <td>Uncategorized (III)</td>\n      <td>[Uncategorized (II)]</td>\n      <td>[]</td>\n      <td>3</td>\n      <td>Uncategorized</td>\n    </tr>\n  </tbody>\n</table>\n<p>1191 rows × 5 columns</p>\n</div>"
     },
     "execution_count": 18,
     "metadata": {},
     "output_type": "execute_result"
    }
   ],
   "source": [
    "parsed_pathway_df"
   ],
   "metadata": {
    "collapsed": false,
    "ExecuteTime": {
     "end_time": "2024-02-26T23:21:54.846939Z",
     "start_time": "2024-02-26T23:21:54.838250Z"
    }
   }
  },
  {
   "cell_type": "code",
   "execution_count": 19,
   "outputs": [],
   "source": [
    "priority_list = ['Activation-Inactivation-Interconversion','Metabolic-Clusters', 'Macromolecule-Modification', 'Glycan-Pathways','Detoxification',  'Degradation']\n",
    "\n",
    "# pathway matrix is necessary to traverse tree\n",
    "pathway_matrix = np.zeros((len(pathway_ids), len(pathway_ids)), dtype=np.int64)\n",
    "level_vector = np.zeros(len(pathway_ids), dtype=np.int64)\n",
    "\n",
    "for i in range(len(parsed_pathway_df)):\n",
    "\n",
    "    cur_pathway = parsed_pathway_df.at[i, 'id']\n",
    "    level_vector[i] = parsed_pathway_df.at[i, 'level']\n",
    "\n",
    "    pathway_parents = parsed_pathway_df.at[i, 'parents']\n",
    "    pathway_children = parsed_pathway_df.at[i, 'children']\n",
    "\n",
    "    for parent in pathway_parents:\n",
    "        j = pathway_ids.index(parent)\n",
    "        pathway_matrix[j, i] = 1\n",
    "\n",
    "    for child in pathway_children:\n",
    "        j = pathway_ids.index(child)\n",
    "        pathway_matrix[i, j] = 1\n",
    "\n",
    "original_pathway_matrix = pathway_matrix.copy()\n",
    "\n",
    "# get superpathway indices\n",
    "super_pathway_idx = pathway_ids.index('Super-Pathways')\n",
    "super_pathway_children_idxs = np.where(pathway_matrix[super_pathway_idx, :] == 1)[0]\n",
    "\n",
    "# zero out all superpathway children\n",
    "pathway_matrix[:, super_pathway_children_idxs] = 0\n",
    "\n",
    "# for columns (children) with multiple parents, if one parent leads to degradation or glycans, remove it.\n",
    "for i in range(len(pathway_matrix[0, :])):\n",
    "    cur_pathway = pathway_ids[i]\n",
    "\n",
    "    if pathway_matrix[:, i].sum() > 1:\n",
    "\n",
    "        nz_idxs = np.where(pathway_matrix[:, i] == 1)[0]\n",
    "        top_level_classes = [list(get_pathway_ith_level_parents(j, original_pathway_matrix, pathway_ids, level_vector, level=1).keys())[0] for j in nz_idxs]\n",
    "        # print(f\"multiple parents {top_level_classes} for {cur_pathway}\")\n",
    "\n",
    "\n",
    "        # when there are multiple parents, remove them in the following order of priority:\n",
    "        for priority in priority_list:\n",
    "            while priority in top_level_classes and len(nz_idxs) > 1:\n",
    "                priority_index = top_level_classes.index(priority)\n",
    "                pathway_matrix[nz_idxs[priority_index], i] = 0\n",
    "                nz_idxs = np.where(pathway_matrix[:, i] == 1)[0]\n",
    "                top_level_classes[priority_index] = 'N/A'\n",
    "\n",
    "\n",
    "        # then, if there are still multiple parents, remove all but the first one\n",
    "        # TODO Change to parent with most frequently occuring 2nd parent.\n",
    "        if len(nz_idxs) > 1:\n",
    "            # top_two_level_classes = [list(get_pathway_ith_level_parents(j, original_pathway_matrix, pathway_name_list, level_vector, level=2).keys())[0] for j in nz_idxs]\n",
    "            # print(f\"multiple parents with 2nd level categories {top_two_level_classes} for {cur_pathway}\")\n",
    "            pathway_matrix[nz_idxs[1:], i] = 0\n",
    "\n",
    "        nz_idxs = np.where(pathway_matrix[:, i] == 1)[0]\n",
    "        top_level_classes = [list(get_pathway_ith_level_parents(j, original_pathway_matrix, pathway_ids, level_vector, level=1).keys()) for j in nz_idxs]\n",
    "\n",
    "        # print(f\"pruned to {top_level_classes}\")"
   ],
   "metadata": {
    "collapsed": false,
    "ExecuteTime": {
     "end_time": "2024-02-26T23:21:54.903734Z",
     "start_time": "2024-02-26T23:21:54.869246Z"
    }
   }
  },
  {
   "cell_type": "code",
   "execution_count": 20,
   "outputs": [
    {
     "name": "stdout",
     "output_type": "stream",
     "text": [
      "1-ACYLGLYCEROL-3-P-ACYLTRANSFER-MONOMER has 2nd parents {'Lipid-Biosynthesis': 2} for PWY-5667\n",
      "1-ACYLGLYCEROL-3-P-ACYLTRANSFER-MONOMER has 2nd parents {'Lipid-Biosynthesis': 2} for PWY0-1319\n",
      "pruned to ['Lipid-Biosynthesis', 'Lipid-Biosynthesis']\n",
      "2-OCTAPRENYL-METHOXY-BENZOQ-METH-MONOMER has 2nd parents {'Cofactor-Biosynthesis': 2} for PWY-6708\n",
      "2-OCTAPRENYL-METHOXY-BENZOQ-METH-MONOMER has 2nd parents {'Cofactor-Biosynthesis': 2} for MENAQUINONESYN-PWY\n",
      "pruned to ['Cofactor-Biosynthesis', 'Cofactor-Biosynthesis']\n",
      "3-OXOACYL-ACP-REDUCT-MONOMER has 2nd parents {'Lipid-Biosynthesis': 2} for PWY0-862\n",
      "3-OXOACYL-ACP-REDUCT-MONOMER has 2nd parents {'Lipid-Biosynthesis': 2} for PWY-6282\n",
      "3-OXOACYL-ACP-REDUCT-MONOMER has 2nd parents {'Lipid-Biosynthesis': 2} for PWY-5973\n",
      "3-OXOACYL-ACP-REDUCT-MONOMER has 2nd parents {'Lipid-Biosynthesis': 2} for PWY-5971\n",
      "3-OXOACYL-ACP-REDUCT-MONOMER has 2nd parents {'Lipid-Biosynthesis': 2} for FASYN-ELONG-PWY\n",
      "3-OXOACYL-ACP-REDUCT-MONOMER has 2nd parents {'Other-biosynthesis': 2} for PWY-6519\n",
      "pruned to ['Lipid-Biosynthesis', 'Lipid-Biosynthesis', 'Lipid-Biosynthesis', 'Lipid-Biosynthesis', 'Lipid-Biosynthesis', 'Other-biosynthesis']\n",
      "3-OXOACYL-ACP-SYNTHII-MONOMER has 2nd parents {'Lipid-Biosynthesis': 2} for PWY-5966\n",
      "3-OXOACYL-ACP-SYNTHII-MONOMER has 2nd parents {'Lipid-Biosynthesis': 2} for PWY-5965\n",
      "3-OXOACYL-ACP-SYNTHII-MONOMER has 2nd parents {'Lipid-Biosynthesis': 2} for PWY-5973\n",
      "3-OXOACYL-ACP-SYNTHII-MONOMER has 2nd parents {'Lipid-Biosynthesis': 2} for PWY-5971\n",
      "3-OXOACYL-ACP-SYNTHII-MONOMER has 2nd parents {'Lipid-Biosynthesis': 2} for FASYN-ELONG-PWY\n",
      "3-OXOACYL-ACP-SYNTHII-MONOMER has 2nd parents {'Other-biosynthesis': 2} for PWY-6519\n",
      "pruned to ['Lipid-Biosynthesis', 'Lipid-Biosynthesis', 'Lipid-Biosynthesis', 'Lipid-Biosynthesis', 'Lipid-Biosynthesis', 'Other-biosynthesis']\n",
      "6PFK-1-MONOMER has 2nd parents {'GLYCOLYSIS-VARIANTS': 2} for GLYCOLYSIS\n",
      "6PFK-1-MONOMER has 2nd parents {'GLYCOLYSIS-VARIANTS': 2} for PWY-5484\n",
      "6PFK-1-MONOMER has 2nd parents {'PWY0-1517': 2} for PWY0-1517\n",
      "pruned to ['GLYCOLYSIS-VARIANTS', 'GLYCOLYSIS-VARIANTS', 'PWY0-1517']\n",
      "6PFK-2-MONOMER has 2nd parents {'GLYCOLYSIS-VARIANTS': 2} for GLYCOLYSIS\n",
      "6PFK-2-MONOMER has 2nd parents {'GLYCOLYSIS-VARIANTS': 2} for PWY-5484\n",
      "6PFK-2-MONOMER has 2nd parents {'Alcohol-Degradation': 2} for GALACTITOLCAT-PWY\n",
      "pruned to ['GLYCOLYSIS-VARIANTS', 'GLYCOLYSIS-VARIANTS', 'Alcohol-Degradation']\n",
      "6PGLUCONOLACT-MONOMER has 2nd parents {'Pentose-Phosphate-Cycle': 2} for OXIDATIVEPENT-PWY\n",
      "6PGLUCONOLACT-MONOMER has 2nd parents {'GLYCOLYSIS-E-D': 2} for GLYCOLYSIS-E-D\n",
      "pruned to ['Pentose-Phosphate-Cycle', 'N/A']\n",
      "ACETATEKINA-MONOMER has 2nd parents {'PWY-5485': 2} for PWY-5485\n",
      "ACETATEKINA-MONOMER has 2nd parents {'Fermentation': 2} for PWY0-1312\n",
      "ACETATEKINA-MONOMER has 2nd parents {'FERMENTATION-PWY': 2} for FERMENTATION-PWY\n",
      "ACETATEKINA-MONOMER has 2nd parents {'Fermentation': 2} for PWY-5437\n",
      "ACETATEKINA-MONOMER has 2nd parents {'AMINE-DEG': 2} for PWY0-1477\n",
      "pruned to ['N/A', 'Fermentation', 'N/A', 'Fermentation', 'AMINE-DEG']\n",
      "ACETOLACTSYNIII-HCHAIN-MONOMER has 2nd parents {'Amino-Acid-Biosynthesis': 2} for VALSYN-PWY\n",
      "ACETOLACTSYNIII-HCHAIN-MONOMER has 2nd parents {'Amino-Acid-Biosynthesis': 2} for ILEUSYN-PWY\n",
      "pruned to ['Amino-Acid-Biosynthesis', 'Amino-Acid-Biosynthesis']\n",
      "ACETOLACTSYNIII-ICHAIN-MONOMER has 2nd parents {'Amino-Acid-Biosynthesis': 2} for VALSYN-PWY\n",
      "ACETOLACTSYNIII-ICHAIN-MONOMER has 2nd parents {'Amino-Acid-Biosynthesis': 2} for ILEUSYN-PWY\n",
      "pruned to ['Amino-Acid-Biosynthesis', 'Amino-Acid-Biosynthesis']\n",
      "ACETYL-COA-ACETYLTRANSFER-MONOMER has 2nd parents {'Fatty-Acid-and-Lipid-Degradation': 2} for PWY0-1337\n",
      "ACETYL-COA-ACETYLTRANSFER-MONOMER has 2nd parents {'Other-Degradation': 2} for ACETOACETATE-DEG-PWY\n",
      "pruned to ['Fatty-Acid-and-Lipid-Degradation', 'Other-Degradation']\n",
      "ACETYLORNTRANSAM-MONOMER has 2nd parents {'Amino-Acid-Biosynthesis': 2} for GLUTORN-PWY\n",
      "ACETYLORNTRANSAM-MONOMER has 2nd parents {'Amino-Acid-Biosynthesis': 2} for DAPLYSINESYN-PWY\n",
      "pruned to ['Amino-Acid-Biosynthesis', 'Amino-Acid-Biosynthesis']\n",
      "ACONITASE-MONOMER has 2nd parents {'TCA-VARIANTS': 2} for TCA\n",
      "ACONITASE-MONOMER has 2nd parents {'GLYOXYLATE-BYPASS': 2} for GLYOXYLATE-BYPASS\n",
      "pruned to ['TCA-VARIANTS', 'GLYOXYLATE-BYPASS']\n",
      "ACONITATEDEHYDRB-MONOMER has 2nd parents {'FERMENTATION-PWY': 2} for FERMENTATION-PWY\n",
      "ACONITATEDEHYDRB-MONOMER has 2nd parents {'TCA-VARIANTS': 2} for TCA\n",
      "ACONITATEDEHYDRB-MONOMER has 2nd parents {'GLYOXYLATE-BYPASS': 2} for GLYOXYLATE-BYPASS\n",
      "ACONITATEDEHYDRB-MONOMER has 2nd parents {'CARBOXYLATES-DEG': 2} for PWY0-42\n",
      "pruned to ['N/A', 'TCA-VARIANTS', 'GLYOXYLATE-BYPASS', 'CARBOXYLATES-DEG']\n",
      "ACPSUB-MONOMER has 2nd parents {'Cofactor-Biosynthesis': 2} for P2-PWY\n",
      "ACPSUB-MONOMER has 2nd parents {'CARBOXYLATES-DEG': 2} for PWY-6038\n",
      "pruned to ['Cofactor-Biosynthesis', 'CARBOXYLATES-DEG']\n",
      "ACS-MONOMER has 2nd parents {'CARBOXYLATES-DEG': 2} for PWY0-42\n",
      "ACS-MONOMER has 2nd parents {'CARBOXYLATES-DEG': 2} for PWY0-1313\n",
      "pruned to ['CARBOXYLATES-DEG', 'CARBOXYLATES-DEG']\n",
      "ACSERLYA-MONOMER has 2nd parents {'Amino-Acid-Biosynthesis': 2} for CYSTSYN-PWY\n",
      "ACSERLYA-MONOMER has 2nd parents {'Amino-Acid-Degradation': 2} for LCYSDEG-PWY\n",
      "pruned to ['Amino-Acid-Biosynthesis', 'Amino-Acid-Degradation']\n",
      "ACSERLYB-MONOMER has 2nd parents {'Amino-Acid-Biosynthesis': 2} for PWY-7870\n",
      "ACSERLYB-MONOMER has 2nd parents {'Amino-Acid-Biosynthesis': 2} for CYSTSYN-PWY\n",
      "ACSERLYB-MONOMER has 2nd parents {'Amino-Acid-Degradation': 2} for LCYSDEG-PWY\n",
      "pruned to ['Amino-Acid-Biosynthesis', 'Amino-Acid-Biosynthesis', 'Amino-Acid-Degradation']\n",
      "ACYLCOADEHYDROG-MONOMER has 2nd parents {'Fatty-Acid-and-Lipid-Degradation': 2} for PWY0-1337\n",
      "ACYLCOADEHYDROG-MONOMER has 2nd parents {'Fatty-Acid-and-Lipid-Degradation': 2} for FAO-PWY\n",
      "pruned to ['Fatty-Acid-and-Lipid-Degradation', 'Fatty-Acid-and-Lipid-Degradation']\n",
      "ADENODEAMIN-MONOMER has 2nd parents {'Nucleotide-Biosynthesis': 2} for PWY-6611\n",
      "ADENODEAMIN-MONOMER has 2nd parents {'Nucleotide-Biosynthesis': 2} for PWY-6609\n",
      "ADENODEAMIN-MONOMER has 2nd parents {'NUCLEO-DEG': 2} for SALVADEHYPOX-PWY\n",
      "ADENODEAMIN-MONOMER has 2nd parents {'NUCLEO-DEG': 2} for PWY0-1296\n",
      "ADENODEAMIN-MONOMER has 2nd parents {'NUCLEO-DEG': 2} for PWY-7179\n",
      "pruned to ['Nucleotide-Biosynthesis', 'Nucleotide-Biosynthesis', 'NUCLEO-DEG', 'NUCLEO-DEG', 'NUCLEO-DEG']\n",
      "ADENPRIBOSYLTRAN-MONOMER has 2nd parents {'Nucleotide-Biosynthesis': 2} for PWY-6605\n",
      "ADENPRIBOSYLTRAN-MONOMER has 2nd parents {'Noncarbon-Nutrients': 2} for PWY-7805\n",
      "pruned to ['Nucleotide-Biosynthesis', 'Noncarbon-Nutrients']\n",
      "ADENYL-KIN-MONOMER has 2nd parents {'PWY-7184': 2, 'Nucleotide-Biosynthesis': 2} for PWY-7184\n",
      "ADENYL-KIN-MONOMER has 2nd parents {'PWY-7197': 2, 'Nucleotide-Biosynthesis': 2} for PWY-7197\n",
      "ADENYL-KIN-MONOMER has 2nd parents {'Nucleotide-Biosynthesis': 2} for PWY-7222\n",
      "ADENYL-KIN-MONOMER has 2nd parents {'PWY0-166': 2} for PWY0-166\n",
      "ADENYL-KIN-MONOMER has 2nd parents {'Nucleotide-Biosynthesis': 2} for PWY-7187\n",
      "ADENYL-KIN-MONOMER has 2nd parents {'Nucleotide-Biosynthesis': 2} for PWY-7219\n",
      "ADENYL-KIN-MONOMER has 2nd parents {'Nucleotide-Biosynthesis': 2} for PWY-7221\n",
      "ADENYL-KIN-MONOMER has 2nd parents {'Nucleotide-Biosynthesis': 2} for PWY0-163\n",
      "ADENYL-KIN-MONOMER has 2nd parents {'Nucleotide-Biosynthesis': 2} for PWY-7205\n",
      "ADENYL-KIN-MONOMER has 2nd parents {'Nucleotide-Biosynthesis': 2} for PWY-7176\n",
      "ADENYL-KIN-MONOMER has 2nd parents {'Metabolic-Regulators': 2} for PPGPPMET-PWY\n",
      "pruned to ['PWY-7184', 'PWY-7197', 'Nucleotide-Biosynthesis', 'N/A', 'Nucleotide-Biosynthesis', 'Nucleotide-Biosynthesis', 'Nucleotide-Biosynthesis', 'Nucleotide-Biosynthesis', 'Nucleotide-Biosynthesis', 'Nucleotide-Biosynthesis', 'Metabolic-Regulators']\n",
      "ADHE-MONOMER has 2nd parents {'FERMENTATION-PWY': 2} for FERMENTATION-PWY\n",
      "ADHE-MONOMER has 2nd parents {'Fermentation': 2} for PWY-5480\n",
      "ADHE-MONOMER has 2nd parents {'Carbohydrates-Degradation': 2} for PWY-7180\n",
      "ADHE-MONOMER has 2nd parents {'Amino-Acid-Degradation': 2} for PWY-5436\n",
      "ADHE-MONOMER has 2nd parents {'Alcohol-Degradation': 2} for ETOH-ACETYLCOA-ANA-PWY\n",
      "ADHE-MONOMER has 2nd parents {'AMINE-DEG': 2} for PWY0-1477\n",
      "pruned to ['N/A', 'Fermentation', 'Carbohydrates-Degradation', 'Amino-Acid-Degradation', 'Alcohol-Degradation', 'AMINE-DEG']\n",
      "ADHP-MONOMER has 2nd parents {'FERMENTATION-PWY': 2} for FERMENTATION-PWY\n",
      "ADHP-MONOMER has 2nd parents {'Fermentation': 2} for PWY-5480\n",
      "ADHP-MONOMER has 2nd parents {'Alcohol-Degradation': 2} for ETOH-ACETYLCOA-ANA-PWY\n",
      "ADHP-MONOMER has 2nd parents {'AMINE-DEG': 2} for PWY0-1477\n",
      "pruned to ['N/A', 'Fermentation', 'Alcohol-Degradation', 'AMINE-DEG']\n",
      "AERGLYC3PDEHYDROG-MONOMER has 2nd parents {'Electron-Transfer': 2} for PWY0-1561\n",
      "AERGLYC3PDEHYDROG-MONOMER has 2nd parents {'Electron-Transfer': 2} for PWY0-1584\n",
      "AERGLYC3PDEHYDROG-MONOMER has 2nd parents {'Alcohol-Degradation': 2} for PWY-6952\n",
      "AERGLYC3PDEHYDROG-MONOMER has 2nd parents {'Alcohol-Degradation': 2} for PWY-4261\n",
      "pruned to ['Electron-Transfer', 'Electron-Transfer', 'Alcohol-Degradation', 'Alcohol-Degradation']\n",
      "AGMATIN-MONOMER has 2nd parents {'Polyamine-Biosynthesis': 2} for PWY-40\n",
      "AGMATIN-MONOMER has 2nd parents {'Amino-Acid-Degradation': 2} for PWY0-823\n",
      "pruned to ['Polyamine-Biosynthesis', 'Amino-Acid-Degradation']\n",
      "AIRS-MONOMER has 2nd parents {'PWY-6277': 2} for PWY-6277\n",
      "AIRS-MONOMER has 2nd parents {'Nucleotide-Biosynthesis': 2} for PWY-6122\n",
      "AIRS-MONOMER has 2nd parents {'Nucleotide-Biosynthesis': 2} for PWY-6121\n",
      "pruned to ['N/A', 'Nucleotide-Biosynthesis', 'Nucleotide-Biosynthesis']\n",
      "ALARACEBIOSYN-MONOMER has 2nd parents {'Amino-Acid-Biosynthesis': 2} for PWY-8072\n",
      "ALARACEBIOSYN-MONOMER has 2nd parents {'Amino-Acid-Degradation': 2} for ALADEG-PWY\n",
      "pruned to ['Amino-Acid-Biosynthesis', 'Amino-Acid-Degradation']\n",
      "ALARACECAT-MONOMER has 2nd parents {'Amino-Acid-Biosynthesis': 2} for PWY-8072\n",
      "ALARACECAT-MONOMER has 2nd parents {'Amino-Acid-Degradation': 2} for ALADEG-PWY\n",
      "pruned to ['Amino-Acid-Biosynthesis', 'Amino-Acid-Degradation']\n",
      "ALAS-MONOMER has 2nd parents {'TRNA-CHARGING-PWY': 2, 'Aminoacyl-tRNAs-Charging': 2} for TRNA-CHARGING-PWY\n",
      "ALAS-MONOMER has 2nd parents {'ENTBACSYN-PWY': 2} for ENTBACSYN-PWY\n",
      "pruned to ['TRNA-CHARGING-PWY', 'N/A']\n",
      "ALDHDEHYDROG-MONOMER has 2nd parents {'AMINE-DEG': 2} for PWY0-1221\n",
      "ALDHDEHYDROG-MONOMER has 2nd parents {'AMINE-DEG': 2} for PUTDEG-PWY\n",
      "ALDHDEHYDROG-MONOMER has 2nd parents {'AMINE-DEG': 2} for PWY-6535\n",
      "pruned to ['AMINE-DEG', 'AMINE-DEG', 'AMINE-DEG']\n",
      "ALKAPHOSPHA-MONOMER has 2nd parents {'GLYCOLYSIS-VARIANTS': 2} for PWY-5484\n",
      "ALKAPHOSPHA-MONOMER has 2nd parents {'Carbohydrates-Biosynthesis': 2} for TRESYN-PWY\n",
      "ALKAPHOSPHA-MONOMER has 2nd parents {'NUCLEO-DEG': 2} for SALVADEHYPOX-PWY\n",
      "ALKAPHOSPHA-MONOMER has 2nd parents {'Noncarbon-Nutrients': 2} for PWY-7805\n",
      "pruned to ['GLYCOLYSIS-VARIANTS', 'Carbohydrates-Biosynthesis', 'NUCLEO-DEG', 'Noncarbon-Nutrients']\n",
      "AMINEOXID-MONOMER has 2nd parents {'Amino-Acid-Degradation': 2} for THRDLCTCAT-PWY\n",
      "AMINEOXID-MONOMER has 2nd parents {'AMINE-DEG': 2} for 2PHENDEG-PWY\n",
      "pruned to ['Amino-Acid-Degradation', 'AMINE-DEG']\n",
      "ANGLYC3PDEHYDROGSUBUNITA-MONOMER has 2nd parents {'Electron-Transfer': 2} for PWY0-1591\n",
      "ANGLYC3PDEHYDROGSUBUNITA-MONOMER has 2nd parents {'Electron-Transfer': 2} for PWY0-1582\n",
      "ANGLYC3PDEHYDROGSUBUNITA-MONOMER has 2nd parents {'Electron-Transfer': 2} for PWY0-1581\n",
      "ANGLYC3PDEHYDROGSUBUNITA-MONOMER has 2nd parents {'Alcohol-Degradation': 2} for PWY-6952\n",
      "ANGLYC3PDEHYDROGSUBUNITA-MONOMER has 2nd parents {'Alcohol-Degradation': 2} for PWY-4261\n",
      "pruned to ['Electron-Transfer', 'Electron-Transfer', 'Electron-Transfer', 'Alcohol-Degradation', 'Alcohol-Degradation']\n",
      "ANGLYC3PDEHYDROGSUBUNITB-MONOMER has 2nd parents {'Electron-Transfer': 2} for PWY0-1591\n",
      "ANGLYC3PDEHYDROGSUBUNITB-MONOMER has 2nd parents {'Electron-Transfer': 2} for PWY0-1582\n",
      "ANGLYC3PDEHYDROGSUBUNITB-MONOMER has 2nd parents {'Electron-Transfer': 2} for PWY0-1581\n",
      "ANGLYC3PDEHYDROGSUBUNITB-MONOMER has 2nd parents {'Alcohol-Degradation': 2} for PWY-6952\n",
      "ANGLYC3PDEHYDROGSUBUNITB-MONOMER has 2nd parents {'Alcohol-Degradation': 2} for PWY-4261\n",
      "pruned to ['Electron-Transfer', 'Electron-Transfer', 'Electron-Transfer', 'Alcohol-Degradation', 'Alcohol-Degradation']\n",
      "ANGLYC3PDEHYDROGSUBUNITC-MONOMER has 2nd parents {'Electron-Transfer': 2} for PWY0-1591\n",
      "ANGLYC3PDEHYDROGSUBUNITC-MONOMER has 2nd parents {'Electron-Transfer': 2} for PWY0-1582\n",
      "ANGLYC3PDEHYDROGSUBUNITC-MONOMER has 2nd parents {'Electron-Transfer': 2} for PWY0-1581\n",
      "ANGLYC3PDEHYDROGSUBUNITC-MONOMER has 2nd parents {'Alcohol-Degradation': 2} for PWY-6952\n",
      "ANGLYC3PDEHYDROGSUBUNITC-MONOMER has 2nd parents {'Alcohol-Degradation': 2} for PWY-4261\n",
      "pruned to ['Electron-Transfer', 'Electron-Transfer', 'Electron-Transfer', 'Alcohol-Degradation', 'Alcohol-Degradation']\n",
      "ANSA-MONOMER has 2nd parents {'ASPASN-PWY': 2} for ASPASN-PWY\n",
      "ANSA-MONOMER has 2nd parents {'Amino-Acid-Degradation': 2} for ASPARAGINE-DEG1-PWY\n",
      "pruned to ['N/A', 'Amino-Acid-Degradation']\n",
      "ANSB-MONOMER has 2nd parents {'ASPASN-PWY': 2} for ASPASN-PWY\n",
      "ANSB-MONOMER has 2nd parents {'Amino-Acid-Degradation': 2} for ASPARAGINE-DEG1-PWY\n",
      "pruned to ['N/A', 'Amino-Acid-Degradation']\n",
      "ANTHRANSYNCOMPI-MONOMER has 2nd parents {'Amino-Acid-Biosynthesis': 2} for GLUTSYN-PWY\n",
      "ANTHRANSYNCOMPI-MONOMER has 2nd parents {'Amino-Acid-Biosynthesis': 2} for TRPSYN-PWY\n",
      "ANTHRANSYNCOMPI-MONOMER has 2nd parents {'Amino-Acid-Degradation': 2} for GLUTAMINDEG-PWY\n",
      "ANTHRANSYNCOMPI-MONOMER has 2nd parents {'Noncarbon-Nutrients': 2} for AMMASSIM-PWY\n",
      "pruned to ['Amino-Acid-Biosynthesis', 'Amino-Acid-Biosynthesis', 'Amino-Acid-Degradation', 'Noncarbon-Nutrients']\n",
      "ANTHRANSYNCOMPII-MONOMER has 2nd parents {'Amino-Acid-Biosynthesis': 2} for GLUTSYN-PWY\n",
      "ANTHRANSYNCOMPII-MONOMER has 2nd parents {'Amino-Acid-Biosynthesis': 2} for TRPSYN-PWY\n",
      "ANTHRANSYNCOMPII-MONOMER has 2nd parents {'Amino-Acid-Degradation': 2} for GLUTAMINDEG-PWY\n",
      "ANTHRANSYNCOMPII-MONOMER has 2nd parents {'Noncarbon-Nutrients': 2} for AMMASSIM-PWY\n",
      "pruned to ['Amino-Acid-Biosynthesis', 'Amino-Acid-Biosynthesis', 'Amino-Acid-Degradation', 'Noncarbon-Nutrients']\n",
      "APHA-MONOMER has 2nd parents {'NUCLEO-DEG': 2} for SALVADEHYPOX-PWY\n",
      "APHA-MONOMER has 2nd parents {'NUCLEO-DEG': 2} for PWY-6608\n",
      "pruned to ['NUCLEO-DEG', 'NUCLEO-DEG']\n",
      "ARGDECARBOXBIO-MONOMER has 2nd parents {'Polyamine-Biosynthesis': 2} for PWY-40\n",
      "ARGDECARBOXBIO-MONOMER has 2nd parents {'Amino-Acid-Degradation': 2} for PWY0-823\n",
      "pruned to ['Polyamine-Biosynthesis', 'Amino-Acid-Degradation']\n",
      "ARGDECARBOXDEG-MONOMER has 2nd parents {'Amino-Acid-Degradation': 2} for PWY0-823\n",
      "ARGDECARBOXDEG-MONOMER has 2nd parents {'Acid-Resistance': 2} for PWY0-1299\n",
      "pruned to ['Amino-Acid-Degradation', 'Acid-Resistance']\n",
      "ASL-MONOMER has 2nd parents {'Nucleotide-Biosynthesis': 2} for PWY-6123\n",
      "ASL-MONOMER has 2nd parents {'Nucleotide-Biosynthesis': 2} for PWY-7219\n",
      "pruned to ['Nucleotide-Biosynthesis', 'Nucleotide-Biosynthesis']\n",
      "ASNSYNB-MONOMER has 2nd parents {'Amino-Acid-Biosynthesis': 2} for ASPARAGINE-BIOSYNTHESIS\n",
      "ASNSYNB-MONOMER has 2nd parents {'Amino-Acid-Biosynthesis': 2} for ASPARAGINESYN-PWY\n",
      "ASNSYNB-MONOMER has 2nd parents {'Amino-Acid-Degradation': 2} for GLUTAMINDEG-PWY\n",
      "ASNSYNB-MONOMER has 2nd parents {'Noncarbon-Nutrients': 2} for AMMASSIM-PWY\n",
      "pruned to ['Amino-Acid-Biosynthesis', 'Amino-Acid-Biosynthesis', 'Amino-Acid-Degradation', 'Noncarbon-Nutrients']\n",
      "ASP-SEMIALDEHYDE-DEHYDROGENASE-MONOMER has 2nd parents {'Amino-Acid-Biosynthesis': 2} for HOMOSERSYN-PWY\n",
      "ASP-SEMIALDEHYDE-DEHYDROGENASE-MONOMER has 2nd parents {'Amino-Acid-Biosynthesis': 2} for DAPLYSINESYN-PWY\n",
      "pruned to ['Amino-Acid-Biosynthesis', 'Amino-Acid-Biosynthesis']\n",
      "ASPAMINOTRANS-MONOMER has 2nd parents {'Amino-Acid-Biosynthesis': 2} for ASPARTATESYN-PWY\n",
      "ASPAMINOTRANS-MONOMER has 2nd parents {'Amino-Acid-Biosynthesis': 2} for PHESYN\n",
      "ASPAMINOTRANS-MONOMER has 2nd parents {'Amino-Acid-Biosynthesis': 2} for TYRSYN\n",
      "ASPAMINOTRANS-MONOMER has 2nd parents {'Noncarbon-Nutrients': 2} for PWY-5329\n",
      "ASPAMINOTRANS-MONOMER has 2nd parents {'Amino-Acid-Degradation': 2} for GLUTDEG-PWY\n",
      "pruned to ['Amino-Acid-Biosynthesis', 'Amino-Acid-Biosynthesis', 'Amino-Acid-Biosynthesis', 'Noncarbon-Nutrients', 'Amino-Acid-Degradation']\n",
      "ASPARTASE-MONOMER has 2nd parents {'ASPASN-PWY': 2} for ASPASN-PWY\n",
      "ASPARTASE-MONOMER has 2nd parents {'Amino-Acid-Degradation': 2} for GLUTDEG-PWY\n",
      "ASPARTASE-MONOMER has 2nd parents {'Amino-Acid-Degradation': 2} for PWY-8291\n",
      "ASPARTASE-MONOMER has 2nd parents {'Amino-Acid-Degradation': 2} for PWY-8294\n",
      "pruned to ['N/A', 'Amino-Acid-Degradation', 'Amino-Acid-Degradation', 'Amino-Acid-Degradation']\n",
      "ASPKINIII-MONOMER has 2nd parents {'Amino-Acid-Biosynthesis': 2} for HOMOSERSYN-PWY\n",
      "ASPKINIII-MONOMER has 2nd parents {'Amino-Acid-Biosynthesis': 2} for DAPLYSINESYN-PWY\n",
      "pruned to ['Amino-Acid-Biosynthesis', 'Amino-Acid-Biosynthesis']\n",
      "BRANCHED-CHAINAMINOTRANSFER-MONOMER has 2nd parents {'Amino-Acid-Biosynthesis': 2} for VALSYN-PWY\n",
      "BRANCHED-CHAINAMINOTRANSFER-MONOMER has 2nd parents {'Amino-Acid-Biosynthesis': 2} for ILEUSYN-PWY\n",
      "BRANCHED-CHAINAMINOTRANSFER-MONOMER has 2nd parents {'Amino-Acid-Biosynthesis': 2} for ALANINE-VALINESYN-PWY\n",
      "BRANCHED-CHAINAMINOTRANSFER-MONOMER has 2nd parents {'Amino-Acid-Biosynthesis': 2} for PHESYN\n",
      "BRANCHED-CHAINAMINOTRANSFER-MONOMER has 2nd parents {'Amino-Acid-Biosynthesis': 2} for LEUSYN-PWY\n",
      "pruned to ['Amino-Acid-Biosynthesis', 'Amino-Acid-Biosynthesis', 'Amino-Acid-Biosynthesis', 'Amino-Acid-Biosynthesis', 'Amino-Acid-Biosynthesis']\n",
      "CARBOXYL-TRANSFERASE-ALPHA-MONOMER has 2nd parents {'Lipid-Biosynthesis': 2} for PWY-4381\n",
      "CARBOXYL-TRANSFERASE-ALPHA-MONOMER has 2nd parents {'Lipid-Biosynthesis': 2} for PWY0-1264\n",
      "pruned to ['Lipid-Biosynthesis', 'Lipid-Biosynthesis']\n",
      "CARBOXYL-TRANSFERASE-BETA-MONOMER has 2nd parents {'Lipid-Biosynthesis': 2} for PWY-4381\n",
      "CARBOXYL-TRANSFERASE-BETA-MONOMER has 2nd parents {'Lipid-Biosynthesis': 2} for PWY0-1264\n",
      "pruned to ['Lipid-Biosynthesis', 'Lipid-Biosynthesis']\n",
      "CARBPSYN-LARGE has 2nd parents {'Nucleotide-Biosynthesis': 2} for PWY-5686\n",
      "CARBPSYN-LARGE has 2nd parents {'ARGSYN-PWY': 2} for ARGSYN-PWY\n",
      "CARBPSYN-LARGE has 2nd parents {'Amino-Acid-Degradation': 2} for GLUTAMINDEG-PWY\n",
      "CARBPSYN-LARGE has 2nd parents {'Noncarbon-Nutrients': 2} for AMMASSIM-PWY\n",
      "pruned to ['Nucleotide-Biosynthesis', 'N/A', 'Amino-Acid-Degradation', 'Noncarbon-Nutrients']\n",
      "CARBPSYN-SMALL has 2nd parents {'Nucleotide-Biosynthesis': 2} for PWY-5686\n",
      "CARBPSYN-SMALL has 2nd parents {'ARGSYN-PWY': 2} for ARGSYN-PWY\n",
      "CARBPSYN-SMALL has 2nd parents {'Amino-Acid-Degradation': 2} for GLUTAMINDEG-PWY\n",
      "CARBPSYN-SMALL has 2nd parents {'Noncarbon-Nutrients': 2} for AMMASSIM-PWY\n",
      "pruned to ['Nucleotide-Biosynthesis', 'N/A', 'Amino-Acid-Degradation', 'Noncarbon-Nutrients']\n",
      "CDPDIGLYSYN-MONOMER has 2nd parents {'Lipid-Biosynthesis': 2} for PWY-5667\n",
      "CDPDIGLYSYN-MONOMER has 2nd parents {'Lipid-Biosynthesis': 2} for PWY0-1319\n",
      "pruned to ['Lipid-Biosynthesis', 'Lipid-Biosynthesis']\n",
      "CHEA-SMALL has 2nd parents {'PWY0-1518': 2} for PWY0-1518\n",
      "CHEA-SMALL has 2nd parents {'PWY0-1519': 2} for PWY0-1519\n",
      "pruned to ['PWY0-1518', 'PWY0-1519']\n",
      "CHEY-MONOMER has 2nd parents {'PWY0-1518': 2} for PWY0-1518\n",
      "CHEY-MONOMER has 2nd parents {'PWY0-1519': 2} for PWY0-1519\n",
      "pruned to ['PWY0-1518', 'PWY0-1519']\n",
      "CHORISMUTPREPHENDEHYDRAT-MONOMER has 2nd parents {'Amino-Acid-Biosynthesis': 2} for PHESYN\n",
      "CHORISMUTPREPHENDEHYDRAT-MONOMER has 2nd parents {'Amino-Acid-Biosynthesis': 2} for TYRSYN\n",
      "pruned to ['Amino-Acid-Biosynthesis', 'Amino-Acid-Biosynthesis']\n",
      "CHORISMUTPREPHENDEHYDROG-MONOMER has 2nd parents {'Amino-Acid-Biosynthesis': 2} for PHESYN\n",
      "CHORISMUTPREPHENDEHYDROG-MONOMER has 2nd parents {'Amino-Acid-Biosynthesis': 2} for TYRSYN\n",
      "pruned to ['Amino-Acid-Biosynthesis', 'Amino-Acid-Biosynthesis']\n",
      "CITRYLY-MONOMER has 2nd parents {'Cofactor-Biosynthesis': 2} for P2-PWY\n",
      "CITRYLY-MONOMER has 2nd parents {'CARBOXYLATES-DEG': 2} for PWY-6038\n",
      "pruned to ['Cofactor-Biosynthesis', 'CARBOXYLATES-DEG']\n",
      "CITSYN-MONOMER has 2nd parents {'FERMENTATION-PWY': 2} for FERMENTATION-PWY\n",
      "CITSYN-MONOMER has 2nd parents {'TCA-VARIANTS': 2} for TCA\n",
      "CITSYN-MONOMER has 2nd parents {'GLYOXYLATE-BYPASS': 2} for GLYOXYLATE-BYPASS\n",
      "pruned to ['N/A', 'TCA-VARIANTS', 'GLYOXYLATE-BYPASS']\n",
      "CITTRANS-MONOMER has 2nd parents {'Cofactor-Biosynthesis': 2} for P2-PWY\n",
      "CITTRANS-MONOMER has 2nd parents {'CARBOXYLATES-DEG': 2} for PWY-6038\n",
      "pruned to ['Cofactor-Biosynthesis', 'CARBOXYLATES-DEG']\n",
      "CMPKI-MONOMER has 2nd parents {'PWY-7197': 2, 'Nucleotide-Biosynthesis': 2} for PWY-7197\n",
      "CMPKI-MONOMER has 2nd parents {'Nucleotide-Biosynthesis': 2} for PWY0-163\n",
      "CMPKI-MONOMER has 2nd parents {'Nucleotide-Biosynthesis': 2} for PWY-7205\n",
      "pruned to ['PWY-7197', 'Nucleotide-Biosynthesis', 'Nucleotide-Biosynthesis']\n",
      "COBALADENOSYLTRANS-MONOMER has 2nd parents {'Cofactor-Biosynthesis': 2} for PWY-7971\n",
      "COBALADENOSYLTRANS-MONOMER has 2nd parents {'Cofactor-Biosynthesis': 2} for PWY-6268\n",
      "pruned to ['Cofactor-Biosynthesis', 'Cofactor-Biosynthesis']\n",
      "COBS-MONOMER has 2nd parents {'Cofactor-Biosynthesis': 2} for PWY-5509\n",
      "COBS-MONOMER has 2nd parents {'COBALSYN-PWY': 2} for COBALSYN-PWY\n",
      "pruned to ['Cofactor-Biosynthesis', 'N/A']\n",
      "COBU-MONOMER has 2nd parents {'COBALSYN-PWY': 2} for COBALSYN-PWY\n",
      "COBU-MONOMER has 2nd parents {'Cofactor-Biosynthesis': 2} for PWY-7971\n",
      "pruned to ['N/A', 'Cofactor-Biosynthesis']\n",
      "CTPSYN-MONOMER has 2nd parents {'Nucleotide-Biosynthesis': 2} for PWY-7176\n",
      "CTPSYN-MONOMER has 2nd parents {'Amino-Acid-Degradation': 2} for GLUTAMINDEG-PWY\n",
      "CTPSYN-MONOMER has 2nd parents {'Noncarbon-Nutrients': 2} for AMMASSIM-PWY\n",
      "pruned to ['Nucleotide-Biosynthesis', 'Amino-Acid-Degradation', 'Noncarbon-Nutrients']\n",
      "CYCLASE-MONOMER has 2nd parents {'Amino-Acid-Biosynthesis': 2} for HISTSYN-PWY\n",
      "CYCLASE-MONOMER has 2nd parents {'Amino-Acid-Degradation': 2} for GLUTAMINDEG-PWY\n",
      "CYCLASE-MONOMER has 2nd parents {'Noncarbon-Nutrients': 2} for AMMASSIM-PWY\n",
      "pruned to ['Amino-Acid-Biosynthesis', 'Amino-Acid-Degradation', 'Noncarbon-Nutrients']\n",
      "CYDA-MONOMER has 2nd parents {'Electron-Transfer': 2} for PWY0-1353\n",
      "CYDA-MONOMER has 2nd parents {'Electron-Transfer': 2} for PWY0-1334\n",
      "CYDA-MONOMER has 2nd parents {'Electron-Transfer': 2} for PWY0-1568\n",
      "CYDA-MONOMER has 2nd parents {'Electron-Transfer': 2} for PWY-7545\n",
      "pruned to ['Electron-Transfer', 'Electron-Transfer', 'Electron-Transfer', 'Electron-Transfer']\n",
      "CYDB-MONOMER has 2nd parents {'Electron-Transfer': 2} for PWY0-1353\n",
      "CYDB-MONOMER has 2nd parents {'Electron-Transfer': 2} for PWY0-1334\n",
      "CYDB-MONOMER has 2nd parents {'Electron-Transfer': 2} for PWY0-1568\n",
      "CYDB-MONOMER has 2nd parents {'Electron-Transfer': 2} for PWY-7545\n",
      "pruned to ['Electron-Transfer', 'Electron-Transfer', 'Electron-Transfer', 'Electron-Transfer']\n",
      "CYOA-MONOMER has 2nd parents {'Electron-Transfer': 2} for PWY0-1335\n",
      "CYOA-MONOMER has 2nd parents {'Electron-Transfer': 2} for PWY0-1565\n",
      "CYOA-MONOMER has 2nd parents {'Electron-Transfer': 2} for PWY0-1329\n",
      "CYOA-MONOMER has 2nd parents {'Electron-Transfer': 2} for PWY0-1567\n",
      "CYOA-MONOMER has 2nd parents {'Electron-Transfer': 2} for PWY-7544\n",
      "CYOA-MONOMER has 2nd parents {'Electron-Transfer': 2} for PWY0-1544\n",
      "CYOA-MONOMER has 2nd parents {'Electron-Transfer': 2} for PWY0-1561\n",
      "pruned to ['Electron-Transfer', 'Electron-Transfer', 'Electron-Transfer', 'Electron-Transfer', 'Electron-Transfer', 'Electron-Transfer', 'Electron-Transfer']\n",
      "CYOB-MONOMER has 2nd parents {'Electron-Transfer': 2} for PWY0-1335\n",
      "CYOB-MONOMER has 2nd parents {'Electron-Transfer': 2} for PWY0-1565\n",
      "CYOB-MONOMER has 2nd parents {'Electron-Transfer': 2} for PWY0-1329\n",
      "CYOB-MONOMER has 2nd parents {'Electron-Transfer': 2} for PWY0-1567\n",
      "CYOB-MONOMER has 2nd parents {'Electron-Transfer': 2} for PWY-7544\n",
      "CYOB-MONOMER has 2nd parents {'Electron-Transfer': 2} for PWY0-1544\n",
      "CYOB-MONOMER has 2nd parents {'Electron-Transfer': 2} for PWY0-1561\n",
      "pruned to ['Electron-Transfer', 'Electron-Transfer', 'Electron-Transfer', 'Electron-Transfer', 'Electron-Transfer', 'Electron-Transfer', 'Electron-Transfer']\n",
      "CYOC-MONOMER has 2nd parents {'Electron-Transfer': 2} for PWY0-1335\n",
      "CYOC-MONOMER has 2nd parents {'Electron-Transfer': 2} for PWY0-1565\n",
      "CYOC-MONOMER has 2nd parents {'Electron-Transfer': 2} for PWY0-1329\n",
      "CYOC-MONOMER has 2nd parents {'Electron-Transfer': 2} for PWY0-1567\n",
      "CYOC-MONOMER has 2nd parents {'Electron-Transfer': 2} for PWY-7544\n",
      "CYOC-MONOMER has 2nd parents {'Electron-Transfer': 2} for PWY0-1544\n",
      "CYOC-MONOMER has 2nd parents {'Electron-Transfer': 2} for PWY0-1561\n",
      "pruned to ['Electron-Transfer', 'Electron-Transfer', 'Electron-Transfer', 'Electron-Transfer', 'Electron-Transfer', 'Electron-Transfer', 'Electron-Transfer']\n",
      "CYOD-MONOMER has 2nd parents {'Electron-Transfer': 2} for PWY0-1335\n",
      "CYOD-MONOMER has 2nd parents {'Electron-Transfer': 2} for PWY0-1565\n",
      "CYOD-MONOMER has 2nd parents {'Electron-Transfer': 2} for PWY0-1329\n",
      "CYOD-MONOMER has 2nd parents {'Electron-Transfer': 2} for PWY0-1567\n",
      "CYOD-MONOMER has 2nd parents {'Electron-Transfer': 2} for PWY-7544\n",
      "CYOD-MONOMER has 2nd parents {'Electron-Transfer': 2} for PWY0-1544\n",
      "CYOD-MONOMER has 2nd parents {'Electron-Transfer': 2} for PWY0-1561\n",
      "pruned to ['Electron-Transfer', 'Electron-Transfer', 'Electron-Transfer', 'Electron-Transfer', 'Electron-Transfer', 'Electron-Transfer', 'Electron-Transfer']\n",
      "CYSTATHIONINE-BETA-LYASE-MONOMER has 2nd parents {'Amino-Acid-Biosynthesis': 2} for PWY-8072\n",
      "CYSTATHIONINE-BETA-LYASE-MONOMER has 2nd parents {'Amino-Acid-Biosynthesis': 2} for HOMOSER-METSYN-PWY\n",
      "CYSTATHIONINE-BETA-LYASE-MONOMER has 2nd parents {'Amino-Acid-Degradation': 2} for LCYSDEG-PWY\n",
      "CYSTATHIONINE-BETA-LYASE-MONOMER has 2nd parents {'Amino-Acid-Degradation': 2} for ALADEG-PWY\n",
      "pruned to ['Amino-Acid-Biosynthesis', 'Amino-Acid-Biosynthesis', 'Amino-Acid-Degradation', 'Amino-Acid-Degradation']\n",
      "CYTDEAM-MONOMER has 2nd parents {'PWY-7194': 2} for PWY-7194\n",
      "CYTDEAM-MONOMER has 2nd parents {'Nucleotide-Biosynthesis': 2} for PWY0-163\n",
      "CYTDEAM-MONOMER has 2nd parents {'Nucleotide-Biosynthesis': 2} for PWY-7195\n",
      "pruned to ['N/A', 'Nucleotide-Biosynthesis', 'Nucleotide-Biosynthesis']\n",
      "CYTIDEAM-MONOMER has 2nd parents {'Nucleotide-Biosynthesis': 2} for PWY-7193\n",
      "CYTIDEAM-MONOMER has 2nd parents {'Nucleotide-Biosynthesis': 2} for PWY0-163\n",
      "CYTIDEAM-MONOMER has 2nd parents {'Nucleotide-Biosynthesis': 2} for PWY-6556\n",
      "CYTIDEAM-MONOMER has 2nd parents {'Nucleotide-Biosynthesis': 2} for PWY0-181\n",
      "CYTIDEAM-MONOMER has 2nd parents {'NUCLEO-DEG': 2} for PWY-7181\n",
      "CYTIDEAM-MONOMER has 2nd parents {'NUCLEO-DEG': 2} for PWY0-1295\n",
      "pruned to ['Nucleotide-Biosynthesis', 'Nucleotide-Biosynthesis', 'Nucleotide-Biosynthesis', 'Nucleotide-Biosynthesis', 'NUCLEO-DEG', 'NUCLEO-DEG']\n",
      "CYTOCHROMEC552-MONOMER has 2nd parents {'Electron-Transfer': 2} for PWY0-1585\n",
      "CYTOCHROMEC552-MONOMER has 2nd parents {'Cofactor-Biosynthesis': 2} for PWY-8147\n",
      "pruned to ['Electron-Transfer', 'Cofactor-Biosynthesis']\n",
      "DCTP-DEAM-MONOMER has 2nd parents {'PWY0-166': 2} for PWY0-166\n",
      "DCTP-DEAM-MONOMER has 2nd parents {'Nucleotide-Biosynthesis': 2} for PWY-7187\n",
      "pruned to ['N/A', 'Nucleotide-Biosynthesis']\n",
      "DCUA-MONOMER has 2nd parents {'Amino-Acid-Degradation': 2} for PWY-8291\n",
      "DCUA-MONOMER has 2nd parents {'Amino-Acid-Degradation': 2} for PWY-8294\n",
      "pruned to ['Amino-Acid-Degradation', 'Amino-Acid-Degradation']\n",
      "DEOA-MONOMER has 2nd parents {'Nucleotide-Biosynthesis': 2} for PWY0-181\n",
      "DEOA-MONOMER has 2nd parents {'NUCLEO-DEG': 2} for PWY-7181\n",
      "pruned to ['Nucleotide-Biosynthesis', 'NUCLEO-DEG']\n",
      "DEOD-MONOMER has 2nd parents {'Nucleotide-Biosynthesis': 2} for PWY-6611\n",
      "DEOD-MONOMER has 2nd parents {'Nucleotide-Biosynthesis': 2} for PWY-6609\n",
      "DEOD-MONOMER has 2nd parents {'Nucleotide-Biosynthesis': 2} for PWY-6620\n",
      "DEOD-MONOMER has 2nd parents {'NUCLEO-DEG': 2} for SALVADEHYPOX-PWY\n",
      "DEOD-MONOMER has 2nd parents {'NUCLEO-DEG': 2} for PWY-6608\n",
      "DEOD-MONOMER has 2nd parents {'NUCLEO-DEG': 2} for PWY0-1296\n",
      "DEOD-MONOMER has 2nd parents {'NUCLEO-DEG': 2} for PWY-7179\n",
      "pruned to ['Nucleotide-Biosynthesis', 'Nucleotide-Biosynthesis', 'Nucleotide-Biosynthesis', 'NUCLEO-DEG', 'NUCLEO-DEG', 'NUCLEO-DEG', 'NUCLEO-DEG']\n",
      "DEOXYGLUCONOKIN-MONOMER has 2nd parents {'CARBOXYLATES-DEG': 2} for GALACTUROCAT-PWY\n",
      "DEOXYGLUCONOKIN-MONOMER has 2nd parents {'CARBOXYLATES-DEG': 2} for PWY-7242\n",
      "pruned to ['CARBOXYLATES-DEG', 'CARBOXYLATES-DEG']\n",
      "DHPDIOXYGEN-MONOMER has 2nd parents {'AROMATIC-COMPOUNDS-DEGRADATION': 2} for PWY-6690\n",
      "DHPDIOXYGEN-MONOMER has 2nd parents {'AROMATIC-COMPOUNDS-DEGRADATION': 2} for HCAMHPDEG-PWY\n",
      "pruned to ['AROMATIC-COMPOUNDS-DEGRADATION', 'AROMATIC-COMPOUNDS-DEGRADATION']\n",
      "DIHYDROFOLATEREDUCT-MONOMER has 2nd parents {'Cofactor-Biosynthesis': 2} for 1CMET2-PWY\n",
      "DIHYDROFOLATEREDUCT-MONOMER has 2nd parents {'Cofactor-Biosynthesis': 2} for PWY-6614\n",
      "pruned to ['Cofactor-Biosynthesis', 'Cofactor-Biosynthesis']\n",
      "DIHYDROXYACIDDEHYDRAT-MONOMER has 2nd parents {'Amino-Acid-Biosynthesis': 2} for VALSYN-PWY\n",
      "DIHYDROXYACIDDEHYDRAT-MONOMER has 2nd parents {'Amino-Acid-Biosynthesis': 2} for ILEUSYN-PWY\n",
      "pruned to ['Amino-Acid-Biosynthesis', 'Amino-Acid-Biosynthesis']\n",
      "DISULFOXRED-MONOMER has 2nd parents {'Cofactor-Biosynthesis': 2} for PWY-8147\n",
      "DISULFOXRED-MONOMER has 2nd parents {'Other-biosynthesis': 2} for GLUT-REDOX-PWY\n",
      "DISULFOXRED-MONOMER has 2nd parents {'Protein-Modification': 2} for PWY0-1599\n",
      "pruned to ['Cofactor-Biosynthesis', 'Other-biosynthesis', 'Protein-Modification']\n",
      "DLACTDEHYDROGFAD-MONOMER has 2nd parents {'Electron-Transfer': 2} for PWY0-1565\n",
      "DLACTDEHYDROGFAD-MONOMER has 2nd parents {'Methylglyoxal-Detoxification': 2, 'Aldehyde-Degradation': 2} for PWY-5386\n",
      "pruned to ['Electron-Transfer', 'Methylglyoxal-Detoxification']\n",
      "DLACTDEHYDROGNAD-MONOMER has 2nd parents {'Fermentation': 2} for PWY-8274\n",
      "DLACTDEHYDROGNAD-MONOMER has 2nd parents {'FERMENTATION-PWY': 2} for FERMENTATION-PWY\n",
      "pruned to ['Fermentation', 'N/A']\n",
      "DMBPPRIBOSYLTRANS-MONOMER has 2nd parents {'Cofactor-Biosynthesis': 2} for PWY-5509\n",
      "DMBPPRIBOSYLTRANS-MONOMER has 2nd parents {'COBALSYN-PWY': 2} for COBALSYN-PWY\n",
      "pruned to ['Cofactor-Biosynthesis', 'N/A']\n",
      "DMSA-MONOMER has 2nd parents {'Electron-Transfer': 2} for PWY0-1577\n",
      "DMSA-MONOMER has 2nd parents {'Electron-Transfer': 2} for PWY0-1356\n",
      "DMSA-MONOMER has 2nd parents {'Electron-Transfer': 2} for PWY0-1348\n",
      "pruned to ['Electron-Transfer', 'Electron-Transfer', 'Electron-Transfer']\n",
      "DMSB-MONOMER has 2nd parents {'Electron-Transfer': 2} for PWY0-1577\n",
      "DMSB-MONOMER has 2nd parents {'Electron-Transfer': 2} for PWY0-1356\n",
      "DMSB-MONOMER has 2nd parents {'Electron-Transfer': 2} for PWY0-1348\n",
      "pruned to ['Electron-Transfer', 'Electron-Transfer', 'Electron-Transfer']\n",
      "DMSC-MONOMER has 2nd parents {'Electron-Transfer': 2} for PWY0-1577\n",
      "DMSC-MONOMER has 2nd parents {'Electron-Transfer': 2} for PWY0-1356\n",
      "DMSC-MONOMER has 2nd parents {'Electron-Transfer': 2} for PWY0-1348\n",
      "pruned to ['Electron-Transfer', 'Electron-Transfer', 'Electron-Transfer']\n",
      "DSBD-MONOMER has 2nd parents {'Cofactor-Biosynthesis': 2} for PWY-8147\n",
      "DSBD-MONOMER has 2nd parents {'Protein-Modification': 2} for PWY0-1600\n",
      "pruned to ['Cofactor-Biosynthesis', 'Protein-Modification']\n",
      "DTDPGLUCDEHYDRAT-MONOMER has 2nd parents {'Carbohydrates-Biosynthesis': 2} for DTDPRHAMSYN-PWY\n",
      "DTDPGLUCDEHYDRAT-MONOMER has 2nd parents {'Carbohydrates-Biosynthesis': 2} for PWY-7315\n",
      "pruned to ['Carbohydrates-Biosynthesis', 'Carbohydrates-Biosynthesis']\n",
      "DTDPGLUCOSEPP-MONOMER has 2nd parents {'Carbohydrates-Biosynthesis': 2} for DTDPRHAMSYN-PWY\n",
      "DTDPGLUCOSEPP-MONOMER has 2nd parents {'Carbohydrates-Biosynthesis': 2} for PWY-7315\n",
      "pruned to ['Carbohydrates-Biosynthesis', 'Carbohydrates-Biosynthesis']\n",
      "DTDPGLUCOSEPP2-MONOMER has 2nd parents {'Carbohydrates-Biosynthesis': 2} for DTDPRHAMSYN-PWY\n",
      "DTDPGLUCOSEPP2-MONOMER has 2nd parents {'Carbohydrates-Biosynthesis': 2} for PWY-7315\n",
      "pruned to ['Carbohydrates-Biosynthesis', 'Carbohydrates-Biosynthesis']\n",
      "DTMPKI-MONOMER has 2nd parents {'PWY-7184': 2, 'Nucleotide-Biosynthesis': 2} for PWY-7184\n",
      "DTMPKI-MONOMER has 2nd parents {'PWY-7197': 2, 'Nucleotide-Biosynthesis': 2} for PWY-7197\n",
      "DTMPKI-MONOMER has 2nd parents {'PWY0-166': 2} for PWY0-166\n",
      "DTMPKI-MONOMER has 2nd parents {'Nucleotide-Biosynthesis': 2} for PWY-7187\n",
      "pruned to ['PWY-7184', 'PWY-7197', 'N/A', 'Nucleotide-Biosynthesis']\n",
      "DUTP-PYROP-MONOMER has 2nd parents {'PWY-7206': 2, 'NUCLEO-DEG': 2} for PWY-7206\n",
      "DUTP-PYROP-MONOMER has 2nd parents {'PWY-7184': 2, 'Nucleotide-Biosynthesis': 2} for PWY-7184\n",
      "DUTP-PYROP-MONOMER has 2nd parents {'PWY0-166': 2} for PWY0-166\n",
      "DUTP-PYROP-MONOMER has 2nd parents {'Nucleotide-Biosynthesis': 2} for PWY-7187\n",
      "pruned to ['PWY-7206', 'PWY-7184', 'N/A', 'Nucleotide-Biosynthesis']\n",
      "DXS-MONOMER has 2nd parents {'Cofactor-Biosynthesis': 2} for PWY-6892\n",
      "DXS-MONOMER has 2nd parents {'Cofactor-Biosynthesis': 2} for PYRIDOXSYN-PWY\n",
      "DXS-MONOMER has 2nd parents {'SECONDARY-METABOLITE-BIOSYNTHESIS': 2} for NONMEVIPP-PWY\n",
      "pruned to ['Cofactor-Biosynthesis', 'Cofactor-Biosynthesis', 'N/A']\n",
      "E1O-MONOMER has 2nd parents {'TCA-VARIANTS': 2} for TCA\n",
      "E1O-MONOMER has 2nd parents {'Respiration': 2} for PWY-5084\n",
      "pruned to ['TCA-VARIANTS', 'N/A']\n",
      "E1P-MONOMER has 2nd parents {'Acetyl-CoA-Biosynthesis': 2} for PYRUVDEHYD-PWY\n",
      "E1P-MONOMER has 2nd parents {'GLYCOLYSIS-TCA-GLYOX-BYPASS': 2} for GLYCOLYSIS-TCA-GLYOX-BYPASS\n",
      "pruned to ['Acetyl-CoA-Biosynthesis', 'N/A']\n",
      "E2O-MONOMER has 2nd parents {'TCA-VARIANTS': 2} for TCA\n",
      "E2O-MONOMER has 2nd parents {'Respiration': 2} for PWY-5084\n",
      "pruned to ['TCA-VARIANTS', 'N/A']\n",
      "E2P-MONOMER has 2nd parents {'Acetyl-CoA-Biosynthesis': 2} for PYRUVDEHYD-PWY\n",
      "E2P-MONOMER has 2nd parents {'GLYCOLYSIS-TCA-GLYOX-BYPASS': 2} for GLYCOLYSIS-TCA-GLYOX-BYPASS\n",
      "pruned to ['Acetyl-CoA-Biosynthesis', 'N/A']\n",
      "E3-MONOMER has 2nd parents {'TCA-VARIANTS': 2} for TCA\n",
      "E3-MONOMER has 2nd parents {'Acetyl-CoA-Biosynthesis': 2} for PYRUVDEHYD-PWY\n",
      "E3-MONOMER has 2nd parents {'Respiration': 2} for PWY-5084\n",
      "E3-MONOMER has 2nd parents {'GLYCOLYSIS-TCA-GLYOX-BYPASS': 2} for GLYCOLYSIS-TCA-GLYOX-BYPASS\n",
      "E3-MONOMER has 2nd parents {'Cofactor-Biosynthesis': 2} for 1CMET2-PWY\n",
      "E3-MONOMER has 2nd parents {'Amino-Acid-Degradation': 2} for GLYCLEAV-PWY\n",
      "E3-MONOMER has 2nd parents {'Amino-Acid-Degradation': 2} for PWY0-1608\n",
      "pruned to ['TCA-VARIANTS', 'Acetyl-CoA-Biosynthesis', 'N/A', 'N/A', 'Cofactor-Biosynthesis', 'Amino-Acid-Degradation', 'Amino-Acid-Degradation']\n",
      "EG10344-MONOMER has 2nd parents {'PEPTIDOGLYCANSYN-PWY': 2} for PEPTIDOGLYCANSYN-PWY\n",
      "EG10344-MONOMER has 2nd parents {'Cell-Structure-Biosynthesis': 2} for PWY0-1586\n",
      "pruned to ['N/A', 'Cell-Structure-Biosynthesis']\n",
      "EG10355-MONOMER has 2nd parents {'Carbohydrates-Degradation': 2} for FUCCAT-PWY\n",
      "EG10355-MONOMER has 2nd parents {'Carbohydrates-Degradation': 2} for RIBOKIN-PWY\n",
      "pruned to ['Carbohydrates-Degradation', 'Carbohydrates-Degradation']\n",
      "EG10564-MONOMER has 2nd parents {'Amino-Acid-Biosynthesis': 2} for PWY-8072\n",
      "EG10564-MONOMER has 2nd parents {'Amino-Acid-Biosynthesis': 2} for HOMOSER-METSYN-PWY\n",
      "EG10564-MONOMER has 2nd parents {'Amino-Acid-Degradation': 2} for LCYSDEG-PWY\n",
      "EG10564-MONOMER has 2nd parents {'Amino-Acid-Degradation': 2} for ALADEG-PWY\n",
      "pruned to ['Amino-Acid-Biosynthesis', 'Amino-Acid-Biosynthesis', 'Amino-Acid-Degradation', 'Amino-Acid-Degradation']\n",
      "EG10572-MONOMER has 2nd parents {'PWY-7206': 2, 'NUCLEO-DEG': 2} for PWY-7206\n",
      "EG10572-MONOMER has 2nd parents {'PWY-7184': 2, 'Nucleotide-Biosynthesis': 2} for PWY-7184\n",
      "EG10572-MONOMER has 2nd parents {'PWY0-166': 2} for PWY0-166\n",
      "EG10572-MONOMER has 2nd parents {'Nucleotide-Biosynthesis': 2} for PWY-7187\n",
      "pruned to ['PWY-7206', 'PWY-7184', 'N/A', 'Nucleotide-Biosynthesis']\n",
      "EG10605-MONOMER has 2nd parents {'PEPTIDOGLYCANSYN-PWY': 2} for PEPTIDOGLYCANSYN-PWY\n",
      "EG10605-MONOMER has 2nd parents {'Cell-Structure-Biosynthesis': 2} for PWY0-1586\n",
      "pruned to ['N/A', 'Cell-Structure-Biosynthesis']\n",
      "EG10607-MONOMER has 2nd parents {'PEPTIDOGLYCANSYN-PWY': 2} for PEPTIDOGLYCANSYN-PWY\n",
      "EG10607-MONOMER has 2nd parents {'Cell-Structure-Biosynthesis': 2} for PWY0-1586\n",
      "pruned to ['N/A', 'Cell-Structure-Biosynthesis']\n",
      "EG10634-MONOMER has 2nd parents {'NUCLEO-DEG': 2} for SALVADEHYPOX-PWY\n",
      "EG10634-MONOMER has 2nd parents {'NUCLEO-DEG': 2} for PWY-6608\n",
      "pruned to ['NUCLEO-DEG', 'NUCLEO-DEG']\n",
      "EG10718-MONOMER has 2nd parents {'Noncarbon-Nutrients': 2} for PWY0-1533\n",
      "EG10718-MONOMER has 2nd parents {'Noncarbon-Nutrients': 2} for PWY-7805\n",
      "pruned to ['Noncarbon-Nutrients', 'Noncarbon-Nutrients']\n",
      "EG10719-MONOMER has 2nd parents {'Noncarbon-Nutrients': 2} for PWY0-1533\n",
      "EG10719-MONOMER has 2nd parents {'Noncarbon-Nutrients': 2} for PWY-7805\n",
      "pruned to ['Noncarbon-Nutrients', 'Noncarbon-Nutrients']\n",
      "EG10722-MONOMER has 2nd parents {'Noncarbon-Nutrients': 2} for PWY0-1533\n",
      "EG10722-MONOMER has 2nd parents {'Noncarbon-Nutrients': 2} for PWY-7805\n",
      "pruned to ['Noncarbon-Nutrients', 'Noncarbon-Nutrients']\n",
      "EG10723-MONOMER has 2nd parents {'Noncarbon-Nutrients': 2} for PWY0-1533\n",
      "EG10723-MONOMER has 2nd parents {'Noncarbon-Nutrients': 2} for PWY-7805\n",
      "pruned to ['Noncarbon-Nutrients', 'Noncarbon-Nutrients']\n",
      "EG10725-MONOMER has 2nd parents {'Noncarbon-Nutrients': 2} for PWY0-1533\n",
      "EG10725-MONOMER has 2nd parents {'Noncarbon-Nutrients': 2} for PWY-7805\n",
      "pruned to ['Noncarbon-Nutrients', 'Noncarbon-Nutrients']\n",
      "EG10748-MONOMER has 2nd parents {'PEPTIDOGLYCANSYN-PWY': 2} for PEPTIDOGLYCANSYN-PWY\n",
      "EG10748-MONOMER has 2nd parents {'Cell-Structure-Biosynthesis': 2} for PWY0-1586\n",
      "pruned to ['N/A', 'Cell-Structure-Biosynthesis']\n",
      "EG11082-MONOMER has 2nd parents {'Nucleotide-Biosynthesis': 2} for PWY-6605\n",
      "EG11082-MONOMER has 2nd parents {'Nucleotide-Biosynthesis': 2} for PWY-6556\n",
      "EG11082-MONOMER has 2nd parents {'Nucleotide-Biosynthesis': 2} for PWY-7195\n",
      "pruned to ['Nucleotide-Biosynthesis', 'Nucleotide-Biosynthesis', 'Nucleotide-Biosynthesis']\n",
      "EG11090-MONOMER has 2nd parents {'Cofactor-Biosynthesis': 2} for PWY-6151\n",
      "EG11090-MONOMER has 2nd parents {'SECONDARY-METABOLITE-BIOSYNTHESIS': 2} for PWY-6153\n",
      "EG11090-MONOMER has 2nd parents {'NUCLEO-DEG': 2} for PWY0-1391\n",
      "pruned to ['Cofactor-Biosynthesis', 'N/A', 'NUCLEO-DEG']\n",
      "EG11162-MONOMER has 2nd parents {'FERMENTATION-PWY': 2} for FERMENTATION-PWY\n",
      "EG11162-MONOMER has 2nd parents {'TCA-VARIANTS': 2} for TCA\n",
      "pruned to ['N/A', 'TCA-VARIANTS']\n",
      "EG11195-MONOMER has 2nd parents {'GLYCOLYSIS-VARIANTS': 2} for GLYCOLYSIS\n",
      "EG11195-MONOMER has 2nd parents {'GLYCOLYSIS-VARIANTS': 2} for PWY-5484\n",
      "EG11195-MONOMER has 2nd parents {'Carbohydrates-Biosynthesis': 2} for GLUCONEO-PWY\n",
      "EG11195-MONOMER has 2nd parents {'Carbohydrates-Degradation': 2} for GLUCOSE1PMETAB-PWY\n",
      "pruned to ['GLYCOLYSIS-VARIANTS', 'GLYCOLYSIS-VARIANTS', 'Carbohydrates-Biosynthesis', 'Carbohydrates-Degradation']\n",
      "EG11239-MONOMER has 2nd parents {'GLYCOLYSIS-VARIANTS': 2} for GLYCOLYSIS\n",
      "EG11239-MONOMER has 2nd parents {'GLYCOLYSIS-VARIANTS': 2} for PWY-5484\n",
      "EG11239-MONOMER has 2nd parents {'Carbohydrates-Biosynthesis': 2} for GLUCONEO-PWY\n",
      "pruned to ['GLYCOLYSIS-VARIANTS', 'GLYCOLYSIS-VARIANTS', 'Carbohydrates-Biosynthesis']\n",
      "EG11245-MONOMER has 2nd parents {'GLYCOLYSIS-VARIANTS': 2} for GLYCOLYSIS\n",
      "EG11245-MONOMER has 2nd parents {'GLYCOLYSIS-VARIANTS': 2} for PWY-5484\n",
      "EG11245-MONOMER has 2nd parents {'Carbohydrates-Biosynthesis': 2} for GLUCONEO-PWY\n",
      "pruned to ['GLYCOLYSIS-VARIANTS', 'GLYCOLYSIS-VARIANTS', 'Carbohydrates-Biosynthesis']\n",
      "EG11306-MONOMER has 2nd parents {'Cofactor-Biosynthesis': 2} for PWY0-1275\n",
      "EG11306-MONOMER has 2nd parents {'Cofactor-Biosynthesis': 2} for PWY0-501\n",
      "pruned to ['Cofactor-Biosynthesis', 'Cofactor-Biosynthesis']\n",
      "EG11371-MONOMER has 2nd parents {'Lipid-Biosynthesis': 2} for PWY0-1545\n",
      "EG11371-MONOMER has 2nd parents {'Lipid-Biosynthesis': 2} for PWY-5668\n",
      "pruned to ['Lipid-Biosynthesis', 'Lipid-Biosynthesis']\n",
      "EG11470-MONOMER has 2nd parents {'GLYCOLYSIS-VARIANTS': 2} for GLYCOLYSIS\n",
      "EG11470-MONOMER has 2nd parents {'GLYCOLYSIS-VARIANTS': 2} for PWY-5484\n",
      "EG11470-MONOMER has 2nd parents {'Carbohydrates-Biosynthesis': 2} for GLUCONEO-PWY\n",
      "EG11470-MONOMER has 2nd parents {'Carbohydrates-Degradation': 2} for GLUCOSE1PMETAB-PWY\n",
      "pruned to ['GLYCOLYSIS-VARIANTS', 'GLYCOLYSIS-VARIANTS', 'Carbohydrates-Biosynthesis', 'Carbohydrates-Degradation']\n",
      "EG11517-MONOMER has 2nd parents {'GLYCOLYSIS-VARIANTS': 2} for GLYCOLYSIS\n",
      "EG11517-MONOMER has 2nd parents {'GLYCOLYSIS-VARIANTS': 2} for PWY-5484\n",
      "EG11517-MONOMER has 2nd parents {'Carbohydrates-Biosynthesis': 2} for GLUCONEO-PWY\n",
      "pruned to ['GLYCOLYSIS-VARIANTS', 'GLYCOLYSIS-VARIANTS', 'Carbohydrates-Biosynthesis']\n",
      "EG11600-MONOMER has 2nd parents {'Noncarbon-Nutrients': 2} for PWY-5329\n",
      "EG11600-MONOMER has 2nd parents {'Noncarbon-Nutrients': 2} for PWY-5350\n",
      "pruned to ['Noncarbon-Nutrients', 'Noncarbon-Nutrients']\n",
      "EG11784-MONOMER has 2nd parents {'PWY-5485': 2} for PWY-5485\n",
      "EG11784-MONOMER has 2nd parents {'FERMENTATION-PWY': 2} for FERMENTATION-PWY\n",
      "EG11784-MONOMER has 2nd parents {'Fermentation': 2} for PWY-5480\n",
      "EG11784-MONOMER has 2nd parents {'Fermentation': 2} for PWY-5437\n",
      "pruned to ['N/A', 'N/A', 'Fermentation', 'Fermentation']\n",
      "EG11796-MONOMER has 2nd parents {'Cofactor-Biosynthesis': 2} for PWY0-1275\n",
      "EG11796-MONOMER has 2nd parents {'Cofactor-Biosynthesis': 2} for PWY0-522\n",
      "pruned to ['Cofactor-Biosynthesis', 'Cofactor-Biosynthesis']\n",
      "EG11800-MONOMER has 2nd parents {'Electron-Transfer': 2} for PWY0-1577\n",
      "EG11800-MONOMER has 2nd parents {'Electron-Transfer': 2} for PWY0-1578\n",
      "EG11800-MONOMER has 2nd parents {'Electron-Transfer': 2} for PWY0-1576\n",
      "pruned to ['Electron-Transfer', 'Electron-Transfer', 'Electron-Transfer']\n",
      "EG11815-MONOMER has 2nd parents {'Electron-Transfer': 2} for PWY0-1578\n",
      "EG11815-MONOMER has 2nd parents {'Electron-Transfer': 2} for PWY0-1355\n",
      "EG11815-MONOMER has 2nd parents {'Electron-Transfer': 2} for PWY0-1347\n",
      "EG11815-MONOMER has 2nd parents {'Cofactor-Biosynthesis': 2} for PWY-8147\n",
      "pruned to ['Electron-Transfer', 'Electron-Transfer', 'Electron-Transfer', 'Cofactor-Biosynthesis']\n",
      "EG11817-MONOMER has 2nd parents {'NUCLEO-DEG': 2} for SALVADEHYPOX-PWY\n",
      "EG11817-MONOMER has 2nd parents {'NUCLEO-DEG': 2} for PWY-6608\n",
      "pruned to ['NUCLEO-DEG', 'NUCLEO-DEG']\n",
      "EG11829-MONOMER has 2nd parents {'Cofactor-Biosynthesis': 2} for PWY-7639\n",
      "EG11829-MONOMER has 2nd parents {'Cofactor-Biosynthesis': 2} for PWY-5964\n",
      "pruned to ['Cofactor-Biosynthesis', 'Cofactor-Biosynthesis']\n",
      "EG12026-MONOMER has 2nd parents {'C1-COMPOUNDS': 2} for PWY-1801\n",
      "EG12026-MONOMER has 2nd parents {'Methylglyoxal-Detoxification': 2, 'Aldehyde-Degradation': 2} for PWY-5386\n",
      "pruned to ['C1-COMPOUNDS', 'Methylglyoxal-Detoxification']\n",
      "EG12030-MONOMER has 2nd parents {'Nucleotide-Biosynthesis': 2} for PWY-6556\n",
      "EG12030-MONOMER has 2nd parents {'Nucleotide-Biosynthesis': 2} for PWY-7195\n",
      "pruned to ['Nucleotide-Biosynthesis', 'Nucleotide-Biosynthesis']\n",
      "EG12097-MONOMER has 2nd parents {'Nucleotide-Biosynthesis': 2} for PWY-6611\n",
      "EG12097-MONOMER has 2nd parents {'Nucleotide-Biosynthesis': 2} for PWY-6609\n",
      "EG12097-MONOMER has 2nd parents {'NUCLEO-DEG': 2} for SALVADEHYPOX-PWY\n",
      "EG12097-MONOMER has 2nd parents {'NUCLEO-DEG': 2} for PWY0-1296\n",
      "pruned to ['Nucleotide-Biosynthesis', 'Nucleotide-Biosynthesis', 'NUCLEO-DEG', 'NUCLEO-DEG']\n",
      "EG12159-MONOMER has 2nd parents {'Nucleotide-Biosynthesis': 2} for PWY-6611\n",
      "EG12159-MONOMER has 2nd parents {'Nucleotide-Biosynthesis': 2} for PWY-6609\n",
      "EG12159-MONOMER has 2nd parents {'Nucleotide-Biosynthesis': 2} for PWY-6620\n",
      "EG12159-MONOMER has 2nd parents {'Nucleotide-Biosynthesis': 2} for SALVPURINE2-PWY\n",
      "EG12159-MONOMER has 2nd parents {'Nucleotide-Biosynthesis': 2} for PWY0-163\n",
      "EG12159-MONOMER has 2nd parents {'Nucleotide-Biosynthesis': 2} for PWY0-181\n",
      "EG12159-MONOMER has 2nd parents {'NUCLEO-DEG': 2} for SALVADEHYPOX-PWY\n",
      "EG12159-MONOMER has 2nd parents {'NUCLEO-DEG': 2} for PWY-6608\n",
      "EG12159-MONOMER has 2nd parents {'NUCLEO-DEG': 2} for PWY0-1296\n",
      "EG12159-MONOMER has 2nd parents {'NUCLEO-DEG': 2} for PWY-7181\n",
      "EG12159-MONOMER has 2nd parents {'NUCLEO-DEG': 2} for PWY0-1295\n",
      "pruned to ['Nucleotide-Biosynthesis', 'Nucleotide-Biosynthesis', 'Nucleotide-Biosynthesis', 'Nucleotide-Biosynthesis', 'Nucleotide-Biosynthesis', 'Nucleotide-Biosynthesis', 'NUCLEO-DEG', 'NUCLEO-DEG', 'NUCLEO-DEG', 'NUCLEO-DEG', 'NUCLEO-DEG']\n",
      "EG12221-MONOMER has 2nd parents {'ENTBACSYN-PWY': 2} for ENTBACSYN-PWY\n",
      "EG12221-MONOMER has 2nd parents {'Protein-Modification': 2} for PWY-6012\n",
      "pruned to ['N/A', 'Protein-Modification']\n",
      "EG12244-MONOMER has 2nd parents {'Electron-Transfer': 2} for PWY0-1590\n",
      "EG12244-MONOMER has 2nd parents {'Electron-Transfer': 2} for PWY0-1591\n",
      "pruned to ['Electron-Transfer', 'Electron-Transfer']\n",
      "EG12286-MONOMER has 2nd parents {'Carbohydrates-Degradation': 2} for LYXMET-PWY\n",
      "EG12286-MONOMER has 2nd parents {'CARBOXYLATES-DEG': 2} for PWY-6961\n",
      "pruned to ['Carbohydrates-Degradation', 'CARBOXYLATES-DEG']\n",
      "EG12287-MONOMER has 2nd parents {'Carbohydrates-Degradation': 2} for LYXMET-PWY\n",
      "EG12287-MONOMER has 2nd parents {'CARBOXYLATES-DEG': 2} for PWY-6961\n",
      "pruned to ['Carbohydrates-Degradation', 'CARBOXYLATES-DEG']\n",
      "EG12293-MONOMER has 2nd parents {'Amino-Acid-Degradation': 2} for THREONINE-DEG2-PWY\n",
      "EG12293-MONOMER has 2nd parents {'Amino-Acid-Degradation': 2} for THRDLCTCAT-PWY\n",
      "pruned to ['Amino-Acid-Degradation', 'Amino-Acid-Degradation']\n",
      "EG12407-MONOMER has 2nd parents {'ASPASN-PWY': 2} for ASPASN-PWY\n",
      "EG12407-MONOMER has 2nd parents {'Amino-Acid-Degradation': 2} for ASPARAGINE-DEG1-PWY\n",
      "pruned to ['N/A', 'Amino-Acid-Degradation']\n",
      "EG12712-MONOMER has 2nd parents {'Cofactor-Biosynthesis': 2} for PWY-6151\n",
      "EG12712-MONOMER has 2nd parents {'SECONDARY-METABOLITE-BIOSYNTHESIS': 2} for PWY-6153\n",
      "pruned to ['Cofactor-Biosynthesis', 'N/A']\n",
      "EG50003-MONOMER has 2nd parents {'Cofactor-Biosynthesis': 2} for PWY0-501\n",
      "EG50003-MONOMER has 2nd parents {'Lipid-Biosynthesis': 2} for NAGLIPASYN-PWY\n",
      "EG50003-MONOMER has 2nd parents {'Lipid-Biosynthesis': 2} for PWY0-1319\n",
      "EG50003-MONOMER has 2nd parents {'Lipid-Biosynthesis': 2} for KDO-LIPASYN-PWY\n",
      "EG50003-MONOMER has 2nd parents {'Lipid-Biosynthesis': 2} for PWY-5966\n",
      "EG50003-MONOMER has 2nd parents {'Lipid-Biosynthesis': 2} for PWY-4381\n",
      "EG50003-MONOMER has 2nd parents {'Lipid-Biosynthesis': 2} for PWY-5965\n",
      "EG50003-MONOMER has 2nd parents {'Lipid-Biosynthesis': 2} for PWY0-862\n",
      "EG50003-MONOMER has 2nd parents {'Lipid-Biosynthesis': 2} for PWY-6282\n",
      "EG50003-MONOMER has 2nd parents {'Lipid-Biosynthesis': 2} for PWY-5973\n",
      "EG50003-MONOMER has 2nd parents {'Lipid-Biosynthesis': 2} for PWY-5971\n",
      "EG50003-MONOMER has 2nd parents {'Lipid-Biosynthesis': 2} for FASYN-ELONG-PWY\n",
      "EG50003-MONOMER has 2nd parents {'KDO-NAGLIPASYN-PWY': 2} for KDO-NAGLIPASYN-PWY\n",
      "EG50003-MONOMER has 2nd parents {'Other-biosynthesis': 2} for PWY-6519\n",
      "EG50003-MONOMER has 2nd parents {'Protein-Modification': 2} for PWY-6012\n",
      "pruned to ['Cofactor-Biosynthesis', 'Lipid-Biosynthesis', 'Lipid-Biosynthesis', 'Lipid-Biosynthesis', 'Lipid-Biosynthesis', 'Lipid-Biosynthesis', 'Lipid-Biosynthesis', 'Lipid-Biosynthesis', 'Lipid-Biosynthesis', 'Lipid-Biosynthesis', 'Lipid-Biosynthesis', 'Lipid-Biosynthesis', 'N/A', 'Other-biosynthesis', 'Protein-Modification']\n",
      "ENOLASE-MONOMER has 2nd parents {'GLYCOLYSIS-VARIANTS': 2} for GLYCOLYSIS\n",
      "ENOLASE-MONOMER has 2nd parents {'GLYCOLYSIS-VARIANTS': 2} for PWY-5484\n",
      "ENOLASE-MONOMER has 2nd parents {'Carbohydrates-Biosynthesis': 2} for GLUCONEO-PWY\n",
      "pruned to ['GLYCOLYSIS-VARIANTS', 'GLYCOLYSIS-VARIANTS', 'Carbohydrates-Biosynthesis']\n",
      "ENOYL-ACP-REDUCT-NADH-MONOMER has 2nd parents {'Lipid-Biosynthesis': 2} for PWY0-862\n",
      "ENOYL-ACP-REDUCT-NADH-MONOMER has 2nd parents {'Lipid-Biosynthesis': 2} for PWY-6282\n",
      "ENOYL-ACP-REDUCT-NADH-MONOMER has 2nd parents {'Lipid-Biosynthesis': 2} for PWY-5973\n",
      "ENOYL-ACP-REDUCT-NADH-MONOMER has 2nd parents {'Lipid-Biosynthesis': 2} for PWY-5971\n",
      "ENOYL-ACP-REDUCT-NADH-MONOMER has 2nd parents {'Lipid-Biosynthesis': 2} for FASYN-ELONG-PWY\n",
      "ENOYL-ACP-REDUCT-NADH-MONOMER has 2nd parents {'Other-biosynthesis': 2} for PWY-6519\n",
      "pruned to ['Lipid-Biosynthesis', 'Lipid-Biosynthesis', 'Lipid-Biosynthesis', 'Lipid-Biosynthesis', 'Lipid-Biosynthesis', 'Other-biosynthesis']\n",
      "ENTB-MONOMER has 2nd parents {'AROMATIC-COMPOUNDS-BIOSYN': 2} for PWY-5901\n",
      "ENTB-MONOMER has 2nd parents {'Lipid-Biosynthesis': 2} for PWY0-1319\n",
      "ENTB-MONOMER has 2nd parents {'ENTBACSYN-PWY': 2} for ENTBACSYN-PWY\n",
      "ENTB-MONOMER has 2nd parents {'Protein-Modification': 2} for PWY-6012\n",
      "pruned to ['AROMATIC-COMPOUNDS-BIOSYN', 'Lipid-Biosynthesis', 'N/A', 'Protein-Modification']\n",
      "ENTF-MONOMER has 2nd parents {'ENTBACSYN-PWY': 2} for ENTBACSYN-PWY\n",
      "ENTF-MONOMER has 2nd parents {'Protein-Modification': 2} for PWY-6012\n",
      "pruned to ['N/A', 'Protein-Modification']\n",
      "F16B-MONOMER has 2nd parents {'GLYCOLYSIS-VARIANTS': 2} for GLYCOLYSIS\n",
      "F16B-MONOMER has 2nd parents {'GLYCOLYSIS-VARIANTS': 2} for PWY-5484\n",
      "F16B-MONOMER has 2nd parents {'Carbohydrates-Biosynthesis': 2} for GLUCONEO-PWY\n",
      "pruned to ['GLYCOLYSIS-VARIANTS', 'GLYCOLYSIS-VARIANTS', 'Carbohydrates-Biosynthesis']\n",
      "FABA-MONOMER has 2nd parents {'Lipid-Biosynthesis': 2} for PWY0-862\n",
      "FABA-MONOMER has 2nd parents {'Lipid-Biosynthesis': 2} for FASYN-ELONG-PWY\n",
      "pruned to ['Lipid-Biosynthesis', 'Lipid-Biosynthesis']\n",
      "FABB-MONOMER has 2nd parents {'Lipid-Biosynthesis': 2} for PWY-5966\n",
      "FABB-MONOMER has 2nd parents {'Lipid-Biosynthesis': 2} for PWY-5965\n",
      "FABB-MONOMER has 2nd parents {'Lipid-Biosynthesis': 2} for PWY0-862\n",
      "FABB-MONOMER has 2nd parents {'Lipid-Biosynthesis': 2} for PWY-6282\n",
      "FABB-MONOMER has 2nd parents {'Lipid-Biosynthesis': 2} for PWY-5971\n",
      "FABB-MONOMER has 2nd parents {'Lipid-Biosynthesis': 2} for FASYN-ELONG-PWY\n",
      "FABB-MONOMER has 2nd parents {'Other-biosynthesis': 2} for PWY-6519\n",
      "pruned to ['Lipid-Biosynthesis', 'Lipid-Biosynthesis', 'Lipid-Biosynthesis', 'Lipid-Biosynthesis', 'Lipid-Biosynthesis', 'Lipid-Biosynthesis', 'Other-biosynthesis']\n",
      "FABH-MONOMER has 2nd parents {'Lipid-Biosynthesis': 2} for PWY-5966\n",
      "FABH-MONOMER has 2nd parents {'Lipid-Biosynthesis': 2} for PWY-4381\n",
      "pruned to ['Lipid-Biosynthesis', 'Lipid-Biosynthesis']\n",
      "FABZ-MONOMER has 2nd parents {'Lipid-Biosynthesis': 2} for PWY0-862\n",
      "FABZ-MONOMER has 2nd parents {'Lipid-Biosynthesis': 2} for PWY-6282\n",
      "FABZ-MONOMER has 2nd parents {'Lipid-Biosynthesis': 2} for PWY-5973\n",
      "FABZ-MONOMER has 2nd parents {'Lipid-Biosynthesis': 2} for PWY-5971\n",
      "FABZ-MONOMER has 2nd parents {'Lipid-Biosynthesis': 2} for FASYN-ELONG-PWY\n",
      "FABZ-MONOMER has 2nd parents {'Other-biosynthesis': 2} for PWY-6519\n",
      "pruned to ['Lipid-Biosynthesis', 'Lipid-Biosynthesis', 'Lipid-Biosynthesis', 'Lipid-Biosynthesis', 'Lipid-Biosynthesis', 'Other-biosynthesis']\n",
      "FADA-MONOMER has 2nd parents {'Fatty-Acid-and-Lipid-Degradation': 2} for PWY0-1337\n",
      "FADA-MONOMER has 2nd parents {'Fatty-Acid-and-Lipid-Degradation': 2} for FAO-PWY\n",
      "pruned to ['Fatty-Acid-and-Lipid-Degradation', 'Fatty-Acid-and-Lipid-Degradation']\n",
      "FADB-MONOMER has 2nd parents {'Fatty-Acid-and-Lipid-Degradation': 2} for PWY0-1337\n",
      "FADB-MONOMER has 2nd parents {'Fatty-Acid-and-Lipid-Degradation': 2} for FAO-PWY\n",
      "pruned to ['Fatty-Acid-and-Lipid-Degradation', 'Fatty-Acid-and-Lipid-Degradation']\n",
      "FDNG-MONOMER has 2nd parents {'Electron-Transfer': 2} for PWY0-1356\n",
      "FDNG-MONOMER has 2nd parents {'Electron-Transfer': 2} for PWY0-1585\n",
      "FDNG-MONOMER has 2nd parents {'Electron-Transfer': 2} for PWY0-1355\n",
      "FDNG-MONOMER has 2nd parents {'Electron-Transfer': 2} for PWY0-1321\n",
      "pruned to ['Electron-Transfer', 'Electron-Transfer', 'Electron-Transfer', 'Electron-Transfer']\n",
      "FDNH-MONOMER has 2nd parents {'Electron-Transfer': 2} for PWY0-1356\n",
      "FDNH-MONOMER has 2nd parents {'Electron-Transfer': 2} for PWY0-1585\n",
      "FDNH-MONOMER has 2nd parents {'Electron-Transfer': 2} for PWY0-1355\n",
      "FDNH-MONOMER has 2nd parents {'Electron-Transfer': 2} for PWY0-1321\n",
      "pruned to ['Electron-Transfer', 'Electron-Transfer', 'Electron-Transfer', 'Electron-Transfer']\n",
      "FDNI-MONOMER has 2nd parents {'Electron-Transfer': 2} for PWY0-1356\n",
      "FDNI-MONOMER has 2nd parents {'Electron-Transfer': 2} for PWY0-1585\n",
      "FDNI-MONOMER has 2nd parents {'Electron-Transfer': 2} for PWY0-1355\n",
      "FDNI-MONOMER has 2nd parents {'Electron-Transfer': 2} for PWY0-1321\n",
      "pruned to ['Electron-Transfer', 'Electron-Transfer', 'Electron-Transfer', 'Electron-Transfer']\n",
      "FDOG-MONOMER has 2nd parents {'Electron-Transfer': 2} for PWY0-1356\n",
      "FDOG-MONOMER has 2nd parents {'Electron-Transfer': 2} for PWY0-1585\n",
      "FDOG-MONOMER has 2nd parents {'Electron-Transfer': 2} for PWY0-1355\n",
      "FDOG-MONOMER has 2nd parents {'Electron-Transfer': 2} for PWY0-1321\n",
      "pruned to ['Electron-Transfer', 'Electron-Transfer', 'Electron-Transfer', 'Electron-Transfer']\n",
      "FDOH-MONOMER has 2nd parents {'Electron-Transfer': 2} for PWY0-1356\n",
      "FDOH-MONOMER has 2nd parents {'Electron-Transfer': 2} for PWY0-1585\n",
      "FDOH-MONOMER has 2nd parents {'Electron-Transfer': 2} for PWY0-1355\n",
      "FDOH-MONOMER has 2nd parents {'Electron-Transfer': 2} for PWY0-1321\n",
      "pruned to ['Electron-Transfer', 'Electron-Transfer', 'Electron-Transfer', 'Electron-Transfer']\n",
      "FDOI-MONOMER has 2nd parents {'Electron-Transfer': 2} for PWY0-1356\n",
      "FDOI-MONOMER has 2nd parents {'Electron-Transfer': 2} for PWY0-1585\n",
      "FDOI-MONOMER has 2nd parents {'Electron-Transfer': 2} for PWY0-1355\n",
      "FDOI-MONOMER has 2nd parents {'Electron-Transfer': 2} for PWY0-1321\n",
      "pruned to ['Electron-Transfer', 'Electron-Transfer', 'Electron-Transfer', 'Electron-Transfer']\n",
      "FERREDOXIN-MONOMER has 2nd parents {'Cofactor-Biosynthesis': 2} for PWY-6892\n",
      "FERREDOXIN-MONOMER has 2nd parents {'Cofactor-Biosynthesis': 2} for PWY0-1275\n",
      "FERREDOXIN-MONOMER has 2nd parents {'Cofactor-Biosynthesis': 2} for PWY0-501\n",
      "FERREDOXIN-MONOMER has 2nd parents {'Cofactor-Biosynthesis': 2} for PWY0-1507\n",
      "pruned to ['Cofactor-Biosynthesis', 'Cofactor-Biosynthesis', 'Cofactor-Biosynthesis', 'Cofactor-Biosynthesis']\n",
      "FGAMSYN-MONOMER has 2nd parents {'PWY-6277': 2} for PWY-6277\n",
      "FGAMSYN-MONOMER has 2nd parents {'Nucleotide-Biosynthesis': 2} for PWY-6122\n",
      "FGAMSYN-MONOMER has 2nd parents {'Nucleotide-Biosynthesis': 2} for PWY-6121\n",
      "pruned to ['N/A', 'Nucleotide-Biosynthesis', 'Nucleotide-Biosynthesis']\n",
      "FOLC-MONOMER has 2nd parents {'Cofactor-Biosynthesis': 2} for PWY-2161\n",
      "FOLC-MONOMER has 2nd parents {'Cofactor-Biosynthesis': 2} for PWY-6614\n",
      "pruned to ['Cofactor-Biosynthesis', 'Cofactor-Biosynthesis']\n",
      "FORMATEDEHYDROGH-MONOMER has 2nd parents {'FERMENTATION-PWY': 2} for FERMENTATION-PWY\n",
      "FORMATEDEHYDROGH-MONOMER has 2nd parents {'Hydrogen-Production': 2} for PWY-6772\n",
      "pruned to ['N/A', 'Hydrogen-Production']\n",
      "FRUCBISALD-CLASSI-MONOMER has 2nd parents {'GLYCOLYSIS-VARIANTS': 2} for GLYCOLYSIS\n",
      "FRUCBISALD-CLASSI-MONOMER has 2nd parents {'GLYCOLYSIS-VARIANTS': 2} for PWY-5484\n",
      "FRUCBISALD-CLASSI-MONOMER has 2nd parents {'Carbohydrates-Biosynthesis': 2} for GLUCONEO-PWY\n",
      "pruned to ['GLYCOLYSIS-VARIANTS', 'GLYCOLYSIS-VARIANTS', 'Carbohydrates-Biosynthesis']\n",
      "FRUCTBISALD-CLASSII-MONOMER has 2nd parents {'GLYCOLYSIS-VARIANTS': 2} for GLYCOLYSIS\n",
      "FRUCTBISALD-CLASSII-MONOMER has 2nd parents {'GLYCOLYSIS-VARIANTS': 2} for PWY-5484\n",
      "FRUCTBISALD-CLASSII-MONOMER has 2nd parents {'PWY0-1517': 2} for PWY0-1517\n",
      "FRUCTBISALD-CLASSII-MONOMER has 2nd parents {'Carbohydrates-Biosynthesis': 2} for GLUCONEO-PWY\n",
      "pruned to ['GLYCOLYSIS-VARIANTS', 'GLYCOLYSIS-VARIANTS', 'PWY0-1517', 'Carbohydrates-Biosynthesis']\n",
      "FUCISOM-MONOMER has 2nd parents {'Carbohydrates-Degradation': 2} for DARABCATK12-PWY\n",
      "FUCISOM-MONOMER has 2nd parents {'Carbohydrates-Degradation': 2} for FUCCAT-PWY\n",
      "pruned to ['Carbohydrates-Degradation', 'Carbohydrates-Degradation']\n",
      "FUCPALDOL-MONOMER has 2nd parents {'Carbohydrates-Degradation': 2} for DARABCATK12-PWY\n",
      "FUCPALDOL-MONOMER has 2nd parents {'Carbohydrates-Degradation': 2} for FUCCAT-PWY\n",
      "pruned to ['Carbohydrates-Degradation', 'Carbohydrates-Degradation']\n",
      "FUCULOKIN-MONOMER has 2nd parents {'Carbohydrates-Degradation': 2} for DARABCATK12-PWY\n",
      "FUCULOKIN-MONOMER has 2nd parents {'Carbohydrates-Degradation': 2} for FUCCAT-PWY\n",
      "pruned to ['Carbohydrates-Degradation', 'Carbohydrates-Degradation']\n",
      "FUM-FE-S has 2nd parents {'FERMENTATION-PWY': 2} for FERMENTATION-PWY\n",
      "FUM-FE-S has 2nd parents {'Electron-Transfer': 2} for PWY0-1582\n",
      "FUM-FE-S has 2nd parents {'Electron-Transfer': 2} for PWY0-1336\n",
      "FUM-FE-S has 2nd parents {'Electron-Transfer': 2} for PWY0-1576\n",
      "pruned to ['N/A', 'Electron-Transfer', 'Electron-Transfer', 'Electron-Transfer']\n",
      "FUM-FLAVO has 2nd parents {'FERMENTATION-PWY': 2} for FERMENTATION-PWY\n",
      "FUM-FLAVO has 2nd parents {'Electron-Transfer': 2} for PWY0-1582\n",
      "FUM-FLAVO has 2nd parents {'Electron-Transfer': 2} for PWY0-1336\n",
      "FUM-FLAVO has 2nd parents {'Electron-Transfer': 2} for PWY0-1576\n",
      "pruned to ['N/A', 'Electron-Transfer', 'Electron-Transfer', 'Electron-Transfer']\n",
      "FUM-MEMB1 has 2nd parents {'FERMENTATION-PWY': 2} for FERMENTATION-PWY\n",
      "FUM-MEMB1 has 2nd parents {'Electron-Transfer': 2} for PWY0-1582\n",
      "FUM-MEMB1 has 2nd parents {'Electron-Transfer': 2} for PWY0-1336\n",
      "FUM-MEMB1 has 2nd parents {'Electron-Transfer': 2} for PWY0-1576\n",
      "pruned to ['N/A', 'Electron-Transfer', 'Electron-Transfer', 'Electron-Transfer']\n",
      "FUM-MEMB2 has 2nd parents {'FERMENTATION-PWY': 2} for FERMENTATION-PWY\n",
      "FUM-MEMB2 has 2nd parents {'Electron-Transfer': 2} for PWY0-1582\n",
      "FUM-MEMB2 has 2nd parents {'Electron-Transfer': 2} for PWY0-1336\n",
      "FUM-MEMB2 has 2nd parents {'Electron-Transfer': 2} for PWY0-1576\n",
      "pruned to ['N/A', 'Electron-Transfer', 'Electron-Transfer', 'Electron-Transfer']\n",
      "FUMA-MONOMER has 2nd parents {'FERMENTATION-PWY': 2} for FERMENTATION-PWY\n",
      "FUMA-MONOMER has 2nd parents {'TCA-VARIANTS': 2} for TCA\n",
      "pruned to ['N/A', 'TCA-VARIANTS']\n",
      "FUMB-MONOMER has 2nd parents {'FERMENTATION-PWY': 2} for FERMENTATION-PWY\n",
      "FUMB-MONOMER has 2nd parents {'TCA-VARIANTS': 2} for TCA\n",
      "pruned to ['N/A', 'TCA-VARIANTS']\n",
      "FUMC-MONOMER has 2nd parents {'FERMENTATION-PWY': 2} for FERMENTATION-PWY\n",
      "FUMC-MONOMER has 2nd parents {'TCA-VARIANTS': 2} for TCA\n",
      "pruned to ['N/A', 'TCA-VARIANTS']\n",
      "G6261-MONOMER has 2nd parents {'Amino-Acid-Degradation': 2} for GLUTAMINDEG-PWY\n",
      "G6261-MONOMER has 2nd parents {'Noncarbon-Nutrients': 2} for AMMASSIM-PWY\n",
      "pruned to ['Amino-Acid-Degradation', 'Noncarbon-Nutrients']\n",
      "G6358-MONOMER has 2nd parents {'Nucleotide-Biosynthesis': 2} for PWY-6556\n",
      "G6358-MONOMER has 2nd parents {'Nucleotide-Biosynthesis': 2} for PWY-7195\n",
      "pruned to ['Nucleotide-Biosynthesis', 'Nucleotide-Biosynthesis']\n",
      "G6425-MONOMER has 2nd parents {'GLYCOLYSIS-VARIANTS': 2} for GLYCOLYSIS\n",
      "G6425-MONOMER has 2nd parents {'GLYCOLYSIS-VARIANTS': 2} for PWY-5484\n",
      "G6425-MONOMER has 2nd parents {'Carbohydrates-Biosynthesis': 2} for GLUCONEO-PWY\n",
      "G6425-MONOMER has 2nd parents {'Carbohydrates-Degradation': 2} for GLUCOSE1PMETAB-PWY\n",
      "pruned to ['GLYCOLYSIS-VARIANTS', 'GLYCOLYSIS-VARIANTS', 'Carbohydrates-Biosynthesis', 'Carbohydrates-Degradation']\n",
      "G6621-MONOMER has 2nd parents {'Polymer-Degradation': 2} for PWY0-1546\n",
      "G6621-MONOMER has 2nd parents {'Other-Degradation': 2} for PWY0-1261\n",
      "pruned to ['Polymer-Degradation', 'Other-Degradation']\n",
      "G6646-MONOMER has 2nd parents {'Amino-Acid-Degradation': 2} for PWY0-461\n",
      "G6646-MONOMER has 2nd parents {'AMINE-DEG': 2} for PWY-6535\n",
      "pruned to ['Amino-Acid-Degradation', 'AMINE-DEG']\n",
      "G6755-MONOMER has 2nd parents {'Amino-Acid-Degradation': 2} for PWY0-461\n",
      "G6755-MONOMER has 2nd parents {'AMINE-DEG': 2} for PUTDEG-PWY\n",
      "pruned to ['Amino-Acid-Degradation', 'AMINE-DEG']\n",
      "G6810-MONOMER has 2nd parents {'Amino-Acid-Degradation': 2} for GLUTAMINDEG-PWY\n",
      "G6810-MONOMER has 2nd parents {'Noncarbon-Nutrients': 2} for AMMASSIM-PWY\n",
      "pruned to ['Amino-Acid-Degradation', 'Noncarbon-Nutrients']\n",
      "G6811-MONOMER has 2nd parents {'Amino-Acid-Degradation': 2} for PWY0-461\n",
      "G6811-MONOMER has 2nd parents {'AMINE-DEG': 2} for PWY-6535\n",
      "pruned to ['Amino-Acid-Degradation', 'AMINE-DEG']\n",
      "G6862-MONOMER has 2nd parents {'Cofactor-Biosynthesis': 2} for 1CMET2-PWY\n",
      "G6862-MONOMER has 2nd parents {'Cofactor-Biosynthesis': 2} for PWY-6614\n",
      "G6862-MONOMER has 2nd parents {'HORMONE-SYN': 2} for PWY0-1433\n",
      "pruned to ['Cofactor-Biosynthesis', 'Cofactor-Biosynthesis', 'HORMONE-SYN']\n",
      "G6903-MONOMER has 2nd parents {'FERMENTATION-PWY': 2} for FERMENTATION-PWY\n",
      "G6903-MONOMER has 2nd parents {'TCA-VARIANTS': 2} for TCA\n",
      "pruned to ['N/A', 'TCA-VARIANTS']\n",
      "G6986-MONOMER has 2nd parents {'Amino-Acid-Biosynthesis': 2} for LEUSYN-PWY\n",
      "G6986-MONOMER has 2nd parents {'CARBOXYLATES-DEG': 2} for PWY0-1465\n",
      "pruned to ['Amino-Acid-Biosynthesis', 'CARBOXYLATES-DEG']\n",
      "G7164-MONOMER has 2nd parents {'PWY-7206': 2, 'NUCLEO-DEG': 2} for PWY-7206\n",
      "G7164-MONOMER has 2nd parents {'PWY-7184': 2, 'Nucleotide-Biosynthesis': 2} for PWY-7184\n",
      "G7164-MONOMER has 2nd parents {'PWY0-166': 2} for PWY0-166\n",
      "G7164-MONOMER has 2nd parents {'Nucleotide-Biosynthesis': 2} for PWY-7187\n",
      "pruned to ['PWY-7206', 'PWY-7184', 'N/A', 'Nucleotide-Biosynthesis']\n",
      "G7187-MONOMER has 2nd parents {'GLYCOLYSIS-VARIANTS': 2} for GLYCOLYSIS\n",
      "G7187-MONOMER has 2nd parents {'GLYCOLYSIS-VARIANTS': 2} for PWY-5484\n",
      "G7187-MONOMER has 2nd parents {'Carbohydrates-Biosynthesis': 2} for GLUCONEO-PWY\n",
      "pruned to ['GLYCOLYSIS-VARIANTS', 'GLYCOLYSIS-VARIANTS', 'Carbohydrates-Biosynthesis']\n",
      "G7212-MONOMER has 2nd parents {'Fatty-Acid-and-Lipid-Degradation': 2} for PWY0-1337\n",
      "G7212-MONOMER has 2nd parents {'Fatty-Acid-and-Lipid-Degradation': 2} for FAO-PWY\n",
      "pruned to ['Fatty-Acid-and-Lipid-Degradation', 'Fatty-Acid-and-Lipid-Degradation']\n",
      "G7213-MONOMER has 2nd parents {'Fatty-Acid-and-Lipid-Degradation': 2} for PWY0-1337\n",
      "G7213-MONOMER has 2nd parents {'Fatty-Acid-and-Lipid-Degradation': 2} for FAO-PWY\n",
      "pruned to ['Fatty-Acid-and-Lipid-Degradation', 'Fatty-Acid-and-Lipid-Degradation']\n",
      "G7285-MONOMER has 2nd parents {'FERMENTATION-PWY': 2} for FERMENTATION-PWY\n",
      "G7285-MONOMER has 2nd parents {'Fermentation': 2} for PWY-5480\n",
      "G7285-MONOMER has 2nd parents {'Carbohydrates-Degradation': 2} for PWY-7180\n",
      "G7285-MONOMER has 2nd parents {'Amino-Acid-Degradation': 2} for PWY-5436\n",
      "G7285-MONOMER has 2nd parents {'Alcohol-Degradation': 2} for ETOH-ACETYLCOA-ANA-PWY\n",
      "G7285-MONOMER has 2nd parents {'CARBOXYLATES-DEG': 2} for PWY-5162\n",
      "G7285-MONOMER has 2nd parents {'AMINE-DEG': 2} for PWY0-1477\n",
      "pruned to ['N/A', 'Fermentation', 'Carbohydrates-Degradation', 'Amino-Acid-Degradation', 'Alcohol-Degradation', 'CARBOXYLATES-DEG', 'AMINE-DEG']\n",
      "G7288-MONOMER has 2nd parents {'PWY-5485': 2} for PWY-5485\n",
      "G7288-MONOMER has 2nd parents {'Fermentation': 2} for PWY0-1312\n",
      "G7288-MONOMER has 2nd parents {'FERMENTATION-PWY': 2} for FERMENTATION-PWY\n",
      "G7288-MONOMER has 2nd parents {'AMINE-DEG': 2} for PWY0-1477\n",
      "pruned to ['N/A', 'Fermentation', 'N/A', 'AMINE-DEG']\n",
      "G7322-MONOMER has 2nd parents {'PEPTIDOGLYCANSYN-PWY': 2} for PEPTIDOGLYCANSYN-PWY\n",
      "G7322-MONOMER has 2nd parents {'Cell-Structure-Biosynthesis': 2} for PWY0-1586\n",
      "pruned to ['N/A', 'Cell-Structure-Biosynthesis']\n",
      "G7325-MONOMER has 2nd parents {'Cofactor-Biosynthesis': 2} for PWY-6892\n",
      "G7325-MONOMER has 2nd parents {'Cofactor-Biosynthesis': 2} for PWY-8164\n",
      "G7325-MONOMER has 2nd parents {'Amino-Acid-Biosynthesis': 2} for PWY0-1021\n",
      "G7325-MONOMER has 2nd parents {'Nucleic-Acid-Processing': 2} for PWY-7892\n",
      "pruned to ['Cofactor-Biosynthesis', 'Cofactor-Biosynthesis', 'Amino-Acid-Biosynthesis', 'Nucleic-Acid-Processing']\n",
      "G7401-MONOMER has 2nd parents {'Nucleotide-Biosynthesis': 2} for PWY-7222\n",
      "G7401-MONOMER has 2nd parents {'Nucleotide-Biosynthesis': 2} for PWY-7220\n",
      "G7401-MONOMER has 2nd parents {'PWY0-166': 2} for PWY0-166\n",
      "G7401-MONOMER has 2nd parents {'Amino-Acid-Biosynthesis': 2} for PWY-7870\n",
      "G7401-MONOMER has 2nd parents {'Other-biosynthesis': 2} for GLUT-REDOX-PWY\n",
      "G7401-MONOMER has 2nd parents {'Arsenic-Detoxification': 2} for PWY-4621-1\n",
      "pruned to ['Nucleotide-Biosynthesis', 'Nucleotide-Biosynthesis', 'N/A', 'Amino-Acid-Biosynthesis', 'Other-biosynthesis', 'Arsenic-Detoxification']\n",
      "G7463-MONOMER has 2nd parents {'GLYCOLYSIS-VARIANTS': 2} for GLYCOLYSIS\n",
      "G7463-MONOMER has 2nd parents {'Carbohydrates-Biosynthesis': 2} for GLUCONEO-PWY\n",
      "G7463-MONOMER has 2nd parents {'Carbohydrates-Biosynthesis': 2} for UDPNAGSYN-PWY\n",
      "G7463-MONOMER has 2nd parents {'Carbohydrates-Biosynthesis': 2} for PWY-5659\n",
      "pruned to ['GLYCOLYSIS-VARIANTS', 'Carbohydrates-Biosynthesis', 'Carbohydrates-Biosynthesis', 'Carbohydrates-Biosynthesis']\n",
      "G7485-MONOMER has 2nd parents {'NUCLEO-DEG': 2} for SALVADEHYPOX-PWY\n",
      "G7485-MONOMER has 2nd parents {'NUCLEO-DEG': 2} for PWY-6608\n",
      "pruned to ['NUCLEO-DEG', 'NUCLEO-DEG']\n",
      "G7486-MONOMER has 2nd parents {'NUCLEO-DEG': 2} for SALVADEHYPOX-PWY\n",
      "G7486-MONOMER has 2nd parents {'NUCLEO-DEG': 2} for PWY-6608\n",
      "pruned to ['NUCLEO-DEG', 'NUCLEO-DEG']\n",
      "G7487-MONOMER has 2nd parents {'NUCLEO-DEG': 2} for SALVADEHYPOX-PWY\n",
      "G7487-MONOMER has 2nd parents {'NUCLEO-DEG': 2} for PWY-6608\n",
      "pruned to ['NUCLEO-DEG', 'NUCLEO-DEG']\n",
      "G7544-MONOMER has 2nd parents {'CARBOXYLATES-DEG': 2} for GLYCOLATEMET-PWY\n",
      "G7544-MONOMER has 2nd parents {'CARBOXYLATES-DEG': 2} for GLYOXDEG-PWY\n",
      "pruned to ['CARBOXYLATES-DEG', 'CARBOXYLATES-DEG']\n",
      "G7545-MONOMER has 2nd parents {'CARBOXYLATES-DEG': 2} for GLYCOLATEMET-PWY\n",
      "G7545-MONOMER has 2nd parents {'CARBOXYLATES-DEG': 2} for GLYOXDEG-PWY\n",
      "pruned to ['CARBOXYLATES-DEG', 'CARBOXYLATES-DEG']\n",
      "G7596-MONOMER has 2nd parents {'Amino-Acid-Degradation': 2} for PWY0-461\n",
      "G7596-MONOMER has 2nd parents {'AMINE-DEG': 2} for PUTDEG-PWY\n",
      "pruned to ['Amino-Acid-Degradation', 'AMINE-DEG']\n",
      "G7668-MONOMER has 2nd parents {'PEPTIDOGLYCANSYN-PWY': 2} for PEPTIDOGLYCANSYN-PWY\n",
      "G7668-MONOMER has 2nd parents {'Cell-Structure-Biosynthesis': 2} for PWY0-1586\n",
      "pruned to ['N/A', 'Cell-Structure-Biosynthesis']\n",
      "G7877-MONOMER has 2nd parents {'Fermentation': 2} for PWY-5437\n",
      "G7877-MONOMER has 2nd parents {'Amino-Acid-Biosynthesis': 2} for ILEUSYN-PWY\n",
      "G7877-MONOMER has 2nd parents {'Amino-Acid-Degradation': 2} for PWY0-1535\n",
      "G7877-MONOMER has 2nd parents {'Amino-Acid-Degradation': 2} for LCYSDEG-PWY\n",
      "G7877-MONOMER has 2nd parents {'Amino-Acid-Degradation': 2} for TRYPDEG-PWY\n",
      "G7877-MONOMER has 2nd parents {'Amino-Acid-Degradation': 2} for SERDEG-PWY\n",
      "pruned to ['Fermentation', 'Amino-Acid-Biosynthesis', 'Amino-Acid-Degradation', 'Amino-Acid-Degradation', 'Amino-Acid-Degradation', 'Amino-Acid-Degradation']\n",
      "GABATRANSAM-MONOMER has 2nd parents {'Amino-Acid-Biosynthesis': 2} for GLUTORN-PWY\n",
      "GABATRANSAM-MONOMER has 2nd parents {'Amino-Acid-Degradation': 2} for PWY0-461\n",
      "GABATRANSAM-MONOMER has 2nd parents {'AMINE-DEG': 2} for PWY-6537\n",
      "pruned to ['Amino-Acid-Biosynthesis', 'Amino-Acid-Degradation', 'AMINE-DEG']\n",
      "GAPDH-A-MONOMER has 2nd parents {'GLYCOLYSIS-VARIANTS': 2} for GLYCOLYSIS\n",
      "GAPDH-A-MONOMER has 2nd parents {'GLYCOLYSIS-VARIANTS': 2} for PWY-5484\n",
      "GAPDH-A-MONOMER has 2nd parents {'Carbohydrates-Biosynthesis': 2} for GLUCONEO-PWY\n",
      "pruned to ['GLYCOLYSIS-VARIANTS', 'GLYCOLYSIS-VARIANTS', 'Carbohydrates-Biosynthesis']\n",
      "GARTRANSFORMYL2-MONOMER has 2nd parents {'PWY-6277': 2} for PWY-6277\n",
      "GARTRANSFORMYL2-MONOMER has 2nd parents {'Nucleotide-Biosynthesis': 2} for PWY-6122\n",
      "GARTRANSFORMYL2-MONOMER has 2nd parents {'AMINE-DEG': 2} for PWY0-1477\n",
      "pruned to ['N/A', 'Nucleotide-Biosynthesis', 'AMINE-DEG']\n",
      "GCVH-MONOMER has 2nd parents {'Cofactor-Biosynthesis': 2} for 1CMET2-PWY\n",
      "GCVH-MONOMER has 2nd parents {'Amino-Acid-Degradation': 2} for GLYCLEAV-PWY\n",
      "GCVH-MONOMER has 2nd parents {'Amino-Acid-Degradation': 2} for PWY0-1608\n",
      "pruned to ['Cofactor-Biosynthesis', 'Amino-Acid-Degradation', 'Amino-Acid-Degradation']\n",
      "GCVP-MONOMER has 2nd parents {'Cofactor-Biosynthesis': 2} for 1CMET2-PWY\n",
      "GCVP-MONOMER has 2nd parents {'Amino-Acid-Degradation': 2} for GLYCLEAV-PWY\n",
      "GCVP-MONOMER has 2nd parents {'Amino-Acid-Degradation': 2} for PWY0-1608\n",
      "pruned to ['Cofactor-Biosynthesis', 'Amino-Acid-Degradation', 'Amino-Acid-Degradation']\n",
      "GCVT-MONOMER has 2nd parents {'Cofactor-Biosynthesis': 2} for 1CMET2-PWY\n",
      "GCVT-MONOMER has 2nd parents {'Amino-Acid-Degradation': 2} for GLYCLEAV-PWY\n",
      "GCVT-MONOMER has 2nd parents {'Amino-Acid-Degradation': 2} for PWY0-1608\n",
      "pruned to ['Cofactor-Biosynthesis', 'Amino-Acid-Degradation', 'Amino-Acid-Degradation']\n",
      "GKI-MONOMER has 2nd parents {'Carbohydrates-Degradation': 2} for PWY0-1300\n",
      "GKI-MONOMER has 2nd parents {'CARBOXYLATES-DEG': 2} for GLYCOLATEMET-PWY\n",
      "GKI-MONOMER has 2nd parents {'CARBOXYLATES-DEG': 2} for GALACTARDEG-PWY\n",
      "GKI-MONOMER has 2nd parents {'CARBOXYLATES-DEG': 2} for GLUCARDEG-PWY\n",
      "pruned to ['Carbohydrates-Degradation', 'CARBOXYLATES-DEG', 'CARBOXYLATES-DEG', 'CARBOXYLATES-DEG']\n",
      "GLU6PDEHYDROG-MONOMER has 2nd parents {'Pentose-Phosphate-Cycle': 2} for OXIDATIVEPENT-PWY\n",
      "GLU6PDEHYDROG-MONOMER has 2nd parents {'GLYCOLYSIS-E-D': 2} for GLYCOLYSIS-E-D\n",
      "pruned to ['Pentose-Phosphate-Cycle', 'N/A']\n",
      "GLUC1PURIDYLTRANS-MONOMER has 2nd parents {'Carbohydrates-Biosynthesis': 2} for PWY-7343\n",
      "GLUC1PURIDYLTRANS-MONOMER has 2nd parents {'Carbohydrates-Biosynthesis': 2} for GALACTMETAB-PWY\n",
      "pruned to ['Carbohydrates-Biosynthesis', 'Carbohydrates-Biosynthesis']\n",
      "GLUCOKIN-MONOMER has 2nd parents {'GLYCOCAT-PWY': 2, 'Polymer-Degradation': 2} for GLYCOCAT-PWY\n",
      "GLUCOKIN-MONOMER has 2nd parents {'Carbohydrates-Degradation': 2} for PWY0-1182\n",
      "GLUCOKIN-MONOMER has 2nd parents {'Carbohydrates-Degradation': 2} for TREDEGLOW-PWY\n",
      "GLUCOKIN-MONOMER has 2nd parents {'Carbohydrates-Degradation': 2} for GLUCOSE1PMETAB-PWY\n",
      "pruned to ['GLYCOCAT-PWY', 'Carbohydrates-Degradation', 'Carbohydrates-Degradation', 'Carbohydrates-Degradation']\n",
      "GLUCONOKINI-MONOMER has 2nd parents {'CARBOXYLATES-DEG': 2} for IDNCAT-PWY\n",
      "GLUCONOKINI-MONOMER has 2nd parents {'CARBOXYLATES-DEG': 2} for GLUCONSUPER-PWY\n",
      "pruned to ['CARBOXYLATES-DEG', 'CARBOXYLATES-DEG']\n",
      "GLURS-MONOMER has 2nd parents {'TRNA-CHARGING-PWY': 2, 'Aminoacyl-tRNAs-Charging': 2} for TRNA-CHARGING-PWY\n",
      "GLURS-MONOMER has 2nd parents {'Tetrapyrrole-Biosynthesis': 2} for PWY-5188\n",
      "pruned to ['TRNA-CHARGING-PWY', 'Tetrapyrrole-Biosynthesis']\n",
      "GLUSYNLARGE-MONOMER has 2nd parents {'Amino-Acid-Biosynthesis': 2} for GLUTSYN-PWY\n",
      "GLUSYNLARGE-MONOMER has 2nd parents {'Amino-Acid-Degradation': 2} for GLUTAMINDEG-PWY\n",
      "GLUSYNLARGE-MONOMER has 2nd parents {'Noncarbon-Nutrients': 2} for AMMASSIM-PWY\n",
      "pruned to ['Amino-Acid-Biosynthesis', 'Amino-Acid-Degradation', 'Noncarbon-Nutrients']\n",
      "GLUSYNSMALL-MONOMER has 2nd parents {'Amino-Acid-Biosynthesis': 2} for GLUTSYN-PWY\n",
      "GLUSYNSMALL-MONOMER has 2nd parents {'Amino-Acid-Degradation': 2} for GLUTAMINDEG-PWY\n",
      "GLUSYNSMALL-MONOMER has 2nd parents {'Noncarbon-Nutrients': 2} for AMMASSIM-PWY\n",
      "pruned to ['Amino-Acid-Biosynthesis', 'Amino-Acid-Degradation', 'Noncarbon-Nutrients']\n",
      "GLUTAMIDOTRANS-MONOMER has 2nd parents {'Amino-Acid-Biosynthesis': 2} for HISTSYN-PWY\n",
      "GLUTAMIDOTRANS-MONOMER has 2nd parents {'Amino-Acid-Degradation': 2} for GLUTAMINDEG-PWY\n",
      "GLUTAMIDOTRANS-MONOMER has 2nd parents {'Noncarbon-Nutrients': 2} for AMMASSIM-PWY\n",
      "pruned to ['Amino-Acid-Biosynthesis', 'Amino-Acid-Degradation', 'Noncarbon-Nutrients']\n",
      "GLUTAMINESYN-MONOMER has 2nd parents {'Amino-Acid-Biosynthesis': 2} for GLNSYN-PWY\n",
      "GLUTAMINESYN-MONOMER has 2nd parents {'Amino-Acid-Degradation': 2} for PWY-8291\n",
      "GLUTAMINESYN-MONOMER has 2nd parents {'Amino-Acid-Degradation': 2} for PWY-8294\n",
      "GLUTAMINESYN-MONOMER has 2nd parents {'Noncarbon-Nutrients': 2} for AMMASSIM-PWY\n",
      "pruned to ['Amino-Acid-Biosynthesis', 'Amino-Acid-Degradation', 'Amino-Acid-Degradation', 'Noncarbon-Nutrients']\n",
      "GLY3KIN-MONOMER has 2nd parents {'Carbohydrates-Degradation': 2} for PWY0-1300\n",
      "GLY3KIN-MONOMER has 2nd parents {'CARBOXYLATES-DEG': 2} for GLYCOLATEMET-PWY\n",
      "GLY3KIN-MONOMER has 2nd parents {'CARBOXYLATES-DEG': 2} for GALACTARDEG-PWY\n",
      "GLY3KIN-MONOMER has 2nd parents {'CARBOXYLATES-DEG': 2} for GLUCARDEG-PWY\n",
      "pruned to ['Carbohydrates-Degradation', 'CARBOXYLATES-DEG', 'CARBOXYLATES-DEG', 'CARBOXYLATES-DEG']\n",
      "GLYC3PDEHYDROGBIOSYN-MONOMER has 2nd parents {'Lipid-Biosynthesis': 2} for PWY-5667\n",
      "GLYC3PDEHYDROGBIOSYN-MONOMER has 2nd parents {'Lipid-Biosynthesis': 2} for PWY0-1319\n",
      "pruned to ['Lipid-Biosynthesis', 'Lipid-Biosynthesis']\n",
      "GLYCDEH-MONOMER has 2nd parents {'Alcohol-Degradation': 2} for GLYCEROLMETAB-PWY\n",
      "GLYCDEH-MONOMER has 2nd parents {'Methylglyoxal-Detoxification': 2, 'Aldehyde-Degradation': 2} for PWY-5453\n",
      "pruned to ['Alcohol-Degradation', 'Methylglyoxal-Detoxification']\n",
      "GLYCEROL-3-P-ACYLTRANSFER-MONOMER has 2nd parents {'Lipid-Biosynthesis': 2} for PWY-5667\n",
      "GLYCEROL-3-P-ACYLTRANSFER-MONOMER has 2nd parents {'Lipid-Biosynthesis': 2} for PWY0-1319\n",
      "pruned to ['Lipid-Biosynthesis', 'Lipid-Biosynthesis']\n",
      "GLYCRIBONUCSYN-MONOMER has 2nd parents {'PWY-6277': 2} for PWY-6277\n",
      "GLYCRIBONUCSYN-MONOMER has 2nd parents {'Nucleotide-Biosynthesis': 2} for PWY-6122\n",
      "GLYCRIBONUCSYN-MONOMER has 2nd parents {'Nucleotide-Biosynthesis': 2} for PWY-6121\n",
      "pruned to ['N/A', 'Nucleotide-Biosynthesis', 'Nucleotide-Biosynthesis']\n",
      "GLYOHMETRANS-MONOMER has 2nd parents {'Cofactor-Biosynthesis': 2} for 1CMET2-PWY\n",
      "GLYOHMETRANS-MONOMER has 2nd parents {'Cofactor-Biosynthesis': 2} for PWY-2161\n",
      "GLYOHMETRANS-MONOMER has 2nd parents {'Amino-Acid-Biosynthesis': 2} for GLYSYN-PWY\n",
      "GLYOHMETRANS-MONOMER has 2nd parents {'Amino-Acid-Degradation': 2} for PWY0-1608\n",
      "pruned to ['Cofactor-Biosynthesis', 'Cofactor-Biosynthesis', 'Amino-Acid-Biosynthesis', 'Amino-Acid-Degradation']\n",
      "GMP-SYN-MONOMER has 2nd parents {'Nucleotide-Biosynthesis': 2} for PWY-7221\n",
      "GMP-SYN-MONOMER has 2nd parents {'Amino-Acid-Degradation': 2} for GLUTAMINDEG-PWY\n",
      "GMP-SYN-MONOMER has 2nd parents {'Noncarbon-Nutrients': 2} for AMMASSIM-PWY\n",
      "pruned to ['Nucleotide-Biosynthesis', 'Amino-Acid-Degradation', 'Noncarbon-Nutrients']\n",
      "GPMA-MONOMER has 2nd parents {'GLYCOLYSIS-VARIANTS': 2} for GLYCOLYSIS\n",
      "GPMA-MONOMER has 2nd parents {'GLYCOLYSIS-VARIANTS': 2} for PWY-5484\n",
      "pruned to ['GLYCOLYSIS-VARIANTS', 'GLYCOLYSIS-VARIANTS']\n",
      "GPT-MONOMER has 2nd parents {'Nucleotide-Biosynthesis': 2} for PWY-6609\n",
      "GPT-MONOMER has 2nd parents {'Nucleotide-Biosynthesis': 2} for PWY-6620\n",
      "GPT-MONOMER has 2nd parents {'Nucleotide-Biosynthesis': 2} for SALVPURINE2-PWY\n",
      "pruned to ['Nucleotide-Biosynthesis', 'Nucleotide-Biosynthesis', 'Nucleotide-Biosynthesis']\n",
      "GRXB-MONOMER has 2nd parents {'Amino-Acid-Biosynthesis': 2} for PWY-7870\n",
      "GRXB-MONOMER has 2nd parents {'Other-biosynthesis': 2} for GLUT-REDOX-PWY\n",
      "GRXB-MONOMER has 2nd parents {'Arsenic-Detoxification': 2} for PWY-4621-1\n",
      "pruned to ['Amino-Acid-Biosynthesis', 'Other-biosynthesis', 'Arsenic-Detoxification']\n",
      "GRXC-MONOMER has 2nd parents {'Amino-Acid-Biosynthesis': 2} for PWY-7870\n",
      "GRXC-MONOMER has 2nd parents {'Other-biosynthesis': 2} for GLUT-REDOX-PWY\n",
      "GRXC-MONOMER has 2nd parents {'Arsenic-Detoxification': 2} for PWY-4621-1\n",
      "pruned to ['Amino-Acid-Biosynthesis', 'Other-biosynthesis', 'Arsenic-Detoxification']\n",
      "GSK-MONOMER has 2nd parents {'Nucleotide-Biosynthesis': 2} for PWY-6611\n",
      "GSK-MONOMER has 2nd parents {'Nucleotide-Biosynthesis': 2} for PWY-6618\n",
      "pruned to ['Nucleotide-Biosynthesis', 'Nucleotide-Biosynthesis']\n",
      "HCAA2-MONOMER has 2nd parents {'AROMATIC-COMPOUNDS-DEGRADATION': 2} for PWY-6690\n",
      "HCAA2-MONOMER has 2nd parents {'AROMATIC-COMPOUNDS-DEGRADATION': 2} for HCAMHPDEG-PWY\n",
      "pruned to ['AROMATIC-COMPOUNDS-DEGRADATION', 'AROMATIC-COMPOUNDS-DEGRADATION']\n",
      "HCAC-MONOMER has 2nd parents {'AROMATIC-COMPOUNDS-DEGRADATION': 2} for PWY-6690\n",
      "HCAC-MONOMER has 2nd parents {'AROMATIC-COMPOUNDS-DEGRADATION': 2} for HCAMHPDEG-PWY\n",
      "pruned to ['AROMATIC-COMPOUNDS-DEGRADATION', 'AROMATIC-COMPOUNDS-DEGRADATION']\n",
      "HCAD-MONOMER has 2nd parents {'AROMATIC-COMPOUNDS-DEGRADATION': 2} for PWY-6690\n",
      "HCAD-MONOMER has 2nd parents {'AROMATIC-COMPOUNDS-DEGRADATION': 2} for HCAMHPDEG-PWY\n",
      "pruned to ['AROMATIC-COMPOUNDS-DEGRADATION', 'AROMATIC-COMPOUNDS-DEGRADATION']\n",
      "HMP-P-KIN-MONOMER has 2nd parents {'Cofactor-Biosynthesis': 2} for PWY-6910\n",
      "HMP-P-KIN-MONOMER has 2nd parents {'Cofactor-Biosynthesis': 2} for PWY-6890\n",
      "pruned to ['Cofactor-Biosynthesis', 'Cofactor-Biosynthesis']\n",
      "HOLO-ACP-SYNTH-MONOMER has 2nd parents {'ENTBACSYN-PWY': 2} for ENTBACSYN-PWY\n",
      "HOLO-ACP-SYNTH-MONOMER has 2nd parents {'Protein-Modification': 2} for PWY-6012\n",
      "pruned to ['N/A', 'Protein-Modification']\n",
      "HOMOCYSMET-MONOMER has 2nd parents {'Cofactor-Biosynthesis': 2} for PWY-6151\n",
      "HOMOCYSMET-MONOMER has 2nd parents {'Amino-Acid-Biosynthesis': 2} for HOMOSER-METSYN-PWY\n",
      "pruned to ['Cofactor-Biosynthesis', 'Amino-Acid-Biosynthesis']\n",
      "HOMOCYSMETB12-MONOMER has 2nd parents {'Cofactor-Biosynthesis': 2} for 1CMET2-PWY\n",
      "HOMOCYSMETB12-MONOMER has 2nd parents {'Cofactor-Biosynthesis': 2} for PWY-6151\n",
      "HOMOCYSMETB12-MONOMER has 2nd parents {'Amino-Acid-Biosynthesis': 2} for HOMOSER-METSYN-PWY\n",
      "pruned to ['Cofactor-Biosynthesis', 'Cofactor-Biosynthesis', 'Amino-Acid-Biosynthesis']\n",
      "HYBA-MONOMER has 2nd parents {'Electron-Transfer': 2} for PWY0-1577\n",
      "HYBA-MONOMER has 2nd parents {'Electron-Transfer': 2} for PWY0-1578\n",
      "HYBA-MONOMER has 2nd parents {'Electron-Transfer': 2} for PWY0-1576\n",
      "pruned to ['Electron-Transfer', 'Electron-Transfer', 'Electron-Transfer']\n",
      "HYBC-MONOMER has 2nd parents {'Electron-Transfer': 2} for PWY0-1577\n",
      "HYBC-MONOMER has 2nd parents {'Electron-Transfer': 2} for PWY0-1578\n",
      "HYBC-MONOMER has 2nd parents {'Electron-Transfer': 2} for PWY0-1576\n",
      "pruned to ['Electron-Transfer', 'Electron-Transfer', 'Electron-Transfer']\n",
      "HYCBSMALL-MONOMER has 2nd parents {'FERMENTATION-PWY': 2} for FERMENTATION-PWY\n",
      "HYCBSMALL-MONOMER has 2nd parents {'Hydrogen-Production': 2} for PWY-6772\n",
      "pruned to ['N/A', 'Hydrogen-Production']\n",
      "HYCC-MONOMER has 2nd parents {'FERMENTATION-PWY': 2} for FERMENTATION-PWY\n",
      "HYCC-MONOMER has 2nd parents {'Hydrogen-Production': 2} for PWY-6772\n",
      "pruned to ['N/A', 'Hydrogen-Production']\n",
      "HYCD-MONOMER has 2nd parents {'FERMENTATION-PWY': 2} for FERMENTATION-PWY\n",
      "HYCD-MONOMER has 2nd parents {'Hydrogen-Production': 2} for PWY-6772\n",
      "pruned to ['N/A', 'Hydrogen-Production']\n",
      "HYCELARGE-MONOMER has 2nd parents {'FERMENTATION-PWY': 2} for FERMENTATION-PWY\n",
      "HYCELARGE-MONOMER has 2nd parents {'Hydrogen-Production': 2} for PWY-6772\n",
      "HYCELARGE-MONOMER has 2nd parents {'Cofactor-Biosynthesis': 2} for PWY-8319\n",
      "pruned to ['N/A', 'Hydrogen-Production', 'Cofactor-Biosynthesis']\n",
      "HYCF-MONOMER has 2nd parents {'FERMENTATION-PWY': 2} for FERMENTATION-PWY\n",
      "HYCF-MONOMER has 2nd parents {'Hydrogen-Production': 2} for PWY-6772\n",
      "pruned to ['N/A', 'Hydrogen-Production']\n",
      "HYCG-MONOMER has 2nd parents {'FERMENTATION-PWY': 2} for FERMENTATION-PWY\n",
      "HYCG-MONOMER has 2nd parents {'Hydrogen-Production': 2} for PWY-6772\n",
      "pruned to ['N/A', 'Hydrogen-Production']\n",
      "HYPOXANPRIBOSYLTRAN-MONOMER has 2nd parents {'Nucleotide-Biosynthesis': 2} for PWY-6609\n",
      "HYPOXANPRIBOSYLTRAN-MONOMER has 2nd parents {'Nucleotide-Biosynthesis': 2} for PWY-6620\n",
      "pruned to ['Nucleotide-Biosynthesis', 'Nucleotide-Biosynthesis']\n",
      "ISOCITDEH-SUBUNIT has 2nd parents {'FERMENTATION-PWY': 2} for FERMENTATION-PWY\n",
      "ISOCITDEH-SUBUNIT has 2nd parents {'TCA-VARIANTS': 2} for TCA\n",
      "pruned to ['N/A', 'TCA-VARIANTS']\n",
      "KDGALDOL-MONOMER has 2nd parents {'CARBOXYLATES-DEG': 2} for GALACTARDEG-PWY\n",
      "KDGALDOL-MONOMER has 2nd parents {'CARBOXYLATES-DEG': 2} for GLUCARDEG-PWY\n",
      "pruned to ['CARBOXYLATES-DEG', 'CARBOXYLATES-DEG']\n",
      "KDPGALDOL-4OH2OXOGLUTARALDOL-MONOMER has 2nd parents {'Entner-Duodoroff-Pathways': 2} for ENTNER-DOUDOROFF-PWY\n",
      "KDPGALDOL-4OH2OXOGLUTARALDOL-MONOMER has 2nd parents {'CARBOXYLATES-DEG': 2} for GALACTUROCAT-PWY\n",
      "KDPGALDOL-4OH2OXOGLUTARALDOL-MONOMER has 2nd parents {'CARBOXYLATES-DEG': 2} for PWY-7242\n",
      "pruned to ['Entner-Duodoroff-Pathways', 'CARBOXYLATES-DEG', 'CARBOXYLATES-DEG']\n",
      "KETOBUTFORMLY-INACT-MONOMER has 2nd parents {'PWY-5485': 2} for PWY-5485\n",
      "KETOBUTFORMLY-INACT-MONOMER has 2nd parents {'FERMENTATION-PWY': 2} for FERMENTATION-PWY\n",
      "KETOBUTFORMLY-INACT-MONOMER has 2nd parents {'Fermentation': 2} for PWY-5480\n",
      "KETOBUTFORMLY-INACT-MONOMER has 2nd parents {'Fermentation': 2} for PWY-5437\n",
      "pruned to ['N/A', 'N/A', 'Fermentation', 'Fermentation']\n",
      "KETOLREDUCTOISOM-MONOMER has 2nd parents {'Cofactor-Biosynthesis': 2} for PANTO-PWY\n",
      "KETOLREDUCTOISOM-MONOMER has 2nd parents {'Amino-Acid-Biosynthesis': 2} for VALSYN-PWY\n",
      "KETOLREDUCTOISOM-MONOMER has 2nd parents {'Amino-Acid-Biosynthesis': 2} for ILEUSYN-PWY\n",
      "pruned to ['Cofactor-Biosynthesis', 'Amino-Acid-Biosynthesis', 'Amino-Acid-Biosynthesis']\n",
      "LACTALDDEHYDROG-MONOMER has 2nd parents {'Carbohydrates-Degradation': 2} for DARABCATK12-PWY\n",
      "LACTALDDEHYDROG-MONOMER has 2nd parents {'Alcohol-Degradation': 2} for PWY0-1280\n",
      "LACTALDDEHYDROG-MONOMER has 2nd parents {'Aldehyde-Degradation': 2} for PWY0-1317\n",
      "pruned to ['Carbohydrates-Degradation', 'Alcohol-Degradation', 'Aldehyde-Degradation']\n",
      "LACTALDREDUCT-MONOMER has 2nd parents {'Alcohol-Degradation': 2} for PWY0-1280\n",
      "LACTALDREDUCT-MONOMER has 2nd parents {'Aldehyde-Degradation': 2} for PWY0-1315\n",
      "pruned to ['Alcohol-Degradation', 'Aldehyde-Degradation']\n",
      "LAUROYLACYLTRAN-MONOMER has 2nd parents {'Lipid-Biosynthesis': 2} for KDO-LIPASYN-PWY\n",
      "LAUROYLACYLTRAN-MONOMER has 2nd parents {'KDO-NAGLIPASYN-PWY': 2} for KDO-NAGLIPASYN-PWY\n",
      "pruned to ['Lipid-Biosynthesis', 'N/A']\n",
      "LDC2-MONOMER has 2nd parents {'Polyamine-Biosynthesis': 2} for PWY0-1601\n",
      "LDC2-MONOMER has 2nd parents {'Polyamine-Biosynthesis': 2} for PWY0-1303\n",
      "LDC2-MONOMER has 2nd parents {'Amino-Acid-Degradation': 2} for PWY0-461\n",
      "pruned to ['Polyamine-Biosynthesis', 'Polyamine-Biosynthesis', 'Amino-Acid-Degradation']\n",
      "LSERINEDEAM1-MONOMER has 2nd parents {'Amino-Acid-Degradation': 2} for PWY0-1608\n",
      "LSERINEDEAM1-MONOMER has 2nd parents {'Amino-Acid-Degradation': 2} for SERDEG-PWY\n",
      "pruned to ['Amino-Acid-Degradation', 'Amino-Acid-Degradation']\n",
      "LSERINEDEAM2-MONOMER has 2nd parents {'Amino-Acid-Degradation': 2} for PWY0-1608\n",
      "LSERINEDEAM2-MONOMER has 2nd parents {'Amino-Acid-Degradation': 2} for SERDEG-PWY\n",
      "pruned to ['Amino-Acid-Degradation', 'Amino-Acid-Degradation']\n",
      "LSERINEDEAM3-MONOMER has 2nd parents {'Amino-Acid-Degradation': 2} for PWY0-1608\n",
      "LSERINEDEAM3-MONOMER has 2nd parents {'Amino-Acid-Degradation': 2} for SERDEG-PWY\n",
      "pruned to ['Amino-Acid-Degradation', 'Amino-Acid-Degradation']\n",
      "LYSDECARBOX-MONOMER has 2nd parents {'Polyamine-Biosynthesis': 2} for PWY0-1601\n",
      "LYSDECARBOX-MONOMER has 2nd parents {'Polyamine-Biosynthesis': 2} for PWY0-1303\n",
      "LYSDECARBOX-MONOMER has 2nd parents {'Amino-Acid-Degradation': 2} for PWY0-461\n",
      "pruned to ['Polyamine-Biosynthesis', 'Polyamine-Biosynthesis', 'Amino-Acid-Degradation']\n",
      "LYXK-MONOMER has 2nd parents {'Carbohydrates-Degradation': 2} for LYXMET-PWY\n",
      "LYXK-MONOMER has 2nd parents {'CARBOXYLATES-DEG': 2} for PWY-6961\n",
      "pruned to ['Carbohydrates-Degradation', 'CARBOXYLATES-DEG']\n",
      "MALATE-DEHASE-MONOMER has 2nd parents {'FERMENTATION-PWY': 2} for FERMENTATION-PWY\n",
      "MALATE-DEHASE-MONOMER has 2nd parents {'TCA-VARIANTS': 2} for TCA\n",
      "MALATE-DEHASE-MONOMER has 2nd parents {'GLYOXYLATE-BYPASS': 2} for GLYOXYLATE-BYPASS\n",
      "MALATE-DEHASE-MONOMER has 2nd parents {'Carbohydrates-Biosynthesis': 2} for GLUCONEO-PWY\n",
      "pruned to ['N/A', 'TCA-VARIANTS', 'GLYOXYLATE-BYPASS', 'Carbohydrates-Biosynthesis']\n",
      "MALIC-NAD-MONOMER has 2nd parents {'TCA-VARIANTS': 2} for TCA\n",
      "MALIC-NAD-MONOMER has 2nd parents {'GLYOXYLATE-BYPASS': 2} for GLYOXYLATE-BYPASS\n",
      "MALIC-NAD-MONOMER has 2nd parents {'Carbohydrates-Biosynthesis': 2} for GLUCONEO-PWY\n",
      "pruned to ['TCA-VARIANTS', 'GLYOXYLATE-BYPASS', 'Carbohydrates-Biosynthesis']\n",
      "MANNPISOM-MONOMER has 2nd parents {'Carbohydrates-Biosynthesis': 2} for PWY-5659\n",
      "MANNPISOM-MONOMER has 2nd parents {'Carbohydrates-Degradation': 2} for MANNCAT-PWY\n",
      "pruned to ['Carbohydrates-Biosynthesis', 'Carbohydrates-Degradation']\n",
      "MANX-MONOMER has 2nd parents {'GLYCOLYSIS-VARIANTS': 2} for GLYCOLYSIS\n",
      "MANX-MONOMER has 2nd parents {'Carbohydrates-Degradation': 2} for MANNCAT-PWY\n",
      "pruned to ['GLYCOLYSIS-VARIANTS', 'Carbohydrates-Degradation']\n",
      "MANY-MONOMER has 2nd parents {'GLYCOLYSIS-VARIANTS': 2} for GLYCOLYSIS\n",
      "MANY-MONOMER has 2nd parents {'Carbohydrates-Degradation': 2} for MANNCAT-PWY\n",
      "pruned to ['GLYCOLYSIS-VARIANTS', 'Carbohydrates-Degradation']\n",
      "MANZ-MONOMER has 2nd parents {'GLYCOLYSIS-VARIANTS': 2} for GLYCOLYSIS\n",
      "MANZ-MONOMER has 2nd parents {'Carbohydrates-Degradation': 2} for MANNCAT-PWY\n",
      "pruned to ['GLYCOLYSIS-VARIANTS', 'Carbohydrates-Degradation']\n",
      "METHYLMALONYL-COA-MUT-MONOMER has 2nd parents {'CARBOXYLATES-DEG': 2} for PWY0-43\n",
      "METHYLMALONYL-COA-MUT-MONOMER has 2nd parents {'CARBOXYLATES-DEG': 2} for PROPIONMET-PWY\n",
      "pruned to ['CARBOXYLATES-DEG', 'CARBOXYLATES-DEG']\n",
      "MHPCHYDROL-MONOMER has 2nd parents {'AROMATIC-COMPOUNDS-DEGRADATION': 2} for PWY-6690\n",
      "MHPCHYDROL-MONOMER has 2nd parents {'AROMATIC-COMPOUNDS-DEGRADATION': 2} for HCAMHPDEG-PWY\n",
      "pruned to ['AROMATIC-COMPOUNDS-DEGRADATION', 'AROMATIC-COMPOUNDS-DEGRADATION']\n",
      "MHPF-MONOMER has 2nd parents {'Fermentation': 2} for PWY-5480\n",
      "MHPF-MONOMER has 2nd parents {'Carbohydrates-Degradation': 2} for PWY-7180\n",
      "MHPF-MONOMER has 2nd parents {'Amino-Acid-Degradation': 2} for PWY-5436\n",
      "MHPF-MONOMER has 2nd parents {'Alcohol-Degradation': 2} for ETOH-ACETYLCOA-ANA-PWY\n",
      "MHPF-MONOMER has 2nd parents {'CARBOXYLATES-DEG': 2} for PWY-5162\n",
      "MHPF-MONOMER has 2nd parents {'AMINE-DEG': 2} for PWY0-1477\n",
      "pruned to ['Fermentation', 'Carbohydrates-Degradation', 'Amino-Acid-Degradation', 'Alcohol-Degradation', 'CARBOXYLATES-DEG', 'AMINE-DEG']\n",
      "MHPHYDROXY-MONOMER has 2nd parents {'AROMATIC-COMPOUNDS-DEGRADATION': 2} for PWY-6690\n",
      "MHPHYDROXY-MONOMER has 2nd parents {'AROMATIC-COMPOUNDS-DEGRADATION': 2} for HCAMHPDEG-PWY\n",
      "pruned to ['AROMATIC-COMPOUNDS-DEGRADATION', 'AROMATIC-COMPOUNDS-DEGRADATION']\n",
      "MONOMER0-145 has 2nd parents {'Electron-Transfer': 2} for PWY0-1577\n",
      "MONOMER0-145 has 2nd parents {'Electron-Transfer': 2} for PWY0-1578\n",
      "MONOMER0-145 has 2nd parents {'Electron-Transfer': 2} for PWY0-1576\n",
      "pruned to ['Electron-Transfer', 'Electron-Transfer', 'Electron-Transfer']\n",
      "MONOMER0-148 has 2nd parents {'KETOGLUCONMET-PWY': 2} for KETOGLUCONMET-PWY\n",
      "MONOMER0-148 has 2nd parents {'Methylglyoxal-Detoxification': 2, 'Aldehyde-Degradation': 2} for PWY-5453\n",
      "pruned to ['N/A', 'Methylglyoxal-Detoxification']\n",
      "MONOMER0-149 has 2nd parents {'KETOGLUCONMET-PWY': 2} for KETOGLUCONMET-PWY\n",
      "MONOMER0-149 has 2nd parents {'Methylglyoxal-Detoxification': 2, 'Aldehyde-Degradation': 2} for PWY-5453\n",
      "pruned to ['N/A', 'Methylglyoxal-Detoxification']\n",
      "MONOMER0-2663 has 2nd parents {'Electron-Transfer': 2} for PWY0-1353\n",
      "MONOMER0-2663 has 2nd parents {'Electron-Transfer': 2} for PWY0-1334\n",
      "MONOMER0-2663 has 2nd parents {'Electron-Transfer': 2} for PWY0-1568\n",
      "MONOMER0-2663 has 2nd parents {'Electron-Transfer': 2} for PWY-7545\n",
      "pruned to ['Electron-Transfer', 'Electron-Transfer', 'Electron-Transfer', 'Electron-Transfer']\n",
      "MONOMER0-2822 has 2nd parents {'Electron-Transfer': 2} for PWY0-1353\n",
      "MONOMER0-2822 has 2nd parents {'Electron-Transfer': 2} for PWY0-1334\n",
      "MONOMER0-2822 has 2nd parents {'Electron-Transfer': 2} for PWY0-1568\n",
      "MONOMER0-2822 has 2nd parents {'Electron-Transfer': 2} for PWY-7545\n",
      "pruned to ['Electron-Transfer', 'Electron-Transfer', 'Electron-Transfer', 'Electron-Transfer']\n",
      "MONOMER0-4521 has 2nd parents {'PEPTIDOGLYCANSYN-PWY': 2} for PEPTIDOGLYCANSYN-PWY\n",
      "MONOMER0-4521 has 2nd parents {'Cell-Structure-Biosynthesis': 2} for PWY0-1586\n",
      "pruned to ['N/A', 'Cell-Structure-Biosynthesis']\n",
      "MONOMER0-561 has 2nd parents {'CARBOXYLATES-DEG': 2} for GLYCOLATEMET-PWY\n",
      "MONOMER0-561 has 2nd parents {'CARBOXYLATES-DEG': 2} for GLYOXDEG-PWY\n",
      "pruned to ['CARBOXYLATES-DEG', 'CARBOXYLATES-DEG']\n",
      "MYRISTOYLACYLTRAN-MONOMER has 2nd parents {'Lipid-Biosynthesis': 2} for KDO-LIPASYN-PWY\n",
      "MYRISTOYLACYLTRAN-MONOMER has 2nd parents {'KDO-NAGLIPASYN-PWY': 2} for KDO-NAGLIPASYN-PWY\n",
      "pruned to ['Lipid-Biosynthesis', 'N/A']\n",
      "NAD-SYNTH-MONOMER has 2nd parents {'Cofactor-Biosynthesis': 2} for PYRIDNUCSAL-PWY\n",
      "NAD-SYNTH-MONOMER has 2nd parents {'Cofactor-Biosynthesis': 2} for PYRIDNUCSYN-PWY\n",
      "NAD-SYNTH-MONOMER has 2nd parents {'Cofactor-Biosynthesis': 2} for PWY-7761\n",
      "pruned to ['Cofactor-Biosynthesis', 'Cofactor-Biosynthesis', 'Cofactor-Biosynthesis']\n",
      "NADH-DHII-MONOMER has 2nd parents {'Electron-Transfer': 2} for PWY0-1567\n",
      "NADH-DHII-MONOMER has 2nd parents {'Electron-Transfer': 2} for PWY0-1568\n",
      "NADH-DHII-MONOMER has 2nd parents {'Electron-Transfer': 2} for PWY0-1573\n",
      "pruned to ['Electron-Transfer', 'Electron-Transfer', 'Electron-Transfer']\n",
      "NAG1P-URIDYLTRANS-MONOMER has 2nd parents {'Carbohydrates-Biosynthesis': 2} for UDPNAGSYN-PWY\n",
      "NAG1P-URIDYLTRANS-MONOMER has 2nd parents {'Other-Degradation': 2} for PWY0-1261\n",
      "pruned to ['Carbohydrates-Biosynthesis', 'Other-Degradation']\n",
      "NAG6PDEACET-MONOMER has 2nd parents {'AMINE-DEG': 2} for GLUAMCAT-PWY\n",
      "NAG6PDEACET-MONOMER has 2nd parents {'Other-Degradation': 2} for PWY0-1261\n",
      "pruned to ['AMINE-DEG', 'Other-Degradation']\n",
      "NARG-MONOMER has 2nd parents {'Electron-Transfer': 2} for PWY0-1352\n",
      "NARG-MONOMER has 2nd parents {'Electron-Transfer': 2} for PWY0-1573\n",
      "NARG-MONOMER has 2nd parents {'Electron-Transfer': 2} for PWY0-1581\n",
      "NARG-MONOMER has 2nd parents {'Electron-Transfer': 2} for PWY0-1321\n",
      "pruned to ['Electron-Transfer', 'Electron-Transfer', 'Electron-Transfer', 'Electron-Transfer']\n",
      "NARH-MONOMER has 2nd parents {'Electron-Transfer': 2} for PWY0-1352\n",
      "NARH-MONOMER has 2nd parents {'Electron-Transfer': 2} for PWY0-1573\n",
      "NARH-MONOMER has 2nd parents {'Electron-Transfer': 2} for PWY0-1581\n",
      "NARH-MONOMER has 2nd parents {'Electron-Transfer': 2} for PWY0-1321\n",
      "pruned to ['Electron-Transfer', 'Electron-Transfer', 'Electron-Transfer', 'Electron-Transfer']\n",
      "NARI-MONOMER has 2nd parents {'Electron-Transfer': 2} for PWY0-1352\n",
      "NARI-MONOMER has 2nd parents {'Electron-Transfer': 2} for PWY0-1573\n",
      "NARI-MONOMER has 2nd parents {'Electron-Transfer': 2} for PWY0-1581\n",
      "NARI-MONOMER has 2nd parents {'Electron-Transfer': 2} for PWY0-1321\n",
      "pruned to ['Electron-Transfer', 'Electron-Transfer', 'Electron-Transfer', 'Electron-Transfer']\n",
      "NARL-MONOMER has 2nd parents {'PWY0-1515': 2} for PWY0-1515\n",
      "NARL-MONOMER has 2nd parents {'PWY0-1514': 2} for PWY0-1514\n",
      "pruned to ['PWY0-1515', 'PWY0-1514']\n",
      "NARP-MONOMER has 2nd parents {'PWY0-1515': 2} for PWY0-1515\n",
      "NARP-MONOMER has 2nd parents {'PWY0-1514': 2} for PWY0-1514\n",
      "pruned to ['PWY0-1515', 'PWY0-1514']\n",
      "NARV-MONOMER has 2nd parents {'Electron-Transfer': 2} for PWY0-1352\n",
      "NARV-MONOMER has 2nd parents {'Electron-Transfer': 2} for PWY0-1581\n",
      "NARV-MONOMER has 2nd parents {'Electron-Transfer': 2} for PWY0-1321\n",
      "pruned to ['Electron-Transfer', 'Electron-Transfer', 'Electron-Transfer']\n",
      "NARY-MONOMER has 2nd parents {'Electron-Transfer': 2} for PWY0-1352\n",
      "NARY-MONOMER has 2nd parents {'Electron-Transfer': 2} for PWY0-1581\n",
      "NARY-MONOMER has 2nd parents {'Electron-Transfer': 2} for PWY0-1321\n",
      "pruned to ['Electron-Transfer', 'Electron-Transfer', 'Electron-Transfer']\n",
      "NARZ-MONOMER has 2nd parents {'Electron-Transfer': 2} for PWY0-1352\n",
      "NARZ-MONOMER has 2nd parents {'Electron-Transfer': 2} for PWY0-1581\n",
      "NARZ-MONOMER has 2nd parents {'Electron-Transfer': 2} for PWY0-1321\n",
      "pruned to ['Electron-Transfer', 'Electron-Transfer', 'Electron-Transfer']\n",
      "NICONUCADENYLYLTRAN-MONOMER has 2nd parents {'Cofactor-Biosynthesis': 2} for PYRIDNUCSAL-PWY\n",
      "NICONUCADENYLYLTRAN-MONOMER has 2nd parents {'Cofactor-Biosynthesis': 2} for PYRIDNUCSYN-PWY\n",
      "NICONUCADENYLYLTRAN-MONOMER has 2nd parents {'Cofactor-Biosynthesis': 2} for PWY-7761\n",
      "pruned to ['Cofactor-Biosynthesis', 'Cofactor-Biosynthesis', 'Cofactor-Biosynthesis']\n",
      "NRDA-MONOMER has 2nd parents {'PWY-7184': 2, 'Nucleotide-Biosynthesis': 2} for PWY-7184\n",
      "NRDA-MONOMER has 2nd parents {'Nucleotide-Biosynthesis': 2} for PWY-7222\n",
      "NRDA-MONOMER has 2nd parents {'Nucleotide-Biosynthesis': 2} for PWY-7220\n",
      "NRDA-MONOMER has 2nd parents {'PWY0-166': 2} for PWY0-166\n",
      "pruned to ['PWY-7184', 'Nucleotide-Biosynthesis', 'Nucleotide-Biosynthesis', 'N/A']\n",
      "NRDB-MONOMER has 2nd parents {'PWY-7184': 2, 'Nucleotide-Biosynthesis': 2} for PWY-7184\n",
      "NRDB-MONOMER has 2nd parents {'Nucleotide-Biosynthesis': 2} for PWY-7222\n",
      "NRDB-MONOMER has 2nd parents {'Nucleotide-Biosynthesis': 2} for PWY-7220\n",
      "NRDB-MONOMER has 2nd parents {'PWY0-166': 2} for PWY0-166\n",
      "pruned to ['PWY-7184', 'Nucleotide-Biosynthesis', 'Nucleotide-Biosynthesis', 'N/A']\n",
      "NRDE-MONOMER has 2nd parents {'PWY-7184': 2, 'Nucleotide-Biosynthesis': 2} for PWY-7184\n",
      "NRDE-MONOMER has 2nd parents {'Nucleotide-Biosynthesis': 2} for PWY-7222\n",
      "NRDE-MONOMER has 2nd parents {'Nucleotide-Biosynthesis': 2} for PWY-7220\n",
      "NRDE-MONOMER has 2nd parents {'PWY0-166': 2} for PWY0-166\n",
      "pruned to ['PWY-7184', 'Nucleotide-Biosynthesis', 'Nucleotide-Biosynthesis', 'N/A']\n",
      "NRDF-MONOMER has 2nd parents {'PWY-7184': 2, 'Nucleotide-Biosynthesis': 2} for PWY-7184\n",
      "NRDF-MONOMER has 2nd parents {'Nucleotide-Biosynthesis': 2} for PWY-7222\n",
      "NRDF-MONOMER has 2nd parents {'Nucleotide-Biosynthesis': 2} for PWY-7220\n",
      "NRDF-MONOMER has 2nd parents {'PWY0-166': 2} for PWY0-166\n",
      "pruned to ['PWY-7184', 'Nucleotide-Biosynthesis', 'Nucleotide-Biosynthesis', 'N/A']\n",
      "NUCLEOSIDE-DIP-KIN-MONOMER has 2nd parents {'PWY-7184': 2, 'Nucleotide-Biosynthesis': 2} for PWY-7184\n",
      "NUCLEOSIDE-DIP-KIN-MONOMER has 2nd parents {'PWY-7197': 2, 'Nucleotide-Biosynthesis': 2} for PWY-7197\n",
      "NUCLEOSIDE-DIP-KIN-MONOMER has 2nd parents {'Nucleotide-Biosynthesis': 2} for PWY-7222\n",
      "NUCLEOSIDE-DIP-KIN-MONOMER has 2nd parents {'Nucleotide-Biosynthesis': 2} for PWY-7220\n",
      "NUCLEOSIDE-DIP-KIN-MONOMER has 2nd parents {'PWY0-166': 2} for PWY0-166\n",
      "NUCLEOSIDE-DIP-KIN-MONOMER has 2nd parents {'Nucleotide-Biosynthesis': 2} for PWY-7187\n",
      "NUCLEOSIDE-DIP-KIN-MONOMER has 2nd parents {'Nucleotide-Biosynthesis': 2} for PWY-7221\n",
      "NUCLEOSIDE-DIP-KIN-MONOMER has 2nd parents {'Nucleotide-Biosynthesis': 2} for PWY0-163\n",
      "NUCLEOSIDE-DIP-KIN-MONOMER has 2nd parents {'Nucleotide-Biosynthesis': 2} for PWY-7205\n",
      "NUCLEOSIDE-DIP-KIN-MONOMER has 2nd parents {'Nucleotide-Biosynthesis': 2} for PWY-7176\n",
      "NUCLEOSIDE-DIP-KIN-MONOMER has 2nd parents {'Metabolic-Regulators': 2} for PPGPPMET-PWY\n",
      "pruned to ['PWY-7184', 'PWY-7197', 'Nucleotide-Biosynthesis', 'Nucleotide-Biosynthesis', 'N/A', 'Nucleotide-Biosynthesis', 'Nucleotide-Biosynthesis', 'Nucleotide-Biosynthesis', 'Nucleotide-Biosynthesis', 'Nucleotide-Biosynthesis', 'Metabolic-Regulators']\n",
      "NUOA-MONOMER has 2nd parents {'Electron-Transfer': 2} for PWY0-1335\n",
      "NUOA-MONOMER has 2nd parents {'Electron-Transfer': 2} for PWY0-1590\n",
      "NUOA-MONOMER has 2nd parents {'Electron-Transfer': 2} for PWY0-1334\n",
      "NUOA-MONOMER has 2nd parents {'Electron-Transfer': 2} for PWY0-1348\n",
      "NUOA-MONOMER has 2nd parents {'Electron-Transfer': 2} for PWY0-1336\n",
      "NUOA-MONOMER has 2nd parents {'Electron-Transfer': 2} for PWY0-1347\n",
      "NUOA-MONOMER has 2nd parents {'Electron-Transfer': 2} for PWY0-1352\n",
      "pruned to ['Electron-Transfer', 'Electron-Transfer', 'Electron-Transfer', 'Electron-Transfer', 'Electron-Transfer', 'Electron-Transfer', 'Electron-Transfer']\n",
      "NUOB-MONOMER has 2nd parents {'Electron-Transfer': 2} for PWY0-1335\n",
      "NUOB-MONOMER has 2nd parents {'Electron-Transfer': 2} for PWY0-1590\n",
      "NUOB-MONOMER has 2nd parents {'Electron-Transfer': 2} for PWY0-1334\n",
      "NUOB-MONOMER has 2nd parents {'Electron-Transfer': 2} for PWY0-1348\n",
      "NUOB-MONOMER has 2nd parents {'Electron-Transfer': 2} for PWY0-1336\n",
      "NUOB-MONOMER has 2nd parents {'Electron-Transfer': 2} for PWY0-1347\n",
      "NUOB-MONOMER has 2nd parents {'Electron-Transfer': 2} for PWY0-1352\n",
      "pruned to ['Electron-Transfer', 'Electron-Transfer', 'Electron-Transfer', 'Electron-Transfer', 'Electron-Transfer', 'Electron-Transfer', 'Electron-Transfer']\n",
      "NUOC-MONOMER has 2nd parents {'Electron-Transfer': 2} for PWY0-1335\n",
      "NUOC-MONOMER has 2nd parents {'Electron-Transfer': 2} for PWY0-1590\n",
      "NUOC-MONOMER has 2nd parents {'Electron-Transfer': 2} for PWY0-1334\n",
      "NUOC-MONOMER has 2nd parents {'Electron-Transfer': 2} for PWY0-1348\n",
      "NUOC-MONOMER has 2nd parents {'Electron-Transfer': 2} for PWY0-1336\n",
      "NUOC-MONOMER has 2nd parents {'Electron-Transfer': 2} for PWY0-1347\n",
      "NUOC-MONOMER has 2nd parents {'Electron-Transfer': 2} for PWY0-1352\n",
      "pruned to ['Electron-Transfer', 'Electron-Transfer', 'Electron-Transfer', 'Electron-Transfer', 'Electron-Transfer', 'Electron-Transfer', 'Electron-Transfer']\n",
      "NUOE-MONOMER has 2nd parents {'Electron-Transfer': 2} for PWY0-1335\n",
      "NUOE-MONOMER has 2nd parents {'Electron-Transfer': 2} for PWY0-1590\n",
      "NUOE-MONOMER has 2nd parents {'Electron-Transfer': 2} for PWY0-1334\n",
      "NUOE-MONOMER has 2nd parents {'Electron-Transfer': 2} for PWY0-1348\n",
      "NUOE-MONOMER has 2nd parents {'Electron-Transfer': 2} for PWY0-1336\n",
      "NUOE-MONOMER has 2nd parents {'Electron-Transfer': 2} for PWY0-1347\n",
      "NUOE-MONOMER has 2nd parents {'Electron-Transfer': 2} for PWY0-1352\n",
      "pruned to ['Electron-Transfer', 'Electron-Transfer', 'Electron-Transfer', 'Electron-Transfer', 'Electron-Transfer', 'Electron-Transfer', 'Electron-Transfer']\n",
      "NUOF-MONOMER has 2nd parents {'Electron-Transfer': 2} for PWY0-1335\n",
      "NUOF-MONOMER has 2nd parents {'Electron-Transfer': 2} for PWY0-1590\n",
      "NUOF-MONOMER has 2nd parents {'Electron-Transfer': 2} for PWY0-1334\n",
      "NUOF-MONOMER has 2nd parents {'Electron-Transfer': 2} for PWY0-1348\n",
      "NUOF-MONOMER has 2nd parents {'Electron-Transfer': 2} for PWY0-1336\n",
      "NUOF-MONOMER has 2nd parents {'Electron-Transfer': 2} for PWY0-1347\n",
      "NUOF-MONOMER has 2nd parents {'Electron-Transfer': 2} for PWY0-1352\n",
      "pruned to ['Electron-Transfer', 'Electron-Transfer', 'Electron-Transfer', 'Electron-Transfer', 'Electron-Transfer', 'Electron-Transfer', 'Electron-Transfer']\n",
      "NUOG-MONOMER has 2nd parents {'Electron-Transfer': 2} for PWY0-1335\n",
      "NUOG-MONOMER has 2nd parents {'Electron-Transfer': 2} for PWY0-1590\n",
      "NUOG-MONOMER has 2nd parents {'Electron-Transfer': 2} for PWY0-1334\n",
      "NUOG-MONOMER has 2nd parents {'Electron-Transfer': 2} for PWY0-1348\n",
      "NUOG-MONOMER has 2nd parents {'Electron-Transfer': 2} for PWY0-1336\n",
      "NUOG-MONOMER has 2nd parents {'Electron-Transfer': 2} for PWY0-1347\n",
      "NUOG-MONOMER has 2nd parents {'Electron-Transfer': 2} for PWY0-1352\n",
      "pruned to ['Electron-Transfer', 'Electron-Transfer', 'Electron-Transfer', 'Electron-Transfer', 'Electron-Transfer', 'Electron-Transfer', 'Electron-Transfer']\n",
      "NUOH-MONOMER has 2nd parents {'Electron-Transfer': 2} for PWY0-1335\n",
      "NUOH-MONOMER has 2nd parents {'Electron-Transfer': 2} for PWY0-1590\n",
      "NUOH-MONOMER has 2nd parents {'Electron-Transfer': 2} for PWY0-1334\n",
      "NUOH-MONOMER has 2nd parents {'Electron-Transfer': 2} for PWY0-1348\n",
      "NUOH-MONOMER has 2nd parents {'Electron-Transfer': 2} for PWY0-1336\n",
      "NUOH-MONOMER has 2nd parents {'Electron-Transfer': 2} for PWY0-1347\n",
      "NUOH-MONOMER has 2nd parents {'Electron-Transfer': 2} for PWY0-1352\n",
      "pruned to ['Electron-Transfer', 'Electron-Transfer', 'Electron-Transfer', 'Electron-Transfer', 'Electron-Transfer', 'Electron-Transfer', 'Electron-Transfer']\n",
      "NUOI-MONOMER has 2nd parents {'Electron-Transfer': 2} for PWY0-1335\n",
      "NUOI-MONOMER has 2nd parents {'Electron-Transfer': 2} for PWY0-1590\n",
      "NUOI-MONOMER has 2nd parents {'Electron-Transfer': 2} for PWY0-1334\n",
      "NUOI-MONOMER has 2nd parents {'Electron-Transfer': 2} for PWY0-1348\n",
      "NUOI-MONOMER has 2nd parents {'Electron-Transfer': 2} for PWY0-1336\n",
      "NUOI-MONOMER has 2nd parents {'Electron-Transfer': 2} for PWY0-1347\n",
      "NUOI-MONOMER has 2nd parents {'Electron-Transfer': 2} for PWY0-1352\n",
      "pruned to ['Electron-Transfer', 'Electron-Transfer', 'Electron-Transfer', 'Electron-Transfer', 'Electron-Transfer', 'Electron-Transfer', 'Electron-Transfer']\n",
      "NUOJ-MONOMER has 2nd parents {'Electron-Transfer': 2} for PWY0-1335\n",
      "NUOJ-MONOMER has 2nd parents {'Electron-Transfer': 2} for PWY0-1590\n",
      "NUOJ-MONOMER has 2nd parents {'Electron-Transfer': 2} for PWY0-1334\n",
      "NUOJ-MONOMER has 2nd parents {'Electron-Transfer': 2} for PWY0-1348\n",
      "NUOJ-MONOMER has 2nd parents {'Electron-Transfer': 2} for PWY0-1336\n",
      "NUOJ-MONOMER has 2nd parents {'Electron-Transfer': 2} for PWY0-1347\n",
      "NUOJ-MONOMER has 2nd parents {'Electron-Transfer': 2} for PWY0-1352\n",
      "pruned to ['Electron-Transfer', 'Electron-Transfer', 'Electron-Transfer', 'Electron-Transfer', 'Electron-Transfer', 'Electron-Transfer', 'Electron-Transfer']\n",
      "NUOK-MONOMER has 2nd parents {'Electron-Transfer': 2} for PWY0-1335\n",
      "NUOK-MONOMER has 2nd parents {'Electron-Transfer': 2} for PWY0-1590\n",
      "NUOK-MONOMER has 2nd parents {'Electron-Transfer': 2} for PWY0-1334\n",
      "NUOK-MONOMER has 2nd parents {'Electron-Transfer': 2} for PWY0-1348\n",
      "NUOK-MONOMER has 2nd parents {'Electron-Transfer': 2} for PWY0-1336\n",
      "NUOK-MONOMER has 2nd parents {'Electron-Transfer': 2} for PWY0-1347\n",
      "NUOK-MONOMER has 2nd parents {'Electron-Transfer': 2} for PWY0-1352\n",
      "pruned to ['Electron-Transfer', 'Electron-Transfer', 'Electron-Transfer', 'Electron-Transfer', 'Electron-Transfer', 'Electron-Transfer', 'Electron-Transfer']\n",
      "NUOL-MONOMER has 2nd parents {'Electron-Transfer': 2} for PWY0-1335\n",
      "NUOL-MONOMER has 2nd parents {'Electron-Transfer': 2} for PWY0-1590\n",
      "NUOL-MONOMER has 2nd parents {'Electron-Transfer': 2} for PWY0-1334\n",
      "NUOL-MONOMER has 2nd parents {'Electron-Transfer': 2} for PWY0-1348\n",
      "NUOL-MONOMER has 2nd parents {'Electron-Transfer': 2} for PWY0-1336\n",
      "NUOL-MONOMER has 2nd parents {'Electron-Transfer': 2} for PWY0-1347\n",
      "NUOL-MONOMER has 2nd parents {'Electron-Transfer': 2} for PWY0-1352\n",
      "pruned to ['Electron-Transfer', 'Electron-Transfer', 'Electron-Transfer', 'Electron-Transfer', 'Electron-Transfer', 'Electron-Transfer', 'Electron-Transfer']\n",
      "NUOM-MONOMER has 2nd parents {'Electron-Transfer': 2} for PWY0-1335\n",
      "NUOM-MONOMER has 2nd parents {'Electron-Transfer': 2} for PWY0-1590\n",
      "NUOM-MONOMER has 2nd parents {'Electron-Transfer': 2} for PWY0-1334\n",
      "NUOM-MONOMER has 2nd parents {'Electron-Transfer': 2} for PWY0-1348\n",
      "NUOM-MONOMER has 2nd parents {'Electron-Transfer': 2} for PWY0-1336\n",
      "NUOM-MONOMER has 2nd parents {'Electron-Transfer': 2} for PWY0-1347\n",
      "NUOM-MONOMER has 2nd parents {'Electron-Transfer': 2} for PWY0-1352\n",
      "pruned to ['Electron-Transfer', 'Electron-Transfer', 'Electron-Transfer', 'Electron-Transfer', 'Electron-Transfer', 'Electron-Transfer', 'Electron-Transfer']\n",
      "NUON-MONOMER has 2nd parents {'Electron-Transfer': 2} for PWY0-1335\n",
      "NUON-MONOMER has 2nd parents {'Electron-Transfer': 2} for PWY0-1590\n",
      "NUON-MONOMER has 2nd parents {'Electron-Transfer': 2} for PWY0-1334\n",
      "NUON-MONOMER has 2nd parents {'Electron-Transfer': 2} for PWY0-1348\n",
      "NUON-MONOMER has 2nd parents {'Electron-Transfer': 2} for PWY0-1336\n",
      "NUON-MONOMER has 2nd parents {'Electron-Transfer': 2} for PWY0-1347\n",
      "NUON-MONOMER has 2nd parents {'Electron-Transfer': 2} for PWY0-1352\n",
      "pruned to ['Electron-Transfer', 'Electron-Transfer', 'Electron-Transfer', 'Electron-Transfer', 'Electron-Transfer', 'Electron-Transfer', 'Electron-Transfer']\n",
      "PABASYN-COMPI-MONOMER has 2nd parents {'AROMATIC-COMPOUNDS-BIOSYN': 2} for PWY-6543\n",
      "PABASYN-COMPI-MONOMER has 2nd parents {'Amino-Acid-Biosynthesis': 2} for GLUTSYN-PWY\n",
      "PABASYN-COMPI-MONOMER has 2nd parents {'Amino-Acid-Degradation': 2} for GLUTAMINDEG-PWY\n",
      "PABASYN-COMPI-MONOMER has 2nd parents {'Noncarbon-Nutrients': 2} for AMMASSIM-PWY\n",
      "pruned to ['AROMATIC-COMPOUNDS-BIOSYN', 'Amino-Acid-Biosynthesis', 'Amino-Acid-Degradation', 'Noncarbon-Nutrients']\n",
      "PABASYN-COMPII-MONOMER has 2nd parents {'AROMATIC-COMPOUNDS-BIOSYN': 2} for PWY-6543\n",
      "PABASYN-COMPII-MONOMER has 2nd parents {'Amino-Acid-Biosynthesis': 2} for GLUTSYN-PWY\n",
      "PABASYN-COMPII-MONOMER has 2nd parents {'Amino-Acid-Degradation': 2} for GLUTAMINDEG-PWY\n",
      "PABASYN-COMPII-MONOMER has 2nd parents {'Noncarbon-Nutrients': 2} for AMMASSIM-PWY\n",
      "pruned to ['AROMATIC-COMPOUNDS-BIOSYN', 'Amino-Acid-Biosynthesis', 'Amino-Acid-Degradation', 'Noncarbon-Nutrients']\n",
      "PDXH-MONOMER has 2nd parents {'Cofactor-Biosynthesis': 2} for PYRIDOXSYN-PWY\n",
      "PDXH-MONOMER has 2nd parents {'Cofactor-Biosynthesis': 2} for PLPSAL-PWY\n",
      "pruned to ['Cofactor-Biosynthesis', 'Cofactor-Biosynthesis']\n",
      "PDXK-MONOMER has 2nd parents {'Cofactor-Biosynthesis': 2} for PWY-6910\n",
      "PDXK-MONOMER has 2nd parents {'Cofactor-Biosynthesis': 2} for PLPSAL-PWY\n",
      "pruned to ['Cofactor-Biosynthesis', 'Cofactor-Biosynthesis']\n",
      "PEPSYNTH-MONOMER has 2nd parents {'GLYCOLYSIS-VARIANTS': 2} for GLYCOLYSIS\n",
      "PEPSYNTH-MONOMER has 2nd parents {'GLYCOLYSIS-VARIANTS': 2} for PWY-5484\n",
      "PEPSYNTH-MONOMER has 2nd parents {'Carbohydrates-Biosynthesis': 2} for GLUCONEO-PWY\n",
      "pruned to ['GLYCOLYSIS-VARIANTS', 'GLYCOLYSIS-VARIANTS', 'Carbohydrates-Biosynthesis']\n",
      "PGK has 2nd parents {'GLYCOLYSIS-VARIANTS': 2} for GLYCOLYSIS\n",
      "PGK has 2nd parents {'GLYCOLYSIS-VARIANTS': 2} for PWY-5484\n",
      "PGK has 2nd parents {'Carbohydrates-Biosynthesis': 2} for GLUCONEO-PWY\n",
      "pruned to ['GLYCOLYSIS-VARIANTS', 'GLYCOLYSIS-VARIANTS', 'Carbohydrates-Biosynthesis']\n",
      "PGLUCISOM has 2nd parents {'GLYCOLYSIS-VARIANTS': 2} for GLYCOLYSIS\n",
      "PGLUCISOM has 2nd parents {'Carbohydrates-Biosynthesis': 2} for GLUCONEO-PWY\n",
      "PGLUCISOM has 2nd parents {'Carbohydrates-Biosynthesis': 2} for UDPNAGSYN-PWY\n",
      "PGLUCISOM has 2nd parents {'Carbohydrates-Biosynthesis': 2} for PWY-5659\n",
      "pruned to ['GLYCOLYSIS-VARIANTS', 'Carbohydrates-Biosynthesis', 'Carbohydrates-Biosynthesis', 'Carbohydrates-Biosynthesis']\n",
      "PGMI-MONOMER has 2nd parents {'GLYCOLYSIS-VARIANTS': 2} for GLYCOLYSIS\n",
      "PGMI-MONOMER has 2nd parents {'GLYCOLYSIS-VARIANTS': 2} for PWY-5484\n",
      "PGMI-MONOMER has 2nd parents {'Carbohydrates-Biosynthesis': 2} for GLUCONEO-PWY\n",
      "pruned to ['GLYCOLYSIS-VARIANTS', 'GLYCOLYSIS-VARIANTS', 'Carbohydrates-Biosynthesis']\n",
      "PGPPHOSPHAA-MONOMER has 2nd parents {'Lipid-Biosynthesis': 2} for PWY0-1545\n",
      "PGPPHOSPHAA-MONOMER has 2nd parents {'Lipid-Biosynthesis': 2} for PWY-5668\n",
      "pruned to ['Lipid-Biosynthesis', 'Lipid-Biosynthesis']\n",
      "PGPPHOSPHAB-MONOMER has 2nd parents {'Cofactor-Biosynthesis': 2} for PWY-5785\n",
      "PGPPHOSPHAB-MONOMER has 2nd parents {'Lipid-Biosynthesis': 2} for PWY0-1545\n",
      "PGPPHOSPHAB-MONOMER has 2nd parents {'Lipid-Biosynthesis': 2} for PWY-5668\n",
      "pruned to ['Cofactor-Biosynthesis', 'Lipid-Biosynthesis', 'Lipid-Biosynthesis']\n",
      "PHENPRODIOLDEHYDROG-MONOMER has 2nd parents {'AROMATIC-COMPOUNDS-DEGRADATION': 2} for PWY-6690\n",
      "PHENPRODIOLDEHYDROG-MONOMER has 2nd parents {'AROMATIC-COMPOUNDS-DEGRADATION': 2} for HCAMHPDEG-PWY\n",
      "pruned to ['AROMATIC-COMPOUNDS-DEGRADATION', 'AROMATIC-COMPOUNDS-DEGRADATION']\n",
      "PHENYLPRODIOXY-MONOMER has 2nd parents {'AROMATIC-COMPOUNDS-DEGRADATION': 2} for PWY-6690\n",
      "PHENYLPRODIOXY-MONOMER has 2nd parents {'AROMATIC-COMPOUNDS-DEGRADATION': 2} for HCAMHPDEG-PWY\n",
      "pruned to ['AROMATIC-COMPOUNDS-DEGRADATION', 'AROMATIC-COMPOUNDS-DEGRADATION']\n",
      "PHOSACETYLTRANS-MONOMER has 2nd parents {'PWY-5485': 2} for PWY-5485\n",
      "PHOSACETYLTRANS-MONOMER has 2nd parents {'Fermentation': 2} for PWY0-1312\n",
      "PHOSACETYLTRANS-MONOMER has 2nd parents {'FERMENTATION-PWY': 2} for FERMENTATION-PWY\n",
      "PHOSACETYLTRANS-MONOMER has 2nd parents {'Fermentation': 2} for PWY-5437\n",
      "PHOSACETYLTRANS-MONOMER has 2nd parents {'AMINE-DEG': 2} for PWY0-1477\n",
      "pruned to ['N/A', 'Fermentation', 'N/A', 'Fermentation', 'AMINE-DEG']\n",
      "PHOSGLUCOSAMINEMUT-MONOMER has 2nd parents {'Carbohydrates-Biosynthesis': 2} for UDPNAGSYN-PWY\n",
      "PHOSGLUCOSAMINEMUT-MONOMER has 2nd parents {'Other-Degradation': 2} for PWY0-1261\n",
      "pruned to ['Carbohydrates-Biosynthesis', 'Other-Degradation']\n",
      "PHOSPHAGLYPSYN-MONOMER has 2nd parents {'Lipid-Biosynthesis': 2} for PWY0-1545\n",
      "PHOSPHAGLYPSYN-MONOMER has 2nd parents {'Lipid-Biosynthesis': 2} for PWY-5668\n",
      "pruned to ['Lipid-Biosynthesis', 'Lipid-Biosynthesis']\n",
      "PHOSPHOGLUCMUT-MONOMER has 2nd parents {'Carbohydrates-Biosynthesis': 2} for PWY-7343\n",
      "PHOSPHOGLUCMUT-MONOMER has 2nd parents {'Carbohydrates-Biosynthesis': 2} for DTDPRHAMSYN-PWY\n",
      "PHOSPHOGLUCMUT-MONOMER has 2nd parents {'Polysaccharides-Biosynthesis': 2, 'Carbohydrates-Biosynthesis': 2} for GLYCOGENSYNTH-PWY\n",
      "PHOSPHOGLUCMUT-MONOMER has 2nd parents {'GLYCOCAT-PWY': 2, 'Polymer-Degradation': 2} for GLYCOCAT-PWY\n",
      "PHOSPHOGLUCMUT-MONOMER has 2nd parents {'Carbohydrates-Degradation': 2} for GLUCOSE1PMETAB-PWY\n",
      "pruned to ['Carbohydrates-Biosynthesis', 'Carbohydrates-Biosynthesis', 'Polysaccharides-Biosynthesis', 'GLYCOCAT-PWY', 'Carbohydrates-Degradation']\n",
      "PKI-MONOMER has 2nd parents {'FERMENTATION-PWY': 2} for FERMENTATION-PWY\n",
      "PKI-MONOMER has 2nd parents {'GLYCOLYSIS-VARIANTS': 2} for GLYCOLYSIS\n",
      "PKI-MONOMER has 2nd parents {'GLYCOLYSIS-VARIANTS': 2} for PWY-5484\n",
      "pruned to ['N/A', 'GLYCOLYSIS-VARIANTS', 'GLYCOLYSIS-VARIANTS']\n",
      "PKII-MONOMER has 2nd parents {'FERMENTATION-PWY': 2} for FERMENTATION-PWY\n",
      "PKII-MONOMER has 2nd parents {'GLYCOLYSIS-VARIANTS': 2} for GLYCOLYSIS\n",
      "PKII-MONOMER has 2nd parents {'GLYCOLYSIS-VARIANTS': 2} for PWY-5484\n",
      "pruned to ['N/A', 'GLYCOLYSIS-VARIANTS', 'GLYCOLYSIS-VARIANTS']\n",
      "PPENTOMUT-MONOMER has 2nd parents {'Carbohydrates-Degradation': 2} for PWY-7180\n",
      "PPENTOMUT-MONOMER has 2nd parents {'NUCLEO-DEG': 2} for PWY0-1296\n",
      "PPENTOMUT-MONOMER has 2nd parents {'NUCLEO-DEG': 2} for PWY0-1295\n",
      "pruned to ['Carbohydrates-Degradation', 'NUCLEO-DEG', 'NUCLEO-DEG']\n",
      "PROTEIN-CHEA has 2nd parents {'PWY0-1518': 2} for PWY0-1518\n",
      "PROTEIN-CHEA has 2nd parents {'PWY0-1519': 2} for PWY0-1519\n",
      "pruned to ['PWY0-1518', 'PWY0-1519']\n",
      "PROTOHEME-FERROCHELAT-MONOMER has 2nd parents {'Cofactor-Biosynthesis': 2} for HEMESYN2-PWY\n",
      "PROTOHEME-FERROCHELAT-MONOMER has 2nd parents {'Cofactor-Biosynthesis': 2} for HEME-BIOSYNTHESIS-II-1\n",
      "pruned to ['Cofactor-Biosynthesis', 'Cofactor-Biosynthesis']\n",
      "PROTOPORGENOXI-MONOMER has 2nd parents {'Cofactor-Biosynthesis': 2} for HEMESYN2-PWY\n",
      "PROTOPORGENOXI-MONOMER has 2nd parents {'Cofactor-Biosynthesis': 2} for HEME-BIOSYNTHESIS-II-1\n",
      "pruned to ['Cofactor-Biosynthesis', 'Cofactor-Biosynthesis']\n",
      "PRPPAMIDOTRANS-MONOMER has 2nd parents {'PWY-6277': 2} for PWY-6277\n",
      "PRPPAMIDOTRANS-MONOMER has 2nd parents {'Nucleotide-Biosynthesis': 2} for PWY-6122\n",
      "PRPPAMIDOTRANS-MONOMER has 2nd parents {'Nucleotide-Biosynthesis': 2} for PWY-6121\n",
      "pruned to ['N/A', 'Nucleotide-Biosynthesis', 'Nucleotide-Biosynthesis']\n",
      "PSERTRANSAM-MONOMER has 2nd parents {'Cofactor-Biosynthesis': 2} for PYRIDOXSYN-PWY\n",
      "PSERTRANSAM-MONOMER has 2nd parents {'Amino-Acid-Biosynthesis': 2} for DAPLYSINESYN-PWY\n",
      "PSERTRANSAM-MONOMER has 2nd parents {'Amino-Acid-Biosynthesis': 2} for SERSYN-PWY-1\n",
      "pruned to ['Cofactor-Biosynthesis', 'Amino-Acid-Biosynthesis', 'Amino-Acid-Biosynthesis']\n",
      "PUTA-MONOMER has 2nd parents {'Electron-Transfer': 2} for PWY0-1544\n",
      "PUTA-MONOMER has 2nd parents {'Amino-Acid-Degradation': 2} for PROUT-PWY-I\n",
      "pruned to ['Electron-Transfer', 'Amino-Acid-Degradation']\n",
      "PYRUVFORMLY-MONOMER has 2nd parents {'PWY-5485': 2} for PWY-5485\n",
      "PYRUVFORMLY-MONOMER has 2nd parents {'FERMENTATION-PWY': 2} for FERMENTATION-PWY\n",
      "PYRUVFORMLY-MONOMER has 2nd parents {'Fermentation': 2} for PWY-5480\n",
      "PYRUVFORMLY-MONOMER has 2nd parents {'Fermentation': 2} for PWY-5437\n",
      "pruned to ['N/A', 'N/A', 'Fermentation', 'Fermentation']\n",
      "PYRUVOXID-MONOMER has 2nd parents {'Electron-Transfer': 2} for PWY-7544\n",
      "PYRUVOXID-MONOMER has 2nd parents {'Electron-Transfer': 2} for PWY-7545\n",
      "pruned to ['Electron-Transfer', 'Electron-Transfer']\n",
      "RED-GLUTAREDOXIN has 2nd parents {'Amino-Acid-Biosynthesis': 2} for PWY-7870\n",
      "RED-GLUTAREDOXIN has 2nd parents {'Other-biosynthesis': 2} for GLUT-REDOX-PWY\n",
      "RED-GLUTAREDOXIN has 2nd parents {'Arsenic-Detoxification': 2} for PWY-4621-1\n",
      "pruned to ['Amino-Acid-Biosynthesis', 'Other-biosynthesis', 'Arsenic-Detoxification']\n",
      "RED-THIOREDOXIN-MONOMER has 2nd parents {'PWY-7184': 2, 'Nucleotide-Biosynthesis': 2} for PWY-7184\n",
      "RED-THIOREDOXIN-MONOMER has 2nd parents {'Cofactor-Biosynthesis': 2} for PWY-8147\n",
      "RED-THIOREDOXIN-MONOMER has 2nd parents {'Nucleotide-Biosynthesis': 2} for PWY-7222\n",
      "RED-THIOREDOXIN-MONOMER has 2nd parents {'Nucleotide-Biosynthesis': 2} for PWY-7220\n",
      "RED-THIOREDOXIN-MONOMER has 2nd parents {'PWY0-166': 2} for PWY0-166\n",
      "RED-THIOREDOXIN-MONOMER has 2nd parents {'Other-biosynthesis': 2} for THIOREDOX-PWY\n",
      "RED-THIOREDOXIN-MONOMER has 2nd parents {'Noncarbon-Nutrients': 2} for PWY-5329\n",
      "RED-THIOREDOXIN-MONOMER has 2nd parents {'SO4ASSIM-PWY': 2} for SO4ASSIM-PWY\n",
      "RED-THIOREDOXIN-MONOMER has 2nd parents {'Protein-Modification': 2} for PWY0-1600\n",
      "pruned to ['PWY-7184', 'Cofactor-Biosynthesis', 'Nucleotide-Biosynthesis', 'Nucleotide-Biosynthesis', 'N/A', 'Other-biosynthesis', 'Noncarbon-Nutrients', 'N/A', 'Protein-Modification']\n",
      "RED-THIOREDOXIN2-MONOMER has 2nd parents {'PWY-7184': 2, 'Nucleotide-Biosynthesis': 2} for PWY-7184\n",
      "RED-THIOREDOXIN2-MONOMER has 2nd parents {'Cofactor-Biosynthesis': 2} for PWY-8147\n",
      "RED-THIOREDOXIN2-MONOMER has 2nd parents {'Nucleotide-Biosynthesis': 2} for PWY-7222\n",
      "RED-THIOREDOXIN2-MONOMER has 2nd parents {'Nucleotide-Biosynthesis': 2} for PWY-7220\n",
      "RED-THIOREDOXIN2-MONOMER has 2nd parents {'PWY0-166': 2} for PWY0-166\n",
      "RED-THIOREDOXIN2-MONOMER has 2nd parents {'Other-biosynthesis': 2} for THIOREDOX-PWY\n",
      "RED-THIOREDOXIN2-MONOMER has 2nd parents {'Noncarbon-Nutrients': 2} for PWY-5329\n",
      "RED-THIOREDOXIN2-MONOMER has 2nd parents {'SO4ASSIM-PWY': 2} for SO4ASSIM-PWY\n",
      "pruned to ['PWY-7184', 'Cofactor-Biosynthesis', 'Nucleotide-Biosynthesis', 'Nucleotide-Biosynthesis', 'N/A', 'Other-biosynthesis', 'Noncarbon-Nutrients', 'N/A']\n",
      "RHAMNISOM-MONOMER has 2nd parents {'Carbohydrates-Degradation': 2} for RHAMCAT-PWY\n",
      "RHAMNISOM-MONOMER has 2nd parents {'Carbohydrates-Degradation': 2} for LYXMET-PWY\n",
      "pruned to ['Carbohydrates-Degradation', 'Carbohydrates-Degradation']\n",
      "RIB5PISOMB-MONOMER has 2nd parents {'Pentose-Phosphate-Cycle': 2} for NONOXIPENT-PWY\n",
      "RIB5PISOMB-MONOMER has 2nd parents {'Carbohydrates-Degradation': 2} for PWY0-44\n",
      "pruned to ['Pentose-Phosphate-Cycle', 'Carbohydrates-Degradation']\n",
      "RIBAZOLEPHOSPHAT-MONOMER has 2nd parents {'Cofactor-Biosynthesis': 2} for PWY-5509\n",
      "RIBAZOLEPHOSPHAT-MONOMER has 2nd parents {'COBALSYN-PWY': 2} for COBALSYN-PWY\n",
      "pruned to ['Cofactor-Biosynthesis', 'N/A']\n",
      "RIBONUCLEOSIDE-TRIP-REDUCT-MONOMER has 2nd parents {'Nucleotide-Biosynthesis': 2} for PWY-7222\n",
      "RIBONUCLEOSIDE-TRIP-REDUCT-MONOMER has 2nd parents {'Nucleotide-Biosynthesis': 2} for PWY-7220\n",
      "RIBONUCLEOSIDE-TRIP-REDUCT-MONOMER has 2nd parents {'PWY0-166': 2} for PWY0-166\n",
      "RIBONUCLEOSIDE-TRIP-REDUCT-MONOMER has 2nd parents {'Nucleotide-Biosynthesis': 2} for PWY-7187\n",
      "pruned to ['Nucleotide-Biosynthesis', 'Nucleotide-Biosynthesis', 'N/A', 'Nucleotide-Biosynthesis']\n",
      "RIBULPEPIM-MONOMER has 2nd parents {'Carbohydrates-Degradation': 2} for ARABCAT-PWY\n",
      "RIBULPEPIM-MONOMER has 2nd parents {'Carbohydrates-Degradation': 2} for LYXMET-PWY\n",
      "pruned to ['Carbohydrates-Degradation', 'Carbohydrates-Degradation']\n",
      "S-ADENMETSYN-MONOMER has 2nd parents {'Cofactor-Biosynthesis': 2} for PWY-6151\n",
      "S-ADENMETSYN-MONOMER has 2nd parents {'Cofactor-Biosynthesis': 2} for SAM-PWY\n",
      "pruned to ['Cofactor-Biosynthesis', 'Cofactor-Biosynthesis']\n",
      "SDH-FE-S has 2nd parents {'TCA-VARIANTS': 2} for TCA\n",
      "SDH-FE-S has 2nd parents {'Electron-Transfer': 2} for PWY0-1329\n",
      "SDH-FE-S has 2nd parents {'Electron-Transfer': 2} for PWY0-1353\n",
      "pruned to ['TCA-VARIANTS', 'Electron-Transfer', 'Electron-Transfer']\n",
      "SDH-FLAVO has 2nd parents {'TCA-VARIANTS': 2} for TCA\n",
      "SDH-FLAVO has 2nd parents {'Electron-Transfer': 2} for PWY0-1329\n",
      "SDH-FLAVO has 2nd parents {'Electron-Transfer': 2} for PWY0-1353\n",
      "pruned to ['TCA-VARIANTS', 'Electron-Transfer', 'Electron-Transfer']\n",
      "SDH-MEMB1 has 2nd parents {'TCA-VARIANTS': 2} for TCA\n",
      "SDH-MEMB1 has 2nd parents {'Electron-Transfer': 2} for PWY0-1329\n",
      "SDH-MEMB1 has 2nd parents {'Electron-Transfer': 2} for PWY0-1353\n",
      "pruned to ['TCA-VARIANTS', 'Electron-Transfer', 'Electron-Transfer']\n",
      "SDH-MEMB2 has 2nd parents {'TCA-VARIANTS': 2} for TCA\n",
      "SDH-MEMB2 has 2nd parents {'Electron-Transfer': 2} for PWY0-1329\n",
      "SDH-MEMB2 has 2nd parents {'Electron-Transfer': 2} for PWY0-1353\n",
      "pruned to ['TCA-VARIANTS', 'Electron-Transfer', 'Electron-Transfer']\n",
      "SERINE-O-ACETTRAN-MONOMER has 2nd parents {'Amino-Acid-Biosynthesis': 2} for PWY-7870\n",
      "SERINE-O-ACETTRAN-MONOMER has 2nd parents {'Amino-Acid-Biosynthesis': 2} for CYSTSYN-PWY\n",
      "pruned to ['Amino-Acid-Biosynthesis', 'Amino-Acid-Biosynthesis']\n",
      "SERS-MONOMER has 2nd parents {'TRNA-CHARGING-PWY': 2, 'Aminoacyl-tRNAs-Charging': 2} for TRNA-CHARGING-PWY\n",
      "SERS-MONOMER has 2nd parents {'ENTBACSYN-PWY': 2} for ENTBACSYN-PWY\n",
      "SERS-MONOMER has 2nd parents {'Amino-Acid-Biosynthesis': 2} for PWY0-901\n",
      "pruned to ['TRNA-CHARGING-PWY', 'N/A', 'Amino-Acid-Biosynthesis']\n",
      "SMALLILVM-MONOMER has 2nd parents {'Amino-Acid-Biosynthesis': 2} for VALSYN-PWY\n",
      "SMALLILVM-MONOMER has 2nd parents {'Amino-Acid-Biosynthesis': 2} for ILEUSYN-PWY\n",
      "pruned to ['Amino-Acid-Biosynthesis', 'Amino-Acid-Biosynthesis']\n",
      "SPED-MONOMER has 2nd parents {'Polyamine-Biosynthesis': 2} for BSUBPOLYAMSYN-PWY\n",
      "SPED-MONOMER has 2nd parents {'Polyamine-Biosynthesis': 2} for PWY0-1303\n",
      "pruned to ['Polyamine-Biosynthesis', 'Polyamine-Biosynthesis']\n",
      "SPERMIDINESYN-MONOMER has 2nd parents {'Polyamine-Biosynthesis': 2} for BSUBPOLYAMSYN-PWY\n",
      "SPERMIDINESYN-MONOMER has 2nd parents {'Polyamine-Biosynthesis': 2} for PWY0-1303\n",
      "pruned to ['Polyamine-Biosynthesis', 'Polyamine-Biosynthesis']\n",
      "SUCCSEMIALDDEHYDROG-MONOMER has 2nd parents {'Amino-Acid-Degradation': 2} for PWY0-461\n",
      "SUCCSEMIALDDEHYDROG-MONOMER has 2nd parents {'AMINE-DEG': 2} for PWY-6537\n",
      "pruned to ['Amino-Acid-Degradation', 'AMINE-DEG']\n",
      "THI-P-KIN-MONOMER has 2nd parents {'PWY-6897': 2} for PWY-6897\n",
      "THI-P-KIN-MONOMER has 2nd parents {'Cofactor-Biosynthesis': 2} for PWY-8457\n",
      "THI-P-KIN-MONOMER has 2nd parents {'Cofactor-Biosynthesis': 2} for PWY-6894\n",
      "pruned to ['N/A', 'Cofactor-Biosynthesis', 'Cofactor-Biosynthesis']\n",
      "THIE-MONOMER has 2nd parents {'PWY-6897': 2} for PWY-6897\n",
      "THIE-MONOMER has 2nd parents {'Cofactor-Biosynthesis': 2} for PWY-8457\n",
      "THIE-MONOMER has 2nd parents {'Cofactor-Biosynthesis': 2} for PWY-6894\n",
      "pruned to ['N/A', 'Cofactor-Biosynthesis', 'Cofactor-Biosynthesis']\n",
      "THIOESTERI-MONOMER has 2nd parents {'Lipid-Biosynthesis': 2} for PWY-6282\n",
      "THIOESTERI-MONOMER has 2nd parents {'Lipid-Biosynthesis': 2} for PWY-5973\n",
      "pruned to ['Lipid-Biosynthesis', 'Lipid-Biosynthesis']\n",
      "THIS-MONOMER has 2nd parents {'Cofactor-Biosynthesis': 2} for PWY-6892\n",
      "THIS-MONOMER has 2nd parents {'Cofactor-Biosynthesis': 2} for PWY0-1507\n",
      "THIS-MONOMER has 2nd parents {'Amino-Acid-Biosynthesis': 2} for PWY0-1021\n",
      "pruned to ['Cofactor-Biosynthesis', 'Cofactor-Biosynthesis', 'Amino-Acid-Biosynthesis']\n",
      "THREDEHYDCAT-MONOMER has 2nd parents {'Fermentation': 2} for PWY-5437\n",
      "THREDEHYDCAT-MONOMER has 2nd parents {'Amino-Acid-Degradation': 2} for PWY0-1608\n",
      "THREDEHYDCAT-MONOMER has 2nd parents {'Amino-Acid-Degradation': 2} for SERDEG-PWY\n",
      "pruned to ['Fermentation', 'Amino-Acid-Degradation', 'Amino-Acid-Degradation']\n",
      "THREODEHYD-MONOMER has 2nd parents {'Amino-Acid-Degradation': 2} for THREONINE-DEG2-PWY\n",
      "THREODEHYD-MONOMER has 2nd parents {'Amino-Acid-Degradation': 2} for THRDLCTCAT-PWY\n",
      "pruned to ['Amino-Acid-Degradation', 'Amino-Acid-Degradation']\n",
      "THRS-MONOMER has 2nd parents {'TRNA-CHARGING-PWY': 2, 'Aminoacyl-tRNAs-Charging': 2} for TRNA-CHARGING-PWY\n",
      "THRS-MONOMER has 2nd parents {'ENTBACSYN-PWY': 2} for ENTBACSYN-PWY\n",
      "pruned to ['TRNA-CHARGING-PWY', 'N/A']\n",
      "THYMIDYLATESYN-MONOMER has 2nd parents {'PWY-7184': 2, 'Nucleotide-Biosynthesis': 2} for PWY-7184\n",
      "THYMIDYLATESYN-MONOMER has 2nd parents {'Cofactor-Biosynthesis': 2} for 1CMET2-PWY\n",
      "THYMIDYLATESYN-MONOMER has 2nd parents {'PWY0-166': 2} for PWY0-166\n",
      "THYMIDYLATESYN-MONOMER has 2nd parents {'Nucleotide-Biosynthesis': 2} for PWY-7187\n",
      "pruned to ['PWY-7184', 'Cofactor-Biosynthesis', 'N/A', 'Nucleotide-Biosynthesis']\n",
      "THZ-KIN-MONOMER has 2nd parents {'Cofactor-Biosynthesis': 2} for PWY0-1597\n",
      "THZ-KIN-MONOMER has 2nd parents {'PWY-6897': 2} for PWY-6897\n",
      "THZ-KIN-MONOMER has 2nd parents {'Cofactor-Biosynthesis': 2} for PWY-8457\n",
      "pruned to ['Cofactor-Biosynthesis', 'N/A', 'Cofactor-Biosynthesis']\n",
      "TORA-MONOMER has 2nd parents {'Electron-Transfer': 2} for PWY0-1578\n",
      "TORA-MONOMER has 2nd parents {'Electron-Transfer': 2} for PWY0-1355\n",
      "TORA-MONOMER has 2nd parents {'Electron-Transfer': 2} for PWY0-1347\n",
      "pruned to ['Electron-Transfer', 'Electron-Transfer', 'Electron-Transfer']\n",
      "TPI-MONOMER has 2nd parents {'GLYCOLYSIS-VARIANTS': 2} for GLYCOLYSIS\n",
      "TPI-MONOMER has 2nd parents {'GLYCOLYSIS-VARIANTS': 2} for PWY-5484\n",
      "TPI-MONOMER has 2nd parents {'Carbohydrates-Biosynthesis': 2} for GLUCONEO-PWY\n",
      "pruned to ['GLYCOLYSIS-VARIANTS', 'GLYCOLYSIS-VARIANTS', 'Carbohydrates-Biosynthesis']\n",
      "TRYPTOPHAN-MONOMER has 2nd parents {'Amino-Acid-Degradation': 2} for LCYSDEG-PWY\n",
      "TRYPTOPHAN-MONOMER has 2nd parents {'Amino-Acid-Degradation': 2} for TRYPDEG-PWY\n",
      "pruned to ['Amino-Acid-Degradation', 'Amino-Acid-Degradation']\n",
      "TSA-REDUCT-MONOMER has 2nd parents {'CARBOXYLATES-DEG': 2} for GLYCOLATEMET-PWY\n",
      "TSA-REDUCT-MONOMER has 2nd parents {'CARBOXYLATES-DEG': 2} for GALACTARDEG-PWY\n",
      "TSA-REDUCT-MONOMER has 2nd parents {'CARBOXYLATES-DEG': 2} for GLUCARDEG-PWY\n",
      "pruned to ['CARBOXYLATES-DEG', 'CARBOXYLATES-DEG', 'CARBOXYLATES-DEG']\n",
      "TYRB-MONOMER has 2nd parents {'Amino-Acid-Biosynthesis': 2} for PHESYN\n",
      "TYRB-MONOMER has 2nd parents {'Amino-Acid-Biosynthesis': 2} for LEUSYN-PWY\n",
      "TYRB-MONOMER has 2nd parents {'Amino-Acid-Biosynthesis': 2} for TYRSYN\n",
      "pruned to ['Amino-Acid-Biosynthesis', 'Amino-Acid-Biosynthesis', 'Amino-Acid-Biosynthesis']\n",
      "UDK-MONOMER has 2nd parents {'Nucleotide-Biosynthesis': 2} for PWY-7193\n",
      "UDK-MONOMER has 2nd parents {'Nucleotide-Biosynthesis': 2} for PWY0-163\n",
      "pruned to ['Nucleotide-Biosynthesis', 'Nucleotide-Biosynthesis']\n",
      "UDPGLUCEPIM-MONOMER has 2nd parents {'Carbohydrates-Biosynthesis': 2} for PWY-7344\n",
      "UDPGLUCEPIM-MONOMER has 2nd parents {'Carbohydrates-Biosynthesis': 2} for GALACTMETAB-PWY\n",
      "UDPGLUCEPIM-MONOMER has 2nd parents {'COLANSYN-PWY': 2} for COLANSYN-PWY\n",
      "pruned to ['Carbohydrates-Biosynthesis', 'Carbohydrates-Biosynthesis', 'N/A']\n",
      "UDPNACETYLGLUCOSAMENOLPYRTRANS-MONOMER has 2nd parents {'Cell-Structure-Biosynthesis': 2} for PWY-6387\n",
      "UDPNACETYLGLUCOSAMENOLPYRTRANS-MONOMER has 2nd parents {'Other-Degradation': 2} for PWY0-1261\n",
      "pruned to ['Cell-Structure-Biosynthesis', 'Other-Degradation']\n",
      "UDPNACETYLMURAMATEDEHYDROG-MONOMER has 2nd parents {'Cell-Structure-Biosynthesis': 2} for PWY-6387\n",
      "UDPNACETYLMURAMATEDEHYDROG-MONOMER has 2nd parents {'Other-Degradation': 2} for PWY0-1261\n",
      "pruned to ['Cell-Structure-Biosynthesis', 'Other-Degradation']\n",
      "URACIL-PRIBOSYLTRANS-MONOMER has 2nd parents {'Nucleotide-Biosynthesis': 2} for PWY-7183\n",
      "URACIL-PRIBOSYLTRANS-MONOMER has 2nd parents {'Nucleotide-Biosynthesis': 2} for PWY0-163\n",
      "pruned to ['Nucleotide-Biosynthesis', 'Nucleotide-Biosynthesis']\n",
      "UROGENDECARBOX-MONOMER has 2nd parents {'Cofactor-Biosynthesis': 2} for HEMESYN2-PWY\n",
      "UROGENDECARBOX-MONOMER has 2nd parents {'Cofactor-Biosynthesis': 2} for HEME-BIOSYNTHESIS-II-1\n",
      "pruned to ['Cofactor-Biosynthesis', 'Cofactor-Biosynthesis']\n",
      "URPHOS-MONOMER has 2nd parents {'Nucleotide-Biosynthesis': 2} for PWY0-163\n",
      "URPHOS-MONOMER has 2nd parents {'NUCLEO-DEG': 2} for PWY0-1295\n",
      "pruned to ['Nucleotide-Biosynthesis', 'NUCLEO-DEG']\n",
      "UXAC-MONOMER has 2nd parents {'CARBOXYLATES-DEG': 2} for GALACTUROCAT-PWY\n",
      "UXAC-MONOMER has 2nd parents {'CARBOXYLATES-DEG': 2} for PWY-7247\n",
      "pruned to ['CARBOXYLATES-DEG', 'CARBOXYLATES-DEG']\n",
      "XANTHOSINEPHOSPHORY-MONOMER has 2nd parents {'Nucleotide-Biosynthesis': 2} for PWY-6609\n",
      "XANTHOSINEPHOSPHORY-MONOMER has 2nd parents {'Nucleotide-Biosynthesis': 2} for PWY-6620\n",
      "XANTHOSINEPHOSPHORY-MONOMER has 2nd parents {'Nucleotide-Biosynthesis': 2} for SALVPURINE2-PWY\n",
      "XANTHOSINEPHOSPHORY-MONOMER has 2nd parents {'NUCLEO-DEG': 2} for SALVADEHYPOX-PWY\n",
      "XANTHOSINEPHOSPHORY-MONOMER has 2nd parents {'NUCLEO-DEG': 2} for PWY-6608\n",
      "XANTHOSINEPHOSPHORY-MONOMER has 2nd parents {'NUCLEO-DEG': 2} for PWY0-1296\n",
      "pruned to ['Nucleotide-Biosynthesis', 'Nucleotide-Biosynthesis', 'Nucleotide-Biosynthesis', 'NUCLEO-DEG', 'NUCLEO-DEG', 'NUCLEO-DEG']\n"
     ]
    }
   ],
   "source": [
    "# if choice can be made, don't pick these.\n",
    "priority_list_second = ['SECONDARY-METABOLITE-BIOSYNTHESIS', 'Respiration']\n",
    "\n",
    "# create protein name to pathway mapping\n",
    "W = np.zeros((len(parsed_protein_df.index), len(parsed_pathway_df.index)))\n",
    "\n",
    "for i in range(len(parsed_protein_df.index)):\n",
    "\n",
    "    cur_pathways = parsed_protein_df.at[i, 'direct_annotations']\n",
    "\n",
    "    for pathway in cur_pathways:\n",
    "        pathway_idx = pathway_ids.index(pathway)\n",
    "        W[i, pathway_idx] = 1\n",
    "\n",
    "\n",
    "for i in range(len(parsed_protein_df.index)):\n",
    "\n",
    "    cur_protein_pathways_idxs = np.where(W[i, :] == 1)[0]\n",
    "    cur_protein = parsed_protein_df.at[i, 'id']\n",
    "\n",
    "    if len(cur_protein_pathways_idxs) < 2:\n",
    "        continue\n",
    "\n",
    "    else:\n",
    "\n",
    "        # for pathway_idx in cur_protein_pathways_idxs:\n",
    "\n",
    "        # get top level class of every pathway, and remove all but the first one of each class.\n",
    "\n",
    "        cur_protein_pathway_parents = list()\n",
    "        cur_protein_pathway_two_parents = list()\n",
    "\n",
    "        for pathway_idx in cur_protein_pathways_idxs:\n",
    "            top_parents = get_pathway_ith_level_parents(pathway_idx, pathway_matrix, pathway_ids, level_vector, level=1)\n",
    "            top_two_parents = get_pathway_ith_level_parents(pathway_idx, pathway_matrix, pathway_ids, level_vector, level=2)\n",
    "\n",
    "            print(f\"{cur_protein} has 2nd parents {top_two_parents} for {pathway_ids[pathway_idx]}\")\n",
    "\n",
    "            if len(top_parents) > 1:\n",
    "                print(f\"multiple parents {top_parents} for {pathway_ids[pathway_idx]} for {cur_protein}, should not happen.\")\n",
    "\n",
    "            if len(top_parents) == 1:\n",
    "                cur_protein_pathway_parents.append(list(top_parents.keys())[0])\n",
    "                cur_protein_pathway_two_parents.append(list(top_two_parents.keys())[0])\n",
    "            else:\n",
    "                # remove pathway with no parents\n",
    "                W[i, pathway_idx] = 0\n",
    "                cur_protein_pathway_parents.append('N/A')\n",
    "                cur_protein_pathway_two_parents.append('N/A')\n",
    "\n",
    "\n",
    "        # TODO - remove direct annotations with deprioritized parents\n",
    "        for priority in priority_list:\n",
    "            while priority in cur_protein_pathway_parents and len(np.where(W[i, :] == 1)[0]) > 1:\n",
    "                priority_index = cur_protein_pathway_parents.index(priority)\n",
    "                W[i, cur_protein_pathways_idxs[priority_index]] = 0\n",
    "                cur_protein_pathway_parents[priority_index] = 'N/A'\n",
    "\n",
    "        # same for 2nd level\n",
    "        for priority in priority_list_second:\n",
    "            while priority in cur_protein_pathway_two_parents and len(np.where(W[i, :] == 1)[0]) > 1:\n",
    "                priority_index = cur_protein_pathway_two_parents.index(priority)\n",
    "                W[i, cur_protein_pathways_idxs[priority_index]] = 0\n",
    "                cur_protein_pathway_two_parents[priority_index] = 'N/A'\n",
    "\n",
    "        new_protein_pathways_idxs = np.where(W[i, :] == 1)[0]\n",
    "\n",
    "        # for pathway_idx in cur_protein_pathways_idxs:\n",
    "\n",
    "        # get top level class of every pathway, and remove all but the first one of each class.\n",
    "\n",
    "        new_protein_pathway_parents = list()\n",
    "        new_protein_pathway_two_parents = list()\n",
    "\n",
    "        for pathway_idx in new_protein_pathways_idxs:\n",
    "            top_parents = get_pathway_ith_level_parents(pathway_idx, pathway_matrix, pathway_ids, level_vector, level=1)\n",
    "            top_two_parents = get_pathway_ith_level_parents(pathway_idx, pathway_matrix, pathway_ids, level_vector, level=2)\n",
    "\n",
    "            if len(top_parents) == 1:\n",
    "                new_protein_pathway_parents.append(list(top_parents.keys())[0])\n",
    "                new_protein_pathway_two_parents.append(list(top_two_parents.keys())[0])\n",
    "\n",
    "        print(f\"pruned to {cur_protein_pathway_two_parents}\")\n",
    "\n",
    "\n",
    "        # remove all N/A\n",
    "        # cur_protein_pathways_idxs = cur_protein_pathways_idxs[cur_protein_pathway_parents != 'N/A']\n",
    "\n",
    "        if len(np.unique(cur_protein_pathway_parents)) < 2:\n",
    "            continue\n"
   ],
   "metadata": {
    "collapsed": false,
    "ExecuteTime": {
     "end_time": "2024-02-26T23:21:55.049534Z",
     "start_time": "2024-02-26T23:21:54.906781Z"
    }
   }
  },
  {
   "cell_type": "code",
   "execution_count": 21,
   "outputs": [],
   "source": [
    "# create pathway to 2nd layer pathway mapping\n",
    "W2 = np.zeros((len(parsed_pathway_df.index), len(parsed_pathway_df.index)))\n",
    "\n",
    "for i in range(len(parsed_pathway_df.index)):\n",
    "\n",
    "    cur_pathway = parsed_pathway_df.at[i, 'id']\n",
    "    cur_pathway_idx = pathway_ids.index(cur_pathway)\n",
    "\n",
    "    # get 2nd level parents\n",
    "    cur_pathway_parents = get_pathway_ith_level_parents(cur_pathway_idx, pathway_matrix, pathway_ids, level_vector, level=2)\n",
    "\n",
    "    # if len(cur_pathway_parents) > 1:\n",
    "    #     print(f\"cur pathway {cur_pathway} has parents {cur_pathway_parents}\")\n",
    "\n",
    "    for parent in cur_pathway_parents:\n",
    "        parent_idx = pathway_ids.index(parent)\n",
    "        W2[i, parent_idx] = 1\n",
    "\n",
    "# zero diagonal (don't return self, since some pathways return themselves as level 2 parents)\n",
    "np.fill_diagonal(W2[0:(W2.shape[0] - len(go_collection)), 0:(W2.shape[0] - len(go_collection))], 0)\n",
    "\n",
    "\n",
    "W1 = np.zeros((len(parsed_pathway_df.index), len(parsed_pathway_df.index)))\n",
    "\n",
    "for i in range(len(parsed_pathway_df.index)):\n",
    "\n",
    "    if parsed_pathway_df.at[i, 'level'] <= 2:\n",
    "        cur_pathway = parsed_pathway_df.at[i, 'id']\n",
    "        cur_pathway_idx = pathway_ids.index(cur_pathway)\n",
    "\n",
    "        # get 2nd level parents\n",
    "        cur_pathway_parents = get_pathway_ith_level_parents(cur_pathway_idx, pathway_matrix, pathway_ids, level_vector, level=1)\n",
    "\n",
    "        for parent in cur_pathway_parents:\n",
    "            parent_idx = pathway_ids.index(parent)\n",
    "            W1[i, parent_idx] = 1\n",
    "\n",
    "np.fill_diagonal(W1, 0)\n",
    "\n"
   ],
   "metadata": {
    "collapsed": false,
    "ExecuteTime": {
     "end_time": "2024-02-26T23:21:55.120790Z",
     "start_time": "2024-02-26T23:21:55.030759Z"
    }
   }
  },
  {
   "cell_type": "code",
   "execution_count": 22,
   "outputs": [
    {
     "name": "stdout",
     "output_type": "stream",
     "text": [
      "component_name: EG10893-MONOMER, component_count: 2, component_index: 697\n",
      "component_name: RPOC-MONOMER, component_count: 1, component_index: 4122\n",
      "component_name: RPOB-MONOMER, component_count: 1, component_index: 4121\n"
     ]
    }
   ],
   "source": [
    "# C matrix transforms complexes + monomers to just monomers.\n",
    "\n",
    "# create protein name to index mapping\n",
    "protein_name_to_index = {}\n",
    "for i in range(len(parsed_protein_df.index)):\n",
    "    protein_name_to_index[parsed_protein_df.at[i, 'id']] = i\n",
    "\n",
    "# C matrix: complexes x proteins\n",
    "C = np.zeros((len(parsed_complex_df.index), len(parsed_protein_df.index)))\n",
    "\n",
    "for i in range(len(parsed_complex_df.index)):\n",
    "\n",
    "    complex_components = parsed_complex_df.loc[i, 'monomer_component_stoichiometry']\n",
    "\n",
    "    # TODO consider cofactors\n",
    "    # complex_cofactors = filter_complex_df.loc[i, 'cofactors']\n",
    "\n",
    "\n",
    "    for component_name, component_count in complex_components.items():\n",
    "        if component_count is not None:             # side effect of parquet\n",
    "            # get index of component in filter_protein_df\n",
    "            component_index = protein_name_to_index[component_name]\n",
    "\n",
    "            if parsed_complex_df.at[i, 'id'] == 'APORNAP-CPLX':\n",
    "                print(f'component_name: {component_name}, component_count: {component_count}, component_index: {component_index}')\n",
    "\n",
    "            C[i, component_index] = component_count\n",
    "\n",
    "# append an identity matrix to C\n",
    "C = np.concatenate((C, np.identity(len(parsed_protein_df.index))), axis=0)\n",
    "\n",
    "C_names = list(parsed_complex_df['id']) + list(parsed_protein_df['id'])"
   ],
   "metadata": {
    "collapsed": false,
    "ExecuteTime": {
     "end_time": "2024-02-26T23:21:55.135652Z",
     "start_time": "2024-02-26T23:21:55.086422Z"
    }
   }
  },
  {
   "cell_type": "code",
   "execution_count": 23,
   "outputs": [],
   "source": [
    "# P matrix transforms proteins to their respective cofactor counts.\n",
    "\n",
    "# create cofactor name to index mapping\n",
    "cofactor_name_to_index = {}\n",
    "for i in range(len(parsed_cofactor_df.index)):\n",
    "    cofactor_name_to_index[parsed_cofactor_df.at[i, 'id']] = i\n",
    "\n",
    "cofactor_ids = list(parsed_cofactor_df['id'])\n",
    "\n",
    "# P matrix: proteins x cofactors\n",
    "P = np.zeros((len(parsed_protein_df.index), len(parsed_cofactor_df.index)))\n",
    "\n",
    "for i in range(len(parsed_protein_df.index)):\n",
    "    protein_metals = parsed_protein_df.loc[i, 'metal_features_processed']\n",
    "    protein_other = parsed_protein_df.loc[i, 'other_features_processed']\n",
    "\n",
    "    for metal, count in protein_metals.items():\n",
    "        if count is not None:             # side effect of parquet\n",
    "            cofactor_index = cofactor_name_to_index[metal]\n",
    "            P[i, cofactor_index] = count\n",
    "\n",
    "    for other, count in protein_other.items():\n",
    "        if count is not None:             # side effect of parquet\n",
    "            cofactor_index = cofactor_name_to_index[other]\n",
    "            P[i, cofactor_index] = count\n"
   ],
   "metadata": {
    "collapsed": false,
    "ExecuteTime": {
     "end_time": "2024-02-26T23:21:55.180890Z",
     "start_time": "2024-02-26T23:21:55.177845Z"
    }
   }
  },
  {
   "cell_type": "code",
   "execution_count": 24,
   "outputs": [],
   "source": [
    "# E matrix transforms cofactors to their respective elemental composition\n",
    "\n",
    "# create list of unique elements\n",
    "unique_elements = set()\n",
    "for i in range(len(parsed_cofactor_df.index)):\n",
    "    cofactor = parsed_cofactor_df.at[i, 'elemental_composition']\n",
    "    unique_elements.update(cofactor.keys())\n",
    "\n",
    "unique_elements = list(unique_elements)\n",
    "\n",
    "# create E matrix: cofactors x elements\n",
    "E = np.zeros((len(parsed_cofactor_df.index), len(unique_elements)))\n",
    "\n",
    "for i in range(len(parsed_cofactor_df.index)):\n",
    "    cofactor = parsed_cofactor_df.at[i, 'elemental_composition']\n",
    "\n",
    "    for element, count in cofactor.items():\n",
    "        if count is not None:             # side effect of parquet\n",
    "            element_index = unique_elements.index(element)\n",
    "            E[i, element_index] = count\n",
    "\n",
    "\n",
    "element_ids = unique_elements"
   ],
   "metadata": {
    "collapsed": false,
    "ExecuteTime": {
     "end_time": "2024-02-26T23:21:55.194197Z",
     "start_time": "2024-02-26T23:21:55.182050Z"
    }
   }
  },
  {
   "cell_type": "code",
   "execution_count": 25,
   "outputs": [],
   "source": [
    "# A matrix transforms proteins to their amino acid composition\n",
    "\n",
    "A = np.zeros((len(parsed_protein_df.index), len(unique_aa)))\n",
    "\n",
    "amino_acid_single_letter = list(unique_aa)\n",
    "amino_acid_ids = [AMINO_ACID_MAP[aa] for aa in amino_acid_single_letter]\n",
    "\n",
    "for i in range(len(parsed_protein_df.index)):\n",
    "    protein = parsed_protein_df.at[i, 'sequence_processed']\n",
    "\n",
    "    if type(protein) is not dict:\n",
    "        continue\n",
    "\n",
    "    for aa, count in protein.items():\n",
    "        if count is not None:             # side effect of parquet\n",
    "            aa_index = amino_acid_single_letter.index(aa)\n",
    "            A[i, aa_index] = count"
   ],
   "metadata": {
    "collapsed": false,
    "ExecuteTime": {
     "end_time": "2024-02-26T23:21:55.227217Z",
     "start_time": "2024-02-26T23:21:55.221335Z"
    }
   }
  },
  {
   "cell_type": "markdown",
   "source": [
    "# Now ... add the counts >:o"
   ],
   "metadata": {
    "collapsed": false
   }
  },
  {
   "cell_type": "code",
   "execution_count": 26,
   "outputs": [],
   "source": [
    "time = '2500'\n",
    "date = '2024-02-17'\n",
    "experiment = 'metabolism-redux-classic-minimal'\n",
    "entry = f'{experiment}_{time}_{date}'\n",
    "folder = f'out/cofactors/{entry}/'"
   ],
   "metadata": {
    "collapsed": false,
    "ExecuteTime": {
     "end_time": "2024-02-26T23:21:55.227528Z",
     "start_time": "2024-02-26T23:21:55.223981Z"
    }
   }
  },
  {
   "cell_type": "code",
   "execution_count": 27,
   "outputs": [],
   "source": [
    "output_all = np.load(folder + '0_output.npy',allow_pickle='TRUE').item()\n",
    "# output = np.load(r\"out/geneRxnVerifData/output_glc.npy\", allow_pickle=True, encoding='ASCII').tolist()\n",
    "output = output_all['agents']['0']\n",
    "fba = output['listeners']['fba_results']\n",
    "mass = output['listeners']['mass']\n",
    "bulk = pd.DataFrame(output['bulk'])\n",
    "\n",
    "fluxes = np.array(fba['estimated_fluxes'][1:])\n",
    "exchanges = fba['estimated_exchange_dmdt']\n",
    "\n",
    "# output['listeners']['unique_molecule_counts']['active_ribosome']"
   ],
   "metadata": {
    "collapsed": false,
    "ExecuteTime": {
     "end_time": "2024-02-26T23:22:05.773142Z",
     "start_time": "2024-02-26T23:21:55.227355Z"
    }
   }
  },
  {
   "cell_type": "code",
   "execution_count": 28,
   "outputs": [
    {
     "data": {
      "text/plain": "[747,\n 738,\n 747,\n 761,\n 773,\n 780,\n 778,\n 763,\n 766,\n 761,\n 764,\n 766,\n 775,\n 781,\n 776,\n 781,\n 799,\n 795,\n 802,\n 799,\n 799,\n 801,\n 797,\n 798,\n 799,\n 801,\n 803,\n 797,\n 797,\n 795,\n 794,\n 785,\n 779,\n 780,\n 785,\n 800,\n 791,\n 799,\n 801,\n 804,\n 805,\n 807,\n 800,\n 803,\n 788,\n 793,\n 793,\n 798,\n 801,\n 798,\n 805,\n 805,\n 797,\n 809,\n 804,\n 806,\n 809,\n 816,\n 805,\n 805,\n 796,\n 790,\n 787,\n 778,\n 786,\n 792,\n 800,\n 793,\n 801,\n 801,\n 808,\n 805,\n 801,\n 780,\n 783,\n 779,\n 777,\n 774,\n 772,\n 768,\n 772,\n 761,\n 768,\n 780,\n 783,\n 785,\n 789,\n 794,\n 796,\n 801,\n 792,\n 790,\n 803,\n 801,\n 795,\n 791,\n 798,\n 800,\n 803,\n 803,\n 798,\n 795,\n 794,\n 777,\n 774,\n 778,\n 778,\n 783,\n 782,\n 789,\n 795,\n 801,\n 804,\n 791,\n 789,\n 795,\n 769,\n 765,\n 768,\n 777,\n 766,\n 780,\n 779,\n 774,\n 783,\n 787,\n 797,\n 801,\n 794,\n 793,\n 792,\n 802,\n 802,\n 794,\n 787,\n 789,\n 790,\n 789,\n 786,\n 788,\n 792,\n 802,\n 799,\n 795,\n 796,\n 798,\n 781,\n 787,\n 794,\n 800,\n 785,\n 785,\n 796,\n 794,\n 788,\n 788,\n 797,\n 797,\n 797,\n 800,\n 802,\n 801,\n 796,\n 786,\n 779,\n 785,\n 771,\n 789,\n 793,\n 794,\n 790,\n 790,\n 789,\n 794,\n 801,\n 807,\n 801,\n 802,\n 801,\n 801,\n 821,\n 819,\n 824,\n 824,\n 826,\n 842,\n 833,\n 836,\n 823,\n 829,\n 816,\n 809,\n 807,\n 808,\n 810,\n 812,\n 812,\n 809,\n 812,\n 788,\n 776,\n 788,\n 782,\n 789,\n 792,\n 800,\n 803,\n 802,\n 806,\n 813,\n 809,\n 806,\n 803,\n 803,\n 805,\n 798,\n 805,\n 811,\n 819,\n 820,\n 823,\n 819,\n 826,\n 839,\n 830,\n 831,\n 832,\n 833,\n 839,\n 834,\n 830,\n 822,\n 823,\n 824,\n 823,\n 826,\n 825,\n 836,\n 835,\n 828,\n 818,\n 821,\n 815,\n 807,\n 799,\n 813,\n 822,\n 817,\n 811,\n 809,\n 813,\n 812,\n 815,\n 814,\n 811,\n 805,\n 808,\n 806,\n 819,\n 814,\n 807,\n 804,\n 808,\n 811,\n 806,\n 802,\n 818,\n 814,\n 816,\n 809,\n 808,\n 814,\n 811,\n 807,\n 808,\n 810,\n 819,\n 821,\n 823,\n 827,\n 823,\n 826,\n 834,\n 837,\n 839,\n 838,\n 840,\n 828,\n 842,\n 835,\n 839,\n 834,\n 834,\n 835,\n 842,\n 839,\n 840,\n 836,\n 830,\n 834,\n 836,\n 836,\n 830,\n 833,\n 831,\n 827,\n 832,\n 840,\n 832,\n 837,\n 835,\n 845,\n 854,\n 858,\n 849,\n 853,\n 830,\n 831,\n 825,\n 820,\n 825,\n 831,\n 823,\n 825,\n 818,\n 816,\n 827,\n 838,\n 839,\n 849,\n 848,\n 851,\n 855,\n 855,\n 848,\n 842,\n 845,\n 844,\n 836,\n 828,\n 837,\n 844,\n 844,\n 854,\n 856,\n 857,\n 855,\n 847,\n 843,\n 839,\n 839,\n 844,\n 839,\n 833,\n 826,\n 833,\n 837,\n 845,\n 843,\n 837,\n 845,\n 840,\n 846,\n 840,\n 852,\n 849,\n 835,\n 832,\n 833,\n 836,\n 841,\n 834,\n 837,\n 841,\n 837,\n 835,\n 850,\n 839,\n 843,\n 849,\n 843,\n 847,\n 847,\n 849,\n 852,\n 851,\n 852,\n 864,\n 859,\n 840,\n 830,\n 835,\n 829,\n 822,\n 805,\n 810,\n 818,\n 824,\n 824,\n 833,\n 835,\n 838,\n 846,\n 842,\n 850,\n 844,\n 854,\n 853,\n 859,\n 860,\n 853,\n 857,\n 850,\n 850,\n 847,\n 843,\n 837,\n 828,\n 830,\n 840,\n 848,\n 859,\n 859,\n 848,\n 844,\n 824,\n 834,\n 833,\n 829,\n 830,\n 831,\n 838,\n 843,\n 845,\n 843,\n 852,\n 856,\n 842,\n 842,\n 838,\n 844,\n 846,\n 841,\n 838,\n 839,\n 839,\n 837,\n 836,\n 826,\n 823,\n 821,\n 829,\n 834,\n 830,\n 837,\n 843,\n 838,\n 844,\n 839,\n 852,\n 850,\n 839,\n 842,\n 839,\n 850,\n 844,\n 850,\n 858,\n 866,\n 864,\n 862,\n 857,\n 850,\n 860,\n 855,\n 843,\n 837,\n 835,\n 836,\n 846,\n 856,\n 855,\n 855,\n 855,\n 872,\n 865,\n 875,\n 882,\n 892,\n 883,\n 889,\n 893,\n 889,\n 880,\n 873,\n 867,\n 863,\n 863,\n 850,\n 847,\n 860,\n 855,\n 845,\n 846,\n 847,\n 844,\n 848,\n 853,\n 859,\n 852,\n 842,\n 832,\n 829,\n 825,\n 831,\n 827,\n 839,\n 845,\n 855,\n 855,\n 853,\n 853,\n 854,\n 843,\n 837,\n 844,\n 845,\n 841,\n 852,\n 854,\n 860,\n 865,\n 863,\n 867,\n 869,\n 873,\n 870,\n 869,\n 872,\n 886,\n 899,\n 901,\n 910,\n 904,\n 912,\n 892,\n 889,\n 883,\n 886,\n 877,\n 880,\n 883,\n 880,\n 878,\n 885,\n 884,\n 882,\n 886,\n 892,\n 897,\n 896,\n 908,\n 899,\n 894,\n 884,\n 882,\n 878,\n 873,\n 880,\n 870,\n 876,\n 891,\n 895,\n 896,\n 883,\n 883,\n 883,\n 887,\n 887,\n 880,\n 874,\n 882,\n 885,\n 897,\n 894,\n 885,\n 882,\n 881,\n 881,\n 882,\n 888,\n 896,\n 897,\n 898,\n 891,\n 900,\n 898,\n 898,\n 894,\n 907,\n 908,\n 911,\n 901,\n 895,\n 885,\n 885,\n 887,\n 884,\n 876,\n 885,\n 871,\n 872,\n 865,\n 876,\n 879,\n 886,\n 898,\n 885,\n 888,\n 889,\n 889,\n 895,\n 898,\n 897,\n 883,\n 878,\n 872,\n 881,\n 887,\n 880,\n 874,\n 885,\n 884,\n 886,\n 882,\n 881,\n 886,\n 878,\n 884,\n 874,\n 877,\n 882,\n 884,\n 883,\n 890,\n 889,\n 889,\n 893,\n 889,\n 897,\n 908,\n 920,\n 905,\n 909,\n 909,\n 908,\n 897,\n 906,\n 903,\n 902,\n 895,\n 901,\n 903,\n 905,\n 901,\n 890,\n 891,\n 896,\n 908,\n 920,\n 918,\n 918,\n 921,\n 921,\n 929,\n 919,\n 910,\n 907,\n 914,\n 923,\n 910,\n 906,\n 911,\n 902,\n 912,\n 910,\n 915,\n 918,\n 920,\n 928,\n 930,\n 931,\n 936,\n 919,\n 928,\n 928,\n 932,\n 929,\n 922,\n 925,\n 920,\n 919,\n 912,\n 914,\n 903,\n 902,\n 903,\n 915,\n 903,\n 891,\n 892,\n 889,\n 891,\n 892,\n 885,\n 879,\n 875,\n 879,\n 884,\n 886,\n 881,\n 890,\n 888,\n 882,\n 871,\n 863,\n 867,\n 869,\n 872,\n 867,\n 862,\n 857,\n 861,\n 851,\n 860,\n 858,\n 857,\n 854,\n 873,\n 863,\n 865,\n 869,\n 880,\n 894,\n 895,\n 889,\n 883,\n 880,\n 880,\n 883,\n 890,\n 896,\n 894,\n 898,\n 878,\n 865,\n 847,\n 856,\n 862,\n 862,\n 872,\n 867,\n 872,\n 873,\n 875,\n 877,\n 872,\n 885,\n 882,\n 880,\n 881,\n 884,\n 892,\n 900,\n 898,\n 901,\n 914,\n 917,\n 904,\n 903,\n 887,\n 890,\n 892,\n 910,\n 926,\n 926,\n 931,\n 933,\n 925,\n 929,\n 920,\n 907,\n 915,\n 922,\n 904,\n 909,\n 913,\n 909,\n 911,\n 904,\n 904,\n 901,\n 905,\n 910,\n 905,\n 915,\n 922,\n 909,\n 914,\n 923,\n 927,\n 922,\n 916,\n 919,\n 932,\n 934,\n 940,\n 938,\n 945,\n 951,\n 957,\n 960,\n 956,\n 950,\n 953,\n 958,\n 946,\n 953,\n 944,\n 951,\n 953,\n 943,\n 936,\n 935,\n 939,\n 935,\n 941,\n 944,\n 943,\n 943,\n 944,\n 950,\n 956,\n 958,\n 962,\n 953,\n 959,\n 963,\n 957,\n 968,\n 956,\n 952,\n 960,\n 949,\n 952,\n 963,\n 955,\n 954,\n 966,\n 964,\n 974,\n 967,\n 970,\n 974,\n 972,\n 968,\n 971,\n 980,\n 988,\n 985,\n 984,\n 982,\n 989,\n 982,\n 959,\n 975,\n 973,\n 960,\n 964,\n 967,\n 981,\n 968,\n 970,\n 974,\n 967,\n 964,\n 972,\n 975,\n 980,\n 973,\n 972,\n 977,\n 975,\n 957,\n 964,\n 961,\n 971,\n 964,\n 962,\n 964,\n 969,\n 963,\n 951,\n 956,\n 972,\n 982,\n 988,\n 980,\n 988,\n 1006,\n 1016,\n 1005,\n 1012,\n 1004,\n 1000,\n 998,\n 992,\n 978,\n 971,\n 971,\n 971,\n 955,\n 951,\n 955,\n 945,\n 944,\n 955,\n 957,\n 959,\n 960,\n 967,\n 977,\n 977,\n 967,\n 964,\n 966,\n 970,\n 979,\n 984,\n 993,\n 993,\n 990,\n 994,\n 999,\n 1000,\n 1001,\n 995,\n 991,\n 982,\n 968,\n 968,\n 964,\n 966,\n 974,\n 979,\n 971,\n 957,\n 955,\n 959,\n 974,\n 971,\n 975,\n 976,\n 987,\n 989,\n 982,\n 979,\n 984,\n 978,\n 986,\n 972,\n 975,\n 966,\n 976,\n 986,\n 978,\n 989,\n 989,\n 990,\n 991,\n 998,\n 1000,\n 1007,\n 1004,\n 1013,\n 1003,\n 1003,\n 1011,\n 1004,\n 996,\n 1000,\n 1015,\n 1026,\n 1017,\n 1010,\n 988,\n 994,\n 993,\n 983,\n 976,\n ...]"
     },
     "execution_count": 28,
     "metadata": {},
     "output_type": "execute_result"
    }
   ],
   "source": [
    "output['listeners']['unique_molecule_counts']['active_RNAP']"
   ],
   "metadata": {
    "collapsed": false,
    "ExecuteTime": {
     "end_time": "2024-02-26T23:22:05.785602Z",
     "start_time": "2024-02-26T23:22:05.778585Z"
    }
   }
  },
  {
   "cell_type": "code",
   "execution_count": 29,
   "outputs": [],
   "source": [
    "f = open(folder + 'agent_steps.pkl', 'rb')\n",
    "agent = dill.load(f)\n",
    "f.close()\n",
    "\n",
    "metabolism = agent['ecoli-metabolism-redux-classic']\n",
    "stoichiometry = metabolism.stoichiometry\n"
   ],
   "metadata": {
    "collapsed": false,
    "ExecuteTime": {
     "end_time": "2024-02-26T23:22:07.801515Z",
     "start_time": "2024-02-26T23:22:05.781469Z"
    }
   }
  },
  {
   "cell_type": "code",
   "execution_count": 30,
   "outputs": [],
   "source": [
    "initial_state = json.load(open('data/wcecoli_t0.json'))\n",
    "\n",
    "bulk_ids = [item[0] for item in initial_state['bulk']]\n",
    "\n",
    "bulk.columns = bulk_ids"
   ],
   "metadata": {
    "collapsed": false,
    "ExecuteTime": {
     "end_time": "2024-02-26T23:22:07.849507Z",
     "start_time": "2024-02-26T23:22:07.803274Z"
    }
   }
  },
  {
   "cell_type": "code",
   "execution_count": 31,
   "outputs": [],
   "source": [
    "# in the bulk dataframe, update RNAP and 50S, 30S rib counts from unique molecules since they are sequestered as unique when in use.\n",
    "for unique_key, bulk_id in [('active_ribosome', 'CPLX0-3962'), ('active_ribosome', 'CPLX0-3953'), ('active_RNAP', 'APORNAP-CPLX')]:\n",
    "    if unique_key in output['listeners']['unique_molecule_counts']:\n",
    "        unique_count = output['listeners']['unique_molecule_counts'][unique_key]\n",
    "        bulk.loc[:, bulk_id+'[c]'] += unique_count"
   ],
   "metadata": {
    "collapsed": false,
    "ExecuteTime": {
     "end_time": "2024-02-26T23:22:07.858912Z",
     "start_time": "2024-02-26T23:22:07.852625Z"
    }
   }
  },
  {
   "cell_type": "code",
   "execution_count": 32,
   "outputs": [
    {
     "data": {
      "text/plain": "0       2094\n1       2094\n2       2096\n3       2097\n4       2100\n        ... \n2496    4718\n2497    4718\n2498    4719\n2499    4720\n2500    4722\nName: selC-tRNA[c], Length: 2501, dtype: int64"
     },
     "execution_count": 32,
     "metadata": {},
     "output_type": "execute_result"
    }
   ],
   "source": [
    "bulk.loc[:, 'selC-tRNA[c]']"
   ],
   "metadata": {
    "collapsed": false,
    "ExecuteTime": {
     "end_time": "2024-02-26T23:22:07.859325Z",
     "start_time": "2024-02-26T23:22:07.856104Z"
    }
   }
  },
  {
   "cell_type": "code",
   "execution_count": 33,
   "outputs": [
    {
     "name": "stdout",
     "output_type": "stream",
     "text": [
      "could not find MONOMER0-1241\n",
      "could not find MONOMER0-4223\n",
      "could not find CPLX0-3964\n"
     ]
    }
   ],
   "source": [
    "ecocyc_to_wcm_map = {}\n",
    "\n",
    "# combined complex and protein names\n",
    "complex_protein_names = list(parsed_protein_df['id']) + list(parsed_complex_df['id'])\n",
    "\n",
    "for name in complex_protein_names:\n",
    "\n",
    "    # find complex name in bulk_ids\n",
    "    found = False\n",
    "\n",
    "    try:\n",
    "        idx = bulk_ids.index(name+'[c]')\n",
    "        ecocyc_to_wcm_map[name] = name+'[c]'\n",
    "        found = True\n",
    "        # print(f'found {complex_name} at {idx}')\n",
    "\n",
    "    except ValueError:\n",
    "        # delete key\n",
    "        found = False\n",
    "\n",
    "\n",
    "    if found == False:\n",
    "\n",
    "        for id in bulk_ids:\n",
    "            if name+'[' in id and id.startswith(name) and bulk.loc[:, id].sum() > 0:\n",
    "                #print(f'found {name} in {id} with nonzero count')\n",
    "                ecocyc_to_wcm_map[name] = id\n",
    "                found = True\n",
    "                break           # ensures preferring nonzero counts\n",
    "\n",
    "            elif name+'[' in id and id.startswith(name):\n",
    "                # print(f'found {name} in {id} with zero count')\n",
    "                ecocyc_to_wcm_map[name] = id\n",
    "                found = True\n",
    "\n",
    "    if found == False:\n",
    "        ecocyc_to_wcm_map[name] = '--TRANS-ACENAPHTHENE-12-DIOL[c]' # should be none\n",
    "        print(f'could not find {name}')\n"
   ],
   "metadata": {
    "collapsed": false,
    "ExecuteTime": {
     "end_time": "2024-02-26T23:22:11.482458Z",
     "start_time": "2024-02-26T23:22:08.225784Z"
    }
   }
  },
  {
   "cell_type": "code",
   "execution_count": 34,
   "outputs": [],
   "source": [
    "complex_wcm_names = [ecocyc_to_wcm_map[name] for name in C_names]\n",
    "\n",
    "counts = bulk.loc[:, complex_wcm_names]"
   ],
   "metadata": {
    "collapsed": false,
    "ExecuteTime": {
     "end_time": "2024-02-26T23:22:11.519860Z",
     "start_time": "2024-02-26T23:22:11.486546Z"
    }
   }
  },
  {
   "cell_type": "code",
   "execution_count": 35,
   "outputs": [],
   "source": [
    "time = '1300'\n",
    "date = '2023-12-14'\n",
    "experiment = 'metabolism-redux-classic'\n",
    "entry = f'{experiment}_{time}_{date}'\n",
    "folder = f'out/cofactors/{entry}/'"
   ],
   "metadata": {
    "collapsed": false,
    "ExecuteTime": {
     "end_time": "2024-02-26T23:22:11.530686Z",
     "start_time": "2024-02-26T23:22:11.500337Z"
    }
   }
  },
  {
   "cell_type": "code",
   "execution_count": 36,
   "outputs": [],
   "source": [
    "output_all = np.load(folder + '0_output.npy',allow_pickle='TRUE').item()\n",
    "# output = np.load(r\"out/geneRxnVerifData/output_glc.npy\", allow_pickle=True, encoding='ASCII').tolist()\n",
    "output = output_all['agents']['0']\n",
    "fba = output['listeners']['fba_results']\n",
    "mass = output['listeners']['mass']\n",
    "bulk = pd.DataFrame(output['bulk'])\n",
    "\n",
    "fluxes = np.array(fba['estimated_fluxes'][1:])\n",
    "exchanges = fba['estimated_exchange_dmdt']\n",
    "\n",
    "bulk_ids = [item[0] for item in initial_state['bulk']]\n",
    "\n",
    "bulk.columns = bulk_ids\n",
    "# output['listeners']['unique_molecule_counts']['active_ribosome']"
   ],
   "metadata": {
    "collapsed": false,
    "ExecuteTime": {
     "end_time": "2024-02-26T23:22:17.586602Z",
     "start_time": "2024-02-26T23:22:11.503674Z"
    }
   }
  },
  {
   "cell_type": "code",
   "execution_count": 37,
   "outputs": [],
   "source": [
    "# in the bulk dataframe, update RNAP and 50S, 30S rib counts from unique molecules since they are sequestered as unique when in use.\n",
    "for unique_key, bulk_id in [('active_ribosome', 'CPLX0-3962'), ('active_ribosome', 'CPLX0-3953'), ('active_RNAP', 'APORNAP-CPLX')]:\n",
    "    if unique_key in output['listeners']['unique_molecule_counts']:\n",
    "        unique_count = output['listeners']['unique_molecule_counts'][unique_key]\n",
    "        bulk.loc[:, bulk_id+'[c]'] += unique_count"
   ],
   "metadata": {
    "collapsed": false,
    "ExecuteTime": {
     "end_time": "2024-02-26T23:22:17.595659Z",
     "start_time": "2024-02-26T23:22:17.588955Z"
    }
   }
  },
  {
   "cell_type": "code",
   "execution_count": 38,
   "outputs": [],
   "source": [
    "rich_counts = bulk.loc[:, complex_wcm_names]"
   ],
   "metadata": {
    "collapsed": false,
    "ExecuteTime": {
     "end_time": "2024-02-26T23:22:17.604576Z",
     "start_time": "2024-02-26T23:22:17.593195Z"
    }
   }
  },
  {
   "cell_type": "code",
   "execution_count": 39,
   "outputs": [],
   "source": [
    "time = '5500'\n",
    "date = '2024-01-30'\n",
    "experiment = 'metabolism-redux-classic-anaerobic'\n",
    "entry = f'{experiment}_{time}_{date}'\n",
    "folder = f'out/cofactors/{entry}/'"
   ],
   "metadata": {
    "collapsed": false,
    "ExecuteTime": {
     "end_time": "2024-02-26T23:22:17.604792Z",
     "start_time": "2024-02-26T23:22:17.602112Z"
    }
   }
  },
  {
   "cell_type": "code",
   "execution_count": 40,
   "outputs": [],
   "source": [
    "output_all = np.load(folder + '0_output.npy',allow_pickle='TRUE').item()\n",
    "# output = np.load(r\"out/geneRxnVerifData/output_glc.npy\", allow_pickle=True, encoding='ASCII').tolist()\n",
    "output = output_all['agents']['0']\n",
    "fba = output['listeners']['fba_results']\n",
    "mass = output['listeners']['mass']\n",
    "bulk = pd.DataFrame(output['bulk'])\n",
    "\n",
    "fluxes = np.array(fba['estimated_fluxes'][1:])\n",
    "exchanges = fba['estimated_exchange_dmdt']\n",
    "\n",
    "bulk_ids = [item[0] for item in initial_state['bulk']]\n",
    "\n",
    "bulk.columns = bulk_ids\n",
    "# output['listeners']['unique_molecule_counts']['active_ribosome']"
   ],
   "metadata": {
    "collapsed": false,
    "ExecuteTime": {
     "end_time": "2024-02-26T23:22:41.868294Z",
     "start_time": "2024-02-26T23:22:17.605155Z"
    }
   }
  },
  {
   "cell_type": "code",
   "execution_count": 41,
   "outputs": [],
   "source": [
    "# in the bulk dataframe, update RNAP and 50S, 30S rib counts from unique molecules since they are sequestered as unique when in use.\n",
    "for unique_key, bulk_id in [('active_ribosome', 'CPLX0-3962'), ('active_ribosome', 'CPLX0-3953'), ('active_RNAP', 'APORNAP-CPLX')]:\n",
    "    if unique_key in output['listeners']['unique_molecule_counts']:\n",
    "        unique_count = output['listeners']['unique_molecule_counts'][unique_key]\n",
    "        bulk.loc[:, bulk_id+'[c]'] += unique_count\n",
    "        \n",
    "anaerobic_counts = bulk.loc[:, complex_wcm_names]"
   ],
   "metadata": {
    "collapsed": false,
    "ExecuteTime": {
     "end_time": "2024-02-26T23:22:41.919430Z",
     "start_time": "2024-02-26T23:22:41.872586Z"
    }
   }
  },
  {
   "cell_type": "markdown",
   "source": [
    "# External data sets"
   ],
   "metadata": {
    "collapsed": false
   }
  },
  {
   "cell_type": "markdown",
   "source": [
    "# Saving outputs to files compatible with Julia"
   ],
   "metadata": {
    "collapsed": false
   }
  },
  {
   "cell_type": "code",
   "execution_count": 42,
   "outputs": [
    {
     "data": {
      "text/plain": "['1-PFK',\n '2OXOGLUTARATEDEH-CPLX',\n '3-ISOPROPYLMALDEHYDROG-CPLX',\n '3-ISOPROPYLMALISOM-CPLX',\n '3-METHYL-2-OXOBUT-OHCH3XFER-CPLX',\n '3-OXOACYL-ACP-SYNTHII-CPLX',\n '6PFK-1-CPX',\n '6PFK-2-CPX',\n '6PGLUCONDEHYDROG-CPLX',\n '7-ALPHA-HYDROXYSTEROID-DEH-CPLX',\n '7KAPSYN-CPLX',\n 'ABC-10-CPLX',\n 'ABC-11-CPLX',\n 'ABC-12-CPLX',\n 'ABC-13-CPLX',\n 'ABC-14-CPLX',\n 'ABC-15-CPLX',\n 'ABC-16-CPLX',\n 'ABC-18-CPLX',\n 'ABC-19-CPLX',\n 'ABC-2-CPLX',\n 'ABC-20-CPLX',\n 'ABC-21-CPLX',\n 'ABC-22-CPLX',\n 'ABC-23-CPLX',\n 'ABC-24-CPLX',\n 'ABC-25-CPLX',\n 'ABC-26-CPLX',\n 'ABC-27-CPLX',\n 'ABC-28-CPLX',\n 'ABC-29-CPLX',\n 'ABC-3-CPLX',\n 'ABC-304-CPLX',\n 'ABC-32-CPLX',\n 'ABC-33-CPLX',\n 'ABC-34-CPLX',\n 'ABC-35-CPLX',\n 'ABC-4-CPLX',\n 'ABC-40-CPLX',\n 'ABC-41-CPLX',\n 'ABC-42-CPLX',\n 'ABC-45-CPLX',\n 'ABC-46-CPLX',\n 'ABC-48-CPLX',\n 'ABC-49-CPLX',\n 'ABC-5-CPLX',\n 'ABC-51-CPLX',\n 'ABC-52-CPLX',\n 'ABC-54-CPLX',\n 'ABC-55-CPLX',\n 'ABC-56-CPLX',\n 'ABC-57-CPLX',\n 'ABC-58-CPLX',\n 'ABC-59-CPLX',\n 'ABC-6-CPLX',\n 'ABC-60-CPLX',\n 'ABC-61-CPLX',\n 'ABC-62-CPLX',\n 'ABC-63-CPLX',\n 'ABC-64-CPLX',\n 'ABC-7-CPLX',\n 'ABC-70-CPLX',\n 'ABC-8-CPLX',\n 'ABC-9-CPLX',\n 'ACETOACETYL-COA-TRANSFER-CPLX',\n 'ACETOLACTSYNI-CPLX',\n 'ACETOLACTSYNII-CPLX',\n 'ACETOLACTSYNIII-CPLX',\n 'ACETYL-COA-ACETYLTRANSFER-CPLX',\n 'ACETYL-COA-CARBOXYLTRANSFER-CPLX',\n 'ACETYLGLUTKIN-CPLX',\n 'ACETYLORNDEACET-CPLX',\n 'ACETYLORNTRANSAM-CPLX',\n 'ACNEULY-CPLX',\n 'ACSERLYA-CPLX',\n 'ACSERLYB-CPLX',\n 'ACYLCOASYN-CPLX',\n 'ADCLY-CPLX',\n 'ADENPRIBOSYLTRAN-CPLX',\n 'ADENYLOSUCCINATE-SYN-DIMER',\n 'ADENYLYLSULFKIN-CPLX',\n 'ADHC-CPLX',\n 'ADHE-CPLX',\n 'AERGLYC3PDEHYDROG-CPLX',\n 'AGMATIN-CPLX',\n 'AIRS-CPLX',\n 'AKBLIG-CPLX',\n 'ALAS-CPLX',\n 'ALD-CPLX',\n 'ALKAPHOSPHA-CPLX',\n 'ALPHA-SUBUNIT-CPLX',\n 'ALPHAGALACTOSID-CPLX',\n 'AMINEOXID-CPLX',\n 'AMP-NUCLEOSID-CPLX',\n 'ANGLYC3PDEHYDROG-CPLX',\n 'ANSA-CPLX',\n 'ANSB-CPLX',\n 'ANTHRANSYN-CPLX',\n 'APHA-CPLX',\n 'APORNAP-CPLX',\n 'APP-UBIOX-CPLX',\n 'ARABISOM-CPLX',\n 'ARGDECARBOXBIO-CPLX',\n 'ARGDECARBOXDEG-CPLX',\n 'AROC-CPLX',\n 'AROD-CPLX',\n 'AROF-CPLX',\n 'AROG-CPLX',\n 'AROH-CPLX',\n 'ASNS-CPLX',\n 'ASNSYNA-CPLX',\n 'ASNSYNB-CPLX',\n 'ASP-SEMIALDEHYDE-DEHYDROGENASE-CPLX',\n 'ASPAMINOTRANS-DIMER',\n 'ASPARTASE-CPLX',\n 'ASPCARBCAT-TRIMER',\n 'ASPCARBREG-DIMER',\n 'ASPCARBTRANS-CPLX',\n 'ASPKINIHOMOSERDEHYDROGI-CPLX',\n 'ASPKINIIHOMOSERDEHYDROGII-CPLX',\n 'ASPKINIII-CPLX',\n 'ASPS-CPLX',\n 'ATOA-CPLX',\n 'ATOD-CPLX',\n 'ATPA-CPLX',\n 'ATPASE-1-CPLX',\n 'ATPD-CPLX',\n 'ATPE-CPLX',\n 'ATPF-CPLX',\n 'ATPSYN-CPLX',\n 'B1-CPLX',\n 'B2-CPLX',\n 'BADH-CPLX',\n 'BETAGALACTOSID-CPLX',\n 'BIOTIN-CARBOXYL-CPLX',\n 'BIOTIN-SYN-CPLX',\n 'BRANCHED-CHAINAMINOTRANSFER-CPLX',\n 'CARBODEHYDRAT-CPLX',\n 'CARBPSYN-CPLX',\n 'CARNDEHYDRA-CPLX',\n 'CFA-CPLX',\n 'CHEZ-CPLX',\n 'CHORISMUTPREPHENDEHYDRAT-CPLX',\n 'CHORISMUTPREPHENDEHYDROG-CPLX',\n 'CITRATE-SI-SYNTHASE',\n 'CITRYLY-CPLX',\n 'CITTRANS-CPLX',\n 'COADTRI-CPLX',\n 'COBU-CPLX',\n 'CPLX-153',\n 'CPLX-154',\n 'CPLX-155',\n 'CPLX-156',\n 'CPLX-157',\n 'CPLX-158',\n 'CPLX-159',\n 'CPLX-160',\n 'CPLX-165',\n 'CPLX-166',\n 'CPLX-167',\n 'CPLX-168',\n 'CPLX-169',\n 'CPLX-170',\n 'CPLX-171',\n 'CPLX-3942',\n 'CPLX-3945',\n 'CPLX-3946',\n 'CPLX-64',\n 'CPLX-722',\n 'CPLX-7524',\n 'CPLX-7',\n 'CPLX-8331',\n 'CPLX-8401',\n 'CPLX-9493',\n 'CPLX-9494',\n 'CPLX-9495',\n 'CPLX0-0',\n 'CPLX0-1021',\n 'CPLX0-1101',\n 'CPLX0-1121',\n 'CPLX0-1141',\n 'CPLX0-1142',\n 'CPLX0-1161',\n 'CPLX0-1162',\n 'CPLX0-1163',\n 'CPLX0-1221',\n 'CPLX0-1241',\n 'CPLX0-1242',\n 'CPLX0-1261',\n 'CPLX0-1262',\n 'CPLX0-1321',\n 'CPLX0-1341',\n 'CPLX0-1401',\n 'CPLX0-1421',\n 'CPLX0-1441',\n 'CPLX0-1461',\n 'CPLX0-1521',\n 'CPLX0-1541',\n 'CPLX0-1601',\n 'CPLX0-1621',\n 'CPLX0-1642',\n 'CPLX0-1668',\n 'CPLX0-1683',\n 'CPLX0-1721',\n 'CPLX0-1762',\n 'CPLX0-1821',\n 'CPLX0-1841',\n 'CPLX0-1863',\n 'CPLX0-1881',\n 'CPLX0-1923',\n 'CPLX0-1924',\n 'CPLX0-1941',\n 'CPLX0-1942',\n 'CPLX0-1943',\n 'CPLX0-1962',\n 'CPLX0-1',\n 'CPLX0-201',\n 'CPLX0-2021',\n 'CPLX0-2061',\n 'CPLX0-2081',\n 'CPLX0-2121',\n 'CPLX0-2141',\n 'CPLX0-2161',\n 'CPLX0-2201',\n 'CPLX0-224',\n 'CPLX0-225',\n 'CPLX0-227',\n 'CPLX0-229',\n 'CPLX0-230',\n 'CPLX0-231',\n 'CPLX0-234',\n 'CPLX0-235',\n 'CPLX0-2361',\n 'CPLX0-236',\n 'CPLX0-237',\n 'CPLX0-2381',\n 'CPLX0-238',\n 'CPLX0-2401',\n 'CPLX0-240',\n 'CPLX0-2424',\n 'CPLX0-2425',\n 'CPLX0-242',\n 'CPLX0-243',\n 'CPLX0-2441',\n 'CPLX0-244',\n 'CPLX0-245',\n 'CPLX0-246',\n 'CPLX0-248',\n 'CPLX0-2502',\n 'CPLX0-250',\n 'CPLX0-251',\n 'CPLX0-2521',\n 'CPLX0-252',\n 'CPLX0-253',\n 'CPLX0-2541',\n 'CPLX0-254',\n 'CPLX0-255',\n 'CPLX0-2561',\n 'CPLX0-2621',\n 'CPLX0-2641',\n 'CPLX0-2661',\n 'CPLX0-2681',\n 'CPLX0-2861',\n 'CPLX0-2881',\n 'CPLX0-2921',\n 'CPLX0-2941',\n 'CPLX0-2982',\n 'CPLX0-3001',\n 'CPLX0-301',\n 'CPLX0-3021',\n 'CPLX0-303',\n 'CPLX0-3041',\n 'CPLX0-3061',\n 'CPLX0-3081',\n 'CPLX0-3101',\n 'CPLX0-3102',\n 'CPLX0-3104',\n 'CPLX0-3107',\n 'CPLX0-3108',\n 'CPLX0-3121',\n 'CPLX0-3141',\n 'CPLX0-3161',\n 'CPLX0-3181',\n 'CPLX0-3201',\n 'CPLX0-321',\n 'CPLX0-3221',\n 'CPLX0-322',\n 'CPLX0-3241',\n 'CPLX0-3281',\n 'CPLX0-3301',\n 'CPLX0-3361',\n 'CPLX0-3382',\n 'CPLX0-3401',\n 'CPLX0-341',\n 'CPLX0-3461',\n 'CPLX0-3482',\n 'CPLX0-3501',\n 'CPLX0-3521',\n 'CPLX0-3541',\n 'CPLX0-3561',\n 'CPLX0-3581',\n 'CPLX0-3601',\n 'CPLX0-3602',\n 'CPLX0-3621',\n 'CPLX0-3641',\n 'CPLX0-3661',\n 'CPLX0-3681',\n 'CPLX0-3721',\n 'CPLX0-3741',\n 'CPLX0-3761',\n 'CPLX0-3781',\n 'CPLX0-3801',\n 'CPLX0-3802',\n 'CPLX0-3803',\n 'CPLX0-3821',\n 'CPLX0-3841',\n 'CPLX0-3861',\n 'CPLX0-3881',\n 'CPLX0-3901',\n 'CPLX0-3921',\n 'CPLX0-3923',\n 'CPLX0-3924',\n 'CPLX0-3925',\n 'CPLX0-3927',\n 'CPLX0-3929',\n 'CPLX0-3930',\n 'CPLX0-3931',\n 'CPLX0-3932',\n 'CPLX0-3933',\n 'CPLX0-3934',\n 'CPLX0-3936',\n 'CPLX0-3937',\n 'CPLX0-3938',\n 'CPLX0-3939',\n 'CPLX0-3941',\n 'CPLX0-3943',\n 'CPLX0-3948',\n 'CPLX0-3949',\n 'CPLX0-3950',\n 'CPLX0-3951',\n 'CPLX0-3952',\n 'CPLX0-3954',\n 'CPLX0-3955',\n 'CPLX0-3956',\n 'CPLX0-3957',\n 'CPLX0-3958',\n 'CPLX0-3959',\n 'CPLX0-3961',\n 'CPLX0-3969',\n 'CPLX0-3970',\n 'CPLX0-3971',\n 'CPLX0-3',\n 'CPLX0-4',\n 'CPLX0-661',\n 'CPLX0-682',\n 'CPLX0-721',\n 'CPLX0-7415',\n 'CPLX0-7417',\n 'CPLX0-7418',\n 'CPLX0-7420',\n 'CPLX0-7421',\n 'CPLX0-7422',\n 'CPLX0-7423',\n 'CPLX0-7425',\n 'CPLX0-7426',\n 'CPLX0-743',\n 'CPLX0-7444',\n 'CPLX0-7450',\n 'CPLX0-7451',\n 'CPLX0-7452',\n 'CPLX0-7458',\n 'CPLX0-7462',\n 'CPLX0-7465',\n 'CPLX0-7466',\n 'CPLX0-7521',\n 'CPLX0-7525',\n 'CPLX0-7529',\n 'CPLX0-7530',\n 'CPLX0-7532',\n 'CPLX0-7533',\n 'CPLX0-7534',\n 'CPLX0-7535',\n 'CPLX0-7536',\n 'CPLX0-7538',\n 'CPLX0-7561',\n 'CPLX0-7564',\n 'CPLX0-7597',\n 'CPLX0-7608',\n 'CPLX0-7609',\n 'CPLX0-7610',\n 'CPLX0-7613',\n 'CPLX0-7614',\n 'CPLX0-7615',\n 'CPLX0-7616',\n 'CPLX0-7617',\n 'CPLX0-761',\n 'CPLX0-7622',\n 'CPLX0-7623',\n 'CPLX0-7624',\n 'CPLX0-7625',\n 'CPLX0-7626',\n 'CPLX0-7627',\n 'CPLX0-7628',\n 'CPLX0-7629',\n 'CPLX0-7630',\n 'CPLX0-7631',\n 'CPLX0-7632',\n 'CPLX0-7633',\n 'CPLX0-7641',\n 'CPLX0-7642',\n 'CPLX0-7643',\n 'CPLX0-7645',\n 'CPLX0-7646',\n 'CPLX0-7647',\n 'CPLX0-7648',\n 'CPLX0-7649',\n 'CPLX0-7652',\n 'CPLX0-7653',\n 'CPLX0-7654',\n 'CPLX0-7655',\n 'CPLX0-7658',\n 'CPLX0-7659',\n 'CPLX0-7660',\n 'CPLX0-7662',\n 'CPLX0-7666',\n 'CPLX0-7667',\n 'CPLX0-7668',\n 'CPLX0-7669',\n 'CPLX0-7672',\n 'CPLX0-7674',\n 'CPLX0-7675',\n 'CPLX0-7678',\n 'CPLX0-7679',\n 'CPLX0-7682',\n 'CPLX0-7683',\n 'CPLX0-7684',\n 'CPLX0-7685',\n 'CPLX0-7686',\n 'CPLX0-7687',\n 'CPLX0-7688',\n 'CPLX0-7691',\n 'CPLX0-7692',\n 'CPLX0-7693',\n 'CPLX0-7694',\n 'CPLX0-7695',\n 'CPLX0-7696',\n 'CPLX0-7697',\n 'CPLX0-7698',\n 'CPLX0-7704',\n 'CPLX0-7705',\n 'CPLX0-7707',\n 'CPLX0-7708',\n 'CPLX0-7709',\n 'CPLX0-7710',\n 'CPLX0-7711',\n 'CPLX0-7712',\n 'CPLX0-7713',\n 'CPLX0-7717',\n 'CPLX0-7718',\n 'CPLX0-7719',\n 'CPLX0-7720',\n 'CPLX0-7722',\n 'CPLX0-7723',\n 'CPLX0-7724',\n 'CPLX0-7725',\n 'CPLX0-7726',\n 'CPLX0-7727',\n 'CPLX0-7728',\n 'CPLX0-7731',\n 'CPLX0-7732',\n 'CPLX0-7733',\n 'CPLX0-7734',\n 'CPLX0-7740',\n 'CPLX0-7741',\n 'CPLX0-7744',\n 'CPLX0-7745',\n 'CPLX0-7747',\n 'CPLX0-7755',\n 'CPLX0-7756',\n 'CPLX0-7757',\n 'CPLX0-7758',\n 'CPLX0-7759',\n 'CPLX0-7760',\n 'CPLX0-7766',\n 'CPLX0-7776',\n 'CPLX0-7787',\n 'CPLX0-7788',\n 'CPLX0-7789',\n 'CPLX0-7791',\n 'CPLX0-7794',\n 'CPLX0-7797',\n 'CPLX0-7801',\n 'CPLX0-7802',\n 'CPLX0-7805',\n 'CPLX0-7806',\n 'CPLX0-7807',\n 'CPLX0-7808',\n 'CPLX0-7810',\n 'CPLX0-7811',\n 'CPLX0-7816',\n 'CPLX0-7817',\n 'CPLX0-7819',\n 'CPLX0-7820',\n 'CPLX0-7822',\n 'CPLX0-7823',\n 'CPLX0-7824',\n 'CPLX0-7826',\n 'CPLX0-7827',\n 'CPLX0-782',\n 'CPLX0-7835',\n 'CPLX0-7836',\n 'CPLX0-7837',\n 'CPLX0-7838',\n 'CPLX0-7839',\n 'CPLX0-7841',\n 'CPLX0-7843',\n 'CPLX0-7844',\n 'CPLX0-7847',\n 'CPLX0-7848',\n 'CPLX0-7852',\n 'CPLX0-7853',\n 'CPLX0-7854',\n 'CPLX0-7870',\n 'CPLX0-7877',\n 'CPLX0-7878',\n 'CPLX0-7882',\n 'CPLX0-7887',\n 'CPLX0-7888',\n 'CPLX0-7889',\n 'CPLX0-7904',\n 'CPLX0-7906',\n 'CPLX0-7908',\n 'CPLX0-7909',\n 'CPLX0-7910',\n 'CPLX0-7912',\n 'CPLX0-7913',\n 'CPLX0-7914',\n 'CPLX0-7916',\n 'CPLX0-7917',\n 'CPLX0-7921',\n 'CPLX0-7922',\n 'CPLX0-7923',\n 'CPLX0-7927',\n 'CPLX0-7928',\n 'CPLX0-7929',\n 'CPLX0-7932',\n 'CPLX0-7933',\n 'CPLX0-7934',\n 'CPLX0-7935',\n 'CPLX0-7936',\n 'CPLX0-7938',\n 'CPLX0-7939',\n 'CPLX0-7940',\n 'CPLX0-7942',\n 'CPLX0-7944',\n 'CPLX0-7945',\n 'CPLX0-7946',\n 'CPLX0-7947',\n 'CPLX0-7950',\n 'CPLX0-7951',\n 'CPLX0-7952',\n 'CPLX0-7955',\n 'CPLX0-7956',\n 'CPLX0-7957',\n 'CPLX0-7958',\n 'CPLX0-7959',\n 'CPLX0-7960',\n 'CPLX0-7961',\n 'CPLX0-7962',\n 'CPLX0-7963',\n 'CPLX0-7964',\n 'CPLX0-7970',\n 'CPLX0-7973',\n 'CPLX0-7974',\n 'CPLX0-7975',\n 'CPLX0-7976',\n 'CPLX0-7977',\n 'CPLX0-7979',\n 'CPLX0-7981',\n 'CPLX0-7982',\n 'CPLX0-7983',\n 'CPLX0-7984',\n 'CPLX0-7985',\n 'CPLX0-7986',\n 'CPLX0-7987',\n 'CPLX0-7988',\n 'CPLX0-7989',\n 'CPLX0-7990',\n 'CPLX0-7992',\n 'CPLX0-7993',\n 'CPLX0-7994',\n 'CPLX0-7997',\n 'CPLX0-7998',\n 'CPLX0-7',\n 'CPLX0-8005',\n 'CPLX0-8006',\n 'CPLX0-8008',\n 'CPLX0-8010',\n 'CPLX0-8011',\n 'CPLX0-8012',\n 'CPLX0-8013',\n 'CPLX0-8014',\n 'CPLX0-8015',\n 'CPLX0-8016',\n 'CPLX0-801',\n 'CPLX0-8031',\n 'CPLX0-8032',\n 'CPLX0-8033',\n 'CPLX0-8034',\n 'CPLX0-8043',\n 'CPLX0-8044',\n 'CPLX0-8045',\n 'CPLX0-8046',\n 'CPLX0-8089',\n 'CPLX0-8090',\n 'CPLX0-8092',\n 'CPLX0-8095',\n 'CPLX0-8096',\n 'CPLX0-8097',\n 'CPLX0-8098',\n 'CPLX0-8102',\n 'CPLX0-8103',\n 'CPLX0-8104',\n 'CPLX0-8105',\n 'CPLX0-8106',\n 'CPLX0-8107',\n 'CPLX0-8108',\n 'CPLX0-8109',\n 'CPLX0-8110',\n 'CPLX0-8111',\n 'CPLX0-8112',\n 'CPLX0-8113',\n 'CPLX0-8119',\n 'CPLX0-8120',\n 'CPLX0-8121',\n 'CPLX0-8122',\n 'CPLX0-8123',\n 'CPLX0-8124',\n 'CPLX0-8125',\n 'CPLX0-8127',\n 'CPLX0-8128',\n 'CPLX0-8129',\n 'CPLX0-8152',\n 'CPLX0-8154',\n 'CPLX0-8155',\n 'CPLX0-8156',\n 'CPLX0-8157',\n 'CPLX0-8158',\n 'CPLX0-8159',\n 'CPLX0-8160',\n 'CPLX0-8163',\n 'CPLX0-8164',\n 'CPLX0-8165',\n 'CPLX0-8167',\n 'CPLX0-8168',\n 'CPLX0-8173',\n 'CPLX0-8174',\n 'CPLX0-8175',\n 'CPLX0-8176',\n 'CPLX0-8177',\n 'CPLX0-8180',\n 'CPLX0-8181',\n 'CPLX0-8182',\n 'CPLX0-8183',\n 'CPLX0-8184',\n 'CPLX0-8185',\n 'CPLX0-8186',\n 'CPLX0-8187',\n 'CPLX0-8188',\n 'CPLX0-8189',\n 'CPLX0-8190',\n 'CPLX0-8191',\n 'CPLX0-8192',\n 'CPLX0-8196',\n 'CPLX0-8198',\n 'CPLX0-8199',\n 'CPLX0-8200',\n 'CPLX0-8201',\n 'CPLX0-8202',\n 'CPLX0-8204',\n 'CPLX0-8205',\n 'CPLX0-8206',\n 'CPLX0-8207',\n 'CPLX0-8211',\n 'CPLX0-8212',\n 'CPLX0-8213',\n 'CPLX0-8214',\n 'CPLX0-8217',\n 'CPLX0-8218',\n 'CPLX0-8219',\n 'CPLX0-821',\n 'CPLX0-8223',\n 'CPLX0-8227',\n 'CPLX0-8229',\n 'CPLX0-8230',\n 'CPLX0-8231',\n 'CPLX0-8232',\n 'CPLX0-8233',\n 'CPLX0-8234',\n 'CPLX0-8237',\n 'CPLX0-8238',\n 'CPLX0-8239',\n 'CPLX0-8240',\n 'CPLX0-8244',\n 'CPLX0-8245',\n 'CPLX0-8247',\n 'CPLX0-8248',\n 'CPLX0-8249',\n 'CPLX0-8251',\n 'CPLX0-8252',\n 'CPLX0-8254',\n 'CPLX0-8255',\n 'CPLX0-8256',\n 'CPLX0-8259',\n 'CPLX0-8260',\n 'CPLX0-8261',\n 'CPLX0-8262',\n 'CPLX0-8263',\n 'CPLX0-8269',\n 'CPLX0-8270',\n 'CPLX0-8271',\n 'CPLX0-8275',\n 'CPLX0-8280',\n 'CPLX0-8281',\n 'CPLX0-8285',\n 'CPLX0-8288',\n 'CPLX0-8290',\n 'CPLX0-8291',\n 'CPLX0-8292',\n 'CPLX0-8299',\n 'CPLX0-8300',\n 'CPLX0-8301',\n 'CPLX0-8302',\n 'CPLX0-8303',\n 'CPLX0-8308',\n 'CPLX0-8311',\n 'CPLX0-8312',\n 'CPLX0-8314',\n 'CPLX0-8315',\n 'CPLX0-841',\n 'CPLX0-8535',\n 'CPLX0-8536',\n 'CPLX0-8537',\n 'CPLX0-8538',\n 'CPLX0-8539',\n 'CPLX0-8541',\n 'CPLX0-8542',\n 'CPLX0-8544',\n 'CPLX0-8545',\n 'CPLX0-8547',\n 'CPLX0-8548',\n 'CPLX0-8549',\n 'CPLX0-8550',\n 'CPLX0-8551',\n 'CPLX0-8553',\n 'CPLX0-8554',\n 'CPLX0-8555',\n 'CPLX0-8556',\n 'CPLX0-8557',\n 'CPLX0-8558',\n 'CPLX0-8560',\n 'CPLX0-8561',\n 'CPLX0-8562',\n 'CPLX0-8563',\n 'CPLX0-8565',\n 'CPLX0-8571',\n 'CPLX0-8573',\n 'CPLX0-8574',\n 'CPLX0-8576',\n 'CPLX0-8578',\n 'CPLX0-8581',\n 'CPLX0-8582',\n 'CPLX0-8583',\n 'CPLX0-8584',\n 'CPLX0-8585',\n 'CPLX0-8586',\n 'CPLX0-8587',\n 'CPLX0-8588',\n 'CPLX0-8589',\n 'CPLX0-8593',\n 'CPLX0-8595',\n 'CPLX0-8596',\n 'CPLX0-8597',\n 'CPLX0-8612',\n 'CPLX0-8613',\n 'CPLX0-8614',\n 'CPLX0-8615',\n 'CPLX0-8616',\n 'CPLX0-8617',\n 'CPLX0-8618',\n 'CPLX0-8619',\n 'CPLX0-861',\n 'CPLX0-8762',\n 'CPLX0-8791',\n 'CPLX0-881',\n 'CPLX0-901',\n 'CPLX0-902',\n 'CPLX0-921',\n 'CPLX0-9372',\n 'CPLX0-9749',\n 'CPLX0-981',\n 'CPLXECOLI-7943',\n 'CREC-CPLX',\n 'CTPSYN-CPLX',\n 'CYANLY-CPLX',\n 'CYSSYNMULTI-CPLX',\n 'CYSTATHIONINE-BETA-LYASE-CPLX',\n 'CYT-D-UBIOX-CPLX',\n 'CYT-O-UBIOX-CPLX',\n 'CYTIDEAM-CPLX',\n 'DALADALALIGB-CPLX',\n 'DALADEHYDROG-CPLX',\n 'DAPASYN-CPLX',\n 'DCTP-DEAM-CPLX',\n 'DCYSDESULF-CPLX',\n 'DEOA-CPLX',\n 'DEOD-CPLX',\n 'DETHIOBIOTIN-SYN-CPLX',\n 'DGTPTRIPHYDRO-CPLX',\n 'DHPDIOXYGEN-CPLX',\n 'DIACYLGLYKIN-CPLX',\n 'DIAMINOPIMDECARB-CPLX',\n 'DIHYDRODIPICSYN-CPLX',\n 'DIHYDROOROT-CPLX',\n 'DIHYDROPICRED-CPLX',\n 'DIHYDROPTERIREDUCT-CPLX',\n 'DIHYDROXYACIDDEHYDRAT-CPLX',\n 'DIMESULFREDUCT-CPLX',\n 'DIOHBUTANONEPSYN-CPLX',\n 'DMBPPRIBOSYLTRANS-CPLX',\n 'DSBC-CPLX',\n 'DSBG-CPLX',\n 'DTDPGLUCDEHYDRAT-CPLX',\n 'DUTP-PYROP-CPLX',\n 'DXPREDISOM-CPLX',\n 'E1O',\n 'E1P-CPLX',\n 'E2O',\n 'E3-CPLX',\n 'EIISGA',\n 'EIISGC',\n 'ENOLASE-CPLX',\n 'ENTA-CPLX',\n 'ENTE-CPLX',\n 'ENVZ-CPLX',\n 'ERYTH4PDEHYDROG-CPLX',\n 'ETHAMLY-CPLX',\n 'F-1-CPLX',\n 'F-O-CPLX',\n 'F16B-CPLX',\n 'FABA-CPLX',\n 'FABB-CPLX',\n 'FABZ-CPLX',\n 'FAO-CPLX',\n 'FHLMULTI-CPLX',\n 'FLAGELLAR-MOTOR-COMPLEX',\n 'FOLD-CPLX',\n 'FOLE-CPLX',\n 'FOLXTET-CPLX',\n 'FORMATEDEHYDROGN-CPLX',\n 'FORMATEDEHYDROGO-CPLX',\n 'FORMHYDROG2-CPLX',\n 'FORMHYDROGI-CPLX',\n 'FORMYLTHFDEFORMYL-CPLX',\n 'FRUCBISALD-CLASSII',\n 'FRUCBISALD-CLASSI',\n 'FUMARASE-A',\n 'FUMARASE-B',\n 'FUMARASE-C',\n 'FUMARATE-REDUCTASE',\n 'GABATRANSAM-CPLX',\n 'GALACTOACETYLTRAN-CPLX',\n 'GALACTURIDYLYLTRANS-CPLX',\n 'GAPDH-A-CPLX',\n 'GCVP-CPLX',\n 'GDHA-CPLX',\n 'GDPMANDEHYDRA-CPLX',\n 'GLNG-CPLX',\n 'GLNL-CPLX',\n 'GLUC1PADENYLTRANS-CPLX',\n 'GLUCONOKINII-CPLX',\n 'GLUCOSAMINE-6-P-DEAMIN-CPLX',\n 'GLUCOSE-1-PHOSPHAT-CPLX',\n 'GLUTAMATESYN-CPLX',\n 'GLUTAMATESYN-DIMER',\n 'GLUTAMIDOTRANS-CPLX',\n 'GLUTAMINESYN-OLIGOMER',\n 'GLUTATHIONE-REDUCT-NADPH-CPLX',\n 'GLUTATHIONE-SYN-CPLX',\n 'GLUTDECARBOXA-CPLX',\n 'GLUTDECARBOXB-CPLX',\n 'GLUTKIN-CPLX',\n 'GLUTSEMIALDEHYDROG-CPLX',\n 'GLYC3PDEHYDROGBIOSYN-CPLX',\n 'GLYCDEH-CPLX',\n 'GLYCEROL-KIN-CPLX',\n 'GLYCOPHOSPHORYL-CPLX',\n 'GLYCPDIESTER-PERI-CPLX',\n 'GLYOCARBOLIG-CPLX',\n 'GLYOHMETRANS-CPLX',\n 'GLYOXI-CPLX',\n 'GLYS-CPLX',\n 'GMP-REDUCT-CPLX',\n 'GMP-SYN-CPLX',\n 'GPT-CPLX',\n 'GSAAMINOTRANS-CPLX',\n 'GSP-CPLX',\n 'GST-CPLX',\n 'GTP-CYCLOHYDRO-II-CPLX',\n 'GUANYL-KIN-CPLX',\n 'H2PTEROATESYNTH-CPLX',\n 'HCAMULTI-CPLX',\n 'HISS-CPLX',\n 'HISTDEHYD-CPLX',\n 'HISTPHOSTRANS-CPLX',\n 'HMP-P-KIN-CPLX',\n 'HOLO-ACP-SYNTH-CPLX',\n 'HOMOSERKIN-CPLX',\n 'HOMSUCTRAN-CPLX',\n 'HYDROG3-CPLX',\n 'HYDROPEROXIDI-CPLX',\n 'HYDROPEROXIDII-CPLX',\n 'IMIDHISTID-CPLX',\n 'IMP-DEHYDROG-CPLX',\n 'ISOCIT-LYASE',\n 'ISOCITHASE-CPLX',\n 'KDO-8PPHOSPHAT-CPLX',\n 'KDO-8PSYNTH-CPLX',\n 'KDPD-CPLX',\n 'KDPGALDOL-4OH2OXOGLUTARALDOL-CPLX',\n 'L-GLN-FRUCT-6-P-AMINOTRANS-CPLX',\n 'LACTALDREDUCT-CPLX',\n 'LDC2-CPLX',\n 'LTAA-CPLX',\n 'LTARTDEHYDRA-CPLX',\n 'LUMAZINESYN-CPLX',\n 'LYSDECARBOX-CPLX',\n 'LYSS-CPLX',\n 'LYSU-CPLX',\n 'LYXK-CPLX',\n 'MALATE-DEHASE',\n 'MALDEXPHOSPHORYL-CPLX',\n 'MALIC-NAD-CPLX',\n 'MALIC-NADP-CPLX',\n 'MALTACETYLTRAN-CPLX',\n 'MENE-CPLX',\n 'MENF-CPLX',\n 'METG-CPLX',\n 'METHGLYSYN-CPLX',\n 'METHYLENETHFREDUCT-CPLX',\n 'METNIQ-METHIONINE-ABC-CPLX',\n 'MUTHLS-CPLX',\n 'N-ACETYLTRANSFER-CPLX',\n 'NAD-SYNTH-CPLX',\n 'NADH-DHI-CPLX',\n 'NAG1P-URIDYLTRANS-CPLX',\n 'NAG6PDEACET-CPLX',\n 'NAP-CPLX',\n 'NARQ-CPLX',\n 'NARX-CPLX',\n 'NITRATREDUCTA-CPLX',\n 'NITRATREDUCTZ-CPLX',\n 'NITRITREDUCT-CPLX',\n 'NRDACTMULTI-CPLX',\n 'NRDE-CPLX',\n 'NRDF-CPLX',\n 'NRFMULTI-CPLX',\n 'NUCLEOSIDE-DIP-KIN-CPLX',\n 'O-SUCCHOMOSERLYASE-CPLX',\n 'ORNCARBAMTRANSFERF-CPLX',\n 'ORNCARBAMTRANSFERI-CPLX',\n 'ORNDECARBOX-BIO-CPLX',\n 'ORNDECARBOXDEG-CPLX',\n 'OROPRIBTRANS-CPLX',\n 'OROTPDECARB-CPLX',\n 'PABASYN-CPLX',\n 'PANTOATE-BETA-ALANINE-LIG-CPLX',\n 'PANTOTHENATE-KIN-CPLX',\n 'PAPSSULFOTRANS-CPLX',\n 'PC00003',\n 'PC00004',\n 'PC00005',\n 'PC00007',\n 'PC00010',\n 'PC00027',\n 'PC00033',\n 'PC00040',\n 'PC00061',\n 'PC00084',\n 'PC00086',\n 'PC00103',\n 'PDXH-CPLX',\n 'PDXK-CPLX',\n 'PEPCARBOX-CPLX',\n 'PEPSYNTH-CPLX',\n 'PGLYCDEHYDROG-CPLX',\n 'PHENDEHYD-CPLX',\n 'PHES-CPLX',\n 'PHOR-CPLX',\n 'PHOSACETYLTRANS-CPLX',\n ...]"
     },
     "execution_count": 42,
     "metadata": {},
     "output_type": "execute_result"
    }
   ],
   "source": [
    "complex_ids"
   ],
   "metadata": {
    "collapsed": false,
    "ExecuteTime": {
     "end_time": "2024-02-26T23:22:41.929901Z",
     "start_time": "2024-02-26T23:22:41.921452Z"
    }
   }
  },
  {
   "cell_type": "code",
   "execution_count": 50,
   "outputs": [],
   "source": [
    "complex_names = list(parsed_complex_df['common_name'])\n",
    "protein_names = list(parsed_protein_df['common_name'])\n",
    "cofactor_names = list(parsed_cofactor_df['common_name'])\n",
    "pathway_names = list(parsed_pathway_df['common_name'])\n",
    "\n",
    "# if cplx name is nan then use id\n",
    "complex_names = [complex_names[i] if type(complex_names[i]) == str else parsed_complex_df['id'][i] for i in range(len(complex_names))]\n",
    "protein_names = [protein_names[i] if type(protein_names[i]) == str else parsed_protein_df['id'][i] for i in range(len(protein_names))]\n",
    "cofactor_names = [cofactor_names[i] if type(cofactor_names[i]) == str else parsed_cofactor_df['id'][i] for i in range(len(cofactor_names))]\n",
    "pathway_names = [pathway_names[i] if type(pathway_names[i]) == str else parsed_pathway_df['id'][i] for i in range(len(pathway_names))]\n",
    "\n",
    "# save C, P and E to julia-compatible formats\n",
    "np.savetxt('notebooks/cofactors/data/C_matrix.csv', C.astype(np.int64), delimiter=',', fmt='%i')\n",
    "np.savetxt('notebooks/cofactors/data/P_matrix.csv', P.astype(np.int64), delimiter=',', fmt='%i')\n",
    "np.savetxt('notebooks/cofactors/data/E_matrix.csv', E.astype(np.int64), delimiter=',', fmt='%i')\n",
    "np.savetxt('notebooks/cofactors/data/W_matrix.csv', W.astype(np.float64), delimiter=',')\n",
    "np.savetxt('notebooks/cofactors/data/W1_matrix.csv', W1.astype(np.float64), delimiter=',')\n",
    "np.savetxt('notebooks/cofactors/data/W2_matrix.csv', W2.astype(np.float64), delimiter=',')\n",
    "np.savetxt('notebooks/cofactors/data/A_matrix.csv', A.astype(np.float64), delimiter=',')\n",
    "\n",
    "\n",
    "# write all ids to single file with each list on a new line\n",
    "with open('notebooks/cofactors/data/complex_ids.txt', 'w') as f:\n",
    "    f.write('\\n'.join(complex_ids))\n",
    "with open('notebooks/cofactors/data/protein_ids.txt', 'w') as f:\n",
    "    f.write('\\n'.join(protein_ids))\n",
    "with open('notebooks/cofactors/data/cofactor_ids.txt', 'w') as f:\n",
    "    f.write('\\n'.join(cofactor_ids))\n",
    "with open('notebooks/cofactors/data/element_ids.txt', 'w') as f:\n",
    "    f.write('\\n'.join(element_ids))\n",
    "with open('notebooks/cofactors/data/pathway_ids.txt', 'w') as f:\n",
    "    f.write('\\n'.join(pathway_ids))\n",
    "with open('notebooks/cofactors/data/amino_acid_ids.txt', 'w') as f:\n",
    "    f.write('\\n'.join(amino_acid_ids))\n",
    "\n",
    "# write all names to single file with each list on a new line\n",
    "with open('notebooks/cofactors/data/complex_names.txt', 'w') as f:\n",
    "    f.write('\\n'.join(complex_names))\n",
    "with open('notebooks/cofactors/data/protein_names.txt', 'w') as f:\n",
    "    f.write('\\n'.join(protein_names))\n",
    "with open('notebooks/cofactors/data/cofactor_names.txt', 'w') as f:\n",
    "    f.write('\\n'.join(cofactor_names))\n",
    "with open('notebooks/cofactors/data/pathway_names.txt', 'w') as f:\n",
    "    f.write('\\n'.join(pathway_names))\n",
    "\n",
    "\n",
    "# save counts of proteins and complexes\n",
    "np.savetxt('notebooks/cofactors/data/counts.csv', np.array(counts, dtype=np.int64), delimiter=',', fmt='%i')\n",
    "\n",
    "# save counts of proteins and complexes\n",
    "np.savetxt('notebooks/cofactors/data/rich_counts.csv', np.array(rich_counts, dtype=np.int64), delimiter=',', fmt='%i')\n",
    "\n",
    "# save counts of proteins and complexes\n",
    "np.savetxt('notebooks/cofactors/data/anaerobic_counts.csv', np.array(anaerobic_counts, dtype=np.int64), delimiter=',', fmt='%i')\n",
    "\n",
    "\n",
    "\n",
    "# save masses\n",
    "np.savetxt('notebooks/cofactors/data/monomer_masses.csv', np.array(parsed_protein_df['sequence_mass']), delimiter=',', fmt='%f')\n",
    "\n",
    "# list comprehension, if complex name in membrane_areas['id'], add membrane_ids['area_trans'], otherwise add 0 \n",
    "membrane_ids = dict(zip(membrane_proteins['id'], membrane_proteins['area_trans']))\n",
    "membrane_complex_areas = [membrane_ids[complex] if complex in membrane_ids else 0 for complex in complex_ids]\n",
    "membrane_monomer_areas = [membrane_ids[monomer] if monomer in membrane_ids else 0 for monomer in protein_ids]\n",
    "\n",
    "np.savetxt('notebooks/cofactors/data/complex_areas.csv', np.array(membrane_complex_areas), delimiter=',', fmt='%f')\n",
    "np.savetxt('notebooks/cofactors/data/monomer_areas.csv', np.array(membrane_monomer_areas), delimiter=',', fmt='%f')\n",
    "\n",
    "# save tree_matrix\n",
    "np.savetxt('notebooks/cofactors/data/tree_matrix.csv', tree_matrix, delimiter=',', fmt='%i')\n",
    "\n"
   ],
   "metadata": {
    "collapsed": false,
    "ExecuteTime": {
     "end_time": "2024-02-26T23:32:04.338962Z",
     "start_time": "2024-02-26T23:31:54.140403Z"
    }
   }
  },
  {
   "cell_type": "code",
   "execution_count": 59,
   "outputs": [],
   "source": [
    "# save counts as csv with header for Khoa\n",
    "counts.to_csv('notebooks/cofactors/data/counts_header.csv', index=False)\n",
    "\n",
    "parsed_protein_df.to_csv('notebooks/cofactors/data/protein_table.csv', index=False)"
   ],
   "metadata": {
    "collapsed": false,
    "ExecuteTime": {
     "end_time": "2024-02-26T18:02:46.901669Z",
     "start_time": "2024-02-26T18:02:44.483167Z"
    }
   }
  },
  {
   "cell_type": "markdown",
   "source": [
    "# Tests"
   ],
   "metadata": {
    "collapsed": false
   }
  },
  {
   "cell_type": "code",
   "execution_count": 60,
   "outputs": [
    {
     "data": {
      "text/plain": "                   id                                 common_name  \\\n1539  EG12332-MONOMER  iron-sulfur cluster insertion protein ErpA   \n\n     enzyme_reaction cofactors     direct_annotations  \\\n1539              {}        {}  {Uncategorized (III)}   \n\n                                         go_annotations uniprot_id  \\\n1539  {GO:0005829, GO:0009061, GO:0051539, GO:005160...     P0ACC3   \n\n     metal_features_processed other_features_processed  \\\n1539                       {}                       {}   \n\n                                     sequence_processed  sequence_mass  \n1539  {'M': 3, 'S': 10, 'D': 10, 'V': 10, 'A': 6, 'L...    12074.75582  ",
      "text/html": "<div>\n<style scoped>\n    .dataframe tbody tr th:only-of-type {\n        vertical-align: middle;\n    }\n\n    .dataframe tbody tr th {\n        vertical-align: top;\n    }\n\n    .dataframe thead th {\n        text-align: right;\n    }\n</style>\n<table border=\"1\" class=\"dataframe\">\n  <thead>\n    <tr style=\"text-align: right;\">\n      <th></th>\n      <th>id</th>\n      <th>common_name</th>\n      <th>enzyme_reaction</th>\n      <th>cofactors</th>\n      <th>direct_annotations</th>\n      <th>go_annotations</th>\n      <th>uniprot_id</th>\n      <th>metal_features_processed</th>\n      <th>other_features_processed</th>\n      <th>sequence_processed</th>\n      <th>sequence_mass</th>\n    </tr>\n  </thead>\n  <tbody>\n    <tr>\n      <th>1539</th>\n      <td>EG12332-MONOMER</td>\n      <td>iron-sulfur cluster insertion protein ErpA</td>\n      <td>{}</td>\n      <td>{}</td>\n      <td>{Uncategorized (III)}</td>\n      <td>{GO:0005829, GO:0009061, GO:0051539, GO:005160...</td>\n      <td>P0ACC3</td>\n      <td>{}</td>\n      <td>{}</td>\n      <td>{'M': 3, 'S': 10, 'D': 10, 'V': 10, 'A': 6, 'L...</td>\n      <td>12074.75582</td>\n    </tr>\n  </tbody>\n</table>\n</div>"
     },
     "execution_count": 60,
     "metadata": {},
     "output_type": "execute_result"
    }
   ],
   "source": [
    "parsed_protein_df[parsed_protein_df['id'] == 'EG12332-MONOMER']"
   ],
   "metadata": {
    "collapsed": false,
    "ExecuteTime": {
     "end_time": "2024-02-26T18:02:46.911910Z",
     "start_time": "2024-02-26T18:02:46.906804Z"
    }
   }
  },
  {
   "cell_type": "markdown",
   "source": [
    "First, let's test that the cofactor counts are correct for SULFITE-REDUCT-CPLX and its constituent BETACOMP-MONOMER"
   ],
   "metadata": {
    "collapsed": false
   }
  },
  {
   "cell_type": "code",
   "execution_count": 61,
   "outputs": [
    {
     "name": "stdout",
     "output_type": "stream",
     "text": [
      "found U in FDNG-MONOMER\n",
      "found U in FDOG-MONOMER\n",
      "found U in FORMATEDEHYDROGH-MONOMER\n"
     ]
    }
   ],
   "source": [
    "for i in range(len(parsed_protein_df)):\n",
    "    sequence = parsed_protein_df.at[i, 'sequence_processed']\n",
    "\n",
    "    if type(sequence) is dict and 'U' in sequence:\n",
    "        print(f'found U in {parsed_protein_df.at[i, \"id\"]}')"
   ],
   "metadata": {
    "collapsed": false,
    "ExecuteTime": {
     "end_time": "2024-02-26T18:02:46.954825Z",
     "start_time": "2024-02-26T18:02:46.920239Z"
    }
   }
  },
  {
   "cell_type": "code",
   "execution_count": 62,
   "outputs": [
    {
     "ename": "KeyError",
     "evalue": "1020",
     "output_type": "error",
     "traceback": [
      "\u001B[0;31m---------------------------------------------------------------------------\u001B[0m",
      "\u001B[0;31mKeyError\u001B[0m                                  Traceback (most recent call last)",
      "File \u001B[0;32m~/.pyenv/versions/viv-10/lib/python3.10/site-packages/pandas/core/indexes/base.py:3802\u001B[0m, in \u001B[0;36mIndex.get_loc\u001B[0;34m(self, key)\u001B[0m\n\u001B[1;32m   3801\u001B[0m \u001B[38;5;28;01mtry\u001B[39;00m:\n\u001B[0;32m-> 3802\u001B[0m     \u001B[38;5;28;01mreturn\u001B[39;00m \u001B[38;5;28;43mself\u001B[39;49m\u001B[38;5;241;43m.\u001B[39;49m\u001B[43m_engine\u001B[49m\u001B[38;5;241;43m.\u001B[39;49m\u001B[43mget_loc\u001B[49m\u001B[43m(\u001B[49m\u001B[43mcasted_key\u001B[49m\u001B[43m)\u001B[49m\n\u001B[1;32m   3803\u001B[0m \u001B[38;5;28;01mexcept\u001B[39;00m \u001B[38;5;167;01mKeyError\u001B[39;00m \u001B[38;5;28;01mas\u001B[39;00m err:\n",
      "File \u001B[0;32mindex.pyx:153\u001B[0m, in \u001B[0;36mpandas._libs.index.IndexEngine.get_loc\u001B[0;34m()\u001B[0m\n",
      "File \u001B[0;32mindex.pyx:177\u001B[0m, in \u001B[0;36mpandas._libs.index.IndexEngine.get_loc\u001B[0;34m()\u001B[0m\n",
      "File \u001B[0;32mindex.pyx:220\u001B[0m, in \u001B[0;36mpandas._libs.index.IndexEngine._get_loc_duplicates\u001B[0;34m()\u001B[0m\n",
      "File \u001B[0;32mindex.pyx:228\u001B[0m, in \u001B[0;36mpandas._libs.index.IndexEngine._maybe_get_bool_indexer\u001B[0;34m()\u001B[0m\n",
      "File \u001B[0;32mindex.pyx:120\u001B[0m, in \u001B[0;36mpandas._libs.index._unpack_bool_indexer\u001B[0;34m()\u001B[0m\n",
      "\u001B[0;31mKeyError\u001B[0m: 1020",
      "\nThe above exception was the direct cause of the following exception:\n",
      "\u001B[0;31mKeyError\u001B[0m                                  Traceback (most recent call last)",
      "Cell \u001B[0;32mIn[62], line 1\u001B[0m\n\u001B[0;32m----> 1\u001B[0m \u001B[38;5;28mprint\u001B[39m(\u001B[38;5;124mf\u001B[39m\u001B[38;5;124m'\u001B[39m\u001B[38;5;124mSulfite reductase complex count: \u001B[39m\u001B[38;5;132;01m{\u001B[39;00m\u001B[43mcounts\u001B[49m\u001B[43m[\u001B[49m\u001B[38;5;241;43m1020\u001B[39;49m\u001B[43m]\u001B[49m\u001B[38;5;132;01m}\u001B[39;00m\u001B[38;5;124m, hemoprotein subunit count: \u001B[39m\u001B[38;5;132;01m{\u001B[39;00mcounts[\u001B[38;5;241m1271\u001B[39m]\u001B[38;5;132;01m}\u001B[39;00m\u001B[38;5;124m'\u001B[39m)\n\u001B[1;32m      2\u001B[0m \u001B[38;5;28mprint\u001B[39m(\u001B[38;5;124mf\u001B[39m\u001B[38;5;124m'\u001B[39m\u001B[38;5;124mExpected iron count: \u001B[39m\u001B[38;5;132;01m{\u001B[39;00mcounts[\u001B[38;5;241m1020\u001B[39m]\u001B[38;5;250m \u001B[39m\u001B[38;5;241m*\u001B[39m\u001B[38;5;250m \u001B[39m\u001B[38;5;241m5\u001B[39m\u001B[38;5;250m \u001B[39m\u001B[38;5;241m*\u001B[39m\u001B[38;5;250m \u001B[39m\u001B[38;5;241m4\u001B[39m\u001B[38;5;132;01m}\u001B[39;00m\u001B[38;5;124m for the first, \u001B[39m\u001B[38;5;132;01m{\u001B[39;00mcounts[\u001B[38;5;241m1271\u001B[39m]\u001B[38;5;250m \u001B[39m\u001B[38;5;241m*\u001B[39m\u001B[38;5;250m \u001B[39m\u001B[38;5;241m5\u001B[39m\u001B[38;5;250m \u001B[39m\u001B[38;5;132;01m}\u001B[39;00m\u001B[38;5;124m for the second\u001B[39m\u001B[38;5;124m'\u001B[39m)\n",
      "File \u001B[0;32m~/.pyenv/versions/viv-10/lib/python3.10/site-packages/pandas/core/frame.py:4090\u001B[0m, in \u001B[0;36mDataFrame.__getitem__\u001B[0;34m(self, key)\u001B[0m\n\u001B[1;32m   4088\u001B[0m \u001B[38;5;28;01mif\u001B[39;00m \u001B[38;5;28mself\u001B[39m\u001B[38;5;241m.\u001B[39mcolumns\u001B[38;5;241m.\u001B[39mnlevels \u001B[38;5;241m>\u001B[39m \u001B[38;5;241m1\u001B[39m:\n\u001B[1;32m   4089\u001B[0m     \u001B[38;5;28;01mreturn\u001B[39;00m \u001B[38;5;28mself\u001B[39m\u001B[38;5;241m.\u001B[39m_getitem_multilevel(key)\n\u001B[0;32m-> 4090\u001B[0m indexer \u001B[38;5;241m=\u001B[39m \u001B[38;5;28;43mself\u001B[39;49m\u001B[38;5;241;43m.\u001B[39;49m\u001B[43mcolumns\u001B[49m\u001B[38;5;241;43m.\u001B[39;49m\u001B[43mget_loc\u001B[49m\u001B[43m(\u001B[49m\u001B[43mkey\u001B[49m\u001B[43m)\u001B[49m\n\u001B[1;32m   4091\u001B[0m \u001B[38;5;28;01mif\u001B[39;00m is_integer(indexer):\n\u001B[1;32m   4092\u001B[0m     indexer \u001B[38;5;241m=\u001B[39m [indexer]\n",
      "File \u001B[0;32m~/.pyenv/versions/viv-10/lib/python3.10/site-packages/pandas/core/indexes/base.py:3809\u001B[0m, in \u001B[0;36mIndex.get_loc\u001B[0;34m(self, key)\u001B[0m\n\u001B[1;32m   3804\u001B[0m     \u001B[38;5;28;01mif\u001B[39;00m \u001B[38;5;28misinstance\u001B[39m(casted_key, \u001B[38;5;28mslice\u001B[39m) \u001B[38;5;129;01mor\u001B[39;00m (\n\u001B[1;32m   3805\u001B[0m         \u001B[38;5;28misinstance\u001B[39m(casted_key, abc\u001B[38;5;241m.\u001B[39mIterable)\n\u001B[1;32m   3806\u001B[0m         \u001B[38;5;129;01mand\u001B[39;00m \u001B[38;5;28many\u001B[39m(\u001B[38;5;28misinstance\u001B[39m(x, \u001B[38;5;28mslice\u001B[39m) \u001B[38;5;28;01mfor\u001B[39;00m x \u001B[38;5;129;01min\u001B[39;00m casted_key)\n\u001B[1;32m   3807\u001B[0m     ):\n\u001B[1;32m   3808\u001B[0m         \u001B[38;5;28;01mraise\u001B[39;00m InvalidIndexError(key)\n\u001B[0;32m-> 3809\u001B[0m     \u001B[38;5;28;01mraise\u001B[39;00m \u001B[38;5;167;01mKeyError\u001B[39;00m(key) \u001B[38;5;28;01mfrom\u001B[39;00m \u001B[38;5;21;01merr\u001B[39;00m\n\u001B[1;32m   3810\u001B[0m \u001B[38;5;28;01mexcept\u001B[39;00m \u001B[38;5;167;01mTypeError\u001B[39;00m:\n\u001B[1;32m   3811\u001B[0m     \u001B[38;5;66;03m# If we have a listlike key, _check_indexing_error will raise\u001B[39;00m\n\u001B[1;32m   3812\u001B[0m     \u001B[38;5;66;03m#  InvalidIndexError. Otherwise we fall through and re-raise\u001B[39;00m\n\u001B[1;32m   3813\u001B[0m     \u001B[38;5;66;03m#  the TypeError.\u001B[39;00m\n\u001B[1;32m   3814\u001B[0m     \u001B[38;5;28mself\u001B[39m\u001B[38;5;241m.\u001B[39m_check_indexing_error(key)\n",
      "\u001B[0;31mKeyError\u001B[0m: 1020"
     ]
    }
   ],
   "source": [
    "print(f'Sulfite reductase complex count: {counts[1020]}, hemoprotein subunit count: {counts[1271]}')\n",
    "print(f'Expected iron count: {counts[1020] * 5 * 4} for the first, {counts[1271] * 5 } for the second')"
   ],
   "metadata": {
    "collapsed": false,
    "ExecuteTime": {
     "end_time": "2024-02-26T18:02:47.769449Z",
     "start_time": "2024-02-26T18:02:46.926717Z"
    }
   }
  },
  {
   "cell_type": "markdown",
   "source": [
    "Let's check the pathway counts for the related pathway."
   ],
   "metadata": {
    "collapsed": false
   }
  },
  {
   "cell_type": "code",
   "execution_count": null,
   "outputs": [],
   "source": [
    "cplx_pathways = pathway_ids[ np.where((C @ W)[1020, :])[0][0] ]\n",
    "monomer_pathways = pathway_ids[ np.where((C @ W)[1271, :])[0][0] ]\n",
    "\n",
    "\n",
    "print(f'Sulfite reductase is in the following pathways: {cplx_pathways}, while the hemoprotein is in {monomer_pathways}')"
   ],
   "metadata": {
    "collapsed": false,
    "ExecuteTime": {
     "start_time": "2024-02-26T18:02:47.769144Z"
    }
   }
  },
  {
   "cell_type": "markdown",
   "source": [
    "That means the pathway counts for iron should be the same as the cplx counts (or larger)"
   ],
   "metadata": {
    "collapsed": false
   }
  },
  {
   "cell_type": "code",
   "execution_count": null,
   "outputs": [],
   "source": [
    "# pathway_counts = (iron_counts @ C_n @ W)[  np.where((C @ W)[1020, :])[0][0]  ]\n",
    "\n",
    "# print(f'Pathway counts for iron: {pathway_counts}')"
   ],
   "metadata": {
    "collapsed": false,
    "ExecuteTime": {
     "end_time": "2024-02-26T18:02:47.780380Z",
     "start_time": "2024-02-26T18:02:47.769886Z"
    }
   }
  },
  {
   "cell_type": "code",
   "execution_count": null,
   "outputs": [],
   "source": [
    "print(f\"\"\"Monomer index: {C_names.index('SUPEROX-DISMUTFE-MONOMER')}, complex index: {C_names.index('SUPEROX-DISMUTFE-CPLX')}\"\"\")"
   ],
   "metadata": {
    "collapsed": false,
    "ExecuteTime": {
     "start_time": "2024-02-26T18:02:47.778615Z"
    }
   }
  },
  {
   "cell_type": "code",
   "execution_count": null,
   "outputs": [],
   "source": [
    "print(f\"\"\"Monomer count: {counts[5232]}, complex count: {counts[1021]}\"\"\")"
   ],
   "metadata": {
    "collapsed": false,
    "ExecuteTime": {
     "start_time": "2024-02-26T18:02:47.778962Z"
    }
   }
  },
  {
   "cell_type": "code",
   "execution_count": null,
   "outputs": [],
   "source": [
    "print(f\"\"\"Monomer index: {C_names.index('SUPEROX-DISMUTMN-MONOMER')}, complex index: {C_names.index('SUPEROX-DISMUTMN-CPLX')}\"\"\")\n",
    "print(f\"\"\"Monomer count: {counts[5233]}, complex count: {counts[1022]}\"\"\")"
   ],
   "metadata": {
    "collapsed": false,
    "ExecuteTime": {
     "start_time": "2024-02-26T18:02:47.780296Z"
    }
   }
  },
  {
   "cell_type": "code",
   "execution_count": null,
   "outputs": [],
   "source": [
    "mn_idx = element_ids.index('MN')\n",
    "mn_counts = (np.array(counts).reshape(-1, 1) * C @ P @ E)[:, mn_idx]\n",
    "# each complex count of 1 counts as 1 total annotation, so need to normalize\n",
    "C_n = C / (C.sum(axis=1, keepdims=1) + 1e-10)\n",
    "\n",
    "nz_idx = np.where((C_n @ W @ W2).T @ mn_counts)[0]\n",
    "mn_counts_group = (C_n @ W @ W2).T @ mn_counts"
   ],
   "metadata": {
    "collapsed": false,
    "ExecuteTime": {
     "start_time": "2024-02-26T18:02:47.781746Z"
    }
   }
  },
  {
   "cell_type": "code",
   "execution_count": null,
   "outputs": [],
   "source": [
    "cplx_pathways = pathway_ids[ np.where((C @ W)[5233, :])[0][0] ]\n",
    "monomer_pathways = pathway_ids[ np.where((C @ W)[1022, :])[0][0] ]\n",
    "\n",
    "\n",
    "print(f'Superoxide dismutase is in the following pathways: {cplx_pathways}, while the monomer is in {monomer_pathways}')"
   ],
   "metadata": {
    "collapsed": false,
    "ExecuteTime": {
     "start_time": "2024-02-26T18:02:47.782972Z"
    }
   }
  },
  {
   "cell_type": "code",
   "execution_count": null,
   "outputs": [],
   "source": [
    "pathway_counts = (mn_counts @ C_n @ W @ W2)[  np.where((C @ W @ W2)[5233, :])[0][0]  ]\n",
    "pathway_counts"
   ],
   "metadata": {
    "collapsed": false,
    "ExecuteTime": {
     "end_time": "2024-02-26T18:02:47.792535Z",
     "start_time": "2024-02-26T18:02:47.784377Z"
    }
   }
  },
  {
   "cell_type": "code",
   "execution_count": null,
   "outputs": [],
   "source": [
    "mn_counts[1022]"
   ],
   "metadata": {
    "collapsed": false,
    "ExecuteTime": {
     "start_time": "2024-02-26T18:02:47.785536Z"
    }
   }
  },
  {
   "cell_type": "code",
   "execution_count": null,
   "outputs": [],
   "source": [
    "counts"
   ],
   "metadata": {
    "collapsed": false,
    "ExecuteTime": {
     "start_time": "2024-02-26T18:02:47.786734Z"
    }
   }
  },
  {
   "cell_type": "code",
   "execution_count": null,
   "outputs": [],
   "source": [
    "parsed_pathway_df[parsed_pathway_df['id'] == 'PWY0-1507']"
   ],
   "metadata": {
    "collapsed": false,
    "ExecuteTime": {
     "start_time": "2024-02-26T18:02:47.788001Z"
    }
   }
  },
  {
   "cell_type": "code",
   "execution_count": null,
   "outputs": [],
   "source": [
    "pathway_ids.index('PWY0-1507')"
   ],
   "metadata": {
    "collapsed": false,
    "ExecuteTime": {
     "start_time": "2024-02-26T18:02:47.789115Z"
    }
   }
  },
  {
   "cell_type": "code",
   "execution_count": null,
   "outputs": [],
   "source": [
    "np.where(W2[753,:])"
   ],
   "metadata": {
    "collapsed": false,
    "ExecuteTime": {
     "start_time": "2024-02-26T18:02:47.790487Z"
    }
   }
  },
  {
   "cell_type": "code",
   "execution_count": null,
   "outputs": [],
   "source": [
    "pathway_ids[718]"
   ],
   "metadata": {
    "collapsed": false,
    "ExecuteTime": {
     "start_time": "2024-02-26T18:02:47.791931Z"
    }
   }
  },
  {
   "cell_type": "markdown",
   "source": [
    "## go annotation for proteins"
   ],
   "metadata": {
    "collapsed": false
   }
  },
  {
   "cell_type": "code",
   "execution_count": null,
   "outputs": [],
   "source": [
    "parsed_protein_df[parsed_protein_df['id'] == 'BCCP-MONOMER']"
   ],
   "metadata": {
    "collapsed": false,
    "ExecuteTime": {
     "end_time": "2024-02-26T18:02:47.811345Z",
     "start_time": "2024-02-26T18:02:47.793405Z"
    }
   }
  },
  {
   "cell_type": "code",
   "execution_count": null,
   "outputs": [],
   "source": [
    "parsed_protein_df[parsed_protein_df['id'] == 'EG10889-MONOMER']"
   ],
   "metadata": {
    "collapsed": false,
    "ExecuteTime": {
     "start_time": "2024-02-26T18:02:47.794751Z"
    }
   }
  },
  {
   "cell_type": "code",
   "execution_count": null,
   "outputs": [],
   "source": [
    "parsed_protein_df"
   ],
   "metadata": {
    "collapsed": false,
    "ExecuteTime": {
     "start_time": "2024-02-26T18:02:47.796084Z"
    }
   }
  },
  {
   "cell_type": "code",
   "execution_count": null,
   "outputs": [],
   "source": [
    "bulk.loc[:, 'RNA0-301[c]']"
   ],
   "metadata": {
    "collapsed": false,
    "ExecuteTime": {
     "start_time": "2024-02-26T18:02:47.797429Z"
    }
   }
  },
  {
   "cell_type": "code",
   "execution_count": null,
   "outputs": [],
   "source": [
    "bulk.loc[:, 'NARH-MONOMER[j]']"
   ],
   "metadata": {
    "collapsed": false,
    "ExecuteTime": {
     "start_time": "2024-02-26T18:02:47.798633Z"
    }
   }
  },
  {
   "cell_type": "code",
   "execution_count": null,
   "outputs": [],
   "source": [
    "ecocyc_"
   ],
   "metadata": {
    "collapsed": false,
    "ExecuteTime": {
     "start_time": "2024-02-26T18:02:47.799477Z"
    }
   }
  },
  {
   "cell_type": "code",
   "execution_count": null,
   "outputs": [],
   "source": [
    "bulk.loc[:, 'NITRATREDUCTA-CPLX[i]']"
   ],
   "metadata": {
    "collapsed": false,
    "ExecuteTime": {
     "start_time": "2024-02-26T18:02:47.800328Z"
    }
   }
  },
  {
   "cell_type": "code",
   "execution_count": null,
   "outputs": [],
   "source": [
    "for element in fba['estimated_fluxes']:\n",
    "    print(len(element))"
   ],
   "metadata": {
    "collapsed": false,
    "ExecuteTime": {
     "start_time": "2024-02-26T18:02:47.801139Z"
    }
   }
  },
  {
   "cell_type": "code",
   "execution_count": null,
   "outputs": [],
   "source": [
    "fluxes"
   ],
   "metadata": {
    "collapsed": false,
    "ExecuteTime": {
     "start_time": "2024-02-26T18:02:47.801845Z"
    }
   }
  },
  {
   "cell_type": "code",
   "execution_count": null,
   "outputs": [],
   "source": [
    "stoichiometry.shape"
   ],
   "metadata": {
    "collapsed": false,
    "ExecuteTime": {
     "start_time": "2024-02-26T18:02:47.802570Z"
    }
   }
  },
  {
   "cell_type": "code",
   "execution_count": null,
   "outputs": [],
   "source": [
    "vars(metabolism).keys()"
   ],
   "metadata": {
    "collapsed": false,
    "ExecuteTime": {
     "start_time": "2024-02-26T18:02:47.803268Z"
    }
   }
  },
  {
   "cell_type": "code",
   "execution_count": null,
   "outputs": [],
   "source": [
    "metabolism.reaction_names.index('RXN0-7077')"
   ],
   "metadata": {
    "collapsed": false,
    "ExecuteTime": {
     "start_time": "2024-02-26T18:02:47.804026Z"
    }
   }
  },
  {
   "cell_type": "code",
   "execution_count": null,
   "outputs": [],
   "source": [
    "fluxes[:, 3470]"
   ],
   "metadata": {
    "collapsed": false,
    "ExecuteTime": {
     "start_time": "2024-02-26T18:02:47.805099Z"
    }
   }
  },
  {
   "cell_type": "code",
   "execution_count": null,
   "outputs": [],
   "source": [
    "time = '2600'\n",
    "date = '2023-11-28'\n",
    "experiment = 'metabolism-redux-classic'\n",
    "entry = f'{experiment}_{time}_{date}'\n",
    "folder = f'out/cofactors/{entry}/'\n",
    "\n",
    "f = open(folder + 'agent_steps.pkl', 'rb')\n",
    "agent = dill.load(f)\n",
    "f.close()\n",
    "\n",
    "metabolism = agent['ecoli-metabolism-redux-classic']\n",
    "stoichiometry = metabolism.stoichiometry"
   ],
   "metadata": {
    "collapsed": false,
    "ExecuteTime": {
     "start_time": "2024-02-26T18:02:47.806136Z"
    }
   }
  },
  {
   "cell_type": "code",
   "execution_count": null,
   "outputs": [],
   "source": [
    "output_all = np.load(folder + '0_output.npy',allow_pickle='TRUE').item()\n",
    "# output = np.load(r\"out/geneRxnVerifData/output_glc.npy\", allow_pickle=True, encoding='ASCII').tolist()\n",
    "output = output_all['agents']['0']\n",
    "fba = output['listeners']['fba_results']\n",
    "mass = output['listeners']['mass']\n",
    "bulk = pd.DataFrame(output['bulk'])\n",
    "\n",
    "fluxes = np.array(fba['estimated_fluxes'][1:])\n",
    "exchanges = fba['estimated_exchange_dmdt']\n",
    "\n",
    "output['listeners']['unique_molecule_counts']['active_ribosome']"
   ],
   "metadata": {
    "collapsed": false,
    "ExecuteTime": {
     "start_time": "2024-02-26T18:02:47.807031Z"
    }
   }
  },
  {
   "cell_type": "code",
   "execution_count": null,
   "outputs": [],
   "source": [
    "flux_df = pd.DataFrame(fluxes, columns=metabolism.reaction_names)\n",
    "flux_df\n",
    "\n",
    "# find top 10 fluxes for timestep 50\n",
    "flux_df.loc[50, :].sort_values(ascending=False)[0:50]"
   ],
   "metadata": {
    "collapsed": false,
    "ExecuteTime": {
     "start_time": "2024-02-26T18:02:47.807728Z"
    }
   }
  },
  {
   "cell_type": "code",
   "execution_count": null,
   "outputs": [],
   "source": [
    "exchanges.keys()"
   ],
   "metadata": {
    "collapsed": false,
    "ExecuteTime": {
     "start_time": "2024-02-26T18:02:47.808432Z"
    }
   }
  },
  {
   "cell_type": "code",
   "execution_count": null,
   "outputs": [],
   "source": [
    "exch_df_exp = pd.DataFrame([exchanges['GLC[p]'], exchanges['OXYGEN-MOLECULE[p]']]).T\n",
    "exch_df_exp.columns = ['GLC[p]', 'OXYGEN-MOLECULE[p]']\n",
    "exch_df_exp.to_csv('notebooks/cofactors/data/exchanges.csv', index=False)"
   ],
   "metadata": {
    "collapsed": false,
    "ExecuteTime": {
     "start_time": "2024-02-26T18:02:47.809147Z"
    }
   }
  },
  {
   "cell_type": "code",
   "execution_count": null,
   "outputs": [],
   "source": [
    "flux_df.loc[50, 'NADH-DEHYDROG-A-RXN-NADH/UBIQUINONE-8/PROTON//NAD/CPD-9956/PROTON.46.']"
   ],
   "metadata": {
    "collapsed": false,
    "ExecuteTime": {
     "start_time": "2024-02-26T18:02:47.809841Z"
    }
   }
  },
  {
   "cell_type": "code",
   "execution_count": null,
   "outputs": [],
   "source": [
    "for name in metabolism.reaction_names:\n",
    "    if 'RXN0-5388' in name:\n",
    "        print(name)"
   ],
   "metadata": {
    "collapsed": false,
    "ExecuteTime": {
     "start_time": "2024-02-26T18:02:47.810586Z"
    }
   }
  },
  {
   "cell_type": "code",
   "execution_count": null,
   "outputs": [],
   "source": [],
   "metadata": {
    "collapsed": false,
    "ExecuteTime": {
     "start_time": "2024-02-26T18:02:47.811279Z"
    }
   }
  }
 ],
 "metadata": {
  "kernelspec": {
   "display_name": "Python 3",
   "language": "python",
   "name": "python3"
  },
  "language_info": {
   "codemirror_mode": {
    "name": "ipython",
    "version": 2
   },
   "file_extension": ".py",
   "mimetype": "text/x-python",
   "name": "python",
   "nbconvert_exporter": "python",
   "pygments_lexer": "ipython2",
   "version": "2.7.6"
  }
 },
 "nbformat": 4,
 "nbformat_minor": 0
}
