{
 "cells": [
  {
   "cell_type": "markdown",
   "source": [
    "# Setup"
   ],
   "metadata": {
    "collapsed": false
   }
  },
  {
   "cell_type": "code",
   "execution_count": 1,
   "metadata": {
    "collapsed": true,
    "ExecuteTime": {
     "end_time": "2023-08-05T21:59:15.026802Z",
     "start_time": "2023-08-05T21:59:14.992975Z"
    }
   },
   "outputs": [],
   "source": [
    "import numpy as np\n",
    "\n",
    "import seaborn as sns\n",
    "import pandas as pd\n",
    "import os\n",
    "import pprint\n",
    "import ast\n",
    "import re\n",
    "import matplotlib.pyplot as plt\n",
    "import dill\n",
    "import requests\n",
    "import xmltodict\n",
    "import json\n",
    "\n",
    "pp = pprint.PrettyPrinter(depth=6)\n",
    "\n",
    "os.chdir(os.path.expanduser('~/vivarium-ecoli'))\n",
    "\n",
    "ALLOWED_METAL_NAMES =   {'Iron': 'FE+2', 'Cobalt': 'CO+2', 'Copper': 'CU+2', 'Manganese': 'MN+2', 'Molybdenum': 'CPD-8123', 'Nickel': 'NI+2', 'Zinc': 'ZN+2',\n",
    "                        'Calcium': 'CA+2', 'Magnesium': 'MG+2', 'Sodium': 'NA+', 'Potassium': 'K+',\n",
    "                        'Iron-sulfur \\(4Fe-4S\\)': 'CPD-7', 'Iron-sulfur \\(2Fe-2S\\)': 'CPD-6',\n",
    "                         'Iron-sulfur \\(4Fe-4S-S-AdoMet\\)': 'CPD-7', 'Iron-sulfur \\(3Fe-4S\\)': '3FE-4S', 'Iron-oxo-sulfur \\(4Fe-2O-2S\\)': 'CPD-7',\n",
    "                        'heme': 'Heme-b', 'Molybdate': 'CPD-3', 'heme B': 'Heme-b',\n",
    "                         'L-SELENOCYSTEINE': 'L-SELENOCYSTEINE',\n",
    "                        'Divalent metal cation': 'Any+2'}\n",
    "\n",
    "\n",
    "ACCEPTED_OTHER_FEATURES = {'PYRIDOXAL_PHOSPHATE', 'THIAMINE-PYROPHOSPHATE', 'FMN', 'FAD'}\n",
    "\n",
    "def get_pathway_ith_level_parents(cur_pathway_idx, pathway_matrix, name_list, level_vector, level=2, parent_dict=None):\n",
    "\n",
    "    if parent_dict is None:\n",
    "        parent_dict = {}\n",
    "\n",
    "    cur_pathway_level = level_vector[cur_pathway_idx]\n",
    "\n",
    "    if cur_pathway_level == level:\n",
    "        parent_dict[name_list[cur_pathway_idx]] = cur_pathway_level\n",
    "\n",
    "    parent_slice = pathway_matrix[:, cur_pathway_idx]\n",
    "    parent_idxs = np.where(parent_slice != 0)[0]\n",
    "\n",
    "\n",
    "    for idx in parent_idxs:\n",
    "\n",
    "        _ = get_pathway_ith_level_parents(idx, pathway_matrix, name_list, level_vector, level, parent_dict)\n",
    "\n",
    "    return parent_dict"
   ]
  },
  {
   "cell_type": "markdown",
   "source": [
    "## Connect to api"
   ],
   "metadata": {
    "collapsed": false
   }
  },
  {
   "cell_type": "code",
   "execution_count": 2,
   "outputs": [],
   "source": [
    "password = input(\"Enter Password: \")"
   ],
   "metadata": {
    "collapsed": false,
    "ExecuteTime": {
     "end_time": "2023-08-05T21:59:17.853406Z",
     "start_time": "2023-08-05T21:59:15.026533Z"
    }
   }
  },
  {
   "cell_type": "code",
   "execution_count": 3,
   "outputs": [
    {
     "data": {
      "text/plain": "<Response [200]>"
     },
     "execution_count": 3,
     "metadata": {},
     "output_type": "execute_result"
    }
   ],
   "source": [
    "s = requests.Session() # create session\n",
    "# Post login credentials to session:\n",
    "s.post('https://websvc.biocyc.org/credentials/login/', data={'email':'cellulararchitect@protonmail.com', 'password': password})"
   ],
   "metadata": {
    "collapsed": false,
    "ExecuteTime": {
     "end_time": "2023-08-05T21:59:18.150116Z",
     "start_time": "2023-08-05T21:59:17.825199Z"
    }
   }
  },
  {
   "cell_type": "markdown",
   "source": [
    "## Reload data"
   ],
   "metadata": {
    "collapsed": false
   }
  },
  {
   "cell_type": "code",
   "execution_count": 4,
   "outputs": [],
   "source": [
    "parsed_complex_df = pd.read_csv('notebooks/cofactors/data/raw_complexes.csv', index_col=False)\n",
    "\n",
    "# read stoichiometry, cofactors and enzyme_reaction as literal sets\n",
    "for column in ['stoichiometry', 'cofactors', 'enzyme_reaction']:\n",
    "    parsed_complex_df[column] = parsed_complex_df[column].apply(ast.literal_eval)\n",
    "\n",
    "parsed_protein_df = pd.read_csv('notebooks/cofactors/data/raw_proteins.csv', index_col=False)\n",
    "\n",
    "for column in ['cofactors', 'enzyme_reaction', 'metal_features', 'other_features', 'direct_annotations']:\n",
    "    parsed_protein_df[column] = parsed_protein_df[column].apply(ast.literal_eval)\n",
    "\n",
    "\n",
    "parsed_cofactor_df = pd.read_csv('notebooks/cofactors/data/raw_cofactors.csv', index_col=False)\n",
    "\n",
    "for column in ['elemental_composition']:\n",
    "    parsed_cofactor_df[column] = parsed_cofactor_df[column].apply(ast.literal_eval)\n",
    "\n",
    "parsed_pathway_df = pd.read_csv('notebooks/cofactors/data/raw_pathways.csv', index_col=False)\n",
    "\n",
    "for column in ['parents', 'children']:\n",
    "    parsed_pathway_df[column] = parsed_pathway_df[column].apply(ast.literal_eval)"
   ],
   "metadata": {
    "collapsed": false,
    "ExecuteTime": {
     "end_time": "2023-08-05T21:59:18.319073Z",
     "start_time": "2023-08-05T21:59:18.152594Z"
    }
   }
  },
  {
   "cell_type": "code",
   "execution_count": 5,
   "outputs": [
    {
     "data": {
      "text/plain": "                                   index  \\\n0                     Signaling-Pathways   \n1                              PWY0-1559   \n2                              PWY0-1495   \n3                              PWY0-1518   \n4                              PWY0-1490   \n...                                  ...   \n1159                  GLUTATHIONESYN-PWY   \n1160             Butanediol-Biosynthesis   \n1161                       CYCLOPEPTIDES   \n1162  6-HM-Dihydropterin-PP-Biosynthesis   \n1163                            PWY-6147   \n\n                                   parents  \\\n0                                       []   \n1                     [Signaling-Pathways]   \n2                     [Signaling-Pathways]   \n3                     [Signaling-Pathways]   \n4                     [Signaling-Pathways]   \n...                                    ...   \n1159                          [Reductants]   \n1160                  [Other-biosynthesis]   \n1161                  [Other-biosynthesis]   \n1162                  [Other-biosynthesis]   \n1163  [6-HM-Dihydropterin-PP-Biosynthesis]   \n\n                                               children  level  \n0     [PWY0-1559, PWY0-1495, PWY0-1518, PWY0-1490, P...      1  \n1                                                    []      2  \n2                                                    []      2  \n3                                                    []      2  \n4                                                    []      2  \n...                                                 ...    ...  \n1159                                                 []      4  \n1160                                                 []      3  \n1161                                                 []      3  \n1162                                         [PWY-6147]      3  \n1163                                                 []      4  \n\n[1164 rows x 4 columns]",
      "text/html": "<div>\n<style scoped>\n    .dataframe tbody tr th:only-of-type {\n        vertical-align: middle;\n    }\n\n    .dataframe tbody tr th {\n        vertical-align: top;\n    }\n\n    .dataframe thead th {\n        text-align: right;\n    }\n</style>\n<table border=\"1\" class=\"dataframe\">\n  <thead>\n    <tr style=\"text-align: right;\">\n      <th></th>\n      <th>index</th>\n      <th>parents</th>\n      <th>children</th>\n      <th>level</th>\n    </tr>\n  </thead>\n  <tbody>\n    <tr>\n      <th>0</th>\n      <td>Signaling-Pathways</td>\n      <td>[]</td>\n      <td>[PWY0-1559, PWY0-1495, PWY0-1518, PWY0-1490, P...</td>\n      <td>1</td>\n    </tr>\n    <tr>\n      <th>1</th>\n      <td>PWY0-1559</td>\n      <td>[Signaling-Pathways]</td>\n      <td>[]</td>\n      <td>2</td>\n    </tr>\n    <tr>\n      <th>2</th>\n      <td>PWY0-1495</td>\n      <td>[Signaling-Pathways]</td>\n      <td>[]</td>\n      <td>2</td>\n    </tr>\n    <tr>\n      <th>3</th>\n      <td>PWY0-1518</td>\n      <td>[Signaling-Pathways]</td>\n      <td>[]</td>\n      <td>2</td>\n    </tr>\n    <tr>\n      <th>4</th>\n      <td>PWY0-1490</td>\n      <td>[Signaling-Pathways]</td>\n      <td>[]</td>\n      <td>2</td>\n    </tr>\n    <tr>\n      <th>...</th>\n      <td>...</td>\n      <td>...</td>\n      <td>...</td>\n      <td>...</td>\n    </tr>\n    <tr>\n      <th>1159</th>\n      <td>GLUTATHIONESYN-PWY</td>\n      <td>[Reductants]</td>\n      <td>[]</td>\n      <td>4</td>\n    </tr>\n    <tr>\n      <th>1160</th>\n      <td>Butanediol-Biosynthesis</td>\n      <td>[Other-biosynthesis]</td>\n      <td>[]</td>\n      <td>3</td>\n    </tr>\n    <tr>\n      <th>1161</th>\n      <td>CYCLOPEPTIDES</td>\n      <td>[Other-biosynthesis]</td>\n      <td>[]</td>\n      <td>3</td>\n    </tr>\n    <tr>\n      <th>1162</th>\n      <td>6-HM-Dihydropterin-PP-Biosynthesis</td>\n      <td>[Other-biosynthesis]</td>\n      <td>[PWY-6147]</td>\n      <td>3</td>\n    </tr>\n    <tr>\n      <th>1163</th>\n      <td>PWY-6147</td>\n      <td>[6-HM-Dihydropterin-PP-Biosynthesis]</td>\n      <td>[]</td>\n      <td>4</td>\n    </tr>\n  </tbody>\n</table>\n<p>1164 rows × 4 columns</p>\n</div>"
     },
     "execution_count": 5,
     "metadata": {},
     "output_type": "execute_result"
    }
   ],
   "source": [
    "parsed_pathway_df"
   ],
   "metadata": {
    "collapsed": false,
    "ExecuteTime": {
     "end_time": "2023-08-05T21:59:18.326907Z",
     "start_time": "2023-08-05T21:59:18.322540Z"
    }
   }
  },
  {
   "cell_type": "markdown",
   "source": [
    "# Data processing into final tables\n",
    "## Processing of pathway data into matrices"
   ],
   "metadata": {
    "collapsed": false
   }
  },
  {
   "cell_type": "markdown",
   "source": [
    "## Process raw EcoCyc annotations into standard EcoCyc names"
   ],
   "metadata": {
    "collapsed": false
   }
  },
  {
   "cell_type": "code",
   "execution_count": 9,
   "outputs": [
    {
     "name": "stdout",
     "output_type": "stream",
     "text": [
      "No match for UniProt: Magnesium or manganese. in 3-ISOPROPYLMALDEHYDROG-MONOMER\n",
      "No match for conserved, Fe(III) binding motif in BASS-MONOMER\n",
      "No match for predicted heme d ligand in CYDA-MONOMER\n",
      "No match for UniProt: Fe(2+); catalytic. in CYTDEAM-MONOMER\n",
      "No match for UniProt: Zn(2+); catalytic. in CYTDEAM-MONOMER\n",
      "No match for The amino-terminus of ClpA contains a Zinc binding site. in EG10156-MONOMER\n",
      "No match for The active-site magnesium ion is coordinated by three aspartate residues (401, 403, 555). Two of them form part of \n",
      "the PDXD active-site motif. in EG10238-MONOMER\n",
      "No match for Based on crystal structures, Glu-265 and Asp-309 coordinate a divalent cation. in EG10239-MONOMER\n",
      "No match for Divalent magnesium ions are chelated by three aspartate residues, two in the conserved DPD sequence (345, 347) \n",
      "and one in the conserved EGYMD sequence (269). in EG10239-MONOMER\n",
      "No match for These residues are thought to coordinate the one or two divalent magnesium ions required for the \n",
      "gyrase cleavage-religation reaction. in EG10424-MONOMER\n",
      "No match for Mg<sup>2+</sup> binding site in EG10599-MONOMER\n",
      "No match for Iron-sulfur (4Fe-4S) in EG10627-MONOMER\n",
      "No match for This metal-binding motif was identified in a crystal structure [<a href=\"http://www.ncbi.nlm.nih.gov/pubmed/16885166\">Ito06</a>]. in EG10696-MONOMER\n",
      "No match for Asp-10 and Asp-134 coordinate a divalent manganese ion which, when present may inhibit enzymatic activity. in EG10860-MONOMER\n",
      "No match for Asp-10, Glu-48 and Asp-70 coordinate a divalent manganese ion which is required for catalytic activity. in EG10860-MONOMER\n",
      "No match for Asn-44 and Glu-48 coordinate magnesium when it is present. in EG10860-MONOMER\n",
      "No match for binds Zn<sup>2+</sup> and Cd<sup>2+</sup> with high affinity and Fe<sup>2+</sup> with lower affinity in EG11167-MONOMER\n",
      "No match for binds Fe<sup>2+</sup> with high affinity in EG11167-MONOMER\n",
      "No match for UniProt: Iron-sulfur 2 (4Fe-4S-substrate). in EG11595-MONOMER\n",
      "No match for UniProt: Iron-sulfur 1 (4Fe-4S-S-AdoMet). in EG11595-MONOMER\n",
      "No match for Zn<sup>2+</sup> binding in EG11918-MONOMER\n",
      "No match for predicted zinc binding site in EG11955-MONOMER\n",
      "No match for cluster of cysteines that may be involved in binding zinc; possible zinc finger domains in EG12045-MONOMER\n",
      "No match for coordination of zinc in EG12045-MONOMER\n",
      "No match for conserved histidines located in periplasmic regions on either side of the WWD region; ligands for heme in holoCcmE in EG12054-MONOMER\n",
      "No match for Ligands to <i>b</i> heme in EG12054-MONOMER\n",
      "No match for UniProt: Zn(2+); catalytic. in EG12097-MONOMER\n",
      "No match for Calcium in EG12244-MONOMER\n",
      "No match for a third Met ligand is likely located in the region 380-403; substrate binding oxidation site: Cu(I) &rarr; Cu(II) in EG12318-MONOMER\n",
      "No match for type II, non-blue copper site in EG12318-MONOMER\n",
      "No match for labile or regulatory copper binding site; functions as an electron transfer site not a substrate reaction site in EG12318-MONOMER\n",
      "No match for type III, coupled binuclear Cu site in EG12318-MONOMER\n",
      "No match for substrate binding oxidation site: Cu(I) &rarr; Cu(II) in EG12318-MONOMER\n",
      "No match for type I, blue copper site in EG12318-MONOMER\n",
      "No match for UniProt: Iron-sulfur. in EG12332-MONOMER\n",
      "No match for UniProt: Iron-sulfur. in EG12933-MONOMER\n",
      "No match for L-SELENOCYSTEINE in FDNG-MONOMER\n",
      "No match for L-SELENOCYSTEINE in FDOG-MONOMER\n",
      "No match for conserved in members of the TEES family of bacterial GTPases; implicated in potassium binding in <i>S. thermophilus</i> nFeoB in FEOB-MONOMER\n",
      "No match for L-SELENOCYSTEINE in FORMATEDEHYDROGH-MONOMER\n",
      "No match for UniProt: Iron-sulfur 2 (4Fe-4S). in FUM-FE-S\n",
      "No match for UniProt: Iron-sulfur 1 (2Fe-2S). in FUM-FE-S\n",
      "No match for 2Fe:2S coordination site in FUM-FE-S\n",
      "No match for UniProt: Iron-sulfur 3 (3Fe-4S). in FUM-FE-S\n",
      "No match for 4Fe:4S coordination site in FUM-FE-S\n",
      "No match for 3Fe:4S coordination site in FUM-FE-S\n",
      "No match for UniProt: Copper(1+). in G6263-MONOMER\n",
      "No match for Ag(I) binding, symmetrical binding of two Ag(I) ions at the CusS dimer interface; F43, H176 and H42' co-ordinate one Ag(I) ion while F43', H176' and H42 coordinate the second in G6318-MONOMER\n",
      "No match for Ag(I) binding; involved in binding one Ag(I) ion per CusS monomer in G6318-MONOMER\n",
      "No match for Each of the cysteines in this conserved iron-binding motif is individually required\n",
      "for MiaB enzymatic activity. in G6364-MONOMER\n",
      "No match for potential metal binding site in G6527-MONOMER\n",
      "No match for potential Zn(2) binding site in G6527-MONOMER\n",
      "No match for enzyme shows preference for Fe<sup>2+</sup>, Ni<sup>2+</sup> and Co<sup>2+</sup> over Zn<sup>2+</sup> in G6530-MONOMER\n",
      "No match for Cu<sup>2+</sup>-binding site in G7014-MONOMER\n",
      "No match for potential, conserved copper binding site in G7139-MONOMER\n",
      "No match for zinc binding site in G7430-MONOMER\n",
      "No match for zinc binding in G7458-MONOMER\n",
      "No match for UniProt: Iron-sulfur 2 (4Fe-4S). in G7953-MONOMER\n",
      "No match for UniProt: Iron-sulfur 3 (4Fe-4S). in G7953-MONOMER\n",
      "No match for UniProt: Iron-sulfur 1 (4Fe-4S-S-AdoMet). in G7953-MONOMER\n",
      "No match for Cys ligands for the nickel ion of the Ni-Fe active site in HYAB-MONOMER\n",
      "No match for heme <i>b</i> ligand in HYAC-MONOMER\n",
      "No match for ligand single calcium ions bound to each monomer of the homodimer; R167 and Ser152 ligands are from monomer A, Ser172 ligand is from monomer B in MONOMER0-341\n",
      "No match for predicted copper ligands in NADH-DHII-MONOMER\n",
      "No match for UniProt: Magnesium or cobalt. in NAG1P-URIDYLTRANS-MONOMER\n",
      "No match for coordinates a molybdenum hydroxo ligand in NARG-MONOMER\n",
      "No match for [4Fe-4S] coordination, FS2 in NARY-MONOMER\n",
      "No match for [3Fe-4S] coordination, FS4 in NARY-MONOMER\n",
      "No match for [4Fe-4S] coordination; FS1 in NARY-MONOMER\n",
      "No match for [4Fe-4S] corodination, FS3 in NARY-MONOMER\n",
      "No match for implicated in Na<sup>+</sup> binding above pH7 in NHAA-MONOMER\n",
      "No match for UniProt: Iron-sulfur. in TTDA-MONOMER\n",
      "No match for These residues make up the zinc-binding site. Histidines 79 and 238 appear to directly coordinate zinc, with\n",
      "additional coordination provided by one of the two other residues. All four are essential for catalytic\n",
      "activity [<a href=\"http://www.ncbi.nlm.nih.gov/pubmed/11148046\">Jackman01</a>]. Extended X-ray absorption fine structure spectroscopy suggests that aspartate-246\n",
      "coordinates zinc with the aid of a solvent molecule [<a href=\"http://www.ncbi.nlm.nih.gov/pubmed/12620676\">McClure03</a>]. in UDPACYLGLCNACDEACETYL-MONOMER\n",
      "No match for residues constituting a (Met<sub>2</sub> O/N) metal binding motif in YBDE-MONOMER\n",
      "No match for methionine pair located in transmembrane region of protein; suggested to form binding site as part of a methionine shuttle for movement of substrate in YBDE-MONOMER\n",
      "No match for methionine residues shown to coordinate Cu(I) in the periplasmic binding cleft in YBDE-MONOMER\n",
      "No match for methionine pair located in periplasmic region of protein; suggested to form binding site as part of a methionine shuttle for movement of substrate in YBDE-MONOMER\n",
      "No match for implicated in metal (Zn<sup>2+</sup> and Cd<sup>2+</sup>) coordination in YIIP-MONOMER\n",
      "No match for zinc-coordinating residues in ZNUA-MONOMER\n",
      "No match for implicated in a second zinc binding site in ZNUA-MONOMER\n"
     ]
    }
   ],
   "source": [
    "\n",
    "# remove all \\ characters from keys in ALLOWED_METAL_NAMES\n",
    "NON_REGEX_METAL = {key.replace('\\\\', ''): value for key, value in ALLOWED_METAL_NAMES.items()}\n",
    "\n",
    "parsed_protein_df['metal_features_processed'] = 0\n",
    "parsed_protein_df['metal_features_processed'] = parsed_protein_df['metal_features_processed'].astype(object)\n",
    "\n",
    "metal_pattern = '|'.join(ALLOWED_METAL_NAMES.keys())\n",
    "metal_regex = re.compile(f'(({metal_pattern})(\\s\\d[\\.,;]|[\\.,;]|\\s\\())')\n",
    "\n",
    "\n",
    "for i in range(len(parsed_protein_df.index)):\n",
    "\n",
    "    metal_binding = parsed_protein_df.loc[i, 'metal_features']\n",
    "\n",
    "    metal_count_dict = {}\n",
    "    existing_matches = set()\n",
    "\n",
    "    for feature in metal_binding:\n",
    "        matches = metal_regex.search(feature)\n",
    "        if matches:\n",
    "            metal = matches.group(0)[:-1]\n",
    "\n",
    "            # eliminate duplicates\n",
    "            if metal not in existing_matches:\n",
    "\n",
    "                existing_matches.add(metal)\n",
    "\n",
    "                if 'heme' in feature:\n",
    "                    metal = metal.replace('Iron', 'heme')\n",
    "\n",
    "                # check if last char of metal is a number, then crop\n",
    "                if metal[-1].isdigit():\n",
    "                    metal = metal[:-2]\n",
    "\n",
    "                metal = metal.strip()\n",
    "\n",
    "                # replace metal name with allowed metal name\n",
    "                metal = NON_REGEX_METAL[metal]\n",
    "\n",
    "                if metal in metal_count_dict:\n",
    "                    metal_count_dict[metal] += 1\n",
    "                else:\n",
    "                    metal_count_dict[metal] = 1\n",
    "\n",
    "        else:\n",
    "            print(f'No match for {feature} in {parsed_protein_df.loc[i, \"id\"]}')\n",
    "\n",
    "\n",
    "\n",
    "\n",
    "    parsed_protein_df.at[i, 'metal_features_processed'] = metal_count_dict"
   ],
   "metadata": {
    "collapsed": false,
    "ExecuteTime": {
     "end_time": "2023-08-05T21:59:18.455949Z",
     "start_time": "2023-08-05T21:59:18.373181Z"
    }
   }
  },
  {
   "cell_type": "code",
   "execution_count": 10,
   "outputs": [
    {
     "data": {
      "text/plain": "                                            id  \\\n0      1-ACYLGLYCEROL-3-P-ACYLTRANSFER-MONOMER   \n1                                1-PFK-MONOMER   \n2             2-DEHYDROPANTOATE-REDUCT-MONOMER   \n3                 2-ISOPROPYLMALATESYN-MONOMER   \n4     2-OCTAPRENYL-METHOXY-BENZOQ-METH-MONOMER   \n...                                        ...   \n4415                              YTFR-MONOMER   \n4416                              YTFT-MONOMER   \n4417                              ZNUA-MONOMER   \n4418                              ZNUB-MONOMER   \n4419                              ZNUC-MONOMER   \n\n                                            common_name  \\\n0     1-acylglycerol-3-phosphate <i>O</i>-acyltransf...   \n1                                 1-phosphofructokinase   \n2                         2-dehydropantoate 2-reductase   \n3                            2-isopropylmalate synthase   \n4     bifunctional 2-octaprenyl-6-methoxy-1,4-benzoq...   \n...                                                 ...   \n4415  galactofuranose ABC transporter putative ATP b...   \n4416  galactofuranose ABC transporter putative membr...   \n4417  Zn<sup>2+</sup> ABC transporter periplasmic bi...   \n4418   Zn<sup>2+</sup> ABC transporter membrane subunit   \n4419  Zn<sup>2+</sup> ABC transporter ATP binding su...   \n\n                                        enzyme_reaction cofactors  \\\n0     {ENZRXN0-6620, ENZRXN0-7994, ENZRXN0-7993, ENZ...        {}   \n1                                                    {}        {}   \n2                     {2-DEHYDROPANTOATE-REDUCT-ENZRXN}        {}   \n3                                        {ENZRXN0-6250}        {}   \n4     {ADOMET-DMK-METHYLTRANSFER-ENZRXN, 2-OCTAPRENY...        {}   \n...                                                 ...       ...   \n4415                                                 {}        {}   \n4416                                                 {}        {}   \n4417                                                 {}        {}   \n4418                                                 {}        {}   \n4419                                                 {}        {}   \n\n     other_features              direct_annotations metal_features_processed  \n0                []           {PWY-5667, PWY0-1319}                       {}  \n1             [ATP]                     {PWY0-1314}                       {}  \n2            [NADP]                     {PANTO-PWY}                       {}  \n3                []                    {LEUSYN-PWY}                       {}  \n4                []  {PWY-6708, MENAQUINONESYN-PWY}                       {}  \n...             ...                             ...                      ...  \n4415          [ATP]                              {}                       {}  \n4416             []                              {}                       {}  \n4417             []                              {}              {'ZN+2': 1}  \n4418             []                              {}                       {}  \n4419          [ATP]                              {}                       {}  \n\n[4420 rows x 7 columns]",
      "text/html": "<div>\n<style scoped>\n    .dataframe tbody tr th:only-of-type {\n        vertical-align: middle;\n    }\n\n    .dataframe tbody tr th {\n        vertical-align: top;\n    }\n\n    .dataframe thead th {\n        text-align: right;\n    }\n</style>\n<table border=\"1\" class=\"dataframe\">\n  <thead>\n    <tr style=\"text-align: right;\">\n      <th></th>\n      <th>id</th>\n      <th>common_name</th>\n      <th>enzyme_reaction</th>\n      <th>cofactors</th>\n      <th>other_features</th>\n      <th>direct_annotations</th>\n      <th>metal_features_processed</th>\n    </tr>\n  </thead>\n  <tbody>\n    <tr>\n      <th>0</th>\n      <td>1-ACYLGLYCEROL-3-P-ACYLTRANSFER-MONOMER</td>\n      <td>1-acylglycerol-3-phosphate &lt;i&gt;O&lt;/i&gt;-acyltransf...</td>\n      <td>{ENZRXN0-6620, ENZRXN0-7994, ENZRXN0-7993, ENZ...</td>\n      <td>{}</td>\n      <td>[]</td>\n      <td>{PWY-5667, PWY0-1319}</td>\n      <td>{}</td>\n    </tr>\n    <tr>\n      <th>1</th>\n      <td>1-PFK-MONOMER</td>\n      <td>1-phosphofructokinase</td>\n      <td>{}</td>\n      <td>{}</td>\n      <td>[ATP]</td>\n      <td>{PWY0-1314}</td>\n      <td>{}</td>\n    </tr>\n    <tr>\n      <th>2</th>\n      <td>2-DEHYDROPANTOATE-REDUCT-MONOMER</td>\n      <td>2-dehydropantoate 2-reductase</td>\n      <td>{2-DEHYDROPANTOATE-REDUCT-ENZRXN}</td>\n      <td>{}</td>\n      <td>[NADP]</td>\n      <td>{PANTO-PWY}</td>\n      <td>{}</td>\n    </tr>\n    <tr>\n      <th>3</th>\n      <td>2-ISOPROPYLMALATESYN-MONOMER</td>\n      <td>2-isopropylmalate synthase</td>\n      <td>{ENZRXN0-6250}</td>\n      <td>{}</td>\n      <td>[]</td>\n      <td>{LEUSYN-PWY}</td>\n      <td>{}</td>\n    </tr>\n    <tr>\n      <th>4</th>\n      <td>2-OCTAPRENYL-METHOXY-BENZOQ-METH-MONOMER</td>\n      <td>bifunctional 2-octaprenyl-6-methoxy-1,4-benzoq...</td>\n      <td>{ADOMET-DMK-METHYLTRANSFER-ENZRXN, 2-OCTAPRENY...</td>\n      <td>{}</td>\n      <td>[]</td>\n      <td>{PWY-6708, MENAQUINONESYN-PWY}</td>\n      <td>{}</td>\n    </tr>\n    <tr>\n      <th>...</th>\n      <td>...</td>\n      <td>...</td>\n      <td>...</td>\n      <td>...</td>\n      <td>...</td>\n      <td>...</td>\n      <td>...</td>\n    </tr>\n    <tr>\n      <th>4415</th>\n      <td>YTFR-MONOMER</td>\n      <td>galactofuranose ABC transporter putative ATP b...</td>\n      <td>{}</td>\n      <td>{}</td>\n      <td>[ATP]</td>\n      <td>{}</td>\n      <td>{}</td>\n    </tr>\n    <tr>\n      <th>4416</th>\n      <td>YTFT-MONOMER</td>\n      <td>galactofuranose ABC transporter putative membr...</td>\n      <td>{}</td>\n      <td>{}</td>\n      <td>[]</td>\n      <td>{}</td>\n      <td>{}</td>\n    </tr>\n    <tr>\n      <th>4417</th>\n      <td>ZNUA-MONOMER</td>\n      <td>Zn&lt;sup&gt;2+&lt;/sup&gt; ABC transporter periplasmic bi...</td>\n      <td>{}</td>\n      <td>{}</td>\n      <td>[]</td>\n      <td>{}</td>\n      <td>{'ZN+2': 1}</td>\n    </tr>\n    <tr>\n      <th>4418</th>\n      <td>ZNUB-MONOMER</td>\n      <td>Zn&lt;sup&gt;2+&lt;/sup&gt; ABC transporter membrane subunit</td>\n      <td>{}</td>\n      <td>{}</td>\n      <td>[]</td>\n      <td>{}</td>\n      <td>{}</td>\n    </tr>\n    <tr>\n      <th>4419</th>\n      <td>ZNUC-MONOMER</td>\n      <td>Zn&lt;sup&gt;2+&lt;/sup&gt; ABC transporter ATP binding su...</td>\n      <td>{}</td>\n      <td>{}</td>\n      <td>[ATP]</td>\n      <td>{}</td>\n      <td>{}</td>\n    </tr>\n  </tbody>\n</table>\n<p>4420 rows × 7 columns</p>\n</div>"
     },
     "execution_count": 10,
     "metadata": {},
     "output_type": "execute_result"
    }
   ],
   "source": [
    "parsed_protein_df = parsed_protein_df.drop(columns=['metal_features'])\n",
    "parsed_protein_df"
   ],
   "metadata": {
    "collapsed": false,
    "ExecuteTime": {
     "end_time": "2023-08-05T21:59:18.467618Z",
     "start_time": "2023-08-05T21:59:18.465137Z"
    }
   }
  },
  {
   "cell_type": "code",
   "execution_count": 11,
   "outputs": [],
   "source": [
    "parsed_protein_df['other_features_processed'] = 0\n",
    "parsed_protein_df['other_features_processed'] = parsed_protein_df['other_features_processed'].astype(object)\n",
    "\n",
    "for i in range(len(parsed_protein_df.index)):\n",
    "\n",
    "    other_features = parsed_protein_df.loc[i, 'other_features']\n",
    "\n",
    "    other_feature_count_dict = {}\n",
    "    existing_matches = set()\n",
    "\n",
    "    for feature in other_features:\n",
    "\n",
    "        # eliminate duplicates\n",
    "        if feature not in existing_matches:\n",
    "\n",
    "            existing_matches.add(feature)\n",
    "\n",
    "            if feature in ACCEPTED_OTHER_FEATURES:\n",
    "                if feature in other_feature_count_dict:\n",
    "                    other_feature_count_dict[feature] += 1\n",
    "                else:\n",
    "                    other_feature_count_dict[feature] = 1\n",
    "\n",
    "    parsed_protein_df.at[i, 'other_features_processed'] = other_feature_count_dict"
   ],
   "metadata": {
    "collapsed": false,
    "ExecuteTime": {
     "end_time": "2023-08-05T21:59:18.554106Z",
     "start_time": "2023-08-05T21:59:18.495555Z"
    }
   }
  },
  {
   "cell_type": "code",
   "execution_count": 12,
   "outputs": [
    {
     "data": {
      "text/plain": "                                            id  \\\n0      1-ACYLGLYCEROL-3-P-ACYLTRANSFER-MONOMER   \n1                                1-PFK-MONOMER   \n2             2-DEHYDROPANTOATE-REDUCT-MONOMER   \n3                 2-ISOPROPYLMALATESYN-MONOMER   \n4     2-OCTAPRENYL-METHOXY-BENZOQ-METH-MONOMER   \n...                                        ...   \n4415                              YTFR-MONOMER   \n4416                              YTFT-MONOMER   \n4417                              ZNUA-MONOMER   \n4418                              ZNUB-MONOMER   \n4419                              ZNUC-MONOMER   \n\n                                            common_name  \\\n0     1-acylglycerol-3-phosphate <i>O</i>-acyltransf...   \n1                                 1-phosphofructokinase   \n2                         2-dehydropantoate 2-reductase   \n3                            2-isopropylmalate synthase   \n4     bifunctional 2-octaprenyl-6-methoxy-1,4-benzoq...   \n...                                                 ...   \n4415  galactofuranose ABC transporter putative ATP b...   \n4416  galactofuranose ABC transporter putative membr...   \n4417  Zn<sup>2+</sup> ABC transporter periplasmic bi...   \n4418   Zn<sup>2+</sup> ABC transporter membrane subunit   \n4419  Zn<sup>2+</sup> ABC transporter ATP binding su...   \n\n                                        enzyme_reaction cofactors  \\\n0     {ENZRXN0-6620, ENZRXN0-7994, ENZRXN0-7993, ENZ...        {}   \n1                                                    {}        {}   \n2                     {2-DEHYDROPANTOATE-REDUCT-ENZRXN}        {}   \n3                                        {ENZRXN0-6250}        {}   \n4     {ADOMET-DMK-METHYLTRANSFER-ENZRXN, 2-OCTAPRENY...        {}   \n...                                                 ...       ...   \n4415                                                 {}        {}   \n4416                                                 {}        {}   \n4417                                                 {}        {}   \n4418                                                 {}        {}   \n4419                                                 {}        {}   \n\n                  direct_annotations metal_features_processed  \\\n0              {PWY-5667, PWY0-1319}                       {}   \n1                        {PWY0-1314}                       {}   \n2                        {PANTO-PWY}                       {}   \n3                       {LEUSYN-PWY}                       {}   \n4     {PWY-6708, MENAQUINONESYN-PWY}                       {}   \n...                              ...                      ...   \n4415                              {}                       {}   \n4416                              {}                       {}   \n4417                              {}              {'ZN+2': 1}   \n4418                              {}                       {}   \n4419                              {}                       {}   \n\n     other_features_processed  \n0                          {}  \n1                          {}  \n2                          {}  \n3                          {}  \n4                          {}  \n...                       ...  \n4415                       {}  \n4416                       {}  \n4417                       {}  \n4418                       {}  \n4419                       {}  \n\n[4420 rows x 7 columns]",
      "text/html": "<div>\n<style scoped>\n    .dataframe tbody tr th:only-of-type {\n        vertical-align: middle;\n    }\n\n    .dataframe tbody tr th {\n        vertical-align: top;\n    }\n\n    .dataframe thead th {\n        text-align: right;\n    }\n</style>\n<table border=\"1\" class=\"dataframe\">\n  <thead>\n    <tr style=\"text-align: right;\">\n      <th></th>\n      <th>id</th>\n      <th>common_name</th>\n      <th>enzyme_reaction</th>\n      <th>cofactors</th>\n      <th>direct_annotations</th>\n      <th>metal_features_processed</th>\n      <th>other_features_processed</th>\n    </tr>\n  </thead>\n  <tbody>\n    <tr>\n      <th>0</th>\n      <td>1-ACYLGLYCEROL-3-P-ACYLTRANSFER-MONOMER</td>\n      <td>1-acylglycerol-3-phosphate &lt;i&gt;O&lt;/i&gt;-acyltransf...</td>\n      <td>{ENZRXN0-6620, ENZRXN0-7994, ENZRXN0-7993, ENZ...</td>\n      <td>{}</td>\n      <td>{PWY-5667, PWY0-1319}</td>\n      <td>{}</td>\n      <td>{}</td>\n    </tr>\n    <tr>\n      <th>1</th>\n      <td>1-PFK-MONOMER</td>\n      <td>1-phosphofructokinase</td>\n      <td>{}</td>\n      <td>{}</td>\n      <td>{PWY0-1314}</td>\n      <td>{}</td>\n      <td>{}</td>\n    </tr>\n    <tr>\n      <th>2</th>\n      <td>2-DEHYDROPANTOATE-REDUCT-MONOMER</td>\n      <td>2-dehydropantoate 2-reductase</td>\n      <td>{2-DEHYDROPANTOATE-REDUCT-ENZRXN}</td>\n      <td>{}</td>\n      <td>{PANTO-PWY}</td>\n      <td>{}</td>\n      <td>{}</td>\n    </tr>\n    <tr>\n      <th>3</th>\n      <td>2-ISOPROPYLMALATESYN-MONOMER</td>\n      <td>2-isopropylmalate synthase</td>\n      <td>{ENZRXN0-6250}</td>\n      <td>{}</td>\n      <td>{LEUSYN-PWY}</td>\n      <td>{}</td>\n      <td>{}</td>\n    </tr>\n    <tr>\n      <th>4</th>\n      <td>2-OCTAPRENYL-METHOXY-BENZOQ-METH-MONOMER</td>\n      <td>bifunctional 2-octaprenyl-6-methoxy-1,4-benzoq...</td>\n      <td>{ADOMET-DMK-METHYLTRANSFER-ENZRXN, 2-OCTAPRENY...</td>\n      <td>{}</td>\n      <td>{PWY-6708, MENAQUINONESYN-PWY}</td>\n      <td>{}</td>\n      <td>{}</td>\n    </tr>\n    <tr>\n      <th>...</th>\n      <td>...</td>\n      <td>...</td>\n      <td>...</td>\n      <td>...</td>\n      <td>...</td>\n      <td>...</td>\n      <td>...</td>\n    </tr>\n    <tr>\n      <th>4415</th>\n      <td>YTFR-MONOMER</td>\n      <td>galactofuranose ABC transporter putative ATP b...</td>\n      <td>{}</td>\n      <td>{}</td>\n      <td>{}</td>\n      <td>{}</td>\n      <td>{}</td>\n    </tr>\n    <tr>\n      <th>4416</th>\n      <td>YTFT-MONOMER</td>\n      <td>galactofuranose ABC transporter putative membr...</td>\n      <td>{}</td>\n      <td>{}</td>\n      <td>{}</td>\n      <td>{}</td>\n      <td>{}</td>\n    </tr>\n    <tr>\n      <th>4417</th>\n      <td>ZNUA-MONOMER</td>\n      <td>Zn&lt;sup&gt;2+&lt;/sup&gt; ABC transporter periplasmic bi...</td>\n      <td>{}</td>\n      <td>{}</td>\n      <td>{}</td>\n      <td>{'ZN+2': 1}</td>\n      <td>{}</td>\n    </tr>\n    <tr>\n      <th>4418</th>\n      <td>ZNUB-MONOMER</td>\n      <td>Zn&lt;sup&gt;2+&lt;/sup&gt; ABC transporter membrane subunit</td>\n      <td>{}</td>\n      <td>{}</td>\n      <td>{}</td>\n      <td>{}</td>\n      <td>{}</td>\n    </tr>\n    <tr>\n      <th>4419</th>\n      <td>ZNUC-MONOMER</td>\n      <td>Zn&lt;sup&gt;2+&lt;/sup&gt; ABC transporter ATP binding su...</td>\n      <td>{}</td>\n      <td>{}</td>\n      <td>{}</td>\n      <td>{}</td>\n      <td>{}</td>\n    </tr>\n  </tbody>\n</table>\n<p>4420 rows × 7 columns</p>\n</div>"
     },
     "execution_count": 12,
     "metadata": {},
     "output_type": "execute_result"
    }
   ],
   "source": [
    "parsed_protein_df = parsed_protein_df.drop(columns=['other_features'])\n",
    "\n",
    "parsed_protein_df"
   ],
   "metadata": {
    "collapsed": false,
    "ExecuteTime": {
     "end_time": "2023-08-05T21:59:18.565523Z",
     "start_time": "2023-08-05T21:59:18.563069Z"
    }
   }
  },
  {
   "cell_type": "markdown",
   "source": [
    "## Create new column for monomer component stoichiometry"
   ],
   "metadata": {
    "collapsed": false
   }
  },
  {
   "cell_type": "code",
   "execution_count": 13,
   "outputs": [],
   "source": [
    "complex_ids = parsed_complex_df['id'].tolist()\n",
    "monomer_names = parsed_protein_df['id'].tolist()"
   ],
   "metadata": {
    "collapsed": false,
    "ExecuteTime": {
     "end_time": "2023-08-05T21:59:18.567449Z",
     "start_time": "2023-08-05T21:59:18.565632Z"
    }
   }
  },
  {
   "cell_type": "code",
   "execution_count": 14,
   "outputs": [],
   "source": [
    "def recursive_component_tree(current_component_name, complex_table, protein_table,\n",
    "                             current_multiplier=1, component_list=None, parent=None, return_cofactors=False):\n",
    "    \"\"\"\n",
    "    Recursively find all downstream components of a given complex.\n",
    "    \"\"\"\n",
    "\n",
    "    complex_names = complex_table['id'].tolist()\n",
    "    monomer_names = protein_table['id'].tolist()\n",
    "\n",
    "\n",
    "    my_children = {}\n",
    "\n",
    "    if component_list is None:\n",
    "        component_list = []\n",
    "\n",
    "\n",
    "    if current_component_name in complex_names:\n",
    "\n",
    "\n",
    "        cplx_idx = complex_table.index[complex_table['id'] == current_component_name][0]\n",
    "        stoichiometry = complex_table.at[cplx_idx, 'stoichiometry']\n",
    "\n",
    "        direct_children = {k: abs(v) for k, v in stoichiometry.items() if v < 0}\n",
    "\n",
    "        for component_name, coefficient in stoichiometry.items():\n",
    "\n",
    "            if coefficient < 0 and component_name != current_component_name:\n",
    "\n",
    "                child_multiplier = abs(coefficient * current_multiplier)\n",
    "\n",
    "                new_child = recursive_component_tree(component_name, complex_table, protein_table,\n",
    "                                                     child_multiplier, component_list, current_component_name, return_cofactors)\n",
    "\n",
    "                my_children = my_children | new_child\n",
    "\n",
    "\n",
    "            elif coefficient > 0 and component_name == current_component_name:\n",
    "                continue\n",
    "\n",
    "            else:\n",
    "                raise ValueError(f\"key {component_name} and value {coefficient} for complex {component_name} not processed properly.\")\n",
    "\n",
    "        component_list.append({'name': current_component_name,'parent': parent, 'children': direct_children,\n",
    "                               'multiplier': int(current_multiplier), })\n",
    "\n",
    "\n",
    "    elif current_component_name in monomer_names:\n",
    "\n",
    "        # TODO check if enzrxn\n",
    "        if return_cofactors:\n",
    "            protein_idx = protein_table.index[protein_table['id'] == current_component_name][0]\n",
    "\n",
    "            protein_metals = protein_table.at[protein_idx, 'metal_features_processed']\n",
    "            protein_other = protein_table.at[protein_idx, 'other_features_processed']\n",
    "\n",
    "            table_cofactors = protein_metals | protein_other\n",
    "\n",
    "            if len(table_cofactors) > 0:\n",
    "                # TODO Add apo protein to component list\n",
    "                my_children = {}\n",
    "\n",
    "                for cofactor, cofactor_coefficient in table_cofactors.items():\n",
    "                    if table_cofactors[cofactor] !=  None:\n",
    "                        my_children[cofactor] = cofactor_coefficient\n",
    "                        component_list.append({'parent': current_component_name,\n",
    "                                               'name': cofactor,\n",
    "                                               'multiplier': abs(int(current_multiplier * cofactor_coefficient)),\n",
    "                                               'children': None})\n",
    "\n",
    "            component_list.append({'parent': parent, 'name': current_component_name, 'multiplier': current_multiplier, 'children': my_children})\n",
    "\n",
    "        else:\n",
    "            my_children = None\n",
    "            component_list.append({'parent': parent, 'name': current_component_name, 'multiplier': current_multiplier, 'children': None})\n",
    "\n",
    "\n",
    "\n",
    "    else:\n",
    "        print(f\"component {current_component_name} not found in complex or protein tables\")\n",
    "\n",
    "        return {}\n",
    "\n",
    "\n",
    "    if parent is None:\n",
    "        return {current_component_name: my_children}, component_list\n",
    "    else:\n",
    "        return {current_component_name: my_children}\n"
   ],
   "metadata": {
    "collapsed": false,
    "ExecuteTime": {
     "end_time": "2023-08-05T21:59:18.573972Z",
     "start_time": "2023-08-05T21:59:18.572358Z"
    }
   }
  },
  {
   "cell_type": "code",
   "execution_count": 15,
   "outputs": [
    {
     "name": "stdout",
     "output_type": "stream",
     "text": [
      "[{'children': None,\n",
      "  'multiplier': 4,\n",
      "  'name': 'HYAA-MONOMER',\n",
      "  'parent': 'FORMHYDROGI-CPLX'},\n",
      " {'children': None,\n",
      "  'multiplier': 4,\n",
      "  'name': 'HYAB-MONOMER',\n",
      "  'parent': 'FORMHYDROGI-CPLX'},\n",
      " {'children': None,\n",
      "  'multiplier': 2,\n",
      "  'name': 'HYAC-MONOMER',\n",
      "  'parent': 'FORMHYDROGI-CPLX'},\n",
      " {'children': {'HYAA-MONOMER': 2, 'HYAB-MONOMER': 2, 'HYAC-MONOMER': 1},\n",
      "  'multiplier': 2,\n",
      "  'name': 'FORMHYDROGI-CPLX',\n",
      "  'parent': 'CPLX0-8167'},\n",
      " {'children': {'FORMHYDROGI-CPLX': 2},\n",
      "  'multiplier': 1,\n",
      "  'name': 'CPLX0-8167',\n",
      "  'parent': None}]\n"
     ]
    }
   ],
   "source": [
    "complex_tree_structure, nodes = recursive_component_tree('CPLX0-8167', parsed_complex_df, parsed_protein_df)\n",
    "pp.pprint(nodes)"
   ],
   "metadata": {
    "collapsed": false,
    "ExecuteTime": {
     "end_time": "2023-08-05T21:59:18.585587Z",
     "start_time": "2023-08-05T21:59:18.575814Z"
    }
   }
  },
  {
   "cell_type": "code",
   "execution_count": 16,
   "outputs": [
    {
     "name": "stdout",
     "output_type": "stream",
     "text": [
      "component CPLX0-7701 not found in complex or protein tables\n",
      "component CPLX0-7677 not found in complex or protein tables\n",
      "component MONOMER0-1781 not found in complex or protein tables\n",
      "component CPLX0-7702 not found in complex or protein tables\n",
      "component CSRB-RNA not found in complex or protein tables\n",
      "component RNPB-RNA not found in complex or protein tables\n",
      "component RRSA-RRNA not found in complex or protein tables\n",
      "component RRLA-RRNA not found in complex or protein tables\n",
      "component RRFA-RRNA not found in complex or protein tables\n",
      "component IS061-RNA not found in complex or protein tables\n",
      "component CSRC-RNA not found in complex or protein tables\n",
      "component FFS-RNA not found in complex or protein tables\n"
     ]
    }
   ],
   "source": [
    "parsed_complex_df['monomer_component_stoichiometry'] = 0\n",
    "parsed_complex_df['monomer_component_stoichiometry'] = parsed_complex_df['monomer_component_stoichiometry'].astype(object)\n",
    "\n",
    "for i in range(len(parsed_complex_df.index)):\n",
    "    complex_name = parsed_complex_df.loc[i, 'id']\n",
    "    complex_tree_structure, nodes = recursive_component_tree(complex_name, parsed_complex_df, parsed_protein_df)\n",
    "\n",
    "    monomer_components = {node['name']: node['multiplier'] for node in nodes if node['children'] is None}\n",
    "\n",
    "    parsed_complex_df.at[i, 'monomer_component_stoichiometry'] = monomer_components"
   ],
   "metadata": {
    "collapsed": false,
    "ExecuteTime": {
     "end_time": "2023-08-05T21:59:18.851771Z",
     "start_time": "2023-08-05T21:59:18.581900Z"
    }
   }
  },
  {
   "cell_type": "code",
   "execution_count": 17,
   "outputs": [
    {
     "data": {
      "text/plain": "                                    id  \\\n0                                1-PFK   \n1                2OXOGLUTARATEDEH-CPLX   \n2          3-ISOPROPYLMALDEHYDROG-CPLX   \n3              3-ISOPROPYLMALISOM-CPLX   \n4     3-METHYL-2-OXOBUT-OHCH3XFER-CPLX   \n...                                ...   \n1063                        CPLX0-8053   \n1064                        CPLX0-8253   \n1065                          SRP-CPLX   \n1066                     CPLX0-7796APO   \n1067                         ARCB-CPLX   \n\n                                          stoichiometry  \\\n0                     {'1-PFK': 1, '1-PFK-MONOMER': -2}   \n1     {'2OXOGLUTARATEDEH-CPLX': 1, 'E1O': -1, 'E2O':...   \n2     {'3-ISOPROPYLMALDEHYDROG-CPLX': 1, '3-ISOPROPY...   \n3     {'3-ISOPROPYLMALISOM-CPLX': 1, 'LEUC-MONOMER':...   \n4     {'3-METHYL-2-OXOBUT-OHCH3XFER-CPLX': 1, '3-CH3...   \n...                                                 ...   \n1063           {'CPLX0-8053': 1, 'EG10942-MONOMER': -1}   \n1064  {'CPLX0-8253': 1, 'CSRC-RNA': -1, 'EG11447-MON...   \n1065  {'SRP-CPLX': 1, 'EG10300-MONOMER': -1, 'FFS-RN...   \n1066                {'CPLX0-7796APO': 1, 'PD04032': -2}   \n1067               {'ARCB-CPLX': 1, 'ARCB-MONOMER': -2}   \n\n                        monomer_component_stoichiometry  \\\n0                                  {'1-PFK-MONOMER': 2}   \n1     {'E1O-MONOMER': 12, 'E2O-MONOMER': 24, 'E3-MON...   \n2                 {'3-ISOPROPYLMALDEHYDROG-MONOMER': 2}   \n3                {'LEUC-MONOMER': 1, 'LEUD-MONOMER': 1}   \n4      {'3-CH3-2-OXOBUTANOATE-OH-CH3-XFER-MONOMER': 10}   \n...                                                 ...   \n1063                             {'EG10942-MONOMER': 1}   \n1064                             {'EG11447-MONOMER': 9}   \n1065                             {'EG10300-MONOMER': 1}   \n1066                                     {'PD04032': 2}   \n1067                                {'ARCB-MONOMER': 2}   \n\n                                             cofactors  \n0                                               {MG+2}  \n1     {LIPOIC-ACID, FAD, MG+2, THIAMINE-PYROPHOSPHATE}  \n2                                         {MG+2, MN+2}  \n3                                              {CPD-7}  \n4                                               {MG+2}  \n...                                                ...  \n1063                                                {}  \n1064                                                {}  \n1065                                                {}  \n1066                                                {}  \n1067                                                {}  \n\n[1068 rows x 4 columns]",
      "text/html": "<div>\n<style scoped>\n    .dataframe tbody tr th:only-of-type {\n        vertical-align: middle;\n    }\n\n    .dataframe tbody tr th {\n        vertical-align: top;\n    }\n\n    .dataframe thead th {\n        text-align: right;\n    }\n</style>\n<table border=\"1\" class=\"dataframe\">\n  <thead>\n    <tr style=\"text-align: right;\">\n      <th></th>\n      <th>id</th>\n      <th>stoichiometry</th>\n      <th>monomer_component_stoichiometry</th>\n      <th>cofactors</th>\n    </tr>\n  </thead>\n  <tbody>\n    <tr>\n      <th>0</th>\n      <td>1-PFK</td>\n      <td>{'1-PFK': 1, '1-PFK-MONOMER': -2}</td>\n      <td>{'1-PFK-MONOMER': 2}</td>\n      <td>{MG+2}</td>\n    </tr>\n    <tr>\n      <th>1</th>\n      <td>2OXOGLUTARATEDEH-CPLX</td>\n      <td>{'2OXOGLUTARATEDEH-CPLX': 1, 'E1O': -1, 'E2O':...</td>\n      <td>{'E1O-MONOMER': 12, 'E2O-MONOMER': 24, 'E3-MON...</td>\n      <td>{LIPOIC-ACID, FAD, MG+2, THIAMINE-PYROPHOSPHATE}</td>\n    </tr>\n    <tr>\n      <th>2</th>\n      <td>3-ISOPROPYLMALDEHYDROG-CPLX</td>\n      <td>{'3-ISOPROPYLMALDEHYDROG-CPLX': 1, '3-ISOPROPY...</td>\n      <td>{'3-ISOPROPYLMALDEHYDROG-MONOMER': 2}</td>\n      <td>{MG+2, MN+2}</td>\n    </tr>\n    <tr>\n      <th>3</th>\n      <td>3-ISOPROPYLMALISOM-CPLX</td>\n      <td>{'3-ISOPROPYLMALISOM-CPLX': 1, 'LEUC-MONOMER':...</td>\n      <td>{'LEUC-MONOMER': 1, 'LEUD-MONOMER': 1}</td>\n      <td>{CPD-7}</td>\n    </tr>\n    <tr>\n      <th>4</th>\n      <td>3-METHYL-2-OXOBUT-OHCH3XFER-CPLX</td>\n      <td>{'3-METHYL-2-OXOBUT-OHCH3XFER-CPLX': 1, '3-CH3...</td>\n      <td>{'3-CH3-2-OXOBUTANOATE-OH-CH3-XFER-MONOMER': 10}</td>\n      <td>{MG+2}</td>\n    </tr>\n    <tr>\n      <th>...</th>\n      <td>...</td>\n      <td>...</td>\n      <td>...</td>\n      <td>...</td>\n    </tr>\n    <tr>\n      <th>1063</th>\n      <td>CPLX0-8053</td>\n      <td>{'CPLX0-8053': 1, 'EG10942-MONOMER': -1}</td>\n      <td>{'EG10942-MONOMER': 1}</td>\n      <td>{}</td>\n    </tr>\n    <tr>\n      <th>1064</th>\n      <td>CPLX0-8253</td>\n      <td>{'CPLX0-8253': 1, 'CSRC-RNA': -1, 'EG11447-MON...</td>\n      <td>{'EG11447-MONOMER': 9}</td>\n      <td>{}</td>\n    </tr>\n    <tr>\n      <th>1065</th>\n      <td>SRP-CPLX</td>\n      <td>{'SRP-CPLX': 1, 'EG10300-MONOMER': -1, 'FFS-RN...</td>\n      <td>{'EG10300-MONOMER': 1}</td>\n      <td>{}</td>\n    </tr>\n    <tr>\n      <th>1066</th>\n      <td>CPLX0-7796APO</td>\n      <td>{'CPLX0-7796APO': 1, 'PD04032': -2}</td>\n      <td>{'PD04032': 2}</td>\n      <td>{}</td>\n    </tr>\n    <tr>\n      <th>1067</th>\n      <td>ARCB-CPLX</td>\n      <td>{'ARCB-CPLX': 1, 'ARCB-MONOMER': -2}</td>\n      <td>{'ARCB-MONOMER': 2}</td>\n      <td>{}</td>\n    </tr>\n  </tbody>\n</table>\n<p>1068 rows × 4 columns</p>\n</div>"
     },
     "execution_count": 17,
     "metadata": {},
     "output_type": "execute_result"
    }
   ],
   "source": [
    "parsed_complex_df = parsed_complex_df.loc[:, [\"id\", \"stoichiometry\", \"monomer_component_stoichiometry\", \"cofactors\"]]\n",
    "parsed_complex_df"
   ],
   "metadata": {
    "collapsed": false,
    "ExecuteTime": {
     "end_time": "2023-08-05T21:59:18.861365Z",
     "start_time": "2023-08-05T21:59:18.858281Z"
    }
   }
  },
  {
   "cell_type": "markdown",
   "source": [
    "## Create tree matrix (also for Julia)"
   ],
   "metadata": {
    "collapsed": false
   }
  },
  {
   "cell_type": "code",
   "execution_count": 18,
   "outputs": [
    {
     "name": "stdout",
     "output_type": "stream",
     "text": [
      "component CPLX0-7701 not found in complex or protein tables\n",
      "component CPLX0-7677 not found in complex or protein tables\n",
      "component MONOMER0-1781 not found in complex or protein tables\n",
      "component CPLX0-7702 not found in complex or protein tables\n",
      "component CSRB-RNA not found in complex or protein tables\n",
      "component RNPB-RNA not found in complex or protein tables\n",
      "component RRSA-RRNA not found in complex or protein tables\n",
      "component RRLA-RRNA not found in complex or protein tables\n",
      "component RRFA-RRNA not found in complex or protein tables\n",
      "component IS061-RNA not found in complex or protein tables\n",
      "component CSRC-RNA not found in complex or protein tables\n",
      "component FFS-RNA not found in complex or protein tables\n"
     ]
    }
   ],
   "source": [
    "# save names\n",
    "complex_ids = list(parsed_complex_df['id'])\n",
    "protein_ids = list(parsed_protein_df['id'])\n",
    "cofactor_ids = list(parsed_cofactor_df['id'])\n",
    "\n",
    "\n",
    "name_idx = complex_ids + protein_ids + cofactor_ids\n",
    "tree_matrix = np.zeros([len(complex_ids) + len(protein_ids) + len(cofactor_ids), len(complex_ids) + len(protein_ids) + len(cofactor_ids)], dtype=np.int64)\n",
    "\n",
    "for i in range(len(parsed_complex_df)):\n",
    "    name = parsed_complex_df.at[i, 'id']\n",
    "    tree_structure, nodes = recursive_component_tree(name, parsed_complex_df, parsed_protein_df, return_cofactors=True)\n",
    "\n",
    "    for node in nodes:\n",
    "        node_name = node['name']\n",
    "        node_children = node['children']\n",
    "\n",
    "        if node_children != None:\n",
    "            for child_name, child_coefficient in node_children.items():\n",
    "                if child_name in name_idx:\n",
    "                        tree_matrix[name_idx.index(node_name), name_idx.index(child_name)] = child_coefficient"
   ],
   "metadata": {
    "collapsed": false,
    "ExecuteTime": {
     "end_time": "2023-08-05T21:59:19.709452Z",
     "start_time": "2023-08-05T21:59:18.863270Z"
    }
   }
  },
  {
   "cell_type": "markdown",
   "source": [
    "# Create matrices to get cofactor counts"
   ],
   "metadata": {
    "collapsed": false
   }
  },
  {
   "cell_type": "code",
   "execution_count": 495,
   "outputs": [
    {
     "data": {
      "text/plain": "                                   index  \\\n0                     Signaling-Pathways   \n1                              PWY0-1559   \n2                              PWY0-1495   \n3                              PWY0-1518   \n4                              PWY0-1490   \n...                                  ...   \n1159                  GLUTATHIONESYN-PWY   \n1160             Butanediol-Biosynthesis   \n1161                       CYCLOPEPTIDES   \n1162  6-HM-Dihydropterin-PP-Biosynthesis   \n1163                            PWY-6147   \n\n                                   parents  \\\n0                                       []   \n1                     [Signaling-Pathways]   \n2                     [Signaling-Pathways]   \n3                     [Signaling-Pathways]   \n4                     [Signaling-Pathways]   \n...                                    ...   \n1159                          [Reductants]   \n1160                  [Other-biosynthesis]   \n1161                  [Other-biosynthesis]   \n1162                  [Other-biosynthesis]   \n1163  [6-HM-Dihydropterin-PP-Biosynthesis]   \n\n                                               children  level  \n0     [PWY0-1559, PWY0-1495, PWY0-1518, PWY0-1490, P...      1  \n1                                                    []      2  \n2                                                    []      2  \n3                                                    []      2  \n4                                                    []      2  \n...                                                 ...    ...  \n1159                                                 []      4  \n1160                                                 []      3  \n1161                                                 []      3  \n1162                                         [PWY-6147]      3  \n1163                                                 []      4  \n\n[1164 rows x 4 columns]",
      "text/html": "<div>\n<style scoped>\n    .dataframe tbody tr th:only-of-type {\n        vertical-align: middle;\n    }\n\n    .dataframe tbody tr th {\n        vertical-align: top;\n    }\n\n    .dataframe thead th {\n        text-align: right;\n    }\n</style>\n<table border=\"1\" class=\"dataframe\">\n  <thead>\n    <tr style=\"text-align: right;\">\n      <th></th>\n      <th>index</th>\n      <th>parents</th>\n      <th>children</th>\n      <th>level</th>\n    </tr>\n  </thead>\n  <tbody>\n    <tr>\n      <th>0</th>\n      <td>Signaling-Pathways</td>\n      <td>[]</td>\n      <td>[PWY0-1559, PWY0-1495, PWY0-1518, PWY0-1490, P...</td>\n      <td>1</td>\n    </tr>\n    <tr>\n      <th>1</th>\n      <td>PWY0-1559</td>\n      <td>[Signaling-Pathways]</td>\n      <td>[]</td>\n      <td>2</td>\n    </tr>\n    <tr>\n      <th>2</th>\n      <td>PWY0-1495</td>\n      <td>[Signaling-Pathways]</td>\n      <td>[]</td>\n      <td>2</td>\n    </tr>\n    <tr>\n      <th>3</th>\n      <td>PWY0-1518</td>\n      <td>[Signaling-Pathways]</td>\n      <td>[]</td>\n      <td>2</td>\n    </tr>\n    <tr>\n      <th>4</th>\n      <td>PWY0-1490</td>\n      <td>[Signaling-Pathways]</td>\n      <td>[]</td>\n      <td>2</td>\n    </tr>\n    <tr>\n      <th>...</th>\n      <td>...</td>\n      <td>...</td>\n      <td>...</td>\n      <td>...</td>\n    </tr>\n    <tr>\n      <th>1159</th>\n      <td>GLUTATHIONESYN-PWY</td>\n      <td>[Reductants]</td>\n      <td>[]</td>\n      <td>4</td>\n    </tr>\n    <tr>\n      <th>1160</th>\n      <td>Butanediol-Biosynthesis</td>\n      <td>[Other-biosynthesis]</td>\n      <td>[]</td>\n      <td>3</td>\n    </tr>\n    <tr>\n      <th>1161</th>\n      <td>CYCLOPEPTIDES</td>\n      <td>[Other-biosynthesis]</td>\n      <td>[]</td>\n      <td>3</td>\n    </tr>\n    <tr>\n      <th>1162</th>\n      <td>6-HM-Dihydropterin-PP-Biosynthesis</td>\n      <td>[Other-biosynthesis]</td>\n      <td>[PWY-6147]</td>\n      <td>3</td>\n    </tr>\n    <tr>\n      <th>1163</th>\n      <td>PWY-6147</td>\n      <td>[6-HM-Dihydropterin-PP-Biosynthesis]</td>\n      <td>[]</td>\n      <td>4</td>\n    </tr>\n  </tbody>\n</table>\n<p>1164 rows × 4 columns</p>\n</div>"
     },
     "execution_count": 495,
     "metadata": {},
     "output_type": "execute_result"
    }
   ],
   "source": [
    "parsed_pathway_df"
   ],
   "metadata": {
    "collapsed": false,
    "ExecuteTime": {
     "end_time": "2023-08-07T20:41:58.600395Z",
     "start_time": "2023-08-07T20:41:58.595320Z"
    }
   }
  },
  {
   "cell_type": "code",
   "execution_count": 496,
   "outputs": [
    {
     "name": "stdout",
     "output_type": "stream",
     "text": [
      "multiple parents ['Glycan-Pathways', 'Biosynthesis'] for Lipopolysaccharide-Biosynthesis\n",
      "pruned to [['Biosynthesis']]\n",
      "multiple parents ['Glycan-Pathways', 'Biosynthesis'] for Lipid-IV-A-Biosynthesis\n",
      "pruned to [['Biosynthesis']]\n",
      "multiple parents ['Glycan-Pathways', 'Biosynthesis'] for Kdo-lipid-A-Biosynthesis\n",
      "pruned to [['Biosynthesis']]\n",
      "multiple parents ['Glycan-Pathways', 'Glycan-Pathways', 'Biosynthesis'] for LPS-Biosynthesis-Final-Steps\n",
      "pruned to [['Glycan-Pathways', 'Biosynthesis']]\n",
      "multiple parents ['Glycan-Pathways', 'Glycan-Pathways', 'Biosynthesis', 'Biosynthesis'] for Lipid-A-core-Biosynthesis\n",
      "pruned to [['Glycan-Pathways', 'Biosynthesis']]\n",
      "multiple parents ['Glycan-Pathways', 'Glycan-Pathways'] for O-Antigen-Biosynthesis\n",
      "pruned to [['Glycan-Pathways', 'Biosynthesis']]\n",
      "multiple parents ['Glycan-Pathways', 'Detoxification'] for PWY0-1338\n",
      "pruned to [['Detoxification']]\n",
      "multiple parents ['Glycan-Pathways', 'Biosynthesis'] for Polysaccharides-Biosynthesis\n",
      "pruned to [['Biosynthesis']]\n",
      "multiple parents ['Glycan-Pathways', 'Macromolecule-Modification', 'Biosynthesis'] for Protein-Glycosylation\n",
      "pruned to [['Macromolecule-Modification']]\n",
      "multiple parents ['Glycan-Pathways', 'Degradation'] for GLYCOCAT-PWY\n",
      "pruned to [['Degradation']]\n",
      "multiple parents ['Degradation', 'Energy-Metabolism'] for PWY-5437\n",
      "pruned to [['Energy-Metabolism']]\n",
      "multiple parents ['Degradation', 'Degradation'] for PWY-5329\n",
      "pruned to [['Degradation']]\n",
      "multiple parents ['Degradation', 'Detoxification'] for PWY0-1305\n",
      "pruned to [['Detoxification']]\n",
      "multiple parents ['Degradation', 'Degradation'] for POLYSACCHARIDES-DEG\n",
      "pruned to [['Degradation']]\n",
      "multiple parents ['Degradation', 'Degradation'] for Nitrophenol-Degradation\n",
      "pruned to [['Degradation']]\n",
      "multiple parents ['Degradation', 'Degradation'] for Phenylethylamine-Degradation\n",
      "pruned to [['Degradation']]\n",
      "multiple parents ['Degradation', 'Degradation'] for AUXINS-DEGRADATION\n",
      "pruned to [['Degradation']]\n",
      "multiple parents ['Degradation', 'Degradation'] for Chloroaromatic-Compounds-Degradation\n",
      "pruned to [['Degradation']]\n",
      "multiple parents ['Degradation', 'Metabolic-Clusters'] for PWY-7206\n",
      "pruned to [['Metabolic-Clusters']]\n",
      "multiple parents ['Degradation', 'Biosynthesis'] for PWY-6556\n",
      "pruned to [['Biosynthesis']]\n",
      "multiple parents ['Degradation', 'Biosynthesis'] for PWY-7195\n",
      "pruned to [['Biosynthesis']]\n",
      "multiple parents ['Degradation', 'Biosynthesis'] for MTR-1P-Degradation\n",
      "pruned to [['Biosynthesis']]\n",
      "multiple parents ['Degradation', 'Degradation'] for Bile-Acids-Degradation\n",
      "pruned to [['Degradation']]\n",
      "multiple parents ['Degradation', 'Degradation'] for SUGAR-ALCOHOLS-DEG\n",
      "pruned to [['Degradation']]\n",
      "multiple parents ['Degradation', 'Degradation'] for Taurine-degradation\n",
      "pruned to [['Degradation']]\n",
      "multiple parents ['Degradation', 'Energy-Metabolism'] for Tetrathionate-Oxidation\n",
      "pruned to [['Energy-Metabolism']]\n",
      "multiple parents ['Degradation', 'Activation-Inactivation-Interconversion'] for PWY-5340\n",
      "pruned to [['Activation-Inactivation-Interconversion']]\n",
      "multiple parents ['Degradation', 'Energy-Metabolism', 'Energy-Metabolism'] for PWY0-1584\n",
      "pruned to [['Energy-Metabolism']]\n",
      "multiple parents ['Degradation', 'Energy-Metabolism', 'Energy-Metabolism'] for PWY0-1573\n",
      "pruned to [['Energy-Metabolism']]\n",
      "multiple parents ['Degradation', 'Energy-Metabolism', 'Energy-Metabolism'] for PWY0-1321\n",
      "pruned to [['Energy-Metabolism']]\n",
      "multiple parents ['Degradation', 'Energy-Metabolism', 'Energy-Metabolism'] for PWY0-1352\n",
      "pruned to [['Energy-Metabolism']]\n",
      "multiple parents ['Degradation', 'Energy-Metabolism', 'Energy-Metabolism'] for PWY0-1581\n",
      "pruned to [['Energy-Metabolism']]\n",
      "multiple parents ['Degradation', 'Biosynthesis'] for GLNSYN-PWY\n",
      "pruned to [['Biosynthesis']]\n",
      "multiple parents ['Degradation', 'Detoxification'] for CYANCAT-PWY\n",
      "pruned to [['Detoxification']]\n",
      "multiple parents ['Degradation', 'Detoxification'] for Seleno-Amino-Acid-Detoxification\n",
      "pruned to [['Detoxification']]\n",
      "multiple parents ['Degradation', 'Degradation'] for Abscisic-Acid-Degradation\n",
      "pruned to [['Degradation']]\n",
      "multiple parents ['Degradation', 'Degradation'] for SUGAR-ACIDS-DEG\n",
      "pruned to [['Degradation']]\n",
      "multiple parents ['Degradation', 'Energy-Metabolism'] for PYRUVDEHYD-PWY\n",
      "pruned to [['Energy-Metabolism']]\n",
      "multiple parents ['Degradation', 'Activation-Inactivation-Interconversion'] for GLUCOSINOLATE-DEG\n",
      "pruned to [['Activation-Inactivation-Interconversion']]\n",
      "multiple parents ['Degradation', 'Detoxification'] for Methylglyoxal-Detoxification\n",
      "pruned to [['Detoxification']]\n",
      "multiple parents ['Degradation', 'Energy-Metabolism'] for CARNMET-PWY\n",
      "pruned to [['Energy-Metabolism']]\n",
      "multiple parents ['Degradation', 'Degradation'] for N-Acetylglucosamine-Degradation\n",
      "pruned to [['Degradation']]\n",
      "multiple parents ['Degradation', 'Biosynthesis'] for GALACTMETAB-PWY\n",
      "pruned to [['Biosynthesis']]\n",
      "multiple parents ['Macromolecule-Modification', 'Biosynthesis'] for PWY-8147\n",
      "pruned to [['Macromolecule-Modification']]\n",
      "multiple parents ['Macromolecule-Modification', 'Metabolic-Clusters'] for PWY-7801\n",
      "pruned to [['Macromolecule-Modification']]\n",
      "multiple parents ['Detoxification', 'Biosynthesis'] for PWY0-1601\n",
      "pruned to [['Biosynthesis']]\n",
      "multiple parents ['Metabolic-Clusters', 'Biosynthesis'] for PWY-7184\n",
      "pruned to [['Biosynthesis']]\n",
      "multiple parents ['Metabolic-Clusters', 'Biosynthesis'] for TRNA-CHARGING-PWY\n",
      "pruned to [['Biosynthesis']]\n",
      "multiple parents ['Metabolic-Clusters', 'Biosynthesis'] for PWY-7197\n",
      "pruned to [['Biosynthesis']]\n",
      "multiple parents ['Energy-Metabolism', 'Energy-Metabolism'] for Pyruvate-Lactate-Fermentation\n",
      "pruned to [['Energy-Metabolism']]\n",
      "multiple parents ['Energy-Metabolism', 'Energy-Metabolism'] for Pyruvate-Propanoate-Fermentation\n",
      "pruned to [['Energy-Metabolism']]\n",
      "multiple parents ['Energy-Metabolism', 'Energy-Metabolism'] for Pyruvate-Acetate-Fermentation\n",
      "pruned to [['Energy-Metabolism']]\n",
      "multiple parents ['Energy-Metabolism', 'Energy-Metabolism'] for Pyruvate-Butanol-Fermentation\n",
      "pruned to [['Energy-Metabolism']]\n",
      "multiple parents ['Energy-Metabolism', 'Energy-Metabolism'] for Pyruvate-Ethanol-Fermentation\n",
      "pruned to [['Energy-Metabolism']]\n",
      "multiple parents ['Energy-Metabolism', 'Energy-Metabolism'] for PWY0-1561\n",
      "pruned to [['Energy-Metabolism']]\n",
      "multiple parents ['Energy-Metabolism', 'Energy-Metabolism'] for PWY0-1355\n",
      "pruned to [['Energy-Metabolism']]\n",
      "multiple parents ['Energy-Metabolism', 'Energy-Metabolism'] for PWY0-1348\n",
      "pruned to [['Energy-Metabolism']]\n",
      "multiple parents ['Energy-Metabolism', 'Energy-Metabolism'] for PWY0-1578\n",
      "pruned to [['Energy-Metabolism']]\n",
      "multiple parents ['Energy-Metabolism', 'Energy-Metabolism'] for PWY0-1335\n",
      "pruned to [['Energy-Metabolism']]\n",
      "multiple parents ['Energy-Metabolism', 'Energy-Metabolism'] for PWY0-1565\n",
      "pruned to [['Energy-Metabolism']]\n",
      "multiple parents ['Energy-Metabolism', 'Energy-Metabolism'] for PWY0-1356\n",
      "pruned to [['Energy-Metabolism']]\n",
      "multiple parents ['Energy-Metabolism', 'Energy-Metabolism'] for PWY0-1585\n",
      "pruned to [['Energy-Metabolism']]\n",
      "multiple parents ['Energy-Metabolism', 'Energy-Metabolism'] for PWY0-1336\n",
      "pruned to [['Energy-Metabolism']]\n",
      "multiple parents ['Energy-Metabolism', 'Energy-Metabolism'] for PWY0-1576\n",
      "pruned to [['Energy-Metabolism']]\n",
      "multiple parents ['Energy-Metabolism', 'Energy-Metabolism'] for PWY0-1329\n",
      "pruned to [['Energy-Metabolism']]\n",
      "multiple parents ['Energy-Metabolism', 'Energy-Metabolism'] for PWY0-1567\n",
      "pruned to [['Energy-Metabolism']]\n",
      "multiple parents ['Energy-Metabolism', 'Energy-Metabolism'] for PWY-7544\n",
      "pruned to [['Energy-Metabolism']]\n",
      "multiple parents ['Energy-Metabolism', 'Energy-Metabolism'] for PWY0-1544\n",
      "pruned to [['Energy-Metabolism']]\n",
      "multiple parents ['Energy-Metabolism', 'Energy-Metabolism'] for PWY0-1353\n",
      "pruned to [['Energy-Metabolism']]\n",
      "multiple parents ['Energy-Metabolism', 'Energy-Metabolism'] for PWY0-1582\n",
      "pruned to [['Energy-Metabolism']]\n",
      "multiple parents ['Energy-Metabolism', 'Energy-Metabolism'] for PWY0-1347\n",
      "pruned to [['Energy-Metabolism']]\n",
      "multiple parents ['Energy-Metabolism', 'Energy-Metabolism'] for PWY0-1577\n",
      "pruned to [['Energy-Metabolism']]\n",
      "multiple parents ['Energy-Metabolism', 'Energy-Metabolism'] for PWY0-1334\n",
      "pruned to [['Energy-Metabolism']]\n",
      "multiple parents ['Energy-Metabolism', 'Energy-Metabolism'] for PWY0-1568\n",
      "pruned to [['Energy-Metabolism']]\n",
      "multiple parents ['Energy-Metabolism', 'Energy-Metabolism'] for PWY-7545\n",
      "pruned to [['Energy-Metabolism']]\n",
      "multiple parents ['Biosynthesis', 'Biosynthesis'] for Betaine-Biosynthesis\n",
      "pruned to [['Biosynthesis']]\n",
      "multiple parents ['Biosynthesis', 'Biosynthesis'] for Trehalose-biosynthesis\n",
      "pruned to [['Biosynthesis']]\n",
      "multiple parents ['Biosynthesis', 'Biosynthesis'] for Brassinosteroid-Biosynthesis\n",
      "pruned to [['Biosynthesis']]\n",
      "multiple parents ['Biosynthesis', 'Biosynthesis'] for Abscisic-Acid-Biosynthesis\n",
      "pruned to [['Biosynthesis']]\n",
      "multiple parents ['Biosynthesis', 'Biosynthesis'] for GIBBERELLIN-SYN\n",
      "pruned to [['Biosynthesis']]\n",
      "multiple parents ['Biosynthesis', 'Biosynthesis'] for JH-III-Biosynthesis\n",
      "pruned to [['Biosynthesis']]\n",
      "multiple parents ['Biosynthesis', 'Biosynthesis'] for PWY-4121\n",
      "pruned to [['Biosynthesis']]\n",
      "multiple parents ['Biosynthesis', 'Biosynthesis'] for NAD-SYN\n",
      "pruned to [['Biosynthesis']]\n",
      "multiple parents ['Biosynthesis', 'Biosynthesis'] for S-adenosyl-L-methionine-Biosynthesis\n",
      "pruned to [['Biosynthesis']]\n",
      "multiple parents ['Biosynthesis', 'Biosynthesis'] for HEME-SYN\n",
      "pruned to [['Biosynthesis']]\n",
      "multiple parents ['Biosynthesis', 'Biosynthesis'] for Vitamin-B6-Biosynthesis\n",
      "pruned to [['Biosynthesis']]\n",
      "multiple parents ['Biosynthesis', 'Biosynthesis'] for Thiamine-Biosynthesis\n",
      "pruned to [['Biosynthesis']]\n",
      "multiple parents ['Biosynthesis', 'Biosynthesis', 'Biosynthesis'] for Ascorbate-Biosynthesis\n",
      "pruned to [['Biosynthesis']]\n",
      "multiple parents ['Biosynthesis', 'Biosynthesis'] for NAD-Metabolism\n",
      "pruned to [['Biosynthesis']]\n",
      "multiple parents ['Biosynthesis', 'Biosynthesis'] for Flavin-Biosynthesis\n",
      "pruned to [['Biosynthesis']]\n",
      "multiple parents ['Biosynthesis', 'Biosynthesis'] for Folate-Biosynthesis\n",
      "pruned to [['Biosynthesis']]\n",
      "multiple parents ['Biosynthesis', 'Biosynthesis'] for PWY-5785\n",
      "pruned to [['Biosynthesis']]\n",
      "multiple parents ['Biosynthesis', 'Biosynthesis'] for Chlorophyll-Biosynthesis\n",
      "pruned to [['Biosynthesis']]\n",
      "multiple parents ['Biosynthesis', 'Biosynthesis'] for ANTHOCYANIN-SYN\n",
      "pruned to [['Biosynthesis']]\n",
      "multiple parents ['Biosynthesis', 'Biosynthesis'] for Pyrimid-Deoxyribonucleot-De-Novo-Biosyn\n",
      "pruned to [['Biosynthesis']]\n",
      "multiple parents ['Biosynthesis', 'Biosynthesis'] for Purine-Deoxyribonuc-De-Novo-Biosynthesis\n",
      "pruned to [['Biosynthesis']]\n",
      "multiple parents ['Biosynthesis', 'Biosynthesis'] for PWY-5669\n",
      "pruned to [['Biosynthesis']]\n",
      "multiple parents ['Biosynthesis', 'Biosynthesis'] for Vernolate-Biosynthesis\n",
      "pruned to [['Biosynthesis']]\n",
      "multiple parents ['Biosynthesis', 'Biosynthesis'] for CAROTENOID-SYN\n",
      "pruned to [['Biosynthesis']]\n",
      "multiple parents ['Biosynthesis', 'Biosynthesis'] for C30-Carotenoids-Biosynthesis\n",
      "pruned to [['Biosynthesis']]\n",
      "multiple parents ['Biosynthesis', 'Biosynthesis'] for C40-Carotenoids-Biosynthesis\n",
      "pruned to [['Biosynthesis']]\n",
      "multiple parents ['Biosynthesis', 'Biosynthesis'] for TERPENOID-ALKALOIDS\n",
      "pruned to [['Biosynthesis']]\n",
      "multiple parents ['Biosynthesis', 'Biosynthesis'] for Tricothecene-Biosynthesis\n",
      "pruned to [['Biosynthesis']]\n",
      "multiple parents ['Biosynthesis', 'Biosynthesis'] for Linalool-Biosynthesis\n",
      "pruned to [['Biosynthesis']]\n"
     ]
    }
   ],
   "source": [
    "pathway_name_list = list(parsed_pathway_df['index'])\n",
    "\n",
    "# pathway matrix is necessary to traverse tree\n",
    "pathway_matrix = np.zeros((len(pathway_name_list), len(pathway_name_list)), dtype=np.int64)\n",
    "level_vector = np.zeros(len(pathway_name_list), dtype=np.int64)\n",
    "\n",
    "for i in range(len(parsed_pathway_df)):\n",
    "\n",
    "    cur_pathway = parsed_pathway_df.at[i, 'index']\n",
    "    level_vector[i] = parsed_pathway_df.at[i, 'level']\n",
    "\n",
    "    pathway_parents = parsed_pathway_df.at[i, 'parents']\n",
    "    pathway_children = parsed_pathway_df.at[i, 'children']\n",
    "\n",
    "    for parent in pathway_parents:\n",
    "        j = pathway_name_list.index(parent)\n",
    "        pathway_matrix[j, i] = 1\n",
    "\n",
    "    for child in pathway_children:\n",
    "        j = pathway_name_list.index(child)\n",
    "        pathway_matrix[i, j] = 1\n",
    "\n",
    "original_pathway_matrix = pathway_matrix.copy()\n",
    "\n",
    "# get superpathway indices\n",
    "super_pathway_idx = pathway_name_list.index('Super-Pathways')\n",
    "super_pathway_children_idxs = np.where(pathway_matrix[super_pathway_idx, :] == 1)[0]\n",
    "\n",
    "# zero out all superpathway children\n",
    "pathway_matrix[:, super_pathway_children_idxs] = 0\n",
    "\n",
    "# for columns (children) with multiple parents, if one parent leads to degradation or glycans, remove it.\n",
    "for i in range(len(pathway_matrix[0, :])):\n",
    "    cur_pathway = pathway_name_list[i]\n",
    "\n",
    "    if pathway_matrix[:, i].sum() > 1:\n",
    "\n",
    "        nz_idxs = np.where(pathway_matrix[:, i] == 1)[0]\n",
    "        top_level_classes = [list(get_pathway_ith_level_parents(j, original_pathway_matrix, pathway_name_list, level_vector, level=1).keys())[0] for j in nz_idxs]\n",
    "        print(f\"multiple parents {top_level_classes} for {cur_pathway}\")\n",
    "\n",
    "        if 'Glycan-Pathways' in top_level_classes:\n",
    "            glycan_index = top_level_classes.index('Glycan-Pathways')\n",
    "\n",
    "            pathway_matrix[nz_idxs[glycan_index], i] = 0\n",
    "            nz_idxs = np.where(pathway_matrix[:, i] == 1)[0]\n",
    "\n",
    "        if 'Degradation' in top_level_classes and len(nz_idxs) > 1:\n",
    "            deg_index = top_level_classes.index('Degradation')\n",
    "\n",
    "            pathway_matrix[nz_idxs[deg_index], i] = 0\n",
    "            nz_idxs = np.where(pathway_matrix[:, i] == 1)[0]\n",
    "\n",
    "\n",
    "        if 'Detoxification' in top_level_classes and len(nz_idxs) > 1:\n",
    "            tox_index = top_level_classes.index('Detoxification')\n",
    "\n",
    "            pathway_matrix[nz_idxs[tox_index], i] = 0\n",
    "            nz_idxs = np.where(pathway_matrix[:, i] == 1)[0]\n",
    "\n",
    "        if 'Metabolic-Clusters' in top_level_classes and len(nz_idxs) > 1:\n",
    "            clu_index = top_level_classes.index('Metabolic-Clusters')\n",
    "\n",
    "            pathway_matrix[nz_idxs[clu_index], i] = 0\n",
    "            nz_idxs = np.where(pathway_matrix[:, i] == 1)[0]\n",
    "\n",
    "        # then, if there are still multiple parents, remove all but the first one\n",
    "        if len(nz_idxs) > 1:\n",
    "            pathway_matrix[nz_idxs[1:], i] = 0\n",
    "\n",
    "        nz_idxs = np.where(pathway_matrix[:, i] == 1)[0]\n",
    "        top_level_classes = [list(get_pathway_ith_level_parents(j, original_pathway_matrix, pathway_name_list, level_vector, level=1).keys()) for j in nz_idxs]\n",
    "\n",
    "        print(f\"pruned to {top_level_classes}\")"
   ],
   "metadata": {
    "collapsed": false,
    "ExecuteTime": {
     "end_time": "2023-08-07T20:41:58.807880Z",
     "start_time": "2023-08-07T20:41:58.761527Z"
    }
   }
  },
  {
   "cell_type": "code",
   "execution_count": 743,
   "outputs": [],
   "source": [
    "# create protein name to pathway mapping\n",
    "W = np.zeros((len(parsed_protein_df.index), len(parsed_pathway_df.index)))\n",
    "\n",
    "for i in range(len(parsed_protein_df.index)):\n",
    "\n",
    "    cur_pathways = parsed_protein_df.at[i, 'direct_annotations']\n",
    "\n",
    "    for pathway in cur_pathways:\n",
    "        pathway_idx = pathway_name_list.index(pathway)\n",
    "        W[i, pathway_idx] = 1\n",
    "\n",
    "\n",
    "for i in range(len(parsed_protein_df.index)):\n",
    "\n",
    "    cur_protein_pathways_idxs = np.where(W[i, :] == 1)[0]\n",
    "    cur_protein = parsed_protein_df.at[i, 'id']\n",
    "\n",
    "    # TODO - remove deprioritized direct annotations / superpathways.\n",
    "\n",
    "    if len(cur_protein_pathways_idxs) < 2:\n",
    "        continue\n",
    "\n",
    "    else:\n",
    "\n",
    "        # for pathway_idx in cur_protein_pathways_idxs:\n",
    "\n",
    "        # get top level class of every pathway, and remove all but the first one of each class.\n",
    "\n",
    "        cur_pathway_parents = list()\n",
    "        cur_pathway_two_parents = list()\n",
    "\n",
    "        for pathway_idx in cur_protein_pathways_idxs:\n",
    "            top_parents = get_pathway_ith_level_parents(pathway_idx, pathway_matrix, pathway_name_list, level_vector, level=1)\n",
    "            top_two_parents = get_pathway_ith_level_parents(pathway_idx, pathway_matrix, pathway_name_list, level_vector, level=2)\n",
    "\n",
    "            if len(top_parents) > 0:\n",
    "                cur_pathway_parents.append(list(top_parents.keys())[0])\n",
    "                cur_pathway_two_parents.append(list(top_two_parents.keys())[0])\n",
    "            else:\n",
    "                cur_pathway_parents.append('N/A')\n",
    "                cur_pathway_two_parents.append('N/A')\n",
    "\n",
    "        #\n",
    "        # print(f\"multiple pathways {cur_pathway_parents} for protein {cur_protein}\")\n",
    "        # print(f\"multiple pathways {cur_pathway_two_parents} for protein {cur_protein}\")\n",
    "\n",
    "        # find unique top parents\n",
    "        unique_top_parents = np.unique(cur_pathway_parents)\n",
    "\n",
    "        # zero degradation pathways if other pathways present\n",
    "        if 'Degradation' in unique_top_parents and len(unique_top_parents) > 1:\n",
    "\n",
    "            # get indices of all pathways with this paren\n",
    "            degrad_idx = np.where(np.array(cur_pathway_parents) == 'Degradation')[0]\n",
    "\n",
    "            # remove all\n",
    "            for idx in degrad_idx:\n",
    "                W[i, cur_protein_pathways_idxs[idx]] = 0\n",
    "                # print(f\"removed {cur_pathway_parents[idx]} from {cur_protein} because biosynthesis is present\")\n",
    "\n",
    "        # if there are multiple top parents, remove all but the first one\n",
    "        for unique_parent in unique_top_parents:\n",
    "            if unique_parent != 'N/A' and cur_pathway_parents.count(unique_parent) > 1:\n",
    "                # get indices of all pathways with this parent\n",
    "                parent_idxs = [i for i, x in enumerate(cur_pathway_parents) if x == unique_parent]\n",
    "\n",
    "                # # remove all but the first one\n",
    "                # for idx in parent_idxs[1:]:\n",
    "                #     W[i, cur_protein_pathways_idxs[idx]] = 0\n",
    "                #     # print(f\"removed {cur_pathway_parents[idx]} from {cur_protein}\")\n",
    "\n",
    "            elif unique_parent == 'N/A':\n",
    "                # get indices of all pathways with this parent\n",
    "                parent_idxs = [i for i, x in enumerate(cur_pathway_parents) if x == unique_parent]\n",
    "\n",
    "                # remove all but the first one\n",
    "                for idx in parent_idxs:\n",
    "                    W[i, cur_protein_pathways_idxs[idx]] = 0\n",
    "\n",
    "# Then, normalize so each protein only contributes 1 molecule to pathways if has multiple. (i.e. if a protein is in 2 pathways, it contributes 0.5 to each)\n",
    "W = W / (W.sum(axis=1, keepdims=1) + 1e-10)"
   ],
   "metadata": {
    "collapsed": false,
    "ExecuteTime": {
     "end_time": "2023-08-07T22:22:48.249450Z",
     "start_time": "2023-08-07T22:22:48.161436Z"
    }
   }
  },
  {
   "cell_type": "code",
   "execution_count": 744,
   "outputs": [],
   "source": [
    "\n",
    "\n",
    "# normalize all W outputs to 1\n",
    "# W = W / (W.sum(axis=1, keepdims=1) + 1e-10)\n",
    "\n",
    "\n",
    "# create pathway to 2nd layer pathway mapping\n",
    "W2 = np.zeros((len(parsed_pathway_df.index), len(parsed_pathway_df.index)))\n",
    "\n",
    "for i in range(len(parsed_pathway_df.index)):\n",
    "\n",
    "    cur_pathway = parsed_pathway_df.at[i, 'index']\n",
    "    cur_pathway_idx = pathway_name_list.index(cur_pathway)\n",
    "\n",
    "    # get 2nd level parents\n",
    "    cur_pathway_parents = get_pathway_ith_level_parents(cur_pathway_idx, pathway_matrix, pathway_name_list, level_vector, level=2)\n",
    "\n",
    "    # if len(cur_pathway_parents) > 1:\n",
    "    #     print(f\"cur pathway {cur_pathway} has parents {cur_pathway_parents}\")\n",
    "\n",
    "    for parent in cur_pathway_parents:\n",
    "        parent_idx = pathway_name_list.index(parent)\n",
    "        W2[i, parent_idx] = 1\n",
    "\n",
    "# normalize all W outputs to 1\n",
    "# W2 = W2 / (W2.sum(axis=1, keepdims=0) + 1e-10)\n",
    "\n",
    "W1 = np.zeros((len(parsed_pathway_df.index), len(parsed_pathway_df.index)))\n",
    "\n",
    "for i in range(len(parsed_pathway_df.index)):\n",
    "\n",
    "    if parsed_pathway_df.at[i, 'level'] <= 2:\n",
    "        cur_pathway = parsed_pathway_df.at[i, 'index']\n",
    "        cur_pathway_idx = pathway_name_list.index(cur_pathway)\n",
    "\n",
    "        # get 2nd level parents\n",
    "        cur_pathway_parents = get_pathway_ith_level_parents(cur_pathway_idx, pathway_matrix, pathway_name_list, level_vector, level=1)\n",
    "\n",
    "        for parent in cur_pathway_parents:\n",
    "            parent_idx = pathway_name_list.index(parent)\n",
    "            W1[i, parent_idx] = 1\n",
    "\n",
    "\n",
    "# W1 = W1 / (W1.sum(axis=1, keepdims=0) + 1e-10)\n",
    "\n"
   ],
   "metadata": {
    "collapsed": false,
    "ExecuteTime": {
     "end_time": "2023-08-07T22:22:48.644681Z",
     "start_time": "2023-08-07T22:22:48.602067Z"
    }
   }
  },
  {
   "cell_type": "code",
   "execution_count": 745,
   "outputs": [
    {
     "data": {
      "text/plain": "{'Electron-Transfer': 2}"
     },
     "execution_count": 745,
     "metadata": {},
     "output_type": "execute_result"
    }
   ],
   "source": [
    "\n",
    "array_name_list = np.array(pathway_name_list)\n",
    "pathway = 'PWY0-1321'\n",
    "pathway_idx = pathway_name_list.index(pathway)\n",
    "\n",
    "get_pathway_ith_level_parents(pathway_idx, pathway_matrix, pathway_name_list, level_vector, level=2)"
   ],
   "metadata": {
    "collapsed": false,
    "ExecuteTime": {
     "end_time": "2023-08-07T22:22:48.856184Z",
     "start_time": "2023-08-07T22:22:48.849830Z"
    }
   }
  },
  {
   "cell_type": "code",
   "execution_count": 746,
   "outputs": [
    {
     "data": {
      "text/plain": "'Electron-Transfer'"
     },
     "execution_count": 746,
     "metadata": {},
     "output_type": "execute_result"
    }
   ],
   "source": [
    "pwy_vec = np.zeros(len(parsed_pathway_df.index))\n",
    "pwy_vec[pathway_idx] = 1\n",
    "\n",
    "pathway_name_list[np.where(pwy_vec @ W2)[0][0]]"
   ],
   "metadata": {
    "collapsed": false,
    "ExecuteTime": {
     "end_time": "2023-08-07T22:22:49.180788Z",
     "start_time": "2023-08-07T22:22:49.134392Z"
    }
   }
  },
  {
   "cell_type": "code",
   "execution_count": 747,
   "outputs": [
    {
     "name": "stdout",
     "output_type": "stream",
     "text": [
      "component_name: EG10893-MONOMER, component_count: 2, component_index: 697\n",
      "component_name: RPOC-MONOMER, component_count: 1, component_index: 4108\n",
      "component_name: RPOB-MONOMER, component_count: 1, component_index: 4107\n"
     ]
    }
   ],
   "source": [
    "# C matrix transforms complexes + monomers to just monomers.\n",
    "\n",
    "# create protein name to index mapping\n",
    "protein_name_to_index = {}\n",
    "for i in range(len(parsed_protein_df.index)):\n",
    "    protein_name_to_index[parsed_protein_df.at[i, 'id']] = i\n",
    "\n",
    "# C matrix: complexes x proteins\n",
    "C = np.zeros((len(parsed_complex_df.index), len(parsed_protein_df.index)))\n",
    "\n",
    "for i in range(len(parsed_complex_df.index)):\n",
    "\n",
    "    complex_components = parsed_complex_df.loc[i, 'monomer_component_stoichiometry']\n",
    "\n",
    "    # TODO consider cofactors\n",
    "    # complex_cofactors = filter_complex_df.loc[i, 'cofactors']\n",
    "\n",
    "\n",
    "    for component_name, component_count in complex_components.items():\n",
    "        if component_count is not None:             # side effect of parquet\n",
    "            # get index of component in filter_protein_df\n",
    "            component_index = protein_name_to_index[component_name]\n",
    "\n",
    "            if parsed_complex_df.at[i, 'id'] == 'APORNAP-CPLX':\n",
    "                print(f'component_name: {component_name}, component_count: {component_count}, component_index: {component_index}')\n",
    "\n",
    "            C[i, component_index] = component_count\n",
    "\n",
    "# append an identity matrix to C\n",
    "C = np.concatenate((C, np.identity(len(parsed_protein_df.index))), axis=0)\n",
    "\n",
    "C_names = list(parsed_complex_df['id']) + list(parsed_protein_df['id'])"
   ],
   "metadata": {
    "collapsed": false,
    "ExecuteTime": {
     "end_time": "2023-08-07T22:22:49.635838Z",
     "start_time": "2023-08-07T22:22:49.585927Z"
    }
   }
  },
  {
   "cell_type": "code",
   "execution_count": 748,
   "outputs": [],
   "source": [
    "# P matrix transforms proteins to their respective cofactor counts.\n",
    "\n",
    "# create cofactor name to index mapping\n",
    "cofactor_name_to_index = {}\n",
    "for i in range(len(parsed_cofactor_df.index)):\n",
    "    cofactor_name_to_index[parsed_cofactor_df.at[i, 'id']] = i\n",
    "\n",
    "cofactor_ids = list(parsed_cofactor_df['id'])\n",
    "\n",
    "# P matrix: proteins x cofactors\n",
    "P = np.zeros((len(parsed_protein_df.index), len(parsed_cofactor_df.index)))\n",
    "\n",
    "for i in range(len(parsed_protein_df.index)):\n",
    "    protein_metals = parsed_protein_df.loc[i, 'metal_features_processed']\n",
    "    protein_other = parsed_protein_df.loc[i, 'other_features_processed']\n",
    "\n",
    "    for metal, count in protein_metals.items():\n",
    "        if count is not None:             # side effect of parquet\n",
    "            cofactor_index = cofactor_name_to_index[metal]\n",
    "            P[i, cofactor_index] = count\n",
    "\n",
    "    for other, count in protein_other.items():\n",
    "        if count is not None:             # side effect of parquet\n",
    "            cofactor_index = cofactor_name_to_index[other]\n",
    "            P[i, cofactor_index] = count\n"
   ],
   "metadata": {
    "collapsed": false,
    "ExecuteTime": {
     "end_time": "2023-08-07T22:22:49.794086Z",
     "start_time": "2023-08-07T22:22:49.792632Z"
    }
   }
  },
  {
   "cell_type": "code",
   "execution_count": 749,
   "outputs": [
    {
     "data": {
      "text/plain": "array([[0., 0., 0., ..., 0., 0., 0.],\n       [0., 0., 0., ..., 0., 0., 0.],\n       [0., 0., 0., ..., 0., 0., 0.],\n       ...,\n       [0., 0., 0., ..., 0., 0., 0.],\n       [0., 0., 0., ..., 0., 0., 0.],\n       [0., 0., 0., ..., 0., 0., 0.]])"
     },
     "execution_count": 749,
     "metadata": {},
     "output_type": "execute_result"
    }
   ],
   "source": [
    "P"
   ],
   "metadata": {
    "collapsed": false,
    "ExecuteTime": {
     "end_time": "2023-08-07T22:22:49.990330Z",
     "start_time": "2023-08-07T22:22:49.983794Z"
    }
   }
  },
  {
   "cell_type": "code",
   "execution_count": 750,
   "outputs": [],
   "source": [
    "# E matrix transforms cofactors to their respective elemental composition\n",
    "\n",
    "# create list of unique elements\n",
    "unique_elements = set()\n",
    "for i in range(len(parsed_cofactor_df.index)):\n",
    "    cofactor = parsed_cofactor_df.at[i, 'elemental_composition']\n",
    "    unique_elements.update(cofactor.keys())\n",
    "\n",
    "unique_elements = list(unique_elements)\n",
    "\n",
    "# create E matrix: cofactors x elements\n",
    "E = np.zeros((len(parsed_cofactor_df.index), len(unique_elements)))\n",
    "\n",
    "for i in range(len(parsed_cofactor_df.index)):\n",
    "    cofactor = parsed_cofactor_df.at[i, 'elemental_composition']\n",
    "\n",
    "    for element, count in cofactor.items():\n",
    "        if count is not None:             # side effect of parquet\n",
    "            element_index = unique_elements.index(element)\n",
    "            E[i, element_index] = count\n",
    "\n",
    "\n",
    "element_ids = unique_elements"
   ],
   "metadata": {
    "collapsed": false,
    "ExecuteTime": {
     "end_time": "2023-08-07T22:22:50.424569Z",
     "start_time": "2023-08-07T22:22:50.421282Z"
    }
   }
  },
  {
   "cell_type": "code",
   "execution_count": 751,
   "outputs": [
    {
     "data": {
      "text/plain": "['MO',\n 'P',\n 'CA',\n 'ZN',\n 'NA',\n 'MG',\n 'SE',\n 'S',\n 'O',\n 'K',\n 'NI',\n 'C',\n 'N',\n 'MN',\n 'CU',\n 'H',\n 'FE',\n 'CO',\n 'R']"
     },
     "execution_count": 751,
     "metadata": {},
     "output_type": "execute_result"
    }
   ],
   "source": [
    "unique_elements"
   ],
   "metadata": {
    "collapsed": false,
    "ExecuteTime": {
     "end_time": "2023-08-07T22:22:50.988891Z",
     "start_time": "2023-08-07T22:22:50.984253Z"
    }
   }
  },
  {
   "cell_type": "code",
   "execution_count": 752,
   "outputs": [],
   "source": [
    "C_to_E = C @ P @ E"
   ],
   "metadata": {
    "collapsed": false,
    "ExecuteTime": {
     "end_time": "2023-08-07T22:22:51.401743Z",
     "start_time": "2023-08-07T22:22:51.343566Z"
    }
   }
  },
  {
   "cell_type": "code",
   "execution_count": 753,
   "outputs": [
    {
     "data": {
      "text/plain": "'EG10471-MONOMER'"
     },
     "execution_count": 753,
     "metadata": {},
     "output_type": "execute_result"
    }
   ],
   "source": [
    "C_names[1577]"
   ],
   "metadata": {
    "collapsed": false,
    "ExecuteTime": {
     "end_time": "2023-08-07T22:22:51.630451Z",
     "start_time": "2023-08-07T22:22:51.583559Z"
    }
   }
  },
  {
   "cell_type": "markdown",
   "source": [
    "# Now ... add the counts >:o"
   ],
   "metadata": {
    "collapsed": false
   }
  },
  {
   "cell_type": "code",
   "execution_count": 754,
   "outputs": [],
   "source": [
    "time = '50'\n",
    "date = '2023-06-09'\n",
    "experiment = 'fba-redux'\n",
    "entry = f'{experiment}_{time}_{date}'\n",
    "folder = f'out/fbagd/{entry}/'"
   ],
   "metadata": {
    "collapsed": false,
    "ExecuteTime": {
     "end_time": "2023-08-07T22:22:52.306609Z",
     "start_time": "2023-08-07T22:22:52.302259Z"
    }
   }
  },
  {
   "cell_type": "code",
   "execution_count": 755,
   "outputs": [],
   "source": [
    "output = np.load(folder + 'output.npy',allow_pickle='TRUE').item()\n",
    "# output = np.load(r\"out/geneRxnVerifData/output_glc.npy\", allow_pickle=True, encoding='ASCII').tolist()\n",
    "output = output['agents']['0']\n",
    "fba = output['listeners']['fba_results']\n",
    "mass = output['listeners']['mass']\n",
    "bulk = pd.DataFrame(output['bulk'])"
   ],
   "metadata": {
    "collapsed": false,
    "ExecuteTime": {
     "end_time": "2023-08-07T22:22:52.930314Z",
     "start_time": "2023-08-07T22:22:52.514473Z"
    }
   }
  },
  {
   "cell_type": "code",
   "execution_count": 756,
   "outputs": [
    {
     "data": {
      "text/plain": "    0      1      2      3      4      5      6      7      8      9      ...  \\\n0       0      0      0      0      0      0      0      0      0      0  ...   \n1       0      0      0      0      0      0      0      0      0      0  ...   \n2       0      0      0      0      0      0      0      0      0      0  ...   \n3       0      0      0      0      0      0      0      0      0      0  ...   \n4       0      0      0      0      0      0      0      0      0      0  ...   \n5       0      0      0      0      0      0      0      0      0      0  ...   \n6       0      0      0      0      0      0      0      0      0      0  ...   \n7       0      0      0      0      0      0      0      0      0      0  ...   \n8       0      0      0      0      0      0      0      0      0      0  ...   \n9       0      0      0      0      0      0      0      0      0      0  ...   \n10      0      0      0      0      0      0      0      0      0      0  ...   \n11      0      0      0      0      0      0      0      0      0      0  ...   \n12      0      0      0      0      0      0      0      0      0      0  ...   \n13      0      0      0      0      0      0      0      0      0      0  ...   \n14      0      0      0      0      0      0      0      0      0      0  ...   \n15      0      0      0      0      0      0      0      0      0      0  ...   \n16      0      0      0      0      0      0      0      0      0      0  ...   \n17      0      0      0      0      0      0      0      0      0      0  ...   \n18      0      0      0      0      0      0      0      0      0      0  ...   \n19      0      0      0      0      0      0      0      0      0      0  ...   \n20      0      0      0      0      0      0      0      0      0      0  ...   \n21      0      0      0      0      0      0      0      0      0      0  ...   \n22      0      0      0      0      0      0      0      0      0      0  ...   \n23      0      0      0      0      0      0      0      0      0      0  ...   \n24      0      0      0      0      0      0      0      0      0      0  ...   \n25      0      0      0      0      0      0      0      0      0      0  ...   \n\n    40879  40880  40881  40882  40883  40884  40885  40886  40887  40888  \n0       0      0      0      0   1934   1006    864   1590   2772   3232  \n1       0      0      0      0   1936   1006    864   1590   2774   3232  \n2       0      0      0      0   1938   1006    864   1590   2774   3234  \n3       0      0      0      0   1940   1006    864   1590   2775   3234  \n4       0      0      0      0   1941   1006    864   1591   2776   3234  \n5       0      0      0      0   1941   1006    864   1591   2776   3235  \n6       0      0      0      0   1942   1007    866   1592   2776   3237  \n7       0      0      0      0   1941   1007    866   1594   2778   3237  \n8       0      0      0      0   1942   1007    866   1595   2780   3238  \n9       0      0      0      0   1942   1008    866   1595   2781   3239  \n10      0      0      0      0   1945   1008    866   1596   2782   3240  \n11      0      0      0      0   1947   1009    868   1599   2783   3242  \n12      0      0      0      0   1948   1009    868   1599   2783   3245  \n13      0      0      0      0   1948   1010    868   1599   2785   3246  \n14      0      0      0      0   1948   1010    869   1601   2786   3249  \n15      0      0      0      0   1949   1010    871   1602   2786   3251  \n16      0      0      0      0   1949   1011    871   1603   2786   3253  \n17      0      0      0      0   1950   1012    871   1604   2789   3257  \n18      0      0      0      0   1954   1012    871   1604   2789   3257  \n19      0      0      0      0   1957   1013    871   1606   2790   3257  \n20      0      0      0      0   1959   1014    871   1608   2791   3259  \n21      0      0      0      0   1959   1014    872   1609   2791   3261  \n22      0      0      0      0   1959   1014    872   1613   2791   3261  \n23      0      0      0      0   1959   1014    872   1613   2792   3262  \n24      0      0      0      0   1959   1014    872   1613   2794   3263  \n25      0      0      0      0   1960   1014    873   1614   2794   3264  \n\n[26 rows x 40889 columns]",
      "text/html": "<div>\n<style scoped>\n    .dataframe tbody tr th:only-of-type {\n        vertical-align: middle;\n    }\n\n    .dataframe tbody tr th {\n        vertical-align: top;\n    }\n\n    .dataframe thead th {\n        text-align: right;\n    }\n</style>\n<table border=\"1\" class=\"dataframe\">\n  <thead>\n    <tr style=\"text-align: right;\">\n      <th></th>\n      <th>0</th>\n      <th>1</th>\n      <th>2</th>\n      <th>3</th>\n      <th>4</th>\n      <th>5</th>\n      <th>6</th>\n      <th>7</th>\n      <th>8</th>\n      <th>9</th>\n      <th>...</th>\n      <th>40879</th>\n      <th>40880</th>\n      <th>40881</th>\n      <th>40882</th>\n      <th>40883</th>\n      <th>40884</th>\n      <th>40885</th>\n      <th>40886</th>\n      <th>40887</th>\n      <th>40888</th>\n    </tr>\n  </thead>\n  <tbody>\n    <tr>\n      <th>0</th>\n      <td>0</td>\n      <td>0</td>\n      <td>0</td>\n      <td>0</td>\n      <td>0</td>\n      <td>0</td>\n      <td>0</td>\n      <td>0</td>\n      <td>0</td>\n      <td>0</td>\n      <td>...</td>\n      <td>0</td>\n      <td>0</td>\n      <td>0</td>\n      <td>0</td>\n      <td>1934</td>\n      <td>1006</td>\n      <td>864</td>\n      <td>1590</td>\n      <td>2772</td>\n      <td>3232</td>\n    </tr>\n    <tr>\n      <th>1</th>\n      <td>0</td>\n      <td>0</td>\n      <td>0</td>\n      <td>0</td>\n      <td>0</td>\n      <td>0</td>\n      <td>0</td>\n      <td>0</td>\n      <td>0</td>\n      <td>0</td>\n      <td>...</td>\n      <td>0</td>\n      <td>0</td>\n      <td>0</td>\n      <td>0</td>\n      <td>1936</td>\n      <td>1006</td>\n      <td>864</td>\n      <td>1590</td>\n      <td>2774</td>\n      <td>3232</td>\n    </tr>\n    <tr>\n      <th>2</th>\n      <td>0</td>\n      <td>0</td>\n      <td>0</td>\n      <td>0</td>\n      <td>0</td>\n      <td>0</td>\n      <td>0</td>\n      <td>0</td>\n      <td>0</td>\n      <td>0</td>\n      <td>...</td>\n      <td>0</td>\n      <td>0</td>\n      <td>0</td>\n      <td>0</td>\n      <td>1938</td>\n      <td>1006</td>\n      <td>864</td>\n      <td>1590</td>\n      <td>2774</td>\n      <td>3234</td>\n    </tr>\n    <tr>\n      <th>3</th>\n      <td>0</td>\n      <td>0</td>\n      <td>0</td>\n      <td>0</td>\n      <td>0</td>\n      <td>0</td>\n      <td>0</td>\n      <td>0</td>\n      <td>0</td>\n      <td>0</td>\n      <td>...</td>\n      <td>0</td>\n      <td>0</td>\n      <td>0</td>\n      <td>0</td>\n      <td>1940</td>\n      <td>1006</td>\n      <td>864</td>\n      <td>1590</td>\n      <td>2775</td>\n      <td>3234</td>\n    </tr>\n    <tr>\n      <th>4</th>\n      <td>0</td>\n      <td>0</td>\n      <td>0</td>\n      <td>0</td>\n      <td>0</td>\n      <td>0</td>\n      <td>0</td>\n      <td>0</td>\n      <td>0</td>\n      <td>0</td>\n      <td>...</td>\n      <td>0</td>\n      <td>0</td>\n      <td>0</td>\n      <td>0</td>\n      <td>1941</td>\n      <td>1006</td>\n      <td>864</td>\n      <td>1591</td>\n      <td>2776</td>\n      <td>3234</td>\n    </tr>\n    <tr>\n      <th>5</th>\n      <td>0</td>\n      <td>0</td>\n      <td>0</td>\n      <td>0</td>\n      <td>0</td>\n      <td>0</td>\n      <td>0</td>\n      <td>0</td>\n      <td>0</td>\n      <td>0</td>\n      <td>...</td>\n      <td>0</td>\n      <td>0</td>\n      <td>0</td>\n      <td>0</td>\n      <td>1941</td>\n      <td>1006</td>\n      <td>864</td>\n      <td>1591</td>\n      <td>2776</td>\n      <td>3235</td>\n    </tr>\n    <tr>\n      <th>6</th>\n      <td>0</td>\n      <td>0</td>\n      <td>0</td>\n      <td>0</td>\n      <td>0</td>\n      <td>0</td>\n      <td>0</td>\n      <td>0</td>\n      <td>0</td>\n      <td>0</td>\n      <td>...</td>\n      <td>0</td>\n      <td>0</td>\n      <td>0</td>\n      <td>0</td>\n      <td>1942</td>\n      <td>1007</td>\n      <td>866</td>\n      <td>1592</td>\n      <td>2776</td>\n      <td>3237</td>\n    </tr>\n    <tr>\n      <th>7</th>\n      <td>0</td>\n      <td>0</td>\n      <td>0</td>\n      <td>0</td>\n      <td>0</td>\n      <td>0</td>\n      <td>0</td>\n      <td>0</td>\n      <td>0</td>\n      <td>0</td>\n      <td>...</td>\n      <td>0</td>\n      <td>0</td>\n      <td>0</td>\n      <td>0</td>\n      <td>1941</td>\n      <td>1007</td>\n      <td>866</td>\n      <td>1594</td>\n      <td>2778</td>\n      <td>3237</td>\n    </tr>\n    <tr>\n      <th>8</th>\n      <td>0</td>\n      <td>0</td>\n      <td>0</td>\n      <td>0</td>\n      <td>0</td>\n      <td>0</td>\n      <td>0</td>\n      <td>0</td>\n      <td>0</td>\n      <td>0</td>\n      <td>...</td>\n      <td>0</td>\n      <td>0</td>\n      <td>0</td>\n      <td>0</td>\n      <td>1942</td>\n      <td>1007</td>\n      <td>866</td>\n      <td>1595</td>\n      <td>2780</td>\n      <td>3238</td>\n    </tr>\n    <tr>\n      <th>9</th>\n      <td>0</td>\n      <td>0</td>\n      <td>0</td>\n      <td>0</td>\n      <td>0</td>\n      <td>0</td>\n      <td>0</td>\n      <td>0</td>\n      <td>0</td>\n      <td>0</td>\n      <td>...</td>\n      <td>0</td>\n      <td>0</td>\n      <td>0</td>\n      <td>0</td>\n      <td>1942</td>\n      <td>1008</td>\n      <td>866</td>\n      <td>1595</td>\n      <td>2781</td>\n      <td>3239</td>\n    </tr>\n    <tr>\n      <th>10</th>\n      <td>0</td>\n      <td>0</td>\n      <td>0</td>\n      <td>0</td>\n      <td>0</td>\n      <td>0</td>\n      <td>0</td>\n      <td>0</td>\n      <td>0</td>\n      <td>0</td>\n      <td>...</td>\n      <td>0</td>\n      <td>0</td>\n      <td>0</td>\n      <td>0</td>\n      <td>1945</td>\n      <td>1008</td>\n      <td>866</td>\n      <td>1596</td>\n      <td>2782</td>\n      <td>3240</td>\n    </tr>\n    <tr>\n      <th>11</th>\n      <td>0</td>\n      <td>0</td>\n      <td>0</td>\n      <td>0</td>\n      <td>0</td>\n      <td>0</td>\n      <td>0</td>\n      <td>0</td>\n      <td>0</td>\n      <td>0</td>\n      <td>...</td>\n      <td>0</td>\n      <td>0</td>\n      <td>0</td>\n      <td>0</td>\n      <td>1947</td>\n      <td>1009</td>\n      <td>868</td>\n      <td>1599</td>\n      <td>2783</td>\n      <td>3242</td>\n    </tr>\n    <tr>\n      <th>12</th>\n      <td>0</td>\n      <td>0</td>\n      <td>0</td>\n      <td>0</td>\n      <td>0</td>\n      <td>0</td>\n      <td>0</td>\n      <td>0</td>\n      <td>0</td>\n      <td>0</td>\n      <td>...</td>\n      <td>0</td>\n      <td>0</td>\n      <td>0</td>\n      <td>0</td>\n      <td>1948</td>\n      <td>1009</td>\n      <td>868</td>\n      <td>1599</td>\n      <td>2783</td>\n      <td>3245</td>\n    </tr>\n    <tr>\n      <th>13</th>\n      <td>0</td>\n      <td>0</td>\n      <td>0</td>\n      <td>0</td>\n      <td>0</td>\n      <td>0</td>\n      <td>0</td>\n      <td>0</td>\n      <td>0</td>\n      <td>0</td>\n      <td>...</td>\n      <td>0</td>\n      <td>0</td>\n      <td>0</td>\n      <td>0</td>\n      <td>1948</td>\n      <td>1010</td>\n      <td>868</td>\n      <td>1599</td>\n      <td>2785</td>\n      <td>3246</td>\n    </tr>\n    <tr>\n      <th>14</th>\n      <td>0</td>\n      <td>0</td>\n      <td>0</td>\n      <td>0</td>\n      <td>0</td>\n      <td>0</td>\n      <td>0</td>\n      <td>0</td>\n      <td>0</td>\n      <td>0</td>\n      <td>...</td>\n      <td>0</td>\n      <td>0</td>\n      <td>0</td>\n      <td>0</td>\n      <td>1948</td>\n      <td>1010</td>\n      <td>869</td>\n      <td>1601</td>\n      <td>2786</td>\n      <td>3249</td>\n    </tr>\n    <tr>\n      <th>15</th>\n      <td>0</td>\n      <td>0</td>\n      <td>0</td>\n      <td>0</td>\n      <td>0</td>\n      <td>0</td>\n      <td>0</td>\n      <td>0</td>\n      <td>0</td>\n      <td>0</td>\n      <td>...</td>\n      <td>0</td>\n      <td>0</td>\n      <td>0</td>\n      <td>0</td>\n      <td>1949</td>\n      <td>1010</td>\n      <td>871</td>\n      <td>1602</td>\n      <td>2786</td>\n      <td>3251</td>\n    </tr>\n    <tr>\n      <th>16</th>\n      <td>0</td>\n      <td>0</td>\n      <td>0</td>\n      <td>0</td>\n      <td>0</td>\n      <td>0</td>\n      <td>0</td>\n      <td>0</td>\n      <td>0</td>\n      <td>0</td>\n      <td>...</td>\n      <td>0</td>\n      <td>0</td>\n      <td>0</td>\n      <td>0</td>\n      <td>1949</td>\n      <td>1011</td>\n      <td>871</td>\n      <td>1603</td>\n      <td>2786</td>\n      <td>3253</td>\n    </tr>\n    <tr>\n      <th>17</th>\n      <td>0</td>\n      <td>0</td>\n      <td>0</td>\n      <td>0</td>\n      <td>0</td>\n      <td>0</td>\n      <td>0</td>\n      <td>0</td>\n      <td>0</td>\n      <td>0</td>\n      <td>...</td>\n      <td>0</td>\n      <td>0</td>\n      <td>0</td>\n      <td>0</td>\n      <td>1950</td>\n      <td>1012</td>\n      <td>871</td>\n      <td>1604</td>\n      <td>2789</td>\n      <td>3257</td>\n    </tr>\n    <tr>\n      <th>18</th>\n      <td>0</td>\n      <td>0</td>\n      <td>0</td>\n      <td>0</td>\n      <td>0</td>\n      <td>0</td>\n      <td>0</td>\n      <td>0</td>\n      <td>0</td>\n      <td>0</td>\n      <td>...</td>\n      <td>0</td>\n      <td>0</td>\n      <td>0</td>\n      <td>0</td>\n      <td>1954</td>\n      <td>1012</td>\n      <td>871</td>\n      <td>1604</td>\n      <td>2789</td>\n      <td>3257</td>\n    </tr>\n    <tr>\n      <th>19</th>\n      <td>0</td>\n      <td>0</td>\n      <td>0</td>\n      <td>0</td>\n      <td>0</td>\n      <td>0</td>\n      <td>0</td>\n      <td>0</td>\n      <td>0</td>\n      <td>0</td>\n      <td>...</td>\n      <td>0</td>\n      <td>0</td>\n      <td>0</td>\n      <td>0</td>\n      <td>1957</td>\n      <td>1013</td>\n      <td>871</td>\n      <td>1606</td>\n      <td>2790</td>\n      <td>3257</td>\n    </tr>\n    <tr>\n      <th>20</th>\n      <td>0</td>\n      <td>0</td>\n      <td>0</td>\n      <td>0</td>\n      <td>0</td>\n      <td>0</td>\n      <td>0</td>\n      <td>0</td>\n      <td>0</td>\n      <td>0</td>\n      <td>...</td>\n      <td>0</td>\n      <td>0</td>\n      <td>0</td>\n      <td>0</td>\n      <td>1959</td>\n      <td>1014</td>\n      <td>871</td>\n      <td>1608</td>\n      <td>2791</td>\n      <td>3259</td>\n    </tr>\n    <tr>\n      <th>21</th>\n      <td>0</td>\n      <td>0</td>\n      <td>0</td>\n      <td>0</td>\n      <td>0</td>\n      <td>0</td>\n      <td>0</td>\n      <td>0</td>\n      <td>0</td>\n      <td>0</td>\n      <td>...</td>\n      <td>0</td>\n      <td>0</td>\n      <td>0</td>\n      <td>0</td>\n      <td>1959</td>\n      <td>1014</td>\n      <td>872</td>\n      <td>1609</td>\n      <td>2791</td>\n      <td>3261</td>\n    </tr>\n    <tr>\n      <th>22</th>\n      <td>0</td>\n      <td>0</td>\n      <td>0</td>\n      <td>0</td>\n      <td>0</td>\n      <td>0</td>\n      <td>0</td>\n      <td>0</td>\n      <td>0</td>\n      <td>0</td>\n      <td>...</td>\n      <td>0</td>\n      <td>0</td>\n      <td>0</td>\n      <td>0</td>\n      <td>1959</td>\n      <td>1014</td>\n      <td>872</td>\n      <td>1613</td>\n      <td>2791</td>\n      <td>3261</td>\n    </tr>\n    <tr>\n      <th>23</th>\n      <td>0</td>\n      <td>0</td>\n      <td>0</td>\n      <td>0</td>\n      <td>0</td>\n      <td>0</td>\n      <td>0</td>\n      <td>0</td>\n      <td>0</td>\n      <td>0</td>\n      <td>...</td>\n      <td>0</td>\n      <td>0</td>\n      <td>0</td>\n      <td>0</td>\n      <td>1959</td>\n      <td>1014</td>\n      <td>872</td>\n      <td>1613</td>\n      <td>2792</td>\n      <td>3262</td>\n    </tr>\n    <tr>\n      <th>24</th>\n      <td>0</td>\n      <td>0</td>\n      <td>0</td>\n      <td>0</td>\n      <td>0</td>\n      <td>0</td>\n      <td>0</td>\n      <td>0</td>\n      <td>0</td>\n      <td>0</td>\n      <td>...</td>\n      <td>0</td>\n      <td>0</td>\n      <td>0</td>\n      <td>0</td>\n      <td>1959</td>\n      <td>1014</td>\n      <td>872</td>\n      <td>1613</td>\n      <td>2794</td>\n      <td>3263</td>\n    </tr>\n    <tr>\n      <th>25</th>\n      <td>0</td>\n      <td>0</td>\n      <td>0</td>\n      <td>0</td>\n      <td>0</td>\n      <td>0</td>\n      <td>0</td>\n      <td>0</td>\n      <td>0</td>\n      <td>0</td>\n      <td>...</td>\n      <td>0</td>\n      <td>0</td>\n      <td>0</td>\n      <td>0</td>\n      <td>1960</td>\n      <td>1014</td>\n      <td>873</td>\n      <td>1614</td>\n      <td>2794</td>\n      <td>3264</td>\n    </tr>\n  </tbody>\n</table>\n<p>26 rows × 40889 columns</p>\n</div>"
     },
     "execution_count": 756,
     "metadata": {},
     "output_type": "execute_result"
    }
   ],
   "source": [
    "bulk"
   ],
   "metadata": {
    "collapsed": false,
    "ExecuteTime": {
     "end_time": "2023-08-07T22:22:52.940409Z",
     "start_time": "2023-08-07T22:22:52.937199Z"
    }
   }
  },
  {
   "cell_type": "code",
   "execution_count": 757,
   "outputs": [],
   "source": [
    "f = open(folder + 'agent_steps.pkl', 'rb')\n",
    "agent = dill.load(f)\n",
    "f.close()\n",
    "\n",
    "metabolism = agent['ecoli-metabolism-redux']\n",
    "stoichiometry = metabolism.stoichiometry\n"
   ],
   "metadata": {
    "collapsed": false,
    "ExecuteTime": {
     "end_time": "2023-08-07T22:22:53.350092Z",
     "start_time": "2023-08-07T22:22:52.939792Z"
    }
   }
  },
  {
   "cell_type": "code",
   "execution_count": 758,
   "outputs": [],
   "source": [
    "initial_state = json.load(open('data/wcecoli_t0.json'))\n",
    "\n",
    "bulk_ids = [item[0] for item in initial_state['bulk']]\n",
    "\n",
    "bulk.columns = bulk_ids"
   ],
   "metadata": {
    "collapsed": false,
    "ExecuteTime": {
     "end_time": "2023-08-07T22:22:53.572315Z",
     "start_time": "2023-08-07T22:22:53.351235Z"
    }
   }
  },
  {
   "cell_type": "code",
   "execution_count": 759,
   "outputs": [
    {
     "name": "stdout",
     "output_type": "stream",
     "text": [
      "could not find MONOMER0-1241\n",
      "could not find MONOMER0-4223\n"
     ]
    }
   ],
   "source": [
    "ecocyc_to_wcm_map = {}\n",
    "\n",
    "# combined complex and protein names\n",
    "complex_protein_names = list(parsed_protein_df['id']) + list(parsed_complex_df['id'])\n",
    "\n",
    "for name in complex_protein_names:\n",
    "\n",
    "    # find complex name in bulk_ids\n",
    "    found = False\n",
    "\n",
    "    try:\n",
    "        idx = bulk_ids.index(name+'[c]')\n",
    "        ecocyc_to_wcm_map[name] = name+'[c]'\n",
    "        found = True\n",
    "        # print(f'found {complex_name} at {idx}')\n",
    "\n",
    "    except ValueError:\n",
    "        # delete key\n",
    "        found = False\n",
    "\n",
    "\n",
    "    if found == False:\n",
    "\n",
    "        for id in bulk_ids:\n",
    "            if name+'[' in id and id.startswith(name) and bulk.loc[:, id].sum() > 0:\n",
    "                #print(f'found {name} in {id} with nonzero count')\n",
    "                ecocyc_to_wcm_map[name] = id\n",
    "                found = True\n",
    "                break           # ensures preferring nonzero counts\n",
    "\n",
    "            elif name+'[' in id and id.startswith(name):\n",
    "                # print(f'found {name} in {id} with zero count')\n",
    "                ecocyc_to_wcm_map[name] = id\n",
    "                found = True\n",
    "\n",
    "    if found == False:\n",
    "        ecocyc_to_wcm_map[name] = '--TRANS-ACENAPHTHENE-12-DIOL[j]' # should be none\n",
    "        print(f'could not find {name}')\n"
   ],
   "metadata": {
    "collapsed": false,
    "ExecuteTime": {
     "end_time": "2023-08-07T22:23:03.531919Z",
     "start_time": "2023-08-07T22:22:53.585085Z"
    }
   }
  },
  {
   "cell_type": "code",
   "execution_count": 760,
   "outputs": [],
   "source": [
    "complex_wcm_names = [ecocyc_to_wcm_map[name] for name in C_names]\n",
    "\n",
    "counts = bulk.loc[0, complex_wcm_names]"
   ],
   "metadata": {
    "collapsed": false,
    "ExecuteTime": {
     "end_time": "2023-08-07T22:23:03.538255Z",
     "start_time": "2023-08-07T22:23:03.533436Z"
    }
   }
  },
  {
   "cell_type": "markdown",
   "source": [
    "# Finally ... add the counts >:o"
   ],
   "metadata": {
    "collapsed": false
   }
  },
  {
   "cell_type": "code",
   "execution_count": 761,
   "outputs": [],
   "source": [
    "factored_cofactor_elements = np.array(counts).reshape(-1,1) * C @ P @ E"
   ],
   "metadata": {
    "collapsed": false,
    "ExecuteTime": {
     "end_time": "2023-08-07T22:23:03.654728Z",
     "start_time": "2023-08-07T22:23:03.538912Z"
    }
   }
  },
  {
   "cell_type": "code",
   "execution_count": 762,
   "outputs": [
    {
     "data": {
      "text/plain": "array([[  0.,   0.,   0., ...,   0.,   0.,   0.],\n       [  0., 344.,   0., ...,   0.,   0.,   0.],\n       [  0.,   0.,   0., ...,   0.,   0.,   0.],\n       ...,\n       [  0.,   0.,   0., ...,   0.,   0.,   0.],\n       [  0.,   0.,   0., ...,   0.,   0.,   0.],\n       [  0.,   0.,   0., ...,   0.,   0.,   0.]])"
     },
     "execution_count": 762,
     "metadata": {},
     "output_type": "execute_result"
    }
   ],
   "source": [
    "factored_cofactor_elements"
   ],
   "metadata": {
    "collapsed": false,
    "ExecuteTime": {
     "end_time": "2023-08-07T22:23:03.695411Z",
     "start_time": "2023-08-07T22:23:03.663563Z"
    }
   }
  },
  {
   "cell_type": "code",
   "execution_count": 763,
   "outputs": [
    {
     "data": {
      "text/plain": "{'MO': 1642.0,\n 'P': 119428.0,\n 'CA': 10028.0,\n 'ZN': 149239.0,\n 'NA': 1003.0,\n 'MG': 246699.0,\n 'SE': 0.0,\n 'S': 251064.0,\n 'O': 834498.0,\n 'K': 14221.0,\n 'NI': 8625.0,\n 'C': 1554626.0,\n 'N': 345962.0,\n 'MN': 40243.0,\n 'CU': 4872.0,\n 'H': 702.0,\n 'FE': 219263.0,\n 'CO': 1018.0,\n 'R': 70880.0}"
     },
     "execution_count": 763,
     "metadata": {},
     "output_type": "execute_result"
    }
   ],
   "source": [
    "{unique_elements[i]: factored_cofactor_elements.sum(axis=0)[i] for i in range(len(unique_elements))}"
   ],
   "metadata": {
    "collapsed": false,
    "ExecuteTime": {
     "end_time": "2023-08-07T22:23:03.745242Z",
     "start_time": "2023-08-07T22:23:03.668692Z"
    }
   }
  },
  {
   "cell_type": "code",
   "execution_count": 764,
   "outputs": [
    {
     "data": {
      "text/plain": "{'ZN': 5348.0, 'MG': 2674.0}"
     },
     "execution_count": 764,
     "metadata": {},
     "output_type": "execute_result"
    }
   ],
   "source": [
    "cidx = C_names.index('APORNAP-CPLX')\n",
    "{unique_elements[i]: factored_cofactor_elements[cidx,i] for i in range(len(unique_elements)) if factored_cofactor_elements[cidx,i] > 0}"
   ],
   "metadata": {
    "collapsed": false,
    "ExecuteTime": {
     "end_time": "2023-08-07T22:23:03.745468Z",
     "start_time": "2023-08-07T22:23:03.682431Z"
    }
   }
  },
  {
   "cell_type": "code",
   "execution_count": 765,
   "outputs": [
    {
     "data": {
      "text/plain": "['1-PFK',\n '2OXOGLUTARATEDEH-CPLX',\n '3-ISOPROPYLMALDEHYDROG-CPLX',\n '3-ISOPROPYLMALISOM-CPLX',\n '3-METHYL-2-OXOBUT-OHCH3XFER-CPLX',\n '3-OXOACYL-ACP-SYNTHII-CPLX',\n '6PFK-1-CPX',\n '6PFK-2-CPX',\n '6PGLUCONDEHYDROG-CPLX',\n '7-ALPHA-HYDROXYSTEROID-DEH-CPLX',\n '7KAPSYN-CPLX',\n 'ABC-10-CPLX',\n 'ABC-11-CPLX',\n 'ABC-12-CPLX',\n 'ABC-13-CPLX',\n 'ABC-14-CPLX',\n 'ABC-15-CPLX',\n 'ABC-16-CPLX',\n 'ABC-18-CPLX',\n 'ABC-19-CPLX',\n 'ABC-2-CPLX',\n 'ABC-20-CPLX',\n 'ABC-21-CPLX',\n 'ABC-22-CPLX',\n 'ABC-23-CPLX',\n 'ABC-24-CPLX',\n 'ABC-25-CPLX',\n 'ABC-26-CPLX',\n 'ABC-27-CPLX',\n 'ABC-28-CPLX',\n 'ABC-29-CPLX',\n 'ABC-3-CPLX',\n 'ABC-304-CPLX',\n 'ABC-32-CPLX',\n 'ABC-33-CPLX',\n 'ABC-34-CPLX',\n 'ABC-35-CPLX',\n 'ABC-4-CPLX',\n 'ABC-40-CPLX',\n 'ABC-41-CPLX',\n 'ABC-42-CPLX',\n 'ABC-45-CPLX',\n 'ABC-46-CPLX',\n 'ABC-48-CPLX',\n 'ABC-49-CPLX',\n 'ABC-5-CPLX',\n 'ABC-51-CPLX',\n 'ABC-52-CPLX',\n 'ABC-54-CPLX',\n 'ABC-55-CPLX',\n 'ABC-56-CPLX',\n 'ABC-57-CPLX',\n 'ABC-58-CPLX',\n 'ABC-59-CPLX',\n 'ABC-6-CPLX',\n 'ABC-60-CPLX',\n 'ABC-61-CPLX',\n 'ABC-62-CPLX',\n 'ABC-63-CPLX',\n 'ABC-64-CPLX',\n 'ABC-7-CPLX',\n 'ABC-70-CPLX',\n 'ABC-8-CPLX',\n 'ABC-9-CPLX',\n 'ACETOACETYL-COA-TRANSFER-CPLX',\n 'ACETOLACTSYNI-CPLX',\n 'ACETOLACTSYNII-CPLX',\n 'ACETOLACTSYNIII-CPLX',\n 'ACETYL-COA-ACETYLTRANSFER-CPLX',\n 'ACETYL-COA-CARBOXYLTRANSFER-CPLX',\n 'ACETYLGLUTKIN-CPLX',\n 'ACETYLORNDEACET-CPLX',\n 'ACETYLORNTRANSAM-CPLX',\n 'ACNEULY-CPLX',\n 'ACSERLYA-CPLX',\n 'ACSERLYB-CPLX',\n 'ACYLCOASYN-CPLX',\n 'ADCLY-CPLX',\n 'ADENPRIBOSYLTRAN-CPLX',\n 'ADENYLOSUCCINATE-SYN-DIMER',\n 'ADENYLYLSULFKIN-CPLX',\n 'ADHC-CPLX',\n 'ADHE-CPLX',\n 'AERGLYC3PDEHYDROG-CPLX',\n 'AGMATIN-CPLX',\n 'AIRS-CPLX',\n 'AKBLIG-CPLX',\n 'ALAS-CPLX',\n 'ALD-CPLX',\n 'ALKAPHOSPHA-CPLX',\n 'ALPHA-SUBUNIT-CPLX',\n 'ALPHAGALACTOSID-CPLX',\n 'AMINEOXID-CPLX',\n 'AMP-NUCLEOSID-CPLX',\n 'ANGLYC3PDEHYDROG-CPLX',\n 'ANSA-CPLX',\n 'ANSB-CPLX',\n 'ANTHRANSYN-CPLX',\n 'APHA-CPLX',\n 'APORNAP-CPLX',\n 'APP-UBIOX-CPLX',\n 'ARABISOM-CPLX',\n 'ARGDECARBOXBIO-CPLX',\n 'ARGDECARBOXDEG-CPLX',\n 'AROC-CPLX',\n 'AROD-CPLX',\n 'AROF-CPLX',\n 'AROG-CPLX',\n 'AROH-CPLX',\n 'ASNS-CPLX',\n 'ASNSYNA-CPLX',\n 'ASNSYNB-CPLX',\n 'ASP-SEMIALDEHYDE-DEHYDROGENASE-CPLX',\n 'ASPAMINOTRANS-DIMER',\n 'ASPARTASE-CPLX',\n 'ASPCARBCAT-TRIMER',\n 'ASPCARBREG-DIMER',\n 'ASPCARBTRANS-CPLX',\n 'ASPKINIHOMOSERDEHYDROGI-CPLX',\n 'ASPKINIIHOMOSERDEHYDROGII-CPLX',\n 'ASPKINIII-CPLX',\n 'ASPS-CPLX',\n 'ATOA-CPLX',\n 'ATOD-CPLX',\n 'ATPA-CPLX',\n 'ATPASE-1-CPLX',\n 'ATPD-CPLX',\n 'ATPE-CPLX',\n 'ATPF-CPLX',\n 'ATPSYN-CPLX',\n 'B1-CPLX',\n 'B2-CPLX',\n 'BADH-CPLX',\n 'BETAGALACTOSID-CPLX',\n 'BIOTIN-CARBOXYL-CPLX',\n 'BIOTIN-SYN-CPLX',\n 'BRANCHED-CHAINAMINOTRANSFER-CPLX',\n 'CARBODEHYDRAT-CPLX',\n 'CARBPSYN-CPLX',\n 'CARNDEHYDRA-CPLX',\n 'CFA-CPLX',\n 'CHEZ-CPLX',\n 'CHORISMUTPREPHENDEHYDRAT-CPLX',\n 'CHORISMUTPREPHENDEHYDROG-CPLX',\n 'CITRATE-SI-SYNTHASE',\n 'CITRYLY-CPLX',\n 'CITTRANS-CPLX',\n 'COADTRI-CPLX',\n 'COBU-CPLX',\n 'CPLX-153',\n 'CPLX-154',\n 'CPLX-155',\n 'CPLX-156',\n 'CPLX-157',\n 'CPLX-158',\n 'CPLX-159',\n 'CPLX-160',\n 'CPLX-165',\n 'CPLX-166',\n 'CPLX-167',\n 'CPLX-168',\n 'CPLX-169',\n 'CPLX-170',\n 'CPLX-171',\n 'CPLX-3942',\n 'CPLX-3945',\n 'CPLX-3946',\n 'CPLX-64',\n 'CPLX-722',\n 'CPLX-7524',\n 'CPLX-7',\n 'CPLX-8331',\n 'CPLX-8401',\n 'CPLX-9493',\n 'CPLX-9494',\n 'CPLX-9495',\n 'CPLX0-0',\n 'CPLX0-1021',\n 'CPLX0-1101',\n 'CPLX0-1121',\n 'CPLX0-1141',\n 'CPLX0-1142',\n 'CPLX0-1161',\n 'CPLX0-1162',\n 'CPLX0-1163',\n 'CPLX0-1221',\n 'CPLX0-1241',\n 'CPLX0-1242',\n 'CPLX0-1261',\n 'CPLX0-1262',\n 'CPLX0-1321',\n 'CPLX0-1341',\n 'CPLX0-1401',\n 'CPLX0-1421',\n 'CPLX0-1441',\n 'CPLX0-1461',\n 'CPLX0-1521',\n 'CPLX0-1541',\n 'CPLX0-1601',\n 'CPLX0-1621',\n 'CPLX0-1642',\n 'CPLX0-1668',\n 'CPLX0-1683',\n 'CPLX0-1721',\n 'CPLX0-1762',\n 'CPLX0-1821',\n 'CPLX0-1841',\n 'CPLX0-1863',\n 'CPLX0-1881',\n 'CPLX0-1923',\n 'CPLX0-1924',\n 'CPLX0-1941',\n 'CPLX0-1942',\n 'CPLX0-1943',\n 'CPLX0-1962',\n 'CPLX0-1',\n 'CPLX0-201',\n 'CPLX0-2021',\n 'CPLX0-2061',\n 'CPLX0-2081',\n 'CPLX0-2121',\n 'CPLX0-2141',\n 'CPLX0-2161',\n 'CPLX0-2201',\n 'CPLX0-224',\n 'CPLX0-225',\n 'CPLX0-227',\n 'CPLX0-229',\n 'CPLX0-230',\n 'CPLX0-231',\n 'CPLX0-234',\n 'CPLX0-235',\n 'CPLX0-2361',\n 'CPLX0-236',\n 'CPLX0-237',\n 'CPLX0-2381',\n 'CPLX0-238',\n 'CPLX0-2401',\n 'CPLX0-240',\n 'CPLX0-2423',\n 'CPLX0-2424',\n 'CPLX0-2425',\n 'CPLX0-242',\n 'CPLX0-243',\n 'CPLX0-2441',\n 'CPLX0-244',\n 'CPLX0-245',\n 'CPLX0-246',\n 'CPLX0-248',\n 'CPLX0-2502',\n 'CPLX0-250',\n 'CPLX0-251',\n 'CPLX0-2521',\n 'CPLX0-252',\n 'CPLX0-253',\n 'CPLX0-2541',\n 'CPLX0-254',\n 'CPLX0-255',\n 'CPLX0-2561',\n 'CPLX0-2621',\n 'CPLX0-2641',\n 'CPLX0-2661',\n 'CPLX0-2681',\n 'CPLX0-2861',\n 'CPLX0-2881',\n 'CPLX0-2921',\n 'CPLX0-2941',\n 'CPLX0-2982',\n 'CPLX0-3001',\n 'CPLX0-301',\n 'CPLX0-3021',\n 'CPLX0-303',\n 'CPLX0-3041',\n 'CPLX0-3061',\n 'CPLX0-3081',\n 'CPLX0-3101',\n 'CPLX0-3102',\n 'CPLX0-3104',\n 'CPLX0-3107',\n 'CPLX0-3108',\n 'CPLX0-3121',\n 'CPLX0-3141',\n 'CPLX0-3161',\n 'CPLX0-3181',\n 'CPLX0-3201',\n 'CPLX0-321',\n 'CPLX0-3221',\n 'CPLX0-322',\n 'CPLX0-3241',\n 'CPLX0-3281',\n 'CPLX0-3301',\n 'CPLX0-3361',\n 'CPLX0-3382',\n 'CPLX0-3401',\n 'CPLX0-341',\n 'CPLX0-3461',\n 'CPLX0-3482',\n 'CPLX0-3501',\n 'CPLX0-3521',\n 'CPLX0-3541',\n 'CPLX0-3561',\n 'CPLX0-3581',\n 'CPLX0-3601',\n 'CPLX0-3602',\n 'CPLX0-3621',\n 'CPLX0-3641',\n 'CPLX0-3661',\n 'CPLX0-3681',\n 'CPLX0-3721',\n 'CPLX0-3741',\n 'CPLX0-3761',\n 'CPLX0-3781',\n 'CPLX0-3801',\n 'CPLX0-3802',\n 'CPLX0-3803',\n 'CPLX0-3821',\n 'CPLX0-3841',\n 'CPLX0-3861',\n 'CPLX0-3881',\n 'CPLX0-3901',\n 'CPLX0-3921',\n 'CPLX0-3923',\n 'CPLX0-3924',\n 'CPLX0-3925',\n 'CPLX0-3927',\n 'CPLX0-3929',\n 'CPLX0-3930',\n 'CPLX0-3931',\n 'CPLX0-3932',\n 'CPLX0-3933',\n 'CPLX0-3934',\n 'CPLX0-3936',\n 'CPLX0-3937',\n 'CPLX0-3938',\n 'CPLX0-3939',\n 'CPLX0-3941',\n 'CPLX0-3943',\n 'CPLX0-3948',\n 'CPLX0-3949',\n 'CPLX0-3950',\n 'CPLX0-3951',\n 'CPLX0-3952',\n 'CPLX0-3954',\n 'CPLX0-3955',\n 'CPLX0-3956',\n 'CPLX0-3957',\n 'CPLX0-3958',\n 'CPLX0-3959',\n 'CPLX0-3961',\n 'CPLX0-3969',\n 'CPLX0-3970',\n 'CPLX0-3971',\n 'CPLX0-3976',\n 'CPLX0-3',\n 'CPLX0-4',\n 'CPLX0-661',\n 'CPLX0-682',\n 'CPLX0-721',\n 'CPLX0-7415',\n 'CPLX0-7417',\n 'CPLX0-7418',\n 'CPLX0-7420',\n 'CPLX0-7421',\n 'CPLX0-7422',\n 'CPLX0-7423',\n 'CPLX0-7425',\n 'CPLX0-7426',\n 'CPLX0-743',\n 'CPLX0-7444',\n 'CPLX0-7450',\n 'CPLX0-7451',\n 'CPLX0-7452',\n 'CPLX0-7458',\n 'CPLX0-7462',\n 'CPLX0-7465',\n 'CPLX0-7466',\n 'CPLX0-7521',\n 'CPLX0-7525',\n 'CPLX0-7529',\n 'CPLX0-7530',\n 'CPLX0-7532',\n 'CPLX0-7533',\n 'CPLX0-7534',\n 'CPLX0-7535',\n 'CPLX0-7536',\n 'CPLX0-7538',\n 'CPLX0-7561',\n 'CPLX0-7564',\n 'CPLX0-7597',\n 'CPLX0-7608',\n 'CPLX0-7609',\n 'CPLX0-7610',\n 'CPLX0-7613',\n 'CPLX0-7614',\n 'CPLX0-7615',\n 'CPLX0-7616',\n 'CPLX0-7617',\n 'CPLX0-761',\n 'CPLX0-7622',\n 'CPLX0-7623',\n 'CPLX0-7624',\n 'CPLX0-7625',\n 'CPLX0-7626',\n 'CPLX0-7627',\n 'CPLX0-7628',\n 'CPLX0-7629',\n 'CPLX0-7630',\n 'CPLX0-7631',\n 'CPLX0-7632',\n 'CPLX0-7633',\n 'CPLX0-7641',\n 'CPLX0-7642',\n 'CPLX0-7643',\n 'CPLX0-7645',\n 'CPLX0-7646',\n 'CPLX0-7647',\n 'CPLX0-7648',\n 'CPLX0-7649',\n 'CPLX0-7652',\n 'CPLX0-7653',\n 'CPLX0-7654',\n 'CPLX0-7655',\n 'CPLX0-7658',\n 'CPLX0-7659',\n 'CPLX0-7660',\n 'CPLX0-7662',\n 'CPLX0-7666',\n 'CPLX0-7667',\n 'CPLX0-7668',\n 'CPLX0-7669',\n 'CPLX0-7672',\n 'CPLX0-7674',\n 'CPLX0-7675',\n 'CPLX0-7678',\n 'CPLX0-7679',\n 'CPLX0-7682',\n 'CPLX0-7683',\n 'CPLX0-7684',\n 'CPLX0-7685',\n 'CPLX0-7686',\n 'CPLX0-7687',\n 'CPLX0-7688',\n 'CPLX0-7691',\n 'CPLX0-7692',\n 'CPLX0-7693',\n 'CPLX0-7694',\n 'CPLX0-7695',\n 'CPLX0-7696',\n 'CPLX0-7697',\n 'CPLX0-7698',\n 'CPLX0-7704',\n 'CPLX0-7705',\n 'CPLX0-7707',\n 'CPLX0-7708',\n 'CPLX0-7709',\n 'CPLX0-7710',\n 'CPLX0-7711',\n 'CPLX0-7712',\n 'CPLX0-7713',\n 'CPLX0-7717',\n 'CPLX0-7718',\n 'CPLX0-7719',\n 'CPLX0-7720',\n 'CPLX0-7722',\n 'CPLX0-7723',\n 'CPLX0-7724',\n 'CPLX0-7725',\n 'CPLX0-7726',\n 'CPLX0-7727',\n 'CPLX0-7728',\n 'CPLX0-7731',\n 'CPLX0-7732',\n 'CPLX0-7733',\n 'CPLX0-7734',\n 'CPLX0-7740',\n 'CPLX0-7741',\n 'CPLX0-7744',\n 'CPLX0-7745',\n 'CPLX0-7747',\n 'CPLX0-7755',\n 'CPLX0-7756',\n 'CPLX0-7757',\n 'CPLX0-7758',\n 'CPLX0-7759',\n 'CPLX0-7760',\n 'CPLX0-7766',\n 'CPLX0-7776',\n 'CPLX0-7787',\n 'CPLX0-7788',\n 'CPLX0-7789',\n 'CPLX0-7791',\n 'CPLX0-7794',\n 'CPLX0-7797',\n 'CPLX0-7801',\n 'CPLX0-7802',\n 'CPLX0-7805',\n 'CPLX0-7806',\n 'CPLX0-7807',\n 'CPLX0-7808',\n 'CPLX0-7810',\n 'CPLX0-7811',\n 'CPLX0-7816',\n 'CPLX0-7817',\n 'CPLX0-7819',\n 'CPLX0-7820',\n 'CPLX0-7822',\n 'CPLX0-7823',\n 'CPLX0-7824',\n 'CPLX0-7826',\n 'CPLX0-7827',\n 'CPLX0-782',\n 'CPLX0-7835',\n 'CPLX0-7836',\n 'CPLX0-7837',\n 'CPLX0-7838',\n 'CPLX0-7839',\n 'CPLX0-7841',\n 'CPLX0-7843',\n 'CPLX0-7844',\n 'CPLX0-7847',\n 'CPLX0-7848',\n 'CPLX0-7852',\n 'CPLX0-7853',\n 'CPLX0-7854',\n 'CPLX0-7870',\n 'CPLX0-7877',\n 'CPLX0-7878',\n 'CPLX0-7879',\n 'CPLX0-7882',\n 'CPLX0-7887',\n 'CPLX0-7888',\n 'CPLX0-7889',\n 'CPLX0-7904',\n 'CPLX0-7906',\n 'CPLX0-7908',\n 'CPLX0-7909',\n 'CPLX0-7910',\n 'CPLX0-7912',\n 'CPLX0-7913',\n 'CPLX0-7914',\n 'CPLX0-7916',\n 'CPLX0-7917',\n 'CPLX0-7921',\n 'CPLX0-7922',\n 'CPLX0-7923',\n 'CPLX0-7927',\n 'CPLX0-7928',\n 'CPLX0-7929',\n 'CPLX0-7932',\n 'CPLX0-7933',\n 'CPLX0-7934',\n 'CPLX0-7935',\n 'CPLX0-7936',\n 'CPLX0-7938',\n 'CPLX0-7939',\n 'CPLX0-7940',\n 'CPLX0-7942',\n 'CPLX0-7944',\n 'CPLX0-7945',\n 'CPLX0-7946',\n 'CPLX0-7947',\n 'CPLX0-7950',\n 'CPLX0-7951',\n 'CPLX0-7952',\n 'CPLX0-7955',\n 'CPLX0-7956',\n 'CPLX0-7957',\n 'CPLX0-7958',\n 'CPLX0-7959',\n 'CPLX0-7960',\n 'CPLX0-7961',\n 'CPLX0-7962',\n 'CPLX0-7963',\n 'CPLX0-7964',\n 'CPLX0-7970',\n 'CPLX0-7973',\n 'CPLX0-7974',\n 'CPLX0-7975',\n 'CPLX0-7976',\n 'CPLX0-7977',\n 'CPLX0-7979',\n 'CPLX0-7981',\n 'CPLX0-7982',\n 'CPLX0-7983',\n 'CPLX0-7984',\n 'CPLX0-7985',\n 'CPLX0-7986',\n 'CPLX0-7987',\n 'CPLX0-7988',\n 'CPLX0-7989',\n 'CPLX0-7990',\n 'CPLX0-7992',\n 'CPLX0-7993',\n 'CPLX0-7994',\n 'CPLX0-7997',\n 'CPLX0-7998',\n 'CPLX0-7',\n 'CPLX0-8005',\n 'CPLX0-8006',\n 'CPLX0-8008',\n 'CPLX0-8010',\n 'CPLX0-8011',\n 'CPLX0-8012',\n 'CPLX0-8013',\n 'CPLX0-8014',\n 'CPLX0-8015',\n 'CPLX0-8016',\n 'CPLX0-801',\n 'CPLX0-8031',\n 'CPLX0-8032',\n 'CPLX0-8033',\n 'CPLX0-8034',\n 'CPLX0-8043',\n 'CPLX0-8044',\n 'CPLX0-8045',\n 'CPLX0-8046',\n 'CPLX0-8089',\n 'CPLX0-8090',\n 'CPLX0-8092',\n 'CPLX0-8095',\n 'CPLX0-8096',\n 'CPLX0-8097',\n 'CPLX0-8098',\n 'CPLX0-8102',\n 'CPLX0-8103',\n 'CPLX0-8104',\n 'CPLX0-8105',\n 'CPLX0-8106',\n 'CPLX0-8107',\n 'CPLX0-8108',\n 'CPLX0-8109',\n 'CPLX0-8110',\n 'CPLX0-8111',\n 'CPLX0-8112',\n 'CPLX0-8113',\n 'CPLX0-8119',\n 'CPLX0-8120',\n 'CPLX0-8121',\n 'CPLX0-8122',\n 'CPLX0-8123',\n 'CPLX0-8124',\n 'CPLX0-8125',\n 'CPLX0-8127',\n 'CPLX0-8128',\n 'CPLX0-8129',\n 'CPLX0-8152',\n 'CPLX0-8154',\n 'CPLX0-8155',\n 'CPLX0-8156',\n 'CPLX0-8157',\n 'CPLX0-8158',\n 'CPLX0-8159',\n 'CPLX0-8160',\n 'CPLX0-8163',\n 'CPLX0-8164',\n 'CPLX0-8165',\n 'CPLX0-8167',\n 'CPLX0-8168',\n 'CPLX0-8173',\n 'CPLX0-8174',\n 'CPLX0-8175',\n 'CPLX0-8176',\n 'CPLX0-8177',\n 'CPLX0-8180',\n 'CPLX0-8181',\n 'CPLX0-8182',\n 'CPLX0-8183',\n 'CPLX0-8184',\n 'CPLX0-8185',\n 'CPLX0-8186',\n 'CPLX0-8187',\n 'CPLX0-8188',\n 'CPLX0-8189',\n 'CPLX0-8190',\n 'CPLX0-8191',\n 'CPLX0-8192',\n 'CPLX0-8196',\n 'CPLX0-8198',\n 'CPLX0-8199',\n 'CPLX0-8200',\n 'CPLX0-8201',\n 'CPLX0-8202',\n 'CPLX0-8204',\n 'CPLX0-8205',\n 'CPLX0-8206',\n 'CPLX0-8207',\n 'CPLX0-8211',\n 'CPLX0-8212',\n 'CPLX0-8213',\n 'CPLX0-8214',\n 'CPLX0-8217',\n 'CPLX0-8218',\n 'CPLX0-8219',\n 'CPLX0-821',\n 'CPLX0-8223',\n 'CPLX0-8227',\n 'CPLX0-8229',\n 'CPLX0-8230',\n 'CPLX0-8231',\n 'CPLX0-8232',\n 'CPLX0-8233',\n 'CPLX0-8234',\n 'CPLX0-8237',\n 'CPLX0-8238',\n 'CPLX0-8239',\n 'CPLX0-8240',\n 'CPLX0-8244',\n 'CPLX0-8245',\n 'CPLX0-8247',\n 'CPLX0-8248',\n 'CPLX0-8249',\n 'CPLX0-8251',\n 'CPLX0-8252',\n 'CPLX0-8254',\n 'CPLX0-8255',\n 'CPLX0-8256',\n 'CPLX0-8259',\n 'CPLX0-8260',\n 'CPLX0-8261',\n 'CPLX0-8262',\n 'CPLX0-8263',\n 'CPLX0-8269',\n 'CPLX0-8270',\n 'CPLX0-8271',\n 'CPLX0-8275',\n 'CPLX0-8280',\n 'CPLX0-8281',\n 'CPLX0-8285',\n 'CPLX0-8288',\n 'CPLX0-8290',\n 'CPLX0-8291',\n 'CPLX0-8292',\n 'CPLX0-8299',\n 'CPLX0-8300',\n 'CPLX0-8301',\n 'CPLX0-8302',\n 'CPLX0-8303',\n 'CPLX0-8308',\n 'CPLX0-8311',\n 'CPLX0-8312',\n 'CPLX0-8314',\n 'CPLX0-8315',\n 'CPLX0-841',\n 'CPLX0-8535',\n 'CPLX0-8536',\n 'CPLX0-8537',\n 'CPLX0-8538',\n 'CPLX0-8539',\n 'CPLX0-8541',\n 'CPLX0-8542',\n 'CPLX0-8544',\n 'CPLX0-8545',\n 'CPLX0-8547',\n 'CPLX0-8548',\n 'CPLX0-8549',\n 'CPLX0-8550',\n 'CPLX0-8551',\n 'CPLX0-8553',\n 'CPLX0-8554',\n 'CPLX0-8555',\n 'CPLX0-8556',\n 'CPLX0-8557',\n 'CPLX0-8558',\n 'CPLX0-8560',\n 'CPLX0-8561',\n 'CPLX0-8562',\n 'CPLX0-8563',\n 'CPLX0-8565',\n 'CPLX0-861',\n 'CPLX0-881',\n 'CPLX0-901',\n 'CPLX0-902',\n 'CPLX0-921',\n 'CPLX0-981',\n 'CPLXECOLI-7943',\n 'CREC-CPLX',\n 'CTPSYN-CPLX',\n 'CYANLY-CPLX',\n 'CYSSYNMULTI-CPLX',\n 'CYSTATHIONINE-BETA-LYASE-CPLX',\n 'CYT-D-UBIOX-CPLX',\n 'CYT-O-UBIOX-CPLX',\n 'CYTIDEAM-CPLX',\n 'DALADALALIGB-CPLX',\n 'DALADEHYDROG-CPLX',\n 'DAPASYN-CPLX',\n 'DCTP-DEAM-CPLX',\n 'DCYSDESULF-CPLX',\n 'DEOA-CPLX',\n 'DEOD-CPLX',\n 'DETHIOBIOTIN-SYN-CPLX',\n 'DGTPTRIPHYDRO-CPLX',\n 'DHPDIOXYGEN-CPLX',\n 'DIACYLGLYKIN-CPLX',\n 'DIAMINOPIMDECARB-CPLX',\n 'DIHYDRODIPICSYN-CPLX',\n 'DIHYDROOROT-CPLX',\n 'DIHYDROPICRED-CPLX',\n 'DIHYDROPTERIREDUCT-CPLX',\n 'DIHYDROXYACIDDEHYDRAT-CPLX',\n 'DIMESULFREDUCT-CPLX',\n 'DIOHBUTANONEPSYN-CPLX',\n 'DMBPPRIBOSYLTRANS-CPLX',\n 'DSBC-CPLX',\n 'DSBG-CPLX',\n 'DTDPGLUCDEHYDRAT-CPLX',\n 'DUTP-PYROP-CPLX',\n 'DXPREDISOM-CPLX',\n 'E1O',\n 'E1P-CPLX',\n 'E2O',\n 'E3-CPLX',\n 'EIISGA',\n 'EIISGC',\n 'ENOLASE-CPLX',\n 'ENTA-CPLX',\n 'ENTE-CPLX',\n 'ENVZ-CPLX',\n 'ERYTH4PDEHYDROG-CPLX',\n 'ETHAMLY-CPLX',\n 'F-1-CPLX',\n 'F-O-CPLX',\n 'F16B-CPLX',\n 'FABA-CPLX',\n 'FABB-CPLX',\n 'FABZ-CPLX',\n 'FAO-CPLX',\n 'FHLMULTI-CPLX',\n 'FLAGELLAR-MOTOR-COMPLEX',\n 'FOLD-CPLX',\n 'FOLE-CPLX',\n 'FOLXTET-CPLX',\n 'FORMATEDEHYDROGN-CPLX',\n 'FORMATEDEHYDROGO-CPLX',\n 'FORMHYDROG2-CPLX',\n 'FORMHYDROGI-CPLX',\n 'FORMYLTHFDEFORMYL-CPLX',\n 'FRUCBISALD-CLASSII',\n 'FRUCBISALD-CLASSI',\n 'FUMARASE-A',\n 'FUMARASE-B',\n 'FUMARASE-C',\n 'FUMARATE-REDUCTASE',\n 'GABATRANSAM-CPLX',\n 'GALACTOACETYLTRAN-CPLX',\n 'GALACTURIDYLYLTRANS-CPLX',\n 'GAPDH-A-CPLX',\n 'GCVP-CPLX',\n 'GDHA-CPLX',\n 'GDPMANDEHYDRA-CPLX',\n 'GLNG-CPLX',\n 'GLNL-CPLX',\n 'GLUC1PADENYLTRANS-CPLX',\n 'GLUCONOKINII-CPLX',\n 'GLUCOSAMINE-6-P-DEAMIN-CPLX',\n 'GLUCOSE-1-PHOSPHAT-CPLX',\n 'GLUTAMATESYN-CPLX',\n 'GLUTAMATESYN-DIMER',\n 'GLUTAMIDOTRANS-CPLX',\n 'GLUTAMINESYN-OLIGOMER',\n 'GLUTATHIONE-REDUCT-NADPH-CPLX',\n 'GLUTATHIONE-SYN-CPLX',\n 'GLUTDECARBOXA-CPLX',\n 'GLUTDECARBOXB-CPLX',\n 'GLUTKIN-CPLX',\n 'GLUTSEMIALDEHYDROG-CPLX',\n 'GLYC3PDEHYDROGBIOSYN-CPLX',\n 'GLYCDEH-CPLX',\n 'GLYCEROL-KIN-CPLX',\n 'GLYCOPHOSPHORYL-CPLX',\n 'GLYCPDIESTER-PERI-CPLX',\n 'GLYOCARBOLIG-CPLX',\n 'GLYOHMETRANS-CPLX',\n 'GLYOXI-CPLX',\n 'GLYS-CPLX',\n 'GMP-REDUCT-CPLX',\n 'GMP-SYN-CPLX',\n 'GPT-CPLX',\n 'GSAAMINOTRANS-CPLX',\n 'GSP-CPLX',\n 'GST-CPLX',\n 'GTP-CYCLOHYDRO-II-CPLX',\n 'GUANYL-KIN-CPLX',\n 'H2PTEROATESYNTH-CPLX',\n 'HCAMULTI-CPLX',\n 'HISS-CPLX',\n 'HISTDEHYD-CPLX',\n 'HISTPHOSTRANS-CPLX',\n 'HMP-P-KIN-CPLX',\n 'HOLO-ACP-SYNTH-CPLX',\n 'HOMOSERKIN-CPLX',\n 'HOMSUCTRAN-CPLX',\n 'HYDROG3-CPLX',\n 'HYDROPEROXIDI-CPLX',\n 'HYDROPEROXIDII-CPLX',\n 'IMIDHISTID-CPLX',\n 'IMP-DEHYDROG-CPLX',\n 'ISOCIT-LYASE',\n 'ISOCITHASE-CPLX',\n 'KDO-8PPHOSPHAT-CPLX',\n 'KDO-8PSYNTH-CPLX',\n 'KDPD-CPLX',\n 'KDPGALDOL-4OH2OXOGLUTARALDOL-CPLX',\n 'L-GLN-FRUCT-6-P-AMINOTRANS-CPLX',\n 'LACTALDREDUCT-CPLX',\n 'LDC2-CPLX',\n 'LTAA-CPLX',\n 'LTARTDEHYDRA-CPLX',\n 'LUMAZINESYN-CPLX',\n 'LYSDECARBOX-CPLX',\n 'LYSS-CPLX',\n 'LYSU-CPLX',\n 'LYXK-CPLX',\n 'MALATE-DEHASE',\n 'MALDEXPHOSPHORYL-CPLX',\n 'MALIC-NAD-CPLX',\n 'MALIC-NADP-CPLX',\n 'MALTACETYLTRAN-CPLX',\n 'MENE-CPLX',\n 'MENF-CPLX',\n 'METG-CPLX',\n 'METHGLYSYN-CPLX',\n 'METHYLENETHFREDUCT-CPLX',\n 'METNIQ-METHIONINE-ABC-CPLX',\n 'MUTHLS-CPLX',\n 'N-ACETYLTRANSFER-CPLX',\n 'NAD-SYNTH-CPLX',\n 'NADH-DHI-CPLX',\n 'NAG1P-URIDYLTRANS-CPLX',\n 'NAG6PDEACET-CPLX',\n 'NAP-CPLX',\n 'NARQ-CPLX',\n 'NARX-CPLX',\n 'NITRATREDUCTA-CPLX',\n 'NITRATREDUCTZ-CPLX',\n 'NITRITREDUCT-CPLX',\n 'NRDACTMULTI-CPLX',\n 'NRDE-CPLX',\n 'NRDF-CPLX',\n 'NRFMULTI-CPLX',\n 'NUCLEOSIDE-DIP-KIN-CPLX',\n 'O-SUCCHOMOSERLYASE-CPLX',\n 'ORNCARBAMTRANSFERF-CPLX',\n 'ORNCARBAMTRANSFERI-CPLX',\n 'ORNDECARBOX-BIO-CPLX',\n 'ORNDECARBOXDEG-CPLX',\n 'OROPRIBTRANS-CPLX',\n 'OROTPDECARB-CPLX',\n 'PABASYN-CPLX',\n 'PANTOATE-BETA-ALANINE-LIG-CPLX',\n 'PANTOTHENATE-KIN-CPLX',\n 'PAPSSULFOTRANS-CPLX',\n 'PC00003',\n 'PC00004',\n 'PC00005',\n 'PC00007',\n 'PC00010',\n 'PC00027',\n 'PC00033',\n 'PC00040',\n 'PC00061',\n 'PC00084',\n 'PC00086',\n 'PC00103',\n 'PDXH-CPLX',\n 'PDXK-CPLX',\n 'PEPCARBOX-CPLX',\n 'PEPSYNTH-CPLX',\n 'PGLYCDEHYDROG-CPLX',\n 'PHENDEHYD-CPLX',\n 'PHES-CPLX',\n 'PHOR-CPLX',\n 'PHOSACETYLTRANS-CPLX',\n 'PHOSGLYCMUTASE',\n 'PII2-CPLX',\n 'PIIPROTEIN-CPLX',\n 'PKI-COMPLEX',\n 'PKII-CPLX',\n 'PORPHOBILSYNTH-CPLX',\n 'PPK-CPLX',\n 'PPPGPPHYDRO-CPLX',\n 'PPX-CPLX',\n 'PROS-CPLX',\n 'PRPPAMIDOTRANS-CPLX',\n 'PSERTRANSAM-CPLX',\n 'PURE-CPLX',\n 'PURK-CPLX',\n 'PUTA-CPLX',\n 'PYRNUTRANSHYDROGEN-CPLX',\n 'PYRROLINECARBREDUCT-CPLX',\n 'PYRUVATEDEH-CPLX',\n 'PYRUVFORMLY-INACTIVE-CPLX',\n 'PYRUVOXID-CPLX',\n 'QOR-CPLX',\n 'QUINOPRIBOTRANS-CPLX',\n 'RECBCD',\n 'RECFOR-CPLX',\n 'RHAMNULPALDOL-CPLX',\n 'RIB5PISOMA-CPLX',\n 'RIB5PISOMB-CPLX',\n ...]"
     },
     "execution_count": 765,
     "metadata": {},
     "output_type": "execute_result"
    }
   ],
   "source": [
    "C_names"
   ],
   "metadata": {
    "collapsed": false,
    "ExecuteTime": {
     "end_time": "2023-08-07T22:23:03.746418Z",
     "start_time": "2023-08-07T22:23:03.705512Z"
    }
   }
  },
  {
   "cell_type": "code",
   "execution_count": 766,
   "outputs": [
    {
     "data": {
      "text/plain": "array([588, 658])"
     },
     "execution_count": 766,
     "metadata": {},
     "output_type": "execute_result"
    }
   ],
   "source": [
    "test_vec = np.zeros(len(counts))\n",
    "test_vec[1] = 1\n",
    "\n",
    "np.where((C @ W @ W2 @ W1).T @ test_vec)[0]"
   ],
   "metadata": {
    "collapsed": false,
    "ExecuteTime": {
     "end_time": "2023-08-07T22:23:04.319914Z",
     "start_time": "2023-08-07T22:23:03.715279Z"
    }
   }
  },
  {
   "cell_type": "code",
   "execution_count": 767,
   "outputs": [],
   "source": [
    "iron_counts = (np.array(counts).reshape(-1,1) * C @ P @ E)[:, 16]"
   ],
   "metadata": {
    "collapsed": false,
    "ExecuteTime": {
     "end_time": "2023-08-07T22:23:04.411438Z",
     "start_time": "2023-08-07T22:23:04.323564Z"
    }
   }
  },
  {
   "cell_type": "code",
   "execution_count": 783,
   "outputs": [
    {
     "data": {
      "text/plain": "(array([   3,   36,   82,   94,  100,  135,  193,  196,  204,  215,  226,\n         248,  291,  338,  349,  372,  387,  397,  435,  461,  480,  484,\n         488,  492,  495,  499,  502,  506,  507,  510,  534,  556,  586,\n         633,  640,  652,  664,  665,  678,  680,  691,  699,  703,  704,\n         730,  737,  781,  799,  800,  833,  834,  835,  839,  840,  842,\n         845,  856,  857,  884,  892,  893,  894,  904,  927,  930,  933,\n         934,  935,  936,  938,  939, 1000, 1001, 1016, 1020, 1021, 1031,\n        1096, 1097, 1115, 1147, 1156, 1271, 1298, 1344, 1350, 1363, 1391,\n        1398, 1407, 1443, 1454, 1457, 1545, 1568, 1585, 1633, 1640, 1788,\n        1928, 1970, 2001, 2017, 2043, 2082, 2089, 2150, 2167, 2354, 2439,\n        2550, 2573, 2626, 2651, 2658, 2695, 2707, 2776, 2777, 2778, 2780,\n        2790, 2832, 2836, 2837, 2919, 2937, 3067, 3086, 3095, 3108, 3112,\n        3125, 3131, 3132, 3180, 3209, 3312, 3334, 3345, 3394, 3396, 3399,\n        3446, 3447, 3448, 3466, 3467, 3487, 3488, 3490, 3491, 3563, 3566,\n        3594, 3623, 3784, 3801, 3832, 3833, 3844, 3881, 3895, 3921, 3970,\n        3976, 3977, 3999, 4027, 4035, 4097, 4109, 4179, 4212, 4219, 4295,\n        4310, 4314, 4370, 4430, 4451, 4453, 4457, 4458, 4461, 4462, 4580,\n        4581, 4583, 4588, 4589, 4861, 4888, 4890, 4892, 4893, 4896, 4897,\n        4898, 4905, 4908, 4931, 4933, 4935, 4937, 4987, 5042, 5053, 5057,\n        5065, 5116, 5142, 5173, 5195, 5197, 5248, 5252]),)"
     },
     "execution_count": 783,
     "metadata": {},
     "output_type": "execute_result"
    }
   ],
   "source": [],
   "metadata": {
    "collapsed": false,
    "ExecuteTime": {
     "end_time": "2023-08-07T22:32:35.008361Z",
     "start_time": "2023-08-07T22:32:35.000941Z"
    }
   }
  },
  {
   "cell_type": "code",
   "execution_count": 778,
   "outputs": [],
   "source": [
    "# each complex count of 1 counts as 1 total annotation, so need to normalize\n",
    "C_n = C / (C.sum(axis=1, keepdims=1) + 1e-10)\n",
    "\n",
    "\n",
    "nz_idx = np.where((C_n @ W @ W2 @ W1).T @ iron_counts)[0]\n",
    "iron_counts_group = (C_n @ W @ W2 @ W1).T @ iron_counts"
   ],
   "metadata": {
    "collapsed": false,
    "ExecuteTime": {
     "end_time": "2023-08-07T22:25:53.903968Z",
     "start_time": "2023-08-07T22:25:51.809738Z"
    }
   }
  },
  {
   "cell_type": "code",
   "execution_count": 779,
   "outputs": [
    {
     "data": {
      "text/plain": "112280.33331927288"
     },
     "execution_count": 779,
     "metadata": {},
     "output_type": "execute_result"
    }
   ],
   "source": [
    "iron_counts_group.sum()"
   ],
   "metadata": {
    "collapsed": false,
    "ExecuteTime": {
     "end_time": "2023-08-07T22:25:53.961740Z",
     "start_time": "2023-08-07T22:25:53.914985Z"
    }
   }
  },
  {
   "cell_type": "code",
   "execution_count": 780,
   "outputs": [
    {
     "data": {
      "text/plain": "219263.0"
     },
     "execution_count": 780,
     "metadata": {},
     "output_type": "execute_result"
    }
   ],
   "source": [
    "iron_counts.sum()"
   ],
   "metadata": {
    "collapsed": false,
    "ExecuteTime": {
     "end_time": "2023-08-07T22:25:54.906602Z",
     "start_time": "2023-08-07T22:25:54.899453Z"
    }
   }
  },
  {
   "cell_type": "code",
   "execution_count": null,
   "outputs": [],
   "source": [],
   "metadata": {
    "collapsed": false
   }
  },
  {
   "cell_type": "code",
   "execution_count": 781,
   "outputs": [
    {
     "name": "stdout",
     "output_type": "stream",
     "text": [
      "Macromolecule-Modification 1533\n",
      "Detoxification 1049\n",
      "Energy-Metabolism 41809\n",
      "Biosynthesis 67379\n"
     ]
    }
   ],
   "source": [
    "for idx in nz_idx:\n",
    "    if iron_counts_group[idx] > 1000:\n",
    "        print(pathway_name_list[idx], int(iron_counts_group[idx]))"
   ],
   "metadata": {
    "collapsed": false,
    "ExecuteTime": {
     "end_time": "2023-08-07T22:25:55.877096Z",
     "start_time": "2023-08-07T22:25:55.871988Z"
    }
   }
  },
  {
   "cell_type": "code",
   "execution_count": 792,
   "outputs": [
    {
     "name": "stdout",
     "output_type": "stream",
     "text": [
      "3-ISOPROPYLMALISOM-CPLX: 10468\n",
      "Transformed: 10467\n",
      "ABC-35-CPLX: 8\n",
      "Transformed: 7\n",
      "ADHE-CPLX: 3680\n",
      "Transformed: 3679\n",
      "ANGLYC3PDEHYDROG-CPLX: 552\n",
      "Transformed: 551\n",
      "APP-UBIOX-CPLX: 13\n",
      "Transformed: 0!\n",
      "BIOTIN-SYN-CPLX: 4620\n",
      "Transformed: 4619\n",
      "CPLX0-1421: 864\n",
      "Transformed: 0!\n",
      "CPLX0-1521: 16296\n",
      "Transformed: 0!\n",
      "CPLX0-1762: 2\n",
      "Transformed: 1\n",
      "CPLX0-1: 48\n",
      "Transformed: 0!\n",
      "CPLX0-227: 12\n",
      "Transformed: 11\n",
      "CPLX0-248: 3980\n",
      "Transformed: 994\n",
      "CPLX0-3361: 3776\n",
      "Transformed: 3775\n",
      "CPLX0-3949: 2064\n",
      "Transformed: 2063\n",
      "CPLX0-3969: 4032\n",
      "Transformed: 0!\n",
      "CPLX0-7458: 88\n",
      "Transformed: 87\n",
      "CPLX0-7564: 1200\n",
      "Transformed: 1199\n",
      "CPLX0-761: 22\n",
      "Transformed: 21\n",
      "CPLX0-7682: 21272\n",
      "Transformed: 0!\n",
      "CPLX0-7719: 3480\n",
      "Transformed: 3479\n",
      "CPLX0-7756: 56\n",
      "Transformed: 0!\n",
      "CPLX0-7760: 688\n",
      "Transformed: 343\n",
      "CPLX0-7788: 64\n",
      "Transformed: 0!\n",
      "CPLX0-7797: 7472\n",
      "Transformed: 0!\n",
      "CPLX0-7805: 32\n",
      "Transformed: 0!\n",
      "CPLX0-7810: 262\n",
      "Transformed: 0!\n",
      "CPLX0-7817: 4248\n",
      "Transformed: 0!\n",
      "CPLX0-7823: 26\n",
      "Transformed: 0!\n",
      "CPLX0-7824: 1864\n",
      "Transformed: 0!\n",
      "CPLX0-782: 5056\n",
      "Transformed: 5055\n",
      "CPLX0-7908: 640\n",
      "Transformed: 0!\n",
      "CPLX0-7942: 2124\n",
      "Transformed: 0!\n",
      "CPLX0-7986: 17\n",
      "Transformed: 16\n",
      "CPLX0-8112: 446\n",
      "Transformed: 0!\n",
      "CPLX0-8124: 2096\n",
      "Transformed: 0!\n",
      "CPLX0-8160: 6171\n",
      "Transformed: 2056\n",
      "CPLX0-8181: 81\n",
      "Transformed: 80\n",
      "CPLX0-8182: 123\n",
      "Transformed: 122\n",
      "CPLX0-8199: 40\n",
      "Transformed: 0!\n",
      "CPLX0-8201: 36\n",
      "Transformed: 35\n",
      "CPLX0-8218: 100\n",
      "Transformed: 0!\n",
      "CPLX0-8232: 15\n",
      "Transformed: 0!\n",
      "CPLX0-8238: 32\n",
      "Transformed: 31\n",
      "CPLX0-8239: 1972\n",
      "Transformed: 0!\n",
      "CPLX0-8291: 216\n",
      "Transformed: 0!\n",
      "CPLX0-8308: 8\n",
      "Transformed: 0!\n",
      "CYT-O-UBIOX-CPLX: 808\n",
      "Transformed: 807\n",
      "DIHYDROXYACIDDEHYDRAT-CPLX: 556\n",
      "Transformed: 555\n",
      "DIMESULFREDUCT-CPLX: 120\n",
      "Transformed: 119\n",
      "FORMATEDEHYDROGO-CPLX: 210\n",
      "Transformed: 209\n",
      "FORMHYDROG2-CPLX: 27\n",
      "Transformed: 26\n",
      "FORMHYDROGI-CPLX: 22\n",
      "Transformed: 0!\n",
      "FUMARASE-A: 1552\n",
      "Transformed: 1551\n",
      "FUMARASE-B: 16\n",
      "Transformed: 15\n",
      "FUMARATE-REDUCTASE: 189\n",
      "Transformed: 188\n",
      "GALACTURIDYLYLTRANS-CPLX: 78\n",
      "Transformed: 77\n",
      "GLUTAMATESYN-CPLX: 12488\n",
      "Transformed: 12487\n",
      "GLUTAMATESYN-DIMER: 21\n",
      "Transformed: 20\n",
      "HCAMULTI-CPLX: 135\n",
      "Transformed: 134\n",
      "HYDROG3-CPLX: 28\n",
      "Transformed: 25\n",
      "HYDROPEROXIDI-CPLX: 552\n",
      "Transformed: 551\n",
      "HYDROPEROXIDII-CPLX: 172\n",
      "Transformed: 171\n",
      "LACTALDREDUCT-CPLX: 18\n",
      "Transformed: 8\n",
      "NADH-DHI-CPLX: 960\n",
      "Transformed: 959\n",
      "NAP-CPLX: 50\n",
      "Transformed: 49\n",
      "NITRATREDUCTA-CPLX: 80\n",
      "Transformed: 79\n",
      "NITRATREDUCTZ-CPLX: 140\n",
      "Transformed: 139\n",
      "NITRITREDUCT-CPLX: 25\n",
      "Transformed: 0!\n",
      "NRDACTMULTI-CPLX: 80\n",
      "Transformed: 39\n",
      "NRDF-CPLX: 1012\n",
      "Transformed: 337\n",
      "NRFMULTI-CPLX: 22\n",
      "Transformed: 16\n",
      "RIBONUCLEOSIDE-DIP-REDUCTI-CPLX: 904\n",
      "Transformed: 301\n",
      "RIBONUCLEOSIDE-DIP-REDUCTII-CPLX: 980\n",
      "Transformed: 326\n",
      "SUCC-DEHASE: 11\n",
      "Transformed: 3\n",
      "SULFITE-REDUCT-CPLX: 1840\n",
      "Transformed: 1839\n",
      "SUPEROX-DISMUTFE-CPLX: 322\n",
      "Transformed: 321\n",
      "TMAOREDUCTI-CPLX: 3\n",
      "Transformed: 0\n",
      "ACONITASE-MONOMER: 4\n",
      "Transformed: 1\n",
      "ACONITATEDEHYDRB-MONOMER: 11964\n",
      "Transformed: 5981\n",
      "ADHE-MONOMER: 25\n",
      "Transformed: 24\n",
      "ANGLYC3PDEHYDROGSUBUNITC-MONOMER: 24\n",
      "Transformed: 23\n",
      "APPC-MONOMER: 6\n",
      "Transformed: 0!\n",
      "BETACOMP-MONOMER: 1865\n",
      "Transformed: 1864\n",
      "CCME-MONOMER: 18\n",
      "Transformed: 17\n",
      "CYDA-MONOMER: 209\n",
      "Transformed: 208\n",
      "CYOB-MONOMER: 419\n",
      "Transformed: 418\n",
      "CYTOCHROME-B561-MONOMER: 1362\n",
      "Transformed: 0!\n",
      "DIENOYLCOAREDUCT-MONOMER: 52\n",
      "Transformed: 0!\n",
      "DIHYDROXYACIDDEHYDRAT-MONOMER: 2\n",
      "Transformed: 1\n",
      "DMSB-MONOMER: 48\n",
      "Transformed: 47\n",
      "EG10037-MONOMER: 8\n",
      "Transformed: 0!\n",
      "EG10090-MONOMER: 108\n",
      "Transformed: 0!\n",
      "EG10113-MONOMER: 60\n",
      "Transformed: 0!\n",
      "EG10370-MONOMER: 1680\n",
      "Transformed: 1679\n",
      "EG10456-MONOMER: 227\n",
      "Transformed: 0!\n",
      "EG10486-MONOMER: 24\n",
      "Transformed: 23\n",
      "EG10627-MONOMER: 244\n",
      "Transformed: 0!\n",
      "EG10662-MONOMER: 356\n",
      "Transformed: 0!\n",
      "EG10921-MONOMER: 6\n",
      "Transformed: 0!\n",
      "EG11181-MONOMER: 3422\n",
      "Transformed: 0!\n",
      "EG11247-MONOMER: 216\n",
      "Transformed: 0!\n",
      "EG11289-MONOMER: 80\n",
      "Transformed: 0!\n",
      "EG11306-MONOMER: 8\n",
      "Transformed: 7\n",
      "EG11357-MONOMER: 28\n",
      "Transformed: 0!\n",
      "EG11430-MONOMER: 1\n",
      "Transformed: 0!\n",
      "EG11440-MONOMER: 1122\n",
      "Transformed: 0!\n",
      "EG11552-MONOMER: 160\n",
      "Transformed: 0!\n",
      "EG11595-MONOMER: 440\n",
      "Transformed: 439\n",
      "EG11911-MONOMER: 36\n",
      "Transformed: 0!\n",
      "EG12031-MONOMER: 12\n",
      "Transformed: 0!\n",
      "EG12244-MONOMER: 10\n",
      "Transformed: 9\n",
      "EG12277-MONOMER: 1344\n",
      "Transformed: 0!\n",
      "EG12360-MONOMER: 356\n",
      "Transformed: 0!\n",
      "EG12401-MONOMER: 1468\n",
      "Transformed: 0!\n",
      "EG12409-MONOMER: 160\n",
      "Transformed: 0!\n",
      "EG12691-MONOMER: 48\n",
      "Transformed: 0!\n",
      "EG12712-MONOMER: 4354\n",
      "Transformed: 2176\n",
      "FDNH-MONOMER: 96\n",
      "Transformed: 95\n",
      "FDNI-MONOMER: 10\n",
      "Transformed: 9\n",
      "FDOG-MONOMER: 48\n",
      "Transformed: 47\n",
      "FDOI-MONOMER: 6\n",
      "Transformed: 5\n",
      "FERREDOXIN-MONOMER: 2730\n",
      "Transformed: 2183\n",
      "FUM-FE-S: 126\n",
      "Transformed: 125\n",
      "FUMA-MONOMER: 4\n",
      "Transformed: 3\n",
      "FUMB-MONOMER: 4\n",
      "Transformed: 3\n",
      "G6156-MONOMER: 36\n",
      "Transformed: 0!\n",
      "G6177-MONOMER: 96\n",
      "Transformed: 0!\n",
      "G6364-MONOMER: 3032\n",
      "Transformed: 0!\n",
      "G6401-MONOMER: 56\n",
      "Transformed: 0!\n",
      "G6413-MONOMER: 1123\n",
      "Transformed: 0!\n",
      "G6427-MONOMER: 52\n",
      "Transformed: 0!\n",
      "G6435-MONOMER: 3792\n",
      "Transformed: 0!\n",
      "G6449-MONOMER: 88\n",
      "Transformed: 0!\n",
      "G6456-MONOMER: 12\n",
      "Transformed: 0!\n",
      "G6457-MONOMER: 12\n",
      "Transformed: 0!\n",
      "G6513-MONOMER: 56\n",
      "Transformed: 0!\n",
      "G6554-MONOMER: 56\n",
      "Transformed: 0!\n",
      "G6675-MONOMER: 4\n",
      "Transformed: 0!\n",
      "G6701-MONOMER: 1620\n",
      "Transformed: 0!\n",
      "G6713-MONOMER: 2\n",
      "Transformed: 1\n",
      "G6784-MONOMER: 1\n",
      "Transformed: 0!\n",
      "G6787-MONOMER: 72\n",
      "Transformed: 0!\n",
      "G6791-MONOMER: 68\n",
      "Transformed: 0!\n",
      "G6845-MONOMER: 56\n",
      "Transformed: 0!\n",
      "G6846-MONOMER: 52\n",
      "Transformed: 0!\n",
      "G6847-MONOMER: 272\n",
      "Transformed: 0!\n",
      "G6872-MONOMER: 1044\n",
      "Transformed: 0!\n",
      "G6873-MONOMER: 768\n",
      "Transformed: 0!\n",
      "G6898-MONOMER: 17\n",
      "Transformed: 0!\n",
      "G6899-MONOMER: 368\n",
      "Transformed: 0!\n",
      "G6901-MONOMER: 12\n",
      "Transformed: 0!\n",
      "G6902-MONOMER: 16\n",
      "Transformed: 0!\n",
      "G6989-MONOMER: 16\n",
      "Transformed: 0!\n",
      "G6992-MONOMER: 60\n",
      "Transformed: 0!\n",
      "G7023-MONOMER: 3\n",
      "Transformed: 2\n",
      "G7062-MONOMER: 11\n",
      "Transformed: 0!\n",
      "G7266-MONOMER: 574\n",
      "Transformed: 0!\n",
      "G7283-MONOMER: 4\n",
      "Transformed: 0!\n",
      "G7325-MONOMER: 2\n",
      "Transformed: 0\n",
      "G7326-MONOMER: 3720\n",
      "Transformed: 0!\n",
      "G7346-MONOMER: 1168\n",
      "Transformed: 0!\n",
      "G7394-MONOMER: 2\n",
      "Transformed: 1\n",
      "G7413-MONOMER: 3\n",
      "Transformed: 0!\n",
      "G7443-MONOMER: 288\n",
      "Transformed: 287\n",
      "G7497-MONOMER: 36\n",
      "Transformed: 0!\n",
      "G7505-MONOMER: 320\n",
      "Transformed: 0!\n",
      "G7506-MONOMER: 240\n",
      "Transformed: 0!\n",
      "G7531-MONOMER: 4\n",
      "Transformed: 0!\n",
      "G7568-MONOMER: 624\n",
      "Transformed: 0!\n",
      "G7579-MONOMER: 142\n",
      "Transformed: 0!\n",
      "G7653-MONOMER: 24\n",
      "Transformed: 0!\n",
      "G7669-MONOMER: 56\n",
      "Transformed: 0!\n",
      "G7748-MONOMER: 4\n",
      "Transformed: 0!\n",
      "G7836-MONOMER: 808\n",
      "Transformed: 0!\n",
      "G7843-MONOMER: 280\n",
      "Transformed: 279\n",
      "G7931-MONOMER: 44\n",
      "Transformed: 0!\n",
      "G7949-MONOMER: 4820\n",
      "Transformed: 0!\n",
      "G7953-MONOMER: 108\n",
      "Transformed: 0!\n",
      "GLUSYNSMALL-MONOMER: 1644\n",
      "Transformed: 1643\n",
      "HEMN-MONOMER: 516\n",
      "Transformed: 515\n",
      "HYBA-MONOMER: 80\n",
      "Transformed: 79\n",
      "HYCBSMALL-MONOMER: 32\n",
      "Transformed: 31\n",
      "HYCF-MONOMER: 56\n",
      "Transformed: 55\n",
      "HYCG-MONOMER: 40\n",
      "Transformed: 39\n",
      "HYDROPEROXIDI-MONOMER: 1\n",
      "Transformed: 0\n",
      "HYDROPEROXIDII-MONOMER: 3\n",
      "Transformed: 2\n",
      "MONOMER0-144: 64\n",
      "Transformed: 0!\n",
      "MONOMER0-145: 55\n",
      "Transformed: 54\n",
      "MONOMER0-147: 3\n",
      "Transformed: 2\n",
      "MONOMER0-151: 32\n",
      "Transformed: 0!\n",
      "MONOMER0-152: 32\n",
      "Transformed: 0!\n",
      "MONOMER0-561: 176\n",
      "Transformed: 175\n",
      "NAPA-MONOMER: 24\n",
      "Transformed: 23\n",
      "NAPC-MONOMER: 8\n",
      "Transformed: 7\n",
      "NAPF-MONOMER: 36\n",
      "Transformed: 0!\n",
      "NAPG-MONOMER: 80\n",
      "Transformed: 79\n",
      "NARG-MONOMER: 28\n",
      "Transformed: 27\n",
      "NARH-MONOMER: 45\n",
      "Transformed: 44\n",
      "NARI-MONOMER: 1\n",
      "Transformed: 0\n",
      "NARV-MONOMER: 1\n",
      "Transformed: 0\n",
      "NARY-MONOMER: 45\n",
      "Transformed: 44\n",
      "NUOB-MONOMER: 1296\n",
      "Transformed: 1295\n",
      "NUOE-MONOMER: 732\n",
      "Transformed: 731\n",
      "NUOG-MONOMER: 1218\n",
      "Transformed: 1217\n",
      "NUOI-MONOMER: 24\n",
      "Transformed: 23\n",
      "PD00260: 2405\n",
      "Transformed: 0!\n",
      "PD04132: 56\n",
      "Transformed: 0!\n",
      "PFLACTENZ-MONOMER: 872\n",
      "Transformed: 0!\n",
      "PGLUCONDEHYDRAT-MONOMER: 160\n",
      "Transformed: 159\n",
      "PHENYLPRODIOXY-MONOMER: 12\n",
      "Transformed: 11\n",
      "PROTOHEME-FERROCHELAT-MONOMER: 67\n",
      "Transformed: 66\n",
      "QUINOLINATE-SYNTHA-MONOMER: 4\n",
      "Transformed: 3\n",
      "RNTRACTIV-MONOMER: 4\n",
      "Transformed: 0!\n",
      "SDH-FE-S: 4941\n",
      "Transformed: 1646\n",
      "SDH-MEMB1: 859\n",
      "Transformed: 286\n",
      "THIC-MONOMER: 5668\n",
      "Transformed: 5667\n",
      "THIH-MONOMER: 3016\n",
      "Transformed: 3015\n"
     ]
    }
   ],
   "source": [
    "iron_count_idxs = np.where(iron_counts)[0]\n",
    "\n",
    "for idx in iron_count_idxs:\n",
    "    print(f'{C_names[idx]}: {int(iron_counts[idx])}')\n",
    "    test_vec = np.zeros(len(iron_counts))\n",
    "    test_vec[idx] = iron_counts[idx]\n",
    "\n",
    "\n",
    "    nz_idx = np.where((C_n @ W @ W2).T @ test_vec)[0]\n",
    "\n",
    "    if len(nz_idx) > 0:\n",
    "        category_count = int(((C_n @ W @ W2).T @ test_vec)[nz_idx][0])\n",
    "        print(f'Transformed: {category_count}')\n",
    "    else:\n",
    "        print('Transformed: 0!')"
   ],
   "metadata": {
    "collapsed": false,
    "ExecuteTime": {
     "end_time": "2023-08-07T22:49:05.623267Z",
     "start_time": "2023-08-07T22:46:33.681327Z"
    }
   }
  },
  {
   "cell_type": "markdown",
   "source": [
    "# Tests"
   ],
   "metadata": {
    "collapsed": false
   }
  },
  {
   "cell_type": "markdown",
   "source": [
    "First, let's test that the cofactor counts are correct for SULFITE-REDUCT-CPLX and its constituent BETACOMP-MONOMER"
   ],
   "metadata": {
    "collapsed": false
   }
  },
  {
   "cell_type": "code",
   "execution_count": 685,
   "outputs": [
    {
     "name": "stdout",
     "output_type": "stream",
     "text": [
      "Sulfite reductase complex count: 92, hemoprotein subunit count: 373\n",
      "Expected iron count: 1840 for the first, 1865 for the second\n"
     ]
    }
   ],
   "source": [
    "print(f'Sulfite reductase complex count: {counts[1020]}, hemoprotein subunit count: {counts[1271]}')\n",
    "print(f'Expected iron count: {counts[1020] * 5 * 4} for the first, {counts[1271] * 5 } for the second')"
   ],
   "metadata": {
    "collapsed": false,
    "ExecuteTime": {
     "end_time": "2023-08-07T22:07:06.130026Z",
     "start_time": "2023-08-07T22:07:06.123862Z"
    }
   }
  },
  {
   "cell_type": "markdown",
   "source": [
    "Let's check the pathway counts for the related pathway."
   ],
   "metadata": {
    "collapsed": false
   }
  },
  {
   "cell_type": "code",
   "execution_count": 692,
   "outputs": [
    {
     "name": "stdout",
     "output_type": "stream",
     "text": [
      "Sulfite reductase is in the following pathways: SO4ASSIM-PWY, while the hemoprotein is in SO4ASSIM-PWY\n"
     ]
    }
   ],
   "source": [
    "cplx_pathways = pathway_name_list[ np.where((C @ W)[1020, :])[0][0] ]\n",
    "monomer_pathways = pathway_name_list[ np.where((C @ W)[1271, :])[0][0] ]\n",
    "\n",
    "\n",
    "print(f'Sulfite reductase is in the following pathways: {cplx_pathways}, while the hemoprotein is in {monomer_pathways}')"
   ],
   "metadata": {
    "collapsed": false,
    "ExecuteTime": {
     "end_time": "2023-08-07T22:09:44.489661Z",
     "start_time": "2023-08-07T22:09:43.186190Z"
    }
   }
  },
  {
   "cell_type": "markdown",
   "source": [
    "That means the pathway counts for iron should be the same as the cplx counts (or larger)"
   ],
   "metadata": {
    "collapsed": false
   }
  },
  {
   "cell_type": "code",
   "execution_count": 701,
   "outputs": [
    {
     "name": "stdout",
     "output_type": "stream",
     "text": [
      "Pathway counts for iron: 3704.9999997981668\n"
     ]
    }
   ],
   "source": [
    "pathway_counts = (iron_counts @ C_n @ W)[  np.where((C @ W)[1020, :])[0][0]  ]\n",
    "\n",
    "print(f'Pathway counts for iron: {pathway_counts}')"
   ],
   "metadata": {
    "collapsed": false,
    "ExecuteTime": {
     "end_time": "2023-08-07T22:13:56.270011Z",
     "start_time": "2023-08-07T22:13:55.455421Z"
    }
   }
  },
  {
   "cell_type": "code",
   "execution_count": 794,
   "outputs": [
    {
     "name": "stdout",
     "output_type": "stream",
     "text": [
      "Monomer index: 5232, complex index: 1021\n"
     ]
    }
   ],
   "source": [
    "print(f\"\"\"Monomer index: {C_names.index('SUPEROX-DISMUTFE-MONOMER')}, complex index: {C_names.index('SUPEROX-DISMUTFE-CPLX')}\"\"\")"
   ],
   "metadata": {
    "collapsed": false,
    "ExecuteTime": {
     "end_time": "2023-08-07T22:57:45.124886Z",
     "start_time": "2023-08-07T22:57:45.117017Z"
    }
   }
  },
  {
   "cell_type": "code",
   "execution_count": 795,
   "outputs": [
    {
     "name": "stdout",
     "output_type": "stream",
     "text": [
      "Monomer count: 0, complex count: 161\n"
     ]
    }
   ],
   "source": [
    "print(f\"\"\"Monomer count: {counts[5232]}, complex count: {counts[1021]}\"\"\")"
   ],
   "metadata": {
    "collapsed": false,
    "ExecuteTime": {
     "end_time": "2023-08-07T22:57:45.385392Z",
     "start_time": "2023-08-07T22:57:45.378040Z"
    }
   }
  },
  {
   "cell_type": "markdown",
   "source": [
    "# Saving outputs to files compatible with Julia"
   ],
   "metadata": {
    "collapsed": false
   }
  },
  {
   "cell_type": "code",
   "execution_count": 39,
   "outputs": [],
   "source": [
    "# save C, P and E to julia-compatible formats\n",
    "np.savetxt('notebooks/cofactors/data/C_matrix.csv', C.astype(np.int64), delimiter=',', fmt='%i')\n",
    "np.savetxt('notebooks/cofactors/data/P_matrix.csv', P.astype(np.int64), delimiter=',', fmt='%i')\n",
    "np.savetxt('notebooks/cofactors/data/E_matrix.csv', E.astype(np.int64), delimiter=',', fmt='%i')\n",
    "\n",
    "\n",
    "\n",
    "# write all names to single file with each list on a new line\n",
    "with open('notebooks/cofactors/data/complex_ids.txt', 'w') as f:\n",
    "    f.write('\\n'.join(complex_ids))\n",
    "with open('notebooks/cofactors/data/protein_ids.txt', 'w') as f:\n",
    "    f.write('\\n'.join(protein_ids))\n",
    "with open('notebooks/cofactors/data/cofactor_ids.txt', 'w') as f:\n",
    "    f.write('\\n'.join(cofactor_ids))\n",
    "with open('notebooks/cofactors/data/element_ids.txt', 'w') as f:\n",
    "    f.write('\\n'.join(element_ids))\n",
    "\n",
    "# write all names to single file with each list on a new line\n",
    "with open('notebooks/cofactors/data/complex_ids.txt', 'w') as f:\n",
    "    f.write('\\n'.join(complex_ids))\n",
    "with open('notebooks/cofactors/data/protein_ids.txt', 'w') as f:\n",
    "    f.write('\\n'.join(protein_ids))\n",
    "with open('notebooks/cofactors/data/cofactor_ids.txt', 'w') as f:\n",
    "    f.write('\\n'.join(cofactor_ids))\n",
    "\n",
    "\n",
    "# save counts of proteins and complexes\n",
    "np.savetxt('notebooks/cofactors/data/counts.csv', np.array(counts, dtype=np.int64), delimiter=',', fmt='%i')\n",
    "\n",
    "# save tree_matrix\n",
    "np.savetxt('notebooks/cofactors/data/tree_matrix.csv', tree_matrix, delimiter=',', fmt='%i')\n",
    "\n"
   ],
   "metadata": {
    "collapsed": false,
    "ExecuteTime": {
     "end_time": "2023-08-05T22:00:01.018542Z",
     "start_time": "2023-08-05T21:59:56.961544Z"
    }
   }
  },
  {
   "cell_type": "code",
   "execution_count": 38,
   "outputs": [
    {
     "name": "stdout",
     "output_type": "stream",
     "text": [
      "AICARTRANSIMPCYCLO-CPLX\n"
     ]
    }
   ],
   "source": [
    "for name in protein_ids:\n",
    "    if 'CPLX' in name:\n",
    "        print(name)"
   ],
   "metadata": {
    "collapsed": false,
    "ExecuteTime": {
     "end_time": "2023-08-05T21:59:37.549061Z",
     "start_time": "2023-08-05T21:59:37.538435Z"
    }
   }
  },
  {
   "cell_type": "code",
   "execution_count": null,
   "outputs": [],
   "source": [
    "counts[ecocyc_to_wcm_map[\"NAP-CPLX\"]]"
   ],
   "metadata": {
    "collapsed": false
   }
  },
  {
   "cell_type": "code",
   "execution_count": null,
   "outputs": [],
   "source": [
    "ecocyc_to_wcm_map[\"NAP-CPLX\"]"
   ],
   "metadata": {
    "collapsed": false
   }
  },
  {
   "cell_type": "code",
   "execution_count": null,
   "outputs": [],
   "source": [
    "\"^\"+'NAP-CPLX'+\"[\" in 'NAP-CPLX['"
   ],
   "metadata": {
    "collapsed": false
   }
  },
  {
   "cell_type": "code",
   "execution_count": null,
   "outputs": [],
   "source": [
    "protein_ids[1]"
   ],
   "metadata": {
    "collapsed": false
   }
  },
  {
   "cell_type": "markdown",
   "source": [
    "## go annotation for proteins"
   ],
   "metadata": {
    "collapsed": false
   }
  }
 ],
 "metadata": {
  "kernelspec": {
   "display_name": "Python 3",
   "language": "python",
   "name": "python3"
  },
  "language_info": {
   "codemirror_mode": {
    "name": "ipython",
    "version": 2
   },
   "file_extension": ".py",
   "mimetype": "text/x-python",
   "name": "python",
   "nbconvert_exporter": "python",
   "pygments_lexer": "ipython2",
   "version": "2.7.6"
  }
 },
 "nbformat": 4,
 "nbformat_minor": 0
}
