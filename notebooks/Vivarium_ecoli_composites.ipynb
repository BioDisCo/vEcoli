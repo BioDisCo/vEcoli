{
 "cells": [
  {
   "cell_type": "markdown",
   "id": "31536271",
   "metadata": {},
   "source": [
    "# <u>**Vivarium E. coli**<u/>\n",
    "\n",
    "This notebook demonstrates features of the processes in the Vivarium *E. coli* model. First, we show distinct features of how the processes work individually. Then we combine the processes in our simulation to demonstrate how they work together. Finally, we run the entire model.\n",
    "\n",
    "<u>**Future Directions:**</u>\n",
    "- Demonstrate:\n",
    "    1. Ecoli master partitioned\n",
    "    2. Cell division\n",
    "    3. Vivarium ecoli colonies\n",
    "\n",
    "<u>**Miscellaneous notes/ideas:**</u>\n",
    "- consider adding interactive widgets (plotly) - users can click boxes to choose which molecules to plot"
   ]
  },
  {
   "cell_type": "code",
   "execution_count": 1,
   "id": "1a874047",
   "metadata": {},
   "outputs": [
    {
     "name": "stdout",
     "output_type": "stream",
     "text": [
      "Current working directory is: /Users/eranagmon/code/vivarium-ecoli\n"
     ]
    }
   ],
   "source": [
    "# Make sure notebook runs out of vivarium-ecoli directory\n",
    "import sys, os\n",
    "\n",
    "# get the path to the notebook, and change working directory\n",
    "notebook_path = sys.path[0][:sys.path[0].index('notebooks')]\n",
    "sys.path.append(notebook_path)\n",
    "os.chdir(sys.path[-1])\n",
    "cwd = os.getcwd()\n",
    "  \n",
    "# print the current directory\n",
    "print(\"Current working directory is:\", cwd)"
   ]
  },
  {
   "cell_type": "markdown",
   "id": "da299ec6",
   "metadata": {
    "tags": []
   },
   "source": [
    "## **1. Load the required components**"
   ]
  },
  {
   "cell_type": "markdown",
   "id": "99b85cd0",
   "metadata": {},
   "source": [
    "### Module imports"
   ]
  },
  {
   "cell_type": "code",
   "execution_count": 2,
   "id": "3788b393",
   "metadata": {},
   "outputs": [],
   "source": [
    "from vivarium.core.process import Process\n",
    "from vivarium.core.store import Store\n",
    "from vivarium.core.engine import Engine, pp\n",
    "from vivarium.core.composition import simulate_process, simulate_composite\n",
    "from vivarium.plots.topology import plot_topology\n",
    "from vivarium.plots.simulation_output import plot_variables\n",
    "from ecoli.processes.registries import topology_registry\n",
    "import ecoli\n",
    "import copy"
   ]
  },
  {
   "cell_type": "markdown",
   "id": "c5af7179",
   "metadata": {},
   "source": [
    "### Load sim_data\n",
    "\n",
    "This unpickles and `sim_data` object, which holds model parameters from wcEcoli.\n",
    "`LoadSimData` includes functions to retrieve individual processes' parameters, which can be modified and passed into their respective process models."
   ]
  },
  {
   "cell_type": "code",
   "execution_count": 3,
   "id": "c37b5e2b",
   "metadata": {},
   "outputs": [],
   "source": [
    "from ecoli.library.sim_data import LoadSimData\n",
    "\n",
    "SIM_DATA_PATH = 'reconstruction/sim_data/kb/simData.cPickle'\n",
    "\n",
    "load_sim_data = LoadSimData(\n",
    "            sim_data_path=SIM_DATA_PATH,\n",
    "            seed=0)"
   ]
  },
  {
   "cell_type": "markdown",
   "id": "0092ca88",
   "metadata": {},
   "source": [
    "### Get initial state snapshot\n",
    "\n",
    "`initial_state` is a dict with the initial state of the system -- a snapshot saved from wcEcoli."
   ]
  },
  {
   "cell_type": "code",
   "execution_count": 4,
   "id": "22b131f2",
   "metadata": {},
   "outputs": [],
   "source": [
    "from ecoli.composites.ecoli_master import get_state_from_file\n",
    "\n",
    "INITIAL_STATE_PATH = 'data/wcecoli_t1000.json'\n",
    "\n",
    "initial_state = get_state_from_file(path=INITIAL_STATE_PATH)"
   ]
  },
  {
   "cell_type": "markdown",
   "id": "0414f33e",
   "metadata": {},
   "source": [
    "### Helper functions for executing the notebook"
   ]
  },
  {
   "cell_type": "code",
   "execution_count": 5,
   "id": "1761fea1",
   "metadata": {},
   "outputs": [],
   "source": [
    "schema_keys = Store.schema_keys\n",
    "\n",
    "def make_port_printout(ports_schema, depth=0, schema_show=5, filler_size=5):\n",
    "    print_dict = ''\n",
    "    filler = filler_size * ' '\n",
    "    for port, schema in ports_schema.items():\n",
    "        if isinstance(schema, dict):\n",
    "            schemavars = list(schema.keys())\n",
    "            if any(var in schemavars for var in schema_keys):\n",
    "                print_schema = ''\n",
    "                for k, v in schema.items():\n",
    "                    print_schema += f'{(depth+1) * filler} {k}: {v}\\n'\n",
    "                print_dict += f'{depth * filler}{port}:\\n{print_schema}\\n'\n",
    "            else:\n",
    "                schema_items = schema.items()\n",
    "                first_schema = dict(list(schema_items)[:schema_show])\n",
    "                next_print = make_port_printout(first_schema, depth+1)\n",
    "                print_dict += f'{port}:\\n{next_print}\\n'\n",
    "                if len(schema) > schema_show:\n",
    "                    print_dict += f'{(depth+1) * filler}'\n",
    "                    print_dict += f'... skipping {len(schema)-schema_show} schema entries ...'\n",
    "                    print_dict += f'\\n\\n'\n",
    "        else:\n",
    "            print_dict += f'{filler}{schema}\\n'\n",
    "    return print_dict\n",
    "\n",
    "def find_increasing(d):\n",
    "    for key, value in d.items():\n",
    "        if value[-1] > value[0]:\n",
    "            return {key: value}\n",
    "    \n",
    "def find_decreasing(d):\n",
    "    for key, value in d.items():\n",
    "        if value[-1] < value[0]:\n",
    "            return {key: value}"
   ]
  },
  {
   "cell_type": "markdown",
   "id": "312785b9",
   "metadata": {},
   "source": [
    "# **Combining Processes into Composite**"
   ]
  },
  {
   "cell_type": "markdown",
   "id": "9166a718",
   "metadata": {},
   "source": [
    "We will now demonstrate how the following combinations of processes function within the model:\n",
    "\n",
    "1. Transcript initiation + transcript elongation\n",
    "2. Polypeptide initiation + polypeptide elongation\n",
    "3. Polypeptide initiation + polypeptide elongation + complexation"
   ]
  },
  {
   "cell_type": "markdown",
   "id": "f62d4909",
   "metadata": {},
   "source": [
    "For this section, we need to load in the composer:\n",
    " * A `Composer` is a class that generates `Composite` models, with many processes wired together through shared `Stores`.\n",
    " * `Ecoli` is the current master composite of the E. coli model."
   ]
  },
  {
   "cell_type": "code",
   "execution_count": null,
   "id": "b513019b",
   "metadata": {},
   "outputs": [],
   "source": [
    "from vivarium.core.composer import Composite"
   ]
  },
  {
   "cell_type": "markdown",
   "id": "77373db3",
   "metadata": {},
   "source": [
    "### <u>Transcript Initiation + Transcript Elongation<u/>"
   ]
  },
  {
   "cell_type": "markdown",
   "id": "8a68c48d",
   "metadata": {},
   "source": [
    "Description:"
   ]
  },
  {
   "cell_type": "code",
   "execution_count": null,
   "id": "a1626c00",
   "metadata": {},
   "outputs": [],
   "source": [
    "# TRANSCRIPT INITATION\n",
    "\n",
    "# load in parameters\n",
    "ti_params = load_sim_data.get_transcript_initiation_config()\n",
    "\n",
    "# initialize process and topology\n",
    "transcript_initiation = TranscriptInitiation(ti_params)\n",
    "\n",
    "ti_topology = topology_registry.access(transcript_initiation.name)"
   ]
  },
  {
   "cell_type": "code",
   "execution_count": null,
   "id": "7a5e326b",
   "metadata": {},
   "outputs": [],
   "source": [
    "# TRANSCRIPT ELONGATION\n",
    "\n",
    "# load in parameters\n",
    "te_params = load_sim_data.get_transcript_elongation_config()\n",
    "\n",
    "# initialize process and topology\n",
    "transcript_elongation = TranscriptElongation(te_params)\n",
    "\n",
    "te_topology = topology_registry.access(transcript_elongation.name)"
   ]
  },
  {
   "cell_type": "code",
   "execution_count": null,
   "id": "cfb6c9ca",
   "metadata": {},
   "outputs": [],
   "source": [
    "# generate composite model\n",
    "tite_composite = Composite({\n",
    "    'processes': {\n",
    "        transcript_initiation.name: transcript_initiation,\n",
    "        transcript_elongation.name: transcript_elongation\n",
    "    },\n",
    "    'topology': {\n",
    "        transcript_initiation.name: ti_topology,\n",
    "        transcript_elongation.name: te_topology\n",
    "    }\n",
    "})"
   ]
  },
  {
   "cell_type": "code",
   "execution_count": null,
   "id": "33b55eb8",
   "metadata": {},
   "outputs": [],
   "source": [
    "# plot topology\n",
    "tite_topology_plot_settings = {\n",
    "    'node_labels': {\n",
    "        'ecoli-transcript-initiation': 'ecoli\\ntranscript\\ninitiation',\n",
    "        'ecoli-transcript-elongation': 'ecoli\\ntranscript\\nelongation',\n",
    "        'unique\\nfull_chromosome': 'unique\\nfull_\\nchromosome',\n",
    "        'listeners\\nrna_synth_prob': 'listeners\\nrna_synth_\\nprob',\n",
    "        'listeners\\nribosome_data': 'listeners\\nribosome_\\ndata',\n",
    "        'listeners\\ntranscript_elongation_listener': '\\nlisteners\\ntranscript_\\nelongation_\\nlistener'\n",
    "    },\n",
    "    'show_ports': False,\n",
    "    'node_size': 17000,\n",
    "    'node_distance': 3.3,\n",
    "    'dashed_edges': True,\n",
    "    'font_size': 18,\n",
    "    'graph_format': 'hierarchy',\n",
    "    'coordinates': {'ecoli-transcript-initiation': (4, 2),\n",
    "                    'ecoli-transcript-elongation': (6, 2)}\n",
    "}\n",
    "\n",
    "tite_topology_fig = plot_topology(tite_composite, tite_topology_plot_settings)"
   ]
  },
  {
   "cell_type": "code",
   "execution_count": null,
   "id": "1ebb2c8c",
   "metadata": {},
   "outputs": [],
   "source": [
    "# run simulation and retrieve final data\n",
    "tite_settings = {\n",
    "    'total_time': 10,\n",
    "    'initial_state': initial_state\n",
    "    }\n",
    "\n",
    "tite_data = simulate_composite(tite_composite, tite_settings)"
   ]
  },
  {
   "cell_type": "code",
   "execution_count": null,
   "id": "dd55c3d4",
   "metadata": {},
   "outputs": [],
   "source": [
    "# RNA Polymerase binds to and moves along the chromosome\n",
    "# Depends on ID of RNA Polymerase, which changes with each simulation\n",
    "\n",
    "pp(tite_data['unique']['active_RNAP'])"
   ]
  },
  {
   "cell_type": "markdown",
   "id": "53662ba0",
   "metadata": {},
   "source": [
    "### <u>Polypeptide Initiation + Polypeptide Elongation<u/>"
   ]
  },
  {
   "cell_type": "markdown",
   "id": "2cb1793c",
   "metadata": {},
   "source": [
    "Description:"
   ]
  },
  {
   "cell_type": "code",
   "execution_count": null,
   "id": "9dd4986d",
   "metadata": {},
   "outputs": [],
   "source": [
    "# POLYPEPTIDE INITIATION\n",
    "\n",
    "# load in parameters\n",
    "pi_params = load_sim_data.get_polypeptide_initiation_config()\n",
    "\n",
    "# initialize process and topology\n",
    "polypeptide_initiation = PolypeptideInitiation(pi_params)\n",
    "\n",
    "pi_topology = topology_registry.access(polypeptide_initiation.name)"
   ]
  },
  {
   "cell_type": "code",
   "execution_count": null,
   "id": "bdb364f2",
   "metadata": {},
   "outputs": [],
   "source": [
    "# POLYPEPTIDE ELONGATION\n",
    "\n",
    "# load in parameters\n",
    "pe_params = load_sim_data.get_polypeptide_elongation_config()\n",
    "\n",
    "# initialize process and topology\n",
    "polypeptide_elongation = PolypeptideElongation(pe_params)\n",
    "\n",
    "pe_topology = topology_registry.access(polypeptide_elongation.name)"
   ]
  },
  {
   "cell_type": "code",
   "execution_count": null,
   "id": "b7d29be7",
   "metadata": {},
   "outputs": [],
   "source": [
    "# generate composite model\n",
    "pipe_composite = Composite({\n",
    "    'processes': {\n",
    "        polypeptide_initiation.name: polypeptide_initiation,\n",
    "        polypeptide_elongation.name: polypeptide_elongation\n",
    "    },\n",
    "    'topology': {\n",
    "        polypeptide_initiation.name: pi_topology,\n",
    "        polypeptide_elongation.name: pe_topology\n",
    "    }\n",
    "})"
   ]
  },
  {
   "cell_type": "code",
   "execution_count": null,
   "id": "2575523c",
   "metadata": {},
   "outputs": [],
   "source": [
    "# plot topology\n",
    "pipe_topology_plot_settings = {\n",
    "    'node_labels': {\n",
    "        'ecoli-polypeptide-initiation': 'ecoli\\npolypeptide\\ninitiation',\n",
    "        'ecoli-polypeptide-elongation': 'ecoli\\npolypeptide\\nelongation',\n",
    "        'unique\\nactive_ribosome': 'unique\\nactive_\\nribosome',\n",
    "        'process_state\\npolypeptide_elongation': 'process_state\\npolypeptide_\\nelongation'\n",
    "    },\n",
    "    'show_ports': False,\n",
    "    'node_size': 17000,\n",
    "    'node_distance': 3.8,\n",
    "    'dashed_edges': True,\n",
    "    'font_size': 17,\n",
    "    'graph_format': 'hierarchy',\n",
    "    'coordinates': {'ecoli-polypeptide-initiation': (3, 2),\n",
    "                    'ecoli-polypeptide-elongation': (5, 2)}\n",
    "}\n",
    "\n",
    "pipe_topology_fig = plot_topology(pipe_composite, pipe_topology_plot_settings)"
   ]
  },
  {
   "cell_type": "code",
   "execution_count": null,
   "id": "ead7c144",
   "metadata": {},
   "outputs": [],
   "source": [
    "# run simulation and retrieve final data\n",
    "pipe_settings = {\n",
    "    'total_time': 10,\n",
    "    'initial_state': initial_state\n",
    "    }\n",
    "\n",
    "pipe_data = simulate_composite(pipe_composite, pipe_settings)"
   ]
  },
  {
   "cell_type": "markdown",
   "id": "758cc43d",
   "metadata": {},
   "source": [
    "### <u>Polypeptide Initiation + Polypeptide Elongation + Complexation<u/>"
   ]
  },
  {
   "cell_type": "markdown",
   "id": "fbfdf6f3",
   "metadata": {},
   "source": [
    "Description:"
   ]
  },
  {
   "cell_type": "code",
   "execution_count": null,
   "id": "fa20c576",
   "metadata": {},
   "outputs": [],
   "source": [
    "from vivarium.core.composer import Composite\n",
    "from ecoli.processes.polypeptide_initiation import PolypeptideInitiation\n",
    "from ecoli.processes.polypeptide_elongation import PolypeptideElongation\n",
    "from ecoli.processes.complexation import Complexation"
   ]
  },
  {
   "cell_type": "code",
   "execution_count": null,
   "id": "7b507f5c",
   "metadata": {},
   "outputs": [],
   "source": [
    "# POLYPEPTIDE INITIATION\n",
    "\n",
    "# load in parameters\n",
    "pi_params = load_sim_data.get_polypeptide_initiation_config()\n",
    "\n",
    "# initialize process and topology\n",
    "polypeptide_initiation = PolypeptideInitiation(pi_params)\n",
    "\n",
    "pi_topology = topology_registry.access(polypeptide_initiation.name)"
   ]
  },
  {
   "cell_type": "code",
   "execution_count": null,
   "id": "831b143d",
   "metadata": {},
   "outputs": [],
   "source": [
    "# POLYPEPTIDE ELONGATION\n",
    "\n",
    "# load in parameters\n",
    "pe_params = load_sim_data.get_polypeptide_elongation_config()\n",
    "\n",
    "# initialize process and topology\n",
    "polypeptide_elongation = PolypeptideElongation(pe_params)\n",
    "\n",
    "pe_topology = topology_registry.access(polypeptide_elongation.name)"
   ]
  },
  {
   "cell_type": "code",
   "execution_count": null,
   "id": "456e17bd",
   "metadata": {},
   "outputs": [],
   "source": [
    "# COMPLEXATION\n",
    "\n",
    "# load in parameters\n",
    "cplx_config = load_sim_data.get_complexation_config()\n",
    "\n",
    "# initialize process and topology\n",
    "complexation = Complexation(cplx_config)\n",
    "\n",
    "cplx_topology = topology_registry.access(complexation.name)"
   ]
  },
  {
   "cell_type": "code",
   "execution_count": null,
   "id": "8727a03e",
   "metadata": {},
   "outputs": [],
   "source": [
    "# generate composite model\n",
    "pipec_composite = Composite({\n",
    "    'processes': {\n",
    "        polypeptide_initiation.name: polypeptide_initiation,\n",
    "        polypeptide_elongation.name: polypeptide_elongation,\n",
    "        complexation.name: complexation\n",
    "    },\n",
    "    'topology': {\n",
    "        polypeptide_initiation.name: pi_topology,\n",
    "        polypeptide_elongation.name: pe_topology,\n",
    "        complexation.name: cplx_topology\n",
    "    }\n",
    "})"
   ]
  },
  {
   "cell_type": "code",
   "execution_count": null,
   "id": "8eb3b502",
   "metadata": {},
   "outputs": [],
   "source": [
    "# plot topology\n",
    "pipec_topology_plot_settings = {\n",
    "    'node_labels': {\n",
    "        'ecoli-polypeptide-initiation': 'ecoli\\npolypeptide\\ninitiation',\n",
    "        'ecoli-polypeptide-elongation': 'ecoli\\npolypeptide\\nelongation',\n",
    "        'ecoli-complexation': 'ecoli\\ncomplexation',\n",
    "        'unique\\nactive_ribosome': 'unique\\nactive_\\nribosome',\n",
    "        'process_state\\npolypeptide_elongation': 'process_state\\npolypeptide_\\nelongation',\n",
    "        'uncharged_trna_total': 'uncharged_\\ntrna_total',\n",
    "        'charged_trna_total': 'charged_\\ntrna_total',\n",
    "        'molecules_total': 'molecules_\\ntotal',\n",
    "        'amino_acids_total': 'amino_acids_\\ntotal'\n",
    "    },\n",
    "    'show_ports': False,\n",
    "    'node_size': 17000,\n",
    "    'node_distance': 3.3,\n",
    "    'dashed_edges': True,\n",
    "    'font_size': 17,\n",
    "    'graph_format': 'hierarchy',\n",
    "    'coordinates': {'ecoli-polypeptide-initiation': (2, 2),\n",
    "                    'ecoli-polypeptide-elongation': (4, 2),\n",
    "                    'ecoli-complexation': (6, 2)}\n",
    "}\n",
    "\n",
    "pipec_topology_fig = plot_topology(pipec_composite, pipec_topology_plot_settings)"
   ]
  },
  {
   "cell_type": "code",
   "execution_count": null,
   "id": "e1393852",
   "metadata": {},
   "outputs": [],
   "source": [
    "# run simulation and retrieve final data\n",
    "pipec_settings = {\n",
    "    'total_time': 10,\n",
    "    'initial_state': initial_state\n",
    "    }\n",
    "pipec_data = simulate_composite(pipec_composite, pipec_settings)"
   ]
  },
  {
   "cell_type": "code",
   "execution_count": null,
   "id": "2a90b633",
   "metadata": {},
   "outputs": [],
   "source": [
    "# Initiation: Ribosome attaches to Rna - makes a new unique RNA molecule / new active ribosome\n",
    "# Elongation: Ribosome moves along the rna / peptide is created (terminated and released as a monomer protein)\n",
    "# Complexation: monomer gets complexed \n",
    "\n",
    "# look through causality network for examples of each component\n",
    "# point is: all of these processes are happening in the same simulation"
   ]
  },
  {
   "cell_type": "markdown",
   "id": "4698e67c",
   "metadata": {},
   "source": [
    "# **Ecoli Master**"
   ]
  },
  {
   "cell_type": "code",
   "execution_count": null,
   "id": "ea98452e",
   "metadata": {},
   "outputs": [],
   "source": [
    "from ecoli.composites.ecoli_master import Ecoli\n",
    "from ecoli.composites.ecoli_configs import ECOLI_DEFAULT_PROCESSES, ECOLI_DEFAULT_TOPOLOGY\n",
    "from ecoli.plots.topology import get_ecoli_master_topology_settings"
   ]
  },
  {
   "cell_type": "code",
   "execution_count": null,
   "id": "2d9ce078",
   "metadata": {},
   "outputs": [],
   "source": [
    "ecoli_config = {\n",
    "    'processes': ECOLI_DEFAULT_PROCESSES,\n",
    "    'topology': ECOLI_DEFAULT_TOPOLOGY,\n",
    "    'process_configs': {\n",
    "        process_id: 'sim_data' for process_id in ECOLI_DEFAULT_PROCESSES.keys()\n",
    "    },\n",
    "    'agent_id': '1'\n",
    "}\n",
    "\n",
    "ecoli_composer = Ecoli(ecoli_config)\n",
    "ecoli_composite = ecoli_composer.generate()"
   ]
  },
  {
   "cell_type": "code",
   "execution_count": null,
   "id": "a56be4b8",
   "metadata": {},
   "outputs": [],
   "source": [
    "# plot topology\n",
    "\n",
    "ecoli_topology_plot_settings = {\n",
    "    'node_labels': {\n",
    "        'ecoli-polypeptide-initiation': 'ecoli\\npolypeptide\\ninitiation',\n",
    "        'ecoli-polypeptide-elongation': 'ecoli\\npolypeptide\\nelongation',\n",
    "        'ecoli-complexation': 'ecoli\\ncomplexation',\n",
    "    },\n",
    "    'show_ports': False,\n",
    "    'node_size': 17000,\n",
    "    'node_distance': 3.3,\n",
    "    'dashed_edges': True,\n",
    "    'font_size': 17,\n",
    "    'graph_format': 'hierarchy'\n",
    "}\n",
    "\n",
    "ecoli_topology_fig = plot_topology(ecoli_composite, ecoli_topology_plot_settings)"
   ]
  },
  {
   "cell_type": "code",
   "execution_count": null,
   "id": "6152a2ad",
   "metadata": {},
   "outputs": [],
   "source": [
    "# run simulation and retrieve final data\n",
    "ecoli_settings = {\n",
    "    'total_time': 10,\n",
    "    'initial_state': initial_state\n",
    "    }\n",
    "ecoli_data = simulate_composite(ecoli_composite, ecoli_settings)"
   ]
  },
  {
   "cell_type": "code",
   "execution_count": null,
   "id": "6fac066b",
   "metadata": {},
   "outputs": [],
   "source": [
    "ecoli_fig1 = plot_variables(\n",
    "    ecoli_data, \n",
    "    variables=[\n",
    "        ('listeners', 'mass', 'cell_mass'),\n",
    "        ('listeners', 'mass', 'proteinMassFraction'),\n",
    "        ('listeners', 'mass', 'rnaMassFraction'),\n",
    "        ('listeners', 'mass', 'instantaneousGrowthRate'),\n",
    "    ],\n",
    "    column_width=10, row_height=3, row_padding=0.5)"
   ]
  }
 ],
 "metadata": {
  "kernelspec": {
   "display_name": "Python 3 (ipykernel)",
   "language": "python",
   "name": "python3"
  },
  "language_info": {
   "codemirror_mode": {
    "name": "ipython",
    "version": 3
   },
   "file_extension": ".py",
   "mimetype": "text/x-python",
   "name": "python",
   "nbconvert_exporter": "python",
   "pygments_lexer": "ipython3",
   "version": "3.8.3"
  },
  "toc": {
   "base_numbering": 1,
   "nav_menu": {},
   "number_sections": false,
   "sideBar": true,
   "skip_h1_title": false,
   "title_cell": "Table of Contents",
   "title_sidebar": "Contents",
   "toc_cell": false,
   "toc_position": {
    "height": "414px",
    "left": "45px",
    "top": "131px",
    "width": "258.344px"
   },
   "toc_section_display": true,
   "toc_window_display": true
  },
  "toc-autonumbering": false,
  "toc-showcode": false,
  "toc-showmarkdowntxt": false,
  "toc-showtags": false
 },
 "nbformat": 4,
 "nbformat_minor": 5
}
