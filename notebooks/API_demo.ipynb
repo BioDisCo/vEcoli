{
 "cells": [
  {
   "cell_type": "code",
   "execution_count": 1,
   "id": "e213d005",
   "metadata": {},
   "outputs": [],
   "source": [
    "# vivarium imports\n",
    "from vivarium.core.process import Process\n",
    "from vivarium.core.store import Store\n",
    "from vivarium.core.composer import Composer\n",
    "from vivarium.core.engine import Engine, pp\n",
    "from vivarium.plots.topology import plot_topology\n",
    "\n",
    "# vivarium-ecoli imports\n",
    "from ecoli.processes.transcript_initiation import TranscriptInitiation\n",
    "from ecoli.processes.transcript_elongation import TranscriptElongation\n",
    "\n",
    "from ecoli.composites.ecoli_master import ECOLI_TOPOLOGY"
   ]
  },
  {
   "cell_type": "markdown",
   "id": "5133e14d",
   "metadata": {},
   "source": [
    "## load sim_data"
   ]
  },
  {
   "cell_type": "code",
   "execution_count": 2,
   "id": "c452dfc6",
   "metadata": {},
   "outputs": [],
   "source": [
    "from ecoli.library.sim_data import LoadSimData\n",
    "\n",
    "SIM_DATA_PATH = '../reconstruction/sim_data/kb/simData.cPickle'\n",
    "\n",
    "load_sim_data = LoadSimData(\n",
    "            sim_data_path=SIM_DATA_PATH,\n",
    "            seed=0)"
   ]
  },
  {
   "cell_type": "markdown",
   "id": "9a934576",
   "metadata": {},
   "source": [
    "## load specific process parameters from sim_data"
   ]
  },
  {
   "cell_type": "code",
   "execution_count": 3,
   "id": "1a2acf66",
   "metadata": {},
   "outputs": [],
   "source": [
    "transcript_initiation_config = load_sim_data.get_transcript_initiation_config()\n",
    "transcript_elongation_config = load_sim_data.get_transcript_elongation_config()"
   ]
  },
  {
   "cell_type": "markdown",
   "id": "4fc7e32a",
   "metadata": {},
   "source": [
    "## make some processes"
   ]
  },
  {
   "cell_type": "code",
   "execution_count": 4,
   "id": "ffddab5d",
   "metadata": {},
   "outputs": [],
   "source": [
    "transcript_initiation = TranscriptInitiation(transcript_initiation_config)\n",
    "transcript_elongation = TranscriptElongation(transcript_initiation_config)"
   ]
  },
  {
   "cell_type": "markdown",
   "id": "d97030b7",
   "metadata": {},
   "source": [
    "## view a process' ports schema"
   ]
  },
  {
   "cell_type": "code",
   "execution_count": 5,
   "id": "c2ed4f95",
   "metadata": {},
   "outputs": [
    {
     "name": "stdout",
     "output_type": "stream",
     "text": [
      "{ 'RNAs': { '*': { 'RNAP_index': {'_default': 0, '_updater': 'set'},\n",
      "                   'TU_index': {'_default': 0, '_updater': 'set'},\n",
      "                   'can_translate': {'_default': 0, '_updater': 'set'},\n",
      "                   'is_full_transcript': {'_default': 0, '_updater': 'set'},\n",
      "                   'is_mRNA': {'_default': 0, '_updater': 'set'},\n",
      "                   'transcript_length': { '_default': 0,\n",
      "                                          '_emit': True,\n",
      "                                          '_updater': 'set'},\n",
      "                   'unique_index': {'_default': 0, '_updater': 'set'}}},\n",
      "  'active_RNAPs': { '*': { 'coordinates': { '_default': 0,\n",
      "                                            '_emit': True,\n",
      "                                            '_updater': 'set'},\n",
      "                           'direction': {'_default': 0, '_updater': 'set'},\n",
      "                           'domain_index': {'_default': 0, '_updater': 'set'},\n",
      "                           'unique_index': {'_default': 0, '_updater': 'set'}}},\n",
      "  'environment': {'media_id': {'_default': '', '_updater': 'set'}},\n",
      "  'full_chromosomes': {'*': {'unique_index': {'_default': 0}}},\n",
      "  'listeners': { 'mass': { 'cell_mass': {'_default': 0.0},\n",
      "                           'dry_mass': {'_default': 0.0}},\n",
      "                 'ribosome_data': { 'rrn16S_init_prob': { '_default': 0,\n",
      "                                                          '_emit': True,\n",
      "                                                          '_updater': 'set'},\n",
      "                                    'rrn16S_produced': { '_default': 0,\n",
      "                                                         '_emit': True,\n",
      "                                                         '_updater': 'set'},\n",
      "                                    'rrn23S_init_prob': { '_default': 0,\n",
      "                                                          '_emit': True,\n",
      "                                                          '_updater': 'set'},\n",
      "                                    'rrn23S_produced': { '_default': 0,\n",
      "                                                         '_emit': True,\n",
      "                                                         '_updater': 'set'},\n",
      "                                    'rrn5S_init_prob': { '_default': 0,\n",
      "                                                         '_emit': True,\n",
      "                                                         '_updater': 'set'},\n",
      "                                    'rrn5S_produced': { '_default': 0,\n",
      "                                                        '_emit': True,\n",
      "                                                        '_updater': 'set'},\n",
      "                                    'total_rna_init': { '_default': 0,\n",
      "                                                        '_emit': True,\n",
      "                                                        '_updater': 'set'}},\n",
      "                 'rna_synth_prob': { 'rna_synth_prob': { '_default': 0.0,\n",
      "                                                         '_emit': True,\n",
      "                                                         '_updater': 'set'}},\n",
      "                 'rnap_data': { 'didInitialize': { '_default': 0,\n",
      "                                                   '_emit': True,\n",
      "                                                   '_updater': 'set'},\n",
      "                                'rnaInitEvent': { '_default': 0,\n",
      "                                                  '_emit': True,\n",
      "                                                  '_updater': 'set'}}},\n",
      "  'molecules': { 'APORNAP-CPLX[c]': {'_default': 0, '_emit': True},\n",
      "                 'GUANOSINE-5DP-3DP[c]': {'_default': 0, '_emit': True}},\n",
      "  'promoters': { '*': { 'TU_index': {'_default': 0},\n",
      "                        'bound_TF': {'_default': 0},\n",
      "                        'coordinates': {'_default': 0},\n",
      "                        'domain_index': {'_default': 0}}}}\n"
     ]
    }
   ],
   "source": [
    "pp(transcript_initiation.ports_schema())"
   ]
  },
  {
   "cell_type": "markdown",
   "id": "eccdf95c",
   "metadata": {},
   "source": [
    "## build multiscale model"
   ]
  },
  {
   "cell_type": "code",
   "execution_count": 7,
   "id": "69cff2ac",
   "metadata": {},
   "outputs": [
    {
     "data": {
      "text/plain": [
       "<vivarium.core.store.Store at 0x1291f10d0>"
      ]
     },
     "execution_count": 7,
     "metadata": {},
     "output_type": "execute_result"
    }
   ],
   "source": [
    "# create an empty \"cell\" store\n",
    "cell = Store({})\n",
    "\n",
    "# generate a path and add a process in the leaf\n",
    "cell.create(\n",
    "    ['cytoplasm', 'transcript_initiation'], \n",
    "    transcript_initiation, \n",
    "    topology=ECOLI_TOPOLOGY['transcript_initiation'])\n",
    "\n",
    "cell.create(\n",
    "    ['cytoplasm', 'transcript_elongation'], \n",
    "    transcript_elongation, \n",
    "    topology=ECOLI_TOPOLOGY['transcript_elongation'])"
   ]
  },
  {
   "cell_type": "code",
   "execution_count": 8,
   "id": "ccd235ce",
   "metadata": {},
   "outputs": [
    {
     "name": "stdout",
     "output_type": "stream",
     "text": [
      "{ 'cytoplasm': { 'transcript_elongation': <ecoli.processes.transcript_elongation.TranscriptElongation object at 0x102e8a640>,\n",
      "                 'transcript_initiation': <ecoli.processes.transcript_initiation.TranscriptInitiation object at 0x102e8a5b0>}}\n"
     ]
    }
   ],
   "source": [
    "pp(cell.get_value())"
   ]
  },
  {
   "cell_type": "code",
   "execution_count": null,
   "id": "4381ea87",
   "metadata": {},
   "outputs": [],
   "source": []
  }
 ],
 "metadata": {
  "kernelspec": {
   "display_name": "Python 3",
   "language": "python",
   "name": "python3"
  },
  "language_info": {
   "codemirror_mode": {
    "name": "ipython",
    "version": 3
   },
   "file_extension": ".py",
   "mimetype": "text/x-python",
   "name": "python",
   "nbconvert_exporter": "python",
   "pygments_lexer": "ipython3",
   "version": "3.8.3"
  },
  "toc": {
   "base_numbering": 1,
   "nav_menu": {},
   "number_sections": false,
   "sideBar": true,
   "skip_h1_title": false,
   "title_cell": "Table of Contents",
   "title_sidebar": "Contents",
   "toc_cell": false,
   "toc_position": {},
   "toc_section_display": true,
   "toc_window_display": true
  }
 },
 "nbformat": 4,
 "nbformat_minor": 5
}
