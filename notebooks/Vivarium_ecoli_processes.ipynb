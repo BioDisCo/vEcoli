{
 "cells": [
  {
   "cell_type": "markdown",
   "id": "31536271",
   "metadata": {},
   "source": [
    "# <u>**Vivarium E. coli**<u/>\n",
    "\n",
    "This notebook demonstrates features of the processes in the Vivarium *E. coli* model. First, we show distinct features of how the processes work individually. Then we combine the processes in our simulation to demonstrate how they work together. Finally, we run the entire model.\n",
    "\n",
    "<u>**Future Directions:**</u>\n",
    "- Demonstrate:\n",
    "    1. Ecoli master partitioned\n",
    "    2. Cell division\n",
    "    3. Vivarium ecoli colonies\n",
    "\n",
    "<u>**Miscellaneous notes/ideas:**</u>\n",
    "- consider adding interactive widgets (plotly) - users can click boxes to choose which molecules to plot"
   ]
  },
  {
   "cell_type": "code",
   "execution_count": 1,
   "id": "1a874047",
   "metadata": {},
   "outputs": [],
   "source": [
    "# Make sure notebook runs out of vivarium-ecoli directory\n",
    "import sys, os\n",
    "\n",
    "# get the path to the notebook, and change working directory\n",
    "notebook_path = sys.path[0][:sys.path[0].index('notebooks')]\n",
    "sys.path.append(notebook_path)\n",
    "os.chdir(sys.path[-1])\n",
    "cwd = os.getcwd()"
   ]
  },
  {
   "cell_type": "markdown",
   "id": "da299ec6",
   "metadata": {
    "tags": []
   },
   "source": [
    "## **Load the required components**"
   ]
  },
  {
   "cell_type": "markdown",
   "id": "99b85cd0",
   "metadata": {},
   "source": [
    "### import modules"
   ]
  },
  {
   "cell_type": "code",
   "execution_count": 2,
   "id": "3788b393",
   "metadata": {},
   "outputs": [],
   "source": [
    "from vivarium.core.process import Process\n",
    "from vivarium.core.store import Store\n",
    "from vivarium.core.engine import Engine, pp\n",
    "from vivarium.core.composition import simulate_process, simulate_composite\n",
    "from vivarium.plots.topology import plot_topology\n",
    "from vivarium.plots.simulation_output import plot_variables\n",
    "from ecoli.processes.registries import topology_registry\n",
    "import ecoli\n",
    "import copy"
   ]
  },
  {
   "cell_type": "markdown",
   "id": "c5af7179",
   "metadata": {},
   "source": [
    "### Load sim_data\n",
    "\n",
    "This unpickles and `sim_data` object, which holds model parameters from wcEcoli.\n",
    "`LoadSimData` includes functions to retrieve individual processes' parameters, which can be modified and passed into their respective process models."
   ]
  },
  {
   "cell_type": "code",
   "execution_count": 3,
   "id": "c37b5e2b",
   "metadata": {},
   "outputs": [],
   "source": [
    "from ecoli.library.sim_data import LoadSimData\n",
    "\n",
    "SIM_DATA_PATH = 'reconstruction/sim_data/kb/simData.cPickle'\n",
    "\n",
    "load_sim_data = LoadSimData(\n",
    "            sim_data_path=SIM_DATA_PATH,\n",
    "            seed=0)"
   ]
  },
  {
   "cell_type": "markdown",
   "id": "0092ca88",
   "metadata": {},
   "source": [
    "### Get initial state snapshot\n",
    "\n",
    "`initial_state` is a dict with the initial state of the system -- a snapshot saved from wcEcoli."
   ]
  },
  {
   "cell_type": "code",
   "execution_count": 4,
   "id": "22b131f2",
   "metadata": {},
   "outputs": [],
   "source": [
    "from ecoli.composites.ecoli_master import get_state_from_file\n",
    "\n",
    "INITIAL_STATE_PATH = 'data/wcecoli_t1000.json'\n",
    "\n",
    "initial_state = get_state_from_file(path=INITIAL_STATE_PATH)"
   ]
  },
  {
   "cell_type": "markdown",
   "id": "0414f33e",
   "metadata": {},
   "source": [
    "### Helper functions for executing the notebook"
   ]
  },
  {
   "cell_type": "code",
   "execution_count": 5,
   "id": "1761fea1",
   "metadata": {},
   "outputs": [],
   "source": [
    "schema_keys = Store.schema_keys\n",
    "\n",
    "def make_port_printout(ports_schema, depth=0, schema_show=5, filler_size=5):\n",
    "    print_dict = ''\n",
    "    filler = filler_size * ' '\n",
    "    for port, schema in ports_schema.items():\n",
    "        if isinstance(schema, dict):\n",
    "            schemavars = list(schema.keys())\n",
    "            if any(var in schemavars for var in schema_keys):\n",
    "                print_schema = ''\n",
    "                for k, v in schema.items():\n",
    "                    print_schema += f'{(depth+1) * filler} {k}: {v}\\n'\n",
    "                print_dict += f'{depth * filler}{port}:\\n{print_schema}\\n'\n",
    "            else:\n",
    "                schema_items = schema.items()\n",
    "                first_schema = dict(list(schema_items)[:schema_show])\n",
    "                next_print = make_port_printout(first_schema, depth+1)\n",
    "                print_dict += f'{port}:\\n{next_print}\\n'\n",
    "                if len(schema) > schema_show:\n",
    "                    print_dict += f'{(depth+1) * filler}'\n",
    "                    print_dict += f'... skipping {len(schema)-schema_show} schema entries ...'\n",
    "                    print_dict += f'\\n\\n'\n",
    "        else:\n",
    "            print_dict += f'{filler}{schema}\\n'\n",
    "    return print_dict\n",
    "\n",
    "def find_increasing(d):\n",
    "    for key, value in d.items():\n",
    "        if value[-1] > value[0]:\n",
    "            return {key: value}\n",
    "    \n",
    "def find_decreasing(d):\n",
    "    for key, value in d.items():\n",
    "        if value[-1] < value[0]:\n",
    "            return {key: value}"
   ]
  },
  {
   "cell_type": "markdown",
   "id": "8847670a",
   "metadata": {},
   "source": [
    "# **Simulate Processes Individually**\n",
    "\n",
    "\n",
    "Now we can load in our modular processes individually. For each process, we will:\n",
    "\n",
    "1. Load in the process and parameters\n",
    "2. Plot a **toplogy** diagram \n",
    "    - The topology is a network that demonstrates how a process connects to its stores (which hold state variables).\n",
    "3. Display the **ports schema**\n",
    "     - The port schema defines a systems ports (top-level keys), and the expected behavior of molecules under that port (its *schema*)\n",
    "     - `*` is a wild card, specifies the schema of everything that can go into the port\n",
    "4. Simulate the process\n",
    "5. Demonstrate distinct features of that process"
   ]
  },
  {
   "cell_type": "markdown",
   "id": "bed93e79",
   "metadata": {},
   "source": [
    "## <u>Complexation<u/>\n",
    "    \n",
    "[Complexation Documentation](https://covertlab.github.io/vivarium-coli/reference/api/ecoli.processes.complexation.html)"
   ]
  },
  {
   "cell_type": "code",
   "execution_count": 6,
   "id": "f6f95f82",
   "metadata": {},
   "outputs": [],
   "source": [
    "from ecoli.processes.complexation import Complexation\n",
    "\n",
    "# load in parameters\n",
    "cplx_config = load_sim_data.get_complexation_config()\n",
    "cplx_config['time_step'] = 0.01\n",
    "\n",
    "# initialize process\n",
    "complexation = Complexation(cplx_config)"
   ]
  },
  {
   "cell_type": "code",
   "execution_count": 7,
   "id": "4431d567",
   "metadata": {},
   "outputs": [
    {
     "data": {
      "image/png": "[encoded data removed]",
      "text/plain": [
       "<Figure size 432x720 with 1 Axes>"
      ]
     },
     "metadata": {},
     "output_type": "display_data"
    }
   ],
   "source": [
    "# plot topology\n",
    "cplx_topology_plot_settings = {\n",
    "    'buffer': 1,\n",
    "    'node_labels': {\n",
    "        'ecoli-complexation': 'ecoli\\ncomplexation'\n",
    "    },\n",
    "    'show_ports': False,\n",
    "    'node_size': 10000,\n",
    "    'dashed_edges': True,\n",
    "    'node_distance': 4,\n",
    "}\n",
    "\n",
    "cplx_topology_fig = plot_topology(complexation, cplx_topology_plot_settings)"
   ]
  },
  {
   "cell_type": "code",
   "execution_count": 8,
   "id": "2cbd7bd2",
   "metadata": {
    "scrolled": true
   },
   "outputs": [
    {
     "name": "stdout",
     "output_type": "stream",
     "text": [
      "molecules:\n",
      "     1-PFK[c]:\n",
      "           _default: 0\n",
      "           _divider: binomial_ecoli\n",
      "           _emit: True\n",
      "           _properties: {'bulk': True}\n",
      "\n",
      "     1-PFK-MONOMER[c]:\n",
      "           _default: 0\n",
      "           _divider: binomial_ecoli\n",
      "           _emit: True\n",
      "           _properties: {'bulk': True}\n",
      "\n",
      "     2OXOGLUTARATEDEH-CPLX[c]:\n",
      "           _default: 0\n",
      "           _divider: binomial_ecoli\n",
      "           _emit: True\n",
      "           _properties: {'bulk': True}\n",
      "\n",
      "     E1O[c]:\n",
      "           _default: 0\n",
      "           _divider: binomial_ecoli\n",
      "           _emit: True\n",
      "           _properties: {'bulk': True}\n",
      "\n",
      "     E2O[c]:\n",
      "           _default: 0\n",
      "           _divider: binomial_ecoli\n",
      "           _emit: True\n",
      "           _properties: {'bulk': True}\n",
      "\n",
      "\n",
      "     ... skipping 2569 schema entries ...\n",
      "\n",
      "listeners:\n",
      "     complexation_events:\n",
      "           _default: []\n",
      "           _updater: set\n",
      "           _emit: True\n",
      "\n",
      "\n",
      "\n"
     ]
    }
   ],
   "source": [
    "# display ports schema\n",
    "cplx_ports = complexation.ports_schema()\n",
    "cplx_printout = make_port_printout(cplx_ports)\n",
    "print(cplx_printout)"
   ]
  },
  {
   "cell_type": "code",
   "execution_count": 9,
   "id": "684899dc",
   "metadata": {},
   "outputs": [
    {
     "name": "stdout",
     "output_type": "stream",
     "text": [
      "\n",
      "Simulation ID: d55bc216-201a-11ec-a3e2-8c85908ac627\n",
      "Created: 09/27/2021 at 22:13:36\n",
      "Completed in 0.188401 seconds\n"
     ]
    }
   ],
   "source": [
    "# tweak initial state\n",
    "cplx_initial_state = copy.deepcopy(initial_state)\n",
    "cplx_initial_state['bulk']['6PGLUCONDEHYDROG-MONOMER[c]'] = 1000\n",
    "\n",
    "# run simulation and retrieve final data\n",
    "cplx_settings = {\n",
    "    'total_time': 0.1,\n",
    "    'initial_state': cplx_initial_state,\n",
    "    'topology': complexation.topology}\n",
    "\n",
    "cplx_data = simulate_process(complexation, cplx_settings)"
   ]
  },
  {
   "cell_type": "markdown",
   "id": "3512a34b",
   "metadata": {},
   "source": [
    "For complexation, let's look at the 6PGLUCONDEHYDROG-MONOMER[c] monomer as it transitions to the 6PGLUCONDEHYDROG-CPLX[c] complex:"
   ]
  },
  {
   "cell_type": "code",
   "execution_count": 10,
   "id": "2e87fcf1",
   "metadata": {},
   "outputs": [
    {
     "data": {
      "image/png": "[encoded data removed]",
      "text/plain": [
       "<Figure size 720x432 with 2 Axes>"
      ]
     },
     "metadata": {
      "needs_background": "light"
     },
     "output_type": "display_data"
    }
   ],
   "source": [
    "# plot output\n",
    "cplx_fig = plot_variables(\n",
    "    cplx_data, \n",
    "    variables=[\n",
    "        ('bulk', '6PGLUCONDEHYDROG-MONOMER[c]'), \n",
    "        ('bulk', '6PGLUCONDEHYDROG-CPLX[c]'), \n",
    "    ],\n",
    "    column_width=10, row_height=3, row_padding=0.5)"
   ]
  },
  {
   "cell_type": "markdown",
   "id": "42581f4b",
   "metadata": {},
   "source": [
    "Here we see 6PGLUCONDEHYDROG-MONOMER[c] getting complexed. This a relatively fast process and consumes all the monomers in a single time step."
   ]
  },
  {
   "cell_type": "markdown",
   "id": "ccea1937",
   "metadata": {},
   "source": [
    "## <u>Transcript Initiation<u/>\n",
    "    \n",
    "[Transcript Initiation Documentation](https://covertlab.github.io/vivarium-ecoli/reference/api/ecoli.processes.transcript_initiation.html)"
   ]
  },
  {
   "cell_type": "code",
   "execution_count": 11,
   "id": "cf5056a9",
   "metadata": {},
   "outputs": [],
   "source": [
    "from ecoli.processes.transcript_initiation import TranscriptInitiation\n",
    "\n",
    "# load in parameters\n",
    "ti_params = load_sim_data.get_transcript_initiation_config()\n",
    "\n",
    "# initialize process and topology\n",
    "transcript_initiation = TranscriptInitiation(ti_params)"
   ]
  },
  {
   "cell_type": "code",
   "execution_count": 12,
   "id": "256d8473",
   "metadata": {},
   "outputs": [
    {
     "data": {
      "image/png": "[encoded data removed]",
      "text/plain": [
       "<Figure size 1355.04x832.32 with 1 Axes>"
      ]
     },
     "metadata": {},
     "output_type": "display_data"
    }
   ],
   "source": [
    "# plot topology\n",
    "ti_topology_plot_settings = {\n",
    "    'node_labels': {\n",
    "        'ecoli-transcript-initiation': 'ecoli\\ntranscript\\ninitiation',\n",
    "        'full_chromosomes': 'full\\nchromosomes',\n",
    "        'listeners\\nrna_synth_prob': 'listeners\\nrna_synth_\\nprob',\n",
    "        'listeners\\nribosome_data': 'listeners\\nribosome_\\ndata',\n",
    "    },\n",
    "    'show_ports': False,\n",
    "    'node_size': 17000,\n",
    "    'node_distance': 3.3,\n",
    "    'dashed_edges': True,\n",
    "    'font_size': 18,\n",
    "    'graph_format': 'hierarchy',\n",
    "    'coordinates': {'ecoli-transcript-initiation': (4, 2)}\n",
    "}\n",
    "\n",
    "ti_topology_fig = plot_topology(transcript_initiation, ti_topology_plot_settings)"
   ]
  },
  {
   "cell_type": "code",
   "execution_count": 13,
   "id": "3798e6fa",
   "metadata": {},
   "outputs": [
    {
     "name": "stdout",
     "output_type": "stream",
     "text": [
      "environment:\n",
      "     media_id:\n",
      "           _default: \n",
      "           _updater: set\n",
      "\n",
      "\n",
      "molecules:\n",
      "     APORNAP-CPLX[c]:\n",
      "           _default: 0\n",
      "           _divider: binomial_ecoli\n",
      "           _emit: True\n",
      "           _properties: {'bulk': True}\n",
      "\n",
      "     GUANOSINE-5DP-3DP[c]:\n",
      "           _default: 0\n",
      "           _divider: binomial_ecoli\n",
      "           _emit: True\n",
      "           _properties: {'bulk': True}\n",
      "\n",
      "\n",
      "full_chromosomes:\n",
      "*:\n",
      "          unique_index:\n",
      "                _default: 0\n",
      "\n",
      "\n",
      "\n",
      "promoters:\n",
      "*:\n",
      "          TU_index:\n",
      "                _default: 0\n",
      "\n",
      "          coordinates:\n",
      "                _default: 0\n",
      "\n",
      "          domain_index:\n",
      "                _default: 0\n",
      "\n",
      "          bound_TF:\n",
      "                _default: 0\n",
      "\n",
      "\n",
      "\n",
      "RNAs:\n",
      "*:\n",
      "          unique_index:\n",
      "                _default: 0\n",
      "                _updater: set\n",
      "\n",
      "          TU_index:\n",
      "                _default: 0\n",
      "                _updater: set\n",
      "\n",
      "          transcript_length:\n",
      "                _default: 0\n",
      "                _updater: set\n",
      "                _emit: True\n",
      "\n",
      "          is_mRNA:\n",
      "                _default: 0\n",
      "                _updater: set\n",
      "\n",
      "          is_full_transcript:\n",
      "                _default: 0\n",
      "                _updater: set\n",
      "\n",
      "\n",
      "          ... skipping 2 schema entries ...\n",
      "\n",
      "\n",
      "active_RNAPs:\n",
      "*:\n",
      "          unique_index:\n",
      "                _default: 0\n",
      "                _updater: set\n",
      "\n",
      "          domain_index:\n",
      "                _default: 0\n",
      "                _updater: set\n",
      "\n",
      "          coordinates:\n",
      "                _default: 0\n",
      "                _updater: set\n",
      "                _emit: True\n",
      "\n",
      "          direction:\n",
      "                _default: 0\n",
      "                _updater: set\n",
      "\n",
      "\n",
      "\n",
      "listeners:\n",
      "mass:\n",
      "          cell_mass:\n",
      "                _default: 0.0\n",
      "\n",
      "          dry_mass:\n",
      "                _default: 0.0\n",
      "\n",
      "\n",
      "rna_synth_prob:\n",
      "          rna_synth_prob:\n",
      "                _default: 0.0\n",
      "                _updater: set\n",
      "                _emit: True\n",
      "\n",
      "\n",
      "ribosome_data:\n",
      "          rrn16S_produced:\n",
      "                _default: 0\n",
      "                _updater: set\n",
      "                _emit: True\n",
      "\n",
      "          rrn23S_produced:\n",
      "                _default: 0\n",
      "                _updater: set\n",
      "                _emit: True\n",
      "\n",
      "          rrn5S_produced:\n",
      "                _default: 0\n",
      "                _updater: set\n",
      "                _emit: True\n",
      "\n",
      "          rrn16S_init_prob:\n",
      "                _default: 0\n",
      "                _updater: set\n",
      "                _emit: True\n",
      "\n",
      "          rrn23S_init_prob:\n",
      "                _default: 0\n",
      "                _updater: set\n",
      "                _emit: True\n",
      "\n",
      "\n",
      "          ... skipping 2 schema entries ...\n",
      "\n",
      "rnap_data:\n",
      "          didInitialize:\n",
      "                _default: 0\n",
      "                _updater: set\n",
      "                _emit: True\n",
      "\n",
      "          rnaInitEvent:\n",
      "                _default: 0\n",
      "                _updater: set\n",
      "                _emit: True\n",
      "\n",
      "\n",
      "\n",
      "\n"
     ]
    }
   ],
   "source": [
    "# display ports schema\n",
    "ti_ports = transcript_initiation.ports_schema()\n",
    "ti_printout = make_port_printout(ti_ports)\n",
    "print(ti_printout)"
   ]
  },
  {
   "cell_type": "code",
   "execution_count": 14,
   "id": "134817a7",
   "metadata": {},
   "outputs": [
    {
     "name": "stdout",
     "output_type": "stream",
     "text": [
      "\n",
      "Simulation ID: d5cdfdcc-201a-11ec-a3e2-8c85908ac627\n",
      "Created: 09/27/2021 at 22:13:38\n"
     ]
    },
    {
     "ename": "AttributeError",
     "evalue": "'Transcription' object has no attribute 'stable_RNA_elongation_rate'",
     "output_type": "error",
     "traceback": [
      "\u001b[0;31m---------------------------------------------------------------------------\u001b[0m",
      "\u001b[0;31mAttributeError\u001b[0m                            Traceback (most recent call last)",
      "\u001b[0;32m/var/folders/t4/q28s90qs5r755xvnzjg6vkc40000gn/T/ipykernel_12059/2070952505.py\u001b[0m in \u001b[0;36m<module>\u001b[0;34m\u001b[0m\n\u001b[1;32m      5\u001b[0m     'topology': transcript_initiation.topology}\n\u001b[1;32m      6\u001b[0m \u001b[0;34m\u001b[0m\u001b[0m\n\u001b[0;32m----> 7\u001b[0;31m \u001b[0mti_data\u001b[0m \u001b[0;34m=\u001b[0m \u001b[0msimulate_process\u001b[0m\u001b[0;34m(\u001b[0m\u001b[0mtranscript_initiation\u001b[0m\u001b[0;34m,\u001b[0m \u001b[0mti_settings\u001b[0m\u001b[0;34m)\u001b[0m\u001b[0;34m\u001b[0m\u001b[0;34m\u001b[0m\u001b[0m\n\u001b[0m",
      "\u001b[0;32m~/.pyenv/versions/3.8.3/envs/v-ecoli2/lib/python3.8/site-packages/vivarium/core/composition.py\u001b[0m in \u001b[0;36msimulate_process\u001b[0;34m(process, settings)\u001b[0m\n\u001b[1;32m    351\u001b[0m     \u001b[0msettings\u001b[0m \u001b[0;34m=\u001b[0m \u001b[0msettings\u001b[0m \u001b[0;32mor\u001b[0m \u001b[0;34m{\u001b[0m\u001b[0;34m}\u001b[0m\u001b[0;34m\u001b[0m\u001b[0;34m\u001b[0m\u001b[0m\n\u001b[1;32m    352\u001b[0m     \u001b[0mexperiment\u001b[0m \u001b[0;34m=\u001b[0m \u001b[0mprocess_in_experiment\u001b[0m\u001b[0;34m(\u001b[0m\u001b[0mprocess\u001b[0m\u001b[0;34m,\u001b[0m \u001b[0msettings\u001b[0m\u001b[0;34m)\u001b[0m\u001b[0;34m\u001b[0m\u001b[0;34m\u001b[0m\u001b[0m\n\u001b[0;32m--> 353\u001b[0;31m     \u001b[0;32mreturn\u001b[0m \u001b[0msimulate_experiment\u001b[0m\u001b[0;34m(\u001b[0m\u001b[0mexperiment\u001b[0m\u001b[0;34m,\u001b[0m \u001b[0msettings\u001b[0m\u001b[0;34m)\u001b[0m\u001b[0;34m\u001b[0m\u001b[0;34m\u001b[0m\u001b[0m\n\u001b[0m\u001b[1;32m    354\u001b[0m \u001b[0;34m\u001b[0m\u001b[0m\n\u001b[1;32m    355\u001b[0m \u001b[0;34m\u001b[0m\u001b[0m\n",
      "\u001b[0;32m~/.pyenv/versions/3.8.3/envs/v-ecoli2/lib/python3.8/site-packages/vivarium/core/composition.py\u001b[0m in \u001b[0;36msimulate_experiment\u001b[0;34m(experiment, settings)\u001b[0m\n\u001b[1;32m    400\u001b[0m \u001b[0;34m\u001b[0m\u001b[0m\n\u001b[1;32m    401\u001b[0m     \u001b[0;31m# run simulation\u001b[0m\u001b[0;34m\u001b[0m\u001b[0;34m\u001b[0m\u001b[0;34m\u001b[0m\u001b[0m\n\u001b[0;32m--> 402\u001b[0;31m     \u001b[0mexperiment\u001b[0m\u001b[0;34m.\u001b[0m\u001b[0mupdate\u001b[0m\u001b[0;34m(\u001b[0m\u001b[0mtotal_time\u001b[0m\u001b[0;34m)\u001b[0m\u001b[0;34m\u001b[0m\u001b[0;34m\u001b[0m\u001b[0m\n\u001b[0m\u001b[1;32m    403\u001b[0m     \u001b[0mexperiment\u001b[0m\u001b[0;34m.\u001b[0m\u001b[0mend\u001b[0m\u001b[0;34m(\u001b[0m\u001b[0;34m)\u001b[0m\u001b[0;34m\u001b[0m\u001b[0;34m\u001b[0m\u001b[0m\n\u001b[1;32m    404\u001b[0m \u001b[0;34m\u001b[0m\u001b[0m\n",
      "\u001b[0;32m~/.pyenv/versions/3.8.3/envs/v-ecoli2/lib/python3.8/site-packages/vivarium/core/engine.py\u001b[0m in \u001b[0;36mupdate\u001b[0;34m(self, interval)\u001b[0m\n\u001b[1;32m    644\u001b[0m                     \u001b[0;31m# TODO(chris): Is there any reason to generate a process's\u001b[0m\u001b[0;34m\u001b[0m\u001b[0;34m\u001b[0m\u001b[0;34m\u001b[0m\u001b[0m\n\u001b[1;32m    645\u001b[0m                     \u001b[0;31m#  schema dynamically like this?\u001b[0m\u001b[0;34m\u001b[0m\u001b[0;34m\u001b[0m\u001b[0;34m\u001b[0m\u001b[0m\n\u001b[0;32m--> 646\u001b[0;31m                     update = self._process_update(\n\u001b[0m\u001b[1;32m    647\u001b[0m                         path, process, store, states, process_timestep)\n\u001b[1;32m    648\u001b[0m \u001b[0;34m\u001b[0m\u001b[0m\n",
      "\u001b[0;32m~/.pyenv/versions/3.8.3/envs/v-ecoli2/lib/python3.8/site-packages/vivarium/core/engine.py\u001b[0m in \u001b[0;36m_process_update\u001b[0;34m(self, path, process, store, states, interval)\u001b[0m\n\u001b[1;32m    444\u001b[0m         \"\"\"\n\u001b[1;32m    445\u001b[0m \u001b[0;34m\u001b[0m\u001b[0m\n\u001b[0;32m--> 446\u001b[0;31m         update = self.invoke_process(\n\u001b[0m\u001b[1;32m    447\u001b[0m             \u001b[0mprocess\u001b[0m\u001b[0;34m,\u001b[0m\u001b[0;34m\u001b[0m\u001b[0;34m\u001b[0m\u001b[0m\n\u001b[1;32m    448\u001b[0m             \u001b[0mpath\u001b[0m\u001b[0;34m,\u001b[0m\u001b[0;34m\u001b[0m\u001b[0;34m\u001b[0m\u001b[0m\n",
      "\u001b[0;32m~/.pyenv/versions/3.8.3/envs/v-ecoli2/lib/python3.8/site-packages/vivarium/core/engine.py\u001b[0m in \u001b[0;36minvoke_process\u001b[0;34m(self, process, path, interval, states)\u001b[0m\n\u001b[1;32m    413\u001b[0m             \u001b[0;32mreturn\u001b[0m \u001b[0mself\u001b[0m\u001b[0;34m.\u001b[0m\u001b[0mparallel\u001b[0m\u001b[0;34m[\u001b[0m\u001b[0mpath\u001b[0m\u001b[0;34m]\u001b[0m\u001b[0;34m\u001b[0m\u001b[0;34m\u001b[0m\u001b[0m\n\u001b[1;32m    414\u001b[0m         \u001b[0;31m# if not parallel, perform a normal invocation\u001b[0m\u001b[0;34m\u001b[0m\u001b[0;34m\u001b[0m\u001b[0;34m\u001b[0m\u001b[0m\n\u001b[0;32m--> 415\u001b[0;31m         \u001b[0;32mreturn\u001b[0m \u001b[0mself\u001b[0m\u001b[0;34m.\u001b[0m\u001b[0minvoke\u001b[0m\u001b[0;34m(\u001b[0m\u001b[0mprocess\u001b[0m\u001b[0;34m,\u001b[0m \u001b[0minterval\u001b[0m\u001b[0;34m,\u001b[0m \u001b[0mstates\u001b[0m\u001b[0;34m)\u001b[0m\u001b[0;34m\u001b[0m\u001b[0;34m\u001b[0m\u001b[0m\n\u001b[0m\u001b[1;32m    416\u001b[0m \u001b[0;34m\u001b[0m\u001b[0m\n\u001b[1;32m    417\u001b[0m     def _process_update(\n",
      "\u001b[0;32m~/.pyenv/versions/3.8.3/envs/v-ecoli2/lib/python3.8/site-packages/vivarium/core/engine.py\u001b[0m in \u001b[0;36m__init__\u001b[0;34m(self, process, interval, states)\u001b[0m\n\u001b[1;32m    186\u001b[0m         \u001b[0mself\u001b[0m\u001b[0;34m.\u001b[0m\u001b[0minterval\u001b[0m \u001b[0;34m=\u001b[0m \u001b[0minterval\u001b[0m\u001b[0;34m\u001b[0m\u001b[0;34m\u001b[0m\u001b[0m\n\u001b[1;32m    187\u001b[0m         \u001b[0mself\u001b[0m\u001b[0;34m.\u001b[0m\u001b[0mstates\u001b[0m \u001b[0;34m=\u001b[0m \u001b[0mstates\u001b[0m\u001b[0;34m\u001b[0m\u001b[0;34m\u001b[0m\u001b[0m\n\u001b[0;32m--> 188\u001b[0;31m         self.update = invoke_process(\n\u001b[0m\u001b[1;32m    189\u001b[0m             \u001b[0mself\u001b[0m\u001b[0;34m.\u001b[0m\u001b[0mprocess\u001b[0m\u001b[0;34m,\u001b[0m\u001b[0;34m\u001b[0m\u001b[0;34m\u001b[0m\u001b[0m\n\u001b[1;32m    190\u001b[0m             \u001b[0mself\u001b[0m\u001b[0;34m.\u001b[0m\u001b[0minterval\u001b[0m\u001b[0;34m,\u001b[0m\u001b[0;34m\u001b[0m\u001b[0;34m\u001b[0m\u001b[0m\n",
      "\u001b[0;32m~/.pyenv/versions/3.8.3/envs/v-ecoli2/lib/python3.8/site-packages/vivarium/core/engine.py\u001b[0m in \u001b[0;36minvoke_process\u001b[0;34m(process, interval, states)\u001b[0m\n\u001b[1;32m    122\u001b[0m     \"\"\"\n\u001b[1;32m    123\u001b[0m     \u001b[0;32mif\u001b[0m \u001b[0mprocess\u001b[0m\u001b[0;34m.\u001b[0m\u001b[0mupdate_condition\u001b[0m\u001b[0;34m(\u001b[0m\u001b[0minterval\u001b[0m\u001b[0;34m,\u001b[0m \u001b[0mstates\u001b[0m\u001b[0;34m)\u001b[0m\u001b[0;34m:\u001b[0m\u001b[0;34m\u001b[0m\u001b[0;34m\u001b[0m\u001b[0m\n\u001b[0;32m--> 124\u001b[0;31m         \u001b[0;32mreturn\u001b[0m \u001b[0mprocess\u001b[0m\u001b[0;34m.\u001b[0m\u001b[0mnext_update\u001b[0m\u001b[0;34m(\u001b[0m\u001b[0minterval\u001b[0m\u001b[0;34m,\u001b[0m \u001b[0mstates\u001b[0m\u001b[0;34m)\u001b[0m\u001b[0;34m\u001b[0m\u001b[0;34m\u001b[0m\u001b[0m\n\u001b[0m\u001b[1;32m    125\u001b[0m     \u001b[0;32mreturn\u001b[0m \u001b[0;34m{\u001b[0m\u001b[0;34m}\u001b[0m\u001b[0;34m\u001b[0m\u001b[0;34m\u001b[0m\u001b[0m\n\u001b[1;32m    126\u001b[0m \u001b[0;34m\u001b[0m\u001b[0m\n",
      "\u001b[0;32m~/code/vivarium-ecoli/ecoli/processes/partition.py\u001b[0m in \u001b[0;36mnext_update\u001b[0;34m(self, timestep, states)\u001b[0m\n\u001b[1;32m    187\u001b[0m             \u001b[0;32mreturn\u001b[0m \u001b[0mself\u001b[0m\u001b[0;34m.\u001b[0m\u001b[0mevolve_state\u001b[0m\u001b[0;34m(\u001b[0m\u001b[0mtimestep\u001b[0m\u001b[0;34m,\u001b[0m \u001b[0mstates\u001b[0m\u001b[0;34m)\u001b[0m\u001b[0;34m\u001b[0m\u001b[0;34m\u001b[0m\u001b[0m\n\u001b[1;32m    188\u001b[0m \u001b[0;34m\u001b[0m\u001b[0m\n\u001b[0;32m--> 189\u001b[0;31m         \u001b[0mrequests\u001b[0m \u001b[0;34m=\u001b[0m \u001b[0mself\u001b[0m\u001b[0;34m.\u001b[0m\u001b[0mcalculate_request\u001b[0m\u001b[0;34m(\u001b[0m\u001b[0mtimestep\u001b[0m\u001b[0;34m,\u001b[0m \u001b[0mstates\u001b[0m\u001b[0;34m)\u001b[0m\u001b[0;34m\u001b[0m\u001b[0;34m\u001b[0m\u001b[0m\n\u001b[0m\u001b[1;32m    190\u001b[0m         \u001b[0mstates\u001b[0m \u001b[0;34m=\u001b[0m \u001b[0mdeep_merge\u001b[0m\u001b[0;34m(\u001b[0m\u001b[0mstates\u001b[0m\u001b[0;34m,\u001b[0m \u001b[0mrequests\u001b[0m\u001b[0;34m)\u001b[0m\u001b[0;34m\u001b[0m\u001b[0;34m\u001b[0m\u001b[0m\n\u001b[1;32m    191\u001b[0m         \u001b[0mupdate\u001b[0m \u001b[0;34m=\u001b[0m \u001b[0mself\u001b[0m\u001b[0;34m.\u001b[0m\u001b[0mevolve_state\u001b[0m\u001b[0;34m(\u001b[0m\u001b[0mtimestep\u001b[0m\u001b[0;34m,\u001b[0m \u001b[0mstates\u001b[0m\u001b[0;34m)\u001b[0m\u001b[0;34m\u001b[0m\u001b[0;34m\u001b[0m\u001b[0m\n",
      "\u001b[0;32m~/code/vivarium-ecoli/ecoli/processes/transcript_initiation.py\u001b[0m in \u001b[0;36mcalculate_request\u001b[0;34m(self, timestep, states)\u001b[0m\n\u001b[1;32m    387\u001b[0m         \u001b[0mself\u001b[0m\u001b[0;34m.\u001b[0m\u001b[0mfracActiveRnap\u001b[0m \u001b[0;34m=\u001b[0m \u001b[0mself\u001b[0m\u001b[0;34m.\u001b[0m\u001b[0mfracActiveRnapDict\u001b[0m\u001b[0;34m[\u001b[0m\u001b[0mcurrent_media_id\u001b[0m\u001b[0;34m]\u001b[0m\u001b[0;34m\u001b[0m\u001b[0;34m\u001b[0m\u001b[0m\n\u001b[1;32m    388\u001b[0m         \u001b[0mself\u001b[0m\u001b[0;34m.\u001b[0m\u001b[0mrnaPolymeraseElongationRate\u001b[0m \u001b[0;34m=\u001b[0m \u001b[0mself\u001b[0m\u001b[0;34m.\u001b[0m\u001b[0mrnaPolymeraseElongationRateDict\u001b[0m\u001b[0;34m[\u001b[0m\u001b[0mcurrent_media_id\u001b[0m\u001b[0;34m]\u001b[0m\u001b[0;34m\u001b[0m\u001b[0;34m\u001b[0m\u001b[0m\n\u001b[0;32m--> 389\u001b[0;31m         self.elongation_rates = self.make_elongation_rates(\n\u001b[0m\u001b[1;32m    390\u001b[0m             \u001b[0mself\u001b[0m\u001b[0;34m.\u001b[0m\u001b[0mrandom_state\u001b[0m\u001b[0;34m,\u001b[0m\u001b[0;34m\u001b[0m\u001b[0;34m\u001b[0m\u001b[0m\n\u001b[1;32m    391\u001b[0m             \u001b[0mself\u001b[0m\u001b[0;34m.\u001b[0m\u001b[0mrnaPolymeraseElongationRate\u001b[0m\u001b[0;34m.\u001b[0m\u001b[0masNumber\u001b[0m\u001b[0;34m(\u001b[0m\u001b[0munits\u001b[0m\u001b[0;34m.\u001b[0m\u001b[0mnt\u001b[0m \u001b[0;34m/\u001b[0m \u001b[0munits\u001b[0m\u001b[0;34m.\u001b[0m\u001b[0ms\u001b[0m\u001b[0;34m)\u001b[0m\u001b[0;34m,\u001b[0m\u001b[0;34m\u001b[0m\u001b[0;34m\u001b[0m\u001b[0m\n",
      "\u001b[0;32m~/code/wcEcoli/reconstruction/ecoli/dataclasses/process/transcription.py\u001b[0m in \u001b[0;36mmake_elongation_rates\u001b[0;34m(self, random, base, time_step, variable_elongation)\u001b[0m\n\u001b[1;32m   1050\u001b[0m                         \u001b[0mbase\u001b[0m\u001b[0;34m,\u001b[0m\u001b[0;34m\u001b[0m\u001b[0;34m\u001b[0m\u001b[0m\n\u001b[1;32m   1051\u001b[0m                         \u001b[0mself\u001b[0m\u001b[0;34m.\u001b[0m\u001b[0mrRNA_indexes\u001b[0m\u001b[0;34m,\u001b[0m\u001b[0;34m\u001b[0m\u001b[0;34m\u001b[0m\u001b[0m\n\u001b[0;32m-> 1052\u001b[0;31m                         \u001b[0mself\u001b[0m\u001b[0;34m.\u001b[0m\u001b[0mstable_RNA_elongation_rate\u001b[0m\u001b[0;34m,\u001b[0m\u001b[0;34m\u001b[0m\u001b[0;34m\u001b[0m\u001b[0m\n\u001b[0m\u001b[1;32m   1053\u001b[0m                         \u001b[0mtime_step\u001b[0m\u001b[0;34m,\u001b[0m\u001b[0;34m\u001b[0m\u001b[0;34m\u001b[0m\u001b[0m\n\u001b[1;32m   1054\u001b[0m \t\t\tvariable_elongation)\n",
      "\u001b[0;31mAttributeError\u001b[0m: 'Transcription' object has no attribute 'stable_RNA_elongation_rate'"
     ]
    }
   ],
   "source": [
    "# run simulation and retrieve final data\n",
    "ti_settings = {\n",
    "    'total_time': 10,\n",
    "    'initial_state': initial_state,\n",
    "    'topology': transcript_initiation.topology}\n",
    "\n",
    "ti_data = simulate_process(transcript_initiation, ti_settings)"
   ]
  },
  {
   "cell_type": "markdown",
   "id": "61edece7",
   "metadata": {},
   "source": [
    "For Transcript Initiation, we can see from the cell above that each active RNA polymerase molecule is represented by an ID number. Let's analyze how one of these active RNA polymerase molecules functions within this process:"
   ]
  },
  {
   "cell_type": "code",
   "execution_count": null,
   "id": "594d99c9",
   "metadata": {},
   "outputs": [],
   "source": [
    "# plot output\n",
    "RNAP_ID = list(ti_data['unique']['active_RNAP'].keys())[0] \n",
    "\n",
    "ti_fig = plot_variables(\n",
    "    ti_data, \n",
    "    variables=[\n",
    "        ('unique', 'active_RNAP', RNAP_ID, 'coordinates'),\n",
    "        ('bulk', 'APORNAP-CPLX[c]')\n",
    "        ],\n",
    "    column_width=10, row_height=3, row_padding=0.5)"
   ]
  },
  {
   "cell_type": "markdown",
   "id": "49fd5330",
   "metadata": {},
   "source": [
    "Here we can see that the coordinates for one RNA polymerase molecule is initialized at time=0 and remains the same throughout the simulation as elongation is not a function of this process. Additionally, we can see that the RNA polymerase molecules (given by APORNAP-CPLX[c]) are getting deleted from the bulk molecules count as they bind to the DNA sequence and are initialized for transcription."
   ]
  },
  {
   "cell_type": "markdown",
   "id": "068282a4",
   "metadata": {},
   "source": [
    "## <u>Transcript Elongation<u/>\n",
    "    \n",
    "    \n",
    "[Transcript Elongation Documentation](https://covertlab.github.io/vivarium-ecoli/reference/api/ecoli.processes.transcript_elongation.html)"
   ]
  },
  {
   "cell_type": "code",
   "execution_count": null,
   "id": "c0a7296b",
   "metadata": {},
   "outputs": [],
   "source": [
    "from ecoli.processes.transcript_elongation import TranscriptElongation\n",
    "\n",
    "# load in parameters\n",
    "te_params = load_sim_data.get_transcript_elongation_config()\n",
    "\n",
    "# initialize process and topology\n",
    "transcript_elongation = TranscriptElongation(te_params)"
   ]
  },
  {
   "cell_type": "code",
   "execution_count": null,
   "id": "cdf499d9",
   "metadata": {},
   "outputs": [],
   "source": [
    "# plot topology\n",
    "te_topology_plot_settings = {\n",
    "    'node_labels': {\n",
    "        'ecoli-transcript-elongation': 'ecoli\\ntranscript\\nelongation',\n",
    "        'listeners\\ntranscript_elongation_listener': '\\nlisteners\\ntranscript_\\nelongation_\\nlistener'\n",
    "    },\n",
    "    'show_ports': False,\n",
    "    'node_size': 17000,\n",
    "    'node_distance': 3.3,\n",
    "    'dashed_edges': True,\n",
    "    'font_size': 18,\n",
    "    'graph_format': 'hierarchy',\n",
    "    'coordinates': {'ecoli-transcript-elongation': (4, 2)}\n",
    "}\n",
    "\n",
    "te_topology_fig = plot_topology(transcript_elongation, te_topology_plot_settings)"
   ]
  },
  {
   "cell_type": "code",
   "execution_count": null,
   "id": "b363e5c1",
   "metadata": {},
   "outputs": [],
   "source": [
    "# display ports schema\n",
    "te_ports = transcript_elongation.ports_schema()\n",
    "te_printout = make_port_printout(te_ports)\n",
    "print(te_printout)"
   ]
  },
  {
   "cell_type": "code",
   "execution_count": null,
   "id": "b4418f84",
   "metadata": {},
   "outputs": [],
   "source": [
    "# run simulation and retrieve final data\n",
    "te_settings = {\n",
    "    'total_time': 10,\n",
    "    'initial_state': initial_state,\n",
    "    'topology': transcript_elongation.topology}\n",
    "\n",
    "te_data = simulate_process(transcript_elongation, te_settings)"
   ]
  },
  {
   "cell_type": "markdown",
   "id": "723f757e",
   "metadata": {},
   "source": [
    "For Transcript Elongation, we can see from the cell above that each active RNA Polymerase molecule is represented by an ID number. Let's analyze how a few of these active RNA Polymerase molecules function within this process:"
   ]
  },
  {
   "cell_type": "code",
   "execution_count": null,
   "id": "7fe3d0f5",
   "metadata": {},
   "outputs": [],
   "source": [
    "# plot output\n",
    "te_fig = plot_variables(\n",
    "    te_data, \n",
    "    variables=[\n",
    "        ('unique', 'active_RNAP', '1266660', 'coordinates'),\n",
    "        ('unique', 'active_RNAP', '1293463', 'coordinates'),\n",
    "        ('unique', 'active_RNAP', '1293466', 'coordinates')\n",
    "        ],\n",
    "    column_width=10, row_height=3, row_padding=0.5)"
   ]
  },
  {
   "cell_type": "markdown",
   "id": "011e4b93",
   "metadata": {},
   "source": [
    "Here we can see that the coordinates for these RNA Polymerase molecules are initialized at time=0 but change throughout the simulation. Some polymerase coordinates incease, indicating elongation in one direction, and others decrease, indicating elongation in the opposite direction along the DNA sequence. \n",
    "\n",
    "Funadamentally, these changes represent the process of polymerization: as the RNA polymerase molecules travel across the DNA, RNA molecucles are assembled."
   ]
  },
  {
   "cell_type": "markdown",
   "id": "fef9620a",
   "metadata": {},
   "source": [
    "## <u>Transcription Factor Binding<u/>\n",
    "    \n",
    "[TF Binding Documentation](https://covertlab.github.io/vivarium-ecoli/reference/api/ecoli.processes.tf_binding.html)"
   ]
  },
  {
   "cell_type": "code",
   "execution_count": null,
   "id": "473fcad9",
   "metadata": {},
   "outputs": [],
   "source": [
    "from ecoli.processes.tf_binding import TfBinding\n",
    "\n",
    "# load in parameters\n",
    "tfb_params = load_sim_data.get_tf_config()\n",
    "\n",
    "# initialize process and topology\n",
    "tf_binding = TfBinding(tfb_params)\n",
    "\n",
    "tfb_topology = topology_registry.access(tf_binding.name)"
   ]
  },
  {
   "cell_type": "code",
   "execution_count": null,
   "id": "1aa9088b",
   "metadata": {},
   "outputs": [],
   "source": [
    "# plot topology\n",
    "tfb_topology_plot_settings = {\n",
    "    'node_labels': {\n",
    "        'ecoli-tf-binding': 'ecoli\\ntf binding',\n",
    "        'listeners\\nrna_synth_prob': 'listeners\\nrna_synth_\\nprob',\n",
    "        'active_tfs_total': 'active_tfs_\\ntotal',\n",
    "        'inactive_tfs_total': 'inactive_tfs_\\ntotal'\n",
    "    },\n",
    "    'show_ports': False,\n",
    "    'node_size': 16000,\n",
    "    'node_distance': 3.5,\n",
    "    'dashed_edges': True,\n",
    "    'font_size': 18,\n",
    "    'graph_format': 'hierarchy',\n",
    "    'coordinates': {'ecoli-tf-binding': (2, 2)}\n",
    "}\n",
    "\n",
    "tfb_topology_fig = plot_topology(tf_binding, tfb_topology_plot_settings)"
   ]
  },
  {
   "cell_type": "code",
   "execution_count": null,
   "id": "8ef9e00a",
   "metadata": {},
   "outputs": [],
   "source": [
    "# display ports schema\n",
    "tfb_ports = tf_binding.ports_schema()\n",
    "tfb_printout = make_port_printout(tfb_ports)\n",
    "print(tfb_printout)"
   ]
  },
  {
   "cell_type": "code",
   "execution_count": null,
   "id": "4ad3928c",
   "metadata": {},
   "outputs": [],
   "source": [
    "# run simulation and retrieve final data\n",
    "tfb_settings = {\n",
    "    'total_time': 10,\n",
    "    'initial_state': initial_state,\n",
    "    'topology': tfb_topology}\n",
    "\n",
    "tfb_data = simulate_process(tf_binding, tfb_settings)"
   ]
  },
  {
   "cell_type": "code",
   "execution_count": null,
   "id": "019bdbb4",
   "metadata": {},
   "outputs": [],
   "source": [
    "# plot output\n",
    "tfb_fig_active = plot_variables(\n",
    "    tfb_data, \n",
    "    variables=[\n",
    "        ('bulk', 'CPLX-125[c]'),\n",
    "        ('bulk', 'CPLX0-226[c]'),\n",
    "        ('bulk', 'MONOMER0-162[c]')\n",
    "        ],\n",
    "    column_width=10, row_height=3, row_padding=0.5)"
   ]
  },
  {
   "cell_type": "markdown",
   "id": "4bda3eb2",
   "metadata": {},
   "source": [
    "## <u>Chromosome Replication<u/>\n",
    "    \n",
    "[Chromosome Replication Documentation](https://covertlab.github.io/vivarium-ecoli/reference/api/ecoli.processes.chromosome_replication.html)"
   ]
  },
  {
   "cell_type": "code",
   "execution_count": 15,
   "id": "a2928b9e",
   "metadata": {},
   "outputs": [],
   "source": [
    "from ecoli.processes.chromosome_replication import ChromosomeReplication\n",
    "\n",
    "# load in parameters\n",
    "cr_params = load_sim_data.get_chromosome_replication_config()\n",
    "\n",
    "# initialize process and topology\n",
    "chromosome_replication = ChromosomeReplication(cr_params)\n",
    "\n",
    "cr_topology = topology_registry.access(chromosome_replication.name)"
   ]
  },
  {
   "cell_type": "code",
   "execution_count": null,
   "id": "1b86307b",
   "metadata": {},
   "outputs": [],
   "source": [
    "# plot topology\n",
    "cr_topology_plot_settings = {\n",
    "    'node_labels': {\n",
    "        'ecoli-chromosome-replication': 'ecoli\\nchromosome\\nreplication',\n",
    "        'replisome_trimers': 'replisome\\ntrimers',\n",
    "        'replisome_monomers': 'replisome\\nmonomers',\n",
    "        'active_replisomes': 'active\\nreplisomes',\n",
    "        'full_chromosomes': 'full\\nchromosomes',\n",
    "        'chromosome_domains': 'chromosome\\ndomains',\n",
    "        'listeners\\nreplication_data': 'listeners\\nreplication_\\ndata'\n",
    "    },\n",
    "    'show_ports': False,\n",
    "    'node_size': 17000,\n",
    "    'node_distance': 3.5,\n",
    "    'dashed_edges': True,\n",
    "    'font_size': 18,\n",
    "    'graph_format': 'hierarchy',\n",
    "    'coordinates': {'ecoli-chromosome-replication': (3, 2)}\n",
    "}\n",
    "\n",
    "cr_topology_fig = plot_topology(chromosome_replication, cr_topology_plot_settings)"
   ]
  },
  {
   "cell_type": "code",
   "execution_count": null,
   "id": "14ad1556",
   "metadata": {},
   "outputs": [],
   "source": [
    "# display ports schema\n",
    "cr_ports = chromosome_replication.ports_schema()\n",
    "cr_printout = make_port_printout(cr_ports)\n",
    "print(cr_printout)"
   ]
  },
  {
   "cell_type": "code",
   "execution_count": null,
   "id": "777a6e81",
   "metadata": {},
   "outputs": [],
   "source": [
    "# tweak initial state to trigger replication\n",
    "cr_initial_state = copy.deepcopy(initial_state)\n",
    "cr_initial_state['listeners']['mass']['cell_mass'] = 2000.0\n",
    "\n",
    "# run simulation and retrieve final data\n",
    "cr_settings = {\n",
    "    'total_time': 100,\n",
    "    'initial_state': cr_initial_state,\n",
    "    'topology': cr_topology,\n",
    "    'emit_step': 10,\n",
    "    'return_raw_data': True}\n",
    "\n",
    "cr_data = simulate_process(chromosome_replication, cr_settings)"
   ]
  },
  {
   "cell_type": "code",
   "execution_count": null,
   "id": "bd34fea4",
   "metadata": {},
   "outputs": [],
   "source": [
    "cr_data[0.0]['unique']['oriC']"
   ]
  },
  {
   "cell_type": "code",
   "execution_count": null,
   "id": "58a819b2",
   "metadata": {},
   "outputs": [],
   "source": [
    "cr_data[10.0]['unique']['oriC']"
   ]
  },
  {
   "cell_type": "markdown",
   "id": "3af0ae01",
   "metadata": {},
   "source": [
    "Here a new origin of replication (oriC) has formed between time 0 and 10. This indicates the beginning of the chromosome replication process."
   ]
  },
  {
   "cell_type": "markdown",
   "id": "18cde7b9",
   "metadata": {},
   "source": [
    "## <u>Chromosome Structure<u/>\n",
    "    \n",
    "[Chromosome Structure Documentation](https://covertlab.github.io/vivarium-ecoli/reference/api/ecoli.processes.chromosome_structure.html)"
   ]
  },
  {
   "cell_type": "code",
   "execution_count": null,
   "id": "fff1fa42",
   "metadata": {},
   "outputs": [],
   "source": [
    "from ecoli.processes.chromosome_structure import ChromosomeStructure\n",
    "\n",
    "# load in parameters\n",
    "cs_params = load_sim_data.get_chromosome_structure_config()\n",
    "\n",
    "# initialize process and topology\n",
    "chromosome_structure = ChromosomeStructure(cs_params)\n",
    "\n",
    "cs_topology = topology_registry.access(chromosome_structure.name)"
   ]
  },
  {
   "cell_type": "code",
   "execution_count": null,
   "id": "bc910b9f",
   "metadata": {},
   "outputs": [],
   "source": [
    "# plot topology\n",
    "cs_topology_plot_settings = {\n",
    "    'node_labels': {\n",
    "        'ecoli-chromosome-structure': 'ecoli\\nchromosome\\nstructure',\n",
    "        'full_chromosomes': 'full\\nchromosomes',\n",
    "        'active_ribosome': 'active\\nribosome',\n",
    "        'chromosome_domains': 'chromosome\\ndomains',\n",
    "        'active_replisomes': 'active\\nreplisomes',\n",
    "        'active_RNAPs': 'active\\nRNAPs',\n",
    "    },\n",
    "    'show_ports': False,\n",
    "    'node_size': 17000,\n",
    "    'node_distance': 3.5,\n",
    "    'dashed_edges': True,\n",
    "    'font_size': 20,\n",
    "    'graph_format': 'hierarchy',\n",
    "    'coordinates': {'ecoli-chromosome-structure': (6, 2)}\n",
    "}\n",
    "\n",
    "cs_topology_fig = plot_topology(chromosome_structure, cs_topology_plot_settings)"
   ]
  },
  {
   "cell_type": "code",
   "execution_count": null,
   "id": "ac6fd35b",
   "metadata": {},
   "outputs": [],
   "source": [
    "# display ports schema\n",
    "cs_ports = chromosome_structure.ports_schema()\n",
    "cs_printout = make_port_printout(cs_ports)\n",
    "print(cs_printout)"
   ]
  },
  {
   "cell_type": "code",
   "execution_count": null,
   "id": "46efb7a1",
   "metadata": {},
   "outputs": [],
   "source": [
    "cs_initial_state = copy.deepcopy(initial_state)\n",
    "\n",
    "# run simulation and retrieve final data\n",
    "cs_settings = {\n",
    "    'total_time': 10,\n",
    "    'initial_state': cs_initial_state,\n",
    "    'topology': cs_topology,\n",
    "    'emit_step': 10,\n",
    "    'return_raw_data': True}\n",
    "\n",
    "cs_data = simulate_process(chromosome_structure, cs_settings)"
   ]
  },
  {
   "cell_type": "markdown",
   "id": "68543193",
   "metadata": {},
   "source": [
    "## <u>Polypeptide Initiation<u/>\n",
    "    \n",
    "[Polypeptide Initiation Documentation](https://covertlab.github.io/vivarium-ecoli/reference/api/ecoli.processes.polypeptide_initiation.html)"
   ]
  },
  {
   "cell_type": "code",
   "execution_count": null,
   "id": "49f8abc5",
   "metadata": {},
   "outputs": [],
   "source": [
    "from ecoli.processes.polypeptide_initiation import PolypeptideInitiation\n",
    "\n",
    "# load in parameters\n",
    "pi_params = load_sim_data.get_polypeptide_initiation_config()\n",
    "\n",
    "# initialize process and topology\n",
    "polypeptide_initiation = PolypeptideInitiation(pi_params)\n",
    "\n",
    "pi_topology = topology_registry.access(polypeptide_initiation.name)"
   ]
  },
  {
   "cell_type": "code",
   "execution_count": null,
   "id": "b963b597",
   "metadata": {},
   "outputs": [],
   "source": [
    "# plot topology\n",
    "pi_topology_plot_settings = {\n",
    "    'node_labels': {\n",
    "        'ecoli-polypeptide-initiation': 'ecoli\\npolypeptide\\ninitiation',\n",
    "        'active_ribosome': 'active\\nribosome'\n",
    "    },\n",
    "    'show_ports': False,\n",
    "    'node_size': 17000,\n",
    "    'node_distance': 3.5,\n",
    "    'dashed_edges': True,\n",
    "    'font_size': 17,\n",
    "    'graph_format': 'hierarchy',\n",
    "    'coordinates': {'ecoli-polypeptide-initiation': (3, 2)}\n",
    "}\n",
    "\n",
    "pi_topology_fig = plot_topology(polypeptide_initiation, pi_topology_plot_settings)"
   ]
  },
  {
   "cell_type": "code",
   "execution_count": null,
   "id": "488d76be",
   "metadata": {},
   "outputs": [],
   "source": [
    "# display ports schema\n",
    "pi_ports = polypeptide_initiation.ports_schema()\n",
    "pi_printout = make_port_printout(pi_ports)\n",
    "print(pi_printout)"
   ]
  },
  {
   "cell_type": "code",
   "execution_count": null,
   "id": "25625376",
   "metadata": {},
   "outputs": [],
   "source": [
    "# run simulation and retrieve final data\n",
    "pi_settings = {\n",
    "    'total_time': 10,\n",
    "    'initial_state': initial_state,\n",
    "    'topology': pi_topology}\n",
    "\n",
    "pi_data = simulate_process(polypeptide_initiation, pi_settings)"
   ]
  },
  {
   "cell_type": "markdown",
   "id": "4e815200",
   "metadata": {},
   "source": [
    "We can observe the 30S ribosomal subunit ('CPLX0-3953[c]') and 50S ribosomal subunit (CPLX0-3962[c]) molecule counts:"
   ]
  },
  {
   "cell_type": "code",
   "execution_count": null,
   "id": "11cc0229",
   "metadata": {},
   "outputs": [],
   "source": [
    "# plot output\n",
    "pi_fig = plot_variables(\n",
    "    pi_data, \n",
    "    variables=[\n",
    "        ('bulk', 'CPLX0-3953[c]'),\n",
    "        ('bulk', 'CPLX0-3962[c]')\n",
    "        ],\n",
    "    column_width=10, row_height=3, row_padding=0.5)\n",
    "\n",
    "pi_fig.savefig('notebooks/pi_fig.png')\n",
    "pi_fig.show()"
   ]
  },
  {
   "cell_type": "markdown",
   "id": "b71ef677",
   "metadata": {},
   "source": [
    "The decrease within the first time step of the simulation demonstrates how active 70S ribosomes are rapidly formed from free 30S and 50S subunits. We can also see how the 30S ribosome subunit (CPLX0-3953[c]) is limiting."
   ]
  },
  {
   "cell_type": "markdown",
   "id": "e2f00f06",
   "metadata": {},
   "source": [
    "## <u>Polypeptide Elongation<u/>\n",
    "    \n",
    "[Polypeptide Elongation Documentation](https://covertlab.github.io/vivarium-ecoli/reference/api/ecoli.processes.polypeptide_elongation.html)"
   ]
  },
  {
   "cell_type": "code",
   "execution_count": 16,
   "id": "48447319",
   "metadata": {},
   "outputs": [],
   "source": [
    "from ecoli.processes.polypeptide_elongation import PolypeptideElongation\n",
    "\n",
    "# load in parameters\n",
    "pe_params = load_sim_data.get_polypeptide_elongation_config()\n",
    "\n",
    "# initialize process and topology\n",
    "polypeptide_elongation = PolypeptideElongation(pe_params)\n",
    "\n",
    "pe_topology = topology_registry.access(polypeptide_elongation.name)"
   ]
  },
  {
   "cell_type": "code",
   "execution_count": null,
   "id": "c1fc450f",
   "metadata": {},
   "outputs": [],
   "source": [
    "# plot topology\n",
    "pe_topology_plot_settings = {\n",
    "    'node_labels': {\n",
    "        'ecoli-polypeptide-elongation': 'ecoli\\npolypeptide\\nelongation',\n",
    "        'uncharged_trna': 'uncharged_\\ntrna',\n",
    "        'uncharged_trna_total': 'uncharged_\\ntrna_total',\n",
    "        'charged_trna_total': 'charged_\\ntrna_total',\n",
    "        'charging_molecules': 'charging_\\nmolecules',\n",
    "        'active_ribosome': 'active_\\nribosome',\n",
    "        'polypeptide_elongation': 'polypeptide\\nelongation',\n",
    "        'ppgpp_reaction_metabolites': 'ppgpp\\nreaction\\nmetabolites',\n",
    "        'chromosome_domains': 'chromosome\\ndomains',\n",
    "        'listeners\\nreplication_data': 'listeners\\nreplication_\\ndata',\n",
    "        'amino_acids_total': 'amino_acids_\\ntotal'\n",
    "    },\n",
    "    'show_ports': False,\n",
    "    'node_size': 17000,\n",
    "    'node_distance': 3.3,\n",
    "    'dashed_edges': True,\n",
    "    'font_size': 17,\n",
    "    'graph_format': 'hierarchy',\n",
    "    'coordinates': {'ecoli-polypeptide-elongation': (7, 1.75)}\n",
    "}\n",
    "\n",
    "pe_topology_fig = plot_topology(polypeptide_elongation, pe_topology_plot_settings)"
   ]
  },
  {
   "cell_type": "code",
   "execution_count": null,
   "id": "c1537cab",
   "metadata": {},
   "outputs": [],
   "source": [
    "# display ports schema\n",
    "pe_ports = polypeptide_elongation.ports_schema()\n",
    "pe_printout = make_port_printout(pe_ports)\n",
    "print(pe_printout)"
   ]
  },
  {
   "cell_type": "code",
   "execution_count": null,
   "id": "8dc6eaea",
   "metadata": {
    "scrolled": false
   },
   "outputs": [],
   "source": [
    "# run simulation and retrieve final data\n",
    "pe_settings = {\n",
    "    'total_time': 10,\n",
    "    'initial_state': initial_state,\n",
    "    'topology': pe_topology}\n",
    "\n",
    "pe_data = simulate_process(polypeptide_elongation, pe_settings)"
   ]
  },
  {
   "cell_type": "markdown",
   "id": "6b6495be",
   "metadata": {},
   "source": [
    "We can see from the cell above that each active ribosome molecule is represented by an ID number. Let's analyze the polypeptide length and the ribosome's position on mRNA of one active ribosome within this process:"
   ]
  },
  {
   "cell_type": "code",
   "execution_count": null,
   "id": "87c5e4d1",
   "metadata": {},
   "outputs": [],
   "source": [
    "# plot output\n",
    "RIBOSOME_ID = '1246839'\n",
    "\n",
    "pe_fig = plot_variables(\n",
    "    pe_data, \n",
    "    variables=[\n",
    "        ('unique', 'active_ribosome', RIBOSOME_ID, 'pos_on_mRNA'),\n",
    "        ('unique', 'active_ribosome', RIBOSOME_ID, 'peptide_length')\n",
    "        ],\n",
    "    column_width=10, row_height=3, row_padding=0.5)"
   ]
  },
  {
   "cell_type": "markdown",
   "id": "9eaac9ea",
   "metadata": {},
   "source": [
    "Here we can see that as the simulation progresses, the ribosome travels along the mRNA strand (as shown by the increasing pos_on_mRNA variable) and polymerization of amino acids into a polypeptide occurs (as shown by the increasing peptide_length variable)."
   ]
  },
  {
   "cell_type": "markdown",
   "id": "2645819b",
   "metadata": {},
   "source": [
    "After elongation terminates, we can see an increase in protein counts:"
   ]
  },
  {
   "cell_type": "code",
   "execution_count": null,
   "id": "acafd1ef",
   "metadata": {},
   "outputs": [],
   "source": [
    "pe_fig1 = plot_variables(\n",
    "    pe_data, \n",
    "    variables=[\n",
    "        ('bulk', '6PGLUCONDEHYDROG-MONOMER[c]')\n",
    "    ],\n",
    "    column_width=10, row_height=3, row_padding=0.5)"
   ]
  },
  {
   "cell_type": "markdown",
   "id": "99cd30fc",
   "metadata": {},
   "source": [
    "## <u>Protein Degradation<u/>\n",
    "    \n",
    "[Polypeptide Degradation Documentation](https://covertlab.github.io/vivarium-ecoli/reference/api/ecoli.processes.protein_degradation.html)"
   ]
  },
  {
   "cell_type": "code",
   "execution_count": 17,
   "id": "287132eb",
   "metadata": {},
   "outputs": [],
   "source": [
    "from ecoli.processes.protein_degradation import ProteinDegradation\n",
    "\n",
    "# load in parameters\n",
    "pd_params = load_sim_data.get_protein_degradation_config()\n",
    "\n",
    "# initialize process and topology\n",
    "protein_degradation = ProteinDegradation(pd_params)\n",
    "\n",
    "pd_topology = topology_registry.access(protein_degradation.name)"
   ]
  },
  {
   "cell_type": "code",
   "execution_count": null,
   "id": "66e63b55",
   "metadata": {},
   "outputs": [],
   "source": [
    "# plot topology\n",
    "pd_topology_plot_settings = {\n",
    "    'buffer': 1,\n",
    "    'node_labels': {\n",
    "        'ecoli-protein-degradation': 'ecoli\\nprotein\\ndegradation'\n",
    "    },\n",
    "    'node_distance': 5,\n",
    "    'show_ports': False,\n",
    "    'node_size': 10000,\n",
    "    'dashed_edges': True,\n",
    "    'coordinates': {'ecoli-protein-degradation': (1.5, 0.5)}\n",
    "}\n",
    "\n",
    "pd_topology_fig = plot_topology(protein_degradation, pd_topology_plot_settings)"
   ]
  },
  {
   "cell_type": "code",
   "execution_count": null,
   "id": "95a88cad",
   "metadata": {},
   "outputs": [],
   "source": [
    "# display ports schema\n",
    "pd_ports = protein_degradation.ports_schema()\n",
    "pd_printout = make_port_printout(pd_ports)\n",
    "print(pd_printout)"
   ]
  },
  {
   "cell_type": "code",
   "execution_count": null,
   "id": "f3b430b7",
   "metadata": {},
   "outputs": [],
   "source": [
    "# run simulation and retrieve final data\n",
    "pd_settings = {\n",
    "    'total_time': 600,\n",
    "    'initial_state': initial_state,\n",
    "    'topology': pd_topology,\n",
    "    'emit_step': 10}\n",
    "\n",
    "pd_data = simulate_process(protein_degradation, pd_settings)"
   ]
  },
  {
   "cell_type": "markdown",
   "id": "c41e30e8",
   "metadata": {},
   "source": [
    "For protein degradation, let's look at the ARTJ-MONOMER[p] monomer, a protein selected for degradation at this time point, as it degrades into its subcomponents:"
   ]
  },
  {
   "cell_type": "code",
   "execution_count": null,
   "id": "4effdd59",
   "metadata": {},
   "outputs": [],
   "source": [
    "# plot output\n",
    "pd_fig = plot_variables(\n",
    "    pd_data, \n",
    "    variables=[\n",
    "        ('bulk', 'ARTJ-MONOMER[p]'),\n",
    "        ('bulk', 'ASN[c]'),\n",
    "        ('bulk', 'WATER[c]')\n",
    "        ],\n",
    "    column_width=10, row_height=3, row_padding=0.5)"
   ]
  },
  {
   "cell_type": "markdown",
   "id": "bf05accd",
   "metadata": {},
   "source": [
    "We can see here that as the ARTJ-MONOMER[p] protein degrades, the count for the amino acid asparagine increases and water is consumed."
   ]
  },
  {
   "cell_type": "markdown",
   "id": "3e497905",
   "metadata": {},
   "source": [
    "## <u>RNA Degradation<u/>\n",
    "    \n",
    "[RNA Degradation Documentation](https://covertlab.github.io/vivarium-ecoli/reference/api/ecoli.processes.rna_degradation.html)"
   ]
  },
  {
   "cell_type": "code",
   "execution_count": null,
   "id": "ec1c9c47",
   "metadata": {},
   "outputs": [],
   "source": [
    "from ecoli.processes.rna_degradation import RnaDegradation\n",
    "\n",
    "# load in parameters\n",
    "rd_params = load_sim_data.get_rna_degradation_config()\n",
    "\n",
    "# initialize process and topology\n",
    "rna_degradation = RnaDegradation(rd_params)\n",
    "\n",
    "rd_topology = topology_registry.access(rna_degradation.name)"
   ]
  },
  {
   "cell_type": "code",
   "execution_count": null,
   "id": "e667bd28",
   "metadata": {},
   "outputs": [],
   "source": [
    "# plot topology\n",
    "rd_topology_plot_settings = {\n",
    "    'node_labels': {\n",
    "        'ecoli-rna-degradation': 'ecoli\\nrna\\ndegradation',\n",
    "        'fragmentMetabolites': 'fragment\\nMetabolites',\n",
    "        'listeners\\nrna_degradation_listener': '\\nlisteners\\nrna_\\ndegradation_\\nlistener',\n",
    "        'active_ribosome': 'active_\\nribosome'\n",
    "    },\n",
    "    'show_ports': False,\n",
    "    'node_size': 17000,\n",
    "    'node_distance': 3.3,\n",
    "    'dashed_edges': True,\n",
    "    'font_size': 17,\n",
    "    'graph_format': 'hierarchy',\n",
    "    'coordinates': {'ecoli-rna-degradation': (7, 1.75)}\n",
    "}\n",
    "\n",
    "rd_topology_fig = plot_topology(rna_degradation, rd_topology_plot_settings)"
   ]
  },
  {
   "cell_type": "code",
   "execution_count": null,
   "id": "341ef081",
   "metadata": {},
   "outputs": [],
   "source": [
    "# display ports schema\n",
    "rd_ports = rna_degradation.ports_schema()\n",
    "rd_printout = make_port_printout(rd_ports)\n",
    "print(rd_printout)"
   ]
  },
  {
   "cell_type": "code",
   "execution_count": null,
   "id": "a21532f0",
   "metadata": {},
   "outputs": [],
   "source": [
    "# run simulation and retrieve final data\n",
    "rd_settings = {\n",
    "    'total_time': 100,\n",
    "    'initial_state': initial_state,\n",
    "    'topology': rd_topology}\n",
    "\n",
    "rd_data = simulate_process(rna_degradation, rd_settings)"
   ]
  },
  {
   "cell_type": "markdown",
   "id": "39715194",
   "metadata": {},
   "source": [
    "For RNA degradation, let's look at a few RNA molecules as the simulation runs:"
   ]
  },
  {
   "cell_type": "code",
   "execution_count": null,
   "id": "9c8c4943",
   "metadata": {},
   "outputs": [],
   "source": [
    "# plot output\n",
    "rd_fig = plot_variables(\n",
    "    rd_data, \n",
    "    variables=[\n",
    "        ('bulk', 'RNA0-300[c]'),\n",
    "        ('bulk', 'RNA0-301[c]'),\n",
    "        ('bulk', 'WATER[c]')\n",
    "        ],\n",
    "    column_width=10, row_height=3, row_padding=0.5)"
   ]
  },
  {
   "cell_type": "markdown",
   "id": "270fdf93",
   "metadata": {},
   "source": [
    "RNAs are selected and degraded by endoRNases, and non-functional RNA fragments are digested through exoRNases. During the process water is consumed, and nucleotides, pyrophosphate and protons are released."
   ]
  },
  {
   "cell_type": "markdown",
   "id": "ea173c10",
   "metadata": {},
   "source": [
    "## <u>Two Component System<u/>\n",
    "    \n",
    "[Two Component System Documentation](https://covertlab.github.io/vivarium-ecoli/reference/api/ecoli.processes.two_component_system.html)"
   ]
  },
  {
   "cell_type": "code",
   "execution_count": null,
   "id": "604cf5e7",
   "metadata": {},
   "outputs": [],
   "source": [
    "from ecoli.processes.two_component_system import TwoComponentSystem\n",
    "\n",
    "# load in parameters\n",
    "tcs_params = load_sim_data.get_two_component_system_config()\n",
    "    \n",
    "# initialize process and topology\n",
    "two_component_system = TwoComponentSystem(tcs_params)\n",
    "\n",
    "tcs_topology = topology_registry.access(two_component_system.name)"
   ]
  },
  {
   "cell_type": "code",
   "execution_count": null,
   "id": "7cbdb75c",
   "metadata": {},
   "outputs": [],
   "source": [
    "# plot topology\n",
    "tcs_topology_plot_settings = {\n",
    "    'node_labels': {\n",
    "        'ecoli-two-component-system': 'ecoli two\\ncomponent\\nsystem'\n",
    "    },\n",
    "    'show_ports': False,\n",
    "    'node_size': 16000,\n",
    "    'node_distance': 5.0,\n",
    "    'dashed_edges': True,\n",
    "    'font_size': 18,\n",
    "    'graph_format': 'hierarchy',\n",
    "    'coordinates': {'ecoli-two-component-system': (1.35, 1)}\n",
    "}\n",
    "\n",
    "tcs_topology_fig = plot_topology(two_component_system, tcs_topology_plot_settings)"
   ]
  },
  {
   "cell_type": "code",
   "execution_count": null,
   "id": "407cbe37",
   "metadata": {},
   "outputs": [],
   "source": [
    "# display ports schema\n",
    "tcs_ports = two_component_system.ports_schema()\n",
    "tcs_printout = make_port_printout(tcs_ports)\n",
    "print(tcs_printout)"
   ]
  },
  {
   "cell_type": "code",
   "execution_count": null,
   "id": "a6610a47",
   "metadata": {},
   "outputs": [],
   "source": [
    "# tweak initial state??\n",
    "tcs_initial_state = copy.deepcopy(initial_state)\n",
    "\n",
    "# run simulation and retrieve final data\n",
    "tcs_settings = {\n",
    "    'total_time': 10,\n",
    "    'initial_state': initial_state,\n",
    "    'topology': tcs_topology}\n",
    "\n",
    "tcs_data = simulate_process(two_component_system, tcs_settings)"
   ]
  },
  {
   "cell_type": "code",
   "execution_count": null,
   "id": "dc71192c",
   "metadata": {},
   "outputs": [],
   "source": [
    "tcs_data"
   ]
  },
  {
   "cell_type": "markdown",
   "id": "f048070a",
   "metadata": {},
   "source": [
    "Phosphate groups are transferred from histidine kinases to response regulators and back in response to counts of ligand stimulants"
   ]
  },
  {
   "cell_type": "code",
   "execution_count": null,
   "id": "21c623f1",
   "metadata": {},
   "outputs": [],
   "source": [
    "# # plot output\n",
    "# tcs_fig = plot_variables(\n",
    "#     tcs_data, \n",
    "#     variables=[\n",
    "#         ],\n",
    "#     column_width=10, row_height=3, row_padding=0.5)"
   ]
  },
  {
   "cell_type": "markdown",
   "id": "c8400e13",
   "metadata": {},
   "source": [
    "## <u>Equilibrium<u/>\n",
    "    \n",
    "[Equilibrium Documentation](https://covertlab.github.io/vivarium-ecoli/reference/api/ecoli.processes.equilibrium.html)"
   ]
  },
  {
   "cell_type": "code",
   "execution_count": null,
   "id": "4f007a3f",
   "metadata": {},
   "outputs": [],
   "source": [
    "from ecoli.processes.equilibrium import Equilibrium\n",
    "\n",
    "# load in parameters\n",
    "eq_params = load_sim_data.get_equilibrium_config()\n",
    "\n",
    "# initialize process and topology\n",
    "equilibrium = Equilibrium(eq_params)\n",
    "\n",
    "eq_topology = topology_registry.access(equilibrium.name)"
   ]
  },
  {
   "cell_type": "code",
   "execution_count": null,
   "id": "5a430726",
   "metadata": {},
   "outputs": [],
   "source": [
    "# plot topology\n",
    "eq_topology_plot_settings = {\n",
    "    'node_labels': {\n",
    "        'ecoli-equilibrium': 'ecoli\\nequilibrium',\n",
    "        'listeners\\nequilibrium_listener': '\\nlisteners\\nequilibrium\\nlistener'\n",
    "    },\n",
    "    'show_ports': False,\n",
    "    'node_size': 14000,\n",
    "    'node_distance': 5.0,\n",
    "    'dashed_edges': True,\n",
    "    'font_size': 18,\n",
    "    'graph_format': 'hierarchy',\n",
    "    'coordinates': {'ecoli-equilibrium': (1.5, 1.25)}\n",
    "}\n",
    "\n",
    "eq_topology_fig = plot_topology(equilibrium, eq_topology_plot_settings)"
   ]
  },
  {
   "cell_type": "code",
   "execution_count": null,
   "id": "f86a7fea",
   "metadata": {},
   "outputs": [],
   "source": [
    "# display ports schema\n",
    "eq_ports = equilibrium.ports_schema()\n",
    "eq_printout = make_port_printout(eq_ports)\n",
    "print(eq_printout)"
   ]
  },
  {
   "cell_type": "code",
   "execution_count": null,
   "id": "6d15b76b",
   "metadata": {},
   "outputs": [],
   "source": [
    "# run simulation and retrieve final data\n",
    "eq_settings = {\n",
    "    'total_time': 10,\n",
    "    'initial_state': initial_state,\n",
    "    'topology': eq_topology}\n",
    "\n",
    "eq_data = simulate_process(equilibrium, eq_settings)"
   ]
  },
  {
   "cell_type": "code",
   "execution_count": null,
   "id": "099c53c7",
   "metadata": {},
   "outputs": [],
   "source": [
    "# # plot output\n",
    "# eq_fig = plot_variables(\n",
    "#     eq_data, \n",
    "#     variables=[\n",
    "#         ],\n",
    "#     column_width=10, row_height=3, row_padding=0.5)"
   ]
  },
  {
   "cell_type": "markdown",
   "id": "29070365",
   "metadata": {},
   "source": [
    "## <u>Metabolism<u/>\n",
    "\n",
    "[Metabolism Documentation](https://covertlab.github.io/vivarium-ecoli/reference/api/ecoli.processes.metabolism.html)"
   ]
  },
  {
   "cell_type": "code",
   "execution_count": null,
   "id": "bb0ae1d0",
   "metadata": {},
   "outputs": [],
   "source": [
    "from ecoli.processes.metabolism import Metabolism\n",
    "\n",
    "\n",
    "load_sim_data.sim_data.process.metabolism"
   ]
  },
  {
   "cell_type": "code",
   "execution_count": null,
   "id": "c4ca88f3",
   "metadata": {},
   "outputs": [],
   "source": [
    "load_sim_data.sim_data.process.metabolism.linked_metabolites"
   ]
  },
  {
   "cell_type": "code",
   "execution_count": null,
   "id": "0c365538",
   "metadata": {},
   "outputs": [],
   "source": [
    "# load in parameters\n",
    "meta_params = load_sim_data.get_metabolism_config()\n",
    "\n",
    "# from vivarium.core.engine import pf\n",
    "# print(pf(meta_params))\n",
    "\n",
    "# initialize process and topology\n",
    "metabolism = Metabolism(meta_params)\n",
    "\n",
    "# meta_topology = topology_registry.access(metabolism.name)"
   ]
  },
  {
   "cell_type": "code",
   "execution_count": null,
   "id": "b2c345c6",
   "metadata": {},
   "outputs": [],
   "source": [
    "# plot topology\n",
    "meta_topology_plot_settings = {\n",
    "    'node_labels': {\n",
    "        'ecoli-metabolism': 'ecoli\\nmetabolism',\n",
    "        'kinetics_enzymes': 'kinetics\\nenzymes',\n",
    "        'kinetics_substrates': 'kinetics\\nsubstrates',\n",
    "        'environment\\nexchange_data': '\\nenvironment\\nexchange_\\ndata',\n",
    "        'listeners\\nenzyme_kinetics': '\\nlisteners\\nenzyme_\\nkinetics',\n",
    "        'polypeptide_elongation': 'polypeptide_\\nelongation'\n",
    "    },\n",
    "    'show_ports': False,\n",
    "    'node_size': 15000,\n",
    "    'node_distance': 3.2,\n",
    "    'dashed_edges': True,\n",
    "    'font_size': 17,\n",
    "    'graph_format': 'hierarchy',\n",
    "    'coordinates': {'ecoli-metabolism': (4.5, 2)}\n",
    "}\n",
    "\n",
    "meta_topology_fig = plot_topology(metabolism, meta_topology_plot_settings)"
   ]
  },
  {
   "cell_type": "code",
   "execution_count": null,
   "id": "d478aa56",
   "metadata": {},
   "outputs": [],
   "source": [
    "# display ports schema\n",
    "meta_ports = metabolism.ports_schema()\n",
    "meta_printout = make_port_printout(meta_ports)\n",
    "print(meta_printout)"
   ]
  },
  {
   "cell_type": "code",
   "execution_count": null,
   "id": "ac9a27ea",
   "metadata": {},
   "outputs": [],
   "source": [
    "# run simulation and retrieve final data\n",
    "meta_settings = {\n",
    "    'total_time': 10,\n",
    "    'initial_state': initial_state,\n",
    "    'topology': meta_topology}\n",
    "\n",
    "meta_data = simulate_process(metabolism, meta_settings)"
   ]
  },
  {
   "cell_type": "code",
   "execution_count": null,
   "id": "fffb733b",
   "metadata": {},
   "outputs": [],
   "source": [
    "reaction_fluxes = meta_data['listeners']['fba_results']['reactionFluxes']\n",
    "del reaction_fluxes[0]"
   ]
  },
  {
   "cell_type": "code",
   "execution_count": null,
   "id": "d909cb06",
   "metadata": {},
   "outputs": [],
   "source": [
    "# generate time series\n",
    "reaction_fluxes_time_series = {}\n",
    "\n",
    "for fluxes in reaction_fluxes:\n",
    "    for reaction_id, flux in enumerate(fluxes):\n",
    "        if reaction_id not in reaction_fluxes_time_series:\n",
    "            reaction_fluxes_time_series[reaction_id] = []\n",
    "        reaction_fluxes_time_series[reaction_id].append(flux)"
   ]
  },
  {
   "cell_type": "code",
   "execution_count": null,
   "id": "fb10c29e",
   "metadata": {},
   "outputs": [],
   "source": [
    "# plot figure\n",
    "import matplotlib.pyplot as plt\n",
    "\n",
    "fig = plt.figure()\n",
    "\n",
    "for reaction_id, time_series in reaction_fluxes_time_series.items():\n",
    "    plt.plot(time_series)\n",
    "    \n",
    "plt.title('Reaction Fluxes')"
   ]
  }
 ],
 "metadata": {
  "kernelspec": {
   "display_name": "Python 3 (ipykernel)",
   "language": "python",
   "name": "python3"
  },
  "language_info": {
   "codemirror_mode": {
    "name": "ipython",
    "version": 3
   },
   "file_extension": ".py",
   "mimetype": "text/x-python",
   "name": "python",
   "nbconvert_exporter": "python",
   "pygments_lexer": "ipython3",
   "version": "3.8.3"
  },
  "toc": {
   "base_numbering": 1,
   "nav_menu": {},
   "number_sections": false,
   "sideBar": true,
   "skip_h1_title": false,
   "title_cell": "Table of Contents",
   "title_sidebar": "Contents",
   "toc_cell": false,
   "toc_position": {
    "height": "414px",
    "left": "45px",
    "top": "131px",
    "width": "258.32720947265625px"
   },
   "toc_section_display": true,
   "toc_window_display": true
  },
  "toc-autonumbering": false,
  "toc-showcode": false,
  "toc-showmarkdowntxt": false,
  "toc-showtags": false
 },
 "nbformat": 4,
 "nbformat_minor": 5
}
