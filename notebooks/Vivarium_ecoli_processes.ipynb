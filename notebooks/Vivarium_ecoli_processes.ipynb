{
 "cells": [
  {
   "cell_type": "markdown",
   "id": "1544c3d5",
   "metadata": {},
   "source": [
    "<u>**General Notebook TODO's:**</u>\n",
    "- Figure out how to fix the paths, so that we can delete unnecessary code block\n",
    "- Document each process better in the vivarium ecoli process Docstrings (it will automatically update in the jupyter notebook)\n",
    "- Analyze unique molecules and create plots\n",
    "\n",
    "<u>**Abhi TODO's:**</u>\n",
    "- Finish up processes and make PR\n",
    "    1. standardize doc strings in vivarium processes (pycharm)\n",
    "    2. fix topology plots for each process\n",
    "    3. make sure to check what field of data variable you are printing\n",
    "    4. Add text (helps people read the jupyter notebook)\n",
    "    5. Select a few molecules\n",
    "    6. Plot all molecules globally\n",
    "    7. Fix order of processes (most interesting process first!)\n",
    "    \n",
    "- Change all topologies to load from registry\n",
    "- Combine and run master and submit 2nd PR\n",
    "\n",
    "<u>**Questions:**</u>\n",
    "1. Which molecules to plot/present for each TF Binding, Chromosome Replication?\n",
    "\n",
    "<u>**Miscellaneous notes/ideas:**</u>\n",
    "- interactive widgets (plotly) - users can click boxes to choose which ones to plot"
   ]
  },
  {
   "cell_type": "code",
   "execution_count": 1,
   "id": "6f2edeff",
   "metadata": {},
   "outputs": [
    {
     "name": "stdout",
     "output_type": "stream",
     "text": [
      "/Users/abhinavkumar/code/vivarium-ecoli/\n"
     ]
    },
    {
     "data": {
      "text/plain": [
       "'/Users/abhinavkumar/code/vivarium-ecoli'"
      ]
     },
     "execution_count": 1,
     "metadata": {},
     "output_type": "execute_result"
    }
   ],
   "source": [
    "# ONLY RUN THIS CELL ONCE!!\n",
    "# TODO: Fix this\n",
    "\n",
    "# Make sure this is running out of vivarium-ecoli directory\n",
    "import sys, os\n",
    "\n",
    "#sys.path[0] += '/..'\n",
    "\n",
    "sys.path[0] = sys.path[0][:sys.path[0].index('notebooks')]\n",
    "\n",
    "# display system path\n",
    "print(sys.path[0])\n",
    "\n",
    "# change working directory\n",
    "os.chdir('../')\n",
    "os.getcwd()"
   ]
  },
  {
   "cell_type": "code",
   "execution_count": 2,
   "id": "c5232f9e",
   "metadata": {},
   "outputs": [],
   "source": [
    "from vivarium.core.store import Store\n",
    "schema_keys = Store.schema_keys\n",
    "\n",
    "# Helper functions\n",
    "def make_port_printout(ports_schema, depth=0, schema_show=5, filler_size=5):\n",
    "    print_dict = ''\n",
    "    filler = filler_size * ' '\n",
    "    for port, schema in ports_schema.items():\n",
    "        if isinstance(schema, dict):\n",
    "            schemavars = list(schema.keys())\n",
    "            if any(var in schemavars for var in schema_keys):\n",
    "                print_schema = ''\n",
    "                for k, v in schema.items():\n",
    "                    print_schema += f'{(depth+1) * filler} {k}: {v}\\n'\n",
    "                print_dict += f'{depth * filler}{port}:\\n{print_schema}\\n'\n",
    "            else:\n",
    "                schema_items = schema.items()\n",
    "                first_schema = dict(list(schema_items)[:schema_show])\n",
    "                next_print = make_port_printout(first_schema, depth+1)\n",
    "                print_dict += f'{port}:\\n{next_print}\\n'\n",
    "                if len(schema) > schema_show:\n",
    "                    print_dict += f'{(depth+1) * filler}'\n",
    "                    print_dict += f'... skipping {len(schema)-schema_show} schema entries ...'\n",
    "                    print_dict += f'\\n\\n'\n",
    "        else:\n",
    "            print_dict += f'{filler}{schema}\\n'\n",
    "    return print_dict\n",
    "\n",
    "def find_increasing(d):\n",
    "    for key, value in d.items():\n",
    "        if value[-1] > value[0]:\n",
    "            return {key: value}\n",
    "    \n",
    "def find_decreasing(d):\n",
    "    for key, value in d.items():\n",
    "        if value[-1] < value[0]:\n",
    "            return {key: value}"
   ]
  },
  {
   "cell_type": "code",
   "execution_count": 3,
   "id": "b5f285c7",
   "metadata": {},
   "outputs": [],
   "source": [
    "# The notebook officially starts here!!"
   ]
  },
  {
   "cell_type": "markdown",
   "id": "93acb2a9",
   "metadata": {},
   "source": [
    "# <u>**Vivarium E. coli**<u/>\n",
    "\n",
    "This notebook demonstrates features of the processes in the Vivarium E. coli model. First, we show distinct features of how the processes work individually. Then we combine the processes in our simulation to demonstrate how they work together. Finally, we run the entire model."
   ]
  },
  {
   "cell_type": "code",
   "execution_count": 2,
   "id": "29f89094",
   "metadata": {},
   "outputs": [],
   "source": [
    "from vivarium.core.process import Process\n",
    "from vivarium.core.store import Store\n",
    "from vivarium.core.engine import pp #, Engine\n",
    "from vivarium.core.composition import simulate_process, simulate_composite\n",
    "from vivarium.plots.topology import plot_topology\n",
    "from vivarium.plots.simulation_output import plot_variables\n",
    "from ecoli.processes.registries import topology_registry\n",
    "import ecoli\n",
    "import copy"
   ]
  },
  {
   "cell_type": "markdown",
   "id": "fcb76a48",
   "metadata": {
    "tags": []
   },
   "source": [
    "# **1. Load the required components** - MUST DO\n",
    "\n",
    "To run the E. coli model, we need a few things:\n",
    " 1. **sim_data**: the model parameters from wcEcoli.\n",
    " 2. **initial_state**: the initial state of the system -- a snapshot from wcEcoli."
   ]
  },
  {
   "cell_type": "markdown",
   "id": "94bdfda1",
   "metadata": {},
   "source": [
    "## Load sim_data"
   ]
  },
  {
   "cell_type": "code",
   "execution_count": 3,
   "id": "c452dfc6",
   "metadata": {},
   "outputs": [],
   "source": [
    "from ecoli.library.sim_data import LoadSimData\n",
    "\n",
    "SIM_DATA_PATH = 'reconstruction/sim_data/kb/simData.cPickle'\n",
    "\n",
    "load_sim_data = LoadSimData(\n",
    "            sim_data_path=SIM_DATA_PATH,\n",
    "            seed=0)"
   ]
  },
  {
   "cell_type": "markdown",
   "id": "b77bef26",
   "metadata": {},
   "source": [
    "## Get initial state snapshot"
   ]
  },
  {
   "cell_type": "code",
   "execution_count": 4,
   "id": "2c65c1e6",
   "metadata": {},
   "outputs": [],
   "source": [
    "from ecoli.composites.ecoli_master import get_state_from_file\n",
    "\n",
    "INITIAL_STATE_PATH = 'data/wcecoli_t1000.json'\n",
    "\n",
    "initial_state = get_state_from_file(path=INITIAL_STATE_PATH)"
   ]
  },
  {
   "cell_type": "markdown",
   "id": "5f580036",
   "metadata": {},
   "source": [
    "# **2. Simulate Processes Individually**\n",
    "\n",
    "\n",
    "Now we can load in our modular processes individually. For each process, we will:\n",
    "\n",
    "1. Load in the process and parameters\n",
    "2. Plot a **toplogy** diagram \n",
    "    - The topology is a network that demonstrates how a process connects to its stores (which hold state variables).\n",
    "3. Display the **ports schema**\n",
    "     - The port schema defines a systems ports (top-level keys), and the expected behavior of molecules under that port (its *schema*)\n",
    "     - `*` is a wild card, specifies the schema of everything that can go into the port\n",
    "4. Simulate the process\n",
    "5. Demonstrate distinct features of that process"
   ]
  },
  {
   "cell_type": "markdown",
   "id": "9d883ec8",
   "metadata": {},
   "source": [
    "## <u>Complexation<u/>"
   ]
  },
  {
   "cell_type": "code",
   "execution_count": null,
   "id": "bbf55f4b",
   "metadata": {},
   "outputs": [],
   "source": [
    "from ecoli.processes.complexation import Complexation\n",
    "\n",
    "# print documentation from process docstring\n",
    "print(ecoli.processes.complexation.__doc__)"
   ]
  },
  {
   "cell_type": "code",
   "execution_count": null,
   "id": "a0af6e96",
   "metadata": {},
   "outputs": [],
   "source": [
    "# load in parameters\n",
    "cplx_config = load_sim_data.get_complexation_config()\n",
    "\n",
    "# initialize process and topology\n",
    "complexation = Complexation(cplx_config)\n",
    "\n",
    "cplx_topology = topology_registry.access(complexation.name)"
   ]
  },
  {
   "cell_type": "code",
   "execution_count": null,
   "id": "3e3b28e1",
   "metadata": {},
   "outputs": [],
   "source": [
    "# plot topology\n",
    "cplx_topology_plot_settings = {\n",
    "    'buffer': 1,\n",
    "    'node_labels': {\n",
    "        'ecoli-complexation': 'ecoli\\ncomplexation'\n",
    "    },\n",
    "    'show_ports': False,\n",
    "    'node_size': 10000,\n",
    "    'dashed_edges': True\n",
    "}\n",
    "\n",
    "cplx_topology_fig = plot_topology(complexation, cplx_topology_plot_settings)"
   ]
  },
  {
   "cell_type": "code",
   "execution_count": null,
   "id": "153575c5",
   "metadata": {
    "scrolled": true
   },
   "outputs": [],
   "source": [
    "# display ports schema\n",
    "cplx_ports = complexation.ports_schema()\n",
    "cplx_printout = make_port_printout(cplx_ports)\n",
    "print(cplx_printout)"
   ]
  },
  {
   "cell_type": "code",
   "execution_count": null,
   "id": "bb7fa9bf",
   "metadata": {},
   "outputs": [],
   "source": [
    "# tweak initial state\n",
    "cplx_initial_state = copy.deepcopy(initial_state)\n",
    "cplx_initial_state['bulk']['1-PFK-MONOMER[c]'] = 100\n",
    "\n",
    "# run simulation and retrieve final data\n",
    "cplx_settings = {\n",
    "    'total_time': 10,\n",
    "    'initial_state': cplx_initial_state,\n",
    "    'topology': cplx_topology}\n",
    "\n",
    "cplx_data = simulate_process(complexation, cplx_settings)\n",
    "\n",
    "print('\\nsimulation output:')\n",
    "pp(cplx_data['bulk'])"
   ]
  },
  {
   "cell_type": "markdown",
   "id": "eac26bf1",
   "metadata": {},
   "source": [
    "For complexation, let's look at the 1-PFK-MONOMER monomer as it transitions to the 1-PFK complex:"
   ]
  },
  {
   "cell_type": "code",
   "execution_count": null,
   "id": "c2bd0fd9",
   "metadata": {},
   "outputs": [],
   "source": [
    "# plot output\n",
    "cplx_fig = plot_variables(\n",
    "    cplx_data, \n",
    "    variables=[\n",
    "        ('bulk', '1-PFK-MONOMER[c]'), \n",
    "        ('bulk', '1-PFK[c]'), \n",
    "    ],\n",
    "    column_width=10, row_height=3, row_padding=0.5)"
   ]
  },
  {
   "cell_type": "markdown",
   "id": "fbccfdb4",
   "metadata": {},
   "source": [
    "Here we see 1-PFK-MONOMER getting complexed. This a relatively fast process and consumes all the monomers in a single time step."
   ]
  },
  {
   "cell_type": "markdown",
   "id": "3def8461",
   "metadata": {},
   "source": [
    "## <u>Transcript Initiation<u/>"
   ]
  },
  {
   "cell_type": "code",
   "execution_count": null,
   "id": "95dbf8b9",
   "metadata": {},
   "outputs": [],
   "source": [
    "from ecoli.processes.transcript_initiation import TranscriptInitiation\n",
    "\n",
    "# print documentation from process docstring\n",
    "print(ecoli.processes.transcript_initiation.__doc__)"
   ]
  },
  {
   "cell_type": "code",
   "execution_count": null,
   "id": "cf0a6061",
   "metadata": {},
   "outputs": [],
   "source": [
    "# load in parameters\n",
    "ti_params = load_sim_data.get_transcript_initiation_config()\n",
    "\n",
    "# initialize process and topology\n",
    "transcript_initiation = TranscriptInitiation(ti_params)\n",
    "\n",
    "ti_topology = {\n",
    "    'environment': ('environment',),\n",
    "    'full_chromosomes': ('unique', 'full_chromosome'),\n",
    "    'RNAs': ('unique', 'RNA'),\n",
    "    'active_RNAPs': ('unique', 'active_RNAP'),\n",
    "    'promoters': ('unique', 'promoter'),\n",
    "    'molecules': ('bulk',),\n",
    "    'listeners': ('listeners',)\n",
    "}"
   ]
  },
  {
   "cell_type": "code",
   "execution_count": null,
   "id": "15f537ec",
   "metadata": {},
   "outputs": [],
   "source": [
    "# plot topology\n",
    "ti_topology_plot_settings = {\n",
    "    'node_labels': {\n",
    "        'ecoli-transcript-initiation': 'ecoli\\ntranscript\\ninitiation',\n",
    "        'full_chromosomes': 'full\\nchromosomes',\n",
    "        'listeners\\nrna_synth_prob': 'listeners\\nrna_synth_\\nprob',\n",
    "        'listeners\\nribosome_data': 'listeners\\nribosome_\\ndata',\n",
    "    },\n",
    "    'show_ports': False,\n",
    "    'node_size': 17000,\n",
    "    'node_distance': 3.3,\n",
    "    'dashed_edges': True,\n",
    "    'font_size': 18,\n",
    "    'graph_format': 'hierarchy',\n",
    "    'coordinates': {'ecoli-transcript-initiation': (4, 2)}\n",
    "}\n",
    "\n",
    "ti_topology_fig = plot_topology(transcript_initiation, ti_topology_plot_settings)"
   ]
  },
  {
   "cell_type": "code",
   "execution_count": null,
   "id": "d9bbb45f",
   "metadata": {},
   "outputs": [],
   "source": [
    "# display ports schema\n",
    "ti_ports = transcript_initiation.ports_schema()\n",
    "ti_printout = make_port_printout(ti_ports)\n",
    "print(ti_printout)"
   ]
  },
  {
   "cell_type": "code",
   "execution_count": null,
   "id": "b1c3e2e9",
   "metadata": {},
   "outputs": [],
   "source": [
    "# run simulation and retrieve final data\n",
    "ti_settings = {\n",
    "    'total_time': 10,\n",
    "    'initial_state': initial_state,\n",
    "    'topology': ti_topology}\n",
    "\n",
    "ti_data = simulate_process(transcript_initiation, ti_settings)\n",
    "\n",
    "print('\\nsimulation output:')\n",
    "pp(ti_data['unique']['active_RNAP'])"
   ]
  },
  {
   "cell_type": "markdown",
   "id": "4a03b6f6",
   "metadata": {},
   "source": [
    "For Transcript Initiation, we can see from the cell above that each active RNA polymerase molecule is represented by an ID number. Let's analyze how one of these active RNA polymerase molecules functions within this process:"
   ]
  },
  {
   "cell_type": "code",
   "execution_count": null,
   "id": "8b6fa818",
   "metadata": {},
   "outputs": [],
   "source": [
    "# plot output\n",
    "\n",
    "RNAP_ID = list(ti_data['unique']['active_RNAP'].keys())[0] \n",
    "\n",
    "ti_fig = plot_variables(\n",
    "    ti_data, \n",
    "    variables=[\n",
    "        ('unique', 'active_RNAP', RNAP_ID, 'coordinates'),\n",
    "        ('bulk', 'APORNAP-CPLX[c]')\n",
    "        ],\n",
    "    column_width=10, row_height=3, row_padding=0.5)"
   ]
  },
  {
   "cell_type": "markdown",
   "id": "d061e92f",
   "metadata": {},
   "source": [
    "Here we can see that the coordinates for one RNA polymerase molecule is initialized at time=0 and remains the same throughout the simulation as elongation is not a function of this process. Additionally, we can see that the RNA polymerase molecules (given by APORNAP-CPLX[c]) are getting deleted from the bulk molecules count as they bind to the DNA sequence and are initialized for transcription."
   ]
  },
  {
   "cell_type": "markdown",
   "id": "43620a83",
   "metadata": {},
   "source": [
    "## <u>Transcript Elongation<u/>"
   ]
  },
  {
   "cell_type": "code",
   "execution_count": null,
   "id": "afdddef5",
   "metadata": {},
   "outputs": [],
   "source": [
    "from ecoli.processes.transcript_elongation import TranscriptElongation\n",
    "\n",
    "# print documentation from process docstring\n",
    "print(ecoli.processes.transcript_elongation.__doc__)"
   ]
  },
  {
   "cell_type": "code",
   "execution_count": null,
   "id": "3b4ad97a",
   "metadata": {},
   "outputs": [],
   "source": [
    "# load in parameters\n",
    "te_params = load_sim_data.get_transcript_elongation_config()\n",
    "\n",
    "# initialize process and topology\n",
    "transcript_elongation = TranscriptElongation(te_params)\n",
    "\n",
    "te_topology = {\n",
    "    'environment': ('environment',),\n",
    "    'RNAs': ('unique', 'RNA'),\n",
    "    'active_RNAPs': ('unique', 'active_RNAP'),\n",
    "    'molecules': ('bulk',),\n",
    "    'bulk_RNAs': ('bulk',),\n",
    "    'ntps': ('bulk',),\n",
    "    'listeners': ('listeners',)\n",
    "}"
   ]
  },
  {
   "cell_type": "code",
   "execution_count": null,
   "id": "cef90f90",
   "metadata": {},
   "outputs": [],
   "source": [
    "# plot topology\n",
    "te_topology_plot_settings = {\n",
    "    'node_labels': {\n",
    "        'ecoli-transcript-elongation': 'ecoli\\ntranscript\\nelongation',\n",
    "        'listeners\\ntranscript_elongation_listener': '\\nlisteners\\ntranscript_\\nelongation_\\nlistener'\n",
    "    },\n",
    "    'show_ports': False,\n",
    "    'node_size': 17000,\n",
    "    'node_distance': 3.3,\n",
    "    'dashed_edges': True,\n",
    "    'font_size': 18,\n",
    "    'graph_format': 'hierarchy',\n",
    "    'coordinates': {'ecoli-transcript-elongation': (4, 2)}\n",
    "}\n",
    "\n",
    "te_topology_fig = plot_topology(transcript_elongation, te_topology_plot_settings)"
   ]
  },
  {
   "cell_type": "code",
   "execution_count": null,
   "id": "5ce03ea8",
   "metadata": {},
   "outputs": [],
   "source": [
    "# display ports schema\n",
    "te_ports = transcript_elongation.ports_schema()\n",
    "te_printout = make_port_printout(te_ports)\n",
    "print(te_printout)"
   ]
  },
  {
   "cell_type": "code",
   "execution_count": null,
   "id": "9088406b",
   "metadata": {},
   "outputs": [],
   "source": [
    "# run simulation and retrieve final data\n",
    "te_settings = {\n",
    "    'total_time': 10,\n",
    "    'initial_state': initial_state,\n",
    "    'topology': te_topology}\n",
    "\n",
    "te_data = simulate_process(transcript_elongation, te_settings)\n",
    "\n",
    "print('\\nsimulation output:')\n",
    "pp(te_data['unique']['active_RNAP'])"
   ]
  },
  {
   "cell_type": "markdown",
   "id": "d7b8e6cd",
   "metadata": {},
   "source": [
    "For Transcript Elongation, we can see from the cell above that each active RNA Polymerase molecule is represented by an ID number. Let's analyze how a few of these active RNA Polymerase molecules function within this process:"
   ]
  },
  {
   "cell_type": "code",
   "execution_count": null,
   "id": "9d272a5c",
   "metadata": {},
   "outputs": [],
   "source": [
    "# plot output\n",
    "te_fig = plot_variables(\n",
    "    te_data, \n",
    "    variables=[\n",
    "        ('unique', 'active_RNAP', '1266660', 'coordinates'),\n",
    "        ('unique', 'active_RNAP', '1293463', 'coordinates'),\n",
    "        ('unique', 'active_RNAP', '1293466', 'coordinates')\n",
    "        ],\n",
    "    column_width=10, row_height=3, row_padding=0.5)"
   ]
  },
  {
   "cell_type": "markdown",
   "id": "b1f9fbcd",
   "metadata": {},
   "source": [
    "Here we can see that the coordinates for these RNA Polymerase molecules are initialized at time=0 but change throughout the simulation. Some polymerase coordinates incease, indicating elongation in one direction, and others decrease, indicating elongation in the opposite direction along the DNA sequence. \n",
    "\n",
    "Funadamentally, these changes represent the process of polymerization: as the RNA polymerase molecules travel across the DNA, RNA molecucles are assembled."
   ]
  },
  {
   "cell_type": "markdown",
   "id": "3552d270",
   "metadata": {},
   "source": [
    "## <u>TF Binding<u/>"
   ]
  },
  {
   "cell_type": "code",
   "execution_count": null,
   "id": "ca15c357",
   "metadata": {},
   "outputs": [],
   "source": [
    "from ecoli.processes.tf_binding import TfBinding\n",
    "\n",
    "# print documentation from process docstring\n",
    "print(ecoli.processes.tf_binding.__doc__)"
   ]
  },
  {
   "cell_type": "code",
   "execution_count": null,
   "id": "3e4f1d30",
   "metadata": {},
   "outputs": [],
   "source": [
    "# load in parameters\n",
    "tfb_params = load_sim_data.get_tf_config()\n",
    "\n",
    "# initialize process and topology\n",
    "tf_binding = TfBinding(tfb_params)\n",
    "\n",
    "tfb_topology = {\n",
    "    'promoters': ('unique', 'promoter'),\n",
    "    'active_tfs': ('bulk',),\n",
    "    'inactive_tfs': ('bulk',),\n",
    "    'listeners': ('listeners',)\n",
    "}"
   ]
  },
  {
   "cell_type": "code",
   "execution_count": null,
   "id": "1abc08ad",
   "metadata": {},
   "outputs": [],
   "source": [
    "# plot topology\n",
    "tfb_topology_plot_settings = {\n",
    "    'node_labels': {\n",
    "        'ecoli-tf-binding': 'ecoli\\ntf binding',\n",
    "        'listeners\\nrna_synth_prob': 'listeners\\nrna_synth_\\nprob',\n",
    "    },\n",
    "    'show_ports': False,\n",
    "    'node_size': 16000,\n",
    "    'node_distance': 3.5,\n",
    "    'dashed_edges': True,\n",
    "    'font_size': 18,\n",
    "    'graph_format': 'hierarchy',\n",
    "    'coordinates': {'ecoli-tf-binding': (2, 2)}\n",
    "}\n",
    "\n",
    "tfb_topology_fig = plot_topology(tf_binding, tfb_topology_plot_settings)"
   ]
  },
  {
   "cell_type": "code",
   "execution_count": null,
   "id": "ab332da6",
   "metadata": {},
   "outputs": [],
   "source": [
    "# display ports schema\n",
    "tfb_ports = tf_binding.ports_schema()\n",
    "tfb_printout = make_port_printout(tfb_ports)\n",
    "print(tfb_printout)"
   ]
  },
  {
   "cell_type": "code",
   "execution_count": null,
   "id": "7aa2f21f",
   "metadata": {},
   "outputs": [],
   "source": [
    "# run simulation and retrieve final data\n",
    "tfb_settings = {\n",
    "    'total_time': 10,\n",
    "    'initial_state': initial_state,\n",
    "    'topology': tfb_topology}\n",
    "\n",
    "tfb_data = simulate_process(tf_binding, tfb_settings)\n",
    "\n",
    "print('\\nsimulation output:')\n",
    "pp(tfb_data['bulk'])"
   ]
  },
  {
   "cell_type": "markdown",
   "id": "67d0d900",
   "metadata": {},
   "source": [
    "Here we can see the states of active transcription factors are dynamic"
   ]
  },
  {
   "cell_type": "code",
   "execution_count": null,
   "id": "375cf430",
   "metadata": {},
   "outputs": [],
   "source": [
    "# plot output\n",
    "tfb_fig_active = plot_variables(\n",
    "    tfb_data, \n",
    "    variables=[\n",
    "        ('bulk', 'CPLX-125[c]'),\n",
    "        ('bulk', 'CPLX0-226[c]'),\n",
    "        ('bulk', 'MONOMER0-162[c]')\n",
    "        ],\n",
    "    column_width=10, row_height=3, row_padding=0.5)"
   ]
  },
  {
   "cell_type": "markdown",
   "id": "081c9bf0",
   "metadata": {},
   "source": [
    "## <u>Chromosome Replication<u/>"
   ]
  },
  {
   "cell_type": "code",
   "execution_count": null,
   "id": "bb1ca0c5",
   "metadata": {},
   "outputs": [],
   "source": [
    "from ecoli.processes.chromosome_replication import ChromosomeReplication\n",
    "\n",
    "# print documentation from process docstring\n",
    "print(ecoli.processes.chromosome_replication.__doc__)"
   ]
  },
  {
   "cell_type": "code",
   "execution_count": null,
   "id": "f334398b",
   "metadata": {},
   "outputs": [],
   "source": [
    "# load in parameters\n",
    "cr_params = load_sim_data.get_chromosome_replication_config()\n",
    "\n",
    "# initialize process and topology\n",
    "chromosome_replication = ChromosomeReplication(cr_params)\n",
    "\n",
    "cr_topology = {\n",
    "    # bulk molecules\n",
    "    'replisome_trimers': ('bulk',),\n",
    "    'replisome_monomers': ('bulk',),\n",
    "    'dntps': ('bulk',),\n",
    "    'ppi': ('bulk',),\n",
    "\n",
    "    # unique molecules\n",
    "    'active_replisomes': ('unique', 'active_replisome',),\n",
    "    'oriCs': ('unique', 'oriC',),\n",
    "    'chromosome_domains': ('unique', 'chromosome_domain',),\n",
    "    'full_chromosomes': ('unique', 'full_chromosome',),\n",
    "\n",
    "    # other\n",
    "    'listeners': ('listeners',),\n",
    "    'environment': ('environment',),\n",
    "}"
   ]
  },
  {
   "cell_type": "code",
   "execution_count": null,
   "id": "9991559a",
   "metadata": {},
   "outputs": [],
   "source": [
    "# plot topology\n",
    "cr_topology_plot_settings = {\n",
    "    'node_labels': {\n",
    "        'ecoli-chromosome_replication': 'ecoli\\nchromosome\\nreplication',\n",
    "        'replisome_trimers': 'replisome\\ntrimers',\n",
    "        'replisome_monomers': 'replisome\\nmonomers',\n",
    "        'active_replisomes': 'active\\nreplisomes',\n",
    "        'full_chromosomes': 'full\\nchromosomes',\n",
    "        'chromosome_domains': 'chromosome\\ndomains',\n",
    "        'listeners\\nreplication_data': 'listeners\\nreplication_\\ndata'\n",
    "    },\n",
    "    'show_ports': False,\n",
    "    'node_size': 17000,\n",
    "    'node_distance': 3.5,\n",
    "    'dashed_edges': True,\n",
    "    'font_size': 18,\n",
    "    'graph_format': 'hierarchy',\n",
    "    'coordinates': {'ecoli-chromosome_replication': (3, 2)}\n",
    "}\n",
    "\n",
    "cr_topology_fig = plot_topology(chromosome_replication, cr_topology_plot_settings)"
   ]
  },
  {
   "cell_type": "code",
   "execution_count": null,
   "id": "d3b34ac3",
   "metadata": {},
   "outputs": [],
   "source": [
    "# display ports schema\n",
    "cr_ports = chromosome_replication.ports_schema()\n",
    "cr_printout = make_port_printout(cr_ports)\n",
    "print(cr_printout)"
   ]
  },
  {
   "cell_type": "code",
   "execution_count": null,
   "id": "815ecdb5",
   "metadata": {},
   "outputs": [],
   "source": [
    "# tweak initial state to trigger replication\n",
    "cr_initial_state = copy.deepcopy(initial_state)\n",
    "cr_initial_state['listeners']['mass']['cell_mass'] = 2000.0\n",
    "\n",
    "# run simulation and retrieve final data\n",
    "cr_settings = {\n",
    "    'total_time': 100,\n",
    "    'initial_state': cr_initial_state,\n",
    "    'topology': cr_topology,\n",
    "    'emit_step': 10,\n",
    "    'return_raw_data': True}\n",
    "\n",
    "cr_data = simulate_process(chromosome_replication, cr_settings)\n",
    "\n",
    "print('\\nsimulation output:')\n",
    "\n",
    "pp(cr_data.keys())"
   ]
  },
  {
   "cell_type": "code",
   "execution_count": null,
   "id": "a550bb32",
   "metadata": {},
   "outputs": [],
   "source": [
    "cr_data[0.0]['unique']['oriC']"
   ]
  },
  {
   "cell_type": "code",
   "execution_count": null,
   "id": "9e6ed2b9",
   "metadata": {},
   "outputs": [],
   "source": [
    "cr_data[10.0]['unique']['oriC']"
   ]
  },
  {
   "cell_type": "markdown",
   "id": "594fd73f",
   "metadata": {},
   "source": [
    "Here a new origin of replication (oriC) has formed between time 0 and 10. This indicates the beginning of the chromosome replication process."
   ]
  },
  {
   "cell_type": "markdown",
   "id": "cb646a5a",
   "metadata": {},
   "source": [
    "## <u>Polypeptide Initiation<u/>"
   ]
  },
  {
   "cell_type": "code",
   "execution_count": null,
   "id": "cb993b2b",
   "metadata": {},
   "outputs": [],
   "source": [
    "from ecoli.processes.polypeptide_initiation import PolypeptideInitiation\n",
    "\n",
    "# print documentation from process docstring\n",
    "print(ecoli.processes.polypeptide_initiation.__doc__)"
   ]
  },
  {
   "cell_type": "code",
   "execution_count": null,
   "id": "8acd1deb",
   "metadata": {},
   "outputs": [],
   "source": [
    "# load in parameters\n",
    "pi_params = load_sim_data.get_polypeptide_initiation_config()\n",
    "\n",
    "# initialize process and topology\n",
    "polypeptide_initiation = PolypeptideInitiation(pi_params)\n",
    "\n",
    "pi_topology = {\n",
    "    'environment': ('environment',),\n",
    "    'listeners': ('listeners',),\n",
    "    'active_ribosome': ('unique', 'active_ribosome'),\n",
    "    'RNA': ('unique', 'RNA'),\n",
    "    'subunits': ('bulk',)\n",
    "}"
   ]
  },
  {
   "cell_type": "code",
   "execution_count": null,
   "id": "01e01d75",
   "metadata": {},
   "outputs": [],
   "source": [
    "# plot topology\n",
    "pi_topology_plot_settings = {\n",
    "    'node_labels': {\n",
    "        'ecoli-polypeptide-initiation': 'ecoli\\npolypeptide\\ninitiation',\n",
    "        'active_ribosome': 'active\\nribosome'\n",
    "    },\n",
    "    'show_ports': False,\n",
    "    'node_size': 17000,\n",
    "    'node_distance': 3.5,\n",
    "    'dashed_edges': True,\n",
    "    'font_size': 17,\n",
    "    'graph_format': 'hierarchy',\n",
    "    'coordinates': {'ecoli-polypeptide-initiation': (3, 2)}\n",
    "}\n",
    "\n",
    "pi_topology_fig = plot_topology(polypeptide_initiation, pi_topology_plot_settings)"
   ]
  },
  {
   "cell_type": "code",
   "execution_count": null,
   "id": "e991c70c",
   "metadata": {},
   "outputs": [],
   "source": [
    "# display ports schema\n",
    "pi_ports = polypeptide_initiation.ports_schema()\n",
    "pi_printout = make_port_printout(pi_ports)\n",
    "print(pi_printout)"
   ]
  },
  {
   "cell_type": "code",
   "execution_count": null,
   "id": "d38f7278",
   "metadata": {},
   "outputs": [],
   "source": [
    "# run simulation and retrieve final data\n",
    "pi_settings = {\n",
    "    'total_time': 10,\n",
    "    'initial_state': initial_state,\n",
    "    'topology': pi_topology}\n",
    "\n",
    "pi_data = simulate_process(polypeptide_initiation, pi_settings)\n",
    "\n",
    "print('\\nsimulation output:')\n",
    "pp(pi_data['bulk'])"
   ]
  },
  {
   "cell_type": "markdown",
   "id": "bd1d09e3",
   "metadata": {},
   "source": [
    "We can observe the 30S ribosomal subunit ('CPLX0-3953[c]') and 50S ribosomal subunit (CPLX0-3962[c]) molecule counts:"
   ]
  },
  {
   "cell_type": "code",
   "execution_count": null,
   "id": "029fd434",
   "metadata": {},
   "outputs": [],
   "source": [
    "# plot output\n",
    "pi_fig = plot_variables(\n",
    "    pi_data, \n",
    "    variables=[\n",
    "        ('bulk', 'CPLX0-3953[c]'),\n",
    "        ('bulk', 'CPLX0-3962[c]')\n",
    "        ],\n",
    "    column_width=10, row_height=3, row_padding=0.5)"
   ]
  },
  {
   "cell_type": "markdown",
   "id": "b8e6ef61",
   "metadata": {},
   "source": [
    "The decrease within the first time step of the simulation demonstrates how active 70S ribosomes are rapidly formed from free 30S and 50S subunits. We can also see how the 30S ribosome subunit (CPLX0-3953[c]) is limiting."
   ]
  },
  {
   "cell_type": "markdown",
   "id": "4e87c908",
   "metadata": {},
   "source": [
    "## <u>Polypeptide Elongation<u/>"
   ]
  },
  {
   "cell_type": "code",
   "execution_count": null,
   "id": "1a57c606",
   "metadata": {},
   "outputs": [],
   "source": [
    "from ecoli.processes.polypeptide_elongation import PolypeptideElongation\n",
    "\n",
    "# print documentation from process docstring\n",
    "print(ecoli.processes.polypeptide_elongation.__doc__)"
   ]
  },
  {
   "cell_type": "code",
   "execution_count": null,
   "id": "ccc921d9",
   "metadata": {},
   "outputs": [],
   "source": [
    "# load in parameters\n",
    "pe_params = load_sim_data.get_polypeptide_elongation_config()\n",
    "\n",
    "# initialize process and topology\n",
    "polypeptide_elongation = PolypeptideElongation(pe_params)\n",
    "\n",
    "pe_topology = {\n",
    "    'environment': ('environment',),\n",
    "    'listeners': ('listeners',),\n",
    "    'active_ribosome': ('unique', 'active_ribosome'),\n",
    "    'molecules': ('bulk',),\n",
    "    'monomers': ('bulk',),\n",
    "    'amino_acids': ('bulk',),\n",
    "    'ppgpp_reaction_metabolites': ('bulk',),\n",
    "    'uncharged_trna': ('bulk',),\n",
    "    'charged_trna': ('bulk',),\n",
    "    'charging_molecules': ('bulk',),\n",
    "    'synthetases': ('bulk',),\n",
    "    'subunits': ('bulk',),\n",
    "    'polypeptide_elongation': ('process_state', 'polypeptide_elongation')\n",
    "}"
   ]
  },
  {
   "cell_type": "code",
   "execution_count": null,
   "id": "233026b7",
   "metadata": {},
   "outputs": [],
   "source": [
    "# plot topology\n",
    "pe_topology_plot_settings = {\n",
    "    'node_labels': {\n",
    "        'ecoli-polypeptide-elongation': 'ecoli\\npolypeptide\\nelongation',\n",
    "        'uncharged_trna': 'uncharged_\\ntrna',\n",
    "        'charging_molecules': 'charging_\\nmolecules',\n",
    "        'active_ribosome': 'active_\\nribosome',\n",
    "        'polypeptide_elongation': 'polypeptide\\nelongation',\n",
    "        'ppgpp_reaction_metabolites': 'ppgpp\\nreaction\\nmetabolites',\n",
    "        'chromosome_domains': 'chromosome\\ndomains',\n",
    "        'listeners\\nreplication_data': 'listeners\\nreplication_\\ndata'\n",
    "    },\n",
    "    'show_ports': False,\n",
    "    'node_size': 17000,\n",
    "    'node_distance': 3.3,\n",
    "    'dashed_edges': True,\n",
    "    'font_size': 17,\n",
    "    'graph_format': 'hierarchy',\n",
    "    'coordinates': {'ecoli-polypeptide-elongation': (7, 1.75)}\n",
    "}\n",
    "\n",
    "pe_topology_fig = plot_topology(polypeptide_elongation, pe_topology_plot_settings)"
   ]
  },
  {
   "cell_type": "code",
   "execution_count": null,
   "id": "a30a0a52",
   "metadata": {},
   "outputs": [],
   "source": [
    "# display ports schema\n",
    "pe_ports = polypeptide_elongation.ports_schema()\n",
    "pe_printout = make_port_printout(pe_ports)\n",
    "print(pe_printout)"
   ]
  },
  {
   "cell_type": "code",
   "execution_count": null,
   "id": "201e74de",
   "metadata": {},
   "outputs": [],
   "source": [
    "# run simulation and retrieve final data\n",
    "pe_settings = {\n",
    "    'total_time': 10,\n",
    "    'initial_state': initial_state,\n",
    "    'topology': pe_topology}\n",
    "\n",
    "pe_data = simulate_process(polypeptide_elongation, pe_settings)\n",
    "\n",
    "print('\\nsimulation output:')\n",
    "pp(pe_data['unique']['active_ribosome'])"
   ]
  },
  {
   "cell_type": "markdown",
   "id": "5e7f07e4",
   "metadata": {},
   "source": [
    "We can see from the cell above that each active ribosome molecule is represented by an ID number. Let's analyze the polypeptide length and the ribosome's position on mRNA of one active ribosome within this process:"
   ]
  },
  {
   "cell_type": "code",
   "execution_count": null,
   "id": "caf95f63",
   "metadata": {},
   "outputs": [],
   "source": [
    "# plot output\n",
    "\n",
    "RIBOSOME_ID = list(pe_data['unique']['active_ribosome'].keys())[0]\n",
    "\n",
    "pe_fig = plot_variables(\n",
    "    pe_data, \n",
    "    variables=[\n",
    "        ('unique', 'active_ribosome', RIBOSOME_ID, 'pos_on_mRNA'),\n",
    "        ('unique', 'active_ribosome', RIBOSOME_ID, 'peptide_length'),\n",
    "        ('unique', 'active_ribosome', RIBOSOME_ID, 'submass', 'protein')\n",
    "        ],\n",
    "    column_width=10, row_height=3, row_padding=0.5)"
   ]
  },
  {
   "cell_type": "markdown",
   "id": "a9382c38",
   "metadata": {},
   "source": [
    "Here we can see that as the simulation progresses, the ribosome travels along the mRNA strand (as shown by the increasing pos_on_mRNA variable) and polymerization of amino acids into a polypeptide occurs (as shown by the increasing peptide_length and protein submass variables)."
   ]
  },
  {
   "cell_type": "markdown",
   "id": "e1ec0da8",
   "metadata": {},
   "source": [
    "After elongation terminates, we can see an increase in protein counts:"
   ]
  },
  {
   "cell_type": "code",
   "execution_count": null,
   "id": "ce588dae",
   "metadata": {},
   "outputs": [],
   "source": [
    "pe_fig1 = plot_variables(\n",
    "    pe_data, \n",
    "    variables=[\n",
    "        ('bulk', '6PGLUCONDEHYDROG-MONOMER[c]'),\n",
    "        ('bulk', '6PGLUCONOLACT-MONOMER[c]')\n",
    "    ],\n",
    "    column_width=10, row_height=3, row_padding=0.5)"
   ]
  },
  {
   "cell_type": "markdown",
   "id": "3151b632",
   "metadata": {},
   "source": [
    "## <u>Protein Degradation<u/>"
   ]
  },
  {
   "cell_type": "code",
   "execution_count": null,
   "id": "644e90fd",
   "metadata": {},
   "outputs": [],
   "source": [
    "from ecoli.processes.protein_degradation import ProteinDegradation\n",
    "\n",
    "# print documentation from process docstring\n",
    "print(ecoli.processes.protein_degradation.__doc__)"
   ]
  },
  {
   "cell_type": "code",
   "execution_count": null,
   "id": "bc8a959c",
   "metadata": {},
   "outputs": [],
   "source": [
    "# load in parameters\n",
    "pd_params = load_sim_data.get_protein_degradation_config()\n",
    "\n",
    "# initialize process and topology\n",
    "protein_degradation = ProteinDegradation(pd_params)\n",
    "\n",
    "pd_topology = {\n",
    "    'metabolites': ('bulk',),\n",
    "    'proteins': ('bulk',)\n",
    "}"
   ]
  },
  {
   "cell_type": "code",
   "execution_count": null,
   "id": "9f1ea7e6",
   "metadata": {},
   "outputs": [],
   "source": [
    "# plot topology\n",
    "pd_topology_plot_settings = {\n",
    "    'buffer': 1,\n",
    "    'node_labels': {\n",
    "        'ecoli-protein-degradation': 'ecoli\\nprotein\\ndegradation'\n",
    "    },\n",
    "    'node_distance': 5,\n",
    "    'show_ports': False,\n",
    "    'node_size': 10000,\n",
    "    'dashed_edges': True,\n",
    "    'coordinates': {'ecoli-protein-degradation': (1.5, 0.5)}\n",
    "}\n",
    "\n",
    "pd_topology_fig = plot_topology(protein_degradation, pd_topology_plot_settings)"
   ]
  },
  {
   "cell_type": "code",
   "execution_count": null,
   "id": "3edbed4c",
   "metadata": {},
   "outputs": [],
   "source": [
    "# display ports schema\n",
    "pd_ports = protein_degradation.ports_schema()\n",
    "pd_printout = make_port_printout(pd_ports)\n",
    "print(pd_printout)"
   ]
  },
  {
   "cell_type": "code",
   "execution_count": null,
   "id": "6293d7db",
   "metadata": {},
   "outputs": [],
   "source": [
    "# run simulation and retrieve final data\n",
    "pd_settings = {\n",
    "    'total_time': 600,\n",
    "    'initial_state': initial_state,\n",
    "    'topology': pd_topology,\n",
    "    'emit_step': 10}\n",
    "\n",
    "pd_data = simulate_process(protein_degradation, pd_settings)\n",
    "\n",
    "#print('\\nsimulation output:')\n",
    "#pp(pd_data['bulk'])"
   ]
  },
  {
   "cell_type": "markdown",
   "id": "940fdf28",
   "metadata": {},
   "source": [
    "For protein degradation, let's look at the ARTJ-MONOMER[p] monomer, a protein selected for degradation at this time point, as it degrades into its subcomponents:"
   ]
  },
  {
   "cell_type": "code",
   "execution_count": null,
   "id": "71dcc70a",
   "metadata": {},
   "outputs": [],
   "source": [
    "# plot output\n",
    "pd_fig = plot_variables(\n",
    "    pd_data, \n",
    "    variables=[\n",
    "        ('bulk', 'ARTJ-MONOMER[p]'),\n",
    "        ('bulk', 'ASN[c]'),\n",
    "        ('bulk', 'WATER[c]')\n",
    "        ],\n",
    "    column_width=10, row_height=3, row_padding=0.5)"
   ]
  },
  {
   "cell_type": "markdown",
   "id": "a478c1e7",
   "metadata": {},
   "source": [
    "We can see here that as the ARTJ-MONOMER[p] protein degrades, the count for the amino acid asparagine increases and water is consumed."
   ]
  },
  {
   "cell_type": "markdown",
   "id": "47de8c93",
   "metadata": {},
   "source": [
    "## <u>RNA Degradation<u/>"
   ]
  },
  {
   "cell_type": "code",
   "execution_count": null,
   "id": "a0f647b9",
   "metadata": {},
   "outputs": [],
   "source": [
    "from ecoli.processes.rna_degradation import RnaDegradation\n",
    "\n",
    "# print documentation from process docstring\n",
    "print(ecoli.processes.rna_degradation.__doc__)"
   ]
  },
  {
   "cell_type": "code",
   "execution_count": null,
   "id": "55c25e7e",
   "metadata": {},
   "outputs": [],
   "source": [
    "# load in parameters\n",
    "rd_params = load_sim_data.get_rna_degradation_config()\n",
    "\n",
    "# rd_params['_schema'] = {\n",
    "#     'RNAs': {\n",
    "#         '*': {\n",
    "#             'can_translate': {\n",
    "#                 '_emit': True\n",
    "#             },\n",
    "#             'is_full_transcript': {\n",
    "#                 '_emit': True\n",
    "#             }\n",
    "#         }\n",
    "#     }\n",
    "# }\n",
    "\n",
    "# initialize process and topology\n",
    "rna_degradation = RnaDegradation(rd_params)\n",
    "\n",
    "rd_topology = {\n",
    "    'charged_trna': ('bulk',),\n",
    "    'bulk_RNAs': ('bulk',),\n",
    "    'nmps': ('bulk',),\n",
    "    'fragmentMetabolites': ('bulk',),\n",
    "    'fragmentBases': ('bulk',),\n",
    "    'endoRnases': ('bulk',),\n",
    "    'exoRnases': ('bulk',),\n",
    "    'subunits': ('bulk',),\n",
    "    'molecules': ('bulk',),\n",
    "    'RNAs': ('unique', 'RNA'),\n",
    "    'active_ribosome': ('unique', 'active_ribosome'),\n",
    "    'listeners': ('listeners',)\n",
    "}"
   ]
  },
  {
   "cell_type": "code",
   "execution_count": null,
   "id": "b1f58246",
   "metadata": {},
   "outputs": [],
   "source": [
    "# plot topology\n",
    "rd_topology_plot_settings = {\n",
    "    'node_labels': {\n",
    "        'ecoli-rna-degradation': 'ecoli\\nrna\\ndegradation',\n",
    "        'fragmentMetabolites': 'fragment\\nMetabolites',\n",
    "        'listeners\\nrna_degradation_listener': '\\nlisteners\\nrna_\\ndegradation_\\nlistener',\n",
    "        'active_ribosome': 'active_\\nribosome'\n",
    "    },\n",
    "    'show_ports': False,\n",
    "    'node_size': 17000,\n",
    "    'node_distance': 3.3,\n",
    "    'dashed_edges': True,\n",
    "    'font_size': 17,\n",
    "    'graph_format': 'hierarchy',\n",
    "    'coordinates': {'ecoli-rna-degradation': (7, 1.75)}\n",
    "}\n",
    "\n",
    "rd_topology_fig = plot_topology(rna_degradation, rd_topology_plot_settings)"
   ]
  },
  {
   "cell_type": "code",
   "execution_count": null,
   "id": "b80ef920",
   "metadata": {},
   "outputs": [],
   "source": [
    "# display ports schema\n",
    "rd_ports = rna_degradation.ports_schema()\n",
    "rd_printout = make_port_printout(rd_ports)\n",
    "print(rd_printout)"
   ]
  },
  {
   "cell_type": "code",
   "execution_count": null,
   "id": "8e84a51d",
   "metadata": {},
   "outputs": [],
   "source": [
    "# run simulation and retrieve final data\n",
    "rd_settings = {\n",
    "    'total_time': 100,\n",
    "    'initial_state': initial_state,\n",
    "    'topology': rd_topology}\n",
    "\n",
    "rd_data = simulate_process(rna_degradation, rd_settings)\n",
    "\n",
    "print('\\nsimulation output:')\n",
    "\n",
    "#pp(rd_data['bulk'])"
   ]
  },
  {
   "cell_type": "code",
   "execution_count": null,
   "id": "ffe0015c",
   "metadata": {},
   "outputs": [],
   "source": [
    "pp(rd_data.keys())"
   ]
  },
  {
   "cell_type": "code",
   "execution_count": null,
   "id": "4bf57770",
   "metadata": {},
   "outputs": [],
   "source": [
    "RNA_ids = rna_degradation.rnaIds\n",
    "\n",
    "# for idx in RNA_ids:\n",
    "#     if (rd_data['bulk'][idx][0] > 0):\n",
    "#         print(idx)\n",
    "\n",
    "rd_data['bulk']['RNA0-300[c]']"
   ]
  },
  {
   "cell_type": "code",
   "execution_count": null,
   "id": "f2332a34",
   "metadata": {},
   "outputs": [],
   "source": [
    "rd_data['bulk']['WATER[c]']"
   ]
  },
  {
   "cell_type": "code",
   "execution_count": null,
   "id": "c9e403bd",
   "metadata": {},
   "outputs": [],
   "source": [
    "endoRNases_ids = rna_degradation.endoRnasesIds"
   ]
  },
  {
   "cell_type": "code",
   "execution_count": null,
   "id": "a0f6f333",
   "metadata": {},
   "outputs": [],
   "source": [
    "exoRNases_ids = rna_degradation.endoRnasesIds"
   ]
  },
  {
   "cell_type": "code",
   "execution_count": null,
   "id": "a62bf0ae",
   "metadata": {},
   "outputs": [],
   "source": [
    "RNA_counts = count_RNAs(rd_data)\n",
    "print(RNA_counts)"
   ]
  },
  {
   "cell_type": "code",
   "execution_count": null,
   "id": "46f520a0",
   "metadata": {},
   "outputs": [],
   "source": [
    "pp(rd_data.keys())"
   ]
  },
  {
   "cell_type": "code",
   "execution_count": null,
   "id": "157bbe86",
   "metadata": {},
   "outputs": [],
   "source": [
    "pp(rd_data['unique'].keys())"
   ]
  },
  {
   "cell_type": "code",
   "execution_count": null,
   "id": "a9a3b2b3",
   "metadata": {},
   "outputs": [],
   "source": [
    "pp(rd_data['unique']['RNA'])"
   ]
  },
  {
   "cell_type": "code",
   "execution_count": null,
   "id": "adb01349",
   "metadata": {},
   "outputs": [],
   "source": [
    "pp(rd_data['listeners'])"
   ]
  },
  {
   "cell_type": "code",
   "execution_count": null,
   "id": "c15b25fe",
   "metadata": {},
   "outputs": [],
   "source": [
    "# Which bulk molecules are endoRNases/exoRNases?"
   ]
  },
  {
   "cell_type": "code",
   "execution_count": null,
   "id": "7440aad2",
   "metadata": {},
   "outputs": [],
   "source": [
    "# # plot output\n",
    "# rd_fig = plot_variables(\n",
    "#     rd_data, \n",
    "#     variables=[\n",
    "#         ],\n",
    "#     column_width=10, row_height=3, row_padding=0.5)"
   ]
  },
  {
   "cell_type": "markdown",
   "id": "8d0d3f2e",
   "metadata": {},
   "source": [
    "RNAs are selected and degraded by endoRNases, and non-functional RNA fragments are digested through exoRNases. During the process water is consumed, and nucleotides, pyrophosphate and protons are released."
   ]
  },
  {
   "cell_type": "markdown",
   "id": "facb5b75",
   "metadata": {},
   "source": [
    "## <u>Two Component System<u/>"
   ]
  },
  {
   "cell_type": "code",
   "execution_count": null,
   "id": "aeeb633d",
   "metadata": {},
   "outputs": [],
   "source": [
    "from ecoli.processes.two_component_system import TwoComponentSystem\n",
    "\n",
    "# print documentation from process docstring\n",
    "print(ecoli.processes.two_component_system.__doc__)"
   ]
  },
  {
   "cell_type": "code",
   "execution_count": null,
   "id": "575e7020",
   "metadata": {},
   "outputs": [],
   "source": [
    "# load in parameters\n",
    "tcs_params = load_sim_data.get_two_component_system_config()\n",
    "    \n",
    "# initialize process and topology\n",
    "two_component_system = TwoComponentSystem(tcs_params)\n",
    "\n",
    "tcs_topology = {\n",
    "    'listeners': ('listeners',),\n",
    "    'molecules': ('bulk',)\n",
    "}"
   ]
  },
  {
   "cell_type": "code",
   "execution_count": null,
   "id": "5a7d74dc",
   "metadata": {},
   "outputs": [],
   "source": [
    "# plot topology\n",
    "tcs_topology_plot_settings = {\n",
    "    'node_labels': {\n",
    "        'ecoli-two-component-system': 'ecoli two\\ncomponent\\nsystem'\n",
    "    },\n",
    "    'show_ports': False,\n",
    "    'node_size': 16000,\n",
    "    'node_distance': 5.0,\n",
    "    'dashed_edges': True,\n",
    "    'font_size': 18,\n",
    "    'graph_format': 'hierarchy',\n",
    "    'coordinates': {'ecoli-two-component-system': (1.35, 1)}\n",
    "}\n",
    "\n",
    "tcs_topology_fig = plot_topology(two_component_system, tcs_topology_plot_settings)"
   ]
  },
  {
   "cell_type": "code",
   "execution_count": null,
   "id": "12d161b6",
   "metadata": {},
   "outputs": [],
   "source": [
    "# display ports schema\n",
    "tcs_ports = two_component_system.ports_schema()\n",
    "tcs_printout = make_port_printout(tcs_ports)\n",
    "print(tcs_printout)"
   ]
  },
  {
   "cell_type": "code",
   "execution_count": null,
   "id": "3c18ba02",
   "metadata": {},
   "outputs": [],
   "source": [
    "# tweak initial state??\n",
    "tcs_initial_state = copy.deepcopy(initial_state)\n",
    "\n",
    "# run simulation and retrieve final data\n",
    "tcs_settings = {\n",
    "    'total_time': 10,\n",
    "    'initial_state': initial_state,\n",
    "    'topology': tcs_topology}\n",
    "\n",
    "tcs_data = simulate_process(two_component_system, tcs_settings)\n",
    "\n",
    "print('\\nsimulation output:')\n",
    "pp(tcs_data['bulk'])"
   ]
  },
  {
   "cell_type": "markdown",
   "id": "af58e970",
   "metadata": {},
   "source": [
    "Phosphate groups are transferred from histidine kinases to response regulators and back in response to counts of ligand stimulants"
   ]
  },
  {
   "cell_type": "code",
   "execution_count": null,
   "id": "39e94649",
   "metadata": {},
   "outputs": [],
   "source": [
    "# # plot output\n",
    "# tcs_fig = plot_variables(\n",
    "#     tcs_data, \n",
    "#     variables=[\n",
    "#         ],\n",
    "#     column_width=10, row_height=3, row_padding=0.5)"
   ]
  },
  {
   "cell_type": "markdown",
   "id": "606a2368",
   "metadata": {},
   "source": [
    "## <u>Equilibrium<u/>"
   ]
  },
  {
   "cell_type": "code",
   "execution_count": null,
   "id": "a6cebfe0",
   "metadata": {},
   "outputs": [],
   "source": [
    "from ecoli.processes.equilibrium import Equilibrium\n",
    "\n",
    "# Print documentation from process docstring\n",
    "print(ecoli.processes.equilibrium.__doc__)"
   ]
  },
  {
   "cell_type": "code",
   "execution_count": null,
   "id": "7f531a83",
   "metadata": {},
   "outputs": [],
   "source": [
    "# load in parameters\n",
    "eq_params = load_sim_data.get_equilibrium_config()\n",
    "\n",
    "# initialize process and topology\n",
    "equilibrium = Equilibrium(eq_params)\n",
    "\n",
    "eq_topology = {\n",
    "    'listeners': ('listeners',),\n",
    "    'molecules': ('bulk',)\n",
    "}"
   ]
  },
  {
   "cell_type": "code",
   "execution_count": null,
   "id": "bef23cc7",
   "metadata": {},
   "outputs": [],
   "source": [
    "# plot topology\n",
    "eq_topology_plot_settings = {\n",
    "    'node_labels': {\n",
    "        'ecoli-equilibrium': 'ecoli\\nequilibrium',\n",
    "        'listeners\\nequilibrium_listener': '\\nlisteners\\nequilibrium\\nlistener'\n",
    "    },\n",
    "    'show_ports': False,\n",
    "    'node_size': 14000,\n",
    "    'node_distance': 5.0,\n",
    "    'dashed_edges': True,\n",
    "    'font_size': 18,\n",
    "    'graph_format': 'hierarchy',\n",
    "    'coordinates': {'ecoli-equilibrium': (1.5, 1.25)}\n",
    "}\n",
    "\n",
    "eq_topology_fig = plot_topology(equilibrium, eq_topology_plot_settings)"
   ]
  },
  {
   "cell_type": "code",
   "execution_count": null,
   "id": "a404e060",
   "metadata": {},
   "outputs": [],
   "source": [
    "# display ports schema\n",
    "eq_ports = equilibrium.ports_schema()\n",
    "eq_printout = make_port_printout(eq_ports)\n",
    "print(eq_printout)"
   ]
  },
  {
   "cell_type": "code",
   "execution_count": null,
   "id": "f5e53b91",
   "metadata": {},
   "outputs": [],
   "source": [
    "# run simulation and retrieve final data\n",
    "eq_settings = {\n",
    "    'total_time': 10,\n",
    "    'initial_state': initial_state,\n",
    "    'topology': eq_topology}\n",
    "\n",
    "eq_data = simulate_process(equilibrium, eq_settings)\n",
    "\n",
    "print('\\nsimulation output:')\n",
    "pp(eq_data['bulk'])"
   ]
  },
  {
   "cell_type": "code",
   "execution_count": null,
   "id": "b441b7d9",
   "metadata": {},
   "outputs": [],
   "source": [
    "'APS[c]'\n",
    "'ARG[c]'\n",
    "'ACETOACETYL-COA[c]'\n",
    "'MONOMER0-155[c]'\n",
    "\n",
    "# # plot output\n",
    "# eq_fig = plot_variables(\n",
    "#     eq_data, \n",
    "#     variables=[\n",
    "#         ],\n",
    "#     column_width=10, row_height=3, row_padding=0.5)"
   ]
  },
  {
   "cell_type": "markdown",
   "id": "2dc28a7c",
   "metadata": {},
   "source": [
    "## <u>Metabolism<u/>"
   ]
  },
  {
   "cell_type": "code",
   "execution_count": null,
   "id": "a6e6853a",
   "metadata": {},
   "outputs": [],
   "source": [
    "from ecoli.processes.metabolism import Metabolism\n",
    "\n",
    "# print documentation from process docstring\n",
    "print(ecoli.processes.metabolism.__doc__)"
   ]
  },
  {
   "cell_type": "code",
   "execution_count": null,
   "id": "c75cc14c",
   "metadata": {},
   "outputs": [],
   "source": [
    "# load in parameters\n",
    "meta_params = load_sim_data.get_metabolism_config()\n",
    "\n",
    "# initialize process and topology\n",
    "metabolism = Metabolism(meta_params)\n",
    "\n",
    "meta_topology = {\n",
    "    'metabolites': ('bulk',),\n",
    "    'catalysts': ('bulk',),\n",
    "    'kinetics_enzymes': ('bulk',),\n",
    "    'kinetics_substrates': ('bulk',),\n",
    "    'amino_acids': ('bulk',),\n",
    "    'listeners': ('listeners',),\n",
    "    'environment': ('environment',),\n",
    "    'polypeptide_elongation': ('process_state', 'polypeptide_elongation')\n",
    "}"
   ]
  },
  {
   "cell_type": "code",
   "execution_count": null,
   "id": "f73739b7",
   "metadata": {},
   "outputs": [],
   "source": [
    "# plot topology\n",
    "meta_topology_plot_settings = {\n",
    "    'node_labels': {\n",
    "        'ecoli-metabolism': 'ecoli\\nmetabolism',\n",
    "        'kinetics_enzymes': 'kinetics\\nenzymes',\n",
    "        'kinetics_substrates': 'kinetics\\nsubstrates',\n",
    "        'environment\\nexchange_data': '\\nenvironment\\nexchange_\\ndata',\n",
    "        'listeners\\nenzyme_kinetics': '\\nlisteners\\nenzyme_\\nkinetics',\n",
    "        'polypeptide_elongation': 'polypeptide_\\nelongation'\n",
    "    },\n",
    "    'show_ports': False,\n",
    "    'node_size': 15000,\n",
    "    'node_distance': 3.2,\n",
    "    'dashed_edges': True,\n",
    "    'font_size': 17,\n",
    "    'graph_format': 'hierarchy',\n",
    "    'coordinates': {'ecoli-metabolism': (4.5, 2)}\n",
    "}\n",
    "\n",
    "meta_topology_fig = plot_topology(metabolism, meta_topology_plot_settings)"
   ]
  },
  {
   "cell_type": "code",
   "execution_count": null,
   "id": "edd73d18",
   "metadata": {},
   "outputs": [],
   "source": [
    "# display ports schema\n",
    "meta_ports = metabolism.ports_schema()\n",
    "meta_printout = make_port_printout(meta_ports)\n",
    "print(meta_printout)"
   ]
  },
  {
   "cell_type": "code",
   "execution_count": null,
   "id": "128ed772",
   "metadata": {},
   "outputs": [],
   "source": [
    "# run simulation and retrieve final data\n",
    "meta_settings = {\n",
    "    'total_time': 10,\n",
    "    'initial_state': initial_state,\n",
    "    'topology': meta_topology}\n",
    "\n",
    "meta_data = simulate_process(metabolism, meta_settings)\n",
    "\n",
    "print('\\nsimulation output:')\n",
    "pp(meta_data['bulk'])"
   ]
  },
  {
   "cell_type": "code",
   "execution_count": null,
   "id": "ce10847e",
   "metadata": {},
   "outputs": [],
   "source": [
    "# Reaction flux is a list - make a custom plot of reaction fluxes"
   ]
  },
  {
   "cell_type": "code",
   "execution_count": null,
   "id": "37242d6a",
   "metadata": {},
   "outputs": [],
   "source": [
    "# plot output\n",
    "meta_fig = plot_variables(\n",
    "    meta_data, \n",
    "    variables=[\n",
    "        ('listeners', 'fba_results', 'reactionFluxes')\n",
    "        ],\n",
    "    column_width=10, row_height=3, row_padding=0.5)"
   ]
  },
  {
   "cell_type": "markdown",
   "id": "e6e7729d",
   "metadata": {},
   "source": [
    "# **3. Combining Processes**"
   ]
  },
  {
   "cell_type": "markdown",
   "id": "e3eb509e",
   "metadata": {},
   "source": [
    "We will now demonstrate how the following combinations of processes function within the model:\n",
    "\n",
    "1. Transcript initiation + transcript elongation\n",
    "2. Polypeptide initiation + polypeptide elongation\n",
    "3. Polypeptide initiation + polypeptide elongation + complexation\n",
    "4. Transcript initiation + transcript elongation + tf binding ???"
   ]
  },
  {
   "cell_type": "markdown",
   "id": "8c067dcb",
   "metadata": {},
   "source": [
    "For this section, we need to load in the composer:\n",
    " * A `Composer` is a class that generates `Composite` models, with many processes wired together through shared `Stores`.\n",
    " * `Ecoli` is the current master composite of the E. coli model."
   ]
  },
  {
   "cell_type": "code",
   "execution_count": null,
   "id": "88d74dd5",
   "metadata": {},
   "outputs": [],
   "source": [
    "from vivarium.core.composer import Composite"
   ]
  },
  {
   "cell_type": "markdown",
   "id": "bce2d829",
   "metadata": {},
   "source": [
    "## <u>Transcript Initiation + Transcript Elongation<u/>"
   ]
  },
  {
   "cell_type": "markdown",
   "id": "08d66610",
   "metadata": {},
   "source": [
    "Description:"
   ]
  },
  {
   "cell_type": "code",
   "execution_count": null,
   "id": "013d520f",
   "metadata": {},
   "outputs": [],
   "source": [
    "# TRANSCRIPT INITATION\n",
    "\n",
    "# load in parameters\n",
    "ti_params = load_sim_data.get_transcript_initiation_config()\n",
    "\n",
    "# initialize process and topology\n",
    "transcript_initiation = TranscriptInitiation(ti_params)\n",
    "\n",
    "ti_topology = {\n",
    "    'environment': ('environment',),\n",
    "    'full_chromosomes': ('unique', 'full_chromosome'),\n",
    "    'RNAs': ('unique', 'RNA'),\n",
    "    'active_RNAPs': ('unique', 'active_RNAP'),\n",
    "    'promoters': ('unique', 'promoter'),\n",
    "    'molecules': ('bulk',),\n",
    "    'listeners': ('listeners',)\n",
    "}"
   ]
  },
  {
   "cell_type": "code",
   "execution_count": null,
   "id": "af909efe",
   "metadata": {},
   "outputs": [],
   "source": [
    "# TRANSCRIPT ELONGATION\n",
    "\n",
    "# load in parameters\n",
    "te_params = load_sim_data.get_transcript_elongation_config()\n",
    "\n",
    "# initialize process and topology\n",
    "transcript_elongation = TranscriptElongation(te_params)\n",
    "\n",
    "te_topology = {\n",
    "    'environment': ('environment',),\n",
    "    'RNAs': ('unique', 'RNA'),\n",
    "    'active_RNAPs': ('unique', 'active_RNAP'),\n",
    "    'molecules': ('bulk',),\n",
    "    'bulk_RNAs': ('bulk',),\n",
    "    'ntps': ('bulk',),\n",
    "    'listeners': ('listeners',)\n",
    "}"
   ]
  },
  {
   "cell_type": "code",
   "execution_count": null,
   "id": "3ac61956",
   "metadata": {},
   "outputs": [],
   "source": [
    "# generate composite model\n",
    "tite_composite = Composite({\n",
    "    'processes': {\n",
    "        transcript_initiation.name: transcript_initiation,\n",
    "        transcript_elongation.name: transcript_elongation\n",
    "    },\n",
    "    'topology': {\n",
    "        transcript_initiation.name: ti_topology,\n",
    "        transcript_elongation.name: te_topology\n",
    "    }\n",
    "})"
   ]
  },
  {
   "cell_type": "code",
   "execution_count": null,
   "id": "b43c5abb",
   "metadata": {},
   "outputs": [],
   "source": [
    "# plot topology\n",
    "tite_topology_plot_settings = {\n",
    "    'node_labels': {\n",
    "        'ecoli-transcript-initiation': 'ecoli\\ntranscript\\ninitiation',\n",
    "        'ecoli-transcript-elongation': 'ecoli\\ntranscript\\nelongation',\n",
    "        'unique\\nfull_chromosome': 'unique\\nfull_\\nchromosome',\n",
    "        'listeners\\nrna_synth_prob': 'listeners\\nrna_synth_\\nprob',\n",
    "        'listeners\\nribosome_data': 'listeners\\nribosome_\\ndata',\n",
    "        'listeners\\ntranscript_elongation_listener': '\\nlisteners\\ntranscript_\\nelongation_\\nlistener'\n",
    "    },\n",
    "    'show_ports': False,\n",
    "    'node_size': 17000,\n",
    "    'node_distance': 3.3,\n",
    "    'dashed_edges': True,\n",
    "    'font_size': 18,\n",
    "    'graph_format': 'hierarchy',\n",
    "    'coordinates': {'ecoli-transcript-initiation': (4, 2),\n",
    "                    'ecoli-transcript-elongation': (6, 2)}\n",
    "}\n",
    "\n",
    "tite_topology_fig = plot_topology(tite_composite, tite_topology_plot_settings)"
   ]
  },
  {
   "cell_type": "code",
   "execution_count": null,
   "id": "59f2ceda",
   "metadata": {},
   "outputs": [],
   "source": [
    "# run simulation and retrieve final data\n",
    "tite_settings = {\n",
    "    'total_time': 10,\n",
    "    'initial_state': initial_state\n",
    "    }\n",
    "\n",
    "tite_data = simulate_composite(tite_composite, tite_settings)\n",
    "\n",
    "print('\\nsimulation output:')"
   ]
  },
  {
   "cell_type": "code",
   "execution_count": null,
   "id": "5beb0aa6",
   "metadata": {},
   "outputs": [],
   "source": [
    "pp(tite_data.keys())"
   ]
  },
  {
   "cell_type": "code",
   "execution_count": null,
   "id": "3f045d85",
   "metadata": {},
   "outputs": [],
   "source": [
    "pp(tite_data['bulk'])"
   ]
  },
  {
   "cell_type": "code",
   "execution_count": null,
   "id": "51128162",
   "metadata": {},
   "outputs": [],
   "source": [
    "# RNA Polymerase binds to and moves along the chromosome\n",
    "# Depends on ID of RNA Polymerase, which changes with each simulation\n",
    "\n",
    "pp(tite_data['unique']['active_RNAP'])"
   ]
  },
  {
   "cell_type": "markdown",
   "id": "0e0170f7",
   "metadata": {},
   "source": [
    "## <u>Polypeptide Initiation + Polypeptide Elongation<u/>"
   ]
  },
  {
   "cell_type": "markdown",
   "id": "9bb795ec",
   "metadata": {},
   "source": [
    "Description:"
   ]
  },
  {
   "cell_type": "code",
   "execution_count": null,
   "id": "673eddb2",
   "metadata": {},
   "outputs": [],
   "source": [
    "# POLYPEPTIDE INITIATION\n",
    "\n",
    "# load in parameters\n",
    "pi_params = load_sim_data.get_polypeptide_initiation_config()\n",
    "\n",
    "# initialize process and topology\n",
    "polypeptide_initiation = PolypeptideInitiation(pi_params)\n",
    "\n",
    "pi_topology = {\n",
    "    'environment': ('environment',),\n",
    "    'listeners': ('listeners',),\n",
    "    'active_ribosome': ('unique', 'active_ribosome'),\n",
    "    'RNA': ('unique', 'RNA'),\n",
    "    'subunits': ('bulk',)\n",
    "}"
   ]
  },
  {
   "cell_type": "code",
   "execution_count": null,
   "id": "cfebd74d",
   "metadata": {},
   "outputs": [],
   "source": [
    "# POLYPEPTIDE ELONGATION\n",
    "\n",
    "# load in parameters\n",
    "pe_params = load_sim_data.get_polypeptide_elongation_config()\n",
    "\n",
    "# initialize process and topology\n",
    "polypeptide_elongation = PolypeptideElongation(pe_params)\n",
    "\n",
    "pe_topology = {\n",
    "    'environment': ('environment',),\n",
    "    'listeners': ('listeners',),\n",
    "    'active_ribosome': ('unique', 'active_ribosome'),\n",
    "    'molecules': ('bulk',),\n",
    "    'monomers': ('bulk',),\n",
    "    'amino_acids': ('bulk',),\n",
    "    'ppgpp_reaction_metabolites': ('bulk',),\n",
    "    'uncharged_trna': ('bulk',),\n",
    "    'charged_trna': ('bulk',),\n",
    "    'charging_molecules': ('bulk',),\n",
    "    'synthetases': ('bulk',),\n",
    "    'subunits': ('bulk',),\n",
    "    'polypeptide_elongation': ('process_state', 'polypeptide_elongation')\n",
    "}"
   ]
  },
  {
   "cell_type": "code",
   "execution_count": null,
   "id": "b2992bb8",
   "metadata": {},
   "outputs": [],
   "source": [
    "# generate composite model\n",
    "pipe_composite = Composite({\n",
    "    'processes': {\n",
    "        polypeptide_initiation.name: polypeptide_initiation,\n",
    "        polypeptide_elongation.name: polypeptide_elongation\n",
    "    },\n",
    "    'topology': {\n",
    "        polypeptide_initiation.name: pi_topology,\n",
    "        polypeptide_elongation.name: pe_topology\n",
    "    }\n",
    "})"
   ]
  },
  {
   "cell_type": "code",
   "execution_count": null,
   "id": "cf9e60e6",
   "metadata": {},
   "outputs": [],
   "source": [
    "# plot topology\n",
    "pipe_topology_plot_settings = {\n",
    "    'node_labels': {\n",
    "        'ecoli-polypeptide-initiation': 'ecoli\\npolypeptide\\ninitiation',\n",
    "        'ecoli-polypeptide-elongation': 'ecoli\\npolypeptide\\nelongation',\n",
    "        'unique\\nactive_ribosome': 'unique\\nactive_\\nribosome',\n",
    "        'process_state\\npolypeptide_elongation': 'process_state\\npolypeptide_\\nelongation'\n",
    "    },\n",
    "    'show_ports': False,\n",
    "    'node_size': 17000,\n",
    "    'node_distance': 3.3,\n",
    "    'dashed_edges': True,\n",
    "    'font_size': 17,\n",
    "    'graph_format': 'hierarchy',\n",
    "    'coordinates': {'ecoli-polypeptide-initiation': (3, 2),\n",
    "                    'ecoli-polypeptide-elongation': (5, 2)}\n",
    "}\n",
    "\n",
    "pipe_topology_fig = plot_topology(pipe_composite, pipe_topology_plot_settings)"
   ]
  },
  {
   "cell_type": "code",
   "execution_count": null,
   "id": "68ba2b8d",
   "metadata": {},
   "outputs": [],
   "source": [
    "# run simulation and retrieve final data\n",
    "pipe_settings = {\n",
    "    'total_time': 10,\n",
    "    'initial_state': initial_state\n",
    "    }\n",
    "\n",
    "pipe_data = simulate_composite(pipe_composite, pipe_settings)\n",
    "\n",
    "print('\\nsimulation output:')"
   ]
  },
  {
   "cell_type": "markdown",
   "id": "6084122c",
   "metadata": {},
   "source": [
    "## <u>Polypeptide Initiation + Polypeptide Elongation + Complexation<u/>"
   ]
  },
  {
   "cell_type": "markdown",
   "id": "dbd3b750",
   "metadata": {},
   "source": [
    "Description:"
   ]
  },
  {
   "cell_type": "code",
   "execution_count": null,
   "id": "f28c48f9",
   "metadata": {},
   "outputs": [],
   "source": [
    "from vivarium.core.composer import Composite\n",
    "from ecoli.processes.polypeptide_initiation import PolypeptideInitiation\n",
    "from ecoli.processes.polypeptide_elongation import PolypeptideElongation\n",
    "from ecoli.processes.complexation import Complexation"
   ]
  },
  {
   "cell_type": "code",
   "execution_count": null,
   "id": "7af1e14c",
   "metadata": {},
   "outputs": [],
   "source": [
    "# POLYPEPTIDE INITIATION\n",
    "\n",
    "# load in parameters\n",
    "pi_params = load_sim_data.get_polypeptide_initiation_config()\n",
    "\n",
    "# initialize process and topology\n",
    "polypeptide_initiation = PolypeptideInitiation(pi_params)\n",
    "\n",
    "pi_topology = {\n",
    "    'environment': ('environment',),\n",
    "    'listeners': ('listeners',),\n",
    "    'active_ribosome': ('unique', 'active_ribosome'),\n",
    "    'RNA': ('unique', 'RNA'),\n",
    "    'subunits': ('bulk',)\n",
    "}"
   ]
  },
  {
   "cell_type": "code",
   "execution_count": null,
   "id": "acd5053a",
   "metadata": {},
   "outputs": [],
   "source": [
    "# POLYPEPTIDE ELONGATION\n",
    "\n",
    "# load in parameters\n",
    "pe_params = load_sim_data.get_polypeptide_elongation_config()\n",
    "\n",
    "# initialize process and topology\n",
    "polypeptide_elongation = PolypeptideElongation(pe_params)\n",
    "\n",
    "pe_topology = {\n",
    "    'environment': ('environment',),\n",
    "    'listeners': ('listeners',),\n",
    "    'active_ribosome': ('unique', 'active_ribosome'),\n",
    "    'molecules': ('bulk',),\n",
    "    'monomers': ('bulk',),\n",
    "    'amino_acids': ('bulk',),\n",
    "    'ppgpp_reaction_metabolites': ('bulk',),\n",
    "    'uncharged_trna': ('bulk',),\n",
    "    'charged_trna': ('bulk',),\n",
    "    'charging_molecules': ('bulk',),\n",
    "    'synthetases': ('bulk',),\n",
    "    'subunits': ('bulk',),\n",
    "    'polypeptide_elongation': ('process_state', 'polypeptide_elongation')\n",
    "}"
   ]
  },
  {
   "cell_type": "code",
   "execution_count": null,
   "id": "0c259b27",
   "metadata": {},
   "outputs": [],
   "source": [
    "# COMPLEXATION\n",
    "\n",
    "# load in parameters\n",
    "cplx_config = load_sim_data.get_complexation_config()\n",
    "\n",
    "# initialize process and topology\n",
    "complexation = Complexation(cplx_config)\n",
    "\n",
    "cplx_topology = {\n",
    "    'molecules': ('bulk',)\n",
    "}"
   ]
  },
  {
   "cell_type": "code",
   "execution_count": null,
   "id": "bbbdd202",
   "metadata": {},
   "outputs": [],
   "source": [
    "# generate composite model\n",
    "pipec_composite = Composite({\n",
    "    'processes': {\n",
    "        polypeptide_initiation.name: polypeptide_initiation,\n",
    "        polypeptide_elongation.name: polypeptide_elongation,\n",
    "        complexation.name: complexation\n",
    "    },\n",
    "    'topology': {\n",
    "        polypeptide_initiation.name: pi_topology,\n",
    "        polypeptide_elongation.name: pe_topology,\n",
    "        complexation.name: cplx_topology\n",
    "    }\n",
    "})"
   ]
  },
  {
   "cell_type": "code",
   "execution_count": null,
   "id": "24648e78",
   "metadata": {},
   "outputs": [],
   "source": [
    "# plot topology\n",
    "pipec_topology_plot_settings = {\n",
    "    'node_labels': {\n",
    "        'ecoli-polypeptide-initiation': 'ecoli\\npolypeptide\\ninitiation',\n",
    "        'ecoli-polypeptide-elongation': 'ecoli\\npolypeptide\\nelongation',\n",
    "        'ecoli-complexation': 'ecoli\\ncomplexation',\n",
    "        'unique\\nactive_ribosome': 'unique\\nactive_\\nribosome',\n",
    "        'process_state\\npolypeptide_elongation': 'process_state\\npolypeptide_\\nelongation'\n",
    "    },\n",
    "    'show_ports': False,\n",
    "    'node_size': 17000,\n",
    "    'node_distance': 3.3,\n",
    "    'dashed_edges': True,\n",
    "    'font_size': 17,\n",
    "    'graph_format': 'hierarchy',\n",
    "    'coordinates': {'ecoli-polypeptide-initiation': (2, 2),\n",
    "                    'ecoli-polypeptide-elongation': (4, 2),\n",
    "                    'ecoli-complexation': (6, 2)}\n",
    "}\n",
    "\n",
    "pipec_topology_fig = plot_topology(pipec_composite, pipec_topology_plot_settings)"
   ]
  },
  {
   "cell_type": "code",
   "execution_count": null,
   "id": "fb4b83f2",
   "metadata": {},
   "outputs": [],
   "source": [
    "# run simulation and retrieve final data\n",
    "pipec_settings = {\n",
    "    'total_time': 10,\n",
    "    'initial_state': initial_state\n",
    "    }\n",
    "pipec_data = simulate_composite(pipec_composite, pipec_settings)"
   ]
  },
  {
   "cell_type": "code",
   "execution_count": null,
   "id": "96b77635",
   "metadata": {},
   "outputs": [],
   "source": [
    "print('\\nsimulation output:')\n",
    "pp(pipec_data.keys())"
   ]
  },
  {
   "cell_type": "code",
   "execution_count": null,
   "id": "a865f506",
   "metadata": {},
   "outputs": [],
   "source": [
    "pp(pipec_data['bulk'])"
   ]
  },
  {
   "cell_type": "code",
   "execution_count": null,
   "id": "8665cc69",
   "metadata": {},
   "outputs": [],
   "source": [
    "# Initiation: Ribosome attaches to Rna - makes a new unique RNA molecule / new active ribosome\n",
    "# Elongation: Ribosome moves along the rna / peptide is created (terminated and released as a monomer protein)\n",
    "# Complexation: monomer gets complexed \n",
    "\n",
    "# look through causality network for examples of each component\n",
    "# point is: all of these processes are happening in the same simulation"
   ]
  },
  {
   "cell_type": "markdown",
   "id": "b1cc6545",
   "metadata": {},
   "source": [
    "# **4. Run Ecoli Master**"
   ]
  },
  {
   "cell_type": "code",
   "execution_count": null,
   "id": "0a484dfa",
   "metadata": {},
   "outputs": [],
   "source": []
  },
  {
   "cell_type": "code",
   "execution_count": null,
   "id": "c7eb2561",
   "metadata": {},
   "outputs": [],
   "source": []
  },
  {
   "cell_type": "code",
   "execution_count": null,
   "id": "0c64affa",
   "metadata": {},
   "outputs": [],
   "source": []
  },
  {
   "cell_type": "code",
   "execution_count": null,
   "id": "33207e38",
   "metadata": {},
   "outputs": [],
   "source": []
  },
  {
   "cell_type": "code",
   "execution_count": 5,
   "id": "678921c2",
   "metadata": {},
   "outputs": [],
   "source": [
    "# single cell, import, run it, plot the results\n",
    "# ecoli_sim.py"
   ]
  },
  {
   "cell_type": "code",
   "execution_count": 7,
   "id": "d4a06720",
   "metadata": {},
   "outputs": [
    {
     "name": "stdout",
     "output_type": "stream",
     "text": [
      "/Users/abhinavkumar/code/vivarium-ecoli/data/ecoli_master_configs/default.json\n"
     ]
    },
    {
     "name": "stderr",
     "output_type": "stream",
     "text": [
      "/Users/abhinavkumar/code/vivarium-ecoli/ecoli/experiments/ecoli_master_sim.py:75: UserWarning: partitioning is not compatible with EcoliSim yet!\n",
      "  warnings.warn(\"partitioning is not compatible with EcoliSim yet!\")\n"
     ]
    }
   ],
   "source": [
    "# get simulation\n",
    "from ecoli.experiments.ecoli_master_sim import EcoliSim\n",
    "\n",
    "sim = EcoliSim.from_file(filepath='data/ecoli_master_configs/default.json')"
   ]
  },
  {
   "cell_type": "code",
   "execution_count": 11,
   "id": "75cd8668",
   "metadata": {},
   "outputs": [
    {
     "name": "stdout",
     "output_type": "stream",
     "text": [
      "{'ecoli-tf-binding': <class 'ecoli.processes.tf_binding.TfBinding'>, 'ecoli-transcript-initiation': <class 'ecoli.processes.transcript_initiation.TranscriptInitiation'>, 'ecoli-transcript-elongation': <class 'ecoli.processes.transcript_elongation.TranscriptElongation'>, 'ecoli-rna-degradation': <class 'ecoli.processes.rna_degradation.RnaDegradation'>, 'ecoli-polypeptide-initiation': <class 'ecoli.processes.polypeptide_initiation.PolypeptideInitiation'>, 'ecoli-polypeptide-elongation': <class 'ecoli.processes.polypeptide_elongation.PolypeptideElongation'>, 'ecoli-complexation': <class 'ecoli.processes.complexation.Complexation'>, 'ecoli-two-component-system': <class 'ecoli.processes.two_component_system.TwoComponentSystem'>, 'ecoli-equilibrium': <class 'ecoli.processes.equilibrium.Equilibrium'>, 'ecoli-protein-degradation': <class 'ecoli.processes.protein_degradation.ProteinDegradation'>, 'ecoli-metabolism': <class 'ecoli.processes.metabolism.Metabolism'>, 'ecoli-chromosome_replication': <class 'ecoli.processes.chromosome_replication.ChromosomeReplication'>, 'ecoli-mass-listener': <class 'ecoli.processes.listeners.mass_listener.MassListener'>, 'mRNA_counts_listener': <class 'ecoli.processes.listeners.mRNA_counts.mRNACounts'>}\n",
      "{'ecoli-tf-binding': {'promoters': ('unique', 'promoter'), 'active_tfs_total': ('bulk',), 'inactive_tfs_total': ('bulk',), 'listeners': ('listeners',)}, 'ecoli-transcript-initiation': {'environment': ('environment',), 'full_chromosomes': ('unique', 'full_chromosome'), 'RNAs': ('unique', 'RNA'), 'active_RNAPs': ('unique', 'active_RNAP'), 'promoters': ('unique', 'promoter'), 'molecules': ('bulk',), 'listeners': ('listeners',)}, 'ecoli-transcript-elongation': {'environment': ('environment',), 'RNAs': ('unique', 'RNA'), 'active_RNAPs': ('unique', 'active_RNAP'), 'molecules': ('bulk',), 'bulk_RNAs': ('bulk',), 'ntps': ('bulk',), 'listeners': ('listeners',)}, 'ecoli-rna-degradation': {'charged_trna': ('bulk',), 'bulk_RNAs': ('bulk',), 'nmps': ('bulk',), 'fragmentMetabolites': ('bulk',), 'fragmentBases': ('bulk',), 'endoRnases': ('bulk',), 'exoRnases': ('bulk',), 'subunits': ('bulk',), 'molecules': ('bulk',), 'RNAs': ('unique', 'RNA'), 'active_ribosome': ('unique', 'active_ribosome'), 'listeners': ('listeners',)}, 'ecoli-polypeptide-initiation': {'environment': ('environment',), 'listeners': ('listeners',), 'active_ribosome': ('unique', 'active_ribosome'), 'RNA': ('unique', 'RNA'), 'subunits': ('bulk',)}, 'ecoli-polypeptide-elongation': {'environment': ('environment',), 'listeners': ('listeners',), 'active_ribosome': ('unique', 'active_ribosome'), 'molecules': ('bulk',), 'monomers': ('bulk',), 'amino_acids': ('bulk',), 'ppgpp_reaction_metabolites': ('bulk',), 'uncharged_trna': ('bulk',), 'charged_trna': ('bulk',), 'charging_molecules': ('bulk',), 'synthetases': ('bulk',), 'subunits': ('bulk',), 'polypeptide_elongation': ('process_state', 'polypeptide_elongation')}, 'ecoli-complexation': {'molecules': ('bulk',)}, 'ecoli-two-component-system': {'listeners': ('listeners',), 'molecules': ('bulk',)}, 'ecoli-equilibrium': {'listeners': ('listeners',), 'molecules': ('bulk',)}, 'ecoli-protein-degradation': {'metabolites': ('bulk',), 'proteins': ('bulk',)}, 'ecoli-metabolism': {'metabolites': ('bulk',), 'catalysts': ('bulk',), 'kinetics_enzymes': ('bulk',), 'kinetics_substrates': ('bulk',), 'amino_acids': ('bulk',), 'listeners': ('listeners',), 'environment': ('environment',), 'polypeptide_elongation': ('process_state', 'polypeptide_elongation')}, 'ecoli-chromosome_replication': {'replisome_trimers': ('bulk',), 'replisome_monomers': ('bulk',), 'dntps': ('bulk',), 'ppi': ('bulk',), 'active_replisomes': ('unique', 'active_replisome'), 'oriCs': ('unique', 'oriC'), 'chromosome_domains': ('unique', 'chromosome_domain'), 'full_chromosomes': ('unique', 'full_chromosome'), 'listeners': ('listeners',), 'environment': ('environment',)}, 'ecoli-mass-listener': {'bulk': ('bulk',), 'unique': ('unique',), 'listeners': ('listeners',)}, 'mRNA_counts_listener': {'listeners': ('listeners',), 'RNAs': ('unique', 'RNA')}}\n"
     ]
    }
   ],
   "source": [
    "print(sim.processes)\n",
    "print(sim.topology)"
   ]
  },
  {
   "cell_type": "code",
   "execution_count": 10,
   "id": "675bbb34",
   "metadata": {},
   "outputs": [
    {
     "ename": "AttributeError",
     "evalue": "type object 'TfBinding' has no attribute 'items'",
     "output_type": "error",
     "traceback": [
      "\u001b[0;31m---------------------------------------------------------------------------\u001b[0m",
      "\u001b[0;31mAttributeError\u001b[0m                            Traceback (most recent call last)",
      "\u001b[0;32m/var/folders/kf/nbl3j94123vg3bzr1tj2yb6h0000gn/T/ipykernel_50859/1310156826.py\u001b[0m in \u001b[0;36m<module>\u001b[0;34m\u001b[0m\n\u001b[1;32m     10\u001b[0m }\n\u001b[1;32m     11\u001b[0m \u001b[0;34m\u001b[0m\u001b[0m\n\u001b[0;32m---> 12\u001b[0;31m \u001b[0mecoli_topology_fig\u001b[0m \u001b[0;34m=\u001b[0m \u001b[0mplot_topology\u001b[0m\u001b[0;34m(\u001b[0m\u001b[0mecoli_composite\u001b[0m\u001b[0;34m,\u001b[0m \u001b[0mecoli_topology_plot_settings\u001b[0m\u001b[0;34m)\u001b[0m\u001b[0;34m\u001b[0m\u001b[0;34m\u001b[0m\u001b[0m\n\u001b[0m",
      "\u001b[0;32m~/.pyenv/versions/3.8.5/envs/v-ecoli/lib/python3.8/site-packages/vivarium/plots/topology.py\u001b[0m in \u001b[0;36mplot_topology\u001b[0;34m(composite, settings, out_dir, filename)\u001b[0m\n\u001b[1;32m    481\u001b[0m     \u001b[0;31m# make networkx graph\u001b[0m\u001b[0;34m\u001b[0m\u001b[0;34m\u001b[0m\u001b[0;34m\u001b[0m\u001b[0m\n\u001b[1;32m    482\u001b[0m     \u001b[0mremove_nodes\u001b[0m \u001b[0;34m=\u001b[0m \u001b[0msettings\u001b[0m\u001b[0;34m.\u001b[0m\u001b[0mpop\u001b[0m\u001b[0;34m(\u001b[0m\u001b[0;34m'remove_nodes'\u001b[0m\u001b[0;34m,\u001b[0m \u001b[0;34m[\u001b[0m\u001b[0;34m]\u001b[0m\u001b[0;34m)\u001b[0m\u001b[0;34m\u001b[0m\u001b[0;34m\u001b[0m\u001b[0m\n\u001b[0;32m--> 483\u001b[0;31m     \u001b[0mg\u001b[0m\u001b[0;34m,\u001b[0m \u001b[0mplace_edges\u001b[0m \u001b[0;34m=\u001b[0m \u001b[0mget_networkx_graph\u001b[0m\u001b[0;34m(\u001b[0m\u001b[0mcomposite\u001b[0m\u001b[0;34m,\u001b[0m \u001b[0mremove_nodes\u001b[0m\u001b[0;34m)\u001b[0m\u001b[0;34m\u001b[0m\u001b[0;34m\u001b[0m\u001b[0m\n\u001b[0m\u001b[1;32m    484\u001b[0m     \u001b[0msettings\u001b[0m\u001b[0;34m[\u001b[0m\u001b[0;34m'place_edges'\u001b[0m\u001b[0;34m]\u001b[0m \u001b[0;34m=\u001b[0m \u001b[0mplace_edges\u001b[0m\u001b[0;34m\u001b[0m\u001b[0;34m\u001b[0m\u001b[0m\n\u001b[1;32m    485\u001b[0m \u001b[0;34m\u001b[0m\u001b[0m\n",
      "\u001b[0;32m~/.pyenv/versions/3.8.5/envs/v-ecoli/lib/python3.8/site-packages/vivarium/plots/topology.py\u001b[0m in \u001b[0;36mget_networkx_graph\u001b[0;34m(composite, remove_nodes)\u001b[0m\n\u001b[1;32m    170\u001b[0m \u001b[0;34m\u001b[0m\u001b[0m\n\u001b[1;32m    171\u001b[0m     \u001b[0;31m# get the nodes and edges from the composite\u001b[0m\u001b[0;34m\u001b[0m\u001b[0;34m\u001b[0m\u001b[0;34m\u001b[0m\u001b[0m\n\u001b[0;32m--> 172\u001b[0;31m     \u001b[0mprocess_nodes\u001b[0m\u001b[0;34m,\u001b[0m \u001b[0mstore_nodes\u001b[0m\u001b[0;34m,\u001b[0m \u001b[0medges\u001b[0m\u001b[0;34m,\u001b[0m \u001b[0mplace_edges\u001b[0m \u001b[0;34m=\u001b[0m \u001b[0mget_bigraph\u001b[0m\u001b[0;34m(\u001b[0m\u001b[0mcomposite\u001b[0m\u001b[0;34m)\u001b[0m\u001b[0;34m\u001b[0m\u001b[0;34m\u001b[0m\u001b[0m\n\u001b[0m\u001b[1;32m    173\u001b[0m \u001b[0;34m\u001b[0m\u001b[0m\n\u001b[1;32m    174\u001b[0m     \u001b[0;31m# remove specified nodes\u001b[0m\u001b[0;34m\u001b[0m\u001b[0;34m\u001b[0m\u001b[0;34m\u001b[0m\u001b[0m\n",
      "\u001b[0;32m~/.pyenv/versions/3.8.5/envs/v-ecoli/lib/python3.8/site-packages/vivarium/plots/topology.py\u001b[0m in \u001b[0;36mget_bigraph\u001b[0;34m(composite)\u001b[0m\n\u001b[1;32m     61\u001b[0m     \u001b[0mtopology\u001b[0m \u001b[0;34m=\u001b[0m \u001b[0mcomposite\u001b[0m\u001b[0;34m[\u001b[0m\u001b[0;34m'topology'\u001b[0m\u001b[0;34m]\u001b[0m\u001b[0;34m\u001b[0m\u001b[0;34m\u001b[0m\u001b[0m\n\u001b[1;32m     62\u001b[0m     \u001b[0mprocesses\u001b[0m \u001b[0;34m=\u001b[0m \u001b[0mcomposite\u001b[0m\u001b[0;34m[\u001b[0m\u001b[0;34m'processes'\u001b[0m\u001b[0;34m]\u001b[0m\u001b[0;34m\u001b[0m\u001b[0;34m\u001b[0m\u001b[0m\n\u001b[0;32m---> 63\u001b[0;31m     hierarchy_object = generate_state(\n\u001b[0m\u001b[1;32m     64\u001b[0m         processes=processes, topology=topology, initial_state={})\n\u001b[1;32m     65\u001b[0m \u001b[0;34m\u001b[0m\u001b[0m\n",
      "\u001b[0;32m~/.pyenv/versions/3.8.5/envs/v-ecoli/lib/python3.8/site-packages/vivarium/core/store.py\u001b[0m in \u001b[0;36mgenerate_state\u001b[0;34m(processes, topology, initial_state)\u001b[0m\n\u001b[1;32m     41\u001b[0m     \"\"\"\n\u001b[1;32m     42\u001b[0m     \u001b[0mstore\u001b[0m \u001b[0;34m=\u001b[0m \u001b[0mStore\u001b[0m\u001b[0;34m(\u001b[0m\u001b[0;34m{\u001b[0m\u001b[0;34m}\u001b[0m\u001b[0;34m)\u001b[0m\u001b[0;34m\u001b[0m\u001b[0;34m\u001b[0m\u001b[0m\n\u001b[0;32m---> 43\u001b[0;31m     \u001b[0mstore\u001b[0m\u001b[0;34m.\u001b[0m\u001b[0mgenerate_paths\u001b[0m\u001b[0;34m(\u001b[0m\u001b[0mprocesses\u001b[0m\u001b[0;34m,\u001b[0m \u001b[0mtopology\u001b[0m\u001b[0;34m)\u001b[0m\u001b[0;34m\u001b[0m\u001b[0;34m\u001b[0m\u001b[0m\n\u001b[0m\u001b[1;32m     44\u001b[0m     \u001b[0mstore\u001b[0m\u001b[0;34m.\u001b[0m\u001b[0mapply_subschemas\u001b[0m\u001b[0;34m(\u001b[0m\u001b[0;34m)\u001b[0m\u001b[0;34m\u001b[0m\u001b[0;34m\u001b[0m\u001b[0m\n\u001b[1;32m     45\u001b[0m     \u001b[0mstore\u001b[0m\u001b[0;34m.\u001b[0m\u001b[0mset_value\u001b[0m\u001b[0;34m(\u001b[0m\u001b[0minitial_state\u001b[0m\u001b[0;34m)\u001b[0m\u001b[0;34m\u001b[0m\u001b[0;34m\u001b[0m\u001b[0m\n",
      "\u001b[0;32m~/.pyenv/versions/3.8.5/envs/v-ecoli/lib/python3.8/site-packages/vivarium/core/store.py\u001b[0m in \u001b[0;36mgenerate_paths\u001b[0;34m(self, processes, topology)\u001b[0m\n\u001b[1;32m   1523\u001b[0m                 \u001b[0;32mif\u001b[0m \u001b[0mkey\u001b[0m \u001b[0;32mnot\u001b[0m \u001b[0;32min\u001b[0m \u001b[0mself\u001b[0m\u001b[0;34m.\u001b[0m\u001b[0minner\u001b[0m\u001b[0;34m:\u001b[0m\u001b[0;34m\u001b[0m\u001b[0;34m\u001b[0m\u001b[0m\n\u001b[1;32m   1524\u001b[0m                     \u001b[0mself\u001b[0m\u001b[0;34m.\u001b[0m\u001b[0minner\u001b[0m\u001b[0;34m[\u001b[0m\u001b[0mkey\u001b[0m\u001b[0;34m]\u001b[0m \u001b[0;34m=\u001b[0m \u001b[0mStore\u001b[0m\u001b[0;34m(\u001b[0m\u001b[0;34m{\u001b[0m\u001b[0;34m}\u001b[0m\u001b[0;34m,\u001b[0m \u001b[0mouter\u001b[0m\u001b[0;34m=\u001b[0m\u001b[0mself\u001b[0m\u001b[0;34m)\u001b[0m\u001b[0;34m\u001b[0m\u001b[0;34m\u001b[0m\u001b[0m\n\u001b[0;32m-> 1525\u001b[0;31m                 self.inner[key].generate_paths(\n\u001b[0m\u001b[1;32m   1526\u001b[0m                     \u001b[0msubprocess\u001b[0m\u001b[0;34m,\u001b[0m\u001b[0;34m\u001b[0m\u001b[0;34m\u001b[0m\u001b[0m\n\u001b[1;32m   1527\u001b[0m                     subtopology)\n",
      "\u001b[0;32m~/.pyenv/versions/3.8.5/envs/v-ecoli/lib/python3.8/site-packages/vivarium/core/store.py\u001b[0m in \u001b[0;36mgenerate_paths\u001b[0;34m(self, processes, topology)\u001b[0m\n\u001b[1;32m   1505\u001b[0m             \u001b[0mtopology\u001b[0m\u001b[0;34m:\u001b[0m \u001b[0mThe\u001b[0m \u001b[0mtopology\u001b[0m\u001b[0;34m.\u001b[0m\u001b[0;34m\u001b[0m\u001b[0;34m\u001b[0m\u001b[0m\n\u001b[1;32m   1506\u001b[0m         \"\"\"\n\u001b[0;32m-> 1507\u001b[0;31m         \u001b[0;32mfor\u001b[0m \u001b[0mkey\u001b[0m\u001b[0;34m,\u001b[0m \u001b[0msubprocess\u001b[0m \u001b[0;32min\u001b[0m \u001b[0mprocesses\u001b[0m\u001b[0;34m.\u001b[0m\u001b[0mitems\u001b[0m\u001b[0;34m(\u001b[0m\u001b[0;34m)\u001b[0m\u001b[0;34m:\u001b[0m\u001b[0;34m\u001b[0m\u001b[0;34m\u001b[0m\u001b[0m\n\u001b[0m\u001b[1;32m   1508\u001b[0m             \u001b[0msubtopology\u001b[0m \u001b[0;34m=\u001b[0m \u001b[0mtopology\u001b[0m\u001b[0;34m[\u001b[0m\u001b[0mkey\u001b[0m\u001b[0;34m]\u001b[0m\u001b[0;34m\u001b[0m\u001b[0;34m\u001b[0m\u001b[0m\n\u001b[1;32m   1509\u001b[0m             \u001b[0;32mif\u001b[0m \u001b[0misinstance\u001b[0m\u001b[0;34m(\u001b[0m\u001b[0msubprocess\u001b[0m\u001b[0;34m,\u001b[0m \u001b[0mProcess\u001b[0m\u001b[0;34m)\u001b[0m\u001b[0;34m:\u001b[0m\u001b[0;34m\u001b[0m\u001b[0;34m\u001b[0m\u001b[0m\n",
      "\u001b[0;31mAttributeError\u001b[0m: type object 'TfBinding' has no attribute 'items'"
     ]
    }
   ],
   "source": [
    "from vivarium.core.composer import Composite\n",
    "\n",
    "ecoli_composite = Composite({\n",
    "    'processes': sim.processes,\n",
    "    'topology': sim.topology\n",
    "})\n",
    "\n",
    "ecoli_topology_plot_settings = {\n",
    "    \n",
    "}\n",
    "\n",
    "ecoli_topology_fig = plot_topology(ecoli_composite, ecoli_topology_plot_settings)"
   ]
  },
  {
   "cell_type": "code",
   "execution_count": 14,
   "id": "6b7f9631",
   "metadata": {},
   "outputs": [
    {
     "name": "stdout",
     "output_type": "stream",
     "text": [
      "<class 'vivarium.core.composer.Composite'>: {'processes': {'ecoli-tf-binding': <class 'ecoli.processes.tf_binding.TfBinding'>, 'ecoli-transcript-initiation': <class 'ecoli.processes.transcript_initiation.TranscriptInitiation'>, 'ecoli-transcript-elongation': <class 'ecoli.processes.transcript_elongation.TranscriptElongation'>, 'ecoli-rna-degradation': <class 'ecoli.processes.rna_degradation.RnaDegradation'>, 'ecoli-polypeptide-initiation': <class 'ecoli.processes.polypeptide_initiation.PolypeptideInitiation'>, 'ecoli-polypeptide-elongation': <class 'ecoli.processes.polypeptide_elongation.PolypeptideElongation'>, 'ecoli-complexation': <class 'ecoli.processes.complexation.Complexation'>, 'ecoli-two-component-system': <class 'ecoli.processes.two_component_system.TwoComponentSystem'>, 'ecoli-equilibrium': <class 'ecoli.processes.equilibrium.Equilibrium'>, 'ecoli-protein-degradation': <class 'ecoli.processes.protein_degradation.ProteinDegradation'>, 'ecoli-metabolism': <class 'ecoli.processes.metabolism.Metabolism'>, 'ecoli-chromosome_replication': <class 'ecoli.processes.chromosome_replication.ChromosomeReplication'>, 'ecoli-mass-listener': <class 'ecoli.processes.listeners.mass_listener.MassListener'>, 'mRNA_counts_listener': <class 'ecoli.processes.listeners.mRNA_counts.mRNACounts'>}, 'topology': {'ecoli-tf-binding': {'promoters': ('unique', 'promoter'), 'active_tfs_total': ('bulk',), 'inactive_tfs_total': ('bulk',), 'listeners': ('listeners',)}, 'ecoli-transcript-initiation': {'environment': ('environment',), 'full_chromosomes': ('unique', 'full_chromosome'), 'RNAs': ('unique', 'RNA'), 'active_RNAPs': ('unique', 'active_RNAP'), 'promoters': ('unique', 'promoter'), 'molecules': ('bulk',), 'listeners': ('listeners',)}, 'ecoli-transcript-elongation': {'environment': ('environment',), 'RNAs': ('unique', 'RNA'), 'active_RNAPs': ('unique', 'active_RNAP'), 'molecules': ('bulk',), 'bulk_RNAs': ('bulk',), 'ntps': ('bulk',), 'listeners': ('listeners',)}, 'ecoli-rna-degradation': {'charged_trna': ('bulk',), 'bulk_RNAs': ('bulk',), 'nmps': ('bulk',), 'fragmentMetabolites': ('bulk',), 'fragmentBases': ('bulk',), 'endoRnases': ('bulk',), 'exoRnases': ('bulk',), 'subunits': ('bulk',), 'molecules': ('bulk',), 'RNAs': ('unique', 'RNA'), 'active_ribosome': ('unique', 'active_ribosome'), 'listeners': ('listeners',)}, 'ecoli-polypeptide-initiation': {'environment': ('environment',), 'listeners': ('listeners',), 'active_ribosome': ('unique', 'active_ribosome'), 'RNA': ('unique', 'RNA'), 'subunits': ('bulk',)}, 'ecoli-polypeptide-elongation': {'environment': ('environment',), 'listeners': ('listeners',), 'active_ribosome': ('unique', 'active_ribosome'), 'molecules': ('bulk',), 'monomers': ('bulk',), 'amino_acids': ('bulk',), 'ppgpp_reaction_metabolites': ('bulk',), 'uncharged_trna': ('bulk',), 'charged_trna': ('bulk',), 'charging_molecules': ('bulk',), 'synthetases': ('bulk',), 'subunits': ('bulk',), 'polypeptide_elongation': ('process_state', 'polypeptide_elongation')}, 'ecoli-complexation': {'molecules': ('bulk',)}, 'ecoli-two-component-system': {'listeners': ('listeners',), 'molecules': ('bulk',)}, 'ecoli-equilibrium': {'listeners': ('listeners',), 'molecules': ('bulk',)}, 'ecoli-protein-degradation': {'metabolites': ('bulk',), 'proteins': ('bulk',)}, 'ecoli-metabolism': {'metabolites': ('bulk',), 'catalysts': ('bulk',), 'kinetics_enzymes': ('bulk',), 'kinetics_substrates': ('bulk',), 'amino_acids': ('bulk',), 'listeners': ('listeners',), 'environment': ('environment',), 'polypeptide_elongation': ('process_state', 'polypeptide_elongation')}, 'ecoli-chromosome_replication': {'replisome_trimers': ('bulk',), 'replisome_monomers': ('bulk',), 'dntps': ('bulk',), 'ppi': ('bulk',), 'active_replisomes': ('unique', 'active_replisome'), 'oriCs': ('unique', 'oriC'), 'chromosome_domains': ('unique', 'chromosome_domain'), 'full_chromosomes': ('unique', 'full_chromosome'), 'listeners': ('listeners',), 'environment': ('environment',)}, 'ecoli-mass-listener': {'bulk': ('bulk',), 'unique': ('unique',), 'listeners': ('listeners',)}, 'mRNA_counts_listener': {'listeners': ('listeners',), 'RNAs': ('unique', 'RNA')}}, '_schema': {}}\n"
     ]
    }
   ],
   "source": [
    "print(ecoli_composite)"
   ]
  },
  {
   "cell_type": "code",
   "execution_count": 8,
   "id": "3adef373",
   "metadata": {},
   "outputs": [
    {
     "name": "stdout",
     "output_type": "stream",
     "text": [
      "\n",
      "Simulation ID: b027e0f0-046e-11ec-846f-3c15c2dc0586\n",
      "Created: 08/23/2021 at 17:03:27\n",
      "Progress:|██████████████████████████████████████████████████| 0.0/10.0 simulated seconds remaining    \n",
      "Completed in 51.40 seconds\n"
     ]
    }
   ],
   "source": [
    "# run simulation\n",
    "sim.total_time = 10\n",
    "output = sim.run()"
   ]
  },
  {
   "cell_type": "code",
   "execution_count": 4,
   "id": "cec65fd6",
   "metadata": {},
   "outputs": [
    {
     "data": {
      "text/plain": [
       "dict_keys(['unique', 'active_tfs', 'bulk', 'listeners', 'environment', 'molecules_total', 'aa_enzymes', 'amino_acids_total', 'uncharged_trna_total', 'charged_trna_total', 'process_state', 'time'])"
      ]
     },
     "execution_count": 4,
     "metadata": {},
     "output_type": "execute_result"
    }
   ],
   "source": [
    "output.keys()"
   ]
  },
  {
   "cell_type": "code",
   "execution_count": 5,
   "id": "eba881fd",
   "metadata": {},
   "outputs": [
    {
     "data": {
      "text/plain": [
       "dict_keys(['rna_synth_prob', 'mass', 'ribosome_data', 'rnap_data', 'transcript_elongation_listener', 'growth_limits', 'rna_degradation_listener', 'complexation_events', 'equilibrium_listener', 'fba_results', 'enzyme_kinetics', 'replication_data', 'mRNA_counts'])"
      ]
     },
     "execution_count": 5,
     "metadata": {},
     "output_type": "execute_result"
    }
   ],
   "source": [
    "output['listeners'].keys()"
   ]
  },
  {
   "cell_type": "code",
   "execution_count": 6,
   "id": "47fc7a2e",
   "metadata": {},
   "outputs": [
    {
     "data": {
      "text/plain": [
       "{'cell_mass': [1170.4495746834327,\n",
       "  1170.4608900469402,\n",
       "  1170.562324150237,\n",
       "  1170.73210771415,\n",
       "  1170.956710111521,\n",
       "  1171.223739423262],\n",
       " 'dry_mass': [351.1348392907481,\n",
       "  351.1348531534252,\n",
       "  351.2273776384668,\n",
       "  351.3257293285674,\n",
       "  351.4307751100947,\n",
       "  351.54022280511174],\n",
       " 'water_mass': [819.3147353926846,\n",
       "  819.326036893515,\n",
       "  819.3349465117701,\n",
       "  819.4063783855827,\n",
       "  819.5259350014263,\n",
       "  819.6835166181503],\n",
       " 'rnaMass': [50.704560486372586,\n",
       "  50.73709503827169,\n",
       "  50.76822883388394,\n",
       "  50.80682747316086,\n",
       "  50.84952976512621,\n",
       "  50.89409912225794],\n",
       " 'rRnaMass': [41.14592791748361,\n",
       "  41.16659045661363,\n",
       "  41.18747126217953,\n",
       "  41.21635333753972,\n",
       "  41.23619460911272,\n",
       "  41.27214253583139],\n",
       " 'tRnaMass': [7.363780099444239,\n",
       "  7.367265514916328,\n",
       "  7.371399365693339,\n",
       "  7.375959939418619,\n",
       "  7.380327282947801,\n",
       "  7.384896727208017],\n",
       " 'mRnaMass': [1.9602556964078266,\n",
       "  1.9724630223521609,\n",
       "  1.975461869541183,\n",
       "  1.982857685513441,\n",
       "  1.9918201103721418,\n",
       "  2.002036005486824],\n",
       " 'dnaMass': [6.6459408985361055,\n",
       "  6.649896701761136,\n",
       "  6.653852025927289,\n",
       "  6.657807346812216,\n",
       "  6.661762636525504,\n",
       "  6.665718016472486],\n",
       " 'proteinMass': [162.08065060864993,\n",
       "  162.15382731942486,\n",
       "  162.21586352772488,\n",
       "  162.269173600072,\n",
       "  162.31593489171433,\n",
       "  162.35483716429104],\n",
       " 'smallMoleculeMass': [131.70368729718962,\n",
       "  131.59403409396722,\n",
       "  131.5894332509308,\n",
       "  131.59192090852238,\n",
       "  131.60354781672854,\n",
       "  131.62556850209018],\n",
       " 'volume': [1.0640450678940299,\n",
       "  1.0640553545881275,\n",
       "  1.0641475674093064,\n",
       "  1.0643019161037728,\n",
       "  1.0645061001013827,\n",
       "  1.0647488540211474],\n",
       " 'proteinMassFraction': [0.4615909117307589,\n",
       "  0.4617992940979095,\n",
       "  0.46185426836145027,\n",
       "  0.46187671455259227,\n",
       "  0.4618717152499371,\n",
       "  0.46183857957642005],\n",
       " 'rnaMassFraction': [0.1444019641821642,\n",
       "  0.1444946139143373,\n",
       "  0.14454519227752746,\n",
       "  0.14461459332984183,\n",
       "  0.14469287656778576,\n",
       "  0.14477461132654745],\n",
       " 'growth': [nan,\n",
       "  1.386267706493527e-05,\n",
       "  0.09252448504162203,\n",
       "  0.09835169010057143,\n",
       "  0.10504578152733757,\n",
       "  0.10944769501702467],\n",
       " 'instantaniousGrowthRate': [nan,\n",
       "  1.9739819246707046e-08,\n",
       "  0.00013171593522083206,\n",
       "  0.00013997222789309408,\n",
       "  0.00014945444304704004,\n",
       "  0.000155668808171776],\n",
       " 'dryMassFoldChange': [1.0,\n",
       "  1.00000003947964,\n",
       "  1.000263540775121,\n",
       "  1.0005436374191887,\n",
       "  1.0008427982251615,\n",
       "  1.0011544952793134],\n",
       " 'proteinMassFoldChange': [1.0,\n",
       "  1.0004514833232723,\n",
       "  1.0008342323316644,\n",
       "  1.0011631431063124,\n",
       "  1.0014516494237953,\n",
       "  1.0016916674174954],\n",
       " 'rnaMassFoldChange': [1.0,\n",
       "  1.0006416494214134,\n",
       "  1.001255672998654,\n",
       "  1.0020169189084236,\n",
       "  1.0028590974335059,\n",
       "  1.0037380983893214],\n",
       " 'smallMoleculeFoldChange': [1.0,\n",
       "  0.9991674249561824,\n",
       "  0.9991324916666835,\n",
       "  0.9991513799578364,\n",
       "  0.9992396607679244,\n",
       "  0.9994068594683825]}"
      ]
     },
     "execution_count": 6,
     "metadata": {},
     "output_type": "execute_result"
    }
   ],
   "source": [
    "output['listeners']['mass']"
   ]
  },
  {
   "cell_type": "code",
   "execution_count": null,
   "id": "719cb9bd",
   "metadata": {},
   "outputs": [],
   "source": [
    "# show mass plots"
   ]
  },
  {
   "cell_type": "code",
   "execution_count": null,
   "id": "87f7c89f",
   "metadata": {},
   "outputs": [],
   "source": [
    "# plot_topology"
   ]
  }
 ],
 "metadata": {
  "kernelspec": {
   "display_name": "Python 3 (ipykernel)",
   "language": "python",
   "name": "python3"
  },
  "language_info": {
   "codemirror_mode": {
    "name": "ipython",
    "version": 3
   },
   "file_extension": ".py",
   "mimetype": "text/x-python",
   "name": "python",
   "nbconvert_exporter": "python",
   "pygments_lexer": "ipython3",
   "version": "3.8.5"
  },
  "toc": {
   "base_numbering": 1,
   "nav_menu": {},
   "number_sections": false,
   "sideBar": true,
   "skip_h1_title": false,
   "title_cell": "Table of Contents",
   "title_sidebar": "Contents",
   "toc_cell": false,
   "toc_position": {
    "height": "411px",
    "left": "59px",
    "top": "110px",
    "width": "287.344px"
   },
   "toc_section_display": true,
   "toc_window_display": true
  },
  "toc-autonumbering": false,
  "toc-showcode": false,
  "toc-showmarkdowntxt": false,
  "toc-showtags": false
 },
 "nbformat": 4,
 "nbformat_minor": 5
}
